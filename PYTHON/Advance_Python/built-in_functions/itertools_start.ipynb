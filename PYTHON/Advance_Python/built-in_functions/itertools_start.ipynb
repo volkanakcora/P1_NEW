{
 "cells": [
  {
   "cell_type": "code",
   "execution_count": 1,
   "metadata": {},
   "outputs": [],
   "source": [
    "import itertools"
   ]
  },
  {
   "cell_type": "code",
   "execution_count": 25,
   "metadata": {},
   "outputs": [
    {
     "name": "stdout",
     "output_type": "stream",
     "text": [
      "Joe\n",
      "John\n",
      "Mike\n",
      "count(100, 10)\n",
      "count(100, 10)\n",
      "[10, 20, 30, 40, 50, 50, 50]\n",
      "['A', 'B', 'C', 'D', '1', '2', '3', '4']\n",
      "[40, 50, 40, 30]\n",
      "[10, 20, 30]\n"
     ]
    }
   ],
   "source": [
    "from itertools import count, cycle\n",
    "\n",
    "\n",
    "def testFuntion(x):\n",
    "    return x < 40\n",
    "\n",
    "def main():\n",
    "\n",
    "    #TODO: cyclet iterator can be used to cycle over a collection\n",
    "\n",
    "    seq1 = [\"Joe\", \"John\", \"Mike\"]\n",
    "    cycle1 = itertools.cycle(seq1)\n",
    "    print(next(cycle1))\n",
    "    print(next(cycle1))\n",
    "    print(next(cycle1))\n",
    "\n",
    "    #TODO: use count to create a siple counter\n",
    "    count1 = itertools.count(100,10)\n",
    "    print(count1)\n",
    "    print(count1)\n",
    "\n",
    "    #TODO: accumulate creates an iterator that acucmualtes values\n",
    "    vals = [10,20,30,40,50,40,30]\n",
    "    acc = itertools.accumulate(vals, max)\n",
    "    print(list(acc))\n",
    "\n",
    "    #TODO: use chain to connect sequences together\n",
    "    x = itertools.chain(\"ABCD\", \"1234\")\n",
    "    print(list(x))\n",
    "\n",
    "    #TODO: dropwhile and takewhile will return values until a certain condition is met that stops them\n",
    "    print(list(itertools.dropwhile(testFuntion, vals)))\n",
    "    print(list(itertools.takewhile(testFuntion, vals)))\n",
    "\n",
    "\n",
    "\n",
    "\n",
    "if __name__ == \"__main__\":\n",
    "    main()"
   ]
  },
  {
   "cell_type": "code",
   "execution_count": null,
   "metadata": {},
   "outputs": [],
   "source": []
  },
  {
   "cell_type": "code",
   "execution_count": null,
   "metadata": {},
   "outputs": [],
   "source": []
  },
  {
   "cell_type": "code",
   "execution_count": null,
   "metadata": {},
   "outputs": [],
   "source": []
  },
  {
   "cell_type": "code",
   "execution_count": null,
   "metadata": {},
   "outputs": [],
   "source": []
  },
  {
   "cell_type": "code",
   "execution_count": null,
   "metadata": {},
   "outputs": [],
   "source": []
  }
 ],
 "metadata": {
  "kernelspec": {
   "display_name": "Python 3.8.10 64-bit ('myenv': venv)",
   "language": "python",
   "name": "python3"
  },
  "language_info": {
   "codemirror_mode": {
    "name": "ipython",
    "version": 3
   },
   "file_extension": ".py",
   "mimetype": "text/x-python",
   "name": "python",
   "nbconvert_exporter": "python",
   "pygments_lexer": "ipython3",
   "version": "3.8.10 (default, Nov 14 2022, 12:59:47) \n[GCC 9.4.0]"
  },
  "orig_nbformat": 4,
  "vscode": {
   "interpreter": {
    "hash": "597cbce5434bcf1ccc77deadbcc786396b3000159aec8081d165d583365e1e45"
   }
  }
 },
 "nbformat": 4,
 "nbformat_minor": 2
}
