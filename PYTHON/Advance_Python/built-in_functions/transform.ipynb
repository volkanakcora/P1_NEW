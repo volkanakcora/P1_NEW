{
 "cells": [
  {
   "cell_type": "code",
   "execution_count": 17,
   "metadata": {},
   "outputs": [],
   "source": [
    "def filterFunc(x):\n",
    "    if x % 2 == 0:\n",
    "        return False\n",
    "    else:\n",
    "        return  True\n",
    "\n",
    "def filterFunc2(x):\n",
    "    if x.isupper():\n",
    "        return False\n",
    "    else: \n",
    "        return True\n",
    "\n",
    "def squareFunc(x):\n",
    "    return x ** 2\n",
    "\n",
    "def toGrade(x):\n",
    "    if (x >= 90):\n",
    "        return \"A\"\n",
    "\n",
    "    elif (x >= 80 and x < 90):\n",
    "        return \"B\"\n",
    "    \n",
    "    elif (x >= 70 and x < 80):\n",
    "        return \"C\"\n",
    "\n",
    "    elif (x >= 65 and x < 70):\n",
    "        return \"D\"\n",
    "    else:\n",
    "        return \"F\"\n",
    "    "
   ]
  },
  {
   "cell_type": "code",
   "execution_count": 18,
   "metadata": {},
   "outputs": [
    {
     "name": "stdout",
     "output_type": "stream",
     "text": [
      "[1, 5, 13, 381, 47]\n",
      "['a', 'b', 'c', 'd', 's', 'a', 'd', 's', 'a', 'f', 'a']\n",
      "[1, 64, 16, 25, 169, 676, 145161, 168100, 3364, 2209]\n",
      "['F', 'D', 'C', 'C', 'B', 'B', 'A', 'A']\n"
     ]
    }
   ],
   "source": [
    "def main():\n",
    "    nums =(1,8,4,5,13,26,381,410,58,47)\n",
    "    chars = \"abcdsadsafa\"\n",
    "    grades = (81,89,94,78,61,66,99,74)\n",
    "\n",
    "    # TODO: use filter to remove items from a list\n",
    "\n",
    "    odds = list(filter(filterFunc,nums))\n",
    "    print(odds)\n",
    "\n",
    "    # TODO: use filter on non-numberic sequence\n",
    "    lowers = list(filter(filterFunc2, chars))\n",
    "    print(lowers)\n",
    "\n",
    "    # TODO: use map to create a new sequence of values\n",
    "    squares = list(map(squareFunc, nums))\n",
    "    print(squares)\n",
    "\n",
    "    # TODO: use sorted and map to change numbers to grades\n",
    "    grades = sorted(grades)\n",
    "    letters = list(map(toGrade, grades))\n",
    "    print(letters)\n",
    "    \n",
    "if __name__ == \"__main__\":\n",
    "    main()"
   ]
  },
  {
   "cell_type": "code",
   "execution_count": 8,
   "metadata": {},
   "outputs": [
    {
     "ename": "NameError",
     "evalue": "name 'nums' is not defined",
     "output_type": "error",
     "traceback": [
      "\u001b[0;31m---------------------------------------------------------------------------\u001b[0m",
      "\u001b[0;31mNameError\u001b[0m                                 Traceback (most recent call last)",
      "\u001b[0;32m<ipython-input-8-2e2b06495f3c>\u001b[0m in \u001b[0;36m<module>\u001b[0;34m\u001b[0m\n\u001b[0;32m----> 1\u001b[0;31m \u001b[0mfilterFunc\u001b[0m\u001b[0;34m(\u001b[0m\u001b[0mnums\u001b[0m\u001b[0;34m)\u001b[0m\u001b[0;34m\u001b[0m\u001b[0;34m\u001b[0m\u001b[0m\n\u001b[0m",
      "\u001b[0;31mNameError\u001b[0m: name 'nums' is not defined"
     ]
    }
   ],
   "source": []
  },
  {
   "cell_type": "code",
   "execution_count": null,
   "metadata": {},
   "outputs": [],
   "source": []
  },
  {
   "cell_type": "code",
   "execution_count": null,
   "metadata": {},
   "outputs": [],
   "source": []
  },
  {
   "cell_type": "code",
   "execution_count": null,
   "metadata": {},
   "outputs": [],
   "source": []
  },
  {
   "cell_type": "code",
   "execution_count": null,
   "metadata": {},
   "outputs": [],
   "source": []
  },
  {
   "cell_type": "code",
   "execution_count": null,
   "metadata": {},
   "outputs": [],
   "source": []
  },
  {
   "cell_type": "code",
   "execution_count": null,
   "metadata": {},
   "outputs": [],
   "source": []
  }
 ],
 "metadata": {
  "kernelspec": {
   "display_name": "Python 3.8.10 64-bit ('myenv': venv)",
   "language": "python",
   "name": "python3"
  },
  "language_info": {
   "codemirror_mode": {
    "name": "ipython",
    "version": 3
   },
   "file_extension": ".py",
   "mimetype": "text/x-python",
   "name": "python",
   "nbconvert_exporter": "python",
   "pygments_lexer": "ipython3",
   "version": "3.8.10 (default, Nov 14 2022, 12:59:47) \n[GCC 9.4.0]"
  },
  "orig_nbformat": 4,
  "vscode": {
   "interpreter": {
    "hash": "597cbce5434bcf1ccc77deadbcc786396b3000159aec8081d165d583365e1e45"
   }
  }
 },
 "nbformat": 4,
 "nbformat_minor": 2
}
