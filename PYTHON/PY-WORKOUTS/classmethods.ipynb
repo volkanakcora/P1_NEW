{
 "cells": [
  {
   "cell_type": "code",
   "execution_count": 6,
   "metadata": {},
   "outputs": [],
   "source": [
    "from datetime import datetime\n",
    "\n",
    "class Supermarket:    \n",
    "    def __init__(self, product, best_before):\n",
    "        self.best_before = best_before\n",
    "        self.product = product\n",
    "        \n",
    "    def get_best_before_date(self):\n",
    "        return self.best_before\n",
    "    \n",
    "    @staticmethod    \n",
    "    def change_date_format(best_before):\n",
    "        best_before = datetime.strptime(best_before, \"%Y-%m-%d\")\n",
    "        best_before = best_before.strftime(\"%d-%m-%Y\")\n",
    "        return best_before\n",
    "\n",
    "class GroceryStore(Supermarket):\n",
    "    def get_best_before_date(self):\n",
    "        return Supermarket.change_date_format(self.best_before)\n",
    "    \n",
    "    \n"
   ]
  },
  {
   "cell_type": "code",
   "execution_count": 7,
   "metadata": {},
   "outputs": [],
   "source": [
    "supermarket = Supermarket('Milk', \"2022-05-18\")"
   ]
  },
  {
   "cell_type": "code",
   "execution_count": 8,
   "metadata": {},
   "outputs": [],
   "source": [
    "grocery = GroceryStore('Milk', '2022-05-18')"
   ]
  },
  {
   "cell_type": "code",
   "execution_count": 9,
   "metadata": {},
   "outputs": [
    {
     "data": {
      "text/plain": [
       "'2022-05-18'"
      ]
     },
     "execution_count": 9,
     "metadata": {},
     "output_type": "execute_result"
    }
   ],
   "source": [
    "supermarket.get_best_before_date()"
   ]
  },
  {
   "cell_type": "code",
   "execution_count": 10,
   "metadata": {},
   "outputs": [
    {
     "data": {
      "text/plain": [
       "'18-05-2022'"
      ]
     },
     "execution_count": 10,
     "metadata": {},
     "output_type": "execute_result"
    }
   ],
   "source": [
    "grocery.get_best_before_date()"
   ]
  },
  {
   "cell_type": "code",
   "execution_count": null,
   "metadata": {},
   "outputs": [],
   "source": [
    "for i in already_processed_ids:\n",
    "            id.append(pd.Series(i.id))\n",
    "if id:\n",
    "\n",
    "            id = pd.DataFrame(id)\n",
    "            id.rename(columns={0: \"Issue id\"}, inplace=True)\n",
    "            syseng_result_change[\"Issue id\"] = (\n",
    "                syseng_result_change[\"Issue id\"].astype(str).astype(int)\n",
    "            )\n",
    "            db = pd.merge(syseng_result_change, id, on=\"Issue id\")\n",
    "\n",
    "            df_to_send_database = syseng_result_change[\n",
    "                ~syseng_result_change[\"Issue id\"].isin(db[\"Issue id\"])\n",
    "            ]\n",
    "else:\n",
    "            df_to_send_database = syseng_result_change"
   ]
  },
  {
   "cell_type": "code",
   "execution_count": null,
   "metadata": {},
   "outputs": [],
   "source": [
    "\n"
   ]
  }
 ],
 "metadata": {
  "interpreter": {
   "hash": "916dbcbb3f70747c44a77c7bcd40155683ae19c65e1c03b4aa3499c5328201f1"
  },
  "kernelspec": {
   "display_name": "Python 3.8.10 64-bit",
   "language": "python",
   "name": "python3"
  },
  "language_info": {
   "codemirror_mode": {
    "name": "ipython",
    "version": 3
   },
   "file_extension": ".py",
   "mimetype": "text/x-python",
   "name": "python",
   "nbconvert_exporter": "python",
   "pygments_lexer": "ipython3",
   "version": "3.8.10"
  },
  "orig_nbformat": 4
 },
 "nbformat": 4,
 "nbformat_minor": 2
}
