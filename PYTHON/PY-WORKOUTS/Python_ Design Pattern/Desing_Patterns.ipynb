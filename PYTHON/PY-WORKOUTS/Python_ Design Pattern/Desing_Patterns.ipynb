{
 "cells": [
  {
   "cell_type": "code",
   "execution_count": null,
   "metadata": {},
   "outputs": [],
   "source": [
    " # Pet shop"
   ]
  },
  {
   "cell_type": "code",
   "execution_count": 2,
   "metadata": {},
   "outputs": [],
   "source": [
    "class Dog:\n",
    "    def __init__(self, name) -> None:\n",
    "        self._name = name\n",
    "    def speak(self):\n",
    "        return \"woof!\"\n",
    "\n",
    "class Cat:\n",
    "    def __init__(self, name) -> None:\n",
    "        self._name = name\n",
    "    def speak(self):\n",
    "        return \"Meown!\"\n",
    "\n",
    "def get_pet(pet = \"dog\"):\n",
    "\n",
    "    pets = dict(dog=Dog(\"Hope\"), cat=Cat('Peace'))\n",
    "\n",
    "    return pets[pet]    "
   ]
  },
  {
   "cell_type": "code",
   "execution_count": 3,
   "metadata": {},
   "outputs": [
    {
     "data": {
      "text/plain": [
       "'woof!'"
      ]
     },
     "execution_count": 3,
     "metadata": {},
     "output_type": "execute_result"
    }
   ],
   "source": [
    "d = get_pet(\"dog\")\n",
    "d.speak()"
   ]
  },
  {
   "cell_type": "code",
   "execution_count": 6,
   "metadata": {},
   "outputs": [
    {
     "data": {
      "text/plain": [
       "'Meown!'"
      ]
     },
     "execution_count": 6,
     "metadata": {},
     "output_type": "execute_result"
    }
   ],
   "source": [
    "c = get_pet(\"cat\")\n",
    "c.speak()"
   ]
  },
  {
   "cell_type": "code",
   "execution_count": null,
   "metadata": {},
   "outputs": [],
   "source": [
    "# Pet Factory"
   ]
  },
  {
   "cell_type": "code",
   "execution_count": 9,
   "metadata": {},
   "outputs": [],
   "source": [
    "class Dog:\n",
    "    def speak(self):\n",
    "        return \"Woof\"\n",
    "\n",
    "    def __str__(self):\n",
    "        return \"Dog\"\n",
    "\n",
    "class DogFactory:\n",
    "    \"\"\"Concrete Factory\"\"\"\n",
    "    def get_pet(self):\n",
    "        \"returns dog object\"\n",
    "        return Dog()\n",
    "\n",
    "    def get_food(self):\n",
    "         'returns food object'\n",
    "         return \"Dog Food!\"\n",
    "\n",
    "class Petstore:\n",
    "\n",
    "    def __init__(self, pet_factory= None) -> None:\n",
    "        self.pet_factory = pet_factory\n",
    "        \n",
    "    def show_pet(self):\n",
    "        pet = self.pet_factory.get_pet()\n",
    "        pet_food = self.pet_factory.get_food()\n",
    "        print(\"Our pet is '{}'!\".format(pet))\n",
    "        print(\"Our pet says hello by '{}'\".format(pet.speak()))\n",
    "        print(\"It's food is '{}'\".format(pet_food))"
   ]
  },
  {
   "cell_type": "code",
   "execution_count": 10,
   "metadata": {},
   "outputs": [
    {
     "name": "stdout",
     "output_type": "stream",
     "text": [
      "Our pet is 'Dog'!\n",
      "Our pet says hello by 'Woof'\n",
      "It's food is 'Dog Food!'\n"
     ]
    }
   ],
   "source": [
    "factory = DogFactory()\n",
    "shop= Petstore(factory)\n",
    "shop.show_pet()"
   ]
  },
  {
   "cell_type": "code",
   "execution_count": null,
   "metadata": {},
   "outputs": [],
   "source": []
  },
  {
   "cell_type": "code",
   "execution_count": null,
   "metadata": {},
   "outputs": [],
   "source": []
  },
  {
   "cell_type": "code",
   "execution_count": null,
   "metadata": {},
   "outputs": [],
   "source": []
  },
  {
   "cell_type": "markdown",
   "metadata": {},
   "source": [
    "# SINGLETON\n"
   ]
  },
  {
   "cell_type": "code",
   "execution_count": 11,
   "metadata": {},
   "outputs": [],
   "source": [
    "class Borg:\n",
    "    _shared_state = {}\n",
    "\n",
    "    def __init__(self):\n",
    "        self.__dict__ = self._shared_state\n",
    "\n",
    "class Singleton(Borg):\n",
    "\n",
    "    def __init__(self, **kwargs):\n",
    "        Borg.__init__(self)\n",
    "\n",
    "        self._shared_state.update(kwargs)\n",
    "\n",
    "    def __str__(self):\n",
    "        return str(self._shared_state)"
   ]
  },
  {
   "cell_type": "code",
   "execution_count": 12,
   "metadata": {},
   "outputs": [
    {
     "name": "stdout",
     "output_type": "stream",
     "text": [
      "{'HTTP': 'HYPER TEXT TRANSFER PROTOCOL'}\n"
     ]
    }
   ],
   "source": [
    "x = Singleton(HTTP = \"HYPER TEXT TRANSFER PROTOCOL\")\n",
    "print(x)"
   ]
  },
  {
   "cell_type": "code",
   "execution_count": 15,
   "metadata": {},
   "outputs": [
    {
     "name": "stdout",
     "output_type": "stream",
     "text": [
      "{'HTTP': 'HYPER TEXT TRANSFER PROTOCOL', 'VOLKAN': 'VOLKAN123'}\n"
     ]
    }
   ],
   "source": [
    "y = Singleton(VOLKAN = \"VOLKAN123\")\n",
    "print(y)"
   ]
  },
  {
   "cell_type": "markdown",
   "metadata": {},
   "source": [
    "# BUILDER"
   ]
  },
  {
   "cell_type": "code",
   "execution_count": 17,
   "metadata": {},
   "outputs": [],
   "source": [
    "class Director():\n",
    "    def __init__(self, builder):\n",
    "        self.builder = builder \n",
    "\n",
    "    def construct_car(self):\n",
    "        self.builder.create_new_car()\n",
    "        self.builder.add_model()\n",
    "        self.builder.add_tires()\n",
    "        self.builder.add_engine()\n",
    "\n",
    "\n",
    "    def get_car(self):\n",
    "        return self.builder.car\n",
    "\n",
    "class Builder():\n",
    "    def __init__(self):\n",
    "        self.car = None\n",
    "\n",
    "    def create_new_car(self):\n",
    "        self.car = Car()\n",
    "\n",
    "class SkylarkBuilder(Builder):\n",
    "    def add_model(self):\n",
    "        self.car.model = \"Skylark\"\n",
    "    def add_tires(self):\n",
    "        self.car.tires = \"Regular Tires\"\n",
    "    def add_engine(self):\n",
    "        self.car.engine = \"Turbo Engine\"\n",
    "\n",
    "class Car():\n",
    "    def __init__(self):\n",
    "        self.model = None\n",
    "        self.tires = None \n",
    "        self.engine = None \n",
    "\n",
    "    def __str__(self):\n",
    "        return '{} | {} | {}'.format(self.model, self.tires, self.engine)\n"
   ]
  },
  {
   "cell_type": "code",
   "execution_count": 18,
   "metadata": {},
   "outputs": [
    {
     "name": "stdout",
     "output_type": "stream",
     "text": [
      "Skylark | Regular Tires | Turbo Engine\n"
     ]
    }
   ],
   "source": [
    "builder = SkylarkBuilder()\n",
    "director = Director(builder)\n",
    "director.construct_car()\n",
    "car = director.get_car()\n",
    "print(car) "
   ]
  },
  {
   "cell_type": "markdown",
   "metadata": {},
   "source": [
    "# Decorators"
   ]
  },
  {
   "cell_type": "code",
   "execution_count": 20,
   "metadata": {},
   "outputs": [],
   "source": [
    "from functools import wraps"
   ]
  },
  {
   "cell_type": "code",
   "execution_count": 23,
   "metadata": {},
   "outputs": [
    {
     "name": "stdout",
     "output_type": "stream",
     "text": [
      "<blink> Hello world</blink>\n"
     ]
    }
   ],
   "source": [
    "def make_blink(function):\n",
    "\n",
    "    @wraps(function)\n",
    "\n",
    "    def decorator():\n",
    "        ret = function()\n",
    "\n",
    "        return \"<blink>\" + ret + \"</blink>\"\n",
    "\n",
    "    return decorator\n",
    "\n",
    "@make_blink\n",
    "def hello_world():\n",
    "\n",
    "    return \" Hello world\"\n",
    "\n",
    "print(hello_world())"
   ]
  },
  {
   "cell_type": "code",
   "execution_count": null,
   "metadata": {},
   "outputs": [],
   "source": []
  }
 ],
 "metadata": {
  "kernelspec": {
   "display_name": "Python 3.8.10 64-bit ('myenv': venv)",
   "language": "python",
   "name": "python3"
  },
  "language_info": {
   "codemirror_mode": {
    "name": "ipython",
    "version": 3
   },
   "file_extension": ".py",
   "mimetype": "text/x-python",
   "name": "python",
   "nbconvert_exporter": "python",
   "pygments_lexer": "ipython3",
   "version": "3.8.10"
  },
  "orig_nbformat": 4,
  "vscode": {
   "interpreter": {
    "hash": "597cbce5434bcf1ccc77deadbcc786396b3000159aec8081d165d583365e1e45"
   }
  }
 },
 "nbformat": 4,
 "nbformat_minor": 2
}
