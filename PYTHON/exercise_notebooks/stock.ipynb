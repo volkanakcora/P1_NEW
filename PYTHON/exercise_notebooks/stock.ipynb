{
 "cells": [
  {
   "cell_type": "code",
   "execution_count": 18,
   "metadata": {},
   "outputs": [
    {
     "name": "stdout",
     "output_type": "stream",
     "text": [
      "[*********************100%%**********************]  1 of 1 completed\n",
      "           Date   Open   High    Low  Close  Adj Close    Volume\n",
      "0    2015-03-02   0.89   0.89   0.87   0.89       0.89     20773\n",
      "1    2015-03-03   0.88   0.89   0.87   0.87       0.87     69594\n",
      "2    2015-03-04   0.88   0.88   0.86   0.88       0.88     58315\n",
      "3    2015-03-05   0.85   0.87   0.85   0.87       0.87     46142\n",
      "4    2015-03-06   0.88   0.89   0.86   0.87       0.87     86977\n",
      "...         ...    ...    ...    ...    ...        ...       ...\n",
      "2182 2023-09-08  15.05  15.12  14.62  14.74      14.74   2837903\n",
      "2183 2023-09-11  14.76  14.92  14.35  14.45      14.45   2005915\n",
      "2184 2023-09-12  14.46  14.50  13.80  13.87      13.87   2948217\n",
      "2185 2023-09-13  13.87  15.25  13.74  15.25      15.25   5209601\n",
      "2186 2023-09-14  16.42  16.77  15.66  16.77      16.77  15798586\n",
      "\n",
      "[2187 rows x 7 columns]\n"
     ]
    }
   ],
   "source": [
    "import yfinance as yf\n",
    "\n",
    "# giving the start and end dates\n",
    "startDate = '2015-03-01'\n",
    "endDate = '2023-09-15'\n",
    "\n",
    "# setting the ticker value\n",
    "ticker = 'EDIP.IS'\n",
    "\n",
    "# downloading the data of the ticker value between\n",
    "# the start and end dates\n",
    "resultData = yf.download(ticker, startDate, endDate)\n",
    "\n",
    "# Setting date as index\n",
    "resultData[\"Date\"] = resultData.index\n",
    "\n",
    "# Giving column names\n",
    "resultData = resultData[[\"Date\", \"Open\", \"High\",\"Low\", \"Close\", \"Adj Close\", \"Volume\"]]\n",
    "\n",
    "# Resetting the index values\n",
    "resultData.reset_index(drop=True, inplace=True)\n",
    "\n",
    "# getting the first 5 rows of the data\n",
    "print(resultData)"
   ]
  },
  {
   "cell_type": "code",
   "execution_count": null,
   "metadata": {},
   "outputs": [],
   "source": []
  },
  {
   "cell_type": "code",
   "execution_count": null,
   "metadata": {},
   "outputs": [],
   "source": []
  },
  {
   "cell_type": "code",
   "execution_count": null,
   "metadata": {},
   "outputs": [],
   "source": []
  },
  {
   "cell_type": "code",
   "execution_count": null,
   "metadata": {},
   "outputs": [],
   "source": []
  },
  {
   "cell_type": "code",
   "execution_count": null,
   "metadata": {},
   "outputs": [],
   "source": []
  },
  {
   "cell_type": "code",
   "execution_count": null,
   "metadata": {},
   "outputs": [],
   "source": []
  },
  {
   "cell_type": "code",
   "execution_count": null,
   "metadata": {},
   "outputs": [],
   "source": []
  }
 ],
 "metadata": {
  "kernelspec": {
   "display_name": ".venv",
   "language": "python",
   "name": "python3"
  },
  "language_info": {
   "codemirror_mode": {
    "name": "ipython",
    "version": 3
   },
   "file_extension": ".py",
   "mimetype": "text/x-python",
   "name": "python",
   "nbconvert_exporter": "python",
   "pygments_lexer": "ipython3",
   "version": "3.8.10"
  },
  "orig_nbformat": 4
 },
 "nbformat": 4,
 "nbformat_minor": 2
}
