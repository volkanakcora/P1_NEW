{
 "cells": [
  {
   "cell_type": "code",
   "execution_count": 7,
   "metadata": {},
   "outputs": [],
   "source": [
    "import pandas as pd \n",
    "import numpy as np \n",
    "import seaborn as sns "
   ]
  },
  {
   "cell_type": "code",
   "execution_count": 2,
   "metadata": {},
   "outputs": [
    {
     "data": {
      "text/plain": [
       "'January'"
      ]
     },
     "execution_count": 2,
     "metadata": {},
     "output_type": "execute_result"
    }
   ],
   "source": [
    "from datetime import date, timedelta\n",
    "first_day_of_this_month = date.today().replace(day=1) \n",
    "last_day_prev_month = first_day_of_this_month - timedelta(days=1) \n",
    "prev_month_name = last_day_prev_month.strftime('%B') \n",
    "prev_month_name"
   ]
  },
  {
   "cell_type": "code",
   "execution_count": 5,
   "metadata": {},
   "outputs": [],
   "source": [
    "def startswith_capital_counter(names):\n",
    "    count = 0\n",
    "    for name in names:\n",
    "        if name[0].isupper():\n",
    "            if name[0] == 'A':\n",
    "                count += 1\n",
    "    return count"
   ]
  },
  {
   "cell_type": "code",
   "execution_count": 6,
   "metadata": {},
   "outputs": [
    {
     "data": {
      "text/plain": [
       "1"
      ]
     },
     "execution_count": 6,
     "metadata": {},
     "output_type": "execute_result"
    }
   ],
   "source": [
    "startswith_capital_counter('Ahmet')"
   ]
  },
  {
   "cell_type": "code",
   "execution_count": 1,
   "metadata": {},
   "outputs": [
    {
     "ename": "JSONDecodeError",
     "evalue": "Expecting value: line 1 column 1 (char 0)",
     "output_type": "error",
     "traceback": [
      "\u001b[0;31m---------------------------------------------------------------------------\u001b[0m",
      "\u001b[0;31mJSONDecodeError\u001b[0m                           Traceback (most recent call last)",
      "\u001b[0;32m<ipython-input-1-042d664e4128>\u001b[0m in \u001b[0;36m<module>\u001b[0;34m\u001b[0m\n\u001b[1;32m     34\u001b[0m \u001b[0mslack_info\u001b[0m \u001b[0;34m=\u001b[0m \u001b[0;34m'There are  double images detected for'\u001b[0m\u001b[0;34m\u001b[0m\u001b[0;34m\u001b[0m\u001b[0m\n\u001b[1;32m     35\u001b[0m \u001b[0;34m\u001b[0m\u001b[0m\n\u001b[0;32m---> 36\u001b[0;31m \u001b[0mpost_message_to_slack\u001b[0m\u001b[0;34m(\u001b[0m\u001b[0mslack_info\u001b[0m\u001b[0;34m)\u001b[0m\u001b[0;34m\u001b[0m\u001b[0;34m\u001b[0m\u001b[0m\n\u001b[0m",
      "\u001b[0;32m<ipython-input-1-042d664e4128>\u001b[0m in \u001b[0;36mpost_message_to_slack\u001b[0;34m(text, blocks)\u001b[0m\n\u001b[1;32m     23\u001b[0m \u001b[0;34m\u001b[0m\u001b[0m\n\u001b[1;32m     24\u001b[0m \u001b[0;32mdef\u001b[0m \u001b[0mpost_message_to_slack\u001b[0m\u001b[0;34m(\u001b[0m\u001b[0mtext\u001b[0m\u001b[0;34m,\u001b[0m \u001b[0mblocks\u001b[0m \u001b[0;34m=\u001b[0m \u001b[0;32mNone\u001b[0m\u001b[0;34m)\u001b[0m\u001b[0;34m:\u001b[0m\u001b[0;34m\u001b[0m\u001b[0;34m\u001b[0m\u001b[0m\n\u001b[0;32m---> 25\u001b[0;31m     return requests.post('https://dbg-devops.slack.com/services/hooks/jenkins-ci/', {\n\u001b[0m\u001b[1;32m     26\u001b[0m         \u001b[0;34m'token'\u001b[0m\u001b[0;34m:\u001b[0m \u001b[0mslack_token\u001b[0m\u001b[0;34m,\u001b[0m\u001b[0;34m\u001b[0m\u001b[0;34m\u001b[0m\u001b[0m\n\u001b[1;32m     27\u001b[0m         \u001b[0;34m'channel'\u001b[0m\u001b[0;34m:\u001b[0m \u001b[0mslack_channel\u001b[0m\u001b[0;34m,\u001b[0m\u001b[0;34m\u001b[0m\u001b[0;34m\u001b[0m\u001b[0m\n",
      "\u001b[0;32m~/XBID-ANALYTICS-DASH/myenv/lib/python3.8/site-packages/requests/models.py\u001b[0m in \u001b[0;36mjson\u001b[0;34m(self, **kwargs)\u001b[0m\n\u001b[1;32m    898\u001b[0m                     \u001b[0;31m# used.\u001b[0m\u001b[0;34m\u001b[0m\u001b[0;34m\u001b[0m\u001b[0;34m\u001b[0m\u001b[0m\n\u001b[1;32m    899\u001b[0m                     \u001b[0;32mpass\u001b[0m\u001b[0;34m\u001b[0m\u001b[0;34m\u001b[0m\u001b[0m\n\u001b[0;32m--> 900\u001b[0;31m         \u001b[0;32mreturn\u001b[0m \u001b[0mcomplexjson\u001b[0m\u001b[0;34m.\u001b[0m\u001b[0mloads\u001b[0m\u001b[0;34m(\u001b[0m\u001b[0mself\u001b[0m\u001b[0;34m.\u001b[0m\u001b[0mtext\u001b[0m\u001b[0;34m,\u001b[0m \u001b[0;34m**\u001b[0m\u001b[0mkwargs\u001b[0m\u001b[0;34m)\u001b[0m\u001b[0;34m\u001b[0m\u001b[0;34m\u001b[0m\u001b[0m\n\u001b[0m\u001b[1;32m    901\u001b[0m \u001b[0;34m\u001b[0m\u001b[0m\n\u001b[1;32m    902\u001b[0m     \u001b[0;34m@\u001b[0m\u001b[0mproperty\u001b[0m\u001b[0;34m\u001b[0m\u001b[0;34m\u001b[0m\u001b[0m\n",
      "\u001b[0;32m~/XBID-ANALYTICS-DASH/myenv/lib/python3.8/site-packages/simplejson/__init__.py\u001b[0m in \u001b[0;36mloads\u001b[0;34m(s, encoding, cls, object_hook, parse_float, parse_int, parse_constant, object_pairs_hook, use_decimal, **kw)\u001b[0m\n\u001b[1;32m    523\u001b[0m             \u001b[0mparse_constant\u001b[0m \u001b[0;32mis\u001b[0m \u001b[0;32mNone\u001b[0m \u001b[0;32mand\u001b[0m \u001b[0mobject_pairs_hook\u001b[0m \u001b[0;32mis\u001b[0m \u001b[0;32mNone\u001b[0m\u001b[0;34m\u001b[0m\u001b[0;34m\u001b[0m\u001b[0m\n\u001b[1;32m    524\u001b[0m             and not use_decimal and not kw):\n\u001b[0;32m--> 525\u001b[0;31m         \u001b[0;32mreturn\u001b[0m \u001b[0m_default_decoder\u001b[0m\u001b[0;34m.\u001b[0m\u001b[0mdecode\u001b[0m\u001b[0;34m(\u001b[0m\u001b[0ms\u001b[0m\u001b[0;34m)\u001b[0m\u001b[0;34m\u001b[0m\u001b[0;34m\u001b[0m\u001b[0m\n\u001b[0m\u001b[1;32m    526\u001b[0m     \u001b[0;32mif\u001b[0m \u001b[0mcls\u001b[0m \u001b[0;32mis\u001b[0m \u001b[0;32mNone\u001b[0m\u001b[0;34m:\u001b[0m\u001b[0;34m\u001b[0m\u001b[0;34m\u001b[0m\u001b[0m\n\u001b[1;32m    527\u001b[0m         \u001b[0mcls\u001b[0m \u001b[0;34m=\u001b[0m \u001b[0mJSONDecoder\u001b[0m\u001b[0;34m\u001b[0m\u001b[0;34m\u001b[0m\u001b[0m\n",
      "\u001b[0;32m~/XBID-ANALYTICS-DASH/myenv/lib/python3.8/site-packages/simplejson/decoder.py\u001b[0m in \u001b[0;36mdecode\u001b[0;34m(self, s, _w, _PY3)\u001b[0m\n\u001b[1;32m    368\u001b[0m         \u001b[0;32mif\u001b[0m \u001b[0m_PY3\u001b[0m \u001b[0;32mand\u001b[0m \u001b[0misinstance\u001b[0m\u001b[0;34m(\u001b[0m\u001b[0ms\u001b[0m\u001b[0;34m,\u001b[0m \u001b[0mbytes\u001b[0m\u001b[0;34m)\u001b[0m\u001b[0;34m:\u001b[0m\u001b[0;34m\u001b[0m\u001b[0;34m\u001b[0m\u001b[0m\n\u001b[1;32m    369\u001b[0m             \u001b[0ms\u001b[0m \u001b[0;34m=\u001b[0m \u001b[0mstr\u001b[0m\u001b[0;34m(\u001b[0m\u001b[0ms\u001b[0m\u001b[0;34m,\u001b[0m \u001b[0mself\u001b[0m\u001b[0;34m.\u001b[0m\u001b[0mencoding\u001b[0m\u001b[0;34m)\u001b[0m\u001b[0;34m\u001b[0m\u001b[0;34m\u001b[0m\u001b[0m\n\u001b[0;32m--> 370\u001b[0;31m         \u001b[0mobj\u001b[0m\u001b[0;34m,\u001b[0m \u001b[0mend\u001b[0m \u001b[0;34m=\u001b[0m \u001b[0mself\u001b[0m\u001b[0;34m.\u001b[0m\u001b[0mraw_decode\u001b[0m\u001b[0;34m(\u001b[0m\u001b[0ms\u001b[0m\u001b[0;34m)\u001b[0m\u001b[0;34m\u001b[0m\u001b[0;34m\u001b[0m\u001b[0m\n\u001b[0m\u001b[1;32m    371\u001b[0m         \u001b[0mend\u001b[0m \u001b[0;34m=\u001b[0m \u001b[0m_w\u001b[0m\u001b[0;34m(\u001b[0m\u001b[0ms\u001b[0m\u001b[0;34m,\u001b[0m \u001b[0mend\u001b[0m\u001b[0;34m)\u001b[0m\u001b[0;34m.\u001b[0m\u001b[0mend\u001b[0m\u001b[0;34m(\u001b[0m\u001b[0;34m)\u001b[0m\u001b[0;34m\u001b[0m\u001b[0;34m\u001b[0m\u001b[0m\n\u001b[1;32m    372\u001b[0m         \u001b[0;32mif\u001b[0m \u001b[0mend\u001b[0m \u001b[0;34m!=\u001b[0m \u001b[0mlen\u001b[0m\u001b[0;34m(\u001b[0m\u001b[0ms\u001b[0m\u001b[0;34m)\u001b[0m\u001b[0;34m:\u001b[0m\u001b[0;34m\u001b[0m\u001b[0;34m\u001b[0m\u001b[0m\n",
      "\u001b[0;32m~/XBID-ANALYTICS-DASH/myenv/lib/python3.8/site-packages/simplejson/decoder.py\u001b[0m in \u001b[0;36mraw_decode\u001b[0;34m(self, s, idx, _w, _PY3)\u001b[0m\n\u001b[1;32m    398\u001b[0m             \u001b[0;32melif\u001b[0m \u001b[0mord0\u001b[0m \u001b[0;34m==\u001b[0m \u001b[0;36m0xef\u001b[0m \u001b[0;32mand\u001b[0m \u001b[0ms\u001b[0m\u001b[0;34m[\u001b[0m\u001b[0midx\u001b[0m\u001b[0;34m:\u001b[0m\u001b[0midx\u001b[0m \u001b[0;34m+\u001b[0m \u001b[0;36m3\u001b[0m\u001b[0;34m]\u001b[0m \u001b[0;34m==\u001b[0m \u001b[0;34m'\\xef\\xbb\\xbf'\u001b[0m\u001b[0;34m:\u001b[0m\u001b[0;34m\u001b[0m\u001b[0;34m\u001b[0m\u001b[0m\n\u001b[1;32m    399\u001b[0m                 \u001b[0midx\u001b[0m \u001b[0;34m+=\u001b[0m \u001b[0;36m3\u001b[0m\u001b[0;34m\u001b[0m\u001b[0;34m\u001b[0m\u001b[0m\n\u001b[0;32m--> 400\u001b[0;31m         \u001b[0;32mreturn\u001b[0m \u001b[0mself\u001b[0m\u001b[0;34m.\u001b[0m\u001b[0mscan_once\u001b[0m\u001b[0;34m(\u001b[0m\u001b[0ms\u001b[0m\u001b[0;34m,\u001b[0m \u001b[0midx\u001b[0m\u001b[0;34m=\u001b[0m\u001b[0m_w\u001b[0m\u001b[0;34m(\u001b[0m\u001b[0ms\u001b[0m\u001b[0;34m,\u001b[0m \u001b[0midx\u001b[0m\u001b[0;34m)\u001b[0m\u001b[0;34m.\u001b[0m\u001b[0mend\u001b[0m\u001b[0;34m(\u001b[0m\u001b[0;34m)\u001b[0m\u001b[0;34m)\u001b[0m\u001b[0;34m\u001b[0m\u001b[0;34m\u001b[0m\u001b[0m\n\u001b[0m",
      "\u001b[0;31mJSONDecodeError\u001b[0m: Expecting value: line 1 column 1 (char 0)"
     ]
    }
   ],
   "source": [
    "#Slack notifications\n",
    "import requests\n",
    "import json\n",
    "\n",
    "slack_token = 'idAmFZICpUUJFAyG5LzR7ORW'\n",
    "slack_channel = '#energy_reporting'\n",
    "slack_icon_emoji = ':see_no_evil:'\n",
    "slack_user_name = 'Double Images Monitor'\n",
    "\n",
    "\n",
    "\n",
    "GITHUB_CREDENTIALS = 'c6b8ae01-e3f2-49af-9f4d-9f2211a526f3'\n",
    "ENERGY_JENKINS_CREDENTIALS_ID = 'energy-jenkins-slack-bot'\n",
    "SLACK_CHANNEL = '#energy_reporting'\n",
    "SLACK_DISPLAY_NAME = \"Performance CSV Synchronization [csv_sync]\"\n",
    "\n",
    "\n",
    "\n",
    "SLACK_BASE_URL = ''\n",
    "SLACK_CHANNEL_TEST = '#xbid_alerts_cute'\n",
    "CHANNEL_TOKEN_TEST = 'idAmFZICpUUJFAyG5LzR7ORW'\n",
    "\n",
    "\n",
    "def post_message_to_slack(text, blocks = None):\n",
    "    return requests.post('https://dbg-devops.slack.com/services/hooks/jenkins-ci/', {\n",
    "        'token': slack_token,\n",
    "        'channel': slack_channel,\n",
    "        'text': text,\n",
    "        'blocks': json.dumps(blocks) if blocks else None\n",
    "    }).json()\t\n",
    "\n",
    "\n",
    "\n",
    "slack_info = 'There are  double images detected for'\n",
    "\n",
    "post_message_to_slack(slack_info)\n"
   ]
  },
  {
   "cell_type": "code",
   "execution_count": 4,
   "metadata": {},
   "outputs": [
    {
     "name": "stdout",
     "output_type": "stream",
     "text": [
      "Failed to post report on slack channel and status code 403\n"
     ]
    }
   ],
   "source": [
    "import requests\n",
    "def post_image():\n",
    "    url=\"https://dbg-devops.slack.com/services/hooks/jenkins-ci/\"\n",
    "    data = {\n",
    "\n",
    "        \"token\": \"idAmFZICpUUJFAyG5LzR7ORW\",\n",
    "        \"channel\": '#energy_reporting',\n",
    "        \"text\": \"test\", \n",
    "    }\n",
    "\n",
    "    response = requests.post(\n",
    "         url=url, data=data,\n",
    "         headers={\"Content-Type\": \"application/x-www-form-urlencoded\"})\n",
    "\n",
    "    if response.status_code == 200:\n",
    "        print(\"successfully completed post_reports_to_slack \"\n",
    "                      \"and status code %s\" % response.text)\n",
    "    else:\n",
    "        print(\"Failed to post report on slack channel \"\n",
    "                      \"and status code %s\" % response.status_code)\n",
    "\n",
    "\n",
    "post_image()"
   ]
  },
  {
   "cell_type": "code",
   "execution_count": 370,
   "metadata": {},
   "outputs": [
    {
     "data": {
      "text/html": [
       "<div>\n",
       "<style scoped>\n",
       "    .dataframe tbody tr th:only-of-type {\n",
       "        vertical-align: middle;\n",
       "    }\n",
       "\n",
       "    .dataframe tbody tr th {\n",
       "        vertical-align: top;\n",
       "    }\n",
       "\n",
       "    .dataframe thead th {\n",
       "        text-align: right;\n",
       "    }\n",
       "</style>\n",
       "<table border=\"1\" class=\"dataframe\">\n",
       "  <thead>\n",
       "    <tr style=\"text-align: right;\">\n",
       "      <th></th>\n",
       "      <th>Created</th>\n",
       "      <th>Custom field (Story Points)</th>\n",
       "    </tr>\n",
       "  </thead>\n",
       "  <tbody>\n",
       "    <tr>\n",
       "      <th>0</th>\n",
       "      <td>2014</td>\n",
       "      <td>11</td>\n",
       "    </tr>\n",
       "    <tr>\n",
       "      <th>1</th>\n",
       "      <td>2016</td>\n",
       "      <td>2</td>\n",
       "    </tr>\n",
       "    <tr>\n",
       "      <th>2</th>\n",
       "      <td>2017</td>\n",
       "      <td>3</td>\n",
       "    </tr>\n",
       "    <tr>\n",
       "      <th>3</th>\n",
       "      <td>2018</td>\n",
       "      <td>22</td>\n",
       "    </tr>\n",
       "    <tr>\n",
       "      <th>4</th>\n",
       "      <td>2019</td>\n",
       "      <td>37</td>\n",
       "    </tr>\n",
       "    <tr>\n",
       "      <th>5</th>\n",
       "      <td>2020</td>\n",
       "      <td>299</td>\n",
       "    </tr>\n",
       "    <tr>\n",
       "      <th>6</th>\n",
       "      <td>2021</td>\n",
       "      <td>40</td>\n",
       "    </tr>\n",
       "  </tbody>\n",
       "</table>\n",
       "</div>"
      ],
      "text/plain": [
       "   Created  Custom field (Story Points)\n",
       "0     2014                           11\n",
       "1     2016                            2\n",
       "2     2017                            3\n",
       "3     2018                           22\n",
       "4     2019                           37\n",
       "5     2020                          299\n",
       "6     2021                           40"
      ]
     },
     "execution_count": 370,
     "metadata": {},
     "output_type": "execute_result"
    }
   ],
   "source": [
    "from datetime import datetime\n",
    "data_maintenance1 = pd.read_csv(\"maintenance.csv\", low_memory= False)\n",
    "data_maintenance1[\"Created\"] = pd.to_datetime(data_maintenance1[\"Created\"])\n",
    "data_maintenance1[\"Created\"] = data_maintenance1[\"Created\"].apply(lambda x: x.year)\n",
    "AC \n"
   ]
  },
  {
   "cell_type": "code",
   "execution_count": 371,
   "metadata": {
    "tags": []
   },
   "outputs": [
    {
     "data": {
      "text/html": [
       "<div>\n",
       "<style scoped>\n",
       "    .dataframe tbody tr th:only-of-type {\n",
       "        vertical-align: middle;\n",
       "    }\n",
       "\n",
       "    .dataframe tbody tr th {\n",
       "        vertical-align: top;\n",
       "    }\n",
       "\n",
       "    .dataframe thead th {\n",
       "        text-align: right;\n",
       "    }\n",
       "</style>\n",
       "<table border=\"1\" class=\"dataframe\">\n",
       "  <thead>\n",
       "    <tr style=\"text-align: right;\">\n",
       "      <th></th>\n",
       "      <th>Summary</th>\n",
       "      <th>Issue key</th>\n",
       "      <th>Issue id</th>\n",
       "      <th>Issue Type</th>\n",
       "      <th>Status</th>\n",
       "      <th>Project key</th>\n",
       "      <th>Project name</th>\n",
       "      <th>Project type</th>\n",
       "      <th>Project lead</th>\n",
       "      <th>Project description</th>\n",
       "      <th>...</th>\n",
       "      <th>Comment.22</th>\n",
       "      <th>Comment.23</th>\n",
       "      <th>Comment.24</th>\n",
       "      <th>Comment.25</th>\n",
       "      <th>Comment.26</th>\n",
       "      <th>Comment.27</th>\n",
       "      <th>Comment.28</th>\n",
       "      <th>Comment.29</th>\n",
       "      <th>Comment.30</th>\n",
       "      <th>Comment.31</th>\n",
       "    </tr>\n",
       "  </thead>\n",
       "  <tbody>\n",
       "    <tr>\n",
       "      <th>0</th>\n",
       "      <td>Prepare for the CPM workshop HOT</td>\n",
       "      <td>XP-4376</td>\n",
       "      <td>105467</td>\n",
       "      <td>Task</td>\n",
       "      <td>Done</td>\n",
       "      <td>XP</td>\n",
       "      <td>XBID Agile Development</td>\n",
       "      <td>software</td>\n",
       "      <td>dm700</td>\n",
       "      <td>Agile XBID delivery</td>\n",
       "      <td>...</td>\n",
       "      <td>NaN</td>\n",
       "      <td>NaN</td>\n",
       "      <td>NaN</td>\n",
       "      <td>NaN</td>\n",
       "      <td>NaN</td>\n",
       "      <td>NaN</td>\n",
       "      <td>NaN</td>\n",
       "      <td>NaN</td>\n",
       "      <td>NaN</td>\n",
       "      <td>NaN</td>\n",
       "    </tr>\n",
       "    <tr>\n",
       "      <th>1</th>\n",
       "      <td>Prepare for the CPM workshop Alpha</td>\n",
       "      <td>XP-4375</td>\n",
       "      <td>105466</td>\n",
       "      <td>Task</td>\n",
       "      <td>Done</td>\n",
       "      <td>XP</td>\n",
       "      <td>XBID Agile Development</td>\n",
       "      <td>software</td>\n",
       "      <td>dm700</td>\n",
       "      <td>Agile XBID delivery</td>\n",
       "      <td>...</td>\n",
       "      <td>NaN</td>\n",
       "      <td>NaN</td>\n",
       "      <td>NaN</td>\n",
       "      <td>NaN</td>\n",
       "      <td>NaN</td>\n",
       "      <td>NaN</td>\n",
       "      <td>NaN</td>\n",
       "      <td>NaN</td>\n",
       "      <td>NaN</td>\n",
       "      <td>NaN</td>\n",
       "    </tr>\n",
       "    <tr>\n",
       "      <th>2</th>\n",
       "      <td>Remove H2 2020 ACER reports from the sftp serv...</td>\n",
       "      <td>XP-4353</td>\n",
       "      <td>105209</td>\n",
       "      <td>Task</td>\n",
       "      <td>Done</td>\n",
       "      <td>XP</td>\n",
       "      <td>XBID Agile Development</td>\n",
       "      <td>software</td>\n",
       "      <td>dm700</td>\n",
       "      <td>Agile XBID delivery</td>\n",
       "      <td>...</td>\n",
       "      <td>NaN</td>\n",
       "      <td>NaN</td>\n",
       "      <td>NaN</td>\n",
       "      <td>NaN</td>\n",
       "      <td>NaN</td>\n",
       "      <td>NaN</td>\n",
       "      <td>NaN</td>\n",
       "      <td>NaN</td>\n",
       "      <td>NaN</td>\n",
       "      <td>NaN</td>\n",
       "    </tr>\n",
       "    <tr>\n",
       "      <th>3</th>\n",
       "      <td>Provide Acer reports for H2/2020</td>\n",
       "      <td>XP-4307</td>\n",
       "      <td>104767</td>\n",
       "      <td>Task</td>\n",
       "      <td>Done</td>\n",
       "      <td>XP</td>\n",
       "      <td>XBID Agile Development</td>\n",
       "      <td>software</td>\n",
       "      <td>dm700</td>\n",
       "      <td>Agile XBID delivery</td>\n",
       "      <td>...</td>\n",
       "      <td>NaN</td>\n",
       "      <td>NaN</td>\n",
       "      <td>NaN</td>\n",
       "      <td>NaN</td>\n",
       "      <td>NaN</td>\n",
       "      <td>NaN</td>\n",
       "      <td>NaN</td>\n",
       "      <td>NaN</td>\n",
       "      <td>NaN</td>\n",
       "      <td>NaN</td>\n",
       "    </tr>\n",
       "    <tr>\n",
       "      <th>4</th>\n",
       "      <td>CPM - 1:n Trade Recording - Shipping Module</td>\n",
       "      <td>XP-4303</td>\n",
       "      <td>104740</td>\n",
       "      <td>Task</td>\n",
       "      <td>Done</td>\n",
       "      <td>XP</td>\n",
       "      <td>XBID Agile Development</td>\n",
       "      <td>software</td>\n",
       "      <td>dm700</td>\n",
       "      <td>Agile XBID delivery</td>\n",
       "      <td>...</td>\n",
       "      <td>NaN</td>\n",
       "      <td>NaN</td>\n",
       "      <td>NaN</td>\n",
       "      <td>NaN</td>\n",
       "      <td>NaN</td>\n",
       "      <td>NaN</td>\n",
       "      <td>NaN</td>\n",
       "      <td>NaN</td>\n",
       "      <td>NaN</td>\n",
       "      <td>NaN</td>\n",
       "    </tr>\n",
       "  </tbody>\n",
       "</table>\n",
       "<p>5 rows × 306 columns</p>\n",
       "</div>"
      ],
      "text/plain": [
       "                                             Summary Issue key  Issue id  \\\n",
       "0                   Prepare for the CPM workshop HOT   XP-4376    105467   \n",
       "1                 Prepare for the CPM workshop Alpha   XP-4375    105466   \n",
       "2  Remove H2 2020 ACER reports from the sftp serv...   XP-4353    105209   \n",
       "3                   Provide Acer reports for H2/2020   XP-4307    104767   \n",
       "4        CPM - 1:n Trade Recording - Shipping Module   XP-4303    104740   \n",
       "\n",
       "  Issue Type Status Project key            Project name Project type  \\\n",
       "0       Task   Done          XP  XBID Agile Development     software   \n",
       "1       Task   Done          XP  XBID Agile Development     software   \n",
       "2       Task   Done          XP  XBID Agile Development     software   \n",
       "3       Task   Done          XP  XBID Agile Development     software   \n",
       "4       Task   Done          XP  XBID Agile Development     software   \n",
       "\n",
       "  Project lead   Project description  ...  Comment.22 Comment.23 Comment.24  \\\n",
       "0        dm700  Agile XBID delivery   ...         NaN        NaN        NaN   \n",
       "1        dm700  Agile XBID delivery   ...         NaN        NaN        NaN   \n",
       "2        dm700  Agile XBID delivery   ...         NaN        NaN        NaN   \n",
       "3        dm700  Agile XBID delivery   ...         NaN        NaN        NaN   \n",
       "4        dm700  Agile XBID delivery   ...         NaN        NaN        NaN   \n",
       "\n",
       "  Comment.25 Comment.26 Comment.27 Comment.28 Comment.29 Comment.30 Comment.31  \n",
       "0        NaN        NaN        NaN        NaN        NaN        NaN        NaN  \n",
       "1        NaN        NaN        NaN        NaN        NaN        NaN        NaN  \n",
       "2        NaN        NaN        NaN        NaN        NaN        NaN        NaN  \n",
       "3        NaN        NaN        NaN        NaN        NaN        NaN        NaN  \n",
       "4        NaN        NaN        NaN        NaN        NaN        NaN        NaN  \n",
       "\n",
       "[5 rows x 306 columns]"
      ]
     },
     "execution_count": 371,
     "metadata": {},
     "output_type": "execute_result"
    }
   ],
   "source": [
    "data = pd.read_csv(\"Development-Real.csv\", low_memory=False)\n",
    "\n",
    "#DM[\"Created\"] = pd.to_datetime(DM[\"Created\"])\n",
    "#AC[\"Created\"].apply(lambda x: x.year)\n",
    "#DM[\"Created\"].datetime.strftime(\"%m/%d/%y\")\n",
    "data.head()"
   ]
  },
  {
   "cell_type": "code",
   "execution_count": 362,
   "metadata": {},
   "outputs": [],
   "source": [
    "def data_processing(data):\n",
    "    #data = pd.DataFrame(data[(data[\"Status\"] == \"Resolved\")])\n",
    "    data[\"Custom field (Story Points)\"] = data[\"Custom field (Story Points)\"].fillna(0)\n",
    "    data['Custom field (Story Points)'] = np.where(data['Custom field (Story Points)'].between(0.0,1.0), 1, data['Custom field (Story Points)'])\n",
    "    data[\"Created\"] = pd.to_datetime(data[\"Created\"])\n",
    "    data[\"Created\"] = data[\"Created\"].apply(lambda x: x.year)\n",
    "    df =  pd.DataFrame(data[[\"Custom field (Story Points)\",\"Created\",\"Project name\"]])\n",
    "    df_new = pd.DataFrame(df.groupby(\"Created\").count()[\"Custom field (Story Points)\"])\n",
    "    df_new = df_new.reset_index()\n",
    "    return df_new"
   ]
  },
  {
   "cell_type": "code",
   "execution_count": 373,
   "metadata": {},
   "outputs": [
    {
     "data": {
      "text/html": [
       "<div>\n",
       "<style scoped>\n",
       "    .dataframe tbody tr th:only-of-type {\n",
       "        vertical-align: middle;\n",
       "    }\n",
       "\n",
       "    .dataframe tbody tr th {\n",
       "        vertical-align: top;\n",
       "    }\n",
       "\n",
       "    .dataframe thead th {\n",
       "        text-align: right;\n",
       "    }\n",
       "</style>\n",
       "<table border=\"1\" class=\"dataframe\">\n",
       "  <thead>\n",
       "    <tr style=\"text-align: right;\">\n",
       "      <th></th>\n",
       "      <th>Summary</th>\n",
       "      <th>Issue key</th>\n",
       "      <th>Issue id</th>\n",
       "      <th>Issue Type</th>\n",
       "      <th>Status</th>\n",
       "      <th>Project key</th>\n",
       "      <th>Project name</th>\n",
       "      <th>Project type</th>\n",
       "      <th>Project lead</th>\n",
       "      <th>Project description</th>\n",
       "      <th>...</th>\n",
       "      <th>Comment.22</th>\n",
       "      <th>Comment.23</th>\n",
       "      <th>Comment.24</th>\n",
       "      <th>Comment.25</th>\n",
       "      <th>Comment.26</th>\n",
       "      <th>Comment.27</th>\n",
       "      <th>Comment.28</th>\n",
       "      <th>Comment.29</th>\n",
       "      <th>Comment.30</th>\n",
       "      <th>Comment.31</th>\n",
       "    </tr>\n",
       "  </thead>\n",
       "  <tbody>\n",
       "    <tr>\n",
       "      <th>0</th>\n",
       "      <td>Prepare for the CPM workshop HOT</td>\n",
       "      <td>XP-4376</td>\n",
       "      <td>105467</td>\n",
       "      <td>Task</td>\n",
       "      <td>Done</td>\n",
       "      <td>XP</td>\n",
       "      <td>XBID Agile Development</td>\n",
       "      <td>software</td>\n",
       "      <td>dm700</td>\n",
       "      <td>Agile XBID delivery</td>\n",
       "      <td>...</td>\n",
       "      <td>NaN</td>\n",
       "      <td>NaN</td>\n",
       "      <td>NaN</td>\n",
       "      <td>NaN</td>\n",
       "      <td>NaN</td>\n",
       "      <td>NaN</td>\n",
       "      <td>NaN</td>\n",
       "      <td>NaN</td>\n",
       "      <td>NaN</td>\n",
       "      <td>NaN</td>\n",
       "    </tr>\n",
       "    <tr>\n",
       "      <th>1</th>\n",
       "      <td>Prepare for the CPM workshop Alpha</td>\n",
       "      <td>XP-4375</td>\n",
       "      <td>105466</td>\n",
       "      <td>Task</td>\n",
       "      <td>Done</td>\n",
       "      <td>XP</td>\n",
       "      <td>XBID Agile Development</td>\n",
       "      <td>software</td>\n",
       "      <td>dm700</td>\n",
       "      <td>Agile XBID delivery</td>\n",
       "      <td>...</td>\n",
       "      <td>NaN</td>\n",
       "      <td>NaN</td>\n",
       "      <td>NaN</td>\n",
       "      <td>NaN</td>\n",
       "      <td>NaN</td>\n",
       "      <td>NaN</td>\n",
       "      <td>NaN</td>\n",
       "      <td>NaN</td>\n",
       "      <td>NaN</td>\n",
       "      <td>NaN</td>\n",
       "    </tr>\n",
       "    <tr>\n",
       "      <th>2</th>\n",
       "      <td>Remove H2 2020 ACER reports from the sftp serv...</td>\n",
       "      <td>XP-4353</td>\n",
       "      <td>105209</td>\n",
       "      <td>Task</td>\n",
       "      <td>Done</td>\n",
       "      <td>XP</td>\n",
       "      <td>XBID Agile Development</td>\n",
       "      <td>software</td>\n",
       "      <td>dm700</td>\n",
       "      <td>Agile XBID delivery</td>\n",
       "      <td>...</td>\n",
       "      <td>NaN</td>\n",
       "      <td>NaN</td>\n",
       "      <td>NaN</td>\n",
       "      <td>NaN</td>\n",
       "      <td>NaN</td>\n",
       "      <td>NaN</td>\n",
       "      <td>NaN</td>\n",
       "      <td>NaN</td>\n",
       "      <td>NaN</td>\n",
       "      <td>NaN</td>\n",
       "    </tr>\n",
       "    <tr>\n",
       "      <th>3</th>\n",
       "      <td>Provide Acer reports for H2/2020</td>\n",
       "      <td>XP-4307</td>\n",
       "      <td>104767</td>\n",
       "      <td>Task</td>\n",
       "      <td>Done</td>\n",
       "      <td>XP</td>\n",
       "      <td>XBID Agile Development</td>\n",
       "      <td>software</td>\n",
       "      <td>dm700</td>\n",
       "      <td>Agile XBID delivery</td>\n",
       "      <td>...</td>\n",
       "      <td>NaN</td>\n",
       "      <td>NaN</td>\n",
       "      <td>NaN</td>\n",
       "      <td>NaN</td>\n",
       "      <td>NaN</td>\n",
       "      <td>NaN</td>\n",
       "      <td>NaN</td>\n",
       "      <td>NaN</td>\n",
       "      <td>NaN</td>\n",
       "      <td>NaN</td>\n",
       "    </tr>\n",
       "    <tr>\n",
       "      <th>4</th>\n",
       "      <td>CPM - 1:n Trade Recording - Shipping Module</td>\n",
       "      <td>XP-4303</td>\n",
       "      <td>104740</td>\n",
       "      <td>Task</td>\n",
       "      <td>Done</td>\n",
       "      <td>XP</td>\n",
       "      <td>XBID Agile Development</td>\n",
       "      <td>software</td>\n",
       "      <td>dm700</td>\n",
       "      <td>Agile XBID delivery</td>\n",
       "      <td>...</td>\n",
       "      <td>NaN</td>\n",
       "      <td>NaN</td>\n",
       "      <td>NaN</td>\n",
       "      <td>NaN</td>\n",
       "      <td>NaN</td>\n",
       "      <td>NaN</td>\n",
       "      <td>NaN</td>\n",
       "      <td>NaN</td>\n",
       "      <td>NaN</td>\n",
       "      <td>NaN</td>\n",
       "    </tr>\n",
       "  </tbody>\n",
       "</table>\n",
       "<p>5 rows × 306 columns</p>\n",
       "</div>"
      ],
      "text/plain": [
       "                                             Summary Issue key  Issue id  \\\n",
       "0                   Prepare for the CPM workshop HOT   XP-4376    105467   \n",
       "1                 Prepare for the CPM workshop Alpha   XP-4375    105466   \n",
       "2  Remove H2 2020 ACER reports from the sftp serv...   XP-4353    105209   \n",
       "3                   Provide Acer reports for H2/2020   XP-4307    104767   \n",
       "4        CPM - 1:n Trade Recording - Shipping Module   XP-4303    104740   \n",
       "\n",
       "  Issue Type Status Project key            Project name Project type  \\\n",
       "0       Task   Done          XP  XBID Agile Development     software   \n",
       "1       Task   Done          XP  XBID Agile Development     software   \n",
       "2       Task   Done          XP  XBID Agile Development     software   \n",
       "3       Task   Done          XP  XBID Agile Development     software   \n",
       "4       Task   Done          XP  XBID Agile Development     software   \n",
       "\n",
       "  Project lead   Project description  ...  Comment.22 Comment.23 Comment.24  \\\n",
       "0        dm700  Agile XBID delivery   ...         NaN        NaN        NaN   \n",
       "1        dm700  Agile XBID delivery   ...         NaN        NaN        NaN   \n",
       "2        dm700  Agile XBID delivery   ...         NaN        NaN        NaN   \n",
       "3        dm700  Agile XBID delivery   ...         NaN        NaN        NaN   \n",
       "4        dm700  Agile XBID delivery   ...         NaN        NaN        NaN   \n",
       "\n",
       "  Comment.25 Comment.26 Comment.27  Comment.28 Comment.29 Comment.30  \\\n",
       "0        NaN        NaN        NaN         NaN        NaN        NaN   \n",
       "1        NaN        NaN        NaN         NaN        NaN        NaN   \n",
       "2        NaN        NaN        NaN         NaN        NaN        NaN   \n",
       "3        NaN        NaN        NaN         NaN        NaN        NaN   \n",
       "4        NaN        NaN        NaN         NaN        NaN        NaN   \n",
       "\n",
       "  Comment.31  \n",
       "0        NaN  \n",
       "1        NaN  \n",
       "2        NaN  \n",
       "3        NaN  \n",
       "4        NaN  \n",
       "\n",
       "[5 rows x 306 columns]"
      ]
     },
     "execution_count": 373,
     "metadata": {},
     "output_type": "execute_result"
    }
   ],
   "source": [
    "# data_development = pd.read_csv(\"development1.csv\", low_memory= False)\n",
    "# data_development[\"Created\"] = pd.to_datetime(data_development[\"Created\"])\n",
    "# data_development[\"Created\"] = data_development[\"Created\"].apply(lambda x: x.year)\n",
    "# #data_development[\"Custom field (Story Points)\"].value_counts()\n",
    "# AD = data_processing1(data)\n",
    "# #AD.groupby([\"Status\",\"Custom field (Story Points)\"]).count()\n",
    "# # AD.to_excel('Deployment_outputQ4.xlsx', sheet_name='sheet1', index=False)\n",
    "data = pd.read_csv(\"Development-Real.csv\", low_memory=False)\n",
    "data[\"Created\"] = pd.to_datetime(data[\"Created\"])\n",
    "data[\"Created\"] = data[\"Created\"].apply(lambda x: x.year)\n",
    "data[\"Custom field (Story Points)\"] = data[\"Custom field (Story Points)\"].fillna(0)\n",
    "data['Custom field (Story Points)'] = np.where(data['Custom field (Story Points)'].between(0.0,1.0), 1, data['Custom field (Story Points)'])\n",
    "data.head()"
   ]
  },
  {
   "cell_type": "code",
   "execution_count": 397,
   "metadata": {
    "tags": []
   },
   "outputs": [
    {
     "ename": "IndentationError",
     "evalue": "unexpected indent (<ipython-input-397-7517d1a9083f>, line 9)",
     "output_type": "error",
     "traceback": [
      "\u001b[1;36m  File \u001b[1;32m\"<ipython-input-397-7517d1a9083f>\"\u001b[1;36m, line \u001b[1;32m9\u001b[0m\n\u001b[1;33m    return maintenance_final\u001b[0m\n\u001b[1;37m    ^\u001b[0m\n\u001b[1;31mIndentationError\u001b[0m\u001b[1;31m:\u001b[0m unexpected indent\n"
     ]
    }
   ],
   "source": [
    "data = pd.read_csv(\"Maintenance-Real.csv\", low_memory=False)\n",
    "data[\"Created\"] = pd.to_datetime(data[\"Created\"])\n",
    "data[\"Created\"] = data[\"Created\"].apply(lambda x: x.year)\n",
    "data[\"Custom field (Story Points)\"] = data[\"Custom field (Story Points)\"].fillna(0)\n",
    "data['Custom field (Story Points)'] = np.where(data['Custom field (Story Points)'].between(0.0,1.0), 1, data['Custom field (Story Points)'])\n",
    "data['Issue'] = np.where(data['Comment.22'], \"Maintenance\", data['Comment.22'])\n",
    "maintenance_final =  pd.DataFrame(data[[\"Custom field (Story Points)\",\"Created\",\"Issue\"]])\n",
    "\n",
    "    "
   ]
  },
  {
   "cell_type": "code",
   "execution_count": 47,
   "metadata": {
    "tags": []
   },
   "outputs": [
    {
     "data": {
      "text/html": [
       "<div>\n",
       "<style scoped>\n",
       "    .dataframe tbody tr th:only-of-type {\n",
       "        vertical-align: middle;\n",
       "    }\n",
       "\n",
       "    .dataframe tbody tr th {\n",
       "        vertical-align: top;\n",
       "    }\n",
       "\n",
       "    .dataframe thead th {\n",
       "        text-align: right;\n",
       "    }\n",
       "</style>\n",
       "<table border=\"1\" class=\"dataframe\">\n",
       "  <thead>\n",
       "    <tr style=\"text-align: right;\">\n",
       "      <th></th>\n",
       "      <th>Issue</th>\n",
       "      <th>Resolved</th>\n",
       "      <th>Custom field (Story Points)</th>\n",
       "      <th>percent</th>\n",
       "    </tr>\n",
       "  </thead>\n",
       "  <tbody>\n",
       "    <tr>\n",
       "      <th>1</th>\n",
       "      <td>Xbid-Support</td>\n",
       "      <td>2019.0</td>\n",
       "      <td>501.0</td>\n",
       "      <td>100.0</td>\n",
       "    </tr>\n",
       "    <tr>\n",
       "      <th>2</th>\n",
       "      <td>Xbid-Support</td>\n",
       "      <td>2020.0</td>\n",
       "      <td>435.0</td>\n",
       "      <td>100.0</td>\n",
       "    </tr>\n",
       "    <tr>\n",
       "      <th>3</th>\n",
       "      <td>Xbid-Support</td>\n",
       "      <td>2021.0</td>\n",
       "      <td>94.0</td>\n",
       "      <td>100.0</td>\n",
       "    </tr>\n",
       "  </tbody>\n",
       "</table>\n",
       "</div>"
      ],
      "text/plain": [
       "          Issue  Resolved  Custom field (Story Points)  percent\n",
       "1  Xbid-Support    2019.0                        501.0    100.0\n",
       "2  Xbid-Support    2020.0                        435.0    100.0\n",
       "3  Xbid-Support    2021.0                         94.0    100.0"
      ]
     },
     "execution_count": 47,
     "metadata": {},
     "output_type": "execute_result"
    }
   ],
   "source": [
    "xbid = pd.read_csv(\"XBID-Support.csv\", low_memory=False)\n",
    "xx = total_calculation(xbid, \"Xbid-Support\")\n",
    "xdf = pd.DataFrame(xx)\n",
    "xdf = xdf.groupby([\"Issue\",\"Resolved\"]).sum().reset_index()\n",
    "xdf = xdf.drop(xdf[xdf.Resolved < 2019].index)\n",
    "very_last_one = percentage_calculation(xdf)\n",
    "very_last_one"
   ]
  },
  {
   "cell_type": "code",
   "execution_count": 2,
   "metadata": {},
   "outputs": [
    {
     "ename": "OSError",
     "evalue": "[Errno 98] Address already in use",
     "output_type": "error",
     "traceback": [
      "\u001b[0;31m---------------------------------------------------------------------------\u001b[0m",
      "\u001b[0;31mOSError\u001b[0m                                   Traceback (most recent call last)",
      "\u001b[0;32m<ipython-input-2-e899a5ae49f1>\u001b[0m in \u001b[0;36m<module>\u001b[0;34m\u001b[0m\n\u001b[1;32m      6\u001b[0m \u001b[0mHandler\u001b[0m \u001b[0;34m=\u001b[0m \u001b[0mhttp\u001b[0m\u001b[0;34m.\u001b[0m\u001b[0mserver\u001b[0m\u001b[0;34m.\u001b[0m\u001b[0mSimpleHTTPRequestHandler\u001b[0m\u001b[0;34m\u001b[0m\u001b[0;34m\u001b[0m\u001b[0m\n\u001b[1;32m      7\u001b[0m \u001b[0;34m\u001b[0m\u001b[0m\n\u001b[0;32m----> 8\u001b[0;31m \u001b[0mhttpd\u001b[0m \u001b[0;34m=\u001b[0m \u001b[0msocketserver\u001b[0m\u001b[0;34m.\u001b[0m\u001b[0mTCPServer\u001b[0m\u001b[0;34m(\u001b[0m\u001b[0;34m(\u001b[0m\u001b[0;34m\"\"\u001b[0m\u001b[0;34m,\u001b[0m \u001b[0mPORT\u001b[0m\u001b[0;34m)\u001b[0m\u001b[0;34m,\u001b[0m \u001b[0mHandler\u001b[0m\u001b[0;34m)\u001b[0m\u001b[0;34m\u001b[0m\u001b[0;34m\u001b[0m\u001b[0m\n\u001b[0m\u001b[1;32m      9\u001b[0m \u001b[0;34m\u001b[0m\u001b[0m\n\u001b[1;32m     10\u001b[0m \u001b[0mprint\u001b[0m\u001b[0;34m(\u001b[0m\u001b[0;34m\"serving at port\"\u001b[0m\u001b[0;34m,\u001b[0m \u001b[0mPORT\u001b[0m\u001b[0;34m)\u001b[0m\u001b[0;34m\u001b[0m\u001b[0;34m\u001b[0m\u001b[0m\n",
      "\u001b[0;32m/usr/lib/python3.8/socketserver.py\u001b[0m in \u001b[0;36m__init__\u001b[0;34m(self, server_address, RequestHandlerClass, bind_and_activate)\u001b[0m\n\u001b[1;32m    450\u001b[0m         \u001b[0;32mif\u001b[0m \u001b[0mbind_and_activate\u001b[0m\u001b[0;34m:\u001b[0m\u001b[0;34m\u001b[0m\u001b[0;34m\u001b[0m\u001b[0m\n\u001b[1;32m    451\u001b[0m             \u001b[0;32mtry\u001b[0m\u001b[0;34m:\u001b[0m\u001b[0;34m\u001b[0m\u001b[0;34m\u001b[0m\u001b[0m\n\u001b[0;32m--> 452\u001b[0;31m                 \u001b[0mself\u001b[0m\u001b[0;34m.\u001b[0m\u001b[0mserver_bind\u001b[0m\u001b[0;34m(\u001b[0m\u001b[0;34m)\u001b[0m\u001b[0;34m\u001b[0m\u001b[0;34m\u001b[0m\u001b[0m\n\u001b[0m\u001b[1;32m    453\u001b[0m                 \u001b[0mself\u001b[0m\u001b[0;34m.\u001b[0m\u001b[0mserver_activate\u001b[0m\u001b[0;34m(\u001b[0m\u001b[0;34m)\u001b[0m\u001b[0;34m\u001b[0m\u001b[0;34m\u001b[0m\u001b[0m\n\u001b[1;32m    454\u001b[0m             \u001b[0;32mexcept\u001b[0m\u001b[0;34m:\u001b[0m\u001b[0;34m\u001b[0m\u001b[0;34m\u001b[0m\u001b[0m\n",
      "\u001b[0;32m/usr/lib/python3.8/socketserver.py\u001b[0m in \u001b[0;36mserver_bind\u001b[0;34m(self)\u001b[0m\n\u001b[1;32m    464\u001b[0m         \u001b[0;32mif\u001b[0m \u001b[0mself\u001b[0m\u001b[0;34m.\u001b[0m\u001b[0mallow_reuse_address\u001b[0m\u001b[0;34m:\u001b[0m\u001b[0;34m\u001b[0m\u001b[0;34m\u001b[0m\u001b[0m\n\u001b[1;32m    465\u001b[0m             \u001b[0mself\u001b[0m\u001b[0;34m.\u001b[0m\u001b[0msocket\u001b[0m\u001b[0;34m.\u001b[0m\u001b[0msetsockopt\u001b[0m\u001b[0;34m(\u001b[0m\u001b[0msocket\u001b[0m\u001b[0;34m.\u001b[0m\u001b[0mSOL_SOCKET\u001b[0m\u001b[0;34m,\u001b[0m \u001b[0msocket\u001b[0m\u001b[0;34m.\u001b[0m\u001b[0mSO_REUSEADDR\u001b[0m\u001b[0;34m,\u001b[0m \u001b[0;36m1\u001b[0m\u001b[0;34m)\u001b[0m\u001b[0;34m\u001b[0m\u001b[0;34m\u001b[0m\u001b[0m\n\u001b[0;32m--> 466\u001b[0;31m         \u001b[0mself\u001b[0m\u001b[0;34m.\u001b[0m\u001b[0msocket\u001b[0m\u001b[0;34m.\u001b[0m\u001b[0mbind\u001b[0m\u001b[0;34m(\u001b[0m\u001b[0mself\u001b[0m\u001b[0;34m.\u001b[0m\u001b[0mserver_address\u001b[0m\u001b[0;34m)\u001b[0m\u001b[0;34m\u001b[0m\u001b[0;34m\u001b[0m\u001b[0m\n\u001b[0m\u001b[1;32m    467\u001b[0m         \u001b[0mself\u001b[0m\u001b[0;34m.\u001b[0m\u001b[0mserver_address\u001b[0m \u001b[0;34m=\u001b[0m \u001b[0mself\u001b[0m\u001b[0;34m.\u001b[0m\u001b[0msocket\u001b[0m\u001b[0;34m.\u001b[0m\u001b[0mgetsockname\u001b[0m\u001b[0;34m(\u001b[0m\u001b[0;34m)\u001b[0m\u001b[0;34m\u001b[0m\u001b[0;34m\u001b[0m\u001b[0m\n\u001b[1;32m    468\u001b[0m \u001b[0;34m\u001b[0m\u001b[0m\n",
      "\u001b[0;31mOSError\u001b[0m: [Errno 98] Address already in use"
     ]
    }
   ],
   "source": [
    "\n",
    "import http.server\n",
    "import socketserver\n",
    "\n",
    "PORT = 8000\n",
    "\n",
    "Handler = http.server.SimpleHTTPRequestHandler\n",
    "\n",
    "httpd = socketserver.TCPServer((\"\", PORT), Handler)\n",
    "\n",
    "print(\"serving at port\", PORT)\n",
    "httpd.serve_forever()"
   ]
  },
  {
   "cell_type": "code",
   "execution_count": 8,
   "metadata": {},
   "outputs": [
    {
     "data": {
      "text/plain": [
       "1.0     955\n",
       "2.0      21\n",
       "3.0      10\n",
       "5.0       9\n",
       "8.0       2\n",
       "13.0      1\n",
       "Name: Custom field (Story Points), dtype: int64"
      ]
     },
     "execution_count": 8,
     "metadata": {},
     "output_type": "execute_result"
    }
   ],
   "source": [
    "data_development = pd.read_csv(\"Development-Real.csv\", low_memory=False)\n",
    "data_maintenance = pd.read_csv(\"Maintenance-Real.csv\", low_memory=False)\n",
    "xbid = pd.read_csv(\"XBID-Support.csv\", low_memory=False)\n",
    "\n",
    "\n",
    "last_version_of_calculation = total_calculation(data_development, \"Development\").append(total_calculation(data_maintenance, \"Maintenance\"))\n",
    "last_version_of_calculation = pd.DataFrame(last_version_of_calculation)\n",
    "\n",
    "\n",
    "QWE = total_calculation(xbid,\"XBID\")\n",
    "\n",
    "#where the percentage is calculated an functions is called\n",
    "percentage = last_version_of_calculation.groupby([\"Issue\",\"Resolved\"]).sum()\n",
    "percentage = percentage.reset_index()\n",
    "percentage = percentage.drop(percentage[percentage.Resolved < 2019].index)\n",
    "\n",
    "\n",
    "\n",
    "# where the percentage is calculated and sorted\n",
    "issue_count = last_version_of_calculation.groupby([\"Issue\",\"Resolved\"]).count()\n",
    "issue_count = issue_count.reset_index()\n",
    "issue_count = issue_count.drop(issue_count[issue_count.Resolved < 2019].index)\n",
    "issue_count = issue_count.sort_values(\"Resolved\")\n",
    "\n",
    "very_last_version = percentage_calculation(percentage)\n",
    "very_last_version[\"Issue_count\"] = issue_count[\"Custom field (Story Points)\"]\n",
    "\n"
   ]
  },
  {
   "cell_type": "code",
   "execution_count": 10,
   "metadata": {},
   "outputs": [],
   "source": [
    "\n",
    "def data_processing(data):\n",
    "    data[\"Custom field (Story Points)\"] = data[\"Custom field (Story Points)\"].fillna(0)\n",
    "    data['Custom field (Story Points)'] = np.where(data['Custom field (Story Points)'].between(0.0,1.0), 1, data['Custom field (Story Points)'])\n",
    "    data[\"Resolved\"] = pd.to_datetime(data[\"Resolved\"])\n",
    "    data[\"Resolved\"] = data[\"Resolved\"].apply(lambda x: x.year)\n",
    "    df =  pd.DataFrame(data[[\"Custom field (Story Points)\",\"Resolved\",\"Project name\"]])\n",
    "    df_new = pd.DataFrame(df.groupby(\"Resolved\").sum()[\"Custom field (Story Points)\"])\n",
    "    df_new = df_new.reset_index()\n",
    "    return df_new\n",
    "\n",
    "\n",
    "\n",
    "\n",
    "def total_calculation(data, ame):\n",
    "    data[\"Resolved\"] = pd.to_datetime(data[\"Resolved\"])\n",
    "    data[\"Resolved\"] = data[\"Resolved\"].apply(lambda x: x.year)\n",
    "    data[\"Custom field (Story Points)\"] = data[\"Custom field (Story Points)\"].fillna(0)\n",
    "    data['Custom field (Story Points)'] = np.where(data['Custom field (Story Points)'].between(0.0,1.0), 1, data['Custom field (Story Points)'])\n",
    "    data['Issue'] = np.where(data['Comment.22'],ame, data['Comment.22'])\n",
    "    maintenance_final =  pd.DataFrame(data[[\"Custom field (Story Points)\",\"Resolved\",\"Issue\"]])\n",
    "    return maintenance_final\n",
    "\n",
    "\n",
    "\n",
    "def percentage_calculation(data):\n",
    "    year = data[(data[\"Resolved\"] == 2019)]\n",
    "    dev = data[(data[\"Resolved\"] == 2020)]\n",
    "    man = data[(data[\"Resolved\"] == 2021)]\n",
    "    dev['percent'] = (dev['Custom field (Story Points)'] / dev['Custom field (Story Points)'].sum()) * 100\n",
    "    man['percent'] = (man['Custom field (Story Points)'] / man['Custom field (Story Points)'].sum()) * 100\n",
    "    year['percent'] = (year['Custom field (Story Points)'] / year['Custom field (Story Points)'].sum()) * 100\n",
    "    last_vers_dude = dev.append(man)\n",
    "    last_vers_dude = last_vers_dude.append(year)\n",
    "    last_vers_dude[\"percent\"] = last_vers_dude[\"percent\"].round(2)\n",
    "    last_vers_dude = last_vers_dude.sort_values(\"Resolved\")\n",
    "    return last_vers_dude\n"
   ]
  },
  {
   "cell_type": "code",
   "execution_count": 19,
   "metadata": {
    "tags": []
   },
   "outputs": [],
   "source": [
    "for issue in jira_issues:\n",
    "    d = {\n",
    "        'Summary': str(issue.fields.summary),\n",
    "        'Issue Key': issue.key,\n",
    "        'Issue id': issue.id ,\n",
    "        'Custom field (Story Points)': issue.fields.customfield_10052,\n",
    "        'Issue Type': str(issue.fields.issuetype.name),\n",
    "        'status': str(issue.fields.status.name),\n",
    "        'project': str(issue.fields.project),\n",
    "        'priority': str(issue.fields.priority.name),\n",
    "        'assignee': str(issue.fields.assignee),\n",
    "        'created' : str(issue.fields.created),   \n",
    "        'labels': str(issue.fields.labels),\n",
    "        'description': str(issue.fields.description),\n",
    "        'Resolution': str(issue.fields.resolution),\n",
    "        'Resolved': str(issue.fields.resolutiondate),\n",
    "        'status_description': str(issue.fields.status.description),\n",
    "        'updated': str(issue.fields.updated),\n",
    "        \n",
    "    }\n",
    "    issues = issues.append(d, ignore_index= True)  \n",
    "data = issues.copy()"
   ]
  },
  {
   "cell_type": "code",
   "execution_count": 1,
   "metadata": {},
   "outputs": [
    {
     "name": "stdout",
     "output_type": "stream",
     "text": [
      "Please tell us what you would like to do: 1) sum 2) minus 3) multiply 4) divide \n"
     ]
    },
    {
     "ename": "KeyboardInterrupt",
     "evalue": "Interrupted by user",
     "output_type": "error",
     "traceback": [
      "\u001b[0;31m---------------------------------------------------------------------------\u001b[0m",
      "\u001b[0;31mKeyboardInterrupt\u001b[0m                         Traceback (most recent call last)",
      "\u001b[0;32m<ipython-input-1-d29fe9a0a0a1>\u001b[0m in \u001b[0;36m<module>\u001b[0;34m\u001b[0m\n\u001b[1;32m     22\u001b[0m \u001b[0;34m\u001b[0m\u001b[0m\n\u001b[1;32m     23\u001b[0m \u001b[0;32mwhile\u001b[0m \u001b[0;32mTrue\u001b[0m\u001b[0;34m:\u001b[0m\u001b[0;34m\u001b[0m\u001b[0;34m\u001b[0m\u001b[0m\n\u001b[0;32m---> 24\u001b[0;31m     \u001b[0mchoice\u001b[0m \u001b[0;34m=\u001b[0m \u001b[0mint\u001b[0m\u001b[0;34m(\u001b[0m\u001b[0minput\u001b[0m\u001b[0;34m(\u001b[0m\u001b[0;34m\"please insert your choice as number\"\u001b[0m\u001b[0;34m)\u001b[0m\u001b[0;34m)\u001b[0m\u001b[0;34m\u001b[0m\u001b[0;34m\u001b[0m\u001b[0m\n\u001b[0m\u001b[1;32m     25\u001b[0m \u001b[0;34m\u001b[0m\u001b[0m\n\u001b[1;32m     26\u001b[0m     \u001b[0mfirst_number\u001b[0m \u001b[0;34m=\u001b[0m \u001b[0mint\u001b[0m\u001b[0;34m(\u001b[0m\u001b[0minput\u001b[0m\u001b[0;34m(\u001b[0m\u001b[0;34m\"enter your first number\"\u001b[0m\u001b[0;34m)\u001b[0m\u001b[0;34m)\u001b[0m\u001b[0;34m\u001b[0m\u001b[0;34m\u001b[0m\u001b[0m\n",
      "\u001b[0;32m/usr/local/lib/python3.8/dist-packages/ipykernel/kernelbase.py\u001b[0m in \u001b[0;36mraw_input\u001b[0;34m(self, prompt)\u001b[0m\n\u001b[1;32m    846\u001b[0m                 \u001b[0;34m\"raw_input was called, but this frontend does not support input requests.\"\u001b[0m\u001b[0;34m\u001b[0m\u001b[0;34m\u001b[0m\u001b[0m\n\u001b[1;32m    847\u001b[0m             )\n\u001b[0;32m--> 848\u001b[0;31m         return self._input_request(str(prompt),\n\u001b[0m\u001b[1;32m    849\u001b[0m             \u001b[0mself\u001b[0m\u001b[0;34m.\u001b[0m\u001b[0m_parent_ident\u001b[0m\u001b[0;34m,\u001b[0m\u001b[0;34m\u001b[0m\u001b[0;34m\u001b[0m\u001b[0m\n\u001b[1;32m    850\u001b[0m             \u001b[0mself\u001b[0m\u001b[0;34m.\u001b[0m\u001b[0m_parent_header\u001b[0m\u001b[0;34m,\u001b[0m\u001b[0;34m\u001b[0m\u001b[0;34m\u001b[0m\u001b[0m\n",
      "\u001b[0;32m/usr/local/lib/python3.8/dist-packages/ipykernel/kernelbase.py\u001b[0m in \u001b[0;36m_input_request\u001b[0;34m(self, prompt, ident, parent, password)\u001b[0m\n\u001b[1;32m    890\u001b[0m             \u001b[0;32mexcept\u001b[0m \u001b[0mKeyboardInterrupt\u001b[0m\u001b[0;34m:\u001b[0m\u001b[0;34m\u001b[0m\u001b[0;34m\u001b[0m\u001b[0m\n\u001b[1;32m    891\u001b[0m                 \u001b[0;31m# re-raise KeyboardInterrupt, to truncate traceback\u001b[0m\u001b[0;34m\u001b[0m\u001b[0;34m\u001b[0m\u001b[0;34m\u001b[0m\u001b[0m\n\u001b[0;32m--> 892\u001b[0;31m                 \u001b[0;32mraise\u001b[0m \u001b[0mKeyboardInterrupt\u001b[0m\u001b[0;34m(\u001b[0m\u001b[0;34m\"Interrupted by user\"\u001b[0m\u001b[0;34m)\u001b[0m \u001b[0;32mfrom\u001b[0m \u001b[0;32mNone\u001b[0m\u001b[0;34m\u001b[0m\u001b[0;34m\u001b[0m\u001b[0m\n\u001b[0m\u001b[1;32m    893\u001b[0m             \u001b[0;32mexcept\u001b[0m \u001b[0mException\u001b[0m \u001b[0;32mas\u001b[0m \u001b[0me\u001b[0m\u001b[0;34m:\u001b[0m\u001b[0;34m\u001b[0m\u001b[0;34m\u001b[0m\u001b[0m\n\u001b[1;32m    894\u001b[0m                 \u001b[0mself\u001b[0m\u001b[0;34m.\u001b[0m\u001b[0mlog\u001b[0m\u001b[0;34m.\u001b[0m\u001b[0mwarning\u001b[0m\u001b[0;34m(\u001b[0m\u001b[0;34m\"Invalid Message:\"\u001b[0m\u001b[0;34m,\u001b[0m \u001b[0mexc_info\u001b[0m\u001b[0;34m=\u001b[0m\u001b[0;32mTrue\u001b[0m\u001b[0;34m)\u001b[0m\u001b[0;34m\u001b[0m\u001b[0;34m\u001b[0m\u001b[0m\n",
      "\u001b[0;31mKeyboardInterrupt\u001b[0m: Interrupted by user"
     ]
    }
   ],
   "source": [
    "#calculator\n",
    "\n",
    "def sum(x,y):\n",
    "    return x+y\n",
    "\n",
    "def minus(x,y):\n",
    "    return x-y\n",
    "\n",
    "def multiply(x,y):\n",
    "    return x*y\n",
    "\n",
    "def divide(x,y):\n",
    "    return x/y\n",
    "\n",
    "print(\"Please tell us what you would like to do: \" +\n",
    "        \"1) sum \" +\n",
    "        \"2) minus \" +\n",
    "        \"3) multiply \" +\n",
    "        \"4) divide \"\n",
    "    )\n",
    "\n",
    "\n",
    "while True:\n",
    "    choice = int(input(\"please insert your choice as number\"))\n",
    "\n",
    "    first_number = int(input(\"enter your first number\"))\n",
    "    second_number = int(input(\"enter your second number\"))\n",
    "\n",
    "    if choice == 1:\n",
    "        print(sum(first_number,second_number))\n",
    "    elif choice == 2:\n",
    "        print(minus(first_number,second_number))\n",
    "    elif choice == 3: \n",
    "        print(multiply(first_number, second_number))\n",
    "\n",
    "    again_or_break = int(input(\"done or continue? 1 = done, 2 = continue\"))\n",
    "\n",
    "    if again_or_break == 1:\n",
    "        break\n",
    "\n",
    "\n",
    "    "
   ]
  },
  {
   "cell_type": "markdown",
   "metadata": {},
   "source": [
    "## DECORATORS\n"
   ]
  },
  {
   "cell_type": "code",
   "execution_count": 13,
   "metadata": {},
   "outputs": [
    {
     "data": {
      "text/plain": [
       "'hello'"
      ]
     },
     "execution_count": 13,
     "metadata": {},
     "output_type": "execute_result"
    }
   ],
   "source": [
    "from re import L\n",
    "\n",
    "\n",
    "def func():\n",
    "    return 1 \n",
    "\n",
    "func()\n",
    "\n",
    "def hello():\n",
    "    return \"hello\"\n",
    "\n",
    "greet = hello()\n",
    "\n",
    "greet"
   ]
  },
  {
   "cell_type": "code",
   "execution_count": 15,
   "metadata": {},
   "outputs": [
    {
     "data": {
      "text/plain": [
       "'hello'"
      ]
     },
     "execution_count": 15,
     "metadata": {},
     "output_type": "execute_result"
    }
   ],
   "source": [
    "hello()"
   ]
  },
  {
   "cell_type": "code",
   "execution_count": null,
   "metadata": {},
   "outputs": [],
   "source": []
  },
  {
   "cell_type": "code",
   "execution_count": 22,
   "metadata": {},
   "outputs": [],
   "source": [
    "def hello(name='Jose'):\n",
    "    print('The helo() function has been executed!')\n",
    "\n",
    "    def greet():\n",
    "        return \"\\t this is the greet() function inside hello\"\n",
    "\n",
    "    def welcome():\n",
    "        return \"\\t This is welcome() inside hello\"\n",
    "        \n",
    "    print(greet())\n",
    "    print(welcome())\n",
    "    print('This is the end of the hello function')"
   ]
  },
  {
   "cell_type": "code",
   "execution_count": 23,
   "metadata": {},
   "outputs": [
    {
     "name": "stdout",
     "output_type": "stream",
     "text": [
      "The helo() function has been executed!\n",
      "\t this is the greet() function inside hello\n",
      "\t This is welcome() inside hello\n",
      "This is the end of the hello function\n"
     ]
    }
   ],
   "source": [
    "hello()"
   ]
  },
  {
   "cell_type": "code",
   "execution_count": 32,
   "metadata": {},
   "outputs": [],
   "source": [
    "def hello(name='Jose'):\n",
    "    print('The helo() function has been executed!')\n",
    "\n",
    "    def greet():\n",
    "        return \"\\t this is the greet() function inside hello\"\n",
    "\n",
    "    def welcome():\n",
    "        return \"\\t This is welcome() inside hello\"\n",
    "        \n",
    "    print('I am going to return a function!!')\n",
    "\n",
    "    if name == 'Jose':\n",
    "        return greet()\n",
    "    else: \n",
    "        return welcome()"
   ]
  },
  {
   "cell_type": "code",
   "execution_count": 33,
   "metadata": {},
   "outputs": [
    {
     "name": "stdout",
     "output_type": "stream",
     "text": [
      "The helo() function has been executed!\n",
      "I am going to return a function!!\n"
     ]
    }
   ],
   "source": [
    "my_new_func = hello('Jose')"
   ]
  },
  {
   "cell_type": "code",
   "execution_count": 41,
   "metadata": {},
   "outputs": [],
   "source": [
    "def cool():\n",
    "\n",
    "    def super_cool():\n",
    "        return \"I'm very cool\"\n",
    "\n",
    "    return super_cool()"
   ]
  },
  {
   "cell_type": "code",
   "execution_count": 44,
   "metadata": {},
   "outputs": [
    {
     "name": "stdout",
     "output_type": "stream",
     "text": [
      "Other code runs here\n",
      "<function hello at 0x7f4ab9415670>\n"
     ]
    }
   ],
   "source": [
    "def hello():\n",
    "    return \"Hi Joe!\"\n",
    "\n",
    "def other(som_def_func):\n",
    "    print('Other code runs here')\n",
    "    print(som_def_func)\n",
    "\n",
    "\n",
    "other(hello)"
   ]
  },
  {
   "cell_type": "code",
   "execution_count": 60,
   "metadata": {},
   "outputs": [],
   "source": [
    "def new_docerator(original_func):\n",
    "\n",
    "    def wrap_func(): #extra functionality that you want to decorate to original function\n",
    "        \n",
    "        print('Some extra code, before the original function')\n",
    "\n",
    "        original_func()  # run the original function\n",
    "\n",
    "        print('Some extra code after the original function')\n",
    "    return wrap_func\n",
    "\n"
   ]
  },
  {
   "cell_type": "code",
   "execution_count": 61,
   "metadata": {},
   "outputs": [],
   "source": [
    "def func_needs_decorator():\n",
    "    print('I want to be decorated')"
   ]
  },
  {
   "cell_type": "code",
   "execution_count": 63,
   "metadata": {},
   "outputs": [],
   "source": [
    "decorated_func = new_docerator(func_needs_decorator)\n"
   ]
  },
  {
   "cell_type": "code",
   "execution_count": 65,
   "metadata": {},
   "outputs": [
    {
     "name": "stdout",
     "output_type": "stream",
     "text": [
      "Some extra code, before the original function\n",
      "I want to be decorated\n",
      "Some extra code after the original function\n"
     ]
    }
   ],
   "source": [
    "decorated_func()"
   ]
  },
  {
   "cell_type": "markdown",
   "metadata": {},
   "source": [
    "# END OF DECORATORS"
   ]
  },
  {
   "cell_type": "markdown",
   "metadata": {},
   "source": [
    "# GENERATORS"
   ]
  },
  {
   "cell_type": "code",
   "execution_count": 68,
   "metadata": {},
   "outputs": [],
   "source": [
    "def create_cubes(n):\n",
    "    result = []\n",
    "    for x in range(n):\n",
    "        result.append(x**3)\n",
    "    return result"
   ]
  },
  {
   "cell_type": "code",
   "execution_count": 71,
   "metadata": {},
   "outputs": [
    {
     "name": "stdout",
     "output_type": "stream",
     "text": [
      "0\n",
      "1\n",
      "8\n",
      "27\n",
      "64\n",
      "125\n",
      "216\n",
      "343\n",
      "512\n",
      "729\n"
     ]
    }
   ],
   "source": [
    "for x in create_cubes(10):\n",
    "    print(x)"
   ]
  },
  {
   "cell_type": "code",
   "execution_count": 138,
   "metadata": {},
   "outputs": [
    {
     "name": "stdout",
     "output_type": "stream",
     "text": [
      "0\n",
      "1\n",
      "8\n",
      "27\n",
      "64\n",
      "125\n",
      "216\n",
      "343\n",
      "512\n",
      "729\n"
     ]
    }
   ],
   "source": [
    "\n",
    "def generate(n):\n",
    "    volkan = []\n",
    "    for x in range(n):\n",
    "        volkan.append(x**3)\n",
    "    return volkan\n",
    "\n",
    "\n",
    "\n",
    "for i in generate(10):\n",
    "    print(i)"
   ]
  },
  {
   "cell_type": "code",
   "execution_count": 19,
   "metadata": {},
   "outputs": [],
   "source": [
    "def print_out(**kwargs):\n",
    "  for key in kwargs:\n",
    "    print(key + \": \" + kwargs[key])"
   ]
  },
  {
   "cell_type": "code",
   "execution_count": 24,
   "metadata": {},
   "outputs": [],
   "source": [
    "def sum_values(*args):\n",
    "  for key in args:\n",
    "    print(key+key)"
   ]
  },
  {
   "cell_type": "code",
   "execution_count": 25,
   "metadata": {},
   "outputs": [
    {
     "name": "stdout",
     "output_type": "stream",
     "text": [
      "20\n",
      "22\n",
      "24\n"
     ]
    }
   ],
   "source": [
    "sum_values(10,11,12)"
   ]
  },
  {
   "cell_type": "code",
   "execution_count": 20,
   "metadata": {},
   "outputs": [
    {
     "name": "stdout",
     "output_type": "stream",
     "text": [
      "author: Me\n",
      "coverate: always\n"
     ]
    }
   ],
   "source": [
    "print_out(author=\"Me\", coverate = \"always\")"
   ]
  },
  {
   "cell_type": "code",
   "execution_count": 73,
   "metadata": {},
   "outputs": [
    {
     "name": "stdout",
     "output_type": "stream",
     "text": [
      "1\n",
      "1\n",
      "2\n",
      "3\n",
      "5\n",
      "8\n",
      "13\n",
      "21\n",
      "34\n",
      "55\n"
     ]
    }
   ],
   "source": [
    "# FIBONACCI\n",
    "def gen_fibon(n):\n",
    "\n",
    "    a=1\n",
    "    b=1\n",
    "    for i in range(n):\n",
    "        yield a\n",
    "        a,b = b,a+b\n",
    "\n",
    "for number in gen_fibon(10):\n",
    "    print(number)"
   ]
  },
  {
   "cell_type": "code",
   "execution_count": 79,
   "metadata": {},
   "outputs": [
    {
     "name": "stdout",
     "output_type": "stream",
     "text": [
      "0\n",
      "1\n",
      "1\n",
      "2\n",
      "3\n",
      "5\n",
      "8\n",
      "13\n",
      "21\n",
      "34\n",
      "55\n"
     ]
    }
   ],
   "source": [
    "index = int(input(\"Enter the index till you want the series\"))\n",
    "\n",
    "firstNumber=0\n",
    "secondNumber=1\n",
    "temp=0\n",
    "\n",
    "print(firstNumber)\n",
    "print(secondNumber)\n",
    "\n",
    "for i in range(0,index):\n",
    "    temp= firstNumber+secondNumber\n",
    "    firstNumber = secondNumber\n",
    "    secondNumber = temp\n",
    "    print(temp)"
   ]
  },
  {
   "cell_type": "code",
   "execution_count": 103,
   "metadata": {},
   "outputs": [],
   "source": [
    "def simple_gen():\n",
    "    for x in range(3):\n",
    "        yield x "
   ]
  },
  {
   "cell_type": "code",
   "execution_count": 101,
   "metadata": {},
   "outputs": [
    {
     "name": "stdout",
     "output_type": "stream",
     "text": [
      "0\n",
      "1\n",
      "2\n",
      "3\n",
      "4\n",
      "5\n",
      "6\n",
      "7\n",
      "8\n",
      "9\n",
      "10\n",
      "11\n",
      "12\n",
      "13\n",
      "14\n"
     ]
    }
   ],
   "source": [
    "for number in simple_gen(15):\n",
    "    print(number)"
   ]
  },
  {
   "cell_type": "markdown",
   "metadata": {},
   "source": [
    "# ITERATION"
   ]
  },
  {
   "cell_type": "code",
   "execution_count": 113,
   "metadata": {},
   "outputs": [
    {
     "name": "stdout",
     "output_type": "stream",
     "text": [
      "h\n",
      "e\n",
      "l\n",
      "l\n",
      "o\n"
     ]
    }
   ],
   "source": [
    "s = 'hello'\n",
    "for i in s:\n",
    "    print(i)"
   ]
  },
  {
   "cell_type": "code",
   "execution_count": 115,
   "metadata": {},
   "outputs": [],
   "source": [
    "iter = iter(s)"
   ]
  },
  {
   "cell_type": "code",
   "execution_count": 122,
   "metadata": {},
   "outputs": [
    {
     "ename": "StopIteration",
     "evalue": "",
     "output_type": "error",
     "traceback": [
      "\u001b[0;31m---------------------------------------------------------------------------\u001b[0m",
      "\u001b[0;31mStopIteration\u001b[0m                             Traceback (most recent call last)",
      "\u001b[0;32m<ipython-input-122-1a5d8c630f55>\u001b[0m in \u001b[0;36m<module>\u001b[0;34m\u001b[0m\n\u001b[0;32m----> 1\u001b[0;31m \u001b[0mnext\u001b[0m\u001b[0;34m(\u001b[0m\u001b[0miter\u001b[0m\u001b[0;34m)\u001b[0m\u001b[0;34m\u001b[0m\u001b[0;34m\u001b[0m\u001b[0m\n\u001b[0m",
      "\u001b[0;31mStopIteration\u001b[0m: "
     ]
    }
   ],
   "source": [
    "next(iter)"
   ]
  },
  {
   "cell_type": "markdown",
   "metadata": {},
   "source": [
    "# simple Game"
   ]
  },
  {
   "cell_type": "code",
   "execution_count": 34,
   "metadata": {},
   "outputs": [],
   "source": [
    "game_list = [0,1,2]"
   ]
  },
  {
   "cell_type": "code",
   "execution_count": 35,
   "metadata": {},
   "outputs": [],
   "source": [
    "def display_game(game_list):\n",
    "    print(\"Here is the current list:\")\n",
    "    print(game_list)"
   ]
  },
  {
   "cell_type": "code",
   "execution_count": 36,
   "metadata": {},
   "outputs": [],
   "source": [
    "def position_choice():\n",
    "\n",
    "    choice = 'wrong'\n",
    "\n",
    "    while choice not in ['0','1', '2']:\n",
    "\n",
    "        choice = input('Pick a position (0,1,2)')\n",
    "\n",
    "        if choice not in ['0','1', '2']:\n",
    "            print('SOrry, try again')\n",
    "\n",
    "    return int(choice)"
   ]
  },
  {
   "cell_type": "code",
   "execution_count": 37,
   "metadata": {},
   "outputs": [],
   "source": [
    "def replacement_choice(game_list,position):\n",
    "    user_placement = str(input(\"Type a string to place\"))\n",
    "\n",
    "    game_list[position] = user_placement\n",
    "\n",
    "    return game_list"
   ]
  },
  {
   "cell_type": "code",
   "execution_count": 38,
   "metadata": {},
   "outputs": [],
   "source": [
    "def gameon_choice():\n",
    "\n",
    "    choice = 'wrong'\n",
    "\n",
    "    while choice not in ['Y','N']:\n",
    "\n",
    "        choice = input('Do you want to keep playing? (Y/N)')\n",
    "\n",
    "        if choice not in ['Y', 'N']:\n",
    "            print('SOrry, try again')\n",
    "\n",
    "    if choice == \"Y\":\n",
    "        return True\n",
    "    else: \n",
    "        return False "
   ]
  },
  {
   "cell_type": "code",
   "execution_count": 41,
   "metadata": {},
   "outputs": [
    {
     "name": "stdout",
     "output_type": "stream",
     "text": [
      "Here is the current list:\n",
      "[0, 1, 2]\n",
      "Here is the current list:\n",
      "['volkan', 1, 2]\n",
      "Here is the current list:\n",
      "['volkan', 'VOLKAN_TEST_@', 2]\n"
     ]
    }
   ],
   "source": [
    "\n",
    "game_on = True\n",
    "game_list = [0,1,2]\n",
    "\n",
    "while game_on:\n",
    "    display_game(game_list)\n",
    "\n",
    "    position = position_choice()\n",
    "\n",
    "    game_list = replacement_choice(game_list, position)\n",
    "\n",
    "    game_on = gameon_choice()"
   ]
  },
  {
   "cell_type": "markdown",
   "metadata": {},
   "source": [
    "# String lenght"
   ]
  },
  {
   "cell_type": "code",
   "execution_count": 54,
   "metadata": {},
   "outputs": [],
   "source": [
    "import pandas as pd \n",
    "hello = 'whatsappp volkan nerelerdesin'\n",
    "hello = iter(hello)"
   ]
  },
  {
   "cell_type": "code",
   "execution_count": 56,
   "metadata": {},
   "outputs": [
    {
     "name": "stdout",
     "output_type": "stream",
     "text": [
      "None\n",
      "None\n",
      "None\n",
      "None\n",
      "None\n",
      "None\n",
      "None\n",
      "None\n",
      "None\n",
      "None\n",
      "None\n",
      "None\n",
      "None\n",
      "None\n",
      "None\n",
      "None\n",
      "None\n",
      "None\n",
      "None\n",
      "None\n",
      "None\n",
      "None\n",
      "None\n",
      "None\n",
      "None\n",
      "None\n",
      "None\n",
      "None\n"
     ]
    }
   ],
   "source": [
    "list = []\n",
    "\n",
    "for i in hello:\n",
    "    print(list.append(i))"
   ]
  },
  {
   "cell_type": "code",
   "execution_count": 62,
   "metadata": {},
   "outputs": [
    {
     "data": {
      "text/plain": [
       "0    28\n",
       "dtype: int64"
      ]
     },
     "execution_count": 62,
     "metadata": {},
     "output_type": "execute_result"
    }
   ],
   "source": [
    "list = pd.DataFrame(list)\n",
    "list.count()"
   ]
  },
  {
   "cell_type": "markdown",
   "metadata": {},
   "source": [
    "# Concat String"
   ]
  },
  {
   "cell_type": "code",
   "execution_count": 139,
   "metadata": {},
   "outputs": [],
   "source": [
    "def concatString(input):\n",
    "    result = ''\n",
    "    for i in range(1, input+1):\n",
    "        result = result + str(i)\n",
    "    return result"
   ]
  },
  {
   "cell_type": "code",
   "execution_count": 140,
   "metadata": {},
   "outputs": [
    {
     "name": "stdout",
     "output_type": "stream",
     "text": [
      "final string is:  12345678910\n"
     ]
    }
   ],
   "source": [
    "input = int(input('Enter any digit : '))\n",
    "print('final string is: ', concatString(input))"
   ]
  },
  {
   "cell_type": "markdown",
   "metadata": {},
   "source": [
    "# Leap Year"
   ]
  },
  {
   "cell_type": "code",
   "execution_count": 6,
   "metadata": {},
   "outputs": [],
   "source": [
    "def is_leap(year):\n",
    "    if((year % 400 == 0) | (year % 100 != 0) & (year % 4 == 0)):\n",
    "        return True\n",
    "    else: \n",
    "        return False\n",
    "\n"
   ]
  },
  {
   "cell_type": "code",
   "execution_count": 10,
   "metadata": {},
   "outputs": [
    {
     "data": {
      "text/plain": [
       "False"
      ]
     },
     "execution_count": 10,
     "metadata": {},
     "output_type": "execute_result"
    }
   ],
   "source": [
    "year = int(input(\"Enter the year\"))\n",
    "is_leap(year)"
   ]
  },
  {
   "cell_type": "markdown",
   "metadata": {},
   "source": [
    "# Classes preparation"
   ]
  },
  {
   "cell_type": "code",
   "execution_count": 11,
   "metadata": {},
   "outputs": [],
   "source": [
    "class car():\n",
    "\n",
    "    def __init__(self, model, color):\n",
    "        self.model = model\n",
    "        self.color = color \n",
    "\n",
    "    def show(self):\n",
    "        print(\"model is\", self.model)\n",
    "        print(\"color is\", self.color)\n",
    "\n",
    "audi = car(\"audia4\", \"white\")\n",
    "        "
   ]
  },
  {
   "cell_type": "code",
   "execution_count": 12,
   "metadata": {},
   "outputs": [],
   "source": [
    "ferrari = car(\"ferrarih5\", 'red')"
   ]
  },
  {
   "cell_type": "code",
   "execution_count": 13,
   "metadata": {},
   "outputs": [
    {
     "name": "stdout",
     "output_type": "stream",
     "text": [
      "model is audia4\n",
      "color is white\n"
     ]
    }
   ],
   "source": [
    "audi.show()"
   ]
  },
  {
   "cell_type": "code",
   "execution_count": 14,
   "metadata": {},
   "outputs": [
    {
     "name": "stdout",
     "output_type": "stream",
     "text": [
      "model is ferrarih5\n",
      "color is red\n"
     ]
    }
   ],
   "source": [
    "ferrari.show()"
   ]
  },
  {
   "cell_type": "code",
   "execution_count": 26,
   "metadata": {},
   "outputs": [],
   "source": []
  },
  {
   "cell_type": "code",
   "execution_count": null,
   "metadata": {},
   "outputs": [],
   "source": []
  },
  {
   "cell_type": "markdown",
   "metadata": {},
   "source": [
    "# Prime Number"
   ]
  },
  {
   "cell_type": "code",
   "execution_count": 18,
   "metadata": {},
   "outputs": [
    {
     "name": "stdout",
     "output_type": "stream",
     "text": [
      "4 is not a prime number\n"
     ]
    }
   ],
   "source": [
    "def primeOrNot(param):\n",
    "    for i in range(2, param):\n",
    "        if ((param%i) == 0):\n",
    "            print(param, \"is not a prime number\")\n",
    "            break\n",
    "    else:\n",
    "        print(param, \"is a prime number\")\n",
    "\n",
    "num= int(input(\"Please enter the number: \"))\n",
    "\n",
    "if num > 1:\n",
    "    primeOrNot(num)\n",
    "else:\n",
    "    print(\"enter a valid number\")\n",
    "            \n",
    "\n"
   ]
  },
  {
   "cell_type": "code",
   "execution_count": null,
   "metadata": {},
   "outputs": [],
   "source": []
  },
  {
   "cell_type": "code",
   "execution_count": null,
   "metadata": {},
   "outputs": [],
   "source": []
  },
  {
   "cell_type": "code",
   "execution_count": null,
   "metadata": {},
   "outputs": [],
   "source": []
  },
  {
   "cell_type": "code",
   "execution_count": null,
   "metadata": {},
   "outputs": [],
   "source": []
  },
  {
   "cell_type": "code",
   "execution_count": 87,
   "metadata": {},
   "outputs": [
    {
     "name": "stdout",
     "output_type": "stream",
     "text": [
      "1\n",
      "1\n",
      "2\n",
      "3\n",
      "5\n",
      "8\n",
      "13\n",
      "21\n",
      "34\n",
      "55\n"
     ]
    }
   ],
   "source": [
    "\n",
    "\n",
    "def fibon(n):\n",
    "\n",
    "    firstnum = 1 \n",
    "    secondnum = 1\n",
    "\n",
    "    for i in range(n):\n",
    "        yield firstnum\n",
    "        firstnum,secondnum = secondnum, firstnum+secondnum\n",
    "\n",
    "for fib in fibon(10):\n",
    "    print(fib)\n"
   ]
  },
  {
   "cell_type": "markdown",
   "metadata": {},
   "source": [
    "firstnum = 0 "
   ]
  },
  {
   "cell_type": "code",
   "execution_count": 66,
   "metadata": {},
   "outputs": [],
   "source": [
    "@new_docerator\n",
    "def func_needs_decorator():\n",
    "    print('I want to be decorated')\n"
   ]
  },
  {
   "cell_type": "code",
   "execution_count": 136,
   "metadata": {},
   "outputs": [],
   "source": [
    "\n"
   ]
  },
  {
   "cell_type": "code",
   "execution_count": 137,
   "metadata": {},
   "outputs": [
    {
     "name": "stdout",
     "output_type": "stream",
     "text": [
      "None\n",
      "None\n",
      "None\n",
      "None\n",
      "None\n",
      "None\n",
      "None\n",
      "None\n",
      "None\n",
      "None\n",
      "0\n",
      "1\n",
      "8\n",
      "27\n",
      "64\n",
      "125\n",
      "216\n",
      "343\n",
      "512\n",
      "729\n"
     ]
    }
   ],
   "source": []
  },
  {
   "cell_type": "code",
   "execution_count": 123,
   "metadata": {},
   "outputs": [],
   "source": [
    "numbers"
   ]
  },
  {
   "cell_type": "markdown",
   "metadata": {},
   "source": [
    "# SUm of the given numbers"
   ]
  },
  {
   "cell_type": "code",
   "execution_count": 105,
   "metadata": {},
   "outputs": [],
   "source": [
    "number1 = int(input(\"please enter your number1\"))\n",
    "number2 = int(input(\"please enter your number2\"))\n",
    "number3 = int(input(\"please enter your number3\"))\n",
    "\n",
    "\n"
   ]
  },
  {
   "cell_type": "code",
   "execution_count": 108,
   "metadata": {},
   "outputs": [],
   "source": [
    "number1 = pd.Series(number1)\n",
    "number2 = pd.Series(number2)\n",
    "number3 = pd.Series(number3)"
   ]
  },
  {
   "cell_type": "code",
   "execution_count": 109,
   "metadata": {},
   "outputs": [],
   "source": [
    "numbers = [number1,number2, number3]"
   ]
  },
  {
   "cell_type": "code",
   "execution_count": 117,
   "metadata": {},
   "outputs": [],
   "source": [
    "nmubers = pd.DataFrame(numbers)"
   ]
  },
  {
   "cell_type": "code",
   "execution_count": 120,
   "metadata": {},
   "outputs": [
    {
     "data": {
      "text/plain": [
       "0    2.0\n",
       "dtype: float64"
      ]
     },
     "execution_count": 120,
     "metadata": {},
     "output_type": "execute_result"
    }
   ],
   "source": [
    "nmubers.sum() / len(nmubers)"
   ]
  },
  {
   "cell_type": "code",
   "execution_count": 79,
   "metadata": {},
   "outputs": [],
   "source": [
    "def sum_values_args(*args):\n",
    "  s = 0\n",
    "  for el in args:\n",
    "    s += el\n",
    "  return s\n"
   ]
  },
  {
   "cell_type": "code",
   "execution_count": 111,
   "metadata": {},
   "outputs": [
    {
     "ename": "TypeError",
     "evalue": "unsupported operand type(s) for +=: 'int' and 'list'",
     "output_type": "error",
     "traceback": [
      "\u001b[0;31m---------------------------------------------------------------------------\u001b[0m",
      "\u001b[0;31mTypeError\u001b[0m                                 Traceback (most recent call last)",
      "\u001b[0;32m<ipython-input-111-59c3d52a54aa>\u001b[0m in \u001b[0;36m<module>\u001b[0;34m\u001b[0m\n\u001b[0;32m----> 1\u001b[0;31m \u001b[0msum_values_args\u001b[0m\u001b[0;34m(\u001b[0m\u001b[0mnumbers\u001b[0m\u001b[0;34m)\u001b[0m\u001b[0;34m\u001b[0m\u001b[0;34m\u001b[0m\u001b[0m\n\u001b[0m",
      "\u001b[0;32m<ipython-input-79-b8b2e0dbe640>\u001b[0m in \u001b[0;36msum_values_args\u001b[0;34m(*args)\u001b[0m\n\u001b[1;32m      2\u001b[0m   \u001b[0ms\u001b[0m \u001b[0;34m=\u001b[0m \u001b[0;36m0\u001b[0m\u001b[0;34m\u001b[0m\u001b[0;34m\u001b[0m\u001b[0m\n\u001b[1;32m      3\u001b[0m   \u001b[0;32mfor\u001b[0m \u001b[0mel\u001b[0m \u001b[0;32min\u001b[0m \u001b[0margs\u001b[0m\u001b[0;34m:\u001b[0m\u001b[0;34m\u001b[0m\u001b[0;34m\u001b[0m\u001b[0m\n\u001b[0;32m----> 4\u001b[0;31m     \u001b[0ms\u001b[0m \u001b[0;34m+=\u001b[0m \u001b[0mel\u001b[0m\u001b[0;34m\u001b[0m\u001b[0;34m\u001b[0m\u001b[0m\n\u001b[0m\u001b[1;32m      5\u001b[0m   \u001b[0;32mreturn\u001b[0m \u001b[0ms\u001b[0m\u001b[0;34m\u001b[0m\u001b[0;34m\u001b[0m\u001b[0m\n",
      "\u001b[0;31mTypeError\u001b[0m: unsupported operand type(s) for +=: 'int' and 'list'"
     ]
    }
   ],
   "source": [
    "sum_values_args(numbers)"
   ]
  },
  {
   "cell_type": "code",
   "execution_count": 95,
   "metadata": {},
   "outputs": [],
   "source": [
    "rows = number1.index.values"
   ]
  },
  {
   "cell_type": "code",
   "execution_count": null,
   "metadata": {},
   "outputs": [],
   "source": []
  },
  {
   "cell_type": "code",
   "execution_count": null,
   "metadata": {},
   "outputs": [],
   "source": []
  },
  {
   "cell_type": "code",
   "execution_count": null,
   "metadata": {},
   "outputs": [],
   "source": []
  },
  {
   "cell_type": "code",
   "execution_count": 176,
   "metadata": {},
   "outputs": [
    {
     "data": {
      "text/html": [
       "<div>\n",
       "<style scoped>\n",
       "    .dataframe tbody tr th:only-of-type {\n",
       "        vertical-align: middle;\n",
       "    }\n",
       "\n",
       "    .dataframe tbody tr th {\n",
       "        vertical-align: top;\n",
       "    }\n",
       "\n",
       "    .dataframe thead th {\n",
       "        text-align: right;\n",
       "    }\n",
       "</style>\n",
       "<table border=\"1\" class=\"dataframe\">\n",
       "  <thead>\n",
       "    <tr style=\"text-align: right;\">\n",
       "      <th></th>\n",
       "      <th>Custom field (Story Points)</th>\n",
       "      <th>Issue Key</th>\n",
       "      <th>Issue Type</th>\n",
       "      <th>Issue id</th>\n",
       "      <th>Resolution</th>\n",
       "      <th>Resolved</th>\n",
       "      <th>Summary</th>\n",
       "      <th>assignee</th>\n",
       "      <th>created</th>\n",
       "      <th>description</th>\n",
       "      <th>labels</th>\n",
       "      <th>priority</th>\n",
       "      <th>project</th>\n",
       "      <th>status</th>\n",
       "      <th>status_description</th>\n",
       "      <th>updated</th>\n",
       "    </tr>\n",
       "  </thead>\n",
       "  <tbody>\n",
       "    <tr>\n",
       "      <th>0</th>\n",
       "      <td>1.0</td>\n",
       "      <td>XP-4916</td>\n",
       "      <td>Bug</td>\n",
       "      <td>109298</td>\n",
       "      <td>Done</td>\n",
       "      <td>2021.0</td>\n",
       "      <td>SERVICE CLONE:  No CRD files are sent by ICS C...</td>\n",
       "      <td>David Siro</td>\n",
       "      <td>2021-04-16T10:54:55.000+0200</td>\n",
       "      <td>Since Monday, April 12th, 2021 01:25 a.m., no ...</td>\n",
       "      <td>[]</td>\n",
       "      <td>Minor</td>\n",
       "      <td>XP</td>\n",
       "      <td>Done</td>\n",
       "      <td></td>\n",
       "      <td>2021-04-20T10:50:06.000+0200</td>\n",
       "    </tr>\n",
       "    <tr>\n",
       "      <th>1</th>\n",
       "      <td>4.0</td>\n",
       "      <td>XP-4898</td>\n",
       "      <td>Task</td>\n",
       "      <td>109193</td>\n",
       "      <td>Done</td>\n",
       "      <td>2021.0</td>\n",
       "      <td>XBID CLONE: Cross-border Trade in CuTe13 (HEnE...</td>\n",
       "      <td>Tomas Bendasek</td>\n",
       "      <td>2021-04-14T11:09:56.000+0200</td>\n",
       "      <td>Dear Sir/Madam,\\r\\n\\r\\nWe have configured in C...</td>\n",
       "      <td>['CuTePXs']</td>\n",
       "      <td>Minor</td>\n",
       "      <td>XP</td>\n",
       "      <td>Done</td>\n",
       "      <td></td>\n",
       "      <td>2021-04-14T11:11:04.000+0200</td>\n",
       "    </tr>\n",
       "    <tr>\n",
       "      <th>2</th>\n",
       "      <td>1.0</td>\n",
       "      <td>XP-4892</td>\n",
       "      <td>Task</td>\n",
       "      <td>109090</td>\n",
       "      <td>Done</td>\n",
       "      <td>2021.0</td>\n",
       "      <td>SERVICE CLONE: XBID R3.1.8 to CuteTSO</td>\n",
       "      <td>Anh Tuan Nguyen</td>\n",
       "      <td>2021-04-13T13:41:48.000+0200</td>\n",
       "      <td>See SERVICE ticket</td>\n",
       "      <td>['TechOps']</td>\n",
       "      <td>Minor</td>\n",
       "      <td>XP</td>\n",
       "      <td>Done</td>\n",
       "      <td></td>\n",
       "      <td>2021-04-16T10:31:26.000+0200</td>\n",
       "    </tr>\n",
       "    <tr>\n",
       "      <th>3</th>\n",
       "      <td>1.0</td>\n",
       "      <td>XP-4888</td>\n",
       "      <td>Task</td>\n",
       "      <td>109080</td>\n",
       "      <td>Not a Bug</td>\n",
       "      <td>2021.0</td>\n",
       "      <td>XBID CLONE: CEPS appearing as shipper in RTE i...</td>\n",
       "      <td>None</td>\n",
       "      <td>2021-04-13T12:10:58.000+0200</td>\n",
       "      <td>RTE noticed that XBN files received from SM co...</td>\n",
       "      <td>[]</td>\n",
       "      <td>Major</td>\n",
       "      <td>XP</td>\n",
       "      <td>Done</td>\n",
       "      <td></td>\n",
       "      <td>2021-04-20T10:35:29.000+0200</td>\n",
       "    </tr>\n",
       "    <tr>\n",
       "      <th>4</th>\n",
       "      <td>1.0</td>\n",
       "      <td>XP-4853</td>\n",
       "      <td>Task</td>\n",
       "      <td>108850</td>\n",
       "      <td>Done</td>\n",
       "      <td>2021.0</td>\n",
       "      <td>XBID CLONE: AM Indicator - frequency change to...</td>\n",
       "      <td>Oliver Heinsohn</td>\n",
       "      <td>2021-04-07T16:07:21.000+0200</td>\n",
       "      <td>h2. Current Situation\\r\\n\\r\\nDear DBAG,\\r\\n\\r\\...</td>\n",
       "      <td>['support_request']</td>\n",
       "      <td>Minor</td>\n",
       "      <td>XP</td>\n",
       "      <td>Done</td>\n",
       "      <td></td>\n",
       "      <td>2021-04-15T20:51:59.000+0200</td>\n",
       "    </tr>\n",
       "    <tr>\n",
       "      <th>...</th>\n",
       "      <td>...</td>\n",
       "      <td>...</td>\n",
       "      <td>...</td>\n",
       "      <td>...</td>\n",
       "      <td>...</td>\n",
       "      <td>...</td>\n",
       "      <td>...</td>\n",
       "      <td>...</td>\n",
       "      <td>...</td>\n",
       "      <td>...</td>\n",
       "      <td>...</td>\n",
       "      <td>...</td>\n",
       "      <td>...</td>\n",
       "      <td>...</td>\n",
       "      <td>...</td>\n",
       "      <td>...</td>\n",
       "    </tr>\n",
       "    <tr>\n",
       "      <th>1037</th>\n",
       "      <td>1.0</td>\n",
       "      <td>SERVICE-9943</td>\n",
       "      <td>Task</td>\n",
       "      <td>107766</td>\n",
       "      <td>Done</td>\n",
       "      <td>2021.0</td>\n",
       "      <td>Failover Test XBID R3.1: Customer Test Scenari...</td>\n",
       "      <td>Peter Pruchnerovic</td>\n",
       "      <td>2021-03-10T11:10:12.000+0100</td>\n",
       "      <td>After the failure of the test scenarios 1.2 we...</td>\n",
       "      <td>['FailoverTesteR3.1']</td>\n",
       "      <td>Minor</td>\n",
       "      <td>SERVICE</td>\n",
       "      <td>Closed</td>\n",
       "      <td>The issue is considered finished, the resoluti...</td>\n",
       "      <td>2021-03-24T11:26:42.000+0100</td>\n",
       "    </tr>\n",
       "    <tr>\n",
       "      <th>1038</th>\n",
       "      <td>1.0</td>\n",
       "      <td>SERVICE-9942</td>\n",
       "      <td>Task</td>\n",
       "      <td>107765</td>\n",
       "      <td>Done</td>\n",
       "      <td>2021.0</td>\n",
       "      <td>Failover Test XBID R3.1: Internal Retest on Simu</td>\n",
       "      <td>Manuel Rapp</td>\n",
       "      <td>2021-03-10T11:08:28.000+0100</td>\n",
       "      <td>After the failure of the test scenarios 1.2 an...</td>\n",
       "      <td>['FailoverTesteR3.1']</td>\n",
       "      <td>Minor</td>\n",
       "      <td>SERVICE</td>\n",
       "      <td>Closed</td>\n",
       "      <td>The issue is considered finished, the resoluti...</td>\n",
       "      <td>2021-03-24T11:26:42.000+0100</td>\n",
       "    </tr>\n",
       "    <tr>\n",
       "      <th>1039</th>\n",
       "      <td>1.0</td>\n",
       "      <td>SERVICE-9758</td>\n",
       "      <td>Task</td>\n",
       "      <td>106766</td>\n",
       "      <td>Done</td>\n",
       "      <td>2021.0</td>\n",
       "      <td>Failover Test XBID R3.1: Customer Test Scenari...</td>\n",
       "      <td>Manuel Rapp</td>\n",
       "      <td>2021-02-15T13:09:11.000+0100</td>\n",
       "      <td>*Date*\\r\\n * 05.03.2021\\r\\n\\r\\n*TechOps execut...</td>\n",
       "      <td>['FailoverTesteR3.1']</td>\n",
       "      <td>Major</td>\n",
       "      <td>SERVICE</td>\n",
       "      <td>Closed</td>\n",
       "      <td>The issue is considered finished, the resoluti...</td>\n",
       "      <td>2021-03-24T11:26:41.000+0100</td>\n",
       "    </tr>\n",
       "    <tr>\n",
       "      <th>1040</th>\n",
       "      <td>1.0</td>\n",
       "      <td>SERVICE-9757</td>\n",
       "      <td>Task</td>\n",
       "      <td>106765</td>\n",
       "      <td>Done</td>\n",
       "      <td>2021.0</td>\n",
       "      <td>Failover Test XBID R3.1: Customer Test Scenari...</td>\n",
       "      <td>Peter Pruchnerovic</td>\n",
       "      <td>2021-02-15T12:59:56.000+0100</td>\n",
       "      <td>*Date*\\r\\n * 04.03.2021\\r\\n\\r\\n*TechOps execut...</td>\n",
       "      <td>['FailoverTesteR3.1']</td>\n",
       "      <td>Major</td>\n",
       "      <td>SERVICE</td>\n",
       "      <td>Closed</td>\n",
       "      <td>The issue is considered finished, the resoluti...</td>\n",
       "      <td>2021-03-24T11:26:41.000+0100</td>\n",
       "    </tr>\n",
       "    <tr>\n",
       "      <th>1041</th>\n",
       "      <td>1.0</td>\n",
       "      <td>SERVICE-9756</td>\n",
       "      <td>Task</td>\n",
       "      <td>106764</td>\n",
       "      <td>Done</td>\n",
       "      <td>2021.0</td>\n",
       "      <td>Failover Test XBID R3.1: Internal Test of all ...</td>\n",
       "      <td>Peter Pruchnerovic</td>\n",
       "      <td>2021-02-15T12:57:31.000+0100</td>\n",
       "      <td>*Date*\\r\\n * 02.03.2021 - 03.03.2021\\r\\n\\r\\n*T...</td>\n",
       "      <td>['FailoverTesteR3.1']</td>\n",
       "      <td>Major</td>\n",
       "      <td>SERVICE</td>\n",
       "      <td>Closed</td>\n",
       "      <td>The issue is considered finished, the resoluti...</td>\n",
       "      <td>2021-03-10T11:19:10.000+0100</td>\n",
       "    </tr>\n",
       "  </tbody>\n",
       "</table>\n",
       "<p>1042 rows × 16 columns</p>\n",
       "</div>"
      ],
      "text/plain": [
       "      Custom field (Story Points)     Issue Key Issue Type Issue id  \\\n",
       "0                             1.0       XP-4916        Bug   109298   \n",
       "1                             4.0       XP-4898       Task   109193   \n",
       "2                             1.0       XP-4892       Task   109090   \n",
       "3                             1.0       XP-4888       Task   109080   \n",
       "4                             1.0       XP-4853       Task   108850   \n",
       "...                           ...           ...        ...      ...   \n",
       "1037                          1.0  SERVICE-9943       Task   107766   \n",
       "1038                          1.0  SERVICE-9942       Task   107765   \n",
       "1039                          1.0  SERVICE-9758       Task   106766   \n",
       "1040                          1.0  SERVICE-9757       Task   106765   \n",
       "1041                          1.0  SERVICE-9756       Task   106764   \n",
       "\n",
       "     Resolution  Resolved                                            Summary  \\\n",
       "0          Done    2021.0  SERVICE CLONE:  No CRD files are sent by ICS C...   \n",
       "1          Done    2021.0  XBID CLONE: Cross-border Trade in CuTe13 (HEnE...   \n",
       "2          Done    2021.0              SERVICE CLONE: XBID R3.1.8 to CuteTSO   \n",
       "3     Not a Bug    2021.0  XBID CLONE: CEPS appearing as shipper in RTE i...   \n",
       "4          Done    2021.0  XBID CLONE: AM Indicator - frequency change to...   \n",
       "...         ...       ...                                                ...   \n",
       "1037       Done    2021.0  Failover Test XBID R3.1: Customer Test Scenari...   \n",
       "1038       Done    2021.0   Failover Test XBID R3.1: Internal Retest on Simu   \n",
       "1039       Done    2021.0  Failover Test XBID R3.1: Customer Test Scenari...   \n",
       "1040       Done    2021.0  Failover Test XBID R3.1: Customer Test Scenari...   \n",
       "1041       Done    2021.0  Failover Test XBID R3.1: Internal Test of all ...   \n",
       "\n",
       "                assignee                       created  \\\n",
       "0             David Siro  2021-04-16T10:54:55.000+0200   \n",
       "1         Tomas Bendasek  2021-04-14T11:09:56.000+0200   \n",
       "2        Anh Tuan Nguyen  2021-04-13T13:41:48.000+0200   \n",
       "3                   None  2021-04-13T12:10:58.000+0200   \n",
       "4        Oliver Heinsohn  2021-04-07T16:07:21.000+0200   \n",
       "...                  ...                           ...   \n",
       "1037  Peter Pruchnerovic  2021-03-10T11:10:12.000+0100   \n",
       "1038         Manuel Rapp  2021-03-10T11:08:28.000+0100   \n",
       "1039         Manuel Rapp  2021-02-15T13:09:11.000+0100   \n",
       "1040  Peter Pruchnerovic  2021-02-15T12:59:56.000+0100   \n",
       "1041  Peter Pruchnerovic  2021-02-15T12:57:31.000+0100   \n",
       "\n",
       "                                            description  \\\n",
       "0     Since Monday, April 12th, 2021 01:25 a.m., no ...   \n",
       "1     Dear Sir/Madam,\\r\\n\\r\\nWe have configured in C...   \n",
       "2                                    See SERVICE ticket   \n",
       "3     RTE noticed that XBN files received from SM co...   \n",
       "4     h2. Current Situation\\r\\n\\r\\nDear DBAG,\\r\\n\\r\\...   \n",
       "...                                                 ...   \n",
       "1037  After the failure of the test scenarios 1.2 we...   \n",
       "1038  After the failure of the test scenarios 1.2 an...   \n",
       "1039  *Date*\\r\\n * 05.03.2021\\r\\n\\r\\n*TechOps execut...   \n",
       "1040  *Date*\\r\\n * 04.03.2021\\r\\n\\r\\n*TechOps execut...   \n",
       "1041  *Date*\\r\\n * 02.03.2021 - 03.03.2021\\r\\n\\r\\n*T...   \n",
       "\n",
       "                     labels priority  project  status  \\\n",
       "0                        []    Minor       XP    Done   \n",
       "1               ['CuTePXs']    Minor       XP    Done   \n",
       "2               ['TechOps']    Minor       XP    Done   \n",
       "3                        []    Major       XP    Done   \n",
       "4       ['support_request']    Minor       XP    Done   \n",
       "...                     ...      ...      ...     ...   \n",
       "1037  ['FailoverTesteR3.1']    Minor  SERVICE  Closed   \n",
       "1038  ['FailoverTesteR3.1']    Minor  SERVICE  Closed   \n",
       "1039  ['FailoverTesteR3.1']    Major  SERVICE  Closed   \n",
       "1040  ['FailoverTesteR3.1']    Major  SERVICE  Closed   \n",
       "1041  ['FailoverTesteR3.1']    Major  SERVICE  Closed   \n",
       "\n",
       "                                     status_description  \\\n",
       "0                                                         \n",
       "1                                                         \n",
       "2                                                         \n",
       "3                                                         \n",
       "4                                                         \n",
       "...                                                 ...   \n",
       "1037  The issue is considered finished, the resoluti...   \n",
       "1038  The issue is considered finished, the resoluti...   \n",
       "1039  The issue is considered finished, the resoluti...   \n",
       "1040  The issue is considered finished, the resoluti...   \n",
       "1041  The issue is considered finished, the resoluti...   \n",
       "\n",
       "                           updated  \n",
       "0     2021-04-20T10:50:06.000+0200  \n",
       "1     2021-04-14T11:11:04.000+0200  \n",
       "2     2021-04-16T10:31:26.000+0200  \n",
       "3     2021-04-20T10:35:29.000+0200  \n",
       "4     2021-04-15T20:51:59.000+0200  \n",
       "...                            ...  \n",
       "1037  2021-03-24T11:26:42.000+0100  \n",
       "1038  2021-03-24T11:26:42.000+0100  \n",
       "1039  2021-03-24T11:26:41.000+0100  \n",
       "1040  2021-03-24T11:26:41.000+0100  \n",
       "1041  2021-03-10T11:19:10.000+0100  \n",
       "\n",
       "[1042 rows x 16 columns]"
      ]
     },
     "execution_count": 176,
     "metadata": {},
     "output_type": "execute_result"
    }
   ],
   "source": [
    "#data = pd.read_csv(\"Development-Real.csv\", low_memory=False)\n",
    "data = issues_result.copy()\n",
    "data[\"Resolved\"] = pd.to_datetime(data[\"Resolved\"], errors='coerce')\n",
    "\n",
    "data[\"Resolved\"] = data[\"Resolved\"].apply(lambda x: x.year)\n",
    "data[\"Custom field (Story Points)\"] = data[\"Custom field (Story Points)\"].fillna(0)\n",
    "data['Custom field (Story Points)'] = np.where(data['Custom field (Story Points)'].between(0.0,1), 1, data['Custom field (Story Points)'])\n",
    "df =  pd.DataFrame(data[[\"Custom field (Story Points)\",\"Resolved\"]])\n",
    "data"
   ]
  },
  {
   "cell_type": "code",
   "execution_count": 170,
   "metadata": {
    "tags": []
   },
   "outputs": [
    {
     "data": {
      "application/vnd.plotly.v1+json": {
       "config": {
        "plotlyServerURL": "https://plot.ly"
       },
       "data": [
        {
         "customdata": [
          [
           2021
          ],
          [
           2021
          ],
          [
           2021
          ],
          [
           2021
          ],
          [
           2021
          ],
          [
           2021
          ],
          [
           2021
          ],
          [
           2021
          ],
          [
           2020
          ],
          [
           2021
          ],
          [
           2020
          ],
          [
           2020
          ],
          [
           2020
          ],
          [
           2020
          ],
          [
           2020
          ],
          [
           2020
          ],
          [
           2020
          ],
          [
           2020
          ],
          [
           2020
          ],
          [
           2020
          ],
          [
           2020
          ],
          [
           2020
          ],
          [
           2020
          ],
          [
           2020
          ],
          [
           2020
          ],
          [
           2020
          ],
          [
           2020
          ],
          [
           2020
          ],
          [
           2020
          ],
          [
           2020
          ],
          [
           2020
          ],
          [
           2020
          ],
          [
           2021
          ],
          [
           2020
          ],
          [
           2020
          ],
          [
           2020
          ],
          [
           2020
          ],
          [
           2020
          ],
          [
           2020
          ],
          [
           2020
          ],
          [
           2020
          ],
          [
           2020
          ],
          [
           2020
          ],
          [
           2020
          ],
          [
           2020
          ],
          [
           2020
          ],
          [
           2020
          ],
          [
           2020
          ],
          [
           2020
          ],
          [
           2020
          ],
          [
           2020
          ],
          [
           2020
          ],
          [
           2020
          ],
          [
           2020
          ],
          [
           2020
          ],
          [
           2020
          ],
          [
           2020
          ],
          [
           2020
          ],
          [
           2020
          ],
          [
           2020
          ],
          [
           2020
          ],
          [
           2020
          ],
          [
           2020
          ],
          [
           2020
          ],
          [
           2020
          ],
          [
           2020
          ],
          [
           2020
          ],
          [
           2020
          ],
          [
           2020
          ],
          [
           2020
          ],
          [
           2020
          ],
          [
           2020
          ],
          [
           2020
          ],
          [
           2020
          ],
          [
           2020
          ],
          [
           2020
          ],
          [
           2020
          ],
          [
           2020
          ],
          [
           2020
          ],
          [
           2020
          ],
          [
           2020
          ],
          [
           2020
          ],
          [
           2020
          ],
          [
           2020
          ],
          [
           2020
          ],
          [
           2020
          ],
          [
           2020
          ],
          [
           2020
          ],
          [
           2020
          ],
          [
           2020
          ],
          [
           2020
          ],
          [
           2020
          ],
          [
           2020
          ],
          [
           2020
          ],
          [
           2020
          ],
          [
           2020
          ],
          [
           2020
          ],
          [
           2020
          ],
          [
           2020
          ],
          [
           2020
          ],
          [
           2020
          ],
          [
           2020
          ],
          [
           2020
          ],
          [
           2020
          ],
          [
           2020
          ],
          [
           2020
          ],
          [
           2020
          ],
          [
           2020
          ],
          [
           2020
          ],
          [
           2020
          ],
          [
           2020
          ],
          [
           2020
          ],
          [
           2020
          ],
          [
           2020
          ],
          [
           2020
          ],
          [
           2020
          ],
          [
           2020
          ],
          [
           2020
          ],
          [
           2020
          ],
          [
           2020
          ],
          [
           2020
          ],
          [
           2020
          ],
          [
           2020
          ],
          [
           2020
          ],
          [
           2020
          ],
          [
           2020
          ],
          [
           2020
          ],
          [
           2020
          ],
          [
           2020
          ],
          [
           2020
          ],
          [
           2020
          ],
          [
           2020
          ],
          [
           2020
          ],
          [
           2020
          ],
          [
           2020
          ],
          [
           2020
          ],
          [
           2020
          ],
          [
           2020
          ],
          [
           2020
          ],
          [
           2020
          ],
          [
           2020
          ],
          [
           2020
          ],
          [
           2020
          ],
          [
           2020
          ],
          [
           2020
          ],
          [
           2020
          ],
          [
           2020
          ],
          [
           2020
          ],
          [
           2020
          ],
          [
           2020
          ],
          [
           2020
          ],
          [
           2020
          ],
          [
           2020
          ],
          [
           2020
          ],
          [
           2020
          ],
          [
           2020
          ],
          [
           2020
          ],
          [
           2020
          ],
          [
           2020
          ],
          [
           2020
          ],
          [
           2020
          ],
          [
           2020
          ],
          [
           2020
          ],
          [
           2020
          ],
          [
           2020
          ],
          [
           2020
          ],
          [
           2020
          ],
          [
           2020
          ],
          [
           2020
          ],
          [
           2020
          ],
          [
           2020
          ],
          [
           2020
          ],
          [
           2020
          ],
          [
           2020
          ],
          [
           2020
          ],
          [
           2020
          ],
          [
           2020
          ],
          [
           2020
          ],
          [
           2020
          ],
          [
           2020
          ],
          [
           2020
          ],
          [
           2020
          ],
          [
           2020
          ],
          [
           2020
          ],
          [
           2020
          ],
          [
           2020
          ],
          [
           2020
          ],
          [
           2020
          ],
          [
           2020
          ],
          [
           2020
          ],
          [
           2020
          ],
          [
           2020
          ],
          [
           2020
          ],
          [
           2020
          ],
          [
           2020
          ],
          [
           2020
          ],
          [
           2020
          ],
          [
           2020
          ],
          [
           2019
          ],
          [
           2019
          ],
          [
           2020
          ],
          [
           2020
          ],
          [
           2020
          ],
          [
           2019
          ],
          [
           2019
          ],
          [
           2019
          ],
          [
           2019
          ],
          [
           2020
          ],
          [
           2020
          ],
          [
           2019
          ],
          [
           2019
          ],
          [
           2019
          ],
          [
           2019
          ],
          [
           2019
          ],
          [
           2019
          ],
          [
           2019
          ],
          [
           2019
          ],
          [
           2019
          ],
          [
           2019
          ],
          [
           2019
          ],
          [
           2019
          ],
          [
           2019
          ],
          [
           2019
          ],
          [
           2019
          ],
          [
           2019
          ],
          [
           2019
          ],
          [
           2019
          ],
          [
           2019
          ],
          [
           2019
          ],
          [
           2019
          ],
          [
           2019
          ],
          [
           2019
          ],
          [
           2019
          ],
          [
           2019
          ],
          [
           2020
          ],
          [
           2019
          ],
          [
           2019
          ],
          [
           2019
          ],
          [
           2019
          ],
          [
           2019
          ],
          [
           2019
          ],
          [
           2019
          ],
          [
           2019
          ],
          [
           2019
          ],
          [
           2019
          ],
          [
           2019
          ],
          [
           2019
          ],
          [
           2019
          ],
          [
           2019
          ],
          [
           2019
          ],
          [
           2019
          ],
          [
           2019
          ],
          [
           2019
          ],
          [
           2019
          ],
          [
           2019
          ],
          [
           2020
          ],
          [
           2019
          ],
          [
           2019
          ],
          [
           2019
          ],
          [
           2019
          ],
          [
           2019
          ],
          [
           2019
          ],
          [
           2019
          ],
          [
           2019
          ],
          [
           2019
          ],
          [
           2019
          ],
          [
           2019
          ],
          [
           2019
          ],
          [
           2019
          ],
          [
           2019
          ],
          [
           2020
          ],
          [
           2019
          ],
          [
           2019
          ],
          [
           2019
          ],
          [
           2019
          ],
          [
           2019
          ],
          [
           2020
          ],
          [
           2019
          ],
          [
           2019
          ],
          [
           2019
          ],
          [
           2020
          ],
          [
           2019
          ],
          [
           2019
          ],
          [
           2019
          ],
          [
           2019
          ],
          [
           2019
          ],
          [
           2019
          ],
          [
           2020
          ],
          [
           2019
          ],
          [
           2019
          ],
          [
           2019
          ],
          [
           2019
          ],
          [
           2019
          ],
          [
           2019
          ],
          [
           2019
          ],
          [
           2019
          ],
          [
           2019
          ],
          [
           2019
          ],
          [
           2019
          ],
          [
           2019
          ],
          [
           2019
          ],
          [
           2020
          ],
          [
           2019
          ],
          [
           2019
          ],
          [
           2019
          ],
          [
           2019
          ],
          [
           2019
          ],
          [
           2019
          ],
          [
           2019
          ],
          [
           2019
          ],
          [
           2019
          ],
          [
           2020
          ],
          [
           2019
          ],
          [
           2019
          ],
          [
           2019
          ],
          [
           2019
          ],
          [
           2019
          ],
          [
           2019
          ],
          [
           2019
          ],
          [
           2019
          ],
          [
           2019
          ],
          [
           2019
          ],
          [
           2019
          ],
          [
           2019
          ],
          [
           2019
          ],
          [
           2019
          ],
          [
           2019
          ],
          [
           2019
          ],
          [
           2020
          ],
          [
           2019
          ],
          [
           2019
          ],
          [
           2019
          ],
          [
           2019
          ],
          [
           2019
          ],
          [
           2019
          ],
          [
           2019
          ],
          [
           2019
          ],
          [
           2019
          ],
          [
           2019
          ],
          [
           2019
          ],
          [
           2019
          ],
          [
           2020
          ],
          [
           2019
          ],
          [
           2019
          ],
          [
           2019
          ],
          [
           2019
          ],
          [
           2019
          ],
          [
           2019
          ],
          [
           2019
          ],
          [
           2019
          ],
          [
           2019
          ],
          [
           2019
          ],
          [
           2019
          ],
          [
           2019
          ],
          [
           2019
          ],
          [
           2019
          ],
          [
           2019
          ],
          [
           2019
          ],
          [
           2019
          ],
          [
           2019
          ],
          [
           2019
          ],
          [
           2019
          ],
          [
           2019
          ],
          [
           2019
          ],
          [
           2019
          ],
          [
           2019
          ],
          [
           2019
          ],
          [
           2019
          ],
          [
           2019
          ],
          [
           2019
          ],
          [
           2019
          ],
          [
           2019
          ],
          [
           2019
          ],
          [
           2019
          ],
          [
           2019
          ],
          [
           2019
          ],
          [
           2019
          ],
          [
           2019
          ],
          [
           2019
          ],
          [
           2019
          ],
          [
           2019
          ],
          [
           2019
          ],
          [
           2019
          ],
          [
           2019
          ],
          [
           2019
          ],
          [
           2019
          ],
          [
           2019
          ],
          [
           2018
          ],
          [
           2019
          ],
          [
           2019
          ],
          [
           2019
          ],
          [
           2018
          ],
          [
           2018
          ],
          [
           2018
          ],
          [
           2018
          ],
          [
           2018
          ],
          [
           2018
          ],
          [
           2018
          ],
          [
           2019
          ],
          [
           2019
          ],
          [
           2019
          ],
          [
           2018
          ],
          [
           2018
          ],
          [
           2018
          ],
          [
           2018
          ],
          [
           2018
          ],
          [
           2018
          ],
          [
           2018
          ],
          [
           2018
          ],
          [
           2019
          ],
          [
           2019
          ],
          [
           2019
          ],
          [
           2019
          ],
          [
           2018
          ],
          [
           2018
          ],
          [
           2019
          ],
          [
           2018
          ],
          [
           2018
          ],
          [
           2018
          ],
          [
           2020
          ],
          [
           2019
          ],
          [
           2018
          ],
          [
           2018
          ],
          [
           2018
          ],
          [
           2018
          ],
          [
           2019
          ],
          [
           2018
          ],
          [
           2018
          ],
          [
           2018
          ],
          [
           2019
          ],
          [
           2018
          ],
          [
           2019
          ],
          [
           2018
          ],
          [
           2019
          ],
          [
           2018
          ],
          [
           2018
          ],
          [
           2018
          ],
          [
           2018
          ],
          [
           2018
          ],
          [
           2018
          ],
          [
           2019
          ],
          [
           2020
          ],
          [
           2018
          ],
          [
           2020
          ],
          [
           2019
          ],
          [
           2018
          ],
          [
           2017
          ],
          [
           2020
          ],
          [
           2020
          ],
          [
           2019
          ],
          [
           2020
          ],
          [
           2020
          ],
          [
           2018
          ],
          [
           2019
          ],
          [
           2018
          ],
          [
           2019
          ],
          [
           2019
          ],
          [
           2019
          ],
          [
           2019
          ],
          [
           2018
          ],
          [
           2018
          ],
          [
           2018
          ],
          [
           2018
          ],
          [
           2018
          ],
          [
           2018
          ],
          [
           2020
          ],
          [
           2019
          ],
          [
           2019
          ],
          [
           2019
          ],
          [
           2018
          ],
          [
           2019
          ],
          [
           2018
          ],
          [
           2018
          ],
          [
           2018
          ],
          [
           2018
          ],
          [
           2019
          ],
          [
           2018
          ],
          [
           2019
          ],
          [
           2018
          ],
          [
           2018
          ],
          [
           2019
          ],
          [
           2019
          ],
          [
           2021
          ],
          [
           2021
          ],
          [
           2021
          ],
          [
           2021
          ],
          [
           2021
          ],
          [
           2021
          ],
          [
           2021
          ],
          [
           2021
          ],
          [
           2021
          ],
          [
           2021
          ],
          [
           2021
          ],
          [
           2021
          ],
          [
           2021
          ],
          [
           2021
          ],
          [
           2021
          ],
          [
           2021
          ],
          [
           2021
          ],
          [
           2021
          ],
          [
           2021
          ],
          [
           2021
          ],
          [
           2021
          ],
          [
           2021
          ],
          [
           2021
          ],
          [
           2021
          ],
          [
           2021
          ],
          [
           2021
          ],
          [
           2021
          ],
          [
           2021
          ],
          [
           2021
          ],
          [
           2021
          ],
          [
           2021
          ],
          [
           2021
          ],
          [
           2021
          ],
          [
           2021
          ],
          [
           2021
          ],
          [
           2021
          ],
          [
           2021
          ],
          [
           2021
          ],
          [
           2021
          ],
          [
           2021
          ],
          [
           2021
          ],
          [
           2021
          ],
          [
           2021
          ],
          [
           2021
          ],
          [
           2021
          ],
          [
           2021
          ],
          [
           2021
          ],
          [
           2021
          ],
          [
           2021
          ],
          [
           2021
          ],
          [
           2021
          ],
          [
           2021
          ],
          [
           2021
          ],
          [
           2021
          ],
          [
           2021
          ],
          [
           2021
          ],
          [
           2021
          ],
          [
           2021
          ],
          [
           2021
          ],
          [
           2021
          ],
          [
           2021
          ],
          [
           2021
          ],
          [
           2021
          ],
          [
           2021
          ],
          [
           2021
          ],
          [
           2021
          ],
          [
           2021
          ],
          [
           2021
          ],
          [
           2021
          ],
          [
           2021
          ],
          [
           2021
          ],
          [
           2021
          ],
          [
           2021
          ],
          [
           2021
          ],
          [
           2021
          ],
          [
           2021
          ],
          [
           2021
          ],
          [
           2021
          ],
          [
           2021
          ],
          [
           2021
          ],
          [
           2021
          ],
          [
           2020
          ],
          [
           2020
          ],
          [
           2021
          ],
          [
           2021
          ],
          [
           2020
          ],
          [
           2021
          ],
          [
           2021
          ],
          [
           2021
          ],
          [
           2021
          ],
          [
           2020
          ],
          [
           2020
          ],
          [
           2020
          ],
          [
           2021
          ],
          [
           2021
          ],
          [
           2021
          ],
          [
           2020
          ],
          [
           2020
          ],
          [
           2020
          ],
          [
           2020
          ],
          [
           2020
          ],
          [
           2020
          ],
          [
           2020
          ],
          [
           2020
          ],
          [
           2020
          ],
          [
           2020
          ],
          [
           2020
          ],
          [
           2020
          ],
          [
           2020
          ],
          [
           2021
          ],
          [
           2020
          ],
          [
           2020
          ],
          [
           2020
          ],
          [
           2020
          ],
          [
           2020
          ],
          [
           2021
          ],
          [
           2020
          ],
          [
           2020
          ],
          [
           2020
          ],
          [
           2020
          ],
          [
           2021
          ],
          [
           2020
          ],
          [
           2020
          ],
          [
           2020
          ],
          [
           2020
          ],
          [
           2020
          ],
          [
           2020
          ],
          [
           2020
          ],
          [
           2020
          ],
          [
           2020
          ],
          [
           2020
          ],
          [
           2020
          ],
          [
           2020
          ],
          [
           2020
          ],
          [
           2020
          ],
          [
           2020
          ],
          [
           2020
          ],
          [
           2020
          ],
          [
           2020
          ],
          [
           2020
          ],
          [
           2020
          ],
          [
           2021
          ],
          [
           2020
          ],
          [
           2020
          ],
          [
           2020
          ],
          [
           2020
          ],
          [
           2020
          ],
          [
           2020
          ],
          [
           2020
          ],
          [
           2020
          ],
          [
           2020
          ],
          [
           2020
          ],
          [
           2020
          ],
          [
           2020
          ],
          [
           2020
          ],
          [
           2020
          ],
          [
           2020
          ],
          [
           2020
          ],
          [
           2021
          ],
          [
           2021
          ],
          [
           2020
          ],
          [
           2020
          ],
          [
           2020
          ],
          [
           2020
          ],
          [
           2020
          ],
          [
           2020
          ],
          [
           2020
          ],
          [
           2020
          ],
          [
           2020
          ],
          [
           2020
          ],
          [
           2020
          ],
          [
           2020
          ],
          [
           2020
          ],
          [
           2020
          ],
          [
           2020
          ],
          [
           2020
          ],
          [
           2020
          ],
          [
           2020
          ],
          [
           2020
          ],
          [
           2021
          ],
          [
           2020
          ],
          [
           2020
          ],
          [
           2020
          ],
          [
           2020
          ],
          [
           2020
          ],
          [
           2020
          ],
          [
           2020
          ],
          [
           2020
          ],
          [
           2020
          ],
          [
           2021
          ],
          [
           2020
          ],
          [
           2020
          ],
          [
           2020
          ],
          [
           2020
          ],
          [
           2020
          ],
          [
           2020
          ],
          [
           2020
          ],
          [
           2021
          ],
          [
           2020
          ],
          [
           2020
          ],
          [
           2021
          ],
          [
           2020
          ],
          [
           2020
          ],
          [
           2020
          ],
          [
           2020
          ],
          [
           2020
          ],
          [
           2020
          ],
          [
           2020
          ],
          [
           2020
          ],
          [
           2020
          ],
          [
           2020
          ],
          [
           2020
          ],
          [
           2020
          ],
          [
           2020
          ],
          [
           2020
          ],
          [
           2020
          ],
          [
           2020
          ],
          [
           2020
          ],
          [
           2020
          ],
          [
           2020
          ],
          [
           2020
          ],
          [
           2020
          ],
          [
           2020
          ],
          [
           2020
          ],
          [
           2020
          ],
          [
           2020
          ],
          [
           2020
          ],
          [
           2020
          ],
          [
           2020
          ],
          [
           2020
          ],
          [
           2021
          ],
          [
           2020
          ],
          [
           2020
          ],
          [
           2020
          ],
          [
           2020
          ],
          [
           2020
          ],
          [
           2020
          ],
          [
           2020
          ],
          [
           2020
          ],
          [
           2020
          ],
          [
           2020
          ],
          [
           2020
          ],
          [
           2020
          ],
          [
           2020
          ],
          [
           2020
          ],
          [
           2020
          ],
          [
           2020
          ],
          [
           2020
          ],
          [
           2020
          ],
          [
           2020
          ],
          [
           2020
          ],
          [
           2020
          ],
          [
           2020
          ],
          [
           2021
          ],
          [
           2020
          ],
          [
           2020
          ],
          [
           2020
          ],
          [
           2020
          ],
          [
           2020
          ],
          [
           2020
          ],
          [
           2020
          ],
          [
           2020
          ],
          [
           2020
          ],
          [
           2020
          ],
          [
           2020
          ],
          [
           2020
          ],
          [
           2020
          ],
          [
           2020
          ],
          [
           2020
          ],
          [
           2020
          ],
          [
           2020
          ],
          [
           2020
          ],
          [
           2020
          ],
          [
           2021
          ],
          [
           2020
          ],
          [
           2020
          ],
          [
           2020
          ],
          [
           2020
          ],
          [
           2020
          ],
          [
           2020
          ],
          [
           2020
          ],
          [
           2020
          ],
          [
           2020
          ],
          [
           2020
          ],
          [
           2020
          ],
          [
           2020
          ],
          [
           2020
          ],
          [
           2020
          ],
          [
           2020
          ],
          [
           2020
          ],
          [
           2020
          ],
          [
           2020
          ],
          [
           2020
          ],
          [
           2020
          ],
          [
           2020
          ],
          [
           2020
          ],
          [
           2020
          ],
          [
           2020
          ],
          [
           2020
          ],
          [
           2020
          ],
          [
           2020
          ],
          [
           2020
          ],
          [
           2020
          ],
          [
           2020
          ],
          [
           2020
          ],
          [
           2020
          ],
          [
           2020
          ],
          [
           2020
          ],
          [
           2020
          ],
          [
           2020
          ],
          [
           2020
          ],
          [
           2020
          ],
          [
           2020
          ],
          [
           2020
          ],
          [
           2020
          ],
          [
           2020
          ],
          [
           2020
          ],
          [
           2020
          ],
          [
           2020
          ],
          [
           2020
          ],
          [
           2020
          ],
          [
           2021
          ],
          [
           2020
          ],
          [
           2020
          ],
          [
           2020
          ],
          [
           2020
          ],
          [
           2020
          ],
          [
           2020
          ],
          [
           2020
          ],
          [
           2020
          ],
          [
           2020
          ],
          [
           2020
          ],
          [
           2020
          ],
          [
           2020
          ],
          [
           2020
          ],
          [
           2020
          ],
          [
           2021
          ],
          [
           2020
          ],
          [
           2020
          ],
          [
           2021
          ],
          [
           2021
          ],
          [
           2020
          ],
          [
           2020
          ],
          [
           2021
          ],
          [
           2020
          ],
          [
           2020
          ],
          [
           2020
          ],
          [
           2020
          ],
          [
           2020
          ],
          [
           2020
          ],
          [
           2020
          ],
          [
           2020
          ],
          [
           2020
          ],
          [
           2020
          ],
          [
           2020
          ],
          [
           2020
          ],
          [
           2020
          ],
          [
           2020
          ],
          [
           2020
          ],
          [
           2020
          ],
          [
           2020
          ],
          [
           2020
          ],
          [
           2020
          ],
          [
           2020
          ],
          [
           2020
          ],
          [
           2020
          ],
          [
           2020
          ],
          [
           2020
          ],
          [
           2020
          ],
          [
           2020
          ],
          [
           2020
          ],
          [
           2020
          ],
          [
           2020
          ],
          [
           2020
          ],
          [
           2020
          ],
          [
           2020
          ],
          [
           2020
          ],
          [
           2020
          ],
          [
           2020
          ],
          [
           2020
          ],
          [
           2020
          ],
          [
           2020
          ],
          [
           2020
          ],
          [
           2020
          ],
          [
           2020
          ],
          [
           2020
          ],
          [
           2020
          ],
          [
           2020
          ],
          [
           2020
          ],
          [
           2020
          ],
          [
           2020
          ],
          [
           2020
          ],
          [
           2020
          ],
          [
           2020
          ],
          [
           2020
          ],
          [
           2020
          ],
          [
           2020
          ],
          [
           2020
          ],
          [
           2020
          ],
          [
           2020
          ],
          [
           2020
          ],
          [
           2020
          ],
          [
           2020
          ],
          [
           2020
          ],
          [
           2020
          ],
          [
           2020
          ],
          [
           2020
          ],
          [
           2020
          ],
          [
           2020
          ],
          [
           2020
          ],
          [
           2020
          ],
          [
           2020
          ],
          [
           2020
          ],
          [
           2020
          ],
          [
           2020
          ],
          [
           2020
          ],
          [
           2020
          ],
          [
           2020
          ],
          [
           2020
          ],
          [
           2020
          ],
          [
           2020
          ],
          [
           2020
          ],
          [
           2020
          ],
          [
           2020
          ],
          [
           2020
          ],
          [
           2020
          ],
          [
           2020
          ],
          [
           2020
          ],
          [
           2020
          ],
          [
           2020
          ],
          [
           2020
          ],
          [
           2020
          ],
          [
           2020
          ],
          [
           2020
          ],
          [
           2020
          ],
          [
           2020
          ],
          [
           2020
          ],
          [
           2020
          ],
          [
           2020
          ],
          [
           2020
          ],
          [
           2020
          ],
          [
           2020
          ],
          [
           2020
          ],
          [
           2020
          ],
          [
           2020
          ],
          [
           2020
          ],
          [
           2020
          ],
          [
           2020
          ],
          [
           2020
          ],
          [
           2020
          ],
          [
           2020
          ],
          [
           2020
          ],
          [
           2020
          ],
          [
           2020
          ],
          [
           2020
          ],
          [
           2020
          ],
          [
           2020
          ],
          [
           2020
          ],
          [
           2020
          ],
          [
           2020
          ],
          [
           2020
          ],
          [
           2020
          ],
          [
           2020
          ],
          [
           2020
          ],
          [
           2020
          ],
          [
           2020
          ],
          [
           2020
          ],
          [
           2020
          ],
          [
           2020
          ],
          [
           2020
          ],
          [
           2021
          ],
          [
           2020
          ],
          [
           2020
          ],
          [
           2020
          ],
          [
           2020
          ],
          [
           2020
          ],
          [
           2020
          ],
          [
           2020
          ],
          [
           2020
          ],
          [
           2020
          ],
          [
           2020
          ],
          [
           2020
          ],
          [
           2020
          ],
          [
           2020
          ],
          [
           2020
          ],
          [
           2020
          ],
          [
           2020
          ],
          [
           2020
          ],
          [
           2020
          ],
          [
           2020
          ],
          [
           2020
          ],
          [
           2020
          ],
          [
           2020
          ],
          [
           2020
          ],
          [
           2020
          ],
          [
           2020
          ],
          [
           2020
          ],
          [
           2020
          ],
          [
           2020
          ],
          [
           2020
          ],
          [
           2020
          ],
          [
           2020
          ],
          [
           2020
          ],
          [
           2020
          ],
          [
           2020
          ],
          [
           2020
          ],
          [
           2020
          ],
          [
           2020
          ],
          [
           2020
          ],
          [
           2020
          ],
          [
           2020
          ],
          [
           2020
          ],
          [
           2020
          ],
          [
           2020
          ],
          [
           2020
          ],
          [
           2020
          ],
          [
           2020
          ],
          [
           2020
          ],
          [
           2020
          ],
          [
           2020
          ],
          [
           2020
          ],
          [
           2020
          ],
          [
           2020
          ],
          [
           2020
          ],
          [
           2020
          ],
          [
           2020
          ],
          [
           2020
          ],
          [
           2020
          ],
          [
           2020
          ],
          [
           2020
          ],
          [
           2020
          ],
          [
           2020
          ],
          [
           2020
          ],
          [
           2020
          ],
          [
           2020
          ],
          [
           2020
          ],
          [
           2020
          ],
          [
           2020
          ],
          [
           2020
          ],
          [
           2020
          ],
          [
           2020
          ],
          [
           2020
          ],
          [
           2020
          ],
          [
           2020
          ],
          [
           2020
          ],
          [
           2020
          ],
          [
           2020
          ],
          [
           2020
          ],
          [
           2020
          ],
          [
           2020
          ],
          [
           2020
          ],
          [
           2020
          ],
          [
           2020
          ],
          [
           2019
          ],
          [
           2020
          ],
          [
           2020
          ],
          [
           2020
          ],
          [
           2019
          ],
          [
           2019
          ],
          [
           2019
          ],
          [
           2020
          ],
          [
           2019
          ],
          [
           2020
          ],
          [
           2019
          ],
          [
           2020
          ],
          [
           2019
          ],
          [
           2020
          ],
          [
           2019
          ],
          [
           2019
          ],
          [
           2021
          ],
          [
           2019
          ],
          [
           2020
          ],
          [
           2019
          ],
          [
           2019
          ],
          [
           2019
          ],
          [
           2019
          ],
          [
           2019
          ],
          [
           2019
          ],
          [
           2019
          ],
          [
           2019
          ],
          [
           2019
          ],
          [
           2019
          ],
          [
           2019
          ],
          [
           2019
          ],
          [
           2021
          ],
          [
           2019
          ],
          [
           2020
          ],
          [
           2020
          ],
          [
           2019
          ],
          [
           2020
          ],
          [
           2019
          ],
          [
           2019
          ],
          [
           2019
          ],
          [
           2019
          ],
          [
           2019
          ],
          [
           2020
          ],
          [
           2019
          ],
          [
           2019
          ],
          [
           2019
          ],
          [
           2019
          ],
          [
           2019
          ],
          [
           2019
          ],
          [
           2019
          ],
          [
           2019
          ],
          [
           2019
          ],
          [
           2019
          ],
          [
           2019
          ],
          [
           2020
          ],
          [
           2019
          ],
          [
           2019
          ],
          [
           2019
          ],
          [
           2019
          ],
          [
           2020
          ],
          [
           2020
          ],
          [
           2019
          ],
          [
           2020
          ],
          [
           2020
          ],
          [
           2019
          ],
          [
           2020
          ],
          [
           2019
          ],
          [
           2019
          ],
          [
           2019
          ],
          [
           2019
          ],
          [
           2019
          ],
          [
           2019
          ],
          [
           2019
          ],
          [
           2019
          ],
          [
           2019
          ],
          [
           2020
          ],
          [
           2020
          ],
          [
           2019
          ],
          [
           2019
          ],
          [
           2019
          ],
          [
           2019
          ],
          [
           2019
          ],
          [
           2020
          ],
          [
           2019
          ],
          [
           2019
          ],
          [
           2019
          ],
          [
           2021
          ],
          [
           2019
          ],
          [
           2019
          ],
          [
           2019
          ],
          [
           2019
          ],
          [
           2019
          ],
          [
           2019
          ],
          [
           2020
          ],
          [
           2019
          ],
          [
           2019
          ],
          [
           2019
          ],
          [
           2019
          ],
          [
           2019
          ],
          [
           2019
          ],
          [
           2019
          ],
          [
           2019
          ],
          [
           2019
          ],
          [
           2019
          ],
          [
           2019
          ],
          [
           2019
          ],
          [
           2020
          ],
          [
           2019
          ],
          [
           2019
          ],
          [
           2019
          ],
          [
           2020
          ],
          [
           2019
          ],
          [
           2019
          ],
          [
           2019
          ],
          [
           2019
          ],
          [
           2019
          ],
          [
           2019
          ],
          [
           2019
          ],
          [
           2019
          ],
          [
           2019
          ],
          [
           2019
          ],
          [
           2019
          ],
          [
           2019
          ],
          [
           2019
          ],
          [
           2019
          ],
          [
           2019
          ],
          [
           2019
          ],
          [
           2019
          ],
          [
           2019
          ],
          [
           2019
          ],
          [
           2019
          ],
          [
           2019
          ],
          [
           2019
          ],
          [
           2019
          ],
          [
           2019
          ],
          [
           2019
          ],
          [
           2019
          ],
          [
           2019
          ],
          [
           2019
          ],
          [
           2019
          ],
          [
           2019
          ],
          [
           2019
          ],
          [
           2019
          ],
          [
           2019
          ],
          [
           2019
          ],
          [
           2019
          ],
          [
           2019
          ],
          [
           2019
          ],
          [
           2019
          ],
          [
           2019
          ],
          [
           2019
          ],
          [
           2019
          ],
          [
           2019
          ],
          [
           2019
          ],
          [
           2019
          ],
          [
           2019
          ],
          [
           2019
          ],
          [
           2019
          ],
          [
           2019
          ],
          [
           2019
          ],
          [
           2019
          ],
          [
           2020
          ],
          [
           2019
          ],
          [
           2020
          ],
          [
           2019
          ],
          [
           2019
          ],
          [
           2019
          ],
          [
           2019
          ],
          [
           2019
          ],
          [
           2019
          ],
          [
           2019
          ],
          [
           2019
          ],
          [
           2019
          ],
          [
           2019
          ],
          [
           2019
          ],
          [
           2019
          ],
          [
           2019
          ],
          [
           2019
          ],
          [
           2019
          ],
          [
           2019
          ],
          [
           2019
          ],
          [
           2019
          ],
          [
           2019
          ],
          [
           2019
          ],
          [
           2019
          ],
          [
           2019
          ],
          [
           2019
          ],
          [
           2019
          ],
          [
           2019
          ],
          [
           2019
          ],
          [
           2019
          ],
          [
           2019
          ],
          [
           2019
          ],
          [
           2019
          ],
          [
           2019
          ],
          [
           2019
          ],
          [
           2019
          ],
          [
           2019
          ],
          [
           2019
          ],
          [
           2019
          ],
          [
           2019
          ],
          [
           2019
          ],
          [
           2019
          ],
          [
           2019
          ],
          [
           2019
          ],
          [
           2019
          ],
          [
           2019
          ],
          [
           2019
          ],
          [
           2019
          ],
          [
           2019
          ],
          [
           2019
          ],
          [
           2019
          ],
          [
           2019
          ],
          [
           2019
          ],
          [
           2019
          ],
          [
           2019
          ],
          [
           2019
          ],
          [
           2019
          ],
          [
           2019
          ],
          [
           2019
          ],
          [
           2019
          ],
          [
           2019
          ],
          [
           2019
          ],
          [
           2019
          ],
          [
           2019
          ],
          [
           2019
          ],
          [
           2019
          ],
          [
           2019
          ],
          [
           2019
          ],
          [
           2019
          ],
          [
           2019
          ],
          [
           2019
          ],
          [
           2019
          ],
          [
           2019
          ],
          [
           2019
          ],
          [
           2019
          ],
          [
           2019
          ],
          [
           2019
          ],
          [
           2019
          ],
          [
           2019
          ],
          [
           2019
          ],
          [
           2019
          ],
          [
           2019
          ],
          [
           2019
          ],
          [
           2019
          ],
          [
           2019
          ],
          [
           2019
          ],
          [
           2019
          ],
          [
           2019
          ],
          [
           2019
          ],
          [
           2020
          ],
          [
           2019
          ],
          [
           2019
          ],
          [
           2019
          ],
          [
           2019
          ],
          [
           2019
          ],
          [
           2019
          ],
          [
           2019
          ],
          [
           2019
          ],
          [
           2019
          ],
          [
           2019
          ],
          [
           2019
          ],
          [
           2019
          ],
          [
           2019
          ],
          [
           2019
          ],
          [
           2019
          ],
          [
           2019
          ],
          [
           2019
          ],
          [
           2019
          ],
          [
           2019
          ],
          [
           2019
          ],
          [
           2019
          ],
          [
           2019
          ],
          [
           2019
          ],
          [
           2019
          ],
          [
           2019
          ],
          [
           2019
          ],
          [
           2019
          ],
          [
           2019
          ],
          [
           2019
          ],
          [
           2019
          ],
          [
           2019
          ],
          [
           2019
          ],
          [
           2019
          ],
          [
           2019
          ],
          [
           2019
          ],
          [
           2019
          ],
          [
           2019
          ],
          [
           2019
          ],
          [
           2019
          ],
          [
           2019
          ],
          [
           2019
          ],
          [
           2019
          ],
          [
           2019
          ],
          [
           2019
          ],
          [
           2019
          ],
          [
           2019
          ],
          [
           2019
          ],
          [
           2019
          ],
          [
           2019
          ],
          [
           2019
          ],
          [
           2019
          ],
          [
           2019
          ],
          [
           2019
          ],
          [
           2019
          ],
          [
           2019
          ],
          [
           2019
          ],
          [
           2019
          ],
          [
           2019
          ],
          [
           2019
          ],
          [
           2019
          ],
          [
           2019
          ],
          [
           2019
          ],
          [
           2019
          ],
          [
           2019
          ],
          [
           2019
          ],
          [
           2019
          ],
          [
           2019
          ],
          [
           2019
          ],
          [
           2019
          ],
          [
           2020
          ],
          [
           2019
          ],
          [
           2019
          ],
          [
           2019
          ],
          [
           2019
          ],
          [
           2019
          ],
          [
           2019
          ],
          [
           2019
          ],
          [
           2019
          ],
          [
           2019
          ],
          [
           2019
          ],
          [
           2019
          ],
          [
           2019
          ],
          [
           2019
          ],
          [
           2019
          ],
          [
           2018
          ],
          [
           2019
          ],
          [
           2021
          ],
          [
           2018
          ],
          [
           2019
          ],
          [
           2018
          ],
          [
           2019
          ],
          [
           2018
          ],
          [
           2018
          ],
          [
           2019
          ],
          [
           2018
          ],
          [
           2018
          ],
          [
           2018
          ],
          [
           2019
          ],
          [
           2019
          ],
          [
           2018
          ],
          [
           2018
          ],
          [
           2018
          ],
          [
           2019
          ],
          [
           2018
          ],
          [
           2019
          ],
          [
           2018
          ],
          [
           2018
          ],
          [
           2018
          ],
          [
           2021
          ],
          [
           2018
          ],
          [
           2018
          ],
          [
           2018
          ],
          [
           2018
          ],
          [
           2018
          ],
          [
           2018
          ],
          [
           2019
          ],
          [
           2018
          ],
          [
           2018
          ],
          [
           2019
          ],
          [
           2019
          ],
          [
           2018
          ],
          [
           2018
          ],
          [
           2018
          ],
          [
           2018
          ],
          [
           2018
          ],
          [
           2018
          ],
          [
           2019
          ],
          [
           2018
          ],
          [
           2018
          ],
          [
           2018
          ],
          [
           2018
          ],
          [
           2018
          ],
          [
           2018
          ],
          [
           2018
          ],
          [
           2018
          ],
          [
           2018
          ],
          [
           2018
          ],
          [
           2018
          ],
          [
           2018
          ],
          [
           2020
          ],
          [
           2018
          ],
          [
           2018
          ],
          [
           2018
          ],
          [
           2018
          ],
          [
           2018
          ],
          [
           2018
          ],
          [
           2020
          ],
          [
           2018
          ],
          [
           2018
          ],
          [
           2018
          ],
          [
           2018
          ],
          [
           2018
          ],
          [
           2018
          ],
          [
           2018
          ],
          [
           2018
          ],
          [
           2018
          ],
          [
           2019
          ],
          [
           2021
          ],
          [
           2019
          ],
          [
           2019
          ],
          [
           2018
          ],
          [
           2018
          ],
          [
           2018
          ],
          [
           2018
          ],
          [
           2018
          ],
          [
           2018
          ],
          [
           2018
          ],
          [
           2018
          ],
          [
           2018
          ],
          [
           2019
          ],
          [
           2018
          ],
          [
           2018
          ],
          [
           2018
          ],
          [
           2019
          ],
          [
           2019
          ],
          [
           2018
          ],
          [
           2018
          ],
          [
           2018
          ],
          [
           2018
          ],
          [
           2018
          ],
          [
           2019
          ],
          [
           2019
          ],
          [
           2018
          ],
          [
           2019
          ],
          [
           2019
          ],
          [
           2019
          ],
          [
           2019
          ],
          [
           2019
          ],
          [
           2018
          ],
          [
           2018
          ],
          [
           2020
          ],
          [
           2018
          ],
          [
           2018
          ],
          [
           2018
          ],
          [
           2019
          ],
          [
           2018
          ],
          [
           2018
          ],
          [
           2018
          ],
          [
           2018
          ],
          [
           2019
          ],
          [
           2018
          ],
          [
           2019
          ],
          [
           2019
          ],
          [
           2020
          ],
          [
           2019
          ],
          [
           2019
          ],
          [
           2019
          ],
          [
           2018
          ],
          [
           2018
          ],
          [
           2019
          ],
          [
           2020
          ],
          [
           2021
          ],
          [
           2021
          ],
          [
           2021
          ],
          [
           2021
          ]
         ],
         "domain": {
          "x": [
           0,
           1
          ],
          "y": [
           0,
           1
          ]
         },
         "hovertemplate": "Resolved=%{customdata[0]}<br>Custom field (Story Points)=%{value}<extra></extra>",
         "labels": [
          2021,
          2021,
          2021,
          2021,
          2021,
          2021,
          2021,
          2021,
          2020,
          2021,
          2020,
          2020,
          2020,
          2020,
          2020,
          2020,
          2020,
          2020,
          2020,
          2020,
          2020,
          2020,
          2020,
          2020,
          2020,
          2020,
          2020,
          2020,
          2020,
          2020,
          2020,
          2020,
          2021,
          2020,
          2020,
          2020,
          2020,
          2020,
          2020,
          2020,
          2020,
          2020,
          2020,
          2020,
          2020,
          2020,
          2020,
          2020,
          2020,
          2020,
          2020,
          2020,
          2020,
          2020,
          2020,
          2020,
          2020,
          2020,
          2020,
          2020,
          2020,
          2020,
          2020,
          2020,
          2020,
          2020,
          2020,
          2020,
          2020,
          2020,
          2020,
          2020,
          2020,
          2020,
          2020,
          2020,
          2020,
          2020,
          2020,
          2020,
          2020,
          2020,
          2020,
          2020,
          2020,
          2020,
          2020,
          2020,
          2020,
          2020,
          2020,
          2020,
          2020,
          2020,
          2020,
          2020,
          2020,
          2020,
          2020,
          2020,
          2020,
          2020,
          2020,
          2020,
          2020,
          2020,
          2020,
          2020,
          2020,
          2020,
          2020,
          2020,
          2020,
          2020,
          2020,
          2020,
          2020,
          2020,
          2020,
          2020,
          2020,
          2020,
          2020,
          2020,
          2020,
          2020,
          2020,
          2020,
          2020,
          2020,
          2020,
          2020,
          2020,
          2020,
          2020,
          2020,
          2020,
          2020,
          2020,
          2020,
          2020,
          2020,
          2020,
          2020,
          2020,
          2020,
          2020,
          2020,
          2020,
          2020,
          2020,
          2020,
          2020,
          2020,
          2020,
          2020,
          2020,
          2020,
          2020,
          2020,
          2020,
          2020,
          2020,
          2020,
          2020,
          2020,
          2020,
          2020,
          2020,
          2020,
          2020,
          2020,
          2020,
          2020,
          2020,
          2020,
          2020,
          2020,
          2020,
          2020,
          2020,
          2020,
          2020,
          2020,
          2020,
          2020,
          2020,
          2020,
          2020,
          2020,
          2020,
          2020,
          2020,
          2020,
          2020,
          2020,
          2020,
          2020,
          2019,
          2019,
          2020,
          2020,
          2020,
          2019,
          2019,
          2019,
          2019,
          2020,
          2020,
          2019,
          2019,
          2019,
          2019,
          2019,
          2019,
          2019,
          2019,
          2019,
          2019,
          2019,
          2019,
          2019,
          2019,
          2019,
          2019,
          2019,
          2019,
          2019,
          2019,
          2019,
          2019,
          2019,
          2019,
          2019,
          2020,
          2019,
          2019,
          2019,
          2019,
          2019,
          2019,
          2019,
          2019,
          2019,
          2019,
          2019,
          2019,
          2019,
          2019,
          2019,
          2019,
          2019,
          2019,
          2019,
          2019,
          2020,
          2019,
          2019,
          2019,
          2019,
          2019,
          2019,
          2019,
          2019,
          2019,
          2019,
          2019,
          2019,
          2019,
          2019,
          2020,
          2019,
          2019,
          2019,
          2019,
          2019,
          2020,
          2019,
          2019,
          2019,
          2020,
          2019,
          2019,
          2019,
          2019,
          2019,
          2019,
          2020,
          2019,
          2019,
          2019,
          2019,
          2019,
          2019,
          2019,
          2019,
          2019,
          2019,
          2019,
          2019,
          2019,
          2020,
          2019,
          2019,
          2019,
          2019,
          2019,
          2019,
          2019,
          2019,
          2019,
          2020,
          2019,
          2019,
          2019,
          2019,
          2019,
          2019,
          2019,
          2019,
          2019,
          2019,
          2019,
          2019,
          2019,
          2019,
          2019,
          2019,
          2020,
          2019,
          2019,
          2019,
          2019,
          2019,
          2019,
          2019,
          2019,
          2019,
          2019,
          2019,
          2019,
          2020,
          2019,
          2019,
          2019,
          2019,
          2019,
          2019,
          2019,
          2019,
          2019,
          2019,
          2019,
          2019,
          2019,
          2019,
          2019,
          2019,
          2019,
          2019,
          2019,
          2019,
          2019,
          2019,
          2019,
          2019,
          2019,
          2019,
          2019,
          2019,
          2019,
          2019,
          2019,
          2019,
          2019,
          2019,
          2019,
          2019,
          2019,
          2019,
          2019,
          2019,
          2019,
          2019,
          2019,
          2019,
          2019,
          2018,
          2019,
          2019,
          2019,
          2018,
          2018,
          2018,
          2018,
          2018,
          2018,
          2018,
          2019,
          2019,
          2019,
          2018,
          2018,
          2018,
          2018,
          2018,
          2018,
          2018,
          2018,
          2019,
          2019,
          2019,
          2019,
          2018,
          2018,
          2019,
          2018,
          2018,
          2018,
          2020,
          2019,
          2018,
          2018,
          2018,
          2018,
          2019,
          2018,
          2018,
          2018,
          2019,
          2018,
          2019,
          2018,
          2019,
          2018,
          2018,
          2018,
          2018,
          2018,
          2018,
          2019,
          2020,
          2018,
          2020,
          2019,
          2018,
          2017,
          2020,
          2020,
          2019,
          2020,
          2020,
          2018,
          2019,
          2018,
          2019,
          2019,
          2019,
          2019,
          2018,
          2018,
          2018,
          2018,
          2018,
          2018,
          2020,
          2019,
          2019,
          2019,
          2018,
          2019,
          2018,
          2018,
          2018,
          2018,
          2019,
          2018,
          2019,
          2018,
          2018,
          2019,
          2019,
          2021,
          2021,
          2021,
          2021,
          2021,
          2021,
          2021,
          2021,
          2021,
          2021,
          2021,
          2021,
          2021,
          2021,
          2021,
          2021,
          2021,
          2021,
          2021,
          2021,
          2021,
          2021,
          2021,
          2021,
          2021,
          2021,
          2021,
          2021,
          2021,
          2021,
          2021,
          2021,
          2021,
          2021,
          2021,
          2021,
          2021,
          2021,
          2021,
          2021,
          2021,
          2021,
          2021,
          2021,
          2021,
          2021,
          2021,
          2021,
          2021,
          2021,
          2021,
          2021,
          2021,
          2021,
          2021,
          2021,
          2021,
          2021,
          2021,
          2021,
          2021,
          2021,
          2021,
          2021,
          2021,
          2021,
          2021,
          2021,
          2021,
          2021,
          2021,
          2021,
          2021,
          2021,
          2021,
          2021,
          2021,
          2021,
          2021,
          2021,
          2021,
          2020,
          2020,
          2021,
          2021,
          2020,
          2021,
          2021,
          2021,
          2021,
          2020,
          2020,
          2020,
          2021,
          2021,
          2021,
          2020,
          2020,
          2020,
          2020,
          2020,
          2020,
          2020,
          2020,
          2020,
          2020,
          2020,
          2020,
          2020,
          2021,
          2020,
          2020,
          2020,
          2020,
          2020,
          2021,
          2020,
          2020,
          2020,
          2020,
          2021,
          2020,
          2020,
          2020,
          2020,
          2020,
          2020,
          2020,
          2020,
          2020,
          2020,
          2020,
          2020,
          2020,
          2020,
          2020,
          2020,
          2020,
          2020,
          2020,
          2020,
          2021,
          2020,
          2020,
          2020,
          2020,
          2020,
          2020,
          2020,
          2020,
          2020,
          2020,
          2020,
          2020,
          2020,
          2020,
          2020,
          2020,
          2021,
          2021,
          2020,
          2020,
          2020,
          2020,
          2020,
          2020,
          2020,
          2020,
          2020,
          2020,
          2020,
          2020,
          2020,
          2020,
          2020,
          2020,
          2020,
          2020,
          2020,
          2021,
          2020,
          2020,
          2020,
          2020,
          2020,
          2020,
          2020,
          2020,
          2020,
          2021,
          2020,
          2020,
          2020,
          2020,
          2020,
          2020,
          2020,
          2021,
          2020,
          2020,
          2021,
          2020,
          2020,
          2020,
          2020,
          2020,
          2020,
          2020,
          2020,
          2020,
          2020,
          2020,
          2020,
          2020,
          2020,
          2020,
          2020,
          2020,
          2020,
          2020,
          2020,
          2020,
          2020,
          2020,
          2020,
          2020,
          2020,
          2020,
          2020,
          2020,
          2021,
          2020,
          2020,
          2020,
          2020,
          2020,
          2020,
          2020,
          2020,
          2020,
          2020,
          2020,
          2020,
          2020,
          2020,
          2020,
          2020,
          2020,
          2020,
          2020,
          2020,
          2020,
          2020,
          2021,
          2020,
          2020,
          2020,
          2020,
          2020,
          2020,
          2020,
          2020,
          2020,
          2020,
          2020,
          2020,
          2020,
          2020,
          2020,
          2020,
          2020,
          2020,
          2020,
          2021,
          2020,
          2020,
          2020,
          2020,
          2020,
          2020,
          2020,
          2020,
          2020,
          2020,
          2020,
          2020,
          2020,
          2020,
          2020,
          2020,
          2020,
          2020,
          2020,
          2020,
          2020,
          2020,
          2020,
          2020,
          2020,
          2020,
          2020,
          2020,
          2020,
          2020,
          2020,
          2020,
          2020,
          2020,
          2020,
          2020,
          2020,
          2020,
          2020,
          2020,
          2020,
          2020,
          2020,
          2020,
          2020,
          2020,
          2020,
          2021,
          2020,
          2020,
          2020,
          2020,
          2020,
          2020,
          2020,
          2020,
          2020,
          2020,
          2020,
          2020,
          2020,
          2020,
          2021,
          2020,
          2020,
          2021,
          2021,
          2020,
          2020,
          2021,
          2020,
          2020,
          2020,
          2020,
          2020,
          2020,
          2020,
          2020,
          2020,
          2020,
          2020,
          2020,
          2020,
          2020,
          2020,
          2020,
          2020,
          2020,
          2020,
          2020,
          2020,
          2020,
          2020,
          2020,
          2020,
          2020,
          2020,
          2020,
          2020,
          2020,
          2020,
          2020,
          2020,
          2020,
          2020,
          2020,
          2020,
          2020,
          2020,
          2020,
          2020,
          2020,
          2020,
          2020,
          2020,
          2020,
          2020,
          2020,
          2020,
          2020,
          2020,
          2020,
          2020,
          2020,
          2020,
          2020,
          2020,
          2020,
          2020,
          2020,
          2020,
          2020,
          2020,
          2020,
          2020,
          2020,
          2020,
          2020,
          2020,
          2020,
          2020,
          2020,
          2020,
          2020,
          2020,
          2020,
          2020,
          2020,
          2020,
          2020,
          2020,
          2020,
          2020,
          2020,
          2020,
          2020,
          2020,
          2020,
          2020,
          2020,
          2020,
          2020,
          2020,
          2020,
          2020,
          2020,
          2020,
          2020,
          2020,
          2020,
          2020,
          2020,
          2020,
          2020,
          2020,
          2020,
          2020,
          2020,
          2020,
          2020,
          2020,
          2020,
          2020,
          2020,
          2020,
          2020,
          2020,
          2020,
          2020,
          2020,
          2020,
          2020,
          2020,
          2020,
          2020,
          2020,
          2021,
          2020,
          2020,
          2020,
          2020,
          2020,
          2020,
          2020,
          2020,
          2020,
          2020,
          2020,
          2020,
          2020,
          2020,
          2020,
          2020,
          2020,
          2020,
          2020,
          2020,
          2020,
          2020,
          2020,
          2020,
          2020,
          2020,
          2020,
          2020,
          2020,
          2020,
          2020,
          2020,
          2020,
          2020,
          2020,
          2020,
          2020,
          2020,
          2020,
          2020,
          2020,
          2020,
          2020,
          2020,
          2020,
          2020,
          2020,
          2020,
          2020,
          2020,
          2020,
          2020,
          2020,
          2020,
          2020,
          2020,
          2020,
          2020,
          2020,
          2020,
          2020,
          2020,
          2020,
          2020,
          2020,
          2020,
          2020,
          2020,
          2020,
          2020,
          2020,
          2020,
          2020,
          2020,
          2020,
          2020,
          2020,
          2020,
          2020,
          2020,
          2020,
          2020,
          2019,
          2020,
          2020,
          2020,
          2019,
          2019,
          2019,
          2020,
          2019,
          2020,
          2019,
          2020,
          2019,
          2020,
          2019,
          2019,
          2021,
          2019,
          2020,
          2019,
          2019,
          2019,
          2019,
          2019,
          2019,
          2019,
          2019,
          2019,
          2019,
          2019,
          2019,
          2021,
          2019,
          2020,
          2020,
          2019,
          2020,
          2019,
          2019,
          2019,
          2019,
          2019,
          2020,
          2019,
          2019,
          2019,
          2019,
          2019,
          2019,
          2019,
          2019,
          2019,
          2019,
          2019,
          2020,
          2019,
          2019,
          2019,
          2019,
          2020,
          2020,
          2019,
          2020,
          2020,
          2019,
          2020,
          2019,
          2019,
          2019,
          2019,
          2019,
          2019,
          2019,
          2019,
          2019,
          2020,
          2020,
          2019,
          2019,
          2019,
          2019,
          2019,
          2020,
          2019,
          2019,
          2019,
          2021,
          2019,
          2019,
          2019,
          2019,
          2019,
          2019,
          2020,
          2019,
          2019,
          2019,
          2019,
          2019,
          2019,
          2019,
          2019,
          2019,
          2019,
          2019,
          2019,
          2020,
          2019,
          2019,
          2019,
          2020,
          2019,
          2019,
          2019,
          2019,
          2019,
          2019,
          2019,
          2019,
          2019,
          2019,
          2019,
          2019,
          2019,
          2019,
          2019,
          2019,
          2019,
          2019,
          2019,
          2019,
          2019,
          2019,
          2019,
          2019,
          2019,
          2019,
          2019,
          2019,
          2019,
          2019,
          2019,
          2019,
          2019,
          2019,
          2019,
          2019,
          2019,
          2019,
          2019,
          2019,
          2019,
          2019,
          2019,
          2019,
          2019,
          2019,
          2019,
          2019,
          2019,
          2019,
          2020,
          2019,
          2020,
          2019,
          2019,
          2019,
          2019,
          2019,
          2019,
          2019,
          2019,
          2019,
          2019,
          2019,
          2019,
          2019,
          2019,
          2019,
          2019,
          2019,
          2019,
          2019,
          2019,
          2019,
          2019,
          2019,
          2019,
          2019,
          2019,
          2019,
          2019,
          2019,
          2019,
          2019,
          2019,
          2019,
          2019,
          2019,
          2019,
          2019,
          2019,
          2019,
          2019,
          2019,
          2019,
          2019,
          2019,
          2019,
          2019,
          2019,
          2019,
          2019,
          2019,
          2019,
          2019,
          2019,
          2019,
          2019,
          2019,
          2019,
          2019,
          2019,
          2019,
          2019,
          2019,
          2019,
          2019,
          2019,
          2019,
          2019,
          2019,
          2019,
          2019,
          2019,
          2019,
          2019,
          2019,
          2019,
          2019,
          2019,
          2019,
          2019,
          2019,
          2019,
          2019,
          2019,
          2019,
          2019,
          2019,
          2020,
          2019,
          2019,
          2019,
          2019,
          2019,
          2019,
          2019,
          2019,
          2019,
          2019,
          2019,
          2019,
          2019,
          2019,
          2019,
          2019,
          2019,
          2019,
          2019,
          2019,
          2019,
          2019,
          2019,
          2019,
          2019,
          2019,
          2019,
          2019,
          2019,
          2019,
          2019,
          2019,
          2019,
          2019,
          2019,
          2019,
          2019,
          2019,
          2019,
          2019,
          2019,
          2019,
          2019,
          2019,
          2019,
          2019,
          2019,
          2019,
          2019,
          2019,
          2019,
          2019,
          2019,
          2019,
          2019,
          2019,
          2019,
          2019,
          2019,
          2019,
          2019,
          2019,
          2019,
          2019,
          2019,
          2019,
          2019,
          2019,
          2019,
          2020,
          2019,
          2019,
          2019,
          2019,
          2019,
          2019,
          2019,
          2019,
          2019,
          2019,
          2019,
          2019,
          2019,
          2019,
          2018,
          2019,
          2021,
          2018,
          2019,
          2018,
          2019,
          2018,
          2018,
          2019,
          2018,
          2018,
          2018,
          2019,
          2019,
          2018,
          2018,
          2018,
          2019,
          2018,
          2019,
          2018,
          2018,
          2018,
          2021,
          2018,
          2018,
          2018,
          2018,
          2018,
          2018,
          2019,
          2018,
          2018,
          2019,
          2019,
          2018,
          2018,
          2018,
          2018,
          2018,
          2018,
          2019,
          2018,
          2018,
          2018,
          2018,
          2018,
          2018,
          2018,
          2018,
          2018,
          2018,
          2018,
          2018,
          2020,
          2018,
          2018,
          2018,
          2018,
          2018,
          2018,
          2020,
          2018,
          2018,
          2018,
          2018,
          2018,
          2018,
          2018,
          2018,
          2018,
          2019,
          2021,
          2019,
          2019,
          2018,
          2018,
          2018,
          2018,
          2018,
          2018,
          2018,
          2018,
          2018,
          2019,
          2018,
          2018,
          2018,
          2019,
          2019,
          2018,
          2018,
          2018,
          2018,
          2018,
          2019,
          2019,
          2018,
          2019,
          2019,
          2019,
          2019,
          2019,
          2018,
          2018,
          2020,
          2018,
          2018,
          2018,
          2019,
          2018,
          2018,
          2018,
          2018,
          2019,
          2018,
          2019,
          2019,
          2020,
          2019,
          2019,
          2019,
          2018,
          2018,
          2019,
          2020,
          2021,
          2021,
          2021,
          2021
         ],
         "legendgroup": "",
         "name": "",
         "showlegend": true,
         "textinfo": "percent+label",
         "textposition": "inside",
         "type": "pie",
         "values": [
          2,
          2,
          1,
          2,
          3,
          2,
          2,
          1,
          1,
          3,
          3,
          1,
          1,
          1,
          8,
          8,
          5,
          1,
          3,
          1,
          3,
          3,
          1,
          1,
          3,
          1,
          8,
          8,
          8,
          1,
          8,
          1,
          1,
          4,
          3,
          5,
          1,
          5,
          1,
          5,
          1,
          8,
          5,
          1,
          5,
          5,
          5,
          3,
          8,
          2,
          2,
          1,
          3,
          5,
          8,
          8,
          13,
          1,
          1,
          2,
          2,
          2,
          1,
          2,
          5,
          2,
          1,
          1,
          2,
          2,
          1,
          1,
          1,
          1,
          3,
          3,
          1,
          2,
          1,
          1,
          1,
          1,
          1,
          5,
          4,
          1,
          1,
          1,
          1,
          1,
          3,
          8,
          1,
          1,
          1,
          3,
          1,
          1,
          3,
          1,
          1,
          2,
          3,
          3,
          3,
          3,
          2,
          1,
          1,
          5,
          2,
          1,
          1,
          1,
          1,
          3,
          3,
          8,
          8,
          5,
          8,
          8,
          5,
          5,
          8,
          5,
          3,
          3,
          1,
          5,
          1,
          1,
          5,
          2,
          1,
          5,
          5,
          8,
          1,
          8,
          1,
          1,
          3,
          1,
          2,
          1,
          3,
          1,
          2,
          1,
          2,
          13,
          4,
          4,
          5,
          1,
          1,
          1,
          1,
          3,
          1,
          2,
          1,
          1,
          1,
          2,
          1,
          8,
          13,
          2,
          1,
          8,
          3,
          1,
          1,
          1,
          1,
          1,
          1,
          1,
          1,
          1,
          1,
          3,
          2,
          1,
          3,
          3,
          3,
          1,
          3,
          13,
          3,
          5,
          5,
          1,
          3,
          3,
          2,
          1,
          2,
          3,
          1,
          10,
          2,
          1,
          10,
          1,
          1,
          2,
          1,
          2,
          2,
          5,
          5,
          3,
          3,
          1,
          1,
          1,
          5,
          5,
          1,
          2,
          3,
          1,
          8,
          1,
          1,
          1,
          1,
          1,
          1,
          1,
          1,
          1,
          2,
          3,
          1,
          1,
          2,
          8,
          3,
          2,
          3,
          8,
          1,
          1,
          1,
          1,
          1,
          5,
          1,
          5,
          13,
          1,
          1,
          2,
          3,
          5,
          5,
          1,
          5,
          8,
          2,
          3,
          13,
          5,
          1,
          3,
          3,
          13,
          2,
          2,
          8,
          1,
          3,
          3,
          8,
          8,
          1,
          5,
          1,
          1,
          1,
          1,
          1,
          1,
          2,
          2,
          1,
          2,
          1,
          1,
          1,
          3,
          3,
          3,
          2,
          1,
          1,
          8,
          2,
          2,
          1,
          1,
          1,
          3,
          1,
          1,
          1,
          1,
          1,
          1,
          2,
          2,
          8,
          1,
          2,
          1,
          1,
          1,
          1,
          1,
          2,
          2,
          1,
          1,
          1,
          1,
          5,
          1,
          2,
          2,
          3,
          1,
          2,
          1,
          1,
          2,
          2,
          1,
          1,
          1,
          2,
          1,
          3,
          1,
          3,
          1,
          1,
          1,
          1,
          1,
          8,
          1,
          1,
          2,
          1,
          1,
          3,
          1,
          1,
          1,
          1,
          1,
          1,
          1,
          8,
          8,
          2,
          3,
          1,
          3,
          1,
          1,
          1,
          8,
          1,
          1,
          8,
          2,
          5,
          2,
          1,
          2,
          1,
          1,
          3,
          1,
          3,
          1,
          1,
          2,
          2,
          2,
          3,
          1,
          3,
          3,
          3,
          1,
          3,
          1,
          1,
          1,
          1,
          1,
          1,
          3,
          1,
          1,
          1,
          2,
          1,
          3,
          1,
          1,
          1,
          3,
          1,
          3,
          1,
          1,
          3,
          1,
          5,
          5,
          5,
          8,
          3,
          2,
          2,
          3,
          1,
          5,
          5,
          5,
          1,
          1,
          1,
          3,
          1,
          1,
          1,
          1,
          1,
          1,
          2,
          1,
          1,
          1,
          1,
          1,
          1,
          5,
          5,
          1,
          3,
          8,
          1,
          1,
          1,
          1,
          1,
          3,
          1,
          1,
          1,
          1,
          2,
          1,
          1,
          1,
          1,
          8,
          1,
          8,
          1,
          1,
          1,
          5,
          1,
          2,
          2,
          1,
          1,
          1,
          2,
          3,
          2,
          2,
          2,
          2,
          2,
          2,
          5,
          1,
          1,
          2,
          5,
          3,
          1,
          1,
          2,
          2,
          2,
          5,
          1,
          1,
          6,
          1,
          1,
          3,
          5,
          3,
          3,
          1,
          5,
          3,
          2,
          1,
          1,
          1,
          1,
          1,
          3,
          2,
          1,
          3,
          1,
          1,
          3,
          1,
          2,
          1,
          5,
          3,
          3,
          2,
          1,
          1,
          3,
          2,
          3,
          2,
          1,
          3,
          3,
          1,
          5,
          1,
          3,
          5,
          5,
          3,
          1,
          3,
          3,
          3,
          1,
          1,
          2,
          1,
          1,
          3,
          8,
          1,
          2,
          2,
          2,
          1,
          3,
          1,
          1,
          3,
          13,
          1,
          1,
          3,
          1,
          1,
          1,
          5,
          1,
          2,
          2,
          5,
          5,
          1,
          1,
          2,
          3,
          3,
          3,
          2,
          1,
          3,
          2,
          1,
          1,
          1,
          1,
          1,
          1,
          5,
          2,
          1,
          5,
          1,
          3,
          1,
          3,
          5,
          1,
          2,
          5,
          2,
          1,
          1,
          1,
          1,
          1,
          2,
          1,
          3,
          2,
          2,
          2,
          3,
          1,
          1,
          1,
          1,
          1,
          1,
          1,
          1,
          2,
          1,
          5,
          3,
          3,
          2,
          2,
          3,
          1,
          2,
          1,
          1,
          1,
          3,
          1,
          1,
          2,
          1,
          1,
          1,
          1,
          1,
          3,
          1,
          2,
          3,
          1,
          2,
          1,
          2,
          2,
          8,
          1,
          1,
          1,
          1,
          3,
          1,
          1,
          2,
          2,
          21,
          2,
          1,
          2,
          4,
          1,
          1,
          2,
          1,
          1,
          1,
          3,
          3,
          1,
          1,
          1,
          1,
          1,
          3,
          1,
          4,
          1,
          1,
          2,
          3,
          2,
          1,
          1,
          4,
          1,
          1,
          2,
          1,
          2,
          1,
          2,
          5,
          1,
          1,
          1,
          1,
          1,
          2,
          3,
          2,
          1,
          2,
          1,
          1,
          1,
          1,
          2,
          4,
          3,
          1,
          1,
          1,
          1,
          1,
          1,
          1,
          2,
          2,
          1,
          1,
          5,
          1,
          3,
          5,
          1,
          1,
          1,
          1,
          1,
          2,
          2,
          1,
          3,
          5,
          2,
          1,
          1,
          3,
          4,
          2,
          1,
          5,
          1,
          1,
          5,
          3,
          2,
          2,
          2,
          1,
          3,
          2,
          1,
          2,
          2,
          2,
          1,
          2,
          1,
          1,
          1,
          2,
          1,
          2,
          2,
          1,
          1,
          3,
          1,
          5,
          1,
          1,
          1,
          1,
          1,
          3,
          1,
          3,
          1,
          3,
          1,
          5,
          1,
          1,
          2,
          2,
          2,
          3,
          1,
          3,
          5,
          2,
          2,
          1,
          1,
          1,
          1,
          1,
          1,
          1,
          1,
          1,
          1,
          1,
          1,
          3,
          1,
          1,
          1,
          1,
          1,
          1,
          1,
          2,
          2,
          10,
          1,
          1,
          1,
          1,
          1,
          1,
          3,
          5,
          1,
          1,
          1,
          1,
          2,
          2,
          1,
          1,
          1,
          2,
          3,
          1,
          2,
          1,
          1,
          1,
          2,
          5,
          1,
          3,
          1,
          2,
          1,
          3,
          1,
          1,
          4,
          2,
          1,
          2,
          1,
          1,
          1,
          1.5,
          3,
          1,
          2,
          2,
          2,
          1,
          2,
          1,
          3,
          2,
          1,
          1,
          1,
          1,
          1,
          3,
          1,
          1,
          3,
          2,
          1,
          1,
          5,
          2,
          2,
          2,
          1,
          1,
          2,
          3,
          2,
          1,
          1,
          1,
          2,
          1,
          1,
          2,
          1,
          1,
          2,
          3,
          3,
          2,
          1,
          1,
          2,
          1,
          1,
          8,
          1,
          1,
          1,
          1,
          2,
          1,
          2,
          1,
          1,
          1,
          1,
          4,
          2,
          1,
          5,
          1,
          5,
          1,
          1,
          1,
          1,
          3,
          1,
          1,
          2,
          1,
          1,
          1,
          5,
          3,
          5,
          8,
          8,
          8,
          8,
          1,
          1,
          1,
          2,
          1,
          3,
          1,
          1,
          1,
          1,
          3,
          1,
          1,
          2,
          3,
          10,
          2,
          1,
          1,
          1,
          1,
          1,
          2,
          1,
          2,
          5,
          1,
          1,
          1,
          2,
          5,
          5,
          5,
          5,
          8,
          1,
          2,
          1,
          1,
          1,
          1,
          1,
          1,
          1,
          2,
          5,
          3,
          1,
          5,
          1,
          1,
          2,
          1,
          1,
          2,
          1,
          1,
          2,
          1,
          1,
          3,
          1,
          1,
          1,
          5,
          3,
          2,
          2,
          1,
          1,
          1,
          1,
          1,
          1,
          1,
          2,
          1,
          1,
          1,
          1,
          1,
          1,
          1,
          1,
          2,
          2,
          1,
          1,
          1,
          2,
          1,
          3,
          1,
          1,
          1,
          2,
          2,
          1,
          1,
          1,
          1,
          3,
          1,
          1,
          1,
          1,
          3,
          3,
          2,
          2,
          5,
          1,
          1,
          2,
          1,
          1,
          1,
          2,
          1,
          1,
          1,
          1,
          1,
          1,
          1,
          1,
          1,
          3,
          1,
          2,
          5,
          1,
          1,
          1,
          1,
          3,
          1,
          1,
          1,
          1,
          1,
          1,
          1,
          1,
          1,
          2,
          3,
          2,
          1,
          1,
          2,
          5,
          1,
          2,
          2,
          1,
          5,
          1,
          1,
          1,
          1,
          2,
          1,
          2,
          2,
          2,
          3,
          3,
          1,
          1,
          1,
          1,
          3,
          3,
          3,
          1,
          2,
          1,
          1,
          1,
          5,
          5,
          1,
          3,
          1,
          2,
          2,
          1,
          1,
          2,
          2,
          2,
          2,
          2,
          2,
          2,
          1,
          2,
          1,
          1,
          2,
          2,
          2,
          2,
          3,
          2,
          2,
          3,
          1,
          2,
          1,
          2,
          1,
          1,
          1,
          1,
          3,
          2,
          2,
          1,
          2,
          1,
          1,
          1,
          1,
          1,
          2,
          2,
          2,
          3,
          3,
          1,
          3,
          1,
          1,
          3,
          5,
          1,
          1,
          1,
          1,
          1,
          8,
          1,
          1,
          2,
          1,
          3,
          3,
          2,
          8,
          3,
          3,
          1,
          1,
          1,
          2,
          1,
          2,
          2,
          1,
          1,
          2,
          2,
          1,
          1,
          2,
          2,
          3,
          3,
          13,
          1,
          2,
          3,
          2,
          2,
          2,
          1,
          5,
          5,
          3,
          5,
          1,
          2,
          2,
          4,
          2,
          2,
          1,
          1,
          2,
          3,
          3,
          3,
          2,
          2,
          2,
          2,
          2,
          1,
          1,
          1,
          8,
          8,
          2,
          1,
          1,
          1,
          1,
          1,
          1,
          1,
          1,
          1,
          1,
          2,
          3,
          1,
          1,
          1,
          1,
          1,
          5,
          3,
          2,
          3,
          2,
          1,
          3,
          1,
          3,
          1,
          2,
          1,
          1,
          2,
          5,
          1,
          2,
          1,
          1,
          1,
          5,
          1,
          1,
          1,
          2,
          1,
          1,
          3,
          1,
          1,
          2,
          2,
          1,
          2,
          1,
          2,
          2,
          2,
          1,
          2,
          5,
          1,
          2,
          1,
          1,
          1,
          3,
          5,
          1,
          2,
          8,
          1,
          3,
          5,
          3,
          2,
          3,
          1,
          3,
          5,
          4,
          1,
          2,
          1,
          1,
          1,
          1,
          2,
          1,
          1,
          2,
          1,
          1,
          1,
          1,
          8,
          8,
          8,
          3,
          1,
          1,
          1,
          3,
          8,
          1,
          1,
          1,
          1,
          1,
          2,
          3,
          2,
          3,
          2,
          5,
          5,
          2,
          3,
          1,
          1,
          1,
          3,
          1,
          5,
          1,
          3,
          8,
          8,
          2,
          3,
          1,
          2,
          8,
          5,
          5,
          2,
          13,
          1,
          1,
          8,
          1,
          1,
          3,
          2,
          1,
          2,
          2,
          2,
          1,
          5,
          1,
          3,
          3,
          5,
          5,
          5,
          1,
          2,
          8,
          2,
          3,
          1,
          1,
          1,
          5,
          5,
          1,
          1,
          2,
          3,
          5,
          13,
          5,
          1,
          1,
          2,
          1,
          2,
          8,
          1,
          5,
          3,
          2,
          1,
          1,
          2,
          1,
          2,
          5,
          2,
          3,
          1,
          5,
          2,
          2,
          3,
          3,
          5,
          1,
          3,
          1,
          1,
          1,
          2,
          1,
          1,
          5,
          2,
          5,
          1,
          1,
          1,
          1,
          1,
          8,
          1,
          1,
          1,
          2,
          2,
          5,
          2,
          1,
          1,
          1,
          1,
          1,
          1,
          1,
          1,
          1,
          1
         ]
        }
       ],
       "layout": {
        "legend": {
         "tracegroupgap": 0
        },
        "template": {
         "data": {
          "bar": [
           {
            "error_x": {
             "color": "#2a3f5f"
            },
            "error_y": {
             "color": "#2a3f5f"
            },
            "marker": {
             "line": {
              "color": "#E5ECF6",
              "width": 0.5
             }
            },
            "type": "bar"
           }
          ],
          "barpolar": [
           {
            "marker": {
             "line": {
              "color": "#E5ECF6",
              "width": 0.5
             }
            },
            "type": "barpolar"
           }
          ],
          "carpet": [
           {
            "aaxis": {
             "endlinecolor": "#2a3f5f",
             "gridcolor": "white",
             "linecolor": "white",
             "minorgridcolor": "white",
             "startlinecolor": "#2a3f5f"
            },
            "baxis": {
             "endlinecolor": "#2a3f5f",
             "gridcolor": "white",
             "linecolor": "white",
             "minorgridcolor": "white",
             "startlinecolor": "#2a3f5f"
            },
            "type": "carpet"
           }
          ],
          "choropleth": [
           {
            "colorbar": {
             "outlinewidth": 0,
             "ticks": ""
            },
            "type": "choropleth"
           }
          ],
          "contour": [
           {
            "colorbar": {
             "outlinewidth": 0,
             "ticks": ""
            },
            "colorscale": [
             [
              0,
              "#0d0887"
             ],
             [
              0.1111111111111111,
              "#46039f"
             ],
             [
              0.2222222222222222,
              "#7201a8"
             ],
             [
              0.3333333333333333,
              "#9c179e"
             ],
             [
              0.4444444444444444,
              "#bd3786"
             ],
             [
              0.5555555555555556,
              "#d8576b"
             ],
             [
              0.6666666666666666,
              "#ed7953"
             ],
             [
              0.7777777777777778,
              "#fb9f3a"
             ],
             [
              0.8888888888888888,
              "#fdca26"
             ],
             [
              1,
              "#f0f921"
             ]
            ],
            "type": "contour"
           }
          ],
          "contourcarpet": [
           {
            "colorbar": {
             "outlinewidth": 0,
             "ticks": ""
            },
            "type": "contourcarpet"
           }
          ],
          "heatmap": [
           {
            "colorbar": {
             "outlinewidth": 0,
             "ticks": ""
            },
            "colorscale": [
             [
              0,
              "#0d0887"
             ],
             [
              0.1111111111111111,
              "#46039f"
             ],
             [
              0.2222222222222222,
              "#7201a8"
             ],
             [
              0.3333333333333333,
              "#9c179e"
             ],
             [
              0.4444444444444444,
              "#bd3786"
             ],
             [
              0.5555555555555556,
              "#d8576b"
             ],
             [
              0.6666666666666666,
              "#ed7953"
             ],
             [
              0.7777777777777778,
              "#fb9f3a"
             ],
             [
              0.8888888888888888,
              "#fdca26"
             ],
             [
              1,
              "#f0f921"
             ]
            ],
            "type": "heatmap"
           }
          ],
          "heatmapgl": [
           {
            "colorbar": {
             "outlinewidth": 0,
             "ticks": ""
            },
            "colorscale": [
             [
              0,
              "#0d0887"
             ],
             [
              0.1111111111111111,
              "#46039f"
             ],
             [
              0.2222222222222222,
              "#7201a8"
             ],
             [
              0.3333333333333333,
              "#9c179e"
             ],
             [
              0.4444444444444444,
              "#bd3786"
             ],
             [
              0.5555555555555556,
              "#d8576b"
             ],
             [
              0.6666666666666666,
              "#ed7953"
             ],
             [
              0.7777777777777778,
              "#fb9f3a"
             ],
             [
              0.8888888888888888,
              "#fdca26"
             ],
             [
              1,
              "#f0f921"
             ]
            ],
            "type": "heatmapgl"
           }
          ],
          "histogram": [
           {
            "marker": {
             "colorbar": {
              "outlinewidth": 0,
              "ticks": ""
             }
            },
            "type": "histogram"
           }
          ],
          "histogram2d": [
           {
            "colorbar": {
             "outlinewidth": 0,
             "ticks": ""
            },
            "colorscale": [
             [
              0,
              "#0d0887"
             ],
             [
              0.1111111111111111,
              "#46039f"
             ],
             [
              0.2222222222222222,
              "#7201a8"
             ],
             [
              0.3333333333333333,
              "#9c179e"
             ],
             [
              0.4444444444444444,
              "#bd3786"
             ],
             [
              0.5555555555555556,
              "#d8576b"
             ],
             [
              0.6666666666666666,
              "#ed7953"
             ],
             [
              0.7777777777777778,
              "#fb9f3a"
             ],
             [
              0.8888888888888888,
              "#fdca26"
             ],
             [
              1,
              "#f0f921"
             ]
            ],
            "type": "histogram2d"
           }
          ],
          "histogram2dcontour": [
           {
            "colorbar": {
             "outlinewidth": 0,
             "ticks": ""
            },
            "colorscale": [
             [
              0,
              "#0d0887"
             ],
             [
              0.1111111111111111,
              "#46039f"
             ],
             [
              0.2222222222222222,
              "#7201a8"
             ],
             [
              0.3333333333333333,
              "#9c179e"
             ],
             [
              0.4444444444444444,
              "#bd3786"
             ],
             [
              0.5555555555555556,
              "#d8576b"
             ],
             [
              0.6666666666666666,
              "#ed7953"
             ],
             [
              0.7777777777777778,
              "#fb9f3a"
             ],
             [
              0.8888888888888888,
              "#fdca26"
             ],
             [
              1,
              "#f0f921"
             ]
            ],
            "type": "histogram2dcontour"
           }
          ],
          "mesh3d": [
           {
            "colorbar": {
             "outlinewidth": 0,
             "ticks": ""
            },
            "type": "mesh3d"
           }
          ],
          "parcoords": [
           {
            "line": {
             "colorbar": {
              "outlinewidth": 0,
              "ticks": ""
             }
            },
            "type": "parcoords"
           }
          ],
          "pie": [
           {
            "automargin": true,
            "type": "pie"
           }
          ],
          "scatter": [
           {
            "marker": {
             "colorbar": {
              "outlinewidth": 0,
              "ticks": ""
             }
            },
            "type": "scatter"
           }
          ],
          "scatter3d": [
           {
            "line": {
             "colorbar": {
              "outlinewidth": 0,
              "ticks": ""
             }
            },
            "marker": {
             "colorbar": {
              "outlinewidth": 0,
              "ticks": ""
             }
            },
            "type": "scatter3d"
           }
          ],
          "scattercarpet": [
           {
            "marker": {
             "colorbar": {
              "outlinewidth": 0,
              "ticks": ""
             }
            },
            "type": "scattercarpet"
           }
          ],
          "scattergeo": [
           {
            "marker": {
             "colorbar": {
              "outlinewidth": 0,
              "ticks": ""
             }
            },
            "type": "scattergeo"
           }
          ],
          "scattergl": [
           {
            "marker": {
             "colorbar": {
              "outlinewidth": 0,
              "ticks": ""
             }
            },
            "type": "scattergl"
           }
          ],
          "scattermapbox": [
           {
            "marker": {
             "colorbar": {
              "outlinewidth": 0,
              "ticks": ""
             }
            },
            "type": "scattermapbox"
           }
          ],
          "scatterpolar": [
           {
            "marker": {
             "colorbar": {
              "outlinewidth": 0,
              "ticks": ""
             }
            },
            "type": "scatterpolar"
           }
          ],
          "scatterpolargl": [
           {
            "marker": {
             "colorbar": {
              "outlinewidth": 0,
              "ticks": ""
             }
            },
            "type": "scatterpolargl"
           }
          ],
          "scatterternary": [
           {
            "marker": {
             "colorbar": {
              "outlinewidth": 0,
              "ticks": ""
             }
            },
            "type": "scatterternary"
           }
          ],
          "surface": [
           {
            "colorbar": {
             "outlinewidth": 0,
             "ticks": ""
            },
            "colorscale": [
             [
              0,
              "#0d0887"
             ],
             [
              0.1111111111111111,
              "#46039f"
             ],
             [
              0.2222222222222222,
              "#7201a8"
             ],
             [
              0.3333333333333333,
              "#9c179e"
             ],
             [
              0.4444444444444444,
              "#bd3786"
             ],
             [
              0.5555555555555556,
              "#d8576b"
             ],
             [
              0.6666666666666666,
              "#ed7953"
             ],
             [
              0.7777777777777778,
              "#fb9f3a"
             ],
             [
              0.8888888888888888,
              "#fdca26"
             ],
             [
              1,
              "#f0f921"
             ]
            ],
            "type": "surface"
           }
          ],
          "table": [
           {
            "cells": {
             "fill": {
              "color": "#EBF0F8"
             },
             "line": {
              "color": "white"
             }
            },
            "header": {
             "fill": {
              "color": "#C8D4E3"
             },
             "line": {
              "color": "white"
             }
            },
            "type": "table"
           }
          ]
         },
         "layout": {
          "annotationdefaults": {
           "arrowcolor": "#2a3f5f",
           "arrowhead": 0,
           "arrowwidth": 1
          },
          "autotypenumbers": "strict",
          "coloraxis": {
           "colorbar": {
            "outlinewidth": 0,
            "ticks": ""
           }
          },
          "colorscale": {
           "diverging": [
            [
             0,
             "#8e0152"
            ],
            [
             0.1,
             "#c51b7d"
            ],
            [
             0.2,
             "#de77ae"
            ],
            [
             0.3,
             "#f1b6da"
            ],
            [
             0.4,
             "#fde0ef"
            ],
            [
             0.5,
             "#f7f7f7"
            ],
            [
             0.6,
             "#e6f5d0"
            ],
            [
             0.7,
             "#b8e186"
            ],
            [
             0.8,
             "#7fbc41"
            ],
            [
             0.9,
             "#4d9221"
            ],
            [
             1,
             "#276419"
            ]
           ],
           "sequential": [
            [
             0,
             "#0d0887"
            ],
            [
             0.1111111111111111,
             "#46039f"
            ],
            [
             0.2222222222222222,
             "#7201a8"
            ],
            [
             0.3333333333333333,
             "#9c179e"
            ],
            [
             0.4444444444444444,
             "#bd3786"
            ],
            [
             0.5555555555555556,
             "#d8576b"
            ],
            [
             0.6666666666666666,
             "#ed7953"
            ],
            [
             0.7777777777777778,
             "#fb9f3a"
            ],
            [
             0.8888888888888888,
             "#fdca26"
            ],
            [
             1,
             "#f0f921"
            ]
           ],
           "sequentialminus": [
            [
             0,
             "#0d0887"
            ],
            [
             0.1111111111111111,
             "#46039f"
            ],
            [
             0.2222222222222222,
             "#7201a8"
            ],
            [
             0.3333333333333333,
             "#9c179e"
            ],
            [
             0.4444444444444444,
             "#bd3786"
            ],
            [
             0.5555555555555556,
             "#d8576b"
            ],
            [
             0.6666666666666666,
             "#ed7953"
            ],
            [
             0.7777777777777778,
             "#fb9f3a"
            ],
            [
             0.8888888888888888,
             "#fdca26"
            ],
            [
             1,
             "#f0f921"
            ]
           ]
          },
          "colorway": [
           "#636efa",
           "#EF553B",
           "#00cc96",
           "#ab63fa",
           "#FFA15A",
           "#19d3f3",
           "#FF6692",
           "#B6E880",
           "#FF97FF",
           "#FECB52"
          ],
          "font": {
           "color": "#2a3f5f"
          },
          "geo": {
           "bgcolor": "white",
           "lakecolor": "white",
           "landcolor": "#E5ECF6",
           "showlakes": true,
           "showland": true,
           "subunitcolor": "white"
          },
          "hoverlabel": {
           "align": "left"
          },
          "hovermode": "closest",
          "mapbox": {
           "style": "light"
          },
          "paper_bgcolor": "white",
          "plot_bgcolor": "#E5ECF6",
          "polar": {
           "angularaxis": {
            "gridcolor": "white",
            "linecolor": "white",
            "ticks": ""
           },
           "bgcolor": "#E5ECF6",
           "radialaxis": {
            "gridcolor": "white",
            "linecolor": "white",
            "ticks": ""
           }
          },
          "scene": {
           "xaxis": {
            "backgroundcolor": "#E5ECF6",
            "gridcolor": "white",
            "gridwidth": 2,
            "linecolor": "white",
            "showbackground": true,
            "ticks": "",
            "zerolinecolor": "white"
           },
           "yaxis": {
            "backgroundcolor": "#E5ECF6",
            "gridcolor": "white",
            "gridwidth": 2,
            "linecolor": "white",
            "showbackground": true,
            "ticks": "",
            "zerolinecolor": "white"
           },
           "zaxis": {
            "backgroundcolor": "#E5ECF6",
            "gridcolor": "white",
            "gridwidth": 2,
            "linecolor": "white",
            "showbackground": true,
            "ticks": "",
            "zerolinecolor": "white"
           }
          },
          "shapedefaults": {
           "line": {
            "color": "#2a3f5f"
           }
          },
          "ternary": {
           "aaxis": {
            "gridcolor": "white",
            "linecolor": "white",
            "ticks": ""
           },
           "baxis": {
            "gridcolor": "white",
            "linecolor": "white",
            "ticks": ""
           },
           "bgcolor": "#E5ECF6",
           "caxis": {
            "gridcolor": "white",
            "linecolor": "white",
            "ticks": ""
           }
          },
          "title": {
           "x": 0.05
          },
          "xaxis": {
           "automargin": true,
           "gridcolor": "white",
           "linecolor": "white",
           "ticks": "",
           "title": {
            "standoff": 15
           },
           "zerolinecolor": "white",
           "zerolinewidth": 2
          },
          "yaxis": {
           "automargin": true,
           "gridcolor": "white",
           "linecolor": "white",
           "ticks": "",
           "title": {
            "standoff": 15
           },
           "zerolinecolor": "white",
           "zerolinewidth": 2
          }
         }
        },
        "title": {
         "text": "Population of American continent"
        }
       }
      }
     },
     "metadata": {},
     "output_type": "display_data"
    }
   ],
   "source": [
    "data_development = pd.read_csv(r\"C:\\\\Users\\\\oh856\\\\Desktop\\\\Flask-app-dash\\\\datasets\\\\Development-Real.csv\")\n",
    "data_maintenance = pd.read_csv(r\"C:\\\\Users\\\\oh856\\\\Desktop\\\\Flask-app-dash\\\\datasets\\\\Maintenance-Real.csv\")\n",
    "import plotly.express as px\n",
    "\n",
    "\n",
    "\n",
    "\n",
    "def data_processing(data,ame):\n",
    "    data[\"Custom field (Story Points)\"] = data[\"Custom field (Story Points)\"].fillna(0)\n",
    "    data['Custom field (Story Points)'] = np.where(data['Custom field (Story Points)'].between(0.0,1.0), 1, data['Custom field (Story Points)'])\n",
    "    data[\"Resolved\"] = pd.to_datetime(data[\"Resolved\"])\n",
    "    data[\"Year\"] = data[\"Resolved\"].apply(lambda x: x.year)\n",
    "    data[\"Month\"] = data[\"Resolved\"].apply(lambda x: x.month)\n",
    "    data[\"Resolved\"] = data[\"Resolved\"].apply(lambda x: x.date())\n",
    "    data['Issue'] = np.where(data['Comment.23'],ame, data['Comment.23'])\n",
    "    df_new =  pd.DataFrame(data[[\"Custom field (Story Points)\",\"Year\",\"Issue\",\"Month\",\"Resolved\"]])\n",
    "     \n",
    "    return df_new\n",
    "\n",
    "df_new_development = data_processing(data_development,\"Development\")\n",
    "df_new_maintenance = data_processing(data_maintenance,\"Maintenance\")\n",
    "\n",
    "data_development = pd.read_csv(\"Development-Real.csv\", low_memory=False)\n",
    "data_maintenance = pd.read_csv(\"Maintenance-Real.csv\", low_memory=False)\n",
    "\n",
    "def total_calculation(data, ame):\n",
    "    data[\"Resolved\"] = pd.to_datetime(data[\"Resolved\"])\n",
    "    data[\"Resolved\"] = data[\"Resolved\"].apply(lambda x: x.year )\n",
    "    data[\"Custom field (Story Points)\"] = data[\"Custom field (Story Points)\"].fillna(0)\n",
    "    data['Custom field (Story Points)'] = np.where(data['Custom field (Story Points)'].between(0.0,1.0), 1, data['Custom field (Story Points)'])\n",
    "    data['Issue'] = np.where(data['Comment.22'],ame, data['Comment.22'])\n",
    "    maintenance_final =  pd.DataFrame(data[[\"Resolved\",\"Custom field (Story Points)\",\"Issue\"]])\n",
    "    return maintenance_final\n",
    "\n",
    "last_version_of_calculation = total_calculation(data_development, \"Development\").append(total_calculation(data_maintenance, \"Maintenance\"))\n",
    "\n",
    "last_version_of_calculation\n",
    "fig = px.pie(last_version_of_calculation\n",
    ", values='Custom field (Story Points)', names='Resolved',\n",
    "             title='Population of American continent',\n",
    "             hover_data=['Resolved'], labels={'lifeExp':'life expectancy'})\n",
    "fig.update_traces(textposition='inside', textinfo='percent+label')\n",
    "fig.show()"
   ]
  },
  {
   "cell_type": "code",
   "execution_count": 191,
   "metadata": {},
   "outputs": [],
   "source": [
    "import datetime as dt \n"
   ]
  },
  {
   "cell_type": "code",
   "execution_count": 198,
   "metadata": {},
   "outputs": [
    {
     "data": {
      "text/plain": [
       "0      2017-10\n",
       "1      2018-04\n",
       "2      2018-07\n",
       "3      2018-07\n",
       "4      2018-07\n",
       "        ...   \n",
       "679    2021-02\n",
       "680    2021-02\n",
       "681    2021-02\n",
       "682    2021-02\n",
       "683    2021-02\n",
       "Name: Resolved, Length: 684, dtype: period[M]"
      ]
     },
     "execution_count": 198,
     "metadata": {},
     "output_type": "execute_result"
    }
   ],
   "source": [
    "df_new_development = df_new_development.groupby(\"Resolved\").sum()\n",
    "df_new_development[\"Issue\"] = df_new_development[\"Month\"]\n",
    "df_new_development[\"Issue\"] = np.where(df_new_development[\"Issue\"],\"Development\",df_new_development[\"Issue\"])\n",
    "\n",
    "df_new_maintenance = df_new_maintenance.groupby(\"Resolved\").sum()\n",
    "df_new_maintenance[\"Issue\"] = df_new_maintenance[\"Month\"]\n",
    "df_new_maintenance[\"Issue\"] = np.where(df_new_maintenance[\"Issue\"],\"Maintenance\",df_new_maintenance[\"Issue\"])\n",
    "\n",
    "new_type = df_new_development.append(df_new_maintenance).reset_index()\n",
    "\n",
    "time_try = pd.to_datetime(new_type[\"Resolved\"])\n",
    "time_try.dt.to_period(\"M\")    ## iF JIRI WANTS TO SEE ONLY MONTHLY"
   ]
  },
  {
   "cell_type": "code",
   "execution_count": 181,
   "metadata": {
    "tags": []
   },
   "outputs": [
    {
     "data": {
      "text/html": [
       "<div>\n",
       "<style scoped>\n",
       "    .dataframe tbody tr th:only-of-type {\n",
       "        vertical-align: middle;\n",
       "    }\n",
       "\n",
       "    .dataframe tbody tr th {\n",
       "        vertical-align: top;\n",
       "    }\n",
       "\n",
       "    .dataframe thead th {\n",
       "        text-align: right;\n",
       "    }\n",
       "</style>\n",
       "<table border=\"1\" class=\"dataframe\">\n",
       "  <thead>\n",
       "    <tr style=\"text-align: right;\">\n",
       "      <th></th>\n",
       "      <th>Issue</th>\n",
       "      <th>Resolved</th>\n",
       "      <th>Custom field (Story Points)</th>\n",
       "      <th>percent</th>\n",
       "    </tr>\n",
       "  </thead>\n",
       "  <tbody>\n",
       "    <tr>\n",
       "      <th>3</th>\n",
       "      <td>Development</td>\n",
       "      <td>2020</td>\n",
       "      <td>611.0</td>\n",
       "      <td>40.131363</td>\n",
       "    </tr>\n",
       "    <tr>\n",
       "      <th>7</th>\n",
       "      <td>Maintenance</td>\n",
       "      <td>2020</td>\n",
       "      <td>911.5</td>\n",
       "      <td>59.868637</td>\n",
       "    </tr>\n",
       "  </tbody>\n",
       "</table>\n",
       "</div>"
      ],
      "text/plain": [
       "         Issue  Resolved  Custom field (Story Points)    percent\n",
       "3  Development      2020                        611.0  40.131363\n",
       "7  Maintenance      2020                        911.5  59.868637"
      ]
     },
     "execution_count": 181,
     "metadata": {},
     "output_type": "execute_result"
    }
   ],
   "source": [
    "dev = aa[(aa[\"Resolved\"] == 2020)]\n",
    "man = aa[(aa[\"Resolved\"] == 2021)]\n",
    "dev['percent'] = (dev['Custom field (Story Points)'] /dev['Custom field (Story Points)'].sum()) * 100\n",
    "man['percent'] = (man['Custom field (Story Points)'] / man['Custom field (Story Points)'].sum()) * 100\n",
    "last_vers_dude = dev.append(man)\n",
    "last_vers_dude[\"percent\"]\n",
    "k = 2\n",
    "new_a = round(last_vers_dude[\"percent\"],k)\n",
    "last_vers_dude[\"percent\"] = last_vers_dude[\"percent\"].round(2)\n",
    "dev"
   ]
  },
  {
   "cell_type": "code",
   "execution_count": 200,
   "metadata": {},
   "outputs": [
    {
     "data": {
      "text/html": [
       "<div>\n",
       "<style scoped>\n",
       "    .dataframe tbody tr th:only-of-type {\n",
       "        vertical-align: middle;\n",
       "    }\n",
       "\n",
       "    .dataframe tbody tr th {\n",
       "        vertical-align: top;\n",
       "    }\n",
       "\n",
       "    .dataframe thead th {\n",
       "        text-align: right;\n",
       "    }\n",
       "</style>\n",
       "<table border=\"1\" class=\"dataframe\">\n",
       "  <thead>\n",
       "    <tr style=\"text-align: right;\">\n",
       "      <th></th>\n",
       "      <th>Issue</th>\n",
       "      <th>Resolved</th>\n",
       "      <th>Custom field (Story Points)</th>\n",
       "      <th>percent</th>\n",
       "      <th>Issue_count</th>\n",
       "    </tr>\n",
       "  </thead>\n",
       "  <tbody>\n",
       "    <tr>\n",
       "      <th>2</th>\n",
       "      <td>Development</td>\n",
       "      <td>2019</td>\n",
       "      <td>531.0</td>\n",
       "      <td>43.88</td>\n",
       "      <td>206</td>\n",
       "    </tr>\n",
       "    <tr>\n",
       "      <th>6</th>\n",
       "      <td>Maintenance</td>\n",
       "      <td>2019</td>\n",
       "      <td>679.0</td>\n",
       "      <td>56.12</td>\n",
       "      <td>337</td>\n",
       "    </tr>\n",
       "    <tr>\n",
       "      <th>3</th>\n",
       "      <td>Development</td>\n",
       "      <td>2020</td>\n",
       "      <td>611.0</td>\n",
       "      <td>40.13</td>\n",
       "      <td>211</td>\n",
       "    </tr>\n",
       "    <tr>\n",
       "      <th>7</th>\n",
       "      <td>Maintenance</td>\n",
       "      <td>2020</td>\n",
       "      <td>911.5</td>\n",
       "      <td>59.87</td>\n",
       "      <td>477</td>\n",
       "    </tr>\n",
       "    <tr>\n",
       "      <th>4</th>\n",
       "      <td>Development</td>\n",
       "      <td>2021</td>\n",
       "      <td>19.0</td>\n",
       "      <td>6.13</td>\n",
       "      <td>10</td>\n",
       "    </tr>\n",
       "    <tr>\n",
       "      <th>8</th>\n",
       "      <td>Maintenance</td>\n",
       "      <td>2021</td>\n",
       "      <td>291.0</td>\n",
       "      <td>93.87</td>\n",
       "      <td>119</td>\n",
       "    </tr>\n",
       "  </tbody>\n",
       "</table>\n",
       "</div>"
      ],
      "text/plain": [
       "         Issue  Resolved  Custom field (Story Points)  percent  Issue_count\n",
       "2  Development      2019                        531.0    43.88          206\n",
       "6  Maintenance      2019                        679.0    56.12          337\n",
       "3  Development      2020                        611.0    40.13          211\n",
       "7  Maintenance      2020                        911.5    59.87          477\n",
       "4  Development      2021                         19.0     6.13           10\n",
       "8  Maintenance      2021                        291.0    93.87          119"
      ]
     },
     "execution_count": 200,
     "metadata": {},
     "output_type": "execute_result"
    }
   ],
   "source": [
    "data = aa.copy()\n",
    "\n",
    "year = data[(data[\"Resolved\"] == 2019)]\n",
    "dev = data[(data[\"Resolved\"] == 2020)]\n",
    "man = data[(data[\"Resolved\"] == 2021)]\n",
    "dev['percent'] = (dev['Custom field (Story Points)'] / dev['Custom field (Story Points)'].sum()) * 100\n",
    "man['percent'] = (man['Custom field (Story Points)'] / man['Custom field (Story Points)'].sum()) * 100\n",
    "year['percent'] = (year['Custom field (Story Points)'] / year['Custom field (Story Points)'].sum()) * 100\n",
    "last_vers_dude = dev.append(man)\n",
    "last_vers_dude = last_vers_dude.append(year)\n",
    "last_vers_dude[\"percent\"] = last_vers_dude[\"percent\"].round(2)\n",
    "last_vers_dude = last_vers_dude.sort_values(\"Resolved\")\n",
    "last_vers_dude[\"Issue_count\"] = bb[\"Custom field (Story Points)\"]\n",
    "last_vers_dude"
   ]
  },
  {
   "cell_type": "code",
   "execution_count": 12,
   "metadata": {},
   "outputs": [
    {
     "data": {
      "text/html": [
       "<div>\n",
       "<style scoped>\n",
       "    .dataframe tbody tr th:only-of-type {\n",
       "        vertical-align: middle;\n",
       "    }\n",
       "\n",
       "    .dataframe tbody tr th {\n",
       "        vertical-align: top;\n",
       "    }\n",
       "\n",
       "    .dataframe thead th {\n",
       "        text-align: right;\n",
       "    }\n",
       "</style>\n",
       "<table border=\"1\" class=\"dataframe\">\n",
       "  <thead>\n",
       "    <tr style=\"text-align: right;\">\n",
       "      <th></th>\n",
       "      <th>Resolved</th>\n",
       "      <th>Custom field (Story Points)</th>\n",
       "    </tr>\n",
       "  </thead>\n",
       "  <tbody>\n",
       "    <tr>\n",
       "      <th>0</th>\n",
       "      <td>1970</td>\n",
       "      <td>1262.0</td>\n",
       "    </tr>\n",
       "  </tbody>\n",
       "</table>\n",
       "</div>"
      ],
      "text/plain": [
       "   Resolved  Custom field (Story Points)\n",
       "0      1970                       1262.0"
      ]
     },
     "execution_count": 12,
     "metadata": {},
     "output_type": "execute_result"
    }
   ],
   "source": [
    "data_processing(data_development)"
   ]
  },
  {
   "cell_type": "code",
   "execution_count": 187,
   "metadata": {},
   "outputs": [
    {
     "data": {
      "application/vnd.plotly.v1+json": {
       "config": {
        "plotlyServerURL": "https://plot.ly"
       },
       "data": [
        {
         "hovertemplate": "Issue=Development<br>Resolved=%{x}<br>Custom field (Story Points)=%{y}<extra></extra>",
         "legendgroup": "Development",
         "line": {
          "color": "#636efa",
          "dash": "solid"
         },
         "mode": "lines",
         "name": "Development",
         "orientation": "v",
         "showlegend": true,
         "type": "scatter",
         "x": [
          "2017-10-06",
          "2018-04-03",
          "2018-07-17",
          "2018-07-23",
          "2018-07-26",
          "2018-08-16",
          "2018-10-16",
          "2018-10-17",
          "2018-10-19",
          "2018-10-31",
          "2018-11-01",
          "2018-11-06",
          "2018-11-08",
          "2018-11-09",
          "2018-11-12",
          "2018-11-13",
          "2018-11-14",
          "2018-11-15",
          "2018-11-19",
          "2018-11-21",
          "2018-11-22",
          "2018-11-28",
          "2018-11-29",
          "2018-11-30",
          "2018-12-05",
          "2018-12-06",
          "2018-12-12",
          "2018-12-14",
          "2019-01-02",
          "2019-01-03",
          "2019-01-07",
          "2019-01-09",
          "2019-01-10",
          "2019-01-11",
          "2019-01-14",
          "2019-01-15",
          "2019-01-16",
          "2019-01-17",
          "2019-01-22",
          "2019-01-23",
          "2019-01-24",
          "2019-01-25",
          "2019-01-28",
          "2019-01-30",
          "2019-01-31",
          "2019-02-01",
          "2019-02-04",
          "2019-02-05",
          "2019-02-06",
          "2019-02-07",
          "2019-02-08",
          "2019-02-12",
          "2019-02-13",
          "2019-02-14",
          "2019-02-18",
          "2019-02-19",
          "2019-02-20",
          "2019-02-21",
          "2019-02-26",
          "2019-02-27",
          "2019-02-28",
          "2019-03-01",
          "2019-03-04",
          "2019-03-07",
          "2019-03-08",
          "2019-03-11",
          "2019-03-12",
          "2019-03-13",
          "2019-03-14",
          "2019-03-15",
          "2019-03-18",
          "2019-03-21",
          "2019-03-25",
          "2019-03-26",
          "2019-03-27",
          "2019-03-28",
          "2019-04-04",
          "2019-04-10",
          "2019-04-11",
          "2019-04-15",
          "2019-04-16",
          "2019-04-17",
          "2019-04-25",
          "2019-04-26",
          "2019-04-29",
          "2019-05-02",
          "2019-05-06",
          "2019-05-09",
          "2019-05-16",
          "2019-05-27",
          "2019-05-29",
          "2019-06-03",
          "2019-06-11",
          "2019-06-12",
          "2019-06-13",
          "2019-06-14",
          "2019-06-18",
          "2019-06-21",
          "2019-06-24",
          "2019-06-25",
          "2019-06-27",
          "2019-06-28",
          "2019-07-01",
          "2019-07-02",
          "2019-07-03",
          "2019-07-04",
          "2019-07-11",
          "2019-07-22",
          "2019-07-24",
          "2019-07-25",
          "2019-07-30",
          "2019-07-31",
          "2019-08-05",
          "2019-08-08",
          "2019-08-14",
          "2019-08-21",
          "2019-08-22",
          "2019-09-05",
          "2019-09-16",
          "2019-09-19",
          "2019-09-23",
          "2019-09-25",
          "2019-09-30",
          "2019-10-01",
          "2019-10-08",
          "2019-10-09",
          "2019-10-14",
          "2019-10-15",
          "2019-10-16",
          "2019-10-17",
          "2019-10-18",
          "2019-10-21",
          "2019-10-23",
          "2019-10-25",
          "2019-10-29",
          "2019-10-30",
          "2019-10-31",
          "2019-11-04",
          "2019-11-06",
          "2019-11-13",
          "2019-11-14",
          "2019-11-18",
          "2019-11-25",
          "2019-11-26",
          "2019-12-05",
          "2019-12-11",
          "2020-01-08",
          "2020-01-10",
          "2020-01-13",
          "2020-01-15",
          "2020-01-22",
          "2020-01-23",
          "2020-01-24",
          "2020-01-27",
          "2020-01-29",
          "2020-01-30",
          "2020-01-31",
          "2020-02-05",
          "2020-02-06",
          "2020-02-12",
          "2020-02-14",
          "2020-02-19",
          "2020-02-20",
          "2020-02-26",
          "2020-02-27",
          "2020-02-28",
          "2020-03-02",
          "2020-03-05",
          "2020-03-11",
          "2020-03-18",
          "2020-03-19",
          "2020-03-23",
          "2020-03-25",
          "2020-04-06",
          "2020-04-08",
          "2020-04-15",
          "2020-04-16",
          "2020-04-20",
          "2020-04-22",
          "2020-04-24",
          "2020-04-27",
          "2020-04-29",
          "2020-04-30",
          "2020-05-07",
          "2020-05-12",
          "2020-05-13",
          "2020-05-15",
          "2020-05-18",
          "2020-05-19",
          "2020-05-20",
          "2020-05-22",
          "2020-05-26",
          "2020-05-27",
          "2020-06-03",
          "2020-06-04",
          "2020-06-08",
          "2020-06-10",
          "2020-06-15",
          "2020-06-19",
          "2020-06-22",
          "2020-06-23",
          "2020-06-24",
          "2020-06-29",
          "2020-07-01",
          "2020-07-02",
          "2020-07-03",
          "2020-07-07",
          "2020-07-08",
          "2020-07-10",
          "2020-07-13",
          "2020-07-15",
          "2020-07-16",
          "2020-07-20",
          "2020-07-21",
          "2020-07-22",
          "2020-07-27",
          "2020-07-28",
          "2020-07-29",
          "2020-07-31",
          "2020-08-03",
          "2020-08-04",
          "2020-08-05",
          "2020-08-14",
          "2020-08-17",
          "2020-08-18",
          "2020-08-20",
          "2020-08-21",
          "2020-08-25",
          "2020-08-31",
          "2020-09-02",
          "2020-09-04",
          "2020-09-07",
          "2020-09-11",
          "2020-09-14",
          "2020-09-16",
          "2020-09-17",
          "2020-09-21",
          "2020-09-22",
          "2020-09-24",
          "2020-09-29",
          "2020-09-30",
          "2020-10-09",
          "2020-10-12",
          "2020-10-13",
          "2020-10-14",
          "2020-10-15",
          "2020-10-16",
          "2020-10-26",
          "2020-10-29",
          "2020-11-04",
          "2020-11-06",
          "2020-11-11",
          "2020-11-16",
          "2020-11-19",
          "2020-11-24",
          "2020-11-25",
          "2020-12-03",
          "2020-12-08",
          "2020-12-11",
          "2020-12-16",
          "2021-01-12",
          "2021-01-13",
          "2021-01-14",
          "2021-01-19",
          "2021-01-20",
          "2021-02-01",
          "2021-02-02"
         ],
         "xaxis": "x",
         "y": [
          1,
          1,
          1,
          1,
          1,
          1,
          1,
          1,
          2,
          9,
          19,
          2,
          1,
          10,
          2,
          2,
          10,
          4,
          1,
          2,
          2,
          1,
          6,
          1,
          5,
          12,
          1,
          1,
          6,
          1,
          1,
          3,
          9,
          9,
          4,
          5,
          4,
          2,
          10,
          2,
          8,
          5,
          1,
          1,
          8,
          1,
          1,
          7,
          2,
          17,
          1,
          8,
          12,
          4,
          2,
          2,
          3,
          6,
          2,
          7,
          1,
          3,
          9,
          1,
          4,
          1,
          1,
          3,
          3,
          1,
          3,
          4,
          1,
          1,
          4,
          9,
          8,
          1,
          1,
          2,
          1,
          8,
          2,
          1,
          6,
          5,
          4,
          3,
          4,
          1,
          2,
          1,
          2,
          2,
          2,
          1,
          1,
          1,
          1,
          1,
          5,
          1,
          2,
          4,
          3,
          16,
          4,
          4,
          13,
          9,
          1,
          3,
          13,
          18,
          3,
          1,
          5,
          13,
          25,
          6,
          3,
          2,
          2,
          1,
          1,
          8,
          2,
          12,
          2,
          4,
          1,
          4,
          6,
          3,
          2,
          7,
          8,
          1,
          5,
          1,
          3,
          6,
          4,
          1,
          1,
          28,
          3,
          3,
          2,
          5,
          1,
          5,
          4,
          6,
          3,
          6,
          1,
          1,
          4,
          1,
          1,
          3,
          3,
          3,
          2,
          3,
          1,
          29,
          3,
          13,
          13,
          4,
          5,
          1,
          1,
          3,
          9,
          1,
          3,
          1,
          1,
          23,
          1,
          1,
          8,
          24,
          1,
          3,
          1,
          1,
          2,
          2,
          3,
          1,
          8,
          1,
          26,
          2,
          2,
          1,
          15,
          22,
          2,
          11,
          1,
          1,
          1,
          19,
          4,
          1,
          9,
          1,
          2,
          4,
          19,
          8,
          2,
          2,
          5,
          2,
          1,
          8,
          8,
          2,
          1,
          1,
          2,
          3,
          3,
          18,
          1,
          2,
          3,
          7,
          15,
          3,
          2,
          1,
          5,
          9,
          25,
          7,
          1,
          5,
          6,
          1,
          3,
          1,
          18,
          8,
          1,
          4,
          4,
          6,
          10,
          6,
          3,
          8,
          1,
          8,
          3,
          1,
          4,
          3,
          4,
          2,
          2
         ],
         "yaxis": "y"
        },
        {
         "hovertemplate": "Issue=Maintenance<br>Resolved=%{x}<br>Custom field (Story Points)=%{y}<extra></extra>",
         "legendgroup": "Maintenance",
         "line": {
          "color": "#EF553B",
          "dash": "solid"
         },
         "mode": "lines",
         "name": "Maintenance",
         "orientation": "v",
         "showlegend": true,
         "type": "scatter",
         "x": [
          "2018-09-25",
          "2018-10-08",
          "2018-10-15",
          "2018-10-24",
          "2018-10-31",
          "2018-11-01",
          "2018-11-05",
          "2018-11-06",
          "2018-11-07",
          "2018-11-08",
          "2018-11-14",
          "2018-11-15",
          "2018-11-20",
          "2018-11-21",
          "2018-11-22",
          "2018-11-23",
          "2018-11-26",
          "2018-11-27",
          "2018-11-28",
          "2018-11-29",
          "2018-11-30",
          "2018-12-03",
          "2018-12-04",
          "2018-12-05",
          "2018-12-07",
          "2018-12-10",
          "2018-12-12",
          "2018-12-13",
          "2018-12-14",
          "2019-01-02",
          "2019-01-03",
          "2019-01-04",
          "2019-01-07",
          "2019-01-10",
          "2019-01-14",
          "2019-01-15",
          "2019-01-16",
          "2019-01-17",
          "2019-01-18",
          "2019-01-22",
          "2019-01-23",
          "2019-01-24",
          "2019-01-29",
          "2019-01-30",
          "2019-01-31",
          "2019-02-04",
          "2019-02-06",
          "2019-02-07",
          "2019-02-08",
          "2019-02-12",
          "2019-02-13",
          "2019-02-14",
          "2019-02-15",
          "2019-02-18",
          "2019-02-19",
          "2019-02-20",
          "2019-02-21",
          "2019-02-25",
          "2019-02-26",
          "2019-02-27",
          "2019-02-28",
          "2019-03-04",
          "2019-03-05",
          "2019-03-08",
          "2019-03-12",
          "2019-03-14",
          "2019-03-18",
          "2019-03-19",
          "2019-03-20",
          "2019-03-21",
          "2019-03-25",
          "2019-03-26",
          "2019-03-27",
          "2019-03-28",
          "2019-03-29",
          "2019-04-01",
          "2019-04-02",
          "2019-04-04",
          "2019-04-10",
          "2019-04-11",
          "2019-04-12",
          "2019-04-15",
          "2019-04-16",
          "2019-04-17",
          "2019-04-18",
          "2019-04-23",
          "2019-04-24",
          "2019-04-29",
          "2019-05-02",
          "2019-05-03",
          "2019-05-07",
          "2019-05-09",
          "2019-05-10",
          "2019-05-13",
          "2019-05-14",
          "2019-05-15",
          "2019-05-16",
          "2019-05-17",
          "2019-05-21",
          "2019-05-22",
          "2019-05-23",
          "2019-05-24",
          "2019-05-27",
          "2019-05-29",
          "2019-05-30",
          "2019-06-03",
          "2019-06-07",
          "2019-06-10",
          "2019-06-11",
          "2019-06-12",
          "2019-06-13",
          "2019-06-14",
          "2019-06-19",
          "2019-06-20",
          "2019-06-24",
          "2019-06-25",
          "2019-06-26",
          "2019-06-27",
          "2019-07-02",
          "2019-07-03",
          "2019-07-04",
          "2019-07-08",
          "2019-07-10",
          "2019-07-11",
          "2019-07-12",
          "2019-07-16",
          "2019-07-17",
          "2019-07-18",
          "2019-07-19",
          "2019-07-25",
          "2019-07-29",
          "2019-07-30",
          "2019-08-01",
          "2019-08-05",
          "2019-08-06",
          "2019-08-07",
          "2019-08-08",
          "2019-08-09",
          "2019-08-13",
          "2019-08-20",
          "2019-08-21",
          "2019-08-22",
          "2019-08-23",
          "2019-08-26",
          "2019-08-27",
          "2019-08-28",
          "2019-08-29",
          "2019-09-02",
          "2019-09-04",
          "2019-09-05",
          "2019-09-06",
          "2019-09-10",
          "2019-09-12",
          "2019-09-16",
          "2019-09-17",
          "2019-09-19",
          "2019-09-24",
          "2019-09-25",
          "2019-09-30",
          "2019-10-01",
          "2019-10-02",
          "2019-10-03",
          "2019-10-07",
          "2019-10-08",
          "2019-10-09",
          "2019-10-14",
          "2019-10-15",
          "2019-10-16",
          "2019-10-17",
          "2019-10-18",
          "2019-10-24",
          "2019-10-25",
          "2019-10-29",
          "2019-10-30",
          "2019-10-31",
          "2019-11-01",
          "2019-11-04",
          "2019-11-05",
          "2019-11-07",
          "2019-11-11",
          "2019-11-12",
          "2019-11-13",
          "2019-11-14",
          "2019-11-15",
          "2019-11-19",
          "2019-11-20",
          "2019-11-21",
          "2019-11-22",
          "2019-11-25",
          "2019-11-26",
          "2019-11-27",
          "2019-11-29",
          "2019-12-04",
          "2019-12-05",
          "2019-12-06",
          "2019-12-09",
          "2019-12-10",
          "2019-12-11",
          "2019-12-13",
          "2019-12-16",
          "2019-12-18",
          "2019-12-20",
          "2019-12-30",
          "2020-01-02",
          "2020-01-06",
          "2020-01-07",
          "2020-01-08",
          "2020-01-09",
          "2020-01-10",
          "2020-01-13",
          "2020-01-16",
          "2020-01-20",
          "2020-01-21",
          "2020-01-22",
          "2020-01-23",
          "2020-01-27",
          "2020-01-30",
          "2020-01-31",
          "2020-02-03",
          "2020-02-04",
          "2020-02-13",
          "2020-02-14",
          "2020-02-17",
          "2020-02-20",
          "2020-02-21",
          "2020-02-27",
          "2020-03-02",
          "2020-03-03",
          "2020-03-04",
          "2020-03-10",
          "2020-03-16",
          "2020-03-17",
          "2020-03-19",
          "2020-03-20",
          "2020-03-23",
          "2020-03-24",
          "2020-03-25",
          "2020-03-26",
          "2020-03-27",
          "2020-03-30",
          "2020-04-01",
          "2020-04-02",
          "2020-04-06",
          "2020-04-07",
          "2020-04-08",
          "2020-04-15",
          "2020-04-16",
          "2020-04-20",
          "2020-04-22",
          "2020-04-23",
          "2020-04-28",
          "2020-05-11",
          "2020-05-12",
          "2020-05-13",
          "2020-05-14",
          "2020-05-21",
          "2020-05-22",
          "2020-05-25",
          "2020-05-26",
          "2020-05-27",
          "2020-05-28",
          "2020-06-01",
          "2020-06-02",
          "2020-06-03",
          "2020-06-04",
          "2020-06-05",
          "2020-06-08",
          "2020-06-09",
          "2020-06-10",
          "2020-06-11",
          "2020-06-12",
          "2020-06-15",
          "2020-06-16",
          "2020-06-17",
          "2020-06-18",
          "2020-06-22",
          "2020-06-23",
          "2020-06-24",
          "2020-06-25",
          "2020-06-26",
          "2020-06-29",
          "2020-06-30",
          "2020-07-01",
          "2020-07-02",
          "2020-07-03",
          "2020-07-06",
          "2020-07-07",
          "2020-07-08",
          "2020-07-14",
          "2020-07-15",
          "2020-07-16",
          "2020-07-17",
          "2020-07-20",
          "2020-07-22",
          "2020-07-23",
          "2020-07-27",
          "2020-07-29",
          "2020-07-30",
          "2020-07-31",
          "2020-08-03",
          "2020-08-04",
          "2020-08-05",
          "2020-08-06",
          "2020-08-10",
          "2020-08-11",
          "2020-08-12",
          "2020-08-13",
          "2020-08-14",
          "2020-08-17",
          "2020-08-18",
          "2020-08-19",
          "2020-08-20",
          "2020-08-24",
          "2020-08-25",
          "2020-08-26",
          "2020-08-27",
          "2020-08-28",
          "2020-08-31",
          "2020-09-01",
          "2020-09-02",
          "2020-09-03",
          "2020-09-04",
          "2020-09-09",
          "2020-09-11",
          "2020-09-15",
          "2020-09-16",
          "2020-09-18",
          "2020-09-21",
          "2020-09-23",
          "2020-09-24",
          "2020-09-25",
          "2020-09-27",
          "2020-09-29",
          "2020-09-30",
          "2020-10-01",
          "2020-10-05",
          "2020-10-06",
          "2020-10-07",
          "2020-10-08",
          "2020-10-12",
          "2020-10-13",
          "2020-10-14",
          "2020-10-15",
          "2020-10-19",
          "2020-10-20",
          "2020-10-21",
          "2020-10-22",
          "2020-10-23",
          "2020-10-26",
          "2020-10-27",
          "2020-10-28",
          "2020-10-29",
          "2020-10-30",
          "2020-11-02",
          "2020-11-03",
          "2020-11-04",
          "2020-11-05",
          "2020-11-06",
          "2020-11-09",
          "2020-11-10",
          "2020-11-11",
          "2020-11-18",
          "2020-11-19",
          "2020-11-20",
          "2020-11-23",
          "2020-11-24",
          "2020-11-25",
          "2020-11-26",
          "2020-12-01",
          "2020-12-02",
          "2020-12-03",
          "2020-12-04",
          "2020-12-07",
          "2020-12-08",
          "2020-12-09",
          "2020-12-11",
          "2020-12-14",
          "2020-12-15",
          "2020-12-17",
          "2020-12-18",
          "2020-12-21",
          "2020-12-22",
          "2020-12-23",
          "2020-12-29",
          "2020-12-30",
          "2021-01-04",
          "2021-01-05",
          "2021-01-06",
          "2021-01-07",
          "2021-01-08",
          "2021-01-11",
          "2021-01-12",
          "2021-01-13",
          "2021-01-14",
          "2021-01-15",
          "2021-01-18",
          "2021-01-19",
          "2021-01-20",
          "2021-01-21",
          "2021-01-22",
          "2021-01-23",
          "2021-01-26",
          "2021-01-27",
          "2021-01-28",
          "2021-01-29",
          "2021-02-01",
          "2021-02-02",
          "2021-02-03",
          "2021-02-05",
          "2021-02-08",
          "2021-02-09",
          "2021-02-11",
          "2021-02-12",
          "2021-02-15",
          "2021-02-16",
          "2021-02-17",
          "2021-02-19"
         ],
         "xaxis": "x",
         "y": [
          2,
          1,
          1,
          1,
          17,
          8,
          7,
          6,
          23,
          18,
          22,
          1,
          10,
          15,
          18,
          6,
          2,
          6,
          15,
          14,
          6,
          1,
          1,
          20,
          5,
          3,
          1,
          16,
          1,
          1,
          5,
          3,
          1,
          7,
          1,
          9,
          1,
          14,
          2,
          1,
          15,
          10,
          6,
          12,
          10,
          1,
          8,
          20,
          6,
          1,
          7,
          4,
          1,
          4,
          3,
          5,
          10,
          6,
          7,
          2,
          5,
          2,
          3,
          3,
          2,
          1,
          1,
          1,
          3,
          1,
          8,
          1,
          11,
          9,
          2,
          3,
          2,
          22,
          3,
          14,
          12,
          1,
          19,
          2,
          3,
          2,
          6,
          4,
          3,
          2,
          8,
          3,
          5,
          4,
          9,
          1,
          4,
          7,
          1,
          4,
          1,
          14,
          1,
          1,
          7,
          1,
          2,
          3,
          12,
          5,
          2,
          1,
          1,
          1,
          3,
          4,
          3,
          9,
          1,
          2,
          2,
          3,
          2,
          1,
          2,
          1,
          2,
          1,
          3,
          2,
          1,
          1,
          1,
          2,
          2,
          7,
          4,
          3,
          3,
          2,
          4,
          8,
          2,
          1,
          2,
          1,
          1,
          3,
          10,
          3,
          1,
          1,
          3,
          1,
          5,
          6,
          2,
          1,
          2,
          3,
          4,
          5,
          1,
          2,
          3,
          1,
          3,
          1,
          9,
          2,
          3,
          5,
          1,
          3,
          3,
          5,
          1,
          6,
          6,
          7,
          2,
          2,
          1,
          1,
          8,
          2,
          2,
          2,
          3,
          2,
          1,
          1,
          1,
          1,
          3,
          3,
          2,
          4,
          2,
          1,
          2,
          2,
          1,
          1,
          1,
          1,
          1,
          1,
          7,
          2,
          1,
          10,
          1,
          7,
          3,
          1,
          2,
          2,
          1,
          2,
          2,
          1,
          2,
          6,
          2,
          1,
          2,
          5,
          13,
          3,
          2,
          2,
          4,
          4,
          1,
          2,
          6,
          2,
          5,
          10,
          16,
          3,
          6,
          1,
          3,
          10,
          11,
          2,
          3,
          1,
          3,
          3,
          4,
          4,
          2,
          2,
          2,
          5,
          1,
          13,
          2,
          1,
          4,
          5,
          25,
          6,
          3,
          6,
          9.5,
          2,
          12,
          3,
          4,
          1,
          8,
          1,
          4,
          20,
          1,
          2,
          1,
          1,
          1,
          3,
          12,
          1,
          14,
          14,
          4,
          6,
          1,
          1,
          2,
          6,
          3,
          1,
          1,
          1,
          7,
          4,
          4,
          21,
          5,
          5,
          9,
          13,
          4,
          6,
          5,
          11,
          15,
          5,
          6,
          7,
          3,
          7,
          10,
          4,
          6,
          12,
          5,
          1,
          2,
          5,
          2,
          6,
          12,
          3,
          1,
          1,
          1,
          7,
          5,
          7,
          6,
          3,
          1,
          2,
          1,
          3,
          12,
          16,
          6,
          4,
          1,
          1,
          5,
          8,
          2,
          6,
          18,
          2,
          5,
          3,
          8,
          1,
          5,
          7,
          1,
          7,
          22,
          8,
          6,
          12,
          5,
          7,
          8,
          1,
          3,
          5,
          6,
          1,
          7,
          19,
          11,
          3,
          2,
          6,
          1,
          1,
          4,
          1,
          1,
          1,
          3,
          3,
          8,
          30,
          1,
          5,
          3,
          3,
          6,
          2,
          3,
          9,
          8,
          23,
          6,
          1,
          3,
          1,
          11,
          4,
          6,
          3,
          18,
          38,
          4,
          4,
          10,
          15,
          5,
          12,
          13,
          25,
          8
         ],
         "yaxis": "y"
        }
       ],
       "layout": {
        "legend": {
         "title": {
          "text": "Issue"
         },
         "tracegroupgap": 0
        },
        "template": {
         "data": {
          "bar": [
           {
            "error_x": {
             "color": "#2a3f5f"
            },
            "error_y": {
             "color": "#2a3f5f"
            },
            "marker": {
             "line": {
              "color": "#E5ECF6",
              "width": 0.5
             }
            },
            "type": "bar"
           }
          ],
          "barpolar": [
           {
            "marker": {
             "line": {
              "color": "#E5ECF6",
              "width": 0.5
             }
            },
            "type": "barpolar"
           }
          ],
          "carpet": [
           {
            "aaxis": {
             "endlinecolor": "#2a3f5f",
             "gridcolor": "white",
             "linecolor": "white",
             "minorgridcolor": "white",
             "startlinecolor": "#2a3f5f"
            },
            "baxis": {
             "endlinecolor": "#2a3f5f",
             "gridcolor": "white",
             "linecolor": "white",
             "minorgridcolor": "white",
             "startlinecolor": "#2a3f5f"
            },
            "type": "carpet"
           }
          ],
          "choropleth": [
           {
            "colorbar": {
             "outlinewidth": 0,
             "ticks": ""
            },
            "type": "choropleth"
           }
          ],
          "contour": [
           {
            "colorbar": {
             "outlinewidth": 0,
             "ticks": ""
            },
            "colorscale": [
             [
              0,
              "#0d0887"
             ],
             [
              0.1111111111111111,
              "#46039f"
             ],
             [
              0.2222222222222222,
              "#7201a8"
             ],
             [
              0.3333333333333333,
              "#9c179e"
             ],
             [
              0.4444444444444444,
              "#bd3786"
             ],
             [
              0.5555555555555556,
              "#d8576b"
             ],
             [
              0.6666666666666666,
              "#ed7953"
             ],
             [
              0.7777777777777778,
              "#fb9f3a"
             ],
             [
              0.8888888888888888,
              "#fdca26"
             ],
             [
              1,
              "#f0f921"
             ]
            ],
            "type": "contour"
           }
          ],
          "contourcarpet": [
           {
            "colorbar": {
             "outlinewidth": 0,
             "ticks": ""
            },
            "type": "contourcarpet"
           }
          ],
          "heatmap": [
           {
            "colorbar": {
             "outlinewidth": 0,
             "ticks": ""
            },
            "colorscale": [
             [
              0,
              "#0d0887"
             ],
             [
              0.1111111111111111,
              "#46039f"
             ],
             [
              0.2222222222222222,
              "#7201a8"
             ],
             [
              0.3333333333333333,
              "#9c179e"
             ],
             [
              0.4444444444444444,
              "#bd3786"
             ],
             [
              0.5555555555555556,
              "#d8576b"
             ],
             [
              0.6666666666666666,
              "#ed7953"
             ],
             [
              0.7777777777777778,
              "#fb9f3a"
             ],
             [
              0.8888888888888888,
              "#fdca26"
             ],
             [
              1,
              "#f0f921"
             ]
            ],
            "type": "heatmap"
           }
          ],
          "heatmapgl": [
           {
            "colorbar": {
             "outlinewidth": 0,
             "ticks": ""
            },
            "colorscale": [
             [
              0,
              "#0d0887"
             ],
             [
              0.1111111111111111,
              "#46039f"
             ],
             [
              0.2222222222222222,
              "#7201a8"
             ],
             [
              0.3333333333333333,
              "#9c179e"
             ],
             [
              0.4444444444444444,
              "#bd3786"
             ],
             [
              0.5555555555555556,
              "#d8576b"
             ],
             [
              0.6666666666666666,
              "#ed7953"
             ],
             [
              0.7777777777777778,
              "#fb9f3a"
             ],
             [
              0.8888888888888888,
              "#fdca26"
             ],
             [
              1,
              "#f0f921"
             ]
            ],
            "type": "heatmapgl"
           }
          ],
          "histogram": [
           {
            "marker": {
             "colorbar": {
              "outlinewidth": 0,
              "ticks": ""
             }
            },
            "type": "histogram"
           }
          ],
          "histogram2d": [
           {
            "colorbar": {
             "outlinewidth": 0,
             "ticks": ""
            },
            "colorscale": [
             [
              0,
              "#0d0887"
             ],
             [
              0.1111111111111111,
              "#46039f"
             ],
             [
              0.2222222222222222,
              "#7201a8"
             ],
             [
              0.3333333333333333,
              "#9c179e"
             ],
             [
              0.4444444444444444,
              "#bd3786"
             ],
             [
              0.5555555555555556,
              "#d8576b"
             ],
             [
              0.6666666666666666,
              "#ed7953"
             ],
             [
              0.7777777777777778,
              "#fb9f3a"
             ],
             [
              0.8888888888888888,
              "#fdca26"
             ],
             [
              1,
              "#f0f921"
             ]
            ],
            "type": "histogram2d"
           }
          ],
          "histogram2dcontour": [
           {
            "colorbar": {
             "outlinewidth": 0,
             "ticks": ""
            },
            "colorscale": [
             [
              0,
              "#0d0887"
             ],
             [
              0.1111111111111111,
              "#46039f"
             ],
             [
              0.2222222222222222,
              "#7201a8"
             ],
             [
              0.3333333333333333,
              "#9c179e"
             ],
             [
              0.4444444444444444,
              "#bd3786"
             ],
             [
              0.5555555555555556,
              "#d8576b"
             ],
             [
              0.6666666666666666,
              "#ed7953"
             ],
             [
              0.7777777777777778,
              "#fb9f3a"
             ],
             [
              0.8888888888888888,
              "#fdca26"
             ],
             [
              1,
              "#f0f921"
             ]
            ],
            "type": "histogram2dcontour"
           }
          ],
          "mesh3d": [
           {
            "colorbar": {
             "outlinewidth": 0,
             "ticks": ""
            },
            "type": "mesh3d"
           }
          ],
          "parcoords": [
           {
            "line": {
             "colorbar": {
              "outlinewidth": 0,
              "ticks": ""
             }
            },
            "type": "parcoords"
           }
          ],
          "pie": [
           {
            "automargin": true,
            "type": "pie"
           }
          ],
          "scatter": [
           {
            "marker": {
             "colorbar": {
              "outlinewidth": 0,
              "ticks": ""
             }
            },
            "type": "scatter"
           }
          ],
          "scatter3d": [
           {
            "line": {
             "colorbar": {
              "outlinewidth": 0,
              "ticks": ""
             }
            },
            "marker": {
             "colorbar": {
              "outlinewidth": 0,
              "ticks": ""
             }
            },
            "type": "scatter3d"
           }
          ],
          "scattercarpet": [
           {
            "marker": {
             "colorbar": {
              "outlinewidth": 0,
              "ticks": ""
             }
            },
            "type": "scattercarpet"
           }
          ],
          "scattergeo": [
           {
            "marker": {
             "colorbar": {
              "outlinewidth": 0,
              "ticks": ""
             }
            },
            "type": "scattergeo"
           }
          ],
          "scattergl": [
           {
            "marker": {
             "colorbar": {
              "outlinewidth": 0,
              "ticks": ""
             }
            },
            "type": "scattergl"
           }
          ],
          "scattermapbox": [
           {
            "marker": {
             "colorbar": {
              "outlinewidth": 0,
              "ticks": ""
             }
            },
            "type": "scattermapbox"
           }
          ],
          "scatterpolar": [
           {
            "marker": {
             "colorbar": {
              "outlinewidth": 0,
              "ticks": ""
             }
            },
            "type": "scatterpolar"
           }
          ],
          "scatterpolargl": [
           {
            "marker": {
             "colorbar": {
              "outlinewidth": 0,
              "ticks": ""
             }
            },
            "type": "scatterpolargl"
           }
          ],
          "scatterternary": [
           {
            "marker": {
             "colorbar": {
              "outlinewidth": 0,
              "ticks": ""
             }
            },
            "type": "scatterternary"
           }
          ],
          "surface": [
           {
            "colorbar": {
             "outlinewidth": 0,
             "ticks": ""
            },
            "colorscale": [
             [
              0,
              "#0d0887"
             ],
             [
              0.1111111111111111,
              "#46039f"
             ],
             [
              0.2222222222222222,
              "#7201a8"
             ],
             [
              0.3333333333333333,
              "#9c179e"
             ],
             [
              0.4444444444444444,
              "#bd3786"
             ],
             [
              0.5555555555555556,
              "#d8576b"
             ],
             [
              0.6666666666666666,
              "#ed7953"
             ],
             [
              0.7777777777777778,
              "#fb9f3a"
             ],
             [
              0.8888888888888888,
              "#fdca26"
             ],
             [
              1,
              "#f0f921"
             ]
            ],
            "type": "surface"
           }
          ],
          "table": [
           {
            "cells": {
             "fill": {
              "color": "#EBF0F8"
             },
             "line": {
              "color": "white"
             }
            },
            "header": {
             "fill": {
              "color": "#C8D4E3"
             },
             "line": {
              "color": "white"
             }
            },
            "type": "table"
           }
          ]
         },
         "layout": {
          "annotationdefaults": {
           "arrowcolor": "#2a3f5f",
           "arrowhead": 0,
           "arrowwidth": 1
          },
          "autotypenumbers": "strict",
          "coloraxis": {
           "colorbar": {
            "outlinewidth": 0,
            "ticks": ""
           }
          },
          "colorscale": {
           "diverging": [
            [
             0,
             "#8e0152"
            ],
            [
             0.1,
             "#c51b7d"
            ],
            [
             0.2,
             "#de77ae"
            ],
            [
             0.3,
             "#f1b6da"
            ],
            [
             0.4,
             "#fde0ef"
            ],
            [
             0.5,
             "#f7f7f7"
            ],
            [
             0.6,
             "#e6f5d0"
            ],
            [
             0.7,
             "#b8e186"
            ],
            [
             0.8,
             "#7fbc41"
            ],
            [
             0.9,
             "#4d9221"
            ],
            [
             1,
             "#276419"
            ]
           ],
           "sequential": [
            [
             0,
             "#0d0887"
            ],
            [
             0.1111111111111111,
             "#46039f"
            ],
            [
             0.2222222222222222,
             "#7201a8"
            ],
            [
             0.3333333333333333,
             "#9c179e"
            ],
            [
             0.4444444444444444,
             "#bd3786"
            ],
            [
             0.5555555555555556,
             "#d8576b"
            ],
            [
             0.6666666666666666,
             "#ed7953"
            ],
            [
             0.7777777777777778,
             "#fb9f3a"
            ],
            [
             0.8888888888888888,
             "#fdca26"
            ],
            [
             1,
             "#f0f921"
            ]
           ],
           "sequentialminus": [
            [
             0,
             "#0d0887"
            ],
            [
             0.1111111111111111,
             "#46039f"
            ],
            [
             0.2222222222222222,
             "#7201a8"
            ],
            [
             0.3333333333333333,
             "#9c179e"
            ],
            [
             0.4444444444444444,
             "#bd3786"
            ],
            [
             0.5555555555555556,
             "#d8576b"
            ],
            [
             0.6666666666666666,
             "#ed7953"
            ],
            [
             0.7777777777777778,
             "#fb9f3a"
            ],
            [
             0.8888888888888888,
             "#fdca26"
            ],
            [
             1,
             "#f0f921"
            ]
           ]
          },
          "colorway": [
           "#636efa",
           "#EF553B",
           "#00cc96",
           "#ab63fa",
           "#FFA15A",
           "#19d3f3",
           "#FF6692",
           "#B6E880",
           "#FF97FF",
           "#FECB52"
          ],
          "font": {
           "color": "#2a3f5f"
          },
          "geo": {
           "bgcolor": "white",
           "lakecolor": "white",
           "landcolor": "#E5ECF6",
           "showlakes": true,
           "showland": true,
           "subunitcolor": "white"
          },
          "hoverlabel": {
           "align": "left"
          },
          "hovermode": "closest",
          "mapbox": {
           "style": "light"
          },
          "paper_bgcolor": "white",
          "plot_bgcolor": "#E5ECF6",
          "polar": {
           "angularaxis": {
            "gridcolor": "white",
            "linecolor": "white",
            "ticks": ""
           },
           "bgcolor": "#E5ECF6",
           "radialaxis": {
            "gridcolor": "white",
            "linecolor": "white",
            "ticks": ""
           }
          },
          "scene": {
           "xaxis": {
            "backgroundcolor": "#E5ECF6",
            "gridcolor": "white",
            "gridwidth": 2,
            "linecolor": "white",
            "showbackground": true,
            "ticks": "",
            "zerolinecolor": "white"
           },
           "yaxis": {
            "backgroundcolor": "#E5ECF6",
            "gridcolor": "white",
            "gridwidth": 2,
            "linecolor": "white",
            "showbackground": true,
            "ticks": "",
            "zerolinecolor": "white"
           },
           "zaxis": {
            "backgroundcolor": "#E5ECF6",
            "gridcolor": "white",
            "gridwidth": 2,
            "linecolor": "white",
            "showbackground": true,
            "ticks": "",
            "zerolinecolor": "white"
           }
          },
          "shapedefaults": {
           "line": {
            "color": "#2a3f5f"
           }
          },
          "ternary": {
           "aaxis": {
            "gridcolor": "white",
            "linecolor": "white",
            "ticks": ""
           },
           "baxis": {
            "gridcolor": "white",
            "linecolor": "white",
            "ticks": ""
           },
           "bgcolor": "#E5ECF6",
           "caxis": {
            "gridcolor": "white",
            "linecolor": "white",
            "ticks": ""
           }
          },
          "title": {
           "x": 0.05
          },
          "xaxis": {
           "automargin": true,
           "gridcolor": "white",
           "linecolor": "white",
           "ticks": "",
           "title": {
            "standoff": 15
           },
           "zerolinecolor": "white",
           "zerolinewidth": 2
          },
          "yaxis": {
           "automargin": true,
           "gridcolor": "white",
           "linecolor": "white",
           "ticks": "",
           "title": {
            "standoff": 15
           },
           "zerolinecolor": "white",
           "zerolinewidth": 2
          }
         }
        },
        "title": {
         "text": "Time Series with Range Slider and Selectors"
        },
        "xaxis": {
         "anchor": "y",
         "domain": [
          0,
          1
         ],
         "rangeselector": {
          "buttons": [
           {
            "count": 1,
            "label": "1m",
            "step": "month",
            "stepmode": "backward"
           },
           {
            "count": 6,
            "label": "6m",
            "step": "month",
            "stepmode": "backward"
           },
           {
            "count": 1,
            "label": "YTD",
            "step": "year",
            "stepmode": "todate"
           },
           {
            "count": 1,
            "label": "1y",
            "step": "year",
            "stepmode": "backward"
           },
           {
            "step": "all"
           }
          ]
         },
         "rangeslider": {
          "visible": true
         },
         "title": {
          "text": "Resolved"
         }
        },
        "yaxis": {
         "anchor": "x",
         "domain": [
          0,
          1
         ],
         "title": {
          "text": "Custom field (Story Points)"
         }
        }
       }
      }
     },
     "metadata": {},
     "output_type": "display_data"
    }
   ],
   "source": [
    "import plotly.express as px\n",
    "import pandas as pd\n",
    "\n",
    "df = pd.read_csv('https://raw.githubusercontent.com/plotly/datasets/master/finance-charts-apple.csv')\n",
    "\n",
    "fig = px.line(new_type\n",
    ", x='Resolved', y='Custom field (Story Points)', title='Time Series with Range Slider and Selectors', color=\"Issue\")\n",
    "\n",
    "fig.update_xaxes(\n",
    "    rangeslider_visible=True,\n",
    "    rangeselector=dict(\n",
    "        buttons=list([\n",
    "            dict(count=1, label=\"1m\", step=\"month\", stepmode=\"backward\"),\n",
    "            dict(count=6, label=\"6m\", step=\"month\", stepmode=\"backward\"),\n",
    "            dict(count=1, label=\"YTD\", step=\"year\", stepmode=\"todate\"),\n",
    "            dict(count=1, label=\"1y\", step=\"year\", stepmode=\"backward\"),\n",
    "            dict(step=\"all\")\n",
    "        ])\n",
    "    )\n",
    ")\n",
    "\n",
    "\n",
    "fig.show()"
   ]
  },
  {
   "cell_type": "code",
   "execution_count": 116,
   "metadata": {},
   "outputs": [
    {
     "ename": "TypeError",
     "evalue": "'list' object is not callable",
     "output_type": "error",
     "traceback": [
      "\u001b[0;31m---------------------------------------------------------------------------\u001b[0m",
      "\u001b[0;31mTypeError\u001b[0m                                 Traceback (most recent call last)",
      "\u001b[0;32m<ipython-input-116-eb939eef8942>\u001b[0m in \u001b[0;36m<module>\u001b[0;34m\u001b[0m\n\u001b[1;32m      1\u001b[0m \u001b[0;32mimport\u001b[0m \u001b[0mrequests\u001b[0m\u001b[0;34m\u001b[0m\u001b[0;34m\u001b[0m\u001b[0m\n\u001b[1;32m      2\u001b[0m \u001b[0mjira\u001b[0m \u001b[0;34m=\u001b[0m \u001b[0mrequests\u001b[0m\u001b[0;34m.\u001b[0m\u001b[0mget\u001b[0m\u001b[0;34m(\u001b[0m\u001b[0;34m'https://jira.deutsche-boerse.com/'\u001b[0m\u001b[0;34m,\u001b[0m \u001b[0mcert\u001b[0m\u001b[0;34m=\u001b[0m\u001b[0;34m'/home/oh856/APP-FLASK/Flask-app-dash/newfile.pem'\u001b[0m\u001b[0;34m,\u001b[0m \u001b[0mverify\u001b[0m\u001b[0;34m=\u001b[0m\u001b[0;32mTrue\u001b[0m\u001b[0;34m)\u001b[0m\u001b[0;34m\u001b[0m\u001b[0;34m\u001b[0m\u001b[0m\n\u001b[0;32m----> 3\u001b[0;31m \u001b[0mjira\u001b[0m\u001b[0;34m.\u001b[0m\u001b[0mhistory\u001b[0m\u001b[0;34m(\u001b[0m\u001b[0;34m)\u001b[0m\u001b[0;34m\u001b[0m\u001b[0;34m\u001b[0m\u001b[0m\n\u001b[0m",
      "\u001b[0;31mTypeError\u001b[0m: 'list' object is not callable"
     ]
    }
   ],
   "source": [
    "import requests\n",
    "jira = requests.get('https://jira.deutsche-boerse.com/', cert='/home/oh856/APP-FLASK/Flask-app-dash/newfile.pem', verify=True)\n",
    "\n"
   ]
  },
  {
   "cell_type": "code",
   "execution_count": 124,
   "metadata": {},
   "outputs": [
    {
     "ename": "TypeError",
     "evalue": "__init__() got an unexpected keyword argument 'cert'",
     "output_type": "error",
     "traceback": [
      "\u001b[0;31m---------------------------------------------------------------------------\u001b[0m",
      "\u001b[0;31mTypeError\u001b[0m                                 Traceback (most recent call last)",
      "\u001b[0;32m<ipython-input-124-f912db11fde2>\u001b[0m in \u001b[0;36m<module>\u001b[0;34m\u001b[0m\n\u001b[1;32m      8\u001b[0m jira = Jira(\n\u001b[1;32m      9\u001b[0m     \u001b[0murl\u001b[0m\u001b[0;34m=\u001b[0m\u001b[0;34m'https://jira.deutsche-boerse.com/'\u001b[0m\u001b[0;34m,\u001b[0m\u001b[0;34m\u001b[0m\u001b[0;34m\u001b[0m\u001b[0m\n\u001b[0;32m---> 10\u001b[0;31m     cert='/home/oh856/APP-FLASK/Flask-app-dash/')\n\u001b[0m",
      "\u001b[0;31mTypeError\u001b[0m: __init__() got an unexpected keyword argument 'cert'"
     ]
    }
   ],
   "source": [
    "from atlassian import Jira\n",
    "jira_instance = Jira(\n",
    "    url = 'https://jira.deutsche-boerse.com/',\n",
    "    username = 'oh856',\n",
    "    password = 'Hlktvurkxllu996.',\n",
    ")\n"
   ]
  },
  {
   "cell_type": "code",
   "execution_count": 8,
   "metadata": {},
   "outputs": [
    {
     "name": "stdout",
     "output_type": "stream",
     "text": [
      "Chuck Norris can take a bath in a toilet.\n"
     ]
    }
   ],
   "source": [
    "import requests\n",
    "import json \n",
    "\n",
    "\n",
    "chuck_morris = requests.get('https://api.chucknorris.io/jokes/random')\n",
    "json_data = json.loads(chuck_morris.text)\n",
    "print(json_data['value'])"
   ]
  },
  {
   "cell_type": "code",
   "execution_count": null,
   "metadata": {},
   "outputs": [],
   "source": [
    "def timetofunction(dataframe, dataframeforappend, dataframecolumn,)\n",
    "    for i in pd.Series(dataframe[dataframecolumn]):\n",
    "        try:\n",
    "                print(breahced.append(i[0][\"breached\"]))\n",
    "        except IndexError:\n",
    "                print(breahced.append(\"Na\"))"
   ]
  },
  {
   "cell_type": "code",
   "execution_count": 1,
   "metadata": {},
   "outputs": [
    {
     "ename": "RuntimeError",
     "evalue": "module compiled against API version 0xe but this version of numpy is 0xd",
     "output_type": "error",
     "traceback": [
      "\u001b[0;31m---------------------------------------------------------------------------\u001b[0m",
      "\u001b[0;31mRuntimeError\u001b[0m                              Traceback (most recent call last)",
      "\u001b[0;31mRuntimeError\u001b[0m: module compiled against API version 0xe but this version of numpy is 0xd"
     ]
    },
    {
     "ename": "OSError",
     "evalue": "Could not find the TLS certificate file, invalid path: /home/oh856/APP-FLASK/Flask-app-dash/newfile.pem",
     "output_type": "error",
     "traceback": [
      "\u001b[0;31m---------------------------------------------------------------------------\u001b[0m",
      "\u001b[0;31mOSError\u001b[0m                                   Traceback (most recent call last)",
      "\u001b[0;32m<ipython-input-1-f979e0ffe5b8>\u001b[0m in \u001b[0;36m<module>\u001b[0;34m\u001b[0m\n\u001b[1;32m     12\u001b[0m \u001b[0;34m\u001b[0m\u001b[0m\n\u001b[1;32m     13\u001b[0m \u001b[0;34m\u001b[0m\u001b[0m\n\u001b[0;32m---> 14\u001b[0;31m \u001b[0mjira\u001b[0m \u001b[0;34m=\u001b[0m \u001b[0mJIRA\u001b[0m\u001b[0;34m(\u001b[0m\u001b[0moptions\u001b[0m\u001b[0;34m,\u001b[0m \u001b[0mbasic_auth\u001b[0m\u001b[0;34m=\u001b[0m\u001b[0;34m(\u001b[0m\u001b[0mjira_user\u001b[0m\u001b[0;34m,\u001b[0m \u001b[0mjira_pass\u001b[0m\u001b[0;34m)\u001b[0m\u001b[0;34m)\u001b[0m\u001b[0;34m\u001b[0m\u001b[0;34m\u001b[0m\u001b[0m\n\u001b[0m\u001b[1;32m     15\u001b[0m \u001b[0;34m\u001b[0m\u001b[0m\n\u001b[1;32m     16\u001b[0m \u001b[0mquery\u001b[0m \u001b[0;34m=\u001b[0m \u001b[0;34m(\u001b[0m\u001b[0;34m'''\"Epic Link\" = XP-1460 AND issuetype not in (Sub-task, Epic) AND resolution not in (\"Won't Fix\", \"Won't Do\", Rejected, Declined, Duplicate)'''\u001b[0m\u001b[0;34m)\u001b[0m\u001b[0;34m\u001b[0m\u001b[0;34m\u001b[0m\u001b[0m\n",
      "\u001b[0;32m/usr/local/lib/python3.8/dist-packages/jira-3.0.1-py3.8.egg/jira/client.py\u001b[0m in \u001b[0;36m__init__\u001b[0;34m(self, server, options, basic_auth, oauth, jwt, kerberos, kerberos_options, validate, get_server_info, async_, async_workers, logging, max_retries, proxies, timeout, auth)\u001b[0m\n\u001b[1;32m    504\u001b[0m         \u001b[0;32mif\u001b[0m \u001b[0mget_server_info\u001b[0m\u001b[0;34m:\u001b[0m\u001b[0;34m\u001b[0m\u001b[0;34m\u001b[0m\u001b[0m\n\u001b[1;32m    505\u001b[0m             \u001b[0;31m# We need version in order to know what API calls are available or not\u001b[0m\u001b[0;34m\u001b[0m\u001b[0;34m\u001b[0m\u001b[0;34m\u001b[0m\u001b[0m\n\u001b[0;32m--> 506\u001b[0;31m             \u001b[0msi\u001b[0m \u001b[0;34m=\u001b[0m \u001b[0mself\u001b[0m\u001b[0;34m.\u001b[0m\u001b[0mserver_info\u001b[0m\u001b[0;34m(\u001b[0m\u001b[0;34m)\u001b[0m\u001b[0;34m\u001b[0m\u001b[0;34m\u001b[0m\u001b[0m\n\u001b[0m\u001b[1;32m    507\u001b[0m             \u001b[0;32mtry\u001b[0m\u001b[0;34m:\u001b[0m\u001b[0;34m\u001b[0m\u001b[0;34m\u001b[0m\u001b[0m\n\u001b[1;32m    508\u001b[0m                 \u001b[0mself\u001b[0m\u001b[0;34m.\u001b[0m\u001b[0m_version\u001b[0m \u001b[0;34m=\u001b[0m \u001b[0mtuple\u001b[0m\u001b[0;34m(\u001b[0m\u001b[0msi\u001b[0m\u001b[0;34m[\u001b[0m\u001b[0;34m\"versionNumbers\"\u001b[0m\u001b[0;34m]\u001b[0m\u001b[0;34m)\u001b[0m\u001b[0;34m\u001b[0m\u001b[0;34m\u001b[0m\u001b[0m\n",
      "\u001b[0;32m/usr/local/lib/python3.8/dist-packages/jira-3.0.1-py3.8.egg/jira/client.py\u001b[0m in \u001b[0;36mserver_info\u001b[0;34m(self)\u001b[0m\n\u001b[1;32m   2549\u001b[0m         \"\"\"\n\u001b[1;32m   2550\u001b[0m         \u001b[0mretry\u001b[0m \u001b[0;34m=\u001b[0m \u001b[0;36m0\u001b[0m\u001b[0;34m\u001b[0m\u001b[0;34m\u001b[0m\u001b[0m\n\u001b[0;32m-> 2551\u001b[0;31m         \u001b[0mj\u001b[0m \u001b[0;34m=\u001b[0m \u001b[0mself\u001b[0m\u001b[0;34m.\u001b[0m\u001b[0m_get_json\u001b[0m\u001b[0;34m(\u001b[0m\u001b[0;34m\"serverInfo\"\u001b[0m\u001b[0;34m)\u001b[0m\u001b[0;34m\u001b[0m\u001b[0;34m\u001b[0m\u001b[0m\n\u001b[0m\u001b[1;32m   2552\u001b[0m         \u001b[0;32mwhile\u001b[0m \u001b[0;32mnot\u001b[0m \u001b[0mj\u001b[0m \u001b[0;32mand\u001b[0m \u001b[0mretry\u001b[0m \u001b[0;34m<\u001b[0m \u001b[0;36m3\u001b[0m\u001b[0;34m:\u001b[0m\u001b[0;34m\u001b[0m\u001b[0;34m\u001b[0m\u001b[0m\n\u001b[1;32m   2553\u001b[0m             logging.warning(\n",
      "\u001b[0;32m/usr/local/lib/python3.8/dist-packages/jira-3.0.1-py3.8.egg/jira/client.py\u001b[0m in \u001b[0;36m_get_json\u001b[0;34m(self, path, params, base)\u001b[0m\n\u001b[1;32m   3137\u001b[0m         \"\"\"\n\u001b[1;32m   3138\u001b[0m         \u001b[0murl\u001b[0m \u001b[0;34m=\u001b[0m \u001b[0mself\u001b[0m\u001b[0;34m.\u001b[0m\u001b[0m_get_url\u001b[0m\u001b[0;34m(\u001b[0m\u001b[0mpath\u001b[0m\u001b[0;34m,\u001b[0m \u001b[0mbase\u001b[0m\u001b[0;34m)\u001b[0m\u001b[0;34m\u001b[0m\u001b[0;34m\u001b[0m\u001b[0m\n\u001b[0;32m-> 3139\u001b[0;31m         \u001b[0mr\u001b[0m \u001b[0;34m=\u001b[0m \u001b[0mself\u001b[0m\u001b[0;34m.\u001b[0m\u001b[0m_session\u001b[0m\u001b[0;34m.\u001b[0m\u001b[0mget\u001b[0m\u001b[0;34m(\u001b[0m\u001b[0murl\u001b[0m\u001b[0;34m,\u001b[0m \u001b[0mparams\u001b[0m\u001b[0;34m=\u001b[0m\u001b[0mparams\u001b[0m\u001b[0;34m)\u001b[0m\u001b[0;34m\u001b[0m\u001b[0;34m\u001b[0m\u001b[0m\n\u001b[0m\u001b[1;32m   3140\u001b[0m         \u001b[0;32mtry\u001b[0m\u001b[0;34m:\u001b[0m\u001b[0;34m\u001b[0m\u001b[0;34m\u001b[0m\u001b[0m\n\u001b[1;32m   3141\u001b[0m             \u001b[0mr_json\u001b[0m \u001b[0;34m=\u001b[0m \u001b[0mjson_loads\u001b[0m\u001b[0;34m(\u001b[0m\u001b[0mr\u001b[0m\u001b[0;34m)\u001b[0m\u001b[0;34m\u001b[0m\u001b[0;34m\u001b[0m\u001b[0m\n",
      "\u001b[0;32m/usr/local/lib/python3.8/dist-packages/jira-3.0.1-py3.8.egg/jira/resilientsession.py\u001b[0m in \u001b[0;36mget\u001b[0;34m(self, url, **kwargs)\u001b[0m\n\u001b[1;32m    170\u001b[0m \u001b[0;34m\u001b[0m\u001b[0m\n\u001b[1;32m    171\u001b[0m     \u001b[0;32mdef\u001b[0m \u001b[0mget\u001b[0m\u001b[0;34m(\u001b[0m\u001b[0mself\u001b[0m\u001b[0;34m,\u001b[0m \u001b[0murl\u001b[0m\u001b[0;34m,\u001b[0m \u001b[0;34m**\u001b[0m\u001b[0mkwargs\u001b[0m\u001b[0;34m)\u001b[0m\u001b[0;34m:\u001b[0m\u001b[0;34m\u001b[0m\u001b[0;34m\u001b[0m\u001b[0m\n\u001b[0;32m--> 172\u001b[0;31m         \u001b[0;32mreturn\u001b[0m \u001b[0mself\u001b[0m\u001b[0;34m.\u001b[0m\u001b[0m__verb\u001b[0m\u001b[0;34m(\u001b[0m\u001b[0;34m\"GET\"\u001b[0m\u001b[0;34m,\u001b[0m \u001b[0murl\u001b[0m\u001b[0;34m,\u001b[0m \u001b[0;34m**\u001b[0m\u001b[0mkwargs\u001b[0m\u001b[0;34m)\u001b[0m\u001b[0;34m\u001b[0m\u001b[0;34m\u001b[0m\u001b[0m\n\u001b[0m\u001b[1;32m    173\u001b[0m \u001b[0;34m\u001b[0m\u001b[0m\n\u001b[1;32m    174\u001b[0m     \u001b[0;32mdef\u001b[0m \u001b[0mpost\u001b[0m\u001b[0;34m(\u001b[0m\u001b[0mself\u001b[0m\u001b[0;34m,\u001b[0m \u001b[0murl\u001b[0m\u001b[0;34m,\u001b[0m \u001b[0;34m**\u001b[0m\u001b[0mkwargs\u001b[0m\u001b[0;34m)\u001b[0m\u001b[0;34m:\u001b[0m\u001b[0;34m\u001b[0m\u001b[0;34m\u001b[0m\u001b[0m\n",
      "\u001b[0;32m/usr/local/lib/python3.8/dist-packages/jira-3.0.1-py3.8.egg/jira/resilientsession.py\u001b[0m in \u001b[0;36m__verb\u001b[0;34m(self, verb, url, retry_data, **kwargs)\u001b[0m\n\u001b[1;32m    141\u001b[0m             \u001b[0;32mtry\u001b[0m\u001b[0;34m:\u001b[0m\u001b[0;34m\u001b[0m\u001b[0;34m\u001b[0m\u001b[0m\n\u001b[1;32m    142\u001b[0m                 \u001b[0mmethod\u001b[0m \u001b[0;34m=\u001b[0m \u001b[0mgetattr\u001b[0m\u001b[0;34m(\u001b[0m\u001b[0msuper\u001b[0m\u001b[0;34m(\u001b[0m\u001b[0mResilientSession\u001b[0m\u001b[0;34m,\u001b[0m \u001b[0mself\u001b[0m\u001b[0;34m)\u001b[0m\u001b[0;34m,\u001b[0m \u001b[0mverb\u001b[0m\u001b[0;34m.\u001b[0m\u001b[0mlower\u001b[0m\u001b[0;34m(\u001b[0m\u001b[0;34m)\u001b[0m\u001b[0;34m)\u001b[0m\u001b[0;34m\u001b[0m\u001b[0;34m\u001b[0m\u001b[0m\n\u001b[0;32m--> 143\u001b[0;31m                 \u001b[0mresponse\u001b[0m \u001b[0;34m=\u001b[0m \u001b[0mmethod\u001b[0m\u001b[0;34m(\u001b[0m\u001b[0murl\u001b[0m\u001b[0;34m,\u001b[0m \u001b[0mtimeout\u001b[0m\u001b[0;34m=\u001b[0m\u001b[0mself\u001b[0m\u001b[0;34m.\u001b[0m\u001b[0mtimeout\u001b[0m\u001b[0;34m,\u001b[0m \u001b[0;34m**\u001b[0m\u001b[0mkwargs\u001b[0m\u001b[0;34m)\u001b[0m\u001b[0;34m\u001b[0m\u001b[0;34m\u001b[0m\u001b[0m\n\u001b[0m\u001b[1;32m    144\u001b[0m                 \u001b[0;32mif\u001b[0m \u001b[0mresponse\u001b[0m\u001b[0;34m.\u001b[0m\u001b[0mstatus_code\u001b[0m \u001b[0;34m>=\u001b[0m \u001b[0;36m200\u001b[0m \u001b[0;32mand\u001b[0m \u001b[0mresponse\u001b[0m\u001b[0;34m.\u001b[0m\u001b[0mstatus_code\u001b[0m \u001b[0;34m<=\u001b[0m \u001b[0;36m299\u001b[0m\u001b[0;34m:\u001b[0m\u001b[0;34m\u001b[0m\u001b[0;34m\u001b[0m\u001b[0m\n\u001b[1;32m    145\u001b[0m                     \u001b[0;32mreturn\u001b[0m \u001b[0mresponse\u001b[0m\u001b[0;34m\u001b[0m\u001b[0;34m\u001b[0m\u001b[0m\n",
      "\u001b[0;32m/usr/lib/python3/dist-packages/requests/sessions.py\u001b[0m in \u001b[0;36mget\u001b[0;34m(self, url, **kwargs)\u001b[0m\n\u001b[1;32m    544\u001b[0m \u001b[0;34m\u001b[0m\u001b[0m\n\u001b[1;32m    545\u001b[0m         \u001b[0mkwargs\u001b[0m\u001b[0;34m.\u001b[0m\u001b[0msetdefault\u001b[0m\u001b[0;34m(\u001b[0m\u001b[0;34m'allow_redirects'\u001b[0m\u001b[0;34m,\u001b[0m \u001b[0;32mTrue\u001b[0m\u001b[0;34m)\u001b[0m\u001b[0;34m\u001b[0m\u001b[0;34m\u001b[0m\u001b[0m\n\u001b[0;32m--> 546\u001b[0;31m         \u001b[0;32mreturn\u001b[0m \u001b[0mself\u001b[0m\u001b[0;34m.\u001b[0m\u001b[0mrequest\u001b[0m\u001b[0;34m(\u001b[0m\u001b[0;34m'GET'\u001b[0m\u001b[0;34m,\u001b[0m \u001b[0murl\u001b[0m\u001b[0;34m,\u001b[0m \u001b[0;34m**\u001b[0m\u001b[0mkwargs\u001b[0m\u001b[0;34m)\u001b[0m\u001b[0;34m\u001b[0m\u001b[0;34m\u001b[0m\u001b[0m\n\u001b[0m\u001b[1;32m    547\u001b[0m \u001b[0;34m\u001b[0m\u001b[0m\n\u001b[1;32m    548\u001b[0m     \u001b[0;32mdef\u001b[0m \u001b[0moptions\u001b[0m\u001b[0;34m(\u001b[0m\u001b[0mself\u001b[0m\u001b[0;34m,\u001b[0m \u001b[0murl\u001b[0m\u001b[0;34m,\u001b[0m \u001b[0;34m**\u001b[0m\u001b[0mkwargs\u001b[0m\u001b[0;34m)\u001b[0m\u001b[0;34m:\u001b[0m\u001b[0;34m\u001b[0m\u001b[0;34m\u001b[0m\u001b[0m\n",
      "\u001b[0;32m/usr/lib/python3/dist-packages/requests/sessions.py\u001b[0m in \u001b[0;36mrequest\u001b[0;34m(self, method, url, params, data, headers, cookies, files, auth, timeout, allow_redirects, proxies, hooks, stream, verify, cert, json)\u001b[0m\n\u001b[1;32m    531\u001b[0m         }\n\u001b[1;32m    532\u001b[0m         \u001b[0msend_kwargs\u001b[0m\u001b[0;34m.\u001b[0m\u001b[0mupdate\u001b[0m\u001b[0;34m(\u001b[0m\u001b[0msettings\u001b[0m\u001b[0;34m)\u001b[0m\u001b[0;34m\u001b[0m\u001b[0;34m\u001b[0m\u001b[0m\n\u001b[0;32m--> 533\u001b[0;31m         \u001b[0mresp\u001b[0m \u001b[0;34m=\u001b[0m \u001b[0mself\u001b[0m\u001b[0;34m.\u001b[0m\u001b[0msend\u001b[0m\u001b[0;34m(\u001b[0m\u001b[0mprep\u001b[0m\u001b[0;34m,\u001b[0m \u001b[0;34m**\u001b[0m\u001b[0msend_kwargs\u001b[0m\u001b[0;34m)\u001b[0m\u001b[0;34m\u001b[0m\u001b[0;34m\u001b[0m\u001b[0m\n\u001b[0m\u001b[1;32m    534\u001b[0m \u001b[0;34m\u001b[0m\u001b[0m\n\u001b[1;32m    535\u001b[0m         \u001b[0;32mreturn\u001b[0m \u001b[0mresp\u001b[0m\u001b[0;34m\u001b[0m\u001b[0;34m\u001b[0m\u001b[0m\n",
      "\u001b[0;32m/usr/lib/python3/dist-packages/requests/sessions.py\u001b[0m in \u001b[0;36msend\u001b[0;34m(self, request, **kwargs)\u001b[0m\n\u001b[1;32m    644\u001b[0m \u001b[0;34m\u001b[0m\u001b[0m\n\u001b[1;32m    645\u001b[0m         \u001b[0;31m# Send the request\u001b[0m\u001b[0;34m\u001b[0m\u001b[0;34m\u001b[0m\u001b[0;34m\u001b[0m\u001b[0m\n\u001b[0;32m--> 646\u001b[0;31m         \u001b[0mr\u001b[0m \u001b[0;34m=\u001b[0m \u001b[0madapter\u001b[0m\u001b[0;34m.\u001b[0m\u001b[0msend\u001b[0m\u001b[0;34m(\u001b[0m\u001b[0mrequest\u001b[0m\u001b[0;34m,\u001b[0m \u001b[0;34m**\u001b[0m\u001b[0mkwargs\u001b[0m\u001b[0;34m)\u001b[0m\u001b[0;34m\u001b[0m\u001b[0;34m\u001b[0m\u001b[0m\n\u001b[0m\u001b[1;32m    647\u001b[0m \u001b[0;34m\u001b[0m\u001b[0m\n\u001b[1;32m    648\u001b[0m         \u001b[0;31m# Total elapsed time of the request (approximately)\u001b[0m\u001b[0;34m\u001b[0m\u001b[0;34m\u001b[0m\u001b[0;34m\u001b[0m\u001b[0m\n",
      "\u001b[0;32m/usr/lib/python3/dist-packages/requests/adapters.py\u001b[0m in \u001b[0;36msend\u001b[0;34m(self, request, stream, timeout, verify, cert, proxies)\u001b[0m\n\u001b[1;32m    414\u001b[0m             \u001b[0;32mraise\u001b[0m \u001b[0mInvalidURL\u001b[0m\u001b[0;34m(\u001b[0m\u001b[0me\u001b[0m\u001b[0;34m,\u001b[0m \u001b[0mrequest\u001b[0m\u001b[0;34m=\u001b[0m\u001b[0mrequest\u001b[0m\u001b[0;34m)\u001b[0m\u001b[0;34m\u001b[0m\u001b[0;34m\u001b[0m\u001b[0m\n\u001b[1;32m    415\u001b[0m \u001b[0;34m\u001b[0m\u001b[0m\n\u001b[0;32m--> 416\u001b[0;31m         \u001b[0mself\u001b[0m\u001b[0;34m.\u001b[0m\u001b[0mcert_verify\u001b[0m\u001b[0;34m(\u001b[0m\u001b[0mconn\u001b[0m\u001b[0;34m,\u001b[0m \u001b[0mrequest\u001b[0m\u001b[0;34m.\u001b[0m\u001b[0murl\u001b[0m\u001b[0;34m,\u001b[0m \u001b[0mverify\u001b[0m\u001b[0;34m,\u001b[0m \u001b[0mcert\u001b[0m\u001b[0;34m)\u001b[0m\u001b[0;34m\u001b[0m\u001b[0;34m\u001b[0m\u001b[0m\n\u001b[0m\u001b[1;32m    417\u001b[0m         \u001b[0murl\u001b[0m \u001b[0;34m=\u001b[0m \u001b[0mself\u001b[0m\u001b[0;34m.\u001b[0m\u001b[0mrequest_url\u001b[0m\u001b[0;34m(\u001b[0m\u001b[0mrequest\u001b[0m\u001b[0;34m,\u001b[0m \u001b[0mproxies\u001b[0m\u001b[0;34m)\u001b[0m\u001b[0;34m\u001b[0m\u001b[0;34m\u001b[0m\u001b[0m\n\u001b[1;32m    418\u001b[0m         \u001b[0mself\u001b[0m\u001b[0;34m.\u001b[0m\u001b[0madd_headers\u001b[0m\u001b[0;34m(\u001b[0m\u001b[0mrequest\u001b[0m\u001b[0;34m,\u001b[0m \u001b[0mstream\u001b[0m\u001b[0;34m=\u001b[0m\u001b[0mstream\u001b[0m\u001b[0;34m,\u001b[0m \u001b[0mtimeout\u001b[0m\u001b[0;34m=\u001b[0m\u001b[0mtimeout\u001b[0m\u001b[0;34m,\u001b[0m \u001b[0mverify\u001b[0m\u001b[0;34m=\u001b[0m\u001b[0mverify\u001b[0m\u001b[0;34m,\u001b[0m \u001b[0mcert\u001b[0m\u001b[0;34m=\u001b[0m\u001b[0mcert\u001b[0m\u001b[0;34m,\u001b[0m \u001b[0mproxies\u001b[0m\u001b[0;34m=\u001b[0m\u001b[0mproxies\u001b[0m\u001b[0;34m)\u001b[0m\u001b[0;34m\u001b[0m\u001b[0;34m\u001b[0m\u001b[0m\n",
      "\u001b[0;32m/usr/lib/python3/dist-packages/requests/adapters.py\u001b[0m in \u001b[0;36mcert_verify\u001b[0;34m(self, conn, url, verify, cert)\u001b[0m\n\u001b[1;32m    247\u001b[0m                 \u001b[0mconn\u001b[0m\u001b[0;34m.\u001b[0m\u001b[0mkey_file\u001b[0m \u001b[0;34m=\u001b[0m \u001b[0;32mNone\u001b[0m\u001b[0;34m\u001b[0m\u001b[0;34m\u001b[0m\u001b[0m\n\u001b[1;32m    248\u001b[0m             \u001b[0;32mif\u001b[0m \u001b[0mconn\u001b[0m\u001b[0;34m.\u001b[0m\u001b[0mcert_file\u001b[0m \u001b[0;32mand\u001b[0m \u001b[0;32mnot\u001b[0m \u001b[0mos\u001b[0m\u001b[0;34m.\u001b[0m\u001b[0mpath\u001b[0m\u001b[0;34m.\u001b[0m\u001b[0mexists\u001b[0m\u001b[0;34m(\u001b[0m\u001b[0mconn\u001b[0m\u001b[0;34m.\u001b[0m\u001b[0mcert_file\u001b[0m\u001b[0;34m)\u001b[0m\u001b[0;34m:\u001b[0m\u001b[0;34m\u001b[0m\u001b[0;34m\u001b[0m\u001b[0m\n\u001b[0;32m--> 249\u001b[0;31m                 raise IOError(\"Could not find the TLS certificate file, \"\n\u001b[0m\u001b[1;32m    250\u001b[0m                               \"invalid path: {}\".format(conn.cert_file))\n\u001b[1;32m    251\u001b[0m             \u001b[0;32mif\u001b[0m \u001b[0mconn\u001b[0m\u001b[0;34m.\u001b[0m\u001b[0mkey_file\u001b[0m \u001b[0;32mand\u001b[0m \u001b[0;32mnot\u001b[0m \u001b[0mos\u001b[0m\u001b[0;34m.\u001b[0m\u001b[0mpath\u001b[0m\u001b[0;34m.\u001b[0m\u001b[0mexists\u001b[0m\u001b[0;34m(\u001b[0m\u001b[0mconn\u001b[0m\u001b[0;34m.\u001b[0m\u001b[0mkey_file\u001b[0m\u001b[0;34m)\u001b[0m\u001b[0;34m:\u001b[0m\u001b[0;34m\u001b[0m\u001b[0;34m\u001b[0m\u001b[0m\n",
      "\u001b[0;31mOSError\u001b[0m: Could not find the TLS certificate file, invalid path: /home/oh856/APP-FLASK/Flask-app-dash/newfile.pem"
     ]
    }
   ],
   "source": [
    "from jira.client import JIRA\n",
    "import re \n",
    "import pandas as pd \n",
    "import xlsxwriter\n",
    "\n",
    "options = {\n",
    "    'server': 'https://jira.deutsche-boerse.com/',\n",
    "    'client_cert':'/home/oh856/APP-FLASK/Flask-app-dash/newfile.pem'   \n",
    "}\n",
    "jira_user = 'oh856'\n",
    "jira_pass = 'Hlktvurkxllu996.'\n",
    "\n",
    "\n",
    "jira = JIRA(options, basic_auth=(jira_user, jira_pass))\n",
    "\n",
    "query = ('''\"Epic Link\" = XP-1460 AND issuetype not in (Sub-task, Epic) AND resolution not in (\"Won't Fix\", \"Won't Do\", Rejected, Declined, Duplicate)''')\n",
    "DEVELOPMENT_query = ('''((issueFunction in issuesInEpics(\"project = XP and labels IN ('External')\") AND \"Epic Link\" != XP-1460 AND issuetype not in (Sub-task, Epic) AND resolution not in (\"Won't Fix\", \"Won't Do\", Rejected, Declined, Duplicate)))''')\n",
    "\n",
    "issues = pd.DataFrame()\n"
   ]
  },
  {
   "cell_type": "code",
   "execution_count": 205,
   "metadata": {
    "tags": []
   },
   "outputs": [
    {
     "name": "stdout",
     "output_type": "stream",
     "text": [
      "      Custom field (Story Points)     Issue Key Issue Type Issue id  \\\n",
      "0                             NaN       XP-4916        Bug   109298   \n",
      "1                             4.0       XP-4898       Task   109193   \n",
      "2                             NaN       XP-4892       Task   109090   \n",
      "3                             NaN       XP-4888       Task   109080   \n",
      "4                             1.0       XP-4853       Task   108850   \n",
      "...                           ...           ...        ...      ...   \n",
      "1037                          NaN  SERVICE-9943       Task   107766   \n",
      "1038                          NaN  SERVICE-9942       Task   107765   \n",
      "1039                          NaN  SERVICE-9758       Task   106766   \n",
      "1040                          NaN  SERVICE-9757       Task   106765   \n",
      "1041                          NaN  SERVICE-9756       Task   106764   \n",
      "\n",
      "     Resolution                      Resolved  \\\n",
      "0          Done  2021-04-20T10:50:06.000+0200   \n",
      "1          Done  2021-04-14T11:11:04.000+0200   \n",
      "2          Done  2021-04-16T10:31:26.000+0200   \n",
      "3     Not a Bug  2021-04-20T10:35:29.000+0200   \n",
      "4          Done  2021-04-15T20:51:16.000+0200   \n",
      "...         ...                           ...   \n",
      "1037       Done  2021-03-15T11:33:21.000+0100   \n",
      "1038       Done  2021-03-16T11:05:15.000+0100   \n",
      "1039       Done  2021-03-11T11:34:54.000+0100   \n",
      "1040       Done  2021-03-11T23:14:50.000+0100   \n",
      "1041       Done  2021-03-04T11:10:41.000+0100   \n",
      "\n",
      "                                                Summary            assignee  \\\n",
      "0     SERVICE CLONE:  No CRD files are sent by ICS C...          David Siro   \n",
      "1     XBID CLONE: Cross-border Trade in CuTe13 (HEnE...      Tomas Bendasek   \n",
      "2                 SERVICE CLONE: XBID R3.1.8 to CuteTSO     Anh Tuan Nguyen   \n",
      "3     XBID CLONE: CEPS appearing as shipper in RTE i...                None   \n",
      "4     XBID CLONE: AM Indicator - frequency change to...     Oliver Heinsohn   \n",
      "...                                                 ...                 ...   \n",
      "1037  Failover Test XBID R3.1: Customer Test Scenari...  Peter Pruchnerovic   \n",
      "1038   Failover Test XBID R3.1: Internal Retest on Simu         Manuel Rapp   \n",
      "1039  Failover Test XBID R3.1: Customer Test Scenari...         Manuel Rapp   \n",
      "1040  Failover Test XBID R3.1: Customer Test Scenari...  Peter Pruchnerovic   \n",
      "1041  Failover Test XBID R3.1: Internal Test of all ...  Peter Pruchnerovic   \n",
      "\n",
      "                           created  \\\n",
      "0     2021-04-16T10:54:55.000+0200   \n",
      "1     2021-04-14T11:09:56.000+0200   \n",
      "2     2021-04-13T13:41:48.000+0200   \n",
      "3     2021-04-13T12:10:58.000+0200   \n",
      "4     2021-04-07T16:07:21.000+0200   \n",
      "...                            ...   \n",
      "1037  2021-03-10T11:10:12.000+0100   \n",
      "1038  2021-03-10T11:08:28.000+0100   \n",
      "1039  2021-02-15T13:09:11.000+0100   \n",
      "1040  2021-02-15T12:59:56.000+0100   \n",
      "1041  2021-02-15T12:57:31.000+0100   \n",
      "\n",
      "                                            description  \\\n",
      "0     Since Monday, April 12th, 2021 01:25 a.m., no ...   \n",
      "1     Dear Sir/Madam,\\r\\n\\r\\nWe have configured in C...   \n",
      "2                                    See SERVICE ticket   \n",
      "3     RTE noticed that XBN files received from SM co...   \n",
      "4     h2. Current Situation\\r\\n\\r\\nDear DBAG,\\r\\n\\r\\...   \n",
      "...                                                 ...   \n",
      "1037  After the failure of the test scenarios 1.2 we...   \n",
      "1038  After the failure of the test scenarios 1.2 an...   \n",
      "1039  *Date*\\r\\n * 05.03.2021\\r\\n\\r\\n*TechOps execut...   \n",
      "1040  *Date*\\r\\n * 04.03.2021\\r\\n\\r\\n*TechOps execut...   \n",
      "1041  *Date*\\r\\n * 02.03.2021 - 03.03.2021\\r\\n\\r\\n*T...   \n",
      "\n",
      "                     labels priority  project  status  \\\n",
      "0                        []    Minor       XP    Done   \n",
      "1               ['CuTePXs']    Minor       XP    Done   \n",
      "2               ['TechOps']    Minor       XP    Done   \n",
      "3                        []    Major       XP    Done   \n",
      "4       ['support_request']    Minor       XP    Done   \n",
      "...                     ...      ...      ...     ...   \n",
      "1037  ['FailoverTesteR3.1']    Minor  SERVICE  Closed   \n",
      "1038  ['FailoverTesteR3.1']    Minor  SERVICE  Closed   \n",
      "1039  ['FailoverTesteR3.1']    Major  SERVICE  Closed   \n",
      "1040  ['FailoverTesteR3.1']    Major  SERVICE  Closed   \n",
      "1041  ['FailoverTesteR3.1']    Major  SERVICE  Closed   \n",
      "\n",
      "                                     status_description  \\\n",
      "0                                                         \n",
      "1                                                         \n",
      "2                                                         \n",
      "3                                                         \n",
      "4                                                         \n",
      "...                                                 ...   \n",
      "1037  The issue is considered finished, the resoluti...   \n",
      "1038  The issue is considered finished, the resoluti...   \n",
      "1039  The issue is considered finished, the resoluti...   \n",
      "1040  The issue is considered finished, the resoluti...   \n",
      "1041  The issue is considered finished, the resoluti...   \n",
      "\n",
      "                           updated  \n",
      "0     2021-04-20T10:50:06.000+0200  \n",
      "1     2021-04-14T11:11:04.000+0200  \n",
      "2     2021-04-16T10:31:26.000+0200  \n",
      "3     2021-04-20T10:35:29.000+0200  \n",
      "4     2021-04-15T20:51:59.000+0200  \n",
      "...                            ...  \n",
      "1037  2021-03-24T11:26:42.000+0100  \n",
      "1038  2021-03-24T11:26:42.000+0100  \n",
      "1039  2021-03-24T11:26:41.000+0100  \n",
      "1040  2021-03-24T11:26:41.000+0100  \n",
      "1041  2021-03-10T11:19:10.000+0100  \n",
      "\n",
      "[1042 rows x 16 columns]\n",
      "None\n"
     ]
    }
   ],
   "source": [
    "def jira(data):\n",
    "    block_size = 100\n",
    "    block_num = 0\n",
    "    jira = JIRA(options, basic_auth=(jira_user, jira_pass))\n",
    "    issues_result = pd.DataFrame()\n",
    "    while True:\n",
    "            start_idx = block_num*block_size\n",
    "            issues = jira.search_issues(data, start_idx, block_size)\n",
    "            if len(issues) == 0:\n",
    "                # Retrieve issues until there are no more to come\n",
    "                break\n",
    "            block_num += 1\n",
    "            for issue in issues:\n",
    "                    try:\n",
    "                        d = {\n",
    "                            'Summary': str(issue.fields.summary),\n",
    "                            'Issue Key': issue.key,\n",
    "                            'Issue id': issue.id ,\n",
    "                            'Custom field (Story Points)': issue.fields.customfield_10052,\n",
    "                            'Issue Type': str(issue.fields.issuetype.name),\n",
    "                            'status': str(issue.fields.status.name),\n",
    "                            'project': str(issue.fields.project),\n",
    "                            'priority': str(issue.fields.priority.name),\n",
    "                            'assignee': str(issue.fields.assignee),\n",
    "                            'created' : str(issue.fields.created),   \n",
    "                            'labels': str(issue.fields.labels),\n",
    "                            'description': str(issue.fields.description),\n",
    "                            'Resolution': str(issue.fields.resolution),\n",
    "                            'Resolved': str(issue.fields.resolutiondate),\n",
    "                            'status_description': str(issue.fields.status.description),\n",
    "                            'updated': str(issue.fields.updated),\n",
    "                            \n",
    "                        }\n",
    "                        issues_result = issues_result.append(d, ignore_index= True)  \n",
    "                    except AttributeError:\n",
    "                        pass\n",
    "                        return issues_result\n",
    "\n"
   ]
  },
  {
   "cell_type": "code",
   "execution_count": 351,
   "metadata": {},
   "outputs": [
    {
     "name": "stdout",
     "output_type": "stream",
     "text": [
      "      Custom field (Story Points)     Issue Key Issue Type Issue id  \\\n",
      "0                             1.0       XP-5138       Task   111105   \n",
      "1                             1.0       XP-5116       Task   110933   \n",
      "2                             1.0       XP-5111       Task   110919   \n",
      "3                             1.0       XP-5091        Bug   110858   \n",
      "4                             1.0       XP-5088       Task   110834   \n",
      "...                           ...           ...        ...      ...   \n",
      "1076                          1.0  SERVICE-9943       Task   107766   \n",
      "1077                          1.0  SERVICE-9942       Task   107765   \n",
      "1078                          1.0  SERVICE-9758       Task   106766   \n",
      "1079                          1.0  SERVICE-9757       Task   106765   \n",
      "1080                          1.0  SERVICE-9756       Task   106764   \n",
      "\n",
      "     Resolution    Resolved  \\\n",
      "0          Done  2021-01-06   \n",
      "1          Done  2021-05-27   \n",
      "2          Done  2021-05-31   \n",
      "3          Done  2021-05-25   \n",
      "4          Done  2021-05-27   \n",
      "...         ...         ...   \n",
      "1076       Done  2021-03-15   \n",
      "1077       Done  2021-03-16   \n",
      "1078       Done  2021-11-03   \n",
      "1079       Done  2021-11-03   \n",
      "1080       Done  2021-04-03   \n",
      "\n",
      "                                                Summary            assignee  \\\n",
      "0           SERVICE CLONE: XBID Cute TSO: Hotfix R3.1.9         Manuel Rapp   \n",
      "1      SERVICE CLONE: XBID LIPA: Hotfix - Package 3.1.9         Manuel Rapp   \n",
      "2     SMXBID CLONE: Service Request / sFTP/ OMIE (NEMO)     Anh Tuan Nguyen   \n",
      "3     SMXBID CLONE: CRITICAL / SOB / MATCHING / EMCO...  Peter Pruchnerovic   \n",
      "4     Please remove old reports from SIMU SFTP AM fo...     Anh Tuan Nguyen   \n",
      "...                                                 ...                 ...   \n",
      "1076  Failover Test XBID R3.1: Customer Test Scenari...  Peter Pruchnerovic   \n",
      "1077   Failover Test XBID R3.1: Internal Retest on Simu         Manuel Rapp   \n",
      "1078  Failover Test XBID R3.1: Customer Test Scenari...         Manuel Rapp   \n",
      "1079  Failover Test XBID R3.1: Customer Test Scenari...  Peter Pruchnerovic   \n",
      "1080  Failover Test XBID R3.1: Internal Test of all ...  Peter Pruchnerovic   \n",
      "\n",
      "                           created  \\\n",
      "0     2021-05-28T10:49:53.000+0200   \n",
      "1     2021-05-25T18:29:49.000+0200   \n",
      "2     2021-05-25T14:35:29.000+0200   \n",
      "3     2021-05-22T13:11:13.000+0200   \n",
      "4     2021-05-21T13:08:28.000+0200   \n",
      "...                            ...   \n",
      "1076  2021-03-10T11:10:12.000+0100   \n",
      "1077  2021-03-10T11:08:28.000+0100   \n",
      "1078  2021-02-15T13:09:11.000+0100   \n",
      "1079  2021-02-15T12:59:56.000+0100   \n",
      "1080  2021-02-15T12:57:31.000+0100   \n",
      "\n",
      "                                            description  \\\n",
      "0                                      see Service task   \n",
      "1                                    See Service ticket   \n",
      "2     Dear DBAG. \\r\\n\\r\\nAfter deployment of release...   \n",
      "3     Received alarm:\\r\\n\\r\\n\\r\\nLaunched: 2021/05/2...   \n",
      "4     Currently the customers still see old reports ...   \n",
      "...                                                 ...   \n",
      "1076  After the failure of the test scenarios 1.2 we...   \n",
      "1077  After the failure of the test scenarios 1.2 an...   \n",
      "1078  *Date*\\r\\n * 05.03.2021\\r\\n\\r\\n*TechOps execut...   \n",
      "1079  *Date*\\r\\n * 04.03.2021\\r\\n\\r\\n*TechOps execut...   \n",
      "1080  *Date*\\r\\n * 02.03.2021 - 03.03.2021\\r\\n\\r\\n*T...   \n",
      "\n",
      "                     labels  priority  project  status  \\\n",
      "0                        []     Minor       XP    Done   \n",
      "1                        []     Minor       XP    Done   \n",
      "2                        []   Trivial       XP    Done   \n",
      "3               ['TechOps']  Critical       XP    Done   \n",
      "4                        []     Minor       XP    Done   \n",
      "...                     ...       ...      ...     ...   \n",
      "1076  ['FailoverTesteR3.1']     Minor  SERVICE  Closed   \n",
      "1077  ['FailoverTesteR3.1']     Minor  SERVICE  Closed   \n",
      "1078  ['FailoverTesteR3.1']     Major  SERVICE  Closed   \n",
      "1079  ['FailoverTesteR3.1']     Major  SERVICE  Closed   \n",
      "1080  ['FailoverTesteR3.1']     Major  SERVICE  Closed   \n",
      "\n",
      "                                     status_description  \\\n",
      "0                                                         \n",
      "1                                                         \n",
      "2                                                         \n",
      "3                                                         \n",
      "4                                                         \n",
      "...                                                 ...   \n",
      "1076  The issue is considered finished, the resoluti...   \n",
      "1077  The issue is considered finished, the resoluti...   \n",
      "1078  The issue is considered finished, the resoluti...   \n",
      "1079  The issue is considered finished, the resoluti...   \n",
      "1080  The issue is considered finished, the resoluti...   \n",
      "\n",
      "                           updated Issue  \n",
      "0     2021-06-01T10:28:32.000+0200  XBID  \n",
      "1     2021-05-27T08:45:28.000+0200  XBID  \n",
      "2     2021-05-31T09:52:54.000+0200  XBID  \n",
      "3     2021-05-26T09:41:53.000+0200  XBID  \n",
      "4     2021-05-27T10:28:39.000+0200  XBID  \n",
      "...                            ...   ...  \n",
      "1076  2021-03-24T11:26:42.000+0100  XBID  \n",
      "1077  2021-03-24T11:26:42.000+0100  XBID  \n",
      "1078  2021-03-24T11:26:41.000+0100  XBID  \n",
      "1079  2021-03-24T11:26:41.000+0100  XBID  \n",
      "1080  2021-03-10T11:19:10.000+0100  XBID  \n",
      "\n",
      "[1081 rows x 17 columns]\n"
     ]
    }
   ],
   "source": [
    "import requests\n",
    "from jira.client import JIRA\n",
    "import re \n",
    "import pandas as pd \n",
    "import xlsxwriter\n",
    "import numpy as np \n",
    "\n",
    "def total_calculation(data, ame):\n",
    "    data['Resolved'] = data['Resolved'].fillna(method='ffill')\n",
    "    data[\"Resolved\"] = pd.to_datetime(data[\"Resolved\"],dayfirst =True, errors ='coerce')\n",
    "    data[\"Custom field (Story Points)\"] = data[\"Custom field (Story Points)\"].fillna(0)\n",
    "    data['Custom field (Story Points)'] = np.where(data['Custom field (Story Points)'].between(0.0,1.0), 1, data['Custom field (Story Points)'])\n",
    "    data['Issue'] = np.where(data['Resolution'],ame, data['Resolution'])\n",
    "    data[\"Resolved\"] = data[\"Resolved\"].apply(lambda x: x.date())\n",
    "\n",
    "    return data\n",
    "\n",
    "\n",
    "def jiracollectorxbid():\n",
    "    options = {\n",
    "    'server': 'https://jira.deutsche-boerse.com/',\n",
    "    'client_cert':'/home/oh856/APP-FLASK/Flask-app-dash/newfile.pem'   \n",
    "    }\n",
    "    jira_user = 'oh856'\n",
    "    jira_pass = 'Ccf5566096.'\n",
    "\n",
    "\n",
    "    jira = JIRA(options, basic_auth=(jira_user, jira_pass))\n",
    "\n",
    "    XBID_SUPPORT_query = ('''\"Epic Link\" = XP-1460 AND issuetype not in (Sub-task, Epic) AND resolution not in (\"Won't Fix\", \"Won't Do\", Rejected, Declined, Duplicate)''')\n",
    "\n",
    "\n",
    "    \n",
    "\n",
    "    xbid_result = pd.DataFrame()\n",
    "\n",
    "  \n",
    "    issues = jira.search_issues(XBID_SUPPORT_query, maxResults=2000)\n",
    "    \n",
    "    for issue in issues:\n",
    "\n",
    "                            try:\n",
    "                                d = {\n",
    "                                    'Summary': str(issue.fields.summary),\n",
    "                                    'Issue Key': issue.key,\n",
    "                                    'Issue id': issue.id ,\n",
    "                                    'Custom field (Story Points)': issue.fields.customfield_10052,\n",
    "                                    'Issue Type': str(issue.fields.issuetype.name),\n",
    "                                    'status': str(issue.fields.status.name),\n",
    "                                    'project': str(issue.fields.project),\n",
    "                                    'priority': str(issue.fields.priority.name),\n",
    "                                    'assignee': str(issue.fields.assignee),\n",
    "                                    'created' : str(issue.fields.created),   \n",
    "                                    'labels': str(issue.fields.labels),\n",
    "                                    'description': str(issue.fields.description),\n",
    "                                    'Resolution': str(issue.fields.resolution),\n",
    "                                    'Resolved': issue.fields.resolutiondate,\n",
    "                                    'status_description': str(issue.fields.status.description),\n",
    "                                    'updated': str(issue.fields.updated),\n",
    "                                    \n",
    "                                }\n",
    "                                xbid_result = xbid_result.append(d, ignore_index= True)  \n",
    "                                \n",
    "                            except AttributeError:\n",
    "                                pass\n",
    "\n",
    "    xbid_result = total_calculation(xbid_result,'XBID')\n",
    "    return xbid_result\n",
    "\n",
    "            \n",
    "    \n",
    "\n",
    "aa = jiracollectorxbid()\n",
    "print(aa)"
   ]
  },
  {
   "cell_type": "code",
   "execution_count": 330,
   "metadata": {},
   "outputs": [],
   "source": [
    "aa[\"Resolved\"] = pd.to_datetime(aa[\"Resolved\"],dayfirst =True, errors ='coerce')\n",
    "\n"
   ]
  },
  {
   "cell_type": "code",
   "execution_count": 348,
   "metadata": {},
   "outputs": [],
   "source": [
    "a = aa['Resolved']"
   ]
  },
  {
   "cell_type": "code",
   "execution_count": 350,
   "metadata": {},
   "outputs": [
    {
     "ename": "AttributeError",
     "evalue": "'NoneType' object has no attribute 'date'",
     "output_type": "error",
     "traceback": [
      "\u001b[0;31m---------------------------------------------------------------------------\u001b[0m",
      "\u001b[0;31mAttributeError\u001b[0m                            Traceback (most recent call last)",
      "\u001b[0;32m<ipython-input-350-87194d5b3c7d>\u001b[0m in \u001b[0;36m<module>\u001b[0;34m\u001b[0m\n\u001b[0;32m----> 1\u001b[0;31m \u001b[0ma\u001b[0m\u001b[0;34m.\u001b[0m\u001b[0mapply\u001b[0m\u001b[0;34m(\u001b[0m\u001b[0;32mlambda\u001b[0m \u001b[0mx\u001b[0m\u001b[0;34m:\u001b[0m \u001b[0mx\u001b[0m\u001b[0;34m.\u001b[0m\u001b[0mdate\u001b[0m\u001b[0;34m(\u001b[0m\u001b[0;34m)\u001b[0m\u001b[0;34m)\u001b[0m\u001b[0;34m\u001b[0m\u001b[0;34m\u001b[0m\u001b[0m\n\u001b[0m",
      "\u001b[0;32m~/anaconda3/lib/python3.7/site-packages/pandas/core/series.py\u001b[0m in \u001b[0;36mapply\u001b[0;34m(self, func, convert_dtype, args, **kwds)\u001b[0m\n\u001b[1;32m   3846\u001b[0m             \u001b[0;32melse\u001b[0m\u001b[0;34m:\u001b[0m\u001b[0;34m\u001b[0m\u001b[0;34m\u001b[0m\u001b[0m\n\u001b[1;32m   3847\u001b[0m                 \u001b[0mvalues\u001b[0m \u001b[0;34m=\u001b[0m \u001b[0mself\u001b[0m\u001b[0;34m.\u001b[0m\u001b[0mastype\u001b[0m\u001b[0;34m(\u001b[0m\u001b[0mobject\u001b[0m\u001b[0;34m)\u001b[0m\u001b[0;34m.\u001b[0m\u001b[0mvalues\u001b[0m\u001b[0;34m\u001b[0m\u001b[0;34m\u001b[0m\u001b[0m\n\u001b[0;32m-> 3848\u001b[0;31m                 \u001b[0mmapped\u001b[0m \u001b[0;34m=\u001b[0m \u001b[0mlib\u001b[0m\u001b[0;34m.\u001b[0m\u001b[0mmap_infer\u001b[0m\u001b[0;34m(\u001b[0m\u001b[0mvalues\u001b[0m\u001b[0;34m,\u001b[0m \u001b[0mf\u001b[0m\u001b[0;34m,\u001b[0m \u001b[0mconvert\u001b[0m\u001b[0;34m=\u001b[0m\u001b[0mconvert_dtype\u001b[0m\u001b[0;34m)\u001b[0m\u001b[0;34m\u001b[0m\u001b[0;34m\u001b[0m\u001b[0m\n\u001b[0m\u001b[1;32m   3849\u001b[0m \u001b[0;34m\u001b[0m\u001b[0m\n\u001b[1;32m   3850\u001b[0m         \u001b[0;32mif\u001b[0m \u001b[0mlen\u001b[0m\u001b[0;34m(\u001b[0m\u001b[0mmapped\u001b[0m\u001b[0;34m)\u001b[0m \u001b[0;32mand\u001b[0m \u001b[0misinstance\u001b[0m\u001b[0;34m(\u001b[0m\u001b[0mmapped\u001b[0m\u001b[0;34m[\u001b[0m\u001b[0;36m0\u001b[0m\u001b[0;34m]\u001b[0m\u001b[0;34m,\u001b[0m \u001b[0mSeries\u001b[0m\u001b[0;34m)\u001b[0m\u001b[0;34m:\u001b[0m\u001b[0;34m\u001b[0m\u001b[0;34m\u001b[0m\u001b[0m\n",
      "\u001b[0;32mpandas/_libs/lib.pyx\u001b[0m in \u001b[0;36mpandas._libs.lib.map_infer\u001b[0;34m()\u001b[0m\n",
      "\u001b[0;32m<ipython-input-350-87194d5b3c7d>\u001b[0m in \u001b[0;36m<lambda>\u001b[0;34m(x)\u001b[0m\n\u001b[0;32m----> 1\u001b[0;31m \u001b[0ma\u001b[0m\u001b[0;34m.\u001b[0m\u001b[0mapply\u001b[0m\u001b[0;34m(\u001b[0m\u001b[0;32mlambda\u001b[0m \u001b[0mx\u001b[0m\u001b[0;34m:\u001b[0m \u001b[0mx\u001b[0m\u001b[0;34m.\u001b[0m\u001b[0mdate\u001b[0m\u001b[0;34m(\u001b[0m\u001b[0;34m)\u001b[0m\u001b[0;34m)\u001b[0m\u001b[0;34m\u001b[0m\u001b[0;34m\u001b[0m\u001b[0m\n\u001b[0m",
      "\u001b[0;31mAttributeError\u001b[0m: 'NoneType' object has no attribute 'date'"
     ]
    }
   ],
   "source": [
    "a.apply(lambda x: x.date())"
   ]
  },
  {
   "cell_type": "code",
   "execution_count": 321,
   "metadata": {},
   "outputs": [
    {
     "name": "stderr",
     "output_type": "stream",
     "text": [
      "WARNING:root:Got recoverable error from GET https://jira.deutsche-boerse.com/rest/api/2/serverInfo, will retry [1/3] in 3.455364225655475s. Err: 401 \n",
      "WARNING:root:Got recoverable error from GET https://jira.deutsche-boerse.com/rest/api/2/serverInfo, will retry [2/3] in 0.7413926283771088s. Err: 401 \n"
     ]
    },
    {
     "ename": "JIRAError",
     "evalue": "JiraError HTTP 403 url: https://jira.deutsche-boerse.com/rest/api/2/serverInfo\n\ttext: CAPTCHA_CHALLENGE; login-url=https://jira.deutsche-boerse.com/login.jsp\n\t\n\tresponse headers = {'Date': 'Mon, 31 May 2021 14:53:09 GMT', 'Server': 'Apache/2.4.6 (Red Hat Enterprise Linux) OpenSSL/1.0.2k-fips', 'X-AREQUESTID': '1013x10777659x1', 'X-ASESSIONID': '11jnni9', 'Referrer-Policy': 'strict-origin-when-cross-origin', 'X-XSS-Protection': '1; mode=block', 'X-Content-Type-Options': 'nosniff', 'X-Frame-Options': 'SAMEORIGIN', 'Content-Security-Policy': \"frame-ancestors 'self'\", 'Strict-Transport-Security': 'max-age=31536000', 'X-Seraph-LoginReason': 'AUTHENTICATED_FAILED', 'WWW-Authenticate': 'OAuth realm=\"https%3A%2F%2Fjira.deutsche-boerse.com\"', 'X-Authentication-Denied-Reason': 'CAPTCHA_CHALLENGE; login-url=https://jira.deutsche-boerse.com/login.jsp', 'Content-Type': 'text/html;charset=UTF-8', 'Keep-Alive': 'timeout=5, max=98', 'Connection': 'Keep-Alive', 'Transfer-Encoding': 'chunked'}\n\tresponse text = \n\n\n\n\n\n\n\n\n\n<html>\n\n<head>\n    <title>Forbidden (403)</title>\n    \n\n\n\n<!--[if IE]><![endif]-->\n<script type=\"text/javascript\">\n    (function() {\n        var contextPath = '';\n\n        function printDeprecatedMsg() {\n            if (console && console.warn) {\n                console.warn('DEPRECATED JS - contextPath global variable has been deprecated since 7.4.0. Use `wrm/context-path` module instead.');\n            }\n        }\n\n        Object.defineProperty(window, 'contextPath', {\n            get: function() {\n                printDeprecatedMsg();\n                return contextPath;\n            },\n            set: function(value) {\n                printDeprecatedMsg();\n                contextPath = value;\n            }\n        });\n    })();\n\n</script>\n<script>\nwindow.WRM=window.WRM||{};window.WRM._unparsedData=window.WRM._unparsedData||{};window.WRM._unparsedErrors=window.WRM._unparsedErrors||{};\nWRM._unparsedData[\"com.atlassian.plugins.atlassian-plugins-webresource-plugin:context-path.context-path\"]=\"\\\"\\\"\";\nWRM._unparsedData[\"jira.core:feature-flags-data.feature-flag-data\"]=\"{\\\"enabled-feature-keys\\\":[\\\"com.atlassian.jira.agile.darkfeature.editable.detailsview\\\",\\\"nps.survey.inline.dialog\\\",\\\"com.atlassian.jira.agile.darkfeature.edit.closed.sprint.enabled\\\",\\\"jira.plugin.devstatus.phasetwo\\\",\\\"jira.frother.reporter.field\\\",\\\"atlassian.rest.xsrf.legacy.enabled\\\",\\\"jira.issue.status.lozenge\\\",\\\"com.atlassian.jira.config.BIG_PIPE\\\",\\\"com.atlassian.jira.config.PDL\\\",\\\"jira.plugin.devstatus.phasetwo.enabled\\\",\\\"atlassian.aui.raphael.disabled\\\",\\\"app-switcher.new\\\",\\\"frother.assignee.field\\\",\\\"com.atlassian.jira.projects.ProjectCentricNavigation.Switch\\\",\\\"sd.internal.base.off.thread.on.completion.events.enabled\\\",\\\"jira.onboarding.cyoa\\\",\\\"com.atlassian.jira.agile.darkfeature.kanplan.enabled\\\",\\\"sd.slavalue.record.updated.date.enabled\\\",\\\"scriptrunner.idea.external.editor.enabled\\\",\\\"com.atlassian.jira.config.ProjectConfig.MENU\\\",\\\"com.atlassian.jira.projects.sidebar.DEFER_RESOURCES\\\",\\\"com.atlassian.jira.agile.darkfeature.kanplan.epics.and.versions.enabled\\\",\\\"com.atlassian.jira.agile.darkfeature.sprint.goal.enabled\\\",\\\"jira.zdu.admin-updates-ui\\\",\\\"sd.customerportal.customization.enabled\\\",\\\"jira.zdu.jmx-monitoring\\\",\\\"sd.sla.improved.rendering.enabled\\\",\\\"sd.canned.responses.enabled\\\",\\\"sd.new.settings.sidebar.location.disabled\\\",\\\"jira.zdu.cluster-upgrade-state\\\",\\\"com.atlassian.jira.agile.darkfeature.splitissue\\\",\\\"com.atlassian.jira.config.CoreFeatures.LICENSE_ROLES_ENABLED\\\",\\\"jira.export.csv.enabled\\\"],\\\"feature-flag-states\\\":{\\\"sd.customer.portal.transitions\\\":true,\\\"sd.automation.then.action.edit.issue.custom.fields\\\":true,\\\"sd.custom.email.stripping.rules\\\":false,\\\"com.atlassian.jira.diagnostics.perflog\\\":true,\\\"com.atlassian.jira.issuetable.move.links.hidden\\\":true,\\\"jira.renderer.consider.variable.format\\\":true,\\\"com.atlassian.jira.user.dbIdBasedKeyGenerationStrategy\\\":true,\\\"sd.signup.email.verification\\\":true,\\\"com.atlassian.jira.sharedEntityEditRights\\\":true,\\\"sd.automation.then.webhook.custom.payload\\\":true,\\\"sd.use.search.by.permissions\\\":true,\\\"com.atlassian.jira.agile.darkfeature.sprint.goal\\\":false,\\\"sd.automation.ruleset.cache\\\":true,\\\"sd.automation.psmq.async.executor\\\":true,\\\"sd.customer.org.list.page.lazy.search\\\":true,\\\"sd.approval.requested.when.handler\\\":true,\\\"com.atlassian.jira.custom.csv.escaper\\\":true,\\\"sd.request.type.field.rest.api.filtering.bugfix\\\":true,\\\"sd.adgs.m1\\\":true,\\\"com.atlassian.jira.plugin.issuenavigator.filtersUxImprovment\\\":true,\\\"com.atlassian.jira.agile.darkfeature.kanplan.epics.and.versions\\\":false,\\\"jira.dc.cleanup.cluser.tasks\\\":true,\\\"sd.automation.then.action.archive.issue\\\":true,\\\"sd.sla.performance.optimization\\\":true,\\\"sd.sla.agent.jql.security.restricted\\\":true,\\\"sd.cluster.safe.mail.channel.shutdown\\\":true,\\\"com.atlassian.jira.issues.archiving.filters\\\":false,\\\"mail.batching.override.core\\\":true,\\\"sd.email.analytics.open\\\":false,\\\"sd.automation.audit.log\\\":true,\\\"jira.jql.suggestrecentfields\\\":false,\\\"com.atlassian.jira.gdpr.rtbf\\\":false,\\\"sd.workinghours.react.component\\\":false,\\\"com.atlassian.jira.security.xsrf.session.token\\\":true,\\\"sd.dismiss.all.misconfiguration.warnings.setting\\\":true,\\\"com.atlassian.jira.agile.darkfeature.optimistic.transitions\\\":true,\\\"sd.sla.configurations.export\\\":true,\\\"sd.canned.responses.variable.substitution\\\":true,\\\"com.atlassian.jira.agile.darkfeature.kanplan\\\":false,\\\"jira.customfields.paginated.ui\\\":true,\\\"com.atlassian.jira.agile.darkfeature.edit.closed.sprint\\\":false,\\\"sd.email.outsider.comments\\\":true,\\\"jira.create.linked.issue\\\":true,\\\"jira.sal.host.connect.accessor.existing.transaction.will.create.transactions\\\":true,\\\"sd.automation.project.runasuser.cache\\\":true,\\\"sd.automation.then.webhook\\\":true,\\\"sd.priorities.per.project\\\":true,\\\"sd.customerportal.customization\\\":false,\\\"external.links.new.window\\\":true,\\\"jira.quick.search\\\":true,\\\"sd.respect.inline.edit.issue.off\\\":true,\\\"jira.jql.smartautoselectfirst\\\":false,\\\"sd.customer.portal.browse.permission.only\\\":true,\\\"sd.inline.noformat.renderer\\\":true,\\\"sd.customer.profile.multi.languages\\\":true,\\\"sd.sla.lucene.issue.id.callback.performance\\\":true,\\\"sd.new.settings.sidebar.location\\\":true,\\\"atlassian.cdn.static.assets\\\":true,\\\"sd.customer.search.post.agent.filtering\\\":true,\\\"sd.sla.improved.rendering\\\":false,\\\"mail.batching\\\":false,\\\"sd.frontend.driven.webpanels\\\":true,\\\"sd.users.and.roles.new.page\\\":false,\\\"sd.customer.feedback.validate.reporter.on.token\\\":true,\\\"sd.custom.email.notifications.utf8.csat.star\\\":true,\\\"sd.kb.use.new.page.analytics.rest.endpoints\\\":true,\\\"jira.priorities.per.project.edit.default\\\":false,\\\"sd.who.create.customers.by.email.setting\\\":true,\\\"jira.priorities.per.project.jsd\\\":true,\\\"com.atlassian.jira.plugin.issuenavigator.anonymousPreventCfData\\\":false,\\\"sd.email.attachment.stripping\\\":false,\\\"sd.canned.responses\\\":false,\\\"sd.portal.help.center.customer.signup.secondary.email\\\":true,\\\"com.atlassian.jira.agile.darkfeature.rapid.boards.bands\\\":true,\\\"com.atlassian.jira.agile.darkfeature.flexible.boards\\\":true,\\\"com.atlassian.jira.agile.darkfeature.sprint.picker.allsprints.suggestion\\\":true,\\\"sd.slavalue.record.updated.date\\\":false,\\\"sd.report.custom.date.range\\\":false,\\\"jira.dc.lock.leasing\\\":true,\\\"sd.portal.help.center.customer.signup.secondary.email.fallback\\\":true,\\\"mail.batching.create.section.cf\\\":true,\\\"sd.workinghours.new.page.bulldog.1\\\":false,\\\"sd.customer.portal.two.step.login\\\":false,\\\"sd.internal.bounded.off.thread.on.completion.events\\\":true,\\\"com.atlassian.mail.server.managers.hostname.verification\\\":true,\\\"sd.automation.then.action.auto.answer.approval\\\":true,\\\"sd.approvals.notification.email.action\\\":true,\\\"com.atlassian.jira.upgrade.startup.fix.index\\\":true,\\\"sd.customer.notifications.suppress.welcome.email\\\":true,\\\"sd.portal.help.center.customer.signup\\\":true,\\\"sd.sla.fix.timeline\\\":false,\\\"sd.email.channel.folders\\\":false,\\\"sd.attachment.generate.unique.suffix.when.attachment.filename.clash.occurs\\\":true,\\\"jira.redirect.anonymous.404.errors\\\":false,\\\"sd.workinghours.new.page\\\":true,\\\"sd.sla.parallel.recalculation\\\":false,\\\"com.atlassian.jira.issuetable.draggable\\\":true,\\\"sd.kb.article.insights.report\\\":true,\\\"sd.customerportal.customization.preview\\\":true,\\\"com.atlassian.jira.agile.darkfeature.kanban.hide.old.done.issues\\\":true,\\\"sd.attachment.is.viewable.short.circuit\\\":true,\\\"sd.canned.responses.check.index.startup\\\":false,\\\"sd.sla.conditions.due.date\\\":true,\\\"com.atlassian.jira.agile.darkfeature.backlog.showmore\\\":true,\\\"sd.automation.clean.deleted.projects.on.launch\\\":true,\\\"sd.custom.email.notifications.custom.rules.simple.ui\\\":false,\\\"sd.email.channel.custom.oauth.config.supported\\\":false,\\\"sd.sla.parallel.recalculation.run.in.new.searcher.context\\\":true,\\\"sd.customer.portal.prioties.per.project.fix\\\":true,\\\"sd.internal.base.off.thread.on.completion.events\\\":false,\\\"com.atlassian.jira.issues.archiving.browse\\\":true,\\\"jira.instrumentation.laas\\\":false,\\\"sd.no.schedule.async.upgrade.tasks\\\":true,\\\"mail.batching.user.notification\\\":true,\\\"com.atlassian.jira.agile.darkfeature.dataonpageload\\\":true,\\\"com.atlassian.jira.projects.per.project.permission.query\\\":true,\\\"com.atlassian.jira.issues.archiving\\\":true,\\\"sd.automation.if.condition.comment.primary.action\\\":true,\\\"index.use.snappy\\\":true,\\\"jira.priorities.per.project\\\":true}}\";\nWRM._unparsedData[\"jira.core:default-comment-security-level-data.DefaultCommentSecurityLevelHelpLink\"]=\"{\\\"extraClasses\\\":\\\"default-comment-level-help\\\",\\\"title\\\":\\\"Commenting on an Issue\\\",\\\"url\\\":\\\"https://docs.atlassian.com/jira/jcore-docs-085/Editing+and+collaborating+on+issues#Editingandcollaboratingonissues-restrictacomment\\\",\\\"isLocal\\\":false}\";\nWRM._unparsedData[\"com.atlassian.analytics.analytics-client:policy-update-init.policy-update-data-provider\"]=\"false\";\nWRM._unparsedData[\"com.atlassian.analytics.analytics-client:programmatic-analytics-init.programmatic-analytics-data-provider\"]=\"false\";\nWRM._unparsedData[\"com.onresolve.jira.groovy.groovyrunner:web-item-response-renderer.web-item-actions-data-provider\"]=\"[]\";\nWRM._unparsedData[\"jira.core:dateFormatProvider.allFormats\"]=\"{\\\"dateFormats\\\":{\\\"meridiem\\\":[\\\"AM\\\",\\\"PM\\\"],\\\"eras\\\":[\\\"BC\\\",\\\"AD\\\"],\\\"months\\\":[\\\"January\\\",\\\"February\\\",\\\"March\\\",\\\"April\\\",\\\"May\\\",\\\"June\\\",\\\"July\\\",\\\"August\\\",\\\"September\\\",\\\"October\\\",\\\"November\\\",\\\"December\\\"],\\\"monthsShort\\\":[\\\"Jan\\\",\\\"Feb\\\",\\\"Mar\\\",\\\"Apr\\\",\\\"May\\\",\\\"Jun\\\",\\\"Jul\\\",\\\"Aug\\\",\\\"Sep\\\",\\\"Oct\\\",\\\"Nov\\\",\\\"Dec\\\"],\\\"weekdaysShort\\\":[\\\"Sun\\\",\\\"Mon\\\",\\\"Tue\\\",\\\"Wed\\\",\\\"Thu\\\",\\\"Fri\\\",\\\"Sat\\\"],\\\"weekdays\\\":[\\\"Sunday\\\",\\\"Monday\\\",\\\"Tuesday\\\",\\\"Wednesday\\\",\\\"Thursday\\\",\\\"Friday\\\",\\\"Saturday\\\"]},\\\"lookAndFeelFormats\\\":{\\\"relativize\\\":\\\"false\\\",\\\"time\\\":\\\"HH:mm\\\",\\\"day\\\":\\\"EEEE HH:mm\\\",\\\"dmy\\\":\\\"dd/MM/yy\\\",\\\"complete\\\":\\\"dd/MMM/yy HH:mm\\\"}}\";\nWRM._unparsedData[\"com.atlassian.jira.plugins.jira-slack-server-integration-plugin:slack-link-error-resources.slack-link-error\"]=\"{}\";\nWRM._unparsedData[\"com.atlassian.servicedesk.servicedesk-canned-responses-plugin:canned-responses-data-provider.data\"]=\"{\\\"substitutionVariables\\\":{\\\"issue.summary\\\":\\\"Issue summary\\\",\\\"issue.description\\\":\\\"Issue description\\\",\\\"issue.key\\\":\\\"Issue key\\\",\\\"issue.reporter.name\\\":\\\"Issue reporter\\\",\\\"issue.resolution\\\":\\\"Issue resolution\\\",\\\"request.url\\\":\\\"Request URL\\\",\\\"request.status\\\":\\\"Request status\\\",\\\"request.details\\\":\\\"Request details\\\"}}\";\nWRM._unparsedData[\"jira.core:avatar-picker-data.data\"]=\"{}\";\nWRM._unparsedData[\"com.atlassian.jira.jira-header-plugin:dismissedFlags.flags\"]=\"{\\\"dismissed\\\":[]}\";\nWRM._unparsedData[\"com.atlassian.jira.jira-header-plugin:newsletter-signup-tip-init.newsletterSignup\"]=\"{\\\"signupDescription\\\":\\\"Get updates, inspiration and best practices from the team behind Jira.\\\",\\\"formUrl\\\":\\\"https://www.atlassian.com/apis/exact-target/{0}/subscribe?mailingListId=1401671\\\",\\\"signupTitle\\\":\\\"Sign up!\\\",\\\"signupId\\\":\\\"newsletter-signup-tip\\\",\\\"showNewsletterTip\\\":false}\";\nWRM._unparsedData[\"com.atlassian.jira.project-templates-plugin:project-templates-plugin-resources.ptAnalyticsData\"]=\"{\\\"instanceCreatedDate\\\":\\\"2010-06-08\\\"}\";\nWRM._unparsedData[\"jira.core:jqlautocomplete-data.jql.autocomplete.recentFields\"]=\"{\\\"key\\\":\\\"jqlValues\\\",\\\"value\\\":[\\\"affectedVersion\\\",\\\"assignee\\\",\\\"component\\\",\\\"description\\\",\\\"issue\\\",\\\"labels\\\",\\\"parent\\\",\\\"priority\\\",\\\"project\\\",\\\"reporter\\\",\\\"resolution\\\",\\\"status\\\",\\\"summary\\\",\\\"type\\\",\\\"watcher\\\"]}\";\nWRM._unparsedData[\"com.atlassian.servicedesk.core-ui:util-help-links.help-links\"]=\"{\\\"help\\\":{\\\"email.settings\\\":\\\"https://docs.atlassian.com/jira/jsd-docs-045/Receiving+requests+by+email\\\",\\\"managing.queues\\\":\\\"https://docs.atlassian.com/jira/jsd-docs-045/Setting+up+queues+for+your+team\\\",\\\"email.setup\\\":\\\"https://docs.atlassian.com/jira/jsd-docs-045/Receiving+requests+by+email\\\",\\\"sla.calendar.settings\\\":\\\"https://docs.atlassian.com/jira/jsd-docs-045/Create+and+edit+SLA+calendars\\\",\\\"request.settings.help.bubble\\\":\\\"https://docs.atlassian.com/jira/jsd-docs-045/Managing+access+to+your+service+desk\\\",\\\"email.settings.suitablerequest\\\":\\\"https://docs.atlassian.com/jira/jsd-docs-045/Receiving+requests+by+email#Receivingrequestsbyemail-suitablerequest\\\",\\\"documentation.home\\\":\\\"https://docs.atlassian.com/jira/jsd-docs-045/JIRA+Service+Desk+Documentation\\\",\\\"sla.import.help\\\":\\\"https://docs.atlassian.com/jira/jsd-docs-045/Importing+SLAs\\\",\\\"default\\\":\\\"https://docs.atlassian.com/jira/jsd-docs-045/\\\",\\\"create.space.help\\\":\\\"https://docs.atlassian.com/jira/jsd-docs-045/Knowledge+base+settings+and+permissions\\\",\\\"advanced.approval.notifications\\\":\\\"https://docs.atlassian.com/jira/jsd-docs-045/Approving+a+service+desk+request\\\",\\\"email.settings.troubleshooting\\\":\\\"https://docs.atlassian.com/jira/jsd-docs-045/Troubleshooting+issues+with+the+email+channel\\\",\\\"admin.notifications.config\\\":\\\"https://docs.atlassian.com/jira/jsd-docs-045/Managing+service+desk+notifications\\\",\\\"troubleshoot.requesttype\\\":\\\"https://docs.atlassian.com/jira/jsd-docs-045/Troubleshooting+issues+with+request+types\\\",\\\"approvals.configuration\\\":\\\"https://docs.atlassian.com/jira/jsd-docs-045/Configuring+JIRA+Service+Desk+approvals\\\",\\\"setting.up.reports\\\":\\\"https://docs.atlassian.com/jira/jsd-docs-045/Setting+up+service+desk+reports\\\",\\\"public.signup\\\":\\\"https://docs.atlassian.com/jira/jsd-docs-045/Configuring+public+signup\\\",\\\"knowledge.base\\\":\\\"https://docs.atlassian.com/jira/jsd-docs-045/Set+up+a+knowledge+base+for+self-service\\\",\\\"resolve.permission.scheme.errors\\\":\\\"https://docs.atlassian.com/jira/jsd-docs-045/Resolving+permission+scheme+errors\\\",\\\"getting.started\\\":\\\"https://docs.atlassian.com/jira/jsd-docs-045/Getting+started+with+JIRA+Service+Desk\\\",\\\"getting.started.agent\\\":\\\"https://docs.atlassian.com/jira/jsd-docs-045/Getting+started+for+service+desk+agents\\\",\\\"sla.setup.help\\\":\\\"https://docs.atlassian.com/jira/jsd-docs-045/Setting+up+SLAs\\\",\\\"invite.customers\\\":\\\"https://docs.atlassian.com/jira/jsd-docs-045/Managing+access+to+your+service+desk\\\"},\\\"kb\\\":{\\\"default\\\":\\\"https://confluence.atlassian.com/display/SDKB/\\\",\\\"troubleshooting.user.management.issues\\\":\\\"https://confluence.atlassian.com/display/SDKB/Troubleshooting+issues+with+service+desk+user+management\\\",\\\"legacytransition\\\":\\\"https://confluence.atlassian.com/display/SDKB/Replacing+legacy+automatic+transitions+with+automation+rules\\\",\\\"umtroubleshoot\\\":\\\"https://confluence.atlassian.com/display/SDKB/Troubleshooting+issues+with+service+desk+user+management\\\"}}\";\nWRM._unparsedData[\"com.atlassian.servicedesk.core-ui:util-base-url.base-url\"]=\"\\\"https://jira.deutsche-boerse.com\\\"\";\nWRM._unparsedData[\"com.atlassian.jira.ext.calendar:tipDataProvider.tip\"]=\"{\\\"suppressTip\\\":false}\";\nWRM._unparsedData[\"jira.core:user-message-flags-data.adminLockout\"]=\"{}\";\nWRM._unparsedData[\"com.atlassian.plugins.helptips.jira-help-tips:help-tip-manager.JiraHelpTipData\"]=\"{\\\"anonymous\\\":true}\";\nif(window.WRM._dataArrived)window.WRM._dataArrived();</script>\n<link type=\"text/css\" rel=\"stylesheet\" href=\"/s/e8271b97698da4194d2f711daae2b067-CDN/-7ah0e0/805011/8e3bd22906ecb951c0f7b55c80a9c63f/2e46d90b5cae895c9c38649c9d510130/_/download/contextbatch/css/_super/batch.css\" data-wrm-key=\"_super\" data-wrm-batch-type=\"context\" media=\"all\">\n<link type=\"text/css\" rel=\"stylesheet\" href=\"/s/0b373d7b49fe629e265fb4107c8fe146-CDN/-7ah0e0/805011/8e3bd22906ecb951c0f7b55c80a9c63f/af079247db2c2cb707c79bb03ddf6106/_/download/contextbatch/css/atl.general,jira.general,jira.global,atl.global,-_super/batch.css?agile_global_admin_condition=true&amp;jag=true&amp;slack-enabled=true\" data-wrm-key=\"atl.general,jira.general,jira.global,atl.global,-_super\" data-wrm-batch-type=\"context\" media=\"all\">\n<link type=\"text/css\" rel=\"stylesheet\" href=\"/s/d41d8cd98f00b204e9800998ecf8427e-CDN/-7ah0e0/805011/8e3bd22906ecb951c0f7b55c80a9c63f/8.5.0/_/download/batch/com.atlassian.auiplugin:split_aui.pattern.label/com.atlassian.auiplugin:split_aui.pattern.label.css\" data-wrm-key=\"com.atlassian.auiplugin:split_aui.pattern.label\" data-wrm-batch-type=\"resource\" media=\"all\">\n<link type=\"text/css\" rel=\"stylesheet\" href=\"/s/d41d8cd98f00b204e9800998ecf8427e-CDN/-7ah0e0/805011/8e3bd22906ecb951c0f7b55c80a9c63f/8.5.0/_/download/batch/com.atlassian.auiplugin:split_aui.splitchunk.16f099a0da/com.atlassian.auiplugin:split_aui.splitchunk.16f099a0da.css\" data-wrm-key=\"com.atlassian.auiplugin:split_aui.splitchunk.16f099a0da\" data-wrm-batch-type=\"resource\" media=\"all\">\n<link type=\"text/css\" rel=\"stylesheet\" href=\"/s/c5173f0d8ca5eb0e04f4b38e3da1dfa2-CDN/-7ah0e0/805011/8e3bd22906ecb951c0f7b55c80a9c63f/1.0/_/download/batch/jira.webresources:global-static-adgs/jira.webresources:global-static-adgs.css\" data-wrm-key=\"jira.webresources:global-static-adgs\" data-wrm-batch-type=\"resource\" media=\"all\">\n<link type=\"text/css\" rel=\"stylesheet\" href=\"/s/c97634fb1ca3b9a8479adf8d7f6541c3-CDN/-7ah0e0/805011/8e3bd22906ecb951c0f7b55c80a9c63f/1.0/_/download/batch/jira.webresources:global-static/jira.webresources:global-static.css\" data-wrm-key=\"jira.webresources:global-static\" data-wrm-batch-type=\"resource\" media=\"all\">\n<script type=\"text/javascript\" src=\"/s/135c340e0d40f346bef340ba08b63cca-CDN/-7ah0e0/805011/8e3bd22906ecb951c0f7b55c80a9c63f/2e46d90b5cae895c9c38649c9d510130/_/download/contextbatch/js/_super/batch.js?locale=en-US\" data-wrm-key=\"_super\" data-wrm-batch-type=\"context\" data-initially-rendered></script>\n<script type=\"text/javascript\" src=\"/s/31ea5d0cdee95a36826b7b3441976662-CDN/-7ah0e0/805011/8e3bd22906ecb951c0f7b55c80a9c63f/af079247db2c2cb707c79bb03ddf6106/_/download/contextbatch/js/atl.general,jira.general,jira.global,atl.global,-_super/batch.js?agile_global_admin_condition=true&amp;jag=true&amp;locale=en-US&amp;slack-enabled=true\" data-wrm-key=\"atl.general,jira.general,jira.global,atl.global,-_super\" data-wrm-batch-type=\"context\" data-initially-rendered></script>\n<script type=\"text/javascript\" src=\"/s/a0df847c19c7e5f308faceeda48a3541-CDN/-7ah0e0/805011/8e3bd22906ecb951c0f7b55c80a9c63f/8.5.0/_/download/batch/com.atlassian.auiplugin:split_aui.pattern.label/com.atlassian.auiplugin:split_aui.pattern.label.js?locale=en-US\" data-wrm-key=\"com.atlassian.auiplugin:split_aui.pattern.label\" data-wrm-batch-type=\"resource\" data-initially-rendered></script>\n<script type=\"text/javascript\" src=\"/s/a0df847c19c7e5f308faceeda48a3541-CDN/-7ah0e0/805011/8e3bd22906ecb951c0f7b55c80a9c63f/8.5.0/_/download/batch/com.atlassian.auiplugin:split_aui.splitchunk.16f099a0da/com.atlassian.auiplugin:split_aui.splitchunk.16f099a0da.js?locale=en-US\" data-wrm-key=\"com.atlassian.auiplugin:split_aui.splitchunk.16f099a0da\" data-wrm-batch-type=\"resource\" data-initially-rendered></script>\n<script type=\"text/javascript\" src=\"/s/a0df847c19c7e5f308faceeda48a3541-CDN/-7ah0e0/805011/8e3bd22906ecb951c0f7b55c80a9c63f/8.5.0/_/download/batch/com.atlassian.auiplugin:split_aui.pattern.table/com.atlassian.auiplugin:split_aui.pattern.table.js?locale=en-US\" data-wrm-key=\"com.atlassian.auiplugin:split_aui.pattern.table\" data-wrm-batch-type=\"resource\" data-initially-rendered></script>\n<link type=\"text/css\" rel=\"stylesheet\" href=\"/s/2273be7c76b0d85f43a8095fb4c46d30-CDN/-7ah0e0/805011/8e3bd22906ecb951c0f7b55c80a9c63f/7f5dfab8ec63473c487ab95c18f35b6f/_/download/contextbatch/css/jira.global.look-and-feel,-_super/batch.css\" data-wrm-key=\"jira.global.look-and-feel,-_super\" data-wrm-batch-type=\"context\" media=\"all\">\n\n<script type=\"text/javascript\" src=\"/rest/api/1.0/shortcuts/805011/51ca13aa9f5f2985c72c3ce7b4d297dd/shortcuts.js\"></script>\n\n\n    <meta name=\"application-name\" content=\"JIRA\" data-name=\"jira\" data-version=\"8.5.11\">\n</head>\n<body id=\"jira\" class=\"aui-layout aui-style-default page-type-message\"  data-version=\"8.5.11\" >\n    <div class=\"aui-page-panel\"><div class=\"aui-page-panel-inner\">\n            <section class=\"aui-page-panel-content\">\n                    <header class=\"aui-page-header\"><div class=\"aui-page-header-inner\">\n                            <div class=\"aui-page-header-main\">\n                                    <h1>Forbidden (403)</h1>\n                                </div><!-- .aui-page-header-main -->\n                        </div><!-- .aui-page-header-inner --></header><!-- .aui-page-header -->\n                    <div class=\"aui-message aui-message-warning warning\">\n                            <p>Encountered a <code>&quot;403 - Forbidden&quot;</code> error while loading this page.</p>\n                            <p>Basic Authentication Failure - Reason : AUTHENTICATION_DENIED</p>\n                            <p><a href=\"/secure/MyJiraHome.jspa\">Go to Jira home</a></p>\n                        </div>\n                </section><!-- .aui-page-panel-content -->\n        </div><!-- .aui-page-panel-inner --></div><!-- .aui-page-panel -->\n</body>\n</html>\n",
     "output_type": "error",
     "traceback": [
      "\u001b[0;31m---------------------------------------------------------------------------\u001b[0m",
      "\u001b[0;31mJIRAError\u001b[0m                                 Traceback (most recent call last)",
      "\u001b[0;32m<ipython-input-321-a16cd82eba30>\u001b[0m in \u001b[0;36m<module>\u001b[0;34m\u001b[0m\n\u001b[1;32m     13\u001b[0m \u001b[0;34m\u001b[0m\u001b[0m\n\u001b[1;32m     14\u001b[0m \u001b[0;34m\u001b[0m\u001b[0m\n\u001b[0;32m---> 15\u001b[0;31m \u001b[0mjira\u001b[0m \u001b[0;34m=\u001b[0m \u001b[0mJIRA\u001b[0m\u001b[0;34m(\u001b[0m\u001b[0moptions\u001b[0m\u001b[0;34m,\u001b[0m \u001b[0mbasic_auth\u001b[0m\u001b[0;34m=\u001b[0m\u001b[0;34m(\u001b[0m\u001b[0mjira_user\u001b[0m\u001b[0;34m,\u001b[0m \u001b[0mjira_pass\u001b[0m\u001b[0;34m)\u001b[0m\u001b[0;34m)\u001b[0m\u001b[0;34m\u001b[0m\u001b[0;34m\u001b[0m\u001b[0m\n\u001b[0m\u001b[1;32m     16\u001b[0m \u001b[0;34m\u001b[0m\u001b[0m\n\u001b[1;32m     17\u001b[0m \u001b[0mDEVELOPMENT_query\u001b[0m \u001b[0;34m=\u001b[0m \u001b[0;34m(\u001b[0m\u001b[0;34m'''((issueFunction in issuesInEpics(\"project = XP and labels IN ('External')\") AND \"Epic Link\" != XP-1460 AND issuetype not in (Sub-task, Epic) AND resolution not in (\"Won't Fix\", \"Won't Do\", Rejected, Declined, Duplicate)))'''\u001b[0m\u001b[0;34m)\u001b[0m\u001b[0;34m\u001b[0m\u001b[0;34m\u001b[0m\u001b[0m\n",
      "\u001b[0;32m~/anaconda3/lib/python3.7/site-packages/jira/client.py\u001b[0m in \u001b[0;36m__init__\u001b[0;34m(self, server, options, basic_auth, oauth, jwt, kerberos, kerberos_options, validate, get_server_info, async_, async_workers, logging, max_retries, proxies, timeout, auth)\u001b[0m\n\u001b[1;32m    470\u001b[0m         \u001b[0;32mif\u001b[0m \u001b[0mget_server_info\u001b[0m\u001b[0;34m:\u001b[0m\u001b[0;34m\u001b[0m\u001b[0;34m\u001b[0m\u001b[0m\n\u001b[1;32m    471\u001b[0m             \u001b[0;31m# We need version in order to know what API calls are available or not\u001b[0m\u001b[0;34m\u001b[0m\u001b[0;34m\u001b[0m\u001b[0;34m\u001b[0m\u001b[0m\n\u001b[0;32m--> 472\u001b[0;31m             \u001b[0msi\u001b[0m \u001b[0;34m=\u001b[0m \u001b[0mself\u001b[0m\u001b[0;34m.\u001b[0m\u001b[0mserver_info\u001b[0m\u001b[0;34m(\u001b[0m\u001b[0;34m)\u001b[0m\u001b[0;34m\u001b[0m\u001b[0;34m\u001b[0m\u001b[0m\n\u001b[0m\u001b[1;32m    473\u001b[0m             \u001b[0;32mtry\u001b[0m\u001b[0;34m:\u001b[0m\u001b[0;34m\u001b[0m\u001b[0;34m\u001b[0m\u001b[0m\n\u001b[1;32m    474\u001b[0m                 \u001b[0mself\u001b[0m\u001b[0;34m.\u001b[0m\u001b[0m_version\u001b[0m \u001b[0;34m=\u001b[0m \u001b[0mtuple\u001b[0m\u001b[0;34m(\u001b[0m\u001b[0msi\u001b[0m\u001b[0;34m[\u001b[0m\u001b[0;34m'versionNumbers'\u001b[0m\u001b[0;34m]\u001b[0m\u001b[0;34m)\u001b[0m\u001b[0;34m\u001b[0m\u001b[0;34m\u001b[0m\u001b[0m\n",
      "\u001b[0;32m~/anaconda3/lib/python3.7/site-packages/jira/client.py\u001b[0m in \u001b[0;36mserver_info\u001b[0;34m(self)\u001b[0m\n\u001b[1;32m   2131\u001b[0m         \u001b[0;34m\"\"\"Get a dict of server information for this JIRA instance.\"\"\"\u001b[0m\u001b[0;34m\u001b[0m\u001b[0;34m\u001b[0m\u001b[0m\n\u001b[1;32m   2132\u001b[0m         \u001b[0mretry\u001b[0m \u001b[0;34m=\u001b[0m \u001b[0;36m0\u001b[0m\u001b[0;34m\u001b[0m\u001b[0;34m\u001b[0m\u001b[0m\n\u001b[0;32m-> 2133\u001b[0;31m         \u001b[0mj\u001b[0m \u001b[0;34m=\u001b[0m \u001b[0mself\u001b[0m\u001b[0;34m.\u001b[0m\u001b[0m_get_json\u001b[0m\u001b[0;34m(\u001b[0m\u001b[0;34m'serverInfo'\u001b[0m\u001b[0;34m)\u001b[0m\u001b[0;34m\u001b[0m\u001b[0;34m\u001b[0m\u001b[0m\n\u001b[0m\u001b[1;32m   2134\u001b[0m         \u001b[0;32mwhile\u001b[0m \u001b[0;32mnot\u001b[0m \u001b[0mj\u001b[0m \u001b[0;32mand\u001b[0m \u001b[0mretry\u001b[0m \u001b[0;34m<\u001b[0m \u001b[0;36m3\u001b[0m\u001b[0;34m:\u001b[0m\u001b[0;34m\u001b[0m\u001b[0;34m\u001b[0m\u001b[0m\n\u001b[1;32m   2135\u001b[0m             \u001b[0mlogging\u001b[0m\u001b[0;34m.\u001b[0m\u001b[0mwarning\u001b[0m\u001b[0;34m(\u001b[0m\u001b[0;34m\"Bug https://jira.atlassian.com/browse/JRA-59676 trying again...\"\u001b[0m\u001b[0;34m)\u001b[0m\u001b[0;34m\u001b[0m\u001b[0;34m\u001b[0m\u001b[0m\n",
      "\u001b[0;32m~/anaconda3/lib/python3.7/site-packages/jira/client.py\u001b[0m in \u001b[0;36m_get_json\u001b[0;34m(self, path, params, base)\u001b[0m\n\u001b[1;32m   2547\u001b[0m     \u001b[0;32mdef\u001b[0m \u001b[0m_get_json\u001b[0m\u001b[0;34m(\u001b[0m\u001b[0mself\u001b[0m\u001b[0;34m,\u001b[0m \u001b[0mpath\u001b[0m\u001b[0;34m,\u001b[0m \u001b[0mparams\u001b[0m\u001b[0;34m=\u001b[0m\u001b[0;32mNone\u001b[0m\u001b[0;34m,\u001b[0m \u001b[0mbase\u001b[0m\u001b[0;34m=\u001b[0m\u001b[0mJIRA_BASE_URL\u001b[0m\u001b[0;34m)\u001b[0m\u001b[0;34m:\u001b[0m\u001b[0;34m\u001b[0m\u001b[0;34m\u001b[0m\u001b[0m\n\u001b[1;32m   2548\u001b[0m         \u001b[0murl\u001b[0m \u001b[0;34m=\u001b[0m \u001b[0mself\u001b[0m\u001b[0;34m.\u001b[0m\u001b[0m_get_url\u001b[0m\u001b[0;34m(\u001b[0m\u001b[0mpath\u001b[0m\u001b[0;34m,\u001b[0m \u001b[0mbase\u001b[0m\u001b[0;34m)\u001b[0m\u001b[0;34m\u001b[0m\u001b[0;34m\u001b[0m\u001b[0m\n\u001b[0;32m-> 2549\u001b[0;31m         \u001b[0mr\u001b[0m \u001b[0;34m=\u001b[0m \u001b[0mself\u001b[0m\u001b[0;34m.\u001b[0m\u001b[0m_session\u001b[0m\u001b[0;34m.\u001b[0m\u001b[0mget\u001b[0m\u001b[0;34m(\u001b[0m\u001b[0murl\u001b[0m\u001b[0;34m,\u001b[0m \u001b[0mparams\u001b[0m\u001b[0;34m=\u001b[0m\u001b[0mparams\u001b[0m\u001b[0;34m)\u001b[0m\u001b[0;34m\u001b[0m\u001b[0;34m\u001b[0m\u001b[0m\n\u001b[0m\u001b[1;32m   2550\u001b[0m         \u001b[0;32mtry\u001b[0m\u001b[0;34m:\u001b[0m\u001b[0;34m\u001b[0m\u001b[0;34m\u001b[0m\u001b[0m\n\u001b[1;32m   2551\u001b[0m             \u001b[0mr_json\u001b[0m \u001b[0;34m=\u001b[0m \u001b[0mjson_loads\u001b[0m\u001b[0;34m(\u001b[0m\u001b[0mr\u001b[0m\u001b[0;34m)\u001b[0m\u001b[0;34m\u001b[0m\u001b[0;34m\u001b[0m\u001b[0m\n",
      "\u001b[0;32m~/anaconda3/lib/python3.7/site-packages/jira/resilientsession.py\u001b[0m in \u001b[0;36mget\u001b[0;34m(self, url, **kwargs)\u001b[0m\n\u001b[1;32m    149\u001b[0m \u001b[0;34m\u001b[0m\u001b[0m\n\u001b[1;32m    150\u001b[0m     \u001b[0;32mdef\u001b[0m \u001b[0mget\u001b[0m\u001b[0;34m(\u001b[0m\u001b[0mself\u001b[0m\u001b[0;34m,\u001b[0m \u001b[0murl\u001b[0m\u001b[0;34m,\u001b[0m \u001b[0;34m**\u001b[0m\u001b[0mkwargs\u001b[0m\u001b[0;34m)\u001b[0m\u001b[0;34m:\u001b[0m\u001b[0;34m\u001b[0m\u001b[0;34m\u001b[0m\u001b[0m\n\u001b[0;32m--> 151\u001b[0;31m         \u001b[0;32mreturn\u001b[0m \u001b[0mself\u001b[0m\u001b[0;34m.\u001b[0m\u001b[0m__verb\u001b[0m\u001b[0;34m(\u001b[0m\u001b[0;34m'GET'\u001b[0m\u001b[0;34m,\u001b[0m \u001b[0murl\u001b[0m\u001b[0;34m,\u001b[0m \u001b[0;34m**\u001b[0m\u001b[0mkwargs\u001b[0m\u001b[0;34m)\u001b[0m\u001b[0;34m\u001b[0m\u001b[0;34m\u001b[0m\u001b[0m\n\u001b[0m\u001b[1;32m    152\u001b[0m \u001b[0;34m\u001b[0m\u001b[0m\n\u001b[1;32m    153\u001b[0m     \u001b[0;32mdef\u001b[0m \u001b[0mpost\u001b[0m\u001b[0;34m(\u001b[0m\u001b[0mself\u001b[0m\u001b[0;34m,\u001b[0m \u001b[0murl\u001b[0m\u001b[0;34m,\u001b[0m \u001b[0;34m**\u001b[0m\u001b[0mkwargs\u001b[0m\u001b[0;34m)\u001b[0m\u001b[0;34m:\u001b[0m\u001b[0;34m\u001b[0m\u001b[0;34m\u001b[0m\u001b[0m\n",
      "\u001b[0;32m~/anaconda3/lib/python3.7/site-packages/jira/resilientsession.py\u001b[0m in \u001b[0;36m__verb\u001b[0;34m(self, verb, url, retry_data, **kwargs)\u001b[0m\n\u001b[1;32m    145\u001b[0m         \u001b[0;32mif\u001b[0m \u001b[0mexception\u001b[0m \u001b[0;32mis\u001b[0m \u001b[0;32mnot\u001b[0m \u001b[0;32mNone\u001b[0m\u001b[0;34m:\u001b[0m\u001b[0;34m\u001b[0m\u001b[0;34m\u001b[0m\u001b[0m\n\u001b[1;32m    146\u001b[0m             \u001b[0;32mraise\u001b[0m \u001b[0mexception\u001b[0m\u001b[0;34m\u001b[0m\u001b[0;34m\u001b[0m\u001b[0m\n\u001b[0;32m--> 147\u001b[0;31m         \u001b[0mraise_on_error\u001b[0m\u001b[0;34m(\u001b[0m\u001b[0mresponse\u001b[0m\u001b[0;34m,\u001b[0m \u001b[0mverb\u001b[0m\u001b[0;34m=\u001b[0m\u001b[0mverb\u001b[0m\u001b[0;34m,\u001b[0m \u001b[0;34m**\u001b[0m\u001b[0mkwargs\u001b[0m\u001b[0;34m)\u001b[0m\u001b[0;34m\u001b[0m\u001b[0;34m\u001b[0m\u001b[0m\n\u001b[0m\u001b[1;32m    148\u001b[0m         \u001b[0;32mreturn\u001b[0m \u001b[0mresponse\u001b[0m\u001b[0;34m\u001b[0m\u001b[0;34m\u001b[0m\u001b[0m\n\u001b[1;32m    149\u001b[0m \u001b[0;34m\u001b[0m\u001b[0m\n",
      "\u001b[0;32m~/anaconda3/lib/python3.7/site-packages/jira/resilientsession.py\u001b[0m in \u001b[0;36mraise_on_error\u001b[0;34m(r, verb, **kwargs)\u001b[0m\n\u001b[1;32m     55\u001b[0m                 \u001b[0merror\u001b[0m \u001b[0;34m=\u001b[0m \u001b[0mr\u001b[0m\u001b[0;34m.\u001b[0m\u001b[0mtext\u001b[0m\u001b[0;34m\u001b[0m\u001b[0;34m\u001b[0m\u001b[0m\n\u001b[1;32m     56\u001b[0m         raise JIRAError(\n\u001b[0;32m---> 57\u001b[0;31m             r.status_code, error, r.url, request=request, response=r, **kwargs)\n\u001b[0m\u001b[1;32m     58\u001b[0m     \u001b[0;31m# for debugging weird errors on CI\u001b[0m\u001b[0;34m\u001b[0m\u001b[0;34m\u001b[0m\u001b[0;34m\u001b[0m\u001b[0m\n\u001b[1;32m     59\u001b[0m     \u001b[0;32mif\u001b[0m \u001b[0mr\u001b[0m\u001b[0;34m.\u001b[0m\u001b[0mstatus_code\u001b[0m \u001b[0;32mnot\u001b[0m \u001b[0;32min\u001b[0m \u001b[0;34m[\u001b[0m\u001b[0;36m200\u001b[0m\u001b[0;34m,\u001b[0m \u001b[0;36m201\u001b[0m\u001b[0;34m,\u001b[0m \u001b[0;36m202\u001b[0m\u001b[0;34m,\u001b[0m \u001b[0;36m204\u001b[0m\u001b[0;34m]\u001b[0m\u001b[0;34m:\u001b[0m\u001b[0;34m\u001b[0m\u001b[0;34m\u001b[0m\u001b[0m\n",
      "\u001b[0;31mJIRAError\u001b[0m: JiraError HTTP 403 url: https://jira.deutsche-boerse.com/rest/api/2/serverInfo\n\ttext: CAPTCHA_CHALLENGE; login-url=https://jira.deutsche-boerse.com/login.jsp\n\t\n\tresponse headers = {'Date': 'Mon, 31 May 2021 14:53:09 GMT', 'Server': 'Apache/2.4.6 (Red Hat Enterprise Linux) OpenSSL/1.0.2k-fips', 'X-AREQUESTID': '1013x10777659x1', 'X-ASESSIONID': '11jnni9', 'Referrer-Policy': 'strict-origin-when-cross-origin', 'X-XSS-Protection': '1; mode=block', 'X-Content-Type-Options': 'nosniff', 'X-Frame-Options': 'SAMEORIGIN', 'Content-Security-Policy': \"frame-ancestors 'self'\", 'Strict-Transport-Security': 'max-age=31536000', 'X-Seraph-LoginReason': 'AUTHENTICATED_FAILED', 'WWW-Authenticate': 'OAuth realm=\"https%3A%2F%2Fjira.deutsche-boerse.com\"', 'X-Authentication-Denied-Reason': 'CAPTCHA_CHALLENGE; login-url=https://jira.deutsche-boerse.com/login.jsp', 'Content-Type': 'text/html;charset=UTF-8', 'Keep-Alive': 'timeout=5, max=98', 'Connection': 'Keep-Alive', 'Transfer-Encoding': 'chunked'}\n\tresponse text = \n\n\n\n\n\n\n\n\n\n<html>\n\n<head>\n    <title>Forbidden (403)</title>\n    \n\n\n\n<!--[if IE]><![endif]-->\n<script type=\"text/javascript\">\n    (function() {\n        var contextPath = '';\n\n        function printDeprecatedMsg() {\n            if (console && console.warn) {\n                console.warn('DEPRECATED JS - contextPath global variable has been deprecated since 7.4.0. Use `wrm/context-path` module instead.');\n            }\n        }\n\n        Object.defineProperty(window, 'contextPath', {\n            get: function() {\n                printDeprecatedMsg();\n                return contextPath;\n            },\n            set: function(value) {\n                printDeprecatedMsg();\n                contextPath = value;\n            }\n        });\n    })();\n\n</script>\n<script>\nwindow.WRM=window.WRM||{};window.WRM._unparsedData=window.WRM._unparsedData||{};window.WRM._unparsedErrors=window.WRM._unparsedErrors||{};\nWRM._unparsedData[\"com.atlassian.plugins.atlassian-plugins-webresource-plugin:context-path.context-path\"]=\"\\\"\\\"\";\nWRM._unparsedData[\"jira.core:feature-flags-data.feature-flag-data\"]=\"{\\\"enabled-feature-keys\\\":[\\\"com.atlassian.jira.agile.darkfeature.editable.detailsview\\\",\\\"nps.survey.inline.dialog\\\",\\\"com.atlassian.jira.agile.darkfeature.edit.closed.sprint.enabled\\\",\\\"jira.plugin.devstatus.phasetwo\\\",\\\"jira.frother.reporter.field\\\",\\\"atlassian.rest.xsrf.legacy.enabled\\\",\\\"jira.issue.status.lozenge\\\",\\\"com.atlassian.jira.config.BIG_PIPE\\\",\\\"com.atlassian.jira.config.PDL\\\",\\\"jira.plugin.devstatus.phasetwo.enabled\\\",\\\"atlassian.aui.raphael.disabled\\\",\\\"app-switcher.new\\\",\\\"frother.assignee.field\\\",\\\"com.atlassian.jira.projects.ProjectCentricNavigation.Switch\\\",\\\"sd.internal.base.off.thread.on.completion.events.enabled\\\",\\\"jira.onboarding.cyoa\\\",\\\"com.atlassian.jira.agile.darkfeature.kanplan.enabled\\\",\\\"sd.slavalue.record.updated.date.enabled\\\",\\\"scriptrunner.idea.external.editor.enabled\\\",\\\"com.atlassian.jira.config.ProjectConfig.MENU\\\",\\\"com.atlassian.jira.projects.sidebar.DEFER_RESOURCES\\\",\\\"com.atlassian.jira.agile.darkfeature.kanplan.epics.and.versions.enabled\\\",\\\"com.atlassian.jira.agile.darkfeature.sprint.goal.enabled\\\",\\\"jira.zdu.admin-updates-ui\\\",\\\"sd.customerportal.customization.enabled\\\",\\\"jira.zdu.jmx-monitoring\\\",\\\"sd.sla.improved.rendering.enabled\\\",\\\"sd.canned.responses.enabled\\\",\\\"sd.new.settings.sidebar.location.disabled\\\",\\\"jira.zdu.cluster-upgrade-state\\\",\\\"com.atlassian.jira.agile.darkfeature.splitissue\\\",\\\"com.atlassian.jira.config.CoreFeatures.LICENSE_ROLES_ENABLED\\\",\\\"jira.export.csv.enabled\\\"],\\\"feature-flag-states\\\":{\\\"sd.customer.portal.transitions\\\":true,\\\"sd.automation.then.action.edit.issue.custom.fields\\\":true,\\\"sd.custom.email.stripping.rules\\\":false,\\\"com.atlassian.jira.diagnostics.perflog\\\":true,\\\"com.atlassian.jira.issuetable.move.links.hidden\\\":true,\\\"jira.renderer.consider.variable.format\\\":true,\\\"com.atlassian.jira.user.dbIdBasedKeyGenerationStrategy\\\":true,\\\"sd.signup.email.verification\\\":true,\\\"com.atlassian.jira.sharedEntityEditRights\\\":true,\\\"sd.automation.then.webhook.custom.payload\\\":true,\\\"sd.use.search.by.permissions\\\":true,\\\"com.atlassian.jira.agile.darkfeature.sprint.goal\\\":false,\\\"sd.automation.ruleset.cache\\\":true,\\\"sd.automation.psmq.async.executor\\\":true,\\\"sd.customer.org.list.page.lazy.search\\\":true,\\\"sd.approval.requested.when.handler\\\":true,\\\"com.atlassian.jira.custom.csv.escaper\\\":true,\\\"sd.request.type.field.rest.api.filtering.bugfix\\\":true,\\\"sd.adgs.m1\\\":true,\\\"com.atlassian.jira.plugin.issuenavigator.filtersUxImprovment\\\":true,\\\"com.atlassian.jira.agile.darkfeature.kanplan.epics.and.versions\\\":false,\\\"jira.dc.cleanup.cluser.tasks\\\":true,\\\"sd.automation.then.action.archive.issue\\\":true,\\\"sd.sla.performance.optimization\\\":true,\\\"sd.sla.agent.jql.security.restricted\\\":true,\\\"sd.cluster.safe.mail.channel.shutdown\\\":true,\\\"com.atlassian.jira.issues.archiving.filters\\\":false,\\\"mail.batching.override.core\\\":true,\\\"sd.email.analytics.open\\\":false,\\\"sd.automation.audit.log\\\":true,\\\"jira.jql.suggestrecentfields\\\":false,\\\"com.atlassian.jira.gdpr.rtbf\\\":false,\\\"sd.workinghours.react.component\\\":false,\\\"com.atlassian.jira.security.xsrf.session.token\\\":true,\\\"sd.dismiss.all.misconfiguration.warnings.setting\\\":true,\\\"com.atlassian.jira.agile.darkfeature.optimistic.transitions\\\":true,\\\"sd.sla.configurations.export\\\":true,\\\"sd.canned.responses.variable.substitution\\\":true,\\\"com.atlassian.jira.agile.darkfeature.kanplan\\\":false,\\\"jira.customfields.paginated.ui\\\":true,\\\"com.atlassian.jira.agile.darkfeature.edit.closed.sprint\\\":false,\\\"sd.email.outsider.comments\\\":true,\\\"jira.create.linked.issue\\\":true,\\\"jira.sal.host.connect.accessor.existing.transaction.will.create.transactions\\\":true,\\\"sd.automation.project.runasuser.cache\\\":true,\\\"sd.automation.then.webhook\\\":true,\\\"sd.priorities.per.project\\\":true,\\\"sd.customerportal.customization\\\":false,\\\"external.links.new.window\\\":true,\\\"jira.quick.search\\\":true,\\\"sd.respect.inline.edit.issue.off\\\":true,\\\"jira.jql.smartautoselectfirst\\\":false,\\\"sd.customer.portal.browse.permission.only\\\":true,\\\"sd.inline.noformat.renderer\\\":true,\\\"sd.customer.profile.multi.languages\\\":true,\\\"sd.sla.lucene.issue.id.callback.performance\\\":true,\\\"sd.new.settings.sidebar.location\\\":true,\\\"atlassian.cdn.static.assets\\\":true,\\\"sd.customer.search.post.agent.filtering\\\":true,\\\"sd.sla.improved.rendering\\\":false,\\\"mail.batching\\\":false,\\\"sd.frontend.driven.webpanels\\\":true,\\\"sd.users.and.roles.new.page\\\":false,\\\"sd.customer.feedback.validate.reporter.on.token\\\":true,\\\"sd.custom.email.notifications.utf8.csat.star\\\":true,\\\"sd.kb.use.new.page.analytics.rest.endpoints\\\":true,\\\"jira.priorities.per.project.edit.default\\\":false,\\\"sd.who.create.customers.by.email.setting\\\":true,\\\"jira.priorities.per.project.jsd\\\":true,\\\"com.atlassian.jira.plugin.issuenavigator.anonymousPreventCfData\\\":false,\\\"sd.email.attachment.stripping\\\":false,\\\"sd.canned.responses\\\":false,\\\"sd.portal.help.center.customer.signup.secondary.email\\\":true,\\\"com.atlassian.jira.agile.darkfeature.rapid.boards.bands\\\":true,\\\"com.atlassian.jira.agile.darkfeature.flexible.boards\\\":true,\\\"com.atlassian.jira.agile.darkfeature.sprint.picker.allsprints.suggestion\\\":true,\\\"sd.slavalue.record.updated.date\\\":false,\\\"sd.report.custom.date.range\\\":false,\\\"jira.dc.lock.leasing\\\":true,\\\"sd.portal.help.center.customer.signup.secondary.email.fallback\\\":true,\\\"mail.batching.create.section.cf\\\":true,\\\"sd.workinghours.new.page.bulldog.1\\\":false,\\\"sd.customer.portal.two.step.login\\\":false,\\\"sd.internal.bounded.off.thread.on.completion.events\\\":true,\\\"com.atlassian.mail.server.managers.hostname.verification\\\":true,\\\"sd.automation.then.action.auto.answer.approval\\\":true,\\\"sd.approvals.notification.email.action\\\":true,\\\"com.atlassian.jira.upgrade.startup.fix.index\\\":true,\\\"sd.customer.notifications.suppress.welcome.email\\\":true,\\\"sd.portal.help.center.customer.signup\\\":true,\\\"sd.sla.fix.timeline\\\":false,\\\"sd.email.channel.folders\\\":false,\\\"sd.attachment.generate.unique.suffix.when.attachment.filename.clash.occurs\\\":true,\\\"jira.redirect.anonymous.404.errors\\\":false,\\\"sd.workinghours.new.page\\\":true,\\\"sd.sla.parallel.recalculation\\\":false,\\\"com.atlassian.jira.issuetable.draggable\\\":true,\\\"sd.kb.article.insights.report\\\":true,\\\"sd.customerportal.customization.preview\\\":true,\\\"com.atlassian.jira.agile.darkfeature.kanban.hide.old.done.issues\\\":true,\\\"sd.attachment.is.viewable.short.circuit\\\":true,\\\"sd.canned.responses.check.index.startup\\\":false,\\\"sd.sla.conditions.due.date\\\":true,\\\"com.atlassian.jira.agile.darkfeature.backlog.showmore\\\":true,\\\"sd.automation.clean.deleted.projects.on.launch\\\":true,\\\"sd.custom.email.notifications.custom.rules.simple.ui\\\":false,\\\"sd.email.channel.custom.oauth.config.supported\\\":false,\\\"sd.sla.parallel.recalculation.run.in.new.searcher.context\\\":true,\\\"sd.customer.portal.prioties.per.project.fix\\\":true,\\\"sd.internal.base.off.thread.on.completion.events\\\":false,\\\"com.atlassian.jira.issues.archiving.browse\\\":true,\\\"jira.instrumentation.laas\\\":false,\\\"sd.no.schedule.async.upgrade.tasks\\\":true,\\\"mail.batching.user.notification\\\":true,\\\"com.atlassian.jira.agile.darkfeature.dataonpageload\\\":true,\\\"com.atlassian.jira.projects.per.project.permission.query\\\":true,\\\"com.atlassian.jira.issues.archiving\\\":true,\\\"sd.automation.if.condition.comment.primary.action\\\":true,\\\"index.use.snappy\\\":true,\\\"jira.priorities.per.project\\\":true}}\";\nWRM._unparsedData[\"jira.core:default-comment-security-level-data.DefaultCommentSecurityLevelHelpLink\"]=\"{\\\"extraClasses\\\":\\\"default-comment-level-help\\\",\\\"title\\\":\\\"Commenting on an Issue\\\",\\\"url\\\":\\\"https://docs.atlassian.com/jira/jcore-docs-085/Editing+and+collaborating+on+issues#Editingandcollaboratingonissues-restrictacomment\\\",\\\"isLocal\\\":false}\";\nWRM._unparsedData[\"com.atlassian.analytics.analytics-client:policy-update-init.policy-update-data-provider\"]=\"false\";\nWRM._unparsedData[\"com.atlassian.analytics.analytics-client:programmatic-analytics-init.programmatic-analytics-data-provider\"]=\"false\";\nWRM._unparsedData[\"com.onresolve.jira.groovy.groovyrunner:web-item-response-renderer.web-item-actions-data-provider\"]=\"[]\";\nWRM._unparsedData[\"jira.core:dateFormatProvider.allFormats\"]=\"{\\\"dateFormats\\\":{\\\"meridiem\\\":[\\\"AM\\\",\\\"PM\\\"],\\\"eras\\\":[\\\"BC\\\",\\\"AD\\\"],\\\"months\\\":[\\\"January\\\",\\\"February\\\",\\\"March\\\",\\\"April\\\",\\\"May\\\",\\\"June\\\",\\\"July\\\",\\\"August\\\",\\\"September\\\",\\\"October\\\",\\\"November\\\",\\\"December\\\"],\\\"monthsShort\\\":[\\\"Jan\\\",\\\"Feb\\\",\\\"Mar\\\",\\\"Apr\\\",\\\"May\\\",\\\"Jun\\\",\\\"Jul\\\",\\\"Aug\\\",\\\"Sep\\\",\\\"Oct\\\",\\\"Nov\\\",\\\"Dec\\\"],\\\"weekdaysShort\\\":[\\\"Sun\\\",\\\"Mon\\\",\\\"Tue\\\",\\\"Wed\\\",\\\"Thu\\\",\\\"Fri\\\",\\\"Sat\\\"],\\\"weekdays\\\":[\\\"Sunday\\\",\\\"Monday\\\",\\\"Tuesday\\\",\\\"Wednesday\\\",\\\"Thursday\\\",\\\"Friday\\\",\\\"Saturday\\\"]},\\\"lookAndFeelFormats\\\":{\\\"relativize\\\":\\\"false\\\",\\\"time\\\":\\\"HH:mm\\\",\\\"day\\\":\\\"EEEE HH:mm\\\",\\\"dmy\\\":\\\"dd/MM/yy\\\",\\\"complete\\\":\\\"dd/MMM/yy HH:mm\\\"}}\";\nWRM._unparsedData[\"com.atlassian.jira.plugins.jira-slack-server-integration-plugin:slack-link-error-resources.slack-link-error\"]=\"{}\";\nWRM._unparsedData[\"com.atlassian.servicedesk.servicedesk-canned-responses-plugin:canned-responses-data-provider.data\"]=\"{\\\"substitutionVariables\\\":{\\\"issue.summary\\\":\\\"Issue summary\\\",\\\"issue.description\\\":\\\"Issue description\\\",\\\"issue.key\\\":\\\"Issue key\\\",\\\"issue.reporter.name\\\":\\\"Issue reporter\\\",\\\"issue.resolution\\\":\\\"Issue resolution\\\",\\\"request.url\\\":\\\"Request URL\\\",\\\"request.status\\\":\\\"Request status\\\",\\\"request.details\\\":\\\"Request details\\\"}}\";\nWRM._unparsedData[\"jira.core:avatar-picker-data.data\"]=\"{}\";\nWRM._unparsedData[\"com.atlassian.jira.jira-header-plugin:dismissedFlags.flags\"]=\"{\\\"dismissed\\\":[]}\";\nWRM._unparsedData[\"com.atlassian.jira.jira-header-plugin:newsletter-signup-tip-init.newsletterSignup\"]=\"{\\\"signupDescription\\\":\\\"Get updates, inspiration and best practices from the team behind Jira.\\\",\\\"formUrl\\\":\\\"https://www.atlassian.com/apis/exact-target/{0}/subscribe?mailingListId=1401671\\\",\\\"signupTitle\\\":\\\"Sign up!\\\",\\\"signupId\\\":\\\"newsletter-signup-tip\\\",\\\"showNewsletterTip\\\":false}\";\nWRM._unparsedData[\"com.atlassian.jira.project-templates-plugin:project-templates-plugin-resources.ptAnalyticsData\"]=\"{\\\"instanceCreatedDate\\\":\\\"2010-06-08\\\"}\";\nWRM._unparsedData[\"jira.core:jqlautocomplete-data.jql.autocomplete.recentFields\"]=\"{\\\"key\\\":\\\"jqlValues\\\",\\\"value\\\":[\\\"affectedVersion\\\",\\\"assignee\\\",\\\"component\\\",\\\"description\\\",\\\"issue\\\",\\\"labels\\\",\\\"parent\\\",\\\"priority\\\",\\\"project\\\",\\\"reporter\\\",\\\"resolution\\\",\\\"status\\\",\\\"summary\\\",\\\"type\\\",\\\"watcher\\\"]}\";\nWRM._unparsedData[\"com.atlassian.servicedesk.core-ui:util-help-links.help-links\"]=\"{\\\"help\\\":{\\\"email.settings\\\":\\\"https://docs.atlassian.com/jira/jsd-docs-045/Receiving+requests+by+email\\\",\\\"managing.queues\\\":\\\"https://docs.atlassian.com/jira/jsd-docs-045/Setting+up+queues+for+your+team\\\",\\\"email.setup\\\":\\\"https://docs.atlassian.com/jira/jsd-docs-045/Receiving+requests+by+email\\\",\\\"sla.calendar.settings\\\":\\\"https://docs.atlassian.com/jira/jsd-docs-045/Create+and+edit+SLA+calendars\\\",\\\"request.settings.help.bubble\\\":\\\"https://docs.atlassian.com/jira/jsd-docs-045/Managing+access+to+your+service+desk\\\",\\\"email.settings.suitablerequest\\\":\\\"https://docs.atlassian.com/jira/jsd-docs-045/Receiving+requests+by+email#Receivingrequestsbyemail-suitablerequest\\\",\\\"documentation.home\\\":\\\"https://docs.atlassian.com/jira/jsd-docs-045/JIRA+Service+Desk+Documentation\\\",\\\"sla.import.help\\\":\\\"https://docs.atlassian.com/jira/jsd-docs-045/Importing+SLAs\\\",\\\"default\\\":\\\"https://docs.atlassian.com/jira/jsd-docs-045/\\\",\\\"create.space.help\\\":\\\"https://docs.atlassian.com/jira/jsd-docs-045/Knowledge+base+settings+and+permissions\\\",\\\"advanced.approval.notifications\\\":\\\"https://docs.atlassian.com/jira/jsd-docs-045/Approving+a+service+desk+request\\\",\\\"email.settings.troubleshooting\\\":\\\"https://docs.atlassian.com/jira/jsd-docs-045/Troubleshooting+issues+with+the+email+channel\\\",\\\"admin.notifications.config\\\":\\\"https://docs.atlassian.com/jira/jsd-docs-045/Managing+service+desk+notifications\\\",\\\"troubleshoot.requesttype\\\":\\\"https://docs.atlassian.com/jira/jsd-docs-045/Troubleshooting+issues+with+request+types\\\",\\\"approvals.configuration\\\":\\\"https://docs.atlassian.com/jira/jsd-docs-045/Configuring+JIRA+Service+Desk+approvals\\\",\\\"setting.up.reports\\\":\\\"https://docs.atlassian.com/jira/jsd-docs-045/Setting+up+service+desk+reports\\\",\\\"public.signup\\\":\\\"https://docs.atlassian.com/jira/jsd-docs-045/Configuring+public+signup\\\",\\\"knowledge.base\\\":\\\"https://docs.atlassian.com/jira/jsd-docs-045/Set+up+a+knowledge+base+for+self-service\\\",\\\"resolve.permission.scheme.errors\\\":\\\"https://docs.atlassian.com/jira/jsd-docs-045/Resolving+permission+scheme+errors\\\",\\\"getting.started\\\":\\\"https://docs.atlassian.com/jira/jsd-docs-045/Getting+started+with+JIRA+Service+Desk\\\",\\\"getting.started.agent\\\":\\\"https://docs.atlassian.com/jira/jsd-docs-045/Getting+started+for+service+desk+agents\\\",\\\"sla.setup.help\\\":\\\"https://docs.atlassian.com/jira/jsd-docs-045/Setting+up+SLAs\\\",\\\"invite.customers\\\":\\\"https://docs.atlassian.com/jira/jsd-docs-045/Managing+access+to+your+service+desk\\\"},\\\"kb\\\":{\\\"default\\\":\\\"https://confluence.atlassian.com/display/SDKB/\\\",\\\"troubleshooting.user.management.issues\\\":\\\"https://confluence.atlassian.com/display/SDKB/Troubleshooting+issues+with+service+desk+user+management\\\",\\\"legacytransition\\\":\\\"https://confluence.atlassian.com/display/SDKB/Replacing+legacy+automatic+transitions+with+automation+rules\\\",\\\"umtroubleshoot\\\":\\\"https://confluence.atlassian.com/display/SDKB/Troubleshooting+issues+with+service+desk+user+management\\\"}}\";\nWRM._unparsedData[\"com.atlassian.servicedesk.core-ui:util-base-url.base-url\"]=\"\\\"https://jira.deutsche-boerse.com\\\"\";\nWRM._unparsedData[\"com.atlassian.jira.ext.calendar:tipDataProvider.tip\"]=\"{\\\"suppressTip\\\":false}\";\nWRM._unparsedData[\"jira.core:user-message-flags-data.adminLockout\"]=\"{}\";\nWRM._unparsedData[\"com.atlassian.plugins.helptips.jira-help-tips:help-tip-manager.JiraHelpTipData\"]=\"{\\\"anonymous\\\":true}\";\nif(window.WRM._dataArrived)window.WRM._dataArrived();</script>\n<link type=\"text/css\" rel=\"stylesheet\" href=\"/s/e8271b97698da4194d2f711daae2b067-CDN/-7ah0e0/805011/8e3bd22906ecb951c0f7b55c80a9c63f/2e46d90b5cae895c9c38649c9d510130/_/download/contextbatch/css/_super/batch.css\" data-wrm-key=\"_super\" data-wrm-batch-type=\"context\" media=\"all\">\n<link type=\"text/css\" rel=\"stylesheet\" href=\"/s/0b373d7b49fe629e265fb4107c8fe146-CDN/-7ah0e0/805011/8e3bd22906ecb951c0f7b55c80a9c63f/af079247db2c2cb707c79bb03ddf6106/_/download/contextbatch/css/atl.general,jira.general,jira.global,atl.global,-_super/batch.css?agile_global_admin_condition=true&amp;jag=true&amp;slack-enabled=true\" data-wrm-key=\"atl.general,jira.general,jira.global,atl.global,-_super\" data-wrm-batch-type=\"context\" media=\"all\">\n<link type=\"text/css\" rel=\"stylesheet\" href=\"/s/d41d8cd98f00b204e9800998ecf8427e-CDN/-7ah0e0/805011/8e3bd22906ecb951c0f7b55c80a9c63f/8.5.0/_/download/batch/com.atlassian.auiplugin:split_aui.pattern.label/com.atlassian.auiplugin:split_aui.pattern.label.css\" data-wrm-key=\"com.atlassian.auiplugin:split_aui.pattern.label\" data-wrm-batch-type=\"resource\" media=\"all\">\n<link type=\"text/css\" rel=\"stylesheet\" href=\"/s/d41d8cd98f00b204e9800998ecf8427e-CDN/-7ah0e0/805011/8e3bd22906ecb951c0f7b55c80a9c63f/8.5.0/_/download/batch/com.atlassian.auiplugin:split_aui.splitchunk.16f099a0da/com.atlassian.auiplugin:split_aui.splitchunk.16f099a0da.css\" data-wrm-key=\"com.atlassian.auiplugin:split_aui.splitchunk.16f099a0da\" data-wrm-batch-type=\"resource\" media=\"all\">\n<link type=\"text/css\" rel=\"stylesheet\" href=\"/s/c5173f0d8ca5eb0e04f4b38e3da1dfa2-CDN/-7ah0e0/805011/8e3bd22906ecb951c0f7b55c80a9c63f/1.0/_/download/batch/jira.webresources:global-static-adgs/jira.webresources:global-static-adgs.css\" data-wrm-key=\"jira.webresources:global-static-adgs\" data-wrm-batch-type=\"resource\" media=\"all\">\n<link type=\"text/css\" rel=\"stylesheet\" href=\"/s/c97634fb1ca3b9a8479adf8d7f6541c3-CDN/-7ah0e0/805011/8e3bd22906ecb951c0f7b55c80a9c63f/1.0/_/download/batch/jira.webresources:global-static/jira.webresources:global-static.css\" data-wrm-key=\"jira.webresources:global-static\" data-wrm-batch-type=\"resource\" media=\"all\">\n<script type=\"text/javascript\" src=\"/s/135c340e0d40f346bef340ba08b63cca-CDN/-7ah0e0/805011/8e3bd22906ecb951c0f7b55c80a9c63f/2e46d90b5cae895c9c38649c9d510130/_/download/contextbatch/js/_super/batch.js?locale=en-US\" data-wrm-key=\"_super\" data-wrm-batch-type=\"context\" data-initially-rendered></script>\n<script type=\"text/javascript\" src=\"/s/31ea5d0cdee95a36826b7b3441976662-CDN/-7ah0e0/805011/8e3bd22906ecb951c0f7b55c80a9c63f/af079247db2c2cb707c79bb03ddf6106/_/download/contextbatch/js/atl.general,jira.general,jira.global,atl.global,-_super/batch.js?agile_global_admin_condition=true&amp;jag=true&amp;locale=en-US&amp;slack-enabled=true\" data-wrm-key=\"atl.general,jira.general,jira.global,atl.global,-_super\" data-wrm-batch-type=\"context\" data-initially-rendered></script>\n<script type=\"text/javascript\" src=\"/s/a0df847c19c7e5f308faceeda48a3541-CDN/-7ah0e0/805011/8e3bd22906ecb951c0f7b55c80a9c63f/8.5.0/_/download/batch/com.atlassian.auiplugin:split_aui.pattern.label/com.atlassian.auiplugin:split_aui.pattern.label.js?locale=en-US\" data-wrm-key=\"com.atlassian.auiplugin:split_aui.pattern.label\" data-wrm-batch-type=\"resource\" data-initially-rendered></script>\n<script type=\"text/javascript\" src=\"/s/a0df847c19c7e5f308faceeda48a3541-CDN/-7ah0e0/805011/8e3bd22906ecb951c0f7b55c80a9c63f/8.5.0/_/download/batch/com.atlassian.auiplugin:split_aui.splitchunk.16f099a0da/com.atlassian.auiplugin:split_aui.splitchunk.16f099a0da.js?locale=en-US\" data-wrm-key=\"com.atlassian.auiplugin:split_aui.splitchunk.16f099a0da\" data-wrm-batch-type=\"resource\" data-initially-rendered></script>\n<script type=\"text/javascript\" src=\"/s/a0df847c19c7e5f308faceeda48a3541-CDN/-7ah0e0/805011/8e3bd22906ecb951c0f7b55c80a9c63f/8.5.0/_/download/batch/com.atlassian.auiplugin:split_aui.pattern.table/com.atlassian.auiplugin:split_aui.pattern.table.js?locale=en-US\" data-wrm-key=\"com.atlassian.auiplugin:split_aui.pattern.table\" data-wrm-batch-type=\"resource\" data-initially-rendered></script>\n<link type=\"text/css\" rel=\"stylesheet\" href=\"/s/2273be7c76b0d85f43a8095fb4c46d30-CDN/-7ah0e0/805011/8e3bd22906ecb951c0f7b55c80a9c63f/7f5dfab8ec63473c487ab95c18f35b6f/_/download/contextbatch/css/jira.global.look-and-feel,-_super/batch.css\" data-wrm-key=\"jira.global.look-and-feel,-_super\" data-wrm-batch-type=\"context\" media=\"all\">\n\n<script type=\"text/javascript\" src=\"/rest/api/1.0/shortcuts/805011/51ca13aa9f5f2985c72c3ce7b4d297dd/shortcuts.js\"></script>\n\n\n    <meta name=\"application-name\" content=\"JIRA\" data-name=\"jira\" data-version=\"8.5.11\">\n</head>\n<body id=\"jira\" class=\"aui-layout aui-style-default page-type-message\"  data-version=\"8.5.11\" >\n    <div class=\"aui-page-panel\"><div class=\"aui-page-panel-inner\">\n            <section class=\"aui-page-panel-content\">\n                    <header class=\"aui-page-header\"><div class=\"aui-page-header-inner\">\n                            <div class=\"aui-page-header-main\">\n                                    <h1>Forbidden (403)</h1>\n                                </div><!-- .aui-page-header-main -->\n                        </div><!-- .aui-page-header-inner --></header><!-- .aui-page-header -->\n                    <div class=\"aui-message aui-message-warning warning\">\n                            <p>Encountered a <code>&quot;403 - Forbidden&quot;</code> error while loading this page.</p>\n                            <p>Basic Authentication Failure - Reason : AUTHENTICATION_DENIED</p>\n                            <p><a href=\"/secure/MyJiraHome.jspa\">Go to Jira home</a></p>\n                        </div>\n                </section><!-- .aui-page-panel-content -->\n        </div><!-- .aui-page-panel-inner --></div><!-- .aui-page-panel -->\n</body>\n</html>\n"
     ]
    }
   ],
   "source": [
    "import requests\n",
    "from jira.client import JIRA\n",
    "import re \n",
    "import pandas as pd \n",
    "import xlsxwriter\n",
    "\n",
    "options = {\n",
    "    'server': 'https://jira.deutsche-boerse.com/',\n",
    "    'client_cert':'/home/oh856/APP-FLASK/Flask-app-dash/newfile.pem'   \n",
    "}\n",
    "jira_user = 'oh856'\n",
    "jira_pass = ''\n",
    "\n",
    "\n",
    "jira = JIRA(options, basic_auth=(jira_user, jira_pass))\n",
    "\n",
    "DEVELOPMENT_query = ('''((issueFunction in issuesInEpics(\"project = XP and labels IN ('External')\") AND \"Epic Link\" != XP-1460 AND issuetype not in (Sub-task, Epic) AND resolution not in (\"Won't Fix\", \"Won't Do\", Rejected, Declined, Duplicate)))''')\n",
    "\n",
    "\n",
    "block_size = 100\n",
    "block_num = 0\n",
    "dev_result = pd.DataFrame()\n",
    "\n",
    "\n",
    "while True:\n",
    "         start_idx = block_num*block_size\n",
    "         issues = jira.search_issues(DEVELOPMENT_query, start_idx, block_size)\n",
    "         if len(issues) == 0:\n",
    "             # Retrieve issues until there are no more to come\n",
    "             break\n",
    "         block_num += 1\n",
    "         for issue in issues:\n",
    "                 try:\n",
    "                     d = {\n",
    "                         'Summary': str(issue.fields.summary),\n",
    "                         'Issue Key': issue.key,\n",
    "                         'Issue id': issue.id ,\n",
    "                        'Custom field (Story Points)': issue.fields.customfield_10052,\n",
    "                         'Issue Type': str(issue.fields.issuetype.name),\n",
    "                         'status': str(issue.fields.status.name),\n",
    "                         'project': str(issue.fields.project),\n",
    "                         'priority': str(issue.fields.priority.name),\n",
    "                         'assignee': str(issue.fields.assignee),\n",
    "                         'created' : str(issue.fields.created),   \n",
    "                         'labels': str(issue.fields.labels),\n",
    "                         'description': str(issue.fields.description),\n",
    "                         'Resolution': str(issue.fields.resolution),\n",
    "                         'Resolved': str(issue.fields.resolutiondate),\n",
    "                         'status_description': str(issue.fields.status.description),\n",
    "                         'updated': str(issue.fields.updated),\n",
    "                        \n",
    "                     }\n",
    "                     dev_result = dev_result.append(d, ignore_index= True)  \n",
    "                 except AttributeError:\n",
    "                     pass\n",
    "        \n",
    "\n",
    "dev_result.to_csv('Development.csv')\n",
    "\n",
    "\n",
    "\n",
    "\n",
    "\n",
    "\n",
    "\n",
    "\n",
    "\n",
    "# block_size = 100\n",
    "# block_num = 0\n",
    "# issues_result = pd.DataFrame()\n",
    "\n",
    "# while True:\n",
    "#         start_idx = block_num*block_size\n",
    "#         issues = jira.search_issues(XBID_SUPPORT_query, start_idx, block_size)\n",
    "#         if len(issues) == 0:\n",
    "#             # Retrieve issues until there are no more to come\n",
    "#             break\n",
    "#         block_num += 1\n",
    "#         for issue in issues:\n",
    "#                 try:\n",
    "#                     d = {\n",
    "#                         'Summary': str(issue.fields.summary),\n",
    "#                         'Issue Key': issue.key,\n",
    "#                         'Issue id': issue.id ,\n",
    "#                         'Custom field (Story Points)': issue.fields.customfield_10052,\n",
    "#                         'Issue Type': str(issue.fields.issuetype.name),\n",
    "#                         'status': str(issue.fields.status.name),\n",
    "#                         'project': str(issue.fields.project),\n",
    "#                         'priority': str(issue.fields.priority.name),\n",
    "#                         'assignee': str(issue.fields.assignee),\n",
    "#                         'created' : str(issue.fields.created),   \n",
    "#                         'labels': str(issue.fields.labels),\n",
    "#                         'description': str(issue.fields.description),\n",
    "#                         'Resolution': str(issue.fields.resolution),\n",
    "#                         'Resolved': str(issue.fields.resolutiondate),\n",
    "#                         'status_description': str(issue.fields.status.description),\n",
    "#                         'updated': str(issue.fields.updated),\n",
    "                        \n",
    "#                     }\n",
    "#                     issues_result = issues_result.append(d, ignore_index= True)  \n",
    "#                 except AttributeError:\n",
    "#                     pass\n",
    "        \n",
    "# print(issues_result)\n",
    "\n",
    "\n",
    "\n"
   ]
  },
  {
   "cell_type": "code",
   "execution_count": 225,
   "metadata": {},
   "outputs": [],
   "source": [
    "def data_processing(data):\n",
    "    data[\"Custom field (Story Points)\"] = data[\"Custom field (Story Points)\"].fillna(0)\n",
    "    data['Custom field (Story Points)'] = np.where(data['Custom field (Story Points)'].between(0.0,1.0), 1, data['Custom field (Story Points)'])\n",
    "    data[\"Resolved\"] = pd.to_datetime(data[\"Resolved\"])\n",
    "    data[\"Resolved\"] = data[\"Resolved\"].apply(lambda x: x.year)\n",
    "    df =  pd.DataFrame(data[[\"Custom field (Story Points)\",\"Resolved\"]])\n",
    "    df_new = pd.DataFrame(df.groupby(\"Resolved\").sum()[\"Custom field (Story Points)\"])\n",
    "    df_new = df_new.reset_index()\n",
    "    return df_new\n"
   ]
  },
  {
   "cell_type": "code",
   "execution_count": 246,
   "metadata": {},
   "outputs": [
    {
     "data": {
      "text/html": [
       "<div>\n",
       "<style scoped>\n",
       "    .dataframe tbody tr th:only-of-type {\n",
       "        vertical-align: middle;\n",
       "    }\n",
       "\n",
       "    .dataframe tbody tr th {\n",
       "        vertical-align: top;\n",
       "    }\n",
       "\n",
       "    .dataframe thead th {\n",
       "        text-align: right;\n",
       "    }\n",
       "</style>\n",
       "<table border=\"1\" class=\"dataframe\">\n",
       "  <thead>\n",
       "    <tr style=\"text-align: right;\">\n",
       "      <th></th>\n",
       "      <th>Resolved</th>\n",
       "      <th>Custom field (Story Points)</th>\n",
       "    </tr>\n",
       "  </thead>\n",
       "  <tbody>\n",
       "    <tr>\n",
       "      <th>0</th>\n",
       "      <td>1970</td>\n",
       "      <td>2380.5</td>\n",
       "    </tr>\n",
       "  </tbody>\n",
       "</table>\n",
       "</div>"
      ],
      "text/plain": [
       "   Resolved  Custom field (Story Points)\n",
       "0      1970                       2380.5"
      ]
     },
     "execution_count": 246,
     "metadata": {},
     "output_type": "execute_result"
    }
   ],
   "source": [
    "data_processing(main_result)"
   ]
  },
  {
   "cell_type": "code",
   "execution_count": 250,
   "metadata": {},
   "outputs": [
    {
     "data": {
      "text/html": [
       "<div>\n",
       "<style scoped>\n",
       "    .dataframe tbody tr th:only-of-type {\n",
       "        vertical-align: middle;\n",
       "    }\n",
       "\n",
       "    .dataframe tbody tr th {\n",
       "        vertical-align: top;\n",
       "    }\n",
       "\n",
       "    .dataframe thead th {\n",
       "        text-align: right;\n",
       "    }\n",
       "</style>\n",
       "<table border=\"1\" class=\"dataframe\">\n",
       "  <thead>\n",
       "    <tr style=\"text-align: right;\">\n",
       "      <th></th>\n",
       "      <th>Custom field (Story Points)</th>\n",
       "      <th>Resolved</th>\n",
       "      <th>Issue</th>\n",
       "    </tr>\n",
       "  </thead>\n",
       "  <tbody>\n",
       "    <tr>\n",
       "      <th>0</th>\n",
       "      <td>3.0</td>\n",
       "      <td>2021</td>\n",
       "      <td>Development</td>\n",
       "    </tr>\n",
       "    <tr>\n",
       "      <th>1</th>\n",
       "      <td>2.0</td>\n",
       "      <td>2021</td>\n",
       "      <td>Development</td>\n",
       "    </tr>\n",
       "    <tr>\n",
       "      <th>2</th>\n",
       "      <td>2.0</td>\n",
       "      <td>2021</td>\n",
       "      <td>Development</td>\n",
       "    </tr>\n",
       "    <tr>\n",
       "      <th>3</th>\n",
       "      <td>1.0</td>\n",
       "      <td>2021</td>\n",
       "      <td>Development</td>\n",
       "    </tr>\n",
       "    <tr>\n",
       "      <th>4</th>\n",
       "      <td>5.0</td>\n",
       "      <td>2021</td>\n",
       "      <td>Development</td>\n",
       "    </tr>\n",
       "    <tr>\n",
       "      <th>...</th>\n",
       "      <td>...</td>\n",
       "      <td>...</td>\n",
       "      <td>...</td>\n",
       "    </tr>\n",
       "    <tr>\n",
       "      <th>1140</th>\n",
       "      <td>1.0</td>\n",
       "      <td>2020</td>\n",
       "      <td>Development</td>\n",
       "    </tr>\n",
       "    <tr>\n",
       "      <th>1141</th>\n",
       "      <td>1.0</td>\n",
       "      <td>2021</td>\n",
       "      <td>Development</td>\n",
       "    </tr>\n",
       "    <tr>\n",
       "      <th>1142</th>\n",
       "      <td>1.0</td>\n",
       "      <td>2021</td>\n",
       "      <td>Development</td>\n",
       "    </tr>\n",
       "    <tr>\n",
       "      <th>1143</th>\n",
       "      <td>1.0</td>\n",
       "      <td>2021</td>\n",
       "      <td>Development</td>\n",
       "    </tr>\n",
       "    <tr>\n",
       "      <th>1144</th>\n",
       "      <td>1.0</td>\n",
       "      <td>2021</td>\n",
       "      <td>Development</td>\n",
       "    </tr>\n",
       "  </tbody>\n",
       "</table>\n",
       "<p>1145 rows × 3 columns</p>\n",
       "</div>"
      ],
      "text/plain": [
       "      Custom field (Story Points)  Resolved        Issue\n",
       "0                             3.0      2021  Development\n",
       "1                             2.0      2021  Development\n",
       "2                             2.0      2021  Development\n",
       "3                             1.0      2021  Development\n",
       "4                             5.0      2021  Development\n",
       "...                           ...       ...          ...\n",
       "1140                          1.0      2020  Development\n",
       "1141                          1.0      2021  Development\n",
       "1142                          1.0      2021  Development\n",
       "1143                          1.0      2021  Development\n",
       "1144                          1.0      2021  Development\n",
       "\n",
       "[1145 rows x 3 columns]"
      ]
     },
     "execution_count": 250,
     "metadata": {},
     "output_type": "execute_result"
    }
   ],
   "source": [
    "last_version_of_calculation = total_calculation(main_result, \"Development\")\n",
    "last_version_of_calculation\n"
   ]
  },
  {
   "cell_type": "code",
   "execution_count": 286,
   "metadata": {},
   "outputs": [],
   "source": [
    "xbiddata= pd.read_csv('/home/oh856/APP-FLASK/Flask-app-dash/datasets/XBIDsupport.csv')"
   ]
  },
  {
   "cell_type": "code",
   "execution_count": 278,
   "metadata": {},
   "outputs": [],
   "source": [
    "def total_calculation(data, ame):\n",
    "    data[\"Custom field (Story Points)\"] = data[\"Custom field (Story Points)\"].fillna(0)\n",
    "    data['Custom field (Story Points)'] = np.where(data['Custom field (Story Points)'].between(0.0,1.0), 1, data['Custom field (Story Points)'])\n",
    "    data[\"Resolved\"] = pd.to_datetime(data[\"Resolved\"], dayfirst =True, errors ='coerce')\n",
    "    data[\"Resolved\"] = data[\"Resolved\"].apply(lambda x: x.year)\n",
    "    data['Issue'] = np.where(data['Resolution'],ame, data['Resolution'])\n",
    "    maintenance_final =  pd.DataFrame(data[[\"Custom field (Story Points)\",\"Resolved\",\"Issue\"]])\n",
    "    return maintenance_final"
   ]
  },
  {
   "cell_type": "code",
   "execution_count": 229,
   "metadata": {},
   "outputs": [
    {
     "data": {
      "text/html": [
       "<div>\n",
       "<style scoped>\n",
       "    .dataframe tbody tr th:only-of-type {\n",
       "        vertical-align: middle;\n",
       "    }\n",
       "\n",
       "    .dataframe tbody tr th {\n",
       "        vertical-align: top;\n",
       "    }\n",
       "\n",
       "    .dataframe thead th {\n",
       "        text-align: right;\n",
       "    }\n",
       "</style>\n",
       "<table border=\"1\" class=\"dataframe\">\n",
       "  <thead>\n",
       "    <tr style=\"text-align: right;\">\n",
       "      <th></th>\n",
       "      <th>Resolved</th>\n",
       "      <th>Custom field (Story Points)</th>\n",
       "    </tr>\n",
       "  </thead>\n",
       "  <tbody>\n",
       "    <tr>\n",
       "      <th>0</th>\n",
       "      <td>2018</td>\n",
       "      <td>247.0</td>\n",
       "    </tr>\n",
       "    <tr>\n",
       "      <th>1</th>\n",
       "      <td>2019</td>\n",
       "      <td>679.0</td>\n",
       "    </tr>\n",
       "    <tr>\n",
       "      <th>2</th>\n",
       "      <td>2020</td>\n",
       "      <td>911.5</td>\n",
       "    </tr>\n",
       "    <tr>\n",
       "      <th>3</th>\n",
       "      <td>2021</td>\n",
       "      <td>291.0</td>\n",
       "    </tr>\n",
       "  </tbody>\n",
       "</table>\n",
       "</div>"
      ],
      "text/plain": [
       "   Resolved  Custom field (Story Points)\n",
       "0      2018                        247.0\n",
       "1      2019                        679.0\n",
       "2      2020                        911.5\n",
       "3      2021                        291.0"
      ]
     },
     "execution_count": 229,
     "metadata": {},
     "output_type": "execute_result"
    }
   ],
   "source": [
    "data_maintenance = pd.read_csv(r\"/home/oh856/APP-FLASK/Flask-app-dash/datasets/Maintenance-Real.csv\")\n",
    "data_processing(data_maintenance)"
   ]
  },
  {
   "cell_type": "code",
   "execution_count": 267,
   "metadata": {},
   "outputs": [
    {
     "ename": "ParserError",
     "evalue": "Unknown string format: None",
     "output_type": "error",
     "traceback": [
      "\u001b[0;31m---------------------------------------------------------------------------\u001b[0m",
      "\u001b[0;31mTypeError\u001b[0m                                 Traceback (most recent call last)",
      "\u001b[0;32m~/anaconda3/lib/python3.7/site-packages/pandas/core/arrays/datetimes.py\u001b[0m in \u001b[0;36mobjects_to_datetime64ns\u001b[0;34m(data, dayfirst, yearfirst, utc, errors, require_iso8601, allow_object)\u001b[0m\n\u001b[1;32m   1855\u001b[0m         \u001b[0;32mtry\u001b[0m\u001b[0;34m:\u001b[0m\u001b[0;34m\u001b[0m\u001b[0;34m\u001b[0m\u001b[0m\n\u001b[0;32m-> 1856\u001b[0;31m             \u001b[0mvalues\u001b[0m\u001b[0;34m,\u001b[0m \u001b[0mtz_parsed\u001b[0m \u001b[0;34m=\u001b[0m \u001b[0mconversion\u001b[0m\u001b[0;34m.\u001b[0m\u001b[0mdatetime_to_datetime64\u001b[0m\u001b[0;34m(\u001b[0m\u001b[0mdata\u001b[0m\u001b[0;34m)\u001b[0m\u001b[0;34m\u001b[0m\u001b[0;34m\u001b[0m\u001b[0m\n\u001b[0m\u001b[1;32m   1857\u001b[0m             \u001b[0;31m# If tzaware, these values represent unix timestamps, so we\u001b[0m\u001b[0;34m\u001b[0m\u001b[0;34m\u001b[0m\u001b[0;34m\u001b[0m\u001b[0m\n",
      "\u001b[0;32mpandas/_libs/tslibs/conversion.pyx\u001b[0m in \u001b[0;36mpandas._libs.tslibs.conversion.datetime_to_datetime64\u001b[0;34m()\u001b[0m\n",
      "\u001b[0;31mTypeError\u001b[0m: Unrecognized value type: <class 'str'>",
      "\nDuring handling of the above exception, another exception occurred:\n",
      "\u001b[0;31mParserError\u001b[0m                               Traceback (most recent call last)",
      "\u001b[0;32m<ipython-input-267-5cebba1450f6>\u001b[0m in \u001b[0;36m<module>\u001b[0;34m\u001b[0m\n\u001b[0;32m----> 1\u001b[0;31m \u001b[0mlast_version_of_calculation\u001b[0m \u001b[0;34m=\u001b[0m \u001b[0mlast_version_of_calculation\u001b[0m\u001b[0;34m.\u001b[0m\u001b[0mappend\u001b[0m\u001b[0;34m(\u001b[0m\u001b[0mtotal_calculation\u001b[0m\u001b[0;34m(\u001b[0m\u001b[0mxbiddata\u001b[0m\u001b[0;34m,\u001b[0m\u001b[0;34m\"Xbid-Support\"\u001b[0m\u001b[0;34m)\u001b[0m\u001b[0;34m)\u001b[0m\u001b[0;34m\u001b[0m\u001b[0;34m\u001b[0m\u001b[0m\n\u001b[0m",
      "\u001b[0;32m<ipython-input-245-cd7d58a3b94b>\u001b[0m in \u001b[0;36mtotal_calculation\u001b[0;34m(data, ame)\u001b[0m\n\u001b[1;32m      2\u001b[0m     \u001b[0mdata\u001b[0m\u001b[0;34m[\u001b[0m\u001b[0;34m\"Custom field (Story Points)\"\u001b[0m\u001b[0;34m]\u001b[0m \u001b[0;34m=\u001b[0m \u001b[0mdata\u001b[0m\u001b[0;34m[\u001b[0m\u001b[0;34m\"Custom field (Story Points)\"\u001b[0m\u001b[0;34m]\u001b[0m\u001b[0;34m.\u001b[0m\u001b[0mfillna\u001b[0m\u001b[0;34m(\u001b[0m\u001b[0;36m0\u001b[0m\u001b[0;34m)\u001b[0m\u001b[0;34m\u001b[0m\u001b[0;34m\u001b[0m\u001b[0m\n\u001b[1;32m      3\u001b[0m     \u001b[0mdata\u001b[0m\u001b[0;34m[\u001b[0m\u001b[0;34m'Custom field (Story Points)'\u001b[0m\u001b[0;34m]\u001b[0m \u001b[0;34m=\u001b[0m \u001b[0mnp\u001b[0m\u001b[0;34m.\u001b[0m\u001b[0mwhere\u001b[0m\u001b[0;34m(\u001b[0m\u001b[0mdata\u001b[0m\u001b[0;34m[\u001b[0m\u001b[0;34m'Custom field (Story Points)'\u001b[0m\u001b[0;34m]\u001b[0m\u001b[0;34m.\u001b[0m\u001b[0mbetween\u001b[0m\u001b[0;34m(\u001b[0m\u001b[0;36m0.0\u001b[0m\u001b[0;34m,\u001b[0m\u001b[0;36m1.0\u001b[0m\u001b[0;34m)\u001b[0m\u001b[0;34m,\u001b[0m \u001b[0;36m1\u001b[0m\u001b[0;34m,\u001b[0m \u001b[0mdata\u001b[0m\u001b[0;34m[\u001b[0m\u001b[0;34m'Custom field (Story Points)'\u001b[0m\u001b[0;34m]\u001b[0m\u001b[0;34m)\u001b[0m\u001b[0;34m\u001b[0m\u001b[0;34m\u001b[0m\u001b[0m\n\u001b[0;32m----> 4\u001b[0;31m     \u001b[0mdata\u001b[0m\u001b[0;34m[\u001b[0m\u001b[0;34m\"Resolved\"\u001b[0m\u001b[0;34m]\u001b[0m \u001b[0;34m=\u001b[0m \u001b[0mpd\u001b[0m\u001b[0;34m.\u001b[0m\u001b[0mto_datetime\u001b[0m\u001b[0;34m(\u001b[0m\u001b[0mdata\u001b[0m\u001b[0;34m[\u001b[0m\u001b[0;34m\"Resolved\"\u001b[0m\u001b[0;34m]\u001b[0m\u001b[0;34m)\u001b[0m\u001b[0;34m\u001b[0m\u001b[0;34m\u001b[0m\u001b[0m\n\u001b[0m\u001b[1;32m      5\u001b[0m     \u001b[0mdata\u001b[0m\u001b[0;34m[\u001b[0m\u001b[0;34m\"Resolved\"\u001b[0m\u001b[0;34m]\u001b[0m \u001b[0;34m=\u001b[0m \u001b[0mdata\u001b[0m\u001b[0;34m[\u001b[0m\u001b[0;34m\"Resolved\"\u001b[0m\u001b[0;34m]\u001b[0m\u001b[0;34m.\u001b[0m\u001b[0mapply\u001b[0m\u001b[0;34m(\u001b[0m\u001b[0;32mlambda\u001b[0m \u001b[0mx\u001b[0m\u001b[0;34m:\u001b[0m \u001b[0mx\u001b[0m\u001b[0;34m.\u001b[0m\u001b[0myear\u001b[0m\u001b[0;34m)\u001b[0m\u001b[0;34m\u001b[0m\u001b[0;34m\u001b[0m\u001b[0m\n\u001b[1;32m      6\u001b[0m     \u001b[0mdata\u001b[0m\u001b[0;34m[\u001b[0m\u001b[0;34m'Issue'\u001b[0m\u001b[0;34m]\u001b[0m \u001b[0;34m=\u001b[0m \u001b[0mnp\u001b[0m\u001b[0;34m.\u001b[0m\u001b[0mwhere\u001b[0m\u001b[0;34m(\u001b[0m\u001b[0mdata\u001b[0m\u001b[0;34m[\u001b[0m\u001b[0;34m'Resolution'\u001b[0m\u001b[0;34m]\u001b[0m\u001b[0;34m,\u001b[0m\u001b[0mame\u001b[0m\u001b[0;34m,\u001b[0m \u001b[0mdata\u001b[0m\u001b[0;34m[\u001b[0m\u001b[0;34m'Resolution'\u001b[0m\u001b[0;34m]\u001b[0m\u001b[0;34m)\u001b[0m\u001b[0;34m\u001b[0m\u001b[0;34m\u001b[0m\u001b[0m\n",
      "\u001b[0;32m~/anaconda3/lib/python3.7/site-packages/pandas/core/tools/datetimes.py\u001b[0m in \u001b[0;36mto_datetime\u001b[0;34m(arg, errors, dayfirst, yearfirst, utc, format, exact, unit, infer_datetime_format, origin, cache)\u001b[0m\n\u001b[1;32m    726\u001b[0m             \u001b[0mresult\u001b[0m \u001b[0;34m=\u001b[0m \u001b[0marg\u001b[0m\u001b[0;34m.\u001b[0m\u001b[0mmap\u001b[0m\u001b[0;34m(\u001b[0m\u001b[0mcache_array\u001b[0m\u001b[0;34m)\u001b[0m\u001b[0;34m\u001b[0m\u001b[0;34m\u001b[0m\u001b[0m\n\u001b[1;32m    727\u001b[0m         \u001b[0;32melse\u001b[0m\u001b[0;34m:\u001b[0m\u001b[0;34m\u001b[0m\u001b[0;34m\u001b[0m\u001b[0m\n\u001b[0;32m--> 728\u001b[0;31m             \u001b[0mvalues\u001b[0m \u001b[0;34m=\u001b[0m \u001b[0mconvert_listlike\u001b[0m\u001b[0;34m(\u001b[0m\u001b[0marg\u001b[0m\u001b[0;34m.\u001b[0m\u001b[0m_values\u001b[0m\u001b[0;34m,\u001b[0m \u001b[0mformat\u001b[0m\u001b[0;34m)\u001b[0m\u001b[0;34m\u001b[0m\u001b[0;34m\u001b[0m\u001b[0m\n\u001b[0m\u001b[1;32m    729\u001b[0m             \u001b[0mresult\u001b[0m \u001b[0;34m=\u001b[0m \u001b[0marg\u001b[0m\u001b[0;34m.\u001b[0m\u001b[0m_constructor\u001b[0m\u001b[0;34m(\u001b[0m\u001b[0mvalues\u001b[0m\u001b[0;34m,\u001b[0m \u001b[0mindex\u001b[0m\u001b[0;34m=\u001b[0m\u001b[0marg\u001b[0m\u001b[0;34m.\u001b[0m\u001b[0mindex\u001b[0m\u001b[0;34m,\u001b[0m \u001b[0mname\u001b[0m\u001b[0;34m=\u001b[0m\u001b[0marg\u001b[0m\u001b[0;34m.\u001b[0m\u001b[0mname\u001b[0m\u001b[0;34m)\u001b[0m\u001b[0;34m\u001b[0m\u001b[0;34m\u001b[0m\u001b[0m\n\u001b[1;32m    730\u001b[0m     \u001b[0;32melif\u001b[0m \u001b[0misinstance\u001b[0m\u001b[0;34m(\u001b[0m\u001b[0marg\u001b[0m\u001b[0;34m,\u001b[0m \u001b[0;34m(\u001b[0m\u001b[0mABCDataFrame\u001b[0m\u001b[0;34m,\u001b[0m \u001b[0mabc\u001b[0m\u001b[0;34m.\u001b[0m\u001b[0mMutableMapping\u001b[0m\u001b[0;34m)\u001b[0m\u001b[0;34m)\u001b[0m\u001b[0;34m:\u001b[0m\u001b[0;34m\u001b[0m\u001b[0;34m\u001b[0m\u001b[0m\n",
      "\u001b[0;32m~/anaconda3/lib/python3.7/site-packages/pandas/core/tools/datetimes.py\u001b[0m in \u001b[0;36m_convert_listlike_datetimes\u001b[0;34m(arg, format, name, tz, unit, errors, infer_datetime_format, dayfirst, yearfirst, exact)\u001b[0m\n\u001b[1;32m    445\u001b[0m             \u001b[0merrors\u001b[0m\u001b[0;34m=\u001b[0m\u001b[0merrors\u001b[0m\u001b[0;34m,\u001b[0m\u001b[0;34m\u001b[0m\u001b[0;34m\u001b[0m\u001b[0m\n\u001b[1;32m    446\u001b[0m             \u001b[0mrequire_iso8601\u001b[0m\u001b[0;34m=\u001b[0m\u001b[0mrequire_iso8601\u001b[0m\u001b[0;34m,\u001b[0m\u001b[0;34m\u001b[0m\u001b[0;34m\u001b[0m\u001b[0m\n\u001b[0;32m--> 447\u001b[0;31m             \u001b[0mallow_object\u001b[0m\u001b[0;34m=\u001b[0m\u001b[0;32mTrue\u001b[0m\u001b[0;34m,\u001b[0m\u001b[0;34m\u001b[0m\u001b[0;34m\u001b[0m\u001b[0m\n\u001b[0m\u001b[1;32m    448\u001b[0m         )\n\u001b[1;32m    449\u001b[0m \u001b[0;34m\u001b[0m\u001b[0m\n",
      "\u001b[0;32m~/anaconda3/lib/python3.7/site-packages/pandas/core/arrays/datetimes.py\u001b[0m in \u001b[0;36mobjects_to_datetime64ns\u001b[0;34m(data, dayfirst, yearfirst, utc, errors, require_iso8601, allow_object)\u001b[0m\n\u001b[1;32m   1859\u001b[0m             \u001b[0;32mreturn\u001b[0m \u001b[0mvalues\u001b[0m\u001b[0;34m.\u001b[0m\u001b[0mview\u001b[0m\u001b[0;34m(\u001b[0m\u001b[0;34m\"i8\"\u001b[0m\u001b[0;34m)\u001b[0m\u001b[0;34m,\u001b[0m \u001b[0mtz_parsed\u001b[0m\u001b[0;34m\u001b[0m\u001b[0;34m\u001b[0m\u001b[0m\n\u001b[1;32m   1860\u001b[0m         \u001b[0;32mexcept\u001b[0m \u001b[0;34m(\u001b[0m\u001b[0mValueError\u001b[0m\u001b[0;34m,\u001b[0m \u001b[0mTypeError\u001b[0m\u001b[0;34m)\u001b[0m\u001b[0;34m:\u001b[0m\u001b[0;34m\u001b[0m\u001b[0;34m\u001b[0m\u001b[0m\n\u001b[0;32m-> 1861\u001b[0;31m             \u001b[0;32mraise\u001b[0m \u001b[0me\u001b[0m\u001b[0;34m\u001b[0m\u001b[0;34m\u001b[0m\u001b[0m\n\u001b[0m\u001b[1;32m   1862\u001b[0m \u001b[0;34m\u001b[0m\u001b[0m\n\u001b[1;32m   1863\u001b[0m     \u001b[0;32mif\u001b[0m \u001b[0mtz_parsed\u001b[0m \u001b[0;32mis\u001b[0m \u001b[0;32mnot\u001b[0m \u001b[0;32mNone\u001b[0m\u001b[0;34m:\u001b[0m\u001b[0;34m\u001b[0m\u001b[0;34m\u001b[0m\u001b[0m\n",
      "\u001b[0;32m~/anaconda3/lib/python3.7/site-packages/pandas/core/arrays/datetimes.py\u001b[0m in \u001b[0;36mobjects_to_datetime64ns\u001b[0;34m(data, dayfirst, yearfirst, utc, errors, require_iso8601, allow_object)\u001b[0m\n\u001b[1;32m   1850\u001b[0m             \u001b[0mdayfirst\u001b[0m\u001b[0;34m=\u001b[0m\u001b[0mdayfirst\u001b[0m\u001b[0;34m,\u001b[0m\u001b[0;34m\u001b[0m\u001b[0;34m\u001b[0m\u001b[0m\n\u001b[1;32m   1851\u001b[0m             \u001b[0myearfirst\u001b[0m\u001b[0;34m=\u001b[0m\u001b[0myearfirst\u001b[0m\u001b[0;34m,\u001b[0m\u001b[0;34m\u001b[0m\u001b[0;34m\u001b[0m\u001b[0m\n\u001b[0;32m-> 1852\u001b[0;31m             \u001b[0mrequire_iso8601\u001b[0m\u001b[0;34m=\u001b[0m\u001b[0mrequire_iso8601\u001b[0m\u001b[0;34m,\u001b[0m\u001b[0;34m\u001b[0m\u001b[0;34m\u001b[0m\u001b[0m\n\u001b[0m\u001b[1;32m   1853\u001b[0m         )\n\u001b[1;32m   1854\u001b[0m     \u001b[0;32mexcept\u001b[0m \u001b[0mValueError\u001b[0m \u001b[0;32mas\u001b[0m \u001b[0me\u001b[0m\u001b[0;34m:\u001b[0m\u001b[0;34m\u001b[0m\u001b[0;34m\u001b[0m\u001b[0m\n",
      "\u001b[0;32mpandas/_libs/tslib.pyx\u001b[0m in \u001b[0;36mpandas._libs.tslib.array_to_datetime\u001b[0;34m()\u001b[0m\n",
      "\u001b[0;32mpandas/_libs/tslib.pyx\u001b[0m in \u001b[0;36mpandas._libs.tslib.array_to_datetime\u001b[0;34m()\u001b[0m\n",
      "\u001b[0;32mpandas/_libs/tslib.pyx\u001b[0m in \u001b[0;36mpandas._libs.tslib.array_to_datetime_object\u001b[0;34m()\u001b[0m\n",
      "\u001b[0;32mpandas/_libs/tslib.pyx\u001b[0m in \u001b[0;36mpandas._libs.tslib.array_to_datetime_object\u001b[0;34m()\u001b[0m\n",
      "\u001b[0;32mpandas/_libs/tslibs/parsing.pyx\u001b[0m in \u001b[0;36mpandas._libs.tslibs.parsing.parse_datetime_string\u001b[0;34m()\u001b[0m\n",
      "\u001b[0;32m~/anaconda3/lib/python3.7/site-packages/dateutil/parser/_parser.py\u001b[0m in \u001b[0;36mparse\u001b[0;34m(timestr, parserinfo, **kwargs)\u001b[0m\n\u001b[1;32m   1372\u001b[0m         \u001b[0;32mreturn\u001b[0m \u001b[0mparser\u001b[0m\u001b[0;34m(\u001b[0m\u001b[0mparserinfo\u001b[0m\u001b[0;34m)\u001b[0m\u001b[0;34m.\u001b[0m\u001b[0mparse\u001b[0m\u001b[0;34m(\u001b[0m\u001b[0mtimestr\u001b[0m\u001b[0;34m,\u001b[0m \u001b[0;34m**\u001b[0m\u001b[0mkwargs\u001b[0m\u001b[0;34m)\u001b[0m\u001b[0;34m\u001b[0m\u001b[0;34m\u001b[0m\u001b[0m\n\u001b[1;32m   1373\u001b[0m     \u001b[0;32melse\u001b[0m\u001b[0;34m:\u001b[0m\u001b[0;34m\u001b[0m\u001b[0;34m\u001b[0m\u001b[0m\n\u001b[0;32m-> 1374\u001b[0;31m         \u001b[0;32mreturn\u001b[0m \u001b[0mDEFAULTPARSER\u001b[0m\u001b[0;34m.\u001b[0m\u001b[0mparse\u001b[0m\u001b[0;34m(\u001b[0m\u001b[0mtimestr\u001b[0m\u001b[0;34m,\u001b[0m \u001b[0;34m**\u001b[0m\u001b[0mkwargs\u001b[0m\u001b[0;34m)\u001b[0m\u001b[0;34m\u001b[0m\u001b[0;34m\u001b[0m\u001b[0m\n\u001b[0m\u001b[1;32m   1375\u001b[0m \u001b[0;34m\u001b[0m\u001b[0m\n\u001b[1;32m   1376\u001b[0m \u001b[0;34m\u001b[0m\u001b[0m\n",
      "\u001b[0;32m~/anaconda3/lib/python3.7/site-packages/dateutil/parser/_parser.py\u001b[0m in \u001b[0;36mparse\u001b[0;34m(self, timestr, default, ignoretz, tzinfos, **kwargs)\u001b[0m\n\u001b[1;32m    647\u001b[0m \u001b[0;34m\u001b[0m\u001b[0m\n\u001b[1;32m    648\u001b[0m         \u001b[0;32mif\u001b[0m \u001b[0mres\u001b[0m \u001b[0;32mis\u001b[0m \u001b[0;32mNone\u001b[0m\u001b[0;34m:\u001b[0m\u001b[0;34m\u001b[0m\u001b[0;34m\u001b[0m\u001b[0m\n\u001b[0;32m--> 649\u001b[0;31m             \u001b[0;32mraise\u001b[0m \u001b[0mParserError\u001b[0m\u001b[0;34m(\u001b[0m\u001b[0;34m\"Unknown string format: %s\"\u001b[0m\u001b[0;34m,\u001b[0m \u001b[0mtimestr\u001b[0m\u001b[0;34m)\u001b[0m\u001b[0;34m\u001b[0m\u001b[0;34m\u001b[0m\u001b[0m\n\u001b[0m\u001b[1;32m    650\u001b[0m \u001b[0;34m\u001b[0m\u001b[0m\n\u001b[1;32m    651\u001b[0m         \u001b[0;32mif\u001b[0m \u001b[0mlen\u001b[0m\u001b[0;34m(\u001b[0m\u001b[0mres\u001b[0m\u001b[0;34m)\u001b[0m \u001b[0;34m==\u001b[0m \u001b[0;36m0\u001b[0m\u001b[0;34m:\u001b[0m\u001b[0;34m\u001b[0m\u001b[0;34m\u001b[0m\u001b[0m\n",
      "\u001b[0;31mParserError\u001b[0m: Unknown string format: None"
     ]
    }
   ],
   "source": [
    "last_version_of_calculation = last_version_of_calculation.append(total_calculation(xbiddata,\"Xbid-Support\"))\n"
   ]
  },
  {
   "cell_type": "code",
   "execution_count": 495,
   "metadata": {},
   "outputs": [],
   "source": [
    "def line_processing(data,ame):\n",
    "    data[\"Resolved\"] = pd.to_datetime(data[\"Resolved\"],dayfirst =True, errors ='coerce')\n",
    "    data['Resolved'] = data['Resolved'].fillna(method='ffill')\n",
    "    data[\"year\"] = data[\"Resolved\"].apply(lambda x: x.year)\n",
    "    data[\"month\"] = data[\"Resolved\"].apply(lambda x: x.month)\n",
    "    data[\"day\"] = data[\"Resolved\"].apply(lambda x: x.day)\n",
    "    data[\"Resolved\"] = data[\"Resolved\"].apply(lambda x: x.date())\n",
    "    data[\"Custom field (Story Points)\"] = data[\"Custom field (Story Points)\"].fillna(0)\n",
    "    data['Custom field (Story Points)'] = np.where(data['Custom field (Story Points)'].between(0.0,1.0), 1, data['Custom field (Story Points)'])\n",
    "    data['Issue'] = np.where(data['Resolution'],ame, data['Resolution'])\n",
    "    df_new =  pd.DataFrame(data[[\"Custom field (Story Points)\",\"year\",\"Issue\",\"month\",\"Resolved\", 'day']])\n",
    "    return df_new"
   ]
  },
  {
   "cell_type": "code",
   "execution_count": 521,
   "metadata": {},
   "outputs": [],
   "source": [
    "hehe = line_processing(development, 'dv').head(30)\n",
    "for index, d in enumerate(hehe['day']):\n",
    "            if(d <13): \n",
    "                hehe.loc[index,'day'],hehe.loc[index,'month']=hehe.loc[index,'month'],hehe.loc[index,'day'] "
   ]
  },
  {
   "cell_type": "code",
   "execution_count": 522,
   "metadata": {},
   "outputs": [],
   "source": [
    "def hehehe(data):\n",
    "    data['day'] = data['day'].astype(str)\n",
    "    data['month'] = data['month'].astype(str)\n",
    "    data['year'] = data['year'].astype(str)\n",
    "    data['date']=  pd.to_datetime(data[['year', 'month', 'day']])\n",
    "    data['date'] = data['date'].astype(str)\n",
    "    data['tmp'] =pd.to_datetime(data['date']+ ' ')\n",
    "    return data\n",
    "hehe =hehehe(hehe)"
   ]
  },
  {
   "cell_type": "code",
   "execution_count": 523,
   "metadata": {},
   "outputs": [
    {
     "data": {
      "text/html": [
       "<div>\n",
       "<style scoped>\n",
       "    .dataframe tbody tr th:only-of-type {\n",
       "        vertical-align: middle;\n",
       "    }\n",
       "\n",
       "    .dataframe tbody tr th {\n",
       "        vertical-align: top;\n",
       "    }\n",
       "\n",
       "    .dataframe thead th {\n",
       "        text-align: right;\n",
       "    }\n",
       "</style>\n",
       "<table border=\"1\" class=\"dataframe\">\n",
       "  <thead>\n",
       "    <tr style=\"text-align: right;\">\n",
       "      <th></th>\n",
       "      <th>Custom field (Story Points)</th>\n",
       "      <th>year</th>\n",
       "      <th>Issue</th>\n",
       "      <th>month</th>\n",
       "      <th>Resolved</th>\n",
       "      <th>day</th>\n",
       "      <th>date</th>\n",
       "      <th>tmp</th>\n",
       "    </tr>\n",
       "  </thead>\n",
       "  <tbody>\n",
       "    <tr>\n",
       "      <th>0</th>\n",
       "      <td>1.0</td>\n",
       "      <td>2021</td>\n",
       "      <td>dv</td>\n",
       "      <td>4</td>\n",
       "      <td>2021-04-14</td>\n",
       "      <td>14</td>\n",
       "      <td>2021-04-14</td>\n",
       "      <td>2021-04-14</td>\n",
       "    </tr>\n",
       "    <tr>\n",
       "      <th>1</th>\n",
       "      <td>5.0</td>\n",
       "      <td>2021</td>\n",
       "      <td>dv</td>\n",
       "      <td>4</td>\n",
       "      <td>2021-04-14</td>\n",
       "      <td>14</td>\n",
       "      <td>2021-04-14</td>\n",
       "      <td>2021-04-14</td>\n",
       "    </tr>\n",
       "    <tr>\n",
       "      <th>2</th>\n",
       "      <td>2.0</td>\n",
       "      <td>2021</td>\n",
       "      <td>dv</td>\n",
       "      <td>4</td>\n",
       "      <td>2021-04-14</td>\n",
       "      <td>14</td>\n",
       "      <td>2021-04-14</td>\n",
       "      <td>2021-04-14</td>\n",
       "    </tr>\n",
       "    <tr>\n",
       "      <th>3</th>\n",
       "      <td>8.0</td>\n",
       "      <td>2021</td>\n",
       "      <td>dv</td>\n",
       "      <td>3</td>\n",
       "      <td>2021-03-31</td>\n",
       "      <td>31</td>\n",
       "      <td>2021-03-31</td>\n",
       "      <td>2021-03-31</td>\n",
       "    </tr>\n",
       "    <tr>\n",
       "      <th>4</th>\n",
       "      <td>2.0</td>\n",
       "      <td>2021</td>\n",
       "      <td>dv</td>\n",
       "      <td>3</td>\n",
       "      <td>2021-03-31</td>\n",
       "      <td>31</td>\n",
       "      <td>2021-03-31</td>\n",
       "      <td>2021-03-31</td>\n",
       "    </tr>\n",
       "    <tr>\n",
       "      <th>5</th>\n",
       "      <td>2.0</td>\n",
       "      <td>2021</td>\n",
       "      <td>dv</td>\n",
       "      <td>3</td>\n",
       "      <td>2021-03-31</td>\n",
       "      <td>31</td>\n",
       "      <td>2021-03-31</td>\n",
       "      <td>2021-03-31</td>\n",
       "    </tr>\n",
       "    <tr>\n",
       "      <th>6</th>\n",
       "      <td>2.0</td>\n",
       "      <td>2021</td>\n",
       "      <td>dv</td>\n",
       "      <td>4</td>\n",
       "      <td>2021-01-04</td>\n",
       "      <td>1</td>\n",
       "      <td>2021-04-01</td>\n",
       "      <td>2021-04-01</td>\n",
       "    </tr>\n",
       "    <tr>\n",
       "      <th>7</th>\n",
       "      <td>8.0</td>\n",
       "      <td>2021</td>\n",
       "      <td>dv</td>\n",
       "      <td>3</td>\n",
       "      <td>2021-03-29</td>\n",
       "      <td>29</td>\n",
       "      <td>2021-03-29</td>\n",
       "      <td>2021-03-29</td>\n",
       "    </tr>\n",
       "    <tr>\n",
       "      <th>8</th>\n",
       "      <td>8.0</td>\n",
       "      <td>2021</td>\n",
       "      <td>dv</td>\n",
       "      <td>3</td>\n",
       "      <td>2021-03-17</td>\n",
       "      <td>17</td>\n",
       "      <td>2021-03-17</td>\n",
       "      <td>2021-03-17</td>\n",
       "    </tr>\n",
       "    <tr>\n",
       "      <th>9</th>\n",
       "      <td>5.0</td>\n",
       "      <td>2021</td>\n",
       "      <td>dv</td>\n",
       "      <td>3</td>\n",
       "      <td>2021-03-24</td>\n",
       "      <td>24</td>\n",
       "      <td>2021-03-24</td>\n",
       "      <td>2021-03-24</td>\n",
       "    </tr>\n",
       "    <tr>\n",
       "      <th>10</th>\n",
       "      <td>5.0</td>\n",
       "      <td>2021</td>\n",
       "      <td>dv</td>\n",
       "      <td>3</td>\n",
       "      <td>2021-03-22</td>\n",
       "      <td>22</td>\n",
       "      <td>2021-03-22</td>\n",
       "      <td>2021-03-22</td>\n",
       "    </tr>\n",
       "    <tr>\n",
       "      <th>11</th>\n",
       "      <td>1.0</td>\n",
       "      <td>2021</td>\n",
       "      <td>dv</td>\n",
       "      <td>3</td>\n",
       "      <td>2021-03-17</td>\n",
       "      <td>17</td>\n",
       "      <td>2021-03-17</td>\n",
       "      <td>2021-03-17</td>\n",
       "    </tr>\n",
       "    <tr>\n",
       "      <th>12</th>\n",
       "      <td>1.0</td>\n",
       "      <td>2021</td>\n",
       "      <td>dv</td>\n",
       "      <td>3</td>\n",
       "      <td>2021-03-29</td>\n",
       "      <td>29</td>\n",
       "      <td>2021-03-29</td>\n",
       "      <td>2021-03-29</td>\n",
       "    </tr>\n",
       "    <tr>\n",
       "      <th>13</th>\n",
       "      <td>10.0</td>\n",
       "      <td>2021</td>\n",
       "      <td>dv</td>\n",
       "      <td>3</td>\n",
       "      <td>2021-03-17</td>\n",
       "      <td>17</td>\n",
       "      <td>2021-03-17</td>\n",
       "      <td>2021-03-17</td>\n",
       "    </tr>\n",
       "    <tr>\n",
       "      <th>14</th>\n",
       "      <td>13.0</td>\n",
       "      <td>2021</td>\n",
       "      <td>dv</td>\n",
       "      <td>3</td>\n",
       "      <td>2021-03-03</td>\n",
       "      <td>3</td>\n",
       "      <td>2021-03-03</td>\n",
       "      <td>2021-03-03</td>\n",
       "    </tr>\n",
       "    <tr>\n",
       "      <th>15</th>\n",
       "      <td>8.0</td>\n",
       "      <td>2021</td>\n",
       "      <td>dv</td>\n",
       "      <td>3</td>\n",
       "      <td>2021-03-17</td>\n",
       "      <td>17</td>\n",
       "      <td>2021-03-17</td>\n",
       "      <td>2021-03-17</td>\n",
       "    </tr>\n",
       "    <tr>\n",
       "      <th>16</th>\n",
       "      <td>1.0</td>\n",
       "      <td>2021</td>\n",
       "      <td>dv</td>\n",
       "      <td>3</td>\n",
       "      <td>2021-03-03</td>\n",
       "      <td>3</td>\n",
       "      <td>2021-03-03</td>\n",
       "      <td>2021-03-03</td>\n",
       "    </tr>\n",
       "    <tr>\n",
       "      <th>17</th>\n",
       "      <td>2.0</td>\n",
       "      <td>2021</td>\n",
       "      <td>dv</td>\n",
       "      <td>3</td>\n",
       "      <td>2021-10-03</td>\n",
       "      <td>10</td>\n",
       "      <td>2021-03-10</td>\n",
       "      <td>2021-03-10</td>\n",
       "    </tr>\n",
       "    <tr>\n",
       "      <th>18</th>\n",
       "      <td>3.0</td>\n",
       "      <td>2021</td>\n",
       "      <td>dv</td>\n",
       "      <td>3</td>\n",
       "      <td>2021-03-03</td>\n",
       "      <td>3</td>\n",
       "      <td>2021-03-03</td>\n",
       "      <td>2021-03-03</td>\n",
       "    </tr>\n",
       "    <tr>\n",
       "      <th>19</th>\n",
       "      <td>3.0</td>\n",
       "      <td>2021</td>\n",
       "      <td>dv</td>\n",
       "      <td>2</td>\n",
       "      <td>2021-02-24</td>\n",
       "      <td>24</td>\n",
       "      <td>2021-02-24</td>\n",
       "      <td>2021-02-24</td>\n",
       "    </tr>\n",
       "    <tr>\n",
       "      <th>20</th>\n",
       "      <td>1.0</td>\n",
       "      <td>2021</td>\n",
       "      <td>dv</td>\n",
       "      <td>4</td>\n",
       "      <td>2021-04-13</td>\n",
       "      <td>13</td>\n",
       "      <td>2021-04-13</td>\n",
       "      <td>2021-04-13</td>\n",
       "    </tr>\n",
       "    <tr>\n",
       "      <th>21</th>\n",
       "      <td>8.0</td>\n",
       "      <td>2021</td>\n",
       "      <td>dv</td>\n",
       "      <td>3</td>\n",
       "      <td>2021-09-03</td>\n",
       "      <td>9</td>\n",
       "      <td>2021-03-09</td>\n",
       "      <td>2021-03-09</td>\n",
       "    </tr>\n",
       "    <tr>\n",
       "      <th>22</th>\n",
       "      <td>8.0</td>\n",
       "      <td>2021</td>\n",
       "      <td>dv</td>\n",
       "      <td>3</td>\n",
       "      <td>2021-01-03</td>\n",
       "      <td>1</td>\n",
       "      <td>2021-03-01</td>\n",
       "      <td>2021-03-01</td>\n",
       "    </tr>\n",
       "    <tr>\n",
       "      <th>23</th>\n",
       "      <td>1.0</td>\n",
       "      <td>2021</td>\n",
       "      <td>dv</td>\n",
       "      <td>2</td>\n",
       "      <td>2021-02-17</td>\n",
       "      <td>17</td>\n",
       "      <td>2021-02-17</td>\n",
       "      <td>2021-02-17</td>\n",
       "    </tr>\n",
       "    <tr>\n",
       "      <th>24</th>\n",
       "      <td>2.0</td>\n",
       "      <td>2021</td>\n",
       "      <td>dv</td>\n",
       "      <td>2</td>\n",
       "      <td>2021-02-02</td>\n",
       "      <td>2</td>\n",
       "      <td>2021-02-02</td>\n",
       "      <td>2021-02-02</td>\n",
       "    </tr>\n",
       "    <tr>\n",
       "      <th>25</th>\n",
       "      <td>2.0</td>\n",
       "      <td>2021</td>\n",
       "      <td>dv</td>\n",
       "      <td>2</td>\n",
       "      <td>2021-01-02</td>\n",
       "      <td>1</td>\n",
       "      <td>2021-02-01</td>\n",
       "      <td>2021-02-01</td>\n",
       "    </tr>\n",
       "    <tr>\n",
       "      <th>26</th>\n",
       "      <td>1.0</td>\n",
       "      <td>2021</td>\n",
       "      <td>dv</td>\n",
       "      <td>1</td>\n",
       "      <td>2021-01-20</td>\n",
       "      <td>20</td>\n",
       "      <td>2021-01-20</td>\n",
       "      <td>2021-01-20</td>\n",
       "    </tr>\n",
       "    <tr>\n",
       "      <th>27</th>\n",
       "      <td>2.0</td>\n",
       "      <td>2021</td>\n",
       "      <td>dv</td>\n",
       "      <td>1</td>\n",
       "      <td>2021-12-01</td>\n",
       "      <td>12</td>\n",
       "      <td>2021-01-12</td>\n",
       "      <td>2021-01-12</td>\n",
       "    </tr>\n",
       "    <tr>\n",
       "      <th>28</th>\n",
       "      <td>3.0</td>\n",
       "      <td>2021</td>\n",
       "      <td>dv</td>\n",
       "      <td>1</td>\n",
       "      <td>2021-01-19</td>\n",
       "      <td>19</td>\n",
       "      <td>2021-01-19</td>\n",
       "      <td>2021-01-19</td>\n",
       "    </tr>\n",
       "    <tr>\n",
       "      <th>29</th>\n",
       "      <td>2.0</td>\n",
       "      <td>2021</td>\n",
       "      <td>dv</td>\n",
       "      <td>1</td>\n",
       "      <td>2021-01-14</td>\n",
       "      <td>14</td>\n",
       "      <td>2021-01-14</td>\n",
       "      <td>2021-01-14</td>\n",
       "    </tr>\n",
       "  </tbody>\n",
       "</table>\n",
       "</div>"
      ],
      "text/plain": [
       "    Custom field (Story Points)  year Issue month    Resolved day        date  \\\n",
       "0                           1.0  2021    dv     4  2021-04-14  14  2021-04-14   \n",
       "1                           5.0  2021    dv     4  2021-04-14  14  2021-04-14   \n",
       "2                           2.0  2021    dv     4  2021-04-14  14  2021-04-14   \n",
       "3                           8.0  2021    dv     3  2021-03-31  31  2021-03-31   \n",
       "4                           2.0  2021    dv     3  2021-03-31  31  2021-03-31   \n",
       "5                           2.0  2021    dv     3  2021-03-31  31  2021-03-31   \n",
       "6                           2.0  2021    dv     4  2021-01-04   1  2021-04-01   \n",
       "7                           8.0  2021    dv     3  2021-03-29  29  2021-03-29   \n",
       "8                           8.0  2021    dv     3  2021-03-17  17  2021-03-17   \n",
       "9                           5.0  2021    dv     3  2021-03-24  24  2021-03-24   \n",
       "10                          5.0  2021    dv     3  2021-03-22  22  2021-03-22   \n",
       "11                          1.0  2021    dv     3  2021-03-17  17  2021-03-17   \n",
       "12                          1.0  2021    dv     3  2021-03-29  29  2021-03-29   \n",
       "13                         10.0  2021    dv     3  2021-03-17  17  2021-03-17   \n",
       "14                         13.0  2021    dv     3  2021-03-03   3  2021-03-03   \n",
       "15                          8.0  2021    dv     3  2021-03-17  17  2021-03-17   \n",
       "16                          1.0  2021    dv     3  2021-03-03   3  2021-03-03   \n",
       "17                          2.0  2021    dv     3  2021-10-03  10  2021-03-10   \n",
       "18                          3.0  2021    dv     3  2021-03-03   3  2021-03-03   \n",
       "19                          3.0  2021    dv     2  2021-02-24  24  2021-02-24   \n",
       "20                          1.0  2021    dv     4  2021-04-13  13  2021-04-13   \n",
       "21                          8.0  2021    dv     3  2021-09-03   9  2021-03-09   \n",
       "22                          8.0  2021    dv     3  2021-01-03   1  2021-03-01   \n",
       "23                          1.0  2021    dv     2  2021-02-17  17  2021-02-17   \n",
       "24                          2.0  2021    dv     2  2021-02-02   2  2021-02-02   \n",
       "25                          2.0  2021    dv     2  2021-01-02   1  2021-02-01   \n",
       "26                          1.0  2021    dv     1  2021-01-20  20  2021-01-20   \n",
       "27                          2.0  2021    dv     1  2021-12-01  12  2021-01-12   \n",
       "28                          3.0  2021    dv     1  2021-01-19  19  2021-01-19   \n",
       "29                          2.0  2021    dv     1  2021-01-14  14  2021-01-14   \n",
       "\n",
       "          tmp  \n",
       "0  2021-04-14  \n",
       "1  2021-04-14  \n",
       "2  2021-04-14  \n",
       "3  2021-03-31  \n",
       "4  2021-03-31  \n",
       "5  2021-03-31  \n",
       "6  2021-04-01  \n",
       "7  2021-03-29  \n",
       "8  2021-03-17  \n",
       "9  2021-03-24  \n",
       "10 2021-03-22  \n",
       "11 2021-03-17  \n",
       "12 2021-03-29  \n",
       "13 2021-03-17  \n",
       "14 2021-03-03  \n",
       "15 2021-03-17  \n",
       "16 2021-03-03  \n",
       "17 2021-03-10  \n",
       "18 2021-03-03  \n",
       "19 2021-02-24  \n",
       "20 2021-04-13  \n",
       "21 2021-03-09  \n",
       "22 2021-03-01  \n",
       "23 2021-02-17  \n",
       "24 2021-02-02  \n",
       "25 2021-02-01  \n",
       "26 2021-01-20  \n",
       "27 2021-01-12  \n",
       "28 2021-01-19  \n",
       "29 2021-01-14  "
      ]
     },
     "execution_count": 523,
     "metadata": {},
     "output_type": "execute_result"
    }
   ],
   "source": [
    "hehe\n",
    "# hehe[\"Issue\"] = hehe[\"month\"]\n",
    "# hehe[\"Issue\"] = np.where(hehe[\"Issue\"],\"Development\",hehe[\"Issue\"])\n"
   ]
  },
  {
   "cell_type": "code",
   "execution_count": 454,
   "metadata": {},
   "outputs": [],
   "source": [
    "development = pd.read_csv('/home/oh856/APP-FLASK/Flask-app-dash/datasets/Development.csv')"
   ]
  },
  {
   "cell_type": "code",
   "execution_count": 460,
   "metadata": {},
   "outputs": [],
   "source": [
    "def line_processing(data,ame):\n",
    "    data['tmp'] = pd.to_datetime(data['Resolved'], unit='ns',errors='coerce',utc=True)\n",
    "    data['tmp'] = data['tmp'].apply(lambda x: x.replace(microsecond=0))\n",
    "    data['date'] = [d.date() for d in data['tmp']]\n",
    "    data['time'] = [d.time() for d in data['tmp']]\n",
    "    data[['year','month','day']] = data['date'].apply(lambda x: pd.Series(x.strftime(\"%Y-%m-%d\").split(\"-\"), utc= True))\n",
    "\n",
    "    data['day'] = pd.to_numeric(data['day'], errors='coerce')\n",
    "    data['month'] = pd.to_numeric(data['month'], errors='coerce')\n",
    "    data['year'] = pd.to_numeric(data['year'], errors='coerce')\n",
    "    data[\"Custom field (Story Points)\"] = data[\"Custom field (Story Points)\"].fillna(0)\n",
    "    data['Custom field (Story Points)'] = np.where(data['Custom field (Story Points)'].between(0.0,1.0), 1, data['Custom field (Story Points)'])\n",
    "    data['Issue'] = np.where(data['Resolution'],ame, data['Resolution'])\n",
    "    df_new =  pd.DataFrame(data[[\"Custom field (Story Points)\",\"year\",\"Issue\",\"month\",\"Resolved\",'tmp','day','time']])\n",
    "    return df_new"
   ]
  },
  {
   "cell_type": "code",
   "execution_count": 461,
   "metadata": {},
   "outputs": [
    {
     "ename": "ValueError",
     "evalue": "Tz-aware datetime.datetime cannot be converted to datetime64 unless utc=True",
     "output_type": "error",
     "traceback": [
      "\u001b[0;31m---------------------------------------------------------------------------\u001b[0m",
      "\u001b[0;31mValueError\u001b[0m                                Traceback (most recent call last)",
      "\u001b[0;32m~/anaconda3/lib/python3.7/site-packages/pandas/core/arrays/datetimes.py\u001b[0m in \u001b[0;36mobjects_to_datetime64ns\u001b[0;34m(data, dayfirst, yearfirst, utc, errors, require_iso8601, allow_object)\u001b[0m\n\u001b[1;32m   1855\u001b[0m         \u001b[0;32mtry\u001b[0m\u001b[0;34m:\u001b[0m\u001b[0;34m\u001b[0m\u001b[0;34m\u001b[0m\u001b[0m\n\u001b[0;32m-> 1856\u001b[0;31m             \u001b[0mvalues\u001b[0m\u001b[0;34m,\u001b[0m \u001b[0mtz_parsed\u001b[0m \u001b[0;34m=\u001b[0m \u001b[0mconversion\u001b[0m\u001b[0;34m.\u001b[0m\u001b[0mdatetime_to_datetime64\u001b[0m\u001b[0;34m(\u001b[0m\u001b[0mdata\u001b[0m\u001b[0;34m)\u001b[0m\u001b[0;34m\u001b[0m\u001b[0;34m\u001b[0m\u001b[0m\n\u001b[0m\u001b[1;32m   1857\u001b[0m             \u001b[0;31m# If tzaware, these values represent unix timestamps, so we\u001b[0m\u001b[0;34m\u001b[0m\u001b[0;34m\u001b[0m\u001b[0;34m\u001b[0m\u001b[0m\n",
      "\u001b[0;32mpandas/_libs/tslibs/conversion.pyx\u001b[0m in \u001b[0;36mpandas._libs.tslibs.conversion.datetime_to_datetime64\u001b[0;34m()\u001b[0m\n",
      "\u001b[0;31mValueError\u001b[0m: Array must be all same time zone",
      "\nDuring handling of the above exception, another exception occurred:\n",
      "\u001b[0;31mValueError\u001b[0m                                Traceback (most recent call last)",
      "\u001b[0;32m<ipython-input-461-c3023a43732e>\u001b[0m in \u001b[0;36m<module>\u001b[0;34m\u001b[0m\n\u001b[0;32m----> 1\u001b[0;31m \u001b[0mdata\u001b[0m \u001b[0;34m=\u001b[0m\u001b[0mline_processing\u001b[0m\u001b[0;34m(\u001b[0m\u001b[0mdevelopment\u001b[0m\u001b[0;34m,\u001b[0m \u001b[0;34m'dev'\u001b[0m\u001b[0;34m)\u001b[0m\u001b[0;34m\u001b[0m\u001b[0;34m\u001b[0m\u001b[0m\n\u001b[0m\u001b[1;32m      2\u001b[0m \u001b[0mdata\u001b[0m\u001b[0;34m\u001b[0m\u001b[0;34m\u001b[0m\u001b[0m\n",
      "\u001b[0;32m<ipython-input-460-a5596c636681>\u001b[0m in \u001b[0;36mline_processing\u001b[0;34m(data, ame)\u001b[0m\n\u001b[1;32m      1\u001b[0m \u001b[0;32mdef\u001b[0m \u001b[0mline_processing\u001b[0m\u001b[0;34m(\u001b[0m\u001b[0mdata\u001b[0m\u001b[0;34m,\u001b[0m\u001b[0mame\u001b[0m\u001b[0;34m)\u001b[0m\u001b[0;34m:\u001b[0m\u001b[0;34m\u001b[0m\u001b[0;34m\u001b[0m\u001b[0m\n\u001b[0;32m----> 2\u001b[0;31m     \u001b[0mdata\u001b[0m\u001b[0;34m[\u001b[0m\u001b[0;34m'tmp'\u001b[0m\u001b[0;34m]\u001b[0m \u001b[0;34m=\u001b[0m \u001b[0mpd\u001b[0m\u001b[0;34m.\u001b[0m\u001b[0mto_datetime\u001b[0m\u001b[0;34m(\u001b[0m\u001b[0mdata\u001b[0m\u001b[0;34m[\u001b[0m\u001b[0;34m'Resolved'\u001b[0m\u001b[0;34m]\u001b[0m\u001b[0;34m,\u001b[0m \u001b[0munit\u001b[0m\u001b[0;34m=\u001b[0m\u001b[0;34m'ns'\u001b[0m\u001b[0;34m,\u001b[0m\u001b[0merrors\u001b[0m\u001b[0;34m=\u001b[0m\u001b[0;34m'coerce'\u001b[0m\u001b[0;34m,\u001b[0m\u001b[0mutc\u001b[0m\u001b[0;34m=\u001b[0m\u001b[0;32mTrue\u001b[0m\u001b[0;34m)\u001b[0m\u001b[0;34m\u001b[0m\u001b[0;34m\u001b[0m\u001b[0m\n\u001b[0m\u001b[1;32m      3\u001b[0m     \u001b[0mdata\u001b[0m\u001b[0;34m[\u001b[0m\u001b[0;34m'tmp'\u001b[0m\u001b[0;34m]\u001b[0m \u001b[0;34m=\u001b[0m \u001b[0mdata\u001b[0m\u001b[0;34m[\u001b[0m\u001b[0;34m'tmp'\u001b[0m\u001b[0;34m]\u001b[0m\u001b[0;34m.\u001b[0m\u001b[0mapply\u001b[0m\u001b[0;34m(\u001b[0m\u001b[0;32mlambda\u001b[0m \u001b[0mx\u001b[0m\u001b[0;34m:\u001b[0m \u001b[0mx\u001b[0m\u001b[0;34m.\u001b[0m\u001b[0mreplace\u001b[0m\u001b[0;34m(\u001b[0m\u001b[0mmicrosecond\u001b[0m\u001b[0;34m=\u001b[0m\u001b[0;36m0\u001b[0m\u001b[0;34m)\u001b[0m\u001b[0;34m)\u001b[0m\u001b[0;34m\u001b[0m\u001b[0;34m\u001b[0m\u001b[0m\n\u001b[1;32m      4\u001b[0m     \u001b[0mdata\u001b[0m\u001b[0;34m[\u001b[0m\u001b[0;34m'date'\u001b[0m\u001b[0;34m]\u001b[0m \u001b[0;34m=\u001b[0m \u001b[0;34m[\u001b[0m\u001b[0md\u001b[0m\u001b[0;34m.\u001b[0m\u001b[0mdate\u001b[0m\u001b[0;34m(\u001b[0m\u001b[0;34m)\u001b[0m \u001b[0;32mfor\u001b[0m \u001b[0md\u001b[0m \u001b[0;32min\u001b[0m \u001b[0mdata\u001b[0m\u001b[0;34m[\u001b[0m\u001b[0;34m'tmp'\u001b[0m\u001b[0;34m]\u001b[0m\u001b[0;34m]\u001b[0m\u001b[0;34m\u001b[0m\u001b[0;34m\u001b[0m\u001b[0m\n\u001b[1;32m      5\u001b[0m     \u001b[0mdata\u001b[0m\u001b[0;34m[\u001b[0m\u001b[0;34m'time'\u001b[0m\u001b[0;34m]\u001b[0m \u001b[0;34m=\u001b[0m \u001b[0;34m[\u001b[0m\u001b[0md\u001b[0m\u001b[0;34m.\u001b[0m\u001b[0mtime\u001b[0m\u001b[0;34m(\u001b[0m\u001b[0;34m)\u001b[0m \u001b[0;32mfor\u001b[0m \u001b[0md\u001b[0m \u001b[0;32min\u001b[0m \u001b[0mdata\u001b[0m\u001b[0;34m[\u001b[0m\u001b[0;34m'tmp'\u001b[0m\u001b[0;34m]\u001b[0m\u001b[0;34m]\u001b[0m\u001b[0;34m\u001b[0m\u001b[0;34m\u001b[0m\u001b[0m\n",
      "\u001b[0;32m~/anaconda3/lib/python3.7/site-packages/pandas/core/tools/datetimes.py\u001b[0m in \u001b[0;36mto_datetime\u001b[0;34m(arg, errors, dayfirst, yearfirst, utc, format, exact, unit, infer_datetime_format, origin, cache)\u001b[0m\n\u001b[1;32m    726\u001b[0m             \u001b[0mresult\u001b[0m \u001b[0;34m=\u001b[0m \u001b[0marg\u001b[0m\u001b[0;34m.\u001b[0m\u001b[0mmap\u001b[0m\u001b[0;34m(\u001b[0m\u001b[0mcache_array\u001b[0m\u001b[0;34m)\u001b[0m\u001b[0;34m\u001b[0m\u001b[0;34m\u001b[0m\u001b[0m\n\u001b[1;32m    727\u001b[0m         \u001b[0;32melse\u001b[0m\u001b[0;34m:\u001b[0m\u001b[0;34m\u001b[0m\u001b[0;34m\u001b[0m\u001b[0m\n\u001b[0;32m--> 728\u001b[0;31m             \u001b[0mvalues\u001b[0m \u001b[0;34m=\u001b[0m \u001b[0mconvert_listlike\u001b[0m\u001b[0;34m(\u001b[0m\u001b[0marg\u001b[0m\u001b[0;34m.\u001b[0m\u001b[0m_values\u001b[0m\u001b[0;34m,\u001b[0m \u001b[0mformat\u001b[0m\u001b[0;34m)\u001b[0m\u001b[0;34m\u001b[0m\u001b[0;34m\u001b[0m\u001b[0m\n\u001b[0m\u001b[1;32m    729\u001b[0m             \u001b[0mresult\u001b[0m \u001b[0;34m=\u001b[0m \u001b[0marg\u001b[0m\u001b[0;34m.\u001b[0m\u001b[0m_constructor\u001b[0m\u001b[0;34m(\u001b[0m\u001b[0mvalues\u001b[0m\u001b[0;34m,\u001b[0m \u001b[0mindex\u001b[0m\u001b[0;34m=\u001b[0m\u001b[0marg\u001b[0m\u001b[0;34m.\u001b[0m\u001b[0mindex\u001b[0m\u001b[0;34m,\u001b[0m \u001b[0mname\u001b[0m\u001b[0;34m=\u001b[0m\u001b[0marg\u001b[0m\u001b[0;34m.\u001b[0m\u001b[0mname\u001b[0m\u001b[0;34m)\u001b[0m\u001b[0;34m\u001b[0m\u001b[0;34m\u001b[0m\u001b[0m\n\u001b[1;32m    730\u001b[0m     \u001b[0;32melif\u001b[0m \u001b[0misinstance\u001b[0m\u001b[0;34m(\u001b[0m\u001b[0marg\u001b[0m\u001b[0;34m,\u001b[0m \u001b[0;34m(\u001b[0m\u001b[0mABCDataFrame\u001b[0m\u001b[0;34m,\u001b[0m \u001b[0mabc\u001b[0m\u001b[0;34m.\u001b[0m\u001b[0mMutableMapping\u001b[0m\u001b[0;34m)\u001b[0m\u001b[0;34m)\u001b[0m\u001b[0;34m:\u001b[0m\u001b[0;34m\u001b[0m\u001b[0;34m\u001b[0m\u001b[0m\n",
      "\u001b[0;32m~/anaconda3/lib/python3.7/site-packages/pandas/core/tools/datetimes.py\u001b[0m in \u001b[0;36m_convert_listlike_datetimes\u001b[0;34m(arg, format, name, tz, unit, errors, infer_datetime_format, dayfirst, yearfirst, exact)\u001b[0m\n\u001b[1;32m    338\u001b[0m             \u001b[0mresult\u001b[0m \u001b[0;34m=\u001b[0m \u001b[0mIndex\u001b[0m\u001b[0;34m(\u001b[0m\u001b[0mresult\u001b[0m\u001b[0;34m,\u001b[0m \u001b[0mname\u001b[0m\u001b[0;34m=\u001b[0m\u001b[0mname\u001b[0m\u001b[0;34m)\u001b[0m\u001b[0;34m\u001b[0m\u001b[0;34m\u001b[0m\u001b[0m\n\u001b[1;32m    339\u001b[0m         \u001b[0;32melse\u001b[0m\u001b[0;34m:\u001b[0m\u001b[0;34m\u001b[0m\u001b[0;34m\u001b[0m\u001b[0m\n\u001b[0;32m--> 340\u001b[0;31m             \u001b[0mresult\u001b[0m \u001b[0;34m=\u001b[0m \u001b[0mDatetimeIndex\u001b[0m\u001b[0;34m(\u001b[0m\u001b[0mresult\u001b[0m\u001b[0;34m,\u001b[0m \u001b[0mname\u001b[0m\u001b[0;34m=\u001b[0m\u001b[0mname\u001b[0m\u001b[0;34m)\u001b[0m\u001b[0;34m\u001b[0m\u001b[0;34m\u001b[0m\u001b[0m\n\u001b[0m\u001b[1;32m    341\u001b[0m         \u001b[0;31m# GH 23758: We may still need to localize the result with tz\u001b[0m\u001b[0;34m\u001b[0m\u001b[0;34m\u001b[0m\u001b[0;34m\u001b[0m\u001b[0m\n\u001b[1;32m    342\u001b[0m         \u001b[0;31m# GH 25546: Apply tz_parsed first (from arg), then tz (from caller)\u001b[0m\u001b[0;34m\u001b[0m\u001b[0;34m\u001b[0m\u001b[0;34m\u001b[0m\u001b[0m\n",
      "\u001b[0;32m~/anaconda3/lib/python3.7/site-packages/pandas/core/indexes/datetimes.py\u001b[0m in \u001b[0;36m__new__\u001b[0;34m(cls, data, freq, tz, normalize, closed, ambiguous, dayfirst, yearfirst, dtype, copy, name)\u001b[0m\n\u001b[1;32m    251\u001b[0m             \u001b[0mdayfirst\u001b[0m\u001b[0;34m=\u001b[0m\u001b[0mdayfirst\u001b[0m\u001b[0;34m,\u001b[0m\u001b[0;34m\u001b[0m\u001b[0;34m\u001b[0m\u001b[0m\n\u001b[1;32m    252\u001b[0m             \u001b[0myearfirst\u001b[0m\u001b[0;34m=\u001b[0m\u001b[0myearfirst\u001b[0m\u001b[0;34m,\u001b[0m\u001b[0;34m\u001b[0m\u001b[0;34m\u001b[0m\u001b[0m\n\u001b[0;32m--> 253\u001b[0;31m             \u001b[0mambiguous\u001b[0m\u001b[0;34m=\u001b[0m\u001b[0mambiguous\u001b[0m\u001b[0;34m,\u001b[0m\u001b[0;34m\u001b[0m\u001b[0;34m\u001b[0m\u001b[0m\n\u001b[0m\u001b[1;32m    254\u001b[0m         )\n\u001b[1;32m    255\u001b[0m \u001b[0;34m\u001b[0m\u001b[0m\n",
      "\u001b[0;32m~/anaconda3/lib/python3.7/site-packages/pandas/core/arrays/datetimes.py\u001b[0m in \u001b[0;36m_from_sequence\u001b[0;34m(cls, data, dtype, copy, tz, freq, dayfirst, yearfirst, ambiguous)\u001b[0m\n\u001b[1;32m    318\u001b[0m             \u001b[0mdayfirst\u001b[0m\u001b[0;34m=\u001b[0m\u001b[0mdayfirst\u001b[0m\u001b[0;34m,\u001b[0m\u001b[0;34m\u001b[0m\u001b[0;34m\u001b[0m\u001b[0m\n\u001b[1;32m    319\u001b[0m             \u001b[0myearfirst\u001b[0m\u001b[0;34m=\u001b[0m\u001b[0myearfirst\u001b[0m\u001b[0;34m,\u001b[0m\u001b[0;34m\u001b[0m\u001b[0;34m\u001b[0m\u001b[0m\n\u001b[0;32m--> 320\u001b[0;31m             \u001b[0mambiguous\u001b[0m\u001b[0;34m=\u001b[0m\u001b[0mambiguous\u001b[0m\u001b[0;34m,\u001b[0m\u001b[0;34m\u001b[0m\u001b[0;34m\u001b[0m\u001b[0m\n\u001b[0m\u001b[1;32m    321\u001b[0m         )\n\u001b[1;32m    322\u001b[0m \u001b[0;34m\u001b[0m\u001b[0m\n",
      "\u001b[0;32m~/anaconda3/lib/python3.7/site-packages/pandas/core/arrays/datetimes.py\u001b[0m in \u001b[0;36msequence_to_dt64ns\u001b[0;34m(data, dtype, copy, tz, dayfirst, yearfirst, ambiguous)\u001b[0m\n\u001b[1;32m   1751\u001b[0m             \u001b[0;31m#  or M8[ns] to denote wall times\u001b[0m\u001b[0;34m\u001b[0m\u001b[0;34m\u001b[0m\u001b[0;34m\u001b[0m\u001b[0m\n\u001b[1;32m   1752\u001b[0m             data, inferred_tz = objects_to_datetime64ns(\n\u001b[0;32m-> 1753\u001b[0;31m                 \u001b[0mdata\u001b[0m\u001b[0;34m,\u001b[0m \u001b[0mdayfirst\u001b[0m\u001b[0;34m=\u001b[0m\u001b[0mdayfirst\u001b[0m\u001b[0;34m,\u001b[0m \u001b[0myearfirst\u001b[0m\u001b[0;34m=\u001b[0m\u001b[0myearfirst\u001b[0m\u001b[0;34m\u001b[0m\u001b[0;34m\u001b[0m\u001b[0m\n\u001b[0m\u001b[1;32m   1754\u001b[0m             )\n\u001b[1;32m   1755\u001b[0m             \u001b[0mtz\u001b[0m \u001b[0;34m=\u001b[0m \u001b[0mmaybe_infer_tz\u001b[0m\u001b[0;34m(\u001b[0m\u001b[0mtz\u001b[0m\u001b[0;34m,\u001b[0m \u001b[0minferred_tz\u001b[0m\u001b[0;34m)\u001b[0m\u001b[0;34m\u001b[0m\u001b[0;34m\u001b[0m\u001b[0m\n",
      "\u001b[0;32m~/anaconda3/lib/python3.7/site-packages/pandas/core/arrays/datetimes.py\u001b[0m in \u001b[0;36mobjects_to_datetime64ns\u001b[0;34m(data, dayfirst, yearfirst, utc, errors, require_iso8601, allow_object)\u001b[0m\n\u001b[1;32m   1859\u001b[0m             \u001b[0;32mreturn\u001b[0m \u001b[0mvalues\u001b[0m\u001b[0;34m.\u001b[0m\u001b[0mview\u001b[0m\u001b[0;34m(\u001b[0m\u001b[0;34m\"i8\"\u001b[0m\u001b[0;34m)\u001b[0m\u001b[0;34m,\u001b[0m \u001b[0mtz_parsed\u001b[0m\u001b[0;34m\u001b[0m\u001b[0;34m\u001b[0m\u001b[0m\n\u001b[1;32m   1860\u001b[0m         \u001b[0;32mexcept\u001b[0m \u001b[0;34m(\u001b[0m\u001b[0mValueError\u001b[0m\u001b[0;34m,\u001b[0m \u001b[0mTypeError\u001b[0m\u001b[0;34m)\u001b[0m\u001b[0;34m:\u001b[0m\u001b[0;34m\u001b[0m\u001b[0;34m\u001b[0m\u001b[0m\n\u001b[0;32m-> 1861\u001b[0;31m             \u001b[0;32mraise\u001b[0m \u001b[0me\u001b[0m\u001b[0;34m\u001b[0m\u001b[0;34m\u001b[0m\u001b[0m\n\u001b[0m\u001b[1;32m   1862\u001b[0m \u001b[0;34m\u001b[0m\u001b[0m\n\u001b[1;32m   1863\u001b[0m     \u001b[0;32mif\u001b[0m \u001b[0mtz_parsed\u001b[0m \u001b[0;32mis\u001b[0m \u001b[0;32mnot\u001b[0m \u001b[0;32mNone\u001b[0m\u001b[0;34m:\u001b[0m\u001b[0;34m\u001b[0m\u001b[0;34m\u001b[0m\u001b[0m\n",
      "\u001b[0;32m~/anaconda3/lib/python3.7/site-packages/pandas/core/arrays/datetimes.py\u001b[0m in \u001b[0;36mobjects_to_datetime64ns\u001b[0;34m(data, dayfirst, yearfirst, utc, errors, require_iso8601, allow_object)\u001b[0m\n\u001b[1;32m   1850\u001b[0m             \u001b[0mdayfirst\u001b[0m\u001b[0;34m=\u001b[0m\u001b[0mdayfirst\u001b[0m\u001b[0;34m,\u001b[0m\u001b[0;34m\u001b[0m\u001b[0;34m\u001b[0m\u001b[0m\n\u001b[1;32m   1851\u001b[0m             \u001b[0myearfirst\u001b[0m\u001b[0;34m=\u001b[0m\u001b[0myearfirst\u001b[0m\u001b[0;34m,\u001b[0m\u001b[0;34m\u001b[0m\u001b[0;34m\u001b[0m\u001b[0m\n\u001b[0;32m-> 1852\u001b[0;31m             \u001b[0mrequire_iso8601\u001b[0m\u001b[0;34m=\u001b[0m\u001b[0mrequire_iso8601\u001b[0m\u001b[0;34m,\u001b[0m\u001b[0;34m\u001b[0m\u001b[0;34m\u001b[0m\u001b[0m\n\u001b[0m\u001b[1;32m   1853\u001b[0m         )\n\u001b[1;32m   1854\u001b[0m     \u001b[0;32mexcept\u001b[0m \u001b[0mValueError\u001b[0m \u001b[0;32mas\u001b[0m \u001b[0me\u001b[0m\u001b[0;34m:\u001b[0m\u001b[0;34m\u001b[0m\u001b[0;34m\u001b[0m\u001b[0m\n",
      "\u001b[0;32mpandas/_libs/tslib.pyx\u001b[0m in \u001b[0;36mpandas._libs.tslib.array_to_datetime\u001b[0;34m()\u001b[0m\n",
      "\u001b[0;32mpandas/_libs/tslib.pyx\u001b[0m in \u001b[0;36mpandas._libs.tslib.array_to_datetime\u001b[0;34m()\u001b[0m\n",
      "\u001b[0;31mValueError\u001b[0m: Tz-aware datetime.datetime cannot be converted to datetime64 unless utc=True"
     ]
    }
   ],
   "source": [
    "data =line_processing(development, 'dev')\n",
    "data"
   ]
  },
  {
   "cell_type": "code",
   "execution_count": 452,
   "metadata": {},
   "outputs": [],
   "source": [
    "for index, d in enumerate(data['day']):\n",
    "            if(d <13): \n",
    "                data.loc[index,'day'],data.loc[index,'month']=data.loc[index,'month'],data.loc[index,'day'] \n"
   ]
  },
  {
   "cell_type": "code",
   "execution_count": 453,
   "metadata": {},
   "outputs": [
    {
     "data": {
      "text/html": [
       "<div>\n",
       "<style scoped>\n",
       "    .dataframe tbody tr th:only-of-type {\n",
       "        vertical-align: middle;\n",
       "    }\n",
       "\n",
       "    .dataframe tbody tr th {\n",
       "        vertical-align: top;\n",
       "    }\n",
       "\n",
       "    .dataframe thead th {\n",
       "        text-align: right;\n",
       "    }\n",
       "</style>\n",
       "<table border=\"1\" class=\"dataframe\">\n",
       "  <thead>\n",
       "    <tr style=\"text-align: right;\">\n",
       "      <th></th>\n",
       "      <th>Custom field (Story Points)</th>\n",
       "      <th>year</th>\n",
       "      <th>Issue</th>\n",
       "      <th>month</th>\n",
       "      <th>Resolved</th>\n",
       "      <th>tmp</th>\n",
       "      <th>day</th>\n",
       "      <th>time</th>\n",
       "    </tr>\n",
       "  </thead>\n",
       "  <tbody>\n",
       "    <tr>\n",
       "      <th>0</th>\n",
       "      <td>1.0</td>\n",
       "      <td>2021</td>\n",
       "      <td>xbid</td>\n",
       "      <td>4</td>\n",
       "      <td>2021-04-29</td>\n",
       "      <td>2021-04-29</td>\n",
       "      <td>29</td>\n",
       "      <td>00:00:00</td>\n",
       "    </tr>\n",
       "    <tr>\n",
       "      <th>1</th>\n",
       "      <td>1.0</td>\n",
       "      <td>2021</td>\n",
       "      <td>xbid</td>\n",
       "      <td>4</td>\n",
       "      <td>2021-04-20</td>\n",
       "      <td>2021-04-20</td>\n",
       "      <td>20</td>\n",
       "      <td>00:00:00</td>\n",
       "    </tr>\n",
       "    <tr>\n",
       "      <th>2</th>\n",
       "      <td>1.0</td>\n",
       "      <td>2021</td>\n",
       "      <td>xbid</td>\n",
       "      <td>4</td>\n",
       "      <td>2021-04-26</td>\n",
       "      <td>2021-04-26</td>\n",
       "      <td>26</td>\n",
       "      <td>00:00:00</td>\n",
       "    </tr>\n",
       "    <tr>\n",
       "      <th>3</th>\n",
       "      <td>4.0</td>\n",
       "      <td>2021</td>\n",
       "      <td>xbid</td>\n",
       "      <td>4</td>\n",
       "      <td>2021-04-14</td>\n",
       "      <td>2021-04-14</td>\n",
       "      <td>14</td>\n",
       "      <td>00:00:00</td>\n",
       "    </tr>\n",
       "    <tr>\n",
       "      <th>4</th>\n",
       "      <td>1.0</td>\n",
       "      <td>2021</td>\n",
       "      <td>xbid</td>\n",
       "      <td>4</td>\n",
       "      <td>2021-04-16</td>\n",
       "      <td>2021-04-16</td>\n",
       "      <td>16</td>\n",
       "      <td>00:00:00</td>\n",
       "    </tr>\n",
       "    <tr>\n",
       "      <th>...</th>\n",
       "      <td>...</td>\n",
       "      <td>...</td>\n",
       "      <td>...</td>\n",
       "      <td>...</td>\n",
       "      <td>...</td>\n",
       "      <td>...</td>\n",
       "      <td>...</td>\n",
       "      <td>...</td>\n",
       "    </tr>\n",
       "    <tr>\n",
       "      <th>1041</th>\n",
       "      <td>1.0</td>\n",
       "      <td>2021</td>\n",
       "      <td>xbid</td>\n",
       "      <td>3</td>\n",
       "      <td>2021-03-15</td>\n",
       "      <td>2021-03-15</td>\n",
       "      <td>15</td>\n",
       "      <td>00:00:00</td>\n",
       "    </tr>\n",
       "    <tr>\n",
       "      <th>1042</th>\n",
       "      <td>1.0</td>\n",
       "      <td>2021</td>\n",
       "      <td>xbid</td>\n",
       "      <td>3</td>\n",
       "      <td>2021-03-16</td>\n",
       "      <td>2021-03-16</td>\n",
       "      <td>16</td>\n",
       "      <td>00:00:00</td>\n",
       "    </tr>\n",
       "    <tr>\n",
       "      <th>1043</th>\n",
       "      <td>1.0</td>\n",
       "      <td>2021</td>\n",
       "      <td>xbid</td>\n",
       "      <td>3</td>\n",
       "      <td>2021-11-03</td>\n",
       "      <td>2021-11-03</td>\n",
       "      <td>11</td>\n",
       "      <td>00:00:00</td>\n",
       "    </tr>\n",
       "    <tr>\n",
       "      <th>1044</th>\n",
       "      <td>1.0</td>\n",
       "      <td>2021</td>\n",
       "      <td>xbid</td>\n",
       "      <td>3</td>\n",
       "      <td>2021-11-03</td>\n",
       "      <td>2021-11-03</td>\n",
       "      <td>11</td>\n",
       "      <td>00:00:00</td>\n",
       "    </tr>\n",
       "    <tr>\n",
       "      <th>1045</th>\n",
       "      <td>1.0</td>\n",
       "      <td>2021</td>\n",
       "      <td>xbid</td>\n",
       "      <td>3</td>\n",
       "      <td>2021-04-03</td>\n",
       "      <td>2021-04-03</td>\n",
       "      <td>4</td>\n",
       "      <td>00:00:00</td>\n",
       "    </tr>\n",
       "  </tbody>\n",
       "</table>\n",
       "<p>1046 rows × 8 columns</p>\n",
       "</div>"
      ],
      "text/plain": [
       "      Custom field (Story Points)  year Issue  month    Resolved        tmp  \\\n",
       "0                             1.0  2021  xbid      4  2021-04-29 2021-04-29   \n",
       "1                             1.0  2021  xbid      4  2021-04-20 2021-04-20   \n",
       "2                             1.0  2021  xbid      4  2021-04-26 2021-04-26   \n",
       "3                             4.0  2021  xbid      4  2021-04-14 2021-04-14   \n",
       "4                             1.0  2021  xbid      4  2021-04-16 2021-04-16   \n",
       "...                           ...   ...   ...    ...         ...        ...   \n",
       "1041                          1.0  2021  xbid      3  2021-03-15 2021-03-15   \n",
       "1042                          1.0  2021  xbid      3  2021-03-16 2021-03-16   \n",
       "1043                          1.0  2021  xbid      3  2021-11-03 2021-11-03   \n",
       "1044                          1.0  2021  xbid      3  2021-11-03 2021-11-03   \n",
       "1045                          1.0  2021  xbid      3  2021-04-03 2021-04-03   \n",
       "\n",
       "      day      time  \n",
       "0      29  00:00:00  \n",
       "1      20  00:00:00  \n",
       "2      26  00:00:00  \n",
       "3      14  00:00:00  \n",
       "4      16  00:00:00  \n",
       "...   ...       ...  \n",
       "1041   15  00:00:00  \n",
       "1042   16  00:00:00  \n",
       "1043   11  00:00:00  \n",
       "1044   11  00:00:00  \n",
       "1045    4  00:00:00  \n",
       "\n",
       "[1046 rows x 8 columns]"
      ]
     },
     "execution_count": 453,
     "metadata": {},
     "output_type": "execute_result"
    }
   ],
   "source": [
    "data"
   ]
  },
  {
   "cell_type": "code",
   "execution_count": 435,
   "metadata": {},
   "outputs": [],
   "source": [
    "data['day'] = data['day'].astype(str)\n",
    "data['month'] = data['month'].astype(str)\n",
    "data['year'] = data['year'].astype(str)\n",
    "data['date']=  pd.to_datetime(data[['year', 'month', 'day']])\n",
    "data['date'] = data['date'].astype(str)\n",
    "data['time'] = data['time'].astype(str)"
   ]
  },
  {
   "cell_type": "code",
   "execution_count": 436,
   "metadata": {},
   "outputs": [
    {
     "data": {
      "text/html": [
       "<div>\n",
       "<style scoped>\n",
       "    .dataframe tbody tr th:only-of-type {\n",
       "        vertical-align: middle;\n",
       "    }\n",
       "\n",
       "    .dataframe tbody tr th {\n",
       "        vertical-align: top;\n",
       "    }\n",
       "\n",
       "    .dataframe thead th {\n",
       "        text-align: right;\n",
       "    }\n",
       "</style>\n",
       "<table border=\"1\" class=\"dataframe\">\n",
       "  <thead>\n",
       "    <tr style=\"text-align: right;\">\n",
       "      <th></th>\n",
       "      <th>Custom field (Story Points)</th>\n",
       "      <th>year</th>\n",
       "      <th>Issue</th>\n",
       "      <th>month</th>\n",
       "      <th>Resolved</th>\n",
       "      <th>tmp</th>\n",
       "      <th>day</th>\n",
       "      <th>time</th>\n",
       "      <th>date</th>\n",
       "    </tr>\n",
       "  </thead>\n",
       "  <tbody>\n",
       "    <tr>\n",
       "      <th>0</th>\n",
       "      <td>1.0</td>\n",
       "      <td>2021</td>\n",
       "      <td>xbid</td>\n",
       "      <td>4</td>\n",
       "      <td>2021-04-29</td>\n",
       "      <td>2021-04-29</td>\n",
       "      <td>29</td>\n",
       "      <td>00:00:00</td>\n",
       "      <td>2021-04-29</td>\n",
       "    </tr>\n",
       "    <tr>\n",
       "      <th>1</th>\n",
       "      <td>1.0</td>\n",
       "      <td>2021</td>\n",
       "      <td>xbid</td>\n",
       "      <td>4</td>\n",
       "      <td>2021-04-20</td>\n",
       "      <td>2021-04-20</td>\n",
       "      <td>20</td>\n",
       "      <td>00:00:00</td>\n",
       "      <td>2021-04-20</td>\n",
       "    </tr>\n",
       "    <tr>\n",
       "      <th>2</th>\n",
       "      <td>1.0</td>\n",
       "      <td>2021</td>\n",
       "      <td>xbid</td>\n",
       "      <td>4</td>\n",
       "      <td>2021-04-26</td>\n",
       "      <td>2021-04-26</td>\n",
       "      <td>26</td>\n",
       "      <td>00:00:00</td>\n",
       "      <td>2021-04-26</td>\n",
       "    </tr>\n",
       "    <tr>\n",
       "      <th>3</th>\n",
       "      <td>4.0</td>\n",
       "      <td>2021</td>\n",
       "      <td>xbid</td>\n",
       "      <td>4</td>\n",
       "      <td>2021-04-14</td>\n",
       "      <td>2021-04-14</td>\n",
       "      <td>14</td>\n",
       "      <td>00:00:00</td>\n",
       "      <td>2021-04-14</td>\n",
       "    </tr>\n",
       "    <tr>\n",
       "      <th>4</th>\n",
       "      <td>1.0</td>\n",
       "      <td>2021</td>\n",
       "      <td>xbid</td>\n",
       "      <td>4</td>\n",
       "      <td>2021-04-16</td>\n",
       "      <td>2021-04-16</td>\n",
       "      <td>16</td>\n",
       "      <td>00:00:00</td>\n",
       "      <td>2021-04-16</td>\n",
       "    </tr>\n",
       "    <tr>\n",
       "      <th>...</th>\n",
       "      <td>...</td>\n",
       "      <td>...</td>\n",
       "      <td>...</td>\n",
       "      <td>...</td>\n",
       "      <td>...</td>\n",
       "      <td>...</td>\n",
       "      <td>...</td>\n",
       "      <td>...</td>\n",
       "      <td>...</td>\n",
       "    </tr>\n",
       "    <tr>\n",
       "      <th>1041</th>\n",
       "      <td>1.0</td>\n",
       "      <td>2021</td>\n",
       "      <td>xbid</td>\n",
       "      <td>3</td>\n",
       "      <td>2021-03-15</td>\n",
       "      <td>2021-03-15</td>\n",
       "      <td>15</td>\n",
       "      <td>00:00:00</td>\n",
       "      <td>2021-03-15</td>\n",
       "    </tr>\n",
       "    <tr>\n",
       "      <th>1042</th>\n",
       "      <td>1.0</td>\n",
       "      <td>2021</td>\n",
       "      <td>xbid</td>\n",
       "      <td>3</td>\n",
       "      <td>2021-03-16</td>\n",
       "      <td>2021-03-16</td>\n",
       "      <td>16</td>\n",
       "      <td>00:00:00</td>\n",
       "      <td>2021-03-16</td>\n",
       "    </tr>\n",
       "    <tr>\n",
       "      <th>1043</th>\n",
       "      <td>1.0</td>\n",
       "      <td>2021</td>\n",
       "      <td>xbid</td>\n",
       "      <td>3</td>\n",
       "      <td>2021-11-03</td>\n",
       "      <td>2021-11-03</td>\n",
       "      <td>11</td>\n",
       "      <td>00:00:00</td>\n",
       "      <td>2021-03-11</td>\n",
       "    </tr>\n",
       "    <tr>\n",
       "      <th>1044</th>\n",
       "      <td>1.0</td>\n",
       "      <td>2021</td>\n",
       "      <td>xbid</td>\n",
       "      <td>3</td>\n",
       "      <td>2021-11-03</td>\n",
       "      <td>2021-11-03</td>\n",
       "      <td>11</td>\n",
       "      <td>00:00:00</td>\n",
       "      <td>2021-03-11</td>\n",
       "    </tr>\n",
       "    <tr>\n",
       "      <th>1045</th>\n",
       "      <td>1.0</td>\n",
       "      <td>2021</td>\n",
       "      <td>xbid</td>\n",
       "      <td>3</td>\n",
       "      <td>2021-04-03</td>\n",
       "      <td>2021-04-03</td>\n",
       "      <td>4</td>\n",
       "      <td>00:00:00</td>\n",
       "      <td>2021-03-04</td>\n",
       "    </tr>\n",
       "  </tbody>\n",
       "</table>\n",
       "<p>1046 rows × 9 columns</p>\n",
       "</div>"
      ],
      "text/plain": [
       "      Custom field (Story Points)  year Issue month    Resolved        tmp  \\\n",
       "0                             1.0  2021  xbid     4  2021-04-29 2021-04-29   \n",
       "1                             1.0  2021  xbid     4  2021-04-20 2021-04-20   \n",
       "2                             1.0  2021  xbid     4  2021-04-26 2021-04-26   \n",
       "3                             4.0  2021  xbid     4  2021-04-14 2021-04-14   \n",
       "4                             1.0  2021  xbid     4  2021-04-16 2021-04-16   \n",
       "...                           ...   ...   ...   ...         ...        ...   \n",
       "1041                          1.0  2021  xbid     3  2021-03-15 2021-03-15   \n",
       "1042                          1.0  2021  xbid     3  2021-03-16 2021-03-16   \n",
       "1043                          1.0  2021  xbid     3  2021-11-03 2021-11-03   \n",
       "1044                          1.0  2021  xbid     3  2021-11-03 2021-11-03   \n",
       "1045                          1.0  2021  xbid     3  2021-04-03 2021-04-03   \n",
       "\n",
       "     day      time        date  \n",
       "0     29  00:00:00  2021-04-29  \n",
       "1     20  00:00:00  2021-04-20  \n",
       "2     26  00:00:00  2021-04-26  \n",
       "3     14  00:00:00  2021-04-14  \n",
       "4     16  00:00:00  2021-04-16  \n",
       "...   ..       ...         ...  \n",
       "1041  15  00:00:00  2021-03-15  \n",
       "1042  16  00:00:00  2021-03-16  \n",
       "1043  11  00:00:00  2021-03-11  \n",
       "1044  11  00:00:00  2021-03-11  \n",
       "1045   4  00:00:00  2021-03-04  \n",
       "\n",
       "[1046 rows x 9 columns]"
      ]
     },
     "execution_count": 436,
     "metadata": {},
     "output_type": "execute_result"
    }
   ],
   "source": [
    "data"
   ]
  },
  {
   "cell_type": "code",
   "execution_count": 5,
   "metadata": {},
   "outputs": [],
   "source": [
    "def line_processing(data,ame):\n",
    "    data[\"Resolved\"] = pd.to_datetime(data[\"Resolved\"],dayfirst =True, errors ='coerce')\n",
    "    data['Resolved'] = data['Resolved'].fillna(method='ffill')\n",
    "    data[\"year\"] = data[\"Resolved\"].apply(lambda x: x.year)\n",
    "    data[\"month\"] = data[\"Resolved\"].apply(lambda x: x.month)\n",
    "    data[\"day\"] = data[\"Resolved\"].apply(lambda x: x.day)\n",
    "    data[\"Resolved\"] = data[\"Resolved\"].apply(lambda x: x.date())\n",
    "    data[\"Custom field (Story Points)\"] = data[\"Custom field (Story Points)\"].fillna(0)\n",
    "    data['Custom field (Story Points)'] = np.where(data['Custom field (Story Points)'].between(0.0,1.0), 1, data['Custom field (Story Points)'])\n",
    "    data['Issue'] = np.where(data['Resolution'],ame, data['Resolution'])\n",
    "    df_new =  pd.DataFrame(data[[\"Custom field (Story Points)\",\"year\",\"Issue\",\"month\",\"Resolved\", 'day']])\n",
    "    return df_new\n",
    "\n",
    "def line_processing_phase(data,ame):\n",
    "    data['tmp'] = pd.to_datetime(data['Resolved'], unit='ns',errors='coerce', utc=True)\n",
    "    data['tmp'] = data['tmp'].apply(lambda x: x.replace(microsecond=0))\n",
    "    data['date'] = [d.date() for d in data['tmp']]\n",
    "    data['time'] = [d.time() for d in data['tmp']]\n",
    "    data[['year','month','day']] = data['date'].apply(lambda x: pd.Series(x.strftime(\"%Y-%m-%d\").split(\"-\")))\n",
    "    data['day'] = pd.to_numeric(data['day'], errors='coerce')\n",
    "    data['month'] = pd.to_numeric(data['month'], errors='coerce')\n",
    "    data['year'] = pd.to_numeric(data['year'], errors='coerce')\n",
    "    data[\"Custom field (Story Points)\"] = data[\"Custom field (Story Points)\"].fillna(0)\n",
    "    data['Custom field (Story Points)'] = np.where(data['Custom field (Story Points)'].between(0.0,1.0), 1, data['Custom field (Story Points)'])\n",
    "    data['Issue'] = np.where(data['Resolution'],ame, data['Resolution'])\n",
    "    df_new =  pd.DataFrame(data[[\"Custom field (Story Points)\",\"year\",\"Issue\",\"month\",\"Resolved\",'tmp','day','time']])\n",
    "    return df_new\n",
    "\n",
    "def line_processing_phase2(data):\n",
    "    data['day'] = data['day'].astype(str)\n",
    "    data['month'] = data['month'].astype(str)\n",
    "    data['year'] = data['year'].astype(str)\n",
    "    data['date']=  pd.to_datetime(data[['year', 'month', 'day']])\n",
    "    data['date'] = data['date'].astype(str)\n",
    "    data['tmp'] =pd.to_datetime(data['date']+ ' ')\n",
    "    return data\n",
    "\n"
   ]
  },
  {
   "cell_type": "code",
   "execution_count": 10,
   "metadata": {},
   "outputs": [
    {
     "data": {
      "text/html": [
       "<div>\n",
       "<style scoped>\n",
       "    .dataframe tbody tr th:only-of-type {\n",
       "        vertical-align: middle;\n",
       "    }\n",
       "\n",
       "    .dataframe tbody tr th {\n",
       "        vertical-align: top;\n",
       "    }\n",
       "\n",
       "    .dataframe thead th {\n",
       "        text-align: right;\n",
       "    }\n",
       "</style>\n",
       "<table border=\"1\" class=\"dataframe\">\n",
       "  <thead>\n",
       "    <tr style=\"text-align: right;\">\n",
       "      <th></th>\n",
       "      <th>Custom field (Story Points)</th>\n",
       "      <th>year</th>\n",
       "      <th>Issue</th>\n",
       "      <th>month</th>\n",
       "      <th>Resolved</th>\n",
       "      <th>day</th>\n",
       "      <th>date</th>\n",
       "      <th>tmp</th>\n",
       "    </tr>\n",
       "  </thead>\n",
       "  <tbody>\n",
       "    <tr>\n",
       "      <th>470</th>\n",
       "      <td>1.0</td>\n",
       "      <td>2017</td>\n",
       "      <td>Development</td>\n",
       "      <td>10</td>\n",
       "      <td>2017-06-10</td>\n",
       "      <td>6</td>\n",
       "      <td>2017-10-06</td>\n",
       "      <td>2017-10-06</td>\n",
       "    </tr>\n",
       "    <tr>\n",
       "      <th>463</th>\n",
       "      <td>1.0</td>\n",
       "      <td>2018</td>\n",
       "      <td>Development</td>\n",
       "      <td>4</td>\n",
       "      <td>2018-03-04</td>\n",
       "      <td>3</td>\n",
       "      <td>2018-04-03</td>\n",
       "      <td>2018-04-03</td>\n",
       "    </tr>\n",
       "    <tr>\n",
       "      <th>476</th>\n",
       "      <td>1.0</td>\n",
       "      <td>2018</td>\n",
       "      <td>Development</td>\n",
       "      <td>7</td>\n",
       "      <td>2018-07-17</td>\n",
       "      <td>17</td>\n",
       "      <td>2018-07-17</td>\n",
       "      <td>2018-07-17</td>\n",
       "    </tr>\n",
       "    <tr>\n",
       "      <th>469</th>\n",
       "      <td>1.0</td>\n",
       "      <td>2018</td>\n",
       "      <td>Development</td>\n",
       "      <td>7</td>\n",
       "      <td>2018-07-23</td>\n",
       "      <td>23</td>\n",
       "      <td>2018-07-23</td>\n",
       "      <td>2018-07-23</td>\n",
       "    </tr>\n",
       "    <tr>\n",
       "      <th>502</th>\n",
       "      <td>1.0</td>\n",
       "      <td>2018</td>\n",
       "      <td>Development</td>\n",
       "      <td>7</td>\n",
       "      <td>2018-07-26</td>\n",
       "      <td>26</td>\n",
       "      <td>2018-07-26</td>\n",
       "      <td>2018-07-26</td>\n",
       "    </tr>\n",
       "    <tr>\n",
       "      <th>...</th>\n",
       "      <td>...</td>\n",
       "      <td>...</td>\n",
       "      <td>...</td>\n",
       "      <td>...</td>\n",
       "      <td>...</td>\n",
       "      <td>...</td>\n",
       "      <td>...</td>\n",
       "      <td>...</td>\n",
       "    </tr>\n",
       "    <tr>\n",
       "      <th>0</th>\n",
       "      <td>1.0</td>\n",
       "      <td>2021</td>\n",
       "      <td>Xbid-Support</td>\n",
       "      <td>4</td>\n",
       "      <td>2021-04-29</td>\n",
       "      <td>29</td>\n",
       "      <td>2021-04-29</td>\n",
       "      <td>2021-04-29</td>\n",
       "    </tr>\n",
       "    <tr>\n",
       "      <th>18</th>\n",
       "      <td>2.0</td>\n",
       "      <td>2021</td>\n",
       "      <td>Maintenance</td>\n",
       "      <td>4</td>\n",
       "      <td>2021-04-29</td>\n",
       "      <td>29</td>\n",
       "      <td>2021-04-29</td>\n",
       "      <td>2021-04-29</td>\n",
       "    </tr>\n",
       "    <tr>\n",
       "      <th>324</th>\n",
       "      <td>1.0</td>\n",
       "      <td>2021</td>\n",
       "      <td>Maintenance</td>\n",
       "      <td>4</td>\n",
       "      <td>2021-04-29</td>\n",
       "      <td>29</td>\n",
       "      <td>2021-04-29</td>\n",
       "      <td>2021-04-29</td>\n",
       "    </tr>\n",
       "    <tr>\n",
       "      <th>301</th>\n",
       "      <td>1.0</td>\n",
       "      <td>2021</td>\n",
       "      <td>Maintenance</td>\n",
       "      <td>4</td>\n",
       "      <td>2021-04-29</td>\n",
       "      <td>29</td>\n",
       "      <td>2021-04-29</td>\n",
       "      <td>2021-04-29</td>\n",
       "    </tr>\n",
       "    <tr>\n",
       "      <th>26</th>\n",
       "      <td>8.0</td>\n",
       "      <td>2021</td>\n",
       "      <td>Maintenance</td>\n",
       "      <td>4</td>\n",
       "      <td>2021-04-29</td>\n",
       "      <td>29</td>\n",
       "      <td>2021-04-29</td>\n",
       "      <td>2021-04-29</td>\n",
       "    </tr>\n",
       "  </tbody>\n",
       "</table>\n",
       "<p>2734 rows × 8 columns</p>\n",
       "</div>"
      ],
      "text/plain": [
       "     Custom field (Story Points)  year         Issue month    Resolved day  \\\n",
       "470                          1.0  2017   Development    10  2017-06-10   6   \n",
       "463                          1.0  2018   Development     4  2018-03-04   3   \n",
       "476                          1.0  2018   Development     7  2018-07-17  17   \n",
       "469                          1.0  2018   Development     7  2018-07-23  23   \n",
       "502                          1.0  2018   Development     7  2018-07-26  26   \n",
       "..                           ...   ...           ...   ...         ...  ..   \n",
       "0                            1.0  2021  Xbid-Support     4  2021-04-29  29   \n",
       "18                           2.0  2021   Maintenance     4  2021-04-29  29   \n",
       "324                          1.0  2021   Maintenance     4  2021-04-29  29   \n",
       "301                          1.0  2021   Maintenance     4  2021-04-29  29   \n",
       "26                           8.0  2021   Maintenance     4  2021-04-29  29   \n",
       "\n",
       "           date        tmp  \n",
       "470  2017-10-06 2017-10-06  \n",
       "463  2018-04-03 2018-04-03  \n",
       "476  2018-07-17 2018-07-17  \n",
       "469  2018-07-23 2018-07-23  \n",
       "502  2018-07-26 2018-07-26  \n",
       "..          ...        ...  \n",
       "0    2021-04-29 2021-04-29  \n",
       "18   2021-04-29 2021-04-29  \n",
       "324  2021-04-29 2021-04-29  \n",
       "301  2021-04-29 2021-04-29  \n",
       "26   2021-04-29 2021-04-29  \n",
       "\n",
       "[2734 rows x 8 columns]"
      ]
     },
     "execution_count": 10,
     "metadata": {},
     "output_type": "execute_result"
    }
   ],
   "source": [
    "##################   LINE GRAPH\n",
    "data_development = pd.read_csv(\"/home/oh856/APP-FLASK/Flask-app-dash/datasets/Development.csv\", low_memory=False)\n",
    "data_maintenance = pd.read_csv(\"/home/oh856/APP-FLASK/Flask-app-dash/datasets/Maintenance.csv\", low_memory=False)\n",
    "xbid = pd.read_csv(\"/home/oh856/APP-FLASK/Flask-app-dash/datasets/XBIDsupport.csv\", low_memory=False)\n",
    "\n",
    "##### Data processing for Line Graph FOR DEVELOPMENT\n",
    "df_new_development_line = line_processing(data_development,\"Development\")\n",
    "for index, d in enumerate(df_new_development_line['day']):\n",
    "        if(d <13): \n",
    "            df_new_development_line.loc[index,'day'],df_new_development_line.loc[index,'month']=df_new_development_line.loc[index,'month'],df_new_development_line.loc[index,'day'] \n",
    "df_new_development_line = line_processing_phase2(df_new_development_line)\n",
    "##### DATA PROCESSING FOR LINE GRAPH FOR MAINTENANCE\n",
    "df_new_maintenance_line = line_processing(data_maintenance,\"Maintenance\")\n",
    "for index, d in enumerate(df_new_maintenance_line['day']):\n",
    "        if(d <13): \n",
    "            df_new_maintenance_line.loc[index,'day'],df_new_maintenance_line.loc[index,'month']=df_new_maintenance_line.loc[index,'month'],df_new_maintenance_line.loc[index,'day'] \n",
    "df_new_maintenance_line = line_processing_phase2(df_new_maintenance_line)\n",
    "\n",
    "#### DATA PROCESSING FOR LINE GRAPH FOR XBID\n",
    "df_new_xbid_line = line_processing(xbid, 'Xbid-Support')\n",
    "for index, d in enumerate(df_new_xbid_line['day']):\n",
    "        if(d <13): \n",
    "            df_new_xbid_line.loc[index,'day'],df_new_xbid_line.loc[index,'month']=df_new_xbid_line.loc[index,'month'],df_new_xbid_line.loc[index,'day']\n",
    "df_new_xbid_line = line_processing_phase2(df_new_xbid_line)\n",
    "\n",
    "### Line Processing - Development\n",
    "# df_new_development_line = df_new_development_line.groupby(\"Resolved\").sum()\n",
    "# df_new_development_line[\"Issue\"] = df_new_development_line[\"month\"]\n",
    "# df_new_development_line[\"Issue\"] = np.where(df_new_development_line[\"Issue\"],\"Development\",df_new_development_line[\"Issue\"])\n",
    "# ### Line Processing - Maintenance\n",
    "# df_new_maintenance_line = df_new_maintenance_line.groupby(\"Resolved\").sum()\n",
    "# df_new_maintenance_line[\"Issue\"] = df_new_maintenance_line[\"month\"]\n",
    "# df_new_maintenance_line[\"Issue\"] = np.where(df_new_maintenance_line[\"Issue\"],\"Maintenance\",df_new_maintenance_line[\"Issue\"])\n",
    "# ### Line Processing XBID\n",
    "# df_new_xbid_line = df_new_xbid_line.groupby('Resolved').sum()\n",
    "# df_new_xbid_line['Issue'] = df_new_xbid_line['month']\n",
    "# df_new_xbid_line['Issue'] = np.where(df_new_xbid_line['Issue'], 'Xbid-Support',df_new_xbid_line['Issue'])\n",
    "\n",
    "\n",
    "\n",
    "## Merging two different lines\n",
    "new_type = df_new_development_line.append(df_new_maintenance_line)\n",
    "new_type = new_type.append(df_new_xbid_line)\n",
    "new_type = new_type.sort_values(\"date\") \n",
    "new_type"
   ]
  },
  {
   "cell_type": "code",
   "execution_count": 49,
   "metadata": {},
   "outputs": [
    {
     "ename": "AttributeError",
     "evalue": "'Dash' object has no attribute 'show'",
     "output_type": "error",
     "traceback": [
      "\u001b[0;31m---------------------------------------------------------------------------\u001b[0m",
      "\u001b[0;31mAttributeError\u001b[0m                            Traceback (most recent call last)",
      "\u001b[0;32m<ipython-input-49-13a7545465bd>\u001b[0m in \u001b[0;36m<module>\u001b[0;34m\u001b[0m\n\u001b[1;32m     59\u001b[0m \u001b[0;34m\u001b[0m\u001b[0m\n\u001b[1;32m     60\u001b[0m \u001b[0;34m\u001b[0m\u001b[0m\n\u001b[0;32m---> 61\u001b[0;31m \u001b[0mapp\u001b[0m\u001b[0;34m.\u001b[0m\u001b[0mshow\u001b[0m\u001b[0;34m(\u001b[0m\u001b[0;34m)\u001b[0m\u001b[0;34m\u001b[0m\u001b[0;34m\u001b[0m\u001b[0m\n\u001b[0m",
      "\u001b[0;31mAttributeError\u001b[0m: 'Dash' object has no attribute 'show'"
     ]
    }
   ],
   "source": []
  },
  {
   "cell_type": "code",
   "execution_count": 1,
   "metadata": {},
   "outputs": [
    {
     "ename": "RuntimeError",
     "evalue": "module compiled against API version 0xe but this version of numpy is 0xd",
     "output_type": "error",
     "traceback": [
      "\u001b[0;31m---------------------------------------------------------------------------\u001b[0m",
      "\u001b[0;31mRuntimeError\u001b[0m                              Traceback (most recent call last)",
      "\u001b[0;31mRuntimeError\u001b[0m: module compiled against API version 0xe but this version of numpy is 0xd"
     ]
    }
   ],
   "source": [
    "import dash\n",
    "import dash_core_components as dcc\n",
    "import dash_html_components as html\n",
    "from dash.dependencies import Input, Output\n",
    "import plotly.express as px\n",
    "\n",
    "df = px.data.gapminder()\n",
    "all_continents = df.continent.unique()\n",
    "\n",
    "app = dash.Dash(__name__)\n",
    "\n",
    "app.layout = html.Div([\n",
    "    dcc.Checklist(\n",
    "        id=\"checklist\",\n",
    "        options=[{\"label\": x, \"value\": x} \n",
    "                 for x in all_continents],\n",
    "        value=all_continents[3:],\n",
    "        labelStyle={'display': 'inline-block'}\n",
    "    ),\n",
    "    dcc.Graph(id=\"line-chart\"),\n",
    "])\n",
    "\n",
    "@app.callback(\n",
    "    Output(\"line-chart\", \"figure\"), \n",
    "    [Input(\"checklist\", \"value\")])\n",
    "def update_line_chart(continents):\n",
    "    mask = df.continent.isin(continents)\n",
    "    fig = px.line(df[mask], \n",
    "        x=\"year\", y=\"lifeExp\", color='country')\n",
    "    return fig\n"
   ]
  },
  {
   "cell_type": "code",
   "execution_count": 115,
   "metadata": {},
   "outputs": [
    {
     "data": {
      "text/html": [
       "<div>\n",
       "<style scoped>\n",
       "    .dataframe tbody tr th:only-of-type {\n",
       "        vertical-align: middle;\n",
       "    }\n",
       "\n",
       "    .dataframe tbody tr th {\n",
       "        vertical-align: top;\n",
       "    }\n",
       "\n",
       "    .dataframe thead th {\n",
       "        text-align: right;\n",
       "    }\n",
       "</style>\n",
       "<table border=\"1\" class=\"dataframe\">\n",
       "  <thead>\n",
       "    <tr style=\"text-align: right;\">\n",
       "      <th></th>\n",
       "      <th>_class</th>\n",
       "      <th>actions</th>\n",
       "      <th>building</th>\n",
       "      <th>description</th>\n",
       "      <th>duration</th>\n",
       "      <th>fullDisplayName</th>\n",
       "      <th>id</th>\n",
       "      <th>number</th>\n",
       "      <th>result</th>\n",
       "      <th>timestamp</th>\n",
       "      <th>Environment</th>\n",
       "      <th>Action</th>\n",
       "    </tr>\n",
       "  </thead>\n",
       "  <tbody>\n",
       "    <tr>\n",
       "      <th>0</th>\n",
       "      <td>org.jenkinsci.plugins.workflow.job.WorkflowRun</td>\n",
       "      <td>[{'_class': 'hudson.model.CauseAction'}, {'_cl...</td>\n",
       "      <td>False</td>\n",
       "      <td>check only: false, diff: false</td>\n",
       "      <td>74461</td>\n",
       "      <td>Energy-Operations » XBID Ansible Jobs » XBID A...</td>\n",
       "      <td>965</td>\n",
       "      <td>965</td>\n",
       "      <td>FAILURE</td>\n",
       "      <td>1620719831069</td>\n",
       "      <td>cute</td>\n",
       "      <td>deploy</td>\n",
       "    </tr>\n",
       "    <tr>\n",
       "      <th>1</th>\n",
       "      <td>org.jenkinsci.plugins.workflow.job.WorkflowRun</td>\n",
       "      <td>[{'_class': 'hudson.model.CauseAction'}, {'_cl...</td>\n",
       "      <td>False</td>\n",
       "      <td>check only: false, diff: false</td>\n",
       "      <td>13283</td>\n",
       "      <td>Energy-Operations » XBID Ansible Jobs » XBID A...</td>\n",
       "      <td>964</td>\n",
       "      <td>964</td>\n",
       "      <td>FAILURE</td>\n",
       "      <td>1620717986307</td>\n",
       "      <td>lipb</td>\n",
       "      <td>check_if_running</td>\n",
       "    </tr>\n",
       "    <tr>\n",
       "      <th>2</th>\n",
       "      <td>org.jenkinsci.plugins.workflow.job.WorkflowRun</td>\n",
       "      <td>[{'_class': 'hudson.model.ParametersAction', '...</td>\n",
       "      <td>False</td>\n",
       "      <td>check only: false, diff: false</td>\n",
       "      <td>60916</td>\n",
       "      <td>Energy-Operations » XBID Ansible Jobs » XBID A...</td>\n",
       "      <td>963</td>\n",
       "      <td>963</td>\n",
       "      <td>SUCCESS</td>\n",
       "      <td>1620717854350</td>\n",
       "      <td>lipa</td>\n",
       "      <td>start</td>\n",
       "    </tr>\n",
       "    <tr>\n",
       "      <th>3</th>\n",
       "      <td>org.jenkinsci.plugins.workflow.job.WorkflowRun</td>\n",
       "      <td>[{'_class': 'hudson.model.ParametersAction', '...</td>\n",
       "      <td>False</td>\n",
       "      <td>check only: false, diff: false</td>\n",
       "      <td>12200</td>\n",
       "      <td>Energy-Operations » XBID Ansible Jobs » XBID A...</td>\n",
       "      <td>962</td>\n",
       "      <td>962</td>\n",
       "      <td>FAILURE</td>\n",
       "      <td>1620717295456</td>\n",
       "      <td>lipb</td>\n",
       "      <td>stop</td>\n",
       "    </tr>\n",
       "    <tr>\n",
       "      <th>4</th>\n",
       "      <td>org.jenkinsci.plugins.workflow.job.WorkflowRun</td>\n",
       "      <td>[{'_class': 'hudson.model.CauseAction'}, {'_cl...</td>\n",
       "      <td>False</td>\n",
       "      <td>check only: false, diff: false</td>\n",
       "      <td>11214</td>\n",
       "      <td>Energy-Operations » XBID Ansible Jobs » XBID A...</td>\n",
       "      <td>961</td>\n",
       "      <td>961</td>\n",
       "      <td>FAILURE</td>\n",
       "      <td>1620717247287</td>\n",
       "      <td>lipb</td>\n",
       "      <td>check_if_running</td>\n",
       "    </tr>\n",
       "    <tr>\n",
       "      <th>...</th>\n",
       "      <td>...</td>\n",
       "      <td>...</td>\n",
       "      <td>...</td>\n",
       "      <td>...</td>\n",
       "      <td>...</td>\n",
       "      <td>...</td>\n",
       "      <td>...</td>\n",
       "      <td>...</td>\n",
       "      <td>...</td>\n",
       "      <td>...</td>\n",
       "      <td>...</td>\n",
       "      <td>...</td>\n",
       "    </tr>\n",
       "    <tr>\n",
       "      <th>960</th>\n",
       "      <td>org.jenkinsci.plugins.workflow.job.WorkflowRun</td>\n",
       "      <td>[{'_class': 'hudson.model.ParametersAction', '...</td>\n",
       "      <td>False</td>\n",
       "      <td>None</td>\n",
       "      <td>5057</td>\n",
       "      <td>Energy-Operations » XBID Ansible Jobs » XBID A...</td>\n",
       "      <td>5</td>\n",
       "      <td>5</td>\n",
       "      <td>FAILURE</td>\n",
       "      <td>1598535907411</td>\n",
       "      <td>simu</td>\n",
       "      <td>deploy</td>\n",
       "    </tr>\n",
       "    <tr>\n",
       "      <th>961</th>\n",
       "      <td>org.jenkinsci.plugins.workflow.job.WorkflowRun</td>\n",
       "      <td>[{'_class': 'hudson.model.ParametersAction', '...</td>\n",
       "      <td>False</td>\n",
       "      <td>None</td>\n",
       "      <td>57436</td>\n",
       "      <td>Energy-Operations » XBID Ansible Jobs » XBID A...</td>\n",
       "      <td>4</td>\n",
       "      <td>4</td>\n",
       "      <td>SUCCESS</td>\n",
       "      <td>1598535488237</td>\n",
       "      <td>dst1</td>\n",
       "      <td>deploy</td>\n",
       "    </tr>\n",
       "    <tr>\n",
       "      <th>962</th>\n",
       "      <td>org.jenkinsci.plugins.workflow.job.WorkflowRun</td>\n",
       "      <td>[{'_class': 'hudson.model.CauseAction'}, {}, {...</td>\n",
       "      <td>False</td>\n",
       "      <td>None</td>\n",
       "      <td>16747</td>\n",
       "      <td>Energy-Operations » XBID Ansible Jobs » XBID A...</td>\n",
       "      <td>3</td>\n",
       "      <td>3</td>\n",
       "      <td>FAILURE</td>\n",
       "      <td>1598534742542</td>\n",
       "      <td>NaN</td>\n",
       "      <td>NaN</td>\n",
       "    </tr>\n",
       "    <tr>\n",
       "      <th>963</th>\n",
       "      <td>org.jenkinsci.plugins.workflow.job.WorkflowRun</td>\n",
       "      <td>[{'_class': 'hudson.model.CauseAction'}, {}, {...</td>\n",
       "      <td>False</td>\n",
       "      <td>None</td>\n",
       "      <td>501</td>\n",
       "      <td>Energy-Operations » XBID Ansible Jobs » XBID A...</td>\n",
       "      <td>2</td>\n",
       "      <td>2</td>\n",
       "      <td>FAILURE</td>\n",
       "      <td>1598533174853</td>\n",
       "      <td>NaN</td>\n",
       "      <td>NaN</td>\n",
       "    </tr>\n",
       "    <tr>\n",
       "      <th>964</th>\n",
       "      <td>org.jenkinsci.plugins.workflow.job.WorkflowRun</td>\n",
       "      <td>[{'_class': 'hudson.model.CauseAction'}, {}, {...</td>\n",
       "      <td>False</td>\n",
       "      <td>None</td>\n",
       "      <td>1242</td>\n",
       "      <td>Energy-Operations » XBID Ansible Jobs » XBID A...</td>\n",
       "      <td>1</td>\n",
       "      <td>1</td>\n",
       "      <td>FAILURE</td>\n",
       "      <td>1598532891865</td>\n",
       "      <td>NaN</td>\n",
       "      <td>NaN</td>\n",
       "    </tr>\n",
       "  </tbody>\n",
       "</table>\n",
       "<p>965 rows × 12 columns</p>\n",
       "</div>"
      ],
      "text/plain": [
       "                                             _class  \\\n",
       "0    org.jenkinsci.plugins.workflow.job.WorkflowRun   \n",
       "1    org.jenkinsci.plugins.workflow.job.WorkflowRun   \n",
       "2    org.jenkinsci.plugins.workflow.job.WorkflowRun   \n",
       "3    org.jenkinsci.plugins.workflow.job.WorkflowRun   \n",
       "4    org.jenkinsci.plugins.workflow.job.WorkflowRun   \n",
       "..                                              ...   \n",
       "960  org.jenkinsci.plugins.workflow.job.WorkflowRun   \n",
       "961  org.jenkinsci.plugins.workflow.job.WorkflowRun   \n",
       "962  org.jenkinsci.plugins.workflow.job.WorkflowRun   \n",
       "963  org.jenkinsci.plugins.workflow.job.WorkflowRun   \n",
       "964  org.jenkinsci.plugins.workflow.job.WorkflowRun   \n",
       "\n",
       "                                               actions  building  \\\n",
       "0    [{'_class': 'hudson.model.CauseAction'}, {'_cl...     False   \n",
       "1    [{'_class': 'hudson.model.CauseAction'}, {'_cl...     False   \n",
       "2    [{'_class': 'hudson.model.ParametersAction', '...     False   \n",
       "3    [{'_class': 'hudson.model.ParametersAction', '...     False   \n",
       "4    [{'_class': 'hudson.model.CauseAction'}, {'_cl...     False   \n",
       "..                                                 ...       ...   \n",
       "960  [{'_class': 'hudson.model.ParametersAction', '...     False   \n",
       "961  [{'_class': 'hudson.model.ParametersAction', '...     False   \n",
       "962  [{'_class': 'hudson.model.CauseAction'}, {}, {...     False   \n",
       "963  [{'_class': 'hudson.model.CauseAction'}, {}, {...     False   \n",
       "964  [{'_class': 'hudson.model.CauseAction'}, {}, {...     False   \n",
       "\n",
       "                        description  duration  \\\n",
       "0    check only: false, diff: false     74461   \n",
       "1    check only: false, diff: false     13283   \n",
       "2    check only: false, diff: false     60916   \n",
       "3    check only: false, diff: false     12200   \n",
       "4    check only: false, diff: false     11214   \n",
       "..                              ...       ...   \n",
       "960                            None      5057   \n",
       "961                            None     57436   \n",
       "962                            None     16747   \n",
       "963                            None       501   \n",
       "964                            None      1242   \n",
       "\n",
       "                                       fullDisplayName   id  number   result  \\\n",
       "0    Energy-Operations » XBID Ansible Jobs » XBID A...  965     965  FAILURE   \n",
       "1    Energy-Operations » XBID Ansible Jobs » XBID A...  964     964  FAILURE   \n",
       "2    Energy-Operations » XBID Ansible Jobs » XBID A...  963     963  SUCCESS   \n",
       "3    Energy-Operations » XBID Ansible Jobs » XBID A...  962     962  FAILURE   \n",
       "4    Energy-Operations » XBID Ansible Jobs » XBID A...  961     961  FAILURE   \n",
       "..                                                 ...  ...     ...      ...   \n",
       "960  Energy-Operations » XBID Ansible Jobs » XBID A...    5       5  FAILURE   \n",
       "961  Energy-Operations » XBID Ansible Jobs » XBID A...    4       4  SUCCESS   \n",
       "962  Energy-Operations » XBID Ansible Jobs » XBID A...    3       3  FAILURE   \n",
       "963  Energy-Operations » XBID Ansible Jobs » XBID A...    2       2  FAILURE   \n",
       "964  Energy-Operations » XBID Ansible Jobs » XBID A...    1       1  FAILURE   \n",
       "\n",
       "         timestamp Environment            Action  \n",
       "0    1620719831069        cute            deploy  \n",
       "1    1620717986307        lipb  check_if_running  \n",
       "2    1620717854350        lipa             start  \n",
       "3    1620717295456        lipb              stop  \n",
       "4    1620717247287        lipb  check_if_running  \n",
       "..             ...         ...               ...  \n",
       "960  1598535907411        simu            deploy  \n",
       "961  1598535488237        dst1            deploy  \n",
       "962  1598534742542         NaN               NaN  \n",
       "963  1598533174853         NaN               NaN  \n",
       "964  1598532891865         NaN               NaN  \n",
       "\n",
       "[965 rows x 12 columns]"
      ]
     },
     "execution_count": 115,
     "metadata": {},
     "output_type": "execute_result"
    }
   ],
   "source": [
    "import requests\n",
    "import os\n",
    "import urllib\n",
    "import jenkins\n",
    "import json\n",
    "import pandas as pd \n",
    "username = 'oh856'\n",
    "token ='112f71f82cc3d562f1e8b24fadd9cd2a78'\n",
    "auth = ('oh856','Ccf5566096.')\n",
    "server = jenkins.Jenkins('https://englobjci1.deutsche-boerse.de/', username, token)\n",
    "server1 = requests.get('https://englobjci1.deutsche-boerse.de/job/Energy-Operations/job/XBID%20Ansible%20Jobs/job/XBID%20Ansible%20deploy%20full/api/json?tree=allBuilds[actions[parameters[name,value]],duration,description,building,fullDisplayName,id,number,timestamp,result]&pretty=true',auth=auth)\n",
    "json_data = json.loads(server1.text)\n",
    "json_data = pd.DataFrame(json_data)\n",
    "builds = json_data['allBuilds'].apply(pd.Series)\n",
    "\n",
    "def environmentcollect(data):       \n",
    "        col1 = data['actions'].apply(pd.Series)\n",
    "        col1_v1 = col1[0].apply(pd.Series)\n",
    "        col1_v2 = col1_v1['parameters'].apply(pd.Series)\n",
    "        env = col1_v2[0].apply(pd.Series)\n",
    "        envcol1 = env['value'] \n",
    "\n",
    "        col2_v1 = col1[1].apply(pd.Series)\n",
    "        col2_v2 = col2_v1['parameters'].apply(pd.Series)\n",
    "        env2 = col2_v2[0].apply(pd.Series)\n",
    "        envcol2 = env2['value'] \n",
    "\n",
    "        col3_v1 = col1[2].apply(pd.Series)\n",
    "        col3_v2 = col3_v1['parameters'].apply(pd.Series)\n",
    "        env3 = col3_v2[0].apply(pd.Series)\n",
    "        envcol3 = env3['value']\n",
    "\n",
    "        col4_v1 = col1[3].apply(pd.Series)\n",
    "        col4_v2 = col4_v1['parameters'].apply(pd.Series)\n",
    "        env4 = col4_v2[0].apply(pd.Series)\n",
    "        envcol4 = env4['value']\n",
    "\n",
    "        envcol1.fillna(envcol2,inplace= True)\n",
    "        envcol1.fillna(envcol3, inplace =True)\n",
    "        envcol1.fillna(envcol4, inplace =True)\n",
    "\n",
    "        return envcol1\n",
    "\n",
    "\n",
    "def actioncollect(data):\n",
    "    act1 = data['actions'].apply(pd.Series)\n",
    "    act1_v1 = act1[0].apply(pd.Series)\n",
    "    act1_v2 = act1_v1['parameters'].apply(pd.Series)\n",
    "    act1_v3 = act1_v2[1].apply(pd.Series)\n",
    "    actcol1 = act1_v3['value'] \n",
    "\n",
    "    \n",
    "    act2 = act1[1].apply(pd.Series)\n",
    "    act2_v2 = act2['parameters'].apply(pd.Series)\n",
    "    act2_v3 = act2_v2[1].apply(pd.Series)\n",
    "    actcol2 = act2_v3['value'] \n",
    "\n",
    "   \n",
    "    act3 = act1[2].apply(pd.Series)\n",
    "    act3_v2 = act3['parameters'].apply(pd.Series)\n",
    "    act3_v3 = act3_v2[1].apply(pd.Series)\n",
    "    actcol3 = act3_v3['value']\n",
    "\n",
    "    act4 = act1[3].apply(pd.Series)\n",
    "    act4_v2 = act4['parameters'].apply(pd.Series)\n",
    "    act4_v3 = act4_v2[1].apply(pd.Series)\n",
    "    actcol4 = act4_v3['value']\n",
    "\n",
    "    actcol1.fillna(actcol2, inplace=True)\n",
    "    actcol1.fillna(actcol3, inplace = True)\n",
    "    actcol1.fillna(actcol4, inplace =True)\n",
    "\n",
    "    return actcol1\n",
    "    \n",
    "\n",
    "builds['Environment'] =  environmentcollect(builds)\n",
    "builds['Action'] = actioncollect(builds)\n",
    "builds"
   ]
  },
  {
   "cell_type": "code",
   "execution_count": 200,
   "metadata": {},
   "outputs": [
    {
     "data": {
      "text/html": [
       "<div>\n",
       "<style scoped>\n",
       "    .dataframe tbody tr th:only-of-type {\n",
       "        vertical-align: middle;\n",
       "    }\n",
       "\n",
       "    .dataframe tbody tr th {\n",
       "        vertical-align: top;\n",
       "    }\n",
       "\n",
       "    .dataframe thead th {\n",
       "        text-align: right;\n",
       "    }\n",
       "</style>\n",
       "<table border=\"1\" class=\"dataframe\">\n",
       "  <thead>\n",
       "    <tr style=\"text-align: right;\">\n",
       "      <th></th>\n",
       "      <th>0</th>\n",
       "      <th>_class</th>\n",
       "      <th>name</th>\n",
       "      <th>value</th>\n",
       "    </tr>\n",
       "  </thead>\n",
       "  <tbody>\n",
       "    <tr>\n",
       "      <th>0</th>\n",
       "      <td>NaN</td>\n",
       "      <td>hudson.model.BooleanParameterValue</td>\n",
       "      <td>diff</td>\n",
       "      <td>False</td>\n",
       "    </tr>\n",
       "    <tr>\n",
       "      <th>1</th>\n",
       "      <td>NaN</td>\n",
       "      <td>NaN</td>\n",
       "      <td>NaN</td>\n",
       "      <td>NaN</td>\n",
       "    </tr>\n",
       "    <tr>\n",
       "      <th>2</th>\n",
       "      <td>NaN</td>\n",
       "      <td>hudson.model.BooleanParameterValue</td>\n",
       "      <td>diff</td>\n",
       "      <td>False</td>\n",
       "    </tr>\n",
       "    <tr>\n",
       "      <th>3</th>\n",
       "      <td>NaN</td>\n",
       "      <td>hudson.model.BooleanParameterValue</td>\n",
       "      <td>diff</td>\n",
       "      <td>False</td>\n",
       "    </tr>\n",
       "    <tr>\n",
       "      <th>4</th>\n",
       "      <td>NaN</td>\n",
       "      <td>hudson.model.BooleanParameterValue</td>\n",
       "      <td>diff</td>\n",
       "      <td>False</td>\n",
       "    </tr>\n",
       "    <tr>\n",
       "      <th>...</th>\n",
       "      <td>...</td>\n",
       "      <td>...</td>\n",
       "      <td>...</td>\n",
       "      <td>...</td>\n",
       "    </tr>\n",
       "    <tr>\n",
       "      <th>957</th>\n",
       "      <td>NaN</td>\n",
       "      <td>hudson.model.BooleanParameterValue</td>\n",
       "      <td>check</td>\n",
       "      <td>True</td>\n",
       "    </tr>\n",
       "    <tr>\n",
       "      <th>958</th>\n",
       "      <td>NaN</td>\n",
       "      <td>hudson.model.BooleanParameterValue</td>\n",
       "      <td>check</td>\n",
       "      <td>True</td>\n",
       "    </tr>\n",
       "    <tr>\n",
       "      <th>959</th>\n",
       "      <td>NaN</td>\n",
       "      <td>NaN</td>\n",
       "      <td>NaN</td>\n",
       "      <td>NaN</td>\n",
       "    </tr>\n",
       "    <tr>\n",
       "      <th>960</th>\n",
       "      <td>NaN</td>\n",
       "      <td>NaN</td>\n",
       "      <td>NaN</td>\n",
       "      <td>NaN</td>\n",
       "    </tr>\n",
       "    <tr>\n",
       "      <th>961</th>\n",
       "      <td>NaN</td>\n",
       "      <td>NaN</td>\n",
       "      <td>NaN</td>\n",
       "      <td>NaN</td>\n",
       "    </tr>\n",
       "  </tbody>\n",
       "</table>\n",
       "<p>962 rows × 4 columns</p>\n",
       "</div>"
      ],
      "text/plain": [
       "      0                              _class   name  value\n",
       "0   NaN  hudson.model.BooleanParameterValue   diff  False\n",
       "1   NaN                                 NaN    NaN    NaN\n",
       "2   NaN  hudson.model.BooleanParameterValue   diff  False\n",
       "3   NaN  hudson.model.BooleanParameterValue   diff  False\n",
       "4   NaN  hudson.model.BooleanParameterValue   diff  False\n",
       "..   ..                                 ...    ...    ...\n",
       "957 NaN  hudson.model.BooleanParameterValue  check   True\n",
       "958 NaN  hudson.model.BooleanParameterValue  check   True\n",
       "959 NaN                                 NaN    NaN    NaN\n",
       "960 NaN                                 NaN    NaN    NaN\n",
       "961 NaN                                 NaN    NaN    NaN\n",
       "\n",
       "[962 rows x 4 columns]"
      ]
     },
     "execution_count": 200,
     "metadata": {},
     "output_type": "execute_result"
    }
   ],
   "source": [
    "act4 = act1[0].apply(pd.Series)\n",
    "act4_v2 = act4['parameters'].apply(pd.Series)\n",
    "act4_v3 = act4_v2[31].apply(pd.Series)\n",
    "actcol4 = act4_v3['value']\n",
    "act4_v3\n"
   ]
  },
  {
   "cell_type": "code",
   "execution_count": 207,
   "metadata": {},
   "outputs": [
    {
     "data": {
      "text/plain": [
       "check only: false, diff: false    576\n",
       "check only: true, diff: true      178\n",
       "check only: false, diff: true     120\n",
       "check only: true, diff: false      15\n",
       "Name: description, dtype: int64"
      ]
     },
     "execution_count": 207,
     "metadata": {},
     "output_type": "execute_result"
    }
   ],
   "source": [
    "builds['description'].value_counts()"
   ]
  },
  {
   "cell_type": "code",
   "execution_count": 215,
   "metadata": {},
   "outputs": [
    {
     "data": {
      "text/html": [
       "<div>\n",
       "<style scoped>\n",
       "    .dataframe tbody tr th:only-of-type {\n",
       "        vertical-align: middle;\n",
       "    }\n",
       "\n",
       "    .dataframe tbody tr th {\n",
       "        vertical-align: top;\n",
       "    }\n",
       "\n",
       "    .dataframe thead th {\n",
       "        text-align: right;\n",
       "    }\n",
       "</style>\n",
       "<table border=\"1\" class=\"dataframe\">\n",
       "  <thead>\n",
       "    <tr style=\"text-align: right;\">\n",
       "      <th></th>\n",
       "      <th>_class</th>\n",
       "      <th>actions</th>\n",
       "      <th>building</th>\n",
       "      <th>description</th>\n",
       "      <th>duration</th>\n",
       "      <th>fullDisplayName</th>\n",
       "      <th>id</th>\n",
       "      <th>number</th>\n",
       "      <th>result</th>\n",
       "      <th>timestamp</th>\n",
       "      <th>Environment</th>\n",
       "      <th>Action</th>\n",
       "    </tr>\n",
       "  </thead>\n",
       "  <tbody>\n",
       "    <tr>\n",
       "      <th>0</th>\n",
       "      <td>org.jenkinsci.plugins.workflow.job.WorkflowRun</td>\n",
       "      <td>[{'_class': 'hudson.model.CauseAction'}, {'_cl...</td>\n",
       "      <td>False</td>\n",
       "      <td>check only: false, diff: false</td>\n",
       "      <td>74461</td>\n",
       "      <td>Energy-Operations » XBID Ansible Jobs » XBID A...</td>\n",
       "      <td>965</td>\n",
       "      <td>965</td>\n",
       "      <td>FAILURE</td>\n",
       "      <td>1620719831069</td>\n",
       "      <td>cute</td>\n",
       "      <td>deploy</td>\n",
       "    </tr>\n",
       "    <tr>\n",
       "      <th>8</th>\n",
       "      <td>org.jenkinsci.plugins.workflow.job.WorkflowRun</td>\n",
       "      <td>[{'_class': 'hudson.model.CauseAction'}, {'_cl...</td>\n",
       "      <td>False</td>\n",
       "      <td>check only: false, diff: true</td>\n",
       "      <td>44420</td>\n",
       "      <td>Energy-Operations » XBID Ansible Jobs » XBID A...</td>\n",
       "      <td>957</td>\n",
       "      <td>957</td>\n",
       "      <td>SUCCESS</td>\n",
       "      <td>1620644564449</td>\n",
       "      <td>prod</td>\n",
       "      <td>deploy</td>\n",
       "    </tr>\n",
       "    <tr>\n",
       "      <th>10</th>\n",
       "      <td>org.jenkinsci.plugins.workflow.job.WorkflowRun</td>\n",
       "      <td>[{}, {'_class': 'hudson.model.CauseAction'}, {...</td>\n",
       "      <td>False</td>\n",
       "      <td>check only: false, diff: true</td>\n",
       "      <td>43255</td>\n",
       "      <td>Energy-Operations » XBID Ansible Jobs » XBID A...</td>\n",
       "      <td>955</td>\n",
       "      <td>955</td>\n",
       "      <td>SUCCESS</td>\n",
       "      <td>1620395092802</td>\n",
       "      <td>prod</td>\n",
       "      <td>deploy</td>\n",
       "    </tr>\n",
       "    <tr>\n",
       "      <th>11</th>\n",
       "      <td>org.jenkinsci.plugins.workflow.job.WorkflowRun</td>\n",
       "      <td>[{'_class': 'hudson.model.CauseAction'}, {'_cl...</td>\n",
       "      <td>False</td>\n",
       "      <td>check only: false, diff: true</td>\n",
       "      <td>30281</td>\n",
       "      <td>Energy-Operations » XBID Ansible Jobs » XBID A...</td>\n",
       "      <td>954</td>\n",
       "      <td>954</td>\n",
       "      <td>FAILURE</td>\n",
       "      <td>1620394810666</td>\n",
       "      <td>prod</td>\n",
       "      <td>deploy</td>\n",
       "    </tr>\n",
       "    <tr>\n",
       "      <th>21</th>\n",
       "      <td>org.jenkinsci.plugins.workflow.job.WorkflowRun</td>\n",
       "      <td>[{'_class': 'hudson.model.CauseAction'}, {'_cl...</td>\n",
       "      <td>False</td>\n",
       "      <td>check only: false, diff: true</td>\n",
       "      <td>43214</td>\n",
       "      <td>Energy-Operations » XBID Ansible Jobs » XBID A...</td>\n",
       "      <td>944</td>\n",
       "      <td>944</td>\n",
       "      <td>SUCCESS</td>\n",
       "      <td>1620214019191</td>\n",
       "      <td>prod</td>\n",
       "      <td>deploy</td>\n",
       "    </tr>\n",
       "    <tr>\n",
       "      <th>...</th>\n",
       "      <td>...</td>\n",
       "      <td>...</td>\n",
       "      <td>...</td>\n",
       "      <td>...</td>\n",
       "      <td>...</td>\n",
       "      <td>...</td>\n",
       "      <td>...</td>\n",
       "      <td>...</td>\n",
       "      <td>...</td>\n",
       "      <td>...</td>\n",
       "      <td>...</td>\n",
       "      <td>...</td>\n",
       "    </tr>\n",
       "    <tr>\n",
       "      <th>894</th>\n",
       "      <td>org.jenkinsci.plugins.workflow.job.WorkflowRun</td>\n",
       "      <td>[{'_class': 'hudson.model.CauseAction'}, {'_cl...</td>\n",
       "      <td>False</td>\n",
       "      <td>check only: false, diff: false</td>\n",
       "      <td>56061</td>\n",
       "      <td>Energy-Operations » XBID Ansible Jobs » XBID A...</td>\n",
       "      <td>71</td>\n",
       "      <td>71</td>\n",
       "      <td>SUCCESS</td>\n",
       "      <td>1600153816824</td>\n",
       "      <td>simu</td>\n",
       "      <td>deploy</td>\n",
       "    </tr>\n",
       "    <tr>\n",
       "      <th>895</th>\n",
       "      <td>org.jenkinsci.plugins.workflow.job.WorkflowRun</td>\n",
       "      <td>[{'_class': 'hudson.model.CauseAction'}, {'_cl...</td>\n",
       "      <td>False</td>\n",
       "      <td>check only: false, diff: false</td>\n",
       "      <td>47458</td>\n",
       "      <td>Energy-Operations » XBID Ansible Jobs » XBID A...</td>\n",
       "      <td>70</td>\n",
       "      <td>70</td>\n",
       "      <td>SUCCESS</td>\n",
       "      <td>1599833163792</td>\n",
       "      <td>simu</td>\n",
       "      <td>deploy</td>\n",
       "    </tr>\n",
       "    <tr>\n",
       "      <th>905</th>\n",
       "      <td>org.jenkinsci.plugins.workflow.job.WorkflowRun</td>\n",
       "      <td>[{'_class': 'hudson.model.CauseAction'}, {'_cl...</td>\n",
       "      <td>False</td>\n",
       "      <td>check only: false, diff: true</td>\n",
       "      <td>34261</td>\n",
       "      <td>Energy-Operations » XBID Ansible Jobs » XBID A...</td>\n",
       "      <td>60</td>\n",
       "      <td>60</td>\n",
       "      <td>FAILURE</td>\n",
       "      <td>1599646294052</td>\n",
       "      <td>perf</td>\n",
       "      <td>deploy</td>\n",
       "    </tr>\n",
       "    <tr>\n",
       "      <th>910</th>\n",
       "      <td>org.jenkinsci.plugins.workflow.job.WorkflowRun</td>\n",
       "      <td>[{'_class': 'hudson.model.CauseAction'}, {'_cl...</td>\n",
       "      <td>False</td>\n",
       "      <td>check only: false, diff: false</td>\n",
       "      <td>42802</td>\n",
       "      <td>Energy-Operations » XBID Ansible Jobs » XBID A...</td>\n",
       "      <td>55</td>\n",
       "      <td>55</td>\n",
       "      <td>SUCCESS</td>\n",
       "      <td>1599204909381</td>\n",
       "      <td>simu</td>\n",
       "      <td>deploy</td>\n",
       "    </tr>\n",
       "    <tr>\n",
       "      <th>911</th>\n",
       "      <td>org.jenkinsci.plugins.workflow.job.WorkflowRun</td>\n",
       "      <td>[{'_class': 'hudson.model.CauseAction'}, {'_cl...</td>\n",
       "      <td>False</td>\n",
       "      <td>check only: false, diff: false</td>\n",
       "      <td>4585</td>\n",
       "      <td>Energy-Operations » XBID Ansible Jobs » XBID A...</td>\n",
       "      <td>54</td>\n",
       "      <td>54</td>\n",
       "      <td>FAILURE</td>\n",
       "      <td>1599204849312</td>\n",
       "      <td>simu</td>\n",
       "      <td>deploy</td>\n",
       "    </tr>\n",
       "  </tbody>\n",
       "</table>\n",
       "<p>220 rows × 12 columns</p>\n",
       "</div>"
      ],
      "text/plain": [
       "                                             _class  \\\n",
       "0    org.jenkinsci.plugins.workflow.job.WorkflowRun   \n",
       "8    org.jenkinsci.plugins.workflow.job.WorkflowRun   \n",
       "10   org.jenkinsci.plugins.workflow.job.WorkflowRun   \n",
       "11   org.jenkinsci.plugins.workflow.job.WorkflowRun   \n",
       "21   org.jenkinsci.plugins.workflow.job.WorkflowRun   \n",
       "..                                              ...   \n",
       "894  org.jenkinsci.plugins.workflow.job.WorkflowRun   \n",
       "895  org.jenkinsci.plugins.workflow.job.WorkflowRun   \n",
       "905  org.jenkinsci.plugins.workflow.job.WorkflowRun   \n",
       "910  org.jenkinsci.plugins.workflow.job.WorkflowRun   \n",
       "911  org.jenkinsci.plugins.workflow.job.WorkflowRun   \n",
       "\n",
       "                                               actions  building  \\\n",
       "0    [{'_class': 'hudson.model.CauseAction'}, {'_cl...     False   \n",
       "8    [{'_class': 'hudson.model.CauseAction'}, {'_cl...     False   \n",
       "10   [{}, {'_class': 'hudson.model.CauseAction'}, {...     False   \n",
       "11   [{'_class': 'hudson.model.CauseAction'}, {'_cl...     False   \n",
       "21   [{'_class': 'hudson.model.CauseAction'}, {'_cl...     False   \n",
       "..                                                 ...       ...   \n",
       "894  [{'_class': 'hudson.model.CauseAction'}, {'_cl...     False   \n",
       "895  [{'_class': 'hudson.model.CauseAction'}, {'_cl...     False   \n",
       "905  [{'_class': 'hudson.model.CauseAction'}, {'_cl...     False   \n",
       "910  [{'_class': 'hudson.model.CauseAction'}, {'_cl...     False   \n",
       "911  [{'_class': 'hudson.model.CauseAction'}, {'_cl...     False   \n",
       "\n",
       "                        description  duration  \\\n",
       "0    check only: false, diff: false     74461   \n",
       "8     check only: false, diff: true     44420   \n",
       "10    check only: false, diff: true     43255   \n",
       "11    check only: false, diff: true     30281   \n",
       "21    check only: false, diff: true     43214   \n",
       "..                              ...       ...   \n",
       "894  check only: false, diff: false     56061   \n",
       "895  check only: false, diff: false     47458   \n",
       "905   check only: false, diff: true     34261   \n",
       "910  check only: false, diff: false     42802   \n",
       "911  check only: false, diff: false      4585   \n",
       "\n",
       "                                       fullDisplayName   id  number   result  \\\n",
       "0    Energy-Operations » XBID Ansible Jobs » XBID A...  965     965  FAILURE   \n",
       "8    Energy-Operations » XBID Ansible Jobs » XBID A...  957     957  SUCCESS   \n",
       "10   Energy-Operations » XBID Ansible Jobs » XBID A...  955     955  SUCCESS   \n",
       "11   Energy-Operations » XBID Ansible Jobs » XBID A...  954     954  FAILURE   \n",
       "21   Energy-Operations » XBID Ansible Jobs » XBID A...  944     944  SUCCESS   \n",
       "..                                                 ...  ...     ...      ...   \n",
       "894  Energy-Operations » XBID Ansible Jobs » XBID A...   71      71  SUCCESS   \n",
       "895  Energy-Operations » XBID Ansible Jobs » XBID A...   70      70  SUCCESS   \n",
       "905  Energy-Operations » XBID Ansible Jobs » XBID A...   60      60  FAILURE   \n",
       "910  Energy-Operations » XBID Ansible Jobs » XBID A...   55      55  SUCCESS   \n",
       "911  Energy-Operations » XBID Ansible Jobs » XBID A...   54      54  FAILURE   \n",
       "\n",
       "         timestamp Environment  Action  \n",
       "0    1620719831069        cute  deploy  \n",
       "8    1620644564449        prod  deploy  \n",
       "10   1620395092802        prod  deploy  \n",
       "11   1620394810666        prod  deploy  \n",
       "21   1620214019191        prod  deploy  \n",
       "..             ...         ...     ...  \n",
       "894  1600153816824        simu  deploy  \n",
       "895  1599833163792        simu  deploy  \n",
       "905  1599646294052        perf  deploy  \n",
       "910  1599204909381        simu  deploy  \n",
       "911  1599204849312        simu  deploy  \n",
       "\n",
       "[220 rows x 12 columns]"
      ]
     },
     "execution_count": 215,
     "metadata": {},
     "output_type": "execute_result"
    }
   ],
   "source": [
    "df5 = builds[(builds['description'] == \"check only: false, diff: false\") | (builds['description'] == \"check only: false, diff: true\")]  \n",
    "df6 =  df5[df5['Action'] == \"deploy\"]\n",
    "df6\n",
    "\n"
   ]
  },
  {
   "cell_type": "code",
   "execution_count": 223,
   "metadata": {},
   "outputs": [
    {
     "data": {
      "text/plain": [
       "'2021-05-11 07:14:07.287000'"
      ]
     },
     "execution_count": 223,
     "metadata": {},
     "output_type": "execute_result"
    }
   ],
   "source": [
    "import pandas\n",
    "result_ms=pandas.to_datetime('1620717247287',unit='ms')\n",
    "str(result_ms)\n",
    "\n",
    "\n",
    "pd.to_datetime(data[\"Resolved\"],dayfirst =True, errors ='coerce')\n",
    "    data['Resolved'] = data['Resolved'].fillna(method='ffill')\n",
    "    data[\"year\"] = data[\"Resolved\"].apply(lambda x: x.year)\n",
    "    data[\"month\"] = data[\"Resolved\"].apply(lambda x: x.month)\n",
    "    data[\"day\"] = data[\"Resolved\"].apply(lambda x: x.day)\n",
    "    data[\"Resolved\"] = data[\"Resolved\"].apply(lambda x: x.date())\n"
   ]
  },
  {
   "cell_type": "code",
   "execution_count": 253,
   "metadata": {
    "tags": []
   },
   "outputs": [
    {
     "data": {
      "text/plain": [
       "0     00:01:14\n",
       "1     00:00:13\n",
       "2     00:01:00\n",
       "3     00:00:12\n",
       "4     00:00:11\n",
       "5     00:00:32\n",
       "6     00:00:12\n",
       "7     00:00:07\n",
       "8     00:00:44\n",
       "9     00:00:42\n",
       "10    00:00:43\n",
       "11    00:00:30\n",
       "12    00:00:08\n",
       "13    00:00:07\n",
       "14    00:01:23\n",
       "15    00:00:17\n",
       "16    00:00:06\n",
       "17    00:01:13\n",
       "18    00:00:53\n",
       "19    00:00:53\n",
       "20    00:00:17\n",
       "21    00:00:43\n",
       "22    00:00:12\n",
       "23    00:01:33\n",
       "24    00:00:47\n",
       "25    00:00:25\n",
       "26    00:00:29\n",
       "27    00:00:09\n",
       "28    00:01:00\n",
       "29    00:01:42\n",
       "30    00:00:08\n",
       "31    00:00:22\n",
       "32    00:00:06\n",
       "33    00:00:08\n",
       "34    00:00:13\n",
       "35    00:01:51\n",
       "36    00:00:27\n",
       "37    00:00:32\n",
       "38    00:01:31\n",
       "39    00:00:34\n",
       "40    00:03:04\n",
       "41    00:00:14\n",
       "42    00:03:06\n",
       "43    00:00:32\n",
       "44    00:01:13\n",
       "45    00:00:15\n",
       "46    00:00:49\n",
       "47    00:00:28\n",
       "48    00:00:28\n",
       "49    00:00:31\n",
       "Name: duration, dtype: object"
      ]
     },
     "execution_count": 253,
     "metadata": {},
     "output_type": "execute_result"
    }
   ],
   "source": [
    "a = []\n",
    "# for i in builds['timestamp']:\n",
    "#         a.append(pandas.to_datetime(i,unit='ms'))\n",
    "\n",
    "a = pd.to_datetime(builds['duration'], unit='ms')# a.apply(lambda x: x.date())\n",
    "a = a.dt.strftime('%H:%M:%S')\n",
    "a.head(50)"
   ]
  },
  {
   "cell_type": "code",
   "execution_count": 222,
   "metadata": {
    "tags": []
   },
   "outputs": [
    {
     "name": "stdout",
     "output_type": "stream",
     "text": [
      "=== 1069 ===\n",
      "=== 1068 ===\n",
      "=== 1067 ===\n",
      "=== 1066 ===\n",
      "=== 1065 ===\n",
      "=== 1064 ===\n",
      "=== 1063 ===\n",
      "=== 1062 ===\n",
      "=== 1061 ===\n",
      "=== 1060 ===\n",
      "=== 1059 ===\n",
      "=== 1058 ===\n",
      "=== 1057 ===\n",
      "=== 1056 ===\n",
      "=== 1055 ===\n",
      "=== 1054 ===\n",
      "=== 1053 ===\n",
      "=== 1052 ===\n",
      "=== 1051 ===\n",
      "=== 1050 ===\n",
      "=== 1049 ===\n",
      "=== 1048 ===\n",
      "=== 1047 ===\n",
      "=== 1046 ===\n",
      "=== 1045 ===\n",
      "=== 1044 ===\n",
      "=== 1043 ===\n",
      "=== 1042 ===\n",
      "=== 1041 ===\n",
      "=== 1040 ===\n",
      "=== 1039 ===\n",
      "=== 1038 ===\n",
      "=== 1037 ===\n",
      "=== 1036 ===\n",
      "=== 1035 ===\n",
      "=== 1034 ===\n",
      "=== 1033 ===\n",
      "=== 1032 ===\n",
      "=== 1031 ===\n",
      "=== 1030 ===\n",
      "=== 1029 ===\n",
      "=== 1028 ===\n",
      "=== 1027 ===\n",
      "=== 1026 ===\n",
      "=== 1025 ===\n",
      "=== 1024 ===\n",
      "=== 1023 ===\n",
      "=== 1022 ===\n",
      "=== 1021 ===\n",
      "=== 1020 ===\n",
      "=== 1019 ===\n",
      "=== 1018 ===\n",
      "=== 1017 ===\n",
      "=== 1016 ===\n",
      "=== 1015 ===\n",
      "=== 1014 ===\n",
      "=== 1013 ===\n",
      "=== 1012 ===\n",
      "=== 1011 ===\n",
      "=== 1010 ===\n",
      "=== 1009 ===\n",
      "=== 1008 ===\n",
      "=== 1007 ===\n",
      "=== 1006 ===\n",
      "=== 1005 ===\n",
      "=== 1004 ===\n",
      "=== 1003 ===\n",
      "=== 1002 ===\n",
      "=== 1001 ===\n",
      "=== 1000 ===\n",
      "=== 999 ===\n",
      "=== 998 ===\n",
      "=== 997 ===\n",
      "=== 996 ===\n",
      "=== 995 ===\n",
      "=== 994 ===\n",
      "=== 993 ===\n",
      "=== 992 ===\n",
      "=== 991 ===\n",
      "=== 990 ===\n",
      "=== 989 ===\n",
      "=== 988 ===\n",
      "=== 987 ===\n",
      "=== 986 ===\n",
      "=== 985 ===\n",
      "=== 984 ===\n",
      "=== 983 ===\n",
      "=== 982 ===\n",
      "=== 981 ===\n",
      "=== 980 ===\n",
      "=== 979 ===\n",
      "=== 978 ===\n",
      "=== 977 ===\n",
      "=== 976 ===\n",
      "=== 975 ===\n",
      "=== 974 ===\n",
      "=== 973 ===\n",
      "=== 972 ===\n",
      "=== 971 ===\n",
      "=== 970 ===\n"
     ]
    }
   ],
   "source": [
    "from pprint import pprint\n",
    "import os\n",
    "from requests import Session\n",
    "session = Session()\n",
    "session.auth = (\"oh856\",\"112f71f82cc3d562f1e8b24fadd9cd2a78\")\n",
    "# Get job info\n",
    "resp = session.get(\"https://englobjci1.deutsche-boerse.de/job/Energy-Operations/job/CD-Pipeline/job/M7T_deploy_full/api/json\")\n",
    "resp.raise_for_status()\n",
    "job = resp.json()\n",
    "EH = []\n",
    "\n",
    "# Get info for each build\n",
    "for build in job[\"builds\"]:\n",
    "    build_number = build[\"number\"]\n",
    "\n",
    "    # Get build details\n",
    "    resp = session.get(f\"{build['url']}/api/json\")\n",
    "    resp.raise_for_status()\n",
    "    build_details = resp.json()\n",
    "    # Find action \"ParametersAction\"\n",
    "    for action in build_details[\"actions\"]:\n",
    "        if action.get(\"_class\") == \"hudson.model.ParametersAction\":\n",
    "            parameters = {\n",
    "                param[\"name\"]: param[\"value\"]\n",
    "                for param in action[\"parameters\"]\n",
    "            }\n",
    "            break\n",
    "    else:\n",
    "        parameters = {}\n",
    "    print(\"===\", build_number, \"===\")\n",
    "    EH.append(pd.Series(parameters))   "
   ]
  },
  {
   "cell_type": "code",
   "execution_count": 233,
   "metadata": {},
   "outputs": [],
   "source": [
    "M7T = pd.DataFrame(EH)\n",
    "# M7T = M7T[M7T.check == False]"
   ]
  },
  {
   "cell_type": "code",
   "execution_count": 235,
   "metadata": {},
   "outputs": [
    {
     "data": {
      "text/html": [
       "<div>\n",
       "<style scoped>\n",
       "    .dataframe tbody tr th:only-of-type {\n",
       "        vertical-align: middle;\n",
       "    }\n",
       "\n",
       "    .dataframe tbody tr th {\n",
       "        vertical-align: top;\n",
       "    }\n",
       "\n",
       "    .dataframe thead th {\n",
       "        text-align: right;\n",
       "    }\n",
       "</style>\n",
       "<table border=\"1\" class=\"dataframe\">\n",
       "  <thead>\n",
       "    <tr style=\"text-align: right;\">\n",
       "      <th></th>\n",
       "      <th>_class</th>\n",
       "      <th>actions</th>\n",
       "      <th>building</th>\n",
       "      <th>description</th>\n",
       "      <th>duration</th>\n",
       "      <th>fullDisplayName</th>\n",
       "      <th>id</th>\n",
       "      <th>number</th>\n",
       "      <th>result</th>\n",
       "      <th>timestamp</th>\n",
       "      <th>Environment</th>\n",
       "    </tr>\n",
       "  </thead>\n",
       "  <tbody>\n",
       "    <tr>\n",
       "      <th>0</th>\n",
       "      <td>org.jenkinsci.plugins.workflow.job.WorkflowRun</td>\n",
       "      <td>[{'_class': 'hudson.model.CauseAction'}, {}, {...</td>\n",
       "      <td>False</td>\n",
       "      <td>None</td>\n",
       "      <td>89266</td>\n",
       "      <td>Energy-Operations » CD-Pipeline » M7T_deploy_f...</td>\n",
       "      <td>1069</td>\n",
       "      <td>1069</td>\n",
       "      <td>FAILURE</td>\n",
       "      <td>1620769647343</td>\n",
       "      <td>shrd-ate3</td>\n",
       "    </tr>\n",
       "    <tr>\n",
       "      <th>1</th>\n",
       "      <td>org.jenkinsci.plugins.workflow.job.WorkflowRun</td>\n",
       "      <td>[{'_class': 'hudson.model.ParametersAction', '...</td>\n",
       "      <td>False</td>\n",
       "      <td>None</td>\n",
       "      <td>81457</td>\n",
       "      <td>Energy-Operations » CD-Pipeline » M7T_deploy_f...</td>\n",
       "      <td>1068</td>\n",
       "      <td>1068</td>\n",
       "      <td>FAILURE</td>\n",
       "      <td>1620756624770</td>\n",
       "      <td>elts-prod</td>\n",
       "    </tr>\n",
       "    <tr>\n",
       "      <th>2</th>\n",
       "      <td>org.jenkinsci.plugins.workflow.job.WorkflowRun</td>\n",
       "      <td>[{'_class': 'hudson.model.ParametersAction', '...</td>\n",
       "      <td>False</td>\n",
       "      <td>None</td>\n",
       "      <td>13818</td>\n",
       "      <td>Energy-Operations » CD-Pipeline » M7T_deploy_f...</td>\n",
       "      <td>1067</td>\n",
       "      <td>1067</td>\n",
       "      <td>FAILURE</td>\n",
       "      <td>1620756400337</td>\n",
       "      <td>elts-prod</td>\n",
       "    </tr>\n",
       "    <tr>\n",
       "      <th>3</th>\n",
       "      <td>org.jenkinsci.plugins.workflow.job.WorkflowRun</td>\n",
       "      <td>[{'_class': 'hudson.model.CauseAction'}, {'_cl...</td>\n",
       "      <td>False</td>\n",
       "      <td>None</td>\n",
       "      <td>30240</td>\n",
       "      <td>Energy-Operations » CD-Pipeline » M7T_deploy_f...</td>\n",
       "      <td>1066</td>\n",
       "      <td>1066</td>\n",
       "      <td>FAILURE</td>\n",
       "      <td>1620755735823</td>\n",
       "      <td>elts-prod</td>\n",
       "    </tr>\n",
       "    <tr>\n",
       "      <th>4</th>\n",
       "      <td>org.jenkinsci.plugins.workflow.job.WorkflowRun</td>\n",
       "      <td>[{'_class': 'hudson.model.ParametersAction', '...</td>\n",
       "      <td>False</td>\n",
       "      <td>None</td>\n",
       "      <td>24718</td>\n",
       "      <td>Energy-Operations » CD-Pipeline » M7T_deploy_f...</td>\n",
       "      <td>1065</td>\n",
       "      <td>1065</td>\n",
       "      <td>SUCCESS</td>\n",
       "      <td>1620755677867</td>\n",
       "      <td>elts-prod</td>\n",
       "    </tr>\n",
       "    <tr>\n",
       "      <th>...</th>\n",
       "      <td>...</td>\n",
       "      <td>...</td>\n",
       "      <td>...</td>\n",
       "      <td>...</td>\n",
       "      <td>...</td>\n",
       "      <td>...</td>\n",
       "      <td>...</td>\n",
       "      <td>...</td>\n",
       "      <td>...</td>\n",
       "      <td>...</td>\n",
       "      <td>...</td>\n",
       "    </tr>\n",
       "    <tr>\n",
       "      <th>1064</th>\n",
       "      <td>org.jenkinsci.plugins.workflow.job.WorkflowRun</td>\n",
       "      <td>[{'_class': 'hudson.model.ParametersAction', '...</td>\n",
       "      <td>False</td>\n",
       "      <td>None</td>\n",
       "      <td>34614</td>\n",
       "      <td>Energy-Operations » CD-Pipeline » M7T_deploy_f...</td>\n",
       "      <td>5</td>\n",
       "      <td>5</td>\n",
       "      <td>SUCCESS</td>\n",
       "      <td>1572450729539</td>\n",
       "      <td>hupx-simu</td>\n",
       "    </tr>\n",
       "    <tr>\n",
       "      <th>1065</th>\n",
       "      <td>org.jenkinsci.plugins.workflow.job.WorkflowRun</td>\n",
       "      <td>[{'_class': 'hudson.model.CauseAction'}, {}, {...</td>\n",
       "      <td>False</td>\n",
       "      <td>None</td>\n",
       "      <td>31979</td>\n",
       "      <td>Energy-Operations » CD-Pipeline » M7T_deploy_f...</td>\n",
       "      <td>4</td>\n",
       "      <td>4</td>\n",
       "      <td>SUCCESS</td>\n",
       "      <td>1572363385140</td>\n",
       "      <td></td>\n",
       "    </tr>\n",
       "    <tr>\n",
       "      <th>1066</th>\n",
       "      <td>org.jenkinsci.plugins.workflow.job.WorkflowRun</td>\n",
       "      <td>[{'_class': 'hudson.model.CauseAction'}, {}, {...</td>\n",
       "      <td>False</td>\n",
       "      <td>None</td>\n",
       "      <td>37291</td>\n",
       "      <td>Energy-Operations » CD-Pipeline » M7T_deploy_f...</td>\n",
       "      <td>3</td>\n",
       "      <td>3</td>\n",
       "      <td>SUCCESS</td>\n",
       "      <td>1572363285131</td>\n",
       "      <td></td>\n",
       "    </tr>\n",
       "    <tr>\n",
       "      <th>1067</th>\n",
       "      <td>org.jenkinsci.plugins.workflow.job.WorkflowRun</td>\n",
       "      <td>[{'_class': 'hudson.model.CauseAction'}, {'_cl...</td>\n",
       "      <td>False</td>\n",
       "      <td>None</td>\n",
       "      <td>266299</td>\n",
       "      <td>Energy-Operations » CD-Pipeline » M7T_deploy_f...</td>\n",
       "      <td>2</td>\n",
       "      <td>2</td>\n",
       "      <td>FAILURE</td>\n",
       "      <td>1572268439678</td>\n",
       "      <td>elts-ctpb</td>\n",
       "    </tr>\n",
       "    <tr>\n",
       "      <th>1068</th>\n",
       "      <td>org.jenkinsci.plugins.workflow.job.WorkflowRun</td>\n",
       "      <td>[{'_class': 'hudson.model.ParametersAction', '...</td>\n",
       "      <td>False</td>\n",
       "      <td>None</td>\n",
       "      <td>292</td>\n",
       "      <td>Energy-Operations » CD-Pipeline » M7T_deploy_f...</td>\n",
       "      <td>1</td>\n",
       "      <td>1</td>\n",
       "      <td>FAILURE</td>\n",
       "      <td>1572268389281</td>\n",
       "      <td>elts-ctpb</td>\n",
       "    </tr>\n",
       "  </tbody>\n",
       "</table>\n",
       "<p>1069 rows × 11 columns</p>\n",
       "</div>"
      ],
      "text/plain": [
       "                                              _class  \\\n",
       "0     org.jenkinsci.plugins.workflow.job.WorkflowRun   \n",
       "1     org.jenkinsci.plugins.workflow.job.WorkflowRun   \n",
       "2     org.jenkinsci.plugins.workflow.job.WorkflowRun   \n",
       "3     org.jenkinsci.plugins.workflow.job.WorkflowRun   \n",
       "4     org.jenkinsci.plugins.workflow.job.WorkflowRun   \n",
       "...                                              ...   \n",
       "1064  org.jenkinsci.plugins.workflow.job.WorkflowRun   \n",
       "1065  org.jenkinsci.plugins.workflow.job.WorkflowRun   \n",
       "1066  org.jenkinsci.plugins.workflow.job.WorkflowRun   \n",
       "1067  org.jenkinsci.plugins.workflow.job.WorkflowRun   \n",
       "1068  org.jenkinsci.plugins.workflow.job.WorkflowRun   \n",
       "\n",
       "                                                actions  building description  \\\n",
       "0     [{'_class': 'hudson.model.CauseAction'}, {}, {...     False        None   \n",
       "1     [{'_class': 'hudson.model.ParametersAction', '...     False        None   \n",
       "2     [{'_class': 'hudson.model.ParametersAction', '...     False        None   \n",
       "3     [{'_class': 'hudson.model.CauseAction'}, {'_cl...     False        None   \n",
       "4     [{'_class': 'hudson.model.ParametersAction', '...     False        None   \n",
       "...                                                 ...       ...         ...   \n",
       "1064  [{'_class': 'hudson.model.ParametersAction', '...     False        None   \n",
       "1065  [{'_class': 'hudson.model.CauseAction'}, {}, {...     False        None   \n",
       "1066  [{'_class': 'hudson.model.CauseAction'}, {}, {...     False        None   \n",
       "1067  [{'_class': 'hudson.model.CauseAction'}, {'_cl...     False        None   \n",
       "1068  [{'_class': 'hudson.model.ParametersAction', '...     False        None   \n",
       "\n",
       "      duration                                    fullDisplayName    id  \\\n",
       "0        89266  Energy-Operations » CD-Pipeline » M7T_deploy_f...  1069   \n",
       "1        81457  Energy-Operations » CD-Pipeline » M7T_deploy_f...  1068   \n",
       "2        13818  Energy-Operations » CD-Pipeline » M7T_deploy_f...  1067   \n",
       "3        30240  Energy-Operations » CD-Pipeline » M7T_deploy_f...  1066   \n",
       "4        24718  Energy-Operations » CD-Pipeline » M7T_deploy_f...  1065   \n",
       "...        ...                                                ...   ...   \n",
       "1064     34614  Energy-Operations » CD-Pipeline » M7T_deploy_f...     5   \n",
       "1065     31979  Energy-Operations » CD-Pipeline » M7T_deploy_f...     4   \n",
       "1066     37291  Energy-Operations » CD-Pipeline » M7T_deploy_f...     3   \n",
       "1067    266299  Energy-Operations » CD-Pipeline » M7T_deploy_f...     2   \n",
       "1068       292  Energy-Operations » CD-Pipeline » M7T_deploy_f...     1   \n",
       "\n",
       "      number   result      timestamp Environment  \n",
       "0       1069  FAILURE  1620769647343   shrd-ate3  \n",
       "1       1068  FAILURE  1620756624770   elts-prod  \n",
       "2       1067  FAILURE  1620756400337   elts-prod  \n",
       "3       1066  FAILURE  1620755735823   elts-prod  \n",
       "4       1065  SUCCESS  1620755677867   elts-prod  \n",
       "...      ...      ...            ...         ...  \n",
       "1064       5  SUCCESS  1572450729539   hupx-simu  \n",
       "1065       4  SUCCESS  1572363385140              \n",
       "1066       3  SUCCESS  1572363285131              \n",
       "1067       2  FAILURE  1572268439678   elts-ctpb  \n",
       "1068       1  FAILURE  1572268389281   elts-ctpb  \n",
       "\n",
       "[1069 rows x 11 columns]"
      ]
     },
     "execution_count": 235,
     "metadata": {},
     "output_type": "execute_result"
    }
   ],
   "source": [
    "builds_M7T"
   ]
  },
  {
   "cell_type": "code",
   "execution_count": 234,
   "metadata": {},
   "outputs": [
    {
     "data": {
      "text/html": [
       "<div>\n",
       "<style scoped>\n",
       "    .dataframe tbody tr th:only-of-type {\n",
       "        vertical-align: middle;\n",
       "    }\n",
       "\n",
       "    .dataframe tbody tr th {\n",
       "        vertical-align: top;\n",
       "    }\n",
       "\n",
       "    .dataframe thead th {\n",
       "        text-align: right;\n",
       "    }\n",
       "</style>\n",
       "<table border=\"1\" class=\"dataframe\">\n",
       "  <thead>\n",
       "    <tr style=\"text-align: right;\">\n",
       "      <th></th>\n",
       "      <th>m7env</th>\n",
       "      <th>email_rcpt</th>\n",
       "      <th>m7p_version</th>\n",
       "      <th>cor_version</th>\n",
       "      <th>enq_version</th>\n",
       "      <th>rep_version</th>\n",
       "      <th>h2h_version</th>\n",
       "      <th>mtt_version</th>\n",
       "      <th>cod_version</th>\n",
       "      <th>car_version</th>\n",
       "      <th>...</th>\n",
       "      <th>listHosts</th>\n",
       "      <th>listTasks</th>\n",
       "      <th>skipFlyway</th>\n",
       "      <th>skipFlywayEnv</th>\n",
       "      <th>hrv_version</th>\n",
       "      <th>sta_version</th>\n",
       "      <th>skipVersionInfo</th>\n",
       "      <th>m7t_version</th>\n",
       "      <th>list</th>\n",
       "      <th>cleanDB</th>\n",
       "    </tr>\n",
       "  </thead>\n",
       "  <tbody>\n",
       "    <tr>\n",
       "      <th>0</th>\n",
       "      <td>shrd-ate3</td>\n",
       "      <td></td>\n",
       "      <td>6.12.18</td>\n",
       "      <td></td>\n",
       "      <td></td>\n",
       "      <td></td>\n",
       "      <td></td>\n",
       "      <td></td>\n",
       "      <td></td>\n",
       "      <td></td>\n",
       "      <td>...</td>\n",
       "      <td>False</td>\n",
       "      <td>False</td>\n",
       "      <td>False</td>\n",
       "      <td>False</td>\n",
       "      <td></td>\n",
       "      <td></td>\n",
       "      <td>False</td>\n",
       "      <td>NaN</td>\n",
       "      <td>NaN</td>\n",
       "      <td>NaN</td>\n",
       "    </tr>\n",
       "    <tr>\n",
       "      <th>1</th>\n",
       "      <td>elts-prod</td>\n",
       "      <td></td>\n",
       "      <td>6.10.285</td>\n",
       "      <td></td>\n",
       "      <td></td>\n",
       "      <td></td>\n",
       "      <td></td>\n",
       "      <td></td>\n",
       "      <td></td>\n",
       "      <td></td>\n",
       "      <td>...</td>\n",
       "      <td>False</td>\n",
       "      <td>False</td>\n",
       "      <td>False</td>\n",
       "      <td>False</td>\n",
       "      <td></td>\n",
       "      <td></td>\n",
       "      <td>False</td>\n",
       "      <td>NaN</td>\n",
       "      <td>NaN</td>\n",
       "      <td>NaN</td>\n",
       "    </tr>\n",
       "    <tr>\n",
       "      <th>2</th>\n",
       "      <td>elts-prod</td>\n",
       "      <td></td>\n",
       "      <td>6.10.285</td>\n",
       "      <td></td>\n",
       "      <td></td>\n",
       "      <td></td>\n",
       "      <td></td>\n",
       "      <td></td>\n",
       "      <td></td>\n",
       "      <td></td>\n",
       "      <td>...</td>\n",
       "      <td>False</td>\n",
       "      <td>False</td>\n",
       "      <td>False</td>\n",
       "      <td>False</td>\n",
       "      <td></td>\n",
       "      <td></td>\n",
       "      <td>False</td>\n",
       "      <td>NaN</td>\n",
       "      <td>NaN</td>\n",
       "      <td>NaN</td>\n",
       "    </tr>\n",
       "    <tr>\n",
       "      <th>3</th>\n",
       "      <td>elts-prod</td>\n",
       "      <td></td>\n",
       "      <td></td>\n",
       "      <td></td>\n",
       "      <td></td>\n",
       "      <td></td>\n",
       "      <td></td>\n",
       "      <td></td>\n",
       "      <td></td>\n",
       "      <td></td>\n",
       "      <td>...</td>\n",
       "      <td>False</td>\n",
       "      <td>False</td>\n",
       "      <td>False</td>\n",
       "      <td>False</td>\n",
       "      <td></td>\n",
       "      <td></td>\n",
       "      <td>False</td>\n",
       "      <td>NaN</td>\n",
       "      <td>NaN</td>\n",
       "      <td>NaN</td>\n",
       "    </tr>\n",
       "    <tr>\n",
       "      <th>4</th>\n",
       "      <td>elts-prod</td>\n",
       "      <td></td>\n",
       "      <td></td>\n",
       "      <td></td>\n",
       "      <td></td>\n",
       "      <td></td>\n",
       "      <td></td>\n",
       "      <td></td>\n",
       "      <td></td>\n",
       "      <td></td>\n",
       "      <td>...</td>\n",
       "      <td>True</td>\n",
       "      <td>False</td>\n",
       "      <td>False</td>\n",
       "      <td>False</td>\n",
       "      <td></td>\n",
       "      <td></td>\n",
       "      <td>False</td>\n",
       "      <td>NaN</td>\n",
       "      <td>NaN</td>\n",
       "      <td>NaN</td>\n",
       "    </tr>\n",
       "    <tr>\n",
       "      <th>...</th>\n",
       "      <td>...</td>\n",
       "      <td>...</td>\n",
       "      <td>...</td>\n",
       "      <td>...</td>\n",
       "      <td>...</td>\n",
       "      <td>...</td>\n",
       "      <td>...</td>\n",
       "      <td>...</td>\n",
       "      <td>...</td>\n",
       "      <td>...</td>\n",
       "      <td>...</td>\n",
       "      <td>...</td>\n",
       "      <td>...</td>\n",
       "      <td>...</td>\n",
       "      <td>...</td>\n",
       "      <td>...</td>\n",
       "      <td>...</td>\n",
       "      <td>...</td>\n",
       "      <td>...</td>\n",
       "      <td>...</td>\n",
       "      <td>...</td>\n",
       "    </tr>\n",
       "    <tr>\n",
       "      <th>1064</th>\n",
       "      <td>hupx-simu</td>\n",
       "      <td>NaN</td>\n",
       "      <td>NaN</td>\n",
       "      <td>NaN</td>\n",
       "      <td>NaN</td>\n",
       "      <td></td>\n",
       "      <td></td>\n",
       "      <td>NaN</td>\n",
       "      <td>NaN</td>\n",
       "      <td>NaN</td>\n",
       "      <td>...</td>\n",
       "      <td>NaN</td>\n",
       "      <td>NaN</td>\n",
       "      <td>NaN</td>\n",
       "      <td>NaN</td>\n",
       "      <td>NaN</td>\n",
       "      <td>NaN</td>\n",
       "      <td>NaN</td>\n",
       "      <td></td>\n",
       "      <td>True</td>\n",
       "      <td>NaN</td>\n",
       "    </tr>\n",
       "    <tr>\n",
       "      <th>1065</th>\n",
       "      <td>shrd-show</td>\n",
       "      <td>NaN</td>\n",
       "      <td>NaN</td>\n",
       "      <td>NaN</td>\n",
       "      <td>NaN</td>\n",
       "      <td></td>\n",
       "      <td></td>\n",
       "      <td>NaN</td>\n",
       "      <td>NaN</td>\n",
       "      <td>NaN</td>\n",
       "      <td>...</td>\n",
       "      <td>NaN</td>\n",
       "      <td>NaN</td>\n",
       "      <td>NaN</td>\n",
       "      <td>NaN</td>\n",
       "      <td>NaN</td>\n",
       "      <td>NaN</td>\n",
       "      <td>NaN</td>\n",
       "      <td></td>\n",
       "      <td>True</td>\n",
       "      <td>NaN</td>\n",
       "    </tr>\n",
       "    <tr>\n",
       "      <th>1066</th>\n",
       "      <td>elts-ctpb</td>\n",
       "      <td>NaN</td>\n",
       "      <td>NaN</td>\n",
       "      <td>NaN</td>\n",
       "      <td>NaN</td>\n",
       "      <td></td>\n",
       "      <td></td>\n",
       "      <td>NaN</td>\n",
       "      <td>NaN</td>\n",
       "      <td>NaN</td>\n",
       "      <td>...</td>\n",
       "      <td>NaN</td>\n",
       "      <td>NaN</td>\n",
       "      <td>NaN</td>\n",
       "      <td>NaN</td>\n",
       "      <td>NaN</td>\n",
       "      <td>NaN</td>\n",
       "      <td>NaN</td>\n",
       "      <td></td>\n",
       "      <td>True</td>\n",
       "      <td>False</td>\n",
       "    </tr>\n",
       "    <tr>\n",
       "      <th>1067</th>\n",
       "      <td>elts-ctpb</td>\n",
       "      <td>NaN</td>\n",
       "      <td>NaN</td>\n",
       "      <td>NaN</td>\n",
       "      <td>NaN</td>\n",
       "      <td>6.4.13</td>\n",
       "      <td>2.0.9</td>\n",
       "      <td>NaN</td>\n",
       "      <td>NaN</td>\n",
       "      <td>NaN</td>\n",
       "      <td>...</td>\n",
       "      <td>NaN</td>\n",
       "      <td>NaN</td>\n",
       "      <td>NaN</td>\n",
       "      <td>NaN</td>\n",
       "      <td>NaN</td>\n",
       "      <td>NaN</td>\n",
       "      <td>NaN</td>\n",
       "      <td>6.8.34</td>\n",
       "      <td>False</td>\n",
       "      <td>True</td>\n",
       "    </tr>\n",
       "    <tr>\n",
       "      <th>1068</th>\n",
       "      <td>elts-ctpb</td>\n",
       "      <td>NaN</td>\n",
       "      <td>NaN</td>\n",
       "      <td>NaN</td>\n",
       "      <td>NaN</td>\n",
       "      <td>6.4.13</td>\n",
       "      <td>2.0.9</td>\n",
       "      <td>NaN</td>\n",
       "      <td>NaN</td>\n",
       "      <td>NaN</td>\n",
       "      <td>...</td>\n",
       "      <td>NaN</td>\n",
       "      <td>NaN</td>\n",
       "      <td>NaN</td>\n",
       "      <td>NaN</td>\n",
       "      <td>NaN</td>\n",
       "      <td>NaN</td>\n",
       "      <td>NaN</td>\n",
       "      <td>6.8.34</td>\n",
       "      <td>False</td>\n",
       "      <td>True</td>\n",
       "    </tr>\n",
       "  </tbody>\n",
       "</table>\n",
       "<p>1069 rows × 34 columns</p>\n",
       "</div>"
      ],
      "text/plain": [
       "          m7env email_rcpt m7p_version cor_version enq_version rep_version  \\\n",
       "0     shrd-ate3                6.12.18                                       \n",
       "1     elts-prod               6.10.285                                       \n",
       "2     elts-prod               6.10.285                                       \n",
       "3     elts-prod                                                              \n",
       "4     elts-prod                                                              \n",
       "...         ...        ...         ...         ...         ...         ...   \n",
       "1064  hupx-simu        NaN         NaN         NaN         NaN               \n",
       "1065  shrd-show        NaN         NaN         NaN         NaN               \n",
       "1066  elts-ctpb        NaN         NaN         NaN         NaN               \n",
       "1067  elts-ctpb        NaN         NaN         NaN         NaN      6.4.13   \n",
       "1068  elts-ctpb        NaN         NaN         NaN         NaN      6.4.13   \n",
       "\n",
       "     h2h_version mtt_version cod_version car_version  ... listHosts listTasks  \\\n",
       "0                                                     ...     False     False   \n",
       "1                                                     ...     False     False   \n",
       "2                                                     ...     False     False   \n",
       "3                                                     ...     False     False   \n",
       "4                                                     ...      True     False   \n",
       "...          ...         ...         ...         ...  ...       ...       ...   \n",
       "1064                     NaN         NaN         NaN  ...       NaN       NaN   \n",
       "1065                     NaN         NaN         NaN  ...       NaN       NaN   \n",
       "1066                     NaN         NaN         NaN  ...       NaN       NaN   \n",
       "1067       2.0.9         NaN         NaN         NaN  ...       NaN       NaN   \n",
       "1068       2.0.9         NaN         NaN         NaN  ...       NaN       NaN   \n",
       "\n",
       "     skipFlyway skipFlywayEnv hrv_version sta_version skipVersionInfo  \\\n",
       "0         False         False                                   False   \n",
       "1         False         False                                   False   \n",
       "2         False         False                                   False   \n",
       "3         False         False                                   False   \n",
       "4         False         False                                   False   \n",
       "...         ...           ...         ...         ...             ...   \n",
       "1064        NaN           NaN         NaN         NaN             NaN   \n",
       "1065        NaN           NaN         NaN         NaN             NaN   \n",
       "1066        NaN           NaN         NaN         NaN             NaN   \n",
       "1067        NaN           NaN         NaN         NaN             NaN   \n",
       "1068        NaN           NaN         NaN         NaN             NaN   \n",
       "\n",
       "     m7t_version   list cleanDB  \n",
       "0            NaN    NaN     NaN  \n",
       "1            NaN    NaN     NaN  \n",
       "2            NaN    NaN     NaN  \n",
       "3            NaN    NaN     NaN  \n",
       "4            NaN    NaN     NaN  \n",
       "...          ...    ...     ...  \n",
       "1064               True     NaN  \n",
       "1065               True     NaN  \n",
       "1066               True   False  \n",
       "1067      6.8.34  False    True  \n",
       "1068      6.8.34  False    True  \n",
       "\n",
       "[1069 rows x 34 columns]"
      ]
     },
     "execution_count": 234,
     "metadata": {},
     "output_type": "execute_result"
    }
   ],
   "source": []
  },
  {
   "cell_type": "code",
   "execution_count": 236,
   "metadata": {},
   "outputs": [],
   "source": [
    "M7T['duration'] = builds_M7T['duration']\n",
    "M7T['result'] = builds_M7T['result']\n",
    "M7T['timestamp'] = builds_M7T['timestamp']\n",
    "\n"
   ]
  },
  {
   "cell_type": "code",
   "execution_count": 287,
   "metadata": {},
   "outputs": [
    {
     "data": {
      "text/plain": [
       "Index(['m7env', 'email_rcpt', 'm7p_version', 'cor_version', 'enq_version',\n",
       "       'rep_version', 'h2h_version', 'mtt_version', 'cod_version',\n",
       "       'car_version', 'ct_version', 'amq_version', 'cleanDBCor', 'cleanDBRep',\n",
       "       'cleanDBMtt', 'stopApp', 'deployApp', 'startApp', 'deployCT',\n",
       "       'deployAmq', 'deployApa', 'deployHap', 'deployMon', 'check',\n",
       "       'listHosts', 'listTasks', 'skipFlyway', 'skipFlywayEnv', 'hrv_version',\n",
       "       'sta_version', 'skipVersionInfo', 'm7t_version', 'list', 'cleanDB',\n",
       "       'duration', 'result', 'timestamp'],\n",
       "      dtype='object')"
      ]
     },
     "execution_count": 287,
     "metadata": {},
     "output_type": "execute_result"
    }
   ],
   "source": [
    "M7T.columns"
   ]
  },
  {
   "cell_type": "code",
   "execution_count": 295,
   "metadata": {},
   "outputs": [
    {
     "data": {
      "text/plain": [
       "SUCCESS    605\n",
       "FAILURE    295\n",
       "ABORTED     22\n",
       "Name: result, dtype: int64"
      ]
     },
     "execution_count": 295,
     "metadata": {},
     "output_type": "execute_result"
    }
   ],
   "source": [
    "M7T['result'].value_counts()"
   ]
  },
  {
   "cell_type": "code",
   "execution_count": 224,
   "metadata": {
    "tags": []
   },
   "outputs": [
    {
     "name": "stdout",
     "output_type": "stream",
     "text": [
      "=== 1069 ===\n",
      "=== 1068 ===\n",
      "=== 1067 ===\n",
      "=== 1066 ===\n",
      "=== 1065 ===\n",
      "=== 1064 ===\n",
      "=== 1063 ===\n",
      "=== 1062 ===\n",
      "=== 1061 ===\n",
      "=== 1060 ===\n",
      "=== 1059 ===\n",
      "=== 1058 ===\n",
      "=== 1057 ===\n",
      "=== 1056 ===\n",
      "=== 1055 ===\n",
      "=== 1054 ===\n",
      "=== 1053 ===\n",
      "=== 1052 ===\n",
      "=== 1051 ===\n",
      "=== 1050 ===\n",
      "=== 1049 ===\n",
      "=== 1048 ===\n",
      "=== 1047 ===\n",
      "=== 1046 ===\n",
      "=== 1045 ===\n",
      "=== 1044 ===\n",
      "=== 1043 ===\n",
      "=== 1042 ===\n",
      "=== 1041 ===\n",
      "=== 1040 ===\n",
      "=== 1039 ===\n",
      "=== 1038 ===\n",
      "=== 1037 ===\n",
      "=== 1036 ===\n",
      "=== 1035 ===\n",
      "=== 1034 ===\n",
      "=== 1033 ===\n",
      "=== 1032 ===\n",
      "=== 1031 ===\n",
      "=== 1030 ===\n",
      "=== 1029 ===\n",
      "=== 1028 ===\n",
      "=== 1027 ===\n",
      "=== 1026 ===\n",
      "=== 1025 ===\n",
      "=== 1024 ===\n",
      "=== 1023 ===\n",
      "=== 1022 ===\n",
      "=== 1021 ===\n",
      "=== 1020 ===\n",
      "=== 1019 ===\n",
      "=== 1018 ===\n",
      "=== 1017 ===\n",
      "=== 1016 ===\n",
      "=== 1015 ===\n",
      "=== 1014 ===\n",
      "=== 1013 ===\n",
      "=== 1012 ===\n",
      "=== 1011 ===\n",
      "=== 1010 ===\n",
      "=== 1009 ===\n",
      "=== 1008 ===\n",
      "=== 1007 ===\n",
      "=== 1006 ===\n",
      "=== 1005 ===\n",
      "=== 1004 ===\n",
      "=== 1003 ===\n",
      "=== 1002 ===\n",
      "=== 1001 ===\n",
      "=== 1000 ===\n",
      "=== 999 ===\n",
      "=== 998 ===\n",
      "=== 997 ===\n",
      "=== 996 ===\n",
      "=== 995 ===\n",
      "=== 994 ===\n",
      "=== 993 ===\n",
      "=== 992 ===\n",
      "=== 991 ===\n",
      "=== 990 ===\n",
      "=== 989 ===\n",
      "=== 988 ===\n",
      "=== 987 ===\n",
      "=== 986 ===\n",
      "=== 985 ===\n",
      "=== 984 ===\n",
      "=== 983 ===\n",
      "=== 982 ===\n",
      "=== 981 ===\n",
      "=== 980 ===\n",
      "=== 979 ===\n",
      "=== 978 ===\n",
      "=== 977 ===\n",
      "=== 976 ===\n",
      "=== 975 ===\n",
      "=== 974 ===\n",
      "=== 973 ===\n",
      "=== 972 ===\n",
      "=== 971 ===\n",
      "=== 970 ===\n",
      "=== 969 ===\n",
      "=== 968 ===\n",
      "=== 967 ===\n",
      "=== 966 ===\n",
      "=== 965 ===\n",
      "=== 964 ===\n",
      "=== 963 ===\n",
      "=== 962 ===\n",
      "=== 961 ===\n",
      "=== 960 ===\n",
      "=== 959 ===\n",
      "=== 958 ===\n",
      "=== 957 ===\n",
      "=== 956 ===\n",
      "=== 955 ===\n",
      "=== 954 ===\n",
      "=== 953 ===\n",
      "=== 952 ===\n",
      "=== 951 ===\n",
      "=== 950 ===\n",
      "=== 949 ===\n",
      "=== 948 ===\n",
      "=== 947 ===\n",
      "=== 946 ===\n",
      "=== 945 ===\n",
      "=== 944 ===\n",
      "=== 943 ===\n",
      "=== 942 ===\n",
      "=== 941 ===\n",
      "=== 940 ===\n",
      "=== 939 ===\n",
      "=== 938 ===\n",
      "=== 937 ===\n",
      "=== 936 ===\n",
      "=== 935 ===\n",
      "=== 934 ===\n",
      "=== 933 ===\n",
      "=== 932 ===\n",
      "=== 931 ===\n",
      "=== 930 ===\n",
      "=== 929 ===\n",
      "=== 928 ===\n",
      "=== 927 ===\n",
      "=== 926 ===\n",
      "=== 925 ===\n",
      "=== 924 ===\n",
      "=== 923 ===\n",
      "=== 922 ===\n",
      "=== 921 ===\n",
      "=== 920 ===\n",
      "=== 919 ===\n",
      "=== 918 ===\n",
      "=== 917 ===\n",
      "=== 916 ===\n",
      "=== 915 ===\n",
      "=== 914 ===\n",
      "=== 913 ===\n",
      "=== 912 ===\n",
      "=== 911 ===\n",
      "=== 910 ===\n",
      "=== 909 ===\n",
      "=== 908 ===\n",
      "=== 907 ===\n",
      "=== 906 ===\n",
      "=== 905 ===\n",
      "=== 904 ===\n",
      "=== 903 ===\n",
      "=== 902 ===\n",
      "=== 901 ===\n",
      "=== 900 ===\n",
      "=== 899 ===\n",
      "=== 898 ===\n",
      "=== 897 ===\n",
      "=== 896 ===\n",
      "=== 895 ===\n",
      "=== 894 ===\n",
      "=== 893 ===\n",
      "=== 892 ===\n",
      "=== 891 ===\n",
      "=== 890 ===\n",
      "=== 889 ===\n",
      "=== 888 ===\n",
      "=== 887 ===\n",
      "=== 886 ===\n",
      "=== 885 ===\n",
      "=== 884 ===\n",
      "=== 883 ===\n",
      "=== 882 ===\n",
      "=== 881 ===\n",
      "=== 880 ===\n",
      "=== 879 ===\n",
      "=== 878 ===\n",
      "=== 877 ===\n",
      "=== 876 ===\n",
      "=== 875 ===\n",
      "=== 874 ===\n",
      "=== 873 ===\n",
      "=== 872 ===\n",
      "=== 871 ===\n",
      "=== 870 ===\n",
      "=== 869 ===\n",
      "=== 868 ===\n",
      "=== 867 ===\n",
      "=== 866 ===\n",
      "=== 865 ===\n",
      "=== 864 ===\n",
      "=== 863 ===\n",
      "=== 862 ===\n",
      "=== 861 ===\n",
      "=== 860 ===\n",
      "=== 859 ===\n",
      "=== 858 ===\n",
      "=== 857 ===\n",
      "=== 856 ===\n",
      "=== 855 ===\n",
      "=== 854 ===\n",
      "=== 853 ===\n",
      "=== 852 ===\n",
      "=== 851 ===\n",
      "=== 850 ===\n",
      "=== 849 ===\n",
      "=== 848 ===\n",
      "=== 847 ===\n",
      "=== 846 ===\n",
      "=== 845 ===\n",
      "=== 844 ===\n",
      "=== 843 ===\n",
      "=== 842 ===\n",
      "=== 841 ===\n",
      "=== 840 ===\n",
      "=== 839 ===\n",
      "=== 838 ===\n",
      "=== 837 ===\n",
      "=== 836 ===\n",
      "=== 835 ===\n",
      "=== 834 ===\n",
      "=== 833 ===\n",
      "=== 832 ===\n",
      "=== 831 ===\n",
      "=== 830 ===\n",
      "=== 829 ===\n",
      "=== 828 ===\n",
      "=== 827 ===\n",
      "=== 826 ===\n",
      "=== 825 ===\n",
      "=== 824 ===\n",
      "=== 823 ===\n",
      "=== 822 ===\n",
      "=== 821 ===\n",
      "=== 820 ===\n",
      "=== 819 ===\n",
      "=== 818 ===\n",
      "=== 817 ===\n",
      "=== 816 ===\n",
      "=== 815 ===\n",
      "=== 814 ===\n",
      "=== 813 ===\n",
      "=== 812 ===\n",
      "=== 811 ===\n",
      "=== 810 ===\n",
      "=== 809 ===\n",
      "=== 808 ===\n",
      "=== 807 ===\n",
      "=== 806 ===\n",
      "=== 805 ===\n",
      "=== 804 ===\n",
      "=== 803 ===\n",
      "=== 802 ===\n",
      "=== 801 ===\n",
      "=== 800 ===\n",
      "=== 799 ===\n",
      "=== 798 ===\n",
      "=== 797 ===\n",
      "=== 796 ===\n",
      "=== 795 ===\n",
      "=== 794 ===\n",
      "=== 793 ===\n",
      "=== 792 ===\n",
      "=== 791 ===\n",
      "=== 790 ===\n",
      "=== 789 ===\n",
      "=== 788 ===\n",
      "=== 787 ===\n",
      "=== 786 ===\n",
      "=== 785 ===\n",
      "=== 784 ===\n",
      "=== 783 ===\n",
      "=== 782 ===\n",
      "=== 781 ===\n",
      "=== 780 ===\n",
      "=== 779 ===\n",
      "=== 778 ===\n",
      "=== 777 ===\n",
      "=== 776 ===\n",
      "=== 775 ===\n",
      "=== 774 ===\n",
      "=== 773 ===\n",
      "=== 772 ===\n",
      "=== 771 ===\n",
      "=== 770 ===\n",
      "=== 769 ===\n",
      "=== 768 ===\n",
      "=== 767 ===\n",
      "=== 766 ===\n",
      "=== 765 ===\n",
      "=== 764 ===\n",
      "=== 763 ===\n",
      "=== 762 ===\n",
      "=== 761 ===\n",
      "=== 760 ===\n",
      "=== 759 ===\n",
      "=== 758 ===\n",
      "=== 757 ===\n",
      "=== 756 ===\n",
      "=== 755 ===\n",
      "=== 754 ===\n",
      "=== 753 ===\n",
      "=== 752 ===\n",
      "=== 751 ===\n",
      "=== 750 ===\n",
      "=== 749 ===\n",
      "=== 748 ===\n",
      "=== 747 ===\n",
      "=== 746 ===\n",
      "=== 745 ===\n",
      "=== 744 ===\n",
      "=== 743 ===\n",
      "=== 742 ===\n",
      "=== 741 ===\n",
      "=== 740 ===\n",
      "=== 739 ===\n",
      "=== 738 ===\n",
      "=== 737 ===\n",
      "=== 736 ===\n",
      "=== 735 ===\n",
      "=== 734 ===\n",
      "=== 733 ===\n",
      "=== 732 ===\n",
      "=== 731 ===\n",
      "=== 730 ===\n",
      "=== 729 ===\n",
      "=== 728 ===\n",
      "=== 727 ===\n",
      "=== 726 ===\n",
      "=== 725 ===\n",
      "=== 724 ===\n",
      "=== 723 ===\n",
      "=== 722 ===\n",
      "=== 721 ===\n",
      "=== 720 ===\n",
      "=== 719 ===\n",
      "=== 718 ===\n",
      "=== 717 ===\n",
      "=== 716 ===\n",
      "=== 715 ===\n",
      "=== 714 ===\n",
      "=== 713 ===\n",
      "=== 712 ===\n",
      "=== 711 ===\n",
      "=== 710 ===\n",
      "=== 709 ===\n",
      "=== 708 ===\n",
      "=== 707 ===\n",
      "=== 706 ===\n",
      "=== 705 ===\n",
      "=== 704 ===\n",
      "=== 703 ===\n",
      "=== 702 ===\n",
      "=== 701 ===\n",
      "=== 700 ===\n",
      "=== 699 ===\n",
      "=== 698 ===\n",
      "=== 697 ===\n",
      "=== 696 ===\n",
      "=== 695 ===\n",
      "=== 694 ===\n",
      "=== 693 ===\n",
      "=== 692 ===\n",
      "=== 691 ===\n",
      "=== 690 ===\n",
      "=== 689 ===\n",
      "=== 688 ===\n",
      "=== 687 ===\n",
      "=== 686 ===\n",
      "=== 685 ===\n",
      "=== 684 ===\n",
      "=== 683 ===\n",
      "=== 682 ===\n",
      "=== 681 ===\n",
      "=== 680 ===\n",
      "=== 679 ===\n",
      "=== 678 ===\n",
      "=== 677 ===\n",
      "=== 676 ===\n",
      "=== 675 ===\n",
      "=== 674 ===\n",
      "=== 673 ===\n",
      "=== 672 ===\n",
      "=== 671 ===\n",
      "=== 670 ===\n",
      "=== 669 ===\n",
      "=== 668 ===\n",
      "=== 667 ===\n",
      "=== 666 ===\n",
      "=== 665 ===\n",
      "=== 664 ===\n",
      "=== 663 ===\n",
      "=== 662 ===\n",
      "=== 661 ===\n",
      "=== 660 ===\n",
      "=== 659 ===\n",
      "=== 658 ===\n",
      "=== 657 ===\n",
      "=== 656 ===\n",
      "=== 655 ===\n",
      "=== 654 ===\n",
      "=== 653 ===\n",
      "=== 652 ===\n",
      "=== 651 ===\n",
      "=== 650 ===\n",
      "=== 649 ===\n",
      "=== 648 ===\n",
      "=== 647 ===\n",
      "=== 646 ===\n",
      "=== 645 ===\n",
      "=== 644 ===\n",
      "=== 643 ===\n",
      "=== 642 ===\n",
      "=== 641 ===\n",
      "=== 640 ===\n",
      "=== 639 ===\n",
      "=== 638 ===\n",
      "=== 637 ===\n",
      "=== 636 ===\n",
      "=== 635 ===\n",
      "=== 634 ===\n",
      "=== 633 ===\n",
      "=== 632 ===\n",
      "=== 631 ===\n",
      "=== 630 ===\n",
      "=== 629 ===\n",
      "=== 628 ===\n",
      "=== 627 ===\n",
      "=== 626 ===\n",
      "=== 625 ===\n",
      "=== 624 ===\n",
      "=== 623 ===\n",
      "=== 622 ===\n",
      "=== 621 ===\n",
      "=== 620 ===\n",
      "=== 619 ===\n",
      "=== 618 ===\n",
      "=== 617 ===\n",
      "=== 616 ===\n",
      "=== 615 ===\n",
      "=== 614 ===\n",
      "=== 613 ===\n",
      "=== 612 ===\n",
      "=== 611 ===\n",
      "=== 610 ===\n",
      "=== 609 ===\n",
      "=== 608 ===\n",
      "=== 607 ===\n",
      "=== 606 ===\n",
      "=== 605 ===\n",
      "=== 604 ===\n",
      "=== 603 ===\n",
      "=== 602 ===\n",
      "=== 601 ===\n",
      "=== 600 ===\n",
      "=== 599 ===\n",
      "=== 598 ===\n",
      "=== 597 ===\n",
      "=== 596 ===\n",
      "=== 595 ===\n",
      "=== 594 ===\n",
      "=== 593 ===\n",
      "=== 592 ===\n",
      "=== 591 ===\n",
      "=== 590 ===\n",
      "=== 589 ===\n",
      "=== 588 ===\n",
      "=== 587 ===\n",
      "=== 586 ===\n",
      "=== 585 ===\n",
      "=== 584 ===\n",
      "=== 583 ===\n",
      "=== 582 ===\n",
      "=== 581 ===\n",
      "=== 580 ===\n",
      "=== 579 ===\n",
      "=== 578 ===\n",
      "=== 577 ===\n",
      "=== 576 ===\n",
      "=== 575 ===\n",
      "=== 574 ===\n",
      "=== 573 ===\n",
      "=== 572 ===\n",
      "=== 571 ===\n",
      "=== 570 ===\n",
      "=== 569 ===\n",
      "=== 568 ===\n",
      "=== 567 ===\n",
      "=== 566 ===\n",
      "=== 565 ===\n",
      "=== 564 ===\n",
      "=== 563 ===\n",
      "=== 562 ===\n",
      "=== 561 ===\n",
      "=== 560 ===\n",
      "=== 559 ===\n",
      "=== 558 ===\n",
      "=== 557 ===\n",
      "=== 556 ===\n",
      "=== 555 ===\n",
      "=== 554 ===\n",
      "=== 553 ===\n",
      "=== 552 ===\n",
      "=== 551 ===\n",
      "=== 550 ===\n",
      "=== 549 ===\n",
      "=== 548 ===\n",
      "=== 547 ===\n",
      "=== 546 ===\n",
      "=== 545 ===\n",
      "=== 544 ===\n",
      "=== 543 ===\n",
      "=== 542 ===\n",
      "=== 541 ===\n",
      "=== 540 ===\n",
      "=== 539 ===\n",
      "=== 538 ===\n",
      "=== 537 ===\n",
      "=== 536 ===\n",
      "=== 535 ===\n",
      "=== 534 ===\n",
      "=== 533 ===\n",
      "=== 532 ===\n",
      "=== 531 ===\n",
      "=== 530 ===\n",
      "=== 529 ===\n",
      "=== 528 ===\n",
      "=== 527 ===\n",
      "=== 526 ===\n",
      "=== 525 ===\n",
      "=== 524 ===\n",
      "=== 523 ===\n",
      "=== 522 ===\n",
      "=== 521 ===\n",
      "=== 520 ===\n",
      "=== 519 ===\n",
      "=== 518 ===\n",
      "=== 517 ===\n",
      "=== 516 ===\n",
      "=== 515 ===\n",
      "=== 514 ===\n",
      "=== 513 ===\n",
      "=== 512 ===\n",
      "=== 511 ===\n",
      "=== 510 ===\n",
      "=== 509 ===\n",
      "=== 508 ===\n",
      "=== 507 ===\n",
      "=== 506 ===\n",
      "=== 505 ===\n",
      "=== 504 ===\n",
      "=== 503 ===\n",
      "=== 502 ===\n",
      "=== 501 ===\n",
      "=== 500 ===\n",
      "=== 499 ===\n",
      "=== 498 ===\n",
      "=== 497 ===\n",
      "=== 496 ===\n",
      "=== 495 ===\n",
      "=== 494 ===\n",
      "=== 493 ===\n",
      "=== 492 ===\n",
      "=== 491 ===\n",
      "=== 490 ===\n",
      "=== 489 ===\n",
      "=== 488 ===\n",
      "=== 487 ===\n",
      "=== 486 ===\n",
      "=== 485 ===\n",
      "=== 484 ===\n",
      "=== 483 ===\n",
      "=== 482 ===\n",
      "=== 481 ===\n",
      "=== 480 ===\n",
      "=== 479 ===\n",
      "=== 478 ===\n",
      "=== 477 ===\n",
      "=== 476 ===\n",
      "=== 475 ===\n",
      "=== 474 ===\n",
      "=== 473 ===\n",
      "=== 472 ===\n",
      "=== 471 ===\n",
      "=== 470 ===\n",
      "=== 469 ===\n",
      "=== 468 ===\n",
      "=== 467 ===\n",
      "=== 466 ===\n",
      "=== 465 ===\n",
      "=== 464 ===\n",
      "=== 463 ===\n",
      "=== 462 ===\n",
      "=== 461 ===\n",
      "=== 460 ===\n",
      "=== 459 ===\n",
      "=== 458 ===\n",
      "=== 457 ===\n",
      "=== 456 ===\n",
      "=== 455 ===\n",
      "=== 454 ===\n",
      "=== 453 ===\n",
      "=== 452 ===\n",
      "=== 451 ===\n",
      "=== 450 ===\n",
      "=== 449 ===\n",
      "=== 448 ===\n",
      "=== 447 ===\n",
      "=== 446 ===\n",
      "=== 445 ===\n",
      "=== 444 ===\n",
      "=== 443 ===\n",
      "=== 442 ===\n",
      "=== 441 ===\n",
      "=== 440 ===\n",
      "=== 439 ===\n",
      "=== 438 ===\n",
      "=== 437 ===\n",
      "=== 436 ===\n",
      "=== 435 ===\n",
      "=== 434 ===\n",
      "=== 433 ===\n",
      "=== 432 ===\n",
      "=== 431 ===\n",
      "=== 430 ===\n",
      "=== 429 ===\n",
      "=== 428 ===\n",
      "=== 427 ===\n",
      "=== 426 ===\n",
      "=== 425 ===\n",
      "=== 424 ===\n",
      "=== 423 ===\n",
      "=== 422 ===\n",
      "=== 421 ===\n",
      "=== 420 ===\n",
      "=== 419 ===\n",
      "=== 418 ===\n",
      "=== 417 ===\n",
      "=== 416 ===\n",
      "=== 415 ===\n",
      "=== 414 ===\n",
      "=== 413 ===\n",
      "=== 412 ===\n",
      "=== 411 ===\n",
      "=== 410 ===\n",
      "=== 409 ===\n",
      "=== 408 ===\n",
      "=== 407 ===\n",
      "=== 406 ===\n",
      "=== 405 ===\n",
      "=== 404 ===\n",
      "=== 403 ===\n",
      "=== 402 ===\n",
      "=== 401 ===\n",
      "=== 400 ===\n",
      "=== 399 ===\n",
      "=== 398 ===\n",
      "=== 397 ===\n",
      "=== 396 ===\n",
      "=== 395 ===\n",
      "=== 394 ===\n",
      "=== 393 ===\n",
      "=== 392 ===\n",
      "=== 391 ===\n",
      "=== 390 ===\n",
      "=== 389 ===\n",
      "=== 388 ===\n",
      "=== 387 ===\n",
      "=== 386 ===\n",
      "=== 385 ===\n",
      "=== 384 ===\n",
      "=== 383 ===\n",
      "=== 382 ===\n",
      "=== 381 ===\n",
      "=== 380 ===\n",
      "=== 379 ===\n",
      "=== 378 ===\n",
      "=== 377 ===\n",
      "=== 376 ===\n",
      "=== 375 ===\n",
      "=== 374 ===\n",
      "=== 373 ===\n",
      "=== 372 ===\n",
      "=== 371 ===\n",
      "=== 370 ===\n",
      "=== 369 ===\n",
      "=== 368 ===\n",
      "=== 367 ===\n",
      "=== 366 ===\n",
      "=== 365 ===\n",
      "=== 364 ===\n",
      "=== 363 ===\n",
      "=== 362 ===\n",
      "=== 361 ===\n",
      "=== 360 ===\n",
      "=== 359 ===\n",
      "=== 358 ===\n",
      "=== 357 ===\n",
      "=== 356 ===\n",
      "=== 355 ===\n",
      "=== 354 ===\n",
      "=== 353 ===\n",
      "=== 352 ===\n",
      "=== 351 ===\n",
      "=== 350 ===\n",
      "=== 349 ===\n",
      "=== 348 ===\n",
      "=== 347 ===\n",
      "=== 346 ===\n",
      "=== 345 ===\n",
      "=== 344 ===\n",
      "=== 343 ===\n",
      "=== 342 ===\n",
      "=== 341 ===\n",
      "=== 340 ===\n",
      "=== 339 ===\n",
      "=== 338 ===\n",
      "=== 337 ===\n",
      "=== 336 ===\n",
      "=== 335 ===\n",
      "=== 334 ===\n",
      "=== 333 ===\n",
      "=== 332 ===\n",
      "=== 331 ===\n",
      "=== 330 ===\n",
      "=== 329 ===\n",
      "=== 328 ===\n",
      "=== 327 ===\n",
      "=== 326 ===\n",
      "=== 325 ===\n",
      "=== 324 ===\n",
      "=== 323 ===\n",
      "=== 322 ===\n",
      "=== 321 ===\n",
      "=== 320 ===\n",
      "=== 319 ===\n",
      "=== 318 ===\n",
      "=== 317 ===\n",
      "=== 316 ===\n",
      "=== 315 ===\n",
      "=== 314 ===\n",
      "=== 313 ===\n",
      "=== 312 ===\n",
      "=== 311 ===\n",
      "=== 310 ===\n",
      "=== 309 ===\n",
      "=== 308 ===\n",
      "=== 307 ===\n",
      "=== 306 ===\n",
      "=== 305 ===\n",
      "=== 304 ===\n",
      "=== 303 ===\n",
      "=== 302 ===\n",
      "=== 301 ===\n",
      "=== 300 ===\n",
      "=== 299 ===\n",
      "=== 298 ===\n",
      "=== 297 ===\n",
      "=== 296 ===\n",
      "=== 295 ===\n",
      "=== 294 ===\n",
      "=== 293 ===\n",
      "=== 292 ===\n",
      "=== 291 ===\n",
      "=== 290 ===\n",
      "=== 289 ===\n",
      "=== 288 ===\n",
      "=== 287 ===\n",
      "=== 286 ===\n",
      "=== 285 ===\n",
      "=== 284 ===\n",
      "=== 283 ===\n",
      "=== 282 ===\n",
      "=== 281 ===\n",
      "=== 280 ===\n",
      "=== 279 ===\n",
      "=== 278 ===\n",
      "=== 277 ===\n",
      "=== 276 ===\n",
      "=== 275 ===\n",
      "=== 274 ===\n",
      "=== 273 ===\n",
      "=== 272 ===\n",
      "=== 271 ===\n",
      "=== 270 ===\n",
      "=== 269 ===\n",
      "=== 268 ===\n",
      "=== 267 ===\n",
      "=== 266 ===\n",
      "=== 265 ===\n",
      "=== 264 ===\n",
      "=== 263 ===\n",
      "=== 262 ===\n",
      "=== 261 ===\n",
      "=== 260 ===\n",
      "=== 259 ===\n",
      "=== 258 ===\n",
      "=== 257 ===\n",
      "=== 256 ===\n",
      "=== 255 ===\n",
      "=== 254 ===\n",
      "=== 253 ===\n",
      "=== 252 ===\n",
      "=== 251 ===\n",
      "=== 250 ===\n",
      "=== 249 ===\n",
      "=== 248 ===\n",
      "=== 247 ===\n",
      "=== 246 ===\n",
      "=== 245 ===\n",
      "=== 244 ===\n",
      "=== 243 ===\n",
      "=== 242 ===\n",
      "=== 241 ===\n",
      "=== 240 ===\n",
      "=== 239 ===\n",
      "=== 238 ===\n",
      "=== 237 ===\n",
      "=== 236 ===\n",
      "=== 235 ===\n",
      "=== 234 ===\n",
      "=== 233 ===\n",
      "=== 232 ===\n",
      "=== 231 ===\n",
      "=== 230 ===\n",
      "=== 229 ===\n",
      "=== 228 ===\n",
      "=== 227 ===\n",
      "=== 226 ===\n",
      "=== 225 ===\n",
      "=== 224 ===\n",
      "=== 223 ===\n",
      "=== 222 ===\n",
      "=== 221 ===\n",
      "=== 220 ===\n",
      "=== 219 ===\n",
      "=== 218 ===\n",
      "=== 217 ===\n",
      "=== 216 ===\n",
      "=== 215 ===\n",
      "=== 214 ===\n",
      "=== 213 ===\n",
      "=== 212 ===\n",
      "=== 211 ===\n",
      "=== 210 ===\n",
      "=== 209 ===\n",
      "=== 208 ===\n",
      "=== 207 ===\n",
      "=== 206 ===\n",
      "=== 205 ===\n",
      "=== 204 ===\n",
      "=== 203 ===\n",
      "=== 202 ===\n",
      "=== 201 ===\n",
      "=== 200 ===\n",
      "=== 199 ===\n",
      "=== 198 ===\n",
      "=== 197 ===\n",
      "=== 196 ===\n",
      "=== 195 ===\n",
      "=== 194 ===\n",
      "=== 193 ===\n",
      "=== 192 ===\n",
      "=== 191 ===\n",
      "=== 190 ===\n",
      "=== 189 ===\n",
      "=== 188 ===\n",
      "=== 187 ===\n",
      "=== 186 ===\n",
      "=== 185 ===\n",
      "=== 184 ===\n",
      "=== 183 ===\n",
      "=== 182 ===\n",
      "=== 181 ===\n",
      "=== 180 ===\n",
      "=== 179 ===\n",
      "=== 178 ===\n",
      "=== 177 ===\n",
      "=== 176 ===\n",
      "=== 175 ===\n",
      "=== 174 ===\n",
      "=== 173 ===\n",
      "=== 172 ===\n",
      "=== 171 ===\n",
      "=== 170 ===\n",
      "=== 169 ===\n",
      "=== 168 ===\n",
      "=== 167 ===\n",
      "=== 166 ===\n",
      "=== 165 ===\n",
      "=== 164 ===\n",
      "=== 163 ===\n",
      "=== 162 ===\n",
      "=== 161 ===\n",
      "=== 160 ===\n",
      "=== 159 ===\n",
      "=== 158 ===\n",
      "=== 157 ===\n",
      "=== 156 ===\n",
      "=== 155 ===\n",
      "=== 154 ===\n",
      "=== 153 ===\n",
      "=== 152 ===\n",
      "=== 151 ===\n",
      "=== 150 ===\n",
      "=== 149 ===\n",
      "=== 148 ===\n",
      "=== 147 ===\n",
      "=== 146 ===\n",
      "=== 145 ===\n",
      "=== 144 ===\n",
      "=== 143 ===\n",
      "=== 142 ===\n",
      "=== 141 ===\n",
      "=== 140 ===\n",
      "=== 139 ===\n",
      "=== 138 ===\n",
      "=== 137 ===\n",
      "=== 136 ===\n",
      "=== 135 ===\n",
      "=== 134 ===\n",
      "=== 133 ===\n",
      "=== 132 ===\n",
      "=== 131 ===\n",
      "=== 130 ===\n",
      "=== 129 ===\n",
      "=== 128 ===\n",
      "=== 127 ===\n",
      "=== 126 ===\n",
      "=== 125 ===\n",
      "=== 124 ===\n",
      "=== 123 ===\n",
      "=== 122 ===\n",
      "=== 121 ===\n",
      "=== 120 ===\n",
      "=== 119 ===\n",
      "=== 118 ===\n",
      "=== 117 ===\n",
      "=== 116 ===\n",
      "=== 115 ===\n",
      "=== 114 ===\n",
      "=== 113 ===\n",
      "=== 112 ===\n",
      "=== 111 ===\n",
      "=== 110 ===\n",
      "=== 109 ===\n",
      "=== 108 ===\n",
      "=== 107 ===\n",
      "=== 106 ===\n",
      "=== 105 ===\n",
      "=== 104 ===\n",
      "=== 103 ===\n",
      "=== 102 ===\n",
      "=== 101 ===\n",
      "=== 100 ===\n",
      "=== 99 ===\n",
      "=== 98 ===\n",
      "=== 97 ===\n",
      "=== 96 ===\n",
      "=== 95 ===\n",
      "=== 94 ===\n",
      "=== 93 ===\n",
      "=== 92 ===\n",
      "=== 91 ===\n",
      "=== 90 ===\n",
      "=== 89 ===\n",
      "=== 88 ===\n",
      "=== 87 ===\n",
      "=== 86 ===\n",
      "=== 85 ===\n",
      "=== 84 ===\n",
      "=== 83 ===\n",
      "=== 82 ===\n",
      "=== 81 ===\n",
      "=== 80 ===\n",
      "=== 79 ===\n",
      "=== 78 ===\n",
      "=== 77 ===\n",
      "=== 76 ===\n",
      "=== 75 ===\n",
      "=== 74 ===\n",
      "=== 73 ===\n",
      "=== 72 ===\n",
      "=== 71 ===\n",
      "=== 70 ===\n",
      "=== 69 ===\n",
      "=== 68 ===\n",
      "=== 67 ===\n",
      "=== 66 ===\n",
      "=== 65 ===\n",
      "=== 64 ===\n",
      "=== 63 ===\n",
      "=== 62 ===\n",
      "=== 61 ===\n",
      "=== 60 ===\n",
      "=== 59 ===\n",
      "=== 58 ===\n",
      "=== 57 ===\n",
      "=== 56 ===\n",
      "=== 55 ===\n",
      "=== 54 ===\n",
      "=== 53 ===\n",
      "=== 52 ===\n",
      "=== 51 ===\n",
      "=== 50 ===\n",
      "=== 49 ===\n",
      "=== 48 ===\n",
      "=== 47 ===\n",
      "=== 46 ===\n",
      "=== 45 ===\n",
      "=== 44 ===\n",
      "=== 43 ===\n",
      "=== 42 ===\n",
      "=== 41 ===\n",
      "=== 40 ===\n",
      "=== 39 ===\n",
      "=== 38 ===\n",
      "=== 37 ===\n",
      "=== 36 ===\n",
      "=== 35 ===\n",
      "=== 34 ===\n",
      "=== 33 ===\n",
      "=== 32 ===\n",
      "=== 31 ===\n",
      "=== 30 ===\n",
      "=== 29 ===\n",
      "=== 28 ===\n",
      "=== 27 ===\n",
      "=== 26 ===\n",
      "=== 25 ===\n",
      "=== 24 ===\n",
      "=== 23 ===\n",
      "=== 22 ===\n",
      "=== 21 ===\n",
      "=== 20 ===\n",
      "=== 19 ===\n",
      "=== 18 ===\n",
      "=== 17 ===\n",
      "=== 16 ===\n",
      "=== 15 ===\n",
      "=== 14 ===\n",
      "=== 13 ===\n",
      "=== 12 ===\n",
      "=== 11 ===\n",
      "=== 10 ===\n",
      "=== 9 ===\n",
      "=== 8 ===\n",
      "=== 7 ===\n",
      "=== 6 ===\n",
      "=== 5 ===\n",
      "=== 4 ===\n",
      "=== 3 ===\n",
      "=== 2 ===\n",
      "=== 1 ===\n"
     ]
    }
   ],
   "source": [
    "from pprint import pprint\n",
    "import os\n",
    "from requests import Session\n",
    "session = Session()\n",
    "session.auth = (\"oh856\",\"112f71f82cc3d562f1e8b24fadd9cd2a78\")\n",
    "# Get job info\n",
    "resp = session.get(\"https://englobjci1.deutsche-boerse.de/job/Energy-Operations/job/CD-Pipeline/job/M7T_deploy_full/api/json?tree=allBuilds[*]\")\n",
    "resp.raise_for_status()\n",
    "data = []\n",
    "job = resp.json()\n",
    "EH = []\n",
    "# Get info for each build\n",
    "for build in job[\"allBuilds\"]:\n",
    "    build_number = build[\"number\"]\n",
    "    # Get build details\n",
    "    resp = session.get(f\"{build['url']}/api/json?tree = allBuilds[*]\")\n",
    "    resp.raise_for_status()\n",
    "    build_details = resp.json()\n",
    "    # Find action \"ParametersAction\"\n",
    "    for action in build_details[\"actions\"]:\n",
    "        if action.get(\"_class\") == \"hudson.model.ParametersAction\":\n",
    "            parameters = {\n",
    "                param[\"name\"]: param[\"value\"]\n",
    "                for param in action[\"parameters\"]\n",
    "            }\n",
    "            break\n",
    "    else:\n",
    "        parameters = {}\n",
    "    print(\"===\", build_number, \"===\")\n",
    "    EH.append(pd.Series(parameters))   "
   ]
  },
  {
   "cell_type": "code",
   "execution_count": 125,
   "metadata": {},
   "outputs": [
    {
     "name": "stderr",
     "output_type": "stream",
     "text": [
      "ipykernel_launcher:86: SettingWithCopyWarning: \n",
      "A value is trying to be set on a copy of a slice from a DataFrame.\n",
      "Try using .loc[row_indexer,col_indexer] = value instead\n",
      "\n",
      "See the caveats in the documentation: https://pandas.pydata.org/pandas-docs/stable/user_guide/indexing.html#returning-a-view-versus-a-copy\n",
      "ipykernel_launcher:87: SettingWithCopyWarning: \n",
      "A value is trying to be set on a copy of a slice from a DataFrame.\n",
      "Try using .loc[row_indexer,col_indexer] = value instead\n",
      "\n",
      "See the caveats in the documentation: https://pandas.pydata.org/pandas-docs/stable/user_guide/indexing.html#returning-a-view-versus-a-copy\n",
      "ipykernel_launcher:88: SettingWithCopyWarning: \n",
      "A value is trying to be set on a copy of a slice from a DataFrame.\n",
      "Try using .loc[row_indexer,col_indexer] = value instead\n",
      "\n",
      "See the caveats in the documentation: https://pandas.pydata.org/pandas-docs/stable/user_guide/indexing.html#returning-a-view-versus-a-copy\n",
      "ipykernel_launcher:89: SettingWithCopyWarning: \n",
      "A value is trying to be set on a copy of a slice from a DataFrame.\n",
      "Try using .loc[row_indexer,col_indexer] = value instead\n",
      "\n",
      "See the caveats in the documentation: https://pandas.pydata.org/pandas-docs/stable/user_guide/indexing.html#returning-a-view-versus-a-copy\n"
     ]
    }
   ],
   "source": [
    "import requests\n",
    "import os\n",
    "import urllib\n",
    "import jenkins\n",
    "import json\n",
    "import pandas as pd \n",
    "username = 'oh856'\n",
    "token ='112f71f82cc3d562f1e8b24fadd9cd2a78'\n",
    "auth = ('oh856','Ccf5566096.')\n",
    "\n",
    "#XBID\n",
    "server_xbid = requests.get('https://englobjci1.deutsche-boerse.de/job/Energy-Operations/job/XBID%20Ansible%20Jobs/job/XBID%20Ansible%20deploy%20full/api/json?tree=allBuilds[actions[parameters[name,value]],duration,description,building,fullDisplayName,id,number,timestamp,result]&pretty=true',auth=auth)\n",
    "json_data_xbid = json.loads(server_xbid.text)\n",
    "json_data_XBID = pd.DataFrame(json_data_xbid)\n",
    "builds = json_data_XBID['allBuilds'].apply(pd.Series)\n",
    "\n",
    "\n",
    "#M7T_deploy_full\n",
    "\n",
    "server_m7t = requests.get('https://englobjci1.deutsche-boerse.de/job/Energy-Operations/job/CD-Pipeline/job/M7T_deploy_full/api/json?tree=allBuilds%5Bactions%5Bparameters%5Bname,value%5D%5D,duration,description,building,fullDisplayName,id,number,timestamp,result%5D&pretty=true',auth=auth)\n",
    "json_data_xbid = json.loads(server_m7t.text)\n",
    "json_data_M7T = pd.DataFrame(json_data_xbid)\n",
    "builds_M7T = json_data_M7T['allBuilds'].apply(pd.Series)\n",
    "\n",
    "\n",
    "\n",
    "def environmentcollect(data,ame,metric):       \n",
    "        col1 = data['actions'].apply(pd.Series)\n",
    "        col1_v1 = col1[0].apply(pd.Series)\n",
    "        col1_v2 = col1_v1['parameters'].apply(pd.Series)\n",
    "        env = col1_v2[ame].apply(pd.Series)\n",
    "        envcol1 = env[metric] \n",
    "\n",
    "        col2_v1 = col1[1].apply(pd.Series)\n",
    "        col2_v2 = col2_v1['parameters'].apply(pd.Series)\n",
    "        env2 = col2_v2[ame].apply(pd.Series)\n",
    "        envcol2 = env2[metric] \n",
    "\n",
    "        col3_v1 = col1[2].apply(pd.Series)\n",
    "        col3_v2 = col3_v1['parameters'].apply(pd.Series)\n",
    "        env3 = col3_v2[ame].apply(pd.Series)\n",
    "        envcol3 = env3[metric]\n",
    "\n",
    "        col4_v1 = col1[3].apply(pd.Series)\n",
    "        col4_v2 = col4_v1['parameters'].apply(pd.Series)\n",
    "        env4 = col4_v2[ame].apply(pd.Series)\n",
    "        envcol4 = env4[metric]\n",
    "\n",
    "        envcol1.fillna(envcol2,inplace= True)\n",
    "        envcol1.fillna(envcol3, inplace =True)\n",
    "        envcol1.fillna(envcol4, inplace =True)\n",
    "\n",
    "        return envcol1\n",
    "\n",
    "   \n",
    "def timeconverter(data):\n",
    "        data = pd.to_datetime(data, unit='ms')\n",
    "        data = data.apply(lambda x:x.date())\n",
    "        return  data\n",
    "def durationconverter(data):\n",
    "        data = pd.to_datetime(data, unit='ms')\n",
    "        data = data.dt.strftime('%H:%M:%S')\n",
    "        return data\n",
    "\n",
    "\n",
    "\n",
    "\n",
    "##Data Pre processing for XBID\n",
    "builds['Environment'] =  environmentcollect(builds,0,'value')\n",
    "builds['Action'] = environmentcollect(builds,1,'value')\n",
    "builds['RabbitMQ'] = environmentcollect(builds,2,'value')\n",
    "builds['HAProxy'] = environmentcollect(builds,3,'value')\n",
    "builds['Apache'] = environmentcollect(builds,4,'value')\n",
    "builds['xbid'] = environmentcollect(builds,5,'value')\n",
    "builds['spm'] = environmentcollect(builds,6,'value')\n",
    "builds['reporting_engine'] = environmentcollect(builds,7,'value')\n",
    "builds['pmi'] = environmentcollect(builds,8,'value')\n",
    "builds['AMS'] = environmentcollect(builds,9,'value')\n",
    "builds['ACR'] = environmentcollect(builds,10,'value')\n",
    "builds['report_tool'] = environmentcollect(builds,11,'value')\n",
    "builds['CTP'] = environmentcollect(builds,12,'value')\n",
    "builds['DbArchiver'] = environmentcollect(builds,13,'value')\n",
    "builds['ECP'] = environmentcollect(builds,14,'value')\n",
    "last_version = builds[(builds['description'] == \"check only: false, diff: false\") | (builds['description'] == \"check only: false, diff: true\")]  \n",
    "last_version1 = last_version[last_version['Action'] == \"deploy\"]\n",
    "last_version1['timestamp'] = timeconverter(last_version1['timestamp'])\n",
    "last_version1['duration'] = durationconverter(last_version1['duration'])\n",
    "last_version1['duration'] = pd.to_timedelta(last_version1['duration'])\n",
    "last_version1['Seconds'] = last_version1['duration'].dt.total_seconds()\n",
    "last_version2 = last_version1[['description','duration','fullDisplayName',\n",
    "'number','result','timestamp','Environment','Action','RabbitMQ','HAProxy',\n",
    "'Apache','xbid','spm','reporting_engine','pmi','AMS','ACR','report_tool','CTP','DbArchiver','ECP','Seconds']]\n",
    "\n",
    "## Data Pre processing for M7T_Deploy\n",
    "\n",
    "\n",
    "\n",
    "\n",
    "\n",
    "\n",
    "\n",
    "\n",
    "\n",
    "\n",
    "\n",
    "\n",
    "\n"
   ]
  },
  {
   "cell_type": "code",
   "execution_count": null,
   "metadata": {},
   "outputs": [],
   "source": []
  },
  {
   "cell_type": "code",
   "execution_count": 269,
   "metadata": {
    "tags": []
   },
   "outputs": [
    {
     "name": "stderr",
     "output_type": "stream",
     "text": [
      "ipykernel_launcher:90: SettingWithCopyWarning:\n",
      "\n",
      "\n",
      "A value is trying to be set on a copy of a slice from a DataFrame.\n",
      "Try using .loc[row_indexer,col_indexer] = value instead\n",
      "\n",
      "See the caveats in the documentation: https://pandas.pydata.org/pandas-docs/stable/user_guide/indexing.html#returning-a-view-versus-a-copy\n",
      "\n",
      "ipykernel_launcher:91: SettingWithCopyWarning:\n",
      "\n",
      "\n",
      "A value is trying to be set on a copy of a slice from a DataFrame.\n",
      "Try using .loc[row_indexer,col_indexer] = value instead\n",
      "\n",
      "See the caveats in the documentation: https://pandas.pydata.org/pandas-docs/stable/user_guide/indexing.html#returning-a-view-versus-a-copy\n",
      "\n"
     ]
    },
    {
     "data": {
      "text/html": [
       "<div>\n",
       "<style scoped>\n",
       "    .dataframe tbody tr th:only-of-type {\n",
       "        vertical-align: middle;\n",
       "    }\n",
       "\n",
       "    .dataframe tbody tr th {\n",
       "        vertical-align: top;\n",
       "    }\n",
       "\n",
       "    .dataframe thead th {\n",
       "        text-align: right;\n",
       "    }\n",
       "</style>\n",
       "<table border=\"1\" class=\"dataframe\">\n",
       "  <thead>\n",
       "    <tr style=\"text-align: right;\">\n",
       "      <th></th>\n",
       "      <th>description</th>\n",
       "      <th>duration</th>\n",
       "      <th>fullDisplayName</th>\n",
       "      <th>number</th>\n",
       "      <th>result</th>\n",
       "      <th>timestamp</th>\n",
       "      <th>Environment</th>\n",
       "      <th>Action</th>\n",
       "    </tr>\n",
       "  </thead>\n",
       "  <tbody>\n",
       "    <tr>\n",
       "      <th>31</th>\n",
       "      <td>check only: false, diff: false</td>\n",
       "      <td>00:04:21</td>\n",
       "      <td>Energy-Operations » XBID Ansible Jobs » XBID A...</td>\n",
       "      <td>986</td>\n",
       "      <td>SUCCESS</td>\n",
       "      <td>2021-05-11</td>\n",
       "      <td>cute</td>\n",
       "      <td>deploy</td>\n",
       "    </tr>\n",
       "    <tr>\n",
       "      <th>40</th>\n",
       "      <td>check only: false, diff: false</td>\n",
       "      <td>00:01:27</td>\n",
       "      <td>Energy-Operations » XBID Ansible Jobs » XBID A...</td>\n",
       "      <td>977</td>\n",
       "      <td>FAILURE</td>\n",
       "      <td>2021-05-11</td>\n",
       "      <td>cute</td>\n",
       "      <td>deploy</td>\n",
       "    </tr>\n",
       "    <tr>\n",
       "      <th>50</th>\n",
       "      <td>check only: false, diff: false</td>\n",
       "      <td>00:01:55</td>\n",
       "      <td>Energy-Operations » XBID Ansible Jobs » XBID A...</td>\n",
       "      <td>967</td>\n",
       "      <td>FAILURE</td>\n",
       "      <td>2021-05-11</td>\n",
       "      <td>cute</td>\n",
       "      <td>deploy</td>\n",
       "    </tr>\n",
       "    <tr>\n",
       "      <th>52</th>\n",
       "      <td>check only: false, diff: false</td>\n",
       "      <td>00:01:14</td>\n",
       "      <td>Energy-Operations » XBID Ansible Jobs » XBID A...</td>\n",
       "      <td>965</td>\n",
       "      <td>FAILURE</td>\n",
       "      <td>2021-05-11</td>\n",
       "      <td>cute</td>\n",
       "      <td>deploy</td>\n",
       "    </tr>\n",
       "    <tr>\n",
       "      <th>60</th>\n",
       "      <td>check only: false, diff: true</td>\n",
       "      <td>00:00:44</td>\n",
       "      <td>Energy-Operations » XBID Ansible Jobs » XBID A...</td>\n",
       "      <td>957</td>\n",
       "      <td>SUCCESS</td>\n",
       "      <td>2021-05-10</td>\n",
       "      <td>prod</td>\n",
       "      <td>deploy</td>\n",
       "    </tr>\n",
       "    <tr>\n",
       "      <th>...</th>\n",
       "      <td>...</td>\n",
       "      <td>...</td>\n",
       "      <td>...</td>\n",
       "      <td>...</td>\n",
       "      <td>...</td>\n",
       "      <td>...</td>\n",
       "      <td>...</td>\n",
       "      <td>...</td>\n",
       "    </tr>\n",
       "    <tr>\n",
       "      <th>946</th>\n",
       "      <td>check only: false, diff: false</td>\n",
       "      <td>00:00:56</td>\n",
       "      <td>Energy-Operations » XBID Ansible Jobs » XBID A...</td>\n",
       "      <td>71</td>\n",
       "      <td>SUCCESS</td>\n",
       "      <td>2020-09-15</td>\n",
       "      <td>simu</td>\n",
       "      <td>deploy</td>\n",
       "    </tr>\n",
       "    <tr>\n",
       "      <th>947</th>\n",
       "      <td>check only: false, diff: false</td>\n",
       "      <td>00:00:47</td>\n",
       "      <td>Energy-Operations » XBID Ansible Jobs » XBID A...</td>\n",
       "      <td>70</td>\n",
       "      <td>SUCCESS</td>\n",
       "      <td>2020-09-11</td>\n",
       "      <td>simu</td>\n",
       "      <td>deploy</td>\n",
       "    </tr>\n",
       "    <tr>\n",
       "      <th>957</th>\n",
       "      <td>check only: false, diff: true</td>\n",
       "      <td>00:00:34</td>\n",
       "      <td>Energy-Operations » XBID Ansible Jobs » XBID A...</td>\n",
       "      <td>60</td>\n",
       "      <td>FAILURE</td>\n",
       "      <td>2020-09-09</td>\n",
       "      <td>perf</td>\n",
       "      <td>deploy</td>\n",
       "    </tr>\n",
       "    <tr>\n",
       "      <th>962</th>\n",
       "      <td>check only: false, diff: false</td>\n",
       "      <td>00:00:42</td>\n",
       "      <td>Energy-Operations » XBID Ansible Jobs » XBID A...</td>\n",
       "      <td>55</td>\n",
       "      <td>SUCCESS</td>\n",
       "      <td>2020-09-04</td>\n",
       "      <td>simu</td>\n",
       "      <td>deploy</td>\n",
       "    </tr>\n",
       "    <tr>\n",
       "      <th>963</th>\n",
       "      <td>check only: false, diff: false</td>\n",
       "      <td>00:00:04</td>\n",
       "      <td>Energy-Operations » XBID Ansible Jobs » XBID A...</td>\n",
       "      <td>54</td>\n",
       "      <td>FAILURE</td>\n",
       "      <td>2020-09-04</td>\n",
       "      <td>simu</td>\n",
       "      <td>deploy</td>\n",
       "    </tr>\n",
       "  </tbody>\n",
       "</table>\n",
       "<p>223 rows × 8 columns</p>\n",
       "</div>"
      ],
      "text/plain": [
       "                        description  duration  \\\n",
       "31   check only: false, diff: false  00:04:21   \n",
       "40   check only: false, diff: false  00:01:27   \n",
       "50   check only: false, diff: false  00:01:55   \n",
       "52   check only: false, diff: false  00:01:14   \n",
       "60    check only: false, diff: true  00:00:44   \n",
       "..                              ...       ...   \n",
       "946  check only: false, diff: false  00:00:56   \n",
       "947  check only: false, diff: false  00:00:47   \n",
       "957   check only: false, diff: true  00:00:34   \n",
       "962  check only: false, diff: false  00:00:42   \n",
       "963  check only: false, diff: false  00:00:04   \n",
       "\n",
       "                                       fullDisplayName  number   result  \\\n",
       "31   Energy-Operations » XBID Ansible Jobs » XBID A...     986  SUCCESS   \n",
       "40   Energy-Operations » XBID Ansible Jobs » XBID A...     977  FAILURE   \n",
       "50   Energy-Operations » XBID Ansible Jobs » XBID A...     967  FAILURE   \n",
       "52   Energy-Operations » XBID Ansible Jobs » XBID A...     965  FAILURE   \n",
       "60   Energy-Operations » XBID Ansible Jobs » XBID A...     957  SUCCESS   \n",
       "..                                                 ...     ...      ...   \n",
       "946  Energy-Operations » XBID Ansible Jobs » XBID A...      71  SUCCESS   \n",
       "947  Energy-Operations » XBID Ansible Jobs » XBID A...      70  SUCCESS   \n",
       "957  Energy-Operations » XBID Ansible Jobs » XBID A...      60  FAILURE   \n",
       "962  Energy-Operations » XBID Ansible Jobs » XBID A...      55  SUCCESS   \n",
       "963  Energy-Operations » XBID Ansible Jobs » XBID A...      54  FAILURE   \n",
       "\n",
       "      timestamp Environment  Action  \n",
       "31   2021-05-11        cute  deploy  \n",
       "40   2021-05-11        cute  deploy  \n",
       "50   2021-05-11        cute  deploy  \n",
       "52   2021-05-11        cute  deploy  \n",
       "60   2021-05-10        prod  deploy  \n",
       "..          ...         ...     ...  \n",
       "946  2020-09-15        simu  deploy  \n",
       "947  2020-09-11        simu  deploy  \n",
       "957  2020-09-09        perf  deploy  \n",
       "962  2020-09-04        simu  deploy  \n",
       "963  2020-09-04        simu  deploy  \n",
       "\n",
       "[223 rows x 8 columns]"
      ]
     },
     "execution_count": 269,
     "metadata": {},
     "output_type": "execute_result"
    }
   ],
   "source": [
    "import requests\n",
    "import os\n",
    "import urllib\n",
    "import jenkins\n",
    "import json\n",
    "import pandas as pd \n",
    "username = 'oh856'\n",
    "token ='112f71f82cc3d562f1e8b24fadd9cd2a78'\n",
    "auth = ('oh856','Ccf5566096.')\n",
    "server = requests.get('https://englobjci1.deutsche-boerse.de/job/Energy-Operations/job/M7%20Ansible%20Jobs/job/M7-Deploy-Playbook/api/json?tree=allBuilds[actions[parameters[name,value]],duration,description,building,fullDisplayName,id,number,timestamp,result]&pretty=true')\n",
    "server1 = requests.get('https://englobjci1.deutsche-boerse.de/job/Energy-Operations/job/XBID%20Ansible%20Jobs/job/XBID%20Ansible%20deploy%20full/api/json?tree=allBuilds[actions[parameters[name,value]],duration,description,building,fullDisplayName,id,number,timestamp,result]&pretty=true',auth=auth)\n",
    "json_data = json.loads(server1.text)\n",
    "json_data = pd.DataFrame(json_data)\n",
    "builds = json_data['allBuilds'].apply(pd.Series)\n",
    "\n",
    "def environmentcollect(data):       \n",
    "        col1 = data['actions'].apply(pd.Series)\n",
    "        col1_v1 = col1[0].apply(pd.Series)\n",
    "        col1_v2 = col1_v1['parameters'].apply(pd.Series)\n",
    "        env = col1_v2[0].apply(pd.Series)\n",
    "        envcol1 = env['value'] \n",
    "\n",
    "        col2_v1 = col1[1].apply(pd.Series)\n",
    "        col2_v2 = col2_v1['parameters'].apply(pd.Series)\n",
    "        env2 = col2_v2[0].apply(pd.Series)\n",
    "        envcol2 = env2['value'] \n",
    "\n",
    "        col3_v1 = col1[2].apply(pd.Series)\n",
    "        col3_v2 = col3_v1['parameters'].apply(pd.Series)\n",
    "        env3 = col3_v2[0].apply(pd.Series)\n",
    "        envcol3 = env3['value']\n",
    "\n",
    "        col4_v1 = col1[3].apply(pd.Series)\n",
    "        col4_v2 = col4_v1['parameters'].apply(pd.Series)\n",
    "        env4 = col4_v2[0].apply(pd.Series)\n",
    "        envcol4 = env4['value']\n",
    "\n",
    "        envcol1.fillna(envcol2,inplace= True)\n",
    "        envcol1.fillna(envcol3, inplace =True)\n",
    "        envcol1.fillna(envcol4, inplace =True)\n",
    "\n",
    "        return envcol1\n",
    "\n",
    "\n",
    "def actioncollect(data):\n",
    "        act1 = data['actions'].apply(pd.Series)\n",
    "        act1_v1 = act1[0].apply(pd.Series)\n",
    "        act1_v2 = act1_v1['parameters'].apply(pd.Series)\n",
    "        act1_v3 = act1_v2[1].apply(pd.Series)\n",
    "        actcol1 = act1_v3['value'] \n",
    "\n",
    "        \n",
    "        act2 = act1[1].apply(pd.Series)\n",
    "        act2_v2 = act2['parameters'].apply(pd.Series)\n",
    "        act2_v3 = act2_v2[1].apply(pd.Series)\n",
    "        actcol2 = act2_v3['value'] \n",
    "\n",
    "        \n",
    "        act3 = act1[2].apply(pd.Series)\n",
    "        act3_v2 = act3['parameters'].apply(pd.Series)\n",
    "        act3_v3 = act3_v2[1].apply(pd.Series)\n",
    "        actcol3 = act3_v3['value']\n",
    "\n",
    "        act4 = act1[3].apply(pd.Series)\n",
    "        act4_v2 = act4['parameters'].apply(pd.Series)\n",
    "        act4_v3 = act4_v2[1].apply(pd.Series)\n",
    "        actcol4 = act4_v3['value']\n",
    "\n",
    "        actcol1.fillna(actcol2, inplace=True)\n",
    "        actcol1.fillna(actcol3, inplace = True)\n",
    "        actcol1.fillna(actcol4, inplace =True)\n",
    "\n",
    "        return actcol1\n",
    "    \n",
    "def timeconverter(data):\n",
    "        data = pd.to_datetime(data, unit='ms')\n",
    "        data = data.apply(lambda x:x.date())\n",
    "        return  data\n",
    "def durationconverter(data):\n",
    "        data = pd.to_datetime(data, unit='ms')\n",
    "        data = data.dt.strftime('%H:%M:%S')\n",
    "        return data\n",
    "\n",
    "#Data Pre processing\n",
    "builds['Environment'] =  environmentcollect(builds)\n",
    "builds['Action'] = actioncollect(builds)\n",
    "last_version = builds[(builds['description'] == \"check only: false, diff: false\") | (builds['description'] == \"check only: false, diff: true\")]  \n",
    "last_version1 = last_version[last_version['Action'] == \"deploy\"]\n",
    "last_version2 = last_version1[['description','duration','fullDisplayName','number','result','timestamp','Environment','Action']]\n",
    "last_version2['timestamp'] = timeconverter(last_version2['timestamp'])\n",
    "last_version2['duration'] = durationconverter(last_version2['duration'])\n",
    "last_version2"
   ]
  },
  {
   "cell_type": "code",
   "execution_count": 296,
   "metadata": {},
   "outputs": [
    {
     "data": {
      "text/plain": [
       "<matplotlib.axes._subplots.AxesSubplot at 0x7f06baf5c510>"
      ]
     },
     "execution_count": 296,
     "metadata": {},
     "output_type": "execute_result"
    },
    {
     "data": {
      "image/png": "[encoded data removed]",
      "image/svg+xml": [
       "<?xml version=\"1.0\" encoding=\"utf-8\" standalone=\"no\"?>\n",
       "<!DOCTYPE svg PUBLIC \"-//W3C//DTD SVG 1.1//EN\"\n",
       "  \"http://www.w3.org/Graphics/SVG/1.1/DTD/svg11.dtd\">\n",
       "<!-- Created with matplotlib (https://matplotlib.org/) -->\n",
       "<svg height=\"248.518125pt\" version=\"1.1\" viewBox=\"0 0 402.848437 248.518125\" width=\"402.848437pt\" xmlns=\"http://www.w3.org/2000/svg\" xmlns:xlink=\"http://www.w3.org/1999/xlink\">\n",
       " <defs>\n",
       "  <style type=\"text/css\">\n",
       "*{stroke-linecap:butt;stroke-linejoin:round;}\n",
       "  </style>\n",
       " </defs>\n",
       " <g id=\"figure_1\">\n",
       "  <g id=\"patch_1\">\n",
       "   <path d=\"M 0 248.518125 \n",
       "L 402.848437 248.518125 \n",
       "L 402.848437 0 \n",
       "L 0 0 \n",
       "z\n",
       "\" style=\"fill:none;\"/>\n",
       "  </g>\n",
       "  <g id=\"axes_1\">\n",
       "   <g id=\"patch_2\">\n",
       "    <path d=\"M 60.848438 224.64 \n",
       "L 395.648438 224.64 \n",
       "L 395.648438 7.2 \n",
       "L 60.848438 7.2 \n",
       "z\n",
       "\" style=\"fill:#ffffff;\"/>\n",
       "   </g>\n",
       "   <g id=\"patch_3\">\n",
       "    <path clip-path=\"url(#p20d58ae23b)\" d=\"M 60.848438 197.46 \n",
       "L 379.70558 197.46 \n",
       "L 379.70558 143.1 \n",
       "L 60.848438 143.1 \n",
       "z\n",
       "\" style=\"fill:#1f77b4;\"/>\n",
       "   </g>\n",
       "   <g id=\"patch_4\">\n",
       "    <path clip-path=\"url(#p20d58ae23b)\" d=\"M 60.848438 88.74 \n",
       "L 257.245953 88.74 \n",
       "L 257.245953 34.38 \n",
       "L 60.848438 34.38 \n",
       "z\n",
       "\" style=\"fill:#1f77b4;\"/>\n",
       "   </g>\n",
       "   <g id=\"matplotlib.axis_1\">\n",
       "    <g id=\"xtick_1\">\n",
       "     <g id=\"line2d_1\">\n",
       "      <defs>\n",
       "       <path d=\"M 0 0 \n",
       "L 0 3.5 \n",
       "\" id=\"m884177d026\" style=\"stroke:#000000;stroke-width:0.8;\"/>\n",
       "      </defs>\n",
       "      <g>\n",
       "       <use style=\"stroke:#000000;stroke-width:0.8;\" x=\"60.848438\" xlink:href=\"#m884177d026\" y=\"224.64\"/>\n",
       "      </g>\n",
       "     </g>\n",
       "     <g id=\"text_1\">\n",
       "      <!-- 0 -->\n",
       "      <defs>\n",
       "       <path d=\"M 31.78125 66.40625 \n",
       "Q 24.171875 66.40625 20.328125 58.90625 \n",
       "Q 16.5 51.421875 16.5 36.375 \n",
       "Q 16.5 21.390625 20.328125 13.890625 \n",
       "Q 24.171875 6.390625 31.78125 6.390625 \n",
       "Q 39.453125 6.390625 43.28125 13.890625 \n",
       "Q 47.125 21.390625 47.125 36.375 \n",
       "Q 47.125 51.421875 43.28125 58.90625 \n",
       "Q 39.453125 66.40625 31.78125 66.40625 \n",
       "z\n",
       "M 31.78125 74.21875 \n",
       "Q 44.046875 74.21875 50.515625 64.515625 \n",
       "Q 56.984375 54.828125 56.984375 36.375 \n",
       "Q 56.984375 17.96875 50.515625 8.265625 \n",
       "Q 44.046875 -1.421875 31.78125 -1.421875 \n",
       "Q 19.53125 -1.421875 13.0625 8.265625 \n",
       "Q 6.59375 17.96875 6.59375 36.375 \n",
       "Q 6.59375 54.828125 13.0625 64.515625 \n",
       "Q 19.53125 74.21875 31.78125 74.21875 \n",
       "z\n",
       "\" id=\"DejaVuSans-48\"/>\n",
       "      </defs>\n",
       "      <g transform=\"translate(57.667188 239.238437)scale(0.1 -0.1)\">\n",
       "       <use xlink:href=\"#DejaVuSans-48\"/>\n",
       "      </g>\n",
       "     </g>\n",
       "    </g>\n",
       "    <g id=\"xtick_2\">\n",
       "     <g id=\"line2d_2\">\n",
       "      <g>\n",
       "       <use style=\"stroke:#000000;stroke-width:0.8;\" x=\"107.059618\" xlink:href=\"#m884177d026\" y=\"224.64\"/>\n",
       "      </g>\n",
       "     </g>\n",
       "     <g id=\"text_2\">\n",
       "      <!-- 20 -->\n",
       "      <defs>\n",
       "       <path d=\"M 19.1875 8.296875 \n",
       "L 53.609375 8.296875 \n",
       "L 53.609375 0 \n",
       "L 7.328125 0 \n",
       "L 7.328125 8.296875 \n",
       "Q 12.9375 14.109375 22.625 23.890625 \n",
       "Q 32.328125 33.6875 34.8125 36.53125 \n",
       "Q 39.546875 41.84375 41.421875 45.53125 \n",
       "Q 43.3125 49.21875 43.3125 52.78125 \n",
       "Q 43.3125 58.59375 39.234375 62.25 \n",
       "Q 35.15625 65.921875 28.609375 65.921875 \n",
       "Q 23.96875 65.921875 18.8125 64.3125 \n",
       "Q 13.671875 62.703125 7.8125 59.421875 \n",
       "L 7.8125 69.390625 \n",
       "Q 13.765625 71.78125 18.9375 73 \n",
       "Q 24.125 74.21875 28.421875 74.21875 \n",
       "Q 39.75 74.21875 46.484375 68.546875 \n",
       "Q 53.21875 62.890625 53.21875 53.421875 \n",
       "Q 53.21875 48.921875 51.53125 44.890625 \n",
       "Q 49.859375 40.875 45.40625 35.40625 \n",
       "Q 44.1875 33.984375 37.640625 27.21875 \n",
       "Q 31.109375 20.453125 19.1875 8.296875 \n",
       "z\n",
       "\" id=\"DejaVuSans-50\"/>\n",
       "      </defs>\n",
       "      <g transform=\"translate(100.697118 239.238437)scale(0.1 -0.1)\">\n",
       "       <use xlink:href=\"#DejaVuSans-50\"/>\n",
       "       <use x=\"63.623047\" xlink:href=\"#DejaVuSans-48\"/>\n",
       "      </g>\n",
       "     </g>\n",
       "    </g>\n",
       "    <g id=\"xtick_3\">\n",
       "     <g id=\"line2d_3\">\n",
       "      <g>\n",
       "       <use style=\"stroke:#000000;stroke-width:0.8;\" x=\"153.270798\" xlink:href=\"#m884177d026\" y=\"224.64\"/>\n",
       "      </g>\n",
       "     </g>\n",
       "     <g id=\"text_3\">\n",
       "      <!-- 40 -->\n",
       "      <defs>\n",
       "       <path d=\"M 37.796875 64.3125 \n",
       "L 12.890625 25.390625 \n",
       "L 37.796875 25.390625 \n",
       "z\n",
       "M 35.203125 72.90625 \n",
       "L 47.609375 72.90625 \n",
       "L 47.609375 25.390625 \n",
       "L 58.015625 25.390625 \n",
       "L 58.015625 17.1875 \n",
       "L 47.609375 17.1875 \n",
       "L 47.609375 0 \n",
       "L 37.796875 0 \n",
       "L 37.796875 17.1875 \n",
       "L 4.890625 17.1875 \n",
       "L 4.890625 26.703125 \n",
       "z\n",
       "\" id=\"DejaVuSans-52\"/>\n",
       "      </defs>\n",
       "      <g transform=\"translate(146.908298 239.238437)scale(0.1 -0.1)\">\n",
       "       <use xlink:href=\"#DejaVuSans-52\"/>\n",
       "       <use x=\"63.623047\" xlink:href=\"#DejaVuSans-48\"/>\n",
       "      </g>\n",
       "     </g>\n",
       "    </g>\n",
       "    <g id=\"xtick_4\">\n",
       "     <g id=\"line2d_4\">\n",
       "      <g>\n",
       "       <use style=\"stroke:#000000;stroke-width:0.8;\" x=\"199.481978\" xlink:href=\"#m884177d026\" y=\"224.64\"/>\n",
       "      </g>\n",
       "     </g>\n",
       "     <g id=\"text_4\">\n",
       "      <!-- 60 -->\n",
       "      <defs>\n",
       "       <path d=\"M 33.015625 40.375 \n",
       "Q 26.375 40.375 22.484375 35.828125 \n",
       "Q 18.609375 31.296875 18.609375 23.390625 \n",
       "Q 18.609375 15.53125 22.484375 10.953125 \n",
       "Q 26.375 6.390625 33.015625 6.390625 \n",
       "Q 39.65625 6.390625 43.53125 10.953125 \n",
       "Q 47.40625 15.53125 47.40625 23.390625 \n",
       "Q 47.40625 31.296875 43.53125 35.828125 \n",
       "Q 39.65625 40.375 33.015625 40.375 \n",
       "z\n",
       "M 52.59375 71.296875 \n",
       "L 52.59375 62.3125 \n",
       "Q 48.875 64.0625 45.09375 64.984375 \n",
       "Q 41.3125 65.921875 37.59375 65.921875 \n",
       "Q 27.828125 65.921875 22.671875 59.328125 \n",
       "Q 17.53125 52.734375 16.796875 39.40625 \n",
       "Q 19.671875 43.65625 24.015625 45.921875 \n",
       "Q 28.375 48.1875 33.59375 48.1875 \n",
       "Q 44.578125 48.1875 50.953125 41.515625 \n",
       "Q 57.328125 34.859375 57.328125 23.390625 \n",
       "Q 57.328125 12.15625 50.6875 5.359375 \n",
       "Q 44.046875 -1.421875 33.015625 -1.421875 \n",
       "Q 20.359375 -1.421875 13.671875 8.265625 \n",
       "Q 6.984375 17.96875 6.984375 36.375 \n",
       "Q 6.984375 53.65625 15.1875 63.9375 \n",
       "Q 23.390625 74.21875 37.203125 74.21875 \n",
       "Q 40.921875 74.21875 44.703125 73.484375 \n",
       "Q 48.484375 72.75 52.59375 71.296875 \n",
       "z\n",
       "\" id=\"DejaVuSans-54\"/>\n",
       "      </defs>\n",
       "      <g transform=\"translate(193.119478 239.238437)scale(0.1 -0.1)\">\n",
       "       <use xlink:href=\"#DejaVuSans-54\"/>\n",
       "       <use x=\"63.623047\" xlink:href=\"#DejaVuSans-48\"/>\n",
       "      </g>\n",
       "     </g>\n",
       "    </g>\n",
       "    <g id=\"xtick_5\">\n",
       "     <g id=\"line2d_5\">\n",
       "      <g>\n",
       "       <use style=\"stroke:#000000;stroke-width:0.8;\" x=\"245.693158\" xlink:href=\"#m884177d026\" y=\"224.64\"/>\n",
       "      </g>\n",
       "     </g>\n",
       "     <g id=\"text_5\">\n",
       "      <!-- 80 -->\n",
       "      <defs>\n",
       "       <path d=\"M 31.78125 34.625 \n",
       "Q 24.75 34.625 20.71875 30.859375 \n",
       "Q 16.703125 27.09375 16.703125 20.515625 \n",
       "Q 16.703125 13.921875 20.71875 10.15625 \n",
       "Q 24.75 6.390625 31.78125 6.390625 \n",
       "Q 38.8125 6.390625 42.859375 10.171875 \n",
       "Q 46.921875 13.96875 46.921875 20.515625 \n",
       "Q 46.921875 27.09375 42.890625 30.859375 \n",
       "Q 38.875 34.625 31.78125 34.625 \n",
       "z\n",
       "M 21.921875 38.8125 \n",
       "Q 15.578125 40.375 12.03125 44.71875 \n",
       "Q 8.5 49.078125 8.5 55.328125 \n",
       "Q 8.5 64.0625 14.71875 69.140625 \n",
       "Q 20.953125 74.21875 31.78125 74.21875 \n",
       "Q 42.671875 74.21875 48.875 69.140625 \n",
       "Q 55.078125 64.0625 55.078125 55.328125 \n",
       "Q 55.078125 49.078125 51.53125 44.71875 \n",
       "Q 48 40.375 41.703125 38.8125 \n",
       "Q 48.828125 37.15625 52.796875 32.3125 \n",
       "Q 56.78125 27.484375 56.78125 20.515625 \n",
       "Q 56.78125 9.90625 50.3125 4.234375 \n",
       "Q 43.84375 -1.421875 31.78125 -1.421875 \n",
       "Q 19.734375 -1.421875 13.25 4.234375 \n",
       "Q 6.78125 9.90625 6.78125 20.515625 \n",
       "Q 6.78125 27.484375 10.78125 32.3125 \n",
       "Q 14.796875 37.15625 21.921875 38.8125 \n",
       "z\n",
       "M 18.3125 54.390625 \n",
       "Q 18.3125 48.734375 21.84375 45.5625 \n",
       "Q 25.390625 42.390625 31.78125 42.390625 \n",
       "Q 38.140625 42.390625 41.71875 45.5625 \n",
       "Q 45.3125 48.734375 45.3125 54.390625 \n",
       "Q 45.3125 60.0625 41.71875 63.234375 \n",
       "Q 38.140625 66.40625 31.78125 66.40625 \n",
       "Q 25.390625 66.40625 21.84375 63.234375 \n",
       "Q 18.3125 60.0625 18.3125 54.390625 \n",
       "z\n",
       "\" id=\"DejaVuSans-56\"/>\n",
       "      </defs>\n",
       "      <g transform=\"translate(239.330658 239.238437)scale(0.1 -0.1)\">\n",
       "       <use xlink:href=\"#DejaVuSans-56\"/>\n",
       "       <use x=\"63.623047\" xlink:href=\"#DejaVuSans-48\"/>\n",
       "      </g>\n",
       "     </g>\n",
       "    </g>\n",
       "    <g id=\"xtick_6\">\n",
       "     <g id=\"line2d_6\">\n",
       "      <g>\n",
       "       <use style=\"stroke:#000000;stroke-width:0.8;\" x=\"291.904338\" xlink:href=\"#m884177d026\" y=\"224.64\"/>\n",
       "      </g>\n",
       "     </g>\n",
       "     <g id=\"text_6\">\n",
       "      <!-- 100 -->\n",
       "      <defs>\n",
       "       <path d=\"M 12.40625 8.296875 \n",
       "L 28.515625 8.296875 \n",
       "L 28.515625 63.921875 \n",
       "L 10.984375 60.40625 \n",
       "L 10.984375 69.390625 \n",
       "L 28.421875 72.90625 \n",
       "L 38.28125 72.90625 \n",
       "L 38.28125 8.296875 \n",
       "L 54.390625 8.296875 \n",
       "L 54.390625 0 \n",
       "L 12.40625 0 \n",
       "z\n",
       "\" id=\"DejaVuSans-49\"/>\n",
       "      </defs>\n",
       "      <g transform=\"translate(282.360588 239.238437)scale(0.1 -0.1)\">\n",
       "       <use xlink:href=\"#DejaVuSans-49\"/>\n",
       "       <use x=\"63.623047\" xlink:href=\"#DejaVuSans-48\"/>\n",
       "       <use x=\"127.246094\" xlink:href=\"#DejaVuSans-48\"/>\n",
       "      </g>\n",
       "     </g>\n",
       "    </g>\n",
       "    <g id=\"xtick_7\">\n",
       "     <g id=\"line2d_7\">\n",
       "      <g>\n",
       "       <use style=\"stroke:#000000;stroke-width:0.8;\" x=\"338.115518\" xlink:href=\"#m884177d026\" y=\"224.64\"/>\n",
       "      </g>\n",
       "     </g>\n",
       "     <g id=\"text_7\">\n",
       "      <!-- 120 -->\n",
       "      <g transform=\"translate(328.571768 239.238437)scale(0.1 -0.1)\">\n",
       "       <use xlink:href=\"#DejaVuSans-49\"/>\n",
       "       <use x=\"63.623047\" xlink:href=\"#DejaVuSans-50\"/>\n",
       "       <use x=\"127.246094\" xlink:href=\"#DejaVuSans-48\"/>\n",
       "      </g>\n",
       "     </g>\n",
       "    </g>\n",
       "    <g id=\"xtick_8\">\n",
       "     <g id=\"line2d_8\">\n",
       "      <g>\n",
       "       <use style=\"stroke:#000000;stroke-width:0.8;\" x=\"384.326698\" xlink:href=\"#m884177d026\" y=\"224.64\"/>\n",
       "      </g>\n",
       "     </g>\n",
       "     <g id=\"text_8\">\n",
       "      <!-- 140 -->\n",
       "      <g transform=\"translate(374.782948 239.238437)scale(0.1 -0.1)\">\n",
       "       <use xlink:href=\"#DejaVuSans-49\"/>\n",
       "       <use x=\"63.623047\" xlink:href=\"#DejaVuSans-52\"/>\n",
       "       <use x=\"127.246094\" xlink:href=\"#DejaVuSans-48\"/>\n",
       "      </g>\n",
       "     </g>\n",
       "    </g>\n",
       "   </g>\n",
       "   <g id=\"matplotlib.axis_2\">\n",
       "    <g id=\"ytick_1\">\n",
       "     <g id=\"line2d_9\">\n",
       "      <defs>\n",
       "       <path d=\"M 0 0 \n",
       "L -3.5 0 \n",
       "\" id=\"m236acd430e\" style=\"stroke:#000000;stroke-width:0.8;\"/>\n",
       "      </defs>\n",
       "      <g>\n",
       "       <use style=\"stroke:#000000;stroke-width:0.8;\" x=\"60.848438\" xlink:href=\"#m236acd430e\" y=\"170.28\"/>\n",
       "      </g>\n",
       "     </g>\n",
       "     <g id=\"text_9\">\n",
       "      <!-- SUCCESS -->\n",
       "      <defs>\n",
       "       <path d=\"M 53.515625 70.515625 \n",
       "L 53.515625 60.890625 \n",
       "Q 47.90625 63.578125 42.921875 64.890625 \n",
       "Q 37.9375 66.21875 33.296875 66.21875 \n",
       "Q 25.25 66.21875 20.875 63.09375 \n",
       "Q 16.5 59.96875 16.5 54.203125 \n",
       "Q 16.5 49.359375 19.40625 46.890625 \n",
       "Q 22.3125 44.4375 30.421875 42.921875 \n",
       "L 36.375 41.703125 \n",
       "Q 47.40625 39.59375 52.65625 34.296875 \n",
       "Q 57.90625 29 57.90625 20.125 \n",
       "Q 57.90625 9.515625 50.796875 4.046875 \n",
       "Q 43.703125 -1.421875 29.984375 -1.421875 \n",
       "Q 24.8125 -1.421875 18.96875 -0.25 \n",
       "Q 13.140625 0.921875 6.890625 3.21875 \n",
       "L 6.890625 13.375 \n",
       "Q 12.890625 10.015625 18.65625 8.296875 \n",
       "Q 24.421875 6.59375 29.984375 6.59375 \n",
       "Q 38.421875 6.59375 43.015625 9.90625 \n",
       "Q 47.609375 13.234375 47.609375 19.390625 \n",
       "Q 47.609375 24.75 44.3125 27.78125 \n",
       "Q 41.015625 30.8125 33.5 32.328125 \n",
       "L 27.484375 33.5 \n",
       "Q 16.453125 35.6875 11.515625 40.375 \n",
       "Q 6.59375 45.0625 6.59375 53.421875 \n",
       "Q 6.59375 63.09375 13.40625 68.65625 \n",
       "Q 20.21875 74.21875 32.171875 74.21875 \n",
       "Q 37.3125 74.21875 42.625 73.28125 \n",
       "Q 47.953125 72.359375 53.515625 70.515625 \n",
       "z\n",
       "\" id=\"DejaVuSans-83\"/>\n",
       "       <path d=\"M 8.6875 72.90625 \n",
       "L 18.609375 72.90625 \n",
       "L 18.609375 28.609375 \n",
       "Q 18.609375 16.890625 22.84375 11.734375 \n",
       "Q 27.09375 6.59375 36.625 6.59375 \n",
       "Q 46.09375 6.59375 50.34375 11.734375 \n",
       "Q 54.59375 16.890625 54.59375 28.609375 \n",
       "L 54.59375 72.90625 \n",
       "L 64.5 72.90625 \n",
       "L 64.5 27.390625 \n",
       "Q 64.5 13.140625 57.4375 5.859375 \n",
       "Q 50.390625 -1.421875 36.625 -1.421875 \n",
       "Q 22.796875 -1.421875 15.734375 5.859375 \n",
       "Q 8.6875 13.140625 8.6875 27.390625 \n",
       "z\n",
       "\" id=\"DejaVuSans-85\"/>\n",
       "       <path d=\"M 64.40625 67.28125 \n",
       "L 64.40625 56.890625 \n",
       "Q 59.421875 61.53125 53.78125 63.8125 \n",
       "Q 48.140625 66.109375 41.796875 66.109375 \n",
       "Q 29.296875 66.109375 22.65625 58.46875 \n",
       "Q 16.015625 50.828125 16.015625 36.375 \n",
       "Q 16.015625 21.96875 22.65625 14.328125 \n",
       "Q 29.296875 6.6875 41.796875 6.6875 \n",
       "Q 48.140625 6.6875 53.78125 8.984375 \n",
       "Q 59.421875 11.28125 64.40625 15.921875 \n",
       "L 64.40625 5.609375 \n",
       "Q 59.234375 2.09375 53.4375 0.328125 \n",
       "Q 47.65625 -1.421875 41.21875 -1.421875 \n",
       "Q 24.65625 -1.421875 15.125 8.703125 \n",
       "Q 5.609375 18.84375 5.609375 36.375 \n",
       "Q 5.609375 53.953125 15.125 64.078125 \n",
       "Q 24.65625 74.21875 41.21875 74.21875 \n",
       "Q 47.75 74.21875 53.53125 72.484375 \n",
       "Q 59.328125 70.75 64.40625 67.28125 \n",
       "z\n",
       "\" id=\"DejaVuSans-67\"/>\n",
       "       <path d=\"M 9.8125 72.90625 \n",
       "L 55.90625 72.90625 \n",
       "L 55.90625 64.59375 \n",
       "L 19.671875 64.59375 \n",
       "L 19.671875 43.015625 \n",
       "L 54.390625 43.015625 \n",
       "L 54.390625 34.71875 \n",
       "L 19.671875 34.71875 \n",
       "L 19.671875 8.296875 \n",
       "L 56.78125 8.296875 \n",
       "L 56.78125 0 \n",
       "L 9.8125 0 \n",
       "z\n",
       "\" id=\"DejaVuSans-69\"/>\n",
       "      </defs>\n",
       "      <g transform=\"translate(7.2 174.079219)scale(0.1 -0.1)\">\n",
       "       <use xlink:href=\"#DejaVuSans-83\"/>\n",
       "       <use x=\"63.476562\" xlink:href=\"#DejaVuSans-85\"/>\n",
       "       <use x=\"136.669922\" xlink:href=\"#DejaVuSans-67\"/>\n",
       "       <use x=\"206.494141\" xlink:href=\"#DejaVuSans-67\"/>\n",
       "       <use x=\"276.318359\" xlink:href=\"#DejaVuSans-69\"/>\n",
       "       <use x=\"339.501953\" xlink:href=\"#DejaVuSans-83\"/>\n",
       "       <use x=\"402.978516\" xlink:href=\"#DejaVuSans-83\"/>\n",
       "      </g>\n",
       "     </g>\n",
       "    </g>\n",
       "    <g id=\"ytick_2\">\n",
       "     <g id=\"line2d_10\">\n",
       "      <g>\n",
       "       <use style=\"stroke:#000000;stroke-width:0.8;\" x=\"60.848438\" xlink:href=\"#m236acd430e\" y=\"61.56\"/>\n",
       "      </g>\n",
       "     </g>\n",
       "     <g id=\"text_10\">\n",
       "      <!-- FAILURE -->\n",
       "      <defs>\n",
       "       <path d=\"M 9.8125 72.90625 \n",
       "L 51.703125 72.90625 \n",
       "L 51.703125 64.59375 \n",
       "L 19.671875 64.59375 \n",
       "L 19.671875 43.109375 \n",
       "L 48.578125 43.109375 \n",
       "L 48.578125 34.8125 \n",
       "L 19.671875 34.8125 \n",
       "L 19.671875 0 \n",
       "L 9.8125 0 \n",
       "z\n",
       "\" id=\"DejaVuSans-70\"/>\n",
       "       <path d=\"M 34.1875 63.1875 \n",
       "L 20.796875 26.90625 \n",
       "L 47.609375 26.90625 \n",
       "z\n",
       "M 28.609375 72.90625 \n",
       "L 39.796875 72.90625 \n",
       "L 67.578125 0 \n",
       "L 57.328125 0 \n",
       "L 50.6875 18.703125 \n",
       "L 17.828125 18.703125 \n",
       "L 11.1875 0 \n",
       "L 0.78125 0 \n",
       "z\n",
       "\" id=\"DejaVuSans-65\"/>\n",
       "       <path d=\"M 9.8125 72.90625 \n",
       "L 19.671875 72.90625 \n",
       "L 19.671875 0 \n",
       "L 9.8125 0 \n",
       "z\n",
       "\" id=\"DejaVuSans-73\"/>\n",
       "       <path d=\"M 9.8125 72.90625 \n",
       "L 19.671875 72.90625 \n",
       "L 19.671875 8.296875 \n",
       "L 55.171875 8.296875 \n",
       "L 55.171875 0 \n",
       "L 9.8125 0 \n",
       "z\n",
       "\" id=\"DejaVuSans-76\"/>\n",
       "       <path d=\"M 44.390625 34.1875 \n",
       "Q 47.5625 33.109375 50.5625 29.59375 \n",
       "Q 53.5625 26.078125 56.59375 19.921875 \n",
       "L 66.609375 0 \n",
       "L 56 0 \n",
       "L 46.6875 18.703125 \n",
       "Q 43.0625 26.03125 39.671875 28.421875 \n",
       "Q 36.28125 30.8125 30.421875 30.8125 \n",
       "L 19.671875 30.8125 \n",
       "L 19.671875 0 \n",
       "L 9.8125 0 \n",
       "L 9.8125 72.90625 \n",
       "L 32.078125 72.90625 \n",
       "Q 44.578125 72.90625 50.734375 67.671875 \n",
       "Q 56.890625 62.453125 56.890625 51.90625 \n",
       "Q 56.890625 45.015625 53.6875 40.46875 \n",
       "Q 50.484375 35.9375 44.390625 34.1875 \n",
       "z\n",
       "M 19.671875 64.796875 \n",
       "L 19.671875 38.921875 \n",
       "L 32.078125 38.921875 \n",
       "Q 39.203125 38.921875 42.84375 42.21875 \n",
       "Q 46.484375 45.515625 46.484375 51.90625 \n",
       "Q 46.484375 58.296875 42.84375 61.546875 \n",
       "Q 39.203125 64.796875 32.078125 64.796875 \n",
       "z\n",
       "\" id=\"DejaVuSans-82\"/>\n",
       "      </defs>\n",
       "      <g transform=\"translate(12.170313 65.359219)scale(0.1 -0.1)\">\n",
       "       <use xlink:href=\"#DejaVuSans-70\"/>\n",
       "       <use x=\"57.378906\" xlink:href=\"#DejaVuSans-65\"/>\n",
       "       <use x=\"125.787109\" xlink:href=\"#DejaVuSans-73\"/>\n",
       "       <use x=\"155.279297\" xlink:href=\"#DejaVuSans-76\"/>\n",
       "       <use x=\"210.914062\" xlink:href=\"#DejaVuSans-85\"/>\n",
       "       <use x=\"284.107422\" xlink:href=\"#DejaVuSans-82\"/>\n",
       "       <use x=\"353.589844\" xlink:href=\"#DejaVuSans-69\"/>\n",
       "      </g>\n",
       "     </g>\n",
       "    </g>\n",
       "   </g>\n",
       "   <g id=\"patch_5\">\n",
       "    <path d=\"M 60.848438 224.64 \n",
       "L 60.848438 7.2 \n",
       "\" style=\"fill:none;stroke:#000000;stroke-linecap:square;stroke-linejoin:miter;stroke-width:0.8;\"/>\n",
       "   </g>\n",
       "   <g id=\"patch_6\">\n",
       "    <path d=\"M 395.648438 224.64 \n",
       "L 395.648438 7.2 \n",
       "\" style=\"fill:none;stroke:#000000;stroke-linecap:square;stroke-linejoin:miter;stroke-width:0.8;\"/>\n",
       "   </g>\n",
       "   <g id=\"patch_7\">\n",
       "    <path d=\"M 60.848438 224.64 \n",
       "L 395.648438 224.64 \n",
       "\" style=\"fill:none;stroke:#000000;stroke-linecap:square;stroke-linejoin:miter;stroke-width:0.8;\"/>\n",
       "   </g>\n",
       "   <g id=\"patch_8\">\n",
       "    <path d=\"M 60.848438 7.2 \n",
       "L 395.648438 7.2 \n",
       "\" style=\"fill:none;stroke:#000000;stroke-linecap:square;stroke-linejoin:miter;stroke-width:0.8;\"/>\n",
       "   </g>\n",
       "  </g>\n",
       " </g>\n",
       " <defs>\n",
       "  <clipPath id=\"p20d58ae23b\">\n",
       "   <rect height=\"217.44\" width=\"334.8\" x=\"60.848438\" y=\"7.2\"/>\n",
       "  </clipPath>\n",
       " </defs>\n",
       "</svg>\n"
      ],
      "text/plain": [
       "<Figure size 432x288 with 1 Axes>"
      ]
     },
     "metadata": {
      "needs_background": "light"
     },
     "output_type": "display_data"
    }
   ],
   "source": [
    "last_version2['result'].value_counts().plot.barh()"
   ]
  },
  {
   "cell_type": "code",
   "execution_count": 299,
   "metadata": {
    "tags": []
   },
   "outputs": [
    {
     "name": "stdout",
     "output_type": "stream",
     "text": [
      "=== 1047 ===\n",
      "=== 1046 ===\n",
      "=== 1045 ===\n",
      "=== 1044 ===\n",
      "=== 1043 ===\n",
      "=== 1042 ===\n",
      "=== 1041 ===\n",
      "=== 1040 ===\n",
      "=== 1039 ===\n",
      "=== 1038 ===\n",
      "=== 1037 ===\n",
      "=== 1036 ===\n",
      "=== 1035 ===\n",
      "=== 1034 ===\n",
      "=== 1033 ===\n",
      "=== 1032 ===\n",
      "=== 1031 ===\n",
      "=== 1030 ===\n",
      "=== 1029 ===\n",
      "=== 1028 ===\n",
      "=== 1027 ===\n",
      "=== 1026 ===\n",
      "=== 1025 ===\n",
      "=== 1024 ===\n",
      "=== 1023 ===\n",
      "=== 1022 ===\n",
      "=== 1021 ===\n",
      "=== 1020 ===\n",
      "=== 1019 ===\n",
      "=== 1018 ===\n",
      "=== 1017 ===\n",
      "=== 1016 ===\n",
      "=== 1015 ===\n",
      "=== 1014 ===\n",
      "=== 1013 ===\n",
      "=== 1012 ===\n",
      "=== 1011 ===\n",
      "=== 1010 ===\n",
      "=== 1009 ===\n",
      "=== 1008 ===\n",
      "=== 1007 ===\n",
      "=== 1006 ===\n",
      "=== 1005 ===\n",
      "=== 1004 ===\n",
      "=== 1003 ===\n",
      "=== 1002 ===\n",
      "=== 1001 ===\n",
      "=== 1000 ===\n",
      "=== 999 ===\n",
      "=== 998 ===\n",
      "=== 997 ===\n",
      "=== 996 ===\n",
      "=== 995 ===\n",
      "=== 994 ===\n",
      "=== 993 ===\n",
      "=== 992 ===\n",
      "=== 991 ===\n",
      "=== 990 ===\n",
      "=== 989 ===\n",
      "=== 988 ===\n",
      "=== 987 ===\n",
      "=== 986 ===\n",
      "=== 985 ===\n",
      "=== 984 ===\n",
      "=== 983 ===\n",
      "=== 982 ===\n",
      "=== 981 ===\n",
      "=== 980 ===\n",
      "=== 979 ===\n",
      "=== 978 ===\n",
      "=== 977 ===\n",
      "=== 976 ===\n",
      "=== 975 ===\n",
      "=== 974 ===\n",
      "=== 973 ===\n",
      "=== 972 ===\n",
      "=== 971 ===\n",
      "=== 970 ===\n",
      "=== 969 ===\n",
      "=== 968 ===\n",
      "=== 967 ===\n",
      "=== 966 ===\n",
      "=== 965 ===\n",
      "=== 964 ===\n",
      "=== 963 ===\n",
      "=== 962 ===\n",
      "=== 961 ===\n",
      "=== 960 ===\n",
      "=== 959 ===\n",
      "=== 958 ===\n",
      "=== 957 ===\n",
      "=== 956 ===\n",
      "=== 955 ===\n",
      "=== 954 ===\n",
      "=== 953 ===\n",
      "=== 952 ===\n",
      "=== 951 ===\n",
      "=== 950 ===\n",
      "=== 949 ===\n",
      "=== 948 ===\n",
      "=== 947 ===\n",
      "=== 946 ===\n",
      "=== 945 ===\n",
      "=== 944 ===\n",
      "=== 943 ===\n",
      "=== 942 ===\n",
      "=== 941 ===\n",
      "=== 940 ===\n",
      "=== 939 ===\n",
      "=== 938 ===\n",
      "=== 937 ===\n",
      "=== 936 ===\n",
      "=== 935 ===\n",
      "=== 934 ===\n",
      "=== 933 ===\n",
      "=== 932 ===\n",
      "=== 931 ===\n",
      "=== 930 ===\n",
      "=== 929 ===\n",
      "=== 928 ===\n",
      "=== 927 ===\n",
      "=== 926 ===\n",
      "=== 925 ===\n",
      "=== 924 ===\n",
      "=== 923 ===\n",
      "=== 922 ===\n",
      "=== 921 ===\n",
      "=== 920 ===\n",
      "=== 919 ===\n",
      "=== 918 ===\n",
      "=== 917 ===\n",
      "=== 916 ===\n",
      "=== 915 ===\n",
      "=== 914 ===\n",
      "=== 913 ===\n",
      "=== 912 ===\n",
      "=== 911 ===\n",
      "=== 910 ===\n",
      "=== 909 ===\n",
      "=== 908 ===\n",
      "=== 907 ===\n",
      "=== 906 ===\n",
      "=== 905 ===\n",
      "=== 904 ===\n",
      "=== 903 ===\n",
      "=== 902 ===\n",
      "=== 901 ===\n",
      "=== 900 ===\n",
      "=== 899 ===\n",
      "=== 898 ===\n",
      "=== 897 ===\n",
      "=== 896 ===\n",
      "=== 895 ===\n",
      "=== 894 ===\n",
      "=== 893 ===\n",
      "=== 892 ===\n",
      "=== 891 ===\n",
      "=== 890 ===\n",
      "=== 889 ===\n",
      "=== 888 ===\n",
      "=== 887 ===\n",
      "=== 886 ===\n",
      "=== 885 ===\n",
      "=== 884 ===\n",
      "=== 883 ===\n",
      "=== 882 ===\n",
      "=== 881 ===\n",
      "=== 880 ===\n",
      "=== 879 ===\n",
      "=== 878 ===\n",
      "=== 877 ===\n",
      "=== 876 ===\n",
      "=== 875 ===\n",
      "=== 874 ===\n",
      "=== 873 ===\n",
      "=== 872 ===\n",
      "=== 871 ===\n",
      "=== 870 ===\n",
      "=== 869 ===\n",
      "=== 868 ===\n",
      "=== 867 ===\n",
      "=== 866 ===\n",
      "=== 865 ===\n",
      "=== 864 ===\n",
      "=== 863 ===\n",
      "=== 862 ===\n",
      "=== 861 ===\n",
      "=== 860 ===\n",
      "=== 859 ===\n",
      "=== 858 ===\n",
      "=== 857 ===\n",
      "=== 856 ===\n",
      "=== 855 ===\n",
      "=== 854 ===\n",
      "=== 853 ===\n",
      "=== 852 ===\n",
      "=== 851 ===\n",
      "=== 850 ===\n",
      "=== 849 ===\n",
      "=== 848 ===\n",
      "=== 847 ===\n",
      "=== 846 ===\n",
      "=== 845 ===\n",
      "=== 844 ===\n",
      "=== 843 ===\n",
      "=== 842 ===\n",
      "=== 841 ===\n",
      "=== 840 ===\n",
      "=== 839 ===\n",
      "=== 838 ===\n",
      "=== 837 ===\n",
      "=== 836 ===\n",
      "=== 835 ===\n",
      "=== 834 ===\n",
      "=== 833 ===\n",
      "=== 832 ===\n",
      "=== 831 ===\n",
      "=== 830 ===\n",
      "=== 829 ===\n",
      "=== 828 ===\n",
      "=== 827 ===\n",
      "=== 826 ===\n",
      "=== 825 ===\n",
      "=== 824 ===\n",
      "=== 823 ===\n",
      "=== 822 ===\n",
      "=== 821 ===\n",
      "=== 820 ===\n",
      "=== 819 ===\n",
      "=== 818 ===\n",
      "=== 817 ===\n",
      "=== 816 ===\n",
      "=== 815 ===\n",
      "=== 814 ===\n",
      "=== 813 ===\n",
      "=== 812 ===\n",
      "=== 811 ===\n",
      "=== 810 ===\n",
      "=== 809 ===\n",
      "=== 808 ===\n",
      "=== 807 ===\n",
      "=== 806 ===\n",
      "=== 805 ===\n",
      "=== 804 ===\n",
      "=== 803 ===\n",
      "=== 802 ===\n",
      "=== 801 ===\n",
      "=== 800 ===\n",
      "=== 799 ===\n",
      "=== 798 ===\n",
      "=== 797 ===\n",
      "=== 796 ===\n",
      "=== 795 ===\n",
      "=== 794 ===\n",
      "=== 793 ===\n",
      "=== 792 ===\n",
      "=== 791 ===\n",
      "=== 790 ===\n",
      "=== 789 ===\n",
      "=== 788 ===\n",
      "=== 787 ===\n",
      "=== 786 ===\n",
      "=== 785 ===\n",
      "=== 784 ===\n",
      "=== 783 ===\n",
      "=== 782 ===\n",
      "=== 781 ===\n",
      "=== 780 ===\n",
      "=== 779 ===\n",
      "=== 778 ===\n",
      "=== 777 ===\n",
      "=== 776 ===\n",
      "=== 775 ===\n",
      "=== 774 ===\n",
      "=== 773 ===\n",
      "=== 772 ===\n",
      "=== 771 ===\n",
      "=== 770 ===\n",
      "=== 769 ===\n",
      "=== 768 ===\n",
      "=== 767 ===\n",
      "=== 766 ===\n",
      "=== 765 ===\n",
      "=== 764 ===\n",
      "=== 763 ===\n",
      "=== 762 ===\n",
      "=== 761 ===\n",
      "=== 760 ===\n",
      "=== 759 ===\n",
      "=== 758 ===\n",
      "=== 757 ===\n",
      "=== 756 ===\n",
      "=== 755 ===\n",
      "=== 754 ===\n",
      "=== 753 ===\n",
      "=== 752 ===\n",
      "=== 751 ===\n",
      "=== 750 ===\n",
      "=== 749 ===\n",
      "=== 748 ===\n",
      "=== 747 ===\n",
      "=== 746 ===\n",
      "=== 745 ===\n",
      "=== 744 ===\n",
      "=== 743 ===\n",
      "=== 742 ===\n",
      "=== 741 ===\n",
      "=== 740 ===\n",
      "=== 739 ===\n",
      "=== 738 ===\n",
      "=== 737 ===\n",
      "=== 736 ===\n",
      "=== 735 ===\n",
      "=== 734 ===\n",
      "=== 733 ===\n",
      "=== 732 ===\n",
      "=== 731 ===\n",
      "=== 730 ===\n",
      "=== 729 ===\n",
      "=== 728 ===\n",
      "=== 727 ===\n",
      "=== 726 ===\n",
      "=== 725 ===\n",
      "=== 724 ===\n",
      "=== 723 ===\n",
      "=== 722 ===\n",
      "=== 721 ===\n",
      "=== 720 ===\n",
      "=== 719 ===\n",
      "=== 718 ===\n",
      "=== 717 ===\n",
      "=== 716 ===\n",
      "=== 715 ===\n",
      "=== 714 ===\n",
      "=== 713 ===\n",
      "=== 712 ===\n",
      "=== 711 ===\n",
      "=== 710 ===\n",
      "=== 709 ===\n",
      "=== 708 ===\n",
      "=== 707 ===\n",
      "=== 706 ===\n",
      "=== 705 ===\n",
      "=== 704 ===\n",
      "=== 703 ===\n",
      "=== 702 ===\n",
      "=== 701 ===\n",
      "=== 700 ===\n",
      "=== 699 ===\n",
      "=== 698 ===\n",
      "=== 697 ===\n",
      "=== 696 ===\n",
      "=== 695 ===\n",
      "=== 694 ===\n",
      "=== 693 ===\n",
      "=== 692 ===\n",
      "=== 691 ===\n",
      "=== 690 ===\n",
      "=== 689 ===\n",
      "=== 688 ===\n",
      "=== 687 ===\n",
      "=== 686 ===\n",
      "=== 685 ===\n",
      "=== 684 ===\n",
      "=== 683 ===\n",
      "=== 682 ===\n",
      "=== 681 ===\n",
      "=== 680 ===\n",
      "=== 679 ===\n",
      "=== 678 ===\n",
      "=== 677 ===\n",
      "=== 676 ===\n",
      "=== 675 ===\n",
      "=== 674 ===\n",
      "=== 673 ===\n",
      "=== 672 ===\n",
      "=== 671 ===\n",
      "=== 670 ===\n",
      "=== 669 ===\n",
      "=== 668 ===\n",
      "=== 667 ===\n",
      "=== 666 ===\n",
      "=== 665 ===\n",
      "=== 664 ===\n",
      "=== 663 ===\n",
      "=== 662 ===\n",
      "=== 661 ===\n",
      "=== 660 ===\n",
      "=== 659 ===\n",
      "=== 658 ===\n",
      "=== 657 ===\n",
      "=== 656 ===\n",
      "=== 655 ===\n",
      "=== 654 ===\n",
      "=== 653 ===\n",
      "=== 652 ===\n",
      "=== 651 ===\n",
      "=== 650 ===\n",
      "=== 649 ===\n",
      "=== 648 ===\n",
      "=== 647 ===\n",
      "=== 646 ===\n",
      "=== 645 ===\n",
      "=== 644 ===\n",
      "=== 643 ===\n",
      "=== 642 ===\n",
      "=== 641 ===\n",
      "=== 640 ===\n",
      "=== 639 ===\n",
      "=== 638 ===\n",
      "=== 637 ===\n",
      "=== 636 ===\n",
      "=== 635 ===\n",
      "=== 634 ===\n",
      "=== 633 ===\n",
      "=== 632 ===\n",
      "=== 631 ===\n",
      "=== 630 ===\n",
      "=== 629 ===\n",
      "=== 628 ===\n",
      "=== 627 ===\n",
      "=== 626 ===\n",
      "=== 625 ===\n",
      "=== 624 ===\n",
      "=== 623 ===\n",
      "=== 622 ===\n",
      "=== 621 ===\n",
      "=== 620 ===\n",
      "=== 619 ===\n",
      "=== 618 ===\n",
      "=== 617 ===\n",
      "=== 616 ===\n",
      "=== 615 ===\n",
      "=== 614 ===\n",
      "=== 613 ===\n",
      "=== 612 ===\n",
      "=== 611 ===\n",
      "=== 610 ===\n",
      "=== 609 ===\n",
      "=== 608 ===\n",
      "=== 607 ===\n",
      "=== 606 ===\n",
      "=== 605 ===\n",
      "=== 604 ===\n",
      "=== 603 ===\n",
      "=== 602 ===\n",
      "=== 601 ===\n",
      "=== 600 ===\n",
      "=== 599 ===\n",
      "=== 598 ===\n",
      "=== 597 ===\n",
      "=== 596 ===\n",
      "=== 595 ===\n",
      "=== 594 ===\n",
      "=== 593 ===\n",
      "=== 592 ===\n",
      "=== 591 ===\n",
      "=== 590 ===\n",
      "=== 589 ===\n",
      "=== 588 ===\n",
      "=== 587 ===\n",
      "=== 586 ===\n",
      "=== 585 ===\n",
      "=== 584 ===\n",
      "=== 583 ===\n",
      "=== 582 ===\n",
      "=== 581 ===\n",
      "=== 580 ===\n",
      "=== 579 ===\n",
      "=== 578 ===\n",
      "=== 577 ===\n",
      "=== 576 ===\n",
      "=== 575 ===\n",
      "=== 574 ===\n",
      "=== 573 ===\n",
      "=== 572 ===\n",
      "=== 571 ===\n",
      "=== 570 ===\n",
      "=== 569 ===\n",
      "=== 568 ===\n",
      "=== 567 ===\n",
      "=== 566 ===\n",
      "=== 565 ===\n",
      "=== 564 ===\n",
      "=== 563 ===\n",
      "=== 562 ===\n",
      "=== 561 ===\n",
      "=== 560 ===\n",
      "=== 559 ===\n",
      "=== 558 ===\n",
      "=== 557 ===\n",
      "=== 556 ===\n",
      "=== 555 ===\n",
      "=== 554 ===\n",
      "=== 553 ===\n",
      "=== 552 ===\n",
      "=== 551 ===\n",
      "=== 550 ===\n",
      "=== 549 ===\n",
      "=== 548 ===\n",
      "=== 547 ===\n",
      "=== 546 ===\n",
      "=== 545 ===\n",
      "=== 544 ===\n",
      "=== 543 ===\n",
      "=== 542 ===\n",
      "=== 541 ===\n",
      "=== 540 ===\n",
      "=== 539 ===\n",
      "=== 538 ===\n",
      "=== 537 ===\n",
      "=== 536 ===\n",
      "=== 535 ===\n",
      "=== 534 ===\n",
      "=== 533 ===\n",
      "=== 532 ===\n",
      "=== 531 ===\n",
      "=== 530 ===\n",
      "=== 529 ===\n",
      "=== 528 ===\n",
      "=== 527 ===\n",
      "=== 526 ===\n",
      "=== 525 ===\n",
      "=== 524 ===\n",
      "=== 523 ===\n",
      "=== 522 ===\n",
      "=== 521 ===\n",
      "=== 520 ===\n",
      "=== 519 ===\n",
      "=== 518 ===\n",
      "=== 517 ===\n",
      "=== 516 ===\n",
      "=== 515 ===\n",
      "=== 514 ===\n",
      "=== 513 ===\n",
      "=== 512 ===\n",
      "=== 511 ===\n",
      "=== 510 ===\n",
      "=== 509 ===\n",
      "=== 508 ===\n",
      "=== 507 ===\n",
      "=== 506 ===\n",
      "=== 505 ===\n",
      "=== 504 ===\n",
      "=== 503 ===\n",
      "=== 502 ===\n",
      "=== 501 ===\n",
      "=== 500 ===\n",
      "=== 499 ===\n",
      "=== 498 ===\n",
      "=== 497 ===\n",
      "=== 496 ===\n",
      "=== 495 ===\n",
      "=== 494 ===\n",
      "=== 493 ===\n",
      "=== 492 ===\n",
      "=== 491 ===\n",
      "=== 490 ===\n",
      "=== 489 ===\n",
      "=== 488 ===\n",
      "=== 487 ===\n",
      "=== 486 ===\n",
      "=== 485 ===\n",
      "=== 484 ===\n",
      "=== 483 ===\n",
      "=== 482 ===\n",
      "=== 481 ===\n",
      "=== 480 ===\n",
      "=== 479 ===\n",
      "=== 478 ===\n",
      "=== 477 ===\n",
      "=== 476 ===\n",
      "=== 475 ===\n",
      "=== 474 ===\n",
      "=== 473 ===\n",
      "=== 472 ===\n",
      "=== 471 ===\n",
      "=== 470 ===\n",
      "=== 469 ===\n",
      "=== 468 ===\n",
      "=== 467 ===\n",
      "=== 466 ===\n",
      "=== 465 ===\n",
      "=== 464 ===\n",
      "=== 463 ===\n",
      "=== 462 ===\n",
      "=== 461 ===\n",
      "=== 460 ===\n",
      "=== 459 ===\n",
      "=== 458 ===\n",
      "=== 457 ===\n",
      "=== 456 ===\n",
      "=== 455 ===\n",
      "=== 454 ===\n",
      "=== 453 ===\n",
      "=== 452 ===\n",
      "=== 451 ===\n",
      "=== 450 ===\n",
      "=== 449 ===\n",
      "=== 448 ===\n",
      "=== 447 ===\n",
      "=== 446 ===\n",
      "=== 445 ===\n",
      "=== 444 ===\n",
      "=== 443 ===\n",
      "=== 442 ===\n",
      "=== 441 ===\n",
      "=== 440 ===\n",
      "=== 439 ===\n",
      "=== 438 ===\n",
      "=== 437 ===\n",
      "=== 436 ===\n",
      "=== 435 ===\n",
      "=== 434 ===\n",
      "=== 433 ===\n",
      "=== 432 ===\n",
      "=== 431 ===\n",
      "=== 430 ===\n",
      "=== 429 ===\n",
      "=== 428 ===\n",
      "=== 427 ===\n",
      "=== 426 ===\n",
      "=== 425 ===\n",
      "=== 424 ===\n",
      "=== 423 ===\n",
      "=== 422 ===\n",
      "=== 421 ===\n",
      "=== 420 ===\n",
      "=== 419 ===\n",
      "=== 418 ===\n",
      "=== 417 ===\n",
      "=== 416 ===\n",
      "=== 415 ===\n",
      "=== 414 ===\n",
      "=== 413 ===\n",
      "=== 412 ===\n",
      "=== 411 ===\n",
      "=== 410 ===\n",
      "=== 409 ===\n",
      "=== 408 ===\n",
      "=== 407 ===\n",
      "=== 406 ===\n",
      "=== 405 ===\n",
      "=== 404 ===\n",
      "=== 403 ===\n",
      "=== 402 ===\n",
      "=== 401 ===\n",
      "=== 400 ===\n",
      "=== 399 ===\n",
      "=== 398 ===\n",
      "=== 397 ===\n",
      "=== 396 ===\n",
      "=== 395 ===\n",
      "=== 394 ===\n",
      "=== 393 ===\n",
      "=== 392 ===\n",
      "=== 391 ===\n",
      "=== 390 ===\n",
      "=== 389 ===\n",
      "=== 388 ===\n",
      "=== 387 ===\n",
      "=== 386 ===\n",
      "=== 385 ===\n",
      "=== 384 ===\n",
      "=== 383 ===\n",
      "=== 382 ===\n",
      "=== 381 ===\n",
      "=== 380 ===\n",
      "=== 379 ===\n",
      "=== 378 ===\n",
      "=== 377 ===\n",
      "=== 376 ===\n",
      "=== 375 ===\n",
      "=== 374 ===\n",
      "=== 373 ===\n",
      "=== 372 ===\n",
      "=== 371 ===\n",
      "=== 370 ===\n",
      "=== 369 ===\n",
      "=== 368 ===\n",
      "=== 367 ===\n",
      "=== 366 ===\n",
      "=== 365 ===\n",
      "=== 364 ===\n",
      "=== 363 ===\n",
      "=== 362 ===\n",
      "=== 361 ===\n",
      "=== 360 ===\n",
      "=== 359 ===\n",
      "=== 358 ===\n",
      "=== 357 ===\n",
      "=== 356 ===\n",
      "=== 355 ===\n",
      "=== 354 ===\n",
      "=== 353 ===\n",
      "=== 352 ===\n",
      "=== 351 ===\n",
      "=== 350 ===\n",
      "=== 349 ===\n",
      "=== 348 ===\n",
      "=== 347 ===\n",
      "=== 346 ===\n",
      "=== 345 ===\n",
      "=== 344 ===\n",
      "=== 343 ===\n",
      "=== 342 ===\n",
      "=== 341 ===\n",
      "=== 340 ===\n",
      "=== 339 ===\n",
      "=== 338 ===\n",
      "=== 337 ===\n",
      "=== 336 ===\n",
      "=== 335 ===\n",
      "=== 334 ===\n",
      "=== 333 ===\n",
      "=== 332 ===\n",
      "=== 331 ===\n",
      "=== 330 ===\n",
      "=== 329 ===\n",
      "=== 328 ===\n",
      "=== 327 ===\n",
      "=== 326 ===\n",
      "=== 325 ===\n",
      "=== 324 ===\n",
      "=== 323 ===\n",
      "=== 322 ===\n",
      "=== 321 ===\n",
      "=== 320 ===\n",
      "=== 319 ===\n",
      "=== 318 ===\n",
      "=== 317 ===\n",
      "=== 316 ===\n",
      "=== 315 ===\n",
      "=== 314 ===\n",
      "=== 313 ===\n",
      "=== 312 ===\n",
      "=== 311 ===\n",
      "=== 310 ===\n",
      "=== 309 ===\n",
      "=== 308 ===\n",
      "=== 307 ===\n",
      "=== 306 ===\n",
      "=== 305 ===\n",
      "=== 304 ===\n",
      "=== 303 ===\n",
      "=== 302 ===\n",
      "=== 301 ===\n",
      "=== 300 ===\n",
      "=== 299 ===\n",
      "=== 298 ===\n",
      "=== 297 ===\n",
      "=== 296 ===\n",
      "=== 295 ===\n",
      "=== 294 ===\n",
      "=== 293 ===\n",
      "=== 292 ===\n",
      "=== 291 ===\n",
      "=== 290 ===\n",
      "=== 289 ===\n",
      "=== 288 ===\n",
      "=== 287 ===\n",
      "=== 286 ===\n",
      "=== 285 ===\n",
      "=== 284 ===\n",
      "=== 283 ===\n",
      "=== 282 ===\n",
      "=== 281 ===\n",
      "=== 280 ===\n",
      "=== 279 ===\n",
      "=== 278 ===\n",
      "=== 277 ===\n",
      "=== 276 ===\n",
      "=== 275 ===\n",
      "=== 274 ===\n",
      "=== 273 ===\n",
      "=== 272 ===\n",
      "=== 271 ===\n",
      "=== 270 ===\n",
      "=== 269 ===\n",
      "=== 268 ===\n",
      "=== 267 ===\n",
      "=== 266 ===\n",
      "=== 265 ===\n",
      "=== 264 ===\n",
      "=== 263 ===\n",
      "=== 262 ===\n",
      "=== 261 ===\n",
      "=== 260 ===\n",
      "=== 259 ===\n",
      "=== 258 ===\n",
      "=== 257 ===\n",
      "=== 256 ===\n",
      "=== 255 ===\n",
      "=== 254 ===\n",
      "=== 253 ===\n",
      "=== 252 ===\n",
      "=== 251 ===\n",
      "=== 250 ===\n",
      "=== 249 ===\n",
      "=== 248 ===\n",
      "=== 247 ===\n",
      "=== 246 ===\n",
      "=== 245 ===\n",
      "=== 244 ===\n",
      "=== 243 ===\n",
      "=== 242 ===\n",
      "=== 241 ===\n",
      "=== 240 ===\n",
      "=== 239 ===\n",
      "=== 238 ===\n",
      "=== 237 ===\n",
      "=== 236 ===\n",
      "=== 235 ===\n",
      "=== 234 ===\n",
      "=== 233 ===\n",
      "=== 232 ===\n",
      "=== 231 ===\n",
      "=== 230 ===\n",
      "=== 229 ===\n",
      "=== 228 ===\n",
      "=== 227 ===\n",
      "=== 226 ===\n",
      "=== 225 ===\n",
      "=== 224 ===\n",
      "=== 223 ===\n",
      "=== 222 ===\n",
      "=== 221 ===\n",
      "=== 220 ===\n",
      "=== 219 ===\n",
      "=== 218 ===\n",
      "=== 217 ===\n",
      "=== 216 ===\n",
      "=== 215 ===\n",
      "=== 214 ===\n",
      "=== 213 ===\n",
      "=== 212 ===\n",
      "=== 211 ===\n",
      "=== 210 ===\n",
      "=== 209 ===\n",
      "=== 208 ===\n",
      "=== 207 ===\n",
      "=== 206 ===\n",
      "=== 205 ===\n",
      "=== 204 ===\n",
      "=== 203 ===\n",
      "=== 202 ===\n",
      "=== 201 ===\n",
      "=== 200 ===\n",
      "=== 199 ===\n",
      "=== 198 ===\n",
      "=== 197 ===\n",
      "=== 196 ===\n",
      "=== 195 ===\n",
      "=== 194 ===\n",
      "=== 193 ===\n",
      "=== 192 ===\n",
      "=== 191 ===\n",
      "=== 190 ===\n",
      "=== 189 ===\n",
      "=== 188 ===\n",
      "=== 187 ===\n",
      "=== 186 ===\n",
      "=== 185 ===\n",
      "=== 184 ===\n",
      "=== 183 ===\n",
      "=== 182 ===\n",
      "=== 181 ===\n",
      "=== 180 ===\n",
      "=== 179 ===\n",
      "=== 178 ===\n",
      "=== 177 ===\n",
      "=== 176 ===\n",
      "=== 175 ===\n",
      "=== 174 ===\n",
      "=== 173 ===\n",
      "=== 172 ===\n",
      "=== 171 ===\n",
      "=== 170 ===\n",
      "=== 169 ===\n",
      "=== 168 ===\n",
      "=== 167 ===\n",
      "=== 166 ===\n",
      "=== 165 ===\n",
      "=== 164 ===\n",
      "=== 163 ===\n",
      "=== 162 ===\n",
      "=== 161 ===\n",
      "=== 160 ===\n",
      "=== 159 ===\n",
      "=== 158 ===\n",
      "=== 157 ===\n",
      "=== 156 ===\n",
      "=== 155 ===\n",
      "=== 154 ===\n",
      "=== 153 ===\n",
      "=== 152 ===\n",
      "=== 151 ===\n",
      "=== 150 ===\n",
      "=== 149 ===\n",
      "=== 148 ===\n",
      "=== 147 ===\n",
      "=== 146 ===\n",
      "=== 145 ===\n",
      "=== 144 ===\n",
      "=== 143 ===\n",
      "=== 142 ===\n",
      "=== 141 ===\n",
      "=== 140 ===\n",
      "=== 139 ===\n",
      "=== 138 ===\n",
      "=== 137 ===\n",
      "=== 136 ===\n",
      "=== 135 ===\n",
      "=== 134 ===\n",
      "=== 133 ===\n",
      "=== 132 ===\n",
      "=== 131 ===\n",
      "=== 130 ===\n",
      "=== 129 ===\n",
      "=== 128 ===\n",
      "=== 127 ===\n",
      "=== 126 ===\n",
      "=== 125 ===\n",
      "=== 124 ===\n",
      "=== 123 ===\n",
      "=== 122 ===\n",
      "=== 121 ===\n",
      "=== 120 ===\n",
      "=== 119 ===\n",
      "=== 118 ===\n",
      "=== 117 ===\n",
      "=== 116 ===\n",
      "=== 115 ===\n",
      "=== 114 ===\n",
      "=== 113 ===\n",
      "=== 112 ===\n",
      "=== 111 ===\n",
      "=== 110 ===\n",
      "=== 109 ===\n",
      "=== 108 ===\n",
      "=== 107 ===\n",
      "=== 106 ===\n",
      "=== 105 ===\n",
      "=== 104 ===\n",
      "=== 103 ===\n",
      "=== 102 ===\n",
      "=== 101 ===\n",
      "=== 100 ===\n",
      "=== 99 ===\n",
      "=== 98 ===\n",
      "=== 97 ===\n",
      "=== 96 ===\n",
      "=== 95 ===\n",
      "=== 94 ===\n",
      "=== 93 ===\n",
      "=== 92 ===\n",
      "=== 91 ===\n",
      "=== 90 ===\n",
      "=== 89 ===\n",
      "=== 88 ===\n",
      "=== 87 ===\n",
      "=== 86 ===\n",
      "=== 85 ===\n",
      "=== 84 ===\n",
      "=== 83 ===\n",
      "=== 82 ===\n",
      "=== 81 ===\n",
      "=== 80 ===\n",
      "=== 79 ===\n",
      "=== 78 ===\n",
      "=== 77 ===\n",
      "=== 76 ===\n",
      "=== 75 ===\n",
      "=== 74 ===\n",
      "=== 73 ===\n",
      "=== 72 ===\n",
      "=== 71 ===\n",
      "=== 70 ===\n",
      "=== 69 ===\n",
      "=== 68 ===\n",
      "=== 67 ===\n",
      "=== 66 ===\n",
      "=== 65 ===\n",
      "=== 64 ===\n",
      "=== 63 ===\n",
      "=== 62 ===\n",
      "=== 61 ===\n",
      "=== 60 ===\n",
      "=== 59 ===\n",
      "=== 58 ===\n",
      "=== 57 ===\n",
      "=== 56 ===\n",
      "=== 55 ===\n",
      "=== 54 ===\n",
      "=== 53 ===\n",
      "=== 52 ===\n",
      "=== 51 ===\n",
      "=== 50 ===\n",
      "=== 49 ===\n",
      "=== 48 ===\n",
      "=== 47 ===\n",
      "=== 46 ===\n",
      "=== 45 ===\n",
      "=== 44 ===\n",
      "=== 43 ===\n",
      "=== 42 ===\n",
      "=== 41 ===\n",
      "=== 40 ===\n",
      "=== 39 ===\n",
      "=== 38 ===\n",
      "=== 37 ===\n",
      "=== 36 ===\n",
      "=== 35 ===\n",
      "=== 34 ===\n",
      "=== 33 ===\n",
      "=== 32 ===\n",
      "=== 31 ===\n",
      "=== 30 ===\n",
      "=== 29 ===\n",
      "=== 28 ===\n",
      "=== 27 ===\n",
      "=== 26 ===\n",
      "=== 25 ===\n",
      "=== 24 ===\n",
      "=== 23 ===\n",
      "=== 22 ===\n",
      "=== 21 ===\n",
      "=== 20 ===\n",
      "=== 19 ===\n",
      "=== 18 ===\n",
      "=== 17 ===\n",
      "=== 16 ===\n",
      "=== 15 ===\n",
      "=== 14 ===\n",
      "=== 13 ===\n",
      "=== 12 ===\n",
      "=== 11 ===\n",
      "=== 10 ===\n",
      "=== 9 ===\n",
      "=== 8 ===\n",
      "=== 7 ===\n",
      "=== 6 ===\n",
      "=== 5 ===\n",
      "=== 4 ===\n",
      "=== 3 ===\n",
      "ipykernel_launcher:33: DeprecationWarning: The default dtype for empty Series will be 'object' instead of 'float64' in a future version. Specify a dtype explicitly to silence this warning.\n",
      "=== 2 ===\n",
      "=== 1 ===\n",
      "     environment            action RabbitMQ HAProxy Apache   xbid    spm  \\\n",
      "0           cute            deploy    False   False  False  False  False   \n",
      "1           cute            deploy    False   False  False  False  False   \n",
      "2           cute  check_if_running     True    True   True   True   True   \n",
      "4           cute             start    False   False  False   True   True   \n",
      "5           cute            deploy    False   False  False   True  False   \n",
      "...          ...               ...      ...     ...    ...    ...    ...   \n",
      "1015        simu            deploy     True    True   True   True   True   \n",
      "1016        simu            deploy     True    True   True   True   True   \n",
      "1017        simu            deploy     True    True   True   True   True   \n",
      "1018        simu            deploy     True    True   True   True   True   \n",
      "1019        simu            deploy     True    True   True   True   True   \n",
      "\n",
      "     reporting_engine    pmi    AMS  ...  SMI  PMI XBID_version SPM_version  \\\n",
      "0               False  False  False  ...  NaN  NaN          NaN         NaN   \n",
      "1               False  False  False  ...  NaN  NaN          NaN         NaN   \n",
      "2                True   True   True  ...  NaN  NaN          NaN         NaN   \n",
      "4                True   True  False  ...  NaN  NaN          NaN         NaN   \n",
      "5               False  False  False  ...  NaN  NaN          NaN         NaN   \n",
      "...               ...    ...    ...  ...  ...  ...          ...         ...   \n",
      "1015              NaN   True   True  ...  NaN  NaN          NaN         NaN   \n",
      "1016              NaN   True   True  ...  NaN  NaN          NaN         NaN   \n",
      "1017              NaN   True   True  ...  NaN  NaN          NaN         NaN   \n",
      "1018              NaN   True   True  ...  NaN  NaN          NaN         NaN   \n",
      "1019              NaN   True   True  ...  NaN  NaN          NaN         NaN   \n",
      "\n",
      "     PMI_logger_version PMI_archiving_version duration   result   timestamp  \\\n",
      "0                   NaN                   NaN 00:00:37  SUCCESS  2021-05-27   \n",
      "1                   NaN                   NaN 00:00:37  SUCCESS  2021-05-27   \n",
      "2                   NaN                   NaN 00:00:12  FAILURE  2021-05-27   \n",
      "4                   NaN                   NaN 00:01:08  SUCCESS  2021-05-27   \n",
      "5                   NaN                   NaN 00:02:07  SUCCESS  2021-05-27   \n",
      "...                 ...                   ...      ...      ...         ...   \n",
      "1015                NaN                   NaN 00:07:34  FAILURE  2020-09-02   \n",
      "1016                NaN                   NaN 00:04:15  FAILURE  2020-09-02   \n",
      "1017                NaN                   NaN 00:05:11  FAILURE  2020-09-02   \n",
      "1018                NaN                   NaN 00:04:55  FAILURE  2020-09-02   \n",
      "1019                NaN                   NaN 00:06:04  FAILURE  2020-09-02   \n",
      "\n",
      "     Seconds  \n",
      "0       37.0  \n",
      "1       37.0  \n",
      "2       12.0  \n",
      "4       68.0  \n",
      "5      127.0  \n",
      "...      ...  \n",
      "1015   454.0  \n",
      "1016   255.0  \n",
      "1017   311.0  \n",
      "1018   295.0  \n",
      "1019   364.0  \n",
      "\n",
      "[802 rows x 65 columns]\n"
     ]
    }
   ],
   "source": [
    "server_xbid = requests.get('https://englobjci1.deutsche-boerse.de/job/Energy-Operations/job/XBID%20Ansible%20Jobs/job/XBID%20Ansible%20deploy%20full/api/json?tree=allBuilds[actions[parameters[name,value]],duration,description,building,fullDisplayName,id,number,timestamp,result]&pretty=true',auth=auth)\n",
    "json_data_xbid = json.loads(server_xbid.text)\n",
    "json_data_XBID = pd.DataFrame(json_data_xbid)\n",
    "builds = json_data_XBID['allBuilds'].apply(pd.Series)\n",
    "\n",
    "session = Session()\n",
    "session.auth = (\"oh856\",\"112f71f82cc3d562f1e8b24fadd9cd2a78\")\n",
    "# Get job info\n",
    "resp = session.get('https://englobjci1.deutsche-boerse.de/job/Energy-Operations/job/XBID%20Ansible%20Jobs/job/XBID%20Ansible%20deploy%20full/api/json?tree=allBuilds[*]')\n",
    "\n",
    "resp.raise_for_status()\n",
    "data = []\n",
    "job = resp.json()\n",
    "EH = []\n",
    "# Get info for each build\n",
    "for build in job[\"allBuilds\"]:\n",
    "    build_number = build[\"number\"]\n",
    "    # Get build details\n",
    "    resp = session.get(f\"{build['url']}/api/json?tree = allBuilds[*]\")\n",
    "    resp.raise_for_status()\n",
    "    build_details = resp.json()\n",
    "    # Find action \"ParametersAction\"\n",
    "    for action in build_details[\"actions\"]:\n",
    "        if action.get(\"_class\") == \"hudson.model.ParametersAction\":\n",
    "            parameters = {\n",
    "                param[\"name\"]: param[\"value\"]\n",
    "                for param in action[\"parameters\"]\n",
    "            }\n",
    "            break\n",
    "    else:\n",
    "        parameters = {}\n",
    "    print(\"===\", build_number, \"===\")\n",
    "    EH.append(pd.Series(parameters)) \n",
    "\n",
    "M7T = pd.DataFrame(EH)\n",
    "\n",
    "\n",
    "M7T['duration'] = builds['duration']\n",
    "M7T['result'] = builds['result']\n",
    "M7T['timestamp'] = builds['timestamp']\n",
    "M7T = M7T[M7T.check == False]\n",
    "\n",
    "\n",
    "M7T['timestamp'] = timeconverter(M7T['timestamp'])\n",
    "M7T['duration'] = durationconverter(M7T['duration'])\n",
    "M7T['duration'] = pd.to_timedelta(M7T['duration'])\n",
    "M7T['Seconds'] = M7T['duration'].dt.total_seconds()\n",
    "print(M7T)"
   ]
  },
  {
   "cell_type": "code",
   "execution_count": 131,
   "metadata": {
    "tags": []
   },
   "outputs": [
    {
     "data": {
      "text/plain": [
       "ct_version     210\n",
       "deployCT       183\n",
       "startApp       169\n",
       "h2h_version    157\n",
       "deployHap      155\n",
       "listTasks       81\n",
       "deployApp       59\n",
       "m7env            9\n",
       "deployAmq        7\n",
       "check            1\n",
       "Name: name, dtype: int64"
      ]
     },
     "execution_count": 131,
     "metadata": {},
     "output_type": "execute_result"
    }
   ],
   "source": []
  },
  {
   "cell_type": "code",
   "execution_count": 132,
   "metadata": {},
   "outputs": [],
   "source": [
    "def environmentcollect_M7T(data,ame,metric):       \n",
    "        col1 = data['actions'].apply(pd.Series)\n",
    "        col1_v1 = col1[0].apply(pd.Series)\n",
    "        col1_v2 = col1_v1['parameters'].apply(pd.Series)\n",
    "        env = col1_v2[ame].apply(pd.Series)\n",
    "        envcol1 = env[metric] \n",
    "\n",
    "        col2_v1 = col1[1].apply(pd.Series)\n",
    "        col2_v2 = col2_v1['parameters'].apply(pd.Series)\n",
    "        env2 = col2_v2[ame].apply(pd.Series)\n",
    "        envcol2 = env2[metric] \n",
    "\n",
    "        col3_v1 = col1[2].apply(pd.Series)\n",
    "        col3_v2 = col3_v1['parameters'].apply(pd.Series)\n",
    "        env3 = col3_v2[ame].apply(pd.Series)\n",
    "        envcol3 = env3[metric]\n",
    "\n",
    "        col4_v1 = col1[3].apply(pd.Series)\n",
    "        col4_v2 = col4_v1['parameters'].apply(pd.Series)\n",
    "        env4 = col4_v2[ame].apply(pd.Series)\n",
    "        envcol4 = env4[metric]\n",
    "\n",
    "        envcol1.fillna(envcol2,inplace= True)\n",
    "        envcol1.fillna(envcol3, inplace =True)\n",
    "        envcol1.fillna(envcol4, inplace =True)\n",
    "\n",
    "        return envcol1"
   ]
  },
  {
   "cell_type": "code",
   "execution_count": 152,
   "metadata": {},
   "outputs": [
    {
     "data": {
      "text/plain": [
       "deployApa    78\n",
       "startApp     28\n",
       "stopApp      17\n",
       "listHosts    15\n",
       "list          8\n",
       "deployCT      5\n",
       "Name: name, dtype: int64"
      ]
     },
     "execution_count": 152,
     "metadata": {},
     "output_type": "execute_result"
    }
   ],
   "source": [
    "col1 = builds_M7T['actions'].apply(pd.Series)\n",
    "col1_v1 = col1[0].apply(pd.Series)\n",
    "col1_v2 = col1_v1['parameters'].apply(pd.Series)\n",
    "env = col1_v2[17].apply(pd.Series)\n",
    "envcol1 = env['name']\n",
    "envcol1.value_counts()"
   ]
  },
  {
   "cell_type": "code",
   "execution_count": 201,
   "metadata": {},
   "outputs": [
    {
     "name": "stderr",
     "output_type": "stream",
     "text": [
      "/home/oh856/anaconda3/lib/python3.7/site-packages/pandas/core/ops/array_ops.py:253: FutureWarning: elementwise comparison failed; returning scalar instead, but in the future will perform elementwise comparison\n",
      "  res_values = method(rvalues)\n"
     ]
    }
   ],
   "source": [
    "EH = pd.DataFrame(EH)\n",
    "EH =  EH[EH['check'] == \"false\"]  "
   ]
  },
  {
   "cell_type": "code",
   "execution_count": 277,
   "metadata": {},
   "outputs": [
    {
     "name": "stdout",
     "output_type": "stream",
     "text": [
      "=== 362 ===\n",
      "=== 361 ===\n",
      "=== 360 ===\n",
      "=== 359 ===\n",
      "=== 358 ===\n",
      "=== 357 ===\n",
      "=== 356 ===\n",
      "=== 355 ===\n",
      "=== 354 ===\n",
      "=== 353 ===\n",
      "=== 352 ===\n",
      "=== 351 ===\n",
      "=== 350 ===\n",
      "=== 349 ===\n",
      "=== 348 ===\n",
      "=== 347 ===\n",
      "=== 346 ===\n",
      "=== 345 ===\n",
      "=== 344 ===\n",
      "=== 343 ===\n",
      "=== 342 ===\n",
      "=== 341 ===\n",
      "=== 340 ===\n",
      "=== 339 ===\n",
      "=== 338 ===\n",
      "=== 337 ===\n",
      "=== 336 ===\n",
      "=== 335 ===\n",
      "=== 334 ===\n",
      "=== 333 ===\n",
      "=== 332 ===\n",
      "=== 331 ===\n",
      "=== 330 ===\n",
      "=== 329 ===\n",
      "=== 328 ===\n",
      "=== 327 ===\n",
      "=== 326 ===\n",
      "=== 325 ===\n",
      "=== 324 ===\n",
      "=== 323 ===\n",
      "=== 322 ===\n",
      "=== 321 ===\n",
      "=== 320 ===\n",
      "=== 319 ===\n",
      "=== 318 ===\n",
      "=== 317 ===\n",
      "=== 316 ===\n",
      "=== 315 ===\n",
      "=== 314 ===\n",
      "=== 313 ===\n",
      "=== 312 ===\n",
      "=== 311 ===\n",
      "=== 310 ===\n",
      "=== 309 ===\n",
      "=== 308 ===\n",
      "=== 307 ===\n",
      "=== 306 ===\n",
      "=== 305 ===\n",
      "=== 304 ===\n",
      "=== 303 ===\n",
      "=== 302 ===\n",
      "=== 301 ===\n",
      "=== 300 ===\n",
      "=== 299 ===\n",
      "=== 298 ===\n",
      "=== 297 ===\n",
      "=== 296 ===\n",
      "=== 295 ===\n",
      "=== 294 ===\n",
      "=== 293 ===\n",
      "=== 292 ===\n",
      "=== 291 ===\n",
      "=== 290 ===\n",
      "=== 289 ===\n",
      "=== 288 ===\n",
      "=== 287 ===\n",
      "=== 286 ===\n",
      "=== 285 ===\n",
      "=== 284 ===\n",
      "=== 283 ===\n",
      "=== 282 ===\n",
      "=== 281 ===\n",
      "=== 280 ===\n",
      "=== 279 ===\n",
      "=== 278 ===\n",
      "=== 277 ===\n",
      "=== 276 ===\n",
      "=== 275 ===\n",
      "=== 274 ===\n",
      "=== 273 ===\n",
      "=== 272 ===\n",
      "=== 271 ===\n",
      "=== 270 ===\n",
      "=== 269 ===\n",
      "=== 268 ===\n",
      "=== 267 ===\n",
      "=== 266 ===\n",
      "=== 265 ===\n",
      "=== 264 ===\n",
      "=== 263 ===\n",
      "=== 262 ===\n",
      "=== 261 ===\n",
      "=== 260 ===\n",
      "=== 259 ===\n",
      "=== 258 ===\n",
      "=== 257 ===\n",
      "=== 256 ===\n",
      "=== 255 ===\n",
      "=== 254 ===\n",
      "=== 253 ===\n",
      "=== 252 ===\n",
      "=== 251 ===\n",
      "=== 250 ===\n",
      "=== 249 ===\n",
      "=== 248 ===\n",
      "=== 247 ===\n",
      "=== 246 ===\n",
      "=== 245 ===\n",
      "=== 244 ===\n",
      "=== 243 ===\n",
      "=== 242 ===\n",
      "=== 241 ===\n",
      "=== 240 ===\n",
      "=== 239 ===\n",
      "=== 238 ===\n",
      "=== 237 ===\n",
      "=== 236 ===\n",
      "=== 235 ===\n",
      "=== 234 ===\n",
      "=== 233 ===\n",
      "=== 232 ===\n",
      "=== 231 ===\n",
      "=== 230 ===\n",
      "=== 229 ===\n",
      "=== 228 ===\n",
      "=== 227 ===\n",
      "=== 226 ===\n",
      "=== 225 ===\n",
      "=== 224 ===\n",
      "=== 223 ===\n",
      "=== 222 ===\n",
      "=== 221 ===\n",
      "=== 220 ===\n",
      "=== 219 ===\n",
      "=== 218 ===\n",
      "=== 217 ===\n",
      "=== 216 ===\n",
      "=== 215 ===\n",
      "=== 214 ===\n",
      "=== 213 ===\n",
      "=== 212 ===\n",
      "=== 211 ===\n",
      "=== 210 ===\n",
      "=== 209 ===\n",
      "=== 208 ===\n",
      "=== 207 ===\n",
      "=== 206 ===\n",
      "=== 205 ===\n",
      "=== 204 ===\n",
      "=== 203 ===\n",
      "=== 202 ===\n",
      "=== 201 ===\n",
      "=== 200 ===\n",
      "=== 199 ===\n",
      "=== 198 ===\n",
      "=== 197 ===\n",
      "=== 196 ===\n",
      "=== 195 ===\n",
      "=== 194 ===\n",
      "=== 193 ===\n",
      "=== 192 ===\n",
      "=== 191 ===\n",
      "=== 190 ===\n",
      "=== 189 ===\n",
      "=== 188 ===\n",
      "=== 187 ===\n",
      "=== 186 ===\n",
      "=== 185 ===\n",
      "=== 184 ===\n",
      "=== 183 ===\n",
      "=== 182 ===\n",
      "=== 181 ===\n",
      "=== 180 ===\n",
      "=== 179 ===\n",
      "=== 178 ===\n",
      "=== 177 ===\n",
      "=== 176 ===\n",
      "=== 175 ===\n",
      "=== 174 ===\n",
      "=== 173 ===\n",
      "=== 172 ===\n",
      "=== 171 ===\n",
      "=== 170 ===\n",
      "=== 169 ===\n",
      "=== 168 ===\n",
      "=== 167 ===\n",
      "=== 166 ===\n",
      "=== 165 ===\n",
      "=== 164 ===\n",
      "=== 163 ===\n",
      "=== 162 ===\n",
      "=== 161 ===\n",
      "=== 160 ===\n",
      "=== 159 ===\n",
      "=== 158 ===\n",
      "=== 157 ===\n",
      "=== 156 ===\n",
      "=== 155 ===\n",
      "=== 154 ===\n",
      "=== 153 ===\n",
      "=== 152 ===\n",
      "=== 151 ===\n",
      "=== 150 ===\n",
      "=== 149 ===\n",
      "=== 148 ===\n",
      "=== 147 ===\n",
      "=== 146 ===\n",
      "=== 145 ===\n",
      "=== 144 ===\n",
      "=== 143 ===\n",
      "=== 142 ===\n",
      "=== 141 ===\n",
      "=== 140 ===\n",
      "=== 139 ===\n",
      "=== 138 ===\n",
      "=== 137 ===\n",
      "=== 136 ===\n",
      "=== 135 ===\n",
      "=== 134 ===\n",
      "=== 133 ===\n",
      "=== 132 ===\n",
      "=== 131 ===\n",
      "=== 130 ===\n",
      "=== 129 ===\n",
      "=== 128 ===\n",
      "=== 127 ===\n",
      "=== 126 ===\n",
      "=== 125 ===\n",
      "=== 124 ===\n",
      "=== 123 ===\n",
      "=== 122 ===\n",
      "=== 121 ===\n",
      "=== 120 ===\n",
      "=== 119 ===\n",
      "=== 118 ===\n",
      "=== 117 ===\n",
      "=== 116 ===\n",
      "=== 115 ===\n",
      "=== 114 ===\n",
      "=== 113 ===\n",
      "=== 112 ===\n",
      "=== 111 ===\n",
      "=== 110 ===\n",
      "=== 109 ===\n",
      "=== 108 ===\n",
      "=== 107 ===\n",
      "=== 106 ===\n",
      "=== 105 ===\n",
      "=== 104 ===\n",
      "=== 103 ===\n",
      "=== 102 ===\n",
      "=== 101 ===\n",
      "=== 100 ===\n",
      "=== 99 ===\n",
      "=== 98 ===\n",
      "=== 97 ===\n",
      "=== 96 ===\n",
      "=== 95 ===\n",
      "=== 94 ===\n",
      "=== 93 ===\n",
      "=== 92 ===\n",
      "=== 91 ===\n",
      "=== 90 ===\n",
      "=== 89 ===\n",
      "=== 88 ===\n",
      "=== 87 ===\n",
      "=== 86 ===\n",
      "=== 85 ===\n",
      "=== 84 ===\n",
      "=== 83 ===\n",
      "=== 82 ===\n",
      "=== 81 ===\n",
      "=== 80 ===\n",
      "=== 79 ===\n",
      "=== 78 ===\n",
      "=== 77 ===\n",
      "=== 76 ===\n",
      "=== 75 ===\n",
      "=== 74 ===\n",
      "=== 73 ===\n",
      "=== 72 ===\n",
      "=== 71 ===\n",
      "=== 70 ===\n",
      "=== 69 ===\n",
      "=== 68 ===\n",
      "=== 67 ===\n",
      "=== 66 ===\n",
      "=== 65 ===\n",
      "=== 64 ===\n",
      "=== 63 ===\n",
      "=== 62 ===\n",
      "=== 61 ===\n",
      "=== 60 ===\n",
      "=== 59 ===\n",
      "=== 58 ===\n",
      "=== 57 ===\n",
      "=== 56 ===\n",
      "=== 55 ===\n",
      "=== 54 ===\n",
      "=== 53 ===\n",
      "=== 52 ===\n",
      "=== 51 ===\n",
      "=== 50 ===\n",
      "=== 49 ===\n",
      "ipykernel_launcher:30: DeprecationWarning: The default dtype for empty Series will be 'object' instead of 'float64' in a future version. Specify a dtype explicitly to silence this warning.\n",
      "=== 48 ===\n",
      "=== 47 ===\n",
      "=== 46 ===\n",
      "=== 45 ===\n",
      "=== 44 ===\n",
      "=== 43 ===\n",
      "=== 42 ===\n",
      "=== 41 ===\n",
      "=== 40 ===\n",
      "=== 39 ===\n",
      "=== 38 ===\n",
      "=== 37 ===\n",
      "=== 36 ===\n",
      "=== 35 ===\n",
      "=== 34 ===\n",
      "=== 33 ===\n",
      "=== 32 ===\n",
      "=== 31 ===\n",
      "=== 30 ===\n",
      "=== 29 ===\n",
      "=== 28 ===\n",
      "=== 27 ===\n",
      "=== 26 ===\n",
      "=== 25 ===\n",
      "=== 24 ===\n",
      "=== 23 ===\n",
      "=== 22 ===\n",
      "=== 21 ===\n",
      "=== 20 ===\n",
      "=== 19 ===\n",
      "=== 18 ===\n",
      "=== 17 ===\n",
      "=== 16 ===\n",
      "=== 15 ===\n",
      "=== 14 ===\n",
      "=== 13 ===\n",
      "=== 12 ===\n",
      "=== 11 ===\n",
      "=== 10 ===\n",
      "=== 9 ===\n",
      "=== 8 ===\n",
      "=== 7 ===\n",
      "=== 6 ===\n",
      "=== 5 ===\n",
      "=== 4 ===\n",
      "=== 3 ===\n",
      "=== 2 ===\n",
      "=== 1 ===\n"
     ]
    }
   ],
   "source": [
    "from pprint import pprint\n",
    "import os\n",
    "from requests import Session\n",
    "session = Session()\n",
    "session.auth = (\"oh856\",\"112f71f82cc3d562f1e8b24fadd9cd2a78\")\n",
    "# Get job info\n",
    "resp = session.get(\"https://englobjci1.deutsche-boerse.de/job/Energy-Operations/job/CD-Pipeline/job/M7T_deploy_upgrade/api/json?tree=allBuilds[*]\")\n",
    "resp.raise_for_status()\n",
    "data = []\n",
    "job = resp.json()\n",
    "M7T_deploy_upgrade = []\n",
    "# Get info for each build\n",
    "for build in job[\"allBuilds\"]:\n",
    "    build_number = build[\"number\"]\n",
    "    # Get build details\n",
    "    resp = session.get(f\"{build['url']}/api/json?tree = allBuilds[*]\")\n",
    "    resp.raise_for_status()\n",
    "    build_details = resp.json()\n",
    "    # Find action \"ParametersAction\"\n",
    "    for action in build_details[\"actions\"]:\n",
    "        if action.get(\"_class\") == \"hudson.model.ParametersAction\":\n",
    "            parameters = {\n",
    "                param[\"name\"]: param[\"value\"]\n",
    "                for param in action[\"parameters\"]\n",
    "            }\n",
    "            break\n",
    "    else:\n",
    "        parameters = {}\n",
    "    print(\"===\", build_number, \"===\")\n",
    "    M7T_deploy_upgrade.append(pd.Series(parameters))   "
   ]
  },
  {
   "cell_type": "code",
   "execution_count": 278,
   "metadata": {},
   "outputs": [],
   "source": [
    "server_m7t_deploy_upgrade = requests.get('https://englobjci1.deutsche-boerse.de/job/Energy-Operations/job/CD-Pipeline/job/M7T_deploy_upgrade/api/json?tree=allBuilds%5Bactions%5Bparameters%5Bname,value%5D%5D,duration,description,building,fullDisplayName,id,number,timestamp,result%5D&pretty=true',auth=auth)\n",
    "json_data_M7TDEPLOY = json.loads(server_m7t_deploy_upgrade.text)\n",
    "json_data_M7T_DEPLOY = pd.DataFrame(json_data_M7TDEPLOY)\n",
    "builds_M7T_DEPLOY = json_data_M7T_DEPLOY['allBuilds'].apply(pd.Series)\n"
   ]
  },
  {
   "cell_type": "code",
   "execution_count": 248,
   "metadata": {},
   "outputs": [
    {
     "data": {
      "text/html": [
       "<div>\n",
       "<style scoped>\n",
       "    .dataframe tbody tr th:only-of-type {\n",
       "        vertical-align: middle;\n",
       "    }\n",
       "\n",
       "    .dataframe tbody tr th {\n",
       "        vertical-align: top;\n",
       "    }\n",
       "\n",
       "    .dataframe thead th {\n",
       "        text-align: right;\n",
       "    }\n",
       "</style>\n",
       "<table border=\"1\" class=\"dataframe\">\n",
       "  <thead>\n",
       "    <tr style=\"text-align: right;\">\n",
       "      <th></th>\n",
       "      <th>_class</th>\n",
       "      <th>actions</th>\n",
       "      <th>building</th>\n",
       "      <th>description</th>\n",
       "      <th>duration</th>\n",
       "      <th>fullDisplayName</th>\n",
       "      <th>id</th>\n",
       "      <th>number</th>\n",
       "      <th>result</th>\n",
       "      <th>timestamp</th>\n",
       "    </tr>\n",
       "  </thead>\n",
       "  <tbody>\n",
       "    <tr>\n",
       "      <th>0</th>\n",
       "      <td>org.jenkinsci.plugins.workflow.job.WorkflowRun</td>\n",
       "      <td>[{'_class': 'hudson.model.CauseAction'}, {}, {...</td>\n",
       "      <td>False</td>\n",
       "      <td>None</td>\n",
       "      <td>187092</td>\n",
       "      <td>Energy-Operations » CD-Pipeline » M7T_deploy_u...</td>\n",
       "      <td>362</td>\n",
       "      <td>362</td>\n",
       "      <td>SUCCESS</td>\n",
       "      <td>1620768765023</td>\n",
       "    </tr>\n",
       "    <tr>\n",
       "      <th>1</th>\n",
       "      <td>org.jenkinsci.plugins.workflow.job.WorkflowRun</td>\n",
       "      <td>[{'_class': 'hudson.model.CauseAction'}, {}, {...</td>\n",
       "      <td>False</td>\n",
       "      <td>None</td>\n",
       "      <td>206245</td>\n",
       "      <td>Energy-Operations » CD-Pipeline » M7T_deploy_u...</td>\n",
       "      <td>361</td>\n",
       "      <td>361</td>\n",
       "      <td>SUCCESS</td>\n",
       "      <td>1620737545784</td>\n",
       "    </tr>\n",
       "    <tr>\n",
       "      <th>2</th>\n",
       "      <td>org.jenkinsci.plugins.workflow.job.WorkflowRun</td>\n",
       "      <td>[{'_class': 'hudson.model.CauseAction'}, {}, {...</td>\n",
       "      <td>False</td>\n",
       "      <td>None</td>\n",
       "      <td>28843</td>\n",
       "      <td>Energy-Operations » CD-Pipeline » M7T_deploy_u...</td>\n",
       "      <td>360</td>\n",
       "      <td>360</td>\n",
       "      <td>SUCCESS</td>\n",
       "      <td>1620737345763</td>\n",
       "    </tr>\n",
       "    <tr>\n",
       "      <th>3</th>\n",
       "      <td>org.jenkinsci.plugins.workflow.job.WorkflowRun</td>\n",
       "      <td>[{'_class': 'hudson.model.CauseAction'}, {'_cl...</td>\n",
       "      <td>False</td>\n",
       "      <td>None</td>\n",
       "      <td>158514</td>\n",
       "      <td>Energy-Operations » CD-Pipeline » M7T_deploy_u...</td>\n",
       "      <td>359</td>\n",
       "      <td>359</td>\n",
       "      <td>SUCCESS</td>\n",
       "      <td>1620633808298</td>\n",
       "    </tr>\n",
       "    <tr>\n",
       "      <th>4</th>\n",
       "      <td>org.jenkinsci.plugins.workflow.job.WorkflowRun</td>\n",
       "      <td>[{'_class': 'hudson.model.ParametersAction', '...</td>\n",
       "      <td>False</td>\n",
       "      <td>None</td>\n",
       "      <td>85335</td>\n",
       "      <td>Energy-Operations » CD-Pipeline » M7T_deploy_u...</td>\n",
       "      <td>358</td>\n",
       "      <td>358</td>\n",
       "      <td>SUCCESS</td>\n",
       "      <td>1620633663256</td>\n",
       "    </tr>\n",
       "    <tr>\n",
       "      <th>...</th>\n",
       "      <td>...</td>\n",
       "      <td>...</td>\n",
       "      <td>...</td>\n",
       "      <td>...</td>\n",
       "      <td>...</td>\n",
       "      <td>...</td>\n",
       "      <td>...</td>\n",
       "      <td>...</td>\n",
       "      <td>...</td>\n",
       "      <td>...</td>\n",
       "    </tr>\n",
       "    <tr>\n",
       "      <th>357</th>\n",
       "      <td>org.jenkinsci.plugins.workflow.job.WorkflowRun</td>\n",
       "      <td>[{'_class': 'hudson.model.CauseAction'}, {'_cl...</td>\n",
       "      <td>False</td>\n",
       "      <td>None</td>\n",
       "      <td>11375</td>\n",
       "      <td>Energy-Operations » CD-Pipeline » M7T_deploy_u...</td>\n",
       "      <td>5</td>\n",
       "      <td>5</td>\n",
       "      <td>FAILURE</td>\n",
       "      <td>1571640815081</td>\n",
       "    </tr>\n",
       "    <tr>\n",
       "      <th>358</th>\n",
       "      <td>org.jenkinsci.plugins.workflow.job.WorkflowRun</td>\n",
       "      <td>[{'_class': 'hudson.model.CauseAction'}, {'_cl...</td>\n",
       "      <td>False</td>\n",
       "      <td>None</td>\n",
       "      <td>10179</td>\n",
       "      <td>Energy-Operations » CD-Pipeline » M7T_deploy_u...</td>\n",
       "      <td>4</td>\n",
       "      <td>4</td>\n",
       "      <td>FAILURE</td>\n",
       "      <td>1571413691556</td>\n",
       "    </tr>\n",
       "    <tr>\n",
       "      <th>359</th>\n",
       "      <td>org.jenkinsci.plugins.workflow.job.WorkflowRun</td>\n",
       "      <td>[{'_class': 'hudson.model.CauseAction'}, {'_cl...</td>\n",
       "      <td>False</td>\n",
       "      <td>None</td>\n",
       "      <td>4998</td>\n",
       "      <td>Energy-Operations » CD-Pipeline » M7T_deploy_u...</td>\n",
       "      <td>3</td>\n",
       "      <td>3</td>\n",
       "      <td>FAILURE</td>\n",
       "      <td>1571413601620</td>\n",
       "    </tr>\n",
       "    <tr>\n",
       "      <th>360</th>\n",
       "      <td>org.jenkinsci.plugins.workflow.job.WorkflowRun</td>\n",
       "      <td>[{'_class': 'hudson.model.CauseAction'}, {'_cl...</td>\n",
       "      <td>False</td>\n",
       "      <td>None</td>\n",
       "      <td>523</td>\n",
       "      <td>Energy-Operations » CD-Pipeline » M7T_deploy_u...</td>\n",
       "      <td>2</td>\n",
       "      <td>2</td>\n",
       "      <td>FAILURE</td>\n",
       "      <td>1571413480644</td>\n",
       "    </tr>\n",
       "    <tr>\n",
       "      <th>361</th>\n",
       "      <td>org.jenkinsci.plugins.workflow.job.WorkflowRun</td>\n",
       "      <td>[{'_class': 'hudson.model.ParametersAction', '...</td>\n",
       "      <td>False</td>\n",
       "      <td>None</td>\n",
       "      <td>2861</td>\n",
       "      <td>Energy-Operations » CD-Pipeline » M7T_deploy_u...</td>\n",
       "      <td>1</td>\n",
       "      <td>1</td>\n",
       "      <td>FAILURE</td>\n",
       "      <td>1571413135667</td>\n",
       "    </tr>\n",
       "  </tbody>\n",
       "</table>\n",
       "<p>362 rows × 10 columns</p>\n",
       "</div>"
      ],
      "text/plain": [
       "                                             _class  \\\n",
       "0    org.jenkinsci.plugins.workflow.job.WorkflowRun   \n",
       "1    org.jenkinsci.plugins.workflow.job.WorkflowRun   \n",
       "2    org.jenkinsci.plugins.workflow.job.WorkflowRun   \n",
       "3    org.jenkinsci.plugins.workflow.job.WorkflowRun   \n",
       "4    org.jenkinsci.plugins.workflow.job.WorkflowRun   \n",
       "..                                              ...   \n",
       "357  org.jenkinsci.plugins.workflow.job.WorkflowRun   \n",
       "358  org.jenkinsci.plugins.workflow.job.WorkflowRun   \n",
       "359  org.jenkinsci.plugins.workflow.job.WorkflowRun   \n",
       "360  org.jenkinsci.plugins.workflow.job.WorkflowRun   \n",
       "361  org.jenkinsci.plugins.workflow.job.WorkflowRun   \n",
       "\n",
       "                                               actions  building description  \\\n",
       "0    [{'_class': 'hudson.model.CauseAction'}, {}, {...     False        None   \n",
       "1    [{'_class': 'hudson.model.CauseAction'}, {}, {...     False        None   \n",
       "2    [{'_class': 'hudson.model.CauseAction'}, {}, {...     False        None   \n",
       "3    [{'_class': 'hudson.model.CauseAction'}, {'_cl...     False        None   \n",
       "4    [{'_class': 'hudson.model.ParametersAction', '...     False        None   \n",
       "..                                                 ...       ...         ...   \n",
       "357  [{'_class': 'hudson.model.CauseAction'}, {'_cl...     False        None   \n",
       "358  [{'_class': 'hudson.model.CauseAction'}, {'_cl...     False        None   \n",
       "359  [{'_class': 'hudson.model.CauseAction'}, {'_cl...     False        None   \n",
       "360  [{'_class': 'hudson.model.CauseAction'}, {'_cl...     False        None   \n",
       "361  [{'_class': 'hudson.model.ParametersAction', '...     False        None   \n",
       "\n",
       "     duration                                    fullDisplayName   id  number  \\\n",
       "0      187092  Energy-Operations » CD-Pipeline » M7T_deploy_u...  362     362   \n",
       "1      206245  Energy-Operations » CD-Pipeline » M7T_deploy_u...  361     361   \n",
       "2       28843  Energy-Operations » CD-Pipeline » M7T_deploy_u...  360     360   \n",
       "3      158514  Energy-Operations » CD-Pipeline » M7T_deploy_u...  359     359   \n",
       "4       85335  Energy-Operations » CD-Pipeline » M7T_deploy_u...  358     358   \n",
       "..        ...                                                ...  ...     ...   \n",
       "357     11375  Energy-Operations » CD-Pipeline » M7T_deploy_u...    5       5   \n",
       "358     10179  Energy-Operations » CD-Pipeline » M7T_deploy_u...    4       4   \n",
       "359      4998  Energy-Operations » CD-Pipeline » M7T_deploy_u...    3       3   \n",
       "360       523  Energy-Operations » CD-Pipeline » M7T_deploy_u...    2       2   \n",
       "361      2861  Energy-Operations » CD-Pipeline » M7T_deploy_u...    1       1   \n",
       "\n",
       "      result      timestamp  \n",
       "0    SUCCESS  1620768765023  \n",
       "1    SUCCESS  1620737545784  \n",
       "2    SUCCESS  1620737345763  \n",
       "3    SUCCESS  1620633808298  \n",
       "4    SUCCESS  1620633663256  \n",
       "..       ...            ...  \n",
       "357  FAILURE  1571640815081  \n",
       "358  FAILURE  1571413691556  \n",
       "359  FAILURE  1571413601620  \n",
       "360  FAILURE  1571413480644  \n",
       "361  FAILURE  1571413135667  \n",
       "\n",
       "[362 rows x 10 columns]"
      ]
     },
     "execution_count": 248,
     "metadata": {},
     "output_type": "execute_result"
    }
   ],
   "source": [
    "builds_M7T_DEPLOY"
   ]
  },
  {
   "cell_type": "code",
   "execution_count": 279,
   "metadata": {},
   "outputs": [],
   "source": [
    "M7TDEPLOYUPGRADE = pd.DataFrame(M7T_deploy_upgrade)\n",
    "M7TDEPLOYUPGRADE['Duration'] = builds_M7T_DEPLOY['duration']\n",
    "M7TDEPLOYUPGRADE['Result'] = builds_M7T_DEPLOY['result']\n",
    "M7TDEPLOYUPGRADE['Timestamp'] = builds_M7T_DEPLOY['timestamp']\n",
    "#M7TDEPLOYUPGRADE[(M7TDEPLOYUPGRADE['check'] == 'False') | (M7TDEPLOYUPGRADE['listHosts'] == 'false')] "
   ]
  },
  {
   "cell_type": "code",
   "execution_count": 285,
   "metadata": {},
   "outputs": [],
   "source": [
    "M7TDEPLOYUPGRADE[M7TDEPLOYUPGRADE['check'] == False]"
   ]
  },
  {
   "cell_type": "code",
   "execution_count": 6,
   "metadata": {},
   "outputs": [],
   "source": [
    "import requests\n",
    "from jira.client import JIRA\n",
    "import re \n",
    "import pandas as pd \n",
    "import xlsxwriter\n",
    "import numpy as np \n",
    "def total_calculation(data, ame):\n",
    "    data['Resolved'] = data['Resolved'].fillna(method='ffill')\n",
    "    data[\"Resolved\"] = pd.to_datetime(data[\"Resolved\"],dayfirst =True, errors ='coerce')\n",
    "    data[\"Custom field (Story Points)\"] = data[\"Custom field (Story Points)\"].fillna(0)\n",
    "    data['Custom field (Story Points)'] = np.where(data['Custom field (Story Points)'].between(0.0,1.0), 1, data['Custom field (Story Points)'])\n",
    "    data['Issue'] = np.where(data['Resolution'],ame, data['Resolution'])\n",
    "    data[\"year\"] = data[\"Resolved\"].apply(lambda x: x.year)\n",
    "    data[\"month\"] = data[\"Resolved\"].apply(lambda x: x.month)\n",
    "    data[\"day\"] = data[\"Resolved\"].apply(lambda x: x.day)\n",
    "    data[\"Resolved\"] = data[\"Resolved\"].apply(lambda x: x.date())\n",
    "    return data \n",
    "\n",
    "\n",
    "def run():\n",
    "    \n",
    "    options = {\n",
    "    'server': 'https://jira.deutsche-boerse.com/',\n",
    "    'client_cert':'/home/oh856/XBID-ANALYTICS-DASH/Flask-app-dash/newfile.pem'   \n",
    "    }\n",
    "    jira_user = 'oh856'\n",
    "    jira_pass = 'Ccf5566096.'\n",
    "\n",
    "\n",
    "    jira = JIRA(options, basic_auth=(jira_user, jira_pass))\n",
    "\n",
    "    DEVELOPMENT_query = ('''((issueFunction in issuesInEpics(\"project = XP and labels IN ('External')\") AND \"Epic Link\" != XP-1460 AND issuetype not in (Sub-task, Epic) AND resolution not in (\"Won't Fix\", \"Won't Do\", Rejected, Declined, Duplicate)))''')\n",
    "\n",
    "\n",
    "    \n",
    "\n",
    "    dev_result = pd.DataFrame()\n",
    "\n",
    "\n",
    "    issues = jira.search_issues(DEVELOPMENT_query, maxResults=1000)\n",
    "    \n",
    "    for issue in issues:\n",
    "                            \n",
    "                                d = {\n",
    "                                    'Summary': str(issue.fields.summary),\n",
    "                                    'Issue Key': issue.key,\n",
    "                                    'Issue id': issue.id ,\n",
    "                                    'Custom field (Story Points)': issue.fields.customfield_10052,\n",
    "                                    'Issue Type': str(issue.fields.issuetype.name),\n",
    "                                    'status': str(issue.fields.status.name),\n",
    "                                    'project': str(issue.fields.project),\n",
    "                                    'priority': str(issue.fields.priority.name),\n",
    "                                    'assignee': str(issue.fields.assignee),\n",
    "                                    'created' : str(issue.fields.created),   \n",
    "                                    'labels': str(issue.fields.labels),\n",
    "                                    'description': str(issue.fields.description),\n",
    "                                    'Resolution': str(issue.fields.resolution),\n",
    "                                    'Resolved': issue.fields.resolutiondate,\n",
    "                                    'status_description': str(issue.fields.status.description),\n",
    "                                    'updated': str(issue.fields.updated),\n",
    "                                    \n",
    "                                }\n",
    "                                dev_result = dev_result.append(d, ignore_index= True)  \n",
    "                                \n",
    "    dev_result = total_calculation(dev_result, 'Development')\n",
    "\n",
    "    for index, d in enumerate(dev_result['day']):\n",
    "        if(d <13): \n",
    "            dev_result.loc[index,'day'],dev_result.loc[index,'month']=dev_result.loc[index,'month'],                   dev_result.loc[index,'day'] \n",
    "    return dev_result\n",
    "                        \n",
    "\n",
    "\n",
    "\n",
    "\n",
    "    \n",
    "\n",
    "\n",
    "\n",
    "\n",
    "\n",
    "\n",
    "\n",
    "\n",
    "\n"
   ]
  },
  {
   "cell_type": "code",
   "execution_count": 10,
   "metadata": {},
   "outputs": [
    {
     "data": {
      "text/plain": [
       "0      2021-04-14\n",
       "1      2021-04-14\n",
       "2      2021-04-06\n",
       "3      2021-04-14\n",
       "4      2021-03-31\n",
       "          ...    \n",
       "495    2019-04-17\n",
       "496    2018-10-19\n",
       "497    2019-01-17\n",
       "498    2018-09-11\n",
       "499    2018-09-11\n",
       "Name: Resolved, Length: 500, dtype: object"
      ]
     },
     "execution_count": 10,
     "metadata": {},
     "output_type": "execute_result"
    }
   ],
   "source": []
  }
 ],
 "metadata": {
  "kernelspec": {
   "display_name": "Python 3",
   "language": "python",
   "name": "python3"
  },
  "language_info": {
   "codemirror_mode": {
    "name": "ipython",
    "version": 3
   },
   "file_extension": ".py",
   "mimetype": "text/x-python",
   "name": "python",
   "nbconvert_exporter": "python",
   "pygments_lexer": "ipython3",
   "version": "3.8.10"
  },
  "orig_nbformat": 2,
  "vscode": {
   "interpreter": {
    "hash": "916dbcbb3f70747c44a77c7bcd40155683ae19c65e1c03b4aa3499c5328201f1"
   }
  }
 },
 "nbformat": 4,
 "nbformat_minor": 2
}
