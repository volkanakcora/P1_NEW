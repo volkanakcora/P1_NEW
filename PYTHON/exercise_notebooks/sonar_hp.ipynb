{
 "cells": [
  {
   "cell_type": "code",
   "execution_count": 2,
   "metadata": {},
   "outputs": [
    {
     "name": "stdout",
     "output_type": "stream",
     "text": [
      "Requirement already satisfied: python-sonarqube-api in /home/oh856/P1-REPO/.venv/lib/python3.8/site-packages (2.0.3)\n",
      "Requirement already satisfied: requests in /home/oh856/P1-REPO/.venv/lib/python3.8/site-packages (from python-sonarqube-api) (2.31.0)\n",
      "Requirement already satisfied: charset-normalizer<4,>=2 in /home/oh856/P1-REPO/.venv/lib/python3.8/site-packages (from requests->python-sonarqube-api) (3.1.0)\n",
      "Requirement already satisfied: idna<4,>=2.5 in /home/oh856/P1-REPO/.venv/lib/python3.8/site-packages (from requests->python-sonarqube-api) (3.4)\n",
      "Requirement already satisfied: urllib3<3,>=1.21.1 in /home/oh856/P1-REPO/.venv/lib/python3.8/site-packages (from requests->python-sonarqube-api) (2.0.2)\n",
      "Requirement already satisfied: certifi>=2017.4.17 in /home/oh856/P1-REPO/.venv/lib/python3.8/site-packages (from requests->python-sonarqube-api) (2023.5.7)\n"
     ]
    }
   ],
   "source": [
    "!pip3 install python-sonarqube-api"
   ]
  },
  {
   "cell_type": "code",
   "execution_count": 9,
   "metadata": {},
   "outputs": [],
   "source": [
    "import sonarqube\n",
    "from sonarqube import SonarQubeClient\n",
    "\n"
   ]
  },
  {
   "cell_type": "code",
   "execution_count": 107,
   "metadata": {},
   "outputs": [],
   "source": [
    "sonar = SonarQubeClient(sonarqube_url=\"https://sonar.energy.svc.dbgcloud.io/\", username='kpi_technical', password='technical_user')"
   ]
  },
  {
   "cell_type": "code",
   "execution_count": null,
   "metadata": {},
   "outputs": [],
   "source": [
    "#metrics = sonar.ce.get_ce_activity_related_metrics(component_id=\"ComTrader\")\n",
    "tasks1 = sonar.projects.search_projects()\n"
   ]
  },
  {
   "cell_type": "code",
   "execution_count": 108,
   "metadata": {},
   "outputs": [
    {
     "data": {
      "text/plain": [
       "{'paging': {'pageIndex': 1, 'pageSize': 100, 'total': 0}, 'favorites': []}"
      ]
     },
     "execution_count": 108,
     "metadata": {},
     "output_type": "execute_result"
    }
   ],
   "source": [
    "favorites = sonar.favorites.search_favorites()\n",
    "favorites"
   ]
  },
  {
   "cell_type": "code",
   "execution_count": 29,
   "metadata": {},
   "outputs": [],
   "source": [
    "M7T = sonar.issues.search_issues(componentKeys=\"com.deutscheboerse.energy.m7:m7\", branch=\"develop\")\n"
   ]
  },
  {
   "cell_type": "code",
   "execution_count": 109,
   "metadata": {},
   "outputs": [],
   "source": [
    "import datetime \n",
    "\n",
    "m7_project_key = 'com.deutscheboerse.energy.m7:m7'\n",
    "xbid_project_key = 'com.deutscheboerse.energy.xbid:xbid'\n",
    "m7c_project_key = 'com.deutscheboerse.energy.m7capacity:m7'\n",
    "m7a_project_key = 'com.deutscheboerse.eua-auction:eua-auction'\n",
    "\n",
    "def get_development_metrics(project_key):\n",
    "    result = sonar.measures.get_component_with_specified_measures(component=project_key,\n",
    "                                                         branch=\"develop\",\n",
    "                                                         metricKeys='cognitive_complexity,coverage,security_rating,sqale_index,sqale_debt_ratio')\n",
    "    df = pd.json_normalize(result)\n",
    "    df[df['component.measures'][0][0]['metric']] = df['component.measures'][0][0]['value']\n",
    "    df[df['component.measures'][0][1]['metric']] = df['component.measures'][0][1]['value']\n",
    "    df[df['component.measures'][0][2]['metric']] = df['component.measures'][0][2]['value']\n",
    "    df[df['component.measures'][0][3]['metric']] = df['component.measures'][0][3]['value']\n",
    "    df[df['component.measures'][0][4]['metric']] = df['component.measures'][0][4]['value']\n",
    "    df[df['component.measures'][0][4]['metric']] = df['component.measures'][0][4]['value']\n",
    "\n",
    "    df['TimeStamp'] = datetime.datetime.now()\n",
    "    df['Debt_day'] = int(df['sqale_index']) / 480\n",
    "\n",
    "    return df[['Debt_day','security_rating','cognitive_complexity','coverage','sqale_debt_ratio','component.name','TimeStamp']]"
   ]
  },
  {
   "cell_type": "code",
   "execution_count": 97,
   "metadata": {},
   "outputs": [
    {
     "data": {
      "text/plain": [
       "{'component': {'key': 'com.deutscheboerse.energy.m7:m7',\n",
       "  'name': 'M7 Trading',\n",
       "  'qualifier': 'TRK',\n",
       "  'measures': [{'metric': 'sqale_index', 'value': '13282', 'bestValue': False},\n",
       "   {'metric': 'security_rating', 'value': '1.0', 'bestValue': True},\n",
       "   {'metric': 'cognitive_complexity', 'value': '9379', 'bestValue': False},\n",
       "   {'metric': 'coverage', 'value': '81.5', 'bestValue': False},\n",
       "   {'metric': 'sqale_debt_ratio', 'value': '0.4', 'bestValue': False}]}}"
      ]
     },
     "execution_count": 97,
     "metadata": {},
     "output_type": "execute_result"
    }
   ],
   "source": [
    "M7T = sonar.measures.get_component_with_specified_measures(component=\"com.deutscheboerse.energy.m7:m7\",\n",
    "                                                                 branch=\"develop\",\n",
    "                                                                 metricKeys='cognitive_complexity,coverage,security_rating,sqale_index,sqale_debt_ratio'\n",
    "                                                                )\n"
   ]
  },
  {
   "cell_type": "code",
   "execution_count": 98,
   "metadata": {},
   "outputs": [],
   "source": [
    "XBID = sonar.measures.get_component_with_specified_measures(component=\"com.deutscheboerse.energy.xbid:xbid\",\n",
    "                                                                 branch=\"develop\",\n",
    "                                                                 metricKeys='cognitive_complexity,coverage,security_rating,sqale_index,sqale_debt_ratio'\n",
    "                                                                )"
   ]
  },
  {
   "cell_type": "code",
   "execution_count": 99,
   "metadata": {},
   "outputs": [
    {
     "data": {
      "text/plain": [
       "{'component': {'key': 'com.deutscheboerse.energy.xbid:xbid',\n",
       "  'name': 'xbid',\n",
       "  'qualifier': 'TRK',\n",
       "  'measures': [{'metric': 'cognitive_complexity',\n",
       "    'value': '14966',\n",
       "    'bestValue': False},\n",
       "   {'metric': 'sqale_index', 'value': '27608', 'bestValue': False},\n",
       "   {'metric': 'security_rating', 'value': '1.0', 'bestValue': True},\n",
       "   {'metric': 'sqale_debt_ratio', 'value': '0.4', 'bestValue': False},\n",
       "   {'metric': 'coverage', 'value': '76.7', 'bestValue': False}]}}"
      ]
     },
     "execution_count": 99,
     "metadata": {},
     "output_type": "execute_result"
    }
   ],
   "source": [
    "XBID"
   ]
  },
  {
   "cell_type": "code",
   "execution_count": 53,
   "metadata": {},
   "outputs": [],
   "source": [
    "M7A = sonar.measures.get_component_with_specified_measures(component=\"com.deutscheboerse.eua-auction:eua-auction\",\n",
    "                                                                 branch=\"develop\",\n",
    "                                                                 metricKeys='cognitive_complexity,coverage,security_rating,sqale_index,sqale_debt_ratio'\n",
    "                                                                )"
   ]
  },
  {
   "cell_type": "code",
   "execution_count": 49,
   "metadata": {},
   "outputs": [],
   "source": [
    "import pandas as pd \n",
    "dataframe = []\n",
    "dataframe = pd.DataFrame(dataframe)"
   ]
  },
  {
   "cell_type": "code",
   "execution_count": 54,
   "metadata": {},
   "outputs": [],
   "source": [
    "import pandas as pd \n",
    "df = pd.json_normalize(M7A)"
   ]
  },
  {
   "cell_type": "code",
   "execution_count": 57,
   "metadata": {},
   "outputs": [
    {
     "data": {
      "text/plain": [
       "[{'metric': 'sqale_index', 'value': '3485', 'bestValue': False},\n",
       " {'metric': 'security_rating', 'value': '4.0', 'bestValue': False},\n",
       " {'metric': 'sqale_debt_ratio', 'value': '0.1', 'bestValue': False},\n",
       " {'metric': 'coverage', 'value': '94.7', 'bestValue': False},\n",
       " {'metric': 'cognitive_complexity', 'value': '5506', 'bestValue': False}]"
      ]
     },
     "execution_count": 57,
     "metadata": {},
     "output_type": "execute_result"
    }
   ],
   "source": [
    "df['component.measures'][0]"
   ]
  },
  {
   "cell_type": "code",
   "execution_count": 56,
   "metadata": {},
   "outputs": [
    {
     "data": {
      "text/plain": [
       "[{'metric': 'sqale_index', 'value': '3485', 'bestValue': False},\n",
       " {'metric': 'security_rating', 'value': '4.0', 'bestValue': False},\n",
       " {'metric': 'sqale_debt_ratio', 'value': '0.1', 'bestValue': False},\n",
       " {'metric': 'coverage', 'value': '94.7', 'bestValue': False},\n",
       " {'metric': 'cognitive_complexity', 'value': '5506', 'bestValue': False}]"
      ]
     },
     "execution_count": 56,
     "metadata": {},
     "output_type": "execute_result"
    }
   ],
   "source": [
    "df['component.measures'][0]"
   ]
  },
  {
   "cell_type": "code",
   "execution_count": 58,
   "metadata": {},
   "outputs": [
    {
     "ename": "ValueError",
     "evalue": "invalid literal for int() with base 10: '94.7'",
     "output_type": "error",
     "traceback": [
      "\u001b[0;31m---------------------------------------------------------------------------\u001b[0m",
      "\u001b[0;31mValueError\u001b[0m                                Traceback (most recent call last)",
      "Cell \u001b[0;32mIn[58], line 4\u001b[0m\n\u001b[1;32m      2\u001b[0m df[\u001b[39m'\u001b[39m\u001b[39mdebt_ration\u001b[39m\u001b[39m'\u001b[39m] \u001b[39m=\u001b[39m  df[\u001b[39m'\u001b[39m\u001b[39mcomponent.measures\u001b[39m\u001b[39m'\u001b[39m][\u001b[39m0\u001b[39m][\u001b[39m1\u001b[39m][\u001b[39m'\u001b[39m\u001b[39mvalue\u001b[39m\u001b[39m'\u001b[39m]\n\u001b[1;32m      3\u001b[0m df[\u001b[39m'\u001b[39m\u001b[39mcognitive_complexity\u001b[39m\u001b[39m'\u001b[39m] \u001b[39m=\u001b[39m df[\u001b[39m'\u001b[39m\u001b[39mcomponent.measures\u001b[39m\u001b[39m'\u001b[39m][\u001b[39m0\u001b[39m][\u001b[39m2\u001b[39m][\u001b[39m'\u001b[39m\u001b[39mvalue\u001b[39m\u001b[39m'\u001b[39m]\n\u001b[0;32m----> 4\u001b[0m df[\u001b[39m'\u001b[39m\u001b[39mdebt_days\u001b[39m\u001b[39m'\u001b[39m] \u001b[39m=\u001b[39m \u001b[39mint\u001b[39;49m(df[\u001b[39m'\u001b[39;49m\u001b[39mcomponent.measures\u001b[39;49m\u001b[39m'\u001b[39;49m][\u001b[39m0\u001b[39;49m][\u001b[39m3\u001b[39;49m][\u001b[39m'\u001b[39;49m\u001b[39mvalue\u001b[39;49m\u001b[39m'\u001b[39;49m]) \u001b[39m/\u001b[39m \u001b[39m480\u001b[39m\n\u001b[1;32m      5\u001b[0m df[\u001b[39m'\u001b[39m\u001b[39mcoverage\u001b[39m\u001b[39m'\u001b[39m] \u001b[39m=\u001b[39m df[\u001b[39m'\u001b[39m\u001b[39mcomponent.measures\u001b[39m\u001b[39m'\u001b[39m][\u001b[39m0\u001b[39m][\u001b[39m4\u001b[39m][\u001b[39m'\u001b[39m\u001b[39mvalue\u001b[39m\u001b[39m'\u001b[39m]\n",
      "\u001b[0;31mValueError\u001b[0m: invalid literal for int() with base 10: '94.7'"
     ]
    }
   ],
   "source": [
    "df['security_rating'] = df['component.measures'][0][0]['value']\n",
    "df['debt_ration'] =  df['component.measures'][0][1]['value']\n",
    "df['cognitive_complexity'] = df['component.measures'][0][2]['value']\n",
    "df['debt_days'] = int(df['component.measures'][0][3]['value']) / 480\n",
    "df['coverage'] = df['component.measures'][0][4]['value']\n"
   ]
  },
  {
   "cell_type": "code",
   "execution_count": 93,
   "metadata": {},
   "outputs": [],
   "source": [
    "df[df['component.measures'][0][0]['metric']] = df['component.measures'][0][0]['value']\n",
    "df[df['component.measures'][0][1]['metric']] = df['component.measures'][0][1]['value']\n",
    "df[df['component.measures'][0][2]['metric']] = df['component.measures'][0][2]['value']\n",
    "df[df['component.measures'][0][3]['metric']] = df['component.measures'][0][3]['value']\n",
    "df[df['component.measures'][0][4]['metric']] = df['component.measures'][0][4]['value']"
   ]
  },
  {
   "cell_type": "code",
   "execution_count": null,
   "metadata": {},
   "outputs": [],
   "source": []
  },
  {
   "cell_type": "code",
   "execution_count": 110,
   "metadata": {},
   "outputs": [
    {
     "name": "stderr",
     "output_type": "stream",
     "text": [
      "/tmp/ipykernel_906698/1814646222.py:20: FutureWarning: Calling int on a single element Series is deprecated and will raise a TypeError in the future. Use int(ser.iloc[0]) instead\n",
      "  df['Debt_day'] = int(df['sqale_index']) / 480\n",
      "/tmp/ipykernel_906698/1814646222.py:20: FutureWarning: Calling int on a single element Series is deprecated and will raise a TypeError in the future. Use int(ser.iloc[0]) instead\n",
      "  df['Debt_day'] = int(df['sqale_index']) / 480\n",
      "/tmp/ipykernel_906698/1814646222.py:20: FutureWarning: Calling int on a single element Series is deprecated and will raise a TypeError in the future. Use int(ser.iloc[0]) instead\n",
      "  df['Debt_day'] = int(df['sqale_index']) / 480\n",
      "/tmp/ipykernel_906698/1814646222.py:20: FutureWarning: Calling int on a single element Series is deprecated and will raise a TypeError in the future. Use int(ser.iloc[0]) instead\n",
      "  df['Debt_day'] = int(df['sqale_index']) / 480\n"
     ]
    }
   ],
   "source": [
    "M7A = get_development_metrics(m7a_project_key)\n",
    "M7T = get_development_metrics(m7_project_key)\n",
    "M7C = get_development_metrics(m7c_project_key)\n",
    "XBID =get_development_metrics(xbid_project_key)"
   ]
  },
  {
   "cell_type": "code",
   "execution_count": 111,
   "metadata": {},
   "outputs": [
    {
     "data": {
      "text/html": [
       "<div>\n",
       "<style scoped>\n",
       "    .dataframe tbody tr th:only-of-type {\n",
       "        vertical-align: middle;\n",
       "    }\n",
       "\n",
       "    .dataframe tbody tr th {\n",
       "        vertical-align: top;\n",
       "    }\n",
       "\n",
       "    .dataframe thead th {\n",
       "        text-align: right;\n",
       "    }\n",
       "</style>\n",
       "<table border=\"1\" class=\"dataframe\">\n",
       "  <thead>\n",
       "    <tr style=\"text-align: right;\">\n",
       "      <th></th>\n",
       "      <th>Debt_day</th>\n",
       "      <th>security_rating</th>\n",
       "      <th>cognitive_complexity</th>\n",
       "      <th>coverage</th>\n",
       "      <th>sqale_debt_ratio</th>\n",
       "      <th>component.name</th>\n",
       "      <th>TimeStamp</th>\n",
       "    </tr>\n",
       "  </thead>\n",
       "  <tbody>\n",
       "    <tr>\n",
       "      <th>0</th>\n",
       "      <td>7.260417</td>\n",
       "      <td>4.0</td>\n",
       "      <td>5506</td>\n",
       "      <td>94.7</td>\n",
       "      <td>0.1</td>\n",
       "      <td>M7 Auction</td>\n",
       "      <td>2023-06-05 15:24:55.892628</td>\n",
       "    </tr>\n",
       "    <tr>\n",
       "      <th>1</th>\n",
       "      <td>27.670833</td>\n",
       "      <td>1.0</td>\n",
       "      <td>9379</td>\n",
       "      <td>81.5</td>\n",
       "      <td>0.4</td>\n",
       "      <td>M7 Trading</td>\n",
       "      <td>2023-06-05 15:24:56.100030</td>\n",
       "    </tr>\n",
       "    <tr>\n",
       "      <th>2</th>\n",
       "      <td>124.727083</td>\n",
       "      <td>1.0</td>\n",
       "      <td>12539</td>\n",
       "      <td>56.3</td>\n",
       "      <td>1.2</td>\n",
       "      <td>M7 Capacity</td>\n",
       "      <td>2023-06-05 15:24:56.312366</td>\n",
       "    </tr>\n",
       "    <tr>\n",
       "      <th>3</th>\n",
       "      <td>57.516667</td>\n",
       "      <td>1.0</td>\n",
       "      <td>14966</td>\n",
       "      <td>76.7</td>\n",
       "      <td>0.4</td>\n",
       "      <td>xbid</td>\n",
       "      <td>2023-06-05 15:24:56.526826</td>\n",
       "    </tr>\n",
       "  </tbody>\n",
       "</table>\n",
       "</div>"
      ],
      "text/plain": [
       "     Debt_day security_rating cognitive_complexity coverage sqale_debt_ratio  \\\n",
       "0    7.260417             4.0                 5506     94.7              0.1   \n",
       "1   27.670833             1.0                 9379     81.5              0.4   \n",
       "2  124.727083             1.0                12539     56.3              1.2   \n",
       "3   57.516667             1.0                14966     76.7              0.4   \n",
       "\n",
       "  component.name                  TimeStamp  \n",
       "0     M7 Auction 2023-06-05 15:24:55.892628  \n",
       "1     M7 Trading 2023-06-05 15:24:56.100030  \n",
       "2    M7 Capacity 2023-06-05 15:24:56.312366  \n",
       "3           xbid 2023-06-05 15:24:56.526826  "
      ]
     },
     "execution_count": 111,
     "metadata": {},
     "output_type": "execute_result"
    }
   ],
   "source": [
    "pd.concat([M7A,M7T,M7C,XBID],ignore_index=True)"
   ]
  },
  {
   "cell_type": "code",
   "execution_count": null,
   "metadata": {},
   "outputs": [],
   "source": []
  }
 ],
 "metadata": {
  "kernelspec": {
   "display_name": "Python 3",
   "language": "python",
   "name": "python3"
  },
  "language_info": {
   "codemirror_mode": {
    "name": "ipython",
    "version": 3
   },
   "file_extension": ".py",
   "mimetype": "text/x-python",
   "name": "python",
   "nbconvert_exporter": "python",
   "pygments_lexer": "ipython3",
   "version": "3.8.10"
  },
  "orig_nbformat": 4
 },
 "nbformat": 4,
 "nbformat_minor": 2
}
