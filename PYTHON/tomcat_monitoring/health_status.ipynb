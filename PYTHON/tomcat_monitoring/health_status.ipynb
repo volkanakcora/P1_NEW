{
 "cells": [
  {
   "cell_type": "code",
   "execution_count": null,
   "metadata": {},
   "outputs": [],
   "source": []
  },
  {
   "cell_type": "code",
   "execution_count": 1,
   "metadata": {},
   "outputs": [
    {
     "ename": "NameError",
     "evalue": "name 'true' is not defined",
     "output_type": "error",
     "traceback": [
      "\u001b[0;31m---------------------------------------------------------------------------\u001b[0m",
      "\u001b[0;31mNameError\u001b[0m                                 Traceback (most recent call last)",
      "Cell \u001b[0;32mIn[1], line 1\u001b[0m\n\u001b[0;32m----> 1\u001b[0m json \u001b[38;5;241m=\u001b[39m {\u001b[38;5;124m\"\u001b[39m\u001b[38;5;124mstatus\u001b[39m\u001b[38;5;124m\"\u001b[39m:\u001b[38;5;124m\"\u001b[39m\u001b[38;5;124mUP\u001b[39m\u001b[38;5;124m\"\u001b[39m,\u001b[38;5;124m\"\u001b[39m\u001b[38;5;124mcomponents\u001b[39m\u001b[38;5;124m\"\u001b[39m:{\u001b[38;5;124m\"\u001b[39m\u001b[38;5;124mdiskSpace\u001b[39m\u001b[38;5;124m\"\u001b[39m:{\u001b[38;5;124m\"\u001b[39m\u001b[38;5;124mstatus\u001b[39m\u001b[38;5;124m\"\u001b[39m:\u001b[38;5;124m\"\u001b[39m\u001b[38;5;124mUP\u001b[39m\u001b[38;5;124m\"\u001b[39m,\u001b[38;5;124m\"\u001b[39m\u001b[38;5;124mdetails\u001b[39m\u001b[38;5;124m\"\u001b[39m:{\u001b[38;5;124m\"\u001b[39m\u001b[38;5;124mtotal\u001b[39m\u001b[38;5;124m\"\u001b[39m:[\u001b[38;5;124m\"\u001b[39m\u001b[38;5;124mjava.lang.Long\u001b[39m\u001b[38;5;124m\"\u001b[39m,\u001b[38;5;241m2046640128\u001b[39m],\u001b[38;5;124m\"\u001b[39m\u001b[38;5;124mfree\u001b[39m\u001b[38;5;124m\"\u001b[39m:[\u001b[38;5;124m\"\u001b[39m\u001b[38;5;124mjava.lang.Long\u001b[39m\u001b[38;5;124m\"\u001b[39m,\u001b[38;5;241m376393728\u001b[39m],\u001b[38;5;124m\"\u001b[39m\u001b[38;5;124mthreshold\u001b[39m\u001b[38;5;124m\"\u001b[39m:[\u001b[38;5;124m\"\u001b[39m\u001b[38;5;124mjava.lang.Long\u001b[39m\u001b[38;5;124m\"\u001b[39m,\u001b[38;5;241m10485760\u001b[39m],\u001b[38;5;124m\"\u001b[39m\u001b[38;5;124mexists\u001b[39m\u001b[38;5;124m\"\u001b[39m:\u001b[43mtrue\u001b[49m}},\u001b[38;5;124m\"\u001b[39m\u001b[38;5;124metcd\u001b[39m\u001b[38;5;124m\"\u001b[39m:{\u001b[38;5;124m\"\u001b[39m\u001b[38;5;124mstatus\u001b[39m\u001b[38;5;124m\"\u001b[39m:\u001b[38;5;124m\"\u001b[39m\u001b[38;5;124mUP\u001b[39m\u001b[38;5;124m\"\u001b[39m},\u001b[38;5;124m\"\u001b[39m\u001b[38;5;124mfailover\u001b[39m\u001b[38;5;124m\"\u001b[39m:{\u001b[38;5;124m\"\u001b[39m\u001b[38;5;124mstatus\u001b[39m\u001b[38;5;124m\"\u001b[39m:\u001b[38;5;124m\"\u001b[39m\u001b[38;5;124mMASTER\u001b[39m\u001b[38;5;124m\"\u001b[39m},\u001b[38;5;124m\"\u001b[39m\u001b[38;5;124mping\u001b[39m\u001b[38;5;124m\"\u001b[39m:{\u001b[38;5;124m\"\u001b[39m\u001b[38;5;124mstatus\u001b[39m\u001b[38;5;124m\"\u001b[39m:\u001b[38;5;124m\"\u001b[39m\u001b[38;5;124mUP\u001b[39m\u001b[38;5;124m\"\u001b[39m},\u001b[38;5;124m\"\u001b[39m\u001b[38;5;124mrabbit\u001b[39m\u001b[38;5;124m\"\u001b[39m:{\u001b[38;5;124m\"\u001b[39m\u001b[38;5;124mstatus\u001b[39m\u001b[38;5;124m\"\u001b[39m:\u001b[38;5;124m\"\u001b[39m\u001b[38;5;124mUP\u001b[39m\u001b[38;5;124m\"\u001b[39m,\u001b[38;5;124m\"\u001b[39m\u001b[38;5;124mcomponents\u001b[39m\u001b[38;5;124m\"\u001b[39m:{\u001b[38;5;124m\"\u001b[39m\u001b[38;5;124mext\u001b[39m\u001b[38;5;124m\"\u001b[39m:{\u001b[38;5;124m\"\u001b[39m\u001b[38;5;124mstatus\u001b[39m\u001b[38;5;124m\"\u001b[39m:\u001b[38;5;124m\"\u001b[39m\u001b[38;5;124mUP\u001b[39m\u001b[38;5;124m\"\u001b[39m,\u001b[38;5;124m\"\u001b[39m\u001b[38;5;124mdetails\u001b[39m\u001b[38;5;124m\"\u001b[39m:{\u001b[38;5;124m\"\u001b[39m\u001b[38;5;124mversion\u001b[39m\u001b[38;5;124m\"\u001b[39m:\u001b[38;5;124m\"\u001b[39m\u001b[38;5;124m3.11.5\u001b[39m\u001b[38;5;124m\"\u001b[39m}},\u001b[38;5;124m\"\u001b[39m\u001b[38;5;124mint\u001b[39m\u001b[38;5;124m\"\u001b[39m:{\u001b[38;5;124m\"\u001b[39m\u001b[38;5;124mstatus\u001b[39m\u001b[38;5;124m\"\u001b[39m:\u001b[38;5;124m\"\u001b[39m\u001b[38;5;124mUP\u001b[39m\u001b[38;5;124m\"\u001b[39m,\u001b[38;5;124m\"\u001b[39m\u001b[38;5;124mdetails\u001b[39m\u001b[38;5;124m\"\u001b[39m:{\u001b[38;5;124m\"\u001b[39m\u001b[38;5;124mversion\u001b[39m\u001b[38;5;124m\"\u001b[39m:\u001b[38;5;124m\"\u001b[39m\u001b[38;5;124m3.11.5\u001b[39m\u001b[38;5;124m\"\u001b[39m}}}}}}\n",
      "\u001b[0;31mNameError\u001b[0m: name 'true' is not defined"
     ]
    }
   ],
   "source": [
    "json = {\"status\":\"UP\",\"components\":{\"diskSpace\":{\"status\":\"UP\",\"details\":{\"total\":[\"java.lang.Long\",2046640128],\"free\":[\"java.lang.Long\",376393728],\"threshold\":[\"java.lang.Long\",10485760],\"exists\":true}},\"etcd\":{\"status\":\"UP\"},\"failover\":{\"status\":\"MASTER\"},\"ping\":{\"status\":\"UP\"},\"rabbit\":{\"status\":\"UP\",\"components\":{\"ext\":{\"status\":\"UP\",\"details\":{\"version\":\"3.11.5\"}},\"int\":{\"status\":\"UP\",\"details\":{\"version\":\"3.11.5\"}}}}}}"
   ]
  },
  {
   "cell_type": "code",
   "execution_count": 58,
   "metadata": {},
   "outputs": [],
   "source": [
    "data = {'status': 'UP', 'components': {'diskSpace': {'status': 'UP', 'details': {'total': ['java.lang.Long', 5150212096], 'free': ['java.lang.Long', 2924032000], 'threshold': ['java.lang.Long', 10485760], 'exists': True}}, 'etcd': {'status': 'UP'}, 'failover': {'status': 'MASTER'}, 'ping': {'status': 'UP'}, 'rabbit': {'status': 'UP', 'components': {'ext': {'status': 'UP', 'details': {'version': '3.11.5'}}, 'int': {'status': 'UP', 'details': {'version': '3.11.5'}}}}}}"
   ]
  },
  {
   "cell_type": "code",
   "execution_count": 52,
   "metadata": {},
   "outputs": [],
   "source": [
    "import json \n",
    "import pandas as pd \n",
    "data = pd.json_normalize(data)\n",
    "\n",
    "data_1 = data.to_json"
   ]
  },
  {
   "cell_type": "code",
   "execution_count": 59,
   "metadata": {},
   "outputs": [
    {
     "data": {
      "text/plain": [
       "{'status': 'UP',\n",
       " 'components': {'diskSpace': {'status': 'UP',\n",
       "   'details': {'total': ['java.lang.Long', 5150212096],\n",
       "    'free': ['java.lang.Long', 2924032000],\n",
       "    'threshold': ['java.lang.Long', 10485760],\n",
       "    'exists': True}},\n",
       "  'etcd': {'status': 'UP'},\n",
       "  'failover': {'status': 'MASTER'},\n",
       "  'ping': {'status': 'UP'},\n",
       "  'rabbit': {'status': 'UP',\n",
       "   'components': {'ext': {'status': 'UP', 'details': {'version': '3.11.5'}},\n",
       "    'int': {'status': 'UP', 'details': {'version': '3.11.5'}}}}}}"
      ]
     },
     "execution_count": 59,
     "metadata": {},
     "output_type": "execute_result"
    }
   ],
   "source": [
    "data"
   ]
  },
  {
   "cell_type": "code",
   "execution_count": 60,
   "metadata": {},
   "outputs": [
    {
     "name": "stdout",
     "output_type": "stream",
     "text": [
      " * Serving Flask app '__main__'\n",
      " * Debug mode: off\n"
     ]
    },
    {
     "name": "stderr",
     "output_type": "stream",
     "text": [
      "WARNING: This is a development server. Do not use it in a production deployment. Use a production WSGI server instead.\n",
      " * Running on all addresses (0.0.0.0)\n",
      " * Running on http://127.0.0.1:8000\n",
      " * Running on http://172.30.146.220:8000\n",
      "Press CTRL+C to quit\n",
      "127.0.0.1 - - [30/May/2024 15:31:24] \"GET /metrics HTTP/1.1\" 200 -\n"
     ]
    }
   ],
   "source": [
    "from flask import Flask, Response\n",
    "import json\n",
    "from prometheus_client import Gauge, generate_latest, REGISTRY\n",
    "import requests\n",
    "app = Flask(__name__)\n",
    "\n",
    "\n",
    "def fetch_and_update_metrics():\n",
    "    url = \"http://127.0.0.1:60378/m7core/health\"\n",
    "    response = requests.get(url)\n",
    "    data = response.json()\n",
    "    update_metrics(data)\n",
    "    return \"Metrics updated\", 200\n",
    "\n",
    "# Sample JSON response\n",
    "json_response = {\n",
    "    'status': 'UP',\n",
    "    'components': {\n",
    "        'diskSpace': {\n",
    "            'status': 'DOWN',\n",
    "            'details': {\n",
    "                'total': ['java.lang.Long', 2042640128],\n",
    "                'free': ['java.lang.Long', 376393728],\n",
    "                'threshold': ['java.lang.Long', 10485760],\n",
    "                'exists': True\n",
    "            }\n",
    "        },\n",
    "        'etcd': {'status': 'DOWN'},\n",
    "        'failover': {'status': 'MASTER'},\n",
    "        'ping': {'status': 'DOWN'},\n",
    "        'rabbit': {\n",
    "            'status': 'DOWN',\n",
    "            'components': {\n",
    "                'ext': {'status': 'UP', 'details': {'version': '3.11.5'}},\n",
    "                'int': {'status': 'UP', 'details': {'version': '3.11.5'}}\n",
    "            }\n",
    "        }\n",
    "    }\n",
    "}\n",
    "\n",
    "\n",
    "\n",
    "try:\n",
    "    # Prometheus Metrics\n",
    "    status_gauge = Gauge('system_status', 'Overall system status', ['status'])\n",
    "    disk_space_total = Gauge('disk_space_total_bytes', 'Total disk space in bytes')\n",
    "    disk_space_free = Gauge('disk_space_free_bytes', 'Free disk space in bytes')\n",
    "    disk_space_threshold = Gauge('disk_space_threshold_bytes', 'Disk space threshold in bytes')\n",
    "    etcd_status = Gauge('etcd_status', 'Status of etcd')\n",
    "    failover_status = Gauge('failover_status', 'Failover status')\n",
    "    ping_status = Gauge('ping_status', 'Ping status')\n",
    "    rabbit_status = Gauge('rabbit_status', 'RabbitMQ status')\n",
    "    rabbit_ext_version = Gauge('rabbit_ext_version', 'RabbitMQ ext version', ['version'])\n",
    "    rabbit_int_version = Gauge('rabbit_int_version', 'RabbitMQ int version', ['version'])\n",
    "\n",
    "except: KeyError\n",
    "\n",
    "def update_metrics(data):\n",
    "    status_gauge.labels(status=data['status']).set(1)\n",
    "\n",
    "    # Update disk space metrics\n",
    "    disk_space_total.set(data['components']['diskSpace']['details']['total'][1])\n",
    "    disk_space_free.set(data['components']['diskSpace']['details']['free'][1])\n",
    "    disk_space_threshold.set(data['components']['diskSpace']['details']['threshold'][1])\n",
    "\n",
    "    # Update etcd status\n",
    "    etcd_status.set(1 if data['components']['etcd']['status'] == 'UP' else 0)\n",
    "\n",
    "    # Update failover status\n",
    "    failover_status.set(1 if data['components']['failover']['status'] == 'MASTER' else 0)\n",
    "\n",
    "    # Update ping status\n",
    "    ping_status.set(1 if data['components']['ping']['status'] == 'UP' else 0)\n",
    "\n",
    "    # Update rabbit status\n",
    "    rabbit_status.set(1 if data['components']['rabbit']['status'] == 'UP' else 0)\n",
    "    rabbit_ext_version.labels(version=data['components']['rabbit']['components']['ext']['details']['version']).set(1)\n",
    "    rabbit_int_version.labels(version=data['components']['rabbit']['components']['int']['details']['version']).set(1)\n",
    "\n",
    "# Call update_metrics to initialize the metrics with the sample JSON data\n",
    "update_metrics(data)\n",
    "\n",
    "@app.route('/metrics')\n",
    "def metrics():\n",
    "    return Response(generate_latest(REGISTRY), mimetype='text/plain')\n",
    "\n",
    "if __name__ == '__main__':\n",
    "    app.run(host='0.0.0.0', port=8000)\n"
   ]
  }
 ],
 "metadata": {
  "kernelspec": {
   "display_name": "base",
   "language": "python",
   "name": "python3"
  },
  "language_info": {
   "codemirror_mode": {
    "name": "ipython",
    "version": 3
   },
   "file_extension": ".py",
   "mimetype": "text/x-python",
   "name": "python",
   "nbconvert_exporter": "python",
   "pygments_lexer": "ipython3",
   "version": "3.11.5"
  }
 },
 "nbformat": 4,
 "nbformat_minor": 2
}
