{
 "cells": [
  {
   "cell_type": "code",
   "execution_count": 1,
   "metadata": {},
   "outputs": [],
   "source": [
    "import pandas as pd \n",
    "import numpy as np "
   ]
  },
  {
   "cell_type": "code",
   "execution_count": 3,
   "metadata": {},
   "outputs": [],
   "source": [
    "# time module is must as reminder \n",
    "# is set with the help of dates\n",
    "import time\n",
    "  \n",
    "# os module is used to notify user \n",
    "# using default \"Ubuntu\" notification bar\n",
    "import os\n",
    "  \n",
    "# Birthday file is the one in which the actual birthdays\n",
    "# and dates are present. This file can be \n",
    "# manually edited or can be automated. \n",
    "# For simplicity, we will edit it manually.\n",
    "# Birthdays should be written in this file in\n",
    "# the format: \"MonthDay Name Surname\" (Without Quotes)\n",
    "  \n",
    "birthdayFile = 'birthday.txt'\n",
    "  \n",
    "def checkTodaysBirthdays():\n",
    "    fileName = open(birthdayFile, 'r')\n",
    "    today = time.strftime('%m%d')\n",
    "    flag = 0\n",
    "    for line in fileName:\n",
    "        if today in line:\n",
    "            line = line.split(' ')\n",
    "            flag =1\n",
    "            # line[1] contains Name and line[2] contains Surname\n",
    "            os.system('notify-send \"Birthdays Today: ' + line[1]\n",
    "            + ' ' + line[2] + '\"')\n",
    "    if flag == 0:\n",
    "            os.system('notify-send \"No Birthdays Today!\"')\n",
    "  \n",
    "if __name__ == '__main__':\n",
    "    checkTodaysBirthdays()"
   ]
  },
  {
   "cell_type": "code",
   "execution_count": null,
   "metadata": {},
   "outputs": [],
   "source": []
  },
  {
   "cell_type": "code",
   "execution_count": null,
   "metadata": {},
   "outputs": [],
   "source": []
  },
  {
   "cell_type": "code",
   "execution_count": null,
   "metadata": {},
   "outputs": [],
   "source": []
  },
  {
   "cell_type": "code",
   "execution_count": null,
   "metadata": {},
   "outputs": [],
   "source": []
  }
 ],
 "metadata": {
  "kernelspec": {
   "display_name": "Python 3",
   "language": "python",
   "name": "python3"
  },
  "language_info": {
   "codemirror_mode": {
    "name": "ipython",
    "version": 3
   },
   "file_extension": ".py",
   "mimetype": "text/x-python",
   "name": "python",
   "nbconvert_exporter": "python",
   "pygments_lexer": "ipython3",
   "version": "3.8.10"
  },
  "orig_nbformat": 4,
  "vscode": {
   "interpreter": {
    "hash": "916dbcbb3f70747c44a77c7bcd40155683ae19c65e1c03b4aa3499c5328201f1"
   }
  }
 },
 "nbformat": 4,
 "nbformat_minor": 2
}
