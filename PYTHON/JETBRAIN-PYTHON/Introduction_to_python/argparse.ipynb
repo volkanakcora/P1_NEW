{
 "cells": [
  {
   "attachments": {},
   "cell_type": "markdown",
   "metadata": {},
   "source": [
    "# Argparse module"
   ]
  },
  {
   "attachments": {},
   "cell_type": "markdown",
   "metadata": {},
   "source": [
    " The argparse is one of the modules that let you do that. It allows you to pass the arguments through the command line and also assign names to them, use them as “flags”, automatically generate messages for users, and do a lot of other cool things we will get to a bit later.\n",
    "\n",
    "We will write a script called recipe_book.py as an example that takes up to five ingredients and prints a recipe of a dish you can cook with the provided ingredients.\n"
   ]
  },
  {
   "attachments": {},
   "cell_type": "markdown",
   "metadata": {},
   "source": [
    "## Getting started with argparse\n"
   ]
  },
  {
   "cell_type": "code",
   "execution_count": null,
   "metadata": {},
   "outputs": [],
   "source": [
    "import argparse\n",
    "\n",
    "parser = argparse.ArgumentParser(description=\"This program prints recipes \\\n",
    "consisting of the ingredients you provide.\")\n",
    "\n",
    "#The ArgumentParser is a class. In Python, classes are used to define the data and the behaviors of similar objects.\n",
    "#The ArgumentParser has quite a number of parameters that you can specify, but we only invoked description which is \n",
    "#quite handy in order to explain to a user what your program is for in general. Now let's add some arguments.\n",
    "\n"
   ]
  },
  {
   "attachments": {},
   "cell_type": "markdown",
   "metadata": {},
   "source": [
    "# Adding argumnets"
   ]
  },
  {
   "cell_type": "code",
   "execution_count": null,
   "metadata": {},
   "outputs": [],
   "source": [
    "parser.add_argument(\"-i1\", \"--ingredient_1\")  # optional argument\n",
    "                                              # or\n",
    "parser.add_argument(\"ingredient_1\")           # positional argument"
   ]
  },
  {
   "attachments": {},
   "cell_type": "markdown",
   "metadata": {},
   "source": [
    "We also need to note the difference between the optional and the positional arguments. When parsing, if an argument has a dash - or a double dash -- prefix, it'll be treated as optional. Let's take a closer look at the first line of the code in the example above. With optional arguments, traditionally, a single dash - denotes a short version of a name (usually consisting of only one letter), while a double dash -- is used for a full argument name. When specifying this argument from the command line, you can use either of these variants. Since positional arguments are used without a prefix before them, they can have only one name."
   ]
  },
  {
   "attachments": {},
   "cell_type": "markdown",
   "metadata": {},
   "source": [
    "The add_argument() has a lot of useful parameters, but we are going to look at the most commonly-used ones. For example, the parameter “action” is responsible for what should be done with a command-line argument. By default, it just stores the value passed to the argument, though it's not the only option.\n",
    "\n"
   ]
  },
  {
   "cell_type": "code",
   "execution_count": null,
   "metadata": {},
   "outputs": [],
   "source": [
    "parser.add_argument(\"--salt\", action=\"store_true\")   "
   ]
  },
  {
   "attachments": {},
   "cell_type": "markdown",
   "metadata": {},
   "source": [
    "Since pretty much everybody has some salt in their kitchen, we'll assume that our users always have salt on hand. So, instead of making users specify salt as one of the numbered ingredients, we'll let them toggle its presence in the recipe with a simple flag. In the example above, we have done so by setting the action to the “store_true”. It is used to assign boolean values to the corresponding arguments. The salt value will be False by default but if the user lists --salt among the arguments, the value will be changed to True. There's also an opposite option, store_false: the argument's default value will be True, but it will be made False if the argument is listed."
   ]
  },
  {
   "cell_type": "code",
   "execution_count": null,
   "metadata": {},
   "outputs": [],
   "source": [
    "#For action = \"store_false\": the default value is True. For action = \"store_true\": the default value is False.\n",
    "#The same can be achieved by specifying the default parameter:\n",
    "\n",
    "parser.add_argument(\"--pepper\", default=False)\n",
    "\n",
    "#This time the argument isn't used as a flag any more, so, if you'd like to change the value, you will have to define it in the command line explicitly: --pepper \"True\"."
   ]
  },
  {
   "attachments": {},
   "cell_type": "markdown",
   "metadata": {},
   "source": [
    "Finally, since we're only at the beginning of the development process of our program, it might be useful to limit the choice of each ingredient to only those used in our recipes. This can be done with the choices parameter that will show the acceptable values for a particular argument:"
   ]
  },
  {
   "cell_type": "code",
   "execution_count": null,
   "metadata": {},
   "outputs": [],
   "source": [
    "parser.add_argument(\"-i2\", \"--ingredient_2\",\n",
    "                    choices=[\"pasta\", \"rice\", \"potato\", \"onion\",\n",
    "                             \"garlic\", \"carrot\", \"soy_sauce\", \"tomato_sauce\"],\n",
    "                    help=\"You need to choose only one ingredient from the list.\")"
   ]
  },
  {
   "attachments": {},
   "cell_type": "markdown",
   "metadata": {},
   "source": [
    "# Parsing arguments\n"
   ]
  },
  {
   "attachments": {},
   "cell_type": "markdown",
   "metadata": {},
   "source": [
    "The parse_args() method is used for reading argument strings from the command line:\n",
    "\n"
   ]
  },
  {
   "cell_type": "code",
   "execution_count": null,
   "metadata": {},
   "outputs": [],
   "source": [
    "args = parser.parse_args()\n"
   ]
  },
  {
   "attachments": {},
   "cell_type": "markdown",
   "metadata": {},
   "source": [
    "Now we can access the values specified by a user as attributes of the args. The long versions are used as attribute names:\n",
    "\n"
   ]
  },
  {
   "cell_type": "code",
   "execution_count": null,
   "metadata": {},
   "outputs": [],
   "source": [
    "print(args.ingredient_2)  # onion \n",
    "# (the value was chosen by a user from the given options)"
   ]
  },
  {
   "attachments": {},
   "cell_type": "markdown",
   "metadata": {},
   "source": [
    "Note that we can't use short versions of arguments: for example, args.i2 will not work.\n",
    "\n",
    "In case a user didn't specify an optional argument in the command line, the value is set toNone by default:"
   ]
  },
  {
   "cell_type": "code",
   "execution_count": null,
   "metadata": {},
   "outputs": [],
   "source": [
    "print(args.ingredient_3)  # None\n",
    "# (the value wasn't provided by a user)"
   ]
  },
  {
   "cell_type": "code",
   "execution_count": null,
   "metadata": {},
   "outputs": [],
   "source": [
    "#So far, the code of our program in the “recipe_book.py” module looks as follows:\n",
    "\n"
   ]
  },
  {
   "cell_type": "code",
   "execution_count": null,
   "metadata": {},
   "outputs": [],
   "source": [
    "import argparse\n",
    "\n",
    "\n",
    "parser = argparse.ArgumentParser(description=\"This program prints recipes \\\n",
    "consisting of the ingredients you provide.\")\n",
    "\n",
    "parser.add_argument(\"-i1\", \"--ingredient_1\", choices=[\"pasta\", \"rice\", \"potato\",\n",
    "                    \"onion\", \"garlic\", \"carrot\", \"soy_sauce\", \"tomato_sauce\"],\n",
    "                    help=\"You need to choose only one ingredient from the list.\")\n",
    "parser.add_argument(\"-i2\", \"--ingredient_2\", choices=[\"pasta\", \"rice\", \"potato\",\n",
    "                    \"onion\", \"garlic\", \"carrot\", \"soy_sauce\", \"tomato_sauce\"],\n",
    "                    help=\"You need to choose only one ingredient from the list.\")\n",
    "parser.add_argument(\"-i3\", \"--ingredient_3\", choices=[\"pasta\", \"rice\", \"potato\",\n",
    "                    \"onion\", \"garlic\", \"carrot\", \"soy_sauce\", \"tomato_sauce\"],\n",
    "                    help=\"You need to choose only one ingredient from the list.\")\n",
    "parser.add_argument(\"-i4\", \"--ingredient_4\", choices=[\"pasta\", \"rice\", \"potato\",\n",
    "                    \"onion\", \"garlic\", \"carrot\", \"soy_sauce\", \"tomato_sauce\"],\n",
    "                    help=\"You need to choose only one ingredient from the list.\")\n",
    "parser.add_argument(\"-i5\", \"--ingredient_5\", choices=[\"pasta\", \"rice\", \"potato\",\n",
    "                    \"onion\", \"garlic\", \"carrot\", \"soy_sauce\", \"tomato_sauce\"],\n",
    "                    help=\"You need to choose only one ingredient from the list.\")\n",
    "\n",
    "parser.add_argument(\"--salt\", action=\"store_true\",\n",
    "                    help=\"Specify if you'd like to use salt in your recipe.\")\n",
    "parser.add_argument(\"--pepper\", default=\"False\",\n",
    "                    help=\"Change to 'True' if you'd like to use pepper in your recipe.\")\n",
    "\n",
    "args = parser.parse_args()\n",
    "\n",
    "ingredients = [args.ingredient_1, args.ingredient_2, args.ingredient_3,\n",
    "               args.ingredient_4, args.ingredient_5]\n",
    "if args.salt:\n",
    "    ingredients.append(\"salt\")\n",
    "if args.pepper == \"True\":\n",
    "    ingredients.append(\"pepper\")\n",
    "\n",
    "print(f\"The ingredients you provided are: {ingredients}\")\n",
    "\n",
    "\n",
    "def find_a_recipe(ingredients):\n",
    "    ...\n",
    "    # processes the input and returns a recipe depending on the provided ingredients\n",
    "\n",
    "\n",
    "# save this to a playbook to run via the command line as shown below"
   ]
  },
  {
   "attachments": {},
   "cell_type": "markdown",
   "metadata": {},
   "source": [
    "How do you actually use that in the command line? \n"
   ]
  },
  {
   "cell_type": "code",
   "execution_count": null,
   "metadata": {},
   "outputs": [],
   "source": [
    "python recipe_book.py -i1 rice -i2 onion -i3 garlic -i4 carrot -i5 tomato_sauce --salt\n",
    "# The ingredients you provided are: ['rice', 'onion', 'garlic', 'carrot', 'tomato_sauce', 'salt']\n",
    "# <The description of the available recipe>"
   ]
  },
  {
   "cell_type": "code",
   "execution_count": null,
   "metadata": {},
   "outputs": [],
   "source": [
    "'Whats important to note here is that the format argument value and argument=value are equivalent:'\n",
    "\n",
    "python recipe_book.py -i1=pasta -i2=garlic -i3=tomato_sauce --salt --pepper=\"True\"\n",
    "\n",
    "# The ingredients you provided are: ['pasta', 'garlic', 'tomato_sauce', None, None, 'salt', 'pepper']\n",
    "# <The description of the available recipe>"
   ]
  },
  {
   "cell_type": "code",
   "execution_count": null,
   "metadata": {},
   "outputs": [],
   "source": []
  },
  {
   "cell_type": "code",
   "execution_count": null,
   "metadata": {},
   "outputs": [],
   "source": []
  },
  {
   "cell_type": "code",
   "execution_count": null,
   "metadata": {},
   "outputs": [],
   "source": []
  },
  {
   "cell_type": "code",
   "execution_count": null,
   "metadata": {},
   "outputs": [],
   "source": []
  }
 ],
 "metadata": {
  "kernelspec": {
   "display_name": "Python 3",
   "language": "python",
   "name": "python3"
  },
  "language_info": {
   "codemirror_mode": {
    "name": "ipython",
    "version": 3
   },
   "file_extension": ".py",
   "mimetype": "text/x-python",
   "name": "python",
   "nbconvert_exporter": "python",
   "pygments_lexer": "ipython3",
   "version": "3.11.3"
  },
  "orig_nbformat": 4
 },
 "nbformat": 4,
 "nbformat_minor": 2
}
