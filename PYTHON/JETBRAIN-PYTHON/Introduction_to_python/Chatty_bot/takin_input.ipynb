{
 "cells": [
  {
   "attachments": {},
   "cell_type": "markdown",
   "metadata": {},
   "source": [
    "# Taking input\n",
    "\n",
    "Sometimes programs need to interact with users, either to receive some data or to deliver some sort of result. And that's when the input() function steals the show.\n",
    "\n",
    "## Reading input from a user\n",
    "The input data we want to get is nothing but some value entered by the user. The input() function reads this value and returns it in a program as a string. For example, the following program reads the user name and prints a greeting"
   ]
  },
  {
   "cell_type": "code",
   "execution_count": null,
   "metadata": {},
   "outputs": [],
   "source": [
    "user_name = input()\n",
    "print('Hello, ' + user_name)"
   ]
  },
  {
   "attachments": {},
   "cell_type": "markdown",
   "metadata": {},
   "source": [
    "In the first line, the program will wait for the user to enter something as input. We'll assign this input to a variable to save it for later. In the second line, the program appends the entered name to the end of the 'Hello, ' string and prints the whole phrase as a result.\n",
    "\n",
    "If a user enters Sauron, this program prints:\n",
    "\n",
    "Hello, Sauron\n",
    "So, your program prints a result that depends on the user's input (name)."
   ]
  },
  {
   "attachments": {},
   "cell_type": "markdown",
   "metadata": {},
   "source": [
    "## Clear messages\n",
    "\n",
    "It is highly recommended to state clearly what type of input we expect from our users. To do so, the input() function may take an optional argument, that is, a message:\n",
    "\n"
   ]
  },
  {
   "cell_type": "code",
   "execution_count": null,
   "metadata": {},
   "outputs": [],
   "source": [
    "user_name = input('Please, enter your name: ')\n",
    "print('Hello, ' + user_name)\n",
    "\n",
    "#another way to do it:\n",
    "print('Enter your name: ')\n",
    "user_name = input()\n",
    "print('Hello, ' + user_name)"
   ]
  },
  {
   "attachments": {},
   "cell_type": "markdown",
   "metadata": {},
   "source": [
    "## Important details\n",
    "If you want a number to be a number, you should write it explicitly:\n",
    "\n"
   ]
  },
  {
   "cell_type": "code",
   "execution_count": null,
   "metadata": {},
   "outputs": [],
   "source": [
    "print(\"What's your favorite number?\")\n",
    "value = int(input())  # now value keeps an integer number"
   ]
  },
  {
   "attachments": {},
   "cell_type": "markdown",
   "metadata": {},
   "source": [
    "However, be careful: in these circumstances, if a user enters a non-integer value, an Error will appear.\n",
    "\n",
    "To read several inputs, you should call the function more than once:\n",
    "\n",
    "\n",
    "\n",
    "print('Cinnamon roll day is celebrated on', month, day)\n",
    "# Cinnamon roll day is celebrated on October 4"
   ]
  },
  {
   "cell_type": "code",
   "execution_count": null,
   "metadata": {},
   "outputs": [],
   "source": [
    "day = int(input())  # 4\n",
    "month = input()     # October\n",
    "\n",
    "#Brilliant! Why this date? It's simple:\n",
    "print('Cinnamon roll day is celebrated on', month, day)\n",
    "# Output = Cinnamon roll day is celebrated on October 4"
   ]
  }
 ],
 "metadata": {
  "language_info": {
   "name": "python"
  },
  "orig_nbformat": 4
 },
 "nbformat": 4,
 "nbformat_minor": 2
}
