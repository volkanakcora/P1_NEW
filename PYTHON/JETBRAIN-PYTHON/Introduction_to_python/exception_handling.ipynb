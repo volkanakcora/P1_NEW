{
 "cells": [
  {
   "attachments": {},
   "cell_type": "markdown",
   "metadata": {},
   "source": [
    "# Exception handling\n",
    "Something is wrong here, and the program crashes! To prevent this, use the try-except statements where you think it may lead to errors. The place where we divide is the result variable. Let's brace it with the try-except blocks:"
   ]
  },
  {
   "cell_type": "code",
   "execution_count": 2,
   "metadata": {},
   "outputs": [
    {
     "name": "stdout",
     "output_type": "stream",
     "text": [
      "We achieve it thanks to except ***You can not divide by zero!!\n",
      "It is done through finally ***Thanks for using our calculator! Come again!\n"
     ]
    }
   ],
   "source": [
    "number_one = int(input(\"Please, enter the first number: \"))\n",
    "number_two = int(input(\"Please, enter the second number: \"))\n",
    "try:\n",
    "    result = number_one / number_two\n",
    "except ZeroDivisionError:\n",
    "    print(\"We achieve it thanks to except ***You can not divide by zero!!\")\n",
    "else:\n",
    "    print(\"The result of your division is: \", result)\n",
    "finally:\n",
    "    print(\"It is done through finally ***Thanks for using our calculator! Come again!\")"
   ]
  },
  {
   "attachments": {},
   "cell_type": "markdown",
   "metadata": {},
   "source": [
    "# Exception handling keywords\n",
    "\n",
    "Here you can see not only try and except keywords but also else and finally. The entire exception handling block works as follows:\n",
    "\n",
    "First, Python executes the try block: everything between try and except;\n",
    "If there is no exception, the program executes the try block;\n",
    "If an exception occurs, the rest of the try block is skipped. After that, Python checks whether the exception type matches the specified exception after the except keyword. It executes the except block and continues with the program after the try-except block.\n",
    "If an exception doesn't match the specified exception, it is called an unhandled exception. The execution of your program stops with a traceback.\n",
    "The else block is executed only if there were no exceptions in the try block, as though it was a more familiar if-else statement. It's better to use else than adding code to the try block, as you can avoid accidentally catching another exception if you haven't initially planned to catch with the try block and be aware of it in time.\n",
    "There can also be the finally keyword. The finally clause is always executed before leaving the try-except block, whether an exception has occurred or not.\n"
   ]
  },
  {
   "cell_type": "code",
   "execution_count": null,
   "metadata": {},
   "outputs": [],
   "source": [
    "except ZeroDivisionError:\n",
    "    print(\"We achieve it thanks to except ***You can't divide by zero!!\")\n",
    "except ValueError:\n",
    "    print(\"You can only enter numbers consisting of digits, not text!!\")\n",
    "\n",
    "\n",
    "#The except clause also may specify multiple exceptions as a parenthesized tuple, for example:\n",
    "\n",
    "except (ValueError, TypeError):\n",
    "    print(\"You can only enter numbers consisting of digits, not text!!\")\n",
    "Due to the hierarchical structure, one exception can catch numerous exceptions:\n",
    "\n",
    "except ArithmeticError:\n",
    "    print(\"I will also catch FloatingPointError, OverflowError, and ZeroDivisionError\")\n",
    "\n",
    "\n",
    "\n"
   ]
  }
 ],
 "metadata": {
  "kernelspec": {
   "display_name": "Python 3",
   "language": "python",
   "name": "python3"
  },
  "language_info": {
   "codemirror_mode": {
    "name": "ipython",
    "version": 3
   },
   "file_extension": ".py",
   "mimetype": "text/x-python",
   "name": "python",
   "nbconvert_exporter": "python",
   "pygments_lexer": "ipython3",
   "version": "3.11.3"
  },
  "orig_nbformat": 4
 },
 "nbformat": 4,
 "nbformat_minor": 2
}
