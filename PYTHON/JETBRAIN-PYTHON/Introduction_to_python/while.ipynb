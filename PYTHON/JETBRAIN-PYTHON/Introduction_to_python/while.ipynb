{
 "cells": [
  {
   "cell_type": "code",
   "execution_count": 2,
   "metadata": {},
   "outputs": [
    {
     "name": "stdout",
     "output_type": "stream",
     "text": [
      "0\n",
      "1\n",
      "2\n",
      "3\n",
      "4\n",
      "Now, the number is equal to 5\n"
     ]
    }
   ],
   "source": [
    "#If we visualize the while loop, it’ll look like this:\n",
    "\n",
    "number = 0\n",
    "while number < 5:\n",
    "    print(number)\n",
    "    number += 1\n",
    "print('Now, the number is equal to 5')\n"
   ]
  },
  {
   "cell_type": "code",
   "execution_count": null,
   "metadata": {},
   "outputs": [],
   "source": [
    "#The infinite loop"
   ]
  },
  {
   "cell_type": "code",
   "execution_count": 3,
   "metadata": {},
   "outputs": [
    {
     "name": "stdout",
     "output_type": "stream",
     "text": [
      "0\n",
      "2\n",
      "4\n",
      "6\n",
      "8\n",
      "10\n"
     ]
    }
   ],
   "source": [
    "number = 0\n",
    "while number < 12:\n",
    "   print(number)\n",
    "   number += 2"
   ]
  },
  {
   "attachments": {},
   "cell_type": "markdown",
   "metadata": {},
   "source": [
    "Write a program that reads numbers until a user enters \n",
    "55\n",
    "55\n",
    ". Once \n",
    "55\n",
    "55\n",
    " is entered, stop reading the input and ignore the numbers entered afterward (numbers entered before \n",
    "55\n",
    "55\n",
    ", regardless of whether they are greater or less than \n",
    "55\n",
    "55\n",
    ", should be counted), print out how many numbers have been entered before \n",
    "55\n",
    "55\n",
    ", their total sum, and average (round the resulting average this way: round(average)). Do NOT include \n",
    "55\n",
    "55\n",
    " in your calculations. Print each resulting value on a new line in the following order:\n",
    "\n",
    "how many numbers were given until 55\n",
    "their sum\n",
    "their average: sum / the number of given numbers\n",
    "Tip: There are several ways to solve the problem, feel free to choose the one you like. However, the easiest one would be to use two variables – one to count incoming numbers (assign it to 0 and increase its value each time the incoming number is not 55) and one to sum them up on the fly (once again, start with 0 and add each incoming number not equal to 55 to it). This way, you won't need any additional tools."
   ]
  },
  {
   "cell_type": "code",
   "execution_count": 3,
   "metadata": {},
   "outputs": [
    {
     "name": "stdout",
     "output_type": "stream",
     "text": [
      "2\n",
      "15\n",
      "8\n",
      "3\n",
      "35\n",
      "12\n",
      "4\n",
      "65\n",
      "16\n"
     ]
    }
   ],
   "source": [
    "number = int(input())\n",
    "lst = []\n",
    "while number != 55:\n",
    "    lst.append(number)\n",
    "    number = int(input())\n",
    "    if number == 55:\n",
    "        break\n",
    "print(len(lst))\n",
    "print(sum(lst))\n",
    "average = round((sum(lst)) / len(lst))\n",
    "print(average)"
   ]
  },
  {
   "cell_type": "code",
   "execution_count": 1,
   "metadata": {},
   "outputs": [
    {
     "data": {
      "text/plain": [
       "list"
      ]
     },
     "execution_count": 1,
     "metadata": {},
     "output_type": "execute_result"
    }
   ],
   "source": [
    "list"
   ]
  }
 ],
 "metadata": {
  "kernelspec": {
   "display_name": "Python 3",
   "language": "python",
   "name": "python3"
  },
  "language_info": {
   "codemirror_mode": {
    "name": "ipython",
    "version": 3
   },
   "file_extension": ".py",
   "mimetype": "text/x-python",
   "name": "python",
   "nbconvert_exporter": "python",
   "pygments_lexer": "ipython3",
   "version": "3.11.3"
  },
  "orig_nbformat": 4
 },
 "nbformat": 4,
 "nbformat_minor": 2
}
