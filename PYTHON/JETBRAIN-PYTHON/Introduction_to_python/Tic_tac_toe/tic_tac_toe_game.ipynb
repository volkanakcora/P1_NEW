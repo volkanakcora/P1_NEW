{
 "cells": [
  {
   "attachments": {},
   "cell_type": "markdown",
   "metadata": {},
   "source": [
    "\n",
    "# Tic Tac Toe Game"
   ]
  },
  {
   "cell_type": "code",
   "execution_count": null,
   "metadata": {},
   "outputs": [],
   "source": [
    "def print_board(board):\n",
    "    print(\"---------\")\n",
    "    print(\"| \" + board[0][0] + \" \" + board[0][1] + \" \" + board[0][2] + \" |\")\n",
    "    print(\"| \" + board[1][0] + \" \" + board[1][1] + \" \" + board[1][2] + \" |\")\n",
    "    print(\"| \" + board[2][0] + \" \" + board[2][1] + \" \" + board[2][2] + \" |\")\n",
    "    print(\"---------\")\n",
    "\n",
    "def get_move(player):\n",
    "    while True:\n",
    "        move = input(\"Enter the coordinates for player \" + player + \" (row column): \")\n",
    "        coords = move.split()\n",
    "        if len(coords) != 2:\n",
    "            print(\"Invalid input, please enter two numbers separated by a space.\")\n",
    "            continue\n",
    "        row = coords[0]\n",
    "        col = coords[1]\n",
    "        if not row.isdigit() or not col.isdigit():\n",
    "            print(\"Invalid input, please enter two numbers separated by a space.\")\n",
    "            continue\n",
    "        row = int(row) - 1\n",
    "        col = int(col) - 1\n",
    "        if row < 0 or row > 2 or col < 0 or col > 2:\n",
    "            print(\"Coordinates out of range, please enter numbers between 1 and 3.\")\n",
    "            continue\n",
    "        if board[row][col] != \" \":\n",
    "            print(\"That cell is already occupied, please choose another.\")\n",
    "            continue\n",
    "        return row, col\n",
    "\n",
    "def check_win(board):\n",
    "    for i in range(3):\n",
    "        if board[i][0] == board[i][1] == board[i][2] and board[i][0] != \" \":\n",
    "            return board[i][0] + \" wins\"\n",
    "        elif board[0][i] == board[1][i] == board[2][i] and board[0][i] != \" \":\n",
    "            return board[0][i] + \" wins\"\n",
    "    if board[0][0] == board[1][1] == board[2][2] and board[0][0] != \" \":\n",
    "        return board[0][0] + \" wins\"\n",
    "    elif board[0][2] == board[1][1] == board[2][0] and board[0][2] != \" \":\n",
    "        return board[0][2] + \" wins\"\n",
    "    elif any(\" \" in row for row in board):\n",
    "        return \"continue\"\n",
    "    else:\n",
    "        return \"Draw\"\n",
    "\n",
    "board = [[\" \", \" \", \" \"], [\" \", \" \", \" \"], [\" \", \" \", \" \"]]\n",
    "current_player = \"X\"\n",
    "\n",
    "print_board(board)\n",
    "\n",
    "while True:\n",
    "    row, col = get_move(current_player)\n",
    "    board[row][col] = current_player\n",
    "    print_board(board)\n",
    "    result = check_win(board)\n",
    "    if result != \"continue\":\n",
    "        print(result)\n",
    "        break\n",
    "    current_player = \"O\" if current_player == \"X\" else \"X\"\n"
   ]
  }
 ],
 "metadata": {
  "language_info": {
   "name": "python"
  },
  "orig_nbformat": 4
 },
 "nbformat": 4,
 "nbformat_minor": 2
}
