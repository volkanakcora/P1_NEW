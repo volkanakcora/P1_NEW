{
 "cells": [
  {
   "attachments": {},
   "cell_type": "markdown",
   "metadata": {},
   "source": [
    "# SET\n",
    "When you need to get rid of duplicates in a sequence or intend to perform some mathematical operations, you may use a set object. A set is an unordered container of hashable objects. You will learn more about hashable objects later, for now, remember that only immutable data types can be elements of a set. Due to their form, sets do NOT record element position or order of insertion, so you cannot retrieve an element by its index."
   ]
  },
  {
   "attachments": {},
   "cell_type": "markdown",
   "metadata": {},
   "source": [
    "## Creating sets\n",
    "First things first, we create a set by listing its elements in curly braces. The only exception would be an empty set that can be formed with the help of the set() function:\n",
    "\n"
   ]
  },
  {
   "cell_type": "code",
   "execution_count": null,
   "metadata": {},
   "outputs": [],
   "source": [
    "empty_set = set()\n",
    "print(type(empty_set))   # <class 'set'>\n",
    "\n",
    "empty_dict = {}\n",
    "print(type(empty_dict))  # <class 'dict'>"
   ]
  },
  {
   "attachments": {},
   "cell_type": "markdown",
   "metadata": {},
   "source": [
    "If you pass a string or a list into set(), the function will return a set consisting of all the elements of this string/list:"
   ]
  },
  {
   "cell_type": "code",
   "execution_count": 3,
   "metadata": {},
   "outputs": [
    {
     "name": "stdout",
     "output_type": "stream",
     "text": [
      "{'rose', 'lilac', 'daisy'}\n",
      "{'l', 'i', 'm', 'h', 'n', 'c', 'a', 'o', 'r', 'p'}\n"
     ]
    }
   ],
   "source": [
    "flowers = {'rose', 'lilac', 'daisy'}\n",
    "\n",
    "# the order is not preserved\n",
    "print(flowers)  # {'daisy', 'lilac', 'rose'}  \n",
    "\n",
    "\n",
    "letters = set('philharmonic')\n",
    "print(letters)  # {'h', 'r', 'i', 'c', 'o', 'l', 'a', 'p', 'm', 'n'}"
   ]
  },
  {
   "attachments": {},
   "cell_type": "markdown",
   "metadata": {},
   "source": [
    "Each element is considered a part of a set only once, so double letters are counted as one element:"
   ]
  },
  {
   "cell_type": "code",
   "execution_count": null,
   "metadata": {},
   "outputs": [],
   "source": [
    "letters = set('Hello')\n",
    "print(len(letters))  # the length equals 4\n",
    "print(letters)       # {'H', 'e', 'o', 'l'}"
   ]
  },
  {
   "attachments": {},
   "cell_type": "markdown",
   "metadata": {},
   "source": [
    "Moreover, using sets can help you avoid repetitions:\n",
    "\n"
   ]
  },
  {
   "cell_type": "code",
   "execution_count": null,
   "metadata": {},
   "outputs": [],
   "source": [
    "states = ['Russia', 'USA', 'USA', 'Germany', 'Italy']\n",
    "print(set(states))  # {'Russia', 'USA', 'Italy', 'Germany'}"
   ]
  },
  {
   "attachments": {},
   "cell_type": "markdown",
   "metadata": {},
   "source": [
    "Have a look: as the order of naming the elements doesn't play any role, the following two sets will be equal."
   ]
  },
  {
   "cell_type": "code",
   "execution_count": null,
   "metadata": {},
   "outputs": [],
   "source": [
    "set1 = {'A', 'B', 'C'}\n",
    "set2 = {'B', 'C', 'A'}\n",
    "print(set1 == set2)  # True"
   ]
  },
  {
   "attachments": {},
   "cell_type": "markdown",
   "metadata": {},
   "source": [
    "## Working with a set’s elements\n",
    "You can:\n",
    "\n",
    "- get the number of a set's elements with the help of len() function.\n",
    "- go through all the elements using for loop.\n",
    "- check whether an element belongs to a specific set or not (in / not in operators), you get the boolean value.\n"
   ]
  },
  {
   "cell_type": "code",
   "execution_count": null,
   "metadata": {},
   "outputs": [],
   "source": [
    "nums = {1, 2, 2, 3}\n",
    "print(1 in nums, 4 not in nums)  # True True"
   ]
  },
  {
   "attachments": {},
   "cell_type": "markdown",
   "metadata": {},
   "source": [
    "add a new element to the set with add() method or update() it with another collection\n"
   ]
  },
  {
   "cell_type": "code",
   "execution_count": null,
   "metadata": {},
   "outputs": [],
   "source": [
    "nums = {1, 2, 2, 3}\n",
    "nums.add(5)\n",
    "print(nums)  # {1, 2, 3, 5}\n",
    "\n",
    "more_nums = {6, 7}\n",
    "nums.update(more_nums)\n",
    "print(nums)  # {1, 2, 3, 5, 6, 7}\n",
    " \n",
    "# we can also add a list\n",
    "text = ['how', 'are', 'you']\n",
    "nums.update(text)\n",
    "print(nums)  # {'you', 1, 2, 3, 5, 6, 7, 'are', 'how'}\n",
    " \n",
    "# or a string\n",
    "word = 'hello'\n",
    "nums.add(word)\n",
    "print(nums)  # {1, 2, 3, 'how', 5, 6, 7, 'hello', 'you', 'are'}\n"
   ]
  },
  {
   "attachments": {},
   "cell_type": "markdown",
   "metadata": {},
   "source": [
    "delete an element from a specific set using discard/remove methods. The only difference between them operating is a situation when the element to be removed is absent from this set. In this case, discard does nothing and remove generates a KeyError exception.\n"
   ]
  },
  {
   "cell_type": "code",
   "execution_count": null,
   "metadata": {},
   "outputs": [],
   "source": [
    "nums.remove(2)\n",
    "print(nums)  # {1, 3, 5}\n",
    "\n",
    "empty_set = set()\n",
    "empty_set.discard(2)  # nothing happened\n",
    "empty_set.remove(2)   # KeyError: 2"
   ]
  },
  {
   "attachments": {},
   "cell_type": "markdown",
   "metadata": {},
   "source": [
    "remove one random element using pop() method. As it's going to be random, you don't need to choose an argument."
   ]
  },
  {
   "cell_type": "code",
   "execution_count": null,
   "metadata": {},
   "outputs": [],
   "source": [
    "nums = {1, 2, 2, 3}\n",
    "nums.pop()\n",
    "print(nums)  # {2, 3}"
   ]
  },
  {
   "attachments": {},
   "cell_type": "markdown",
   "metadata": {},
   "source": [
    "delete all elements from the set with clear() method.\n",
    "\n"
   ]
  },
  {
   "attachments": {},
   "cell_type": "markdown",
   "metadata": {},
   "source": [
    "## When to use sets?\n",
    "\n",
    "One important feature of sets (and all unordered collections in general) is that they allow you to run membership tests much faster than lists. In real life, if you have a list and you try to check by hand whether a particular item is present there, the only way to do this is to look through the entire list until you find this item. Python does the same thing: it looks for the needed item starting from the beginning of a list, because it has no idea where it may be placed. If the item is located at the end or there is no such item at all, Python will iterate over the majority of items in the list by the time it discovers this fact. So, in case your program is looking for items in a large list many times, it will be slow.\n",
    "\n",
    "And that's where sets come to help us! In sets membership testing works almost instantly, since they use a different way of storing and arranging values. So, depending on the situation, you need to decide what is more important to you: preserving the order of items in your collection or testing for membership in a faster way. In the first case, it's reasonable to store your items in the list, in the second it's better to use set."
   ]
  },
  {
   "attachments": {},
   "cell_type": "markdown",
   "metadata": {},
   "source": [
    "## Frozenset\n",
    "The only difference between set and frozenset is that set is a mutable data type, but frozenset is not. To create a frozenset, we use the frozenset() function."
   ]
  },
  {
   "cell_type": "code",
   "execution_count": null,
   "metadata": {},
   "outputs": [],
   "source": [
    "empty_frozenset = frozenset()\n",
    "print(empty_frozenset)  # frozenset()"
   ]
  },
  {
   "attachments": {},
   "cell_type": "markdown",
   "metadata": {},
   "source": [
    "We can also create a frozenset from a list, string or set:\n",
    "\n"
   ]
  },
  {
   "cell_type": "code",
   "execution_count": 4,
   "metadata": {},
   "outputs": [
    {
     "name": "stdout",
     "output_type": "stream",
     "text": [
      "frozenset({1, 2, 3})\n",
      "frozenset({'you', 'are', 'how'})\n"
     ]
    }
   ],
   "source": [
    "frozenset_from_set = frozenset({1, 2, 3})\n",
    "print(frozenset_from_set)  # frozenset({1, 2, 3})\n",
    "\n",
    "frozenset_from_list = frozenset(['how', 'are', 'you'])\n",
    "print(frozenset_from_list)  # frozenset({'you', 'are', 'how'})\n"
   ]
  },
  {
   "attachments": {},
   "cell_type": "markdown",
   "metadata": {},
   "source": [
    "As mentioned above, a frozenset is immutable. This means that while the elements of a set can change, in a frozenset they remain unchanged after creation. You can not add or remove items.\n",
    "\n"
   ]
  },
  {
   "cell_type": "code",
   "execution_count": null,
   "metadata": {},
   "outputs": [],
   "source": [
    "empty_frozenset.add('some_text')  # AttributeError: 'frozenset' object has no attribute 'add'\n"
   ]
  },
  {
   "attachments": {},
   "cell_type": "markdown",
   "metadata": {},
   "source": [
    "So why do we need frozenset exactly? Since a set is mutable, we can't make it an element of another set."
   ]
  },
  {
   "cell_type": "code",
   "execution_count": null,
   "metadata": {},
   "outputs": [],
   "source": [
    "text = {'hello', 'world'}\n",
    "nested_text = {'!'}\n",
    "nested_text.add(text)  # TypeError: unhashable type: 'set'"
   ]
  },
  {
   "attachments": {},
   "cell_type": "markdown",
   "metadata": {},
   "source": [
    "But with a frozenset, such problems will not appear. It can be an element of another set or an element of another frozenset due to its hashability and immutability."
   ]
  },
  {
   "cell_type": "code",
   "execution_count": null,
   "metadata": {},
   "outputs": [],
   "source": [
    "some_frozenset = frozenset(text)\n",
    "nested_text.add(some_frozenset)\n",
    "print(nested_text)  # {'!', frozenset({'world', 'hello'})}"
   ]
  }
 ],
 "metadata": {
  "kernelspec": {
   "display_name": "Python 3",
   "language": "python",
   "name": "python3"
  },
  "language_info": {
   "codemirror_mode": {
    "name": "ipython",
    "version": 3
   },
   "file_extension": ".py",
   "mimetype": "text/x-python",
   "name": "python",
   "nbconvert_exporter": "python",
   "pygments_lexer": "ipython3",
   "version": "3.11.3"
  },
  "orig_nbformat": 4
 },
 "nbformat": 4,
 "nbformat_minor": 2
}
