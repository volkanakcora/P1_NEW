{
 "cells": [
  {
   "attachments": {},
   "cell_type": "markdown",
   "metadata": {},
   "source": [
    "# Tuple\n",
    "Define a tuple\n",
    "\n",
    "Since tuples cannot be changed, tuple creation is similar to opening a box of a fixed size, then putting several values into this box and sealing it. Once the box has been sealed, you cannot modify its size or content.\n",
    "\n",
    "Use a pair of parentheses to define a tuple:\n",
    "\n"
   ]
  },
  {
   "cell_type": "code",
   "execution_count": null,
   "metadata": {},
   "outputs": [],
   "source": [
    "empty_tuple = ()\n",
    "print(type(empty_tuple))  # <class 'tuple'>\n"
   ]
  },
  {
   "attachments": {},
   "cell_type": "markdown",
   "metadata": {},
   "source": [
    "Empty tuples are easy to create. Then what went wrong in the following example?\n",
    "\n"
   ]
  },
  {
   "cell_type": "code",
   "execution_count": null,
   "metadata": {},
   "outputs": [],
   "source": [
    "not_a_tuple = ('cat')\n",
    "print(not_a_tuple)        # 'cat'\n",
    "print(type(not_a_tuple))  # <class 'str'>"
   ]
  },
  {
   "attachments": {},
   "cell_type": "markdown",
   "metadata": {},
   "source": [
    "As you can see, the variable we created stores a string. It's actually a comma that makes a tuple, not parentheses. Let's fix this piece of code:"
   ]
  },
  {
   "cell_type": "code",
   "execution_count": null,
   "metadata": {},
   "outputs": [],
   "source": [
    "now_a_tuple = ('cat',)\n",
    "print(now_a_tuple)        # ('cat',)\n",
    "print(type(now_a_tuple))  # <class 'tuple'>"
   ]
  },
  {
   "attachments": {},
   "cell_type": "markdown",
   "metadata": {},
   "source": [
    "So, always use a comma when defining a singleton tuple. In fact, even if your tuple contains more than one element, separating items with commas will be enough:\n",
    "\n"
   ]
  },
  {
   "cell_type": "code",
   "execution_count": 1,
   "metadata": {},
   "outputs": [
    {
     "name": "stdout",
     "output_type": "stream",
     "text": [
      "('Saturday', 'Sunday')\n",
      "<class 'tuple'>\n"
     ]
    }
   ],
   "source": [
    "weekend = 'Saturday', 'Sunday'\n",
    "print(weekend)        # ('Saturday', 'Sunday')\n",
    "print(type(weekend))  # <class 'tuple'>"
   ]
  },
  {
   "attachments": {},
   "cell_type": "markdown",
   "metadata": {},
   "source": [
    "The built-in function tuple() turns strings, lists and other iterables into a tuple. With this function, you can create an empty tuple as well."
   ]
  },
  {
   "cell_type": "code",
   "execution_count": null,
   "metadata": {},
   "outputs": [],
   "source": [
    "# another empty tuple\n",
    "empty_tuple = tuple()\n",
    "print(empty_tuple)        # ()\n",
    "print(type(empty_tuple))  # <class 'tuple'>\n",
    "\n",
    "# a list turned into a tuple\n",
    "bakers_dozen = tuple([12, 1])\n",
    "print(bakers_dozen == (12, 1))  # True\n",
    "\n",
    "# a tuple from a string\n",
    "sound = tuple('meow')\n",
    "print(sound)  # ('m', 'e', 'o', 'w')"
   ]
  },
  {
   "attachments": {},
   "cell_type": "markdown",
   "metadata": {},
   "source": [
    "## What can we do with tuples?\n",
    "First, let's examine what characteristics lists and tuples have in common.\n",
    "\n",
    "Both lists and tuples are ordered, that is, when passing elements to these containers, you can expect that their order will remain the same. Tuples are also indifferent to the nature of data stored in them, so you can duplicate values or mix different data types:\n",
    "\n"
   ]
  },
  {
   "cell_type": "code",
   "execution_count": null,
   "metadata": {},
   "outputs": [],
   "source": [
    "tiny_tuple = (0, 1, 0, 'panda', 'sloth')\n",
    "\n",
    "print(len(tiny_tuple))  # 5\n",
    "print(tiny_tuple)       # (0, 1, 0, 'panda', 'sloth')\n"
   ]
  },
  {
   "attachments": {},
   "cell_type": "markdown",
   "metadata": {},
   "source": [
    "Just like lists, tuples support indexing. Be careful with indexes though, if you want to get along without IndexErrors."
   ]
  },
  {
   "cell_type": "code",
   "execution_count": null,
   "metadata": {},
   "outputs": [],
   "source": [
    "empty_tuple = ()\n",
    "print(empty_tuple[0])  # IndexError\n",
    "\n",
    "numbers = (0, 1, 2)\n",
    "print(numbers[0])   # 0\n",
    "print(numbers[1])   # 1\n",
    "print(numbers[2])   # 2\n",
    "print(numbers[3])   # IndexError"
   ]
  },
  {
   "attachments": {},
   "cell_type": "markdown",
   "metadata": {},
   "source": [
    "And here the first distinctive feature of tuples comes into play. What they don't support is item assignment. While you can change an element in a list referring to this element by its index, it's not the case for tuples:"
   ]
  },
  {
   "cell_type": "code",
   "execution_count": null,
   "metadata": {},
   "outputs": [],
   "source": [
    "# ex-capitals\n",
    "capitals = ['Philadelphia', 'Rio de Janeiro', 'Saint Petersburg']\n",
    "\n",
    "capitals[0] = 'Washington, D.C.'\n",
    "capitals[1] = 'Brasília'\n",
    "capitals[2] = 'Moscow'\n",
    "print(capitals)  # ['Washington, D.C.', 'Brasília', 'Moscow']\n",
    "\n",
    "former_capitals = tuple(capitals)\n",
    "former_capitals[0] = 'Washington, D.C.'  # TypeError"
   ]
  },
  {
   "attachments": {},
   "cell_type": "markdown",
   "metadata": {},
   "source": [
    "# Immutability and its advantages\n",
    "\n",
    "By this time, one question might have come to your mind: why use tuples when we have lists? Predictably, all answers conduce to immutability. Let's dwell on its upsides:\n",
    "\n",
    "- Tuples are faster and more memory-efficient than lists. Whenever you need to work with large amounts of data, you should give it a thought. If you are not going to modify your data, perhaps you should decide on tuples.\n",
    "- A tuple can be used as a dictionary key, whereas lists as keys will result in TypeError.\n",
    "- Last but not least, it's impossible to change by accident the data stored in a tuple. It may prove a safe and robust solution to some task"
   ]
  },
  {
   "cell_type": "code",
   "execution_count": 12,
   "metadata": {},
   "outputs": [
    {
     "name": "stdout",
     "output_type": "stream",
     "text": [
      "<class 'tuple'>\n",
      "<class 'tuple'>\n",
      "<class 'str'>\n",
      "<class 'list'>\n",
      "<class 'tuple'>\n",
      "<class 'tuple'>\n"
     ]
    }
   ],
   "source": [
    "a = tuple('a')\n",
    "b = (['a'],)\n",
    "c = ('a')\n",
    "d = (['a'])\n",
    "e = tuple('a',)\n",
    "f = ('a',)\n",
    "print(type(a))\n",
    "print(type(b))\n",
    "print(type(c))\n",
    "print(type(d))\n",
    "print(type(e))\n",
    "\n",
    "print(type(f))"
   ]
  }
 ],
 "metadata": {
  "kernelspec": {
   "display_name": "Python 3",
   "language": "python",
   "name": "python3"
  },
  "language_info": {
   "codemirror_mode": {
    "name": "ipython",
    "version": 3
   },
   "file_extension": ".py",
   "mimetype": "text/x-python",
   "name": "python",
   "nbconvert_exporter": "python",
   "pygments_lexer": "ipython3",
   "version": "3.11.3"
  },
  "orig_nbformat": 4
 },
 "nbformat": 4,
 "nbformat_minor": 2
}
