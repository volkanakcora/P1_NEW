{
 "cells": [
  {
   "attachments": {},
   "cell_type": "markdown",
   "metadata": {},
   "source": [
    "# Random module\n",
    "\n",
    "Sometimes it happens that we lack data and need to make up a bunch of new examples rather quickly. Of course, you can spend some time writing those examples yourself, but it's not so efficient, right? It would make more sense to shift the responsibility to your computer, namely, the Python's built-in module random. In this module, a random search is used to generate elements and is performed using an algorithm whose starting point is a seed. The seed allows us to save the current state, making it easy to reproduce the same numbers on several code executions. Therefore, the results given aren't random at all and, technically, this module should have been called pseudo-random. Nevertheless, it may be useful for a large number of applications, such as modeling and simulation."
   ]
  },
  {
   "attachments": {},
   "cell_type": "markdown",
   "metadata": {},
   "source": [
    "### Random method: first steps\n",
    "First of all, we need to import the module:\n",
    "\n",
    "After we've managed to do the previous task, it's possible to try the random.random() function that will provide us with a pseudo-random number from 0 to 1:\n",
    "\n"
   ]
  },
  {
   "cell_type": "code",
   "execution_count": 3,
   "metadata": {},
   "outputs": [
    {
     "data": {
      "text/plain": [
       "0.5251293969553904"
      ]
     },
     "execution_count": 3,
     "metadata": {},
     "output_type": "execute_result"
    }
   ],
   "source": [
    "import random \n",
    "random.random()\n"
   ]
  },
  {
   "attachments": {},
   "cell_type": "markdown",
   "metadata": {},
   "source": [
    "We can also control the pseudo-random behavior by specifying the seed manually, i.e. configure the new sequence of pseudo-random numbers using the random.seed(x) function. You can set your own number or omit the optional argument x and consequently current system time would be used by default."
   ]
  },
  {
   "cell_type": "code",
   "execution_count": 20,
   "metadata": {},
   "outputs": [
    {
     "name": "stdout",
     "output_type": "stream",
     "text": [
      "0.376962302390386\n"
     ]
    }
   ],
   "source": [
    "random.seed(25)\n",
    "print(random.random())  # 0.956177930864557"
   ]
  },
  {
   "attachments": {},
   "cell_type": "markdown",
   "metadata": {},
   "source": [
    "Now try to set the x argument. Haven't you noticed the change of the result? If you choose 5, you'll get 0.6229016948897019 as a result, if 20 – 0.9056396761745207, etc. Thus, the seed controls the behavior of pseudo-random in Python and can be used with any other function of the random module."
   ]
  },
  {
   "attachments": {},
   "cell_type": "markdown",
   "metadata": {},
   "source": [
    "### Random basic functions\n",
    "Moving forward, other useful functions are:\n",
    "\n",
    "random.uniform(a, b) – returns a pseudo-random float number in the range between a and b:\n"
   ]
  },
  {
   "cell_type": "code",
   "execution_count": 29,
   "metadata": {},
   "outputs": [
    {
     "name": "stdout",
     "output_type": "stream",
     "text": [
      "32.67239508613607\n"
     ]
    }
   ],
   "source": [
    "print(random.uniform(3, 100))  # 35.94079523197162\n",
    "\n"
   ]
  },
  {
   "attachments": {},
   "cell_type": "markdown",
   "metadata": {},
   "source": [
    "random.randint(a, b) – returns a pseudo-random integer number in the range between a and b. Note that the last element of the range is included too (in contrast to range())!\n"
   ]
  },
  {
   "cell_type": "code",
   "execution_count": 31,
   "metadata": {},
   "outputs": [
    {
     "name": "stdout",
     "output_type": "stream",
     "text": [
      "53\n",
      "7\n"
     ]
    }
   ],
   "source": [
    "print(random.randint(35, 53))  # 52\n",
    "print(random.randint(7, 9))    # 9\n"
   ]
  },
  {
   "attachments": {},
   "cell_type": "markdown",
   "metadata": {},
   "source": [
    "random.choice(seq)– returns a pseudo-random element from non-empty sequences:\n"
   ]
  },
  {
   "cell_type": "code",
   "execution_count": 37,
   "metadata": {},
   "outputs": [
    {
     "name": "stdout",
     "output_type": "stream",
     "text": [
      "m\n"
     ]
    }
   ],
   "source": [
    "print(random.choice('Voldemort'))  # m\n"
   ]
  },
  {
   "attachments": {},
   "cell_type": "markdown",
   "metadata": {},
   "source": [
    "random.randrange(a, b, c) – returns a pseudo-random number from a range between a and b with a step c. The latter argument allows you to generate random numbers by a given step. In the example below, given the step 5, the function can output any number from 3, 8, ... 98. What is more, just like with the range() function, the start and step arguments may be omitted with the default values 0 and 1 respectively. It means that the function can take one, two, or three parameters:\n"
   ]
  },
  {
   "cell_type": "code",
   "execution_count": 39,
   "metadata": {},
   "outputs": [
    {
     "name": "stdout",
     "output_type": "stream",
     "text": [
      "18\n",
      "98\n",
      "93\n",
      "3\n",
      "53\n"
     ]
    }
   ],
   "source": [
    "# Specifying the step argument\n",
    "print(random.randrange(3, 100, 5))  # 3\n",
    "print(random.randrange(3, 100, 5))  # 48\n",
    "print(random.randrange(3, 100, 5))  # 18\n",
    "\n",
    "# Omitting unnecessary arguments\n",
    "print(random.randrange(1, 5))       # 2\n",
    "print(random.randrange(100))        # 44\n"
   ]
  },
  {
   "attachments": {},
   "cell_type": "markdown",
   "metadata": {},
   "source": [
    "random.shuffle(seq) – shuffles a sequence. Attention: it doesn't work with immutable datatypes! Mind that after applying this function we print the list itself, not random.shuffle(tiny_list) since it will result in None."
   ]
  },
  {
   "cell_type": "code",
   "execution_count": 41,
   "metadata": {},
   "outputs": [
    {
     "name": "stdout",
     "output_type": "stream",
     "text": [
      "['cat', 'banana', 'b', 'a', 'apple', 'c']\n",
      "None\n"
     ]
    }
   ],
   "source": [
    "tiny_list = ['a', 'apple', 'b', 'banana', 'c', 'cat']\n",
    "random.shuffle(tiny_list)\n",
    "print(tiny_list)                  # ['apple', 'banana', 'a', 'cat', 'b', 'c']\n",
    "print(random.shuffle(tiny_list))  # None"
   ]
  },
  {
   "attachments": {},
   "cell_type": "markdown",
   "metadata": {},
   "source": [
    "random.sample(population, k)– returns a pseudo-random k length list from a population sequence. This function is used for random sampling without replacement:"
   ]
  },
  {
   "cell_type": "code",
   "execution_count": 61,
   "metadata": {},
   "outputs": [
    {
     "name": "stdout",
     "output_type": "stream",
     "text": [
      "[14, 96, 33, 53, 40]\n"
     ]
    }
   ],
   "source": [
    "print(random.sample(range(100), 5))  # [24, 33, 91]\n"
   ]
  }
 ],
 "metadata": {
  "kernelspec": {
   "display_name": "Python 3",
   "language": "python",
   "name": "python3"
  },
  "language_info": {
   "codemirror_mode": {
    "name": "ipython",
    "version": 3
   },
   "file_extension": ".py",
   "mimetype": "text/x-python",
   "name": "python",
   "nbconvert_exporter": "python",
   "pygments_lexer": "ipython3",
   "version": "3.11.3"
  },
  "orig_nbformat": 4
 },
 "nbformat": 4,
 "nbformat_minor": 2
}
