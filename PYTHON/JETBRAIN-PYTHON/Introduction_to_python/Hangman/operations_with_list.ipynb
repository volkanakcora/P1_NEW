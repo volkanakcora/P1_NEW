{
 "cells": [
  {
   "attachments": {},
   "cell_type": "markdown",
   "metadata": {},
   "source": [
    "# Operations with list\n",
    "\n",
    "Adding one element\n"
   ]
  },
  {
   "cell_type": "code",
   "execution_count": 1,
   "metadata": {},
   "outputs": [
    {
     "name": "stdout",
     "output_type": "stream",
     "text": [
      "['Rudror', 'Targiss', 'Coporth']\n"
     ]
    }
   ],
   "source": [
    "dragons = []  # we do not have dragons yet\n",
    "\n",
    "dragons.append('Rudror')\n",
    "dragons.append('Targiss')\n",
    "dragons.append('Coporth')\n",
    "\n",
    "print(dragons)  # ['Rudror', 'Targiss', 'Coporth']\n"
   ]
  },
  {
   "attachments": {},
   "cell_type": "markdown",
   "metadata": {},
   "source": [
    "## Adding several elements\n",
    "There is the list.extend(another_list) operation that adds all the elements from another iterable to the end of a list."
   ]
  },
  {
   "cell_type": "code",
   "execution_count": null,
   "metadata": {},
   "outputs": [],
   "source": [
    "numbers = [1, 2, 3, 4, 5]\n",
    "numbers.extend([10, 20, 30])\n",
    "print(numbers)  # [1, 2, 3, 4, 5, 10, 20, 30]"
   ]
  },
  {
   "attachments": {},
   "cell_type": "markdown",
   "metadata": {},
   "source": [
    "Be careful — if you use list.append(another_list) instead of list.extend(another_list), it adds the entire list as an element:"
   ]
  },
  {
   "cell_type": "code",
   "execution_count": null,
   "metadata": {},
   "outputs": [],
   "source": [
    "numbers = [1, 2, 3, 4, 5]\n",
    "numbers.append([10, 20, 30])\n",
    "print(numbers)  # [1, 2, 3, 4, 5, [10, 20, 30]]"
   ]
  },
  {
   "attachments": {},
   "cell_type": "markdown",
   "metadata": {},
   "source": [
    "Alternatively, to merge two lists, you can just add one to another:\n",
    "\n"
   ]
  },
  {
   "cell_type": "code",
   "execution_count": null,
   "metadata": {},
   "outputs": [],
   "source": [
    "numbers_to_four = [0, 1, 2, 3, 4]\n",
    "numbers_from_five = [5, 6, 7, 8, 9]\n",
    "numbers_from_ten = [10, 11, 12, 13, 14]\n",
    "\n",
    "numbers = numbers_to_four + numbers_from_five \n",
    "print(numbers)  # [0, 1, 2, 3, 4, 5, 6, 7, 8, 9]\n",
    "\n",
    "numbers += numbers_from_ten\n",
    "print(numbers)  # [0, 1, 2, 3, 4, 5, 6, 7, 8, 9, 10, 11, 12, 13, 14]\n"
   ]
  },
  {
   "attachments": {},
   "cell_type": "markdown",
   "metadata": {},
   "source": [
    "If you need a list with repeating elements, you can create a list with the repeating pattern, and then just multiply it by any number. This is particularly useful when you want to create a list of a specific length with the same value:"
   ]
  },
  {
   "cell_type": "code",
   "execution_count": null,
   "metadata": {},
   "outputs": [],
   "source": [
    "pattern = ['a', 'b', 'c']\n",
    "patterns = pattern * 3\n",
    "print(patterns)  # ['a', 'b', 'c', 'a', 'b', 'c', 'a', 'b', 'c']\n",
    "\n",
    "one = [1]\n",
    "ones = one * 7\n",
    "print(ones)  # [1, 1, 1, 1, 1, 1, 1]"
   ]
  },
  {
   "attachments": {},
   "cell_type": "markdown",
   "metadata": {},
   "source": [
    "## Removing elements\n",
    "The opposite of adding elements — deleting them — can be done in three ways. Let's have a look at them.\n",
    "\n",
    "First, we can use the list.remove(element) operation.\n",
    "\n"
   ]
  },
  {
   "cell_type": "code",
   "execution_count": null,
   "metadata": {},
   "outputs": [],
   "source": [
    "dragons.remove('Targiss')\n",
    "print(dragons)  # ['Rudror', 'Coporth']\n"
   ]
  },
  {
   "attachments": {},
   "cell_type": "markdown",
   "metadata": {},
   "source": [
    "If the element we want to delete occurs several times in the list, only the first instance of that element is removed:\n",
    "\n"
   ]
  },
  {
   "cell_type": "code",
   "execution_count": null,
   "metadata": {},
   "outputs": [],
   "source": [
    "dragons = ['Rudror', 'Targiss', 'Coporth', 'Targiss']\n",
    "dragons.remove('Targiss')\n",
    "print(dragons)  # ['Rudror', 'Coporth', 'Targiss']\n"
   ]
  },
  {
   "attachments": {},
   "cell_type": "markdown",
   "metadata": {},
   "source": [
    "The other two ways remove elements by their indexes rather than the values themselves. The del keyword deletes any kind of objects in Python, so it can be used to remove specific elements in a list:\n",
    "\n"
   ]
  },
  {
   "cell_type": "code",
   "execution_count": null,
   "metadata": {},
   "outputs": [],
   "source": [
    "dragons = ['Rudror', 'Targiss', 'Coporth']\n",
    "del dragons[1]\n",
    "print(dragons)  # ['Rudror', 'Coporth']"
   ]
  },
  {
   "attachments": {},
   "cell_type": "markdown",
   "metadata": {},
   "source": [
    "Finally, there is the list.pop() method. If used without arguments, it removes and returns the last element in the list."
   ]
  },
  {
   "cell_type": "code",
   "execution_count": null,
   "metadata": {},
   "outputs": [],
   "source": [
    "dragons = ['Rudror', 'Targiss', 'Coporth']\n",
    "last_dragon = dragons.pop()\n",
    "print(last_dragon)  # 'Coporth'\n",
    "print(dragons)      # ['Rudror', 'Targiss']"
   ]
  },
  {
   "attachments": {},
   "cell_type": "markdown",
   "metadata": {},
   "source": [
    "Alternatively, we can specify the index of the element we want to remove and return:\n",
    "\n"
   ]
  },
  {
   "cell_type": "code",
   "execution_count": null,
   "metadata": {},
   "outputs": [],
   "source": [
    "dragons = ['Rudror', 'Targiss', 'Coporth']\n",
    "first_dragon = dragons.pop(0)\n",
    "print(first_dragon)  # 'Rudror'\n",
    "print(dragons)       # ['Targiss', 'Coporth']\n"
   ]
  },
  {
   "attachments": {},
   "cell_type": "markdown",
   "metadata": {},
   "source": [
    "## Inserting elements at a specified position\n",
    "\n",
    "At the beginning of this topic, we have learned how to add new elements to the end of a list. If we want to add a new element in the middle, we use the list.insert(position, element) operation. The first argument is the index of the element before which the new element is going to be inserted; so list.insert(0, element) inserts an element to the beginning of the list, and list.insert(len(list), element) is completely similar to list.append(element).\n",
    "\n"
   ]
  },
  {
   "cell_type": "code",
   "execution_count": null,
   "metadata": {},
   "outputs": [],
   "source": [
    "years = [2016, 2018, 2019]\n",
    "years.insert(1, 2017)           # [2016, 2017, 2018, 2019]\n",
    "years.insert(0, 2015)           # [2015, 2016, 2017, 2018, 2019]\n",
    "years.insert(len(years), 2020)  # [2015, 2016, 2017, 2018, 2019, 2020]"
   ]
  },
  {
   "attachments": {},
   "cell_type": "markdown",
   "metadata": {},
   "source": [
    "## Membership testing in a list\n",
    "Another thing that can be quite useful is checking if an item is present in the list. It can be done simply by using in and not in operators:\n",
    "\n"
   ]
  },
  {
   "cell_type": "code",
   "execution_count": null,
   "metadata": {},
   "outputs": [],
   "source": [
    "catalog = ['yogurt', 'apples', 'oranges', 'bananas', 'milk', 'cheese']\n",
    " \n",
    "print('bananas' in catalog)      # True\n",
    " \n",
    "product = 'lemon'\n",
    "print(product in catalog)        # False\n",
    "print(product not in catalog)    # True\n"
   ]
  },
  {
   "attachments": {},
   "cell_type": "markdown",
   "metadata": {},
   "source": [
    "## Searching specific elements\n",
    "Sometimes, knowing that the specified element is in the list is not enough; we may want to get more information about it — how many times the element occurs in the list and at which position.\n",
    "\n",
    "The method count() can help with the quantity:\n",
    "\n"
   ]
  },
  {
   "cell_type": "code",
   "execution_count": null,
   "metadata": {},
   "outputs": [],
   "source": [
    "grades = [10, 5, 7, 9, 5, 10, 9]\n",
    "print(grades.count(5))  # 2\n"
   ]
  },
  {
   "attachments": {},
   "cell_type": "markdown",
   "metadata": {},
   "source": [
    "## Searching specific elements\n",
    "We can use the method index() to get the position of the element. It finds the index of the first occurrence of the element in the list:"
   ]
  },
  {
   "cell_type": "code",
   "execution_count": null,
   "metadata": {},
   "outputs": [],
   "source": [
    "print(grades.index(7))   # 2\n",
    "print(grades.index(10))  # 0"
   ]
  },
  {
   "attachments": {},
   "cell_type": "markdown",
   "metadata": {},
   "source": [
    "We can also specify the interval for searching: list.index(element, start, end).\n",
    "\n"
   ]
  },
  {
   "cell_type": "code",
   "execution_count": null,
   "metadata": {},
   "outputs": [],
   "source": [
    "print(grades.index(9, 2, 5))  # 3\n",
    "\n",
    "# if we don't specify the end of the interval, it automatically equals the end of the list\n",
    "print(grades.index(10, 1))    # 5"
   ]
  },
  {
   "attachments": {},
   "cell_type": "markdown",
   "metadata": {},
   "source": [
    "# Practice"
   ]
  },
  {
   "cell_type": "code",
   "execution_count": 3,
   "metadata": {},
   "outputs": [
    {
     "name": "stdout",
     "output_type": "stream",
     "text": [
      "[2, 2, 4, 1, 3, 0, 7, 5]\n"
     ]
    }
   ],
   "source": [
    "numbers = [2, 2, 4, 1, 1, 3, 5]\n",
    "numbers.remove(1)\n",
    "numbers.extend([0])\n",
    "numbers.append(len(numbers))\n",
    "numbers.remove(5)\n",
    "numbers.append(5)\n",
    "print(numbers)"
   ]
  }
 ],
 "metadata": {
  "kernelspec": {
   "display_name": "Python 3",
   "language": "python",
   "name": "python3"
  },
  "language_info": {
   "codemirror_mode": {
    "name": "ipython",
    "version": 3
   },
   "file_extension": ".py",
   "mimetype": "text/x-python",
   "name": "python",
   "nbconvert_exporter": "python",
   "pygments_lexer": "ipython3",
   "version": "3.11.3"
  },
  "orig_nbformat": 4
 },
 "nbformat": 4,
 "nbformat_minor": 2
}
