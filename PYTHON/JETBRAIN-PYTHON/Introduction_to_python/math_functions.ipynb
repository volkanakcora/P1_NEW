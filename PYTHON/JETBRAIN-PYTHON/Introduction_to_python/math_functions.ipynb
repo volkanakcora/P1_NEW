{
 "cells": [
  {
   "attachments": {},
   "cell_type": "markdown",
   "metadata": {},
   "source": [
    "#  Advanced arithmetics\n",
    "\n"
   ]
  },
  {
   "attachments": {},
   "cell_type": "markdown",
   "metadata": {},
   "source": [
    "# abs(x) returns the absolute value of x (i.e. value without a regard to its sign);\n",
    "# round(x, ndigits) returns x rounded to ndigits number of decimal part digits;\n",
    "# pow(x, y) returns x raised to the power of y;\n",
    "# max(a, b, c, ...) returns the largest argument;\n",
    "# min(a, b, c, ...) returns the smallest argument.\n",
    "\n"
   ]
  },
  {
   "cell_type": "code",
   "execution_count": null,
   "metadata": {},
   "outputs": [],
   "source": [
    "\n",
    "abs_integer = abs(-10)  # 10\n",
    "abs_float = abs(-10.0)  # 10.0\n",
    "\n",
    "round_integer = round(10.0)      # 10, returns integer when ndigits is omitted\n",
    "round_float = round(10.2573, 2)  # 10.26\n",
    "\n",
    "pow_integer = pow(2, 10)  # 1024\n",
    "pow_float = pow(2.0, 10)  # 1024.0\n",
    "\n",
    "largest = max(1, 2, 3, 4, 5)   # 5\n",
    "smallest = min(1, 2, 3, 4, 5)  # 1"
   ]
  },
  {
   "attachments": {},
   "cell_type": "markdown",
   "metadata": {},
   "source": [
    "math.log(pow, x) returns z such that x raised to the power z equals pow. If the second argument x (called the base of the logarithm) is omitted, it is considered equal to a special number e (approximately 2.718):"
   ]
  },
  {
   "cell_type": "code",
   "execution_count": null,
   "metadata": {},
   "outputs": [],
   "source": [
    "natural_log = math.log(1024)  # 6.931471805599453 \n"
   ]
  },
  {
   "attachments": {},
   "cell_type": "markdown",
   "metadata": {},
   "source": [
    "Besides the round() function, we can use floor() and ceil() from the math module to obtain integer values from floats:\n",
    "\n"
   ]
  },
  {
   "cell_type": "markdown",
   "metadata": {},
   "source": [
    "math.floor(a) returns the nearest integer less than or equal to a;\n",
    "math.ceil(a) returns the nearest integer greater than or equal to a.\n"
   ]
  },
  {
   "cell_type": "code",
   "execution_count": 2,
   "metadata": {},
   "outputs": [
    {
     "ename": "NameError",
     "evalue": "name 'math' is not defined",
     "output_type": "error",
     "traceback": [
      "\u001b[0;31m---------------------------------------------------------------------------\u001b[0m",
      "\u001b[0;31mNameError\u001b[0m                                 Traceback (most recent call last)",
      "Cell \u001b[0;32mIn[2], line 1\u001b[0m\n\u001b[0;32m----> 1\u001b[0m floor \u001b[39m=\u001b[39m math\u001b[39m.\u001b[39mfloor(\u001b[39m6.931471805599453\u001b[39m)  \u001b[39m# 6\u001b[39;00m\n\u001b[1;32m      2\u001b[0m ceil \u001b[39m=\u001b[39m math\u001b[39m.\u001b[39mceil(\u001b[39m6.391471805599453\u001b[39m)    \u001b[39m# 7\u001b[39;00m\n",
      "\u001b[0;31mNameError\u001b[0m: name 'math' is not defined"
     ]
    }
   ],
   "source": [
    "floor = math.floor(6.931471805599453)  # 6\n",
    "ceil = math.ceil(6.391471805599453)    # 7\n"
   ]
  },
  {
   "cell_type": "markdown",
   "metadata": {},
   "source": [
    "The math module also provides the sqrt function to calculate the square root of a number."
   ]
  },
  {
   "cell_type": "code",
   "execution_count": null,
   "metadata": {},
   "outputs": [],
   "source": [
    "result = math.sqrt(100)  # 10.0\n"
   ]
  },
  {
   "attachments": {},
   "cell_type": "markdown",
   "metadata": {},
   "source": [
    "## Geometry"
   ]
  },
  {
   "cell_type": "markdown",
   "metadata": {},
   "source": [
    "The number \n",
    "�\n",
    "π\n",
    " is often used in geometry and other mathematical fields. It is the ratio of the circumference of a circle to its diameter. It can be found in the math module as pi.\n",
    "\n",
    "The next example shows how to calculate the circumference of a circle:   M"
   ]
  },
  {
   "cell_type": "code",
   "execution_count": null,
   "metadata": {},
   "outputs": [],
   "source": [
    "r = 3.5\n",
    "circumference = 2 * math.pi * r  # 21.991..."
   ]
  },
  {
   "attachments": {},
   "cell_type": "markdown",
   "metadata": {},
   "source": [
    "# There are also common trigonometric functions available in the math module:\n",
    "\n",
    "- math.cos(a) returns the cosine of a radians;\n",
    "- math.sin(a) returns the sine of a radians;\n",
    "- math.degrees(a) returns angle a converted from radians to degrees;\n",
    "- math.radians(a) returns angle a converted from degrees to radians.\n",
    "\n"
   ]
  },
  {
   "cell_type": "code",
   "execution_count": null,
   "metadata": {},
   "outputs": [],
   "source": [
    "deg = 60.0\n",
    "x = math.radians(deg)  # 1.047...\n",
    "\n",
    "cos = math.cos(x)  # 0.500...\n",
    "sin = math.sin(x)  # 0.866...\n",
    "\n",
    "degrees = math.degrees(x)  # 59.999...\n"
   ]
  },
  {
   "attachments": {},
   "cell_type": "markdown",
   "metadata": {},
   "source": [
    "## The volume of a cylinder\n",
    "Let's assume we have a cylinder with the height h = 5 and the radius of the base r = 3. The formula for the volume of a cylinder is, This is how we can calculate the volume using Python:\n"
   ]
  },
  {
   "cell_type": "code",
   "execution_count": null,
   "metadata": {},
   "outputs": [],
   "source": [
    "h = 5\n",
    "r = 3\n",
    "\n",
    "volume = math.pi * math.pow(r, 2) * h  # 141.3716...\n",
    "\n",
    "print(round(volume, 1))  # 141.4"
   ]
  }
 ],
 "metadata": {
  "kernelspec": {
   "display_name": "Python 3",
   "language": "python",
   "name": "python3"
  },
  "language_info": {
   "codemirror_mode": {
    "name": "ipython",
    "version": 3
   },
   "file_extension": ".py",
   "mimetype": "text/x-python",
   "name": "python",
   "nbconvert_exporter": "python",
   "pygments_lexer": "ipython3",
   "version": "3.11.3"
  },
  "orig_nbformat": 4
 },
 "nbformat": 4,
 "nbformat_minor": 2
}
