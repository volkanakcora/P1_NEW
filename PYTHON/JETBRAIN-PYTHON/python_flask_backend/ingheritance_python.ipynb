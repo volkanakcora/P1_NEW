{
 "cells": [
  {
   "cell_type": "markdown",
   "metadata": {},
   "source": [
    "# Inhertitance in Python"
   ]
  },
  {
   "cell_type": "markdown",
   "metadata": {},
   "source": [
    "One of the main principles of object-oriented programming is inheritance. In this topic, we'll focus on inheritance in Python: what it means and how it's done."
   ]
  },
  {
   "cell_type": "markdown",
   "metadata": {},
   "source": [
    "### 1) What is inheritance?\n",
    "- Inheritance is a mechanism that allows classes to inherit methods or properties from other classes. Or, in other words, inheritance is a mechanism of deriving new classes from existing ones.\n",
    "\n",
    "- The purpose of inheritance is to reuse existing code."
   ]
  },
  {
   "cell_type": "markdown",
   "metadata": {},
   "source": [
    "### 2) Class object"
   ]
  },
  {
   "cell_type": "code",
   "execution_count": null,
   "metadata": {},
   "outputs": [],
   "source": [
    "# inheritance syntax\n",
    "class ChildClass(ParentClass):\n",
    "    # methods and attributes\n",
    "    ..."
   ]
  },
  {
   "cell_type": "markdown",
   "metadata": {},
   "source": [
    "The definition of the parent class should precede the definition of the child class, otherwise, you'll get a NameError! If a class has several subclasses, its definition should precede them all. The \"sibling\" classes can be defined in any order.\n",
    "\n",
    "\n",
    "\n",
    "When we don't define a parent for our class, it doesn't mean that it doesn't have any! By default, all classes have the class object as their parent. In Python 3.x we don't need to explicitly indicate that, so the definitions below are equivalent:"
   ]
  },
  {
   "cell_type": "code",
   "execution_count": 1,
   "metadata": {},
   "outputs": [],
   "source": [
    "# parent class is explicit\n",
    "class SomeClass(object):\n",
    "    # methods and attributes\n",
    "    ...\n",
    "\n",
    "\n",
    "# parent class is implicit\n",
    "class SomeClass:\n",
    "    # methods and attributes\n",
    "    ..."
   ]
  },
  {
   "cell_type": "markdown",
   "metadata": {},
   "source": [
    "Subclasses of object inherit its methods and attributes. So, all standard methods like ```__init__``` or ```__repr__``` are inherited from the class object"
   ]
  },
  {
   "cell_type": "markdown",
   "metadata": {},
   "source": [
    "### 3) Single ingeritance\n",
    "\n",
    "- Unlike some other programming languages, Python supports two forms of inheritance: single and multiple. Single inheritance is when a child class inherits from one parent class. Multiple inheritance is when a child class inherits from multiple parent classes. In this topic, we'll cover only single inheritance. \n",
    "\n",
    "\n",
    "\n",
    "- Let's consider an example of single inheritance.\n",
    "\n",
    "\n"
   ]
  },
  {
   "cell_type": "code",
   "execution_count": 3,
   "metadata": {},
   "outputs": [],
   "source": [
    "# parent class\n",
    "class Animal:\n",
    "    def __init__(self, name):\n",
    "        self.name = name\n",
    "\n",
    "# child class\n",
    "class Dog(Animal):\n",
    "    pass"
   ]
  },
  {
   "cell_type": "markdown",
   "metadata": {},
   "source": [
    "Here we have a base class Animal with the ```__init__``` method and a subclass Dog that inherits from the base class. The keyword pass allows us not to write anything in the definition of the child class.\n",
    "\n",
    "\n",
    "Now that we've defined classes, we can create objects:\n",
    "\n"
   ]
  },
  {
   "cell_type": "code",
   "execution_count": 4,
   "metadata": {},
   "outputs": [],
   "source": [
    "cow = Animal(\"Bessie\")  # instance of Animal\n",
    "corgi = Dog(\"Baxter\")   # instance of Dog"
   ]
  },
  {
   "cell_type": "markdown",
   "metadata": {},
   "source": [
    "We haven't defined the ```__init__``` for the class Dog but since it's a child of Animal, it inherited its ```__init__```. So if we tried to declare an instance of the class Dog in a different way, we would get an error:"
   ]
  },
  {
   "cell_type": "markdown",
   "metadata": {},
   "source": [
    "### 4) type() vs isinstance()\n",
    "There are two main ways to check the type of an object: type() or isinstance() functions.\n",
    "\n",
    "The type() function takes one argument, an object, and returns its type. The isinstance() function takes two arguments: an object and a class. It checks if the given object is an instance of the given class and returns a boolean value."
   ]
  },
  {
   "cell_type": "markdown",
   "metadata": {},
   "source": [
    "First, let's look at the type() function:\n",
    "\n"
   ]
  },
  {
   "cell_type": "code",
   "execution_count": null,
   "metadata": {},
   "outputs": [],
   "source": [
    "print(type(cow) == Animal)  # True\n",
    "print(type(corgi) == Animal)  # False\n",
    "\n",
    "print(type(cow) == Dog)     # False\n",
    "print(type(corgi) == Dog)     # True"
   ]
  },
  {
   "cell_type": "markdown",
   "metadata": {},
   "source": [
    "As you can see, this allows us to check for the immediate type of the object. Now, isinstance() works differently:"
   ]
  },
  {
   "cell_type": "code",
   "execution_count": null,
   "metadata": {},
   "outputs": [],
   "source": [
    "print(isinstance(cow, Animal))    # True\n",
    "print(isinstance(corgi, Animal))  # True\n",
    "\n",
    "print(isinstance(cow, Dog))    # False\n",
    "print(isinstance(corgi, Dog))  # True"
   ]
  },
  {
   "cell_type": "markdown",
   "metadata": {},
   "source": [
    "### 5) issubclass()\n",
    "\n",
    "While isinstance() checks the type of an instance of a class, another built-in function asks whether a given class is a subclass of another class:"
   ]
  },
  {
   "cell_type": "code",
   "execution_count": null,
   "metadata": {},
   "outputs": [],
   "source": [
    "print(issubclass(Dog, Animal))  # True\n",
    "print(issubclass(Animal, Dog))  # False\n",
    "\n",
    "print(issubclass(Dog, Dog))     # True\n",
    "print(issubclass(corgi, Dog))   # TypeError"
   ]
  },
  {
   "cell_type": "markdown",
   "metadata": {},
   "source": [
    "As shown, the issubclass() function returns True if the first class inherits from the second class, and False otherwise. Each class is considered a subclass of itself"
   ]
  },
  {
   "cell_type": "code",
   "execution_count": null,
   "metadata": {},
   "outputs": [],
   "source": [
    "class WaterBody:\n",
    "    def __init__(self, name, length):\n",
    "        self.name = name  # str\n",
    "        self.length = length  # int\n",
    "\n",
    "class River(WaterBody):\n",
    "    pass\n",
    "\n",
    "seine = River(\"Seine\", 777)"
   ]
  },
  {
   "cell_type": "code",
   "execution_count": null,
   "metadata": {},
   "outputs": [],
   "source": [
    "class Car:\n",
    "    def __init__(self, model, color):\n",
    "        self.model = model\n",
    "        self.color = color\n",
    "\n",
    "\n",
    "class Tesla(Car):\n",
    "    pass\n",
    "\n",
    "\n",
    "# create an instance of Tesla\n",
    "tesla_car = Tesla(1996,'blue')"
   ]
  },
  {
   "cell_type": "code",
   "execution_count": null,
   "metadata": {},
   "outputs": [],
   "source": [
    "class Star:\n",
    "    def __init__(self, name, spectral_class):\n",
    "        self.name = name\n",
    "        self.spectral_class = spectral_class\n",
    "\n",
    "class YellowDwarf(Star):\n",
    "    pass\n",
    "\n",
    "# create a child class here\n"
   ]
  },
  {
   "cell_type": "markdown",
   "metadata": {},
   "source": [
    "Mysterious things have happened on the Hogwarts Express! Someone enchanted a food trolley and all the goodies got mixed up on the shelves. While the trolley witch is looking for the culprit, you will place Drinks, Pastry and Sweets on three respective shelves.\n",
    "\n",
    "These three are base classes and have various unknown children: for example, PumpkinJuice inherits from Drinks. Write a function that finds a parent class for an unknown class (not an instance of a class) stored in the variable child and prints out the parent's name.\n",
    "\n",
    "Note: all these classes are already created, you don't need to do that yourself. You only need to work with the child.\n",
    "\n",
    "Tip: You can use the issubclass() function to check if a particular class is the parent class and class.__name__ to print out the name of a class."
   ]
  },
  {
   "cell_type": "code",
   "execution_count": null,
   "metadata": {},
   "outputs": [],
   "source": [
    "def find_the_parent(child):\n",
    "    for cls in (Drinks, Pastry, Sweets):\n",
    "        if issubclass(child, cls):\n",
    "            print(cls.__name__)"
   ]
  },
  {
   "cell_type": "markdown",
   "metadata": {},
   "source": []
  }
 ],
 "metadata": {
  "kernelspec": {
   "display_name": ".venv",
   "language": "python",
   "name": "python3"
  },
  "language_info": {
   "codemirror_mode": {
    "name": "ipython",
    "version": 3
   },
   "file_extension": ".py",
   "mimetype": "text/x-python",
   "name": "python",
   "nbconvert_exporter": "python",
   "pygments_lexer": "ipython3",
   "version": "3.8.10"
  }
 },
 "nbformat": 4,
 "nbformat_minor": 2
}
