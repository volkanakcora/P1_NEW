{
 "cells": [
  {
   "cell_type": "markdown",
   "metadata": {},
   "source": [
    "# App configuration\n",
    "\n",
    "In this topic, we will discuss how to configure an application. Imagine you've written the code, and everything works fine. Is this really the end? Unfortunately, no. You also need to configure the application. It's very important, as you need to indicate the limits of what the app can do. For example, you can allow the server to update the app automatically without restarting it. You can also configure the protection of the data and server from hackers. Let's begin!"
   ]
  },
  {
   "cell_type": "markdown",
   "metadata": {},
   "source": [
    "### General settings\n",
    "- First, let's talk about the development mode. If you remember, when you start a server, it prints several lines to the console:\n",
    "\n",
    "- Take a look at * Debug mode: off. It states that we are not in the development mode right now. The development mode basically provides you with a built-in debugger. It can point out your mistakes and show a detailed traceback in the browser. There are several ways to enable this mode; one of them is to use app.config. The config attribute of a Flask app is a dictionary. You can enable the development mode like this:\n"
   ]
  },
  {
   "cell_type": "code",
   "execution_count": null,
   "metadata": {},
   "outputs": [],
   "source": [
    "app.config['DEBUG'] = True\n"
   ]
  },
  {
   "cell_type": "markdown",
   "metadata": {},
   "source": [
    "Let's also talk about the Environment: production line. It tells us that the Flask is running as a server. Actually, that's why it warns us not to use the current configuration — we are working with a test web server that is not protected. We'll talk about how to switch to an operational web server a little later."
   ]
  },
  {
   "cell_type": "markdown",
   "metadata": {},
   "source": [
    "### Changing the settings\n",
    "\n",
    "To make your config better, let's see how you can make several changes in the settings of your application at once:"
   ]
  },
  {
   "cell_type": "code",
   "execution_count": null,
   "metadata": {},
   "outputs": [],
   "source": [
    "app.config.update({\n",
    "    'DEBUG': True,\n",
    "    'TESTING': True\n",
    "})"
   ]
  },
  {
   "cell_type": "markdown",
   "metadata": {},
   "source": [
    "In the example above, we have enabled both debug and test modes. So, you can set only one specific setting or multiple values at once."
   ]
  },
  {
   "cell_type": "markdown",
   "metadata": {},
   "source": [
    "Now, let's see what else we can do. There are several other settings that we can configure besides the debug mode. First, let's deal with the secret key, which will keep our app users' privacy. It can be created by using the os module:"
   ]
  },
  {
   "cell_type": "code",
   "execution_count": null,
   "metadata": {},
   "outputs": [],
   "source": [
    "import os\n",
    "\n",
    "key = os.urandom(24)  # specify the length in brackets\n",
    "app.config['SECRET_KEY'] = key"
   ]
  },
  {
   "cell_type": "markdown",
   "metadata": {},
   "source": [
    "Alternatively, you can use the same app.config.update method to put the key in the settings and become a valiant defender of personal data. Instead of using the os module, we can hit the keyboard 3 times and store the result as a secret key. It is, in fact, an ordinary string, a code word. However, os.urandom is more practical.\n",
    "\n",
    "We will cover the secret key purpose in the upcoming topics, but it's good to know how to configure it since it's one of the most important settings."
   ]
  },
  {
   "cell_type": "markdown",
   "metadata": {},
   "source": [
    "## Exception distinction\n"
   ]
  }
 ],
 "metadata": {
  "language_info": {
   "name": "python"
  }
 },
 "nbformat": 4,
 "nbformat_minor": 2
}
