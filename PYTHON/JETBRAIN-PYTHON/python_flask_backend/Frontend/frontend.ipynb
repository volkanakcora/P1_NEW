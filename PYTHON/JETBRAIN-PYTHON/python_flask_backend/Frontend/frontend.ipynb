{
 "cells": [
  {
   "cell_type": "markdown",
   "metadata": {},
   "source": [
    "What are HTML elements?\n",
    "As you know, HTML files can be opened in browsers. After receiving an HTML document, the browser reads the tags in it and uses them to create an HTML page that users see on their monitor screens.\n",
    "\n",
    "All you see on the page in your browser viewer are HTML elements. And this is where the difference between HTML tags and HTML elements lies: elements are what the user sees on the browser page, while tags are what the developer writes when creating an HTML document.\n",
    "\n",
    "It is worth remembering that not all HTML tags are elements. For example, the DOCTYPE instruction, necessary for correct interpretation of code by a browser, and tags in the header of an HTML document are not elements.\n",
    "\n",
    "There are two main types of page elements: block-level elements and inline elements. Both of them have their own peculiarities.\n",
    "\n",
    "Block-level Elements\n",
    "Block-level elements are mostly used to create the structure of web pages or logically divide an HTML document into parts. Here are some examples of block elements:\n",
    "\n",
    "<div> is a universal content divider. It is used to group similar HTML elements. Whenever you want to divide the sections on the webpage you can use the div element. However, there are other semantic HTML elements that can be used for specific element positioning on the webpage which you'll learn later and you should use semantic elements whenever possible to improve the accessibility. But now, let's see how you can create a section using the <div> element:\n",
    "\n",
    "<div>\n",
    "  <h1>Element h1 is inside the div</h1>\n",
    "  <p>Element p is also inside the div</p>\n",
    "</div>\n",
    "<h1> - <h6> are heading tags:\n",
    "\n",
    "<h1>Heading level 1</h1>\n",
    "<h2>Heading level 2</h2>\n",
    "<h3>Heading level 3</h3>\n",
    "<h4>Heading level 4</h4>\n",
    "<h5>Heading level 5</h5>\n",
    "<h6>Heading level 6</h6>"
   ]
  },
  {
   "cell_type": "markdown",
   "metadata": {},
   "source": [
    "As you can see, these tags make it easy to identify the headings that convey the level of importance of the text.\n",
    "It is recommended to use only one <h1> tag on a web page – this should be the title showing the main theme of the page.\n",
    "\n",
    "<p> defines a text paragraph:\n",
    "\n",
    "<p>It's a paragraph of the text</p>\n",
    "<p>And this is another paragraph</p>\n",
    "This is how it looks in the browser:"
   ]
  },
  {
   "cell_type": "code",
   "execution_count": null,
   "metadata": {},
   "outputs": [],
   "source": []
  },
  {
   "cell_type": "markdown",
   "metadata": {},
   "source": [
    "The text enclosed in this tag is not highlighted in bold, unlike the case of <h1>-<h6>.\n",
    "\n",
    "<pre> defines a block of formatted text:\n",
    "\n",
    "<pre>\n",
    "..........／＞  フ\n",
    ".........|  _  _ |\n",
    ".......／` ミ＿xノ\n",
    "....../     |\n",
    "...../  ヽ   ﾉ\n",
    "....│  | | |\n",
    "／￣|   | | |\n",
    "| (￣ヽ＿_ヽ_)__)\n",
    ".＼二つ\n",
    "</pre>\n"
   ]
  },
  {
   "cell_type": "markdown",
   "metadata": {},
   "source": [
    "By default, any number of spaces occurring in the code in a row are shown as one space on a web page. The <pre> tag displays the text the way you want it, with all the spaces inserted between characters:"
   ]
  }
 ],
 "metadata": {
  "language_info": {
   "name": "python"
  }
 },
 "nbformat": 4,
 "nbformat_minor": 2
}
