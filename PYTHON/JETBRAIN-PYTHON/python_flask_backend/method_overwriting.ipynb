{
 "cells": [
  {
   "cell_type": "markdown",
   "metadata": {},
   "source": [
    "# Method overriding\n",
    "\n",
    "One important concept of object-oriented programming is overriding. Overriding is the ability of a class to change the implementation of the methods inherited from its ancestor classes.\n",
    "\n",
    "This feature is extremely useful as it allows us to explore inheritance to its full potential. Not only can we reuse existing code and method implementations, but also upgrade and advance them if needed."
   ]
  },
  {
   "cell_type": "code",
   "execution_count": null,
   "metadata": {},
   "outputs": [],
   "source": [
    "class Parent:\n",
    "    def do_something(self):\n",
    "        print(\"Did something\")\n",
    "\n",
    "\n",
    "class Child(Parent):\n",
    "    def do_something(self):\n",
    "        print(\"Did something else\")\n",
    "\n",
    "\n",
    "parent = Parent()\n",
    "child = Child()\n",
    "\n",
    "parent.do_something()  # Did something\n",
    "child.do_something()  # Did something else"
   ]
  },
  {
   "cell_type": "markdown",
   "metadata": {},
   "source": [
    "### 1) super()\n",
    "Python has a special function for calling the method of the parent class inside the methods of the child class: the super() function. It returns a proxy, a temporary object of the parent class, and allows us to call a method of the parent class using this proxy. Let's take a look at the following example:\n",
    "\n"
   ]
  },
  {
   "cell_type": "code",
   "execution_count": 1,
   "metadata": {},
   "outputs": [],
   "source": [
    "class Parent:\n",
    "    def __init__(self, name):\n",
    "        self.name = name\n",
    "        print(\"Called Parent __init__\")\n",
    "\n",
    "\n",
    "class Child(Parent):\n",
    "    def __init__(self, name):\n",
    "        super().__init__(name)\n",
    "        print(\"Called Child __init__\")"
   ]
  },
  {
   "cell_type": "markdown",
   "metadata": {},
   "source": [
    "We've overridden the ```__init__```() method in the child class but inside it we've called the ```__init__```() of the parent class. If we create an object of the class Child, we will get the following output:"
   ]
  },
  {
   "cell_type": "code",
   "execution_count": 2,
   "metadata": {},
   "outputs": [
    {
     "name": "stdout",
     "output_type": "stream",
     "text": [
      "Called Parent __init__\n",
      "Called Child __init__\n"
     ]
    }
   ],
   "source": [
    "jack = Child(\"Jack\")\n",
    "# Called Parent __init__\n",
    "# Called Child __init__"
   ]
  },
  {
   "cell_type": "markdown",
   "metadata": {},
   "source": [
    "In Python 3 the method ```super()``` doesn't have any required parameters. In earlier versions, however, you had to specify the class from which the method would search for a superclass. In our example, instead of ```super().__init__(name)``` we would write ```super(Child, self).__init__(name)```. Both lines of code mean the same thing: that we want to find the superclass of the class Child and then call its``` __init__ ```method. In Python 3 these are equivalent, so you don't have to explicitly write the type. However, it may be useful if you want to access the method of the \"grandparent\" class: the parent class of the parent class."
   ]
  },
  {
   "cell_type": "markdown",
   "metadata": {},
   "source": [
    "### 2) super() with single inheritance\n",
    "\n",
    "The method super() is mostly used in cases of multiple inheritance: when a class inherits from two or more classes. There it is most convenient and useful but you'll have a chance to learn about that in the next topics. This method can also be of use with single inheritance which is what we'll cover now.\n",
    "\n",
    "Suppose we have the following classes:\n",
    "\n"
   ]
  },
  {
   "cell_type": "code",
   "execution_count": null,
   "metadata": {},
   "outputs": [],
   "source": [
    "class Animal:\n",
    "    def __init__(self, species):\n",
    "        self.species = species\n",
    "\n",
    "       \n",
    "class Cat(Animal):\n",
    "    def __init__(self, name):\n",
    "        self.name = name"
   ]
  },
  {
   "cell_type": "markdown",
   "metadata": {},
   "source": [
    "In the subclass Cat, we've overridden the ```__init__()``` method. Now the objects of the class Cat do not have the species attribute. We would like for objects of the Cat class to have this attribute, but adding it as a parameter of the ```__init__``` seems a bit excessive. We could, of course, simply create this attribute inside the initializer, but there is a more elegant (and more Pythonic) solution. This solution, as expected, is the super() method:"
   ]
  },
  {
   "cell_type": "code",
   "execution_count": 10,
   "metadata": {},
   "outputs": [
    {
     "name": "stdout",
     "output_type": "stream",
     "text": [
      "volkan paper\n"
     ]
    }
   ],
   "source": [
    "class Animal:\n",
    "    def __init__(self, species):\n",
    "        self.species = species\n",
    "\n",
    "\n",
    "class Cat(Animal):\n",
    "    def __init__(self, name):\n",
    "        super().__init__(\"paper\")\n",
    "        self.name = name\n",
    "\n",
    "\n",
    "\n",
    "fluffy = Cat(\"volkan\")\n",
    "# Animal __init__\n",
    "# Cat __init__\n",
    "\n",
    "print(fluffy.name, fluffy.species)  # cat Fluffy"
   ]
  },
  {
   "cell_type": "markdown",
   "metadata": {},
   "source": [
    "Both __init__() methods have done their job and our cat has both the species and the name attributes.\n",
    "\n",
    "You may wonder why we had to do it this way. Why did we have to call the parent implementation of the method when we could manage without it? Well, the example above is a very simple one. In real-life projects, classes, their methods and the relationships between them are much more sophisticated.\n",
    "\n",
    "Overriding does provide us with an opportunity to enhance the methods of the parent class but it doesn't mean that we should discard the original implementations. Sometimes, you may not have full access to the original implementation and you may not know everything that happens there. If you just override it, there may be unexpected consequences. So, it is recommended to always call the parent implementation. This way, you get the best of both worlds: you have the original implementation and your enhancements.\n",
    "\n",
    "Just be careful and thoughtful when overriding methods and using the super() function and you'll do great!"
   ]
  },
  {
   "cell_type": "code",
   "execution_count": 11,
   "metadata": {},
   "outputs": [],
   "source": [
    "class Car:\n",
    "    def __init__(self, company, model):\n",
    "        self.company = company\n",
    "        self.model = model\n",
    "\n",
    "\n",
    "class Tesla(Car):\n",
    "    def __init__(self, model, year, color):\n",
    "        super().__init__(\"Tesla\", model)\n",
    "        self.year = year\n",
    "        self.color = color\n",
    "\n",
    "\n",
    "tesla_car = Tesla(\"S\", 2018, \"silver\")"
   ]
  },
  {
   "cell_type": "code",
   "execution_count": 14,
   "metadata": {},
   "outputs": [
    {
     "name": "stdout",
     "output_type": "stream",
     "text": [
      "size: 50 \n",
      "strings: 4 \n",
      "cost: 680\n"
     ]
    }
   ],
   "source": [
    "class Instrument:\n",
    "    def __init__(self, size):\n",
    "        self.size = size\n",
    "\n",
    "class Stringed(Instrument):\n",
    "    def __init__(self, n_strings):\n",
    "        self.n_strings = n_strings\n",
    "\n",
    "class Violin(Stringed):\n",
    "    def __init__(self, cost):\n",
    "        super().__init__(4)\n",
    "        super(Stringed,self).__init__(50)\n",
    "        self.cost = cost\n",
    "\n",
    "my_violin = Violin(680)\n",
    "print(\"size:\", my_violin.size, \n",
    "      \"\\nstrings:\", my_violin.n_strings, \n",
    "      \"\\ncost:\", my_violin.cost)"
   ]
  }
 ],
 "metadata": {
  "kernelspec": {
   "display_name": ".venv",
   "language": "python",
   "name": "python3"
  },
  "language_info": {
   "codemirror_mode": {
    "name": "ipython",
    "version": 3
   },
   "file_extension": ".py",
   "mimetype": "text/x-python",
   "name": "python",
   "nbconvert_exporter": "python",
   "pygments_lexer": "ipython3",
   "version": "3.8.10"
  }
 },
 "nbformat": 4,
 "nbformat_minor": 2
}
