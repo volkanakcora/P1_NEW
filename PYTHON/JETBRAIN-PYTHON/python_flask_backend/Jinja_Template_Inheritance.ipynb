{
 "cells": [
  {
   "cell_type": "markdown",
   "metadata": {},
   "source": [
    "## Template Inheritance\n",
    "\n",
    "Usually, a web application's web pages has similar components: headers, footers, navigation bars, and so on. In other words, parts that will not change on different pages. We can take advantage of this fact and write shorter, reusable templates using Jinja template inheritance property."
   ]
  },
  {
   "cell_type": "markdown",
   "metadata": {},
   "source": [
    " - What is template inheritance?\n",
    "\n",
    "- - Template inheritance enables us to build a parent \"skeleton\" template that will contain similar components and elements together with shorter, easy-to-manage child templates.\n",
    "\n",
    "- -  Every time you create a web page, instead of adding common elements, such as main html tags, headers, and footers, you can use a base template instead. It allows other pages to inherit these elements. Take a look at a folder structure:"
   ]
  },
  {
   "cell_type": "markdown",
   "metadata": {},
   "source": [
    "```application/\n",
    "├── app.py\n",
    "└── templates/\n",
    "    ├── base.html\n",
    "    ├── home.html\n",
    "    ├── about.html ```"
   ]
  },
  {
   "cell_type": "markdown",
   "metadata": {},
   "source": [
    "Our website will have two static pages about Radiohead. One contains a list of all their albums, and another contains information about the band.\n",
    "\n",
    "Run.py is a very basic flask application:"
   ]
  },
  {
   "cell_type": "code",
   "execution_count": null,
   "metadata": {},
   "outputs": [],
   "source": [
    "from flask import Flask, render_template\n",
    "  \n",
    "# Setting up the application\n",
    "app = Flask(__name__)\n",
    "  \n",
    "\n",
    "@app.route('/')\n",
    "@app.route('/home')\n",
    "def home():\n",
    "    return render_template('home.html')\n",
    "@app.route('/about')\n",
    "def about():\n",
    "    return render_template('about.html')\n",
    "  \n",
    "\n",
    "if __name__ == '__main__':\n",
    "    app.run(debug=True)"
   ]
  },
  {
   "cell_type": "markdown",
   "metadata": {},
   "source": [
    "And now, the base template:\n",
    "\n"
   ]
  },
  {
   "cell_type": "code",
   "execution_count": null,
   "metadata": {
    "vscode": {
     "languageId": "html"
    }
   },
   "outputs": [],
   "source": [
    "<!DOCTYPE html>\n",
    "<html lang=\"en\">\n",
    "<head>\n",
    "  <title>{% block title %}{% endblock %} | Radiohead</title> \n",
    " <! -- we used the same name for the block as the name tag (title) -->\n",
    "</head>\n",
    "<body>\n",
    "  <header>\n",
    "    <nav> <a href=\"#\">Menu</a> \n",
    "      <a href=\"#\"> Radiohead</a>\n",
    "    </nav> \n",
    "  </header>\n",
    "    <main>\n",
    "    <div id = \"content\">\n",
    "    {% block content %}{% endblock %}\n",
    "    </div>\n",
    "    <div id = \"container2\">\n",
    "    {% block container2 %}{% endblock %}\n",
    "    </div>\n",
    "    </main>\n",
    "    <footer>\n",
    "    {% block footer %} &copy;Copyright 2022 by Me {% endblock %}\n",
    "    </footer>\n",
    "\n",
    "</body>\n",
    "</html>"
   ]
  },
  {
   "cell_type": "markdown",
   "metadata": {},
   "source": [
    "## Linking templates\n"
   ]
  },
  {
   "cell_type": "markdown",
   "metadata": {},
   "source": [
    "- How do we link the child templates with the parent ones? With {% extends %} in the child templates:"
   ]
  },
  {
   "cell_type": "code",
   "execution_count": null,
   "metadata": {
    "vscode": {
     "languageId": "html"
    }
   },
   "outputs": [],
   "source": [
    "{% extends \"base/parent_template.html\" %}\n"
   ]
  },
  {
   "cell_type": "markdown",
   "metadata": {},
   "source": [
    "We can put``` {% extends %}``` into any child template; it is followed by the name of the base/parent template in \" \". Afterwards, Jinja will use the base template and load the``` {% block % } {% endblock %}``` from it into the child template."
   ]
  },
  {
   "cell_type": "code",
   "execution_count": null,
   "metadata": {
    "vscode": {
     "languageId": "html"
    }
   },
   "outputs": [],
   "source": [
    "Here is the templates/home.html:\n",
    "\n",
    "\n",
    "{% extends \"base.html\" %}\n",
    "\n",
    "{% block title %} Album {% endblock %}\n",
    "\n",
    "\n",
    "{% block content %}\n",
    "    <h3> Albums by the best band in the world</h3>\n",
    "{% endblock %}\n",
    "\n",
    "\n",
    "{% block container2 %}\n",
    "<ul>\n",
    "    <li>Pablo Honey</li>   <li>The Bends</li>\n",
    "    <li>Ok Computer</li>   <li>Kid A</li>\n",
    "    <li>Amnesia</li>       <li>Hail to the Thief</li>\n",
    "    <li>In Rainbows</li>   <li>The King of Limbs</li>\n",
    "    <li>A Moon Shaped Pool</li>\n",
    "</ul> \n",
    "{% endblock %}\n",
    "\n",
    "{% block footer %}\n",
    "@ Radiohead\n",
    "{% endblock %}\n"
   ]
  },
  {
   "cell_type": "markdown",
   "metadata": {},
   "source": [
    "And templates/about.html:\n",
    "\n"
   ]
  },
  {
   "cell_type": "code",
   "execution_count": null,
   "metadata": {
    "vscode": {
     "languageId": "html"
    }
   },
   "outputs": [],
   "source": [
    "{% extends \"base.html\" %}\n",
    "{% block title %} About{% endblock %}\n",
    "\n",
    "{% block content %}\n",
    "<h1>About Radiohead</h1>\n",
    "{% endblock %}\n",
    "\n",
    "\n",
    "{% block container2 %}\n",
    "Simply put they are the best. (for me)\n",
    "{% endblock %}"
   ]
  },
  {
   "cell_type": "markdown",
   "metadata": {},
   "source": [
    "## Advanced loops\n"
   ]
  },
  {
   "cell_type": "code",
   "execution_count": null,
   "metadata": {
    "vscode": {
     "languageId": "html"
    }
   },
   "outputs": [],
   "source": [
    "<!DOCTYPE html>\n",
    "<html>\n",
    "<head>\n",
    "    <title>Mega Template</title>\n",
    "</head>\n",
    "<body>\n",
    "    <h1>EventTable Managment</h1>\n",
    "    {% for record in eventtable %}\n",
    "        <ol>\n",
    "        {% for event in record %}\n",
    "            <li>{{ event }}</li>\n",
    "        {% endfor %}\n",
    "        </ol>\n",
    "    {% endfor}\n",
    "</body>\n",
    "</html>"
   ]
  }
 ],
 "metadata": {
  "language_info": {
   "name": "python"
  }
 },
 "nbformat": 4,
 "nbformat_minor": 2
}
