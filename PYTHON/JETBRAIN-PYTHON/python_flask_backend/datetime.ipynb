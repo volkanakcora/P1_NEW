{
 "cells": [
  {
   "cell_type": "markdown",
   "metadata": {},
   "source": [
    "Python requests allows you to send all kinds of requests and get the responses to them in an easy and intuitive way. "
   ]
  },
  {
   "cell_type": "code",
   "execution_count": null,
   "metadata": {},
   "outputs": [],
   "source": [
    "import requests\n"
   ]
  },
  {
   "cell_type": "markdown",
   "metadata": {},
   "source": [
    "## Making a GET request\n",
    "The GET request is used to retrieve information from the given server using a URL. For example, whenever you enter a URL in the address box of your browser, it translates it into a GET request message and sends it to the server.\n",
    "\n",
    "Imagine we need to get the main page of the official website of the requests library. We can do so with the help of requests.get(url) as follows:\n",
    "\n"
   ]
  },
  {
   "cell_type": "code",
   "execution_count": null,
   "metadata": {},
   "outputs": [],
   "source": [
    "r = requests.get('https://requests.readthedocs.io/en/master/')\n",
    "print(r)\n",
    "\n",
    "# <Response [200]>"
   ]
  },
  {
   "cell_type": "markdown",
   "metadata": {},
   "source": [
    "This returns a response object r containing all the necessary information about the response of the server. Note that 200 is a standard HTTP code indicating that the request succeeded, while code 404 means that the resource you were looking for was not found. You can explicitly access the response code in the status_code attribute of the response object:"
   ]
  },
  {
   "cell_type": "code",
   "execution_count": null,
   "metadata": {},
   "outputs": [],
   "source": [
    "print(r.status_code)\n",
    "\n",
    "# 200"
   ]
  },
  {
   "cell_type": "markdown",
   "metadata": {},
   "source": [
    "If you use a response object in an if statement, it will evaluate to True if the status code starts with the digits 2 (request was accepted) or 3 (redirection), and False otherwise:"
   ]
  },
  {
   "cell_type": "code",
   "execution_count": null,
   "metadata": {},
   "outputs": [],
   "source": [
    "if r:\n",
    "    print('Success!')\n",
    "else:\n",
    "    print('Fail')\n",
    "\n",
    "# Success!"
   ]
  },
  {
   "cell_type": "markdown",
   "metadata": {},
   "source": [
    "To read the content of the server’s response, look at the text property:\n",
    "\n"
   ]
  },
  {
   "cell_type": "code",
   "execution_count": null,
   "metadata": {},
   "outputs": [],
   "source": [
    "r.text\n",
    "\n",
    "# '\\n<!DOCTYPE html PUBLIC \"-//W3C//DTD XHTML 1.0 Transitional//EN\"\\n ...\n",
    "# ..."
   ]
  },
  {
   "cell_type": "markdown",
   "metadata": {},
   "source": [
    "Note that requests automatically decodes the content of the response from the server. You can find out what encoding is being used and change it, if necessary, using the encoding property:"
   ]
  },
  {
   "cell_type": "code",
   "execution_count": null,
   "metadata": {},
   "outputs": [],
   "source": [
    "r.encoding\n",
    "\n",
    "# 'ISO-8859-1'"
   ]
  },
  {
   "cell_type": "markdown",
   "metadata": {},
   "source": [
    "Other useful information, e.g., content type, is stored in the response headers. To view them, access .headers:"
   ]
  },
  {
   "cell_type": "code",
   "execution_count": null,
   "metadata": {},
   "outputs": [],
   "source": [
    "r = requests.get('https://requests.readthedocs.io/en/master/')\n",
    "print(r.headers)\n",
    "\n",
    "# {'Transfer-Encoding': 'chunked', 'Content-Type': 'text/html', 'Content-Encoding': 'gzip', \n",
    "#  'Last-Modified': 'Thu, 09 Jan 2020 17:56:10 GMT', 'ETag': 'W/\"5e17693a-b523\"', 'Vary': \n",
    "#  'Accept-Encoding', 'Server': 'nginx', 'X-Subdomain-TryFiles': 'True', 'X-Served': 'Nginx', \n",
    "#  'X-Deity': 'web03', 'Strict-Transport-Security': 'max-age=31536000; includeSubDomains', \n",
    "#  'Date': 'Thu, 16 Jan 2020 13:31:20 GMT'}"
   ]
  },
  {
   "cell_type": "markdown",
   "metadata": {},
   "source": [
    "A dictionary-like object is returned, so you can access the header value you need by its key"
   ]
  },
  {
   "cell_type": "code",
   "execution_count": null,
   "metadata": {},
   "outputs": [],
   "source": [
    "r.headers['Content-Type']\n",
    "\n",
    "# 'text/html'\n",
    "\n",
    "# This works just fine as well\n",
    "r.headers['content-type']\n",
    "\n",
    "# 'text/html'"
   ]
  },
  {
   "cell_type": "markdown",
   "metadata": {},
   "source": [
    "## Query parameters\n",
    "- A query string is a convention for appending key-value pairs to a URL. It's separated from the standard URL with a question mark sign ? and contains key-value pairs. Each key is separated from the value by an equality sign =, while the pairs are separated by an ampersand &.\n",
    "\n",
    "- Query strings can include fields added to a base URL by the browser or other client applications. How these parameters are used is up to the server-side application. For example, https://www.python.org/search/ is a search page of the official Python website. If you search for 'requests' there, the results will be displayed on the page with the URL https://www.python.org/search/?q=requests.\n",
    "\n",
    "- When using requests, there’s no need to manually add query strings to your URLs. The library allows you to provide these arguments as a dictionary of strings using the params keyword argument when making a request:"
   ]
  },
  {
   "cell_type": "code",
   "execution_count": null,
   "metadata": {},
   "outputs": [],
   "source": [
    "# The dictionary of the query parameters\n",
    "params = {'q': 'requests'}\n",
    "\n",
    "# This request will get the page with the results of the search for 'requests'\n",
    "# on the official Python website:\n",
    "r = requests.get('http://python.org/search', params=params)"
   ]
  },
  {
   "cell_type": "markdown",
   "metadata": {},
   "source": [
    "If you need to send similar requests multiple times in your project, it makes sense to define a special function for that. For example, google_search(query, num) returns a URL to the page containing num Google search results for a given query :"
   ]
  },
  {
   "cell_type": "code",
   "execution_count": null,
   "metadata": {},
   "outputs": [],
   "source": [
    "def google_search(query, num):\n",
    "    r = requests.get('https://google.com/search',\n",
    "                     params={'q': query, 'num': num})\n",
    "    return r.url\n",
    "\n",
    "\n",
    "print(google_search('python', 1))\n",
    "\n",
    "# https://www.google.com/search?q=python&num=1"
   ]
  }
 ],
 "metadata": {
  "language_info": {
   "name": "python"
  },
  "orig_nbformat": 4
 },
 "nbformat": 4,
 "nbformat_minor": 2
}
