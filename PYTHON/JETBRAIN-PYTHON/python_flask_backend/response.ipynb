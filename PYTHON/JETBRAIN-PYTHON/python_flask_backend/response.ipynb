{
 "cells": [
  {
   "cell_type": "markdown",
   "metadata": {},
   "source": [
    "### Getting started with responses\n",
    "In this topic, we will talk about responses and how our application can send them. Let's start with a simple template for our new app. As always, we need to import it first. Mind the new make_response method:"
   ]
  },
  {
   "cell_type": "code",
   "execution_count": null,
   "metadata": {},
   "outputs": [],
   "source": [
    "from flask import Flask\n",
    "from flask import make_response\n",
    "\n",
    "app = Flask('main')"
   ]
  },
  {
   "cell_type": "markdown",
   "metadata": {},
   "source": [
    "In most cases, returning a simple string as a response is insufficient. We'll need a response object, an instance of the Response class. We can create a response object in Flask with the make_response method:\n",
    "\n",
    "\n"
   ]
  },
  {
   "cell_type": "code",
   "execution_count": null,
   "metadata": {},
   "outputs": [],
   "source": [
    "@app.route('/')\n",
    "def index():\n",
    "    response = make_response('<h1>The Main Page, OK?</h1>')\n",
    "    return response"
   ]
  },
  {
   "cell_type": "markdown",
   "metadata": {},
   "source": [
    "Let's now take a look at what we can do with it:\n",
    "\n"
   ]
  },
  {
   "cell_type": "code",
   "execution_count": null,
   "metadata": {},
   "outputs": [],
   "source": [
    "@app.route('/data/get_error/')\n",
    "def return_error():\n",
    "    response = make_response('<p>Oops... Sounds like an error!</p>', 400)\n",
    "    return response"
   ]
  },
  {
   "cell_type": "markdown",
   "metadata": {},
   "source": [
    "We route our page to /data/get_error/, so the page can be accessed at 127.0.0.1:5000/data/get_error/.\n"
   ]
  },
  {
   "cell_type": "markdown",
   "metadata": {},
   "source": [
    "## JSONIFY METHOD "
   ]
  },
  {
   "cell_type": "code",
   "execution_count": null,
   "metadata": {},
   "outputs": [],
   "source": [
    "@app.route('/')\n",
    "def no_data():\n",
    "    response = jsonify({'message': 'Hello there!', 'info': 'Using jsonify...', 'status': 200})\n",
    "\n",
    "    return response"
   ]
  },
  {
   "cell_type": "markdown",
   "metadata": {},
   "source": [
    "As you can see, we have a regular dictionary with data. The jsonify method puts it into a JSON object. Jsonify returns a response object, so we don't have to process it with make_response.\n",
    "\n",
    "After that, we can launch the application with app.run()! Go to 127.0.0.1:5000, and you will see the following:"
   ]
  },
  {
   "cell_type": "code",
   "execution_count": null,
   "metadata": {},
   "outputs": [],
   "source": [
    "from flask import Flask\n",
    "from flask import jsonify\n",
    "\n",
    "\n",
    "app = Flask('main')\n",
    "\n",
    "@app.route('/')\n",
    "def no_data():\n",
    "    response = jsonify({'message': 'Hello there!', 'info': 'Using jsonify...', 'status': 200})\n",
    "\n",
    "    return response\n",
    "\n",
    "app.run()"
   ]
  },
  {
   "cell_type": "markdown",
   "metadata": {},
   "source": [
    "## POST requests from the browser\n",
    "\n",
    "\n",
    "Note that we use a multi-line string framed by the ''' quotes. We may skip the escape of regular quotes inside. This simplifies the coding. We write very specific HTML code and save it to a string variable. We also use the triple-quote strings and to keep line breaks. It allows us to make a small template for a small web page.\n",
    "\n"
   ]
  },
  {
   "cell_type": "code",
   "execution_count": null,
   "metadata": {},
   "outputs": [],
   "source": [
    "from flask import Flask, request\n",
    "\n",
    "\n",
    "MAIN_PAGE_GET = '''\n",
    "<h1>Welcome!</h1>\n",
    "<form method='post'>\n",
    "<input type='submit' value='Push me!'>\n",
    "</form>\n",
    "'''\n",
    "\n",
    "MAIN_PAGE_POST = '''\n",
    "<h1>Perfect!</h1>\n",
    "<p>You succesfully sent POST request via your browser!</p>\n",
    "'''\n",
    "\n",
    "app = Flask('main')\n",
    "\n",
    "@app.route('/', methods=['POST', 'GET'])\n",
    "def main_view():\n",
    "    if request.method == 'POST':\n",
    "        return MAIN_PAGE_POST\n",
    "    elif request.method == 'GET':\n",
    "        return MAIN_PAGE_GET\n",
    "\n",
    "\n",
    "app.run()"
   ]
  }
 ],
 "metadata": {
  "language_info": {
   "name": "python"
  },
  "orig_nbformat": 4
 },
 "nbformat": 4,
 "nbformat_minor": 2
}
