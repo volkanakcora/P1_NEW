{
 "cells": [
  {
   "cell_type": "markdown",
   "metadata": {},
   "source": [
    "## Function decorators\n",
    "\n",
    "Decorator is a structural design pattern that allows programmers to extend and modify the behavior of a function, a method, or a class without changing their code."
   ]
  },
  {
   "cell_type": "markdown",
   "metadata": {},
   "source": [
    "### 1) Syntax\n",
    "\n",
    "In Python, the standard syntax for decorators is the @ sign preceding the name of a decorator, and then the object we want to decorate on the next line with the same indentation. Decorators are called immediately before the body of a function, the behavior of which we would like to change. Here is a small example of what the general structure should look like:"
   ]
  },
  {
   "cell_type": "code",
   "execution_count": null,
   "metadata": {},
   "outputs": [],
   "source": [
    "@decorator_function\n",
    "def func():\n",
    "    ...\n",
    "\n",
    "\n",
    "def our_decorator(other_func):\n",
    "    def wrapper(args_for_function):\n",
    "        print('This happens before we call the function')\n",
    "        return other_func(args_for_function)\n",
    "\n",
    "    return wrapper\n"
   ]
  },
  {
   "cell_type": "markdown",
   "metadata": {},
   "source": [
    "Here we define the function our_decorator , it takes another function as its argument and contains a wrapper that prints the message and calls the function that we have passed to our_decorator. Then, we return this wrapper function that contains our modified one."
   ]
  },
  {
   "cell_type": "code",
   "execution_count": null,
   "metadata": {},
   "outputs": [],
   "source": [
    "#Now, we define a function greet using our_decorator:\n",
    "\n",
    "@our_decorator\n",
    "def greet(name):\n",
    "    print('Hello,', name)"
   ]
  },
  {
   "cell_type": "markdown",
   "metadata": {},
   "source": [
    "Then, if we call greet, we will see the following output:\n",
    "\n"
   ]
  },
  {
   "cell_type": "code",
   "execution_count": null,
   "metadata": {},
   "outputs": [],
   "source": [
    "greet('Susie')\n",
    "# This happens before we call the function\n",
    "# Hello, Susie"
   ]
  },
  {
   "cell_type": "markdown",
   "metadata": {},
   "source": [
    "However, you do not always need to write decorators, sometimes you can use decorators from the Python standard library."
   ]
  },
  {
   "cell_type": "markdown",
   "metadata": {},
   "source": [
    "### 2) Why use decorators?\n",
    "\n",
    "The reason why you may want to use decorators is that they provide means for making your code more readable and clean. Imagine that we have a set of functions. We want to measure, for instance, how long it takes for each of them to perform the algorithms, so we add timers in each code block:"
   ]
  },
  {
   "cell_type": "code",
   "execution_count": null,
   "metadata": {},
   "outputs": [],
   "source": [
    "import time\n",
    "\n",
    "def func1(args_for_function):\n",
    "    start = time.time()  # gets the current time\n",
    "    ...                  # something happens here\n",
    "    end = time.time()\n",
    "    print('func1 takes', end - start, 'seconds')\n",
    "\n",
    "\n",
    "def func2(args_for_function):\n",
    "    start = time.time()\n",
    "    ...\n",
    "    end = time.time()\n",
    "    print('func2 takes', end - start, 'seconds')"
   ]
  },
  {
   "cell_type": "markdown",
   "metadata": {},
   "source": [
    "However, once it is done, the two following problems may arise:\n",
    "\n",
    "Particular lines would appear and be repeated in each function: the ones with start and end in our case;\n",
    "These lines would be redundant to the actual functionality and the initial code.\n",
    "These issues can be solved with a separate reusable pattern that may be further applied to any other function. In our case, we can make it like this:"
   ]
  },
  {
   "cell_type": "code",
   "execution_count": null,
   "metadata": {},
   "outputs": [],
   "source": [
    "def timer(func):\n",
    "    def wrapper(args_for_function):\n",
    "        start = time.time()\n",
    "        func(args_for_function)\n",
    "        end = time.time()\n",
    "        print('func takes', end - start, 'seconds')\n",
    "\n",
    "    return wrapper\n",
    "\n",
    "\n",
    "@timer\n",
    "def func1(args_for_function):\n",
    "    ...  # something happens here"
   ]
  },
  {
   "cell_type": "markdown",
   "metadata": {},
   "source": [
    "In the example above, we have written a function decorator timer() that takes any function as an argument, it notes the time then invokes the function, notes the time again, and prints how much time it took. As a result, we can use this decorator for any function later on, and there will be no need to modify the code of the functions itself."
   ]
  },
  {
   "cell_type": "code",
   "execution_count": 2,
   "metadata": {},
   "outputs": [
    {
     "name": "stdout",
     "output_type": "stream",
     "text": [
      "It is nighttime\n",
      "We can hear some night birds like owls\n"
     ]
    }
   ],
   "source": [
    "def nighttime(func):\n",
    "    def wrapper(args_for_function):\n",
    "        print('It is nighttime')\n",
    "        return func(args_for_function)\n",
    "\n",
    "    return wrapper\n",
    "\n",
    "\n",
    "@nighttime\n",
    "def get_message(name):\n",
    "    print('We can hear some night birds like', name)\n",
    "\n",
    "\n",
    "get_message('owls')"
   ]
  },
  {
   "cell_type": "code",
   "execution_count": 3,
   "metadata": {},
   "outputs": [],
   "source": [
    "def print_info(func):\n",
    "    def wrapper(arg1, arg2):\n",
    "        print(\"The arguments of the function are:\", arg1, arg2)\n",
    "        return func(arg1, arg2)\n",
    "\n",
    "    return wrapper\n",
    "\n",
    "@print_info\n",
    "def addition(arg1, arg2):\n",
    "    return arg1 + arg2"
   ]
  },
  {
   "cell_type": "code",
   "execution_count": null,
   "metadata": {},
   "outputs": [],
   "source": [
    "def tagged(func):\n",
    "    def wrapper(*args, **kwargs):\n",
    "        result = func(*args, **kwargs)\n",
    "        return f\"<title>{result}</title>\"\n",
    "    return wrapper\n",
    "\n",
    "@tagged\n",
    "def from_input(inp):\n",
    "    string = inp.strip()\n",
    "    return string\n",
    "\n",
    "# Example usage:\n",
    "user_input = \"Test\"\n",
    "tagged_result = from_input(user_input)\n",
    "print(tagged_result)  # This will print <title>Test</title>\n"
   ]
  },
  {
   "cell_type": "code",
   "execution_count": null,
   "metadata": {},
   "outputs": [],
   "source": [
    "def price_string(func):\n",
    "    def wrapper(arg):\n",
    "        return \"£\" + str(func(arg))\n",
    "\n",
    "    return wrapper  \n",
    "\n",
    "@price_string\n",
    "def new_price(quantity):\n",
    "    result = quantity * 90 / 100\n",
    "    return \"%.1f\" % result"
   ]
  }
 ],
 "metadata": {
  "kernelspec": {
   "display_name": ".venv",
   "language": "python",
   "name": "python3"
  },
  "language_info": {
   "codemirror_mode": {
    "name": "ipython",
    "version": 3
   },
   "file_extension": ".py",
   "mimetype": "text/x-python",
   "name": "python",
   "nbconvert_exporter": "python",
   "pygments_lexer": "ipython3",
   "version": "3.8.10"
  }
 },
 "nbformat": 4,
 "nbformat_minor": 2
}
