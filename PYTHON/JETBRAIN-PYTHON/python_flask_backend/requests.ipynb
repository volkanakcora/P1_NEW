{
 "cells": [
  {
   "cell_type": "markdown",
   "metadata": {},
   "source": [
    "## Request\n",
    "\n",
    "It's time to refine our Flask skills and learn some important concepts. Today, we will talk about requests. They may seem relatively simple: a client sends a request; a server responds to it and sends a response back. Programming this sequence requires some amount of practical knowledge. We will cover it in this topic. Ready? Go!\n"
   ]
  },
  {
   "cell_type": "markdown",
   "metadata": {},
   "source": [
    "### Requests and responses as objects\n",
    "\n",
    "Let's talk about the basics first. As you may know, there are two main request types — GET and POST. Don't forget that these are only the names; HTTP does not oblige you to use GET to obtain information and POST to forward it. Though that is what is most often implied. With the help of HTTP requests, we can send data, receive a response, and establish a connection between our computer and a server via the HTTP protocol. You can say that everything sounds familiar, then why repeat? That's a good point to step in and start discussing Flask features.\n",
    "\n",
    "All data transmissions in Python are processed as objects. Namely, a request and response. As you may have guessed, these objects contain data about a request or response that a server sent or received. When you create an application, run it, and open the URL (127.0.0.1:5000), the browser sends a request logged in to the console immediately. If everything is fine, you will see the 200 response status code:"
   ]
  },
  {
   "cell_type": "markdown",
   "metadata": {},
   "source": [
    "### Processing requests\n",
    "Now, let's write our application that will handle requests and see how we can process them. Imagine that we want to create an authorization system. What do we need? That's right — a page that will have a form for a username and password. It will send the data to the server as an authentication request.\n",
    "\n",
    "Firstly, we need to import Flask as well as request, a new object we will work with:"
   ]
  },
  {
   "cell_type": "markdown",
   "metadata": {},
   "source": []
  },
  {
   "cell_type": "code",
   "execution_count": null,
   "metadata": {},
   "outputs": [],
   "source": [
    "from flask import Flask\n",
    "from flask import request"
   ]
  },
  {
   "cell_type": "markdown",
   "metadata": {},
   "source": [
    "The imported request is a global object that Flask uses to put the correct incoming request data in it. The request object is an instance of a built-in Request (note the capital letter!) subclass. Since we are not sending but mostly accepting requests, we don't need to create any new instances. It may sound a bit confusing, but at this point, let's carry on with the global object idea.\n",
    "\n",
    "Once the import is complete, we can create our application:"
   ]
  },
  {
   "cell_type": "markdown",
   "metadata": {},
   "source": []
  },
  {
   "cell_type": "code",
   "execution_count": null,
   "metadata": {},
   "outputs": [],
   "source": [
    "app = Flask('main')\n"
   ]
  },
  {
   "cell_type": "markdown",
   "metadata": {},
   "source": [
    "Ok, the foundation is ready. Now it's time to build the central part of the program. Before writing a function, we route the page using the familiar decorator. Note that this time, we add the methods parameter to show Flask which requests our app will accept:"
   ]
  },
  {
   "cell_type": "markdown",
   "metadata": {},
   "source": []
  },
  {
   "cell_type": "code",
   "execution_count": null,
   "metadata": {},
   "outputs": [],
   "source": [
    "@app.route('/', methods=['POST', 'GET'])\n"
   ]
  },
  {
   "cell_type": "markdown",
   "metadata": {},
   "source": [
    "Flask route only answers to GET requests by default. Pass them into the list when defining the decorator to make the route able to handle other requests.\n",
    "\n",
    "Now, let's declare a view function called login.\n",
    "\n",
    "With the help of the method attribute of the request object, we can determine the request type and specify the behavior of the application:\n"
   ]
  },
  {
   "cell_type": "markdown",
   "metadata": {},
   "source": []
  },
  {
   "cell_type": "code",
   "execution_count": null,
   "metadata": {},
   "outputs": [],
   "source": []
  },
  {
   "cell_type": "markdown",
   "metadata": {},
   "source": []
  },
  {
   "cell_type": "code",
   "execution_count": null,
   "metadata": {},
   "outputs": [],
   "source": []
  },
  {
   "cell_type": "markdown",
   "metadata": {},
   "source": []
  },
  {
   "cell_type": "code",
   "execution_count": null,
   "metadata": {},
   "outputs": [],
   "source": []
  },
  {
   "cell_type": "markdown",
   "metadata": {},
   "source": []
  },
  {
   "cell_type": "code",
   "execution_count": null,
   "metadata": {},
   "outputs": [],
   "source": []
  },
  {
   "cell_type": "markdown",
   "metadata": {},
   "source": []
  },
  {
   "cell_type": "code",
   "execution_count": null,
   "metadata": {},
   "outputs": [],
   "source": []
  }
 ],
 "metadata": {
  "language_info": {
   "name": "python"
  },
  "orig_nbformat": 4
 },
 "nbformat": 4,
 "nbformat_minor": 2
}
