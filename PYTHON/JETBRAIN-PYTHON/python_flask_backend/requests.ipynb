{
 "cells": [
  {
   "cell_type": "markdown",
   "metadata": {},
   "source": [
    "## Request\n",
    "\n",
    "It's time to refine our Flask skills and learn some important concepts. Today, we will talk about requests. They may seem relatively simple: a client sends a request; a server responds to it and sends a response back. Programming this sequence requires some amount of practical knowledge. We will cover it in this topic. Ready? Go!\n"
   ]
  },
  {
   "cell_type": "markdown",
   "metadata": {},
   "source": [
    "### Requests and responses as objects\n",
    "\n",
    "Let's talk about the basics first. As you may know, there are two main request types — GET and POST. Don't forget that these are only the names; HTTP does not oblige you to use GET to obtain information and POST to forward it. Though that is what is most often implied. With the help of HTTP requests, we can send data, receive a response, and establish a connection between our computer and a server via the HTTP protocol. You can say that everything sounds familiar, then why repeat? That's a good point to step in and start discussing Flask features.\n",
    "\n",
    "All data transmissions in Python are processed as objects. Namely, a request and response. As you may have guessed, these objects contain data about a request or response that a server sent or received. When you create an application, run it, and open the URL (127.0.0.1:5000), the browser sends a request logged in to the console immediately. If everything is fine, you will see the 200 response status code:"
   ]
  },
  {
   "cell_type": "markdown",
   "metadata": {},
   "source": [
    "### Processing requests\n",
    "Now, let's write our application that will handle requests and see how we can process them. Imagine that we want to create an authorization system. What do we need? That's right — a page that will have a form for a username and password. It will send the data to the server as an authentication request.\n",
    "\n",
    "Firstly, we need to import Flask as well as request, a new object we will work with:"
   ]
  },
  {
   "cell_type": "code",
   "execution_count": null,
   "metadata": {},
   "outputs": [],
   "source": [
    "from flask import Flask\n",
    "from flask import request"
   ]
  },
  {
   "cell_type": "markdown",
   "metadata": {},
   "source": [
    "The imported request is a global object that Flask uses to put the correct incoming request data in it. The request object is an instance of a built-in Request (note the capital letter!) subclass. Since we are not sending but mostly accepting requests, we don't need to create any new instances. It may sound a bit confusing, but at this point, let's carry on with the global object idea.\n",
    "\n",
    "Once the import is complete, we can create our application:"
   ]
  },
  {
   "cell_type": "code",
   "execution_count": null,
   "metadata": {},
   "outputs": [],
   "source": [
    "app = Flask('main')\n"
   ]
  },
  {
   "cell_type": "markdown",
   "metadata": {},
   "source": [
    "Ok, the foundation is ready. Now it's time to build the central part of the program. Before writing a function, we route the page using the familiar decorator. Note that this time, we add the methods parameter to show Flask which requests our app will accept:"
   ]
  },
  {
   "cell_type": "code",
   "execution_count": null,
   "metadata": {},
   "outputs": [],
   "source": [
    "@app.route('/', methods=['POST', 'GET'])\n"
   ]
  },
  {
   "cell_type": "markdown",
   "metadata": {},
   "source": [
    "Flask route only answers to GET requests by default. Pass them into the list when defining the decorator to make the route able to handle other requests.\n",
    "\n",
    "Now, let's declare a view function called login.\n",
    "\n",
    "With the help of the method attribute of the request object, we can determine the request type and specify the behavior of the application:\n"
   ]
  },
  {
   "cell_type": "code",
   "execution_count": null,
   "metadata": {},
   "outputs": [],
   "source": [
    "def login():\n",
    "    if request.method == 'GET':\n",
    "        template = \"\"\"\n",
    "        <form method='POST'>\n",
    "        <input type='text' placeholder='Username...'>\n",
    "        <input type='password' placeholder='Password...'>\n",
    "        <input type='submit' value='Auth'>\n",
    "        </form>\n",
    "        \"\"\"\n",
    "        return template\n",
    "\n",
    "    elif request.method == 'POST':\n",
    "        return 'Wow! Great, you logged in!'"
   ]
  },
  {
   "cell_type": "markdown",
   "metadata": {},
   "source": [
    "We have created a template that we will show on the login page. You'll study building and showing templates in detail later. For now, you can copy and paste the template string into your code to make everything work.\n",
    "\n",
    "let's launch our app:\n"
   ]
  },
  {
   "cell_type": "code",
   "execution_count": null,
   "metadata": {},
   "outputs": [],
   "source": [
    "app.run()\n"
   ]
  },
  {
   "cell_type": "code",
   "execution_count": null,
   "metadata": {},
   "outputs": [],
   "source": [
    "from flask import request\n",
    "from flask import Flask\n",
    "\n",
    "\n",
    "app = Flask('main')\n",
    "\n",
    "@app.route('/', methods=['POST', 'GET'])\n",
    "def login():\n",
    "    if request.method == 'GET':\n",
    "        template = \"\"\"\n",
    "        <form method='POST'>\n",
    "        <input type='text' placeholder='Username...'>\n",
    "        <input type='password' placeholder='Password...'>\n",
    "        <input type='submit' value='Auth'>\n",
    "        </form>\n",
    "        \"\"\"\n",
    "        return template\n",
    "\n",
    "    elif request.method == 'POST':\n",
    "        return 'Wow! Great, you logged in!'\n",
    "\n",
    "\n",
    "app.run()"
   ]
  },
  {
   "cell_type": "markdown",
   "metadata": {},
   "source": [
    "### Query parameters\n",
    "Using query strings or query parameters is another way to send data with your request. They are added to the main request URL, separated by a question mark ?. Query parameters are made of key=value pairs separated by an ampersand &. An example request URL with a query string looks like this:\n",
    "http://127.0.0.1:5000/users?city=London&age=20\n"
   ]
  },
  {
   "cell_type": "markdown",
   "metadata": {},
   "source": [
    "Query parameters are commonly used for filtering or limiting data. In the example above, say we have a /users endpoint that returns all the users present in a database. Sometimes, we don't need them all, and that's where it's easier to specify what kind of users the client exactly wants to see, even before sending a request. In this case, the server will filter only users from London, age 20.\n",
    "\n",
    "Query parameters are also stored in the request object. You'll need its args attribute:"
   ]
  },
  {
   "cell_type": "code",
   "execution_count": null,
   "metadata": {},
   "outputs": [],
   "source": [
    "@app.route('/users')\n",
    "def users():\n",
    "    query_params = request.args  # returns a dictionary\n",
    "    city = query_params.get(\"city\")\n",
    "    age = query_params.get(\"age\")\n",
    "    # ... do your magic with the params\n",
    "    # considering you've had the predefined method 'get_users' for retrieving users\n",
    "    result = get_users(city, age)\n",
    "    return result"
   ]
  },
  {
   "cell_type": "markdown",
   "metadata": {},
   "source": [
    "As the args attribute returns a dictionary; you can use the standard dictionary methods. Here, we've retrieved parameters via get() method to avoid crashing with the KeyError exception."
   ]
  },
  {
   "cell_type": "code",
   "execution_count": null,
   "metadata": {},
   "outputs": [],
   "source": [
    "from flask import Flask, request\n",
    "\n",
    "app = Flask('main')\n",
    "\n",
    "@app.route('/', methods=['POST',\"GET\",\"PUT\",\"CREATE\"])\n",
    "def main_view():\n",
    "    if request.method == \"POST\":\n",
    "        return \"Succesfully authorized!\"\n",
    "    elif request.method == \"GET\":\n",
    "        return \"Welcome there!\"\n",
    "    elif request.method == \"PUT\":\n",
    "        return \"Succesfully published!\"\n",
    "    elif request.method == \"CREATE\":\n",
    "        return \"Created a new web page!\"\n",
    "\n",
    "app.run()"
   ]
  },
  {
   "cell_type": "markdown",
   "metadata": {},
   "source": [
    "# BEAUTIFUL TEMPLATE\n",
    "\n",
    "## Description\n",
    "It is neither practical nor interesting when the server responds with plain text only. It is much better when the server sends an HTML template with a nice design.\n",
    "\n",
    "Returning an HTML template in Flask is easy. You can use the render_template method. It takes the name of the template. Once it gets the name of the template, the render_template method searches for the template in the templates folder and returns it. This folder must be at the same level as the Python file with the Flask class object."
   ]
  },
  {
   "cell_type": "markdown",
   "metadata": {},
   "source": [
    "Theory\n",
    "This is a sample of a Flask project structure:\n",
    "\n",
    ".\n",
    "```├── templates\n",
    "│   └── index.html\n",
    "├── static\n",
    "│   └── style.css\n",
    "└── app.py```"
   ]
  },
  {
   "cell_type": "markdown",
   "metadata": {},
   "source": [
    "Flask can also work with static files: CSS files, images, JavaScript files, and so on. These files should be stored in the static folder. To access and import these files to the HTML templates, use the url_for method. If you open a predefined index.html file in the templates folder, you will see the following line (it imports a CSS file to an HTML page):"
   ]
  },
  {
   "cell_type": "code",
   "execution_count": null,
   "metadata": {
    "vscode": {
     "languageId": "html"
    }
   },
   "outputs": [],
   "source": [
    "<link rel=\"stylesheet\" href=\"{{ url_for('static', filename='style.css') }}\">\n"
   ]
  },
  {
   "cell_type": "markdown",
   "metadata": {},
   "source": [
    "Flask uses the Jinja template engine by default. It allows you to add the data to your HTML file. When you call the render_template method, the Jinja engine goes through the HTML file looking for the special delimiters ({{ }}, {% %}, ...) to work with them. For the example above, it will find {{ url_for('static', filename='style.css') }} . Then the engine will call the url_for method to return the path to the style.css file and insert that path to the href attribute. We will discuss Jinja in detail in the next stages."
   ]
  },
  {
   "cell_type": "markdown",
   "metadata": {},
   "source": [
    "To return the HTML file as a response, return the result of the render_template execution:\n",
    "\n"
   ]
  },
  {
   "cell_type": "code",
   "execution_count": null,
   "metadata": {},
   "outputs": [],
   "source": [
    "from flask import render_template\n",
    "\n",
    "# ....\n",
    "\n",
    "@app.route('/')\n",
    "def index():\n",
    "    return render_template('template_name.html')"
   ]
  },
  {
   "cell_type": "markdown",
   "metadata": {},
   "source": [
    "You can create any other folder to store HTML files in the templates folder. However, you should specify the path to the exact file in the render_template method. For example: render_template('folder_name/template_name.html')"
   ]
  },
  {
   "cell_type": "markdown",
   "metadata": {},
   "source": [
    "In this stage, your web application should handle requests to the '/' URL and return the HTML template file as a response. You can download an archive with the predefined template and static folders from here. Put them with your app.py file.\n",
    "\n",
    "If you want to design the web page by yourself, you can create a template on your own. The template should contain:\n",
    "\n",
    "One <input> field with an input-city id,\n",
    "One <button> with a submit-button city,\n",
    "One <div> block with a cards class, where you will put all your cards.\n",
    "One <div> block with the cards class. It should contain three <div> blocks with the card class. These <div> blocks represent a card with a city.\n",
    "Each <div> block with the card class should contain:\n",
    "\n",
    "One <div> block with a degrees class that represents the current temperature in a city.\n",
    "One <div> block with a state class that represents the current weather state in a city.\n",
    "One <div> block with a city class that represents a city name.\n",
    "This is what your web page may look like with the '/' URL:"
   ]
  }
 ],
 "metadata": {
  "language_info": {
   "name": "python"
  },
  "orig_nbformat": 4
 },
 "nbformat": 4,
 "nbformat_minor": 2
}
