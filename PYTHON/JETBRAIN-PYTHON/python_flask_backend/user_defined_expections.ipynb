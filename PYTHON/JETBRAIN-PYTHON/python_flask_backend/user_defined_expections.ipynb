{
 "cells": [
  {
   "cell_type": "markdown",
   "metadata": {},
   "source": [
    "## User defined Exceptions\n",
    "\n",
    "You are familiar with how to deal with built-in exceptions. However, some programs may need user-defined exceptions for their special needs. Let's consider the following example. We need to add two integers but we do not want to work with negative integers. Python will process the addition correctly, so we can create a custom exception to raise it if any negative numbers appear"
   ]
  },
  {
   "cell_type": "markdown",
   "metadata": {},
   "source": [
    "### 1) Raising user-defined exceptions\n",
    "\n",
    "- If we want our program to stop working when something goes wrong, we can use the raise keyword for the Exception class when a condition is met. You may come across either your or built-in exceptions like the ZeroDivisionError in the example below. Note that you can specify your feedback in parentheses to explain the error. It will be shown when the exception occurs."
   ]
  },
  {
   "cell_type": "code",
   "execution_count": 1,
   "metadata": {},
   "outputs": [],
   "source": [
    "def example_exceptions_1(x, y):\n",
    "    if y == 0:\n",
    "        raise ZeroDivisionError(\"The denominator is 0! Try again, please!\")\n",
    "    elif y < 0:\n",
    "        raise Exception(\"The denominator is negative!\")\n",
    "    else:\n",
    "        print(x / y)"
   ]
  },
  {
   "cell_type": "markdown",
   "metadata": {},
   "source": [
    "Now let's see how this function works with different inputs:\n",
    "\n"
   ]
  },
  {
   "cell_type": "code",
   "execution_count": 2,
   "metadata": {},
   "outputs": [
    {
     "ename": "ZeroDivisionError",
     "evalue": "The denominator is 0! Try again, please!",
     "output_type": "error",
     "traceback": [
      "\u001b[0;31m---------------------------------------------------------------------------\u001b[0m",
      "\u001b[0;31mZeroDivisionError\u001b[0m                         Traceback (most recent call last)",
      "\u001b[1;32m/home/oh856/P1-REPO/PYTHON/JETBRAIN-PYTHON/python_flask_backend/Frontend/user_defined_expections.ipynb Cell 5\u001b[0m line \u001b[0;36m1\n\u001b[0;32m----> <a href='vscode-notebook-cell:/home/oh856/P1-REPO/PYTHON/JETBRAIN-PYTHON/python_flask_backend/Frontend/user_defined_expections.ipynb#X22sZmlsZQ%3D%3D?line=0'>1</a>\u001b[0m example_exceptions_1(\u001b[39m10\u001b[39;49m, \u001b[39m0\u001b[39;49m)\n\u001b[1;32m      <a href='vscode-notebook-cell:/home/oh856/P1-REPO/PYTHON/JETBRAIN-PYTHON/python_flask_backend/Frontend/user_defined_expections.ipynb#X22sZmlsZQ%3D%3D?line=1'>2</a>\u001b[0m \u001b[39m# Traceback (most recent call last):\u001b[39;00m\n\u001b[1;32m      <a href='vscode-notebook-cell:/home/oh856/P1-REPO/PYTHON/JETBRAIN-PYTHON/python_flask_backend/Frontend/user_defined_expections.ipynb#X22sZmlsZQ%3D%3D?line=2'>3</a>\u001b[0m \u001b[39m#   File \"main.py\", line 9, in <module>\u001b[39;00m\n\u001b[1;32m      <a href='vscode-notebook-cell:/home/oh856/P1-REPO/PYTHON/JETBRAIN-PYTHON/python_flask_backend/Frontend/user_defined_expections.ipynb#X22sZmlsZQ%3D%3D?line=3'>4</a>\u001b[0m \u001b[39m#     example_exceptions_1(10, 0)\u001b[39;00m\n\u001b[1;32m      <a href='vscode-notebook-cell:/home/oh856/P1-REPO/PYTHON/JETBRAIN-PYTHON/python_flask_backend/Frontend/user_defined_expections.ipynb#X22sZmlsZQ%3D%3D?line=4'>5</a>\u001b[0m \u001b[39m#   File \"main.py\", line 3, in example_exceptions_1\u001b[39;00m\n\u001b[1;32m      <a href='vscode-notebook-cell:/home/oh856/P1-REPO/PYTHON/JETBRAIN-PYTHON/python_flask_backend/Frontend/user_defined_expections.ipynb#X22sZmlsZQ%3D%3D?line=5'>6</a>\u001b[0m \u001b[39m#     raise ZeroDivisionError(\"The denominator is 0! Try again, please!\")\u001b[39;00m\n\u001b[1;32m      <a href='vscode-notebook-cell:/home/oh856/P1-REPO/PYTHON/JETBRAIN-PYTHON/python_flask_backend/Frontend/user_defined_expections.ipynb#X22sZmlsZQ%3D%3D?line=6'>7</a>\u001b[0m \u001b[39m# ZeroDivisionError: The denominator is 0! Try again, please!\u001b[39;00m\n\u001b[1;32m      <a href='vscode-notebook-cell:/home/oh856/P1-REPO/PYTHON/JETBRAIN-PYTHON/python_flask_backend/Frontend/user_defined_expections.ipynb#X22sZmlsZQ%3D%3D?line=8'>9</a>\u001b[0m example_exceptions_1(\u001b[39m10\u001b[39m, \u001b[39m-\u001b[39m\u001b[39m2\u001b[39m)\n",
      "\u001b[1;32m/home/oh856/P1-REPO/PYTHON/JETBRAIN-PYTHON/python_flask_backend/Frontend/user_defined_expections.ipynb Cell 5\u001b[0m line \u001b[0;36m3\n\u001b[1;32m      <a href='vscode-notebook-cell:/home/oh856/P1-REPO/PYTHON/JETBRAIN-PYTHON/python_flask_backend/Frontend/user_defined_expections.ipynb#X22sZmlsZQ%3D%3D?line=0'>1</a>\u001b[0m \u001b[39mdef\u001b[39;00m \u001b[39mexample_exceptions_1\u001b[39m(x, y):\n\u001b[1;32m      <a href='vscode-notebook-cell:/home/oh856/P1-REPO/PYTHON/JETBRAIN-PYTHON/python_flask_backend/Frontend/user_defined_expections.ipynb#X22sZmlsZQ%3D%3D?line=1'>2</a>\u001b[0m     \u001b[39mif\u001b[39;00m y \u001b[39m==\u001b[39m \u001b[39m0\u001b[39m:\n\u001b[0;32m----> <a href='vscode-notebook-cell:/home/oh856/P1-REPO/PYTHON/JETBRAIN-PYTHON/python_flask_backend/Frontend/user_defined_expections.ipynb#X22sZmlsZQ%3D%3D?line=2'>3</a>\u001b[0m         \u001b[39mraise\u001b[39;00m \u001b[39mZeroDivisionError\u001b[39;00m(\u001b[39m\"\u001b[39m\u001b[39mThe denominator is 0! Try again, please!\u001b[39m\u001b[39m\"\u001b[39m)\n\u001b[1;32m      <a href='vscode-notebook-cell:/home/oh856/P1-REPO/PYTHON/JETBRAIN-PYTHON/python_flask_backend/Frontend/user_defined_expections.ipynb#X22sZmlsZQ%3D%3D?line=3'>4</a>\u001b[0m     \u001b[39melif\u001b[39;00m y \u001b[39m<\u001b[39m \u001b[39m0\u001b[39m:\n\u001b[1;32m      <a href='vscode-notebook-cell:/home/oh856/P1-REPO/PYTHON/JETBRAIN-PYTHON/python_flask_backend/Frontend/user_defined_expections.ipynb#X22sZmlsZQ%3D%3D?line=4'>5</a>\u001b[0m         \u001b[39mraise\u001b[39;00m \u001b[39mException\u001b[39;00m(\u001b[39m\"\u001b[39m\u001b[39mThe denominator is negative!\u001b[39m\u001b[39m\"\u001b[39m)\n",
      "\u001b[0;31mZeroDivisionError\u001b[0m: The denominator is 0! Try again, please!"
     ]
    }
   ],
   "source": [
    "example_exceptions_1(10, 0)\n",
    "# Traceback (most recent call last):\n",
    "#   File \"main.py\", line 9, in <module>\n",
    "#     example_exceptions_1(10, 0)\n",
    "#   File \"main.py\", line 3, in example_exceptions_1\n",
    "#     raise ZeroDivisionError(\"The denominator is 0! Try again, please!\")\n",
    "# ZeroDivisionError: The denominator is 0! Try again, please!\n",
    "\n",
    "example_exceptions_1(10, -2)\n",
    "# Traceback (most recent call last):\n",
    "#   File \"main.py\", line 10, in <module>\n",
    "#     example_exceptions_1(10, -2)\n",
    "#   File \"main.py\", line 5, in example_exceptions_1\n",
    "#     raise Exception(\"The denominator is negative!\")\n",
    "# Exception: The denominator is negative!\n",
    "\n",
    "example_exceptions_1(10, 5) \n",
    "# 2.0"
   ]
  },
  {
   "cell_type": "markdown",
   "metadata": {},
   "source": [
    "If there is a zero, the program will stop working and will display the built-in exception with the message you specified"
   ]
  },
  {
   "cell_type": "code",
   "execution_count": 12,
   "metadata": {},
   "outputs": [],
   "source": [
    "class NegativeResultError(Exception):\n",
    "    pass"
   ]
  },
  {
   "cell_type": "markdown",
   "metadata": {},
   "source": [
    "In the example_exceptions_2(a, b) function below we use the try-except block. If the result of the division is positive, we just print the result. If it is negative, we raise an exception and go to the corresponding part of the code with except to print the message.\n",
    "\n"
   ]
  },
  {
   "cell_type": "code",
   "execution_count": 10,
   "metadata": {},
   "outputs": [],
   "source": [
    "def example_exceptions_2(a, b):\n",
    "    try:\n",
    "        c = a / b\n",
    "        if c < 0:\n",
    "            raise NegativeResultError\n",
    "        else:\n",
    "            print(c)\n",
    "    except NegativeResultError:\n",
    "        print(\"There is a negative result!\")"
   ]
  },
  {
   "cell_type": "markdown",
   "metadata": {},
   "source": [
    "Let's see the results of the function for different inputs.\n",
    "\n"
   ]
  },
  {
   "cell_type": "code",
   "execution_count": 11,
   "metadata": {},
   "outputs": [
    {
     "name": "stdout",
     "output_type": "stream",
     "text": [
      "0.4\n",
      "There is a negative result!\n"
     ]
    }
   ],
   "source": [
    "example_exceptions_2(2, 5)   # 0.4\n",
    "example_exceptions_2(2, -5)  # There is a negative result!"
   ]
  },
  {
   "cell_type": "markdown",
   "metadata": {},
   "source": [
    "Now let's see what happens if we raise the exception right away.\n",
    "\n"
   ]
  },
  {
   "cell_type": "code",
   "execution_count": 13,
   "metadata": {},
   "outputs": [
    {
     "ename": "NegativeResultError",
     "evalue": "",
     "output_type": "error",
     "traceback": [
      "\u001b[0;31m---------------------------------------------------------------------------\u001b[0m",
      "\u001b[0;31mNegativeResultError\u001b[0m                       Traceback (most recent call last)",
      "\u001b[1;32m/home/oh856/P1-REPO/PYTHON/JETBRAIN-PYTHON/python_flask_backend/Frontend/user_defined_expections.ipynb Cell 14\u001b[0m line \u001b[0;36m1\n\u001b[0;32m----> <a href='vscode-notebook-cell:/home/oh856/P1-REPO/PYTHON/JETBRAIN-PYTHON/python_flask_backend/Frontend/user_defined_expections.ipynb#X11sZmlsZQ%3D%3D?line=0'>1</a>\u001b[0m \u001b[39mraise\u001b[39;00m NegativeResultError\n\u001b[1;32m      <a href='vscode-notebook-cell:/home/oh856/P1-REPO/PYTHON/JETBRAIN-PYTHON/python_flask_backend/Frontend/user_defined_expections.ipynb#X11sZmlsZQ%3D%3D?line=1'>2</a>\u001b[0m \u001b[39m#  Traceback (most recent call last):\u001b[39;00m\n\u001b[1;32m      <a href='vscode-notebook-cell:/home/oh856/P1-REPO/PYTHON/JETBRAIN-PYTHON/python_flask_backend/Frontend/user_defined_expections.ipynb#X11sZmlsZQ%3D%3D?line=2'>3</a>\u001b[0m \u001b[39m#    File \"main.py\", line 10, in <module>\u001b[39;00m\n\u001b[1;32m      <a href='vscode-notebook-cell:/home/oh856/P1-REPO/PYTHON/JETBRAIN-PYTHON/python_flask_backend/Frontend/user_defined_expections.ipynb#X11sZmlsZQ%3D%3D?line=3'>4</a>\u001b[0m \u001b[39m#      raise NegativeResultError\u001b[39;00m\n\u001b[1;32m      <a href='vscode-notebook-cell:/home/oh856/P1-REPO/PYTHON/JETBRAIN-PYTHON/python_flask_backend/Frontend/user_defined_expections.ipynb#X11sZmlsZQ%3D%3D?line=4'>5</a>\u001b[0m \u001b[39m#  NegativeResultError\u001b[39;00m\n",
      "\u001b[0;31mNegativeResultError\u001b[0m: "
     ]
    }
   ],
   "source": [
    "raise NegativeResultError\n",
    "#  Traceback (most recent call last):\n",
    "#    File \"main.py\", line 10, in <module>\n",
    "#      raise NegativeResultError\n",
    "#  NegativeResultError"
   ]
  },
  {
   "cell_type": "markdown",
   "metadata": {},
   "source": [
    "You can also create several exceptions of your own. An example is in the code below:\n",
    "\n"
   ]
  },
  {
   "cell_type": "code",
   "execution_count": 14,
   "metadata": {},
   "outputs": [],
   "source": [
    "class OutOfBoundsError(Exception):\n",
    "    pass\n",
    "\n",
    "class LessThanOneError(Exception):\n",
    "    pass\n",
    "\n",
    "def example_exceptions_3(x):\n",
    "    try:\n",
    "        if 3 < x < 16:\n",
    "            raise OutOfBoundsError\n",
    "        elif x < 1:\n",
    "            raise LessThanOneError\n",
    "        else:\n",
    "            print(x)\n",
    "    except OutOfBoundsError:\n",
    "        print(\"The value can't be between 3 and 16!\")\n",
    "    except LessThanOneError:\n",
    "        print(\"The value can't be less than 1!\")"
   ]
  },
  {
   "cell_type": "code",
   "execution_count": 15,
   "metadata": {},
   "outputs": [
    {
     "name": "stdout",
     "output_type": "stream",
     "text": [
      "2\n",
      "The value can't be between 3 and 16!\n",
      "The value can't be less than 1!\n"
     ]
    }
   ],
   "source": [
    "example_exceptions_3(2)    # 2\n",
    "example_exceptions_3(5)    # The value can't be between 3 and 16!\n",
    "example_exceptions_3(-10)  # The value can't be less than 1!"
   ]
  },
  {
   "cell_type": "markdown",
   "metadata": {},
   "source": [
    "### 3) Specifying exception classes\n",
    "In previous sections, we displayed messages about errors by printing them ourselves in the except-part of the try-except block. However, we can also create the message inside the exception code using ```__str__```."
   ]
  },
  {
   "cell_type": "code",
   "execution_count": 16,
   "metadata": {},
   "outputs": [],
   "source": [
    "class NotInBoundsError(Exception):\n",
    "    def __str__(self):\n",
    "        return \"Wrong!\"\n",
    "\n",
    "\n",
    "def example_exceptions_4(num):\n",
    "    try:\n",
    "        if not 57 < num < 150:\n",
    "            raise NotInBoundsError\n",
    "        else:\n",
    "            print(num)\n",
    "    except NotInBoundsError as err:\n",
    "        print(err)"
   ]
  },
  {
   "cell_type": "code",
   "execution_count": 17,
   "metadata": {},
   "outputs": [
    {
     "name": "stdout",
     "output_type": "stream",
     "text": [
      "Wrong!\n",
      "58\n"
     ]
    }
   ],
   "source": [
    "example_exceptions_4(46)  # Wrong!\n",
    "example_exceptions_4(58)  # 58"
   ]
  },
  {
   "cell_type": "markdown",
   "metadata": {},
   "source": [
    "What is more, if we raise the exception instead of handling it, the message will still be shown:\n",
    "\n"
   ]
  },
  {
   "cell_type": "code",
   "execution_count": 18,
   "metadata": {},
   "outputs": [
    {
     "ename": "NotInBoundsError",
     "evalue": "Wrong!",
     "output_type": "error",
     "traceback": [
      "\u001b[0;31m---------------------------------------------------------------------------\u001b[0m",
      "\u001b[0;31mNotInBoundsError\u001b[0m                          Traceback (most recent call last)",
      "\u001b[1;32m/home/oh856/P1-REPO/PYTHON/JETBRAIN-PYTHON/python_flask_backend/Frontend/user_defined_expections.ipynb Cell 21\u001b[0m line \u001b[0;36m1\n\u001b[0;32m----> <a href='vscode-notebook-cell:/home/oh856/P1-REPO/PYTHON/JETBRAIN-PYTHON/python_flask_backend/Frontend/user_defined_expections.ipynb#W0sZmlsZQ%3D%3D?line=0'>1</a>\u001b[0m \u001b[39mraise\u001b[39;00m NotInBoundsError\n\u001b[1;32m      <a href='vscode-notebook-cell:/home/oh856/P1-REPO/PYTHON/JETBRAIN-PYTHON/python_flask_backend/Frontend/user_defined_expections.ipynb#W0sZmlsZQ%3D%3D?line=1'>2</a>\u001b[0m \u001b[39m# Traceback (most recent call last):\u001b[39;00m\n\u001b[1;32m      <a href='vscode-notebook-cell:/home/oh856/P1-REPO/PYTHON/JETBRAIN-PYTHON/python_flask_backend/Frontend/user_defined_expections.ipynb#W0sZmlsZQ%3D%3D?line=2'>3</a>\u001b[0m \u001b[39m#    File \"main.py\", line 13, in <module>\u001b[39;00m\n\u001b[1;32m      <a href='vscode-notebook-cell:/home/oh856/P1-REPO/PYTHON/JETBRAIN-PYTHON/python_flask_backend/Frontend/user_defined_expections.ipynb#W0sZmlsZQ%3D%3D?line=3'>4</a>\u001b[0m \u001b[39m#    raise NotInBoundsError\u001b[39;00m\n\u001b[1;32m      <a href='vscode-notebook-cell:/home/oh856/P1-REPO/PYTHON/JETBRAIN-PYTHON/python_flask_backend/Frontend/user_defined_expections.ipynb#W0sZmlsZQ%3D%3D?line=4'>5</a>\u001b[0m \u001b[39m#  NotInBoundsError: Wrong!\u001b[39;00m\n",
      "\u001b[0;31mNotInBoundsError\u001b[0m: Wrong!"
     ]
    }
   ],
   "source": [
    "raise NotInBoundsError\n",
    "# Traceback (most recent call last):\n",
    "#    File \"main.py\", line 13, in <module>\n",
    "#    raise NotInBoundsError\n",
    "#  NotInBoundsError: Wrong!"
   ]
  },
  {
   "cell_type": "markdown",
   "metadata": {},
   "source": [
    "Of course, ```__str__``` is not the only method for specifying your exception. The ```__init__``` is also suitable for working with exceptions. In the LessThanFiveHundredError class below, the ```__init__``` accepts our custom argument num , which is included in the message."
   ]
  },
  {
   "cell_type": "code",
   "execution_count": 19,
   "metadata": {},
   "outputs": [],
   "source": [
    "class LessThanFiveHundredError(Exception):\n",
    "    def __init__(self, num):\n",
    "        self.message = \"The integer %s is below 500!\" % str(num)\n",
    "        super().__init__(self.message)\n",
    "\n",
    "\n",
    "def example_exceptions_5(num):\n",
    "    if num < 500:\n",
    "        raise LessThanFiveHundredError(num)\n",
    "    else:\n",
    "        print(num)"
   ]
  },
  {
   "cell_type": "code",
   "execution_count": 20,
   "metadata": {},
   "outputs": [
    {
     "name": "stdout",
     "output_type": "stream",
     "text": [
      "501\n"
     ]
    },
    {
     "ename": "LessThanFiveHundredError",
     "evalue": "The integer 50 is below 500!",
     "output_type": "error",
     "traceback": [
      "\u001b[0;31m---------------------------------------------------------------------------\u001b[0m",
      "\u001b[0;31mLessThanFiveHundredError\u001b[0m                  Traceback (most recent call last)",
      "\u001b[1;32m/home/oh856/P1-REPO/PYTHON/JETBRAIN-PYTHON/python_flask_backend/Frontend/user_defined_expections.ipynb Cell 24\u001b[0m line \u001b[0;36m3\n\u001b[1;32m      <a href='vscode-notebook-cell:/home/oh856/P1-REPO/PYTHON/JETBRAIN-PYTHON/python_flask_backend/Frontend/user_defined_expections.ipynb#X35sZmlsZQ%3D%3D?line=0'>1</a>\u001b[0m example_exceptions_5(\u001b[39m501\u001b[39m)\n\u001b[1;32m      <a href='vscode-notebook-cell:/home/oh856/P1-REPO/PYTHON/JETBRAIN-PYTHON/python_flask_backend/Frontend/user_defined_expections.ipynb#X35sZmlsZQ%3D%3D?line=1'>2</a>\u001b[0m \u001b[39m# 501\u001b[39;00m\n\u001b[0;32m----> <a href='vscode-notebook-cell:/home/oh856/P1-REPO/PYTHON/JETBRAIN-PYTHON/python_flask_backend/Frontend/user_defined_expections.ipynb#X35sZmlsZQ%3D%3D?line=2'>3</a>\u001b[0m example_exceptions_5(\u001b[39m50\u001b[39;49m)\n\u001b[1;32m      <a href='vscode-notebook-cell:/home/oh856/P1-REPO/PYTHON/JETBRAIN-PYTHON/python_flask_backend/Frontend/user_defined_expections.ipynb#X35sZmlsZQ%3D%3D?line=3'>4</a>\u001b[0m \u001b[39m# Traceback (most recent call last):\u001b[39;00m\n\u001b[1;32m      <a href='vscode-notebook-cell:/home/oh856/P1-REPO/PYTHON/JETBRAIN-PYTHON/python_flask_backend/Frontend/user_defined_expections.ipynb#X35sZmlsZQ%3D%3D?line=4'>5</a>\u001b[0m \u001b[39m#   File \"main.py\", line 15, in <module>\u001b[39;00m\n\u001b[1;32m      <a href='vscode-notebook-cell:/home/oh856/P1-REPO/PYTHON/JETBRAIN-PYTHON/python_flask_backend/Frontend/user_defined_expections.ipynb#X35sZmlsZQ%3D%3D?line=5'>6</a>\u001b[0m \u001b[39m#     example_exceptions_5(50)\u001b[39;00m\n\u001b[1;32m      <a href='vscode-notebook-cell:/home/oh856/P1-REPO/PYTHON/JETBRAIN-PYTHON/python_flask_backend/Frontend/user_defined_expections.ipynb#X35sZmlsZQ%3D%3D?line=6'>7</a>\u001b[0m \u001b[39m#   File \"main.py\", line 10, in example_exceptions_5\u001b[39;00m\n\u001b[1;32m      <a href='vscode-notebook-cell:/home/oh856/P1-REPO/PYTHON/JETBRAIN-PYTHON/python_flask_backend/Frontend/user_defined_expections.ipynb#X35sZmlsZQ%3D%3D?line=7'>8</a>\u001b[0m \u001b[39m#     raise LessThanFiveHundredError(num)\u001b[39;00m\n\u001b[1;32m      <a href='vscode-notebook-cell:/home/oh856/P1-REPO/PYTHON/JETBRAIN-PYTHON/python_flask_backend/Frontend/user_defined_expections.ipynb#X35sZmlsZQ%3D%3D?line=8'>9</a>\u001b[0m \u001b[39m# LessThanFiveHundredError: The integer 50 is below 500!\u001b[39;00m\n",
      "\u001b[1;32m/home/oh856/P1-REPO/PYTHON/JETBRAIN-PYTHON/python_flask_backend/Frontend/user_defined_expections.ipynb Cell 24\u001b[0m line \u001b[0;36m9\n\u001b[1;32m      <a href='vscode-notebook-cell:/home/oh856/P1-REPO/PYTHON/JETBRAIN-PYTHON/python_flask_backend/Frontend/user_defined_expections.ipynb#X35sZmlsZQ%3D%3D?line=6'>7</a>\u001b[0m \u001b[39mdef\u001b[39;00m \u001b[39mexample_exceptions_5\u001b[39m(num):\n\u001b[1;32m      <a href='vscode-notebook-cell:/home/oh856/P1-REPO/PYTHON/JETBRAIN-PYTHON/python_flask_backend/Frontend/user_defined_expections.ipynb#X35sZmlsZQ%3D%3D?line=7'>8</a>\u001b[0m     \u001b[39mif\u001b[39;00m num \u001b[39m<\u001b[39m \u001b[39m500\u001b[39m:\n\u001b[0;32m----> <a href='vscode-notebook-cell:/home/oh856/P1-REPO/PYTHON/JETBRAIN-PYTHON/python_flask_backend/Frontend/user_defined_expections.ipynb#X35sZmlsZQ%3D%3D?line=8'>9</a>\u001b[0m         \u001b[39mraise\u001b[39;00m LessThanFiveHundredError(num)\n\u001b[1;32m     <a href='vscode-notebook-cell:/home/oh856/P1-REPO/PYTHON/JETBRAIN-PYTHON/python_flask_backend/Frontend/user_defined_expections.ipynb#X35sZmlsZQ%3D%3D?line=9'>10</a>\u001b[0m     \u001b[39melse\u001b[39;00m:\n\u001b[1;32m     <a href='vscode-notebook-cell:/home/oh856/P1-REPO/PYTHON/JETBRAIN-PYTHON/python_flask_backend/Frontend/user_defined_expections.ipynb#X35sZmlsZQ%3D%3D?line=10'>11</a>\u001b[0m         \u001b[39mprint\u001b[39m(num)\n",
      "\u001b[0;31mLessThanFiveHundredError\u001b[0m: The integer 50 is below 500!"
     ]
    }
   ],
   "source": [
    "example_exceptions_5(501)\n",
    "# 501\n",
    "example_exceptions_5(50)\n",
    "# Traceback (most recent call last):\n",
    "#   File \"main.py\", line 15, in <module>\n",
    "#     example_exceptions_5(50)\n",
    "#   File \"main.py\", line 10, in example_exceptions_5\n",
    "#     raise LessThanFiveHundredError(num)\n",
    "# LessThanFiveHundredError: The integer 50 is below 500!"
   ]
  },
  {
   "cell_type": "code",
   "execution_count": 29,
   "metadata": {},
   "outputs": [],
   "source": [
    "class WordError(Exception):\n",
    "    def __str__(self) -> str:\n",
    "        return \"Wrong!\"\n",
    "\n",
    "def check_w_letter(word):\n",
    "    for i in word:\n",
    "        if i == \"w\":\n",
    "            raise WordError\n",
    "        else:\n",
    "            return word"
   ]
  },
  {
   "cell_type": "code",
   "execution_count": null,
   "metadata": {},
   "outputs": [],
   "source": [
    "def check_integer(num):\n",
    "     if not 45 < num < 67:\n",
    "            raise NotInBoundsError\n",
    "     else:\n",
    "            print(num)\n",
    "\n",
    "def error_handling(num):\n",
    "    try:\n",
    "        check_integer(num)\n",
    "    except NotInBoundsError as err:\n",
    "        print(err)"
   ]
  },
  {
   "cell_type": "code",
   "execution_count": null,
   "metadata": {},
   "outputs": [],
   "source": [
    "class NegativeSumError(Exception):\n",
    "     def __str__(self) -> str:\n",
    "        return \"Wrong!\" \n",
    "def sum_with_exceptions(a, b):\n",
    "    result = a + b\n",
    "    if result >= 0:\n",
    "        return result\n",
    "    else:\n",
    "        raise NegativeSumError"
   ]
  }
 ],
 "metadata": {
  "kernelspec": {
   "display_name": ".venv",
   "language": "python",
   "name": "python3"
  },
  "language_info": {
   "codemirror_mode": {
    "name": "ipython",
    "version": 3
   },
   "file_extension": ".py",
   "mimetype": "text/x-python",
   "name": "python",
   "nbconvert_exporter": "python",
   "pygments_lexer": "ipython3",
   "version": "3.8.10"
  }
 },
 "nbformat": 4,
 "nbformat_minor": 2
}
