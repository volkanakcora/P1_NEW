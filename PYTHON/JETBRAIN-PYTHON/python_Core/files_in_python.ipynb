{
 "cells": [
  {
   "attachments": {},
   "cell_type": "markdown",
   "metadata": {},
   "source": [
    "# Files in Python\n",
    "\n",
    "Often data for your program comes from the outside in the form of files. We all know what files are, we all use them in our everyday lives so it makes sense to incorporate them in a project. In this topic, you'll learn how to work with external files.\n",
    "\n",
    "The general scheme of working with files is the following: open the file, do what you need with it, then close it. Let's consider these steps in more detail."
   ]
  },
  {
   "attachments": {},
   "cell_type": "markdown",
   "metadata": {},
   "source": [
    "## Open File\n",
    "\n",
    "Before we can try to do anything with a file, we need to open it. Python has a lot of built-in functions for working with files so we don't even need to install or import any modules. To open a file, we can use the built-in function open()."
   ]
  },
  {
   "cell_type": "code",
   "execution_count": null,
   "metadata": {},
   "outputs": [],
   "source": [
    "# example of opening a file\n",
    "my_file = open('my_file.txt')"
   ]
  },
  {
   "attachments": {},
   "cell_type": "markdown",
   "metadata": {},
   "source": [
    "The open() function has one required parameter file which is a path-like object. The path-like object is a str or bytes that represents a path in the file directory. In our example, the file parameter has the value \"my_file.txt\" which means that the file \"my_file.txt\" lies in the current working directory. In this topic, we won't get into details about paths and directories, so we'll just assume that all our example files lie in the current working directory.\n",
    "\n",
    "The object my_file we've just created is a file or file-like object. It just means that we can use different kinds of file methods on this object.\n",
    "\n",
    "The open() function has a number of optional parameters. If you take a look at the official Python documentation, you can learn more about them. In this topic, we'll look at two parameters: mode and encoding."
   ]
  },
  {
   "attachments": {},
   "cell_type": "markdown",
   "metadata": {},
   "source": [
    "## The mode parameter\n",
    "\n",
    "One of the most important optional parameters of the open() function is mode. This parameter regulates how we want to open our file and what for. The following options are available:\n",
    "\n",
    "Access modes\n",
    "\n",
    "'r'\n",
    "\n",
    "Open for reading. If the file doesn't exist, an error occurs.\n",
    "\n",
    "'w'\n",
    "\n",
    "Open for writing. If the file already exists, it will be overwritten.\n",
    "\n",
    "'a'\n",
    "\n",
    "Open for writing. If the file already exists, append to the end of the file.\n",
    "\n",
    "'b'\n",
    "\n",
    "Open in binary mode.\n",
    "\n",
    "'+'\n",
    "\n",
    "Open for updating (reading and writing).\n",
    "\n",
    "'t'\n",
    "\n",
    "Open as a text\n",
    "\n",
    "\n",
    "#### Let's look at the example below.\n",
    "\n"
   ]
  },
  {
   "cell_type": "code",
   "execution_count": 1,
   "metadata": {},
   "outputs": [],
   "source": [
    "my_file_mode = open('my_file.txt', 'w')\n"
   ]
  },
  {
   "attachments": {},
   "cell_type": "markdown",
   "metadata": {},
   "source": [
    "As you can see, we specified the mode parameter right after the name of the file. Now the file is opened for writing.\n",
    "\n",
    "A couple of things need to be said about modes.\n",
    "\n",
    "First of all, by default, files are opened for reading as a text, so the default value of mode is 'r' or, more precisely, 'rt'.\n",
    "\n",
    "Second, as you can see, we can combine modes to do what we need. For example, if we want to open an existing file and be able to read and update it, we should set the mode as 'r+'.\n",
    "\n",
    "Third, we can choose the format in which we want to open files. The main options are text or binary, 't' and 'b' respectively. This corresponds to the difference between str and bytes objects. So, if you want to open a file for writing in binary, the mode should be 'wb'. Note that since text format is the default format, most of the times 't' is omitted."
   ]
  },
  {
   "attachments": {},
   "cell_type": "markdown",
   "metadata": {},
   "source": [
    "Lastly, we should mention an important difference between options 'w' and 'a'. Both these modes are used for writing to a file. The only difference is that 'w' truncates the file before writing to it. In other words, if the file already exists, its contents are deleted. The 'a' behaves differently: if the file exists, anything that we write to it will be simply added to the end of the file. You can differentiate them by a simple word association: 'w' is for write, and 'a' is for append."
   ]
  },
  {
   "attachments": {},
   "cell_type": "markdown",
   "metadata": {},
   "source": [
    "## Encoding\n",
    "The encoding parameter specifies the encoding that should be used to decode or encode the text file. It is needed when we open the file as a text, and the default value depends on the platform. Below are some examples of opening files for reading in different encodings:\n",
    "\n"
   ]
  },
  {
   "cell_type": "code",
   "execution_count": 2,
   "metadata": {},
   "outputs": [],
   "source": [
    "# UTF-8\n",
    "file_utf8 = open('my_file.txt', encoding='utf-8')\n",
    "\n",
    "# UTF-16\n",
    "file_utf16 = open('my_file.txt', encoding='utf-16')\n",
    "\n",
    "# CP1252\n",
    "file_cp1252 = open('my_file.txt', encoding='cp1252')\n",
    "\n",
    "\n"
   ]
  },
  {
   "attachments": {},
   "cell_type": "markdown",
   "metadata": {},
   "source": [
    "You may know that if you're not using the right encoding on your file, the information will not make sense at all. So, if the file you're trying to open looks weird or wrong, sometimes it makes sense to fiddle with this parameter."
   ]
  },
  {
   "attachments": {},
   "cell_type": "markdown",
   "metadata": {},
   "source": [
    "## Closing the file\n",
    "After working with a file, we need to close it. Closing files is extremely important! In most cases, a file will be closed eventually when the program finishes working. However, there is no guarantee for that. In order to ensure the safety of the data, we must make sure that the file is closed in the end. One of the ways to do it is by using the close() method on the file:"
   ]
  },
  {
   "cell_type": "code",
   "execution_count": 3,
   "metadata": {},
   "outputs": [
    {
     "ename": "NameError",
     "evalue": "name 'my_file' is not defined",
     "output_type": "error",
     "traceback": [
      "\u001b[0;31m---------------------------------------------------------------------------\u001b[0m",
      "\u001b[0;31mNameError\u001b[0m                                 Traceback (most recent call last)",
      "Cell \u001b[0;32mIn[3], line 2\u001b[0m\n\u001b[1;32m      1\u001b[0m \u001b[39m# closing the file\u001b[39;00m\n\u001b[0;32m----> 2\u001b[0m my_file\u001b[39m.\u001b[39mclose()\n",
      "\u001b[0;31mNameError\u001b[0m: name 'my_file' is not defined"
     ]
    }
   ],
   "source": [
    "# closing the file\n",
    "my_file.close()"
   ]
  },
  {
   "attachments": {},
   "cell_type": "markdown",
   "metadata": {},
   "source": []
  },
  {
   "cell_type": "code",
   "execution_count": null,
   "metadata": {},
   "outputs": [],
   "source": []
  }
 ],
 "metadata": {
  "kernelspec": {
   "display_name": "Python 3",
   "language": "python",
   "name": "python3"
  },
  "language_info": {
   "codemirror_mode": {
    "name": "ipython",
    "version": 3
   },
   "file_extension": ".py",
   "mimetype": "text/x-python",
   "name": "python",
   "nbconvert_exporter": "python",
   "pygments_lexer": "ipython3",
   "version": "3.11.3"
  },
  "orig_nbformat": 4
 },
 "nbformat": 4,
 "nbformat_minor": 2
}
