{
 "cells": [
  {
   "attachments": {},
   "cell_type": "markdown",
   "metadata": {},
   "source": [
    "# Reading files"
   ]
  },
  {
   "attachments": {},
   "cell_type": "markdown",
   "metadata": {},
   "source": [
    "## Read file\n",
    "\n",
    "To read the file, first we need to open it in the reading mode. Now that the file is opened, how does the actual reading part go? Let's first choose a file that we want to read. So, imagine we have a file called 'animals.txt' that looks like this:\n",
    "\n",
    "Dog\n",
    "Cat\n",
    "Rabbit\n",
    "Sea turtle\n",
    "Penguin\n",
    "To read the file, you can:\n",
    "\n",
    "use the read(size) method;\n",
    "use the readline(size) method;\n",
    "use the readlines() method;\n",
    "iterate over the lines with a for loop.\n",
    "The first three ways are special file object methods while the last one is a general Python loop. Let's go over them one by one.\n"
   ]
  },
  {
   "attachments": {},
   "cell_type": "markdown",
   "metadata": {},
   "source": [
    "## read()\n",
    "read(size) reads the size bytes of a file. If the parameter isn't specified, the whole file is read into a single variable. So, this is what we'll get if we apply it to our file:\n",
    "\n"
   ]
  },
  {
   "cell_type": "code",
   "execution_count": null,
   "metadata": {},
   "outputs": [],
   "source": [
    "file = open('animals.txt', 'r')\n",
    "print(file.read())\n",
    "# The output:\n",
    "# Dog\n",
    "# Cat/Users/volkan/P1-REPO/PYTHON/JETBRAIN-PYTHON/python_Core/open_files.ipynb\n",
    "# Rabbit\n",
    "# Sea turtle\n",
    "# Penguin\n",
    "\n",
    "file.close()"
   ]
  },
  {
   "attachments": {},
   "cell_type": "markdown",
   "metadata": {},
   "source": [
    "## readline()\n",
    "readline(size) is similar to read(size) but it reads size bytes from a single line, not the whole file. Lines in files are separated by newline escape sequences: '\\n', '\\r' or '\\r\\n'. We'll settle on '\\n' in this topic. Yet, keep in mind that this escape sequence depends on your operating system.\n",
    "\n",
    "Let's proceed with our example. The file 'animals.txt' contains 5 lines. Here is what we'll get if we try to read 3 bytes from each line:"
   ]
  },
  {
   "cell_type": "code",
   "execution_count": null,
   "metadata": {},
   "outputs": [],
   "source": [
    "file = open('animals.txt', 'r')\n",
    "print(file.readline(3))\n",
    "print(file.readline(3))\n",
    "print(file.readline(3))\n",
    "print(file.readline(3))\n",
    "print(file.readline(3))\n",
    "print(file.readline(3))\n",
    "\n",
    "# The output:\n",
    "# Dog\n",
    "# \n",
    "# \n",
    "# Cat\n",
    "# \n",
    "# \n",
    "# Rab\n",
    "# bit\n",
    "\n",
    "\n",
    "file.close()"
   ]
  },
  {
   "attachments": {},
   "cell_type": "markdown",
   "metadata": {},
   "source": [
    "## readlines()\n",
    "readlines() allows us to read the whole file as a list of lines. Here's what it looks like:\n",
    "\n"
   ]
  },
  {
   "cell_type": "code",
   "execution_count": null,
   "metadata": {},
   "outputs": [],
   "source": [
    "file = open('animals.txt', 'r')\n",
    "print(file.readlines())\n",
    "# The output:\n",
    "# ['Dog\\n', 'Cat\\n', 'Rabbit\\n', 'Sea turtle\\n', 'Penguin']\n",
    "\n",
    "file.close()"
   ]
  },
  {
   "attachments": {},
   "cell_type": "markdown",
   "metadata": {},
   "source": [
    "## for loop\n",
    "The most efficient way to read the contents of a file is to iterate over its lines with for loop.\n",
    "\n"
   ]
  },
  {
   "cell_type": "code",
   "execution_count": null,
   "metadata": {},
   "outputs": [],
   "source": [
    "file = open('animals.txt', 'r')\n",
    "for line in file:\n",
    "    print(line)\n",
    "\n",
    "# The output:\n",
    "# Dog\n",
    "# \n",
    "# Cat\n",
    "# \n",
    "# Rabbit\n",
    "# \n",
    "# Sea turtle\n",
    "# \n",
    "# Penguin\n",
    "\n",
    "file.close() "
   ]
  },
  {
   "cell_type": "code",
   "execution_count": 8,
   "metadata": {},
   "outputs": [],
   "source": [
    "file = open('hyper.txt')"
   ]
  },
  {
   "cell_type": "code",
   "execution_count": 7,
   "metadata": {},
   "outputs": [],
   "source": [
    "count = 0  \n",
    "for i in file:\n",
    "    print(i)\n",
    "    if i == 'summer':\n",
    "        count =+1\n"
   ]
  },
  {
   "cell_type": "code",
   "execution_count": 12,
   "metadata": {},
   "outputs": [],
   "source": [
    "for i in file:\n",
    "    if i == 'summer':\n",
    "        print(i)"
   ]
  }
 ],
 "metadata": {
  "kernelspec": {
   "display_name": "Python 3",
   "language": "python",
   "name": "python3"
  },
  "language_info": {
   "codemirror_mode": {
    "name": "ipython",
    "version": 3
   },
   "file_extension": ".py",
   "mimetype": "text/x-python",
   "name": "python",
   "nbconvert_exporter": "python",
   "pygments_lexer": "ipython3",
   "version": "3.11.3"
  },
  "orig_nbformat": 4
 },
 "nbformat": 4,
 "nbformat_minor": 2
}
