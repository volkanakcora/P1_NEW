{
 "cells": [
  {
   "attachments": {},
   "cell_type": "markdown",
   "metadata": {},
   "source": [
    "# Theory\n",
    "\n",
    "\n",
    "JSON (or JavaScript Object Notation) is a text-based format for storing and transmitting structured data. It comes from the JavaScript language, but it is still considered to be language-independent: it works with almost any programming language. With JSON's lightweight syntax, you can easily store and send to other apps everything from numbers and strings to arrays and objects. You can also create more complex data structures by linking arrays to each other.\n",
    "\n"
   ]
  },
  {
   "attachments": {},
   "cell_type": "markdown",
   "metadata": {},
   "source": [
    "\n",
    "### Basic syntax and structure\n",
    "JSON text can be built on one of two structures:\n",
    "\n",
    "- a collection of key:value pairs (associative array);\n",
    "\n",
    "- an orderly set of values (array or list).\n",
    "\n",
    "JSON objects are written in curly braces {}, and their key:value pairs are separated by a comma ,. The key and the value in the pair are separated by a colon :. Here is an example for you:"
   ]
  },
  {
   "cell_type": "code",
   "execution_count": 1,
   "metadata": {
    "slideshow": {
     "slide_type": "slide"
    }
   },
   "outputs": [
    {
     "data": {
      "text/plain": [
       "{'first_name': 'Sophie', 'last_name': 'Goodwin', 'age': 34}"
      ]
     },
     "execution_count": 1,
     "metadata": {},
     "output_type": "execute_result"
    }
   ],
   "source": [
    "{\n",
    "    \"first_name\": \"Sophie\",\n",
    "    \"last_name\": \"Goodwin\",\n",
    "    \"age\": 34\n",
    "}"
   ]
  },
  {
   "attachments": {},
   "cell_type": "markdown",
   "metadata": {},
   "source": [
    "Here you can see some user's data in JSON format.\n",
    "\n",
    "Keys in an object are always strings, but values can be any of seven types of values, including another object or array.\n",
    "\n",
    "Note that there is no need to put a comma (,) after the last key:value pair.\n",
    "\n",
    "Arrays are written in square brackets [] and their values are separated by a comma ,. The value in the array, again, can be of any type, including another array or object. Here is an example of an array:"
   ]
  },
  {
   "cell_type": "code",
   "execution_count": 2,
   "metadata": {},
   "outputs": [
    {
     "ename": "NameError",
     "evalue": "name 'false' is not defined",
     "output_type": "error",
     "traceback": [
      "\u001b[0;31m---------------------------------------------------------------------------\u001b[0m",
      "\u001b[0;31mNameError\u001b[0m                                 Traceback (most recent call last)",
      "Cell \u001b[0;32mIn[2], line 1\u001b[0m\n\u001b[0;32m----> 1\u001b[0m [\u001b[39m\"\u001b[39m\u001b[39mnight\u001b[39m\u001b[39m\"\u001b[39m, \u001b[39m\"\u001b[39m\u001b[39mstreet\u001b[39m\u001b[39m\"\u001b[39m, false, [ \u001b[39m345\u001b[39m, \u001b[39m23\u001b[39m, \u001b[39m8\u001b[39m, \u001b[39m\"\u001b[39m\u001b[39mjuice\u001b[39m\u001b[39m\"\u001b[39m], \u001b[39m\"\u001b[39m\u001b[39mfruit\u001b[39m\u001b[39m\"\u001b[39m]\n",
      "\u001b[0;31mNameError\u001b[0m: name 'false' is not defined"
     ]
    }
   ],
   "source": [
    "all = [\"night\", \"street\", false, [ 345, 23, 8, \"juice\"], \"fruit\"]\n"
   ]
  },
  {
   "attachments": {},
   "cell_type": "markdown",
   "metadata": {},
   "source": [
    "# Nested Objects\n",
    "\n",
    "JSON is a highly flexible format. You can nest objects inside other objects as properties:\n",
    "\n"
   ]
  },
  {
   "cell_type": "code",
   "execution_count": null,
   "metadata": {},
   "outputs": [],
   "source": [
    "{\n",
    "  \"persons\": [\n",
    "    {\n",
    "      \"firstName\": \"Whitney\",\n",
    "      \"lastName\": \"Byrd\",\n",
    "      \"age\": 20\n",
    "    },\n",
    "    {\n",
    "      \"firstName\": \"Eugene\",\n",
    "      \"lastName\": \"Lang\",\n",
    "      \"age\": 26\n",
    "    },\n",
    "    {\n",
    "      \"firstName\": \"Sophie\",\n",
    "      \"lastName\": \"Goodwin\",\n",
    "      \"age\": 34\n",
    "    }\n",
    "  ]\n",
    "}\n",
    "\n",
    "#If objects and arrays contain other objects or arrays, the data has a tree-like structure.\n",
    "\n",
    "#The nested objects are fully independent and may have different properties:\n",
    "\n",
    "{\n",
    "  \"persons\": [\n",
    "    {\n",
    "      \"firstName\": \"Whitney\",\n",
    "      \"age\": 20\n",
    "    },\n",
    "    {\n",
    "      \"firstName\": \"Eugene\",\n",
    "      \"lastName\": \"Lang\"\n",
    "    }\n",
    "  ]\n",
    "}\n"
   ]
  },
  {
   "attachments": {},
   "cell_type": "markdown",
   "metadata": {},
   "source": [
    "# camelCase VS snake_case\n",
    "\n",
    "If you have read the JSON objects examples really carefully, you might have a lingering question: what style of compound word writing should be used for JSON?\n",
    "\n",
    "CamelCase is a style where compound words are written together and without spaces, but each word inside the phrase starts with a capital letter. The style is called camelCase because the capital letters inside the word resemble camel's humps.\n",
    "\n",
    "In snake_case style, compound words are written through the bottom underline."
   ]
  },
  {
   "attachments": {},
   "cell_type": "markdown",
   "metadata": {},
   "source": [
    "# The advantages of JSON\n",
    "JSON is a widespread format for data exchange on the Internet because of its strong advantages:\n",
    "\n",
    "compactness;\n",
    "\n",
    "flexibility;\n",
    "\n",
    "high readability, even for people far from programming;\n",
    "\n",
    "most programming languages have functions and libraries for reading and creating JSON structures."
   ]
  }
 ],
 "metadata": {
  "kernelspec": {
   "display_name": "Python 3",
   "language": "python",
   "name": "python3"
  },
  "language_info": {
   "codemirror_mode": {
    "name": "ipython",
    "version": 3
   },
   "file_extension": ".py",
   "mimetype": "text/x-python",
   "name": "python",
   "nbconvert_exporter": "python",
   "pygments_lexer": "ipython3",
   "version": "3.11.3"
  },
  "orig_nbformat": 4
 },
 "nbformat": 4,
 "nbformat_minor": 2
}
