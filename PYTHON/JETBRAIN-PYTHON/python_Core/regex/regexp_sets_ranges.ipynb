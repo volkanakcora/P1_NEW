{
 "cells": [
  {
   "attachments": {},
   "cell_type": "markdown",
   "metadata": {},
   "source": [
    "## Regexp sets and ranges\n",
    "\n",
    "- # Sets\n",
    "\n",
    "While the dot allows us to match almost every possible character, the sets provide us with the opportunity to be more specific in our regexp templates and narrow down the scope of our search. Each set in the regular expression takes the place of exactly one character in the string, but it defines a whole number of characters that can match it. These characters are listed inside the square brackets, []:\n",
    "\n",
    "template = '[bd]a[td]'\n",
    "\n",
    "In the template above, we have two defined sets. The first one corresponds either to a character b or d in the string, the second one — to t or d. Here are the results for some of the possible strings:"
   ]
  },
  {
   "cell_type": "code",
   "execution_count": null,
   "metadata": {},
   "outputs": [],
   "source": [
    "re.match(template, 'bat')  # match\n",
    "re.match(template, 'dad')  # match\n",
    "re.match(template, 'cat')  # no match: 'c' is not in the first set\n",
    "re.match(template, 'dot')  # no match: 'o' instead of 'a'"
   ]
  },
  {
   "attachments": {},
   "cell_type": "markdown",
   "metadata": {},
   "source": [
    "An empty set causes an error:\n",
    "\n"
   ]
  },
  {
   "cell_type": "code",
   "execution_count": null,
   "metadata": {},
   "outputs": [],
   "source": [
    "re.match('c[]at', 'cat')  # sre_constants.error: unexpected end of regular expression\n"
   ]
  },
  {
   "attachments": {},
   "cell_type": "markdown",
   "metadata": {},
   "source": [
    "An unescaped left square bracket, for which no unescaped right square bracket was found, causes the same error:\n",
    "\n"
   ]
  },
  {
   "cell_type": "code",
   "execution_count": null,
   "metadata": {},
   "outputs": [],
   "source": [
    "re.match('[', '[')  # sre_constants.error: unexpected end of regular expression\n"
   ]
  },
  {
   "attachments": {},
   "cell_type": "markdown",
   "metadata": {},
   "source": [
    "By the way, good news, everyone! There is (almost) no need for boring escaping stuff when we use sets in regexp.\n",
    "\n"
   ]
  },
  {
   "attachments": {},
   "cell_type": "markdown",
   "metadata": {},
   "source": [
    "# Escaping in sets\n"
   ]
  },
  {
   "attachments": {},
   "cell_type": "markdown",
   "metadata": {},
   "source": [
    "Sets in regular expressions have a sort of superpower: they automatically \"neutralize\" the metacharacters listed inside the square brackets, turning them into regular characters. This way, the dot and the question mark, for example, do not have to be escaped if they are part of a regexp set:\n",
    "\n"
   ]
  },
  {
   "cell_type": "code",
   "execution_count": null,
   "metadata": {},
   "outputs": [],
   "source": [
    "template = 'Hodor[?.]'\n",
    "re.match(template, 'Hodor?')  # match\n",
    "re.match(template, 'Hodor.')  # match\n",
    "re.match(template, 'Hodor!')  # no match\n"
   ]
  },
  {
   "attachments": {},
   "cell_type": "markdown",
   "metadata": {},
   "source": [
    "The only metacharacters that do not fall under this rule and keep their special status are, predictably, the right square bracket ] and the backslash \\. The right square bracket should be escaped to show that it is a part of the set, not the metacharacter denoting its end:"
   ]
  },
  {
   "cell_type": "code",
   "execution_count": null,
   "metadata": {},
   "outputs": [],
   "source": [
    "template = r'=[\\]]'\n",
    "re.match(template, '=]')  # match\n",
    "\n",
    "template = r'=[)]]'\n",
    "re.match(template, '=]')  # no match\n",
    "re.match(template, '=)]')  # match (the only string this template can match)"
   ]
  },
  {
   "attachments": {},
   "cell_type": "markdown",
   "metadata": {},
   "source": [
    "# Ranges\n",
    "- One of the main things about sets is that you may not only list the characters individually but also use ranges of characters. A range is designated by a dash -. For example, if you want your set to match every letter from a to z, you do not have to list out the whole alphabet, you can simply write [a-z]."
   ]
  },
  {
   "cell_type": "code",
   "execution_count": null,
   "metadata": {},
   "outputs": [],
   "source": [
    "re.match('ja[a-z].', 'jazz')  # match\n",
    "re.match('[A-Z]ill', 'kill')  # no match: [A-Z] matches only uppercase letters\n",
    "re.match('[A-Z]ill', 'Bill')  # match"
   ]
  },
  {
   "cell_type": "code",
   "execution_count": null,
   "metadata": {},
   "outputs": [],
   "source": [
    "re.match('[0-9]', '7')   # match\n",
    "re.match('[0-9]', '07')  # match\n",
    "re.match('[1-9]', '07')  # no match"
   ]
  },
  {
   "cell_type": "code",
   "execution_count": null,
   "metadata": {},
   "outputs": [],
   "source": [
    "re.match('love [a-zA-Z]', 'love U')  # match: [a-zA-Z] matches both uppercase and lowercase\n",
    "re.match('love [a-z!A-Z]', 'love !')  # match: [a-z!A-Z] matches letters and !"
   ]
  },
  {
   "cell_type": "code",
   "execution_count": null,
   "metadata": {},
   "outputs": [],
   "source": [
    "re.match('[A-Z]bermensch', 'Übermensch')  # no match: Ü is not within A-Z range\n",
    "re.match('[À-Ý]bermensch', 'Übermensch')  # match\n",
    "re.match('[À-Ý]bermensch', '×bermensch')  # match: × is within À-Ý range"
   ]
  },
  {
   "cell_type": "code",
   "execution_count": null,
   "metadata": {},
   "outputs": [],
   "source": [
    "re.match('[-1-9]1', '-1')  # match\n",
    "re.match('[1-9-]1', '-1')  # match\n"
   ]
  },
  {
   "attachments": {},
   "cell_type": "markdown",
   "metadata": {},
   "source": [
    "# Exclusion of characters\n",
    "The hat (aka the caret) ^ symbol is also a specific set metacharacter: whenever it is placed as the first character in the set, it makes the set specify the characters you do not want to see in the string. Any character that is not a part of such set will match it:\n",
    "\n"
   ]
  },
  {
   "cell_type": "code",
   "execution_count": 1,
   "metadata": {},
   "outputs": [
    {
     "ename": "NameError",
     "evalue": "name 're' is not defined",
     "output_type": "error",
     "traceback": [
      "\u001b[0;31m---------------------------------------------------------------------------\u001b[0m",
      "\u001b[0;31mNameError\u001b[0m                                 Traceback (most recent call last)",
      "Cell \u001b[0;32mIn[1], line 1\u001b[0m\n\u001b[0;32m----> 1\u001b[0m re\u001b[39m.\u001b[39mmatch(\u001b[39m'\u001b[39m\u001b[39m[^A-Z]ond\u001b[39m\u001b[39m'\u001b[39m, \u001b[39m'\u001b[39m\u001b[39mBond\u001b[39m\u001b[39m'\u001b[39m)  \u001b[39m# no match\u001b[39;00m\n\u001b[1;32m      2\u001b[0m re\u001b[39m.\u001b[39mmatch(\u001b[39m'\u001b[39m\u001b[39mBon[^A-Z]\u001b[39m\u001b[39m'\u001b[39m, \u001b[39m'\u001b[39m\u001b[39mBond\u001b[39m\u001b[39m'\u001b[39m)  \u001b[39m# match\u001b[39;00m\n",
      "\u001b[0;31mNameError\u001b[0m: name 're' is not defined"
     ]
    }
   ],
   "source": [
    "re.match('[^A-Z]ond', 'Bond')  # no match\n",
    "re.match('Bon[^A-Z]', 'Bond')  # match\n"
   ]
  },
  {
   "cell_type": "code",
   "execution_count": null,
   "metadata": {},
   "outputs": [],
   "source": [
    "re.match('[A-Z^]ames', 'James')  # match\n",
    "re.match('[A-Z^]ames', '^ames')  # match"
   ]
  },
  {
   "cell_type": "code",
   "execution_count": 9,
   "metadata": {},
   "outputs": [
    {
     "name": "stdout",
     "output_type": "stream",
     "text": [
      "Suitable!\n"
     ]
    }
   ],
   "source": [
    "import re \n",
    "def is_suitable_name(name):\n",
    "    # Define a regular expression pattern for the criteria\n",
    "    # Use re.match to check if the name matches the pattern\n",
    "    if re.match('[B-N][aeiouAEIOU]*', name):\n",
    "        return True\n",
    "    else:\n",
    "        return False\n",
    "\n",
    "# Get input from the user\n",
    "name = input()\n",
    "# Check if the name is suitable and print the result\n",
    "if is_suitable_name(name):\n",
    "    print(\"Suitable!\")\n"
   ]
  },
  {
   "attachments": {},
   "cell_type": "markdown",
   "metadata": {},
   "source": [
    "- our next task is to write a program that will match hyphenated words, such as:\n",
    "\n",
    "- twenty-one,\n",
    "- long-term\n",
    "- co-worker\n",
    "- well-known\n",
    "\n",
    "\n",
    "It should print True if the word is written with a dash, and False otherwise."
   ]
  },
  {
   "cell_type": "code",
   "execution_count": 15,
   "metadata": {},
   "outputs": [
    {
     "name": "stdout",
     "output_type": "stream",
     "text": [
      "True\n"
     ]
    }
   ],
   "source": [
    "import re\n",
    "\n",
    "def has_hyphen(word):\n",
    "    # Define a regular expression pattern to match words with a hyphen\n",
    "    pattern = r'^[A-Za-z]+-[A-Za-z]+$'\n",
    "    \n",
    "    # Use re.match to check if the word matches the pattern\n",
    "    if re.match(pattern, word):\n",
    "        return True\n",
    "    else:\n",
    "        return False\n",
    "\n",
    "# Get input from the user\n",
    "word = input()\n",
    "\n",
    "# Check if the word has a hyphen and print the result\n",
    "if has_hyphen(word):\n",
    "    print(\"True\")\n",
    "else:\n",
    "    print(\"False\")\n",
    "\n"
   ]
  }
 ],
 "metadata": {
  "kernelspec": {
   "display_name": "Python 3",
   "language": "python",
   "name": "python3"
  },
  "language_info": {
   "codemirror_mode": {
    "name": "ipython",
    "version": 3
   },
   "file_extension": ".py",
   "mimetype": "text/x-python",
   "name": "python",
   "nbconvert_exporter": "python",
   "pygments_lexer": "ipython3",
   "version": "3.11.3"
  },
  "orig_nbformat": 4
 },
 "nbformat": 4,
 "nbformat_minor": 2
}
