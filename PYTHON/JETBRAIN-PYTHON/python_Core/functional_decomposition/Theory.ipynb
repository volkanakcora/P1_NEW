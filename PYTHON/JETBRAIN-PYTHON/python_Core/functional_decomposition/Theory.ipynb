{
 "cells": [
  {
   "cell_type": "markdown",
   "metadata": {},
   "source": [
    "At this point, you already know how to declare functions in Python. This is a very useful skill, no doubt about that, but to make the most of it, we need to know when to declare them. In this topic, we'll see how to decompose the solution of a particular problem into functions.\n",
    "\n"
   ]
  },
  {
   "cell_type": "markdown",
   "metadata": {},
   "source": [
    "# Real-life example\n",
    "\n",
    "- Before we go to the actual decomposing, let's figure out what it is that we want to decompose.\n",
    "\n",
    "Suppose, we are writing a program that simulates an ATM. How do real-life ATMs work? Well, usually a client inserts the card, enters the pin, and, if the pin is correct, performs some operations, for example, withdraws money or deposits money to an account. We can reimagine these actions as parts of a computer program. This is how the algorithm can be described in general:\n",
    "\n",
    "Parse the input data (card and entered pin);\n",
    "Check that the pin is correct;\n",
    "Ask the client what they want to do;\n",
    "If the operation is supported, perform it."
   ]
  },
  {
   "cell_type": "markdown",
   "metadata": {},
   "source": [
    "- Before we program this algorithm, let's settle a few things. Obviously, a real bank has a database that stores all necessary data, like the encrypted correct pin or the current card balance. Here we are creating a very simple version of an ATM, so we're not going to include database checkups. Instead, we will define variables card_pin and card_balance. These variables will represent the correct pin and card balance that we would've gotten from a database.\n",
    "\n",
    "- We also need to determine which operations we'll allow. Let's settle on three: displaying the card balance, adding money to the account and withdrawing money from the account.\n",
    "\n",
    "- "
   ]
  },
  {
   "cell_type": "code",
   "execution_count": null,
   "metadata": {},
   "outputs": [],
   "source": [
    "# operations\n",
    "DEPOSIT = \"DEPOSIT\"\n",
    "WITHDRAW = \"WITHDRAW\"\n",
    "DISPLAY = \"DISPLAY\"\n",
    "\n",
    "# read the data\n",
    "card_number = input(\"Enter card number: \")\n",
    "input_pin = input(\"Enter PIN: \")\n",
    "\n",
    "# card_pin and card_balance are read from the database\n",
    "\n",
    "# check that the pin is correct\n",
    "if card_pin == input_pin:\n",
    "    # ask the client what they want to do\n",
    "    action = input(\"Enter desired action: \")\n",
    "    if action == DEPOSIT:\n",
    "        money = float(input(\"Enter the sum to DEPOSIT: \"))\n",
    "        card_balance += money\n",
    "        print(\"Deposited: $\", money)\n",
    "        print(\"Current balance:\", card_balance)\n",
    "    elif action == WITHDRAW:\n",
    "        money = float(input(\"Enter the sum to WITHDRAW: \"))\n",
    "        card_balance -= money\n",
    "        print(\"Withdrawn: $\", money)\n",
    "        print(\"Current balance:\", card_balance)\n",
    "    elif action == DISPLAY:\n",
    "        print(\"Current balance:\", card_balance)\n",
    "    else:\n",
    "        ...\n",
    "else:\n",
    "    print(\"Incorrect pin!\")"
   ]
  },
  {
   "cell_type": "markdown",
   "metadata": {},
   "source": [
    "As you can see, a lot is going on and it's a bit hard to follow. The main logic is the same we've described above. This code works perfectly fine for our problem and we could leave it like that.\n",
    "\n",
    "However, what if we want this script to work for many users and not just one? What if we want to process other cases and perform other actions, for instance, check if the card is in the database or change the pin? Some parts of this code will be useful, other parts we'll have to comment or delete. We would also need to track all places where we're introducing changes to make sure that everything runs smoothly. Now it starts to sound like we may have a problem with our code. The solution, as you may have guessed, is decomposition."
   ]
  },
  {
   "cell_type": "markdown",
   "metadata": {},
   "source": [
    "# Functional decomposition\n",
    "\n",
    "- Functional decomposition is simply a process of decomposing the problem into several functions. Each function does a particular task and we can perform these functions in a row to get the results we need.\n",
    "\n",
    "- When we look at a problem, we need to think about which actions we may want to repeat multiple times or, alternatively, perform separately. This is how we can get the desired functions. Let's look at our ATM simulation again and figure out which steps can be turned into separate functions.\n",
    "- First, an action that we do frequently is reading the input with a particular message displayed. Second, we perform a certain sequence of actions when the pin is correct, specifically we ask what we should do next. Third, depending on the answer from the client, we either perform certain actions to deposit the sum to the account or withdraw them from the account. And lastly, whatever the action, we always print out the current balance.\n",
    "\n",
    "- Some of these actions can be converted to separate functions to make the program simpler.\n",
    "\n",
    "- Let's go over them step by step. First, let's separate our main operations into functions.\n",
    "\n"
   ]
  },
  {
   "cell_type": "code",
   "execution_count": 1,
   "metadata": {},
   "outputs": [],
   "source": [
    "def deposit_money(amount, card_balance):\n",
    "    \"\"\"Deposit given amount of money to the account.\"\"\"\n",
    "    card_balance += amount\n",
    "    # save new balance to the database\n",
    "    return card_balance\n",
    "\n",
    "\n",
    "def withdraw_money(amount, card_balance):\n",
    "    \"\"\"Withdraw given amount of money from the account.\"\"\"\n",
    "    card_balance -= amount\n",
    "    # save new balance to the database\n",
    "    return card_balance\n",
    "\n"
   ]
  },
  {
   "cell_type": "markdown",
   "metadata": {},
   "source": []
  },
  {
   "cell_type": "markdown",
   "metadata": {},
   "source": [
    "You may have noticed that in the original program we print the current balance regardless of what we've done before. This means that we can also create a separate function that would log everything."
   ]
  },
  {
   "cell_type": "code",
   "execution_count": null,
   "metadata": {},
   "outputs": [],
   "source": [
    "def log_transaction(action, money, card_balance):\n",
    "    if action in ('DEPOSIT', 'WITHDRAW'):\n",
    "        print(action + \": $\", money)\n",
    "    print(\"Current balance:\", card_balance)"
   ]
  },
  {
   "cell_type": "markdown",
   "metadata": {},
   "source": [
    "This function is going to be called after we've done something and will display information about the current balance and the changes that have been made.\n",
    "\n",
    "Next, it makes sense to create a function that would manage these operations:"
   ]
  },
  {
   "cell_type": "code",
   "execution_count": null,
   "metadata": {},
   "outputs": [],
   "source": [
    "def move_money(action, money, card_balance):\n",
    "    if action == 'DEPOSIT':\n",
    "        return deposit_money(money, card_balance)\n",
    "    elif action == 'WITHDRAW':\n",
    "        return withdraw_money(money, card_balance)\n",
    "    elif action == 'DISPLAY':\n",
    "        return card_balance"
   ]
  },
  {
   "cell_type": "markdown",
   "metadata": {},
   "source": [
    "- You can see that this function returns the card balance that we get after our manipulations. This is helpful because, as we've seen before, we always want to know how much money we end up with. The main purpose of this function, however, is to simplify the process of revising the functionality of our program. If we want to add some other action, we just add another option to the if - else statement and specify the function that would carry out this task. Removing is similar.\n",
    "- One important part that we haven't covered yet is getting the information about the money we'll be moving somewhere. We know that we don't need this information for display, but it is necessary for other operations."
   ]
  },
  {
   "cell_type": "code",
   "execution_count": null,
   "metadata": {},
   "outputs": [],
   "source": [
    "def get_amount_of_money(action):\n",
    "    if action == 'DISPLAY':\n",
    "        return 0.0\n",
    "    money = input(\"Enter the sum to \" + action + \": \")\n",
    "    return float(money)"
   ]
  },
  {
   "cell_type": "markdown",
   "metadata": {},
   "source": [
    "At this moment, we only have bits and pieces of our final program. Another important step is creating a function that would put it all together."
   ]
  },
  {
   "cell_type": "code",
   "execution_count": null,
   "metadata": {},
   "outputs": [],
   "source": [
    "def make_transaction(action, card_balance):\n",
    "    money = get_amount_of_money(action)\n",
    "    card_balance = move_money(action, money, card_balance)\n",
    "    log_transaction(action, money, card_balance)"
   ]
  },
  {
   "cell_type": "markdown",
   "metadata": {},
   "source": [
    "# The result\n",
    "- Now, let's rewrite the program above using these functions:\n",
    "\n"
   ]
  },
  {
   "cell_type": "code",
   "execution_count": null,
   "metadata": {},
   "outputs": [],
   "source": [
    "card_number = input(\"Enter card number: \")\n",
    "input_pin = input(\"Enter PIN: \")\n",
    "\n",
    "# card_pin and card_balance are read from the database\n",
    "\n",
    "if card_pin == input_pin:\n",
    "    action = input(\"Enter desired action: \")\n",
    "    make_transaction(action, card_balance)\n",
    "else:\n",
    "    print(\"Incorrect pin!\")"
   ]
  },
  {
   "cell_type": "markdown",
   "metadata": {},
   "source": [
    "That's it! Sure, together with the functions, the code is much bigger, but this provides us with more advantages than disadvantages. We can understand the general direction of the program and can easily introduce changes if needed. Now, for example, if we want to add another action, we just need to define its function and modify the move_money function. We can also easily test separate components since they are determined in separate functions. All in all, our program now is a real functioning program that won't fall apart when we decide to change it a bit."
   ]
  },
  {
   "cell_type": "code",
   "execution_count": null,
   "metadata": {},
   "outputs": [],
   "source": []
  }
 ],
 "metadata": {
  "kernelspec": {
   "display_name": ".venv",
   "language": "python",
   "name": "python3"
  },
  "language_info": {
   "codemirror_mode": {
    "name": "ipython",
    "version": 3
   },
   "file_extension": ".py",
   "mimetype": "text/x-python",
   "name": "python",
   "nbconvert_exporter": "python",
   "pygments_lexer": "ipython3",
   "version": "3.8.10"
  }
 },
 "nbformat": 4,
 "nbformat_minor": 2
}
