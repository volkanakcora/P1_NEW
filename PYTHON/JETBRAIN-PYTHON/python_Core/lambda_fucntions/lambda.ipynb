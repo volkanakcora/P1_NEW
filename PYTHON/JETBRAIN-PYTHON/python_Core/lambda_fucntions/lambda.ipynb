{
 "cells": [
  {
   "attachments": {},
   "cell_type": "markdown",
   "metadata": {},
   "source": [
    "# Lambda functions\n",
    "\n",
    "- Defining a lambda function\n",
    "\n",
    "magine that you want to write a function that takes a number and doubles it. If you already know how to define functions in Python using the def keyword, you will probably write something like this:\n",
    "\n"
   ]
  },
  {
   "cell_type": "code",
   "execution_count": null,
   "metadata": {},
   "outputs": [],
   "source": [
    "def doubler(x):\n",
    "    return 2 * x"
   ]
  },
  {
   "attachments": {},
   "cell_type": "markdown",
   "metadata": {},
   "source": [
    "Well, there is actually another way to define such small functions in Python using the lambda keyword. The following function is completely equivalent to the one defined above:"
   ]
  },
  {
   "cell_type": "code",
   "execution_count": 1,
   "metadata": {},
   "outputs": [
    {
     "data": {
      "text/plain": [
       "<function __main__.<lambda>(x)>"
      ]
     },
     "execution_count": 1,
     "metadata": {},
     "output_type": "execute_result"
    }
   ],
   "source": [
    "lambda x: 2 * x\n"
   ]
  },
  {
   "attachments": {},
   "cell_type": "markdown",
   "metadata": {},
   "source": [
    "This function doesn't have a name and is, therefore, called anonymous. Since in Python anonymous functions are declared with the lambda keyword, they are often referred to as lambda functions.\n",
    "\n",
    "Let's take a look at the syntax in its general form:"
   ]
  },
  {
   "cell_type": "code",
   "execution_count": null,
   "metadata": {},
   "outputs": [],
   "source": [
    "lambda arguments: expression \n"
   ]
  },
  {
   "attachments": {},
   "cell_type": "markdown",
   "metadata": {},
   "source": [
    "A lambda function can take any number of arguments separated by commas, but it must consist of a single expression. This expression is evaluated and the result is returned. Note that you do not need the return statement here."
   ]
  },
  {
   "cell_type": "code",
   "execution_count": null,
   "metadata": {},
   "outputs": [],
   "source": [
    "lambda x, y: (x + y) % 2\n"
   ]
  },
  {
   "attachments": {},
   "cell_type": "markdown",
   "metadata": {},
   "source": [
    " - In case you want to put a condition in some lambda function, you'll have to use the so-called ternary operator first_alternative if condition else second_alternative:"
   ]
  },
  {
   "cell_type": "code",
   "execution_count": null,
   "metadata": {},
   "outputs": [],
   "source": [
    "# Yes\n",
    "lambda x: 'even' if x % 2 == 0 else 'odd'\n",
    "\n",
    "# No\n",
    "lambda x:\n",
    "    if x % 2 == 0:\n",
    "        return 'even'\n",
    "    else:\n",
    "        return 'odd'"
   ]
  },
  {
   "attachments": {},
   "cell_type": "markdown",
   "metadata": {},
   "source": [
    "# 2) Invoking a lambda function\n",
    "Alright, but how do we call such a function if it does not have a name?\n",
    "\n",
    "Python syntax allows us to do so by enclosing the function in brackets and passing arguments right away:"
   ]
  },
  {
   "cell_type": "code",
   "execution_count": null,
   "metadata": {},
   "outputs": [],
   "source": [
    "(lambda x, y: (x + y) % 2)(1, 5)\n",
    "# The output is 0"
   ]
  },
  {
   "attachments": {},
   "cell_type": "markdown",
   "metadata": {},
   "source": [
    "Alternatively, it is also possible to assign a function object to a variable:\n",
    "\n"
   ]
  },
  {
   "cell_type": "code",
   "execution_count": 2,
   "metadata": {},
   "outputs": [
    {
     "data": {
      "text/plain": [
       "1"
      ]
     },
     "execution_count": 2,
     "metadata": {},
     "output_type": "execute_result"
    }
   ],
   "source": [
    "func = lambda x, y: (x + y) % 2\n",
    "func(1, 10)\n",
    "# The output is 1\n"
   ]
  },
  {
   "attachments": {},
   "cell_type": "markdown",
   "metadata": {},
   "source": [
    "# 3) When is it useful?\n"
   ]
  },
  {
   "attachments": {},
   "cell_type": "markdown",
   "metadata": {},
   "source": [
    "You might have noticed already that the function from our example above is fully equivalent to a 'normal' function defined as follows:"
   ]
  },
  {
   "cell_type": "code",
   "execution_count": null,
   "metadata": {},
   "outputs": [],
   "source": [
    "def my_func(x, y):\n",
    "    return (x + y) % 2"
   ]
  },
  {
   "attachments": {},
   "cell_type": "markdown",
   "metadata": {},
   "source": [
    "But if we can always use a normal function instead, why are lambda functions useful?\n",
    "\n",
    "Well, lambda functions are handy, for example, when you use them in combination with another function. Take a look at the following example:"
   ]
  },
  {
   "cell_type": "code",
   "execution_count": 3,
   "metadata": {},
   "outputs": [],
   "source": [
    "def create_function(n):\n",
    "    return lambda x: n * x\n",
    "\n",
    "# Creating a function that doubles its argument\n",
    "doubler = create_function(2)\n",
    "\n",
    "# This function will triple its argument\n",
    "tripler = create_function(3)\n",
    "\n",
    "doubler(2)\n",
    "# Outputs 4\n",
    "\n",
    "tripler(2)\n",
    "# Outputs 6"
   ]
  },
  {
   "cell_type": "code",
   "execution_count": 4,
   "metadata": {},
   "outputs": [
    {
     "data": {
      "text/plain": [
       "<function __main__.create_function.<locals>.<lambda>(x)>"
      ]
     },
     "execution_count": 4,
     "metadata": {},
     "output_type": "execute_result"
    }
   ],
   "source": []
  }
 ],
 "metadata": {
  "kernelspec": {
   "display_name": "base",
   "language": "python",
   "name": "python3"
  },
  "language_info": {
   "codemirror_mode": {
    "name": "ipython",
    "version": 3
   },
   "file_extension": ".py",
   "mimetype": "text/x-python",
   "name": "python",
   "nbconvert_exporter": "python",
   "pygments_lexer": "ipython3",
   "version": "3.11.4"
  },
  "orig_nbformat": 4
 },
 "nbformat": 4,
 "nbformat_minor": 2
}
