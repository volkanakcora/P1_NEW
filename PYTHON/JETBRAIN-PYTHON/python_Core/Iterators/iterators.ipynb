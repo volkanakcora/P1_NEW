{
 "cells": [
  {
   "attachments": {},
   "cell_type": "markdown",
   "metadata": {},
   "source": [
    "# Iterators\n",
    "\n",
    "- Iterables and iterators\n",
    "\n",
    "In Python, we call any object we can loop over an iterable. Very common examples of iterable objects are lists, strings, and dictionaries.\n",
    "\n",
    "Iterables in Python implement the __iter__() method that returns an iterator, an object that traverses an iterable and returns its elements one by one. Iterators represent a stream of data. They implement the __next__() method, which returns the items of an iterable one by one.\n",
    "\n",
    "You can create an iterator passing an iterable to the built-in iter() function.\n",
    "\n",
    "\n"
   ]
  },
  {
   "cell_type": "code",
   "execution_count": null,
   "metadata": {},
   "outputs": [],
   "source": [
    "# This is a list...\n",
    "my_list = [1, 2, 3]\n",
    "\n",
    "# ... and this is how we create an iterator from it\n",
    "my_iterator = iter(my_list)\n",
    "print(my_iterator)\n",
    "\n",
    "# <list_iterator object at 0x000001F06D792B70>\n"
   ]
  },
  {
   "attachments": {},
   "cell_type": "markdown",
   "metadata": {},
   "source": [
    "Each time you want to get the actual values, you need to pass iterator to the next() function:\n",
    "\n"
   ]
  },
  {
   "cell_type": "code",
   "execution_count": null,
   "metadata": {},
   "outputs": [],
   "source": [
    "print(next(my_iterator))\n",
    "# 1\n",
    "\n",
    "print(next(my_iterator))\n",
    "# 2\n",
    "\n",
    "print(next(my_iterator))\n",
    "# 3\n",
    "\n",
    "print(next(my_iterator))\n",
    "# StopIteration exception\n",
    "\n",
    "# Note that when we call next() for the fourth time, we get a \n",
    "# StopIterationexception. It's because our list contains just three elements, and iterator can only pass them once."
   ]
  },
  {
   "attachments": {},
   "cell_type": "markdown",
   "metadata": {},
   "source": [
    "But do you always have to call next() manually? Not if you create and use iterators in for loop statements using the following syntax:"
   ]
  },
  {
   "cell_type": "code",
   "execution_count": null,
   "metadata": {},
   "outputs": [],
   "source": [
    "for item in iterable:\n",
    "    ..."
   ]
  },
  {
   "attachments": {},
   "cell_type": "markdown",
   "metadata": {},
   "source": [
    "Python for loop will automatically create an iterator from a given iterable and get its elements one by one with the help of the next method until the iterable is exhausted. Thus, to print out the elements of my_list defined above, we can simply write the following:"
   ]
  },
  {
   "cell_type": "code",
   "execution_count": null,
   "metadata": {},
   "outputs": [],
   "source": [
    "for item in my_list:\n",
    "    print(item)\n",
    "\n",
    "# 1\n",
    "# 2\n",
    "# 3"
   ]
  },
  {
   "attachments": {},
   "cell_type": "markdown",
   "metadata": {},
   "source": [
    "# 2) zip()\n"
   ]
  },
  {
   "cell_type": "code",
   "execution_count": null,
   "metadata": {},
   "outputs": [],
   "source": [
    "first_names = ['John', 'Anna', 'Tom']\n",
    "last_names = ['Smith', 'Williams', 'Davis']\n",
    "\n",
    "for name, last_name in zip(first_names, last_names):\n",
    "    print(name, last_name)\n",
    "\n",
    "# John Smith\n",
    "# Anna Williams\n",
    "# Tom Davis"
   ]
  },
  {
   "cell_type": "code",
   "execution_count": null,
   "metadata": {},
   "outputs": [],
   "source": [
    "short_list = [1, 2, 3]\n",
    "long_list = [10, 20, 30, 40]\n",
    "\n",
    "for a, b in zip(short_list, long_list):\n",
    "    print(a, b)\n",
    "\n",
    "# 1 10\n",
    "# 2 20\n",
    "# 3 30"
   ]
  },
  {
   "attachments": {},
   "cell_type": "markdown",
   "metadata": {},
   "source": [
    "if you set strict=true, then it will fail when one of the argument is exhausted before the others"
   ]
  },
  {
   "cell_type": "code",
   "execution_count": null,
   "metadata": {},
   "outputs": [],
   "source": [
    "my_pets = ['Pistachio', 'Fluffy', 'Emperor']\n",
    "your_pets = ['Claws', 'Grumpy', 'Mr. Cat', 'Naughty', 'Blue Paws']\n",
    "\n",
    "for pet1, pet2 in zip(my_pets, your_pets):\n",
    "    print(pet1, pet2)\n",
    "\n",
    "# Pistachio Claws\n",
    "# Fluffy Grumpy\n",
    "# Emperor Mr. Cat\n",
    "\n",
    "for pet1, pet2 in zip(my_pets, your_pets, strict=True):\n",
    "    print(pet1, pet2)\n",
    "\n",
    "# Pistachio Claws\n",
    "# Fluffy Grumpy\n",
    "# Emperor Mr. Cat\n",
    "\n",
    "Traceback (most recent call last):\n",
    "   File \"<pyshell#4>\", line 1, in <module>\n",
    "     for pet1, pet2 in zip(my_pets, your_pets, strict=True):\n",
    " ValueError: zip() argument 2 is longer than argument 1"
   ]
  },
  {
   "attachments": {},
   "cell_type": "markdown",
   "metadata": {},
   "source": [
    "# 3) enumerate()\n",
    "\n",
    "Another very useful tool is the built-in enumerate() function, which takes an iterable and returns its elements one by one along with their indexes"
   ]
  },
  {
   "cell_type": "code",
   "execution_count": 1,
   "metadata": {},
   "outputs": [
    {
     "name": "stdout",
     "output_type": "stream",
     "text": [
      "1 Jan\n",
      "2 Feb\n",
      "3 Mar\n",
      "4 Apr\n",
      "5 May\n",
      "6 Jun\n",
      "7 Jul\n",
      "8 Aug\n",
      "9 Sep\n",
      "10 Oct\n",
      "11 Nov\n",
      "12 Dec\n"
     ]
    }
   ],
   "source": [
    "months_list = ['Jan', 'Feb', 'Mar', 'Apr', 'May', 'Jun', \n",
    "               'Jul', 'Aug', 'Sep', 'Oct', 'Nov', 'Dec']\n",
    "\n",
    "for n, month in enumerate(months_list):\n",
    "    print(n + 1, month)\n",
    "\n",
    "# 1 Jan\n",
    "# 2 Feb\n",
    "# 3 Mar\n",
    "# 4 Apr\n",
    "# 5 May\n",
    "# 6 Jun\n",
    "# etc."
   ]
  },
  {
   "cell_type": "code",
   "execution_count": null,
   "metadata": {},
   "outputs": [],
   "source": [
    "'Note that by default the counter starts at 0, but you can actually explicitly specify any starting point:'\n",
    "\n",
    "for n, month in enumerate(months_list, start=1):\n",
    "    print(n, month)\n",
    "\n",
    "# 1 Jan\n",
    "# 2 Feb\n",
    "# 3 Mar\n",
    "# etc."
   ]
  },
  {
   "attachments": {},
   "cell_type": "markdown",
   "metadata": {},
   "source": []
  }
 ],
 "metadata": {
  "kernelspec": {
   "display_name": "base",
   "language": "python",
   "name": "python3"
  },
  "language_info": {
   "codemirror_mode": {
    "name": "ipython",
    "version": 3
   },
   "file_extension": ".py",
   "mimetype": "text/x-python",
   "name": "python",
   "nbconvert_exporter": "python",
   "pygments_lexer": "ipython3",
   "version": "3.11.4"
  },
  "orig_nbformat": 4
 },
 "nbformat": 4,
 "nbformat_minor": 2
}
