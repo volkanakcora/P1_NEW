{
 "cells": [
  {
   "attachments": {},
   "cell_type": "markdown",
   "metadata": {},
   "source": [
    "# Files\n",
    "\n",
    "### Introduction\n",
    "- Data is stored on disks under certain addresses. For a computer, such addresses are numbers. It uses them to find the corresponding information. However, humans are not that good at memorizing sets of numbers. It's much easier for us to name our data, for example, family photo, November report, and so on. Therefore, the concept of a file was invented: in a file, one can store some information under a user-friendly name. Let's take a closer look at what files are."
   ]
  },
  {
   "attachments": {},
   "cell_type": "markdown",
   "metadata": {},
   "source": [
    "\n",
    "# Dictionary\n",
    "\n",
    "## Theory\n",
    "\n",
    "Imagine that you're a birdwatcher sitting in the park and counting birds that you see. You've observed a dozen pigeons, 5 sparrows, and even one red crossbill! Now, suppose that you want to store these observations for later use. You need to remember exactly how many birds of each kind you've seen. So, a simple list with numbers won't do because you won't be able to tell which number refers to which bird. You need a data type that can associate one thing with another: in our case, the name of the bird with the number of observations.\n",
    "\n",
    "Luckily, Python has such a type — dictionary (dict). You can picture a real dictionary — a large book with definitions for a lot of words. The definition contains two parts: the word itself (let's call it a key) and the definition for it (a value). In our birdwatcher example, the keys are names of the birds (\"pigeon\", \"sparrow\", and \"red crossbill\") and the values are how many birds of that kind we've seen (12, 5 and 1, respectively).\n",
    "\n",
    "In programming, dictionaries work in a similar way: if we want to store an object, we need to select some key for it and put our object as a value for that key into our dictionary."
   ]
  },
  {
   "attachments": {},
   "cell_type": "markdown",
   "metadata": {},
   "source": [
    "## Dictionary creation\n",
    "- A dictionary consists of a collection of key-value pairs. Each key-value pair maps the key to its associated value. If you already know the values needed, then the easiest way to create a dictionary is to use the curly braces with a comma-separated list of key: value pairs. If you want to create an empty dictionary, you can do so with the help of curly braces as well. Note that values in a dictionary can be of different types."
   ]
  },
  {
   "cell_type": "code",
   "execution_count": 1,
   "metadata": {},
   "outputs": [
    {
     "name": "stdout",
     "output_type": "stream",
     "text": [
      "<class 'dict'>\n",
      "<class 'dict'>\n",
      "<class 'dict'>\n"
     ]
    }
   ],
   "source": [
    "birds = {\"pigeon\": 12, \"sparrow\": 5, \"red crossbill\": 1}\n",
    "prices = {'espresso': 5.0, 'americano': 8.0, 'latte': 10, 'pastry': 'various prices'}\n",
    "empty_dict = {}\n",
    "\n",
    "print(type(birds))  # <class 'dict'>\n",
    "print(type(prices))  # <class 'dict'>\n",
    "print(type(empty_dict))  # <class 'dict'>"
   ]
  },
  {
   "attachments": {},
   "cell_type": "markdown",
   "metadata": {},
   "source": [
    "##### Another way to create a dictionary is to use the dict constructor.\n"
   ]
  },
  {
   "cell_type": "code",
   "execution_count": 2,
   "metadata": {},
   "outputs": [
    {
     "name": "stdout",
     "output_type": "stream",
     "text": [
      "<class 'dict'>\n"
     ]
    }
   ],
   "source": [
    "another_empty_dict = dict()  # using the dict constructor\n",
    "\n",
    "print(type(another_empty_dict))  # <class 'dict'>"
   ]
  },
  {
   "attachments": {},
   "cell_type": "markdown",
   "metadata": {},
   "source": [
    "When creating a non-empty dictionary, a dict constructor can take a dictionary as an argument, and / or future dictionary keys as arguments with assigned values, as in the example:"
   ]
  },
  {
   "cell_type": "code",
   "execution_count": 3,
   "metadata": {},
   "outputs": [
    {
     "name": "stdout",
     "output_type": "stream",
     "text": [
      "{'espresso': 5.0, 'americano': 8.0, 'latte': 10, 'pastry': 'various prices'}\n"
     ]
    }
   ],
   "source": [
    "# note that the future dictionary keys are listed without quotes\n",
    "prices_with_constr = dict({'espresso': 5.0}, americano=8.0, latte=10, pastry='various prices')\n",
    "\n",
    "print(prices_with_constr)  # {'espresso': 5.0, 'americano': 8.0, 'latte': 10, 'pastry': 'various prices'}"
   ]
  },
  {
   "attachments": {},
   "cell_type": "markdown",
   "metadata": {},
   "source": [
    "When we give the dict constructor dictionary keys with assigned values, as dict(americano=8.0), the left part of the expression is treated as a variable. In contrast to the use of curly braces, in which you can use integers as keys, keys in the dict constructor can't be an integer, a string in quotes, a list, a multiword expression, etc. That is, the following lines will give you an error:"
   ]
  },
  {
   "cell_type": "code",
   "execution_count": 4,
   "metadata": {},
   "outputs": [
    {
     "ename": "SyntaxError",
     "evalue": "expression cannot contain assignment, perhaps you meant \"==\"? (4114910419.py, line 1)",
     "output_type": "error",
     "traceback": [
      "\u001b[0;36m  Cell \u001b[0;32mIn[4], line 1\u001b[0;36m\u001b[0m\n\u001b[0;31m    d1 = dict(888=8.0)\u001b[0m\n\u001b[0m              ^\u001b[0m\n\u001b[0;31mSyntaxError\u001b[0m\u001b[0;31m:\u001b[0m expression cannot contain assignment, perhaps you meant \"==\"?\n"
     ]
    }
   ],
   "source": [
    "d1 = dict(888=8.0)\n",
    "d2 = dict(\"americano\"=8.0)\n",
    "d3 = dict([\"americano\", \"filter\"]=8.0)\n",
    "d4 = dict(the best americano=8.0)"
   ]
  },
  {
   "attachments": {},
   "cell_type": "markdown",
   "metadata": {},
   "source": [
    "Overall, the curly braces and the dict constructor are interchangeable, just mind the feature given above.\n",
    "\n",
    "Finally, you can create a nested dictionary. It's a collection of dictionaries inside one single dictionary."
   ]
  },
  {
   "cell_type": "code",
   "execution_count": 5,
   "metadata": {},
   "outputs": [],
   "source": [
    "# a nested dictionary example\n",
    "my_pets = {'dog': {'name': 'Dolly', 'breed': 'collie'},\n",
    "           'cat': {'name': 'Fluffy', 'breed': 'maine coon'}}\n",
    "\n",
    "# another nested dictionary example\n",
    "# note that keys of the outer dictionary are numbers\n",
    "digits = {1: {'Word': 'one', 'Roman': 'I'}, \n",
    "          2: {'Word': 'two', 'Roman': 'II'}, \n",
    "          3: {'Word': 'three', 'Roman': 'III'}, \n",
    "          4: {'Word': 'four', 'Roman': 'IV'}, \n",
    "          5: {'Word': 'five', 'Roman': 'V'}}"
   ]
  },
  {
   "attachments": {},
   "cell_type": "markdown",
   "metadata": {},
   "source": [
    "## Accessing the items\n",
    "The syntax for accessing an item is quite simple — dictionary name followed by a key in square brackets []. This approach works both for adding objects to a dictionary and for reading them from there:\n"
   ]
  },
  {
   "cell_type": "code",
   "execution_count": null,
   "metadata": {},
   "outputs": [],
   "source": [
    "my_pet = {}\n",
    "\n",
    "# add 3 keys and their values into the dictionary\n",
    "my_pet['name'] = 'Dolly'\n",
    "my_pet['animal'] = 'dog'\n",
    "my_pet['breed'] = 'collie'\n",
    "\n",
    "print(my_pet)  # {'name': 'Dolly', 'animal': 'dog', 'breed': 'collie'}\n",
    "\n",
    "# get information from the dictionary about an added item\n",
    "print(my_pet['name'])  # Dolly"
   ]
  },
  {
   "attachments": {},
   "cell_type": "markdown",
   "metadata": {},
   "source": [
    "When working with a nested dictionary, getting the right value may be a little harder. As in our example, there are different levels and you need to stop at the right depth."
   ]
  },
  {
   "cell_type": "code",
   "execution_count": 6,
   "metadata": {},
   "outputs": [
    {
     "name": "stdout",
     "output_type": "stream",
     "text": [
      "{'name': 'Fluffy', 'breed': 'maine coon'}\n",
      "maine coon\n"
     ]
    }
   ],
   "source": [
    "# our nested dictionary once again:\n",
    "my_pets = {'dog': {'name': 'Dolly', 'breed': 'collie'},\n",
    "           'cat': {'name': 'Fluffy', 'breed': 'maine coon'}}\n",
    "\n",
    "print(my_pets['cat'])  # {'name': 'Fluffy', 'breed': 'maine coon'}\n",
    "\n",
    "print(my_pets['cat']['breed'])  # maine coon"
   ]
  },
  {
   "attachments": {},
   "cell_type": "markdown",
   "metadata": {},
   "source": [
    "# Choosing the keys\n",
    "\n",
    "You can save objects of any type in a dictionary, but not all of them qualify as a key. You need a good, unique key for each object in your collection. Still, this is not the only restriction on dictionary keys and we will cover them later. For now, safely use numbers and strings.\n",
    "\n",
    "If a key has already been added to your dictionary, its old value will be overwritten:\n",
    "\n"
   ]
  },
  {
   "cell_type": "code",
   "execution_count": 7,
   "metadata": {},
   "outputs": [
    {
     "name": "stdout",
     "output_type": "stream",
     "text": [
      "Star Wars\n",
      "A New Hope\n"
     ]
    }
   ],
   "source": [
    "trilogy = {'IV': 'Star Wars', 'V': 'The Empire Strikes Back', 'VI': 'Return of the Jedi'}\n",
    "print(trilogy['IV'])  # Star Wars\n",
    "\n",
    "trilogy['IV'] = 'A New Hope'\n",
    "print(trilogy['IV'])  # A New Hope\n"
   ]
  },
  {
   "attachments": {},
   "cell_type": "markdown",
   "metadata": {},
   "source": [
    "- In Python 3.7 and up, dictionaries do maintain the insertion order for values they store, but in previous versions it is not necessarily so:\n",
    "\n"
   ]
  },
  {
   "cell_type": "code",
   "execution_count": 8,
   "metadata": {},
   "outputs": [
    {
     "name": "stdout",
     "output_type": "stream",
     "text": [
      "{'alpha': 1, 'beta': 2}\n"
     ]
    }
   ],
   "source": [
    "alphabet = {}\n",
    "alphabet['alpha'] = 1\n",
    "alphabet['beta'] = 2\n",
    "\n",
    "print(alphabet)\n",
    "# Python 3.8 output: {'alpha': 1, 'beta': 2}\n"
   ]
  }
 ],
 "metadata": {
  "kernelspec": {
   "display_name": "Python 3",
   "language": "python",
   "name": "python3"
  },
  "language_info": {
   "codemirror_mode": {
    "name": "ipython",
    "version": 3
   },
   "file_extension": ".py",
   "mimetype": "text/x-python",
   "name": "python",
   "nbconvert_exporter": "python",
   "pygments_lexer": "ipython3",
   "version": "3.11.3"
  },
  "orig_nbformat": 4
 },
 "nbformat": 4,
 "nbformat_minor": 2
}
