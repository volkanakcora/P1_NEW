{
 "cells": [
  {
   "attachments": {},
   "cell_type": "markdown",
   "metadata": {},
   "source": [
    "# Packages\n",
    "When our code gets longer, it becomes very difficult to maintain and keep track of all the modules included. In order to make the code more organized, we can resort to packages. In this topic, we'll learn what they are and how to use them correctly.\n",
    "\n"
   ]
  },
  {
   "attachments": {},
   "cell_type": "markdown",
   "metadata": {},
   "source": [
    "Package definition and structure\n",
    "A package is a way of structuring modules hierarchically with the help of the so-called \"dotted module names\". Thus the module name sun.moon designates a submodule named \"moon\" in a package named \"sun\".\n",
    "\n",
    "The possible structure might be the following:\n",
    "\n",
    "package/                           # first we name the main or top-level package\n",
    "            __init__.py            # this directory should be treated as a package\n",
    "            subpackage/            # we can add subpackage with extra modules\n",
    "                  __init__.py      # this directory should be treated as a subpackage\n",
    "                   artificial.py\n",
    "                   amateurs.py\n",
    "                   ...\n",
    "            subpackage2/                  \n",
    "                  __init__.py\n",
    "                  amazing.py\n",
    "                  animate.py\n",
    "                  barriers.py\n",
    "                  ..."
   ]
  },
  {
   "attachments": {},
   "cell_type": "markdown",
   "metadata": {},
   "source": [
    "Importing and referencing packages\n",
    "Let us suppose we’d like to import a specific module from the package. There are two ways to import the \"artificial\" submodule from the subpackage:\n",
    "\n",
    "from package.subpackage import artificial \n",
    "This method allows us to use the submodule content without naming the package and subpackage:\n",
    "\n",
    "artificial.function(arg1, arg2)\n",
    "The second method is more straightforward:\n",
    "\n",
    "import package.subpackage.artificial      \n",
    "After we’ve loaded the submodule in such a way, its content should be referenced with its full name:\n",
    "\n",
    "package.subpackage.artificial.function(arg1, arg2)\n",
    "Apart from that, it’s possible to import a particular function from the submodule:\n",
    "\n",
    "from package.subpackage.artificial import function\n",
    "After that, you can address the function() directly, without specifying the full path to a module.\n",
    "\n",
    "The method of importing modules depends on your current program and needs. The main rule is readability!"
   ]
  },
  {
   "attachments": {},
   "cell_type": "markdown",
   "metadata": {},
   "source": [
    "# Import * from …: advantages and disadvantages\n",
    "You can also use from package.subpackage import *. This code will import all the submodules that your subpackage has, although you might not really need that. Moreover, it is really time-consuming and considered to be a bad practice. How can we manage these side-effects?\n",
    "\n",
    "The major thing to do is to provide the package with a particular index with the help of __all__ statement that should be inserted into __init__.py file. There you want to list the submodules to be imported while from package import * operation is executed.\n",
    "\n",
    "__all__ = [\"submodule1\", \"submodule10\"]"
   ]
  }
 ],
 "metadata": {
  "language_info": {
   "name": "python"
  },
  "orig_nbformat": 4
 },
 "nbformat": 4,
 "nbformat_minor": 2
}
