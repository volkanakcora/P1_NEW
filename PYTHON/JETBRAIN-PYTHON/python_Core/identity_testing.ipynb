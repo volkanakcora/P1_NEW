{
 "cells": [
  {
   "attachments": {},
   "cell_type": "markdown",
   "metadata": {},
   "source": [
    "# Identity testing\n",
    "\n",
    "By now, you know how to work with values in Python. For example, you know how to perform arithmetic operations with numbers. But what is a value in Python? It can't be an abstract thing, like in math, because a computer should be able to work with it. In this topic, you will get some understanding of values in Python\n",
    "\n",
    "\n",
    "\n",
    "\n",
    "\n",
    "Many copies of equal values\n",
    "Equal values in Python can exist in many copies. Consider the following code:"
   ]
  },
  {
   "cell_type": "code",
   "execution_count": 1,
   "metadata": {},
   "outputs": [
    {
     "name": "stdout",
     "output_type": "stream",
     "text": [
      "[1, 2, 3]\n",
      "[1, 2, 3]\n",
      "[1, 2, 3]\n"
     ]
    }
   ],
   "source": [
    "\n",
    "a = [1, 2, 3]\n",
    "b = [1, 2, 3]\n",
    "c = a\n",
    "\n",
    "print(a)  # [1, 2, 3]\n",
    "print(b)  # [1, 2, 3]\n",
    "print(c)  # [1, 2, 3]"
   ]
  },
  {
   "attachments": {},
   "cell_type": "markdown",
   "metadata": {},
   "source": [
    "It looks like all these variables are the same. But they aren't in some sense. To see it let's modify the list a."
   ]
  },
  {
   "cell_type": "code",
   "execution_count": 3,
   "metadata": {},
   "outputs": [
    {
     "name": "stdout",
     "output_type": "stream",
     "text": [
      "[5, 2, 3]\n",
      "[1, 2, 3]\n",
      "[5, 2, 3]\n"
     ]
    }
   ],
   "source": [
    "a = [1, 2, 3]\n",
    "b = [1, 2, 3]\n",
    "c = a\n",
    "\n",
    "a[0] = 5\n",
    "\n",
    "print(a)  # [5, 2, 3] - changed\n",
    "print(b)  # [1, 2, 3] - didn't change\n",
    "print(c)  # [5, 2, 3] - also changed"
   ]
  },
  {
   "attachments": {},
   "cell_type": "markdown",
   "metadata": {},
   "source": [
    "The reason is that we created two copies of [1, 2, 3]. Variables a and c refer to the first copy, and b refers to the second copy. Changing one of them doesn't affect the other one.\n",
    "\n",
    "We call these copies as objects. An object is stored in memory and contains information about an abstract value it represents. So there can be several objects that represent the same value. You can treat such objects as twins. At first glance, they look identical, but actually, they are different people.\n",
    "\n",
    "Let's see how to distinguish twins in Python."
   ]
  },
  {
   "attachments": {},
   "cell_type": "markdown",
   "metadata": {},
   "source": [
    "# Id function\n",
    "Each object in Python has an associated integer called identity. You can get this integer by passing the object to the function id. Numbers, strings and other primitive types are also objects and they have an identity too. Identity never changes during the life of the object. Different objects in memory have different identities.\n",
    "\n",
    "Using it we can distinguish two objects in Python that contain the same value. It is similar to distinguishing twins by looking at their identity documents."
   ]
  },
  {
   "cell_type": "code",
   "execution_count": 7,
   "metadata": {},
   "outputs": [
    {
     "name": "stdout",
     "output_type": "stream",
     "text": [
      "True\n",
      "4383123328\n",
      "4388138048\n"
     ]
    }
   ],
   "source": [
    "a = [1, 2, 3]\n",
    "b = [1, 2, 3]\n",
    "\n",
    "print(a == b)  # True, they contain the same value\n",
    "\n",
    "# But they have different identities\n",
    "print(id(a))  # 4558721352\n",
    "print(id(b))  # 4560238984\n",
    "\n",
    "\n",
    "#Python generates id on the fly, running the pieces of code above will give you other integer values. Moreover, new objects can have smaller ids than the objects created earlier."
   ]
  },
  {
   "attachments": {},
   "cell_type": "markdown",
   "metadata": {},
   "source": [
    "But if two variables refer to the same object, then the id function will return the same value.\n",
    "\n"
   ]
  },
  {
   "cell_type": "code",
   "execution_count": 10,
   "metadata": {},
   "outputs": [
    {
     "name": "stdout",
     "output_type": "stream",
     "text": [
      "True\n",
      "4388765952\n",
      "4388765952\n"
     ]
    }
   ],
   "source": [
    "a = [1, 2, 3]\n",
    "c = a\n",
    "\n",
    "print(a == c)  # True, they contain the same value\n",
    "\n",
    "# And they also have the same identity\n",
    "print(id(a))  # 4558721352\n",
    "print(id(c))  # 4558721352"
   ]
  },
  {
   "attachments": {},
   "cell_type": "markdown",
   "metadata": {},
   "source": [
    "# Identity testing\n",
    "\n",
    "You can check if two variables refer to the same object by comparing the results of the id function. But there is a better way to do it. Python has an identity operator is that checks if two objects have the same identity. The result is a boolean value: True or False. You should not confuse it with the equality operator == which tests whether two objects contain the same value."
   ]
  },
  {
   "cell_type": "code",
   "execution_count": 11,
   "metadata": {},
   "outputs": [],
   "source": [
    "a = [1, 2, 3]\n",
    "b = [1, 2, 3]\n",
    "\n",
    "identity_test = a is b  # False, because a and b refer to different objects in memory\n",
    "equality_test = a == b  # True, because a and b contain the same value\n",
    "\n",
    "b = a\n",
    "\n",
    "identity_test = a is b  # True, because now both variables refer to the same object"
   ]
  },
  {
   "cell_type": "code",
   "execution_count": 12,
   "metadata": {},
   "outputs": [
    {
     "name": "stdout",
     "output_type": "stream",
     "text": [
      "True\n"
     ]
    }
   ],
   "source": [
    "a = [1, 2, 3]\n",
    "b = [4, 5]\n",
    "\n",
    "print(a is not b)  # True, as expected"
   ]
  },
  {
   "attachments": {},
   "cell_type": "markdown",
   "metadata": {},
   "source": [
    "# Use the identity operator carefully\n",
    "Using the identity operator instead of the equality operator might lead to lots of mistakes. The example below shows the danger of the is operator."
   ]
  },
  {
   "cell_type": "code",
   "execution_count": 13,
   "metadata": {},
   "outputs": [
    {
     "name": "stdout",
     "output_type": "stream",
     "text": [
      "True\n",
      "4350322120\n",
      "4350322120\n",
      "False\n",
      "4387768944\n",
      "4387769648\n"
     ]
    }
   ],
   "source": [
    "a = int(input())  # 10\n",
    "b = int(input())  # 10\n",
    "print(a is b)     # True\n",
    "print(id(a))      # 4462719392\n",
    "print(id(b))      # 4462719392\n",
    "\n",
    "a = int(input())  # 10000\n",
    "b = int(input())  # 10000\n",
    "print(a is b)     # False\n",
    "print(id(a))      # 4466218032\n",
    "print(id(b))      # 4466218160"
   ]
  },
  {
   "attachments": {},
   "cell_type": "markdown",
   "metadata": {},
   "source": [
    "The reason for such weird behavior is that Python optimizes the use of small integers between -5 and 256. They are commonly used, so Python doesn't create a new object every time, but gives a reference to an existing number. The same thing happens to short strings.\n",
    "\n",
    "However, the case of large numbers depends on the implementation. You may get True for the following expression:\n",
    "\n"
   ]
  },
  {
   "cell_type": "code",
   "execution_count": 14,
   "metadata": {},
   "outputs": [
    {
     "name": "stdout",
     "output_type": "stream",
     "text": [
      "False\n"
     ]
    }
   ],
   "source": [
    "a = 10000\n",
    "b = 10000\n",
    "print(a is b)  # True or False depending on your system"
   ]
  },
  {
   "attachments": {},
   "cell_type": "markdown",
   "metadata": {},
   "source": [
    "# When to use the identity operator\n",
    "\n",
    "The proper case to use the is operator is to test if something is None. None is a special keyword in Python that is used to define no value.\n",
    "\n",
    "It is safe to use is in this case, because None is a singleton. This means that None object is created only once and then used whenever you refer to None in your code.\n",
    "\n",
    "It is common to use None as a default value for optional arguments in functions.\n",
    "\n"
   ]
  },
  {
   "cell_type": "code",
   "execution_count": null,
   "metadata": {},
   "outputs": [],
   "source": [
    "def say_hello(name=None):\n",
    "    if name is None:\n",
    "        print('Hello!')\n",
    "    else:\n",
    "        print(f'Hello, {name}!')\n",
    "\n",
    "\n",
    "say_hello()        # 'Hello!'\n",
    "say_hello('Nick')  # 'Hello, Nick!'"
   ]
  }
 ],
 "metadata": {
  "kernelspec": {
   "display_name": "Python 3",
   "language": "python",
   "name": "python3"
  },
  "language_info": {
   "codemirror_mode": {
    "name": "ipython",
    "version": 3
   },
   "file_extension": ".py",
   "mimetype": "text/x-python",
   "name": "python",
   "nbconvert_exporter": "python",
   "pygments_lexer": "ipython3",
   "version": "3.11.3"
  },
  "orig_nbformat": 4
 },
 "nbformat": 4,
 "nbformat_minor": 2
}
