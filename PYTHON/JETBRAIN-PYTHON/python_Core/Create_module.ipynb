{
 "cells": [
  {
   "attachments": {},
   "cell_type": "markdown",
   "metadata": {},
   "source": [
    "# Create module"
   ]
  },
  {
   "attachments": {},
   "cell_type": "markdown",
   "metadata": {},
   "source": [
    "Basically, a module is just a file that has a .py extension and contains statements and definitions. What is the point? Well, modules help you organize and reuse code. Once you write a module you can load it from the interpreter or another module. In this topic, we'll learn how to create one and correctly load them from each other, so get ready!"
   ]
  },
  {
   "attachments": {},
   "cell_type": "markdown",
   "metadata": {},
   "source": [
    "## Module design\n",
    "A simple module that is written for direct execution is often called a script. The difference between a module and a script in Python is only in the way they are used. Modules are loaded from other modules or scripts, and scripts are executed directly.\n",
    "\n",
    "Let's take a look at the example of a simple script below:\n",
    "\n"
   ]
  },
  {
   "cell_type": "code",
   "execution_count": null,
   "metadata": {},
   "outputs": [],
   "source": [
    "# hello.py script\n",
    "\n",
    "print(\"Hello, World!\")\n"
   ]
  },
  {
   "attachments": {},
   "cell_type": "markdown",
   "metadata": {},
   "source": [
    "You have already seen this example but now we want to turn it into a script. What you need to do is simple: you just save this code in a file named hello.py and then run it with Python. To run a script use python \n",
    "\n",
    "<"
   ]
  },
  {
   "cell_type": "code",
   "execution_count": null,
   "metadata": {},
   "outputs": [],
   "source": [
    "script>, where <script> is the path to your Python file.\n",
    "\n",
    "~$ python hello.py\n",
    "Hello, World!\n",
    "Congratulations! This is your first script in Python."
   ]
  },
  {
   "attachments": {},
   "cell_type": "markdown",
   "metadata": {},
   "source": [
    "## Module importing\n",
    "A module can be loaded from another module. That allows you to write a piece of code once and then use it wherever you want. It is really helpful when you work on larger projects and want to separate matters between different modules. We already saw examples of an imported module from another module in the previous topic.\n",
    "\n",
    "When working in the interactive mode of the interpreter you can load modules as well. Note that the module should be placed in the directory from which you run Python. For example, you can load hello.py file we discussed in the previous section from the interpreter like this:"
   ]
  },
  {
   "cell_type": "code",
   "execution_count": null,
   "metadata": {},
   "outputs": [],
   "source": [
    "~$ python\n",
    "Python 3.6.6 (default, Sep 12 2018, 18:26:19)\n",
    "[GCC 8.0.1 20180414 (experimental) [trunk revision 259383]] on linux \n",
    "Type \"help\", \"copyright\", \"credits\" or \"license\" for more information.\n",
    "\n",
    ">>> import hello\n",
    "Hello, World!"
   ]
  },
  {
   "attachments": {},
   "cell_type": "markdown",
   "metadata": {},
   "source": [
    "Now, if you have a module with some functions or variables, like this one, for example:\n",
    "\n"
   ]
  },
  {
   "cell_type": "code",
   "execution_count": 1,
   "metadata": {},
   "outputs": [],
   "source": [
    "# module_to_import.py\n",
    "\n",
    "def greet(x, y, z):\n",
    "    print(\"Hello,\", x, y + \",\", \"the\", z + \"!\")\n",
    "\n",
    "name = \"Angela\"\n",
    "second_name = \"Davis\"\n",
    "profession = \"scholar\""
   ]
  },
  {
   "attachments": {},
   "cell_type": "markdown",
   "metadata": {},
   "source": [
    "you can access the information you need from your imported module the way you'd do with any other modules you import from packages or the Standard Python Library:\n",
    "\n"
   ]
  },
  {
   "cell_type": "code",
   "execution_count": null,
   "metadata": {},
   "outputs": [],
   "source": [
    "# module_to_import_to.py\n",
    "\n",
    "import module_to_import\n",
    "\n",
    "module_to_import.greet(module_to_import.name,\n",
    "                       module_to_import.second_name,\n",
    "                       module_to_import.profession)\n",
    "\n",
    "# Hello, Angela Davis, the scholar!"
   ]
  },
  {
   "attachments": {},
   "cell_type": "markdown",
   "metadata": {},
   "source": [
    "## Common mistakes\n",
    "Now it is time to cover some common mistakes you can make when defining or importing modules.\n",
    "\n",
    "If you accidentally import a module from itself, the code of the module will be executed twice and that is generally not something you want to happen.\n",
    "\n"
   ]
  },
  {
   "cell_type": "code",
   "execution_count": null,
   "metadata": {},
   "outputs": [],
   "source": [
    "# itself.py\n",
    "\n",
    "import itself\n",
    "\n",
    "print(\"Hello, it's me!\")\n",
    "The output looks like this:\n",
    "\n",
    "Hello, it's me!\n",
    "Hello, it's me!"
   ]
  },
  {
   "attachments": {},
   "cell_type": "markdown",
   "metadata": {},
   "source": [
    "So be careful and avoid situations when you import a module from itself.\n",
    "\n",
    "Another common mistake is name shadowing. For example, you have created a local module that has the same name as some built-in module. In this case, you won't be able to import anything from the original module, because the import system will search names in your custom module.\n",
    "\n",
    "Imagine, you created a module socket.py and then you try to import some function from the standard Python socket module within your module.\n",
    "\n"
   ]
  },
  {
   "cell_type": "code",
   "execution_count": null,
   "metadata": {},
   "outputs": [],
   "source": [
    "# socket.py\n",
    "\n",
    "from socket import socket\n",
    "\n",
    "print(\"All cool!\")\n"
   ]
  },
  {
   "attachments": {},
   "cell_type": "markdown",
   "metadata": {},
   "source": [
    "You'll see an error message that says that Python cannot import socket from socket module:\n",
    "\n",
    "...\n",
    "\n",
    "ImportError: cannot import name 'socket'"
   ]
  },
  {
   "attachments": {},
   "cell_type": "markdown",
   "metadata": {},
   "source": [
    "## One way to avoid this is not to name your files the same as the built-in modules you might use. Just suffix _script to the name of your scripts and modules and you will be safe from this name shadowing problem."
   ]
  },
  {
   "attachments": {},
   "cell_type": "markdown",
   "metadata": {},
   "source": [
    "Whenever the module is imported, it is fully executed and then added to your current namespace. Even special forms of import statements such as from module import something don't affect that fact. This may become a problem in situations when you want to be able to both import your module and execute it as a script."
   ]
  },
  {
   "cell_type": "code",
   "execution_count": 2,
   "metadata": {},
   "outputs": [
    {
     "name": "stdout",
     "output_type": "stream",
     "text": [
      "Hello, George\n"
     ]
    }
   ],
   "source": [
    "#Consider the example:\n",
    "\n",
    "# unsafe_module.py\n",
    "\n",
    "name = \"George\"\n",
    "\n",
    "print(\"Hello,\", name)"
   ]
  },
  {
   "attachments": {},
   "cell_type": "markdown",
   "metadata": {},
   "source": [
    "If you define another script and import name from unsafe_module, you'll see Hello, George."
   ]
  },
  {
   "cell_type": "code",
   "execution_count": null,
   "metadata": {},
   "outputs": [],
   "source": [
    "# unsafe_bye.py script\n",
    "\n",
    "from unsafe_module import name\n",
    "\n",
    "print(\"Bye,\", name)"
   ]
  },
  {
   "attachments": {},
   "cell_type": "markdown",
   "metadata": {},
   "source": [
    "The output:\n",
    "\n",
    "Hello, George\n",
    "Bye, George"
   ]
  },
  {
   "attachments": {},
   "cell_type": "markdown",
   "metadata": {},
   "source": [
    "To solve this issue you can simply divide your file into two: one containing only definitions, and another containing the code that imports definitions from the first file and use them. But it's also common to use the __main__ pattern."
   ]
  },
  {
   "attachments": {},
   "cell_type": "markdown",
   "metadata": {},
   "source": [
    "## __main__ pattern\n",
    "Let's learn another option of how to make your script safe to import. We will change the unsafe_module.py file from the previous section."
   ]
  },
  {
   "cell_type": "code",
   "execution_count": null,
   "metadata": {},
   "outputs": [],
   "source": [
    "# safe_module.py\n",
    "\n",
    "name = \"George\"\n",
    "\n",
    "if __name__ == \"__main__\":\n",
    "    print(\"Hello,\", name)"
   ]
  },
  {
   "attachments": {},
   "cell_type": "markdown",
   "metadata": {},
   "source": [
    "The name of the module is always available in the built-in variable __name__. When you are executing a script __name__ has a value \"__main__\". So here we check the value of __name__ and print the line only if the module is executed as a script."
   ]
  },
  {
   "cell_type": "code",
   "execution_count": null,
   "metadata": {},
   "outputs": [],
   "source": [
    "# safe_bye.py script\n",
    "\n",
    "from safe_module import name\n",
    "\n",
    "print(\"Bye,\", name)\n",
    "\n",
    "#The output is the following:\n",
    "\n",
    "'Bye, George'"
   ]
  },
  {
   "attachments": {},
   "cell_type": "markdown",
   "metadata": {},
   "source": [
    "In general, if you have more than just one line to execute in a script it's convenient to move all that code into a function called main and then call it like that:\n",
    "\n"
   ]
  },
  {
   "cell_type": "code",
   "execution_count": null,
   "metadata": {},
   "outputs": [],
   "source": [
    "\n",
    "# safe_main_module.py\n",
    "\n",
    "name = \"George\"\n",
    "\n",
    "def main():\n",
    "    print(\"Hello,\", name)\n",
    "\n",
    "if __name__ == \"__main__\":\n",
    "    main()"
   ]
  },
  {
   "attachments": {},
   "cell_type": "markdown",
   "metadata": {},
   "source": [
    "Note, that the naming itself doesn't affect the way a function is executed, it's just a convention to indicate that this function is run only when the file is used as a script."
   ]
  },
  {
   "attachments": {},
   "cell_type": "markdown",
   "metadata": {},
   "source": [
    "# EXERCISES"
   ]
  }
 ],
 "metadata": {
  "kernelspec": {
   "display_name": "Python 3",
   "language": "python",
   "name": "python3"
  },
  "language_info": {
   "codemirror_mode": {
    "name": "ipython",
    "version": 3
   },
   "file_extension": ".py",
   "mimetype": "text/x-python",
   "name": "python",
   "nbconvert_exporter": "python",
   "pygments_lexer": "ipython3",
   "version": "3.11.3"
  },
  "orig_nbformat": 4
 },
 "nbformat": 4,
 "nbformat_minor": 2
}
