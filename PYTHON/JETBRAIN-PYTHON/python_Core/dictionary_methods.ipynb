{
 "cells": [
  {
   "attachments": {},
   "cell_type": "markdown",
   "metadata": {},
   "source": [
    "# Dictionary methods\n",
    "\n",
    "Alternative dictionary creation\n",
    "You know that there are two ways to create a dictionary. Using curly braces with a comma-separated list of key: value pairs or the dict constructor. We will learn about the fromkeys method that creates a new dictionary with specified keys and values. This is the syntax for this method:\n",
    "\n"
   ]
  },
  {
   "cell_type": "code",
   "execution_count": null,
   "metadata": {},
   "outputs": [],
   "source": [
    "dict.fromkeys(keys, value)\n"
   ]
  },
  {
   "attachments": {},
   "cell_type": "markdown",
   "metadata": {},
   "source": [
    "The keys parameter is a sequence of elements that will become the keys of a new dictionary. The value parameter is optional and defaults to None, but the user can specify a value for all keys in the dictionary. Look at the example below:"
   ]
  },
  {
   "cell_type": "code",
   "execution_count": 3,
   "metadata": {},
   "outputs": [
    {
     "name": "stdout",
     "output_type": "stream",
     "text": [
      "{'Earth': None, 'Venus': None, 'Jupiter': None}\n",
      "{'Earth': 'planet', 'Venus': 'planet', 'Jupiter': 'planet'}\n",
      "{'Earth': 'planet', 'Venus': 'planet', 'Jupiter': 'giant planet'}\n"
     ]
    }
   ],
   "source": [
    "planets = {'Venus', 'Earth', 'Jupiter'}  \n",
    "  \n",
    "# initializing by default with None \n",
    "planets_dict = dict.fromkeys(planets)\n",
    "print(planets_dict)  # {'Jupiter': None, 'Venus': None, 'Earth': None}\n",
    "\n",
    "# initializing with a value\n",
    "value = 'planet'\n",
    "planets_dict = dict.fromkeys(planets, value)\n",
    "print(planets_dict)  # {'Earth': 'planet', 'Venus': 'planet', 'Jupiter': 'planet'}\n",
    "\n",
    "# changing the value of 'Jupiter'\n",
    "planets_dict['Jupiter'] = \"giant \" + planets_dict['Jupiter']\n",
    "print(planets_dict)\n",
    " # {'Earth': 'planet', 'Venus': 'planet', 'Jupiter': 'giant planet'}"
   ]
  },
  {
   "cell_type": "code",
   "execution_count": null,
   "metadata": {},
   "outputs": [],
   "source": []
  },
  {
   "attachments": {},
   "cell_type": "markdown",
   "metadata": {},
   "source": [
    "The word was added successfully! But now we want to create a dictionary that would store the names of the satellites for those planets. Some planets have several satellites, some do not have them at all, so it is more convenient to use a list as a value."
   ]
  },
  {
   "cell_type": "code",
   "execution_count": 4,
   "metadata": {},
   "outputs": [
    {
     "name": "stdout",
     "output_type": "stream",
     "text": [
      "{'Earth': [], 'Venus': [], 'Jupiter': []}\n"
     ]
    }
   ],
   "source": [
    "# some satellites of the Solar System\n",
    "satellites = ['Moon', 'Io', 'Europa']\n",
    "\n",
    "# initializing with an empty list\n",
    "planets_dict = dict.fromkeys(planets, [])\n",
    "print(planets_dict)  # {'Jupiter': [], 'Venus': [], 'Earth': []}"
   ]
  },
  {
   "attachments": {},
   "cell_type": "markdown",
   "metadata": {},
   "source": [
    "Let's add the items from the satellites list to the corresponding planets. Look, this is what happened to our dictionary:"
   ]
  },
  {
   "cell_type": "code",
   "execution_count": 5,
   "metadata": {},
   "outputs": [
    {
     "name": "stdout",
     "output_type": "stream",
     "text": [
      "{'Earth': ['Moon', 'Io', 'Europa'], 'Venus': ['Moon', 'Io', 'Europa'], 'Jupiter': ['Moon', 'Io', 'Europa']}\n"
     ]
    }
   ],
   "source": [
    "planets_dict['Earth'].append(satellites[0])\n",
    "planets_dict['Jupiter'].append(satellites[1])\n",
    "planets_dict['Jupiter'].append(satellites[2])\n",
    "print(planets_dict)  \n",
    "# {'Jupiter': ['Moon', 'Io', 'Europa'], 'Venus': ['Moon', 'Io', 'Europa'], 'Earth': ['Moon', 'Io', 'Europa']}\n"
   ]
  },
  {
   "attachments": {},
   "cell_type": "markdown",
   "metadata": {},
   "source": [
    "We see that all the elements of the satellites list have been assigned to all planets in our dictionary. This happened because the fromkeys method assigns the same object to all keys. While referring to different keys of the planets_dict dictionary, we are still referring to the same list. The difference from the previous example is that if we use mutable objects (a list, a dictionary) as values, all changes will also apply to our dictionary. The solution is to use the dictionary comprehension:"
   ]
  },
  {
   "cell_type": "code",
   "execution_count": 6,
   "metadata": {},
   "outputs": [],
   "source": [
    "planets_dict = {key: [] for key in planets}"
   ]
  },
  {
   "cell_type": "code",
   "execution_count": 7,
   "metadata": {},
   "outputs": [
    {
     "data": {
      "text/plain": [
       "{'Earth': [], 'Venus': [], 'Jupiter': []}"
      ]
     },
     "execution_count": 7,
     "metadata": {},
     "output_type": "execute_result"
    }
   ],
   "source": [
    "planets_dict"
   ]
  },
  {
   "attachments": {},
   "cell_type": "markdown",
   "metadata": {},
   "source": [
    "# Adding items\n",
    "\n",
    "Suppose we want to add items to an existing dictionary. You know one way to do it — define a new key and a new value: existing_dict['new key'] = 'new value'. But there is another way — use the update method. The method updates the dictionary with new elements from another dictionary or an iterable of key-value pairs.\n",
    "\n",
    "- Let's create a dictionary and define months as keys, and the average temperature for this month as values. So we have the following testable dictionary:"
   ]
  },
  {
   "cell_type": "code",
   "execution_count": null,
   "metadata": {},
   "outputs": [],
   "source": [
    "testable = {'September': '16°C', 'December': '-10°C'} \n",
    "another_dictionary = {'June': '21°C'}\n",
    "\n",
    "# adding items from another dictionary\n",
    "testable.update(another_dictionary)\n",
    "print(testable)  # {'September': '16°C', 'December': '-10°C', 'June': '21°C'}\n",
    "\n",
    "# adding a key-value pair\n",
    "testable.update(October='10°C')\n",
    "print(testable)  \n",
    "# {'September': '16°C', 'December': '-10°C', 'June': '21°C', 'October': '10°C'}\n"
   ]
  },
  {
   "attachments": {},
   "cell_type": "markdown",
   "metadata": {},
   "source": [
    "# If the specified key already exists in the dictionary, the method will update the key with the new value:\n",
    "\n"
   ]
  },
  {
   "cell_type": "code",
   "execution_count": 8,
   "metadata": {},
   "outputs": [
    {
     "name": "stdout",
     "output_type": "stream",
     "text": [
      "{'September': '16°C', 'December': '-20°C'}\n"
     ]
    }
   ],
   "source": [
    "testable = {'September': '16°C', 'December': '-10°C'}\n",
    "testable.update(December='-20°C')\n",
    "\n",
    "print(testable)  # {'September': '16°C', 'December': '-20°C'}"
   ]
  },
  {
   "attachments": {},
   "cell_type": "markdown",
   "metadata": {},
   "source": [
    "# Getting and removing items"
   ]
  },
  {
   "attachments": {},
   "cell_type": "markdown",
   "metadata": {},
   "source": [
    "We learned how to create a dictionary and add elements to it. But what if we need to get some value from the dictionary or also remove an item? The following methods will help you deal with different tasks depending on your needs.\n",
    "\n",
    "1. Get a value from the dictionary by a key.\n",
    "\n",
    "As you remember, we can access the value in a dictionary by a key:"
   ]
  },
  {
   "cell_type": "code",
   "execution_count": 9,
   "metadata": {},
   "outputs": [
    {
     "name": "stdout",
     "output_type": "stream",
     "text": [
      "16°C\n"
     ]
    }
   ],
   "source": [
    "testable = {}\n",
    "testable['September'] = '16°C'\n",
    "\n",
    "print(testable['September'])  # 16°C"
   ]
  },
  {
   "attachments": {},
   "cell_type": "markdown",
   "metadata": {},
   "source": [
    "\n",
    "However, if you try to access a non-existent key, you will get a KeyError:"
   ]
  },
  {
   "cell_type": "code",
   "execution_count": 10,
   "metadata": {},
   "outputs": [
    {
     "ename": "KeyError",
     "evalue": "'June'",
     "output_type": "error",
     "traceback": [
      "\u001b[0;31m---------------------------------------------------------------------------\u001b[0m",
      "\u001b[0;31mKeyError\u001b[0m                                  Traceback (most recent call last)",
      "Cell \u001b[0;32mIn[10], line 1\u001b[0m\n\u001b[0;32m----> 1\u001b[0m \u001b[39mprint\u001b[39m(testable[\u001b[39m'\u001b[39;49m\u001b[39mJune\u001b[39;49m\u001b[39m'\u001b[39;49m])  \u001b[39m# throws a KeyError\u001b[39;00m\n",
      "\u001b[0;31mKeyError\u001b[0m: 'June'"
     ]
    }
   ],
   "source": [
    "print(testable['June'])  # throws a KeyError"
   ]
  },
  {
   "attachments": {},
   "cell_type": "markdown",
   "metadata": {},
   "source": [
    "To avoid the KeyError, we can use the get method that returns None if the specified key is not in the dictionary:"
   ]
  },
  {
   "cell_type": "code",
   "execution_count": 11,
   "metadata": {},
   "outputs": [
    {
     "name": "stdout",
     "output_type": "stream",
     "text": [
      "16°C\n",
      "None\n"
     ]
    }
   ],
   "source": [
    "# 'get' method does not throw an error\n",
    "print(testable.get('September'))  # 16°C\n",
    "print(testable.get('June'))  # None  <- in this way you get no errors but just \"none\""
   ]
  },
  {
   "attachments": {},
   "cell_type": "markdown",
   "metadata": {},
   "source": [
    "With the get method, we can also define the default value that will be returned in such a case:\n",
    "\n"
   ]
  },
  {
   "cell_type": "code",
   "execution_count": 12,
   "metadata": {},
   "outputs": [
    {
     "name": "stdout",
     "output_type": "stream",
     "text": [
      "no temperature for this month\n"
     ]
    }
   ],
   "source": [
    "print(testable.get('June', 'no temperature for this month'))  # no temperature\n"
   ]
  },
  {
   "attachments": {},
   "cell_type": "markdown",
   "metadata": {},
   "source": [
    "### Remove the key from the dictionary and return the value using the pop method.\n",
    "\n",
    "If the specified key was found in the dictionary, then the method will remove it and return the value:"
   ]
  },
  {
   "cell_type": "code",
   "execution_count": 13,
   "metadata": {},
   "outputs": [
    {
     "name": "stdout",
     "output_type": "stream",
     "text": [
      "-10°C\n",
      "{'September': '16°C'}\n"
     ]
    }
   ],
   "source": [
    "testable = {'September': '16°C', 'December': '-10°C'}\n",
    "return_value = testable.pop('December')\n",
    "\n",
    "print(return_value)  # -10°C\n",
    "print(testable)  # {'September': '16°C'}\n"
   ]
  },
  {
   "attachments": {},
   "cell_type": "markdown",
   "metadata": {},
   "source": [
    "If the key was not found, a KeyError will appear:\n",
    "\n"
   ]
  },
  {
   "cell_type": "code",
   "execution_count": 14,
   "metadata": {},
   "outputs": [
    {
     "ename": "KeyError",
     "evalue": "'July'",
     "output_type": "error",
     "traceback": [
      "\u001b[0;31m---------------------------------------------------------------------------\u001b[0m",
      "\u001b[0;31mKeyError\u001b[0m                                  Traceback (most recent call last)",
      "Cell \u001b[0;32mIn[14], line 1\u001b[0m\n\u001b[0;32m----> 1\u001b[0m testable\u001b[39m.\u001b[39;49mpop(\u001b[39m'\u001b[39;49m\u001b[39mJuly\u001b[39;49m\u001b[39m'\u001b[39;49m)  \u001b[39m# throws a KeyError\u001b[39;00m\n",
      "\u001b[0;31mKeyError\u001b[0m: 'July'"
     ]
    }
   ],
   "source": [
    "testable.pop('July')  # throws a KeyError\n"
   ]
  },
  {
   "attachments": {},
   "cell_type": "markdown",
   "metadata": {},
   "source": [
    "To get rid of it, we can provide a default argument, and it will return this default value:\n",
    "\n"
   ]
  },
  {
   "cell_type": "code",
   "execution_count": 15,
   "metadata": {},
   "outputs": [
    {
     "name": "stdout",
     "output_type": "stream",
     "text": [
      "there is nothing to remove\n"
     ]
    }
   ],
   "source": [
    "return_value = testable.pop('July', 'there is nothing to remove')\n",
    "print(return_value)  #  no temperature"
   ]
  },
  {
   "attachments": {},
   "cell_type": "markdown",
   "metadata": {},
   "source": [
    "Remove and return the last item (key, value) added to the dictionary using the popitem method:"
   ]
  },
  {
   "cell_type": "code",
   "execution_count": 16,
   "metadata": {},
   "outputs": [
    {
     "name": "stdout",
     "output_type": "stream",
     "text": [
      "('December', '-10°C')\n",
      "{'September': '16°C'}\n"
     ]
    }
   ],
   "source": [
    "testable = {'September': '16°C', 'December': '-10°C'}\n",
    "return_value = testable.popitem()\n",
    "\n",
    "print(return_value)  # ('December', '-10°C')\n",
    "print(testable)  # {'September': '16°C'}\n",
    "\n",
    "\n",
    "\n",
    "## Pay attention, if the dictionary is empty, a KeyError will appear:\n",
    "\n",
    "testable = {}     \n",
    "return_value = testable.popitem()\n",
    "# KeyError: 'popitem(): dictionary is empty'\n"
   ]
  },
  {
   "attachments": {},
   "cell_type": "markdown",
   "metadata": {},
   "source": [
    "# Cleaning the dictionary\n",
    "All the methods described above return a value or an item (key, value) upon removing, but sometimes this is not what we want. There are two ways that remove an item from the dictionary (they do not return anything) or the entire dictionary content at once."
   ]
  },
  {
   "attachments": {},
   "cell_type": "markdown",
   "metadata": {},
   "source": [
    "Delete (remove from a dictionary) a value by its key with the del keyword:\n",
    "\n"
   ]
  },
  {
   "cell_type": "code",
   "execution_count": 17,
   "metadata": {},
   "outputs": [
    {
     "name": "stdout",
     "output_type": "stream",
     "text": [
      "{'December': '-10°C', 'July': '23°C'}\n"
     ]
    },
    {
     "ename": "KeyError",
     "evalue": "'May'",
     "output_type": "error",
     "traceback": [
      "\u001b[0;31m---------------------------------------------------------------------------\u001b[0m",
      "\u001b[0;31mKeyError\u001b[0m                                  Traceback (most recent call last)",
      "Cell \u001b[0;32mIn[17], line 8\u001b[0m\n\u001b[1;32m      5\u001b[0m \u001b[39mprint\u001b[39m(testable)  \u001b[39m# {'December': '-10°C', 'July': '23°C'}\u001b[39;00m\n\u001b[1;32m      7\u001b[0m \u001b[39m# throws a KeyError because there's no such key in the dictionary\u001b[39;00m\n\u001b[0;32m----> 8\u001b[0m \u001b[39mdel\u001b[39;00m testable[\u001b[39m'\u001b[39;49m\u001b[39mMay\u001b[39;49m\u001b[39m'\u001b[39;49m]\n\u001b[1;32m     10\u001b[0m \u001b[39m# throws a KeyError, as we've already deleted the object by the key\u001b[39;00m\n\u001b[1;32m     11\u001b[0m \u001b[39mdel\u001b[39;00m testable[\u001b[39m'\u001b[39m\u001b[39mSeptember\u001b[39m\u001b[39m'\u001b[39m]\n",
      "\u001b[0;31mKeyError\u001b[0m: 'May'"
     ]
    }
   ],
   "source": [
    "testable = {'September': '16°C', 'December': '-10°C', 'July': '23°C'}\n",
    "\n",
    "# this will remove both the key and the value from dictionary object\n",
    "del testable['September']  \n",
    "print(testable)  # {'December': '-10°C', 'July': '23°C'}\n",
    "\n",
    "# throws a KeyError because there's no such key in the dictionary\n",
    "del testable['May']\n",
    " \n",
    "# throws a KeyError, as we've already deleted the object by the key\n",
    "del testable['September']\n",
    "\n",
    "# deletes the whole dictionary\n",
    "del testable"
   ]
  },
  {
   "attachments": {},
   "cell_type": "markdown",
   "metadata": {},
   "source": [
    "Remove all the items and return an empty dictionary using the clear method:\n",
    "\n"
   ]
  },
  {
   "cell_type": "code",
   "execution_count": 18,
   "metadata": {},
   "outputs": [
    {
     "name": "stdout",
     "output_type": "stream",
     "text": [
      "{}\n"
     ]
    }
   ],
   "source": [
    "testable = {'September': '16°C', 'December': '-10°C', 'July': '23°C'}\n",
    "\n",
    "testable.clear()  # remove all elements\n",
    "print(testable)   # {}"
   ]
  },
  {
   "attachments": {},
   "cell_type": "markdown",
   "metadata": {},
   "source": [
    "## Differences in removal methods\n",
    "You may wonder, is there any difference between dict = {} and dict.clear() ? Let's say we have another variable that refers to the same dictionary:"
   ]
  },
  {
   "cell_type": "code",
   "execution_count": 19,
   "metadata": {},
   "outputs": [],
   "source": [
    "testable = {'December': '-10°C', 'July': '23°C'}\n",
    "another_testable = testable"
   ]
  },
  {
   "attachments": {},
   "cell_type": "markdown",
   "metadata": {},
   "source": [
    "Then, the dict = {} just creates a new empty dictionary and assigns it to our variable. Let's go back to the example above and assign an empty dictionary to testable:"
   ]
  },
  {
   "cell_type": "code",
   "execution_count": 20,
   "metadata": {},
   "outputs": [
    {
     "name": "stdout",
     "output_type": "stream",
     "text": [
      "{}\n",
      "{'December': '-10°C', 'July': '23°C'}\n"
     ]
    }
   ],
   "source": [
    "testable = {}\n",
    "print(testable)  # {}\n",
    "print(another_testable)  # {'December': '-10°C', 'July': '23°C'}"
   ]
  },
  {
   "attachments": {},
   "cell_type": "markdown",
   "metadata": {},
   "source": [
    "another_testable still points to the original dictionary with the same elements, so it doesn't change.\n",
    "\n",
    "In contrast, the clear method will clear the dictionary as well as all the objects referring to it:"
   ]
  },
  {
   "cell_type": "code",
   "execution_count": 21,
   "metadata": {},
   "outputs": [
    {
     "name": "stdout",
     "output_type": "stream",
     "text": [
      "{}\n",
      "{}\n"
     ]
    }
   ],
   "source": [
    "testable = {'December': '-10°C', 'July': '23°C'}\n",
    "another_testable = testable\n",
    "\n",
    "testable.clear()\n",
    "print(testable)  # {}\n",
    "print(another_testable)  # {}"
   ]
  },
  {
   "attachments": {},
   "cell_type": "markdown",
   "metadata": {},
   "source": [
    "# exrcises"
   ]
  },
  {
   "attachments": {},
   "cell_type": "markdown",
   "metadata": {},
   "source": [
    "Write a program that creates a dictionary, in which keys are latin letters, and values are their doubling:\n",
    "\n",
    "{a: aa, b: bb, ..., z: zz}\n",
    "\n",
    "Save this dictionary in the variable double_alphabet."
   ]
  },
  {
   "cell_type": "code",
   "execution_count": null,
   "metadata": {},
   "outputs": [],
   "source": [
    "double_alphabet = {}\n",
    "for letter in range(ord('a'), ord('z')+1):\n",
    "    double_alphabet[chr(letter)] = chr(letter) * 2\n",
    "\n",
    "print(double_alphabet)"
   ]
  },
  {
   "attachments": {},
   "cell_type": "markdown",
   "metadata": {},
   "source": [
    "We Are What We Eat\n",
    "Anthony keeps track of what he eats: he writes down how many calories are in his meals. Use the list of dictionaries to calculate the total amount of calories per day and print it.\n",
    "\n",
    "The sample input will look like:\n",
    "\n",
    "meals = [\n",
    "        {\"title\": \"Oatmeal pancakes with apple and cinnamon\", \"kcal\": 370},\n",
    "        {\"title\": \"Italian salad with fusilli and ham\", \"kcal\": 320},\n",
    "        {\"title\": \"Bulgur with vegetables\", \"kcal\": 350},\n",
    "        {\"title\": \"Curd souffle with lingonberries and ginger\", \"kcal\": 225},\n",
    "        {\"title\": \"Oatmeal with honey and peanuts\", \"kcal\": 440}]\n",
    "The output in this case should be 1705.\n",
    "\n",
    "Tip: We hope you will use the pair \"kcal\" : value."
   ]
  },
  {
   "cell_type": "code",
   "execution_count": 38,
   "metadata": {},
   "outputs": [],
   "source": [
    "meals = [\n",
    "        {\"title\": \"Oatmeal pancakes with apple and cinnamon\", \"kcal\": 370},\n",
    "        {\"title\": \"Italian salad with fusilli and ham\", \"kcal\": 320},\n",
    "        {\"title\": \"Bulgur with vegetables\", \"kcal\": 350},\n",
    "        {\"title\": \"Curd souffle with lingonberries and ginger\", \"kcal\": 225},\n",
    "        {\"title\": \"Oatmeal with honey and peanuts\", \"kcal\": 440}]"
   ]
  },
  {
   "cell_type": "code",
   "execution_count": 35,
   "metadata": {},
   "outputs": [],
   "source": [
    "list = 0\n",
    "for i in meals:\n",
    "    i['kcal'] + list\n"
   ]
  },
  {
   "cell_type": "code",
   "execution_count": 43,
   "metadata": {},
   "outputs": [
    {
     "data": {
      "text/plain": [
       "1705"
      ]
     },
     "execution_count": 43,
     "metadata": {},
     "output_type": "execute_result"
    }
   ],
   "source": [
    "meals[0]['kcal'] + meals[1]['kcal'] + meals[2]['kcal'] + meals[3]['kcal'] + meals[4]['kcal']"
   ]
  },
  {
   "attachments": {},
   "cell_type": "markdown",
   "metadata": {},
   "source": [
    "We have the following dictionary:\n",
    "\n",
    "numbers = {\"first\": 1, \"second\": 2, \"third\": 3, \"fourth\": 4}\n",
    "Select the lines of code that will print 4.\n",
    "\n"
   ]
  },
  {
   "cell_type": "code",
   "execution_count": 46,
   "metadata": {},
   "outputs": [
    {
     "name": "stdout",
     "output_type": "stream",
     "text": [
      "4\n",
      "4\n"
     ]
    }
   ],
   "source": [
    "numbers = {\"first\": 1, \"second\": 2, \"third\": 3, \"fourth\": 4}\n",
    "\n",
    "print(numbers.get(4, \"4\"))\n",
    "\n",
    "print(numbers.get(\"fourth\"))\n",
    "\n"
   ]
  },
  {
   "attachments": {},
   "cell_type": "markdown",
   "metadata": {},
   "source": [
    "All hands on deck\n",
    "In a standard deck of cards, there are 13 of each suit. There are numbered cards (from 2 to 10) and face cards (Jack, Queen, King, and Ace). If we were to rank the face cards, Jack would be 11, Queen 12, King 13, and the Ace 14.\n",
    "\n",
    "Write a program that calculates the average rank of one hand of cards. Don't forget to consider the rank of the face cards.\n",
    "\n",
    "The input format:\n",
    "\n",
    "Six values of cards, each on a separate line.\n",
    "\n",
    "The output format:\n",
    "\n",
    "The average rank of the hand.\n",
    "\n",
    "[HINT]Try storing card values in a dictionary![/HINT]"
   ]
  },
  {
   "cell_type": "code",
   "execution_count": null,
   "metadata": {},
   "outputs": [],
   "source": [
    "card_ranks = {'2': 2, '3': 3, '4': 4, '5': 5, '6': 6, '7': 7, '8': 8, '9': 9, '10': 10, 'Jack': 11, 'Queen': 12, 'King': 13, 'Ace': 14}\n",
    "\n",
    "hand_ranks = []\n",
    "for _ in range(6):\n",
    "    card = input().strip()\n",
    "    rank = card_ranks[card]\n",
    "    hand_ranks.append(rank)\n",
    "\n",
    "average_rank = sum(hand_ranks) / len(hand_ranks)\n",
    "print(average_rank)"
   ]
  }
 ],
 "metadata": {
  "kernelspec": {
   "display_name": "Python 3",
   "language": "python",
   "name": "python3"
  },
  "language_info": {
   "codemirror_mode": {
    "name": "ipython",
    "version": 3
   },
   "file_extension": ".py",
   "mimetype": "text/x-python",
   "name": "python",
   "nbconvert_exporter": "python",
   "pygments_lexer": "ipython3",
   "version": "3.11.3"
  },
  "orig_nbformat": 4
 },
 "nbformat": 4,
 "nbformat_minor": 2
}
