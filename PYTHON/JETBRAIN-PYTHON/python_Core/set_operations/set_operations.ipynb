{
 "cells": [
  {
   "attachments": {},
   "cell_type": "markdown",
   "metadata": {},
   "source": [
    "# Set operations\n",
    "One of the main features of sets is that they allow you to perform mathematical set operations, such as intersection and union. That is, if you have two or more sets, you can use special methods to see which objects are contained within each of these sets, or objects present in one of them but not in the other, or get the total set of objects contained in every set at hand. Why not learn more about this useful set functionality?"
   ]
  },
  {
   "attachments": {},
   "cell_type": "markdown",
   "metadata": {},
   "source": [
    "# 1) Union\n",
    "Before we start, it must be said that you can perform each set operation in two ways: by using an operator or by calling a method. So, first, let's see how it works with the simplest operation — union. When you perform a union on two sets, you get a new set that comprises all the elements of the initial sets. The set method for this is (quite obviously) referred to as union, and it should be called as a method of one of your sets that accepts another set as an argument: A.union(B). Here is an example:"
   ]
  },
  {
   "cell_type": "code",
   "execution_count": 1,
   "metadata": {},
   "outputs": [
    {
     "name": "stdout",
     "output_type": "stream",
     "text": [
      "{'Obama', 'Kennedy', 'Lincoln', 'Trump'}\n"
     ]
    }
   ],
   "source": [
    "democrats = {'Kennedy', 'Obama'}\n",
    "republicans = {'Trump', 'Lincoln'}\n",
    "presidents = democrats.union(republicans)\n",
    "print(presidents)\n",
    "# The output is {'Kennedy', 'Obama', 'Trump', 'Lincoln'}"
   ]
  },
  {
   "attachments": {},
   "cell_type": "markdown",
   "metadata": {},
   "source": [
    "You can do the same by means of the operator |, the syntax for which is more straightforward. You simply put the operator between your sets, just like that: A | B."
   ]
  },
  {
   "cell_type": "code",
   "execution_count": 2,
   "metadata": {},
   "outputs": [
    {
     "name": "stdout",
     "output_type": "stream",
     "text": [
      "True\n"
     ]
    },
    {
     "data": {
      "text/plain": [
       "{'Kennedy', 'Lincoln', 'Obama', 'Trump'}"
      ]
     },
     "execution_count": 2,
     "metadata": {},
     "output_type": "execute_result"
    }
   ],
   "source": [
    "democrats = {'Kennedy', 'Obama'}\n",
    "republicans = {'Trump', 'Lincoln'}\n",
    "# operator\n",
    "presidents = democrats | republicans\n",
    "# method\n",
    "also_presidents = democrats.union(republicans)\n",
    "# let's compare\n",
    "print(presidents == also_presidents)\n",
    "presidents"
   ]
  },
  {
   "attachments": {},
   "cell_type": "markdown",
   "metadata": {},
   "source": [
    "You can also unite sets without creating a whole new set — just by adding all the elements from one set to another one. The operator for that is |= (A |= B) and the method is called update. Check this out:"
   ]
  },
  {
   "cell_type": "code",
   "execution_count": 3,
   "metadata": {},
   "outputs": [
    {
     "name": "stdout",
     "output_type": "stream",
     "text": [
      "{'Janine', 'Winston', 'Egon', 'Raymond', 'Peter'}\n"
     ]
    }
   ],
   "source": [
    "ghostbusters = {'Peter', 'Raymond', 'Egon'}\n",
    "soldiers = {'Winston'}\n",
    "secretaries = {'Janine'}\n",
    "\n",
    "ghostbusters |= soldiers\n",
    "ghostbusters.update(secretaries)\n",
    "print(ghostbusters)\n",
    "# The output is {'Peter', 'Raymond', 'Egon', 'Winston', 'Janine'}"
   ]
  },
  {
   "attachments": {},
   "cell_type": "markdown",
   "metadata": {},
   "source": [
    "# 2) Intersection\n",
    "Intersection allows you to get only the objects that are present in each set. So, by calling the method intersection or by using the operator & in the same manner as for union, you can see what your sets have in common."
   ]
  },
  {
   "cell_type": "code",
   "execution_count": 4,
   "metadata": {},
   "outputs": [
    {
     "name": "stdout",
     "output_type": "stream",
     "text": [
      "{'Anakin'}\n",
      "{'Anakin'}\n"
     ]
    }
   ],
   "source": [
    "light_side = {'Obi-Wan', 'Anakin'}\n",
    "dark_side = {'Palpatine', 'Anakin'}\n",
    "both_sides = light_side.intersection(dark_side)\n",
    "print(both_sides)\n",
    "# The output is {'Anakin'}\n",
    "print(light_side & dark_side)\n",
    "# The output is {'Anakin'}"
   ]
  },
  {
   "attachments": {},
   "cell_type": "markdown",
   "metadata": {},
   "source": [
    "In order to delete from the first set all the elements that are absent in the second set and leave only the elements that both sets contain, you can use the operator &= or the method intersection_update."
   ]
  },
  {
   "cell_type": "code",
   "execution_count": 5,
   "metadata": {},
   "outputs": [
    {
     "name": "stdout",
     "output_type": "stream",
     "text": [
      "{'cat', 'rabbit'}\n",
      "{'cat'}\n"
     ]
    }
   ],
   "source": [
    "creatures = {'human', 'rabbit', 'cat'}\n",
    "pets = {'rabbit', 'cat'}\n",
    "creatures.intersection_update(pets)\n",
    "print(creatures)\n",
    "# The output is {'rabbit', 'cat'}\n",
    "beasts = {'crocodile', 'cat'}\n",
    "creatures &= beasts\n",
    "print(creatures)\n",
    "# The output is {'cat'}"
   ]
  },
  {
   "attachments": {},
   "cell_type": "markdown",
   "metadata": {},
   "source": [
    "# 3) Difference\n",
    "Difference operation is equal to the simple subtraction of sets: as a result, you'll get a set containing all the unique elements of the initial set. The name of the method, difference, is as predictable as the operator -."
   ]
  },
  {
   "cell_type": "code",
   "execution_count": 6,
   "metadata": {},
   "outputs": [
    {
     "name": "stdout",
     "output_type": "stream",
     "text": [
      "{'Picasso', 'Klimt'}\n",
      "{'Picasso', 'Klimt'}\n"
     ]
    }
   ],
   "source": [
    "painters = {'Klimt', 'Michelangelo', 'Picasso'}\n",
    "ninja_turtles = {'Michelangelo', 'Leonardo'}\n",
    "print(painters.difference(ninja_turtles))\n",
    "# The output is {'Klimt', 'Picasso'}\n",
    "print(painters - ninja_turtles)\n",
    "# The output is {'Klimt', 'Picasso'}"
   ]
  },
  {
   "attachments": {},
   "cell_type": "markdown",
   "metadata": {},
   "source": [
    "Similarly to previous operations, to remove from your set all the elements present in the second set without creating a new collection, you can address the difference_update method or the operator -=."
   ]
  },
  {
   "cell_type": "code",
   "execution_count": 7,
   "metadata": {},
   "outputs": [
    {
     "name": "stdout",
     "output_type": "stream",
     "text": [
      "{'Bonnie and Clyde'}\n"
     ]
    }
   ],
   "source": [
    "criminals = {'Al Capone', 'Blackbeard', 'Bonnie and Clyde'}\n",
    "gangsters = {'Al Capone'}\n",
    "pirates = {'Blackbeard'}\n",
    "\n",
    "criminals.difference_update(gangsters)\n",
    "criminals -= pirates\n",
    "print(criminals)\n",
    "# The output is {'Bonnie and Clyde'}"
   ]
  },
  {
   "attachments": {},
   "cell_type": "markdown",
   "metadata": {},
   "source": [
    "# 4) Methods and operators: what's the difference?\n",
    "Mind that syntax is not the only difference between using a set operation method and an operator. More importantly, a set operator requires both arguments to be sets, while the method only demands this from the first one — while the second argument can be any iterable object, for example, a list or a string. In this case, the method will create a set out of the second argument implicitly (that is, by itself, without your interference).\n",
    "\n"
   ]
  },
  {
   "cell_type": "code",
   "execution_count": 8,
   "metadata": {},
   "outputs": [
    {
     "name": "stdout",
     "output_type": "stream",
     "text": [
      "{' ', 'o', 'h'}\n"
     ]
    },
    {
     "ename": "TypeError",
     "evalue": "unsupported operand type(s) for &: 'set' and 'str'",
     "output_type": "error",
     "traceback": [
      "\u001b[0;31m---------------------------------------------------------------------------\u001b[0m",
      "\u001b[0;31mTypeError\u001b[0m                                 Traceback (most recent call last)",
      "Cell \u001b[0;32mIn[8], line 6\u001b[0m\n\u001b[1;32m      4\u001b[0m \u001b[39mprint\u001b[39m(ho_sound)\n\u001b[1;32m      5\u001b[0m \u001b[39m# The output is {'h', 'o', ' '}\u001b[39;00m\n\u001b[0;32m----> 6\u001b[0m \u001b[39mprint\u001b[39m(santa_claus_sound \u001b[39m&\u001b[39m pirate_sound)\n",
      "\u001b[0;31mTypeError\u001b[0m: unsupported operand type(s) for &: 'set' and 'str'"
     ]
    }
   ],
   "source": [
    "santa_claus_sound = set('ho ho ho')\n",
    "pirate_sound = 'yo ho ho'\n",
    "ho_sound = santa_claus_sound.intersection(pirate_sound)\n",
    "print(ho_sound)\n",
    "# The output is {'h', 'o', ' '}\n",
    "print(santa_claus_sound & pirate_sound)\n",
    "# Causes TypeError"
   ]
  },
  {
   "attachments": {},
   "cell_type": "markdown",
   "metadata": {},
   "source": [
    "Also, sometimes it happens that you don't have specific variables for each of your sets, for example, you store them all in some container. How do you quickly find an intersection or a union of all these nameless sets? With the help of the operation set method and the asterisk (*) operator (it is used to \"unpack\" containers; let's not go into details of this operator now, though): set.method(*list_of_sets). Watch this:"
   ]
  },
  {
   "cell_type": "code",
   "execution_count": 9,
   "metadata": {},
   "outputs": [
    {
     "name": "stdout",
     "output_type": "stream",
     "text": [
      "{'python'}\n"
     ]
    }
   ],
   "source": [
    "# sets are within a container\n",
    "languages = [{'c', 'c++', 'python'}, {'python', 'javascript'}, {'python', 'java'}]\n",
    "the_best = set.intersection(*languages)\n",
    "print(the_best)\n",
    "# The output is {'python'}"
   ]
  }
 ],
 "metadata": {
  "kernelspec": {
   "display_name": "base",
   "language": "python",
   "name": "python3"
  },
  "language_info": {
   "codemirror_mode": {
    "name": "ipython",
    "version": 3
   },
   "file_extension": ".py",
   "mimetype": "text/x-python",
   "name": "python",
   "nbconvert_exporter": "python",
   "pygments_lexer": "ipython3",
   "version": "3.11.4"
  },
  "orig_nbformat": 4
 },
 "nbformat": 4,
 "nbformat_minor": 2
}
