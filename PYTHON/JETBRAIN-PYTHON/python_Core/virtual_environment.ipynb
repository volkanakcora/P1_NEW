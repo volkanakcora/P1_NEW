{
 "cells": [
  {
   "cell_type": "markdown",
   "metadata": {},
   "source": [
    "If you spend a lot of time programming, the chances are that you work with different Python versions quite often. That's why you need to install additional packages and modules outside the standard library. Most packages are updated regularly, and there are many versions, older and newer. It can present an issue if you need to maintain an outdated project of yours, as you cannot have two versions of one package at the same time. Another example would be when you want to deploy your code to another machine. How can you make sure that the program will work as planned? The solution is to create a virtual environment. "
   ]
  },
  {
   "cell_type": "markdown",
   "metadata": {},
   "source": [
    "Creating virtual environment\n"
   ]
  },
  {
   "cell_type": "code",
   "execution_count": null,
   "metadata": {},
   "outputs": [],
   "source": [
    "python -m venv new_project\n",
    "or:\n",
    "\n",
    "python3 -m venv new_project"
   ]
  },
  {
   "cell_type": "markdown",
   "metadata": {},
   "source": [
    "The Python command defines the Python version you'd like to use. The -m flag stands for the module-name.\n",
    "\n",
    "We have created the new_project directory that contains a bunch of other directories along with the Python interpreter, the standard library, and various supporting files. Let's change our current directory for convenience:\n",
    "\n",
    "cd new_project\n",
    "To start working with our virtual environment, we need to activate it.\n",
    "\n",
    "On Windows, you can run:\n",
    "\n",
    "Scripts\\activate.bat\n",
    "On Unix or macOS, run:\n",
    "\n",
    "source bin/activate\n"
   ]
  }
 ],
 "metadata": {
  "language_info": {
   "name": "python"
  }
 },
 "nbformat": 4,
 "nbformat_minor": 2
}
