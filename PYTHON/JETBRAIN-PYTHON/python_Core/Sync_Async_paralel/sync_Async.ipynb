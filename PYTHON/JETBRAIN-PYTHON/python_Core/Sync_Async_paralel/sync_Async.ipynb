{
 "cells": [
  {
   "cell_type": "markdown",
   "metadata": {},
   "source": [
    "# Synchronous, asynchronous, parallel\n",
    "\n",
    "- When we are considering some complex process, let's call it workflow, various parts of it may run differently. Sometimes actions go one by one, sometimes they go in random order overlapping each other, and sometimes things go simultaneously and in parallel. The workflow can evolve differently. There are three sorts of workflow executions sequence: synchronous, asynchronous, and parallel."
   ]
  },
  {
   "cell_type": "markdown",
   "metadata": {},
   "source": [
    "### Synchronous workflow\n",
    " \n",
    "There are many models to manage customer flows. The simplest approach is one shop with one seller. The seller deals with each client from the beginning to the end of each sale and performs all the roles from storekeeper to cashier.\n",
    "\n",
    "quene -> order -> delivery -> payment -> order -> delivery -> payment \n",
    "\n",
    "- When there are many customers at the same time, this approach is very far from perfect as the seller can deal only with one client per time, while others have to wait in line. They serve each client separately one by one which means starting to serve the next client only after finishing with the current. We name this type of action a synchronous one.\n"
   ]
  },
  {
   "cell_type": "markdown",
   "metadata": {},
   "source": [
    "- Synchronous workflows are very common. Most of the activities should go synchronously if their goal is to achieve some specific results. The number of examples is enormous. Scenes in a movie plot, car assembling, words in a sentence, cooking, you name it."
   ]
  },
  {
   "cell_type": "markdown",
   "metadata": {},
   "source": [
    "# Asynchronous workflow\n",
    "- Let's imagine our old shop becomes fancier, this is a pizza shop now. After the first client has ordered their pizza, they need to wait for it to be cooked. At this point, the seller leaves the first customer alone for a while, and now the second one can make their order, then the third, and so on.\n",
    "\n",
    "- When the first client's pizza is ready, the seller returns to them to complete the sale. That's how this story will repeat again and again.\n",
    "\n",
    "Our old friend seller can serve several customers simultaneously in overlapping periods. We call such behavior asynchronous.\n"
   ]
  },
  {
   "cell_type": "markdown",
   "metadata": {},
   "source": [
    "# Parallel processing\n",
    "\n",
    "- As the pizza shop sales are growing, now one worker is not enough for the whole business. So, we should hire several. If each seller has a separate compact oven for preparing exactly one pizza at a time, then we can divide the queue of buyers among the sellers.\n",
    "\n",
    "- Now each of them works independently, and this is a case of parallel processing. Each task in parallel processing is running in a continuous period as a whole unit process. "
   ]
  }
 ],
 "metadata": {
  "language_info": {
   "name": "python"
  }
 },
 "nbformat": 4,
 "nbformat_minor": 2
}
