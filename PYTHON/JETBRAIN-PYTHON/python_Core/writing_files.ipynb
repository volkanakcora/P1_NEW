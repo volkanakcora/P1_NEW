{
 "cells": [
  {
   "attachments": {},
   "cell_type": "markdown",
   "metadata": {},
   "source": [
    "# Write to file\n",
    "Well, the first step of writing to a file in Python is, of course, opening the said file for writing. The basic mode for writing is 'w', which allows us to write text to a file. There are a few things we need to pay attention to, though. First, this mode allows us to create new files. This happens when the file we're trying to open doesn't exist yet. Second, if the file already exists, its contents will be overwritten when we open it for writing.\n",
    "\n",
    "Now that the file is open, we can use the write() method. file.write() allows us to write strings to a file – other types of data need to be converted to a string beforehand. Let's see it in action."
   ]
  },
  {
   "cell_type": "code",
   "execution_count": null,
   "metadata": {},
   "outputs": [],
   "source": [
    "file = open('test_file.txt', 'w', encoding='utf-8')\n",
    "file.write('This is a line in a test file!')\n",
    "file.close()\n",
    "\n",
    "\n",
    "\n",
    "# -> If we read the same file and print its contents, we'll get this:\n",
    "\n",
    "# the output:\n",
    "# This is a line in a test file!"
   ]
  },
  {
   "attachments": {},
   "cell_type": "markdown",
   "metadata": {},
   "source": [
    "# Writing multiple lines\n",
    "If we want our file to have multiple lines, we need to specify where the ends of the lines should be. Lines in files are separated by newline escape sequences: '\\n', '\\r' or '\\r\\n'. We'll settle on '\\n' in this topic. Yet, keep in mind that this escape sequence depends on your operating system.\n",
    "\n",
    "Suppose, we have a list of names and we want to write them to a file, each on a new line. This is how it can be done:"
   ]
  },
  {
   "cell_type": "code",
   "execution_count": 1,
   "metadata": {},
   "outputs": [],
   "source": [
    "names = ['Kate', 'Alexander', 'Oscar', 'Mary']\n",
    "\n",
    "name_file = open('names.txt', 'w', encoding='utf-8')\n",
    "\n",
    "# write the names on separate lines\n",
    "for name in names:\n",
    "    name_file.write(name + '\\n')\n",
    "\n",
    "name_file.close()"
   ]
  },
  {
   "attachments": {},
   "cell_type": "markdown",
   "metadata": {},
   "source": [
    "Another method for writing the files is file.writelines(). writelines() takes an iterable sequence of strings and writes them to the file. Just like with write(), we need to specify the line separators ourselves. This is how we could've written the names.txt file using this method:\n",
    "\n"
   ]
  },
  {
   "cell_type": "code",
   "execution_count": null,
   "metadata": {},
   "outputs": [],
   "source": [
    "names = ['Kate\\n', 'Alexander\\n', 'Oscar\\n', 'Mary\\n']\n",
    "\n",
    "w\n",
    "name_file.writelines(names)\n",
    "\n",
    "name_file.close()"
   ]
  },
  {
   "attachments": {},
   "cell_type": "markdown",
   "metadata": {},
   "source": [
    "# Append to file\n",
    "The 'w' mode works perfectly fine if we don't care if anything gets deleted from the existing file. However, in many cases, we want to add some lines to the file, not overwrite it completely. How can we do that?\n",
    "\n",
    "Well, we can use the 'a' mode which stands for append. As you might have guessed, this allows us to write new strings to the file while keeping the existing ones.\n",
    "\n",
    "Suppose, we want to add the name Rachel to the names.txt.\n",
    "\n",
    "Here's how we can do that:"
   ]
  },
  {
   "cell_type": "code",
   "execution_count": 2,
   "metadata": {},
   "outputs": [],
   "source": [
    "name_file = open('names.txt', 'a', encoding='utf-8')\n",
    "\n",
    "name_file.write('Rachel\\n')\n",
    "\n",
    "name_file.close()"
   ]
  },
  {
   "cell_type": "code",
   "execution_count": 103,
   "metadata": {},
   "outputs": [
    {
     "name": "stdout",
     "output_type": "stream",
     "text": [
      "<_io.TextIOWrapper name='animals_new.txt' mode='w' encoding='utf-8'>\n"
     ]
    }
   ],
   "source": [
    "old_file = open('animals.txt', 'r', encoding='utf-8')\n",
    "new_file = open(\"animals_new.txt\", 'w', encoding='utf-8')\n",
    "animals = old_file.read()\n",
    "animals = animals.replace(\"\\n\", \" \")\n",
    "for animal in animals:\n",
    "    new_file.write(animal)\n",
    "\n",
    "old_file.close()\n",
    "new_file.close()\n"
   ]
  },
  {
   "cell_type": "code",
   "execution_count": 104,
   "metadata": {},
   "outputs": [],
   "source": [
    "color_list = ['cyan', 'magenta', 'yellow', 'key color']\n",
    "\n",
    "cmyk_file = open('CMYK.txt', 'w', encoding='utf-8')\n",
    "cmyk_file.writelines(color_list)\n",
    "cmyk_file.close()"
   ]
  }
 ],
 "metadata": {
  "kernelspec": {
   "display_name": "Python 3",
   "language": "python",
   "name": "python3"
  },
  "language_info": {
   "codemirror_mode": {
    "name": "ipython",
    "version": 3
   },
   "file_extension": ".py",
   "mimetype": "text/x-python",
   "name": "python",
   "nbconvert_exporter": "python",
   "pygments_lexer": "ipython3",
   "version": "3.11.3"
  },
  "orig_nbformat": 4
 },
 "nbformat": 4,
 "nbformat_minor": 2
}
