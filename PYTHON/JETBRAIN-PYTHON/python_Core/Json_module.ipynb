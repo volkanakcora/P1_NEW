{
 "cells": [
  {
   "attachments": {},
   "cell_type": "markdown",
   "metadata": {},
   "source": [
    "# Json module\n",
    "\n",
    "As you know, JSON is a very common format for storing text-based data. Even though it originally derived from JavaScript, nowadays this format is language-independent and is used in all kinds of situations. Naturally, programming languages have their ways of dealing with JSON, and in this topic, we will see how it is done in Python.\n",
    "\n",
    "json module\n",
    "Python has a built-in module for working with the JSON format: json. If we want to use it, we just need to import it at the beginning of the program.\n",
    "\n",
    "What does it allow us to do? Well, the two main procedures are converting Python data into JSON and the other way around. To better understand the logic behind the conversion, let's take a look at a JSON object:"
   ]
  },
  {
   "cell_type": "code",
   "execution_count": null,
   "metadata": {},
   "outputs": [],
   "source": [
    "{\n",
    "  \"movies\": [\n",
    "    {\n",
    "      \"title\": \"Inception\",\n",
    "      \"director\": \"Christopher Nolan\",\n",
    "      \"year\": 2010\n",
    "    },\n",
    "    {\n",
    "      \"title\": \"The Lord of the Rings: The Fellowship of the Ring\",\n",
    "      \"director\": \"Peter Jackson\",\n",
    "      \"year\": 2001\n",
    "    },\n",
    "    {\n",
    "      \"title\": \"Parasite\",\n",
    "      \"director\": \"Bong Joon Ho\",\n",
    "      \"year\": 2019\n",
    "    }\n",
    "  ]\n",
    "}\n"
   ]
  },
  {
   "attachments": {},
   "cell_type": "markdown",
   "metadata": {},
   "source": [
    "You can see that there are a lot of similarities between JSON notation and Python data types: we have strings and numbers, a JSON object looks similar to a Python dictionary, an array — to list. This makes conversions between JSON and Python quite easy and intuitive. Here's a full conversion table for encoding Python data to JSON:\n",
    "\n"
   ]
  },
  {
   "attachments": {},
   "cell_type": "markdown",
   "metadata": {},
   "source": [
    "# Encoding to JSON\n",
    "\n",
    "Generally, encoding to JSON format is called serialization. \n",
    "\n",
    "The  json module has two methods for serializing: \n",
    "\n",
    "json.dump() and json.dumps(). The key difference between these two methods is the type we're serializing to: \n",
    "- json.dump() writes to a file-like object, and \n",
    "- json.dumps() creates a string."
   ]
  },
  {
   "attachments": {},
   "cell_type": "markdown",
   "metadata": {},
   "source": [
    "Suppose, we have a dictionary equivalent to the JSON we've seen earlier.\n",
    "\n"
   ]
  },
  {
   "cell_type": "code",
   "execution_count": 2,
   "metadata": {},
   "outputs": [],
   "source": [
    "# Python dictionary \n",
    "movie_dict = {\n",
    "  \"movies\": [\n",
    "    {\n",
    "      \"title\": \"Inception\",\n",
    "      \"director\": \"Christopher Nolan\",\n",
    "      \"year\": 2010\n",
    "    },\n",
    "    {\n",
    "      \"title\": \"The Lord of the Rings: The Fellowship of the Ring\",\n",
    "      \"director\": \"Peter Jackson\",\n",
    "      \"year\": 2001\n",
    "    },\n",
    "    {\n",
    "      \"title\": \"Parasite\",\n",
    "      \"director\": \"Bong Joon Ho\",\n",
    "      \"year\": 2019\n",
    "    }\n",
    "  ]\n",
    "}"
   ]
  },
  {
   "cell_type": "code",
   "execution_count": 3,
   "metadata": {},
   "outputs": [],
   "source": [
    "import json\n",
    "\n",
    "\n",
    "with open(\"movies.json\", \"w\") as json_file:\n",
    "    json.dump(movie_dict, json_file)"
   ]
  },
  {
   "attachments": {},
   "cell_type": "markdown",
   "metadata": {},
   "source": [
    "As you can see, this method has two required arguments: the data and the file-like object that you can write to. If you run this code, you'll create a JSON file with the data about movies."
   ]
  },
  {
   "attachments": {},
   "cell_type": "markdown",
   "metadata": {},
   "source": [
    "Another option is serializing the data into a string using json.dumps(). In this case, the only required argument is the data we want to serialize:\n",
    "\n"
   ]
  },
  {
   "cell_type": "code",
   "execution_count": 4,
   "metadata": {},
   "outputs": [
    {
     "name": "stdout",
     "output_type": "stream",
     "text": [
      "{\"movies\": [{\"title\": \"Inception\", \"director\": \"Christopher Nolan\", \"year\": 2010}, {\"title\": \"The Lord of the Rings: The Fellowship of the Ring\", \"director\": \"Peter Jackson\", \"year\": 2001}, {\"title\": \"Parasite\", \"director\": \"Bong Joon Ho\", \"year\": 2019}]}\n"
     ]
    }
   ],
   "source": [
    "json_str = json.dumps(movie_dict)\n",
    "\n",
    "print(json_str)\n",
    "# {\"movies\": [{\"title\": \"Inception\", \"director\": \"Christopher Nolan\", \"year\": 2010}, {\"title\": \"The  Lord of the Rings: The Fellowship of the Ring\", \"director\": \"Peter Jackson\", \"year\": 2001}, {\"title\": \"Parasite\", \"director\": \"Bong Joon Ho\", \"year\": 2019}]}"
   ]
  },
  {
   "attachments": {},
   "cell_type": "markdown",
   "metadata": {},
   "source": [
    "!!!!! \n",
    "##### Careful with data types! JSON only supports strings as keys. Basic Python types like integers will get converted to strings automatically but for other types of keys, like tuple, you'll get a TypeError because the .dump() and .dumps() functions cannot convert it to a string."
   ]
  },
  {
   "attachments": {},
   "cell_type": "markdown",
   "metadata": {},
   "source": [
    "In addition to the required parameters, both methods have several optional ones. You can check them all out in the official documentation, here we'll only look at the indent parameter. You can see that the string we got in the example above is quite hard to read, compared to the original dictionary. Well, if we specify indent (an integer or a string), we can pretty-print our resulting JSON:\n",
    "\n"
   ]
  },
  {
   "cell_type": "code",
   "execution_count": 5,
   "metadata": {},
   "outputs": [
    {
     "name": "stdout",
     "output_type": "stream",
     "text": [
      "{\n",
      "    \"movies\": [\n",
      "        {\n",
      "            \"title\": \"Inception\",\n",
      "            \"director\": \"Christopher Nolan\",\n",
      "            \"year\": 2010\n",
      "        },\n",
      "        {\n",
      "            \"title\": \"The Lord of the Rings: The Fellowship of the Ring\",\n",
      "            \"director\": \"Peter Jackson\",\n",
      "            \"year\": 2001\n",
      "        },\n",
      "        {\n",
      "            \"title\": \"Parasite\",\n",
      "            \"director\": \"Bong Joon Ho\",\n",
      "            \"year\": 2019\n",
      "        }\n",
      "    ]\n",
      "}\n"
     ]
    }
   ],
   "source": [
    "json_str = json.dumps(movie_dict, indent=4)\n",
    "print(json_str)"
   ]
  },
  {
   "attachments": {},
   "cell_type": "markdown",
   "metadata": {},
   "source": [
    "# Decoding JSON\n",
    "The opposite procedure is deserialization. Similarly to serialization, the json module has two methods: json.load() and json.loads(). Here the difference is in the input JSONs: file-like objects or strings.\n",
    "\n",
    "Let's convert the JSONs we've just created back to Python data types.\n",
    "\n"
   ]
  },
  {
   "cell_type": "code",
   "execution_count": null,
   "metadata": {},
   "outputs": [],
   "source": [
    "# from a file\n",
    "with open(\"movies.json\", \"r\") as json_file:\n",
    "    movie_dict_from_json = json.load(json_file)\n",
    "\n",
    "print(movie_dict_from_json == movie_dict) "
   ]
  },
  {
   "attachments": {},
   "cell_type": "markdown",
   "metadata": {},
   "source": [
    "You can see that the dictionary that we got as a result of json.load() equals our original dictionary. The same with json.loads():"
   ]
  },
  {
   "cell_type": "code",
   "execution_count": null,
   "metadata": {},
   "outputs": [],
   "source": [
    "# from string\n",
    "print(movie_dict == json.loads(json_str))  # True\n"
   ]
  }
 ],
 "metadata": {
  "kernelspec": {
   "display_name": "Python 3",
   "language": "python",
   "name": "python3"
  },
  "language_info": {
   "codemirror_mode": {
    "name": "ipython",
    "version": 3
   },
   "file_extension": ".py",
   "mimetype": "text/x-python",
   "name": "python",
   "nbconvert_exporter": "python",
   "pygments_lexer": "ipython3",
   "version": "3.11.3"
  },
  "orig_nbformat": 4
 },
 "nbformat": 4,
 "nbformat_minor": 2
}
