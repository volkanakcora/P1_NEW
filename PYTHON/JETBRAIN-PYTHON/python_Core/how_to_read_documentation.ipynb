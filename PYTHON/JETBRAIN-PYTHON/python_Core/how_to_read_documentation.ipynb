{
 "cells": [
  {
   "attachments": {},
   "cell_type": "markdown",
   "metadata": {},
   "source": [
    "# How to read the documentation"
   ]
  },
  {
   "attachments": {},
   "cell_type": "markdown",
   "metadata": {},
   "source": [
    "Most programmers are used to googling an answer when they don't know how to do something or ask a question on a forum like Stack Overflow. Sometimes, on forums, you can come across such an abbreviation as RTFM. It has slightly different meanings, but we will focus on \"Read the following manual\". It speaks for itself, doesn't it? If you see such an answer, it means that the question could have been answered by reading the corresponding manual or documentation.\n",
    "\n",
    "Reading the documentation is, indeed, an essential skill for a programmer. To understand why it is so, let's consider several points:\n",
    "\n",
    "The official documentation is the most truthful and complete source.\n",
    "It contains up-to-date information for the latest versions.\n",
    "The same code can be written in different ways, but the documentation contains the best practices.\n",
    "These reasons should already be enough for you to open up to the documentation and hope that it will open up to you!"
   ]
  },
  {
   "attachments": {},
   "cell_type": "markdown",
   "metadata": {},
   "source": []
  }
 ],
 "metadata": {
  "language_info": {
   "name": "python"
  },
  "orig_nbformat": 4
 },
 "nbformat": 4,
 "nbformat_minor": 2
}
