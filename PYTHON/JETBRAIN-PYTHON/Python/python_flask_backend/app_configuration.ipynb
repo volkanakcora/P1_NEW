{
 "cells": [
  {
   "cell_type": "markdown",
   "metadata": {},
   "source": [
    "# App configuration\n",
    "\n",
    "In this topic, we will discuss how to configure an application. Imagine you've written the code, and everything works fine. Is this really the end? Unfortunately, no. You also need to configure the application. It's very important, as you need to indicate the limits of what the app can do. For example, you can allow the server to update the app automatically without restarting it. You can also configure the protection of the data and server from hackers. Let's begin!"
   ]
  },
  {
   "cell_type": "markdown",
   "metadata": {},
   "source": [
    "### General settings\n",
    "- First, let's talk about the development mode. If you remember, when you start a server, it prints several lines to the console:\n",
    "\n",
    "- Take a look at * Debug mode: off. It states that we are not in the development mode right now. The development mode basically provides you with a built-in debugger. It can point out your mistakes and show a detailed traceback in the browser. There are several ways to enable this mode; one of them is to use app.config. The config attribute of a Flask app is a dictionary. You can enable the development mode like this:\n"
   ]
  },
  {
   "cell_type": "code",
   "execution_count": null,
   "metadata": {},
   "outputs": [],
   "source": [
    "app.config['DEBUG'] = True\n"
   ]
  },
  {
   "cell_type": "markdown",
   "metadata": {},
   "source": [
    "Let's also talk about the Environment: production line. It tells us that the Flask is running as a server. Actually, that's why it warns us not to use the current configuration — we are working with a test web server that is not protected. We'll talk about how to switch to an operational web server a little later."
   ]
  },
  {
   "cell_type": "markdown",
   "metadata": {},
   "source": [
    "### Changing the settings\n",
    "\n",
    "To make your config better, let's see how you can make several changes in the settings of your application at once:"
   ]
  },
  {
   "cell_type": "code",
   "execution_count": null,
   "metadata": {},
   "outputs": [],
   "source": [
    "app.config.update({\n",
    "    'DEBUG': True,\n",
    "    'TESTING': True\n",
    "})"
   ]
  },
  {
   "cell_type": "markdown",
   "metadata": {},
   "source": [
    "In the example above, we have enabled both debug and test modes. So, you can set only one specific setting or multiple values at once."
   ]
  },
  {
   "cell_type": "markdown",
   "metadata": {},
   "source": [
    "Now, let's see what else we can do. There are several other settings that we can configure besides the debug mode. First, let's deal with the secret key, which will keep our app users' privacy. It can be created by using the os module:"
   ]
  },
  {
   "cell_type": "code",
   "execution_count": null,
   "metadata": {},
   "outputs": [],
   "source": [
    "import os\n",
    "\n",
    "key = os.urandom(24)  # specify the length in brackets\n",
    "app.config['SECRET_KEY'] = key"
   ]
  },
  {
   "cell_type": "markdown",
   "metadata": {},
   "source": [
    "Alternatively, you can use the same app.config.update method to put the key in the settings and become a valiant defender of personal data. Instead of using the os module, we can hit the keyboard 3 times and store the result as a secret key. It is, in fact, an ordinary string, a code word. However, os.urandom is more practical.\n",
    "\n",
    "We will cover the secret key purpose in the upcoming topics, but it's good to know how to configure it since it's one of the most important settings."
   ]
  },
  {
   "cell_type": "markdown",
   "metadata": {},
   "source": [
    "## Exception distinction\n"
   ]
  },
  {
   "cell_type": "markdown",
   "metadata": {},
   "source": [
    "Next comes a rather handy and intriguing setting that provides us with the ability to switch exceptions. This means that we can run our server and tell it, for example, to show specific errors instead of showing Internal Server Error only. We can switch the exception handling method. Sometimes, it can be useful when you need to make a web application that works at all costs and does not crash with an error. For this purpose, Flask has a separate setting that is called PROPAGATE_EXCEPTIONS. You can turn it on in the following way:\n",
    "\n",
    "- In other words, we can tell Flask to blend all exceptions into one. There are a few other settings that we will discover in the future. For the moment, we don't need them."
   ]
  },
  {
   "cell_type": "code",
   "execution_count": null,
   "metadata": {},
   "outputs": [],
   "source": [
    "app.config['PROPAGATE_EXCEPTIONS'] = True\n"
   ]
  },
  {
   "cell_type": "markdown",
   "metadata": {},
   "source": [
    "### Configuration files\n",
    "\n",
    "We have figured out how to use a couple of commands to customize an application. Imagine a situation when we have a project with several applications. This approach will no longer be convenient, as you'll need to re-set each setting for each application or copy them from the previous one. We can use configuration files instead. We'll create a Python file that contains our settings just like regular variables:"
   ]
  },
  {
   "cell_type": "code",
   "execution_count": null,
   "metadata": {},
   "outputs": [],
   "source": [
    "# inside file 'settings.py'\n",
    "\n",
    "DEBUG = True"
   ]
  },
  {
   "cell_type": "markdown",
   "metadata": {},
   "source": [
    "Now, we need to upload this file to our project and force the applications to use it. We can do it by this:"
   ]
  },
  {
   "cell_type": "code",
   "execution_count": null,
   "metadata": {},
   "outputs": [],
   "source": [
    "from flask import Flask\n",
    "\n",
    "\n",
    "app = Flask('main')\n",
    "app.config.from_object('settings')\n",
    "\n",
    "@app.route('/')\n",
    "def index():\n",
    "    return 'Wow! Debugging now!'\n",
    "\n",
    "app.run()"
   ]
  },
  {
   "cell_type": "markdown",
   "metadata": {},
   "source": [
    "## Environment variables\n",
    "In addition to Python configuration files, we can store settings in system variables! We need to create them first; there are several ways to do this. We will use the command line for it."
   ]
  },
  {
   "cell_type": "markdown",
   "metadata": {},
   "source": [
    "Linux:\n",
    "\n",
    ">``` $ export FLASK_CONF_VAR=path/to/settings.py```\n",
    "\n",
    "Windows:\n",
    "\n",
    "> ```> set FLASK_CONF_VAR=path/to/settings.py```"
   ]
  },
  {
   "cell_type": "markdown",
   "metadata": {},
   "source": [
    "!! Flask supports only upper-case variables.\n"
   ]
  },
  {
   "cell_type": "markdown",
   "metadata": {},
   "source": [
    "The next step is to show our program that there are settings to adopt from a system variable. To do this, use the from_envvar method. The rest of the code remains:\n"
   ]
  },
  {
   "cell_type": "code",
   "execution_count": null,
   "metadata": {},
   "outputs": [],
   "source": [
    "\n",
    "from flask import Flask\n",
    "\n",
    "app = Flask('main')\n",
    "app.config.from_envvar('FLASK_CONF_VAR')\n",
    "\n",
    "@app.route('/')\n",
    "def index():\n",
    "    return 'Wow! Debugging now!'\n",
    "\n",
    "app.run()"
   ]
  }
 ],
 "metadata": {
  "language_info": {
   "name": "python"
  }
 },
 "nbformat": 4,
 "nbformat_minor": 2
}
