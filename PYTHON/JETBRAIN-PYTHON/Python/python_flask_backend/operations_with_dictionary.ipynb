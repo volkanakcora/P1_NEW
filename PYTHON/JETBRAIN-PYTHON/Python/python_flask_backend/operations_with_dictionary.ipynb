{
 "cells": [
  {
   "cell_type": "code",
   "execution_count": null,
   "metadata": {},
   "outputs": [],
   "source": [
    "catalog = {'green table': 5000, 'brown chair': 1500, 'blue sofa': 15000, 'wardrobe': 10000}\n",
    " \n",
    "print('blue sofa' in catalog)        # True\n",
    "print('green table' not in catalog)  # False"
   ]
  },
  {
   "cell_type": "code",
   "execution_count": null,
   "metadata": {},
   "outputs": [],
   "source": [
    "print(1500 in catalog)  # False\n"
   ]
  },
  {
   "cell_type": "markdown",
   "metadata": {},
   "source": [
    "## Iterating over keys\n"
   ]
  },
  {
   "cell_type": "code",
   "execution_count": null,
   "metadata": {},
   "outputs": [],
   "source": [
    "tiny_dict = {'a': 1, 'b': 2, 'c': 3}\n",
    " \n",
    "for obj in tiny_dict:\n",
    "    print(obj)"
   ]
  },
  {
   "cell_type": "markdown",
   "metadata": {},
   "source": [
    "A similar way to iterate over keys is to use the keys method, which creates a special iterable object — a collection of dictionary keys:\n",
    "\n"
   ]
  },
  {
   "cell_type": "code",
   "execution_count": null,
   "metadata": {},
   "outputs": [],
   "source": [
    "print(tiny_dict.keys())  # dict_keys(['a', 'b', 'c'])"
   ]
  },
  {
   "cell_type": "markdown",
   "metadata": {},
   "source": [
    "Now let's try to write our loop using the keys method and check whether the output remains the same:"
   ]
  },
  {
   "cell_type": "code",
   "execution_count": null,
   "metadata": {},
   "outputs": [],
   "source": [
    "for obj in tiny_dict.keys():\n",
    "    print(obj)\n",
    "# a\n",
    "# b\n",
    "# c"
   ]
  },
  {
   "cell_type": "markdown",
   "metadata": {},
   "source": [
    "## Including values in iteration\n",
    "\n",
    "\n",
    "What if we want to get more than just the dictionary keys when iterating?\n",
    "\n",
    "Thevalues method is quite similar to the previous one, the only difference is that you get the values, not the keys. It provides a collection of values, without any information about keys that are used to get these values from the dictionary:"
   ]
  },
  {
   "cell_type": "code",
   "execution_count": null,
   "metadata": {},
   "outputs": [],
   "source": [
    "for value in tiny_dict.values():\n",
    "    print(value)\n",
    "# 1\n",
    "# 2\n",
    "# 3\n",
    "\n",
    "print(tiny_dict.values())  # dict_values([1, 2, 3])"
   ]
  },
  {
   "cell_type": "markdown",
   "metadata": {},
   "source": [
    "Finally, the items method provides complete iteration in case you need both keys and values. It returns the collection of (key, value) pairs (tuples):"
   ]
  },
  {
   "cell_type": "code",
   "execution_count": null,
   "metadata": {},
   "outputs": [],
   "source": [
    "for obj in tiny_dict.items():\n",
    "    print(obj)\n",
    "# ('a', 1)\n",
    "# ('b', 2)\n",
    "# ('c', 3)\n",
    "\n",
    "print(tiny_dict.items())  # dict_items([('a', 1), ('b', 2), ('c', 3)])"
   ]
  },
  {
   "cell_type": "markdown",
   "metadata": {},
   "source": [
    "## Dictionary comprehension\n",
    "Dictionary comprehension is a very convenient and concise way to create a new dictionary with one line of code. The minimal template looks like this:\n"
   ]
  },
  {
   "cell_type": "code",
   "execution_count": null,
   "metadata": {},
   "outputs": [],
   "source": [
    "dictionary = {key: value for element in iterable}\n"
   ]
  },
  {
   "cell_type": "markdown",
   "metadata": {},
   "source": [
    "Let's take a closer look. The expression is grouped in curly brackets — {}. What happens inside? The for loop goes over the elements of an iterable object (list, another dictionary, etc.)."
   ]
  },
  {
   "cell_type": "code",
   "execution_count": null,
   "metadata": {},
   "outputs": [],
   "source": [
    "dictionary = {key + 5: 'some_value' for key in range(3)}\n",
    "print(dictionary)  # {5: 'some_value', 6: 'some_value', 7: 'some_value'}"
   ]
  },
  {
   "cell_type": "markdown",
   "metadata": {},
   "source": [
    "However, the value is usually also associated with the iterable:\n",
    "\n"
   ]
  },
  {
   "cell_type": "code",
   "execution_count": null,
   "metadata": {},
   "outputs": [],
   "source": [
    "dictionary = {n + 10: n + 100 for n in range(5)}\n",
    "print(dictionary)  # {10: 100, 11: 101, 12: 102, 13: 103, 14: 104}"
   ]
  },
  {
   "cell_type": "markdown",
   "metadata": {},
   "source": [
    "In the example above, we retrieve keys and values by performing operations on elements in the iterable object."
   ]
  },
  {
   "cell_type": "markdown",
   "metadata": {},
   "source": [
    "However, dictionary comprehension is used more often to create a new dictionary by changing values in another dictionary. Imagine that we have a dictionary that contains the names of the planets and their diameters in kilometers. You need to create a new dictionary where the diameters are in miles. Without the dictionary comprehension, it would be like this:"
   ]
  },
  {
   "cell_type": "code",
   "execution_count": null,
   "metadata": {},
   "outputs": [],
   "source": [
    "planets_diameter_km = {'Earth': 12742, 'Mars': 6779}\n",
    "\n",
    "# correct but long way\n",
    "planets_diameter_mile = {}\n",
    "for key, value in planets_diameter_km.items():\n",
    "    planets_diameter_mile[key] = round(value / 1.60934, 2)\n",
    "    \n",
    "print(planets_diameter_mile)  # {'Earth': 7917.53, 'Mars': 4212.29}"
   ]
  },
  {
   "cell_type": "markdown",
   "metadata": {},
   "source": [
    "Now let's wrap the same operation with the dictionary comprehension; we will convert the values from kilometers into miles:"
   ]
  },
  {
   "cell_type": "code",
   "execution_count": null,
   "metadata": {},
   "outputs": [],
   "source": [
    "# convenient and short!\n",
    "planets_diameter_mile = {key: round(value / 1.60934, 2) for (key, value) in \n",
    "                         planets_diameter_km.items()}\n",
    "print(planets_diameter_mile)  # {'Earth': 7917.53, 'Mars': 4212.29}"
   ]
  },
  {
   "cell_type": "markdown",
   "metadata": {},
   "source": [
    "We can devise some conditions in our expression. For now, we want to include only the planets that are bigger than 10000 km in the new dictionary:"
   ]
  },
  {
   "cell_type": "code",
   "execution_count": null,
   "metadata": {},
   "outputs": [],
   "source": [
    "planets_diameter_mile = {key: round(value / 1.60934, 2) for (key, value) in\n",
    "                         planets_diameter_km.items() if value > 10000}\n",
    "print(planets_diameter_mile)  # {'Earth': 7917.53}"
   ]
  },
  {
   "cell_type": "markdown",
   "metadata": {},
   "source": [
    "## Sorting the dictionary\n"
   ]
  },
  {
   "cell_type": "markdown",
   "metadata": {},
   "source": [
    "As with any collection, you can sort a dictionary. Since it consists of (key, value) pairs, you can sort it either by keys or values"
   ]
  },
  {
   "cell_type": "code",
   "execution_count": 1,
   "metadata": {},
   "outputs": [],
   "source": [
    "catalog = {'green table': 5000, 'brown chair': 1500, 'blue sofa': 15000, 'wardrobe': 10000}\n"
   ]
  },
  {
   "cell_type": "markdown",
   "metadata": {},
   "source": [
    "First, let's sort it by keys. In our case, those will be furniture names, so we will be sorting them by alphabet. Here's how that is done."
   ]
  },
  {
   "cell_type": "code",
   "execution_count": 2,
   "metadata": {},
   "outputs": [],
   "source": [
    "import operator\n",
    "\n",
    "catalog_sorted_by_key = dict(sorted(catalog.items(), key=operator.itemgetter(0)))\n",
    "# {'blue sofa': 15000, 'brown chair': 1500, 'green table': 5000, 'wardrobe': 10000}"
   ]
  },
  {
   "cell_type": "markdown",
   "metadata": {},
   "source": [
    "Let's go over the code. The sorted function takes an iterable as an argument and returns a sorted list. We use catalog.items() because we want to keep the connection between keys and values in the sorted dictionary. So, sorted will return a sorted list of key-value pairs, so to get a sorted dictionary we need to turn it back into a dictionary.\n",
    "\n",
    "The key parameter determines the logic which is used to compare elements in the input iterable. Here we're using another built-in function that returns the item by its index. We sort by key, so we use the item with the index of 0."
   ]
  },
  {
   "cell_type": "markdown",
   "metadata": {},
   "source": [
    "To sort a dictionary by value, we just need to choose the item with index 1 as the key."
   ]
  },
  {
   "cell_type": "code",
   "execution_count": 3,
   "metadata": {},
   "outputs": [],
   "source": [
    "catalog_sorted_by_value = dict(sorted(catalog.items(), key=operator.itemgetter(1)))\n",
    "# {'brown chair': 1500, 'green table': 5000, 'wardrobe': 10000, 'blue sofa': 15000"
   ]
  },
  {
   "cell_type": "markdown",
   "metadata": {},
   "source": [
    "So far, we've been sorting in direct order, but if we wanted to sort in reverse order, we could do that by setting the parameter reverse=True for the sorted function."
   ]
  },
  {
   "cell_type": "code",
   "execution_count": 4,
   "metadata": {},
   "outputs": [],
   "source": [
    "catalog_sorted_by_value_reverse = dict(sorted(catalog.items(), key=operator.itemgetter(1), reverse=True))\n",
    "# {'blue sofa': 15000, 'wardrobe': 10000, 'green table': 5000, 'brown chair': 1500}"
   ]
  },
  {
   "cell_type": "markdown",
   "metadata": {},
   "source": [
    "## Dating App\n",
    "There's a list with info about people who search for a date. For each person, a few parameters are specified: their gender, age, hobbies, and city.\n",
    "\n",
    "potential_dates = [{\"name\": \"Julia\", \"gender\": \"female\", \"age\": 29,\n",
    "                    \"hobbies\": [\"jogging\", \"music\"], \"city\": \"Hamburg\"},\n",
    "                   {\"name\": \"Sasha\", \"gender\": \"male\", \"age\": 18,\n",
    "                    \"hobbies\": [\"rock music\", \"art\"], \"city\": \"Berlin\"}, \n",
    "                   {\"name\": \"Maria\", \"gender\": \"female\", \"age\": 35,\n",
    "                    \"hobbies\": [\"art\"], \"city\": \"Berlin\"},\n",
    "                   {\"name\": \"Daniel\", \"gender\": \"non-conforming\", \"age\": 50,\n",
    "                    \"hobbies\": [\"boxing\", \"reading\", \"art\"], \"city\": \"Berlin\"}, \n",
    "                   {\"name\": \"John\", \"gender\": \"male\", \"age\": 41,\n",
    "                    \"hobbies\": [\"reading\", \"alpinism\", \"museums\"], \"city\": \"Munich\"}]\n",
    "\n",
    "\n",
    "- Help a new user write a function that selects from the given list people older than 30, interested in art, and living in Berlin. The function should return their names as a string, separated by a comma and a space, e.g. \"Maria, Daniel\" for the example list above."
   ]
  },
  {
   "cell_type": "code",
   "execution_count": 5,
   "metadata": {},
   "outputs": [],
   "source": [
    "def select_dates(potential_dates):\n",
    "   selected_dates = [person['name'] for person in potential_dates if person['age'] > 30\n",
    "                     and \"art\" in person[\"hobbies\"] and person [\"city\"] == \"Berlin\"]\n",
    "   return \", \".join(selected_dates)"
   ]
  },
  {
   "cell_type": "code",
   "execution_count": 11,
   "metadata": {},
   "outputs": [
    {
     "name": "stdout",
     "output_type": "stream",
     "text": [
      "min:a\n",
      "max:c\n"
     ]
    }
   ],
   "source": [
    "import json\n",
    "import operator\n",
    "# The following line creates a dictionary from the input. Do not modify it, please\n",
    "test_dict = json.loads(input())\n",
    "\n",
    "# Work with the 'test_dict'\n",
    "# Find the key for the minimum value\n",
    "min_key = min(test_dict, key=test_dict.get)\n",
    "\n",
    "# Find the key for the maximum value\n",
    "max_key = max(test_dict, key=test_dict.get)\n",
    "\n",
    "print(f\"min: {min_key}\")\n",
    "print(f\"max: {max_key}\")\n",
    "\n",
    "\n"
   ]
  }
 ],
 "metadata": {
  "kernelspec": {
   "display_name": "Python 3",
   "language": "python",
   "name": "python3"
  },
  "language_info": {
   "codemirror_mode": {
    "name": "ipython",
    "version": 3
   },
   "file_extension": ".py",
   "mimetype": "text/x-python",
   "name": "python",
   "nbconvert_exporter": "python",
   "pygments_lexer": "ipython3",
   "version": "3.11.5"
  },
  "orig_nbformat": 4
 },
 "nbformat": 4,
 "nbformat_minor": 2
}
