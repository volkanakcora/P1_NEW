{
 "cells": [
  {
   "cell_type": "markdown",
   "metadata": {},
   "source": [
    "## Flask \n",
    "\n",
    "#### 1) Purpose\n",
    "Flask is good when you want to create web applications that have no dynamic web pages. The easiest task for Flask, which can be completed in 10-15 minutes, is a one-page business card site that presents a company or a person. Sounds great, doesn't it?\n",
    "\n",
    "\n",
    "Of course, not everything is that easy. You will need to take care of the outer look — make some pages using HTML, CSS, and JavaScript. This is usually done by front-end developers, as opposed to back-end programmers who use, for example, Flask to write website server part and web applications. Some may do both at once (back and front-end), they are called full-stack developers.\n",
    "\n",
    "\n",
    "#### 2) Other frameworks\n",
    "\n",
    "Everywhere in life, you find tasks that may have more than one solution; web development is no exception. In addition to Flask, there are other web frameworks, Django being the most popular. This is a large module that overlaps Flask in some ways. It offers everything at once, while Flask allows programmers to configure everything as it is convenient for them. For example, Django immediately connects the admin panel, registration service, databases, and a lot of other things. In Flask, you need to do this manually. It may seem inconvenient at first glance, but it is actually useful as it allows us to work only with the modules that we actually need.\n",
    "\n",
    "#### 3) Preparations\n",
    "Now, when we understand the most common purpose of Flask use, let's move on to practice. We'll begin with creating a virtual environment -- one of the most important steps when building a new application."
   ]
  },
  {
   "cell_type": "code",
   "execution_count": null,
   "metadata": {},
   "outputs": [],
   "source": [
    "# Unix\n",
    "python -m venv env\n",
    "source env/bin/activate\n",
    "pip install flask\n",
    "\n",
    "# Windows\n",
    "python -m venv env\n",
    "env\\Scripts\\activate\n",
    "pip install flask"
   ]
  },
  {
   "cell_type": "markdown",
   "metadata": {},
   "source": [
    "#### 4) Create your app\n",
    "It's time for us to write our first web app! It will take about 5 minutes, but I'm sure we can handle it. First, we need to import the main class of our framework:"
   ]
  },
  {
   "cell_type": "code",
   "execution_count": null,
   "metadata": {},
   "outputs": [],
   "source": [
    "from flask import Flask\n",
    "\n"
   ]
  },
  {
   "cell_type": "markdown",
   "metadata": {},
   "source": [
    "Now let's create a variable that will initialize the application. The first (and the only required) parameter is used to resolve the directory where the Flask application is installed (so that Flask knows where to look up for resources, templates, static files etc). Sometimes you will see using the ```__name__``` variable (which is basically equal to the module's the program runs in name) there, but in most cases it is recommended to hardcode the name of the application's package there. So we'll go with super-app:"
   ]
  },
  {
   "cell_type": "code",
   "execution_count": null,
   "metadata": {},
   "outputs": [],
   "source": [
    "app = Flask('super-app')\n"
   ]
  },
  {
   "cell_type": "markdown",
   "metadata": {},
   "source": [
    "We're halfway there, don't give up! Let's tell our app what to do if a user accesses a specific URL:\n",
    "\n"
   ]
  },
  {
   "cell_type": "code",
   "execution_count": null,
   "metadata": {},
   "outputs": [],
   "source": [
    "@app.route('/')\n",
    "def index():\n",
    "   return 'Hello World!'"
   ]
  },
  {
   "cell_type": "markdown",
   "metadata": {},
   "source": [
    "With the @app.route decorator, we're telling the program that the next function will be bound to a specific URL in the parentheses ('/' in our case). The function will show the following string: \"Hello World!\". Note that the function can have any name. What is important is that it follows the decorator.\n",
    "\n",
    "Finally, let's launch our creation:"
   ]
  },
  {
   "cell_type": "code",
   "execution_count": null,
   "metadata": {},
   "outputs": [],
   "source": [
    "app.run()\n"
   ]
  },
  {
   "cell_type": "markdown",
   "metadata": {},
   "source": [
    "### Handling routes\n",
    "n the simplest case, one URL corresponds to one function. Let's create two routes for our app: one for the main page and one for the information page at /about. We can do it by declaring view functions just like with the Hello world above:"
   ]
  },
  {
   "cell_type": "code",
   "execution_count": null,
   "metadata": {},
   "outputs": [],
   "source": [
    "@app.route('/')  \n",
    "def render_main():  \n",
    "    return 'This is the main page'\n",
    "\n",
    "@app.route('/about')  \n",
    "def render_about():  \n",
    "    return 'Project Information'"
   ]
  },
  {
   "cell_type": "markdown",
   "metadata": {},
   "source": [
    "One of the important properties of a decorator is the ability to use multiple decorators for a single function. "
   ]
  },
  {
   "cell_type": "code",
   "execution_count": null,
   "metadata": {},
   "outputs": [],
   "source": [
    "@app.route('/all')\n",
    "@app.route('/about')\n",
    "def construction_site():\n",
    "    return \"Construction Site\""
   ]
  },
  {
   "cell_type": "markdown",
   "metadata": {},
   "source": [
    "### Passing parameters\n",
    "\n",
    "Sometimes we need to output dynamic content depending on the parameter that users requested in the address bar. For example, we need to show different profile pages for every employee. Creating thousands of routes like /employee/Ivan/, employee/Anna/, or employee/Alex/ is nothing but a headache. Don't worry; Flask has our back! It's time to learn how to do it like a pro. In the example with employees, we would need to designate the variable name variable in the route and pass it to the function as a parameter:"
   ]
  },
  {
   "cell_type": "code",
   "execution_count": null,
   "metadata": {},
   "outputs": [],
   "source": [
    "@app.route('/employee/<name>/')\n",
    "def show_profile(name):\n",
    "    return \"Employee Name: \" + name"
   ]
  },
  {
   "cell_type": "markdown",
   "metadata": {},
   "source": [
    "In the example above, the value inside the <> brackets indicates a variable that allows us to declare route rules. In this case, the rule is that the show_profile function will handle every request matching the ```/employee/<name>/```."
   ]
  },
  {
   "cell_type": "markdown",
   "metadata": {},
   "source": [
    "#### Passing several parameters\n",
    "Sometimes we need to accept several parameters from the address bar for a single route. For example, we have a site on movies. It stores two characteristics — a title and genre: ```movies.com/movies/horror/saw/```  \n",
    "\n",
    "\n",
    "To pass them, use the following pattern:\n",
    "\n"
   ]
  },
  {
   "cell_type": "code",
   "execution_count": null,
   "metadata": {},
   "outputs": [],
   "source": [
    "@app.route('/movies/<genre>/<title>/')\n",
    "def render_movie(genre, title):\n",
    "    return \"There will be a \" + genre+ \" movie \" + title + \"here\""
   ]
  },
  {
   "cell_type": "markdown",
   "metadata": {},
   "source": [
    "Let's get it going. When you start the app and go to http://127.0.0.1:5000/movies/horror/saw/, you'll get a page with the specified message:"
   ]
  },
  {
   "cell_type": "markdown",
   "metadata": {},
   "source": [
    "#### Type conversion\n",
    "A URL is a string, so the data obtained from it is passed to the function in the form of a string. You can see it yourself by using type(). Create a route and go to /movies/1/:"
   ]
  },
  {
   "cell_type": "code",
   "execution_count": null,
   "metadata": {},
   "outputs": [],
   "source": [
    "@app.route('/movies/<movies_id>/')\n",
    "def render_movies(movies_id):\n",
    "    print(type(movies_id))\n",
    "    return \"\""
   ]
  },
  {
   "cell_type": "markdown",
   "metadata": {},
   "source": [
    "You will see <class 'str'> in the console.\n",
    "\n",
    "However, we don't always need a string. Flask allows us to change the immediate type of a variable:\n",
    "\n",
    "@app.route('/movies/<int:movies_id>/')\n",
    "\n",
    "@app.route('/movies/<float:movies_id>/')\n",
    "\n",
    "Try changing the code the following way:"
   ]
  },
  {
   "cell_type": "code",
   "execution_count": null,
   "metadata": {},
   "outputs": [],
   "source": [
    "@app.route('/movies/<int:movies_id>/')\n",
    "def render_book(movies_id):\n",
    "    print(type(movies_id))\n",
    "    return \"\""
   ]
  },
  {
   "cell_type": "code",
   "execution_count": null,
   "metadata": {},
   "outputs": [],
   "source": [
    "from flask import Flask\n",
    "\n",
    "app = Flask('main')\n",
    "app.app_context()\n",
    "\n",
    "@app.route('/videos/<animal>')\n",
    "def render_videos(animal):\n",
    "    return \"Here will be a video with \" + animal"
   ]
  },
  {
   "cell_type": "code",
   "execution_count": null,
   "metadata": {},
   "outputs": [],
   "source": [
    "from flask import Flask, render_template\n",
    "\n",
    "app = Flask('main')\n",
    "app.app_context()\n",
    "\n",
    "@app.route('/ref')\n",
    "@app.route('/link')\n",
    "def connect():\n",
    "     return render_template('connect.html')\n",
    "     "
   ]
  },
  {
   "cell_type": "code",
   "execution_count": null,
   "metadata": {},
   "outputs": [],
   "source": [
    "from flask import Flask, render_template\n",
    "\n",
    "app = Flask('main')\n",
    "app.app_context()\n",
    "\n",
    "@app.route('/help')\n",
    "# your code here\n",
    "def help():\n",
    "    return render_template('help.html')\n",
    "@app.route('/info')\n",
    "def info():\n",
    "    return render_template('info.html')\n",
    "# your code here"
   ]
  },
  {
   "cell_type": "markdown",
   "metadata": {},
   "source": [
    "You have the following address: /index/. When running the /index/10001 route, your program should check if there is a city with the corresponding index in the city_dict dictionary. If the dictionary contains the index, print the name of this city. If there's no such index, print the following message: There is no city with this index."
   ]
  },
  {
   "cell_type": "code",
   "execution_count": 2,
   "metadata": {},
   "outputs": [],
   "source": [
    "city_dict = {10001: \"New York\",\n",
    "             20001: \"Washington\",\n",
    "             101000: \"Moscow\"}\n"
   ]
  },
  {
   "cell_type": "code",
   "execution_count": 15,
   "metadata": {},
   "outputs": [
    {
     "ename": "TypeError",
     "evalue": "'function' object is not subscriptable",
     "output_type": "error",
     "traceback": [
      "\u001b[0;31m---------------------------------------------------------------------------\u001b[0m",
      "\u001b[0;31mTypeError\u001b[0m                                 Traceback (most recent call last)",
      "\u001b[1;32m/home/oh856/P1-REPO/PYTHON/JETBRAIN-PYTHON/python_flask_backend/FLASK.ipynb Cell 30\u001b[0m line \u001b[0;36m8\n\u001b[1;32m      <a href='vscode-notebook-cell:/home/oh856/P1-REPO/PYTHON/JETBRAIN-PYTHON/python_flask_backend/FLASK.ipynb#X41sZmlsZQ%3D%3D?line=3'>4</a>\u001b[0m     \u001b[39mexcept\u001b[39;00m:\n\u001b[1;32m      <a href='vscode-notebook-cell:/home/oh856/P1-REPO/PYTHON/JETBRAIN-PYTHON/python_flask_backend/FLASK.ipynb#X41sZmlsZQ%3D%3D?line=4'>5</a>\u001b[0m         \u001b[39mprint\u001b[39m(\u001b[39m\"\u001b[39m\u001b[39mThere is no city with this index.\u001b[39m\u001b[39m\"\u001b[39m)\n\u001b[0;32m----> <a href='vscode-notebook-cell:/home/oh856/P1-REPO/PYTHON/JETBRAIN-PYTHON/python_flask_backend/FLASK.ipynb#X41sZmlsZQ%3D%3D?line=7'>8</a>\u001b[0m number[\u001b[39m10001\u001b[39;49m]\n",
      "\u001b[0;31mTypeError\u001b[0m: 'function' object is not subscriptable"
     ]
    }
   ],
   "source": [
    "from flask import Flask\n",
    "\n",
    "app = Flask('main')\n",
    "app.app_context()\n",
    "\n",
    "city_dict = {10001: \"New York\",\n",
    "             20001: \"Washington\",\n",
    "             101000: \"Moscow\"}\n",
    "\n",
    "@app.route('/index/<int:index>')\n",
    "def render_city(index):\n",
    "    if index in city_dict:\n",
    "        return city_dict[index]\n",
    "    else:\n",
    "        return \"There is no city with this index\""
   ]
  }
 ],
 "metadata": {
  "kernelspec": {
   "display_name": ".venv",
   "language": "python",
   "name": "python3"
  },
  "language_info": {
   "codemirror_mode": {
    "name": "ipython",
    "version": 3
   },
   "file_extension": ".py",
   "mimetype": "text/x-python",
   "name": "python",
   "nbconvert_exporter": "python",
   "pygments_lexer": "ipython3",
   "version": "3.8.10"
  }
 },
 "nbformat": 4,
 "nbformat_minor": 2
}
