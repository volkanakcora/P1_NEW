{
 "cells": [
  {
   "cell_type": "markdown",
   "metadata": {},
   "source": [
    "## Advanced responses\n",
    "\n",
    "You are on your way to becoming a first-class developer! Don't get overexcited, though. A lot of new and fascinating things lie ahead. Today, we will talk about redirects and flash messages. They can improve your app, guide users, show a notification, and so on. Let's get it started!"
   ]
  },
  {
   "cell_type": "markdown",
   "metadata": {},
   "source": [
    "# Redirects\n",
    "\n",
    "- Let's cover the redirect first. We need it to send users to another page in a forced manner. Let's take a simple example. You go to YouTube, click on the login button, enter your username and password, and... you are brought back to the main page. The magic in action! Let's take a look at how it works in practice.\n",
    "\n",
    "As usual, we need to import necessary objects and initialize the app. After that, we create two view functions so that one redirects to another. To do this, use the redirect method to return a value:"
   ]
  },
  {
   "cell_type": "code",
   "execution_count": null,
   "metadata": {},
   "outputs": [],
   "source": [
    "from flask import Flask, redirect\n",
    "\n",
    "app = Flask('main')\n",
    "\n",
    "@app.route('/')\n",
    "def main_view():\n",
    "    return \"Hello, it's the Main Page!\"\n",
    "\n",
    "@app.route('/redirector')\n",
    "def redirect_view():\n",
    "    return redirect('/')\n",
    "\n",
    "app.run()"
   ]
  },
  {
   "cell_type": "markdown",
   "metadata": {},
   "source": [
    "The redirect method is rather simple. We pass a string that specifies the destination URL; that's it. It has several additional arguments, but we won't talk about them for now. You can find the exhaustive list in the official\n",
    "\n",
    "When you go to /redirector, the site redirects you to the main page! That's how the redirect works: specify the URL, and a site or app will bring you to it:\n",
    "\n"
   ]
  },
  {
   "cell_type": "markdown",
   "metadata": {},
   "source": [
    "You can use this method to redirect users to the home page after authorization, a placeholder for mail confirmation, and so on. The method is extremely handy."
   ]
  },
  {
   "cell_type": "markdown",
   "metadata": {},
   "source": [
    "## Flash messages\n",
    "\n",
    "What do you know about flash messages? If not much, we have something for you — flashes (also known as pop-ups) are notifications in a browser. Flash messages are saved after redirection. For example, users log in to our site, and we immediately send them a flash with a message that the login was successful. After that, we redirect them to the main page, and the flash message remains there. Let's take a look at the implementation. As usual, we must import methods and objects first:\n",
    "\n"
   ]
  },
  {
   "cell_type": "code",
   "execution_count": null,
   "metadata": {},
   "outputs": [],
   "source": [
    "from flask import Flask, flash, get_flashed_messages\n",
    "\n",
    "app = Flask('main')"
   ]
  },
  {
   "cell_type": "markdown",
   "metadata": {},
   "source": [
    "After that, we need to specify the secret key. It allows us to use flashes:\n",
    "\n"
   ]
  },
  {
   "cell_type": "code",
   "execution_count": null,
   "metadata": {},
   "outputs": [],
   "source": [
    "app.config['SECRET_KEY'] = 'So-Seckrekt'\n"
   ]
  },
  {
   "cell_type": "markdown",
   "metadata": {},
   "source": [
    "And now we should define two view functions. The main page view function is conventional:\n",
    "\n"
   ]
  },
  {
   "cell_type": "code",
   "execution_count": null,
   "metadata": {},
   "outputs": [],
   "source": [
    "@app.route('/')\n",
    "def main_view():\n",
    "    return \"Hello, it's the Main Page!\""
   ]
  },
  {
   "cell_type": "markdown",
   "metadata": {},
   "source": [
    "But the second one is more intriguing. That's where we use something new! Take a look:\n",
    "\n"
   ]
  },
  {
   "cell_type": "code",
   "execution_count": null,
   "metadata": {},
   "outputs": [],
   "source": [
    "@app.route('/not_ready')\n",
    "def redirect_view():\n",
    "    flash('This page is not ready yet! Return later!')\n",
    "    return get_flashed_messages()[0]"
   ]
  },
  {
   "cell_type": "markdown",
   "metadata": {},
   "source": [
    "The flash method sends a message with the specified text, and the get_flashed_messages function returns a list of all flashed messages. This is a simple way to inform or warn your users. Now, it is time to start your app with app.run() and bring your creation to light! Your main page:\n"
   ]
  },
  {
   "cell_type": "markdown",
   "metadata": {},
   "source": [
    "If you go to /not_ready, Flask will send you a flash message that says This page is not ready yet! Return later! This is exactly what we wanted."
   ]
  }
 ],
 "metadata": {
  "language_info": {
   "name": "python"
  }
 },
 "nbformat": 4,
 "nbformat_minor": 2
}
