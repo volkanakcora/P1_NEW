{
 "cells": [
  {
   "cell_type": "markdown",
   "metadata": {},
   "source": [
    "# Views in Django \n",
    "\n",
    "We learned that Django follows the Model-View-Template pattern, similar to MVC. Now, it's time to get in touch with the central part of the MVT paradigm — the view, the idea that the Django framework stands on. Let's write some views!"
   ]
  },
  {
   "cell_type": "markdown",
   "metadata": {},
   "source": [
    "# What is a view?\n",
    "\n",
    "- The main logic of the interaction of applications with a user is described in views. Function-based views or Class-based views are responsible for how requests are processed and what answers (HTML pages and dynamic data on them) users get from our service."
   ]
  },
  {
   "cell_type": "markdown",
   "metadata": {},
   "source": [
    "We'll create simple view functions to memorize them while making a simple blog application. Let's say we have an ambitious idea of forming a community for Django learners, mentors, and enthusiasts. To start, we'll need a simple site to share our experiences and problems in learning. Let's start working on it!"
   ]
  },
  {
   "cell_type": "markdown",
   "metadata": {},
   "source": [
    "# Preparations for simple views\n",
    "\n"
   ]
  },
  {
   "cell_type": "code",
   "execution_count": null,
   "metadata": {
    "vscode": {
     "languageId": "shellscript"
    }
   },
   "outputs": [],
   "source": [
    "django-admin startproject blog\n",
    "cd blog\n",
    "python3 manage.py startapp blogsite"
   ]
  },
  {
   "cell_type": "markdown",
   "metadata": {},
   "source": [
    "First, let's get acquainted with the render function that helps represent a simple HTML template of our blog. Frankly speaking, we don't need a template in the simplest case. For example, we can write these views in views.py file:"
   ]
  },
  {
   "cell_type": "code",
   "execution_count": null,
   "metadata": {},
   "outputs": [],
   "source": [
    "from django.http import HttpResponse\n",
    "  \n",
    "def index(request):\n",
    "    return HttpResponse(\"Welcome to blog of Django learners!\")\n",
    "\n",
    "def list_articles(request):\n",
    "    return HttpResponse(\"List of articles\")\n",
    "\n",
    "def contributors(request):\n",
    "    return HttpResponse(\"Contributors of our community\")"
   ]
  },
  {
   "cell_type": "markdown",
   "metadata": {},
   "source": [
    "To make this HttpResponse work, add URL patterns to urls.py in the blog directory. The urlpatterns variable determines a set of request comparisons and the view functions to proceed with them.\n",
    "\n",
    "As we have the urls.py file in the folder of the project, we'll connect it with the application's ```views.py``` file as follows with the include function:"
   ]
  },
  {
   "cell_type": "code",
   "execution_count": null,
   "metadata": {},
   "outputs": [],
   "source": [
    "from django.contrib import admin\n",
    "from django.urls import path, include\n",
    "\n",
    "urlpatterns = [\n",
    "    path('admin/', admin.site.urls),\n",
    "    path('blogsite/', include('blogsite.urls')),\n",
    "]"
   ]
  },
  {
   "cell_type": "markdown",
   "metadata": {},
   "source": [
    "The next step is to create a urls.py file inside the application blogsite manually, and that's where our URL addresses are to be placed:"
   ]
  },
  {
   "cell_type": "code",
   "execution_count": null,
   "metadata": {},
   "outputs": [],
   "source": [
    "from django.urls import path\n",
    "from . import views\n",
    "\n",
    "urlpatterns = [\n",
    "    path('', views.index, name='index'),\n",
    "    path('list_of_articles/', views.list_articles, name='list'),\n",
    "    path('contributors/', views.contributors),\n",
    "    ]"
   ]
  },
  {
   "cell_type": "markdown",
   "metadata": {},
   "source": [
    "That's all! Now, let's run the following command:\n",
    "\n"
   ]
  },
  {
   "cell_type": "code",
   "execution_count": null,
   "metadata": {},
   "outputs": [],
   "source": [
    "python3 manage.py runserver\n"
   ]
  },
  {
   "cell_type": "markdown",
   "metadata": {},
   "source": [
    "Nice! A bit too old-fashioned and straightforward for our goals. Of course, we can place some HTML or even big pieces of code into such view functions, but that's not useful and hard to support in case of vast projects. So let's go further and make something more exciting and informative."
   ]
  },
  {
   "cell_type": "markdown",
   "metadata": {},
   "source": [
    "By the way, we haven't yet tried to add kwargs to our view function, which is also an available option. For example, we could pass some changing data to the page of our blog:"
   ]
  },
  {
   "cell_type": "code",
   "execution_count": null,
   "metadata": {},
   "outputs": [],
   "source": [
    "# in the views.py file:\n",
    "def contributors(request, age, name, experience):\n",
    "    return HttpResponse(f\"\"\"\n",
    "            <h2>Contributor of our community:</h2>\n",
    "            <p>Name: {name}</p>\n",
    "            <p>Age: {age}</p>\n",
    "            <p>Experience and some info you'd like to share: {experience}</p>\n",
    "    \"\"\")"
   ]
  },
  {
   "cell_type": "code",
   "execution_count": null,
   "metadata": {},
   "outputs": [],
   "source": [
    "# in the urls.py file:\n",
    "urlpatterns = [\n",
    "    path('contributors/', views.contributors, kwargs={\"name\": \"Robert May\", \"age\": 38, \"experience\": \n",
    "    \"Two years in startup, graduated from MIT in 2020\"}),\n",
    "    ]"
   ]
  },
  {
   "cell_type": "markdown",
   "metadata": {},
   "source": [
    "Not much can be done with this functionality, but such mechanisms can be used as a base for our coding fantasy. This is what we get as a result:"
   ]
  },
  {
   "cell_type": "markdown",
   "metadata": {},
   "source": [
    "Since our blog needs a database to store the information our future community members will share, let's create models in models.py file for articles and contributors (or authors, if you like):"
   ]
  },
  {
   "cell_type": "code",
   "execution_count": null,
   "metadata": {},
   "outputs": [],
   "source": [
    "from django.db import models\n",
    "from django.contrib.auth.models import User\n",
    "from datetime import date\n",
    "from django.urls import reverse\n",
    "\n",
    "\n",
    "class Article(models.Model):\n",
    "    title = models.CharField(max_length=250, help_text='Enter a title for a new article')\n",
    "    text = models.CharField(max_length=1000, help_text='Place your story here')\n",
    "    author = models.ForeignKey('Contributor', on_delete=models.SET_NULL, null=True)\n",
    "    date = models.DateTimeField(null=True, blank=True)\n",
    "\n",
    "    def __str__(self):\n",
    "        return self.title\n",
    "\n",
    "\n",
    "class Contributor(models.Model):\n",
    "    name = models.CharField(max_length=250, help_text='Enter first name of the contributor')\n",
    "    surname = models.CharField(max_length=500, help_text='Enter surname of the contributor')\n",
    "    about = models.CharField(max_length=2000, help_text='Tell us about yourself, your experience and current work')\n",
    "    email = models.EmailField(null=True, blank=True)\n",
    "\n",
    "    class Meta:\n",
    "        ordering = ['surname', 'name']\n",
    "\n",
    "    def __str__(self):\n",
    "        return f'{self.surname}, {self.name}'"
   ]
  },
  {
   "cell_type": "markdown",
   "metadata": {},
   "source": [
    "Don't forget to register your models in the admin.py file:\n",
    "\n"
   ]
  },
  {
   "cell_type": "code",
   "execution_count": null,
   "metadata": {},
   "outputs": [],
   "source": [
    "from django.contrib import admin\n",
    "from .models import Article, Contributor\n",
    "\n",
    "admin.site.register(Article)\n",
    "admin.site.register(Contributor)"
   ]
  },
  {
   "cell_type": "markdown",
   "metadata": {},
   "source": [
    "We will also need a template to represent the results of data processing. Don't forget that we should add the templates/blogsite folder to the tree of the application manually:"
   ]
  },
  {
   "cell_type": "markdown",
   "metadata": {},
   "source": [
    "We'll start with the index.html page, which will be the list of articles in the blog. For example, the template may look like this:"
   ]
  },
  {
   "cell_type": "code",
   "execution_count": null,
   "metadata": {
    "vscode": {
     "languageId": "html"
    }
   },
   "outputs": [],
   "source": [
    "<!DOCTYPE html>\n",
    "<html lang=\"en\">\n",
    "<head>\n",
    "    <meta charset=\"UTF-8\">\n",
    "    <title>Greetings page</title>\n",
    "</head>\n",
    "<body>\n",
    "  <h1>Hello, {{ greetings_to }} !</h1>\n",
    "  <h1>Unread articles for today: {{num_articles }}</h1>\n",
    "  {% for article in articles %}\n",
    "    <h4>{{ article.title }}</h4>\n",
    "    <h4>{{ article.author }}</h4>\n",
    "    <p>{{ article.date }}</p>\n",
    "    <p>{{ article.text }}</p>\n",
    "    <be>\n",
    "  {% endfor %}\n",
    "</body>\n",
    "</html>"
   ]
  },
  {
   "cell_type": "markdown",
   "metadata": {},
   "source": [
    "One more preparation step, and we'll be ready to create a view function at last. Let's modify urlpatterns in the urls.py file:"
   ]
  },
  {
   "cell_type": "code",
   "execution_count": null,
   "metadata": {},
   "outputs": [],
   "source": [
    "urlpatterns = [\n",
    "    path('', views.index, name='articles_list'),\n",
    "    ]"
   ]
  },
  {
   "cell_type": "markdown",
   "metadata": {},
   "source": [
    "# Create view functions\n"
   ]
  },
  {
   "cell_type": "markdown",
   "metadata": {},
   "source": [
    "We can now create a view function for the index page of our blog:\n",
    "\n"
   ]
  },
  {
   "cell_type": "code",
   "execution_count": null,
   "metadata": {},
   "outputs": [],
   "source": [
    "def index(request):\n",
    "    greetings_to = 'Anonymous'\n",
    "    num_articles = Article.objects.all().count()\n",
    "    articles = Article.objects.all\n",
    "    return render(request, 'blogsite/index.html', {'num_articles': num_articles, 'greetings_to': greetings_to, 'articles': articles})"
   ]
  },
  {
   "cell_type": "markdown",
   "metadata": {},
   "source": [
    "Here we define the variables that we use in the HTML template, get data from the database (which is called a QuerySet, a list of objects of a model) and pass them as a dictionary to the render function."
   ]
  },
  {
   "cell_type": "markdown",
   "metadata": {},
   "source": [
    "It's nice to see our work's results already, right? But to make our view function look prettier, let's form a special dictionary named context which is more convenient to work with:"
   ]
  },
  {
   "cell_type": "code",
   "execution_count": null,
   "metadata": {},
   "outputs": [],
   "source": [
    "# views.py file\n",
    "def index(request):\n",
    "    num_articles = Article.objects.all().count()\n",
    "    articles = Article.objects.all\n",
    "    context = {\n",
    "        'greetings_to': 'Anonymous',\n",
    "        'num_articles': num_articles,\n",
    "        'articles': articles,\n",
    "    }\n",
    "    return render(request, 'blogsite/index.html', context=context)"
   ]
  },
  {
   "cell_type": "markdown",
   "metadata": {},
   "source": [
    "# Class-based views\n",
    "\n",
    "- By now, we have a list of articles on the main page. But to extend the functionality of our application, let's add the possibility to open a page with an article we're interested in by link from the list. We need to extract information from URL patterns and pass it to the view for that purpose. For that purpose, we will use a different way of forming class-based views instead of functions.\n",
    "\n",
    "- Django framework provides us with generic views from the box, reducing the code we need to write and simplifying its maintenance (extremely helpful in complicated wide applications).\n",
    "\n",
    "To change the existing solution, let's start with a URL pattern:\n",
    "\n",
    "\n"
   ]
  },
  {
   "cell_type": "code",
   "execution_count": null,
   "metadata": {},
   "outputs": [],
   "source": [
    "urlpatterns = [\n",
    "    ...\n",
    "    path('', views.ArticleListView.as_view(), name='index')\n",
    "    ]"
   ]
  },
  {
   "cell_type": "markdown",
   "metadata": {},
   "source": [
    "The view function's name looks different than the previous one we created. That's because we're going to implement it as a class. It's inherited from a generic view function that already exists. As you can see, we're calling the class method as_view() . Let's look at the class itself:The view function's name looks different than the previous one we created. That's because we're going to implement it as a class. It's inherited from a generic view function that already exists. As you can see, we're calling the class method as_view() . Let's look at the class itself:"
   ]
  },
  {
   "cell_type": "code",
   "execution_count": null,
   "metadata": {},
   "outputs": [],
   "source": [
    "from django.views import generic\n",
    "\n",
    "class ArticleListView(generic.ListView):\n",
    "    model = Article\n",
    "    context_object_name = 'articles'\n",
    "    queryset = Article.objects.all()\n",
    "    template_name = 'index.html'"
   ]
  },
  {
   "cell_type": "markdown",
   "metadata": {},
   "source": [
    "The generic views query the database for instances of our model and render the existing template. If we didn't specify the template name, the view class would look for articles_list.html by default regarding the context_object_name variable. It's not necessary to define the queryset variable, but it's helpful if we need to use filters for data from the database by overriding methods of the class, like utilizing the get_queryset() method:"
   ]
  },
  {
   "cell_type": "code",
   "execution_count": null,
   "metadata": {},
   "outputs": [],
   "source": [
    "from django.views import generic\n",
    "\n",
    "class ArticleListView(generic.ListView):\n",
    "    model = Article\n",
    "    \n",
    "    def get_queryset(self):\n",
    "        return Article.objects.filter(title_icontains='django')[:3]"
   ]
  },
  {
   "cell_type": "markdown",
   "metadata": {},
   "source": [
    "In such case, our list will contain only the three first articles with the word django in the title."
   ]
  },
  {
   "cell_type": "markdown",
   "metadata": {},
   "source": [
    "By the way, our ArticleListView doesn't work the same way as the index function we've created. There is no greeting name on the page yet (of course, the name could be changed dynamically, but it's not the point of our topic, so it's simplified to show the principle of variables use), as well as no amount of articles available. And that's a good moment to demonstrate one more way to override context data by adding more information to the generic view. It can be done like this:"
   ]
  },
  {
   "cell_type": "code",
   "execution_count": null,
   "metadata": {},
   "outputs": [],
   "source": [
    "class ArticleListView(generic.ListView):\n",
    "    model = Article\n",
    "    context_object_name = 'articles'\n",
    "    queryset = Article.objects.all()\n",
    "    template_name = 'index.html'\n",
    "\n",
    "    def get_context_data(self, **kwargs):\n",
    "        num_articles = Article.objects.all().count()\n",
    "        context = super(ArticleListView, self).get_context_data(**kwargs)\n",
    "        context['greetings_to'] = 'Anonymous'\n",
    "        context['num_articles'] = num_articles\n",
    "        return context"
   ]
  },
  {
   "cell_type": "markdown",
   "metadata": {},
   "source": [
    "In get_context_data() function, we call the immediate context of the class first and then create some new data we need to add to the template."
   ]
  },
  {
   "cell_type": "markdown",
   "metadata": {},
   "source": [
    "One more option we can use if needed is pagination. Imagine that our blog is popular, our community expands every minute, and the number of articles in the database increases. To control the number of articles presented on one single page, we need only one extra line in the view:"
   ]
  },
  {
   "cell_type": "code",
   "execution_count": null,
   "metadata": {},
   "outputs": [],
   "source": [
    "class ArticleListView(generic.ListView):\n",
    "    model = Article\n",
    "    paginate_by = 10"
   ]
  },
  {
   "cell_type": "markdown",
   "metadata": {},
   "source": [
    "When paths are modified, manually updating every URL within your templates can be difficult. The solution to this is to define functions that return the URL instead. As we plan to have working links in the list, let's change our Article model by adding a class method get_absolute_url()."
   ]
  },
  {
   "cell_type": "code",
   "execution_count": null,
   "metadata": {},
   "outputs": [],
   "source": [
    "class Article(models.Model):\n",
    "    ...\n",
    "\n",
    "    def get_absolute_url(self):\n",
    "        return reverse('article-detail', args=[str(self.id)])"
   ]
  },
  {
   "cell_type": "markdown",
   "metadata": {},
   "source": [
    "HTML-template in the index.html also needs to be modified:\n",
    "\n"
   ]
  },
  {
   "cell_type": "code",
   "execution_count": null,
   "metadata": {},
   "outputs": [],
   "source": [
    "{% for article in articles %}\n",
    "      <li>\n",
    "        <a href=\"{{ article.get_absolute_url }}\">{{ article.title }}</a> {{article.author}}\n",
    "      </li>\n",
    "{% endfor %}"
   ]
  },
  {
   "cell_type": "markdown",
   "metadata": {},
   "source": [
    "The view for article representation may look minimalistic if it's inherited from generic DetailView:"
   ]
  },
  {
   "cell_type": "code",
   "execution_count": null,
   "metadata": {},
   "outputs": [],
   "source": [
    "class ArticleDetailView(generic.DetailView):\n",
    "    model = Article\n",
    "    template_name = 'article.html'"
   ]
  },
  {
   "cell_type": "markdown",
   "metadata": {},
   "source": [
    "Oh, and don't forget to add HTML-template article.html to the templates/blogsite folder!\n",
    "\n"
   ]
  },
  {
   "cell_type": "code",
   "execution_count": null,
   "metadata": {},
   "outputs": [],
   "source": [
    "<!DOCTYPE html>\n",
    "<html lang=\"en\">\n",
    "<head>\n",
    "    <meta charset=\"UTF-8\">\n",
    "    <title>Time to learn something new!</title>\n",
    "</head>\n",
    "<body>\n",
    "  <h3>{{article.title}}</h3>\n",
    "\n",
    "  <h4>{{article.author}}</h4>\n",
    "  <br>\n",
    "  <h4>{{article.text}}</h4>\n",
    "</body>\n",
    "</html>"
   ]
  },
  {
   "cell_type": "markdown",
   "metadata": {},
   "source": [
    "The only thing missing is the path for this page:\n",
    "\n"
   ]
  },
  {
   "cell_type": "code",
   "execution_count": null,
   "metadata": {},
   "outputs": [],
   "source": [
    "urlpatterns = [\n",
    "    ....\n",
    "    path('article/<int:pk>', views.ArticleDetailView.as_view(), name='article-detail'),\n",
    "    ]"
   ]
  },
  {
   "cell_type": "markdown",
   "metadata": {},
   "source": [
    "The primary key of a model instance accesses the article we want to read. And we didn't need any additional code lines to make it work. It's all done by DetailView and get_absolute_url() method."
   ]
  }
 ],
 "metadata": {
  "language_info": {
   "name": "python"
  }
 },
 "nbformat": 4,
 "nbformat_minor": 2
}
