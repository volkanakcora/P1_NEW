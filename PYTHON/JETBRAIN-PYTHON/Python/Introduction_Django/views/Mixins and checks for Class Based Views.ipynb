{
 "cells": [
  {
   "cell_type": "markdown",
   "metadata": {},
   "source": [
    "# Mixins and checks for Class Based Views\n",
    "One of the most important principles of programming is DRY (Don't Repeat Yourself). Effective coding requires eliminating repetitions. A good rule of thumb for DRY is, \"if you have written it three times, consider rewriting it in a separate entity\". OOP (Object-Oriented Programming) has largely embraced this principle through inheritance, one of its foundational concepts. There are numerous ways to achieve inheritance, with mixins in Django being one such example that reinforces the DRY principle. Think of mixins as functionality extensions, enabling easy reuse in future coding. In this topic, we'll delve into understanding what mixins are, exploring the mixins available in Django, and learning how to write your own mixins.\n",
    "\n",
    "### Mixin concept and inheritance\n",
    "\n",
    "Mixins are reusable code segments incorporated within a class to enhance its capabilities. They are utilized in Django to augment the functionality of views, forms, and models. This facilitates code reusability and enhances application performance. Typically, mixins are created as classes and appended to other classes via inheritance.\n",
    "\n",
    "Mixins extend a class's capabilities by utilizing inheritance. A Python class can inherit from numerous other classes, thereby gaining access to all their methods and properties. Generally, mixins are established as singular classes from which other classes may inherit to expand functionality. When a class is derived from a mixin, it acquires all the methods and properties defined in the mixin, along with any properties and methods defined in the class itself. Mixins assist in refactoring objects and in writing DRY (Don’t Repeat Yourself) code. There are two types of mixins in Django: built-in mixins and custom mixins. Custom mixins are those created by a user to fulfill the specific functionality they aim to achieve. Built-in mixins are those that come pre-installed with Django. Some of the commonly used built-in mixins include:\n",
    "\n",
    "- PermissionRequiredMixin This mixin checks whether the user accessing a view has all given permissions.\n",
    "\n",
    "- LoginRequiredMixin This view mixin requires the user to be logged in before accessing the view.\n",
    "\n",
    "- FormMixin This mixin extends Django forms functionality, including methods for rendering a form, validating form data, and handling form submissions.\n",
    "\n",
    "- ModelFormMixin This mixin provides functionality for handling model forms. It includes methods for rendering a form based on a model, validating form data, and handling form submissions."
   ]
  },
  {
   "cell_type": "markdown",
   "metadata": {},
   "source": [
    "To incorporate mixins into a Django project, you must declare the mixin as a distinct class and then inherit it in the project you need to enhance. For instance, to use the built-in LoginRequiredMixin, you would import it as follows:"
   ]
  },
  {
   "cell_type": "code",
   "execution_count": null,
   "metadata": {},
   "outputs": [],
   "source": [
    "from django.contrib.auth.mixins import LoginRequiredMixin\n",
    "\n",
    "class MyView(LoginRequiredMixin, View):\n",
    "   login_url = '/login/'\n",
    "   def get(self, request):\n",
    "       # Your view logic here"
   ]
  },
  {
   "cell_type": "markdown",
   "metadata": {},
   "source": [
    "The login_url is used to specify a custom page where your unauthenticated users will be redirected. Let's delve further into this mixin."
   ]
  },
  {
   "cell_type": "markdown",
   "metadata": {},
   "source": [
    "# Built-in checks for access limitations\n",
    "\n",
    "\n",
    "The ```LoginRequiredMixin``` and ```PermissionRequiredMixin``` are crucial Django built-in mixins that provide access limitation checks.\n",
    "\n",
    "```LoginRequiredMixin```\n",
    "\n",
    "The functionality of the ```LoginRequiredMixin``` are very similar to the ```login_required()``` decorator. We use the decorator as follows:\n",
    "```python\n",
    "from django.contrib.auth.decorators import login_required\n",
    "@login_required\n",
    "def my_view(request):\n",
    "```\n",
    "When a view employs this mixin, all requests from non-authenticated users, depending on the raise_exception parameter, will either be redirected to the login page or result in an HTTP 403 Forbidden error. This mixin does NOT verify the is_active flag on a user. However, the default AUTHENTICATION_BACKENDS does reject inactive users.\n",
    "\n",
    "When a user tries to access a view that utilizes the LoginRequiredMixin and is not authenticated (i.e., not logged in), the mixin redirects them to the login page specified in your Django project settings (LOGIN_URL).\n",
    "```python\n",
    "# settings.py\n",
    "\n",
    "LOGIN_URL = '/instagram/login/'\n",
    "```\n",
    "You can provide a custom login URL using the login_url attribute within the class.\n",
    "```python\n",
    "from django.contrib.auth.mixins import LoginRequiredMixin\n",
    "\n",
    "from django.views import View\n",
    "\n",
    "class MyProtectedView(LoginRequiredMixin, View):\n",
    "\n",
    "    login_url = '/custom-url/'\n",
    "\n",
    "    # Your view logic here\n",
    "```\n",
    "\n",
    "The LoginRequiredMixin appends next as a query parameter to the login URL. This allows the login view to redirect the user back to the originally requested URL following a successful login.\n",
    "\n",
    "If an unauthenticated user tries to access MyProtectedView, they will be redirected to the login page (/instagram/login/?next=/path/to/my_protected_view/).\n",
    "\n",
    "After successful login, they are redirected back to the originally requested view. Notice that both the decorator and the mixin need to be imported for usage. However, the decorator is applied before the class definition, whereas the mixin is used as a class parameter.\n",
    "\n"
   ]
  },
  {
   "cell_type": "markdown",
   "metadata": {},
   "source": [
    "# PermissionRequiredMixin\n",
    "Similar to the permission_required() decorator, this mixin verifies that the user accessing a view has the necessary permissions. The permission decorator is used as follows:\n",
    "\n",
    "```python\n",
    "@permission_required('poll.can_update_poll', raise_exception=True)\n",
    "def poll_results(request):\n",
    " #your view logic\n",
    "```\n",
    "\n",
    "The ```PermissionRequiredMixin``` has to be imported from django.contrib.auth.mixins.\n",
    "\n",
    "Here is an example of how you can use the ```PermissionRequiredMixin```:\n",
    "```python\n",
    "from django.contrib.auth.mixins import PermissionRequiredMixin\n",
    "\n",
    "class MyView(PermissionRequiredMixin, View):\n",
    "\n",
    "    permission_required = \"polls.add_choice\"\n",
    "```\n",
    "\n",
    "\n",
    "The first step is to import the ```PermissionRequiredMixin```, which uses the ```permission_required``` attribute to check if the specific permission for a certain view exists.\n",
    "\n",
    "In our example, add_choice represents the name of the permission to be checked, while polls refers to the name of our application. Note that if you want to set more than one permission, this can be achieved by equating the ```permission_required``` attribute to a list of multiple permissions. Like so:\n",
    "\n",
    "```python\n",
    "permission_required = [\"polls.view_choice\", \"polls.edit_choice\"]\n",
    "```\n",
    "If a user lacking the necessary permission tries to access the view, the PermissionRequiredMixin intervenes and, by default, redirects them to the login page. If you want to direct such users to a different page, you can specify the login_url attribute and equate it to your desired page, like so:\n",
    "\n"
   ]
  },
  {
   "cell_type": "code",
   "execution_count": null,
   "metadata": {},
   "outputs": [],
   "source": [
    "from django.contrib.auth.mixins import PermissionRequiredMixin\n",
    "\n",
    "class MyView(PermissionRequiredMixin, View):\n",
    "\n",
    "    permission_required = \"polls.update_choice\"\n",
    "    login_url='/home-page/'"
   ]
  },
  {
   "cell_type": "markdown",
   "metadata": {},
   "source": [
    "## Custom mixins for custom user checks\n",
    "\n",
    "Here are some general steps to follow when creating a custom mixin:\n",
    "\n",
    "Create a mixins.py file in your application. For example, suppose we are creating a Django voting project with one of the apps being the polls app. The path to the mixins file would look as follows: voting/polls/mixins.py.\n",
    "\n",
    "Create a class.\n",
    "\n",
    "Insert the repeating code.\n",
    "\n",
    "Incorporate this newly created class into the ViewSet.\n",
    "\n",
    "\n",
    "Let's create a simple mixin to be used for converting our view responses into JSON format. First, we'll create a mixins.py file in the root folder of our application. In mixins.py, we will define a class for our mixin, which we will name JsonConverterMixin, and implement the required logic.\n"
   ]
  },
  {
   "cell_type": "code",
   "execution_count": null,
   "metadata": {},
   "outputs": [],
   "source": [
    "from django.http import JsonResponse\n",
    "class JsonConverterMixin:\n",
    "\n",
    " def render_to_json_response(self, context, **response_kwargs):\n",
    "        data = json.dumps(context)\n",
    "        response_kwargs['content_type'] = 'application/json'\n",
    "        return JsonResponse(data, **response_kwargs)"
   ]
  },
  {
   "cell_type": "markdown",
   "metadata": {},
   "source": [
    "To use this mixin in our views, we need to import the mixin into the views file. We can now import this mixin into any class view that requires its responses converted to JSON. This eliminates the necessity for similar code across all the views that require this functionality. Note that we've added the JsonResponseMixin to the Homeview class to enrich its functionality. While the class would still operate correctly without the mixin, the mixin cannot function independently."
   ]
  },
  {
   "cell_type": "code",
   "execution_count": null,
   "metadata": {},
   "outputs": [],
   "source": [
    "from django.views.generic import View\n",
    "from .mixins import JsonResponseMixin\n",
    "\n",
    "class HomeView(JsonResponseMixin, View):\n",
    "    def get(self, request, *args, **kwargs):\n",
    "        data = {'message': 'This is how we use Mixins!'}\n",
    "        return self.render_to_json_response(data)"
   ]
  }
 ],
 "metadata": {
  "language_info": {
   "name": "python"
  }
 },
 "nbformat": 4,
 "nbformat_minor": 2
}
