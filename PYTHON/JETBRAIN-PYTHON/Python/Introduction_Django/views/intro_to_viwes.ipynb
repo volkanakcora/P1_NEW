{
 "cells": [
  {
   "cell_type": "markdown",
   "metadata": {},
   "source": [
    "# What is a view?\n",
    "The main logic of the interaction of applications with a user is described in views. Function-based views or Class-based views are responsible for how requests are processed and what answers "
   ]
  },
  {
   "cell_type": "markdown",
   "metadata": {},
   "source": [
    "# Preparations for simple views\n"
   ]
  },
  {
   "cell_type": "code",
   "execution_count": null,
   "metadata": {
    "vscode": {
     "languageId": "shellscript"
    }
   },
   "outputs": [],
   "source": [
    "django-admin startproject blog\n",
    "cd blog\n",
    "python3 manage.py startapp blogsite"
   ]
  },
  {
   "cell_type": "markdown",
   "metadata": {},
   "source": [
    "For example, we can write these views in ```views.py``` file:"
   ]
  },
  {
   "cell_type": "code",
   "execution_count": null,
   "metadata": {},
   "outputs": [],
   "source": [
    "from django.http import HttpResponse\n",
    "  \n",
    "def index(request):\n",
    "    return HttpResponse(\"Welcome to blog of Django learners!\")\n",
    "\n",
    "def list_articles(request):\n",
    "    return HttpResponse(\"List of articles\")\n",
    "\n",
    "def contributors(request):\n",
    "    return HttpResponse(\"Contributors of our community\")"
   ]
  },
  {
   "cell_type": "markdown",
   "metadata": {},
   "source": [
    "To make this HttpResponse work, add URL patterns to urls.py in the blog directory. The urlpatterns variable determines a set of request comparisons and the view functions to proceed with them.\n",
    "\n",
    "As we have the ```urls.py``` file in the folder of the project, we'll connect it with the application's ```views.py``` file as follows with the include function:"
   ]
  },
  {
   "cell_type": "code",
   "execution_count": null,
   "metadata": {},
   "outputs": [],
   "source": [
    "from django.contrib import admin\n",
    "from django.urls import path, include\n",
    "\n",
    "urlpatterns = [\n",
    "    path('admin/', admin.site.urls),\n",
    "    path('blogsite/', include('blogsite.urls')),\n",
    "]"
   ]
  },
  {
   "cell_type": "markdown",
   "metadata": {},
   "source": [
    "The next step is to create a ```urls.py``` file inside the application blogsite manually, and that's where our URL addresses are to be placed:"
   ]
  },
  {
   "cell_type": "code",
   "execution_count": null,
   "metadata": {},
   "outputs": [],
   "source": [
    "from django.urls import path\n",
    "from . import views\n",
    "\n",
    "urlpatterns = [\n",
    "    path('', views.index, name='index'),\n",
    "    path('list_of_articles/', views.list_articles, name='list'),\n",
    "    path('contributors/', views.contributors),\n",
    "    ]"
   ]
  },
  {
   "cell_type": "markdown",
   "metadata": {},
   "source": [
    "That's all! Now, let's run the following command:\n",
    "\n",
    "``` python3 manage.py runserver```\n",
    "\n",
    "\n",
    "Nice! A bit too old-fashioned and straightforward for our goals. Of course, we can place some HTML or even big pieces of code into such view functions, but that's not useful and hard to support in case of vast projects. So let's go further and make something more exciting and informative.\n",
    "\n",
    "By the way, we haven't yet tried to add kwargs to our view function, which is also an available option. For example, we could pass some changing data to the page of our blog:"
   ]
  },
  {
   "cell_type": "code",
   "execution_count": null,
   "metadata": {},
   "outputs": [],
   "source": [
    "# in the views.py file:\n",
    "def contributors(request, age, name, experience):\n",
    "    return HttpResponse(f\"\"\"\n",
    "            <h2>Contributor of our community:</h2>\n",
    "            <p>Name: {name}</p>\n",
    "            <p>Age: {age}</p>\n",
    "            <p>Experience and some info you'd like to share: {experience}</p>\n",
    "    \"\"\")"
   ]
  },
  {
   "cell_type": "code",
   "execution_count": null,
   "metadata": {},
   "outputs": [],
   "source": [
    "# in the urls.py file:\n",
    "urlpatterns = [\n",
    "    path('contributors/', views.contributors, kwargs={\"name\": \"Robert May\", \"age\": 38, \"experience\": \n",
    "    \"Two years in startup, graduated from MIT in 2020\"}),\n",
    "    ]"
   ]
  },
  {
   "cell_type": "markdown",
   "metadata": {},
   "source": [
    "Not much can be done with this functionality, but such mechanisms can be used as a base for our coding fantasy.\n",
    "\n",
    "- Since our blog needs a database to store the information our future community members will share, let's create models in models.py file for articles and contributors (or authors, if you like):\n",
    "\n"
   ]
  },
  {
   "cell_type": "code",
   "execution_count": null,
   "metadata": {},
   "outputs": [],
   "source": [
    "from django.db import models\n",
    "from django.contrib.auth.models import User\n",
    "from datetime import date\n",
    "from django.urls import reverse\n",
    "\n",
    "\n",
    "class Article(models.Model):\n",
    "    title = models.CharField(max_length=250, help_text='Enter a title for a new article')\n",
    "    text = models.CharField(max_length=1000, help_text='Place your story here')\n",
    "    author = models.ForeignKey('Contributor', on_delete=models.SET_NULL, null=True)\n",
    "    date = models.DateTimeField(null=True, blank=True)\n",
    "\n",
    "    def __str__(self):\n",
    "        return self.title\n",
    "\n",
    "\n",
    "class Contributor(models.Model):\n",
    "    name = models.CharField(max_length=250, help_text='Enter first name of the contributor')\n",
    "    surname = models.CharField(max_length=500, help_text='Enter surname of the contributor')\n",
    "    about = models.CharField(max_length=2000, help_text='Tell us about yourself, your experience and current work')\n",
    "    email = models.EmailField(null=True, blank=True)\n",
    "\n",
    "    class Meta:\n",
    "        ordering = ['surname', 'name']\n",
    "\n",
    "    def __str__(self):\n",
    "        return f'{self.surname}, {self.name}'"
   ]
  },
  {
   "cell_type": "markdown",
   "metadata": {},
   "source": [
    "Don't forget to register your models in the ```admin.py``` file:\n",
    "\n"
   ]
  },
  {
   "cell_type": "code",
   "execution_count": null,
   "metadata": {},
   "outputs": [],
   "source": [
    "from django.contrib import admin\n",
    "from .models import Article, Contributor\n",
    "\n",
    "admin.site.register(Article)\n",
    "admin.site.register(Contributor)"
   ]
  },
  {
   "cell_type": "markdown",
   "metadata": {},
   "source": [
    "Also, remember to migrate changes in the project:\n",
    "\n",
    "```\n",
    "python3 manage.py makemigrations\n",
    "python3 manage.py migrate\n",
    "```"
   ]
  },
  {
   "cell_type": "markdown",
   "metadata": {},
   "source": [
    "We will also need a template to represent the results of data processing. Don't forget that we should add the templates/blogsite folder to the tree of the application manually:"
   ]
  },
  {
   "cell_type": "markdown",
   "metadata": {},
   "source": [
    "We'll start with the ```index.html``` page, which will be the list of articles in the blog. For example, the template may look like this:"
   ]
  },
  {
   "cell_type": "code",
   "execution_count": null,
   "metadata": {
    "vscode": {
     "languageId": "html"
    }
   },
   "outputs": [],
   "source": [
    "<!DOCTYPE html>\n",
    "<html lang=\"en\">\n",
    "<head>\n",
    "    <meta charset=\"UTF-8\">\n",
    "    <title>Greetings page</title>\n",
    "</head>\n",
    "<body>\n",
    "  <h1>Hello, {{ greetings_to }} !</h1>\n",
    "  <h1>Unread articles for today: {{num_articles }}</h1>\n",
    "  {% for article in articles %}\n",
    "    <h4>{{ article.title }}</h4>\n",
    "    <h4>{{ article.author }}</h4>\n",
    "    <p>{{ article.date }}</p>\n",
    "    <p>{{ article.text }}</p>\n",
    "    <be>\n",
    "  {% endfor %}\n",
    "</body>\n",
    "</html>"
   ]
  },
  {
   "cell_type": "markdown",
   "metadata": {},
   "source": [
    "One more preparation step, and we'll be ready to create a view function at last. Let's modify urlpatterns in the urls.py file:"
   ]
  },
  {
   "cell_type": "code",
   "execution_count": null,
   "metadata": {},
   "outputs": [],
   "source": [
    "urlpatterns = [\n",
    "    path('', views.index, name='articles_list'),\n",
    "    ]"
   ]
  },
  {
   "cell_type": "markdown",
   "metadata": {},
   "source": [
    "## Create view functions\n",
    "\n",
    "We can now create a view function for the index page of our blog:\n",
    "\n"
   ]
  },
  {
   "cell_type": "code",
   "execution_count": null,
   "metadata": {},
   "outputs": [],
   "source": [
    "def index(request):\n",
    "    greetings_to = 'Anonymous'\n",
    "    num_articles = Article.objects.all().count()\n",
    "    articles = Article.objects.all\n",
    "    return render(request, 'blogsite/index.html', {'num_articles': num_articles, 'greetings_to': greetings_to, 'articles': articles})"
   ]
  },
  {
   "cell_type": "markdown",
   "metadata": {},
   "source": [
    "Here we define the variables that we use in the HTML template, get data from the database (which is called a QuerySet, a list of objects of a model) and pass them as a dictionary to the render function."
   ]
  },
  {
   "cell_type": "markdown",
   "metadata": {},
   "source": [
    "It's nice to see our work's results already, right? But to make our view function look prettier, let's form a special dictionary named context which is more convenient to work with:"
   ]
  },
  {
   "cell_type": "code",
   "execution_count": null,
   "metadata": {},
   "outputs": [],
   "source": [
    "# views.py file\n",
    "def index(request):\n",
    "    num_articles = Article.objects.all().count()\n",
    "    articles = Article.objects.all\n",
    "    context = {\n",
    "        'greetings_to': 'Anonymous',\n",
    "        'num_articles': num_articles,\n",
    "        'articles': articles,\n",
    "    }\n",
    "    return render(request, 'blogsite/index.html', context=context)"
   ]
  }
 ],
 "metadata": {
  "language_info": {
   "name": "python"
  }
 },
 "nbformat": 4,
 "nbformat_minor": 2
}
