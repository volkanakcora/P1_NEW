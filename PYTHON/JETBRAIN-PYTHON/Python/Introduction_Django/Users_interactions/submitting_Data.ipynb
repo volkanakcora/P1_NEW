{
 "cells": [
  {
   "cell_type": "markdown",
   "metadata": {},
   "source": [
    "# Submitting data\n",
    "\n",
    "- Making an interactive service means that your users can receive and send information. We use GET requests to get a page and POST, PUT, PATCH, DELETE requests to update data on the server side. It's not a requirement, but a rule to follow. You can still make a valid application if you break it, but its behavior would be unexpected for its users and developers alike.\n",
    "\n",
    "# Query parameters\n",
    "\n",
    "For example, searching by keyword may look like www.makeawish.happen/Mymble?q=cake. We use a query string after the question mark to specify the parameters and their values. To access these values in a request handler, we can use the GET attribute of the HttpRequest class.\n",
    "\n",
    "- The q parameter in the GET attribute can now be accessed as a key in a dictionary because this attribute is a QueryDict instance. QueryDict is a subclass of Python's dictionary, but the main difference is that QueryDict is immutable; you can't modify the user's request, which makes sense.\n",
    "\n",
    "# Request body\n",
    "\n",
    "All requests have a body. Sometimes it's empty, but for POST requests, it's filled with data. In these cases, you can find what the client sent to the server in the POST attribute of the HttpRequest class.\n",
    "\n",
    "How does a client create the request body? You cannot find it in the URL, but you can pass it in an HTML form. Assume that we have the following form:\n"
   ]
  },
  {
   "cell_type": "code",
   "execution_count": null,
   "metadata": {
    "vscode": {
     "languageId": "html"
    }
   },
   "outputs": [],
   "source": [
    "<form action=\"/Mymble\" method=\"post\">\n",
    "    {% csrf_token %}\n",
    "    <input name=\"wish\">\n",
    "    <button type=\"submit\">Add a wish</button>\n",
    "  </form>"
   ]
  },
  {
   "cell_type": "markdown",
   "metadata": {},
   "source": [
    "The wish parameter is stored in the POST attribute. This attribute is also a QueryDict instance, so use it as a usual dictionary; still, do not change anything in it, you will get an AttributeError exception. Let us move on to making a handler and processing a new wish.\n",
    "\n",
    "\n",
    "'We have only GET and POST attributes in the HttpRequest class.'"
   ]
  },
  {
   "cell_type": "markdown",
   "metadata": {},
   "source": [
    "To make this example work, create the WishForm class in the ```forms.py``` file and an HTML template with the name ```form_template.html.```"
   ]
  },
  {
   "cell_type": "markdown",
   "metadata": {},
   "source": [
    "# POST request\n",
    "\n",
    "Making a wish is the first step in bringing it to life. We use the POST handler to save a wish in the application; the signature of a method is similar to the GET handler. The lists are stored only in a static attribute of a class — let's see an example of ```views.py:```"
   ]
  },
  {
   "cell_type": "code",
   "execution_count": null,
   "metadata": {},
   "outputs": [],
   "source": [
    "from collections import defaultdict\n",
    "\n",
    "from django.shortcuts import redirect\n",
    "from django.views import View\n",
    "\n",
    "class WishListView(View):\n",
    "   form_class = WishForm\n",
    "   initial = {'key': 'value'}\n",
    "   template_name = 'form_template.html'\n",
    " \n",
    "   def get(self, request, *args, **kwargs):\n",
    "       form = self.form_class(initial=self.initial)\n",
    "       return render(request, self.template_name, {'form': form})\n",
    " \n",
    "   wishlist = defaultdict(list)\n",
    " \n",
    "   def post(self, request, *args, **kwargs):\n",
    "      author = 'Anonymous'\n",
    "      if request.user.is_authenticated:\n",
    "           author = request.user.username\n",
    "      form = self.form_class(request.POST)\n",
    "      if form.is_valid():\n",
    "           wish = form.cleaned_data['wish']\n",
    "           self.wishlist[author].append(wish)\n",
    "           return redirect('/')"
   ]
  },
  {
   "cell_type": "markdown",
   "metadata": {},
   "source": [
    "request.user.is_authenticated is the request attribute that represents the current user and whether they are authenticated. The wishes are grouped by the author; if a user is not authorized, their wish goes to the Anonymous group. When a wish is saved, the handler redirects the client to the / page"
   ]
  },
  {
   "cell_type": "markdown",
   "metadata": {},
   "source": [
    "# DELETE request\n",
    "\n",
    "Fleeting wishes come and go; when they go, our user would probably want to remove them from the wishlist. The most appropriate method for this task is DELETE."
   ]
  },
  {
   "cell_type": "code",
   "execution_count": null,
   "metadata": {},
   "outputs": [],
   "source": [
    "from collections import defaultdict\n",
    "\n",
    "from django.shortcuts import redirect, Http404\n",
    "from django.views import View\n",
    "\n",
    "\n",
    "class WishListView(View):\n",
    "    wishlist = defaultdict(list)\n",
    " \n",
    "    def delete(self, request, wish, *args, **kwargs):\n",
    "        author = 'Anonymous'\n",
    "        if request.user.is_authenticated:\n",
    "            author = request.user.username\n",
    " \n",
    "        if wish in self.wishlist[author]:\n",
    "            self.wishlist[author].remove(wish)\n",
    "        else:\n",
    "             raise Http404\n",
    "        return redirect('/')\n",
    " \n",
    "    def get(self, request, *args, **kwargs):\n",
    "        …\n",
    "    def post(self, request, *args, **kwargs):\n",
    "        ..."
   ]
  }
 ],
 "metadata": {
  "language_info": {
   "name": "python"
  }
 },
 "nbformat": 4,
 "nbformat_minor": 2
}
