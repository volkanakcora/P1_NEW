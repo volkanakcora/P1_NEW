{
 "cells": [
  {
   "cell_type": "markdown",
   "metadata": {},
   "source": [
    "# Validation\n",
    "\n",
    "- ## Validation on the client side\n",
    "\n"
   ]
  },
  {
   "cell_type": "code",
   "execution_count": null,
   "metadata": {
    "vscode": {
     "languageId": "html"
    }
   },
   "outputs": [],
   "source": [
    "<td><input type=\"text\" name=\"author\" minlength=\"3\" required id=\"id_author\"></td>"
   ]
  },
  {
   "cell_type": "markdown",
   "metadata": {},
   "source": [
    "- ## Validation on the server side\n"
   ]
  },
  {
   "cell_type": "code",
   "execution_count": null,
   "metadata": {},
   "outputs": [],
   "source": [
    "postcard_form = PostcardForm(request.POST)\n",
    "if postcard_form.is_valid():\n",
    "    data = postcard_form.cleaned_data  # data is a regular dictionary\n",
    "    ..."
   ]
  },
  {
   "cell_type": "markdown",
   "metadata": {},
   "source": [
    "- ## Errors rendering\n"
   ]
  },
  {
   "cell_type": "code",
   "execution_count": null,
   "metadata": {},
   "outputs": [],
   "source": [
    "postcard_form = PostcardForm(request.POST)\n",
    "if postcard_form.is_valid():\n",
    "    ...\n",
    "elif 'date_of_delivery' not in postcard_form.cleaned_data:\n",
    "    postcard_form.add_error('date_of_delivery', 'Use YYYY/MM/DD format')"
   ]
  }
 ],
 "metadata": {
  "language_info": {
   "name": "python"
  }
 },
 "nbformat": 4,
 "nbformat_minor": 2
}
