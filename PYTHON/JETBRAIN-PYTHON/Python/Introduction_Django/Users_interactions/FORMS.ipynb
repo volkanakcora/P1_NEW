{
 "cells": [
  {
   "cell_type": "markdown",
   "metadata": {},
   "source": [
    "# Forms\n",
    "\n",
    "- ## ModelForm\n",
    "\n",
    "- - This situation is familiar to many: a close friend who lives far away, someone from childhood, or a pen-friend you've never actually met. Holidays come, and you want to surprise them with a postcard. How can you do it? Well, it so happens that we're working hard on the hypergift service. With this service, you can send a postcard to any place worldwide.\n",
    "\n",
    "If you only need to represent fields of one single model, which already contains all the information required for building a form: fields, help text, additional information, and so on, you can use a pre-tuned ModelForm class. It helps to create forms from an already existing model.\n",
    "\n",
    "Let's create a model for Postcard in file ```models.py``` inside of the app, you are working on the following:"
   ]
  },
  {
   "cell_type": "code",
   "execution_count": null,
   "metadata": {},
   "outputs": [],
   "source": [
    "from django.db import models\n",
    "\n",
    "TITLE_CHOICES = [\n",
    "   ('MR', 'Mr.'),\n",
    "   ('MRS', 'Mrs.'),\n",
    "   ('MS', 'Ms.'),\n",
    "]\n",
    "\n",
    "\n",
    "class Postcard(models.Model):\n",
    "   address = models.CharField(max_length=255)\n",
    "   author = models.CharField(max_length=255)\n",
    "   compliment = models.CharField(max_length=1024)\n",
    "   usage = models.CharField(max_length=3, choices=TITLE_CHOICES)\n",
    "   date_of_delivery = models.DateField(blank=True, null=True)\n",
    "   email = models.EmailField()"
   ]
  },
  {
   "cell_type": "markdown",
   "metadata": {},
   "source": [
    "Using ModelForm, the only thing you need to do is to add Meta class inside the PostcardForm class, to connect it with Model Postcard and to list all the fields of the model we need to use in the form. It is possible to use all fields ```(fields = '__all__')``` or to apply the exclusion method (exclude) to define fields of the model we don't want to use."
   ]
  },
  {
   "cell_type": "code",
   "execution_count": null,
   "metadata": {},
   "outputs": [],
   "source": [
    "from django.db import models\n",
    "from django.forms import ModelForm\n",
    "from .models import Postcard\n",
    "\n",
    "\n",
    "class PostCardModelForm(ModelForm):\n",
    "   class Meta:\n",
    "       model = Postcard\n",
    "       fields = '__all__'\n",
    "\n",
    "class PostCardModelFormOnly2(ModelForm):\n",
    "   class Meta:\n",
    "       model = Postcard\n",
    "       fields = ['address', 'date_of_delivery']"
   ]
  },
  {
   "cell_type": "markdown",
   "metadata": {},
   "source": [
    "It's possible to exclude fields from the model, for example like this:\n",
    "\n"
   ]
  },
  {
   "cell_type": "code",
   "execution_count": null,
   "metadata": {},
   "outputs": [],
   "source": [
    "class PostCardModelFormPartial(ModelForm):\n",
    "    class Meta:\n",
    "        model = Postcard\n",
    "        exclude = ['date_of_delivery']"
   ]
  },
  {
   "cell_type": "markdown",
   "metadata": {},
   "source": [
    "As you can see, ModelForm in simple cases, is simple and easy to understand!\n",
    "\n",
    "You can redefine help_text notes, errors, and so on using the Meta class.\n",
    "\n",
    "So now you can use PostCardModelForm the same way as PostcardForm. In``` views.py:```"
   ]
  },
  {
   "cell_type": "code",
   "execution_count": null,
   "metadata": {},
   "outputs": [],
   "source": [
    "from .forms import PostCardModelForm\n",
    "from django.views.generic.edit import FormView\n",
    "\n",
    "\n",
    "class PostcardFormView(FormView):\n",
    "   form_class = PostCardModelForm\n",
    "   template_name = \"postcard/form.html\"\n",
    "   success_url = \"/postcard/form\""
   ]
  },
  {
   "cell_type": "markdown",
   "metadata": {},
   "source": [
    "Finally, make a URL-mapper in ```urls.py:```\n",
    "\n"
   ]
  },
  {
   "cell_type": "code",
   "execution_count": null,
   "metadata": {},
   "outputs": [],
   "source": [
    "from django.urls import path\n",
    "from .views import PostcardFormView\n",
    "\n",
    "\n",
    "urlpatterns = [\n",
    "   path('form/', PostcardFormView.as_view())\n",
    "]"
   ]
  },
  {
   "cell_type": "markdown",
   "metadata": {},
   "source": [
    "# Custom forms\n",
    "\n",
    "Using a ModelForm class, as was shown above, is a good way if you only need to represent fields of one single model. But what if you need a more flexible way to create forms of any structure you need?\n",
    "\n",
    "It can be connected with any model (or models) from the database. It is necessary if you deal with complicated or multiple relations between data objects.\n",
    "\n",
    "To make a custom form, you inherit the class from django.forms.Form. The class provides means to render the form in templates, validate it and show exact errors in the input. Fields should be declared with specific types for correct validation of the user's input (don't worry, we'll discuss it further on).\n",
    "\n",
    "Let's create a new form:"
   ]
  },
  {
   "cell_type": "code",
   "execution_count": null,
   "metadata": {},
   "outputs": [],
   "source": [
    "from django import forms\n",
    "\n",
    "\n",
    "class PostcardForm(forms.Form):\n",
    "    address = forms.CharField(label='Destination Address')\n",
    "    author = forms.CharField(min_length=3)\n",
    "    compliment = forms.CharField(max_length=1024)\n",
    "    date_of_delivery = forms.DateField(input_formats=['%Y/%m/%d'])\n",
    "    email = forms.EmailField()"
   ]
  },
  {
   "cell_type": "markdown",
   "metadata": {},
   "source": [
    "## Forms in templates\n",
    "\n",
    "A form is an element of an HTML page, and Django provides tools to render its fields correctly. It also gives default methods to format fields as tables, unordered lists, or paragraphs.\n",
    "\n",
    "Assume that we initialize a form with no arguments and save it in the postcard_form variable. We pass the context dictionary ```{'postcard_form': postcard_form}``` to a template and add ```csrf_token``` to prevent security issues:"
   ]
  },
  {
   "cell_type": "code",
   "execution_count": null,
   "metadata": {
    "vscode": {
     "languageId": "html"
    }
   },
   "outputs": [],
   "source": [
    "<form method=\"post\">\n",
    "    {% csrf_token %}\n",
    "    <table>{{ postcard_form.as_table }}</table>\n",
    "    <button type=\"submit\">Submit</button>\n",
    "  </form>"
   ]
  },
  {
   "cell_type": "markdown",
   "metadata": {},
   "source": [
    "The method postcard_form.as_table converts the instance of the PostcardForm class to ```<tr>, <th>``` and ```<td>``` HTML tags with appropriate labels and attributes. The address field has a custom title in the class, so it also has the same label value on a page."
   ]
  },
  {
   "cell_type": "code",
   "execution_count": null,
   "metadata": {
    "vscode": {
     "languageId": "html"
    }
   },
   "outputs": [],
   "source": [
    "<th><label for=\"id_address\">Destination Address:</label></th>"
   ]
  },
  {
   "cell_type": "markdown",
   "metadata": {},
   "source": [
    "Other methods for rendering forms are form.as_p (converts forms to paragraphs) and form.as_ul (converts them to an unordered list)."
   ]
  }
 ],
 "metadata": {
  "language_info": {
   "name": "python"
  }
 },
 "nbformat": 4,
 "nbformat_minor": 2
}
