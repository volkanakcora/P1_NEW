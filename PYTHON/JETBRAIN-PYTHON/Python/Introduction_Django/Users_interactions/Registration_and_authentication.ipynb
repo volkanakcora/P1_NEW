{
 "cells": [
  {
   "cell_type": "markdown",
   "metadata": {},
   "source": [
    "To access the service's customization, users should have personal accounts so that they can perform actions related only to them: for example, save personal preferences, post articles, or make purchases."
   ]
  },
  {
   "cell_type": "markdown",
   "metadata": {},
   "source": [
    "# User model\n",
    "To distinguish one user from another, we need to store their identification information on the server. On websites, it's usually a unique username or email address. Both characteristics may be stored in the default User model."
   ]
  },
  {
   "cell_type": "markdown",
   "metadata": {},
   "source": [
    "After making the initial migrations, you can create new accounts. Typically, clients of your service will create their own accounts, but let's explore how you can manually create a regular user or a superuser in the database using the console.\n",
    "\n",
    "A superuser is an administrative account for your service. As a superuser, you have access to and can manipulate any data in the database. Regular users, on the other hand, can only manipulate their own data.\n",
    "\n",
    "To use an initialized console client, run ```python manage.py shell``` command."
   ]
  },
  {
   "cell_type": "code",
   "execution_count": null,
   "metadata": {},
   "outputs": [],
   "source": [
    "from django.contrib.auth.models import User\n",
    "\n",
    "\n",
    "User.objects.create_superuser(\n",
    "   username='admin', email='admin@example.com', password='SeCreTPaSsWorD'\n",
    ")\n",
    "\n",
    "User.objects.create_user(\n",
    "   username='usual_user', email='user@example.com', password='NotSecRetAtAll'\n",
    ")"
   ]
  },
  {
   "cell_type": "markdown",
   "metadata": {},
   "source": [
    "As you may have guessed, create_user method creates a usual user and create_superuser creates a superuser in your database. You're not likely to need the create_user method often, but you will need a console method to make the first admin account.\n",
    "\n",
    "- Another way to create a superuser is with the ```python manage.py createsuperuser``` command."
   ]
  },
  {
   "cell_type": "markdown",
   "metadata": {},
   "source": [
    "Similar to superuser, Django also provides a user object called staff. A staff is a user in Django that has access to the admin panel but has no permission to create, delete or modify anything present on the panel."
   ]
  },
  {
   "cell_type": "markdown",
   "metadata": {},
   "source": [
    "So to sum up the user privileges:\n",
    "\n",
    "- Normal users can only access the interface provided in the front end and cannot access the admin panel.\n",
    "\n",
    "- Staff users can access the admin panel. They can see the models but beyond this, they have no privilege. Some staff can be given the privilege to manage certain models which have to be defined explicitly.\n",
    "\n",
    "- Superuser has access to all the models and can change them freely without restrictions. A superuser is granted all the permissions in a Django project"
   ]
  },
  {
   "cell_type": "markdown",
   "metadata": {},
   "source": [
    "# Preparing URLs\n",
    "To separate each action, you should choose the URL addresses for login, logout, and signup operations. You should update the urlpatterns variable in your main urls.py module.\n",
    "\n",
    "To make it neat and clear, choose straightforward paths:"
   ]
  },
  {
   "cell_type": "code",
   "execution_count": null,
   "metadata": {},
   "outputs": [],
   "source": [
    "urlpatterns += [\n",
    "    path('login', MyLoginView.as_view()),\n",
    "    path('logout', LogoutView.as_view()),\n",
    "    path('signup', MySignupView.as_view()),\n",
    "]"
   ]
  },
  {
   "cell_type": "markdown",
   "metadata": {},
   "source": [
    "- ### Now you need to implement several classes and import them to the urls.py module. Start by making MySignupView class."
   ]
  },
  {
   "cell_type": "markdown",
   "metadata": {},
   "source": [
    "# Signup\n",
    "You already know how you can create a new user with Python, but regular users don't know Python. We've got to provide a simple web interface for them with an HTML form. Fortunately, making it will only take us a few simple steps, and then your new users will just sign up on their own."
   ]
  },
  {
   "cell_type": "code",
   "execution_count": null,
   "metadata": {},
   "outputs": [],
   "source": [
    "from django.contrib.auth.forms import UserCreationForm\n",
    "from django.views.generic import CreateView\n",
    "\n",
    "\n",
    "class MySignupView(CreateView):\n",
    "    form_class = UserCreationForm\n",
    "    success_url = 'login'\n",
    "    template_name = 'signup.html'"
   ]
  },
  {
   "cell_type": "markdown",
   "metadata": {},
   "source": [
    "To be able to create objects with the HTTP handler, we inherit MySignupView class from CreateView. We define several attributes that will do the work for us:\n",
    "\n",
    "The form_class attribute is a Django form class. We select UserCreationForm from the framework to create a new user.\n",
    "\n",
    "After our users finished registration, they are redirected to the success_url page of the service, in our case, to the login page.\n",
    "\n",
    "template_name is simply the name of a template responsible for the signup page of the service."
   ]
  },
  {
   "cell_type": "markdown",
   "metadata": {},
   "source": [
    "We're almost there with preparing our registration form; just add a custom signup.html template and that's it."
   ]
  },
  {
   "cell_type": "code",
   "execution_count": null,
   "metadata": {
    "vscode": {
     "languageId": "html"
    }
   },
   "outputs": [],
   "source": [
    "<form method=\"post\" action=\"signup\">{% csrf_token %}\n",
    "    <table>{{ form.as_table }}</table>\n",
    "    <button type=\"submit\">Send</button>\n",
    "  </form>"
   ]
  },
  {
   "cell_type": "markdown",
   "metadata": {},
   "source": [
    "```Do not forget to update settings.TEMPLATES.DIRS and add the signup.html template's directory to it.```"
   ]
  },
  {
   "cell_type": "markdown",
   "metadata": {},
   "source": [
    "# Login\n",
    "\n",
    "- The process of creating a request handler for logging in is very similar to making a registration form. We define the class and specify the template_name in it:"
   ]
  },
  {
   "cell_type": "code",
   "execution_count": null,
   "metadata": {},
   "outputs": [],
   "source": [
    "from django.contrib.auth.views import LoginView\n",
    "\n",
    "\n",
    "class MyLoginView(LoginView):\n",
    "    redirect_authenticated_user = True\n",
    "    template_name = 'login.html'"
   ]
  },
  {
   "cell_type": "markdown",
   "metadata": {},
   "source": [
    "This time we add another attribute redirect_authenticated_user and set it to True. All authenticated users that come back to the login page will be redirected to the main site instead of having to fill the authentication form again.\n",
    "\n",
    "To define where the user should be redirected after successful authentication, we set LOGIN_REDIRECT_URL = '/' in the settings.py module. It's usually the main page of the service, but you can choose any page you like.\n",
    "\n",
    "The login.html template differs from signup.html by the action field and the label of the button:"
   ]
  },
  {
   "cell_type": "code",
   "execution_count": null,
   "metadata": {
    "vscode": {
     "languageId": "html"
    }
   },
   "outputs": [],
   "source": [
    "<form method=\"post\" action=\"login\">{% csrf_token %}\n",
    "    <table>{{ form.as_table }}</table>\n",
    "    <button type=\"submit\">Login</button>\n",
    "  </form>"
   ]
  },
  {
   "cell_type": "markdown",
   "metadata": {},
   "source": [
    "# LogOut\n",
    "\n",
    "The last action our users need is logout. They do not need to send any information, so to log out they should just go to the right URL.\n",
    "\n",
    "You can see that for login and signup we define our custom MySignupView and MyLoginView classes accordingly. In urlpatterns you can find that for logout we use LogoutView class from django.contrib.auth.views module. Just import it to the urls.py module to complete the work.\n",
    "\n",
    "If you want to specify where the user should be redirected after logging out, you can define this in the settings.py module. For example, to redirect users back to the login page, add this line to the module: LOGOUT_REDIRECT_URL = '/login'.\n",
    "\n",
    "Now you know enough to add authentication to any service, so you can personalize your web service for each individual user.\n"
   ]
  }
 ],
 "metadata": {
  "language_info": {
   "name": "python"
  }
 },
 "nbformat": 4,
 "nbformat_minor": 2
}
