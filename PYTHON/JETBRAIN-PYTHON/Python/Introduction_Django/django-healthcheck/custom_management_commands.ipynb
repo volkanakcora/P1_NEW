{
 "cells": [
  {
   "cell_type": "markdown",
   "metadata": {},
   "source": [
    "# Custom management commands\n",
    "Setup a django project\n",
    "\n",
    "\n",
    "1. Create a Django Project\n",
    "\n",
    "Create a folder and start a Django project in that:\n",
    "```bash\n",
    "$ mkdir avengers\n",
    "$ cd avengers/\n",
    "$ python -m django startproject avengers .\n",
    "```\n",
    "2. Create a Django App\n",
    "\n",
    "Inside the project directory, create a Django app named heroes:\n",
    "```bash\n",
    "$ python manage.py startapp heroes\n",
    "```\n",
    "\n",
    "\n",
    "3. Define the Hero Model\n",
    "\n",
    "In the heroes app, define a simple model for Avengers' heroes. Update the models.py file:\n",
    "```python\n",
    "# heroes/models.py\n",
    "from django.db import models\n",
    "\n",
    "class Hero(models.Model):\n",
    "    name = models.CharField(max_length=100)\n",
    "    alias = models.CharField(max_length=50)\n",
    "    power = models.CharField(max_length=50)\n",
    "\n",
    "    def __str__(self):\n",
    "        return self.alias\n",
    "```\n",
    "4. Run Migrations\n",
    "```bash\n",
    "$ python manage.py makemigrations\n",
    "```\n",
    "Apply the initial migrations to create the database:"
   ]
  },
  {
   "cell_type": "markdown",
   "metadata": {},
   "source": [
    "# Writing custom commands without any argument\n",
    "So here you will see how the custom commands can be written and used. Nick has asked you to first give him a way to populate new heroes' data. So one way to do that is to make a command and ask Nick to run it, which would populate the Avengers data.\n",
    "\n",
    "1. Create a Custom Management Command\n",
    "\n",
    "Inside the heroes app, create a new folder named management/commands and a Python script, populate_avengers.py for the custom command:\n",
    "\n",
    "```bash\n",
    "$ mkdir -p heroes/management/commands\n",
    "$ touch heroes/management/commands/populate_avengers.py\n",
    "```\n",
    "Update the ```populate_avengers.py``` file with the following code:\n",
    "\n"
   ]
  },
  {
   "cell_type": "code",
   "execution_count": null,
   "metadata": {},
   "outputs": [],
   "source": [
    "# heroes/management/commands/populate_avengers.py\n",
    "from django.core.management.base import BaseCommand\n",
    "from heroes.models import Hero\n",
    "\n",
    "\n",
    "class Command(BaseCommand):\n",
    "    help = \"Populate the database with Avengers data\"\n",
    "\n",
    "    def handle(self, *args, **options):\n",
    "        avengers_data = [\n",
    "            {\n",
    "                \"name\": \"Tony Stark\",\n",
    "                \"alias\": \"Iron Man\",\n",
    "                \"power\": \"Genius, billionaire, playboy, philanthropist\",\n",
    "            },\n",
    "            {\n",
    "                \"name\": \"Steve Rogers\",\n",
    "                \"alias\": \"Captain America\",\n",
    "                \"power\": \"Superhuman strength, agility, endurance\",\n",
    "            },\n",
    "            {\n",
    "                \"name\": \"Thor\",\n",
    "                \"alias\": \"God of Thunder\",\n",
    "                \"power\": \"Control over lightning, super strength\",\n",
    "            },\n",
    "            # Add more Avengers data as needed\n",
    "        ]\n",
    "\n",
    "        for hero_data in avengers_data:\n",
    "            Hero.objects.create(\n",
    "                name=hero_data[\"name\"],\n",
    "                alias=hero_data[\"alias\"],\n",
    "                power=hero_data[\"power\"],\n",
    "            )\n",
    "\n",
    "        self.stdout.write(\n",
    "            self.style.SUCCESS(\"Successfully populated the database with Avengers data\")\n",
    "        )"
   ]
  },
  {
   "cell_type": "markdown",
   "metadata": {},
   "source": [
    "Let's break it down part by part:\n",
    "\n",
    "- ```Imports```: BaseCommand is the base class for creating custom management commands, and Hero is the model representing Avengers in the database.\n",
    "\n",
    "- ```Command Class```: Command class, extending BaseCommand represents the custom management command and The help attribute provides a short description of what the command does.\n",
    "\n",
    "- ```Handle Method```: The handle method is the entry point for the command. This is where the actual logic of the command is implemented."
   ]
  },
  {
   "cell_type": "markdown",
   "metadata": {},
   "source": [
    "2. Run the Custom Command\n",
    "Now, you can ask Nick-Fury to run the custom command to populate the database with Avengers' data:\n",
    "\n",
    "```bash\n",
    "$ python manage.py populate_avengers\n",
    "Successfully populated the database with Avengers data\n",
    "```"
   ]
  },
  {
   "cell_type": "markdown",
   "metadata": {},
   "source": [
    "It will go through all apps and find what commands exist there, then it will find your file populate_avengers.py based on the command name you provided. It will then trigger the handle method and execute the logic implemented inside that."
   ]
  },
  {
   "cell_type": "markdown",
   "metadata": {},
   "source": [
    "## Writing custom commands with arguments\n",
    "an option to see only details of a limited number of Avengers. So for this, you can provide a command with an option to accept an optional argument to limit the number of heroes displayed.\n",
    "\n",
    "1. Create a Command with Arguments\n",
    "\n",
    "Django uses the argparse module to handle the custom arguments. Inside the heroes app, create a new custom command named list_heroes.py that lists all Avengers in the database. Update the list_heroes.py file:\n"
   ]
  },
  {
   "cell_type": "code",
   "execution_count": null,
   "metadata": {},
   "outputs": [],
   "source": [
    "# heroes/management/commands/list_heroes.py\n",
    "from django.core.management.base import BaseCommand\n",
    "from heroes.models import Hero\n",
    "\n",
    "\n",
    "class Command(BaseCommand):\n",
    "    help = \"List Avengers in the database\"\n",
    "\n",
    "    def add_arguments(self, parser):\n",
    "        parser.add_argument(\n",
    "            \"--limit\", type=int, help=\"Limit the number of heroes to display\"\n",
    "        )\n",
    "\n",
    "    def handle(self, *args, **options):\n",
    "        limit = options[\"limit\"]\n",
    "        avengers = Hero.objects.all()[:limit] if limit else Hero.objects.all()\n",
    "\n",
    "        for avenger in avengers:\n",
    "            self.stdout.write(\n",
    "                self.style.SUCCESS(f\"{avenger.name} - {avenger.alias}\")\n",
    "            )"
   ]
  },
  {
   "cell_type": "markdown",
   "metadata": {},
   "source": [
    "Let's understand the new things coming in this command:\n",
    "\n",
    "- ```add_arguments Method```: The add_arguments method allows the command to accept arguments when it is run. In this case, it defines a single argument --limit that specifies the maximum number of heroes to display. The argument is optional (type=int specifies that the argument should be an integer).\n",
    "\n",
    "- ```Argument Processing```: limit = options['limit'], extracts the value of the --limit argument from the options dictionary. If the argument is not provided, limit will be None."
   ]
  },
  {
   "cell_type": "markdown",
   "metadata": {},
   "source": [
    "2. Run the custom commands\n",
    "\n",
    "Now, run the list_heroes command with an optional limit argument:\n",
    "\n",
    "```bash\n",
    "$ python manage.py list_heroes --limit=2\n",
    "```\n",
    "```text\n",
    "Tony Stark - Iron Man\n",
    "Steve Rogers - Captain America"
   ]
  },
  {
   "cell_type": "markdown",
   "metadata": {},
   "source": [
    "In real-life scenarios, custom commands with arguments enhance functionality for automating complex tasks and streamlining project management. Here are some examples:\n",
    "\n",
    "- Filtering Data: Custom commands can filter data based on specific criteria, such as retrieving only active users or products above a certain price threshold.\n",
    "\n",
    "- Feature Toggling: Using flags as arguments, developers can toggle features on and off without modifying code, enabling flexible control over application functionality.\n",
    "\n",
    "- Cache Invalidation: Commands with arguments allow for cache invalidation up to a certain timestamp, ensuring that outdated cached data is refreshed as needed.\n",
    "\n",
    "- Dynamic Permissions: Developers can dynamically change custom permissions, granting or revoking access privileges based on user roles or conditions."
   ]
  },
  {
   "cell_type": "markdown",
   "metadata": {},
   "source": [
    "# Best Practices\n",
    "\n",
    "- Use Descriptive Names: Choose clear and descriptive names for your custom commands. This helps other developers understand the purpose of the command without digging into the code.\n",
    "\n",
    "- Document Your Commands: Add docstrings to your command classes and methods. Clearly document the purpose of the command, expected arguments, and any options. This documentation becomes valuable for both developers and users of the command.\n",
    "\n",
    "- Extend BaseCommand: Always extend the BaseCommand class provided by Django when creating custom management commands. This class provides a consistent interface and useful methods for interacting with the command-line environment.\n",
    "\n",
    "- Keep Commands Single-Purpose: Aim for single-purpose commands that perform a specific task. This follows the principle of \"doing one thing and doing it well.\"\n",
    "\n",
    "- Handle Errors Gracefully: Implement error handling to capture and handle exceptions. Provide informative error messages to guide users in resolving issues.\n",
    "```python\n",
    "try:\n",
    "    # Command logic\n",
    "except Exception as e:\n",
    "    self.stderr.write(self.style.ERROR(f'An error occurred: {str(e)}'))\n",
    "```\n",
    "- Integration with Version Control: Treat custom commands as part of the codebase and check them into version control systems (VCS) along with the rest of the project. This ensures other users use them effectively, rather than being ad hoc scripts tailored solely for personal use.\n",
    "\n",
    "- Testing Functionality: Custom commands can serve as effective tools for testing the functionality of a project. By writing commands tailored to specific test cases or scenarios, developers can validate different features and behaviors of the application. This approach allows for automated testing of critical functionalities, ensuring that the project behaves as expected under various conditions. Custom commands dedicated to testing can streamline the testing process, making it easier to identify and address issues early in the development cycle."
   ]
  }
 ],
 "metadata": {
  "language_info": {
   "name": "python"
  }
 },
 "nbformat": 4,
 "nbformat_minor": 2
}
