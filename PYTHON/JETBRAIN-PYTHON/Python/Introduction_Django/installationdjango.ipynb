{
 "cells": [
  {
   "cell_type": "markdown",
   "metadata": {},
   "source": [
    "# Installation\n",
    "\n",
    "-  next step is to install virtualenvwrapper (it's a utility that helps to store all isolated virtual environments in one place, create, copy, and delete them):\n",
    "\n"
   ]
  },
  {
   "cell_type": "code",
   "execution_count": null,
   "metadata": {},
   "outputs": [],
   "source": [
    "sudo pip3 install virtualenvwrapper\n"
   ]
  },
  {
   "cell_type": "markdown",
   "metadata": {},
   "source": [
    "It's necessary to set the location of virtual environments to be created. To do this, you need to change the shell startup file .bashrc in the home directory. For this purpose, run the commands:"
   ]
  },
  {
   "cell_type": "markdown",
   "metadata": {},
   "source": [
    "echo \"export WORKON_HOME=$HOME/.virtualenvs\" >> ~/.bashrc\n",
    "echo \"export PROJECT_HOME=$HOME/Devel\" >> ~/.bashrc\n",
    "echo \"export VIRTUALENVWRAPPER_PYTHON='/usr/bin/python3'\" >> ~/.bashrc\n",
    "echo \"source /usr/local/bin/virtualenvwrapper.sh\" >> ~/.bashrc\n",
    "source ~/.bashrc"
   ]
  },
  {
   "cell_type": "markdown",
   "metadata": {},
   "source": [
    "To start creating a new virtual environment, use the command mkvirtualenv\n",
    "\n"
   ]
  },
  {
   "cell_type": "code",
   "execution_count": null,
   "metadata": {},
   "outputs": [],
   "source": [
    "$ mkvirtualenv new_django_env\n"
   ]
  },
  {
   "cell_type": "markdown",
   "metadata": {},
   "source": [
    "If there is a name of the virtual environment in branches at the beginning of a line in the terminal - it's active and working properly.\n",
    "\n",
    "And now it's time to install the Django package to our virtual environment, using pip3:\n",
    "\n"
   ]
  },
  {
   "cell_type": "code",
   "execution_count": null,
   "metadata": {},
   "outputs": [],
   "source": [
    "pip install Django==4.0\n"
   ]
  }
 ],
 "metadata": {
  "language_info": {
   "name": "python"
  }
 },
 "nbformat": 4,
 "nbformat_minor": 2
}
