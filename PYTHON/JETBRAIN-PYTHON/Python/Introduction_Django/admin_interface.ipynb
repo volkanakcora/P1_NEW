{
 "cells": [
  {
   "cell_type": "markdown",
   "metadata": {},
   "source": [
    "# Admin interface \n",
    "\n",
    "Django provides a helpful admin interface to work with objects in it.\n",
    "\n",
    "# Registering models\n",
    "\n",
    "You don't have any models in the admin interface as a start. To add one, register them in the admin.py module. This module exists in each application by default.\n",
    "\n",
    "Let's look at a hypothetical project. We are creating an online auction but do not have much time to prepare the first release. To avoid using external dependencies, we change the site's content in the Django admin interface. The models look like this:\n"
   ]
  },
  {
   "cell_type": "code",
   "execution_count": null,
   "metadata": {},
   "outputs": [],
   "source": [
    "from django.contrib.auth.models import User\n",
    "from django.db import models\n",
    "\n",
    "\n",
    "class Lot(models.Model):\n",
    "    description = models.CharField(max_length=256)\n",
    "    initial_price = models.FloatField()\n",
    "\n",
    "\n",
    "class Bid(models.Model):\n",
    "    lot = models.ForeignKey(Lot, on_delete=models.CASCADE)\n",
    "    price = models.FloatField()\n",
    "    user = models.ForeignKey(User, on_delete=models.CASCADE)"
   ]
  },
  {
   "cell_type": "markdown",
   "metadata": {},
   "source": [
    "To see models in the admin interface, register them with the register function. Let's see what we should add to the ```admin.py``` module."
   ]
  },
  {
   "cell_type": "code",
   "execution_count": null,
   "metadata": {},
   "outputs": [],
   "source": [
    "from django.contrib import admin\n",
    "from .models import Bid, Lot\n",
    "\n",
    "\n",
    "admin.site.register(Bid)\n",
    "admin.site.register(Lot)"
   ]
  },
  {
   "cell_type": "markdown",
   "metadata": {},
   "source": [
    "# Customize fields\n",
    "\n",
    "Not all data should be open for changes. For example, our clients won't be happy if we adjust their bids. No matter how honest developers and business users are, it's better not to let them change any data in the Bid objects. To customize fields, use the ModelAdmin class.\n",
    "\n",
    "The instance of the ModelAdmin class has a lot of customizable attributes. The fields attribute is the list of model fields you want to display on a page. The readonly_fields is the list of fields that all admins can see but not modify. Both attributes can be tuple or list instances."
   ]
  },
  {
   "cell_type": "code",
   "execution_count": null,
   "metadata": {},
   "outputs": [],
   "source": [
    "class BidAdmin(admin.ModelAdmin):\n",
    "    fields = ('lot', 'price', 'user')\n",
    "    readonly_fields = ('lot', 'price', 'user')\n",
    "\n",
    "admin.site.register(Bid, BidAdmin)"
   ]
  },
  {
   "cell_type": "markdown",
   "metadata": {},
   "source": [
    "# Additional fields\n",
    "\n",
    "It's great to get the plain data from the tables with several lines of code, but how do we add more information from the database?\n",
    "\n",
    "We want to see which lots are trending. In our case, it's the lots with ten bids or more. There is no such field in a model, but we can prepare the ModelAdmin field with this value. Choose any name you want unless it intersects with the existing attribute of the class. For more info, take a look at the attributes in the documentation. We've added the trending method with the string trending to the fields list:"
   ]
  },
  {
   "cell_type": "code",
   "execution_count": null,
   "metadata": {},
   "outputs": [],
   "source": [
    "class LotAdmin(admin.ModelAdmin):\n",
    "    fields = ('description', 'initial_price', 'trending')\n",
    "    readonly_fields = ('trending',)\n",
    "\n",
    "    def trending(self, obj):\n",
    "        return '🔥' if obj.bid_set.count() >= 10 else '❄'"
   ]
  },
  {
   "cell_type": "markdown",
   "metadata": {},
   "source": [
    "Do not forget to add a custom field to the readonly_fields list; otherwise, it will produce an error. Custom fields are not modifiable."
   ]
  },
  {
   "cell_type": "markdown",
   "metadata": {},
   "source": [
    "# Inline admin field\n",
    "\n",
    "We can add any fields we like if they are custom values or parts of a model. We can also use the inline fields to display all the bids for a lot on the page.\n",
    "\n",
    "This time, create an additional class for displaying each inline object. You want to add bids to a page with the lot, so create the TabularInline class for the Bid model:"
   ]
  },
  {
   "cell_type": "code",
   "execution_count": null,
   "metadata": {},
   "outputs": [],
   "source": [
    "from django.contrib import admin\n",
    "from .models import Bid, Lot\n",
    "\n",
    "\n",
    "class BidInline(admin.TabularInline):\n",
    "    can_delete = False\n",
    "    model = Bid\n",
    "    readonly_fields = ('price', 'user')\n",
    "\n",
    "\n",
    "class LotAdmin(admin.ModelAdmin):\n",
    "    inlines = (BidInline,)\n",
    "\n",
    "\n",
    "admin.site.register(Lot, LotAdmin)"
   ]
  },
  {
   "cell_type": "markdown",
   "metadata": {},
   "source": [
    "We don't register the BidInline class because we cannot use it independently, but we define the model attribute for it. Restrict the actions for this class with read-only fields and set can_delete attribute to False to prevent deleting bids by the admin user.\n",
    "\n",
    "In the LotAdmin class, define the inlines attribute and add the BidInline to it.\n",
    "\n",
    "That's it; all bids with the lot item are displayed on the same page."
   ]
  },
  {
   "cell_type": "markdown",
   "metadata": {},
   "source": [
    "# Sorting and ordering\n",
    "\n",
    "Our app became popular, and we now have hundreds of lots and bids. When administrators open their list, it's easy for them to get confused, and finding the right lot or bid is tough. To fix the situation, you can use the sorting of available items."
   ]
  },
  {
   "cell_type": "code",
   "execution_count": null,
   "metadata": {},
   "outputs": [],
   "source": [
    "from django.contrib import admin\n",
    "from .models import Bid\n",
    "\n",
    "class BidAdmin(admin.ModelAdmin):\n",
    "    list_display = ('lot', 'price', 'user')\n",
    "    ordering = ('-price',)\n",
    "\n",
    "admin.site.register(Bid, BidAdmin)"
   ]
  }
 ],
 "metadata": {
  "language_info": {
   "name": "python"
  }
 },
 "nbformat": 4,
 "nbformat_minor": 2
}
