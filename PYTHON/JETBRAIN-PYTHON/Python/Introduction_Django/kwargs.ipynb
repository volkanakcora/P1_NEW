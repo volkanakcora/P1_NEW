{
 "cells": [
  {
   "cell_type": "markdown",
   "metadata": {},
   "source": [
    "## Multiple keyword arguments\n",
    "\n",
    "Let's get acquainted with the ** operator used to pass a varying number of keyword arguments into a function. **kwargs collects all possible extra values in a dictionary with keywords as keys."
   ]
  },
  {
   "cell_type": "code",
   "execution_count": 1,
   "metadata": {},
   "outputs": [
    {
     "name": "stdout",
     "output_type": "stream",
     "text": [
      "Ottawa is the capital city of Canada\n",
      "Tallinn is the capital city of Estonia\n",
      "Caracas is the capital city of Venezuela\n",
      "Helsinki is the capital city of Finland\n"
     ]
    }
   ],
   "source": [
    "def capital(**kwargs):\n",
    "    for key, value in kwargs.items():\n",
    "        print(value, \"is the capital city of\", key)\n",
    "\n",
    "\n",
    "capital(Canada=\"Ottawa\", Estonia=\"Tallinn\", Venezuela=\"Caracas\", Finland=\"Helsinki\")"
   ]
  },
  {
   "cell_type": "markdown",
   "metadata": {},
   "source": [
    "It is also possible to combine *args and **kwargs in one function definition:\n",
    "\n"
   ]
  },
  {
   "cell_type": "code",
   "execution_count": null,
   "metadata": {},
   "outputs": [],
   "source": [
    "def func(positional_args, defaults, *args, **kwargs):\n",
    "    pass"
   ]
  },
  {
   "cell_type": "markdown",
   "metadata": {},
   "source": [
    "The order is crucial here. Just as non-keyword arguments precede keyword arguments, *args must come before **kwargs in this case. Otherwise, both when creating and calling a function with *args and **kwargs in the wrong order, a SyntaxError will appear:"
   ]
  },
  {
   "cell_type": "code",
   "execution_count": 2,
   "metadata": {},
   "outputs": [
    {
     "ename": "SyntaxError",
     "evalue": "arguments cannot follow var-keyword argument (3346338531.py, line 1)",
     "output_type": "error",
     "traceback": [
      "\u001b[0;36m  Cell \u001b[0;32mIn[2], line 1\u001b[0;36m\u001b[0m\n\u001b[0;31m    def func(positional_args, defaults, **kwargs, *args):\u001b[0m\n\u001b[0m                                                  ^\u001b[0m\n\u001b[0;31mSyntaxError\u001b[0m\u001b[0;31m:\u001b[0m arguments cannot follow var-keyword argument\n"
     ]
    }
   ],
   "source": [
    "def func(positional_args, defaults, **kwargs, *args):\n",
    "# SyntaxError: invalid syntax\n",
    "\n",
    "func(positional_args, defaults, **kwargs, *args)\n",
    "# SyntaxError: iterable argument unpacking follows keyword argument unpacking"
   ]
  },
  {
   "cell_type": "markdown",
   "metadata": {},
   "source": [
    "## Unpacking in function calls\n"
   ]
  },
  {
   "cell_type": "markdown",
   "metadata": {},
   "source": [
    "There are two unpacking operators in Python: a single asterisk * unpacks elements of an iterable object and a double asterisk ** works with dictionaries."
   ]
  },
  {
   "cell_type": "code",
   "execution_count": 3,
   "metadata": {},
   "outputs": [
    {
     "name": "stdout",
     "output_type": "stream",
     "text": [
      "Au revoir, Laura\n",
      "See you on Tuesday\n",
      "\n",
      "Au revoir, Robin\n",
      "See you on Friday\n",
      "\n"
     ]
    }
   ],
   "source": [
    "def say_bye(**names):\n",
    "    for name in names:\n",
    "        print(\"Au revoir,\", name)\n",
    "        print(\"See you on\", names[name][\"next appointment\"])\n",
    "        print()\n",
    "\n",
    "\n",
    "humans = {\"Laura\": {\"next appointment\": \"Tuesday\"},\n",
    "          \"Robin\": {\"next appointment\": \"Friday\"}}\n",
    "\n",
    "say_bye(**humans)\n",
    "\n",
    "# Au revoir, Laura\n",
    "# See you on Tuesday\n",
    "# \n",
    "# Au revoir, Robin\n",
    "# See you on Friday"
   ]
  },
  {
   "cell_type": "code",
   "execution_count": 6,
   "metadata": {},
   "outputs": [],
   "source": [
    "tracks = {\"Woodkid\": {\"The Golden Age\": \"Run Boy Run\",\n",
    "                      \"On the Other Side\": \"Samara\"},\n",
    "          \"Cure\": {\"Disintegration\": \"Lovesong\",\n",
    "                   \"Wish\": \"Friday I'm in love\"}}"
   ]
  },
  {
   "cell_type": "code",
   "execution_count": 29,
   "metadata": {},
   "outputs": [
    {
     "name": "stdout",
     "output_type": "stream",
     "text": [
      "Woodkid\n",
      "ALBUM: The Golden Age TRACK: Run Boy Run\n",
      "ALBUM: On the Other Side TRACK: Samara\n",
      "\n",
      "Cure\n",
      "ALBUM: Disintegration TRACK: Lovesong\n",
      "ALBUM: Wish TRACK: Friday I'm in love\n",
      "\n"
     ]
    }
   ],
   "source": [
    "def tracklist(**tracklist):\n",
    "    for artist, albums in tracklist.items():\n",
    "        print(artist)\n",
    "        for album, song in albums.items():\n",
    "                print(f\"ALBUM: {album} TRACK: {song}\")\n",
    "\n",
    "\n",
    "tracklist(**tracks)"
   ]
  },
  {
   "cell_type": "code",
   "execution_count": 25,
   "metadata": {},
   "outputs": [
    {
     "name": "stdout",
     "output_type": "stream",
     "text": [
      "Woodkid\n",
      "ALBUM: The Golden Age TRACK: Run Boy Run\n",
      "ALBUM: On the Other Side TRACK: Samara\n",
      "\n",
      "Cure\n",
      "ALBUM: Disintegration TRACK: Lovesong\n",
      "ALBUM: Wish TRACK: Friday I'm in love\n",
      "\n"
     ]
    }
   ],
   "source": [
    "def tracklist(**artists):\n",
    "  \"\"\"Prints a formatted tracklist for the provided artists and their albums.\n",
    "\n",
    "  Args:\n",
    "      **artists: Keyword arguments representing artists and their albums.\n",
    "                 Each artist's value should be a dictionary with albums as keys\n",
    "                 and songs as values.\n",
    "  \"\"\"\n",
    "  for artist, albums in artists.items():\n",
    "    print(artist)\n",
    "    for album, song in albums.items():\n",
    "      print(f\"ALBUM: {album} TRACK: {song}\")\n",
    "    print()  # Print an empty line after each artist\n",
    "\n",
    "# Example usage\n",
    "tracks = {\"Woodkid\": {\"The Golden Age\": \"Run Boy Run\",\n",
    "                      \"On the Other Side\": \"Samara\"},\n",
    "          \"Cure\": {\"Disintegration\": \"Lovesong\",\n",
    "                   \"Wish\": \"Friday I'm in love\"}}\n",
    "tracklist(**tracks)\n"
   ]
  }
 ],
 "metadata": {
  "kernelspec": {
   "display_name": "base",
   "language": "python",
   "name": "python3"
  },
  "language_info": {
   "codemirror_mode": {
    "name": "ipython",
    "version": 3
   },
   "file_extension": ".py",
   "mimetype": "text/x-python",
   "name": "python",
   "nbconvert_exporter": "python",
   "pygments_lexer": "ipython3",
   "version": "3.11.5"
  }
 },
 "nbformat": 4,
 "nbformat_minor": 2
}
