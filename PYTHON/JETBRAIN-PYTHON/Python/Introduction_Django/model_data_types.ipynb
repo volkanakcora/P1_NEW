{
 "cells": [
  {
   "cell_type": "markdown",
   "metadata": {},
   "source": [
    "# Model data types"
   ]
  },
  {
   "cell_type": "markdown",
   "metadata": {},
   "source": [
    "As you already know, Django web applications can access and manage data with Python objects — models. Models specify the structure of the stored data. The model definition must not depend on the selected database because once you choose the database you want to use in your project, you don't have to work with it directly. You write your model structure, and Django does all the work related to the database. There are many different types of models. In this topic, we will take a closer look at the most common ones: DecimalField, FloatField, IntegerField, BooleanField, CharField, TextField, DateField and FileField.\n",
    "\n",
    "# Model example\n",
    " We'll start with creating two models in the models.py file: one for storing information about books and another for authors."
   ]
  },
  {
   "cell_type": "code",
   "execution_count": null,
   "metadata": {},
   "outputs": [],
   "source": [
    "from django.db import models\n",
    "\n",
    "class Book(models.Model):\n",
    "    title = models.CharField(max_length=64)\n",
    "    abstract = models.TextField(max_length=1000)\n",
    "    author = models.ForeignKey('Author', on_delete=models.SET_NULL, null=True)\n",
    "    pages = models.IntegerField()\n",
    "    price = models.DecimalField(max_digits=8, decimal_places=2)\n",
    "    publication_date = models.DateField(null=True, blank=True)\n",
    "    is_in_stock = models.BooleanField()\n",
    "    file = models.FileField(upload_to='books/')\n",
    "\n",
    "class Author(models.Model):\n",
    "    first_name = models.CharField(max_length=64)\n",
    "    last_name = models.CharField(max_length=64)\n",
    "    country = models.CharField(max_length=64)\n"
   ]
  },
  {
   "cell_type": "markdown",
   "metadata": {},
   "source": [
    "Each created model must be inherited from models.Model so that Django realizes that this class serves as a description of the model. A model can have any number of fields of any type, and each field is a column of data that we want to store in one of our database tables. In the following paragraphs, we'll consider each field type in detail."
   ]
  },
  {
   "cell_type": "markdown",
   "metadata": {},
   "source": [
    "# Numeric fields\n",
    "\n",
    "- The FloatField is designed to store floating-point numbers with a decimal component\n",
    "- The DecimalField is specifically designed for storing fixed-point decimal numbers.\n",
    "\n"
   ]
  },
  {
   "cell_type": "code",
   "execution_count": null,
   "metadata": {},
   "outputs": [],
   "source": [
    "price = models.DecimalField(max_digits=8, decimal_places=2)"
   ]
  },
  {
   "cell_type": "markdown",
   "metadata": {},
   "source": [
    "The max_digits parameter specifies the maximum number of digits that can be stored in a DecimalField. This number includes both the digits before and after the decimal point. max_digits value must be a positive integer."
   ]
  },
  {
   "cell_type": "code",
   "execution_count": null,
   "metadata": {},
   "outputs": [],
   "source": []
  },
  {
   "cell_type": "markdown",
   "metadata": {},
   "source": [
    "# BooleanField\n",
    "- The BooleanField in Django is a field used to store boolean values in the database\n"
   ]
  },
  {
   "cell_type": "code",
   "execution_count": null,
   "metadata": {},
   "outputs": [],
   "source": [
    "is_in_stock = models.BooleanField()"
   ]
  },
  {
   "cell_type": "markdown",
   "metadata": {},
   "source": [
    "BooleanField accepts and stores the following values:\n",
    "\n",
    "- True, which represents a positive or a true state;\n",
    "\n",
    "- False, which means a negative or a false state."
   ]
  },
  {
   "cell_type": "markdown",
   "metadata": {},
   "source": [
    "# CharField\n",
    "Consider the following line from the snippet above:\n",
    "\n"
   ]
  },
  {
   "cell_type": "code",
   "execution_count": null,
   "metadata": {},
   "outputs": [],
   "source": [
    "title = models.CharField(max_length=64)\n"
   ]
  },
  {
   "cell_type": "markdown",
   "metadata": {},
   "source": [
    "This means that the model will have a field named title, and the type of this field will be models.CharField. This type describes string fields with the maximum number of characters specified in the max_length parameter. This is how you can store data such as names, last names, and addresses, as they do not require many characters."
   ]
  },
  {
   "cell_type": "markdown",
   "metadata": {},
   "source": [
    "# TextField\n",
    "Let's consider the abstract field in the Book model:\n",
    "\n"
   ]
  },
  {
   "cell_type": "code",
   "execution_count": null,
   "metadata": {},
   "outputs": [],
   "source": [
    "abstract = models.TextField(max_length=1000)"
   ]
  },
  {
   "cell_type": "markdown",
   "metadata": {},
   "source": [
    " the max_length parameter has a value of 1000. This type stores big-string data, for example, large texts or paragraphs.\n",
    "\n",
    "The main differences between CharField and TextField are:\n",
    "\n",
    "- max_length enforcement. CharField does it on the database level, while TextField will only do that in the auto-generated form widget;\n",
    "\n",
    "- maximum max_length. The maximum length of the Varchar field, where CharField does the mapping, may be restricted to 255 by some database engines; use TextField if you want to store more characters."
   ]
  },
  {
   "cell_type": "markdown",
   "metadata": {},
   "source": [
    "# DateField\n",
    "\n",
    "In our models, we used DateField to store a book's publication date. In Python, this type is represented by an instance of datetime.date. There are no required parameters for this type, but as you can see, we specified two: null=True and blank=True. Here is what they mean:\n",
    "\n",
    "- if null=True, Django will store empty field values as NULL in the database. If no value is specified, it will default to False.\n",
    "\n",
    "- if blank=True, the field can be blank when filling out the forms. The default value is False."
   ]
  },
  {
   "cell_type": "markdown",
   "metadata": {},
   "source": [
    "# FileField\n",
    "The FileField is a field used to handle file uploads. It allows users to upload files from their local system to your Django application. The FileField stores the uploaded file's reference and automatically handles the file storage and retrieval."
   ]
  },
  {
   "cell_type": "code",
   "execution_count": null,
   "metadata": {},
   "outputs": [],
   "source": [
    "file = models.FileField(upload_to='books/')\n"
   ]
  },
  {
   "cell_type": "markdown",
   "metadata": {},
   "source": [
    "The upload_to parameter specifies the directory path where the uploaded file will be stored. It can be either a string representing a path or a callable function that dynamically determines the upload path based on the instance and filename. When a file is uploaded using a FileField, Django automatically stores the file in the specified location and generates a unique filename. It also provides methods to access and interact with the stored file."
   ]
  },
  {
   "cell_type": "markdown",
   "metadata": {},
   "source": [
    "# ForeignKey\n",
    "\n"
   ]
  },
  {
   "cell_type": "code",
   "execution_count": null,
   "metadata": {},
   "outputs": [],
   "source": [
    "author = models.ForeignKey('Author', on_delete=models.SET_NULL, null=True)\n"
   ]
  },
  {
   "cell_type": "markdown",
   "metadata": {},
   "source": [
    "This means that this model will store a reference to some record from another model. In this case, the Author model. This relationship makes sense because we want to know who wrote a certain book. The models.ForeignKey field type defines this relationship between the two models. In this example, on_delete and null are the field parameters."
   ]
  }
 ],
 "metadata": {
  "language_info": {
   "name": "python"
  }
 },
 "nbformat": 4,
 "nbformat_minor": 2
}
