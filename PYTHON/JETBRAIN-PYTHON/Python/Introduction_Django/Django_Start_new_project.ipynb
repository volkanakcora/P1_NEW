{
 "cells": [
  {
   "cell_type": "markdown",
   "metadata": {},
   "source": [
    "## Django project structure\n",
    "Django uses a convention that contains several requirements for storing elements. Following that convention makes it easier to work with the legacy code, as everybody knows where to look for the code responsible for particular functions.\n",
    "\n",
    "Django comes with the django-admin utility that creates a project's skeleton. Note that Django uses the following naming convention:\n",
    "\n",
    "- project — a collection of settings for Django instance, applicable to the whole website;\n",
    "\n",
    "- application — a submodule of a project that implements certain functionalities\n",
    "\n",
    "To isolate units of code with different business logic, you can create multiple applications within one project. For example, an online store project can have a blog, authors, forum, and support applications. Applications can be used many times so you can copy them to other projects. For example, functionalities like user registration, login, logout, password resets or profile editing can be bundled into a user application and used over and over again with any website that needs to identify its users."
   ]
  },
  {
   "cell_type": "markdown",
   "metadata": {},
   "source": [
    "# Starting a new project\n"
   ]
  },
  {
   "cell_type": "markdown",
   "metadata": {},
   "source": [
    "The django-admin utility creates a basic structure of the files for both project and application, with the use startproject and startapp commands, respectively. Note that different versions of Django have different default layouts, and whichever version you use, try to stick to the structure it provides; it will make your code easier to maintain."
   ]
  },
  {
   "cell_type": "markdown",
   "metadata": {},
   "source": [
    "Let's continue the example with the online store. To create the project and the first application, run the following code in the command line:"
   ]
  },
  {
   "cell_type": "code",
   "execution_count": null,
   "metadata": {
    "vscode": {
     "languageId": "shellscript"
    }
   },
   "outputs": [],
   "source": [
    "django-admin startproject store\n",
    "cd store\n",
    "django-admin startapp blog"
   ]
  },
  {
   "cell_type": "markdown",
   "metadata": {},
   "source": [
    "The first command creates a new folder with the project skeleton (your website is called store in this example). Note that files are created in another subfolder with the same name, except for the manage.py file."
   ]
  },
  {
   "cell_type": "markdown",
   "metadata": {},
   "source": [
    "The second command moves you into that folder, and the third one creates a new Django application in a subfolder ```(blog)```."
   ]
  },
  {
   "cell_type": "markdown",
   "metadata": {},
   "source": [
    "Having executed these commands, Django will automatically create a whole file tree for the project. The store folder will be the root of your site (project) and the subfolder blog will be the first application you've created."
   ]
  },
  {
   "cell_type": "markdown",
   "metadata": {},
   "source": [
    "# Manage.py\n"
   ]
  },
  {
   "cell_type": "markdown",
   "metadata": {},
   "source": [
    "This file is a command-line utility for administrative purposes. One can interchangeably use ```django-admin <commmand>``` or ```python manage.py <command>.```"
   ]
  },
  {
   "cell_type": "markdown",
   "metadata": {},
   "source": [
    "Some of the most common commands executed with manage.py include:\n",
    "\n",
    "- ```runserver``` starts a local web server. The development server automatically reloads Python code for each request, as needed. You don’t need to restart the server for code changes to take effect;\n",
    "\n",
    "- ```makemigrations``` detects changes in models and creates scripts to apply these changes to database. Migrations files are stored in an app/migrations folder.\n",
    "\n",
    "- ```migrate``` synchronizes the database state with the current set of models and migrations;\n",
    "\n",
    "- ```dumpdata``` and ```loaddata``` outputs and loads data from a database; these commands are used to migrate data (opposed to migrate, which handles only data structure of the database)"
   ]
  },
  {
   "cell_type": "markdown",
   "metadata": {},
   "source": [
    "### Settings.py\n",
    "\n",
    "- This file contains various project-level parameters such as language and time-zone setup or definition of database (sqlite3 by default). This is where you can turn on/off debug mode of your server or define hosts allowed to connect to the application.\n",
    "\n",
    "- In the beginning, default values will be enough, though you will need to add your application name to the ```INSTALLED_APPS``` variable:\n"
   ]
  },
  {
   "cell_type": "code",
   "execution_count": null,
   "metadata": {
    "vscode": {
     "languageId": "shellscript"
    }
   },
   "outputs": [],
   "source": [
    "INSTALLED_APPS = [\n",
    "    'django.contrib.admin',\n",
    "    'django.contrib.auth',\n",
    "    'django.contrib.contenttypes',\n",
    "    'django.contrib.sessions',\n",
    "    'django.contrib.messages',\n",
    "    'django.contrib.staticfiles',\n",
    "    'blog',\n",
    "]"
   ]
  },
  {
   "cell_type": "markdown",
   "metadata": {},
   "source": [
    "# Models.py\n",
    "- The components can be linked with the following files and folders:\n",
    "\n",
    "```\n",
    "store/\n",
    "├── blog\n",
    "    ├── ...\n",
    "    ├── models.py    # Model\n",
    "    └── views.py     # Views\n",
    "├── store\n",
    "    ├── ...\n",
    "    └── urls.py      # Views\n",
    "```\n",
    "\n"
   ]
  },
  {
   "cell_type": "markdown",
   "metadata": {},
   "source": [
    "Now, let's take a look at each of the components in more detail:\n",
    "```\n",
    "store/\n",
    "└── blog\n",
    "    └── models.py\n",
    "```"
   ]
  },
  {
   "cell_type": "markdown",
   "metadata": {},
   "source": [
    "As you remember, the Model component is in charge of the data in your project. It includes all the database operations with the project's business objects. A ```business object``` is simply an entity with custom attributes; it reflects a structured piece of data from your application that you want to store persistently or temporarily. For example, in a shop application, it can be a customer, a product, and a purchase; in a blog, business objects can be authors, posts, and comments."
   ]
  },
  {
   "cell_type": "markdown",
   "metadata": {},
   "source": [
    "To keep your code clear, implement all operations with the business objects in the models.py module. The bigger your codebase gets, the harder it is to maintain everything in one file, but it's a good starting point.\n",
    "\n",
    "This is how models.py may look like in a very simple project:"
   ]
  },
  {
   "cell_type": "code",
   "execution_count": null,
   "metadata": {},
   "outputs": [],
   "source": [
    "from django.db import models\n",
    "\n",
    "class Post(models.Model):\n",
    "    title = models.CharField(max_length=200)\n",
    "    content = models.TextField()"
   ]
  },
  {
   "cell_type": "markdown",
   "metadata": {},
   "source": [
    "Django has the built-in ```Model``` class for creating database models. In the snippet above, we create our model for posts that has two fields: a title and a content."
   ]
  },
  {
   "cell_type": "markdown",
   "metadata": {},
   "source": [
    "Django provides some of the most used models right out of the box. When you start with your own projects, you may use the ```User``` and ```Group``` models from ```django.contrib.auth.models```. The User is a registered person in your web service and the Group is a collection of users. We'll create some of those and discuss how to work with them in detail later when we attach a database to the project."
   ]
  },
  {
   "cell_type": "markdown",
   "metadata": {},
   "source": [
    "# Templates\n",
    "\n",
    "```\n",
    "store/\n",
    "├── blog\n",
    "    └── templates\n",
    "        └── blog\n",
    "            └── index.html\n",
    "└── templates\n",
    "    └── base.html\n",
    "\n",
    "```"
   ]
  },
  {
   "cell_type": "markdown",
   "metadata": {},
   "source": [
    "No one will know what the service does, unless it has some form of visual rendition. Templates are a representation of your web service; it is what the user sees."
   ]
  },
  {
   "cell_type": "markdown",
   "metadata": {},
   "source": [
    "This component is stored in templates, files that support Django/Jinja2 template languages. They can also include content with HTML, CSS, and JavaScript. The template language utilizes the ability to use similar constructs you use in Python: it has a different syntax but the same function words. Here's how the simplest template file may look like:"
   ]
  },
  {
   "cell_type": "code",
   "execution_count": null,
   "metadata": {
    "vscode": {
     "languageId": "html"
    }
   },
   "outputs": [],
   "source": [
    "<!DOCTYPE html>\n",
    "<title>Example</title>\n",
    "\n",
    "<h1>First template</h1>\n",
    "\n",
    "<p>This is a simple html-page without any additional functionality.</p>"
   ]
  },
  {
   "cell_type": "markdown",
   "metadata": {},
   "source": [
    "# Views.py and urls.py\n",
    "\n",
    "```\n",
    "store/\n",
    "├── blog\n",
    "     └── views.py\n",
    "└── store\n",
    "      └── urls.py\n",
    "```\n",
    "\n",
    "- Templates and models are good tools, but something should manage how they work together, and here we turn to views. There are two types of files: views.py and urls.py."
   ]
  },
  {
   "cell_type": "markdown",
   "metadata": {},
   "source": [
    "In urls.py, you define the routing for your service. Routing is a process of matching request links with appropriate view handlers. A view handler is a function or a class that responds to requests."
   ]
  },
  {
   "cell_type": "markdown",
   "metadata": {},
   "source": [
    "Main routing links should be registered manually in ```<project_name>/<project_name>/urls.py.``` First, let the project know what address our application belongs to. Paste the following code to the project's urls.py file:"
   ]
  },
  {
   "cell_type": "code",
   "execution_count": null,
   "metadata": {},
   "outputs": [],
   "source": [
    "from django.contrib import admin\n",
    "from django.urls import include, path\n",
    "\n",
    "urlpatterns = [\n",
    "    path('', include('blog.urls')),   # defining our app routings\n",
    "    path('admin/', admin.site.urls),         # defining admin panel\n",
    "]"
   ]
  },
  {
   "cell_type": "markdown",
   "metadata": {},
   "source": [
    "The admin panel is part of Django framework, as you can see in the import statement in the first line."
   ]
  },
  {
   "cell_type": "markdown",
   "metadata": {},
   "source": [
    "Django admin panel provides a web user interface to the database not only for the admin user, but also other users with appropriate privileges.\n",
    "\n",
    "- Now let's make it clear to the application what links need to be processed inside of it and where they lie, relative to the main links. Create a new urls.py file in your application folder, it needs to be at ```<project_name>/<app_name>/urls.py``` and paste the following cod"
   ]
  },
  {
   "cell_type": "code",
   "execution_count": null,
   "metadata": {},
   "outputs": [],
   "source": [
    "from django.urls import path\n",
    "from . import views      # importing all handlers from views.py\n",
    "\n",
    "urlpatterns = [\n",
    "    path('', views.example_view, name='NAME_OF_YOUR_VIEW'),\n",
    "]"
   ]
  },
  {
   "cell_type": "markdown",
   "metadata": {},
   "source": [
    "The urls.py file in an application defines routes specific to that application. This allows developers to create reusable applications that can be easily integrated into other projects.\n",
    "\n",
    "View handlers are defined in the corresponding views.py file. View functions play a mediator role between the model and the templates layers. Let's create the example_view from the example above:"
   ]
  },
  {
   "cell_type": "code",
   "execution_count": null,
   "metadata": {},
   "outputs": [],
   "source": [
    "from django.http import HttpResponse\n",
    "\n",
    "\n",
    "def example_view(request):\n",
    "    return HttpResponse(\"Hello, world\")"
   ]
  },
  {
   "cell_type": "markdown",
   "metadata": {},
   "source": [
    "The HttpResponse object is a special object that stores all the data required to be returned to the client. You'll discover more about it in the next topics, for now it's enough to say that the example view returns the Hello world line."
   ]
  },
  {
   "cell_type": "code",
   "execution_count": null,
   "metadata": {
    "vscode": {
     "languageId": "shellscript"
    }
   },
   "outputs": [],
   "source": []
  }
 ],
 "metadata": {
  "kernelspec": {
   "display_name": "base",
   "language": "python",
   "name": "python3"
  },
  "language_info": {
   "codemirror_mode": {
    "name": "ipython",
    "version": 3
   },
   "file_extension": ".py",
   "mimetype": "text/x-python",
   "name": "python",
   "nbconvert_exporter": "python",
   "pygments_lexer": "ipython3",
   "version": "3.11.5"
  }
 },
 "nbformat": 4,
 "nbformat_minor": 2
}
