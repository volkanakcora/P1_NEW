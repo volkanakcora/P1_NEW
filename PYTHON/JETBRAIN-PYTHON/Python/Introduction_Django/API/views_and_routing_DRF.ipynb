{
 "cells": [
  {
   "cell_type": "markdown",
   "metadata": {},
   "source": [
    "# Views and routing in DRF\n",
    "\n",
    "- When we interact with a website, our requests are captured by a URL pattern in Django and then forwarded to Django views to handle. After that, the view determines what to return as a response to the user. Yes, the DRF API views are very similar to Django views. The main difference is that we return HTML data in Django views, while in DRF API views, we return JSON data. As you probably know, URLs and Views are the most critical parts of a Django project"
   ]
  },
  {
   "cell_type": "markdown",
   "metadata": {},
   "source": [
    "## Views\n",
    "When building APIs with Django, one cannot help but appreciate the elegance and power of Class-Based Views (CBVs). Before diving into the more sophisticated world of Django Rest Framework (DRF), it is worthwhile to understand how you can employ basic CBVs to add API endpoints to your application. Let's take a simple example to illustrate this. Suppose you have a Django project and must create a basic API for a list of products. Using a CBV approach without DRF, you can define a view class, inherit from Django's View class, and write methods for HTTP verbs like GET and POST to handle requests and return responses. Let's create simple function-based and class-based views as an example:"
   ]
  },
  {
   "cell_type": "code",
   "execution_count": null,
   "metadata": {},
   "outputs": [],
   "source": [
    "# exmaple function-based view\n",
    "from rest_framework.decorators import api_view\n",
    "from rest_framework.response import Response\n",
    "\n",
    "\n",
    "@api_view()\n",
    "def hello_world(request):\n",
    "    return Response({\"message\": \"Hello, world!\"})"
   ]
  },
  {
   "cell_type": "code",
   "execution_count": null,
   "metadata": {},
   "outputs": [],
   "source": [
    "# example class-based view\n",
    "from rest_framework.views import APIView\n",
    "from rest_framework.response import Response\n",
    "\n",
    "\n",
    "\n",
    "class HelloWorldView(APIView):\n",
    "    \n",
    "    def get(self, request, *args, **kwargs):\n",
    "        \"\"\"\n",
    "        implemented get() method of the APIView to return a response to GET requests.\n",
    "        \"\"\"\n",
    "        return Response({\"message\": \"Hello, world!\"})"
   ]
  },
  {
   "cell_type": "markdown",
   "metadata": {},
   "source": [
    "The above examples show how we can make simple views without models and serializers. Implementing views is not going to be always that simple. While this approach certainly works, it can be more manual and require additional code to handle serialization, validation, and URL routing. We may want to show all our article lists to our users."
   ]
  },
  {
   "cell_type": "code",
   "execution_count": null,
   "metadata": {},
   "outputs": [],
   "source": [
    "# views.py\n",
    "from django.views.generic import View\n",
    "from django.http import JsonResponse\n",
    "from .models import Article\n",
    "\n",
    "class ArticleListView(View):\n",
    "    def get(self, request):\n",
    "        articles = Article.objects.all()\n",
    "        article_list = []\n",
    "        for article in articles:\n",
    "            article_list.append({\n",
    "                'title': article.title,\n",
    "                'content': article.content,\n",
    "            })\n",
    "        return JsonResponse({'articles': article_list})"
   ]
  },
  {
   "cell_type": "markdown",
   "metadata": {},
   "source": [
    "This code will work, but it doesn't provide the flexibility, automatic data serialization, or ease of creating APIs that the Django Rest Framework provides. This is where DRF comes to the rescue, streamlining the process and providing powerful tools for building APIs efficiently. With the help of DRF generic views, we can quickly create views that do regular things, such as returning a list of objects and object details and create/update/delete objects. For example, to return a list of Article objects, we can create a ListAPIView by extending the generics.ListAPIView class:"
   ]
  },
  {
   "cell_type": "code",
   "execution_count": null,
   "metadata": {},
   "outputs": [],
   "source": [
    "# views.py\n",
    "from rest_framework import generics\n",
    "from rest_framework.permissions import AllowAny\n",
    "\n",
    "from .models import Article\n",
    "from .serializers import ArticleSerializer  # created in Serializers topic\n",
    "\n",
    "class ArticleListAPIView(generics.ListAPIView):\n",
    "    serializer_class = ArticleSerializer\n",
    "    permission_class = [AllowAny]  # AllowAny provides public access to this APIView\n",
    "    queryset = Article.objects.all()  # We need to specify queryset to retrieve data from database\n"
   ]
  },
  {
   "cell_type": "markdown",
   "metadata": {},
   "source": [
    "Similarly, we can also define APIs to create, update, delete, or retrieve a single object as follows:\n",
    "\n"
   ]
  },
  {
   "cell_type": "code",
   "execution_count": null,
   "metadata": {},
   "outputs": [],
   "source": [
    "# retrieve a single Article object using object id; it accepts GET http method\n",
    "class ArticleRetrieveAPIView(generics.RetrieveAPIView):\n",
    "    serializer_class = ArticleSerializer\n",
    "    permission_class = [AllowAny]  \n",
    "    queryset = Article.objects.all()\n",
    "\n",
    "\n",
    "# create an Article object(will be stored in database); it accepts POST http method\n",
    "class ArticleCreateAPIView(generics.CreateAPIView):\n",
    "    serializer_class = ArticleSerializer\n",
    "    permission_class = [AllowAny]  \n",
    "    # we don't need a queryset here as we're not returning any existing objects\n",
    "\n",
    "\n",
    "# update an Article object; it accepts PUT and PATCH http methods\n",
    "class ArticleUpdateAPIView(generics.UpdateAPIView):\n",
    "    serializer_class = ArticleSerializer\n",
    "    permission_class = [AllowAny]  \n",
    "    queryset = Article.objects.all()\n",
    "\n",
    "\n",
    "# delete an Article object; it accepts DELETE http method\n",
    "class ArticleDeleteAPIView(generics.DeleteAPIView):\n",
    "    serializer_class = ArticleSerializer\n",
    "    permission_class = [AllowAny]  \n",
    "    queryset = Article.objects.all()"
   ]
  },
  {
   "cell_type": "markdown",
   "metadata": {},
   "source": [
    "## URLs\n",
    "\n",
    "We need to connect the above views with the URL patterns to accept HTTP requests from clients. We use Django's URL patterns to connect the above views with URLs.\n",
    "\n",
    "```python\n",
    "from django.urls import path\n",
    "\n",
    "from . import views\n",
    "\n",
    "\n",
    "urlpatterns = [\n",
    "    path('articles/', views.ArticleListAPIView.as_view()),\n",
    "    path('articles/<int:id>', views.ArticleRetrieveAPIView.as_view()),\n",
    "    path('articles/<int:id>', views.ArticleCreateAPIView.as_view()),\n",
    "    path('articles/<int:id>', views.ArticleUpdateAPIView.as_view()),\n",
    "    path('articles/<int:id>', views.ArticleDeleteAPIView.as_view()),\n",
    "]\n",
    "```\n",
    "\n",
    "\n",
    "\n",
    "\n",
    "## Viewsets and routers\n",
    "We can refer to DRF's viewsets and routers to allow users to do all kinds of operations. Let's see how we can create all the above functionalities with them:\n",
    "```python\n",
    "# viewsets.py\n",
    "from rest_framework import viewsets\n",
    "from rest_framework.permissions import AllowAny\n",
    "\n",
    "from .models import Article\n",
    "from .serializers import ArticleSerializer  # created in Serializers topic\n",
    "\n",
    "\n",
    "class ArticleViewset(viewsets.ModelViewSet):\n",
    "    serializer_class = ArticleSerializer\n",
    "    permission_class = [AllowAny] \n",
    "    queryset = Article.objects.all()\n",
    "```\n",
    "ModelViewSet can reduce the code repetition significantly and speed up our development (note that errors are reduced, too). Viewset model implements list, retrieve, create, update, partial_update, delete calls; we've defined them as separate classes previously. Usually, we use routers to create URL patterns for viewsets to remove repetition:\n",
    "\n",
    "```python\n",
    "# urls.py or routers.py (add this URL patterns with project's URL patterns)\n",
    "from rest_framework import routers\n",
    "\n",
    "from .viewsets import \n",
    "\n",
    "router = routers.SimpleRouter()  # created a SimpleRouter object where we can register viewsets\n",
    "router.register('articles', ArticleViewSet)\n",
    "\n",
    "urlpatterns = router.urls  # routers.urls returns a URLs pattern\n",
    "```"
   ]
  }
 ],
 "metadata": {
  "language_info": {
   "name": "python"
  }
 },
 "nbformat": 4,
 "nbformat_minor": 2
}
