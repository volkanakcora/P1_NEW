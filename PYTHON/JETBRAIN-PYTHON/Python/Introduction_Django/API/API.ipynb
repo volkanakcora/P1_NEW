{
 "cells": [
  {
   "cell_type": "markdown",
   "metadata": {},
   "source": [
    "# Class based views for API\n",
    "\n",
    "- In the world of web development, especially as codebases grow and project scopes expand, we're constantly seeking more efficient ways to build and manage our projects. Class-Based Views, found in many web frameworks like Django, are one solution. They streamline common tasks and make our code more reusable, proving particularly beneficial in larger projects.\n",
    "\n",
    "- Have you ever struggled with maintaining an ever-expanding set of API endpoints? If so, combining Class-Based Views with APIs might just be the solution you've been looking for.\n",
    "\n",
    "- To illustrate this concept, we'll use a 'Book' model as an example throughout this article. Imagine a 'Book' object that has properties like 'title', 'author', 'publication_date', and 'price'. Stay tuned to discover how Class-Based Views can transform your web development experience and make handling APIs a breeze."
   ]
  },
  {
   "cell_type": "markdown",
   "metadata": {},
   "source": [
    "# Using FBV for API\n",
    "\n"
   ]
  },
  {
   "cell_type": "code",
   "execution_count": null,
   "metadata": {},
   "outputs": [],
   "source": [
    "from django.http import HttpResponse\n",
    "from django.views.decorators.csrf import csrf_exempt\n",
    "\n",
    "@csrf_exempt \n",
    "def hello_world(request):\n",
    "    return HttpResponse(\"Hello, World!\") "
   ]
  },
  {
   "cell_type": "markdown",
   "metadata": {},
   "source": [
    "In this example, the @csrf_exempt decorator instructs Django not to check for the CSRF token. While this approach is typically not recommended for production code, it's suitable for simple examples."
   ]
  },
  {
   "cell_type": "markdown",
   "metadata": {},
   "source": [
    "Now, when creating an API using Django, you can use FBV to handle HTTP requests. Below is an example of using FBV to create an API for a to-do list:"
   ]
  },
  {
   "cell_type": "code",
   "execution_count": null,
   "metadata": {},
   "outputs": [],
   "source": [
    "from django.http import JsonResponse \n",
    "from django.views.decorators.csrf import csrf_exempt\n",
    "\n",
    "@csrf_exempt \n",
    "def my_todo_tasks(request):\n",
    "    if request.method == 'GET': \n",
    "        data = {\"task1\": \"learn django\", \"task2\": \"create a todo app\"} \n",
    "        return JsonResponse(data) \n",
    "    elif request.method == 'POST': \n",
    "        data = json.loads(request.body) \n",
    "        return JsonResponse({\"success\": True})"
   ]
  },
  {
   "cell_type": "markdown",
   "metadata": {},
   "source": [
    "Function based views are an excellent choice for simple use cases due to their straightforward, easy-to-read, and easy-to-write nature. However, they can become unwieldy if you're dealing with complex logic, multiple methods, or large amounts of code."
   ]
  },
  {
   "cell_type": "markdown",
   "metadata": {},
   "source": [
    "# Using FBV for API with Django REST Framework\n",
    "\n",
    "-  let's look at how the Django REST Framework (DRF) can improve our code. If you haven't installed it yet, you can do so using pip:\n",
    "\n",
    "\n",
    "```bash\n",
    "pip install djangorestframework \n",
    "```\n"
   ]
  },
  {
   "cell_type": "markdown",
   "metadata": {},
   "source": [
    "Once installed, don't forget to add 'rest_framework' to your INSTALLED_APPS setting:"
   ]
  },
  {
   "cell_type": "code",
   "execution_count": null,
   "metadata": {},
   "outputs": [],
   "source": [
    "INSTALLED_APPS = [\n",
    "    ...\n",
    "    'rest_framework',\n",
    "]"
   ]
  },
  {
   "cell_type": "markdown",
   "metadata": {},
   "source": [
    "When using the Django REST Framework, you can employ a set of decorators such as api_view to transform function based views into API views capable of handling different types of requests, including GET and POST requests. Here's an example:"
   ]
  },
  {
   "cell_type": "code",
   "execution_count": null,
   "metadata": {},
   "outputs": [],
   "source": [
    "from rest_framework.decorators import api_view \n",
    "from rest_framework.response import Response \n",
    "\n",
    "@api_view(['GET', 'POST']) \n",
    "def hello_world(request): \n",
    "    if request.method == 'GET': \n",
    "        return Response({\"message\": \"Hello, World!\"}) \n",
    "    elif request.method == 'POST': \n",
    "        return Response({\"message\": \"Hello, POST World!\"})"
   ]
  },
  {
   "cell_type": "markdown",
   "metadata": {},
   "source": [
    "In this case, the ```hello_world``` function can handle both GET and POST requests. The api_view decorator informs the Django REST Framework that this function is an API view and should be treated accordingly.\n",
    "\n",
    "These situations are where the primary limitation of function based views becomes evident: they can grow large and complex when handling multiple methods (GET, POST, PUT, DELETE, etc) within a single view. Class based views (CBV) may be a better option in these instances, as they allow you to separate the logic for each method into different functions."
   ]
  },
  {
   "cell_type": "markdown",
   "metadata": {},
   "source": [
    "# Writing API with generic View\n",
    "\n",
    "Generic Views in Django REST Framework provide a higher level of abstraction over your views, allowing you to reuse common patterns. They are class-based views that allow you to process requests for different HTTP methods with separate class instances methods, making your code more organized and maintainable.\n",
    "\n",
    "Let's start with a basic example. Suppose we have a model called Video and we want to create an API view that allows us to retrieve a list of videos or create a new video. We can use the ListCreateAPIView generic view provided by Django REST Framework:\n"
   ]
  },
  {
   "cell_type": "code",
   "execution_count": null,
   "metadata": {},
   "outputs": [],
   "source": [
    "from rest_framework import generics\n",
    "from .models import Video\n",
    "from .serializers import VideoSerializer\n",
    "\n",
    "class VideoListCreate(generics.ListCreateAPIView):\n",
    "    queryset = Video.objects.all()\n",
    "    serializer_class = VideoSerializer"
   ]
  },
  {
   "cell_type": "markdown",
   "metadata": {},
   "source": [
    "In this example, VideoListCreate is a view that handles GET requests to retrieve a list of videos and POST requests to create a new video. The queryset attribute tells the view where to get the list of posts, and the serializer_class attribute tells the view how to convert the posts into a format that can be used in the API response."
   ]
  },
  {
   "cell_type": "markdown",
   "metadata": {},
   "source": [
    "Generic views can also be used to handle individual resources. For example, we can create a view that allows us to retrieve, update, or delete a single video using the RetrieveUpdateDestroyAPIView generic view:"
   ]
  },
  {
   "cell_type": "code",
   "execution_count": null,
   "metadata": {},
   "outputs": [],
   "source": [
    "class VideoDetail(generics.RetrieveUpdateDestroyAPIView):\n",
    "    queryset = Video.objects.all()\n",
    "    serializer_class = VideoSerializer"
   ]
  },
  {
   "cell_type": "markdown",
   "metadata": {},
   "source": [
    "In this example, VideoDetail is a view that handles GET requests to retrieve a single video, PUT requests to update a video, and DELETE requests to delete a video."
   ]
  },
  {
   "cell_type": "markdown",
   "metadata": {},
   "source": [
    "Now, let's modify the code snippet to include serializers explicitly and provide a clearer book example:"
   ]
  },
  {
   "cell_type": "code",
   "execution_count": null,
   "metadata": {},
   "outputs": [],
   "source": [
    "from rest_framework import generics\n",
    "from .models import Book\n",
    "from .serializers import BookSerializer\n",
    "\n",
    "class BookListCreate(generics.ListCreateAPIView):\n",
    "    queryset = Book.objects.all()\n",
    "    serializer_class = BookSerializer\n",
    "\n",
    "    def get(self, request, *args, **kwargs):\n",
    "        # Retrieve a list of books\n",
    "        return self.list(request, *args, **kwargs)\n",
    "\n",
    "    def post(self, request, *args, **kwargs):\n",
    "        # Create a new book\n",
    "        return self.create(request, *args, **kwargs)\n",
    "\n",
    "class BookDetail(generics.RetrieveUpdateDestroyAPIView):\n",
    "    queryset = Book.objects.all()\n",
    "    serializer_class = BookSerializer\n",
    "\n",
    "    def get(self, request, *args, **kwargs):\n",
    "        # Retrieve a single book\n",
    "        return self.retrieve(request, *args, **kwargs)\n",
    "\n",
    "    def put(self, request, *args, **kwargs):\n",
    "        # Update a book (entirely)\n",
    "        return self.update(request, *args, **kwargs)\n",
    "\n",
    "    def patch(self, request, *args, **kwargs):\n",
    "        # Partially update a book\n",
    "        return self.partial_update(request, *args, **kwargs)\n",
    "\n",
    "    def delete(self, request, *args, **kwargs):\n",
    "        # Delete a book\n",
    "        return self.destroy(request, *args, **kwargs)"
   ]
  }
 ],
 "metadata": {
  "language_info": {
   "name": "python"
  }
 },
 "nbformat": 4,
 "nbformat_minor": 2
}
