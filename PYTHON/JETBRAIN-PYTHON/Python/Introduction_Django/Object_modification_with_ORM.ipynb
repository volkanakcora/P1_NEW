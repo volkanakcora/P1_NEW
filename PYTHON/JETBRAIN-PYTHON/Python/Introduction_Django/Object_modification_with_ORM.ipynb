{
 "cells": [
  {
   "cell_type": "markdown",
   "metadata": {},
   "source": [
    "# Object modification with ORM\n",
    "\n",
    "The world changes over time, and so does your data. When you have a new object to store, you create it in a database for further use; if you don't need it anymore, you delete it. When the object's properties change, you make an update. These three actions along with reading are known as CRUD (Create, Read, Update, Delete) operations."
   ]
  },
  {
   "cell_type": "markdown",
   "metadata": {},
   "source": [
    "# Create"
   ]
  },
  {
   "cell_type": "markdown",
   "metadata": {},
   "source": [
    "Learning is hard, so we decide to take a break and make a truly entertaining computer game for ourselves. The galaxy is in danger, and our brave space team must prevent the alien invasion. The main weapons of our team are diplomacy and science. This time, we need only two models to start the game:"
   ]
  },
  {
   "cell_type": "code",
   "execution_count": null,
   "metadata": {},
   "outputs": [],
   "source": [
    "from django.db import models\n",
    "\n",
    "\n",
    "class Alien(models.Model):\n",
    "    db_column = models.CharField(max_length=32)\n",
    "    distance_to_galaxy = models.IntegerField()\n",
    "    threat = models.IntegerField()\n",
    "    speed = models.IntegerField()\n",
    "\n",
    "\n",
    "class Weapon(models.Model):\n",
    "    db_column = models.CharField(max_length=32)\n",
    "    quantity = models.IntegerField()\n",
    "    power = models.IntegerField()\n",
    "    coverage_distance = models.IntegerField()"
   ]
  },
  {
   "cell_type": "markdown",
   "metadata": {},
   "source": [
    "First, we should create some weapons for our heroes. Let's equip them with eloquence to convince aliens to go away and jammers to modify the scouting signals:"
   ]
  },
  {
   "cell_type": "code",
   "execution_count": null,
   "metadata": {},
   "outputs": [],
   "source": [
    "eloquence = Weapon.objects.create(\n",
    "   type='eloquence', power=100, coverage_distance=100, quantity=10\n",
    ")\n",
    "jammers = Weapon(type='jammer', power=10, coverage_distance=1000, quantity=50)\n",
    "jammers.save()"
   ]
  },
  {
   "cell_type": "markdown",
   "metadata": {},
   "source": [
    "Two methods illustrate how you can create new objects in a database. We create eloquence with the help of Object Manager. It has the method create where you can pass all the parameters your object has. If the result of this operation is successful, by calling it, you save the object to the database and return the instance of the Weapon class.\n",
    "\n",
    "The second method is to create an instance of a class and then save it manually. The two methods are pretty much the same, so you can use whichever you like most."
   ]
  },
  {
   "cell_type": "markdown",
   "metadata": {},
   "source": [
    "# Delete"
   ]
  },
  {
   "cell_type": "markdown",
   "metadata": {},
   "source": [
    "The alien invasion is coming. Meanwhile, we hope that our game will attract gamers and won't be boring. For each session, we'll create hundreds or even thousands of aliens to make the battle hard. If we don't clear the database of all the defeated aliens, operations will become slower, and we will eventually run out of disk space.\n",
    "\n",
    "The first enemy comes from a nearby galaxy, located only 23 solar years from ours:"
   ]
  },
  {
   "cell_type": "code",
   "execution_count": null,
   "metadata": {},
   "outputs": [],
   "source": [
    "et_alien = Alien.objects.create(type='ET', distance_to_galaxy=23, threat=70, speed=5)\n"
   ]
  },
  {
   "cell_type": "markdown",
   "metadata": {},
   "source": [
    "In five moves, it crosses the border, so the player can apply eloquence to deceive the opponent and make it back up. The power of eloquence is 100 and the threat is 70, so in one move the player can resist the first invasion!\n",
    "\n",
    "We do not need the et_alien anymore, so let's delete it:"
   ]
  },
  {
   "cell_type": "code",
   "execution_count": null,
   "metadata": {},
   "outputs": [],
   "source": [
    "et_alien.delete()"
   ]
  },
  {
   "cell_type": "markdown",
   "metadata": {},
   "source": [
    "# Update\n",
    "We have studied two main powers of modification: create and delete. The third power is to change an existing object. When the properties of an object change, we should update them in the database."
   ]
  },
  {
   "cell_type": "markdown",
   "metadata": {},
   "source": [
    "The next enemy of the galaxy is the Predator, an opponent that can hardly be defeated in a single move since it comes from the deep space, and our weapons are not strong enough."
   ]
  },
  {
   "cell_type": "code",
   "execution_count": null,
   "metadata": {},
   "outputs": [],
   "source": [
    "predator = Alien.objects.create(type='Predator', distance_to_galaxy=550, threat=40, speed=30)"
   ]
  },
  {
   "cell_type": "markdown",
   "metadata": {},
   "source": [
    "Our jammers create obstacles for signals in space, so the enemy loses direction. The player applies this weapon on the next move. The number of jammers decreased by one, and simultaneously the threat is diminished:"
   ]
  },
  {
   "cell_type": "code",
   "execution_count": null,
   "metadata": {},
   "outputs": [],
   "source": [
    "jammers.quantity -= 1\n",
    "jammers.save()\n",
    "\n",
    "predator.distance_to_galaxy -= predator.speed\n",
    "predator.threat -= jammers.power\n",
    "predator.save()"
   ]
  },
  {
   "cell_type": "markdown",
   "metadata": {},
   "source": [
    "Updating an object is a two-step operation. We change the attributes of an object and call the save method as for manual creation of an object.\n",
    "\n",
    "In case of error, we used change only in one place. To avoid this, the best practice is to use atomic as a decorator:"
   ]
  },
  {
   "cell_type": "code",
   "execution_count": null,
   "metadata": {},
   "outputs": [],
   "source": [
    "from django.db import IntegrityError, transaction\n",
    "\n",
    "@transaction.atomic\n",
    "def changes():\n",
    "    jammers.quantity -= 1\n",
    "    jammers.save()\n",
    "\n",
    "    predator.distance_to_galaxy -= predator.speed\n",
    "    predator.threat -= jammers.power\n",
    "    predator.save()"
   ]
  },
  {
   "cell_type": "markdown",
   "metadata": {},
   "source": [
    "# Modification of QuerySet\n",
    "\n",
    "We can modify each object as we like, but remember — aliens may come in a swarm. Can we apply our weapons to all of them simultaneously? With the approach we've just considered, the answer would be no. If only we could use a QuerySet for this task… The good news is we surely can!"
   ]
  },
  {
   "cell_type": "markdown",
   "metadata": {},
   "source": [
    "Space bugs come in a pack of three:\n",
    "\n"
   ]
  },
  {
   "cell_type": "code",
   "execution_count": null,
   "metadata": {},
   "outputs": [],
   "source": [
    "Alien.objects.bulk_create([\n",
    "    Alien(type='Space Bug', distance_to_galaxy=30, threat=150, speed=12) for _ in range(3)\n",
    "])"
   ]
  },
  {
   "cell_type": "code",
   "execution_count": null,
   "metadata": {},
   "outputs": [],
   "source": [
    "eloquence.quantity -= 1\n",
    "eloquence.save()\n",
    "\n",
    "space_bug = Alien.objects.filter(type='Space Bug').first()\n",
    "\n",
    "Alien.objects.filter(type='Space Bug').update(\n",
    "   distance_to_galaxy=space_bug.distance_to_galaxy - space_bug.speed,\n",
    "   threat=space_bug.threat - eloquence.power\n",
    ")"
   ]
  },
  {
   "cell_type": "markdown",
   "metadata": {},
   "source": [
    "The bugs are not defeated yet, but we update their position and threat in one call, not three. We get an Object Manager of a model, filter out objects that we want, and call update on the QuerySet. The syntax is the same: we pass parameters and their new values to the method, and Django does the rest of the work with the database.\n",
    "\n",
    "Finally, the player applies eloquence again and the bugs are convinced to stop their invasion. Again, we call the method on a QuerySet:"
   ]
  },
  {
   "cell_type": "code",
   "execution_count": null,
   "metadata": {},
   "outputs": [],
   "source": [
    "Alien.objects.filter(type='Space Bug').delete()\n"
   ]
  },
  {
   "cell_type": "markdown",
   "metadata": {},
   "source": [
    "# Other methods in Django ORM\n",
    "Now that the galaxy is saved, we can return to our planet and discuss other ORM methods, this time in a more peaceful way. In addition to the well-known methods such as ```filter(), get(), update(), all(), and delete()```, Django ORM provides a lot of other methods that allow us to exploit the power of SQL queries. "
   ]
  },
  {
   "cell_type": "code",
   "execution_count": null,
   "metadata": {},
   "outputs": [],
   "source": [
    "class Movie(models.Model):\n",
    "    title = models.CharField(max_length=100)\n",
    "    genre = models.CharField(max_length=20)\n",
    "    release_year = models.IntegerField()\n",
    "    director = models.ForeignKey(Director, on_delete=models.CASCADE)\n",
    "\n",
    "    def __str__(self):\n",
    "        return self.title"
   ]
  },
  {
   "cell_type": "markdown",
   "metadata": {},
   "source": [
    "As you may well have noticed, the movie table has a foreign key relationship with the director table, so let us define the Director model as well:"
   ]
  },
  {
   "cell_type": "code",
   "execution_count": null,
   "metadata": {},
   "outputs": [],
   "source": [
    "class Director(models.Model):\n",
    "    name = models.CharField(max_length=100)\n",
    "    email = models.EmailField(null=True, blank=True)\n",
    "    address = models.TextField()\n",
    "    \n",
    "    def __str__(self):\n",
    "        return self.name"
   ]
  },
  {
   "cell_type": "markdown",
   "metadata": {},
   "source": [
    "At first, we would like to mention the values() and values_list() methods. These methods are quite similar. Both return Python objects instead of QuerySet objects. The major difference between them is that the first one will return dictionaries while the second one returns tuples:"
   ]
  },
  {
   "cell_type": "code",
   "execution_count": null,
   "metadata": {},
   "outputs": [],
   "source": [
    "movies_dict = Movie.objects.values()\n",
    "print(movies_dict)\n",
    "\n",
    "# <QuerySet [{'id': 1, 'title': 'Bonnie and Clyde', 'genre': 'action', 'release_year': 1967, 'director': 'Arthur Penn'}, {'id': 2, 'title': 'The Seven Samurai', 'genre': 'action', 'release_year': 1954, 'director': 'Akira Kurosawa'}, {'id': 3, 'title': 'Doctor Zhivago', 'genre': 'drama', 'release_year': 1965, 'director': 'David Lean'}, {'id': 4, 'title': 'Rocky', 'genre': 'adventure', 'release_year': 1976, 'director': 'John G. Avildsen'}, {'id': 5, 'title': 'Braveheart', 'genre': 'action', 'release_year': 1995, 'director': 'Mel Gibson'}]>\n",
    "\n",
    "\n",
    "movies_tuple = Movie.objects.values_list()\n",
    "print(movies_tuple)\n",
    "\n",
    "# <QuerySet [(1, 'Bonnie and Clyde', 'action', 1967, 'Arthur Penn'), (2, 'The Seven Samurai', 'action', 1954, 'Akira Kurosawa'), (3, 'Doctor Zhivago', 'drama', 1965, 'David Lean'), (4, 'Rocky', 'adventure', 1976, 'John G. Avildsen'), (5, 'Braveheart', 'action', 1995, 'Mel Gibson')]>"
   ]
  },
  {
   "cell_type": "markdown",
   "metadata": {},
   "source": [
    "The order_by() method changes the default ordering of the QuerySet. By default, the order is based on the primary key (in our case, the id field). If we want our QuerySet to be ordered by release_year, the order_by method is exactly what we need:"
   ]
  },
  {
   "cell_type": "code",
   "execution_count": null,
   "metadata": {},
   "outputs": [],
   "source": [
    "ordered_movies = Movie.objects.order_by('release_year')\n",
    "print(ordered_movies)\n",
    "\n",
    "# <QuerySet [<Movie: The Seven Samurai>, <Movie: Doctor Zhivago>, <Movie: Bonnie and Clyde>, <Movie: Rocky>, <Movie: Braveheart>]>"
   ]
  },
  {
   "cell_type": "markdown",
   "metadata": {},
   "source": [
    "You also can sort the data in descending order by adding a minus (-) before the value:\n",
    "\n"
   ]
  },
  {
   "cell_type": "code",
   "execution_count": null,
   "metadata": {},
   "outputs": [],
   "source": [
    "descend_ordered_movies = Movie.objects.order_by('-release_year')\n",
    "print(descend_ordered_movies)\n",
    "\n",
    "# <QuerySet [<Movie: Braveheart>, <Movie: Rocky>, <Movie: Bonnie and Clyde>, <Movie: Doctor Zhivago>, <Movie: The Seven Samurai>]>"
   ]
  },
  {
   "cell_type": "markdown",
   "metadata": {},
   "source": [
    "Lastly, we want to mention the select_related() method that can be used to improve database performance by retrieving all related data without performing multiple database searches. As you remember, our movie table has a foreign key relationship to the director table. To retrieve all related data, including the director at the first database lookup, we can use select_related() like so:"
   ]
  },
  {
   "cell_type": "code",
   "execution_count": null,
   "metadata": {},
   "outputs": [],
   "source": [
    "rocky = Movie.objects.select_related('director').filter(title='rocky')\n",
    "print(rocky.director) # director has already been retrieved. Database is not hit again.\n",
    "\n",
    "\n",
    "# <Director: John G. Avildsen>"
   ]
  },
  {
   "cell_type": "markdown",
   "metadata": {},
   "source": [
    "If you want to discover more about the methods we presented and some other interesting Django ORM methods like latest(), earliest() or in_bulk(), head over to the Django's official documentation page."
   ]
  },
  {
   "cell_type": "markdown",
   "metadata": {},
   "source": [
    "# PRACTICE"
   ]
  },
  {
   "cell_type": "markdown",
   "metadata": {},
   "source": [
    "\n",
    "### Create Object in the Database\n",
    "You have a model Task with fields description, is_done, priority:\n",
    "```\n",
    "class Task(models.Model):\n",
    "    description = models.CharField(max_length=256)\n",
    "    is_done = models.BooleanField()\n",
    "    priority = models.IntegerField()\n",
    "```\n",
    "\n",
    "Create a new Task with description \"walk to the grocery\"(without quotes) and priority 5. The task is not done yet.\n",
    "\n",
    "Save it to the database."
   ]
  },
  {
   "cell_type": "code",
   "execution_count": null,
   "metadata": {},
   "outputs": [],
   "source": [
    "Task.objects.create(description='walk to the grocery',priority=5,is_done=False)"
   ]
  },
  {
   "cell_type": "markdown",
   "metadata": {},
   "source": [
    "### 2) Update Object in the Database\n",
    "You have a model Task with fields description, is_done, priority:\n",
    "```\n",
    "class Task(models.Model):\n",
    "    description = models.CharField(max_length=256)\n",
    "    is_done = models.BooleanField()\n",
    "    priority = models.IntegerField()\n",
    "```\n",
    "Update priority from 100 to 100500 for the task with description \"call mom\"(without quotes)"
   ]
  },
  {
   "cell_type": "code",
   "execution_count": null,
   "metadata": {},
   "outputs": [],
   "source": [
    "# Fetch the specific task object\n",
    "task_to_update = Task.objects.get(description=\"call mom\")\n",
    "\n",
    "# Modify its priority attribute\n",
    "task_to_update.priority = 100500\n",
    "\n",
    "# Save the changes to the database\n",
    "task_to_update.save()"
   ]
  },
  {
   "cell_type": "markdown",
   "metadata": {},
   "source": [
    "### 3) ORM puzzle\n",
    "We created the Student model in order to populate our database with data containing information about all our students. Somehow the lines got all mixed up. Arrange the lines of code below, in a way that they form the valid Student model. The model fields must be in alphabetical order!"
   ]
  },
  {
   "cell_type": "code",
   "execution_count": null,
   "metadata": {},
   "outputs": [],
   "source": [
    "from django.db import models\n",
    "\n",
    "class Student(models.Model):\n",
    "    address = models.TextField()\n",
    "    name = models.CharField(max_length=100)\n",
    "    school = models.CharField(max_length=100)\n",
    "\n",
    "all_students = Student.objects.ordered_by('school')"
   ]
  },
  {
   "cell_type": "markdown",
   "metadata": {},
   "source": [
    "# Excluding data\n",
    "\n",
    "The Quidditch league is gaining popularity thanks to its new site we are currently developing. Users are keen on knowing the result of each game and are eager to explore interesting statistics about previous tournaments. We are working with two models: Team and Game. Our database, impressively large, contains all games from 1674 to the present day, thanks to the archives from the Hogwarts library. Given the size and scope of this data, we prefer to keep it in the database to enable us to access all the necessary information quickly:\n",
    "\n",
    "```python\n",
    "from django.db import models\n",
    "\n",
    "\n",
    "class Team(models.Model):\n",
    "    name = models.CharField(max_length=64)\n",
    "\n",
    "\n",
    "class Game(models.Model):\n",
    "    home_team = models.ForeignKey(Team, related_name='game_at_home', on_delete=models.CASCADE)\n",
    "    home_team_points = models.IntegerField()\n",
    "    rival_team = models.ForeignKey(Team, related_name='rival_game', on_delete=models.CASCADE)\n",
    "    rival_team_points = models.IntegerField()\n",
    "    date = models.DateField()\n",
    "\n",
    "```\n",
    "\n",
    "```pyhton\n",
    "from datetime import date\n",
    "\n",
    "falmouth_falcons = Team.objects.create(name=\"Falmouth Falcons\")\n",
    "montrose_magpies = Team.objects.create(name=\"Montrose Magpies\")\n",
    "tutshill_tornados = Team.objects.create(name=\"Tutshill Tornados\")\n",
    "appleby_arrows = Team.objects.create(name=\"Appleby Arrows\") \n",
    "\n",
    "Game.objects.create(home_team=falmouth_falcons, home_team_points=15,\n",
    "                    rival_team=montrose_magpies, rival_team_points=12, date=date(1674, 5, 6))\n",
    "\n",
    "Game.objects.create(home_team=falmouth_falcons, home_team_points=34,\n",
    "                    rival_team=tutshill_tornados, rival_team_points=8, date=date(1774, 9, 30))\n",
    "\n",
    "Game.objects.create(home_team=appleby_arrows, home_team_points=10,\n",
    "                    rival_team=montrose_magpies, rival_team_points=19, date=date(1779, 7, 15))\n",
    "\n",
    "Game.objects.create(home_team=tutshill_tornados, home_team_points=7,\n",
    "                    rival_team=appleby_arrows, rival_team_points=27, date=date(2018, 6, 25))\n",
    "\n",
    "Game.objects.create(home_team=montrose_magpies, home_team_points=24,\n",
    "                    rival_team=tutshill_tornados, rival_team_points=16, date=date(1907, 5, 12))\n",
    "```\n",
    "\n"
   ]
  },
  {
   "cell_type": "markdown",
   "metadata": {},
   "source": [
    "If you're familiar with the filter method of Django's Object Manager, you'll easily follow what the exclude method does. When filtering out data, we look for objects that satisfy certain conditions. Conversely, the exclude method allows us to remove objects from a QuerySet when a specific condition is met. Compare two queries:"
   ]
  },
  {
   "cell_type": "code",
   "execution_count": null,
   "metadata": {},
   "outputs": [],
   "source": [
    "# All home games for Falmouth Falcons\n",
    "Game.objects.filter(home_team=falmouth_falcons)\n",
    "\n",
    "# All games excluding games where Falmouth Falcons was a home team\n",
    "Game.objects.exclude(home_team=falmouth_falcons)"
   ]
  },
  {
   "cell_type": "markdown",
   "metadata": {},
   "source": [
    "# Collections for lookups\n",
    "special_home_games = Game.objects.exclude(home_team=tutshill_tornados) \\\n",
    "                                 .exclude(home_team=appleby_arrows)\n",
    "\n"
   ]
  },
  {
   "cell_type": "markdown",
   "metadata": {},
   "source": [
    "But what if we have multiple conditions? Should we resort to extensive copy-pasting, or is there a smarter move? We recommend the latter. Let's use a Python list to filter what we need:"
   ]
  },
  {
   "cell_type": "code",
   "execution_count": null,
   "metadata": {},
   "outputs": [],
   "source": [
    "special_home_games = Game.objects.filter(home_team__in=[falmouth_falcons, montrose_magpies])"
   ]
  }
 ],
 "metadata": {
  "language_info": {
   "name": "python"
  }
 },
 "nbformat": 4,
 "nbformat_minor": 2
}
