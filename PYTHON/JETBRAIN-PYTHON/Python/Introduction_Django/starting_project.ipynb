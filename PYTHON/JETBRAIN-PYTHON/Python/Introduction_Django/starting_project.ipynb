{
 "cells": [
  {
   "cell_type": "markdown",
   "metadata": {},
   "source": [
    "# Project structure\n"
   ]
  },
  {
   "cell_type": "markdown",
   "metadata": {},
   "source": [
    "Start by running the following code from your shell in any directory you want:\n",
    "\n"
   ]
  },
  {
   "cell_type": "code",
   "execution_count": null,
   "metadata": {
    "vscode": {
     "languageId": "shellscript"
    }
   },
   "outputs": [],
   "source": [
    "django-admin startproject smithee\n",
    "cd smithee    # we're now in the project dir\n",
    "python3 manage.py startapp movies\n",
    "cd movies     # and now we're in the application dir"
   ]
  },
  {
   "cell_type": "markdown",
   "metadata": {},
   "source": [
    "- After creating an application, don't forget to add the application to INSTALLED_APPS in the setting.py file, located in the project directory. In the file, it will look like this:"
   ]
  },
  {
   "cell_type": "code",
   "execution_count": null,
   "metadata": {},
   "outputs": [],
   "source": [
    "INSTALLED_APPS = [\n",
    "    # other installed apps\n",
    "    'movies',\n",
    "]"
   ]
  },
  {
   "cell_type": "markdown",
   "metadata": {},
   "source": [
    "Now let's create a directory for templates. In Django applications, templates are stored in the <app_name>/templates/<app_name> directory. So, for our current app, we'll create the templates directory inside the application movies, and then again the movies subdirectory:"
   ]
  },
  {
   "cell_type": "code",
   "execution_count": null,
   "metadata": {
    "vscode": {
     "languageId": "shellscript"
    }
   },
   "outputs": [],
   "source": [
    "mkdir templates  # note that we're in the \"smithee/movies\" dir\n",
    "cd templates\n",
    "mkdir movies     # and now we're in the \"smithee/movies/templates/movies\" dir"
   ]
  },
  {
   "cell_type": "markdown",
   "metadata": {},
   "source": [
    "# Templates and views\n",
    "\n",
    "- It's time to create your first template. To do this, create an index.html and add the following code:"
   ]
  },
  {
   "cell_type": "code",
   "execution_count": null,
   "metadata": {
    "vscode": {
     "languageId": "html"
    }
   },
   "outputs": [],
   "source": [
    "<!DOCTYPE html>\n",
    "<title>Movies</title>\n",
    "\n",
    "<h1>Films by {{ director }}</h1>\n",
    "\n",
    "<ul>\n",
    "{% for movie in movies %}\n",
    "  <li>{{ movie.year }} - {{ movie.title }}</li>\n",
    "{% endfor %}\n",
    "</ul>"
   ]
  },
  {
   "cell_type": "markdown",
   "metadata": {},
   "source": [
    "Don't go deep into the code right now; we'll discuss the Django template language in a separate topic. For now, it's enough for you to note that we print variables in double curly braces, and we also add the for loop to go through the movies list. Where do we get all these variables from? Let's go back to the app directory and jump into the movies/views.py file."
   ]
  },
  {
   "cell_type": "markdown",
   "metadata": {},
   "source": [
    "Paste this code to the file:\n",
    "\n"
   ]
  },
  {
   "cell_type": "code",
   "execution_count": null,
   "metadata": {},
   "outputs": [],
   "source": [
    "from django.conf import settings\n",
    "from django.shortcuts import render\n",
    "\n",
    "my_movies = [\n",
    "    {\n",
    "        'title': 'Catchfire',\n",
    "        'year': 1990,\n",
    "    },\n",
    "    {\n",
    "        'title': 'Mighty Ducks the Movie: The First Face-Off',\n",
    "        'year': 1997,\n",
    "    },\n",
    "    {\n",
    "        'title': 'Le Zombi de Cap-Rouge',\n",
    "        'year': 1997,\n",
    "    },\n",
    "]\n",
    "\n",
    "\n",
    "def all_films(request):\n",
    "    return render(request, 'movies/index.html', {'movies': my_movies, 'director': settings.DIRECTOR})"
   ]
  },
  {
   "cell_type": "markdown",
   "metadata": {},
   "source": [
    "As you can see, we define the my_movies list and add a function to render a page. The render method basically shows the template to users. Again, we'll cover it later, but at this moment, note that it takes a request, our template file index.html, and a dictionary with the required variables. The keys in this dictionary are what we named the corresponding data in the template, and the values are the actual data: the list of dictionaries that will be iterated in the template, and the string with the director name. Note also that for the director, we use the settings.DIRECTOR variable from the settings.py module. Similarly, we can declare some global variables for the whole project. To do this, we need to write the following in the settings.py file:"
   ]
  },
  {
   "cell_type": "code",
   "execution_count": null,
   "metadata": {},
   "outputs": [],
   "source": [
    "DIRECTOR = 'Alan Smithee'"
   ]
  },
  {
   "cell_type": "markdown",
   "metadata": {},
   "source": [
    "# URL\n",
    "\n",
    "- To make pages visible on specified addresses, we need to define them in the urls.py modules. In Django, we usually have the project-level urls.py module (placed in the project root directory) and then one urls.py for each separate application."
   ]
  },
  {
   "cell_type": "markdown",
   "metadata": {},
   "source": [
    "In the project-level urls.py, we will define the URL that will be a base path to the movies app. Let's make it a root. Edit smithee/urls.py as follows"
   ]
  },
  {
   "cell_type": "code",
   "execution_count": null,
   "metadata": {},
   "outputs": [],
   "source": [
    "from django.urls import include, path\n",
    "\n",
    "urlpatterns = [\n",
    "    # will look for all paths in movies.urls\n",
    "    path('', include('movies.urls')),\n",
    "]"
   ]
  },
  {
   "cell_type": "markdown",
   "metadata": {},
   "source": [
    "Let's see what this piece of code does. The method include('movies.urls') gathers all the URLs defined in the movies.urls (i.e., the movies/urls.py file) module. The path() method adds the specified prefix (in our case \"\", an empty string) to all the gathered URLs. This is very useful when we have lots of URLs in every application and don't want to add them all explicitly to the project-level urls.py. The prefix might be any you like. For example, if you have more than one app with similar URLs, you can add different prefixes, for example, app1, app2, and so on, then the URLs for app1 will be routed as /app1/some/url/path."
   ]
  },
  {
   "cell_type": "markdown",
   "metadata": {},
   "source": [
    "Also, edit the application-level smithee/movies/urls.py (if this file doesn't exist, just create it):"
   ]
  },
  {
   "cell_type": "code",
   "execution_count": null,
   "metadata": {},
   "outputs": [],
   "source": [
    "from django.urls import path\n",
    "from . import views\n",
    "\n",
    "urlpatterns = [\n",
    "    path('', views.all_films),\n",
    "] "
   ]
  },
  {
   "cell_type": "markdown",
   "metadata": {},
   "source": [
    "Here, the path() method connects the \" \" (root) path to the all_films view from views edited earlier.\n",
    "\n",
    "Putting all that together, now the index.html template is reachable at the root URL of your application."
   ]
  }
 ],
 "metadata": {
  "kernelspec": {
   "display_name": "base",
   "language": "python",
   "name": "python3"
  },
  "language_info": {
   "codemirror_mode": {
    "name": "ipython",
    "version": 3
   },
   "file_extension": ".py",
   "mimetype": "text/x-python",
   "name": "python",
   "nbconvert_exporter": "python",
   "pygments_lexer": "ipython3",
   "version": "3.11.5"
  }
 },
 "nbformat": 4,
 "nbformat_minor": 2
}
