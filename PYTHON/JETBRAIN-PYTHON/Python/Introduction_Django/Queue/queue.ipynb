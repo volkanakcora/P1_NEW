{
 "cells": [
  {
   "cell_type": "markdown",
   "metadata": {},
   "source": [
    "Imagine that a shoe store opened next door to you, and on the first day they ran a promotion: you could buy a great pair of sneakers for only $10. It is understandable that a lot of customers immediately came running, forming a queue. To speed up the process, the store manager asks the person in line about their foot size, enters this information into the computer and gives the person a piece of paper with their number in the queue"
   ]
  },
  {
   "cell_type": "markdown",
   "metadata": {},
   "source": [
    "So, the first person in the queue gets out first – it is an illustration of the programming principle called FIFO (First In, First Out), and the data structure that works this way is called a queue."
   ]
  },
  {
   "cell_type": "markdown",
   "metadata": {},
   "source": [
    "## Queue\n",
    "Queue is a linear data structure that implements the first-in-first-out (FIFO) principle, meaning that new elements can be added to the back of the queue, while removing an element is only possible from its head. Queue is really just like any real-life line in a supermarket: customers who come first are attended first, while the others are waiting for their turn.\n",
    "\n",
    "Typically queue supports the following two basic operations:\n",
    "\n",
    "- ```enqueue```, that adds a new element to the back of the queue\n",
    "- ```dequeue```, that removes the first element of the queue.\n",
    "Sometimes, operations front and rear are also supported. They return the first and the last element of the queue respectively without removing them.\n",
    "\n",
    "\n",
    "In practice, queues are especially useful in threaded programming when information must be exchanged between multiple threads. Queues are at the heart of job schedulers, helping to schedule delayed tasks efficiently while preserving the order in which they must be performed."
   ]
  },
  {
   "cell_type": "markdown",
   "metadata": {},
   "source": [
    "# Deque \n",
    "\n",
    "Before we learn how to implement queue in Python, we should get familiar with one more data structure that is closely related, namely deque. Deque stands for 'double-ended queue' and allows for the elements to be added and removed from either side.\n",
    "\n",
    "In Python, you can find deque implementation in the collections module. The essential methods are ```append(element)``` and ```appendleft(element)```, which add a new element to the right or left side of the deque respectively, as well as ```pop()``` and ```popleft()```, which remove the first element from the corresponding side of the deque."
   ]
  },
  {
   "cell_type": "code",
   "execution_count": null,
   "metadata": {},
   "outputs": [],
   "source": [
    "from collections import deque\n",
    "\n",
    "my_deque = deque()\n",
    "\n",
    "my_deque.append('Middle')\n",
    "my_deque.append('Right')\n",
    "\n",
    "my_deque.appendleft('Left')\n",
    "\n",
    "print(my_deque)\n",
    "\n",
    "# deque(['Left', 'Middle', 'Right'])\n",
    "\n",
    "print(my_deque.pop())\n",
    "\n",
    "# Right\n",
    "\n",
    "print(my_deque)\n",
    "\n",
    "# deque(['Left', 'Middle'])\n",
    "\n",
    "print(my_deque.popleft())\n",
    "\n",
    "# Left\n",
    "\n",
    "print(my_deque)\n",
    "\n",
    "# deque(['Middle'])"
   ]
  },
  {
   "cell_type": "markdown",
   "metadata": {},
   "source": [
    "Deque is implemented as a doubly linked list, meaning that its elements aren't stored next to each other in memory like the elements of the conventional list. By contrast, only smaller chunks of elements are stored together, and each such chunk stores the references to the previous chunk and to the next one. This architecture enables quicker append and pop operations from both ends of the deque."
   ]
  },
  {
   "cell_type": "markdown",
   "metadata": {},
   "source": [
    "# Using collections.deque() as a queue\n",
    "\n",
    "Of course, deque can be used as a simple queue. You just need to ignore the fact that you can add elements to the head and remove them from the back."
   ]
  },
  {
   "cell_type": "code",
   "execution_count": null,
   "metadata": {},
   "outputs": [],
   "source": [
    "my_queue = deque()\n",
    "\n",
    "my_queue.appendleft('First')\n",
    "my_queue.appendleft('In')\n",
    "my_queue.appendleft('First')\n",
    "my_queue.appendleft('Out')\n",
    "\n",
    "print(my_queue)\n",
    "\n",
    "# Deque(['Out', 'First', 'In', 'First'])\n",
    "\n",
    "print(my_queue.pop())\n",
    "\n",
    "# First\n",
    "\n",
    "print(my_queue.pop())\n",
    "\n",
    "# In\n",
    "\n",
    "print(my_queue.pop())\n",
    "\n",
    "# First\n",
    "\n",
    "print(my_queue.pop())\n",
    "\n",
    "# Out"
   ]
  },
  {
   "cell_type": "markdown",
   "metadata": {},
   "source": [
    "So, as you can see, we get the elements in the same order as we put them in the queue. Note that if you call pop() one more time, you will get an exception because there are no more elements in the queue to be popped:\n",
    "```python\n",
    "my_queue.pop()\n",
    "```\n",
    "IndexError: pop from an empty deque\n",
    "\n",
    "To avoid this, you can always check if the queue is non-empty before trying to get the next element from it. This can be done with the help of the len() method:\n",
    "```python\n",
    "len(my_queue)\n",
    "```\n",
    "0\n",
    "```python\n",
    "my_queue.append('a')\n",
    "len(my_queue)\n",
    "```\n",
    "1"
   ]
  }
 ],
 "metadata": {
  "language_info": {
   "name": "python"
  }
 },
 "nbformat": 4,
 "nbformat_minor": 2
}
