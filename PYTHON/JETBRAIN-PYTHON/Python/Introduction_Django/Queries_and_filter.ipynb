{
 "cells": [
  {
   "cell_type": "markdown",
   "metadata": {},
   "source": [
    "# Queries and filters\n",
    "There is not much sense in having a database if you don't know how to get data from it. Let's find out how it works in Django!\n",
    "\n",
    "Let's talk about the Model object manager. We will use it to get and filter the data for a particular model. Once you learn the syntax rules, you'll be able to easily make queries to your database. It gives you the flexibility to retrieve any objects you want.\n",
    "\n",
    "Reading the data is the most common operation for a web application. The clients get data from the server more often than modify or delete it.\n"
   ]
  },
  {
   "cell_type": "markdown",
   "metadata": {},
   "source": [
    "# Model object manager\n",
    "An instance of the Model class represents a single row in the table of your database. To start working with a set of rows, call the Model object manager methods.\n",
    "\n",
    "The manager is a special class to get object(s) from a database to modify them. Django model manager is the interface through which database query operations are provided to Django models"
   ]
  },
  {
   "cell_type": "markdown",
   "metadata": {},
   "source": [
    "Currently, we work on the tournament application for the Quidditch league. The season is coming, but the website is not ready! Wizards from Hogwarts get used to working with the books and papers, so they know nothing on databases. Fortunately, you don't need magic to start querying and searching. We create models Team and Player and that's how we define"
   ]
  },
  {
   "cell_type": "code",
   "execution_count": null,
   "metadata": {},
   "outputs": [],
   "source": [
    "from django.db import models\n",
    "\n",
    "\n",
    "class Team(models.Model):\n",
    "    name = models.CharField(max_length=64)\n",
    "\n",
    "\n",
    "class Player(models.Model):\n",
    "    height = models.FloatField()\n",
    "    name = models.CharField(max_length=64)\n",
    "    team = models.ForeignKey(Team, on_delete=models.CASCADE)\n",
    "\n",
    "\n",
    "team_model_manager = Team.objects\n",
    "player_model_manager = Player.objects"
   ]
  },
  {
   "cell_type": "markdown",
   "metadata": {},
   "source": [
    "It's not necessary to give an alias name to the Manager, you can use its methods simply like this: Team.objects.filter(name=\"Ballycastle Bats\"). You can choose what you like more, but for clarity, we will access it directly in all the examples."
   ]
  },
  {
   "cell_type": "code",
   "execution_count": null,
   "metadata": {},
   "outputs": [],
   "source": [
    "falmouth_falcons = Team.objects.create(name=\"Falmouth Falcons\")\n",
    "montrose_magpies = Team.objects.create(name=\"Montrose Magpies\")\n",
    "\n",
    "Player.objects.create(name=\"Karl Broadmoor\", height=180, team=falmouth_falcons)\n",
    "Player.objects.create(name=\"Kevin Broadmoor\", height=183, team=falmouth_falcons)\n",
    "Player.objects.create(name=\"Alasdair Maddock\", height=175, team=montrose_magpies)\n",
    "Player.objects.create(name=\"Lennox Campbell\", height=197, team=montrose_magpies)"
   ]
  },
  {
   "cell_type": "markdown",
   "metadata": {},
   "source": [
    "You can also use bulk_create method to add a list of objects into the database:\n",
    "\n"
   ]
  },
  {
   "cell_type": "code",
   "execution_count": null,
   "metadata": {},
   "outputs": [],
   "source": [
    " Player.objects.bulk_create([\n",
    "    Player(name=\"Karl Broadmoor\", height=180, team=falmouth_falcons),\n",
    "    Player(name=\"Kevin Broadmoor\", height=183, team=falmouth_falcons),\n",
    "    Player(name=\"Alasdair Maddock\", height=175, team=montrose_magpies),\n",
    "    Player(name=\"Lennox Campbell\", height=197, team=montrose_magpies)\n",
    "])"
   ]
  },
  {
   "cell_type": "markdown",
   "metadata": {},
   "source": [
    "You can use the code above in any file of your app, but don't forget to import model classes from models.py and remember that you should migrate your models before using them."
   ]
  },
  {
   "cell_type": "markdown",
   "metadata": {},
   "source": [
    "# Getting an object\n",
    "One step at a time, we will start from getting the team we want and then move on to getting a distinct player.\n",
    "- We will carefully pick the parameters for our first query. Our Team model has two fields: id and name. The id field is generated automatically for every model, though we do not specify it explicitly.\n",
    "\n",
    "We are certain that we have a team named Falmouth Falcons. Let's try to get it with the manager:\n"
   ]
  },
  {
   "cell_type": "code",
   "execution_count": null,
   "metadata": {},
   "outputs": [],
   "source": [
    "falcons = Team.objects.get(name=\"Falmouth Falcons\")"
   ]
  },
  {
   "cell_type": "markdown",
   "metadata": {},
   "source": [
    "Looks fine. But what happens if we get a team that doesn't exist?\n",
    "\n"
   ]
  },
  {
   "cell_type": "code",
   "execution_count": null,
   "metadata": {},
   "outputs": [],
   "source": [
    "tornados = Team.objects.get(name=\"Tutshill Tornados\")"
   ]
  },
  {
   "cell_type": "markdown",
   "metadata": {},
   "source": [
    "This call raises the Team.DoesNotExist exception. Unlike Python's dict get method, the manager's get method may raise an Exception. To prevent this situation and keep our program from crashing, you can wrap this call in a try-except construction:"
   ]
  },
  {
   "cell_type": "code",
   "execution_count": null,
   "metadata": {},
   "outputs": [],
   "source": [
    "try:\n",
    "    tornados = Team.objects.get(name=\"Tutshill Tornados\")\n",
    "except Team.DoesNotExist:\n",
    "    ..."
   ]
  },
  {
   "cell_type": "markdown",
   "metadata": {},
   "source": [
    "Let's try to get the Karl Broadmoor player profile from the database:"
   ]
  },
  {
   "cell_type": "code",
   "execution_count": null,
   "metadata": {},
   "outputs": [],
   "source": [
    "karl_broadmoor = Player.objects.get(name=\"Karl Broadmoor\")"
   ]
  },
  {
   "cell_type": "markdown",
   "metadata": {},
   "source": [
    "Karl plays for Falmouth Falcons, so we get his profile with no errors. Suppose you want to make a query that returns multiple objects:"
   ]
  },
  {
   "cell_type": "code",
   "execution_count": null,
   "metadata": {},
   "outputs": [],
   "source": [
    "falcons = Team.objects.get(name=\"Falmouth Falcons\")\n",
    "falcon_player = Player.objects.get(team=falcons)"
   ]
  },
  {
   "cell_type": "markdown",
   "metadata": {},
   "source": [
    "You will get not a player but a Player.MultipleObjectsReturned exception.\n",
    "\n",
    "So, to prevent exceptions, you should keep in mind two rules:\n",
    "\n",
    "You can only pass the parameters with the names of the fields of your model or with valid field lookups;\n",
    "\n",
    "You should be sure that with this query you will get exactly one object."
   ]
  },
  {
   "cell_type": "markdown",
   "metadata": {},
   "source": [
    "# Filtering objects\n"
   ]
  },
  {
   "cell_type": "code",
   "execution_count": null,
   "metadata": {},
   "outputs": [],
   "source": [
    "tornados = Team.objects.filter(name=\"Tutshill Tornados\")"
   ]
  },
  {
   "cell_type": "markdown",
   "metadata": {},
   "source": [
    "Filtering objects only by their exact value is not always convenient: you may want to get objects that satisfy a trickier condition. For example, it could be games where the home team scored more than 12 points. We'll start with this query:"
   ]
  },
  {
   "cell_type": "code",
   "execution_count": null,
   "metadata": {},
   "outputs": [],
   "source": [
    "great_score_at_home_games = Game.objects.filter(home_team_points__gt=12)"
   ]
  },
  {
   "cell_type": "markdown",
   "metadata": {},
   "source": [
    "The special syntax for the parameter is: the field name, double underscores, the field lookup, a special name for actions on the field value you want to make when filtering data.\n",
    "\n",
    "To retrieve an object from the QuerySet you can iterate it over or get the item by the index as you get it from the Python's list."
   ]
  },
  {
   "cell_type": "code",
   "execution_count": null,
   "metadata": {},
   "outputs": [],
   "source": [
    "twentieth_century_games = Game.objects.filter(date__year__range=(1900, 1999))"
   ]
  },
  {
   "cell_type": "code",
   "execution_count": null,
   "metadata": {},
   "outputs": [],
   "source": [
    "tornados = Team.objects.filter(name=\"Tutshill Tornados\")\n",
    "if len(tornados) == 1:\n",
    "    tornados_team = tornados[0]"
   ]
  },
  {
   "cell_type": "code",
   "execution_count": null,
   "metadata": {},
   "outputs": [],
   "source": [
    "class Player(models.Model):\n",
    "    name = models.CharField(max_length=64, null=True, default=None)\n",
    "\n",
    "noname_player = Player.objects.create()\n",
    "players_without_name = Player.objects.filter(name__isnull=True)"
   ]
  },
  {
   "cell_type": "code",
   "execution_count": null,
   "metadata": {},
   "outputs": [],
   "source": [
    "twentieth_century_games = Game.objects.filter(date__year__gte=1900, date__year__lte=1999)"
   ]
  },
  {
   "cell_type": "code",
   "execution_count": null,
   "metadata": {},
   "outputs": [],
   "source": [
    "from datetime import date\n",
    "\n",
    "twentieth_century_games = Game.objects.filter(\n",
    "    date__gte=date(1900, 1, 1), date__lte=date(1999, 12, 31)\n",
    ")"
   ]
  },
  {
   "cell_type": "code",
   "execution_count": null,
   "metadata": {},
   "outputs": [],
   "source": [
    "Team.objects.filter(name=\"Tutshill Tornados\").count()"
   ]
  },
  {
   "cell_type": "markdown",
   "metadata": {},
   "source": [
    "In addition, we want to get a Falmouth Falcons player. Let's do it with the combination of the filter and first methods:"
   ]
  },
  {
   "cell_type": "code",
   "execution_count": null,
   "metadata": {},
   "outputs": [],
   "source": [
    "falcons = Team.objects.get(name=\"Falmouth Falcons\")\n",
    "falcon_player = Player.objects.filter(team=falcons).first()"
   ]
  },
  {
   "cell_type": "markdown",
   "metadata": {},
   "source": [
    "# Using get_or_create\n",
    "While working with databases, you'll often encounter situations where you want to get a specific object if it exists, or create it if it doesn't. Django provides a handy method for this - get_or_create.\n",
    "\n",
    "This method tries to fetch an object from your database based on the parameters you provide. If the object exists, it returns a tuple containing the object and a boolean value False. If the object does not exist, this method creates it with the provided parameters and returns a tuple containing the new object and True."
   ]
  },
  {
   "cell_type": "markdown",
   "metadata": {},
   "source": [
    "Let's take an example. Suppose we want to get a team with the name \"Puddlemere United\". If it exists, we want to get it, otherwise, we want to create it. Here's how we can do it:"
   ]
  },
  {
   "cell_type": "code",
   "execution_count": null,
   "metadata": {},
   "outputs": [],
   "source": [
    "team, created = Team.objects.get_or_create(name=\"Puddlemere United\")"
   ]
  },
  {
   "cell_type": "markdown",
   "metadata": {},
   "source": [
    "In this case, if a team named \"Puddlemere United\" exists in the database, team will be that Team instance and created will be False. If the team does not exist, a new team will be created, team will be the new Team instance, and created will be True."
   ]
  },
  {
   "cell_type": "markdown",
   "metadata": {},
   "source": [
    "There's another way to achieve the same result, although it involves more steps. First, you check if the object exists using the .exists() method, and if it doesn't, you create it. Here's how you can do it:"
   ]
  },
  {
   "cell_type": "code",
   "execution_count": null,
   "metadata": {},
   "outputs": [],
   "source": [
    "if not Team.objects.filter(name=\"Puddlemere United\").exists():\n",
    "    team = Team.objects.create(name=\"Puddlemere United\")\n",
    "    created = True\n",
    "else:\n",
    "    team = Team.objects.get(name=\"Puddlemere United\")\n",
    "    created = False"
   ]
  },
  {
   "cell_type": "markdown",
   "metadata": {},
   "source": [
    "In this case, if a team named \"Puddlemere United\" exists in the database, team will be that Team instance and created will be False. If the team does not exist, a new team will be created, team will be the new Team instance, and created will be True."
   ]
  },
  {
   "cell_type": "markdown",
   "metadata": {},
   "source": [
    "# Collections for lookups\n",
    "```python\n",
    "\n",
    "special_home_games = Game.objects.exclude(home_team=tutshill_tornados) \\\n",
    "                                 .exclude(home_team=appleby_arrows)\n",
    "\n",
    "\n",
    "special_home_games = Game.objects.filter(home_team__in=[falmouth_falcons, montrose_magpies])       "
   ]
  },
  {
   "cell_type": "markdown",
   "metadata": {},
   "source": [
    "## Field lookups for foreign keys\n",
    "By now, you've learned how to filter data and use it for another query. First, we store falmouth_falcons as a variable. Then we can filter the games where Falcons were the home team. But do we need to store it in a variable to make a query? The answer is no, as we can directly access fields of foreign keys through lookups.\n",
    "```python\n",
    "falcons_home_games = Game.objects.filter(home_team__name=\"Falmouth Falcons\")\n",
    "```\n",
    "- Use double underscores again. Now, the structure consists of a foreign key field name, double underscores, and a foreign key model field.\n",
    "\n",
    "- To delve deeper, let's combine the access to the field of the foreign model with field lookups:\n",
    "```python\n",
    "falcons_home_games = Game.objects.filter(home_team__name__contains=\"Falcons\")\n",
    "```\n",
    "- The use of double underscores is akin to access through a period, with fields resembling class attributes and lookups mirroring class methods. Hence, you can combine them just like you would combine accesses using a period.\n",
    "\n",
    "We can do the same with many-to-many relationships. For example, let's consider the Stadium model, which contains information about its name and the teams that have played in it:\n",
    "```python\n",
    "from django.db import models\n",
    "\n",
    "class Stadium(models.Model):\n",
    "    name = models.CharField(max_length=64)\n",
    "    team = models.ManyToManyField(Team)\n",
    "```\n",
    "Now we can retrieve all the stadiums where Falmouth Falcons have played:\n",
    "```python\n",
    "falmouth_falcons_stadiums = Stadium.objects.filter(team__name=\"Falmouth Falcons\")"
   ]
  },
  {
   "cell_type": "markdown",
   "metadata": {},
   "source": [
    "# Nested queries\n",
    "\n",
    "Let's say you want to find all teams that have scored over 100 runs in home games. To accomplish this task, we can use nested queries.\n"
   ]
  },
  {
   "cell_type": "code",
   "execution_count": null,
   "metadata": {},
   "outputs": [],
   "source": [
    "from django.db.models import Subquery\n",
    "\n",
    "# define a subquery\n",
    "subquery = Game.objects.filter(home_team_points__gt=100).values('home_team')\n",
    "\n",
    "# use a subquery in the main query\n",
    "high_scoring_teams = Team.objects.filter(id__in=Subquery(subquery)).values('name')"
   ]
  },
  {
   "cell_type": "markdown",
   "metadata": {},
   "source": [
    "In this example, the inner query (or subquery) selects home_team from the Game model where home_team_points is greater than 100. The outer query then selects name from the Team model, where id values match those returned by the subquery."
   ]
  },
  {
   "cell_type": "markdown",
   "metadata": {},
   "source": [
    "Nested queries in Django can be useful in many situations. Here are some scenarios where you might employ nested queries:\n",
    "\n",
    "- Data Filtering: Subqueries can filter data in the main query based on the subquery's results. This can be useful when you need to retrieve data meeting certain criteria that a simple filter cannot express.\n",
    "\n",
    "- Data Aggregation: Nested queries can aggregate data. For example, you can count the number of records matching a certain condition using a subquery, and then incorporate that information into your main query.\n",
    "\n",
    "- Performance Optimization: In some cases, nested queries can be more efficient than running multiple separate queries. However, this efficiency depends on your specific situation, so it's vital to monitor your queries' performance."
   ]
  },
  {
   "cell_type": "markdown",
   "metadata": {},
   "source": [
    "# Get or 404\n",
    "\n",
    "It can often happen that the object we want to get does not exist. Such requests also need proper handling, and one method is using the ```get_object_or_404``` function. This convenient Django function attempts to retrieve an object with the provided parameters. However, if the targeted object is not found, it raises a 404 Not Found error, leading to a 404 error page being displayed to the user.\n",
    "\n",
    "\n",
    "\n"
   ]
  },
  {
   "cell_type": "code",
   "execution_count": null,
   "metadata": {},
   "outputs": [],
   "source": [
    "from django.shortcuts import get_object_or_404\n",
    "from .models import Team, Game\n",
    "\n",
    "def game_detail(request, game_id):\n",
    "    game = get_object_or_404(Game, id=game_id)\n",
    "    return render(request, 'game_detail.html', {'game': game})"
   ]
  },
  {
   "cell_type": "markdown",
   "metadata": {},
   "source": [
    "In this example, get_object_or_404 is used to get a game with a specific id. If no game with that id is found, Django automatically returns a 404 error page.\n",
    "\n",
    "This function is useful when you want to display the details of a specific object, such as a game. If the object does not exist, the user is automatically directed to a 404 error page, which indicates proper error management.\n",
    "\n",
    "Remember that get_object_or_404 is just a convenient wrapper around Model.objects.get(). While it offers no additional functionality compared to a regular get() request, it does enhance your code's readability and cleanliness."
   ]
  },
  {
   "cell_type": "markdown",
   "metadata": {},
   "source": [
    "# Filter Method\n",
    "\n",
    "You have a collection of iPhones, with each having unique features. Django, in this case, is your expert organizer, and the filter() method is your tool to pick out what you're looking for. You want to find a particular type of iPhone with 256 GB of storage. The filter() method in Django does just that! But first, check the model:\n",
    "\n",
    "\n",
    "```python \n",
    "from django.db import models\n",
    "\n",
    "class Iphone(models.Model):\n",
    "    storage = models.IntegerField()\n",
    "    color = models.CharField(max_length=50)\n",
    "    # Another fields\n",
    "\n",
    "```\n",
    "#### You can narrow down your collection and show only those iPhones that meet your criteria.\n",
    "\n",
    "```python\n",
    "from myapp.models import Iphone\n",
    "\n",
    "# Simple filter: get objects with \"storage\" equal to 256\n",
    "result = Iphone.objects.filter(storage=256)"
   ]
  },
  {
   "cell_type": "markdown",
   "metadata": {},
   "source": [
    "You want to enrich the criteria: a collection of iPhones with 256 GB storage or those with a price of more than 1,000. We can't do that, as the filter() functionality does not allow you to create complex queries with different conditions. That's why Django has a tool called Q object. It is a utility that enables you to create queries with combined logical operators: and(&), or(|), or negation(~). With Q, you can create any filter. To use it, import the Q class from the django.db.models module:"
   ]
  },
  {
   "cell_type": "code",
   "execution_count": null,
   "metadata": {},
   "outputs": [],
   "source": [
    "# Complex filter: get objects with price greater than 1000 or color is black\n",
    "from django.db.models import Q\n",
    "\n",
    "complex_query = Q(price__gt=1000) | Q(color='black')\n",
    "filtered_iphones = Iphone.objects.filter(complex_query)"
   ]
  },
  {
   "cell_type": "markdown",
   "metadata": {},
   "source": [
    "If you understand how Q objects work, you can create any filter. You can check all the options: for example, we need an iPhone X or 11 with a 4+ rating and a price lower than 1000:"
   ]
  },
  {
   "cell_type": "code",
   "execution_count": null,
   "metadata": {},
   "outputs": [],
   "source": [
    "filtered_iphones = Iphone.objects.filter(\n",
    "    (Q(model='X') | Q(model='11')) & Q(rating__gt=4) & ~Q(price__gt=1000)\n",
    ")"
   ]
  },
  {
   "cell_type": "markdown",
   "metadata": {},
   "source": [
    "# Mix models data\n",
    "In an actual project, you will encounter the so-called nested queries. They involve embedding one query in another, which allows you to retrieve data based on conditions derived from the results of another query. This technique allows you to increase the level of complexity of your data retrieval strategy. Suppose you have iPhone and User models and want to find users with at least one iPhone of a particular model."
   ]
  },
  {
   "cell_type": "code",
   "execution_count": null,
   "metadata": {},
   "outputs": [],
   "source": [
    "from django.db.models import Q\n",
    "\n",
    "from myapp.models import Iphone, User\n",
    "\n",
    "\n",
    "# Nested query without Q\n",
    "users_with_iphone_x = User.objects.filter(\n",
    "    id__in=iPhone.objects.filter(\n",
    "        model='iPhone X'\n",
    "    ).values('owner_id')\n",
    ")\n",
    "\n",
    "\n",
    "# Nested query with Q\n",
    "q_object = Q(model='iPhone X')\n",
    "users_with_iphone_x = User.objects.filter(\n",
    "    id__in=iPhone.objects.filter(q_object).values('owner_id')\n",
    ")"
   ]
  },
  {
   "cell_type": "markdown",
   "metadata": {},
   "source": [
    "# Referencing and updating fields\n",
    "\n",
    "```python\n",
    "# Suppose you have a blog post Django model.\n",
    "\n",
    "# Importing the models class\n",
    "from django.db import models\n",
    "from django.contrib.auth.models import User # Importing the user model\n",
    "\n",
    "# The blog post model\n",
    "class BlogPost(models.Model):\n",
    "    title = models.CharField(max_length=250)\n",
    "    text = models.TextField()\n",
    "    likes = models.PositiveIntegerField(default=0)\n",
    "    views = models.PositiveIntegerField(default=0)\n",
    "    comment_count = models.PositiveIntegerField(default=0)\n",
    "    author = models.ForeignKey(User, on_delete=models.CASCADE) # Refers to the user model\n",
    "    published_date = models.DateTimeField(auto_now_add=True)  # Automatically set on creation\n",
    "    last_modified = models.DateTimeField(auto_now=True)\n",
    "\n",
    "    def __str__(self):\n",
    "        return self.title\n"
   ]
  },
  {
   "cell_type": "markdown",
   "metadata": {},
   "source": [
    "Working with this model, you can modify a field in the database after migrations. Say you want to increment the likes field by one, you would write this code."
   ]
  },
  {
   "cell_type": "code",
   "execution_count": null,
   "metadata": {},
   "outputs": [],
   "source": [
    "# Importing the post model\n",
    "from app.models import BlogPost\n",
    "\n",
    "# Assuming post id is 1\n",
    "post_id = 1\n",
    "\n",
    "# Importing the object to python\n",
    "post = BlogPost.objects.filter(id=post_id)\n",
    "\n",
    "# Increment the likes field\n",
    "post.likes += 1\n",
    "\n",
    "# Save the post object after updating the likes field\n",
    "post.save()"
   ]
  },
  {
   "cell_type": "markdown",
   "metadata": {},
   "source": [
    "The code above involves importing the object to Python, updating a property, and re-saving. A much more efficient way of doing this is with the Django F object."
   ]
  },
  {
   "cell_type": "code",
   "execution_count": null,
   "metadata": {},
   "outputs": [],
   "source": [
    "from app.models import BlogPost\n",
    "from django.db.models import F  #Importing the F object\n",
    "\n",
    "# Assuming post id is 1\n",
    "post_id = 1\n",
    "\n",
    "# Updating the post in database directly\n",
    "BlogPost.objects.filter(id=post_id).update(likes=F('likes') + 1)"
   ]
  },
  {
   "cell_type": "markdown",
   "metadata": {},
   "source": [
    "# F objects in filters\n",
    "You can also use the F object in filters to compare the values of different fields in a model. This allows the creation of more complex and dynamic queries from a database level. The ORM provides various lookup types that you can use in queries. Examples are exact which checks if values are equal, \n",
    "- ```gt``` checks if a value is greater than another \n",
    "- ```gte``` checks if a value is greater than or equal to another\n",
    "-  ```lte``` checks if a value is less than or equal to another.\n"
   ]
  },
  {
   "cell_type": "markdown",
   "metadata": {},
   "source": [
    "In analytics and database management, it's common practice to use field combinations or their interrelation for insightful analysis. Django's F() objects offer a flexible way to dynamically query databases based on these relationships. Here is a scenario where such queries prove invaluable in deriving meaningful analytics."
   ]
  },
  {
   "cell_type": "code",
   "execution_count": null,
   "metadata": {},
   "outputs": [],
   "source": [
    "# Query to use filter posts with likes equal to views\n",
    "posts = BlogPost.objects.filter(likes__exact=F('comment_count'))"
   ]
  },
  {
   "cell_type": "markdown",
   "metadata": {},
   "source": [
    "The query assesses user engagement by comparing the number of comments to the number of likes on a post. Here is another example that looks for items that need to be restocked in a grocery store by comparing the in_stock field with reorder_quantity field.\n",
    "\n"
   ]
  },
  {
   "cell_type": "code",
   "execution_count": null,
   "metadata": {},
   "outputs": [],
   "source": [
    "# Fetch products that need restocking based on stock levels and reorder quantity\n",
    "low_stock_items = Product.objects.filter(stock__lt=F('reorder_quantity'))"
   ]
  },
  {
   "cell_type": "markdown",
   "metadata": {},
   "source": [
    "The Django F object isn't just limited to integer-type fields when writing queries. Here is an example, a query that retrieves posts with views greater than or equal to the length of their title."
   ]
  },
  {
   "cell_type": "code",
   "execution_count": null,
   "metadata": {},
   "outputs": [],
   "source": [
    "from django.db.models.functions import Length  # Importing the Length function\n",
    "\n",
    "posts = BlogPost.objects.filter(\n",
    "    views__gte=Length(F('title'))\n",
    ")"
   ]
  },
  {
   "cell_type": "markdown",
   "metadata": {},
   "source": [
    "You can also use the F object to query using date-time fields. The example below queries for posts which were published three days after they were modified."
   ]
  },
  {
   "cell_type": "code",
   "execution_count": null,
   "metadata": {},
   "outputs": [],
   "source": [
    "from datetime import timedelta\n",
    "\n",
    "# Fetch posts where the published_date is greater than last_modified by 3 days\n",
    "posts = BlogPost.objects.filter(\n",
    "    published_date__gt=F('last_modified') + timedelta(days=3)\n",
    ")"
   ]
  },
  {
   "cell_type": "markdown",
   "metadata": {},
   "source": [
    "# Dynamic fields and annotations with f expressions\n",
    "\n",
    "Dynamic fields in Django are fields created or modified on the fly during the process of executing queries. These fields are not stored in the database. Since creating them essentially involves instructing Django to calculate or generate new values based on existing fields, this is all done in memory.\n",
    "\n",
    "Annotations allow you to add extra information to each object in a query set. Annotations are often used to include calculated values or other derived information in the results of a database query. The F object in Django allows you to reference the value of a field in a model when writing a database query."
   ]
  },
  {
   "cell_type": "markdown",
   "metadata": {},
   "source": [
    "Here is an example using the blog post model from before.\n",
    "\n"
   ]
  },
  {
   "cell_type": "code",
   "execution_count": null,
   "metadata": {},
   "outputs": [],
   "source": [
    "# Query to annotate likes-to-views ratio to a dynamic field\n",
    "posts = BlogPost.objects.annotate(likes_to_view_ratio=F('likes') / F('views'))"
   ]
  },
  {
   "cell_type": "markdown",
   "metadata": {},
   "source": [
    "This example retrieves all posts and creates a dynamic field, which is the ratio of likes to view. The field is now created for all the post objects the query returns. We can then pass the results of the query to a template or use it. Here is an example of how the dynamic field can be used."
   ]
  },
  {
   "cell_type": "code",
   "execution_count": null,
   "metadata": {},
   "outputs": [],
   "source": [
    "# Looping throgh the posts query set\n",
    "for post in posts:\n",
    "   print(f\"{post.title} - Likes-to-view ratio: {post.likes_to_view_ratio}\")"
   ]
  },
  {
   "cell_type": "markdown",
   "metadata": {},
   "source": [
    "You can also calculate aggregates and assign the values to a dynamic field. Dynamic fields and annotations prove powerful with practical examples, such as generating reports or populating leaderboards, which illustrate their real-world utility. Imagine a scenario where the likes-to-views ratio is utilized to showcase popular posts on a website.\n",
    "\n",
    "If the fields you are combining are of different types, you will need to tell Django what kind of field will be returned. You will need to wrap the expression with an ExpressionWrapper since the F object does not support output_field which is used to define the expected data type of value returned from a query.\n",
    "\n",
    "Say we have a model for an event."
   ]
  },
  {
   "cell_type": "code",
   "execution_count": null,
   "metadata": {},
   "outputs": [],
   "source": [
    "# Import the model class\n",
    "from django.db import models\n",
    "\n",
    "# The event model\n",
    "class Event(models.Model):\n",
    "    name = models.CharField(max_length=200)\n",
    "    starts_at = models.DateTimeField()\n",
    "    duration = models.DurationField()\n",
    "\n",
    "    def __str__(self):\n",
    "        return self.name"
   ]
  },
  {
   "cell_type": "markdown",
   "metadata": {},
   "source": [
    "If you were to query the model for events and annotate a field called ended_at which is a field that is the sum of starts_at and duration, this is how you would go about it."
   ]
  },
  {
   "cell_type": "code",
   "execution_count": null,
   "metadata": {},
   "outputs": [],
   "source": [
    "from app.models import Event\n",
    "from django.db.models import F, ExpressionWrapper, DateTimeField\n",
    "\n",
    "# Using event wrapper to designate the FieldType to be returned\n",
    "events = Event.objects.annotate(\n",
    "    ExpressionWrapper(\n",
    "        ended_at=F('starts_at') + F('duration'), output_field=DateTimeField())\n",
    "    )"
   ]
  },
  {
   "cell_type": "markdown",
   "metadata": {},
   "source": [
    "This way, Django knows that it should return ended_at as a DateTimeField which is the field type required for this field. Dynamic fields like this can then be seamlessly passed to the template, where it can be displayed.\n",
    "\n",
    "```html\n",
    "<ul>\n",
    "    {% for event in events %}\n",
    "        <li>{{ event.ended_at }}</li>\n",
    "    {% endfor %}\n",
    "</ul>"
   ]
  },
  {
   "cell_type": "markdown",
   "metadata": {},
   "source": [
    "# Logical operations on f expressions\n",
    "The F object also allows you to use logical operations when writing queries to a database. These logical operands you can use include AND(&), OR(|) and NOT(~)."
   ]
  },
  {
   "cell_type": "markdown",
   "metadata": {},
   "source": [
    "Here is an example that utilizes the blog post model from before to query for posts with both likes and views greater than the sum of the comment_count field and a hundred without the F object."
   ]
  },
  {
   "cell_type": "code",
   "execution_count": null,
   "metadata": {},
   "outputs": [],
   "source": [
    "# Assuming you have imported the post model\n",
    "# Import F and Q objects\n",
    "from django.db.models import F, Q\n",
    "\n",
    "# Normal way to query information\n",
    "annotated_data = BlogPost.objects.annotate(total=F('comment_count') + 100)\n",
    "posts = annotated_data.filter(likes__gt=F('total'), views__gt=F('total'))"
   ]
  },
  {
   "cell_type": "markdown",
   "metadata": {},
   "source": [
    "Now, here is the same query using the F object and the AND(&) operand. The example annotates a field called total_fields which is the sum of likes and views for every record. It then filters the data for posts with both likes and views greater than total_fields.\n",
    "\n",
    "Note, the query does use the Q object as well."
   ]
  },
  {
   "cell_type": "code",
   "execution_count": null,
   "metadata": {},
   "outputs": [],
   "source": [
    "# Assuming you have imported the post model\n",
    "# Importing F and Q objects\n",
    "from django.db.models import F, Q\n",
    "\n",
    "# Querying using logical operations\n",
    "annotated_data = BlogPost.objects.annotate(total=F('comment_count') + 100)\n",
    "posts = annotated_data.filter(Q(likes__gt=F('total')) & Q(views__gt=F('total')))"
   ]
  },
  {
   "cell_type": "markdown",
   "metadata": {},
   "source": [
    "We can also implement the same query using the OR(|) operand. This way, the query set will contain posts which satisfy at least one of the conditions in the query."
   ]
  },
  {
   "cell_type": "code",
   "execution_count": null,
   "metadata": {},
   "outputs": [],
   "source": [
    "# Assuming you have imported the post model\n",
    "# Importing F and Q objects\n",
    "from django.db.models import F, Q\n",
    "\n",
    "# Querying using logical operations\n",
    "annotated_data = BlogPost.objects.annotate(total=F('comment_count') + 100).\n",
    "posts = annotated_data.filter(Q(likes__gt=F('total')) | Q(views__gt=F('total')))"
   ]
  },
  {
   "cell_type": "markdown",
   "metadata": {},
   "source": [
    "And here is an example that utilizes the NOT(~) operand. The posts in the query set have the condition for the query as false. This example annotates the field total the same way as before and excludes all posts with likes equal to total.\n",
    "\n"
   ]
  },
  {
   "cell_type": "code",
   "execution_count": null,
   "metadata": {},
   "outputs": [],
   "source": [
    "# Assuming you have imported the post model\n",
    "# Importing the F and Q objects\n",
    "from django.db.models import F, Q\n",
    "\n",
    "# Function to negate condition\n",
    "def search_post(request):\n",
    "    annotated_data = BlogPost.objects.annotate(total=F('comment_count') + 100)\n",
    "    posts = annotated_data.filter(~Q(total=F('likes')))"
   ]
  },
  {
   "cell_type": "markdown",
   "metadata": {},
   "source": [
    "Logical operations have the advantage of allowing a programmer the flexibility to construct more complex queries with multiple conditionals at once. Here is an example of how to query blog posts with views not equal to total or total greater than the number of likes."
   ]
  },
  {
   "cell_type": "code",
   "execution_count": null,
   "metadata": {},
   "outputs": [],
   "source": [
    "# Assuming that you have imported the post models\n",
    "# Importing the F and Q objects\n",
    "from django.db.models import F, Q\n",
    "\n",
    "# Query for posts\n",
    "def search_post(request):\n",
    "    annotated_data = BlogPost.objects.annotate(total=F('comment_count') + 100)\n",
    "    posts = annotated_data.filter(~Q(total=F('views')) | Q(total__gt=F('likes'))"
   ]
  },
  {
   "cell_type": "markdown",
   "metadata": {},
   "source": [
    "When using Django's F and Q object with logical operands, knowing the order of operations is key. It's similar to math class, when in doubt, use brackets. Here's why:\n",
    "\n",
    "- NOT: Comes first, flipping a condition\n",
    "- AND: Second in line, demanding both conditions to be true\n",
    "- OR: The last to be evaluated, allowing even one condition to be true."
   ]
  },
  {
   "cell_type": "markdown",
   "metadata": {},
   "source": [
    "When creating complex queries, using brackets helps maintain clarity.\n",
    "\n",
    "Also, breaking down parts of your expression into separate variables makes the final filter argument more readable and easier to understand. Here is an example."
   ]
  },
  {
   "cell_type": "code",
   "execution_count": null,
   "metadata": {},
   "outputs": [],
   "source": [
    "from django.db.models import F, Q\n",
    "\n",
    "# Break down the complex filter into smaller parts\n",
    "likes_condition = Q(likes__gt=F('total'))\n",
    "views_condition = Q(views__gt=F('total'))\n",
    "\n",
    "# Combine these conditions using OR operand\n",
    "combined_condition = likes_condition | views_condition\n",
    "\n",
    "# Now use this combined condition in your filter\n",
    "annotated_data = BlogPost.objects.annotate(total=F('comment_count') + 100)\n",
    "posts = annotated_data.filter(combined_condition)"
   ]
  },
  {
   "cell_type": "markdown",
   "metadata": {},
   "source": [
    "# Func expressions\n",
    "Functional expressions, often referred to as Func expressions, offer a robust way to enhance database performance by leveraging SQL functions like COALESCE, LOWER, and SUM directly within the database."
   ]
  },
  {
   "cell_type": "markdown",
   "metadata": {},
   "source": [
    "The LOWER function is used to convert a string to lowercase. Here is a query that retrieves blog posts from the blog post model and annotate a field called title_lower whose value is going to be the lowercase of the post's title, here is how you would go about it."
   ]
  },
  {
   "cell_type": "code",
   "execution_count": null,
   "metadata": {},
   "outputs": [],
   "source": [
    "# Assuming you have imported the post model\n",
    "# Importing necessary classes\n",
    "from django.db.models import Func, F\n",
    "\n",
    "# Querying database and annotating field\n",
    "posts = BlogPost.objects.all()\n",
    "posts.annotate(title_lower=Func(F('title'), function=\"LOWER\"))"
   ]
  },
  {
   "cell_type": "markdown",
   "metadata": {},
   "source": [
    "The SUM function is used to calculate the sum of values in a column in a database table. Here is an example that uses the function to compute the sum of likes and assigns it to a dynamic field called total_likes."
   ]
  },
  {
   "cell_type": "code",
   "execution_count": null,
   "metadata": {},
   "outputs": [],
   "source": [
    "from django.db.models import Func, F\n",
    "\n",
    "# Annotating the queryset with the total sum of 'likes' using Func expression\n",
    "posts_with_likes_sum = BlogPost.objects.annotate(\n",
    "    total_likes=Func(F('likes'), function='SUM')\n",
    ")"
   ]
  },
  {
   "cell_type": "markdown",
   "metadata": {},
   "source": [
    "COALESCE, although less commonly used, is versatile and can handle NULL values within SQL queries. Say we want to categorize the blog post likes into three categories: 'LOW' if a post has likes that are less than 30, 'MID' if it has likes between 30 and 80, and 'HIGH' if likes are greater than 30, based on certain thresholds. If the likes field is NULL, the the value of like_label becomes \"UNDEFINED\". We also set the output_field to a character field. Here is how we would go about it."
   ]
  },
  {
   "cell_type": "code",
   "execution_count": null,
   "metadata": {},
   "outputs": [],
   "source": [
    "from django.db.models import Func, Value, CharField\n",
    "from django.db.models.functions import Coalesce, Case, When\n",
    "\n",
    "# Annotating the queryset with text labels based on 'likes' thresholds using COALESCE\n",
    "posts_with_like_labels = BlogPost.objects.annotate(\n",
    "    like_label=Coalesce(\n",
    "        Case(\n",
    "            When(likes__lt=30, then=Value('LOW')),\n",
    "            When(likes__range=[30, 80], then=Value('MID')),\n",
    "            When(likes__gt=80, then=Value('HIGH')),\n",
    "            output_field=CharField(),\n",
    "        ),\n",
    "        Value('UNDEFINED'),  # Default label for other cases (optional)\n",
    "    )\n",
    ")"
   ]
  },
  {
   "cell_type": "markdown",
   "metadata": {},
   "source": [
    "You should consider employing Func expressions when:\n",
    "\n",
    "When you need to utilize specific SQL functions like COALESCE, LOWER, SUM, or other custom functions.\n",
    "When dealing with NULL values thus ensuring data consistency.\n",
    "Note, Django ORM enebles the usage of Func expressions across various database systems and is thus:\n",
    "\n",
    "Database independent\n",
    "Cross database compatibility\n",
    "Optimal portability since very little code change is required when changing database engine"
   ]
  },
  {
   "cell_type": "markdown",
   "metadata": {},
   "source": [
    "Func expressions also form the building blocks for other database functions. They allow the programmer to write custom database functions to suit the task at hand. Here is an example of the same example we used to categorize posts based on the number of likes but with a custom database function written using func expressions."
   ]
  },
  {
   "cell_type": "code",
   "execution_count": null,
   "metadata": {},
   "outputs": [],
   "source": [
    "from django.db.models import Func, F, Value, CharField\n",
    "\n",
    "# Define a custom Func expression to categorize likes into text labels\n",
    "class LikesLabel(Func):\n",
    "    function = 'CASE'\n",
    "    template = \"CASE WHEN %s < 30 THEN %s WHEN %s < 80 THEN %s ELSE %s END\"\n",
    "    output_field = CharField()\n",
    "\n",
    "# Annotate the queryset with the likes labels using the custom Func expression\n",
    "posts_with_like_labels = BlogPost.objects.annotate(\n",
    "    like_label=LikesLabel(\n",
    "        F('likes'), Value('LOW'), F('likes'), Value('MID'), Value('HIGH')\n",
    "    )\n",
    ")"
   ]
  }
 ],
 "metadata": {
  "language_info": {
   "name": "python"
  }
 },
 "nbformat": 4,
 "nbformat_minor": 2
}
