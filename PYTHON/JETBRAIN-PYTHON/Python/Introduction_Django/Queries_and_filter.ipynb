{
 "cells": [
  {
   "cell_type": "markdown",
   "metadata": {},
   "source": [
    "# Queries and filters\n",
    "There is not much sense in having a database if you don't know how to get data from it. Let's find out how it works in Django!\n",
    "\n",
    "Let's talk about the Model object manager. We will use it to get and filter the data for a particular model. Once you learn the syntax rules, you'll be able to easily make queries to your database. It gives you the flexibility to retrieve any objects you want.\n",
    "\n",
    "Reading the data is the most common operation for a web application. The clients get data from the server more often than modify or delete it.\n"
   ]
  },
  {
   "cell_type": "markdown",
   "metadata": {},
   "source": [
    "# Model object manager\n",
    "An instance of the Model class represents a single row in the table of your database. To start working with a set of rows, call the Model object manager methods.\n",
    "\n",
    "The manager is a special class to get object(s) from a database to modify them. Django model manager is the interface through which database query operations are provided to Django models"
   ]
  },
  {
   "cell_type": "markdown",
   "metadata": {},
   "source": [
    "Currently, we work on the tournament application for the Quidditch league. The season is coming, but the website is not ready! Wizards from Hogwarts get used to working with the books and papers, so they know nothing on databases. Fortunately, you don't need magic to start querying and searching. We create models Team and Player and that's how we define"
   ]
  },
  {
   "cell_type": "code",
   "execution_count": null,
   "metadata": {},
   "outputs": [],
   "source": [
    "from django.db import models\n",
    "\n",
    "\n",
    "class Team(models.Model):\n",
    "    name = models.CharField(max_length=64)\n",
    "\n",
    "\n",
    "class Player(models.Model):\n",
    "    height = models.FloatField()\n",
    "    name = models.CharField(max_length=64)\n",
    "    team = models.ForeignKey(Team, on_delete=models.CASCADE)\n",
    "\n",
    "\n",
    "team_model_manager = Team.objects\n",
    "player_model_manager = Player.objects"
   ]
  },
  {
   "cell_type": "markdown",
   "metadata": {},
   "source": [
    "It's not necessary to give an alias name to the Manager, you can use its methods simply like this: Team.objects.filter(name=\"Ballycastle Bats\"). You can choose what you like more, but for clarity, we will access it directly in all the examples."
   ]
  },
  {
   "cell_type": "code",
   "execution_count": null,
   "metadata": {},
   "outputs": [],
   "source": [
    "falmouth_falcons = Team.objects.create(name=\"Falmouth Falcons\")\n",
    "montrose_magpies = Team.objects.create(name=\"Montrose Magpies\")\n",
    "\n",
    "Player.objects.create(name=\"Karl Broadmoor\", height=180, team=falmouth_falcons)\n",
    "Player.objects.create(name=\"Kevin Broadmoor\", height=183, team=falmouth_falcons)\n",
    "Player.objects.create(name=\"Alasdair Maddock\", height=175, team=montrose_magpies)\n",
    "Player.objects.create(name=\"Lennox Campbell\", height=197, team=montrose_magpies)"
   ]
  },
  {
   "cell_type": "markdown",
   "metadata": {},
   "source": [
    "You can also use bulk_create method to add a list of objects into the database:\n",
    "\n"
   ]
  },
  {
   "cell_type": "code",
   "execution_count": null,
   "metadata": {},
   "outputs": [],
   "source": [
    " Player.objects.bulk_create([\n",
    "    Player(name=\"Karl Broadmoor\", height=180, team=falmouth_falcons),\n",
    "    Player(name=\"Kevin Broadmoor\", height=183, team=falmouth_falcons),\n",
    "    Player(name=\"Alasdair Maddock\", height=175, team=montrose_magpies),\n",
    "    Player(name=\"Lennox Campbell\", height=197, team=montrose_magpies)\n",
    "])"
   ]
  },
  {
   "cell_type": "markdown",
   "metadata": {},
   "source": [
    "You can use the code above in any file of your app, but don't forget to import model classes from models.py and remember that you should migrate your models before using them."
   ]
  },
  {
   "cell_type": "markdown",
   "metadata": {},
   "source": [
    "# Getting an object\n",
    "One step at a time, we will start from getting the team we want and then move on to getting a distinct player.\n",
    "- We will carefully pick the parameters for our first query. Our Team model has two fields: id and name. The id field is generated automatically for every model, though we do not specify it explicitly.\n",
    "\n",
    "We are certain that we have a team named Falmouth Falcons. Let's try to get it with the manager:\n"
   ]
  },
  {
   "cell_type": "code",
   "execution_count": null,
   "metadata": {},
   "outputs": [],
   "source": [
    "falcons = Team.objects.get(name=\"Falmouth Falcons\")"
   ]
  },
  {
   "cell_type": "markdown",
   "metadata": {},
   "source": [
    "Looks fine. But what happens if we get a team that doesn't exist?\n",
    "\n"
   ]
  },
  {
   "cell_type": "code",
   "execution_count": null,
   "metadata": {},
   "outputs": [],
   "source": [
    "tornados = Team.objects.get(name=\"Tutshill Tornados\")"
   ]
  },
  {
   "cell_type": "markdown",
   "metadata": {},
   "source": [
    "This call raises the Team.DoesNotExist exception. Unlike Python's dict get method, the manager's get method may raise an Exception. To prevent this situation and keep our program from crashing, you can wrap this call in a try-except construction:"
   ]
  },
  {
   "cell_type": "code",
   "execution_count": null,
   "metadata": {},
   "outputs": [],
   "source": [
    "try:\n",
    "    tornados = Team.objects.get(name=\"Tutshill Tornados\")\n",
    "except Team.DoesNotExist:\n",
    "    ..."
   ]
  },
  {
   "cell_type": "markdown",
   "metadata": {},
   "source": [
    "Let's try to get the Karl Broadmoor player profile from the database:"
   ]
  },
  {
   "cell_type": "code",
   "execution_count": null,
   "metadata": {},
   "outputs": [],
   "source": [
    "karl_broadmoor = Player.objects.get(name=\"Karl Broadmoor\")"
   ]
  },
  {
   "cell_type": "markdown",
   "metadata": {},
   "source": [
    "Karl plays for Falmouth Falcons, so we get his profile with no errors. Suppose you want to make a query that returns multiple objects:"
   ]
  },
  {
   "cell_type": "code",
   "execution_count": null,
   "metadata": {},
   "outputs": [],
   "source": [
    "falcons = Team.objects.get(name=\"Falmouth Falcons\")\n",
    "falcon_player = Player.objects.get(team=falcons)"
   ]
  },
  {
   "cell_type": "markdown",
   "metadata": {},
   "source": [
    "You will get not a player but a Player.MultipleObjectsReturned exception.\n",
    "\n",
    "So, to prevent exceptions, you should keep in mind two rules:\n",
    "\n",
    "You can only pass the parameters with the names of the fields of your model or with valid field lookups;\n",
    "\n",
    "You should be sure that with this query you will get exactly one object."
   ]
  },
  {
   "cell_type": "markdown",
   "metadata": {},
   "source": [
    "# Filtering objects\n"
   ]
  },
  {
   "cell_type": "code",
   "execution_count": null,
   "metadata": {},
   "outputs": [],
   "source": [
    "tornados = Team.objects.filter(name=\"Tutshill Tornados\")"
   ]
  },
  {
   "cell_type": "markdown",
   "metadata": {},
   "source": [
    "Filtering objects only by their exact value is not always convenient: you may want to get objects that satisfy a trickier condition. For example, it could be games where the home team scored more than 12 points. We'll start with this query:"
   ]
  },
  {
   "cell_type": "code",
   "execution_count": null,
   "metadata": {},
   "outputs": [],
   "source": [
    "great_score_at_home_games = Game.objects.filter(home_team_points__gt=12)"
   ]
  },
  {
   "cell_type": "markdown",
   "metadata": {},
   "source": [
    "The special syntax for the parameter is: the field name, double underscores, the field lookup, a special name for actions on the field value you want to make when filtering data.\n",
    "\n",
    "To retrieve an object from the QuerySet you can iterate it over or get the item by the index as you get it from the Python's list."
   ]
  },
  {
   "cell_type": "code",
   "execution_count": null,
   "metadata": {},
   "outputs": [],
   "source": [
    "tornados = Team.objects.filter(name=\"Tutshill Tornados\")\n",
    "if len(tornados) == 1:\n",
    "    tornados_team = tornados[0]"
   ]
  },
  {
   "cell_type": "code",
   "execution_count": null,
   "metadata": {},
   "outputs": [],
   "source": [
    "Team.objects.filter(name=\"Tutshill Tornados\").count()"
   ]
  },
  {
   "cell_type": "markdown",
   "metadata": {},
   "source": [
    "In addition, we want to get a Falmouth Falcons player. Let's do it with the combination of the filter and first methods:"
   ]
  },
  {
   "cell_type": "code",
   "execution_count": null,
   "metadata": {},
   "outputs": [],
   "source": [
    "falcons = Team.objects.get(name=\"Falmouth Falcons\")\n",
    "falcon_player = Player.objects.filter(team=falcons).first()"
   ]
  },
  {
   "cell_type": "markdown",
   "metadata": {},
   "source": [
    "# Using get_or_create\n",
    "While working with databases, you'll often encounter situations where you want to get a specific object if it exists, or create it if it doesn't. Django provides a handy method for this - get_or_create.\n",
    "\n",
    "This method tries to fetch an object from your database based on the parameters you provide. If the object exists, it returns a tuple containing the object and a boolean value False. If the object does not exist, this method creates it with the provided parameters and returns a tuple containing the new object and True."
   ]
  },
  {
   "cell_type": "markdown",
   "metadata": {},
   "source": [
    "Let's take an example. Suppose we want to get a team with the name \"Puddlemere United\". If it exists, we want to get it, otherwise, we want to create it. Here's how we can do it:"
   ]
  },
  {
   "cell_type": "code",
   "execution_count": null,
   "metadata": {},
   "outputs": [],
   "source": [
    "team, created = Team.objects.get_or_create(name=\"Puddlemere United\")"
   ]
  },
  {
   "cell_type": "markdown",
   "metadata": {},
   "source": [
    "In this case, if a team named \"Puddlemere United\" exists in the database, team will be that Team instance and created will be False. If the team does not exist, a new team will be created, team will be the new Team instance, and created will be True."
   ]
  },
  {
   "cell_type": "markdown",
   "metadata": {},
   "source": [
    "There's another way to achieve the same result, although it involves more steps. First, you check if the object exists using the .exists() method, and if it doesn't, you create it. Here's how you can do it:"
   ]
  },
  {
   "cell_type": "code",
   "execution_count": null,
   "metadata": {},
   "outputs": [],
   "source": [
    "if not Team.objects.filter(name=\"Puddlemere United\").exists():\n",
    "    team = Team.objects.create(name=\"Puddlemere United\")\n",
    "    created = True\n",
    "else:\n",
    "    team = Team.objects.get(name=\"Puddlemere United\")\n",
    "    created = False"
   ]
  },
  {
   "cell_type": "markdown",
   "metadata": {},
   "source": [
    "In this case, if a team named \"Puddlemere United\" exists in the database, team will be that Team instance and created will be False. If the team does not exist, a new team will be created, team will be the new Team instance, and created will be True."
   ]
  }
 ],
 "metadata": {
  "language_info": {
   "name": "python"
  }
 },
 "nbformat": 4,
 "nbformat_minor": 2
}
