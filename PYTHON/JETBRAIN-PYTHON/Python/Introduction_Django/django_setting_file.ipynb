{
 "cells": [
  {
   "cell_type": "markdown",
   "metadata": {},
   "source": [
    "# Django settings file\n",
    "\n",
    "\n",
    "Once we create a Django project, it comes with a predefined directory structure and files. Let's recreate the project called smithee with the movies app inside it. To do so, write the following commands in the terminal/command line:"
   ]
  },
  {
   "cell_type": "code",
   "execution_count": null,
   "metadata": {
    "vscode": {
     "languageId": "shellscript"
    }
   },
   "outputs": [],
   "source": [
    "# create project 'smithee'\n",
    "django-admin startproject smithee\n",
    "\n",
    "# change the cwd to the newly created project folder 'smithee'\n",
    "cd smithee\n",
    "\n",
    "# create app 'movies'\n",
    "python manage.py startapp movies"
   ]
  },
  {
   "cell_type": "markdown",
   "metadata": {},
   "source": [
    "After executing the commands above, our project should have a structure like this:\n",
    "\n"
   ]
  },
  {
   "cell_type": "markdown",
   "metadata": {},
   "source": [
    "```\n",
    "smithee           <-- BASE_DIR      \n",
    "    --> smithee                 \n",
    "            -> __init__.py\n",
    "            -> asgi.py\n",
    "            -> settings.py    <-- settings.py file \n",
    "            -> urls.py\n",
    "            -> wsgi.py\n",
    "    --> manage.py\n",
    "    --> movies\n",
    "```"
   ]
  },
  {
   "cell_type": "markdown",
   "metadata": {},
   "source": [
    "The settings.py file is the central one for configuring all Django projects. It is nothing else than a Python module with defined variables. All variables inside are constants, and according to PEP 0008 convention, they should be written with capital letters. In this topic, we will discuss things you can do with variables in the settings file."
   ]
  },
  {
   "cell_type": "markdown",
   "metadata": {},
   "source": [
    "# BASE_DIR\n",
    "\n",
    "The BASE_DIR variable refers to the base directory and points to the top hierarchy of any Django project. In our example, it is smithee.\n",
    "\n",
    "This variable is always included in the Django settings file, and all other paths that we define in our project are relative to this base directory. You should use it if you want to manipulate the included files. For example, if you want to define the name for a log file, it can be ```LOG_FILE = os.path.join(BASE_DIR, 'smithee.logs').```\n",
    "\n",
    "Starting with Django 3.1, BASE_DIR is defined with the pathlib module as follows:\n",
    "\n"
   ]
  },
  {
   "cell_type": "code",
   "execution_count": null,
   "metadata": {},
   "outputs": [],
   "source": [
    "from pathlib import Path\n",
    "\n",
    "# Build paths inside the project like this: BASE_DIR / 'subdir'.\n",
    "BASE_DIR = Path(__file__).resolve().parent.parent"
   ]
  },
  {
   "cell_type": "markdown",
   "metadata": {},
   "source": [
    "# ALLOWED_HOSTS\n",
    "ALLOWED_HOSTS is a list with addresses of all domains that can run your project.\n",
    "\n",
    "By default, this variable is set to an empty list [], and it can stay like this in the development phase because the default address will be 127.0.0.1 or localhost. If you switch to DEBUG=False, this variable can not be an empty list anymore. We will have to give hosts names, for example: ```ALLOWED_HOSTS = [\"127.0.0.1\", \"movies.com\"]```  While 127.0.0.1 represents your computer, movies.com indicates that your application can be run on the domain with the corresponding name."
   ]
  },
  {
   "cell_type": "markdown",
   "metadata": {},
   "source": [
    "# SECRET_KEY\n",
    "The SECRET_KEY variable is another security-related variable like ALLOWED_HOSTS. Unlike ALLOWED_HOSTS, which is empty by default, SECRET_KEY has a default value, for example like this:\n",
    "\n",
    "```SECRET_KEY = 'oubrz5ado&%+t(qu^fqo_#uhn7*+q*#9b3gje0-yj7^#g#ronn'```\n",
    "\n",
    "The purpose of this variable is to sign certain data structures digitally. Specifically, Django uses the SECRET_KEY on sensitive data structures like session identifiers, cookies and password reset tokens by default. However, you can use it to protect any sensitive data structure in your project."
   ]
  },
  {
   "cell_type": "code",
   "execution_count": null,
   "metadata": {},
   "outputs": [],
   "source": [
    "from django.core.signing import Signer\n",
    "\n",
    "signer = Signer()\n",
    "\n",
    "# generate a cryptographicaly signed value for the string \"Sensitive data\"\n",
    "value = signer.sign('Sensitive data')\n",
    "\n",
    "print(value)\n",
    "# Sensitive data:GdMGD6HNQ_qdgxYP8yBZAdAIV1w"
   ]
  },
  {
   "cell_type": "markdown",
   "metadata": {},
   "source": [
    "# INSTALLED_APPS\n",
    "You already know that the INSTALLED_APPS variable is a list containing all apps that are used in a project. We have created an app called movies. To let Django know that the app exists, we have to add the app name at the end of the list with installed applications:\n"
   ]
  },
  {
   "cell_type": "code",
   "execution_count": null,
   "metadata": {},
   "outputs": [],
   "source": [
    "INSTALLED_APPS = [\n",
    "    'django.contrib.admin',\n",
    "    'django.contrib.auth',\n",
    "    'django.contrib.contenttypes',\n",
    "    'django.contrib.sessions',\n",
    "    'django.contrib.messages',\n",
    "    'django.contrib.staticfiles',\n",
    "    'movies', # don't forget to put it inside quotes and also add commas after every app\n",
    "]"
   ]
  },
  {
   "cell_type": "markdown",
   "metadata": {},
   "source": [
    "# TEMPLATES\n",
    "Django has a convenient way to generate HTML dynamically. The most common approach relies on templates. A template contains the static parts of the desired HTML output and special syntax that describes how dynamic content is inserted.\n",
    "\n",
    "\n",
    "To manage these files, Django makes use of template engines. Templates engines are configured with the TEMPLATES setting that represents a list of configurations for each engine\n",
    "\n"
   ]
  },
  {
   "cell_type": "code",
   "execution_count": null,
   "metadata": {},
   "outputs": [],
   "source": [
    "TEMPLATES = [\n",
    "    {\n",
    "        'BACKEND': 'django.template.backends.django.DjangoTemplates',\n",
    "        'DIRS': [os.path.join(BASE_DIR, \"templates\")],\n",
    "        'APP_DIRS': True,\n",
    "        'OPTIONS': {\n",
    "            # other options here ...\n",
    "        },\n",
    "    },\n",
    "]"
   ]
  },
  {
   "cell_type": "markdown",
   "metadata": {},
   "source": [
    "Since most engines load templates from files, the top-level configuration for each engine contains two common settings:\n",
    "\n",
    "- ```DIRS``` defines a list of directories where the engine looks for template source files;\n",
    "\n",
    "- ```APP_DIRS``` tells whether the engine should look for templates inside the installed applications. Each backend defines a conventional name for the subdirectory inside applications where templates should be stored.\n",
    "\n",
    "- Lastly, ```OPTIONS``` contains extra parameters for a template backend. Available parameters vary depending on the template backend."
   ]
  },
  {
   "cell_type": "markdown",
   "metadata": {},
   "source": [
    "# DATABASES\n",
    "In Django projects, you employ SQLite databases by default:\n",
    "\n"
   ]
  },
  {
   "cell_type": "code",
   "execution_count": null,
   "metadata": {},
   "outputs": [],
   "source": [
    "DATABASES = {\n",
    "    'default': {\n",
    "        'ENGINE': 'django.db.backends.sqlite3',\n",
    "        'NAME': os.path.join(BASE_DIR, 'db.sqlite3'),\n",
    "    }\n",
    "}"
   ]
  },
  {
   "cell_type": "markdown",
   "metadata": {},
   "source": [
    "DATABASES is a constant dictionary of the database connection information. You can have connections to multiple databases, but usually, you will need the default entry. Take a look at possible options:\n",
    "\n",
    "- ```default``` is the default database connection configuration. You should always have a default set of connections settings;\n",
    "\n",
    "- ```ENGINE```, in our case, tells Django to use the SQLite backend;\n",
    "\n",
    "- ```NAME``` will indicate the path to the database you want to connect to.\n",
    "\n",
    "In addition to SQLite, Django also supports other popular databases: PostgreSQL, MySQL, and Oracle."
   ]
  }
 ],
 "metadata": {
  "language_info": {
   "name": "python"
  }
 },
 "nbformat": 4,
 "nbformat_minor": 2
}
