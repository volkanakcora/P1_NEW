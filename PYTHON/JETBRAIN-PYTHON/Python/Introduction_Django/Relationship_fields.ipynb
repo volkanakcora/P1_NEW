{
 "cells": [
  {
   "cell_type": "markdown",
   "metadata": {},
   "source": [
    "# Relationship fields\n",
    "There are three types of relationships in relational databases: one-to-one, one-to-many, many-to-many. All of them can be described with Django ORM.\n"
   ]
  },
  {
   "cell_type": "markdown",
   "metadata": {},
   "source": [
    "### One to One\n",
    "Suppose you want to create a blog. Our site is sure to have a user model and a blog model. Our site has a rule that one user can only have one blog. That is, there is a relationship of one user — one blog.\n",
    "\n",
    "The models.OneToOneField constructor can create this relationship. The first parameter of the constructor specifies which model the entity will be associated with (in our case, the association is the blog model). In addition, you must specify the second parameter on_delete that will tell the model what to do if the data is deleted. For example, you can pass models.CASCADE as a value of this parameter, which means that the data of the current model (user) will be removed if the associated object of the main model (blog) is removed. For now, we will use this mode in our examples."
   ]
  },
  {
   "cell_type": "code",
   "execution_count": null,
   "metadata": {},
   "outputs": [],
   "source": [
    "class Blog(models.Model): \n",
    "\ttitle = models.CharField(max_length=64) \n",
    "\n",
    "class User(models.Model): \n",
    "\tname = models.CharField(max_length=64) \n",
    "\tblog_id = models.OneToOneField(Blog, on_delete=models.CASCADE) "
   ]
  },
  {
   "cell_type": "markdown",
   "metadata": {},
   "source": [
    "### One-to-many\n",
    " let's say users can express their emotions and feelings in their articles. To accomplish this, it is necessary to create a table that will store the articles. In there, each article refers to a certain blog. In this case, the table with blogs will be the parent, and the table with articles is the child table. That is, one blog — many articles.\n",
    "\n",
    "To create this type of relation, use the models.ForeignKey constructor. This constructor also accepts two obligatory arguments — the first is the model we are associating with, and the second is the on_delete option, which sets the constraints for deleting an external record (in our case it is deleting from blog). So, the article model will have the blog_id field that will store the blog ID to which the article belongs. We will define this field using a ForeignKey. The model file will look something like this:"
   ]
  },
  {
   "cell_type": "code",
   "execution_count": null,
   "metadata": {},
   "outputs": [],
   "source": [
    "class Blog(models.Model):\n",
    "    title = models.CharField(max_length=64)\n",
    "\n",
    "class Article(models.Model):\n",
    "    title = models.CharField(max_length=64)\n",
    "    text = models.TextField()\n",
    "    blog_id = models.ForeignKey(Blog, on_delete=models.CASCADE)"
   ]
  },
  {
   "cell_type": "markdown",
   "metadata": {},
   "source": [
    "In this example, the article model in the code is lower than the blog model. If it were otherwise, the article model would refer to blog, which is below, so there would be an error when making migrations. To fix this, you need to write blog instead of just Blog in the ForeignKey constructor."
   ]
  },
  {
   "cell_type": "markdown",
   "metadata": {},
   "source": [
    "### Many-to-many\n",
    "Last, but not least, is the many-to-many relationship. Suppose the site has different tags that users can add to their articles. Then several tags can be defined for one article, and one tag can be defined for several articles.\n",
    "\n",
    "Django also has a constructor models.ManyToManyField for this case. However, now you are not required to use on_delete; set the model to which the current model belongs. This makes sense because if we remove a tag, we don't want all articles with that tag to be removed. Similarly, when you delete an article, we don't want to lose all the tags. The on_delete option can be set if there is a need to erase records according to some rule. For an example, it might look like this:\n"
   ]
  },
  {
   "cell_type": "code",
   "execution_count": null,
   "metadata": {},
   "outputs": [],
   "source": [
    "class Article(models.Model):\n",
    "    title = models.CharField(max_length=64)\n",
    "    text = models.TextField()\n",
    "    blog_id = models.ForeignKey(Blog, on_delete=models.CASCADE)\n",
    "\n",
    "class Tags(models.Model):\n",
    "    tag = models.CharField(max_length=32)\n",
    "    articles = models.ManyToManyField(Article)"
   ]
  },
  {
   "cell_type": "code",
   "execution_count": null,
   "metadata": {},
   "outputs": [],
   "source": [
    "class Article(models.Model):\n",
    "    title = models.CharField(max_length=64)\n",
    "    text = models.TextField()\n",
    "    blog_id = models.ForeignKey('Blog', on_delete=models.CASCADE)\n",
    "\n",
    "class Tags(models.Model):\n",
    "    tag = models.CharField(max_length=32)\n",
    "    articles = models.ManyToManyField(Article)\n",
    "\n",
    "class Blog(models.Model):\n",
    "    title = models.CharField(max_length=64)\n",
    "\n",
    "class User(models.Model):\n",
    "    name = models.CharField(max_length=64)\n",
    "    blog_id = models.OneToOneField(Blog, on_delete=models.CASCADE)"
   ]
  },
  {
   "cell_type": "markdown",
   "metadata": {},
   "source": [
    "## Deleting\n",
    "- ```models.CASCADE``` deletes a record from the primary model, deletes all the records from the secondary model;\n",
    "- ```models.PROTECT``` prohibits removing a record from the primary model if it is used in the secondary model (generates an exception);\n",
    "- ``` models.SET_NULL``` sets the foreign key value to NULL for the corresponding secondary model records when the primary model record is deleted;\n",
    "- ```models.SET_DEFAULT``` same as SET_NULL, instead of NULL, it sets the default value, defined through a ForeignKey\n",
    "- ```models.SET()``` same, only sets a custom value.\n",
    "- ``` models.DO_NOTHING``` deletes a record in the primary model. It causes no additional actions in the secondary models.\n"
   ]
  }
 ],
 "metadata": {
  "language_info": {
   "name": "python"
  }
 },
 "nbformat": 4,
 "nbformat_minor": 2
}
