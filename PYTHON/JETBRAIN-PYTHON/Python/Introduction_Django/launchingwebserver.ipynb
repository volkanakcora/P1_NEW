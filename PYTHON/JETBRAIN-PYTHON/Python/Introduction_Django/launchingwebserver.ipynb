{
 "cells": [
  {
   "cell_type": "markdown",
   "metadata": {},
   "source": [
    "# Launching web server\n",
    "\n",
    "After all the hard work of making an Internet service, you obviously want to see the result. What does it take to launch a Django webserver? If you already have an application in your project, there are only a few steps left:\n",
    "\n",
    "- Configure the settings.py file;\n",
    "\n",
    "- Launch the server on your local machine;\n",
    "\n",
    "- Fix the errors (if any) with the help of the debug page.\n",
    "\n",
    "For convenience, let's use the project about Alan Smithee that you must have started in one of the previous topics and perform the mentioned steps on it."
   ]
  },
  {
   "cell_type": "markdown",
   "metadata": {},
   "source": [
    "Once you have the code of the project, the first thing to do is tweaking some configs in the settings.py module to make it work. settings.py is a python module created automatically by Django in the project directory: in our case, smithee/settings.py. It stores all the important information on how your service works and behaves through defining variables. For starting our local server, the important thing is to add our app name to the INSTALLED APPS:"
   ]
  },
  {
   "cell_type": "code",
   "execution_count": null,
   "metadata": {},
   "outputs": [],
   "source": [
    "INSTALLED_APPS = [\n",
    "    'django.contrib.admin',\n",
    "    'django.contrib.auth',\n",
    "    'django.contrib.contenttypes',\n",
    "    'django.contrib.sessions',\n",
    "    'django.contrib.messages',\n",
    "    'django.contrib.staticfiles',\n",
    "    'movies',\n",
    "]"
   ]
  },
  {
   "cell_type": "markdown",
   "metadata": {},
   "source": [
    "# Django debug mode\n",
    "\n",
    "Let's face it: bugs happen. If something went wrong, you want to know where in the application it is. What can help you with that is the debug mode. Debug mode is a state of an application when it shows tracebacks and other useful information in your browser when the server fails. You can start the debug mode by adding DEBUG = True in your settings.py module.\n",
    "\n",
    "\n",
    "- Let's imagine a situation: when the application was under construction, one of the developers forgot the {% endfor %} tag in the movies/templates/index.html that was supposed to be there:\n"
   ]
  },
  {
   "cell_type": "code",
   "execution_count": null,
   "metadata": {
    "vscode": {
     "languageId": "html"
    }
   },
   "outputs": [],
   "source": [
    "<!DOCTYPE html>\n",
    "<title>Movies</title>\n",
    "\n",
    "<h1>Films by {{ director }}</h1>\n",
    "\n",
    "<ul>\n",
    "{% for movie in movies %}\n",
    "  <li>{{ movie.year }} - {{ movie.title }}</li>\n",
    "</ul>"
   ]
  },
  {
   "cell_type": "markdown",
   "metadata": {},
   "source": [
    "As you see, Django shows the file and line where the mistake is triggered. It's not always that easy to spot the place of an error in your code for Django, but you can use other information from the debug page to find it by yourself."
   ]
  },
  {
   "cell_type": "markdown",
   "metadata": {},
   "source": [
    "# Starting the local server\n",
    "\n",
    "You have an application, and you configured the settings: looks like you're finally ready to start the server! To launch the server on your local machine, you should run the runserver command from your terminal in the project's root directory:"
   ]
  },
  {
   "cell_type": "code",
   "execution_count": null,
   "metadata": {
    "vscode": {
     "languageId": "shellscript"
    }
   },
   "outputs": [],
   "source": [
    "python manage.py runserver"
   ]
  },
  {
   "cell_type": "markdown",
   "metadata": {},
   "source": [
    "If you see the message \"Error: That port is already in use.\", it means that the default port 8000 is in use by some other application. In this case, you can choose any other available port and pass it as the last argument to the command:"
   ]
  },
  {
   "cell_type": "code",
   "execution_count": null,
   "metadata": {
    "vscode": {
     "languageId": "shellscript"
    }
   },
   "outputs": [],
   "source": [
    "python manage.py runserver 9090\n"
   ]
  }
 ],
 "metadata": {
  "language_info": {
   "name": "python"
  }
 },
 "nbformat": 4,
 "nbformat_minor": 2
}
