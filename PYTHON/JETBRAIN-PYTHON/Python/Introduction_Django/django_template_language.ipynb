{
 "cells": [
  {
   "cell_type": "markdown",
   "metadata": {},
   "source": [
    "# Django template language\n",
    "A standard HTML page consists of hundreds or even thousands of lines — a lot of repetitive work. But what if you need to change a tag or a class of several similar elements? This little problem can spoil the evening if you work on a site.\n",
    "\n",
    "As a web framework, Django has a convenient way to generate HTML dynamically. The most common approach relies on templates. With Django Template Language (DTL), you can specify the static part of an HTML page, the dynamic data of the page, and also extend any base design for an HTML page."
   ]
  },
  {
   "cell_type": "markdown",
   "metadata": {},
   "source": [
    "# DTL\n",
    "DTL is a language that allows you to control the elements of an HTML page on the server side. Templates are files that consist of special syntax constructions and HTML layouts. These constructions allow you to modify the page content before sending it to the client. So templates help you personalize a page directly — for each user, with love.\n",
    "\n",
    "The work with DTL starts with four fundamental pillars: variables, control expressions, tags, and filters. They are part of the framework. You can also define your filters and tags, but before we get to that, let's figure out what you can get from the box, starting with variables and control expressions."
   ]
  },
  {
   "cell_type": "markdown",
   "metadata": {},
   "source": [
    "To understand how to use the four fundamental pillars, let's consider a project structure as follows:\n",
    "\n",
    "Suppose there is John Doe, a guy working on a brilliant blog. Every blog starts with the first post and the first impression, so the content needs to be good; we'll leave that to John since our job here is code.\n",
    "\n",
    "To introduce some examples, create a Django project with any name you like and add the blog application. Define a simple handler to render a template in the blog/views.py module:"
   ]
  },
  {
   "cell_type": "code",
   "execution_count": null,
   "metadata": {},
   "outputs": [],
   "source": [
    "from django.views import View\n",
    "from django.shortcuts import render\n",
    "\n",
    "blog_title = \"John Doe's blog\"\n",
    "first_post = {\n",
    "    \"text\": \"My first post\",\n",
    "    \"theme\": \"Easy talk\",\n",
    "    \"comments\": [\n",
    "        \"My congratulations!!\",\n",
    "        \"Looking forward to the second one\",\n",
    "    ],\n",
    "}\n",
    "\n",
    "\n",
    "class MainView(View):\n",
    "    def get(self, request, *args, **kwargs):\n",
    "        context = {\"post\": first_post, \"blog_name\": blog_title}\n",
    "        return render(request, \"blog/index.html\", context=context)"
   ]
  },
  {
   "cell_type": "markdown",
   "metadata": {},
   "source": [
    "Then, paste this template to the blog/templates/blog/index.html file:\n",
    "\n"
   ]
  },
  {
   "cell_type": "code",
   "execution_count": null,
   "metadata": {
    "vscode": {
     "languageId": "html"
    }
   },
   "outputs": [],
   "source": [
    "<html>\n",
    "  <body>\n",
    "    <h2>{{ blog_name }}</h2>\n",
    "    <div>{{ post.text }}</div>\n",
    "  </body>\n",
    "</html>"
   ]
  },
  {
   "cell_type": "markdown",
   "metadata": {},
   "source": [
    "We can also pass the value of the model with object_model.field as the context:\n",
    "\n"
   ]
  },
  {
   "cell_type": "code",
   "execution_count": null,
   "metadata": {},
   "outputs": [],
   "source": [
    "from django.shortcuts import render\n",
    "from .models import Blogs\n",
    "\n",
    "def index(request):\n",
    "    latest_blogs_list = Blogs.objects.order_by(\"-publication_date\")[:5]\n",
    "    context = {\"latest_post_list\": latest_post_list}\n",
    "    return render(request, \"blog/index.html\", context)"
   ]
  },
  {
   "cell_type": "markdown",
   "metadata": {},
   "source": [
    "Do not forget to add blog to your INSTALLED_APPS in the settings.py module, and then add this code to your urls.py module in the project's directory:"
   ]
  },
  {
   "cell_type": "code",
   "execution_count": null,
   "metadata": {},
   "outputs": [],
   "source": [
    "from django.urls import path\n",
    "from blog.views import MainView\n",
    " \n",
    "urlpatterns = [\n",
    "    path(\"\", MainView.as_view()),\n",
    "]"
   ]
  },
  {
   "cell_type": "markdown",
   "metadata": {},
   "source": [
    "It's okay if you don't grasp how this code works for now; look through the content of the first_post and blog_title variables."
   ]
  }
 ],
 "metadata": {
  "language_info": {
   "name": "python"
  }
 },
 "nbformat": 4,
 "nbformat_minor": 2
}
