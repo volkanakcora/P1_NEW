{
 "cells": [
  {
   "cell_type": "markdown",
   "metadata": {},
   "source": [
    "# Rendering\n",
    "Jack Torrance started working on his new book called Shining. He wants to publish this book online, with the table of contents on the main page and each chapter on a separate page. He sends the first draft of his story:\n",
    "\n",
    "```\n",
    "book = {\n",
    "    'Chapter 1': 'All work and no play makes Jack a dull boy...',\n",
    "    'Chapter 2': 'All work and no play makes Jack a dull boy...',\n",
    "    'Chapter 3': 'All work and no play makes Jack a dull boy...',\n",
    "    'Chapter 4': 'All work and no play makes Jack a dull boy...',\n",
    "}\n",
    "\n",
    "```"
   ]
  },
  {
   "cell_type": "markdown",
   "metadata": {},
   "source": [
    "We created a project named booksite with the book app inside. Then, we created the templates and book directory. Now, we have this tree of our\n",
    "\n",
    "project:\n",
    "```\n",
    "booksite\n",
    "├── book\n",
    "│   ├── templates\n",
    "│   │   └── book\n",
    "│   ├── urls.py\n",
    "│   └── views.py\n",
    "└── booksite\n",
    "    ├── urls.py\n",
    "    └── settings.py\n",
    "```"
   ]
  },
  {
   "cell_type": "markdown",
   "metadata": {},
   "source": [
    "This novel seems a bit strange, but anyway, let's create an HTML template for the main page with the contents of the book and add it to the book/templates/book/contents.html file:"
   ]
  },
  {
   "cell_type": "code",
   "execution_count": null,
   "metadata": {
    "vscode": {
     "languageId": "html"
    }
   },
   "outputs": [],
   "source": [
    "<h2> Shining </h2>\n",
    "<ul>\n",
    "  {% for chapter in book %}\n",
    "  <li>\n",
    "    <a href=\"/chapter/{{ forloop.counter }}\">Chapter {{ forloop.counter }}</a>\n",
    "  </li>\n",
    "  {% endfor %}\n",
    "</ul>"
   ]
  },
  {
   "cell_type": "markdown",
   "metadata": {},
   "source": [
    "Each unordered list item links to a chapter page, so users can comfortably read each chapter on a separate HTML page.\n",
    "\n",
    "To return a user to the contents page, we need to implement an HTTP handler with the get method to the ```views.py``` file:"
   ]
  },
  {
   "cell_type": "code",
   "execution_count": null,
   "metadata": {},
   "outputs": [],
   "source": [
    "from django.views import View\n",
    "from django.shortcuts import render\n",
    " \n",
    "# book variable mentioned above can be declared here\n",
    " \n",
    "class MainPageView(View):\n",
    "    def get(self, request, *args, **kwargs):\n",
    "        return render(request, 'book/contents.html', context={'book': book})"
   ]
  },
  {
   "cell_type": "markdown",
   "metadata": {},
   "source": [
    "We call the render function and pass the template path and the context dictionary with the book to it. All the variables from the context dictionary will be available in the template, and we can access them by key from a dictionary.\n",
    "\n",
    "There's also another way. You can declare the book variable inside the MainPageView class. In this case, book will be a class field, so when we want to use the variable, we must add self. before.\n",
    "\n",
    "# TemplateView class\n",
    "In the example above, we've defined the HTTP handler with the get method. This method is idle, as it delegates all the work to the render function. Is there a more straightforward way to write this in the code?\n",
    "\n",
    "You can use one of the built-in Django classes — TemplateView. TemplateView renders a template with the context containing parameters captured in the URL. This class can be used as an HTTP handler or inherited to create a new one.\n",
    "\n",
    "In the following example, we will explore using the TemplateView by creating a single chapter page. First, a new template should be created in the book/templates/book/chapter.html:\n",
    "\n",
    "\n"
   ]
  },
  {
   "cell_type": "code",
   "execution_count": null,
   "metadata": {
    "vscode": {
     "languageId": "html"
    }
   },
   "outputs": [],
   "source": [
    "<h2> Chapter {{ n_chapter }} </h2>\n",
    "<ul>\n",
    "  {{ content }}\n",
    "</ul>"
   ]
  },
  {
   "cell_type": "markdown",
   "metadata": {},
   "source": [
    "In the next step, we are going to make an HTTP handler by creating the new class ChapterView in the ```views.py``` file that inherits from ```TemplateView```. To specify the HTML template path, define the class ```template_name``` property."
   ]
  },
  {
   "cell_type": "code",
   "execution_count": null,
   "metadata": {},
   "outputs": [],
   "source": [
    "from django.views.generic.base import TemplateView\n",
    " \n",
    " \n",
    "class ChapterView(TemplateView):\n",
    "    template_name = 'book/chapter.html'"
   ]
  },
  {
   "cell_type": "markdown",
   "metadata": {},
   "source": [
    "The HTTP handler defined in the example above will automatically render the specified HTML template by providing context containing the chapter number defined in the URL. The context works as a dictionary, as in the previous section. However, the content parameter required for rendering the template is not present in the URL path.\n",
    "\n",
    "To extend the context generated by TemplateView in the background, define the get_context_data method inside the ChapterView class:"
   ]
  },
  {
   "cell_type": "code",
   "execution_count": null,
   "metadata": {},
   "outputs": [],
   "source": [
    "    def get_context_data(self, **kwargs):\n",
    "        context = super().get_context_data(**kwargs) \n",
    "        n_chapter = str(context['n_chapter'])\n",
    "        context['content'] = books['Chapter ' + n_chapter]\n",
    "        return context"
   ]
  },
  {
   "cell_type": "markdown",
   "metadata": {},
   "source": [
    "The super().get_context_data() method retrieves the context created by TemplateView. In the next step, the context is extended with the content parameter, and this context will be used for rendering the template.\n",
    "\n",
    "Defining a correct URL router pattern is the last thing to make the HTTP handler work. ChapterView expects to receive the variable n_chapter as the **kwargs argument of the get_context_data method, so the URL path should contain a path variable named n_chapter of the int type. URL should be placed in the urlpatterns inside the urls.py file:"
   ]
  },
  {
   "cell_type": "code",
   "execution_count": null,
   "metadata": {},
   "outputs": [],
   "source": [
    "path('chapter/<int:n_chapter>', book.views.ChapterView.as_view())"
   ]
  },
  {
   "cell_type": "markdown",
   "metadata": {},
   "source": [
    "You can see the whole code below:\n",
    "\n"
   ]
  },
  {
   "cell_type": "code",
   "execution_count": null,
   "metadata": {},
   "outputs": [],
   "source": [
    "from django.views.generic.base import TemplateView\n",
    " \n",
    "class ChapterView(TemplateView):  # create an HTTP handler\n",
    "    template_name = 'book/chapter.html'  # specify a HTML template\n",
    "\t\n",
    "    def get_context_data(self, **kwargs):\n",
    "        context = super().get_context_data(**kwargs) \n",
    "        # call get_context_data of the parent to add data to the context\n",
    "        n_chapter = str(context['n_chapter'])\n",
    "        context['content'] = books['Chapter ' + n_chapter]\n",
    "        return context  # return the context in which the new data were added"
   ]
  },
  {
   "cell_type": "markdown",
   "metadata": {},
   "source": [
    "the final tree of the app:"
   ]
  },
  {
   "cell_type": "markdown",
   "metadata": {},
   "source": [
    "```\n",
    "booksite\n",
    "├── book\n",
    "│   ├── templates\n",
    "│   │   └── book\n",
    "│   │       ├── contents.html\n",
    "│   │       └── chapter.html\n",
    "│   ├── urls.py\n",
    "│   └── views.py\n",
    "└── booksite\n",
    "    ├── urls.py\n",
    "    └── settings.py\n",
    "```"
   ]
  }
 ],
 "metadata": {
  "language_info": {
   "name": "python"
  }
 },
 "nbformat": 4,
 "nbformat_minor": 2
}
