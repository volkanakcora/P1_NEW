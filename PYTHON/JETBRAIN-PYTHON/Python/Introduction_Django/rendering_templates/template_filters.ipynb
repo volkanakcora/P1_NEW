{
 "cells": [
  {
   "cell_type": "code",
   "execution_count": null,
   "metadata": {},
   "outputs": [],
   "source": [
    "{{ \"Lorem ipsum\"|length }}"
   ]
  },
  {
   "cell_type": "markdown",
   "metadata": {},
   "source": [
    "## Filters with arguments\n",
    "Sometimes we want to make simple math calculations, for example, find the sum of two numbers. The bad news is, you cannot do math in templates with the operators + and - like in Python. The good news is, we can use filters with arguments for this purpose!\n",
    "\n",
    "To add two numbers in a template, add a colon after the filter and pass the second argument to it:"
   ]
  },
  {
   "cell_type": "code",
   "execution_count": null,
   "metadata": {},
   "outputs": [],
   "source": [
    "{{ 100000|add:500 }}"
   ]
  },
  {
   "cell_type": "markdown",
   "metadata": {},
   "source": [
    "# Pipelines\n",
    "One filter is fine but sometimes we need to combine them, just like calling a function from another function. In such situations, we can use pipelines.\n",
    "\n",
    "Pipelines take their name from the use of pipe operators that pass the result of the filter processing through a pipe to the next filter. Using two, three, or four filters isn't too different from using just one because the syntax stays the same, and the outcome of the previous step becomes the input for the next.\n",
    "\n",
    "For example, say we want to show the count of page views to our users. Assuming that something bad may happen and we forget to pass the necessary variable, we use the default value to show at least 0 views and thus make the layout of the page consistent."
   ]
  },
  {
   "cell_type": "code",
   "execution_count": null,
   "metadata": {},
   "outputs": [],
   "source": [
    "{{ counter|default:0|add:1 }}"
   ]
  },
  {
   "cell_type": "markdown",
   "metadata": {},
   "source": [
    "# Example\n",
    "John Doe asked us again to redesign his blog. He wants to see some extra information for every post he made. Here is what John's first post looked like:\n"
   ]
  },
  {
   "cell_type": "code",
   "execution_count": null,
   "metadata": {},
   "outputs": [],
   "source": [
    "import datetime\n",
    "\n",
    "post = {\n",
    "    \"created_at\": datetime.datetime(2019, 5, 20, 14, 15, 43),\n",
    "    \"text\": \"My first post\",\n",
    "    \"comments\": [\n",
    "        \"My congratulations!!\",\n",
    "        \"Looking forward to the second one\",\n",
    "    ],\n",
    "}"
   ]
  },
  {
   "cell_type": "markdown",
   "metadata": {},
   "source": [
    "<html>\n",
    "  <body>\n",
    "    <div>{{ post.text }}</div>\n",
    "    <div>There are {{ post.text.split|length }} words in the post</div>\n",
    "    <div>Created at: {{ post.created_at|date:\"Y.m.d\" }}</div>\n",
    "    <div>Likes: {{ post.likes|default:0|add:1 }}</div>\n",
    "    <div>{{ post.comments|join:\"<br />\" }}</div>\n",
    "  </body>\n",
    "</html>"
   ]
  }
 ],
 "metadata": {
  "language_info": {
   "name": "python"
  }
 },
 "nbformat": 4,
 "nbformat_minor": 2
}
