{
 "cells": [
  {
   "cell_type": "markdown",
   "metadata": {},
   "source": [
    "# Conditions\n",
    "Tags are special constructions embraced in the operators {% and %}. They can help you process parts of your template or include external resources like predefined HTML code or even other templates.\n",
    "\n",
    "With controlling statements, we can choose what we show or do on the page depending on the conditions.\n",
    "\n",
    "Just like in Python, branching in DTL consists of if, elif, and else statements. Curly brackets with the percent sign {% and %} embrace them and all the other tags: tags differ from variables syntactically. All branches start with {% if %} and end with {% endif %} statements.\n",
    "\n",
    "Let's get back to our example: we've notified John that we used his first post as an example for our topic, so he made the following entry with the link to our site. The post's text speaks for itself, so John does not add a theme. He wants to retain the layout of a page, and if there's no theme, the header will be No theme as well:"
   ]
  },
  {
   "cell_type": "code",
   "execution_count": null,
   "metadata": {
    "vscode": {
     "languageId": "html"
    }
   },
   "outputs": [],
   "source": [
    "<html>\n",
    "  <body>\n",
    "    <h3>\n",
    "      {% if post.theme %} \n",
    "          Theme: {{ post.theme }}\n",
    "      {% else %} \n",
    "          No theme\n",
    "      <!-- Without the closing tag the whole expression is not correct -->\n",
    "      {% endif %}\n",
    "    </h3>\n",
    "    <a href=\"https://hyperskill.org\">How to make a post entry with Django</a>\n",
    "  </body>\n",
    "</html>"
   ]
  },
  {
   "cell_type": "markdown",
   "metadata": {},
   "source": [
    "## Loops\n",
    "```html\n",
    "\n",
    "<html>\n",
    "  <body>\n",
    "    {% for comment in post.comments %}\n",
    "      <div>Comment #{{ forloop.counter }}: {{ comment }}</div>\n",
    "    {% endfor %}\n",
    "  </body>\n",
    "</html>\n",
    "```"
   ]
  },
  {
   "cell_type": "markdown",
   "metadata": {},
   "source": [
    "``` jinja2\n",
    "forloop is the context variable provided by Django only as part of a for loop when rendering templates. It provides information about the current iteration of the loop, allowing developers to control logic based on this information.\n",
    "To access the index of the element, use the following:\n",
    "\n",
    "{{ forloop.counter0 }} for zero-based iteration (it means that the indexes take values 0, 1, 2, ...)\n",
    "{{ forloop.counter }} for one-based (the indexes take values 1, 2, 3, ...)"
   ]
  },
  {
   "cell_type": "markdown",
   "metadata": {},
   "source": [
    "# CSRF token\n",
    "To send data to the server, we use HTML forms. Users can send confidential data and make financial transactions through forms, so we should secure the forms from potential spoofing.\n",
    "\n",
    "Let's create a template to add comments to posts. Saving comments in handlers is too much for now, so let's prepare a section that we'll include later when we learn how to process requests on the server:"
   ]
  },
  {
   "cell_type": "markdown",
   "metadata": {},
   "source": [
    "```html\n",
    "<form action=\"/comment/save\" method=\"post\">\n",
    "  {% csrf_token %}\n",
    "  <input name=\"text\">\n",
    "  <input type=\"submit\" value=\"Save\">\n",
    "</form>"
   ]
  }
 ],
 "metadata": {
  "language_info": {
   "name": "python"
  }
 },
 "nbformat": 4,
 "nbformat_minor": 2
}
