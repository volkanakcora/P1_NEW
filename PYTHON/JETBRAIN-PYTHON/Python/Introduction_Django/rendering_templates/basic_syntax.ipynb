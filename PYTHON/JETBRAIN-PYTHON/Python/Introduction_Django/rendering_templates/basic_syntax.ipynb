{
 "cells": [
  {
   "cell_type": "markdown",
   "metadata": {},
   "source": [
    "CSS has its own code rules. The syntax of this language is not complicated: it is a list of parameters responsible for the design of elements on the page.\n",
    "\n",
    "Basic CSS syntax can be schematically described as follows:"
   ]
  },
  {
   "cell_type": "markdown",
   "metadata": {},
   "source": [
    "Static files\n",
    "HTML pages consist of three main parts:\n",
    "\n",
    "HTML layout;\n",
    "CSS;\n",
    "JavaScript code.\n",
    "Defining styles for pages in separate files is convenient to make our templates clear and easy to read. The same applies to JavaScript code. We know how to render templates, but how do we send other types of files to a client?\n",
    "\n",
    "Let's refer to an example. We keep working on John Doe's blog, and this time, we want to add some style to it. Let's define a simple CSS file with just the properties for the h2 elements:"
   ]
  },
  {
   "cell_type": "code",
   "execution_count": null,
   "metadata": {},
   "outputs": [],
   "source": [
    "h2 {\n",
    "  font-size: 24px;\n",
    "  color: gray;\n",
    "}"
   ]
  },
  {
   "cell_type": "markdown",
   "metadata": {},
   "source": [
    "We save it to the file static/css/base.css relative to the project's root. Also, you need to define a template in the blog/templates/blog/index.html file:"
   ]
  },
  {
   "cell_type": "code",
   "execution_count": null,
   "metadata": {},
   "outputs": [],
   "source": [
    "{% load static %}\n",
    "<link rel=\"stylesheet\" href=\"{% static 'css/base.css' %}\">\n",
    "\n",
    "<h2>{{ blog_name }}</h2>\n",
    "<div>{{ post.text }}</div>"
   ]
  },
  {
   "cell_type": "markdown",
   "metadata": {},
   "source": [
    "We use the tag {% load static %} to tell Django that we want to import an additional tag for the templates named static. After that, we use the tag {% static 'css/base.css' %} as a URL to the stylesheet for the page."
   ]
  },
  {
   "cell_type": "markdown",
   "metadata": {},
   "source": [
    "However, if you try to launch the application using this template, nothing will happen to the style of the h2 element. We forgot to tell Django we want to use it to serve static files! Add this to the end of your settings.py module:"
   ]
  },
  {
   "cell_type": "code",
   "execution_count": null,
   "metadata": {},
   "outputs": [],
   "source": [
    "DEBUG = True\n",
    "\n",
    "STATIC_URL = \"/static/\"\n",
    "STATICFILES_DIRS = [os.path.join(BASE_DIR, \"static\")]"
   ]
  },
  {
   "cell_type": "markdown",
   "metadata": {},
   "source": [
    "Extend your urlpatterns in the urls.py module:\n",
    "\n"
   ]
  },
  {
   "cell_type": "code",
   "execution_count": null,
   "metadata": {},
   "outputs": [],
   "source": [
    "from django.conf import settings\n",
    "from django.conf.urls.static import static\n",
    "\n",
    "# your urlpatterns\n",
    "\n",
    "urlpatterns += static(settings.STATIC_URL)"
   ]
  },
  {
   "cell_type": "markdown",
   "metadata": {},
   "source": [
    "Now, you can relaunch the application, and serving static files will work like a charm! Your h2 element will have gray color; if you want to change it, you may refer to the table with other color names supported by major browsers."
   ]
  },
  {
   "cell_type": "markdown",
   "metadata": {},
   "source": [
    "# Media files\n",
    "- Apart from HTML, a page may contain media files like images, videos, and audio files. To keep these files, we use the media folder on the server. It usually includes all users' media content we keep on the server. Adding this path to your project is no more complex than using static files.\n"
   ]
  },
  {
   "cell_type": "markdown",
   "metadata": {},
   "source": [
    "First, we modify our settings.py module:\n",
    "```python\n",
    "DEBUG = True\n",
    "\n",
    "TEMPLATES[0]['OPTIONS']['context_processors'].append(\n",
    "    'django.template.context_processors.media'\n",
    ")\n",
    "\n",
    "MEDIA_URL = \"/media/\"\n",
    "MEDIA_ROOT = os.path.join(BASE_DIR, \"media\")\n",
    "```\n",
    "``` text\n",
    "Then, extend urlpatterns:\n",
    "```\n",
    "``` python\n",
    "from django.conf import settings\n",
    "from django.conf.urls.static import static\n",
    "\n",
    "urlpatterns += static(settings.MEDIA_URL, document_root=settings.MEDIA_ROOT)\n",
    "```\n",
    "\n",
    "Now, create the media folder in the project root and place a picture with the name media/avatar.jpg. Finally, save the new content in your template:\n",
    "``` html\n",
    "<h2>{{ blog_name }}</h2>\n",
    "\n",
    "<div>Here am I</div>\n",
    "<img src=\"{{ MEDIA_URL }}/avatar.jpg\" alt=\"avatar\">\n",
    "\n",
    "<div>{{ post.text }}</div>\n",
    "```\n",
    "That's all! The blog has a nice profile picture of John Doe on the page."
   ]
  }
 ],
 "metadata": {
  "language_info": {
   "name": "python"
  }
 },
 "nbformat": 4,
 "nbformat_minor": 2
}
