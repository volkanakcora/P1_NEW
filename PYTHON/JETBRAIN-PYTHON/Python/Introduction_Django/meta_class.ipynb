{
 "cells": [
  {
   "cell_type": "markdown",
   "metadata": {},
   "source": [
    "# Meta class\n",
    "\n",
    "\n",
    "Sometimes we want to change how our data is stored or how we can access the table. Generally, Django ORM does the heavy lifting, including building tables, naming fields, and data ordering. In Django, we can communicate a database with additional parameters while storing data. This can be done using the optional Meta class."
   ]
  },
  {
   "cell_type": "markdown",
   "metadata": {},
   "source": [
    "## The meta class\n",
    "\n",
    "- In Django, we can create a metadata class that provides additional information about the Model class we have created before. The metadata of the Model class is anything that is not a field. They may include ordering options, naming a database table, giving singular and plural names to the models, and so on. Django provides us with 25 available meta options; two are read-only. Here, we will talk about a few of the most frequently-used Meta options. You can find more about them in the official Django documentation."
   ]
  },
  {
   "cell_type": "code",
   "execution_count": null,
   "metadata": {},
   "outputs": [],
   "source": [
    "from django.db import models\n",
    "class Player(models.Model):\n",
    "    name = models.CharField(max_length=250)\n",
    "    class Meta:\n",
    "        ordering = [\"name\"]\n",
    "        verbose_name_plural = \"players\""
   ]
  },
  {
   "cell_type": "code",
   "execution_count": null,
   "metadata": {},
   "outputs": [],
   "source": [
    "class Car:\n",
    "    ...  \n",
    "    ...\n",
    "    class Meta:\n",
    "        db_table = 'car'"
   ]
  },
  {
   "cell_type": "markdown",
   "metadata": {},
   "source": [
    "By defining db_table, we can name the table as we want, given the details above.\n",
    "\n",
    "Sometimes while writing a model class, we may define it outside of the app listed under INSTALLED_APPS in the settings. In this case, we must declare the model in the app where it belongs. This can be done by adding the app_label option in the meta class.\n",
    "Suppose we have defined the car class used in the previous example in some other app. We must define app_label as:"
   ]
  },
  {
   "cell_type": "code",
   "execution_count": null,
   "metadata": {},
   "outputs": [],
   "source": [
    "class Car:\n",
    "    ...\n",
    "    ...\n",
    "    class Meta:\n",
    "        app_label = 'my_app'"
   ]
  },
  {
   "cell_type": "markdown",
   "metadata": {},
   "source": [
    "Another additional parameter that can be included in the meta class is verbose_name. It provides an everyday-language readable name for the model we define. If our model is CamelCase, it will be converted as Camel Case. This option works most of the time when you want to name the model in a more descriptive or human-readable way. For this, refer to verbose_name:"
   ]
  },
  {
   "cell_type": "code",
   "execution_count": null,
   "metadata": {},
   "outputs": [],
   "source": [
    "class AboutCars:\n",
    "    ...\n",
    "    ...\n",
    "    class Meta:\n",
    "        verbose_name = 'Car'"
   ]
  },
  {
   "cell_type": "markdown",
   "metadata": {},
   "source": [
    "The model name was changed to just Car instead of About Cars.\n",
    "\n"
   ]
  },
  {
   "cell_type": "markdown",
   "metadata": {},
   "source": [
    "Verbose_name_plural has functionality similar to verbose_name. It gives an ordinary-language plural form to the model we've defined. We have defined a model class Child and have registered it in admin.py. If we open our admin panel, we can see the model as Childs. This is the result provided by Django. If verbose_name_plural is not defined, Django, by default, puts it as verbose_name + s. Since Childs is not correct, we can change it by passing the correct plural name in verbose_name_plural:"
   ]
  },
  {
   "cell_type": "code",
   "execution_count": null,
   "metadata": {},
   "outputs": [],
   "source": [
    "class Child:\n",
    "    ...\n",
    "    ...\n",
    "    class Meta:\n",
    "        verbose_name = 'child'\n",
    "        verbose_name_plural = 'children'"
   ]
  },
  {
   "cell_type": "markdown",
   "metadata": {},
   "source": [
    "Sometimes, we need to provide additional permissions to certain users and objects. We can change the permissions option. Permissions to add, change, delete, and view are automatically created for each model:"
   ]
  },
  {
   "cell_type": "code",
   "execution_count": null,
   "metadata": {},
   "outputs": [],
   "source": [
    "class Adult:\n",
    "    ...    \n",
    "    ...\n",
    "    class Meta:\n",
    "        permissions = [('can_work', 'Can work')]"
   ]
  },
  {
   "cell_type": "markdown",
   "metadata": {},
   "source": [
    "This permission option provides the model object Adult with the external permission can_work that has been defined in the project. The permission option is a list of tuple-pairs in the format: permission_code, human_readable_permission_name."
   ]
  },
  {
   "cell_type": "markdown",
   "metadata": {},
   "source": [
    "The default ordering of the objects in the database is usually alphabetical. We can change it by overriding the ordering option in the meta class."
   ]
  },
  {
   "cell_type": "code",
   "execution_count": null,
   "metadata": {},
   "outputs": [],
   "source": [
    "class Adult:\n",
    "    ...   \n",
    "    ...\n",
    "    order_date = models.DateField()\n",
    "    class Meta:\n",
    "        ordering = ['-order_date']"
   ]
  },
  {
   "cell_type": "markdown",
   "metadata": {},
   "source": [
    "- ```db_table``` sets a database table name;\n",
    "\n",
    "- ```app_label``` sets an app label;\n",
    "\n",
    "- ```verbose_name``` outputs an ordinary-language name of a model;\n",
    "\n",
    "- ```verbose_name_plural``` provides a plural name of a model;\n",
    "\n",
    "- ```permissions``` provides permissions to model objects;\n",
    "\n",
    "- ```ordering``` orders model objects."
   ]
  }
 ],
 "metadata": {
  "language_info": {
   "name": "python"
  }
 },
 "nbformat": 4,
 "nbformat_minor": 2
}
