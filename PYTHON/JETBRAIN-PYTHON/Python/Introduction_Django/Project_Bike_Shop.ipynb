{
 "cells": [
  {
   "cell_type": "markdown",
   "metadata": {},
   "source": [
    "# Work on project. Stage 1/5:Creating models"
   ]
  },
  {
   "cell_type": "markdown",
   "metadata": {},
   "source": [
    "Creating models\n",
    "Theory\n",
    "When defining your models in Django, you may want users to select one of the available options. For this, you can use the CharField option.\n",
    "\n",
    "Suppose you must define the Cat model with the predefined options for cat breeds. The code could look as follows:\n",
    "```\n",
    "class Cat(models.Model):\n",
    "\n",
    "    EUROPEAN = 'EU'\n",
    "    PERSIAN = 'PE'\n",
    "    BRITISH = 'BR'\n",
    "    CAT_BREEDS = [\n",
    "        (EUROPEAN, 'European'),\n",
    "        (PERSIAN, 'Persian'),\n",
    "        (BRITISH, 'British'),\n",
    "    ]\n",
    "    name = models.CharField(max_length=255)\n",
    "    breed = models.CharField(max_length=2, choices=CAT_BREEDS, default=EUROPEAN)\n",
    "    age = models.IntegerField()\n",
    "    height = models.FloatField()\n",
    "    weight = models.FloatField()\n",
    "```"
   ]
  },
  {
   "cell_type": "markdown",
   "metadata": {},
   "source": [
    "### Description\n",
    "You run a small bike shop with a few very fancy bike models. You think your shop could benefit from a simple website where your customers could check out the available bikes and order the one that catches their eye. Besides, your employees will appreciate a tool that could help them keep track of the orders and bike parts with the admin panel.\n",
    "\n",
    "Your employees also make custom bikes from various bike parts; some parts can be used for several models, for example, certain tire types, different seats, and frames. Let's start with the website, step by step!\n",
    "\n",
    "### Objectives\n",
    "Let's start with the database by defining data models. Your first task is to create the models and define their relationships.\n",
    "\n",
    "To build a bike, you need a frame, seat, and tires; some bikes have a basket. Further, you need a separate database table where you can store information on the orders of your beloved customers. Your task is to define the following models:\n",
    "\n",
    "- Frame — This model should have two fields: color (CharField) and quantity (IntegerField);\n",
    "\n",
    "- Seat — the same fields as above;\n",
    "\n",
    "- Tire — this model should have two fields: type (CharField) and quantity (IntegerField);\n",
    "\n",
    "- Basket — only one field: quantity (IntegerField) as you're going to use only one type of basket for all bikes;\n",
    "\n",
    "- Bike — this model is linked with the ones above. After all, a bike consists of all these elements; you need three fields that serve as foreign keys to the relevant models: frame, tire, and seat. Make sure you also have the name (CharField), description (TextField), and has_basket (BooleanField);\n",
    "\n",
    "- Order — this model requires fields such as bike (ForeignKey), name, surname, and phone_number — all CharFields. Another field is status. It should be CharField and accept only one letter: either P for \"pending\" or R for \"ready.\"\n",
    "\n",
    "Don't forget to migrate the models to the database!"
   ]
  },
  {
   "cell_type": "code",
   "execution_count": null,
   "metadata": {},
   "outputs": [],
   "source": []
  }
 ],
 "metadata": {
  "language_info": {
   "name": "python"
  }
 },
 "nbformat": 4,
 "nbformat_minor": 2
}
