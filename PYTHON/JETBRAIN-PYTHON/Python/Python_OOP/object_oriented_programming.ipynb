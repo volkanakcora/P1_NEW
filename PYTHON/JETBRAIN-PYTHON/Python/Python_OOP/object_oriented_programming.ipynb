{
 "cells": [
  {
   "cell_type": "markdown",
   "metadata": {},
   "source": [
    "# Fundamentals\n",
    "Object-oriented programming (OOP) is a programming paradigm based on the concept of objects that interact with each other to perform program functions. Each object can be characterized by a state and behavior. An object’s current state is represented by its fields, and an object’s behavior is represented by its methods."
   ]
  },
  {
   "cell_type": "markdown",
   "metadata": {},
   "source": [
    "## Basic principles of OOP\n",
    "\n",
    "There are four basic principles of OOP. They are encapsulation, abstraction, inheritance, and polymorphism.\n",
    "\n",
    "- ```Encapsulation``` ensures bundling (=encapsulating) of data and the methods operating on that data into a single unit. It also refers to the ability of an object to hide the internal structure of its properties and methods.\n",
    "\n",
    "- ```Data abstraction``` means that objects should provide a simplified, abstract version of their implementations\n",
    "\n",
    "- ```Inheritance```  is a mechanism for defining parent-child relationships between classes. Often objects are very similar, so inheritance allows programmers to reuse common logic and at the same time introduce unique concepts into the classes.\n",
    "\n",
    "- ```Polymorphism``` literally means \"having many forms\" and is a concept related to inheritance. It allows programmers to define different implementations for the same method."
   ]
  },
  {
   "cell_type": "markdown",
   "metadata": {},
   "source": [
    "# Objects\n",
    "\n",
    "- The key notion of OOP is, naturally, an object. There are a lot of real-world objects around you: pets, buildings, cars, computers, planes, you name it. Even a computer program may be considered as an object.\n",
    "\n",
    "- It's possible to identify some important characteristics of real-world objects. For instance, for a building, we can consider the number of floors, the year of construction, and the total area. Another example is a plane, which can accommodate a certain number of passengers and transfer you from one city to another. These characteristics constitute the object's attributes and methods. Attributes characterize the states or data of an object, and methods characterize its behavior."
   ]
  },
  {
   "cell_type": "markdown",
   "metadata": {},
   "source": [
    "# Classes\n",
    "\n",
    "- Often, many individual objects have similar characteristics. We can say these objects belong to the same type or class.\n",
    "\n",
    "- A class is another important notion of OOP. A class describes a common structure of similar objects: their fields and methods. It may be considered a template or a blueprint for similar objects. An object is an individual instance of a class.\n",
    "\n",
    "- In accordance with the principle of encapsulation mentioned above, any class should be considered as a black box, that is, the user of the class should see and use only the interface part of the class, namely, the list of declared properties and methods, and should not delve into the internal implementation.\n"
   ]
  },
  {
   "cell_type": "markdown",
   "metadata": {},
   "source": [
    "## Example 1. The building class\n",
    "\n",
    "Each building has the same attributes:\n",
    "\n",
    "- Number of floors (an integer number);\n",
    "\n",
    "- Area (a floating-point number, square meters);\n",
    "\n",
    "- Year of construction (an integer number)."
   ]
  },
  {
   "cell_type": "markdown",
   "metadata": {},
   "source": [
    "For instance:\n",
    "\n",
    "- Building 1: number of floors = 4, area = 2400.16, year of construction = 1966;\n",
    "\n",
    "- Building 2: number of floors = 6, area = 3200.54, year of construction = 2001."
   ]
  },
  {
   "cell_type": "code",
   "execution_count": null,
   "metadata": {},
   "outputs": [],
   "source": []
  }
 ],
 "metadata": {
  "language_info": {
   "name": "python"
  }
 },
 "nbformat": 4,
 "nbformat_minor": 2
}
