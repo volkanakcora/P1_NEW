{
 "cells": [
  {
   "attachments": {},
   "cell_type": "markdown",
   "metadata": {},
   "source": [
    "# Methods and Attributes\n",
    "\n",
    "### 1) \n",
    "Instance attributes are the ones defined within methods so by definition we can create new attributes inside our custom methods. Let's take the class Ship as an example.\n",
    "\n"
   ]
  },
  {
   "cell_type": "code",
   "execution_count": null,
   "metadata": {},
   "outputs": [],
   "source": [
    "class Ship:\n",
    "    def __init__(self, name, capacity):\n",
    "        self.name = name\n",
    "        self.capacity = capacity\n",
    "        self.cargo = 0"
   ]
  },
  {
   "attachments": {},
   "cell_type": "markdown",
   "metadata": {},
   "source": [
    "Every ship needs a captain so let's define a method called name_captain for those purposes:\n",
    "\n"
   ]
  },
  {
   "cell_type": "code",
   "execution_count": null,
   "metadata": {},
   "outputs": [],
   "source": [
    "class Ship:\n",
    "    # constructor\n",
    "    # ...\n",
    "\n",
    "    def name_captain(self, cap):\n",
    "        self.captain = cap\n",
    "        print(\"{} is the captain of the {}\".format(self.captain, self.name))\n"
   ]
  },
  {
   "attachments": {},
   "cell_type": "markdown",
   "metadata": {},
   "source": [
    "When called for the first time, the ```name_captain``` method creates a new attribute called captain and prints the corresponding message. When used next, it just changes the value of the ```self.captain``` attribute (and prints the message as well).\n",
    "\n",
    "To see how it would work, let's create the ship \"Black Pearl\":\n",
    "\n"
   ]
  },
  {
   "cell_type": "code",
   "execution_count": null,
   "metadata": {},
   "outputs": [],
   "source": [
    "black_pearl = Ship(\"Black Pearl\", 800)\n"
   ]
  },
  {
   "attachments": {},
   "cell_type": "markdown",
   "metadata": {},
   "source": [
    "If we tried to print the value of the captain attribute now, we would get an error:\n",
    "\n"
   ]
  },
  {
   "cell_type": "code",
   "execution_count": null,
   "metadata": {},
   "outputs": [],
   "source": [
    "print(black_pearl.captain)  # AttributeError\n",
    "\n"
   ]
  },
  {
   "attachments": {},
   "cell_type": "markdown",
   "metadata": {},
   "source": [
    "This is because this attribute is only created within the name_captain method. If we call it, we will be able to access the attribute captain:"
   ]
  },
  {
   "cell_type": "code",
   "execution_count": null,
   "metadata": {},
   "outputs": [],
   "source": [
    "black_pearl.name_captain(\"Jack Sparrow\")\n",
    "# prints \"Jack Sparrow is the captain of the Black Pearl\"\n",
    "\n",
    "print(black_pearl.captain)  # \"Jack Sparrow\""
   ]
  },
  {
   "attachments": {},
   "cell_type": "markdown",
   "metadata": {},
   "source": [
    "Note that only those instances that have called this method will have the captain attribute. It's an important thing to remember! You may get an error if you try to use the attribute and the method hasn't been called yet."
   ]
  },
  {
   "attachments": {},
   "cell_type": "markdown",
   "metadata": {},
   "source": [
    "To avoid these problems, it is recommended to define all possible attributes in the __init__. This can not only help you avoid AttributeError, but also gives a good understanding of the class and its objects from the get-go. If you do want to create the value for the attribute in a special instance method, then list it in the __init__ as None:"
   ]
  },
  {
   "cell_type": "code",
   "execution_count": null,
   "metadata": {},
   "outputs": [],
   "source": [
    "class Ship:\n",
    "    def __init__(self, name, capacity):\n",
    "        self.name = name\n",
    "        self.capacity = capacity\n",
    "        self.cargo = 0\n",
    "        self.captain = None"
   ]
  },
  {
   "attachments": {},
   "cell_type": "markdown",
   "metadata": {},
   "source": [
    "Then, in the specific method, you simply modify the default value which is what we'll consider in the next section."
   ]
  },
  {
   "attachments": {},
   "cell_type": "markdown",
   "metadata": {},
   "source": [
    "### 2) Modifying attributes with methods\n",
    "Methods can also be used to modify the instance attributes. Take the methods load_cargo and unload_cargo for example:\n",
    "\n"
   ]
  },
  {
   "cell_type": "code",
   "execution_count": null,
   "metadata": {},
   "outputs": [],
   "source": [
    "class Ship:\n",
    "    def __init__(self, name, capacity):\n",
    "        self.name = name\n",
    "        self.capacity = capacity\n",
    "        self.cargo = 0\n",
    "\n",
    "    def load_cargo(self, weight):\n",
    "        if self.cargo + weight <= self.capacity:\n",
    "            self.cargo += weight\n",
    "            print(\"Loaded {} tons\".format(weight))\n",
    "        else:\n",
    "            print(\"Cannot load that much\")\n",
    "\n",
    "    def unload_cargo(self, weight):\n",
    "        if self.cargo - weight >= 0:\n",
    "            self.cargo -= weight\n",
    "            print(\"Unloaded {} tons\".format(weight))\n",
    "        else:\n",
    "            print(\"Cannot unload that much\")"
   ]
  },
  {
   "attachments": {},
   "cell_type": "markdown",
   "metadata": {},
   "source": [
    "Both these methods are supposed to change the value of the attribute cargo if those changes are possible. The load_cargo method first checks that the loading of a particular weight will not exceed the capacity of the ship and the unload_cargo checks that the unloading will not make the weight of the cargo negative. Then they both make the changes or print a message that those changes are impossible."
   ]
  },
  {
   "cell_type": "code",
   "execution_count": null,
   "metadata": {},
   "outputs": [],
   "source": [
    "# example\n",
    "black_pearl.load_cargo(600)\n",
    "# \"Loaded 600 tons\"\n",
    "\n",
    "black_pearl.unload_cargo(400)\n",
    "# \"Unloaded 400 tons\"\n",
    "\n",
    "black_pearl.load_cargo(700)\n",
    "# \"Cannot load that much\"\n",
    "\n",
    "black_pearl.unload_cargo(300)\n",
    "# \"Cannot unload that much\""
   ]
  },
  {
   "attachments": {},
   "cell_type": "markdown",
   "metadata": {},
   "source": [
    "If we wanted to print out the value of cargo after all these manipulations, we would see that it would equal 200 (tons). Because of the restrictions that we placed, only the first callings of load_cargo and unload_cargo made changes to the attribute cargo."
   ]
  },
  {
   "attachments": {},
   "cell_type": "markdown",
   "metadata": {},
   "source": [
    "So far our methods haven't been returning any values since we only used the print() function, but we can make our methods return any type of value that we want. For example, let's create a method that calculates how much more cargo our ship can load."
   ]
  },
  {
   "cell_type": "code",
   "execution_count": null,
   "metadata": {},
   "outputs": [],
   "source": [
    "class Ship:\n",
    "    # all other methods\n",
    "    \n",
    "    def free_space(self):\n",
    "        return self.capacity - self.cargo"
   ]
  },
  {
   "attachments": {},
   "cell_type": "markdown",
   "metadata": {},
   "source": [
    "If we were to call this method on our Black Pearl we wouldn't get any messages, because the method doesn't print anything. But instead, we could use the value it returns in our further calculations. We could, for instance, rewrite the load_cargo method by using thefree_space method:"
   ]
  },
  {
   "cell_type": "code",
   "execution_count": null,
   "metadata": {},
   "outputs": [],
   "source": [
    "class Ship:\n",
    "    # updated load_cargo method\n",
    "    def load_cargo(self, weight):\n",
    "        if weight <= self.free_space():\n",
    "            self.cargo += weight\n",
    "            print(\"Loaded {} tons\".format(weight))\n",
    "        else:\n",
    "            print(\"Cannot load that much\")"
   ]
  },
  {
   "attachments": {},
   "cell_type": "markdown",
   "metadata": {},
   "source": [
    "In this example, we called a method inside another method and used the values in our calculations. Again, we used self to make sure that we only deal with the particular instance of the class Ship and that all calculations concern this instance."
   ]
  },
  {
   "cell_type": "code",
   "execution_count": 6,
   "metadata": {},
   "outputs": [
    {
     "name": "stdout",
     "output_type": "stream",
     "text": [
      "Turning the light on\n",
      "Turning the light off\n",
      "Turning the light on\n",
      "Turning the light off\n"
     ]
    }
   ],
   "source": [
    "class Lightbulb:\n",
    "    def __init__(self):\n",
    "        self.state = \"off\"\n",
    "\n",
    "    # create method change_state here\n",
    "    def change_state(self):\n",
    "        if self.state == \"off\":\n",
    "            self.state = \"on\"\n",
    "            print(\"Turning the light on\")\n",
    "        elif self.state == \"on\":\n",
    "            self.state = \"off\"\n",
    "            print(\"Turning the light off\")\n",
    "lights_up = Lightbulb()\n",
    "lights_up.change_state()\n"
   ]
  }
 ],
 "metadata": {
  "kernelspec": {
   "display_name": "base",
   "language": "python",
   "name": "python3"
  },
  "language_info": {
   "codemirror_mode": {
    "name": "ipython",
    "version": 3
   },
   "file_extension": ".py",
   "mimetype": "text/x-python",
   "name": "python",
   "nbconvert_exporter": "python",
   "pygments_lexer": "ipython3",
   "version": "3.11.4"
  },
  "orig_nbformat": 4
 },
 "nbformat": 4,
 "nbformat_minor": 2
}
