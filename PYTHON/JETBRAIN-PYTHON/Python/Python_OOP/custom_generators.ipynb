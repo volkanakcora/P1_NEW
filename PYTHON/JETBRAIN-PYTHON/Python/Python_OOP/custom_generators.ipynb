{
 "cells": [
  {
   "cell_type": "markdown",
   "metadata": {},
   "source": [
    "# Custom Generators \n",
    "\n",
    "-  Python tool called generator. Its implementation looks quite similar to the things you already know (like function and list comprehension), so it won't be hard to master, but definitely worth it since generators have quite a few tricks up their sleeve you might find very useful in practice. Let's not waste time any more and get to know them better!"
   ]
  },
  {
   "cell_type": "markdown",
   "metadata": {},
   "source": [
    "### Generator functions\n",
    "\n",
    "Imagine that in order to solve some problem, you need to obtain the first few multiples of some number a (for example, the first 4 multiples of 3 are 3, 6, 9, 12, etc.). The most straightforward way to do so is probably to define a function multiples(a,n) as follows:"
   ]
  },
  {
   "cell_type": "code",
   "execution_count": null,
   "metadata": {},
   "outputs": [],
   "source": [
    "def multiples(a, n):\n",
    "    i = 1\n",
    "    result = []\n",
    "    while i <= n:\n",
    "        result.append(a * i)\n",
    "        i += 1\n",
    "    return result\n",
    "\n",
    "\n",
    "print(multiples(3, 5))\n",
    "# Outputs [3, 6, 9, 12, 15]\n",
    "\n",
    "print(multiples(2, 3))\n",
    "# Outputs [2, 4, 6]"
   ]
  },
  {
   "cell_type": "markdown",
   "metadata": {},
   "source": [
    "So, multiples(a,n) collects the first n multiples of a together in a list that is then returned. What are the disadvantages of such an approach?\n",
    "\n",
    "Well, imagine that n is very large. If you get all the values at once, you will need to keep a very large list in memory. Is it necessary? It depends, but definitely not if you are going to use each value just once. Or maybe you don't even know exactly how many multiples you will eventually need, you just need to be able to get them one by one till some event happens."
   ]
  },
  {
   "cell_type": "markdown",
   "metadata": {},
   "source": [
    "For cases like this, ```generator functions``` are very helpful. A custom generator can be declared in the same way as a regular function with a single difference: the return keyword gets replaced with yield."
   ]
  },
  {
   "cell_type": "code",
   "execution_count": null,
   "metadata": {},
   "outputs": [],
   "source": [
    "def multiples(a, n):\n",
    "    i = 1\n",
    "    while i <= n:\n",
    "        yield a*i\n",
    "        i += 1"
   ]
  },
  {
   "cell_type": "markdown",
   "metadata": {},
   "source": [
    "When a regular function is called, Python goes back to its definition, runs the corresponding code with the provided argument values and returns the entire result with the return keyword to where the function is called from.\n",
    "\n",
    "Generator functions, in turn, produce values one at a time, only when they are explicitly asked for a new one, rather than giving them all at once. Calling a generator doesn't immediately execute it. Instead, a generator object is returned that can be iterated over:"
   ]
  },
  {
   "cell_type": "code",
   "execution_count": null,
   "metadata": {},
   "outputs": [],
   "source": [
    "multiples(3, 10)\n",
    "# <generator object multiples at 0x0000023501149048>"
   ]
  },
  {
   "cell_type": "markdown",
   "metadata": {},
   "source": [
    "In order to get the generator function to actually compute its values, we need to explicitly ask for the next value by passing the generator into the next() function. Note that yield actually saves the state of the function, so that each time we ask the generator to produce a new value, execution continues from where it stopped, with the same variable values it had before yielding."
   ]
  },
  {
   "cell_type": "code",
   "execution_count": null,
   "metadata": {},
   "outputs": [],
   "source": [
    "# This is a generator.\n",
    "multiples_of_three = multiples(3,5)\n",
    "\n",
    "# It produces the first 5 multiples of 3 one by one:\n",
    "print(next(multiples_of_three))\n",
    "# 3\n",
    "print(next(multiples_of_three))\n",
    "# 6\n",
    "print(next(multiples_of_three))\n",
    "# 9\n",
    "print(next(multiples_of_three))\n",
    "# 12\n",
    "print(next(multiples_of_three))\n",
    "# 15\n",
    "print(next(multiples_of_three))\n",
    "# Error message: StopIteration "
   ]
  },
  {
   "cell_type": "markdown",
   "metadata": {},
   "source": [
    "### Generator expressions\n",
    "\n",
    "Another way of defining a generator is generator expressions, which are similar to list comprehensions. The only difference in the syntax are the brackets: one should use square brackets [] for list comprehension statements and the round ones () for defining a generator. Compare:"
   ]
  },
  {
   "cell_type": "code",
   "execution_count": null,
   "metadata": {},
   "outputs": [],
   "source": [
    "numbers = [1, 2, 3]\n",
    "\n",
    "my_generator = (n ** 2 for n in numbers)\n",
    "  \n",
    "print(next(my_generator))\n",
    "# Outputs 1\n",
    "\n",
    "print(next(my_generator))\n",
    "# Outputs 4\n",
    "\n",
    "print(next(my_generator))\n",
    "# Outputs 9\n",
    "\n",
    "# This is a list\n",
    "my_list = [n ** 2 for n in numbers]  \n",
    "\n",
    "print(my_list)\n",
    "# Outputs [1, 4, 9]"
   ]
  },
  {
   "cell_type": "markdown",
   "metadata": {},
   "source": [
    "Generator expressions are very convenient to use in a for loop. A new value is automatically generated at each iteration:"
   ]
  },
  {
   "cell_type": "code",
   "execution_count": null,
   "metadata": {},
   "outputs": [],
   "source": [
    "my_generator = (n ** 2 for n in numbers)\n",
    "\n",
    "for n in my_generator:\n",
    "    print(n)\n",
    "\n",
    "# Outputs\n",
    "# 1\n",
    "# 4\n",
    "# 9"
   ]
  }
 ],
 "metadata": {
  "language_info": {
   "name": "python"
  }
 },
 "nbformat": 4,
 "nbformat_minor": 2
}
