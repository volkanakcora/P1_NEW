{
 "cells": [
  {
   "cell_type": "markdown",
   "metadata": {},
   "source": [
    "# Assert statement\n",
    "\n",
    "- Testing exists in a great variety of programming languages, its aim is to check whether your code contains errors and if so, what their causes are. It does not have to be hard, you can start with easy steps. In this topic, we are going to deal with the assert statement. It is a useful debugging tool that uses Boolean logic and checks whether a given expression is true or false. If the condition is True, the program will keep running. Otherwise, it will return the AssertionError."
   ]
  },
  {
   "cell_type": "markdown",
   "metadata": {},
   "source": [
    "### Syntax of assert statements\n"
   ]
  },
  {
   "cell_type": "code",
   "execution_count": null,
   "metadata": {},
   "outputs": [],
   "source": [
    "# 1\n",
    "assert <condition>\n",
    "\n",
    "# 2\n",
    "assert <condition>, <message>"
   ]
  },
  {
   "cell_type": "markdown",
   "metadata": {},
   "source": [
    "The `<condition>` attribute shows what you want to test, so it is always required. When the condition is false, the AssertionError is raised. The optional `<message>` attribute may be used to specify the message displayed with the error. Now let's illustrate assert statements in action."
   ]
  },
  {
   "cell_type": "code",
   "execution_count": null,
   "metadata": {},
   "outputs": [],
   "source": []
  },
  {
   "cell_type": "code",
   "execution_count": 3,
   "metadata": {},
   "outputs": [
    {
     "name": "stdout",
     "output_type": "stream",
     "text": [
      "Your word is volkan\n"
     ]
    },
    {
     "ename": "AssertionError",
     "evalue": "'cat' is the wrong word!",
     "output_type": "error",
     "traceback": [
      "\u001b[0;31m---------------------------------------------------------------------------\u001b[0m",
      "\u001b[0;31mAssertionError\u001b[0m                            Traceback (most recent call last)",
      "Cell \u001b[0;32mIn[3], line 9\u001b[0m\n\u001b[1;32m      7\u001b[0m word \u001b[38;5;241m=\u001b[39m \u001b[38;5;28minput\u001b[39m(\u001b[38;5;124m\"\u001b[39m\u001b[38;5;124mEnter a word: \u001b[39m\u001b[38;5;124m\"\u001b[39m)\n\u001b[1;32m      8\u001b[0m message \u001b[38;5;241m=\u001b[39m \u001b[38;5;124m\"\u001b[39m\u001b[38;5;124m'\u001b[39m\u001b[38;5;124mcat\u001b[39m\u001b[38;5;124m'\u001b[39m\u001b[38;5;124m is the wrong word!\u001b[39m\u001b[38;5;124m\"\u001b[39m\n\u001b[0;32m----> 9\u001b[0m \u001b[38;5;28;01massert\u001b[39;00m word \u001b[38;5;241m!=\u001b[39m \u001b[38;5;124m\"\u001b[39m\u001b[38;5;124mcat\u001b[39m\u001b[38;5;124m\"\u001b[39m, message\n\u001b[1;32m     10\u001b[0m \u001b[38;5;28mprint\u001b[39m(\u001b[38;5;124m\"\u001b[39m\u001b[38;5;124mYour word is\u001b[39m\u001b[38;5;124m\"\u001b[39m, word)\n",
      "\u001b[0;31mAssertionError\u001b[0m: 'cat' is the wrong word!"
     ]
    }
   ],
   "source": [
    "# 1\n",
    "word = input(\"Enter a word: \")\n",
    "assert word != \"cat\"\n",
    "print(\"Your word is\", word)\n",
    "\n",
    "# 2\n",
    "word = input(\"Enter a word: \")\n",
    "message = \"'cat' is the wrong word!\"\n",
    "assert word != \"cat\", message\n",
    "print(\"Your word is\", word)"
   ]
  },
  {
   "cell_type": "markdown",
   "metadata": {},
   "source": [
    "For instance, if you enter the word dog in both examples, the condition word != 'cat' will be True, and you will have the following output\n",
    "\n",
    "`# Your word is dog`"
   ]
  },
  {
   "cell_type": "markdown",
   "metadata": {},
   "source": [
    "However, if you happen to enter cat, the AssertionError will be raised. In the second case, an error message will also appear."
   ]
  },
  {
   "cell_type": "code",
   "execution_count": 4,
   "metadata": {},
   "outputs": [
    {
     "ename": "AssertionError",
     "evalue": "'cat' is the wrong word!",
     "output_type": "error",
     "traceback": [
      "\u001b[0;31m---------------------------------------------------------------------------\u001b[0m",
      "\u001b[0;31mAssertionError\u001b[0m                            Traceback (most recent call last)",
      "Cell \u001b[0;32mIn[4], line 3\u001b[0m\n\u001b[1;32m      1\u001b[0m word \u001b[38;5;241m=\u001b[39m \u001b[38;5;28minput\u001b[39m(\u001b[38;5;124m\"\u001b[39m\u001b[38;5;124mEnter a word: \u001b[39m\u001b[38;5;124m\"\u001b[39m)\n\u001b[1;32m      2\u001b[0m message \u001b[38;5;241m=\u001b[39m \u001b[38;5;124m\"\u001b[39m\u001b[38;5;124m'\u001b[39m\u001b[38;5;124mcat\u001b[39m\u001b[38;5;124m'\u001b[39m\u001b[38;5;124m is the wrong word!\u001b[39m\u001b[38;5;124m\"\u001b[39m\n\u001b[0;32m----> 3\u001b[0m \u001b[38;5;28;01massert\u001b[39;00m word \u001b[38;5;241m!=\u001b[39m \u001b[38;5;124m\"\u001b[39m\u001b[38;5;124mcat\u001b[39m\u001b[38;5;124m\"\u001b[39m, message\n\u001b[1;32m      4\u001b[0m \u001b[38;5;28mprint\u001b[39m(\u001b[38;5;124m\"\u001b[39m\u001b[38;5;124mYour word is\u001b[39m\u001b[38;5;124m\"\u001b[39m, word)\n",
      "\u001b[0;31mAssertionError\u001b[0m: 'cat' is the wrong word!"
     ]
    }
   ],
   "source": [
    "word = input(\"Enter a word: \")\n",
    "message = \"'cat' is the wrong word!\"\n",
    "assert word != \"cat\", message\n",
    "print(\"Your word is\", word)"
   ]
  },
  {
   "cell_type": "markdown",
   "metadata": {},
   "source": [
    "As you can see, the AssertionError is a built-in error, so you can handle it with the try-except block, i.e. print the message without stopping the program."
   ]
  },
  {
   "cell_type": "code",
   "execution_count": 3,
   "metadata": {},
   "outputs": [
    {
     "name": "stdout",
     "output_type": "stream",
     "text": [
      "'cat' is a wrong word!\n"
     ]
    }
   ],
   "source": [
    "try:\n",
    "    word = input(\"Enter a word: \")\n",
    "    message = \"'cat' is a wrong word!\"\n",
    "    assert word != \"cat\", message\n",
    "    print(\"Your word is\", word)\n",
    "except AssertionError as err:\n",
    "    print(err)  # if the word is 'cat', \"'cat' is a wrong word!\" is printed"
   ]
  },
  {
   "cell_type": "markdown",
   "metadata": {},
   "source": [
    "We can also check several variables or use more sophisticated logical expressions with the help of the assert keyword:"
   ]
  },
  {
   "cell_type": "code",
   "execution_count": 8,
   "metadata": {},
   "outputs": [
    {
     "ename": "AssertionError",
     "evalue": "There are wrong values!",
     "output_type": "error",
     "traceback": [
      "\u001b[0;31m---------------------------------------------------------------------------\u001b[0m",
      "\u001b[0;31mAssertionError\u001b[0m                            Traceback (most recent call last)",
      "Cell \u001b[0;32mIn[8], line 3\u001b[0m\n\u001b[1;32m      1\u001b[0m x \u001b[38;5;241m=\u001b[39m \u001b[38;5;241m4\u001b[39m\n\u001b[1;32m      2\u001b[0m y \u001b[38;5;241m=\u001b[39m \u001b[38;5;241m2\u001b[39m\n\u001b[0;32m----> 3\u001b[0m \u001b[38;5;28;01massert\u001b[39;00m (x \u001b[38;5;241m*\u001b[39m\u001b[38;5;241m*\u001b[39m \u001b[38;5;241m2\u001b[39m \u001b[38;5;241m/\u001b[39m y \u001b[38;5;241m*\u001b[39m\u001b[38;5;241m*\u001b[39m \u001b[38;5;241m2\u001b[39m) \u001b[38;5;241m-\u001b[39m y \u001b[38;5;241m!=\u001b[39m \u001b[38;5;241m2\u001b[39m, \u001b[38;5;124m\"\u001b[39m\u001b[38;5;124mThere are wrong values!\u001b[39m\u001b[38;5;124m\"\u001b[39m\n\u001b[1;32m      4\u001b[0m \u001b[38;5;28mprint\u001b[39m(x, y)\n\u001b[1;32m      5\u001b[0m \u001b[38;5;66;03m# Traceback (most recent call last):\u001b[39;00m\n\u001b[1;32m      6\u001b[0m \u001b[38;5;66;03m#   File \"main.py\", line 3, in \u001b[39;00m\n\u001b[1;32m      7\u001b[0m \u001b[38;5;66;03m#     assert (x ** 2 / y ** 2) - y != 2, \"There are wrong values!\"\u001b[39;00m\n\u001b[1;32m      8\u001b[0m \u001b[38;5;66;03m# AssertionError: There are wrong values\u001b[39;00m\n",
      "\u001b[0;31mAssertionError\u001b[0m: There are wrong values!"
     ]
    }
   ],
   "source": [
    "x = 4\n",
    "y = 2\n",
    "assert (x ** 2 / y ** 2) - y != 2, \"There are wrong values!\"\n",
    "print(x, y)\n",
    "# Traceback (most recent call last):\n",
    "#   File \"main.py\", line 3, in \n",
    "#     assert (x ** 2 / y ** 2) - y != 2, \"There are wrong values!\"\n",
    "# AssertionError: There are wrong values"
   ]
  },
  {
   "cell_type": "markdown",
   "metadata": {},
   "source": [
    "Finally, the assert keyword can be used with functions. In the example below the AssertionError is raised when the parameter 2 given to the function does not fulfill the condition in the test_mark(i)."
   ]
  },
  {
   "cell_type": "code",
   "execution_count": 9,
   "metadata": {},
   "outputs": [
    {
     "name": "stdout",
     "output_type": "stream",
     "text": [
      "5\n"
     ]
    },
    {
     "ename": "AssertionError",
     "evalue": "This student got a bad mark!",
     "output_type": "error",
     "traceback": [
      "\u001b[0;31m---------------------------------------------------------------------------\u001b[0m",
      "\u001b[0;31mAssertionError\u001b[0m                            Traceback (most recent call last)",
      "Cell \u001b[0;32mIn[9], line 8\u001b[0m\n\u001b[1;32m      4\u001b[0m     \u001b[38;5;28;01mreturn\u001b[39;00m i\n\u001b[1;32m      7\u001b[0m \u001b[38;5;28mprint\u001b[39m(test_mark(\u001b[38;5;241m5\u001b[39m))  \u001b[38;5;66;03m# 5\u001b[39;00m\n\u001b[0;32m----> 8\u001b[0m \u001b[38;5;28mprint\u001b[39m(\u001b[43mtest_mark\u001b[49m\u001b[43m(\u001b[49m\u001b[38;5;241;43m2\u001b[39;49m\u001b[43m)\u001b[49m)\n\u001b[1;32m      9\u001b[0m \u001b[38;5;66;03m# Traceback (most recent call last):\u001b[39;00m\n\u001b[1;32m     10\u001b[0m \u001b[38;5;66;03m#   File \"main.py\", line 7, in \u001b[39;00m\n\u001b[1;32m     11\u001b[0m \u001b[38;5;66;03m#     print(test_mark(i))\u001b[39;00m\n\u001b[1;32m     12\u001b[0m \u001b[38;5;66;03m#   File \"main.py\", line 3, in test_mark\u001b[39;00m\n\u001b[1;32m     13\u001b[0m \u001b[38;5;66;03m#     assert i > 4, message\u001b[39;00m\n\u001b[1;32m     14\u001b[0m \u001b[38;5;66;03m# AssertionError: This student got a bad mark!\u001b[39;00m\n",
      "Cell \u001b[0;32mIn[9], line 3\u001b[0m, in \u001b[0;36mtest_mark\u001b[0;34m(i)\u001b[0m\n\u001b[1;32m      1\u001b[0m \u001b[38;5;28;01mdef\u001b[39;00m \u001b[38;5;21mtest_mark\u001b[39m(i):\n\u001b[1;32m      2\u001b[0m     message \u001b[38;5;241m=\u001b[39m \u001b[38;5;124m\"\u001b[39m\u001b[38;5;124mThis student got a bad mark!\u001b[39m\u001b[38;5;124m\"\u001b[39m\n\u001b[0;32m----> 3\u001b[0m     \u001b[38;5;28;01massert\u001b[39;00m i \u001b[38;5;241m>\u001b[39m \u001b[38;5;241m4\u001b[39m, message\n\u001b[1;32m      4\u001b[0m     \u001b[38;5;28;01mreturn\u001b[39;00m i\n",
      "\u001b[0;31mAssertionError\u001b[0m: This student got a bad mark!"
     ]
    }
   ],
   "source": [
    "def test_mark(i):\n",
    "    message = \"This student got a bad mark!\"\n",
    "    assert i > 4, message\n",
    "    return i\n",
    "\n",
    "\n",
    "print(test_mark(5))  # 5\n",
    "print(test_mark(2))\n",
    "# Traceback (most recent call last):\n",
    "#   File \"main.py\", line 7, in \n",
    "#     print(test_mark(i))\n",
    "#   File \"main.py\", line 3, in test_mark\n",
    "#     assert i > 4, message\n",
    "# AssertionError: This student got a bad mark!"
   ]
  },
  {
   "cell_type": "markdown",
   "metadata": {},
   "source": [
    "## Assert vs Raise\n",
    "\n",
    "You may have noticed that raise and assert are similar to each other. What is the actual difference between them?\n",
    "\n",
    "raise is used for raising an exception;\n",
    "\n",
    "assert is used for raising an exception if the given condition is False.\n",
    "\n",
    "- Let's analyze some examples:"
   ]
  },
  {
   "cell_type": "code",
   "execution_count": 2,
   "metadata": {},
   "outputs": [
    {
     "name": "stdout",
     "output_type": "stream",
     "text": [
      "volkan\n"
     ]
    }
   ],
   "source": [
    "word = input(\"Enter a word: \")\n",
    "if word != \"cat\":\n",
    "    print(word)\n",
    "else:\n",
    "    raise Exception(\"There is a wrong word!\")"
   ]
  },
  {
   "cell_type": "markdown",
   "metadata": {},
   "source": [
    "As you can see, the `raise` keyword together with the `if-else` statement is very similar to the `assert` keyword, but their purposes are different. In the first case, raise is used mainly for data validation, it allows you to customize exceptions and raise errors of your choice, while assert is mainly used for debugging, e. g., to stop the execution based on a certain condition and return a message that will help debug faster."
   ]
  },
  {
   "cell_type": "markdown",
   "metadata": {},
   "source": [
    "The Python documentation (the Assert Statement paragraph) also provides an explanation of how the assert keyword works. The first example shows raising the error without a message and the second one — with the message."
   ]
  },
  {
   "cell_type": "code",
   "execution_count": null,
   "metadata": {},
   "outputs": [],
   "source": [
    "# 1\n",
    "if __debug__:\n",
    "   if not condition: \n",
    "       raise AssertionError\n",
    "\n",
    "# 2\n",
    "if __debug__:\n",
    "   if not condition: \n",
    "       raise AssertionError(message)"
   ]
  },
  {
   "cell_type": "code",
   "execution_count": 4,
   "metadata": {},
   "outputs": [
    {
     "name": "stdout",
     "output_type": "stream",
     "text": [
      "Your number is 8.0\n"
     ]
    }
   ],
   "source": [
    "x = int(input(\"Enter the first number: \"))\n",
    "y = int(input(\"Enter the second number: \"))\n",
    "d = x / y\n",
    "assert d > 5, \"Your number is less than 5 or equal to 5!\"\n",
    "assert d < 14, \"Your number is more than 14 or equal to 14!\"\n",
    "print(\"Your number is\", d)"
   ]
  },
  {
   "cell_type": "code",
   "execution_count": 19,
   "metadata": {},
   "outputs": [
    {
     "ename": "AssertionError",
     "evalue": "Try again!",
     "output_type": "error",
     "traceback": [
      "\u001b[0;31m---------------------------------------------------------------------------\u001b[0m",
      "\u001b[0;31mAssertionError\u001b[0m                            Traceback (most recent call last)",
      "Cell \u001b[0;32mIn[19], line 9\u001b[0m\n\u001b[1;32m      5\u001b[0m     \u001b[38;5;28;01massert\u001b[39;00m \u001b[38;5;124m\"\u001b[39m\u001b[38;5;124m@\u001b[39m\u001b[38;5;124m\"\u001b[39m \u001b[38;5;129;01min\u001b[39;00m address, \u001b[38;5;124m'\u001b[39m\u001b[38;5;124mTry again!\u001b[39m\u001b[38;5;124m'\u001b[39m\n\u001b[1;32m      6\u001b[0m     \u001b[38;5;28;01mreturn\u001b[39;00m \u001b[38;5;124m'\u001b[39m\u001b[38;5;124mDone!\u001b[39m\u001b[38;5;124m'\u001b[39m\n\u001b[0;32m----> 9\u001b[0m \u001b[43mcheck_email\u001b[49m\u001b[43m(\u001b[49m\u001b[43memail\u001b[49m\u001b[43m)\u001b[49m\n",
      "Cell \u001b[0;32mIn[19], line 5\u001b[0m, in \u001b[0;36mcheck_email\u001b[0;34m(address)\u001b[0m\n\u001b[1;32m      4\u001b[0m \u001b[38;5;28;01mdef\u001b[39;00m \u001b[38;5;21mcheck_email\u001b[39m(address):\n\u001b[0;32m----> 5\u001b[0m     \u001b[38;5;28;01massert\u001b[39;00m \u001b[38;5;124m\"\u001b[39m\u001b[38;5;124m@\u001b[39m\u001b[38;5;124m\"\u001b[39m \u001b[38;5;129;01min\u001b[39;00m address, \u001b[38;5;124m'\u001b[39m\u001b[38;5;124mTry again!\u001b[39m\u001b[38;5;124m'\u001b[39m\n\u001b[1;32m      6\u001b[0m     \u001b[38;5;28;01mreturn\u001b[39;00m \u001b[38;5;124m'\u001b[39m\u001b[38;5;124mDone!\u001b[39m\u001b[38;5;124m'\u001b[39m\n",
      "\u001b[0;31mAssertionError\u001b[0m: Try again!"
     ]
    }
   ],
   "source": [
    "email = input()\n",
    "\n",
    "\n",
    "def check_email(address):\n",
    "    assert \"@\" in address, 'Try again!'\n",
    "    return 'Done!'\n",
    "\n",
    "assert '@' in address, \"Try again!\"\n",
    "check_email(email)"
   ]
  }
 ],
 "metadata": {
  "kernelspec": {
   "display_name": "base",
   "language": "python",
   "name": "python3"
  },
  "language_info": {
   "codemirror_mode": {
    "name": "ipython",
    "version": 3
   },
   "file_extension": ".py",
   "mimetype": "text/x-python",
   "name": "python",
   "nbconvert_exporter": "python",
   "pygments_lexer": "ipython3",
   "version": "3.11.5"
  }
 },
 "nbformat": 4,
 "nbformat_minor": 2
}
