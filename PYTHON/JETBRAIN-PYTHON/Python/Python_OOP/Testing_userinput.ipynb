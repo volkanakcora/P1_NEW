{
 "cells": [
  {
   "cell_type": "code",
   "execution_count": null,
   "metadata": {},
   "outputs": [],
   "source": [
    "def check(x):\n",
    "    if 25 < x < 50:\n",
    "        print(x, \"is the right number!\")\n",
    "    else:\n",
    "        print(x, \"is the wrong number!\")\n",
    "\n",
    "\n",
    "your_int = int(input(\"Enter an integer number between 25 and 50: \"))\n",
    "check(your_int)"
   ]
  },
  {
   "cell_type": "markdown",
   "metadata": {},
   "source": [
    "## Try-except block to deal with exceptions\n"
   ]
  },
  {
   "cell_type": "code",
   "execution_count": null,
   "metadata": {},
   "outputs": [],
   "source": [
    "def check(x):\n",
    "    if 25 < x < 50:\n",
    "        print(x, \"is the right number!\")\n",
    "    else:\n",
    "        print(x, \"is the wrong number!\")\n",
    "\n",
    "\n",
    "try:\n",
    "    your_int = int(input(\"Enter an integer number between 25 and 50: \"))\n",
    "    check(your_int)\n",
    "except ValueError:\n",
    "    print(\"Your input is not an integer!\")"
   ]
  },
  {
   "cell_type": "markdown",
   "metadata": {},
   "source": [
    "## While loop for continuous input request\n"
   ]
  },
  {
   "cell_type": "code",
   "execution_count": null,
   "metadata": {},
   "outputs": [],
   "source": [
    "def check_input():\n",
    "    while True:\n",
    "        try:\n",
    "            your_int = int(input(\"Enter an integer number between 25 and 50 (inclusively): \"))\n",
    "            if 25 <= your_int <= 50:  # border values are now included\n",
    "                print(your_int, \"is the right number!\")\n",
    "                break\n",
    "            else:\n",
    "                print(your_int, \"is the wrong number! Try again!\")\n",
    "        except ValueError:\n",
    "            print(\"Your input is not an integer! Try again!\")"
   ]
  },
  {
   "cell_type": "markdown",
   "metadata": {},
   "source": [
    "- str.islower()\tTrue if there are only symbols of the lower case in the string.\n",
    "- str.isupper()\tTrue if there are only symbols of the upper case in the string.\n",
    "- str.isalpha()\tTrue if the string consists only of letters (upper/lower case).\n",
    "- str.isdigit()\tTrue if the string consists only of digits.\n",
    "- str.isnumeric()\t\n",
    "\n",
    "\n",
    "True if the string consists of digits and characters that have features of Unicode digits (their Numeric_Type feature is set to Digit, Decimal, or Numeric). For instance, the fraction ⅝ is a symbol of Unicode, meanwhile the string \"5/8\" contains three symbols. The second example will return False as there is a slash, whose type is not the Numeric_Type.\n",
    "\n",
    "- str.isalnum()\tTrue if the string consists only of digits and letters (upper/lower case)."
   ]
  },
  {
   "cell_type": "markdown",
   "metadata": {},
   "source": [
    "Now let's look at an example. There is a function below that takes a string and checks if it is a name; it should contain only letters, start with a capital letter, and the rest of the letters should be lowercase. These conditions are very simple and may not identify all names correctly, but you can still see how the string methods work:"
   ]
  },
  {
   "cell_type": "code",
   "execution_count": null,
   "metadata": {},
   "outputs": [],
   "source": [
    "def check_name(x):\n",
    "    if x.isalpha() and x[0].isupper() and x[1:].islower():\n",
    "        print(\"The name is\", x)\n",
    "    else:\n",
    "        print(x, \"is not a name!\")\n",
    "\n",
    "\n",
    "name = input(\"Enter a name: \")\n",
    "check_name(name)"
   ]
  }
 ],
 "metadata": {
  "language_info": {
   "name": "python"
  }
 },
 "nbformat": 4,
 "nbformat_minor": 2
}
