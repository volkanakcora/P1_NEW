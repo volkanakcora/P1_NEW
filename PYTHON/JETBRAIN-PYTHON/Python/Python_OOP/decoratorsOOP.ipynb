{
 "cells": [
  {
   "cell_type": "markdown",
   "metadata": {},
   "source": [
    "## @staticmethod\n",
    "- The @staticmethod decorator can be used to bind a function to a class as its method. In the following example, we have the CharType class and the method to get the type of character:\n"
   ]
  },
  {
   "cell_type": "code",
   "execution_count": 1,
   "metadata": {},
   "outputs": [
    {
     "name": "stdout",
     "output_type": "stream",
     "text": [
      "letter\n",
      "digit\n"
     ]
    }
   ],
   "source": [
    "class CharType(object):\n",
    "\n",
    "    @staticmethod\n",
    "    def get_type(char):\n",
    "        if char.isalpha():\n",
    "            return 'letter'\n",
    "        elif char.isdigit():\n",
    "            return 'digit'\n",
    "        else:\n",
    "            return 'other'\n",
    "\n",
    "\n",
    "print(CharType.get_type('a'))    # letter\n",
    "print(CharType().get_type('1'))  # digit"
   ]
  },
  {
   "cell_type": "markdown",
   "metadata": {},
   "source": [
    "As you can see, we may access the static method without creating an instance of the class first. Of course, we can extend the functionality by adding other methods which will interact with the static methods within the class.\n",
    "\n",
    "Note that such static methods do not have any mandatory parameters; in contrast to instance methods we have dealt with before, the functions decorated with the @staticmethod decorator do not take self as the first argument; nor do they accept the cls argument, as opposed to class methods you will read about below. Even though a static method belongs to a class and all its instances, it does not get any access to instance internals. This method is used for a matter of convenience or to make a better design for the code."
   ]
  },
  {
   "cell_type": "markdown",
   "metadata": {},
   "source": [
    "## @classmethod\n",
    "- Now, let's move on to the @classmethod decorator. As you know, a \"regular\" method takes an instance of the class as its first argument and then we use self to refer to it. Class methods, on the contrary, do not require particular class instances; they have access only to general class attributes and properties. Because of this, their first parameter should always be cls, which represents the class itself, and not the class instance, denoted by self."
   ]
  },
  {
   "cell_type": "markdown",
   "metadata": {},
   "source": [
    "In the following example, we have the class User and a single string, containing both a name and a surname. Now, we need to process the string to receive the name and the surname as two separate string variables. We are going to do it with the help of the from_string method."
   ]
  },
  {
   "cell_type": "code",
   "execution_count": null,
   "metadata": {},
   "outputs": [],
   "source": [
    "class User(object):\n",
    "\n",
    "    def __init__(self, name, surname):\n",
    "        self.name = name\n",
    "        self.surname = surname\n",
    "\n",
    "    def get_info(self):\n",
    "        return self.name + ' (' + self.surname + ')'\n",
    "\n",
    "    @classmethod\n",
    "    def from_string(cls, data):\n",
    "        name, surname = data.split(' ')\n",
    "        return cls(name, surname)  # passing the string values to the initialization call\n",
    "\n",
    "\n",
    "user = User.from_string('Santa Claus')  # using the class name to call the method\n",
    "print(user.get_info())  # Santa (Claus)"
   ]
  },
  {
   "cell_type": "markdown",
   "metadata": {},
   "source": [
    "As you can see, class methods are used when we do not need attributes of specific instances but want to use the class information for some purpose."
   ]
  },
  {
   "cell_type": "markdown",
   "metadata": {},
   "source": [
    "## @classmethod vs @staticmethod\n",
    "- To make it clearer, let's outline the main differences between static and class methods:\n",
    "\n",
    "- Static methods have neither cls nor self as their parameters, so we cannot operate on the class or particular instances within the method. In general, they act similarly to functions outside the class and are often used as utility methods.\n",
    "- Class methods always take the class as the first argument, usually called cls. They are frequently used as alternative constructors that create class objects for various use cases."
   ]
  },
  {
   "cell_type": "markdown",
   "metadata": {},
   "source": [
    "## @property\n",
    "Finally, let's create a basic example of the @property decorator usage. This one is designed to access a method as if it was an attribute of a class. Once again, we have an instance of the User class:\n",
    "\n"
   ]
  },
  {
   "cell_type": "code",
   "execution_count": null,
   "metadata": {},
   "outputs": [],
   "source": [
    "class User:\n",
    "    def __init__(self, name, surname):\n",
    "        self.name = name\n",
    "        self.surname = surname\n",
    "        self.full_name = self.name + ' ' + self.surname\n",
    "\n",
    "\n",
    "user = User('Santa', 'Claus')\n",
    "print(user.full_name)  # Santa Claus\n",
    "\n"
   ]
  },
  {
   "cell_type": "markdown",
   "metadata": {},
   "source": [
    "When we change the name of the user to 'Father', we notice that the full_name attribute of our object remains the same. It happens because we have only set it during the initialization."
   ]
  },
  {
   "cell_type": "code",
   "execution_count": null,
   "metadata": {},
   "outputs": [],
   "source": [
    "user.name = 'Father'\n",
    "\n",
    "print(user.name)  # Father\n",
    "print(user.full_name)  # Santa Claus"
   ]
  },
  {
   "cell_type": "markdown",
   "metadata": {},
   "source": [
    "It is a perfect case to use the @property decorator! If we define full_name using the decorator, we will evaluate the method every time it is accessed as an attribute."
   ]
  },
  {
   "cell_type": "code",
   "execution_count": null,
   "metadata": {},
   "outputs": [],
   "source": [
    "class User:\n",
    "    def __init__(self, name, surname):\n",
    "        self.name = name\n",
    "        self.surname = surname\n",
    "\n",
    "    @property\n",
    "    def full_name(self):\n",
    "        return self.name + ' ' + self.surname\n",
    "\n",
    "\n",
    "user = User('Santa', 'Claus')\n",
    "print(user.full_name)  # Santa Claus\n",
    "\n",
    "user.name = 'Father'\n",
    "print(user.name)  # Father\n",
    "print(user.full_name)  # Father Claus\n",
    "\n",
    "#class"
   ]
  }
 ],
 "metadata": {
  "kernelspec": {
   "display_name": "base",
   "language": "python",
   "name": "python3"
  },
  "language_info": {
   "codemirror_mode": {
    "name": "ipython",
    "version": 3
   },
   "file_extension": ".py",
   "mimetype": "text/x-python",
   "name": "python",
   "nbconvert_exporter": "python",
   "pygments_lexer": "ipython3",
   "version": "3.11.5"
  }
 },
 "nbformat": 4,
 "nbformat_minor": 2
}
