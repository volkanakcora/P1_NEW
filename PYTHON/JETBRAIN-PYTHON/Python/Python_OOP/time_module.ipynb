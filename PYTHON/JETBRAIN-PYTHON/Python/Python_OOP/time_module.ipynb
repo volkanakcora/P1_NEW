{
 "cells": [
  {
   "cell_type": "markdown",
   "metadata": {},
   "source": [
    "## What time is it?\n"
   ]
  },
  {
   "cell_type": "code",
   "execution_count": 1,
   "metadata": {},
   "outputs": [
    {
     "name": "stdout",
     "output_type": "stream",
     "text": [
      "It's time.struct_time(tm_year=2023, tm_mon=12, tm_mday=29, tm_hour=12, tm_min=45, tm_sec=48, tm_wday=4, tm_yday=363, tm_isdst=0). Time to feed the cat.\n"
     ]
    }
   ],
   "source": [
    "import time\n",
    "\n",
    "current_time = time.gmtime()\n",
    "action = \"to feed the cat\"\n",
    "\n",
    "print(f\"It's {current_time}. Time {action}.\")"
   ]
  },
  {
   "cell_type": "code",
   "execution_count": 2,
   "metadata": {},
   "outputs": [
    {
     "name": "stdout",
     "output_type": "stream",
     "text": [
      "It's Fri Dec 29 12:46:31 2023. Time to feed the cat.\n"
     ]
    }
   ],
   "source": [
    "current_time = time.asctime(time.gmtime())  # first option\n",
    "\n",
    "print(f\"It's {current_time}. Time {action}.\")\n",
    "# It's Wed Sep 16 13:34:11 2020. Time to feed the cat."
   ]
  },
  {
   "cell_type": "markdown",
   "metadata": {},
   "source": [
    "Or we can use the strftime() function which also returns a string, but it can be used to specify the output format with the directives. For example, %H is used for hours, %M – for minutes and %S – for seconds."
   ]
  },
  {
   "cell_type": "code",
   "execution_count": 3,
   "metadata": {},
   "outputs": [
    {
     "name": "stdout",
     "output_type": "stream",
     "text": [
      "It's 12:46. Time to feed the cat.\n"
     ]
    }
   ],
   "source": [
    "current_time = time.strftime(\"%H:%M\", time.gmtime())  # second option\n",
    "\n",
    "print(f\"It's {current_time}. Time {action}.\")\n",
    "# It's 13:36. Time to feed the cat."
   ]
  },
  {
   "cell_type": "code",
   "execution_count": 4,
   "metadata": {},
   "outputs": [
    {
     "name": "stdout",
     "output_type": "stream",
     "text": [
      "time.struct_time(tm_year=1970, tm_mon=1, tm_mday=1, tm_hour=0, tm_min=0, tm_sec=0, tm_wday=3, tm_yday=1, tm_isdst=0)\n"
     ]
    }
   ],
   "source": [
    "import time\n",
    "\n",
    "epoch_start = time.gmtime(0)\n",
    "print(epoch_start)\n"
   ]
  },
  {
   "cell_type": "code",
   "execution_count": 5,
   "metadata": {},
   "outputs": [
    {
     "name": "stdout",
     "output_type": "stream",
     "text": [
      "I'm the first sentence.\n",
      "And I'm the second sentence.\n"
     ]
    }
   ],
   "source": [
    "import time\n",
    "\n",
    "sent_1 = \"I'm the first sentence.\"\n",
    "print(sent_1)\n",
    "\n",
    "# write your code here\n",
    "time.sleep(10)\n",
    "sent_2 = \"And I'm the second sentence.\"\n",
    "print(sent_2)\n"
   ]
  }
 ],
 "metadata": {
  "kernelspec": {
   "display_name": "Python 3",
   "language": "python",
   "name": "python3"
  },
  "language_info": {
   "codemirror_mode": {
    "name": "ipython",
    "version": 3
   },
   "file_extension": ".py",
   "mimetype": "text/x-python",
   "name": "python",
   "nbconvert_exporter": "python",
   "pygments_lexer": "ipython3",
   "version": "3.11.5"
  }
 },
 "nbformat": 4,
 "nbformat_minor": 2
}
