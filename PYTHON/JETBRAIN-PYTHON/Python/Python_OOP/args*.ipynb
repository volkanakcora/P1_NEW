{
 "cells": [
  {
   "cell_type": "markdown",
   "metadata": {},
   "source": [
    "# Multiple positional arguments\n"
   ]
  },
  {
   "cell_type": "code",
   "execution_count": 2,
   "metadata": {},
   "outputs": [
    {
     "data": {
      "text/plain": [
       "15"
      ]
     },
     "execution_count": 2,
     "metadata": {},
     "output_type": "execute_result"
    }
   ],
   "source": [
    "def add(a, b, *args):\n",
    "    total = a + b\n",
    "    for n in args:\n",
    "        total += n\n",
    "    return total\n",
    "\n",
    "add(1,2,3,4,5)"
   ]
  },
  {
   "cell_type": "code",
   "execution_count": 4,
   "metadata": {},
   "outputs": [
    {
     "name": "stdout",
     "output_type": "stream",
     "text": [
      "Will Daenerys Targaryen survive?\n",
      "Will Arya Stark survive?\n",
      "Will Brienne of Tarth survive?\n",
      "Will Kaan survive?\n"
     ]
    }
   ],
   "source": [
    "def will_survive(*names):\n",
    "    for name in names:\n",
    "        print(\"Will\", name, \"survive?\")\n",
    "\n",
    "\n",
    "will_survive(\"Daenerys Targaryen\", \"Arya Stark\", \"Brienne of Tarth\", \"Kaan\")"
   ]
  },
  {
   "cell_type": "markdown",
   "metadata": {},
   "source": [
    "The parameters that come after *args are keyword-only. It means that they can only be used as keywords rather than positional arguments."
   ]
  },
  {
   "cell_type": "code",
   "execution_count": 5,
   "metadata": {},
   "outputs": [
    {
     "name": "stdout",
     "output_type": "stream",
     "text": [
      "meat or fish\n",
      "meat and fish\n"
     ]
    }
   ],
   "source": [
    "def recipe(*args, sep=\" or \"):\n",
    "    return sep.join(args)\n",
    "\n",
    "\n",
    "print(recipe(\"meat\", \"fish\"))               # meat or fish\n",
    "print(recipe(\"meat\", \"fish\", sep=\" and \"))  # meat and fish"
   ]
  },
  {
   "cell_type": "markdown",
   "metadata": {},
   "source": [
    "# Unpacking in function calls\n"
   ]
  },
  {
   "cell_type": "code",
   "execution_count": null,
   "metadata": {},
   "outputs": [],
   "source": [
    "print(*\"fun\")        # f u n\n",
    "print(*[5, 10, 15])  # 5 10 15"
   ]
  },
  {
   "cell_type": "markdown",
   "metadata": {},
   "source": [
    "This code will be equivalent to a call where elements are listed one by one: print(\"f\", \"u\", \"n\") and print(5, 10, 15) respectively. Unpacking just takes less of your time.\n",
    "\n",
    "Combined with *args in our slightly modified function add(), unpacking takes away the concern for the number of values both in the function's body and upcoming calls."
   ]
  },
  {
   "cell_type": "code",
   "execution_count": 10,
   "metadata": {},
   "outputs": [
    {
     "name": "stdout",
     "output_type": "stream",
     "text": [
      "10\n",
      "11111110\n"
     ]
    }
   ],
   "source": [
    "def add(*args):\n",
    "    total = 0\n",
    "    for n in args:\n",
    "        total += n\n",
    "    return total\n",
    "\n",
    "\n",
    "small_numbers = [1, 2, 3, 4]\n",
    "large_numbers = [9999999, 1111111]\n",
    "\n",
    "print(add(*small_numbers))  # 6\n",
    "print(add(*large_numbers))  # 11111110"
   ]
  },
  {
   "cell_type": "code",
   "execution_count": null,
   "metadata": {},
   "outputs": [],
   "source": [
    "def average_mark(*marks):\n",
    "    return round(sum(marks) / len(marks), 1)\n",
    "\n",
    "# Example usage:\n",
    "result = average_mark(3, 4, 5, 3)\n",
    "print(result)  # Should print 3.8\n"
   ]
  },
  {
   "cell_type": "code",
   "execution_count": null,
   "metadata": {},
   "outputs": [],
   "source": [
    "def sq_sum(*args):\n",
    "    return sum(x ** 2 for x in args)\n",
    "\n",
    "# Example usage:\n",
    "print(sq_sum(1, 2, 2, 4))  # Should print 25.0\n",
    "print(sq_sum(1.5))         # Should print 2.25\n",
    "print(sq_sum(1, 10, 10))   # Should print 201.0\n"
   ]
  },
  {
   "cell_type": "code",
   "execution_count": null,
   "metadata": {},
   "outputs": [],
   "source": [
    "def multiply(*numbers):\n",
    "    result = 1\n",
    "    for num in numbers:\n",
    "        result *= num\n",
    "    return result"
   ]
  }
 ],
 "metadata": {
  "kernelspec": {
   "display_name": "Python 3",
   "language": "python",
   "name": "python3"
  },
  "language_info": {
   "codemirror_mode": {
    "name": "ipython",
    "version": 3
   },
   "file_extension": ".py",
   "mimetype": "text/x-python",
   "name": "python",
   "nbconvert_exporter": "python",
   "pygments_lexer": "ipython3",
   "version": "3.11.5"
  }
 },
 "nbformat": 4,
 "nbformat_minor": 2
}
