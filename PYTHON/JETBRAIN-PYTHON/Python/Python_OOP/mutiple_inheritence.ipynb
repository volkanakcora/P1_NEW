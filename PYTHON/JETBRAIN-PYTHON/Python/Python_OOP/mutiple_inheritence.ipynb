{
 "cells": [
  {
   "cell_type": "markdown",
   "metadata": {},
   "source": [
    "# Multiple inheritance\n",
    "\n",
    "- By now, you are familiar with the mechanism of inheritance. Now it's time to go deeper and gain insight into multiple inheritance. Multiple inheritance is when a class has two or more parent classes. We will see how it is implemented, what benefits it gives us, and what problems may arise.\n",
    "\n",
    "- In code, multiple inheritance looks similar to single inheritance. Only now, in brackets after the child class, you need to write all parent classes instead of just one:"
   ]
  },
  {
   "cell_type": "code",
   "execution_count": null,
   "metadata": {},
   "outputs": [],
   "source": [
    "class ParentClass1:\n",
    "    ...\n",
    "\n",
    "\n",
    "class ParentClass2:\n",
    "    ...\n",
    "\n",
    "\n",
    "class ParentClass3:\n",
    "    ...\n",
    "\n",
    "# Class definition with multiple inheritance\n",
    "class ChildClass(ParentClass1, ParentClass2, ParentClass3):\n",
    "    ..."
   ]
  },
  {
   "cell_type": "code",
   "execution_count": 7,
   "metadata": {},
   "outputs": [
    {
     "data": {
      "text/html": [
       "<img src=\"Capture.PNG\" width=\"700\" height=\"600\"/>"
      ],
      "text/plain": [
       "<IPython.core.display.Image object>"
      ]
     },
     "execution_count": 7,
     "metadata": {},
     "output_type": "execute_result"
    }
   ],
   "source": [
    " \n",
    "# import image module \n",
    "from IPython.display import Image \n",
    "  \n",
    "# get the image \n",
    "Image(url=\"Capture.PNG\", width=700, height=600) "
   ]
  },
  {
   "cell_type": "markdown",
   "metadata": {},
   "source": [
    "As you can see, there are a basic parent class Person and classes Student and Programmer that inherit from it. The class StudentProgrammer, in its turn, inherits from both Student and Programmer classes, which makes it a case of multiple inheritance. This way, we can say that StudentProgrammer has two parent classes, Student and Programmer, while Person can be regarded as a \"grandparent\" class.\n",
    "\n",
    "Here's how the basic code for this hierarchy looks:"
   ]
  },
  {
   "cell_type": "code",
   "execution_count": null,
   "metadata": {},
   "outputs": [],
   "source": [
    "class Person:\n",
    "    ...\n",
    "\n",
    "\n",
    "class Student(Person):\n",
    "    ...\n",
    "\n",
    "\n",
    "class Programmer(Person):\n",
    "    ...\n",
    "\n",
    "\n",
    "class StudentProgrammer(Student, Programmer):\n",
    "    ..."
   ]
  },
  {
   "cell_type": "markdown",
   "metadata": {},
   "source": [
    "## The diamond problem\n",
    "\n",
    "- As you remember, classes inherit methods and attributes from their parents. If inheritance is simple, everything is clear and straightforward. However, when we deal with multiple inheritance, things are bound to get a little bit more complicated.\n",
    "\n",
    "- So, we have a class hierarchy with one superclass, two classes that inherit from it, and a class that has those child classes as parents. As you can see from the hierarchy scheme above, the whole structure is shaped like a diamond, which is where the name of the issue comes from (not the Rihanna song, unfortunately).\n",
    "\n",
    "Let's add some methods to classes to see where the problems lie."
   ]
  },
  {
   "cell_type": "code",
   "execution_count": 16,
   "metadata": {},
   "outputs": [],
   "source": [
    "class Person:\n",
    "    def print_message(self):\n",
    "        print(\"Message from Person\")\n",
    "\n",
    "\n",
    "class Student(Person):\n",
    "    def print_message(self):\n",
    "        print(\"Message from Student\")\n",
    "\n",
    "\n",
    "class Programmer(Person):\n",
    "    def print_message(self):\n",
    "        print(\"Message from Programmer\")\n",
    "\n",
    "\n",
    "class StudentProgrammer(Student, Programmer):\n",
    "    ...\n",
    "\n",
    "sut = StudentProgrammer()"
   ]
  },
  {
   "cell_type": "markdown",
   "metadata": {},
   "source": [
    "The class Person has a method print_message, which classes Student and Programmer override to print their own messages. The class StudentProgrammer doesn't override this method.\n",
    "\n",
    "The question is, then: if we create an instance of the class StudentProgrammer and call the print_message method, which message will be printed?"
   ]
  },
  {
   "cell_type": "markdown",
   "metadata": {},
   "source": [
    "# MRO  Method Resolution Order (MRO).\n",
    "\n",
    "- Different programming languages use different techniques for dealing with the diamond problem. Basically, what we need to do is to somehow transform the diamond shape (or any complicated hierarchy) into a single line so that we know in which order to look for the necessary method. Python uses the C3 Linearization algorithm that calculates the Method Resolution Order (MRO).\n",
    "\n",
    "- MRO tells us how the particular class hierarchy looks in a linear form and how we should navigate this hierarchy. Two basic rules are that child classes precede parent classes and parent classes are placed in the order they were listed in.\n",
    "\n",
    "- Each class has a __mro__ attribute (inherited from object) that contains the parent classes in the MRO. Let's print this attribute of the StudentProgrammer class and see what we'll get:\n"
   ]
  },
  {
   "cell_type": "code",
   "execution_count": 20,
   "metadata": {},
   "outputs": [
    {
     "name": "stdout",
     "output_type": "stream",
     "text": [
      "(<class '__main__.StudentProgrammer'>, <class '__main__.Student'>, <class '__main__.Programmer'>, <class '__main__.Person'>, <class 'object'>)\n"
     ]
    }
   ],
   "source": [
    "print(StudentProgrammer.__mro__)"
   ]
  },
  {
   "cell_type": "markdown",
   "metadata": {},
   "source": [
    "You can see that according to MRO, the immediate parent of the class StudentProgrammer is Student. It means that if we call print_method, the version from the class Student will be implemented."
   ]
  },
  {
   "cell_type": "code",
   "execution_count": 21,
   "metadata": {},
   "outputs": [
    {
     "name": "stdout",
     "output_type": "stream",
     "text": [
      "Message from Student\n"
     ]
    }
   ],
   "source": [
    "jack = StudentProgrammer()\n",
    "jack.print_message()  # Message from Student"
   ]
  },
  {
   "cell_type": "markdown",
   "metadata": {},
   "source": [
    "Note that the MRO looks like this because, in the definition of the class StudentProgrammer, the class Student precedes Programmer. If the situation was reversed, the output of the code snippet above would be Message from Programmer."
   ]
  },
  {
   "cell_type": "markdown",
   "metadata": {},
   "source": [
    "## super() with multiple inheritance\n",
    "\n",
    "- By now, you already know how the super() function is used in single inheritance. However, it truly shines when we have to deal with multiple inheritance, especially the diamond problem. The super() function uses MRO to call the method and get an attribute of the immediate parent class. You don't need to analyze the hierarchy and figure out the parent class yourself, the super() function will do it for you.\n",
    "\n",
    "- Let's modify our classes by adding the super() calls to the print_message methods.\n",
    "\n"
   ]
  },
  {
   "cell_type": "code",
   "execution_count": 22,
   "metadata": {},
   "outputs": [],
   "source": [
    "class Person:\n",
    "    def print_message(self):\n",
    "        print(\"Message from Person\")\n",
    "\n",
    "\n",
    "class Student(Person):\n",
    "    def print_message(self):\n",
    "        print(\"Message from Student\")\n",
    "        super().print_message()\n",
    "\n",
    "\n",
    "class Programmer(Person):\n",
    "    def print_message(self):\n",
    "        print(\"Message from Programmer\")\n",
    "        super().print_message()\n",
    "\n",
    "\n",
    "class StudentProgrammer(Student, Programmer):\n",
    "    def print_message(self):\n",
    "        super().print_message()"
   ]
  },
  {
   "cell_type": "code",
   "execution_count": 24,
   "metadata": {},
   "outputs": [
    {
     "name": "stdout",
     "output_type": "stream",
     "text": [
      "Message from Student\n",
      "Message from Programmer\n",
      "Message from Person\n"
     ]
    }
   ],
   "source": [
    "StudentProgrammer().print_message()"
   ]
  },
  {
   "cell_type": "markdown",
   "metadata": {},
   "source": [
    "Each class (except Person) now calls the method of the parent class after printing its own message. Now if we call this method for StudentProgrammer class we'll see the following:"
   ]
  },
  {
   "cell_type": "code",
   "execution_count": 25,
   "metadata": {},
   "outputs": [
    {
     "name": "stdout",
     "output_type": "stream",
     "text": [
      "Message from Student\n",
      "Message from Programmer\n",
      "Message from Person\n"
     ]
    }
   ],
   "source": [
    "jack = StudentProgrammer()\n",
    "jack.print_message()\n",
    "# Message from Student\n",
    "# Message from Programmer\n",
    "# Message from Person"
   ]
  },
  {
   "cell_type": "code",
   "execution_count": 29,
   "metadata": {},
   "outputs": [
    {
     "name": "stdout",
     "output_type": "stream",
     "text": [
      "I am a robot\n",
      "I am a personal assistant\n",
      "I am an android\n"
     ]
    }
   ],
   "source": [
    "class Robot:\n",
    "    def greet(self):\n",
    "        print(\"I am a robot\")\n",
    "\n",
    "\n",
    "class Android(Robot):\n",
    "    def greet(self):\n",
    "        super().greet()\n",
    "        print(\"I am an android\")\n",
    "\n",
    "\n",
    "class PersonalAssistant(Robot):\n",
    "    def greet(self):\n",
    "        super().greet()\n",
    "        print(\"I am a personal assistant\")\n",
    "\n",
    "\n",
    "class AssistantAndroid(Android, PersonalAssistant):\n",
    "    def greet(self):\n",
    "        super().greet()\n",
    "\n",
    "try1 = AssistantAndroid()\n",
    "\n",
    "try1.greet()"
   ]
  },
  {
   "cell_type": "markdown",
   "metadata": {},
   "source": [
    "# PraCtice"
   ]
  },
  {
   "cell_type": "markdown",
   "metadata": {},
   "source": [
    "1) Reverse engineering\n",
    "\n",
    "Imagine that you need to create a program representing a class hierarchy.\n",
    "\n",
    "This class hierarchy concerns different types of cars. You know that the class Vehicle is the base class. There are two classes, LandVehicle and WaterVehicle , that inherit from the class Vehicle.\n",
    "\n",
    "There is also a class CarBoat and its MRO looks like this:\n",
    "\n",
    "`(<class '__main__.CarBoat'>, <class '__main__.Car'>, <class '__main__.LandVehicle'>, <class '__main__.Boat'>, <class '__main__.WaterVehicle'>, <class '__main__.Vehicle'>, <class 'object'>)`\n",
    "\n",
    "As you can see, there are two additional classes, Car and Boat. Your task is to figure out where these classes fit into the hierarchy using the information about MRO and general logic and then program this hierarchy. You don't need to define any methods in the classes.\n",
    "\n",
    "Tip: The class CarBoat directly inherits from classes Car and Boat."
   ]
  },
  {
   "cell_type": "code",
   "execution_count": 36,
   "metadata": {},
   "outputs": [],
   "source": [
    "class Car:\n",
    "    pass\n",
    "\n",
    "class Boat:\n",
    "    pass\n",
    "\n",
    "class CarBoat(Car, Boat):\n",
    "    pass\n",
    "\n",
    "class WaterVehicle(CarBoat, Boat):\n",
    "    pass\n",
    "\n",
    "class LandVehicle(CarBoat, Car):\n",
    "    pass\n",
    "\n",
    "class Vehicle(LandVehicle, WaterVehicle):\n",
    "    pass"
   ]
  },
  {
   "cell_type": "code",
   "execution_count": 40,
   "metadata": {},
   "outputs": [
    {
     "data": {
      "text/plain": [
       "(__main__.CarBoat,\n",
       " __main__.Car,\n",
       " __main__.LandVehicle,\n",
       " __main__.Boat,\n",
       " __main__.WaterVehicle,\n",
       " __main__.Vehicle,\n",
       " object)"
      ]
     },
     "execution_count": 40,
     "metadata": {},
     "output_type": "execute_result"
    }
   ],
   "source": [
    "CarBoat.__mro__"
   ]
  },
  {
   "cell_type": "code",
   "execution_count": 38,
   "metadata": {},
   "outputs": [],
   "source": [
    "class Vehicle:\n",
    "    pass\n",
    "class LandVehicle(Vehicle):\n",
    "    pass\n",
    "class WaterVehicle(Vehicle):\n",
    "    pass\n",
    "class Car(LandVehicle):\n",
    "    pass\n",
    "class Boat(WaterVehicle):\n",
    "    pass\n",
    "class CarBoat(Car, Boat):\n",
    "    pass"
   ]
  },
  {
   "cell_type": "code",
   "execution_count": 41,
   "metadata": {},
   "outputs": [],
   "source": [
    "class Alert:\n",
    "    def __init__(self, id):\n",
    "        self.id = id\n",
    "\n",
    "    def get_message(self):\n",
    "        print(\"Alert {}\".format(self.id))\n",
    "\n",
    "\n",
    "class Warning(Alert):\n",
    "    def get_message(self):\n",
    "        print(\"Warning {}\".format(self.id))\n",
    "\n",
    "\n",
    "class Error(Alert):\n",
    "    def get_message(self):\n",
    "        print(\"Error {}\".format(self.id))\n",
    "\n",
    "\n",
    "class WarningError(Error, Warning):\n",
    "    pass"
   ]
  },
  {
   "cell_type": "code",
   "execution_count": 45,
   "metadata": {},
   "outputs": [
    {
     "name": "stdout",
     "output_type": "stream",
     "text": [
      "Error 8\n"
     ]
    }
   ],
   "source": [
    "warn_error8 = WarningError(8)\n",
    "warn_error8.get_message()"
   ]
  },
  {
   "cell_type": "code",
   "execution_count": 48,
   "metadata": {},
   "outputs": [],
   "source": [
    "class Animal:\n",
    "    pass\n",
    "\n",
    "\n",
    "class FlyingAnimal(Animal):\n",
    "    pass\n",
    "\n",
    "\n",
    "class SwimmingAnimal(Animal):\n",
    "    pass\n",
    "\n",
    "class WalkingAnimal(Animal):\n",
    "    pass\n",
    "\n",
    "\n",
    "class Duck(FlyingAnimal, SwimmingAnimal, WalkingAnimal):\n",
    "    pass"
   ]
  },
  {
   "cell_type": "code",
   "execution_count": null,
   "metadata": {},
   "outputs": [],
   "source": []
  }
 ],
 "metadata": {
  "kernelspec": {
   "display_name": "base",
   "language": "python",
   "name": "python3"
  },
  "language_info": {
   "codemirror_mode": {
    "name": "ipython",
    "version": 3
   },
   "file_extension": ".py",
   "mimetype": "text/x-python",
   "name": "python",
   "nbconvert_exporter": "python",
   "pygments_lexer": "ipython3",
   "version": "3.11.5"
  }
 },
 "nbformat": 4,
 "nbformat_minor": 2
}
