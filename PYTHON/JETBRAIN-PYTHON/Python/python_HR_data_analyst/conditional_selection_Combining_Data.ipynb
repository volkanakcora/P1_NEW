{
 "cells": [
  {
   "cell_type": "markdown",
   "metadata": {},
   "source": [
    "# Conditional selection"
   ]
  },
  {
   "cell_type": "markdown",
   "metadata": {},
   "source": [
    "df[df['height'] < 1.8], but we don't need to do it here, as the column name doesn't contain any whitespaces.\n",
    "\n",
    "If we need to combine several conditions, we use the following Boolean operators:\n",
    "\n",
    "- `&` for \"and\"\n",
    "- `|` (vertical line) for \"or\"\n",
    "- `~` for \"not\"\n",
    "- `>, <, >=, <=, ==, !=` for statement comparing.\n",
    "\n",
    "Please, don't forget about the parentheses:\n",
    "\n",
    "df[(df.first_name == 'Michael') & (df.birthday == '17.02.1963')]"
   ]
  },
  {
   "cell_type": "code",
   "execution_count": null,
   "metadata": {},
   "outputs": [],
   "source": [
    "df[((df.first_name == 'Michael') | (df.first_name == 'John'))\n",
    "   & (df.height >= 1.8)\n",
    "   & (df.last_name != 'Jordan')]"
   ]
  },
  {
   "cell_type": "markdown",
   "metadata": {},
   "source": [
    "If we want to make our filtering exclusive, in other words, to select everything except the indicated parameters, we can add a tilde character ~ and extra parenthesis:"
   ]
  },
  {
   "cell_type": "code",
   "execution_count": null,
   "metadata": {},
   "outputs": [],
   "source": [
    "df[~(((df.first_name == 'Michael') | (df.first_name == 'John'))\n",
    "   & (df.height >= 1.8)\n",
    "   & (df.last_name != 'Jordan'))]"
   ]
  },
  {
   "cell_type": "code",
   "execution_count": 8,
   "metadata": {},
   "outputs": [
    {
     "data": {
      "text/html": [
       "<div>\n",
       "<style scoped>\n",
       "    .dataframe tbody tr th:only-of-type {\n",
       "        vertical-align: middle;\n",
       "    }\n",
       "\n",
       "    .dataframe tbody tr th {\n",
       "        vertical-align: top;\n",
       "    }\n",
       "\n",
       "    .dataframe thead th {\n",
       "        text-align: right;\n",
       "    }\n",
       "</style>\n",
       "<table border=\"1\" class=\"dataframe\">\n",
       "  <thead>\n",
       "    <tr style=\"text-align: right;\">\n",
       "      <th></th>\n",
       "      <th>artist</th>\n",
       "      <th>song</th>\n",
       "    </tr>\n",
       "  </thead>\n",
       "  <tbody>\n",
       "    <tr>\n",
       "      <th>5</th>\n",
       "      <td>Tones And I</td>\n",
       "      <td>Dance Monkey</td>\n",
       "    </tr>\n",
       "    <tr>\n",
       "      <th>6</th>\n",
       "      <td>Future &amp; Drake</td>\n",
       "      <td>Life Is Good</td>\n",
       "    </tr>\n",
       "    <tr>\n",
       "      <th>7</th>\n",
       "      <td>Lewis Capaldi</td>\n",
       "      <td>Before You Go</td>\n",
       "    </tr>\n",
       "  </tbody>\n",
       "</table>\n",
       "</div>"
      ],
      "text/plain": [
       "           artist           song\n",
       "5     Tones And I   Dance Monkey\n",
       "6  Future & Drake   Life Is Good\n",
       "7   Lewis Capaldi  Before You Go"
      ]
     },
     "execution_count": 8,
     "metadata": {},
     "output_type": "execute_result"
    }
   ],
   "source": [
    "import pandas as pd\n",
    "\n",
    "chart_dict = {\"artist\": {0: \"The Weeknd\", 1: \"Dua Lipa\", 2: \"Roddy Ricch\", 3: \"Post Malone\", 4: \"Harry Styles\", 5: \"Tones And I\", 6: \"Future & Drake\", 7: \"Lewis Capaldi\"}, \"song\": {0: \"Blinding Lights\", 1: \"Don't Start Now\", 2: \"The Box\", 3: \"Circles\", 4: \"Adore You\", 5: \"Dance Monkey\", 6: \"Life Is Good\", 7: \"Before You Go\"}, \"peak_us\": {0: 1, 1: 2, 2: 1, 3: 1, 4: 6, 5: 4, 6: 2, 7: 9}, \"peak_uk\": {0: \"1\", 1: \"3\", 2: \"2\", 3: \"19\", 4: \"7\", 5: \"-\", 6: \"3\", 7: \"1\"}, \"peak_de\": {0: \"1\", 1: \"10\", 2: \"12\", 3: \"37\", 4: \"83\", 5: \"1\", 6: \"8\", 7: \"42\"}, \"peak_fr\": {0: \"1\", 1: \"12\", 2: \"7\", 3: \"77\", 4: \"126\", 5: \"3\", 6: \"33\", 7: \"49\"}, \"peak_ca\": {0: 1, 1: 3, 2: 1, 3: 3, 4: 10, 5: 1, 6: 3, 7: 16}, \"result_place\": {0: 1, 1: 2, 2: 3, 3: 4, 4: 5, 5: 6, 6: 7, 7: 8}}\n",
    "\n",
    "chart2020 = pd.DataFrame(chart_dict)\n",
    "\n",
    "# your code here\n",
    "df = chart2020[[\"artist\",\"song\"]]\n",
    "df.tail(3)"
   ]
  },
  {
   "cell_type": "markdown",
   "metadata": {},
   "source": [
    "# Combining Data in Pandas\n",
    "\n",
    "-  pandas suggests several ways to do it. In this topic, you will learn how to join DataFrame and Series objects using the concat() and merge() functions."
   ]
  },
  {
   "cell_type": "markdown",
   "metadata": {},
   "source": [
    " ## Concatenating objects\n",
    "\n",
    "- The concat() function is used to concatenate or glue multiple objects together along a horizontal or vertical axis. To do so, we need to pass multiple Series or DataFrame objects as arguments to the function. But first, we will create two DataFrame instances — the tables that store students' names and their results after running distances of 100 meters and 2 kilometers respectively:"
   ]
  },
  {
   "cell_type": "code",
   "execution_count": 4,
   "metadata": {},
   "outputs": [
    {
     "data": {
      "text/html": [
       "<div>\n",
       "<style scoped>\n",
       "    .dataframe tbody tr th:only-of-type {\n",
       "        vertical-align: middle;\n",
       "    }\n",
       "\n",
       "    .dataframe tbody tr th {\n",
       "        vertical-align: top;\n",
       "    }\n",
       "\n",
       "    .dataframe thead th {\n",
       "        text-align: right;\n",
       "    }\n",
       "</style>\n",
       "<table border=\"1\" class=\"dataframe\">\n",
       "  <thead>\n",
       "    <tr style=\"text-align: right;\">\n",
       "      <th></th>\n",
       "      <th>Name</th>\n",
       "      <th>100m (sec.)</th>\n",
       "      <th>2km (min., sec.)</th>\n",
       "      <th>Name</th>\n",
       "      <th>100m (sec.)</th>\n",
       "      <th>2km (min., sec.)</th>\n",
       "    </tr>\n",
       "  </thead>\n",
       "  <tbody>\n",
       "    <tr>\n",
       "      <th>1</th>\n",
       "      <td>Ann</td>\n",
       "      <td>16.3</td>\n",
       "      <td>9,24</td>\n",
       "      <td>Alicia</td>\n",
       "      <td>17.8</td>\n",
       "      <td>9,02</td>\n",
       "    </tr>\n",
       "    <tr>\n",
       "      <th>2</th>\n",
       "      <td>Kate</td>\n",
       "      <td>17.1</td>\n",
       "      <td>9,45</td>\n",
       "      <td>Ella</td>\n",
       "      <td>17.0</td>\n",
       "      <td>8,58</td>\n",
       "    </tr>\n",
       "    <tr>\n",
       "      <th>3</th>\n",
       "      <td>George</td>\n",
       "      <td>14.8</td>\n",
       "      <td>9,17</td>\n",
       "      <td>James</td>\n",
       "      <td>15.0</td>\n",
       "      <td>7,58</td>\n",
       "    </tr>\n",
       "    <tr>\n",
       "      <th>4</th>\n",
       "      <td>Eric</td>\n",
       "      <td>14.3</td>\n",
       "      <td>8,14</td>\n",
       "      <td>NaN</td>\n",
       "      <td>NaN</td>\n",
       "      <td>NaN</td>\n",
       "    </tr>\n",
       "    <tr>\n",
       "      <th>0</th>\n",
       "      <td>NaN</td>\n",
       "      <td>NaN</td>\n",
       "      <td>NaN</td>\n",
       "      <td>Jack</td>\n",
       "      <td>15.9</td>\n",
       "      <td>8,18</td>\n",
       "    </tr>\n",
       "  </tbody>\n",
       "</table>\n",
       "</div>"
      ],
      "text/plain": [
       "     Name 100m (sec.) 2km (min., sec.)    Name 100m (sec.) 2km (min., sec.)\n",
       "1     Ann        16.3             9,24  Alicia        17.8             9,02\n",
       "2    Kate        17.1             9,45    Ella        17.0             8,58\n",
       "3  George        14.8             9,17   James        15.0             7,58\n",
       "4    Eric        14.3             8,14     NaN         NaN              NaN\n",
       "0     NaN         NaN              NaN    Jack        15.9             8,18"
      ]
     },
     "execution_count": 4,
     "metadata": {},
     "output_type": "execute_result"
    }
   ],
   "source": [
    "import pandas as pd \n",
    "junior_class = pd.DataFrame({'Name': ['Ann', 'Kate', 'George', 'Eric'],\n",
    "                             '100m (sec.)': ['16.3', '17.1', '14.8', '14.3'],\n",
    "                             '2km (min., sec.)': ['9,24', '9,45', '9,17', '8,14']},\n",
    "                            index=[1, 2, 3, 4])\n",
    "senior_class = pd.DataFrame({'Name': ['Jack', 'Alicia', 'Ella', 'James'],\n",
    "                             '100m (sec.)': ['15.9', '17.8', '17.0', '15.0'],\n",
    "                             '2km (min., sec.)': ['8,18', '9,02', '8,58', '7,58']})\n",
    "\n",
    "pd.concat([junior_class, senior_class])"
   ]
  },
  {
   "cell_type": "code",
   "execution_count": 5,
   "metadata": {},
   "outputs": [
    {
     "data": {
      "text/html": [
       "<div>\n",
       "<style scoped>\n",
       "    .dataframe tbody tr th:only-of-type {\n",
       "        vertical-align: middle;\n",
       "    }\n",
       "\n",
       "    .dataframe tbody tr th {\n",
       "        vertical-align: top;\n",
       "    }\n",
       "\n",
       "    .dataframe thead th {\n",
       "        text-align: right;\n",
       "    }\n",
       "</style>\n",
       "<table border=\"1\" class=\"dataframe\">\n",
       "  <thead>\n",
       "    <tr style=\"text-align: right;\">\n",
       "      <th></th>\n",
       "      <th>Name</th>\n",
       "      <th>100m (sec.)</th>\n",
       "      <th>2km (min., sec.)</th>\n",
       "      <th>Name</th>\n",
       "      <th>100m (sec.)</th>\n",
       "      <th>2km (min., sec.)</th>\n",
       "    </tr>\n",
       "  </thead>\n",
       "  <tbody>\n",
       "    <tr>\n",
       "      <th>1</th>\n",
       "      <td>Ann</td>\n",
       "      <td>16.3</td>\n",
       "      <td>9,24</td>\n",
       "      <td>Alicia</td>\n",
       "      <td>17.8</td>\n",
       "      <td>9,02</td>\n",
       "    </tr>\n",
       "    <tr>\n",
       "      <th>2</th>\n",
       "      <td>Kate</td>\n",
       "      <td>17.1</td>\n",
       "      <td>9,45</td>\n",
       "      <td>Ella</td>\n",
       "      <td>17.0</td>\n",
       "      <td>8,58</td>\n",
       "    </tr>\n",
       "    <tr>\n",
       "      <th>3</th>\n",
       "      <td>George</td>\n",
       "      <td>14.8</td>\n",
       "      <td>9,17</td>\n",
       "      <td>James</td>\n",
       "      <td>15.0</td>\n",
       "      <td>7,58</td>\n",
       "    </tr>\n",
       "    <tr>\n",
       "      <th>4</th>\n",
       "      <td>Eric</td>\n",
       "      <td>14.3</td>\n",
       "      <td>8,14</td>\n",
       "      <td>NaN</td>\n",
       "      <td>NaN</td>\n",
       "      <td>NaN</td>\n",
       "    </tr>\n",
       "    <tr>\n",
       "      <th>0</th>\n",
       "      <td>NaN</td>\n",
       "      <td>NaN</td>\n",
       "      <td>NaN</td>\n",
       "      <td>Jack</td>\n",
       "      <td>15.9</td>\n",
       "      <td>8,18</td>\n",
       "    </tr>\n",
       "  </tbody>\n",
       "</table>\n",
       "</div>"
      ],
      "text/plain": [
       "     Name 100m (sec.) 2km (min., sec.)    Name 100m (sec.) 2km (min., sec.)\n",
       "1     Ann        16.3             9,24  Alicia        17.8             9,02\n",
       "2    Kate        17.1             9,45    Ella        17.0             8,58\n",
       "3  George        14.8             9,17   James        15.0             7,58\n",
       "4    Eric        14.3             8,14     NaN         NaN              NaN\n",
       "0     NaN         NaN              NaN    Jack        15.9             8,18"
      ]
     },
     "execution_count": 5,
     "metadata": {},
     "output_type": "execute_result"
    }
   ],
   "source": [
    "pd.concat([junior_class, senior_class], axis=1)\n"
   ]
  },
  {
   "cell_type": "code",
   "execution_count": 6,
   "metadata": {},
   "outputs": [
    {
     "data": {
      "text/html": [
       "<div>\n",
       "<style scoped>\n",
       "    .dataframe tbody tr th:only-of-type {\n",
       "        vertical-align: middle;\n",
       "    }\n",
       "\n",
       "    .dataframe tbody tr th {\n",
       "        vertical-align: top;\n",
       "    }\n",
       "\n",
       "    .dataframe thead th {\n",
       "        text-align: right;\n",
       "    }\n",
       "</style>\n",
       "<table border=\"1\" class=\"dataframe\">\n",
       "  <thead>\n",
       "    <tr style=\"text-align: right;\">\n",
       "      <th></th>\n",
       "      <th>Name</th>\n",
       "      <th>100m (sec.)</th>\n",
       "      <th>2km (min., sec.)</th>\n",
       "    </tr>\n",
       "  </thead>\n",
       "  <tbody>\n",
       "    <tr>\n",
       "      <th>0</th>\n",
       "      <td>Ann</td>\n",
       "      <td>16.3</td>\n",
       "      <td>9,24</td>\n",
       "    </tr>\n",
       "    <tr>\n",
       "      <th>1</th>\n",
       "      <td>Kate</td>\n",
       "      <td>17.1</td>\n",
       "      <td>9,45</td>\n",
       "    </tr>\n",
       "    <tr>\n",
       "      <th>2</th>\n",
       "      <td>George</td>\n",
       "      <td>14.8</td>\n",
       "      <td>9,17</td>\n",
       "    </tr>\n",
       "    <tr>\n",
       "      <th>3</th>\n",
       "      <td>Eric</td>\n",
       "      <td>14.3</td>\n",
       "      <td>8,14</td>\n",
       "    </tr>\n",
       "    <tr>\n",
       "      <th>4</th>\n",
       "      <td>Jack</td>\n",
       "      <td>15.9</td>\n",
       "      <td>8,18</td>\n",
       "    </tr>\n",
       "    <tr>\n",
       "      <th>5</th>\n",
       "      <td>Alicia</td>\n",
       "      <td>17.8</td>\n",
       "      <td>9,02</td>\n",
       "    </tr>\n",
       "    <tr>\n",
       "      <th>6</th>\n",
       "      <td>Ella</td>\n",
       "      <td>17.0</td>\n",
       "      <td>8,58</td>\n",
       "    </tr>\n",
       "    <tr>\n",
       "      <th>7</th>\n",
       "      <td>James</td>\n",
       "      <td>15.0</td>\n",
       "      <td>7,58</td>\n",
       "    </tr>\n",
       "  </tbody>\n",
       "</table>\n",
       "</div>"
      ],
      "text/plain": [
       "     Name 100m (sec.) 2km (min., sec.)\n",
       "0     Ann        16.3             9,24\n",
       "1    Kate        17.1             9,45\n",
       "2  George        14.8             9,17\n",
       "3    Eric        14.3             8,14\n",
       "4    Jack        15.9             8,18\n",
       "5  Alicia        17.8             9,02\n",
       "6    Ella        17.0             8,58\n",
       "7   James        15.0             7,58"
      ]
     },
     "execution_count": 6,
     "metadata": {},
     "output_type": "execute_result"
    }
   ],
   "source": [
    "pd.concat([junior_class, senior_class], ignore_index=True)\n"
   ]
  },
  {
   "cell_type": "code",
   "execution_count": 7,
   "metadata": {},
   "outputs": [
    {
     "data": {
      "text/html": [
       "<div>\n",
       "<style scoped>\n",
       "    .dataframe tbody tr th:only-of-type {\n",
       "        vertical-align: middle;\n",
       "    }\n",
       "\n",
       "    .dataframe tbody tr th {\n",
       "        vertical-align: top;\n",
       "    }\n",
       "\n",
       "    .dataframe thead th {\n",
       "        text-align: right;\n",
       "    }\n",
       "</style>\n",
       "<table border=\"1\" class=\"dataframe\">\n",
       "  <thead>\n",
       "    <tr style=\"text-align: right;\">\n",
       "      <th></th>\n",
       "      <th>Name</th>\n",
       "      <th>100m (sec.)</th>\n",
       "      <th>2km (min., sec.)</th>\n",
       "      <th>Name</th>\n",
       "      <th>100m (sec.)</th>\n",
       "      <th>2km (min., sec.)</th>\n",
       "    </tr>\n",
       "  </thead>\n",
       "  <tbody>\n",
       "    <tr>\n",
       "      <th>1</th>\n",
       "      <td>Ann</td>\n",
       "      <td>16.3</td>\n",
       "      <td>9,24</td>\n",
       "      <td>Alicia</td>\n",
       "      <td>17.8</td>\n",
       "      <td>9,02</td>\n",
       "    </tr>\n",
       "    <tr>\n",
       "      <th>2</th>\n",
       "      <td>Kate</td>\n",
       "      <td>17.1</td>\n",
       "      <td>9,45</td>\n",
       "      <td>Ella</td>\n",
       "      <td>17.0</td>\n",
       "      <td>8,58</td>\n",
       "    </tr>\n",
       "    <tr>\n",
       "      <th>3</th>\n",
       "      <td>George</td>\n",
       "      <td>14.8</td>\n",
       "      <td>9,17</td>\n",
       "      <td>James</td>\n",
       "      <td>15.0</td>\n",
       "      <td>7,58</td>\n",
       "    </tr>\n",
       "  </tbody>\n",
       "</table>\n",
       "</div>"
      ],
      "text/plain": [
       "     Name 100m (sec.) 2km (min., sec.)    Name 100m (sec.) 2km (min., sec.)\n",
       "1     Ann        16.3             9,24  Alicia        17.8             9,02\n",
       "2    Kate        17.1             9,45    Ella        17.0             8,58\n",
       "3  George        14.8             9,17   James        15.0             7,58"
      ]
     },
     "execution_count": 7,
     "metadata": {},
     "output_type": "execute_result"
    }
   ],
   "source": [
    "pd.concat([junior_class, senior_class], axis=1, join='inner')\n"
   ]
  },
  {
   "cell_type": "code",
   "execution_count": 8,
   "metadata": {},
   "outputs": [
    {
     "data": {
      "text/html": [
       "<div>\n",
       "<style scoped>\n",
       "    .dataframe tbody tr th:only-of-type {\n",
       "        vertical-align: middle;\n",
       "    }\n",
       "\n",
       "    .dataframe tbody tr th {\n",
       "        vertical-align: top;\n",
       "    }\n",
       "\n",
       "    .dataframe thead th {\n",
       "        text-align: right;\n",
       "    }\n",
       "</style>\n",
       "<table border=\"1\" class=\"dataframe\">\n",
       "  <thead>\n",
       "    <tr style=\"text-align: right;\">\n",
       "      <th></th>\n",
       "      <th>Name</th>\n",
       "      <th>100m (sec.)</th>\n",
       "      <th>2km (min., sec.)</th>\n",
       "      <th>Name</th>\n",
       "      <th>100m (sec.)</th>\n",
       "      <th>2km (min., sec.)</th>\n",
       "    </tr>\n",
       "  </thead>\n",
       "  <tbody>\n",
       "    <tr>\n",
       "      <th>1</th>\n",
       "      <td>Ann</td>\n",
       "      <td>16.3</td>\n",
       "      <td>9,24</td>\n",
       "      <td>Alicia</td>\n",
       "      <td>17.8</td>\n",
       "      <td>9,02</td>\n",
       "    </tr>\n",
       "    <tr>\n",
       "      <th>2</th>\n",
       "      <td>Kate</td>\n",
       "      <td>17.1</td>\n",
       "      <td>9,45</td>\n",
       "      <td>Ella</td>\n",
       "      <td>17.0</td>\n",
       "      <td>8,58</td>\n",
       "    </tr>\n",
       "    <tr>\n",
       "      <th>3</th>\n",
       "      <td>George</td>\n",
       "      <td>14.8</td>\n",
       "      <td>9,17</td>\n",
       "      <td>James</td>\n",
       "      <td>15.0</td>\n",
       "      <td>7,58</td>\n",
       "    </tr>\n",
       "    <tr>\n",
       "      <th>4</th>\n",
       "      <td>Eric</td>\n",
       "      <td>14.3</td>\n",
       "      <td>8,14</td>\n",
       "      <td>NaN</td>\n",
       "      <td>NaN</td>\n",
       "      <td>NaN</td>\n",
       "    </tr>\n",
       "    <tr>\n",
       "      <th>0</th>\n",
       "      <td>NaN</td>\n",
       "      <td>NaN</td>\n",
       "      <td>NaN</td>\n",
       "      <td>Jack</td>\n",
       "      <td>15.9</td>\n",
       "      <td>8,18</td>\n",
       "    </tr>\n",
       "  </tbody>\n",
       "</table>\n",
       "</div>"
      ],
      "text/plain": [
       "     Name 100m (sec.) 2km (min., sec.)    Name 100m (sec.) 2km (min., sec.)\n",
       "1     Ann        16.3             9,24  Alicia        17.8             9,02\n",
       "2    Kate        17.1             9,45    Ella        17.0             8,58\n",
       "3  George        14.8             9,17   James        15.0             7,58\n",
       "4    Eric        14.3             8,14     NaN         NaN              NaN\n",
       "0     NaN         NaN              NaN    Jack        15.9             8,18"
      ]
     },
     "execution_count": 8,
     "metadata": {},
     "output_type": "execute_result"
    }
   ],
   "source": [
    "pd.concat([junior_class, senior_class], axis=1, join='outer')\n"
   ]
  },
  {
   "cell_type": "code",
   "execution_count": 9,
   "metadata": {},
   "outputs": [
    {
     "data": {
      "text/html": [
       "<div>\n",
       "<style scoped>\n",
       "    .dataframe tbody tr th:only-of-type {\n",
       "        vertical-align: middle;\n",
       "    }\n",
       "\n",
       "    .dataframe tbody tr th {\n",
       "        vertical-align: top;\n",
       "    }\n",
       "\n",
       "    .dataframe thead th {\n",
       "        text-align: right;\n",
       "    }\n",
       "</style>\n",
       "<table border=\"1\" class=\"dataframe\">\n",
       "  <thead>\n",
       "    <tr style=\"text-align: right;\">\n",
       "      <th></th>\n",
       "      <th></th>\n",
       "      <th>Name</th>\n",
       "      <th>100m (sec.)</th>\n",
       "      <th>2km (min., sec.)</th>\n",
       "    </tr>\n",
       "  </thead>\n",
       "  <tbody>\n",
       "    <tr>\n",
       "      <th rowspan=\"4\" valign=\"top\">Jun. class</th>\n",
       "      <th>1</th>\n",
       "      <td>Ann</td>\n",
       "      <td>16.3</td>\n",
       "      <td>9,24</td>\n",
       "    </tr>\n",
       "    <tr>\n",
       "      <th>2</th>\n",
       "      <td>Kate</td>\n",
       "      <td>17.1</td>\n",
       "      <td>9,45</td>\n",
       "    </tr>\n",
       "    <tr>\n",
       "      <th>3</th>\n",
       "      <td>George</td>\n",
       "      <td>14.8</td>\n",
       "      <td>9,17</td>\n",
       "    </tr>\n",
       "    <tr>\n",
       "      <th>4</th>\n",
       "      <td>Eric</td>\n",
       "      <td>14.3</td>\n",
       "      <td>8,14</td>\n",
       "    </tr>\n",
       "    <tr>\n",
       "      <th rowspan=\"4\" valign=\"top\">Sen. class</th>\n",
       "      <th>0</th>\n",
       "      <td>Jack</td>\n",
       "      <td>15.9</td>\n",
       "      <td>8,18</td>\n",
       "    </tr>\n",
       "    <tr>\n",
       "      <th>1</th>\n",
       "      <td>Alicia</td>\n",
       "      <td>17.8</td>\n",
       "      <td>9,02</td>\n",
       "    </tr>\n",
       "    <tr>\n",
       "      <th>2</th>\n",
       "      <td>Ella</td>\n",
       "      <td>17.0</td>\n",
       "      <td>8,58</td>\n",
       "    </tr>\n",
       "    <tr>\n",
       "      <th>3</th>\n",
       "      <td>James</td>\n",
       "      <td>15.0</td>\n",
       "      <td>7,58</td>\n",
       "    </tr>\n",
       "  </tbody>\n",
       "</table>\n",
       "</div>"
      ],
      "text/plain": [
       "                Name 100m (sec.) 2km (min., sec.)\n",
       "Jun. class 1     Ann        16.3             9,24\n",
       "           2    Kate        17.1             9,45\n",
       "           3  George        14.8             9,17\n",
       "           4    Eric        14.3             8,14\n",
       "Sen. class 0    Jack        15.9             8,18\n",
       "           1  Alicia        17.8             9,02\n",
       "           2    Ella        17.0             8,58\n",
       "           3   James        15.0             7,58"
      ]
     },
     "execution_count": 9,
     "metadata": {},
     "output_type": "execute_result"
    }
   ],
   "source": [
    "pd.concat([junior_class, senior_class], keys=['Jun. class', 'Sen. class'])\n"
   ]
  },
  {
   "cell_type": "markdown",
   "metadata": {},
   "source": [
    "# Merging objects\n"
   ]
  },
  {
   "cell_type": "code",
   "execution_count": 10,
   "metadata": {},
   "outputs": [],
   "source": [
    "age_of_participants = pd.DataFrame({'Name': ['Ann', 'Eric', 'Ella'],\n",
    "                                    'Age': ['16', '16', '18']})"
   ]
  },
  {
   "cell_type": "code",
   "execution_count": 11,
   "metadata": {},
   "outputs": [
    {
     "data": {
      "text/html": [
       "<div>\n",
       "<style scoped>\n",
       "    .dataframe tbody tr th:only-of-type {\n",
       "        vertical-align: middle;\n",
       "    }\n",
       "\n",
       "    .dataframe tbody tr th {\n",
       "        vertical-align: top;\n",
       "    }\n",
       "\n",
       "    .dataframe thead th {\n",
       "        text-align: right;\n",
       "    }\n",
       "</style>\n",
       "<table border=\"1\" class=\"dataframe\">\n",
       "  <thead>\n",
       "    <tr style=\"text-align: right;\">\n",
       "      <th></th>\n",
       "      <th>Name</th>\n",
       "      <th>100m (sec.)</th>\n",
       "      <th>2km (min., sec.)</th>\n",
       "      <th>Age</th>\n",
       "    </tr>\n",
       "  </thead>\n",
       "  <tbody>\n",
       "    <tr>\n",
       "      <th>0</th>\n",
       "      <td>Ann</td>\n",
       "      <td>16.3</td>\n",
       "      <td>9,24</td>\n",
       "      <td>16</td>\n",
       "    </tr>\n",
       "    <tr>\n",
       "      <th>1</th>\n",
       "      <td>Eric</td>\n",
       "      <td>14.3</td>\n",
       "      <td>8,14</td>\n",
       "      <td>16</td>\n",
       "    </tr>\n",
       "  </tbody>\n",
       "</table>\n",
       "</div>"
      ],
      "text/plain": [
       "   Name 100m (sec.) 2km (min., sec.) Age\n",
       "0   Ann        16.3             9,24  16\n",
       "1  Eric        14.3             8,14  16"
      ]
     },
     "execution_count": 11,
     "metadata": {},
     "output_type": "execute_result"
    }
   ],
   "source": [
    "junior_class.merge(age_of_participants)\n"
   ]
  },
  {
   "cell_type": "code",
   "execution_count": 12,
   "metadata": {},
   "outputs": [
    {
     "data": {
      "text/html": [
       "<div>\n",
       "<style scoped>\n",
       "    .dataframe tbody tr th:only-of-type {\n",
       "        vertical-align: middle;\n",
       "    }\n",
       "\n",
       "    .dataframe tbody tr th {\n",
       "        vertical-align: top;\n",
       "    }\n",
       "\n",
       "    .dataframe thead th {\n",
       "        text-align: right;\n",
       "    }\n",
       "</style>\n",
       "<table border=\"1\" class=\"dataframe\">\n",
       "  <thead>\n",
       "    <tr style=\"text-align: right;\">\n",
       "      <th></th>\n",
       "      <th>Name</th>\n",
       "      <th>100m (sec.)</th>\n",
       "      <th>2km (min., sec.)</th>\n",
       "      <th>Age</th>\n",
       "    </tr>\n",
       "  </thead>\n",
       "  <tbody>\n",
       "    <tr>\n",
       "      <th>0</th>\n",
       "      <td>Ann</td>\n",
       "      <td>16.3</td>\n",
       "      <td>9,24</td>\n",
       "      <td>16</td>\n",
       "    </tr>\n",
       "    <tr>\n",
       "      <th>1</th>\n",
       "      <td>Kate</td>\n",
       "      <td>17.1</td>\n",
       "      <td>9,45</td>\n",
       "      <td>NaN</td>\n",
       "    </tr>\n",
       "    <tr>\n",
       "      <th>2</th>\n",
       "      <td>George</td>\n",
       "      <td>14.8</td>\n",
       "      <td>9,17</td>\n",
       "      <td>NaN</td>\n",
       "    </tr>\n",
       "    <tr>\n",
       "      <th>3</th>\n",
       "      <td>Eric</td>\n",
       "      <td>14.3</td>\n",
       "      <td>8,14</td>\n",
       "      <td>16</td>\n",
       "    </tr>\n",
       "  </tbody>\n",
       "</table>\n",
       "</div>"
      ],
      "text/plain": [
       "     Name 100m (sec.) 2km (min., sec.)  Age\n",
       "0     Ann        16.3             9,24   16\n",
       "1    Kate        17.1             9,45  NaN\n",
       "2  George        14.8             9,17  NaN\n",
       "3    Eric        14.3             8,14   16"
      ]
     },
     "execution_count": 12,
     "metadata": {},
     "output_type": "execute_result"
    }
   ],
   "source": [
    "junior_class.merge(age_of_participants, how='left')\n"
   ]
  },
  {
   "cell_type": "code",
   "execution_count": 13,
   "metadata": {},
   "outputs": [
    {
     "data": {
      "text/html": [
       "<div>\n",
       "<style scoped>\n",
       "    .dataframe tbody tr th:only-of-type {\n",
       "        vertical-align: middle;\n",
       "    }\n",
       "\n",
       "    .dataframe tbody tr th {\n",
       "        vertical-align: top;\n",
       "    }\n",
       "\n",
       "    .dataframe thead th {\n",
       "        text-align: right;\n",
       "    }\n",
       "</style>\n",
       "<table border=\"1\" class=\"dataframe\">\n",
       "  <thead>\n",
       "    <tr style=\"text-align: right;\">\n",
       "      <th></th>\n",
       "      <th>Name</th>\n",
       "      <th>100m (sec.)</th>\n",
       "      <th>2km (min., sec.)</th>\n",
       "      <th>Age</th>\n",
       "    </tr>\n",
       "  </thead>\n",
       "  <tbody>\n",
       "    <tr>\n",
       "      <th>0</th>\n",
       "      <td>Ann</td>\n",
       "      <td>16.3</td>\n",
       "      <td>9,24</td>\n",
       "      <td>16</td>\n",
       "    </tr>\n",
       "    <tr>\n",
       "      <th>1</th>\n",
       "      <td>Eric</td>\n",
       "      <td>14.3</td>\n",
       "      <td>8,14</td>\n",
       "      <td>16</td>\n",
       "    </tr>\n",
       "    <tr>\n",
       "      <th>2</th>\n",
       "      <td>Ella</td>\n",
       "      <td>NaN</td>\n",
       "      <td>NaN</td>\n",
       "      <td>18</td>\n",
       "    </tr>\n",
       "  </tbody>\n",
       "</table>\n",
       "</div>"
      ],
      "text/plain": [
       "   Name 100m (sec.) 2km (min., sec.) Age\n",
       "0   Ann        16.3             9,24  16\n",
       "1  Eric        14.3             8,14  16\n",
       "2  Ella         NaN              NaN  18"
      ]
     },
     "execution_count": 13,
     "metadata": {},
     "output_type": "execute_result"
    }
   ],
   "source": [
    "junior_class.merge(age_of_participants, how='right')\n"
   ]
  },
  {
   "cell_type": "markdown",
   "metadata": {},
   "source": [
    "## Searching within a pandas DataFrame \n",
    "\n",
    "\n",
    "- Set occurrence search\n"
   ]
  },
  {
   "cell_type": "code",
   "execution_count": null,
   "metadata": {},
   "outputs": [],
   "source": [
    "df[(df.location == 'Perth') | (df.location == 'Sydney') | (df.location == 'Canberra')]"
   ]
  },
  {
   "cell_type": "markdown",
   "metadata": {},
   "source": [
    "That notation secures the bag, but what if we had about 100 cities to filter? If we have so many possible cell values, we have to store them in a collection, a Python list, for example. This fact leads to the following question: \"is a certain value in the list or not?\" This is where the .isin() method comes into play:"
   ]
  },
  {
   "cell_type": "code",
   "execution_count": null,
   "metadata": {},
   "outputs": [],
   "source": [
    "desired_cities = ['Perth', 'Sydney', 'Canberra']\n",
    "df.location.isin(desired_cities)"
   ]
  },
  {
   "cell_type": "markdown",
   "metadata": {},
   "source": [
    "We get the boolean DataFrame as a result:\n",
    "\n",
    "`0     True\n",
    "1     True\n",
    "2    False\n",
    "3     True\n",
    "4     True\n",
    "5     True\n",
    "6    False\n",
    "7     True\n",
    "Name: location, dtype: bool`"
   ]
  },
  {
   "cell_type": "markdown",
   "metadata": {},
   "source": [
    "Now, let's use it as a condition to select the required rows:\n",
    "\n"
   ]
  },
  {
   "cell_type": "code",
   "execution_count": null,
   "metadata": {},
   "outputs": [],
   "source": [
    "desired_cities = ['Perth', 'Sydney', 'Canberra']\n",
    "df[df.location.isin(desired_cities)]"
   ]
  },
  {
   "cell_type": "markdown",
   "metadata": {},
   "source": [
    " In case you have to exclude the results that appear in a list, just place the tilde sign ~ before the expression (like with other reversals):"
   ]
  },
  {
   "cell_type": "code",
   "execution_count": null,
   "metadata": {},
   "outputs": [],
   "source": [
    "df[~df.location.isin(desired_cities)]\n"
   ]
  },
  {
   "cell_type": "markdown",
   "metadata": {},
   "source": [
    "## How to replace a value\n"
   ]
  },
  {
   "cell_type": "code",
   "execution_count": null,
   "metadata": {},
   "outputs": [],
   "source": [
    "df[['min_temp', 'max_temp']].where(df.min_temp > 10)\n"
   ]
  },
  {
   "cell_type": "code",
   "execution_count": null,
   "metadata": {},
   "outputs": [],
   "source": [
    "df[['min_temp', 'max_temp']].where(df.min_temp > 10, 'min temp too low')\n"
   ]
  },
  {
   "cell_type": "markdown",
   "metadata": {},
   "source": [
    "## Boolean expression query\n"
   ]
  },
  {
   "cell_type": "code",
   "execution_count": null,
   "metadata": {},
   "outputs": [],
   "source": [
    "df.query(\"location == 'Perth' & max_temp > 22\")\n"
   ]
  },
  {
   "cell_type": "code",
   "execution_count": 2,
   "metadata": {},
   "outputs": [
    {
     "data": {
      "text/html": [
       "<div>\n",
       "<style scoped>\n",
       "    .dataframe tbody tr th:only-of-type {\n",
       "        vertical-align: middle;\n",
       "    }\n",
       "\n",
       "    .dataframe tbody tr th {\n",
       "        vertical-align: top;\n",
       "    }\n",
       "\n",
       "    .dataframe thead th {\n",
       "        text-align: right;\n",
       "    }\n",
       "</style>\n",
       "<table border=\"1\" class=\"dataframe\">\n",
       "  <thead>\n",
       "    <tr style=\"text-align: right;\">\n",
       "      <th></th>\n",
       "      <th>measure</th>\n",
       "      <th>error</th>\n",
       "    </tr>\n",
       "  </thead>\n",
       "  <tbody>\n",
       "    <tr>\n",
       "      <th>count</th>\n",
       "      <td>10.00000</td>\n",
       "      <td>10.000000</td>\n",
       "    </tr>\n",
       "    <tr>\n",
       "      <th>mean</th>\n",
       "      <td>55.60000</td>\n",
       "      <td>47.900000</td>\n",
       "    </tr>\n",
       "    <tr>\n",
       "      <th>std</th>\n",
       "      <td>30.79033</td>\n",
       "      <td>33.057021</td>\n",
       "    </tr>\n",
       "    <tr>\n",
       "      <th>min</th>\n",
       "      <td>13.00000</td>\n",
       "      <td>7.000000</td>\n",
       "    </tr>\n",
       "    <tr>\n",
       "      <th>25%</th>\n",
       "      <td>35.50000</td>\n",
       "      <td>15.500000</td>\n",
       "    </tr>\n",
       "    <tr>\n",
       "      <th>50%</th>\n",
       "      <td>51.50000</td>\n",
       "      <td>55.000000</td>\n",
       "    </tr>\n",
       "    <tr>\n",
       "      <th>75%</th>\n",
       "      <td>84.50000</td>\n",
       "      <td>63.750000</td>\n",
       "    </tr>\n",
       "    <tr>\n",
       "      <th>max</th>\n",
       "      <td>96.00000</td>\n",
       "      <td>96.000000</td>\n",
       "    </tr>\n",
       "  </tbody>\n",
       "</table>\n",
       "</div>"
      ],
      "text/plain": [
       "        measure      error\n",
       "count  10.00000  10.000000\n",
       "mean   55.60000  47.900000\n",
       "std    30.79033  33.057021\n",
       "min    13.00000   7.000000\n",
       "25%    35.50000  15.500000\n",
       "50%    51.50000  55.000000\n",
       "75%    84.50000  63.750000\n",
       "max    96.00000  96.000000"
      ]
     },
     "execution_count": 2,
     "metadata": {},
     "output_type": "execute_result"
    }
   ],
   "source": [
    "import pandas as pd\n",
    "import numpy as np\n",
    "\n",
    "values = np.random.randint(0, 100, size=(10, 2))\n",
    "df = pd.DataFrame(values, columns=['measure', 'error'])\n",
    "df.describe()"
   ]
  },
  {
   "cell_type": "markdown",
   "metadata": {},
   "source": [
    "## Grouping and aggregating data in pandas\n",
    "\n",
    "- DataFrame.aggregate\n"
   ]
  },
  {
   "cell_type": "code",
   "execution_count": null,
   "metadata": {},
   "outputs": [],
   "source": [
    "df.body_mass_g.agg('median')\n"
   ]
  },
  {
   "cell_type": "markdown",
   "metadata": {},
   "source": [
    "- Tip: You can pass a function, the function name (as a string), a list of functions (or their names) or a dict to .agg(), for example, 'unique'in df.body_mass_g.agg('unique') will get the unique elements from body_mass_g column, 'nunique' will count the unique elements in the specified column, and 'sum' in df.body_mass_g.agg('sum')will produce the sum of body_mass_g values.\n",
    "\n",
    "Also, you can pass a function like so (here we pass a Python built-in sum(), but any function that handles a DataFrame can be passed):"
   ]
  },
  {
   "cell_type": "code",
   "execution_count": null,
   "metadata": {},
   "outputs": [],
   "source": [
    "df.body_mass_g.agg(sum)\n"
   ]
  },
  {
   "cell_type": "markdown",
   "metadata": {},
   "source": [
    "Another way to do it is by calling the .median() method from the Series:\n",
    "\n"
   ]
  },
  {
   "cell_type": "code",
   "execution_count": null,
   "metadata": {},
   "outputs": [],
   "source": [
    "df.body_mass_g.median()\n"
   ]
  },
  {
   "cell_type": "markdown",
   "metadata": {},
   "source": [
    "The difference is that by using the .agg() method, we are also able to apply several aggregating functions to different columns."
   ]
  },
  {
   "cell_type": "code",
   "execution_count": null,
   "metadata": {},
   "outputs": [],
   "source": [
    "df.agg({'bill_length_mm': ['min', 'mean'],\n",
    "         'flipper_length_mm': ['max', 'mean']\n",
    "        })"
   ]
  },
  {
   "cell_type": "markdown",
   "metadata": {},
   "source": [
    "It's also possible to aggregate the data with your own functions. The example of the function below outputs the number of missing values. If the set contains no such values, it puts 0 (by default):"
   ]
  },
  {
   "cell_type": "code",
   "execution_count": null,
   "metadata": {},
   "outputs": [],
   "source": [
    "def count_nulls(series, ok_message=0):\n",
    "    if not series.isna().sum():\n",
    "        return ok_message\n",
    "    return len(series) - series.count()"
   ]
  },
  {
   "cell_type": "code",
   "execution_count": null,
   "metadata": {},
   "outputs": [],
   "source": [
    "df.agg(count_nulls)\n"
   ]
  },
  {
   "cell_type": "code",
   "execution_count": null,
   "metadata": {},
   "outputs": [],
   "source": [
    "df.agg(count_nulls, ok_message='Hurray!')\n"
   ]
  },
  {
   "cell_type": "code",
   "execution_count": null,
   "metadata": {},
   "outputs": [],
   "source": [
    "df[['bill_length_mm', 'bill_depth_mm', 'flipper_length_mm']].agg(max, \n",
    "axis='columns')"
   ]
  },
  {
   "cell_type": "markdown",
   "metadata": {},
   "source": [
    "## DataFrame.groupby\n"
   ]
  },
  {
   "cell_type": "code",
   "execution_count": null,
   "metadata": {},
   "outputs": [],
   "source": [
    "df.groupby(['sex']).agg({'bill_length_mm':'median'})\n"
   ]
  },
  {
   "cell_type": "code",
   "execution_count": null,
   "metadata": {},
   "outputs": [],
   "source": [
    "df.groupby('sex', dropna=False).agg({'bill_length_mm':'median'})\n"
   ]
  },
  {
   "cell_type": "markdown",
   "metadata": {},
   "source": [
    "The df.groupby(['sex']) alone outputs something like \"<pandas.core.groupby.generic.DataFrameGroupBy object at 0x000002A1E7BE8358>\". That's because it's just an object in memory with split values for indicated groups. The interpreter doesn't know what to output unless you directly specify it with .agg().\n",
    "\n",
    "As you've noticed, the \"sex\" column contains 11 missing values (some penguins preferred not to share their gender). To include them in our grouping, set the groupby dropna argument to False (pandas 1.1 or higher required):"
   ]
  },
  {
   "cell_type": "code",
   "execution_count": null,
   "metadata": {},
   "outputs": [],
   "source": [
    "df.groupby(['island', 'sex']).agg({'bill_length_mm':'median'})\n"
   ]
  },
  {
   "cell_type": "markdown",
   "metadata": {},
   "source": [
    "Tip: As you've seen thus far, groupbywill make the group labels you pass into it into index columns — the as_index parameter is responsible for that, and is set to True by default. For our last example, if we call .index.names, we can see that we have 2 indexes — 'island' and 'sex':"
   ]
  },
  {
   "cell_type": "code",
   "execution_count": null,
   "metadata": {},
   "outputs": [],
   "source": [
    "df.groupby(['island', 'sex']).agg({'bill_length_mm':'median'}).index.names\n"
   ]
  }
 ],
 "metadata": {
  "kernelspec": {
   "display_name": "base",
   "language": "python",
   "name": "python3"
  },
  "language_info": {
   "codemirror_mode": {
    "name": "ipython",
    "version": 3
   },
   "file_extension": ".py",
   "mimetype": "text/x-python",
   "name": "python",
   "nbconvert_exporter": "python",
   "pygments_lexer": "ipython3",
   "version": "3.11.5"
  }
 },
 "nbformat": 4,
 "nbformat_minor": 2
}
