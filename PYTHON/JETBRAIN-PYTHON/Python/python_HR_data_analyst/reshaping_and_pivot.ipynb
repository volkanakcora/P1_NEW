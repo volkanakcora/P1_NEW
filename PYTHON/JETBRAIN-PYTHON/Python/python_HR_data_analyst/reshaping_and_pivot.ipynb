{
 "cells": [
  {
   "cell_type": "markdown",
   "metadata": {},
   "source": [
    "## Reshaping and Pivot Tables\n",
    "\n",
    "### Data Frame Pivot"
   ]
  },
  {
   "cell_type": "code",
   "execution_count": null,
   "metadata": {},
   "outputs": [],
   "source": [
    "import pandas as pd\n",
    "\n",
    "df = pd.read_csv('https://raw.githubusercontent.com/mwaskom/seaborn-data/master/flights.csv')\n",
    "df.head()"
   ]
  },
  {
   "cell_type": "markdown",
   "metadata": {},
   "source": [
    "This dataset contains 144 rows. It's quite difficult to look at them at once. We can apply the following"
   ]
  },
  {
   "cell_type": "code",
   "execution_count": null,
   "metadata": {},
   "outputs": [],
   "source": [
    "df.pivot(index='year', columns='month', values='passengers')\n"
   ]
  },
  {
   "cell_type": "markdown",
   "metadata": {},
   "source": [
    "Now we can see them all together to get some insights! For example, summertime flights were popular from the beginning and their number grew faster.\n",
    "As you can see there are a couple of changes:\n",
    "\n",
    "- Index and columns now have names: \"year\" and \"month\".\n",
    "- The \"year\" column is now the index.\n",
    "- The \"month\" has been transformed into columns.\n",
    "- Each passenger value is now located where a year and a month collide.\n",
    "\n",
    "! All further methods are Pandas functions. The first argument (the data argument) needs to be passed to the processed dataframe. It produces the same result:"
   ]
  },
  {
   "cell_type": "code",
   "execution_count": null,
   "metadata": {},
   "outputs": [],
   "source": [
    "pd.pivot(df, index='year', columns='month', values='passengers')\n"
   ]
  },
  {
   "cell_type": "markdown",
   "metadata": {},
   "source": [
    "## DataFrame.pivot_table\n"
   ]
  },
  {
   "cell_type": "code",
   "execution_count": null,
   "metadata": {},
   "outputs": [],
   "source": [
    "df = pd.read_csv('https://raw.githubusercontent.com/mwaskom/seaborn-data/master/mpg.csv')\n",
    "df.head()"
   ]
  },
  {
   "cell_type": "markdown",
   "metadata": {},
   "source": [
    "Suppose, we have to find the mean horsepower number of the cars presented by country and year. The `.pivot_table()` should contain an aggregator in the aggfunc argument. It finds the mean value by default. We need to specify the required values of the index and columns and we will round the results up to 1 decimal for neatness:"
   ]
  },
  {
   "cell_type": "code",
   "execution_count": null,
   "metadata": {},
   "outputs": [],
   "source": [
    "df.pivot_table(index='origin', columns='model_year', values='horsepower').round(1)\n"
   ]
  },
  {
   "cell_type": "markdown",
   "metadata": {},
   "source": [
    "## DataFrame.melt\n",
    "- if our data is pivoted and we want to make it flat, we can use the .melt() method. Let's create a sample wide_df:"
   ]
  },
  {
   "cell_type": "code",
   "execution_count": null,
   "metadata": {},
   "outputs": [],
   "source": [
    "wide_df = df.pivot_table(index='origin', columns='model_year', values='horsepower').round(2)\n",
    "wide_df.reset_index(inplace=True)"
   ]
  },
  {
   "cell_type": "markdown",
   "metadata": {},
   "source": [
    "Let's transform all \"year\" columns into one by calling .melt() with suitable parameters. For the id_vars argument, we set the column name that contains an identifier. In our case, it is the \"origin\". Further, we should set the value_vars argument to the list of columns. .melt() by default takes all other columns for value_vars , so we just omit this argument. Then output the first 10 rows of the resulting dataframe:\n",
    "\n"
   ]
  },
  {
   "cell_type": "code",
   "execution_count": null,
   "metadata": {},
   "outputs": [],
   "source": [
    "wide_df.melt(id_vars='origin').head(10)\n"
   ]
  },
  {
   "cell_type": "code",
   "execution_count": null,
   "metadata": {},
   "outputs": [],
   "source": [
    "wide_df.melt(id_vars='origin', value_vars=wide_df.columns[-3:])\n"
   ]
  }
 ],
 "metadata": {
  "kernelspec": {
   "display_name": "base",
   "language": "python",
   "name": "python3"
  },
  "language_info": {
   "codemirror_mode": {
    "name": "ipython",
    "version": 3
   },
   "file_extension": ".py",
   "mimetype": "text/x-python",
   "name": "python",
   "nbconvert_exporter": "python",
   "pygments_lexer": "ipython3",
   "version": "3.11.5"
  }
 },
 "nbformat": 4,
 "nbformat_minor": 2
}
