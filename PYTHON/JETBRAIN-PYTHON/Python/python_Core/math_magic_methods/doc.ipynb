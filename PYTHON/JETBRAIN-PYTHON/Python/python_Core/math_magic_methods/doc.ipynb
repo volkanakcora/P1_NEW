{
 "cells": [
  {
   "cell_type": "markdown",
   "metadata": {},
   "source": [
    "## Math magic methods\n",
    "\n",
    "Arithmetic operations\n",
    "There is a group of magic methods representing common arithmetic operations:\n",
    "\n",
    "- __add__() : addition (+)\n",
    "- __sub__() : subtraction (-)\n",
    "- __mul__() : multiplication (*)\n",
    "- __truediv__() : division (/)\n",
    "- __pow__() : exponents (**)"
   ]
  },
  {
   "cell_type": "code",
   "execution_count": 1,
   "metadata": {},
   "outputs": [],
   "source": [
    "class ComplexNumber:\n",
    "    def __init__(self, real_part, im_part):\n",
    "        self.real_part = real_part\n",
    "        self.im_part = im_part\n",
    "\n",
    "    def __add__(self, other):\n",
    "        \"\"\"Addition of complex numbers.\"\"\"\n",
    "        real = self.real_part + other.real_part\n",
    "        imaginary = self.im_part + other.im_part\n",
    "        return ComplexNumber(real, imaginary)\n",
    "\n",
    "    def __mul__(self, other):\n",
    "        \"\"\"Multiplication of complex numbers.\"\"\"\n",
    "        real = (self.real_part * other.real_part - \n",
    "                self.im_part * other.im_part)\n",
    "        imaginary = (self.real_part * other.im_part + \n",
    "                     other.real_part * self.im_part)\n",
    "        return ComplexNumber(real, imaginary)"
   ]
  },
  {
   "cell_type": "code",
   "execution_count": 2,
   "metadata": {},
   "outputs": [],
   "source": [
    "z1 = ComplexNumber(1, 1)\n",
    "z2 = ComplexNumber(-1, 2)\n",
    "\n",
    "z3 = z1 + z2\n",
    "z4 = z1 * z2\n"
   ]
  },
  {
   "cell_type": "code",
   "execution_count": 3,
   "metadata": {},
   "outputs": [
    {
     "name": "stdout",
     "output_type": "stream",
     "text": [
      "0 3\n",
      "-3 1\n"
     ]
    }
   ],
   "source": [
    "z3 = z1 + z2\n",
    "print(z3.real_part, z3.im_part)  # 0 3\n",
    "\n",
    "z4 = z1 * z2\n",
    "print(z4.real_part, z4.im_part)  # -3 1"
   ]
  },
  {
   "cell_type": "markdown",
   "metadata": {},
   "source": [
    "## Augmented assignment\n",
    "Python also has a number of methods for augmented assignment: a combination of standard arithmetic operations with the assignment. Their names are pretty self-explanatory so you can probably guess what operations they stand for:\n",
    "\n",
    "- __iadd__();\n",
    "- __isub__();\n",
    "- __imul__();\n",
    "- __itruediv__();\n",
    "- __ipow__();"
   ]
  },
  {
   "cell_type": "code",
   "execution_count": 4,
   "metadata": {},
   "outputs": [],
   "source": [
    "class ComplexNumber:\n",
    "    def __init__(self, real_part, im_part):\n",
    "        self.real_part = real_part\n",
    "        self.im_part = im_part\n",
    "\n",
    "    # other magic methods we've already defined\n",
    "\n",
    "    def __iadd__(self, other):\n",
    "        \"\"\"Addition with assignment (+=) for complex numbers.\"\"\"\n",
    "        self.real_part += other.real_part\n",
    "        self.im_part += other.im_part\n",
    "        return self"
   ]
  },
  {
   "cell_type": "code",
   "execution_count": 5,
   "metadata": {},
   "outputs": [
    {
     "name": "stdout",
     "output_type": "stream",
     "text": [
      "2 -1\n"
     ]
    }
   ],
   "source": [
    "z1 = ComplexNumber(8, -3)\n",
    "z2 = ComplexNumber(-6, 2)\n",
    "\n",
    "z1 += z2\n",
    "print(z1.real_part, z1.im_part)  # 2 -1"
   ]
  },
  {
   "cell_type": "markdown",
   "metadata": {},
   "source": [
    "## Comparison operators\n",
    "Another thing we might want to do with our objects is to compare them. Here are the magic methods that define the behavior of the comparison operators:\n",
    "\n",
    "- __eq__() : equality (==)\n",
    "- __ne__() : inequality (!=)\n",
    "- __lt__() : less than (<)\n",
    "- __gt__() : greater than (>)\n",
    "- __le__() : less or equal (<=)\n",
    "- __ge__() : greater or equal (>=)"
   ]
  },
  {
   "cell_type": "code",
   "execution_count": 6,
   "metadata": {},
   "outputs": [
    {
     "name": "stdout",
     "output_type": "stream",
     "text": [
      "False\n",
      "False\n"
     ]
    }
   ],
   "source": [
    "z1 = ComplexNumber(5, -5)\n",
    "z2 = ComplexNumber(5, -5)\n",
    "z3 = ComplexNumber(4, 4)\n",
    "\n",
    "print(z1 == z2)  # False\n",
    "print(z1 == z3)  # False"
   ]
  },
  {
   "cell_type": "code",
   "execution_count": 7,
   "metadata": {},
   "outputs": [],
   "source": [
    "class ComplexNumber:\n",
    "    def __init__(self, real_part, im_part):\n",
    "        self.real_part = real_part\n",
    "        self.im_part = im_part\n",
    "\n",
    "    def __eq__(self, other):\n",
    "        \"\"\"Compare two complex numbers for equality (==).\"\"\"\n",
    "        return ((self.real_part == other.real_part) and\n",
    "               (self.im_part == other.im_part))"
   ]
  },
  {
   "cell_type": "code",
   "execution_count": 8,
   "metadata": {},
   "outputs": [
    {
     "name": "stdout",
     "output_type": "stream",
     "text": [
      "False\n",
      "False\n"
     ]
    }
   ],
   "source": [
    "print(z1 == z2)  # True\n",
    "print(z1 == z3)  # False"
   ]
  }
 ],
 "metadata": {
  "kernelspec": {
   "display_name": "base",
   "language": "python",
   "name": "python3"
  },
  "language_info": {
   "codemirror_mode": {
    "name": "ipython",
    "version": 3
   },
   "file_extension": ".py",
   "mimetype": "text/x-python",
   "name": "python",
   "nbconvert_exporter": "python",
   "pygments_lexer": "ipython3",
   "version": "3.11.5"
  }
 },
 "nbformat": 4,
 "nbformat_minor": 2
}
