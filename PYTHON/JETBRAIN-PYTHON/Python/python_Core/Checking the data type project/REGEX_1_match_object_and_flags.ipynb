{
 "cells": [
  {
   "attachments": {},
   "cell_type": "markdown",
   "metadata": {},
   "source": [
    "# Match object and flags\n",
    "\n",
    "Regexp template syntax is pretty much the same across all major programming languages. The main features of the Python regexps as opposed to any other programming language are special functions and objects of the re module.\n",
    "\n",
    "First of all, it may be a good idea to get to know what exactly you are going to get when your regexp template matches a string. In this topic, we'll take a look at the Match object and its attributes. Also, we'll check out the flags that we can apply while calling any matching function. Flags are a small part of the re module, but they can simplify the regexp processing a lot.\n",
    "\n",
    "## 1) Match Object\n",
    "\n",
    "As you can remember from the introductory topic on Python regexps, when your regexp template isn't found in a string, the matching function returns None.\n",
    "\n"
   ]
  },
  {
   "cell_type": "code",
   "execution_count": 3,
   "metadata": {},
   "outputs": [
    {
     "name": "stdout",
     "output_type": "stream",
     "text": [
      "True\n"
     ]
    }
   ],
   "source": [
    "import re \n",
    "template = \"match\"\n",
    "no_match_result = re.match(template, \"no match\")\n",
    "print(no_match_result is None)  # the output is True"
   ]
  },
  {
   "attachments": {},
   "cell_type": "markdown",
   "metadata": {},
   "source": [
    "However, when the match is successful and an example of your template is present in the string, match() returns a so-called Match object containing the data about the matching substring: the contents (a match attribute) and starting/ending indexes in the original string (a span attribute)."
   ]
  },
  {
   "cell_type": "code",
   "execution_count": 3,
   "metadata": {},
   "outputs": [
    {
     "name": "stdout",
     "output_type": "stream",
     "text": [
      "<re.Match object; span=(0, 5), match='match'>\n"
     ]
    }
   ],
   "source": [
    "match_result = re.match(template, \"match\")\n",
    "print(match_result)  # the output is \"<_sre.SRE_Match object; span=(0, 5), match='match'>\""
   ]
  },
  {
   "attachments": {},
   "cell_type": "markdown",
   "metadata": {},
   "source": [
    "When a Match object is converted to boolean, it is always True. This way, you can use a simple conditional statement if match: to check whether your template matches the string. It'll be False if the statement returned None. And if you have a match, it will be True."
   ]
  },
  {
   "cell_type": "code",
   "execution_count": 4,
   "metadata": {},
   "outputs": [
    {
     "name": "stdout",
     "output_type": "stream",
     "text": [
      "No match\n",
      "That's a match!\n"
     ]
    }
   ],
   "source": [
    "if no_match_result:\n",
    "    print(\"That's a match!\")\n",
    "else:\n",
    "    print(\"No match\")\n",
    "# the output is \"No match\"\n",
    "if match_result:\n",
    "    print(\"That's a match!\")\n",
    "else:\n",
    "    print(\"No match\")\n",
    "# the output is \"That's a match!\""
   ]
  },
  {
   "attachments": {},
   "cell_type": "markdown",
   "metadata": {},
   "source": [
    "This check is usually required to avoid errors in your code. You can't perform the same operations when you have None as if you had a Match object. The errors can stem from this. What can we do then? Let's see.."
   ]
  },
  {
   "attachments": {},
   "cell_type": "markdown",
   "metadata": {},
   "source": [
    "## 2) group() method\n",
    "What makes Match objects useful is that they contain important information on the results of the matching operation. By calling the group() method with no arguments, you can extract the substring that matches your template:\n",
    "\n"
   ]
  },
  {
   "cell_type": "code",
   "execution_count": 6,
   "metadata": {},
   "outputs": [
    {
     "name": "stdout",
     "output_type": "stream",
     "text": [
      "bad\n",
      "bed\n"
     ]
    }
   ],
   "source": [
    "template = \"b.d\"  # matches a string starting with \"b\", ending with \"d\" and any character in between\n",
    "match_1 = re.match(template, \"bad\").group()  # the result is a string \"bad\"\n",
    "match_2 = re.match(template, \"bed\").group()  # the result is a string \"bed\"\n",
    "print(match_1)\n",
    "print(match_2)\n"
   ]
  },
  {
   "attachments": {},
   "cell_type": "markdown",
   "metadata": {},
   "source": [
    "If you try to call group() from None, it will raise an AttributeError:\n",
    "\n"
   ]
  },
  {
   "cell_type": "code",
   "execution_count": 9,
   "metadata": {},
   "outputs": [
    {
     "ename": "AttributeError",
     "evalue": "'NoneType' object has no attribute 'group'",
     "output_type": "error",
     "traceback": [
      "\u001b[0;31m---------------------------------------------------------------------------\u001b[0m",
      "\u001b[0;31mAttributeError\u001b[0m                            Traceback (most recent call last)",
      "Cell \u001b[0;32mIn[9], line 1\u001b[0m\n\u001b[0;32m----> 1\u001b[0m re\u001b[39m.\u001b[39;49mmatch(template, \u001b[39m\"\u001b[39;49m\u001b[39mdub\u001b[39;49m\u001b[39m\"\u001b[39;49m)\u001b[39m.\u001b[39;49mgroup()  \u001b[39m# AttributeError: 'NoneType' object has no attribute 'group'\u001b[39;00m\n",
      "\u001b[0;31mAttributeError\u001b[0m: 'NoneType' object has no attribute 'group'"
     ]
    }
   ],
   "source": [
    "re.match(template, \"dub\").group()  # AttributeError: 'NoneType' object has no attribute 'group'\n"
   ]
  },
  {
   "attachments": {},
   "cell_type": "markdown",
   "metadata": {},
   "source": [
    "## 3) Extracting match indexes\n",
    "\n",
    "You may need to know where the matching substring starts, in other words, the starting index of the matching substring in the original string. It can be done with the start() method that returns a starting index (an integer):\n",
    "\n",
    "\n"
   ]
  },
  {
   "cell_type": "code",
   "execution_count": 10,
   "metadata": {},
   "outputs": [],
   "source": [
    "start = re.match(template, \"bad\").start()  # the result is integer 0\n"
   ]
  },
  {
   "attachments": {},
   "cell_type": "markdown",
   "metadata": {},
   "source": [
    "This method may be confusing when you use match() function, because it always searches for matches starting at the beginning of the string. However, with other matching functions that you will encounter a bit later, start() becomes more useful."
   ]
  },
  {
   "cell_type": "code",
   "execution_count": 11,
   "metadata": {},
   "outputs": [],
   "source": [
    "# You can similarly extract the ending index of the string with the end() method:\n",
    "\n",
    "template = \"100%?\"  # matches strings \"100\" or \"100%\"\n",
    "end_1 = re.match(template, \"100\").end()  # the result is integer 3\n",
    "end_2 = re.match(template, \"100%\").end()  # the result is integer 4"
   ]
  },
  {
   "attachments": {},
   "cell_type": "markdown",
   "metadata": {},
   "source": [
    "As you can see, the end() method doesn't return the exact index of the last character of the matching substring, it adds 1 to it instead. This feature can facilitate slicing:"
   ]
  },
  {
   "cell_type": "code",
   "execution_count": 12,
   "metadata": {},
   "outputs": [
    {
     "name": "stdout",
     "output_type": "stream",
     "text": [
      " reason to remember the name\n"
     ]
    }
   ],
   "source": [
    "template = \"100%?\"\n",
    "string = \"100% reason to remember the name\"\n",
    "end = re.match(template, string).end()\n",
    "print(string[end:])\n",
    "# the output is \" reason to remember the name\""
   ]
  },
  {
   "attachments": {},
   "cell_type": "markdown",
   "metadata": {},
   "source": [
    "To extract both indexes at the same time, use the span() method. Instead of a single integer, it returns a tuple with two integer elements, the starting and the ending index of the matching substring."
   ]
  },
  {
   "cell_type": "code",
   "execution_count": 13,
   "metadata": {},
   "outputs": [],
   "source": [
    "span = re.match(template, \"100%\").span()  # the result is tuple (0, 4)\n"
   ]
  },
  {
   "attachments": {},
   "cell_type": "markdown",
   "metadata": {},
   "source": [
    "## 4) Function flags\n",
    "It's important to keep in mind that regular expressions by default are case-sensitive, letters of the upper and the lower case are treated as different characters.\n",
    "\n"
   ]
  },
  {
   "cell_type": "code",
   "execution_count": 1,
   "metadata": {},
   "outputs": [],
   "source": [
    "lower = r'where are the money, Lebowski\\?'\n",
    "upper = r'WHERE ARE THE MONEY, Lebowski\\?'\n",
    "# These are different templates\n"
   ]
  },
  {
   "attachments": {},
   "cell_type": "markdown",
   "metadata": {},
   "source": [
    "To make your regex case-insensitive, you can use a special flag when you call the match() function (or any other function for matching). It's called re.IGNORECASE. Pass it to the function as the value of the optional flags argument:"
   ]
  },
  {
   "cell_type": "code",
   "execution_count": null,
   "metadata": {},
   "outputs": [],
   "source": [
    "lower = r'where is the money, Lebowski\\?'\n",
    "upper = r'WHERE IS THE MONEY, Lebowski\\?'\n",
    "string = 'Where Is the money, lebowski?'\n",
    "result_lower = re.match(lower, string, flags=re.IGNORECASE)  # match\n",
    "result_upper = re.match(upper, string, flags=re.IGNORECASE)  # match"
   ]
  },
  {
   "attachments": {},
   "cell_type": "markdown",
   "metadata": {},
   "source": [
    "\"re.DOTALL\" is another very useful flag. It can be used in the same fashion; it matches a dot character with literally every character, including \\n (as you probably remember, by default, a dot character doesn't match a newline character)."
   ]
  },
  {
   "cell_type": "code",
   "execution_count": 4,
   "metadata": {},
   "outputs": [],
   "source": [
    "dot_template = 'new line .'\n",
    "no_flag = re.match(dot_template, 'new line \\n')  # None\n",
    "with_flag = re.match(dot_template, 'new line \\n', flags=re.DOTALL)  # match"
   ]
  },
  {
   "attachments": {},
   "cell_type": "markdown",
   "metadata": {},
   "source": [
    "To enable several flags at once, pass their sum as the flags value or use the | operator.\n",
    "\n"
   ]
  },
  {
   "cell_type": "code",
   "execution_count": 5,
   "metadata": {},
   "outputs": [],
   "source": [
    "result = re.match('FLAG ME.', 'flag me\\n', flags=re.IGNORECASE + re.DOTALL)  # match\n"
   ]
  }
 ],
 "metadata": {
  "kernelspec": {
   "display_name": "Python 3",
   "language": "python",
   "name": "python3"
  },
  "language_info": {
   "codemirror_mode": {
    "name": "ipython",
    "version": 3
   },
   "file_extension": ".py",
   "mimetype": "text/x-python",
   "name": "python",
   "nbconvert_exporter": "python",
   "pygments_lexer": "ipython3",
   "version": "3.11.3"
  },
  "orig_nbformat": 4
 },
 "nbformat": 4,
 "nbformat_minor": 2
}
