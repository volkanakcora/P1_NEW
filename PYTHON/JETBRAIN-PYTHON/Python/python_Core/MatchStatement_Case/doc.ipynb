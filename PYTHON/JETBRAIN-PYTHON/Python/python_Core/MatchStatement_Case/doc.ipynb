{
 "cells": [
  {
   "cell_type": "code",
   "execution_count": null,
   "metadata": {},
   "outputs": [],
   "source": [
    "def http_handler(response):\n",
    "    match response:\n",
    "        case 200:\n",
    "            print('OK')\n",
    "        case 400:\n",
    "            print('Bad request')\n",
    "        case 404:\n",
    "            print('Not found')\n",
    "        case 500:\n",
    "            print('Internal server error')\n",
    "        case _:\n",
    "            print('Unknown error')\n",
    "\n",
    "http_handler(200)  # OK\n",
    "http_handler(404)  # Not found\n",
    "http_handler(500)  # Internal server error\n",
    "http_handler(610)  # Unknown error"
   ]
  },
  {
   "cell_type": "code",
   "execution_count": null,
   "metadata": {},
   "outputs": [],
   "source": [
    "def http_handler(response):\n",
    "    match response:\n",
    "        case 200 | 201:\n",
    "            print('OK')\n",
    "        case 400:\n",
    "            print('Bad request')\n",
    "        case 404:\n",
    "            print('Not found')\n",
    "        case 500:\n",
    "            print('Internal server error')\n",
    "        case _:\n",
    "            print('Unknown error')\n",
    "\n",
    "http_handler(200)  # OK\n",
    "http_handler(201)  # OK\n",
    "http_handler(404)  # Not found\n",
    "http_handler(500)  # Internal server error\n",
    "http_handler(610)  # Unknown error"
   ]
  },
  {
   "cell_type": "markdown",
   "metadata": {},
   "source": [
    "You can also use lists and declare variables inside a case"
   ]
  },
  {
   "cell_type": "code",
   "execution_count": null,
   "metadata": {},
   "outputs": [],
   "source": [
    "def parse_input():\n",
    "    user_input = input()\n",
    "    match user_input.split():\n",
    "        case ['greet']:\n",
    "            print('Hello!')\n",
    "        case ['say', word]:\n",
    "            print(f'I am saying {word}')\n",
    "        case ['execute', *args]:\n",
    "            for arg in args:\n",
    "                some_function(arg)  # an arbitrary function you might have defined above\n",
    "        case _:\n",
    "            print(f'Unknown command: {user_input}')"
   ]
  },
  {
   "cell_type": "code",
   "execution_count": null,
   "metadata": {},
   "outputs": [],
   "source": [
    "def parse_command(cmd):\n",
    "    match cmd.split():\n",
    "        case ['ls', ('-la' | '-a' | '-l')]:\n",
    "            print('Matches the \"ls\" command with one of the specified arguments')\n",
    "        case ['cd', path] if os.path.exists(path):\n",
    "            print('Change directory if the specified path exists')\n",
    "        case _:\n",
    "            print(f'Invalid command: {cmd}')"
   ]
  },
  {
   "cell_type": "code",
   "execution_count": null,
   "metadata": {},
   "outputs": [],
   "source": [
    "parse_command('ls -la')  # matches the first case\n",
    "parse_command('ls -a')   # matches the first case\n",
    "parse_command('ls -o')   # matches the last case, prints \"Invalid command: ls -o\"\n",
    "parse_command('ls')      # matches the last case, prints \"Invalid command: ls\"\n",
    "parse_command('cd venv') # matches the second case, if the \"venv\" directory exists\n",
    "parse_command('cd non_existent_dir')  # matches the last case, \n",
    "                                      # prints \"Invalid command: cd non_existent dir\""
   ]
  },
  {
   "cell_type": "markdown",
   "metadata": {},
   "source": [
    "Pattern matching also supports the use of dictionaries like this:\n",
    "\n",
    "\n"
   ]
  },
  {
   "cell_type": "code",
   "execution_count": null,
   "metadata": {},
   "outputs": [],
   "source": [
    "match my_dict:\n",
    "    case {'city': 'Paris'}:\n",
    "        print('This block matches any dictionary which has the pair \"city\" - \"Paris\"')\n",
    "    case {'city': 'London', 'country': 'Great Britain'}:\n",
    "        print('Similar to the previous case, but the dictionary must contain both pairs')\n",
    "    case {'language': lang, 'country': country, 'capital': capital}:\n",
    "        print('This block matches any dictionary with the keys '\n",
    "              '\"language\", \"country\", and \"capital\" linked to any values')\n",
    "    case _:\n",
    "        print('As usual, this matches anything!')"
   ]
  },
  {
   "cell_type": "markdown",
   "metadata": {},
   "source": [
    "As you can see, the pattern matching feature lets you write significantly cleaner and more readable code. The examples above barely scratch the surface. You can even use custom classes as patterns to match, as such:"
   ]
  },
  {
   "cell_type": "code",
   "execution_count": null,
   "metadata": {},
   "outputs": [],
   "source": [
    "from dataclasses import dataclass\n",
    "\n",
    "\n",
    "@dataclass\n",
    "class Student:\n",
    "    name: str\n",
    "    age: int\n",
    "    grade: float\n",
    "\n",
    "@dataclass\n",
    "class Teacher:\n",
    "    name: str\n",
    "    subject: str\n",
    "\n",
    "\n",
    "def match_person(person):\n",
    "    match person:\n",
    "        case Student('John', 17, 4.3):\n",
    "            print('This case matches a student with those exact properties')\n",
    "        case Student('Emily'):\n",
    "            print('Matches any student named \"Emily\"')\n",
    "        case Teacher('Mr. Smith', subject):\n",
    "            print(f'Matches any teacher with that name. The subject is stored: {subject}')\n",
    "        case _:\n",
    "            print('Unknown argument')"
   ]
  },
  {
   "cell_type": "markdown",
   "metadata": {},
   "source": [
    "We've declared two classes: Student and Teacher. Please note the @dataclass annotation is essential for pattern matching to work. Remember, data classes are designed only to hold data values and usually don't have any methods. Now we can define patterns by describing the values stored in the fields. The syntax is similar to what we've previously discussed about lists and dictionaries. Our function will behave like this:"
   ]
  },
  {
   "cell_type": "code",
   "execution_count": null,
   "metadata": {},
   "outputs": [],
   "source": [
    "match_person(Student('John', 17, 4.3))  # matches the first case\n",
    "match_person(Student('Emily', 12, 2.5))  # matches the second case\n",
    "match_person(Teacher('Mr. Smith', 'geography'))  # matches the third case\n",
    "match_person(Teacher('Mr. Smith', 'literature'))  # matches the third case\n",
    "match_person(Teacher('Mrs. Holmes', 'math'))  # matches the last case"
   ]
  },
  {
   "cell_type": "markdown",
   "metadata": {},
   "source": [
    "## Matching logic\n"
   ]
  },
  {
   "cell_type": "markdown",
   "metadata": {},
   "source": [
    "In Python 3.10, the match statement evaluates each pattern in order and matches the first suitable case, disregarding the rest. So, if you were to declare two identical patterns, the one listed first would be matched:"
   ]
  },
  {
   "cell_type": "code",
   "execution_count": null,
   "metadata": {},
   "outputs": [],
   "source": [
    "def print_cmd(cmd):\n",
    "    match cmd:\n",
    "        case 'greet':\n",
    "            print('Hi!')\n",
    "        case 'greet':\n",
    "            print('Hello!')\n",
    "        case _:\n",
    "            print('Bye!')\n",
    "\n",
    "print_cmd('greet')  # prints 'Hi!'"
   ]
  },
  {
   "cell_type": "markdown",
   "metadata": {},
   "source": [
    "For this reason, it's forbidden to declare case _ before all the other cases are listed. Since the wildcard (_) would make the remaining clauses unreachable. Also, writing such code results in a SyntaxError.\n",
    "\n",
    "Pattern matching is excellent for working with data classes, not only because it helps write cleaner code. It's also implemented in a lightweight way. When declaring a data class in a pattern, no new instance is created. The case merely checks that the passed object is an instance of the corresponding class and has required field values, without creating a new object."
   ]
  },
  {
   "cell_type": "markdown",
   "metadata": {},
   "source": [
    "## Compatibility and limitations\n"
   ]
  },
  {
   "cell_type": "markdown",
   "metadata": {},
   "source": [
    "Despite how effective the pattern matching feature is, it's crucial to note that it's not backward compatible with earlier Python versions. It's available in Python 3.10 and subsequent versions. This means that if you want to leverage the features of the match statement, you must ensure you're working with these newer Python versions.\n",
    "\n",
    "Pattern matching can also have performance constraints. If a programmer writes overly complex patterns, which are costly to assess, or uses large data structures, the performance impact of using the match statement can be considerable for large datasets, complex structures, or performance-critical applications. However, for typical code, this impact should be negligible. You should profile your code to identify any bottlenecks and consider alternative optimization strategies, such as simplifying patterns or optimizing data structures. Furthermore, overly complex patterns can diminish readability, as in the following example:"
   ]
  },
  {
   "cell_type": "code",
   "execution_count": null,
   "metadata": {},
   "outputs": [],
   "source": [
    "case [['key1', 1, 2, 3], 'key2', ['value']] | ['val', 1, 2, 3] | [{'key1':'value1'}]:\n",
    "// An overly complex and unreadable pattern"
   ]
  },
  {
   "cell_type": "markdown",
   "metadata": {},
   "source": []
  }
 ],
 "metadata": {
  "language_info": {
   "name": "python"
  }
 },
 "nbformat": 4,
 "nbformat_minor": 2
}
