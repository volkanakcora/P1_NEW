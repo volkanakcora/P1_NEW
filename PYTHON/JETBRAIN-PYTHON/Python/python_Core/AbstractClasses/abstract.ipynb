{
 "cells": [
  {
   "cell_type": "markdown",
   "metadata": {},
   "source": [
    "## How to create an abstract class?\n",
    "\n",
    "To create an abstract class in Python, we need to use the abc module (which we first have to import). abc is a module for abstract base classes, that is why we have the name.\n",
    "\n",
    "The first step to make a class abstract is to declare it with a parent class ABC from the abc module."
   ]
  },
  {
   "cell_type": "code",
   "execution_count": null,
   "metadata": {},
   "outputs": [],
   "source": [
    "from abc import ABC, abstractmethod\n",
    "\n",
    "\n",
    "class Player(ABC):\n",
    "    ..."
   ]
  },
  {
   "cell_type": "markdown",
   "metadata": {},
   "source": [
    "s we start to create our player classes, we take the class Player as our template. However, this is not enough. This class is not abstract yet, as it does not have any abstract methods. So, you could create an instance of this class, but it is not what we want.\n",
    "\n",
    "Now we need to define methods, they represent the actions that our players will be able to do."
   ]
  },
  {
   "cell_type": "code",
   "execution_count": 17,
   "metadata": {},
   "outputs": [],
   "source": [
    "from abc import ABC, abstractmethod\n",
    "\n",
    "\n",
    "class Player(ABC):\n",
    "    def __init__(self, name, rank, level):\n",
    "        self.name = name\n",
    "        self.rank = rank\n",
    "        self.level = level\n",
    "        super().__init__()\n",
    "\n",
    "    @abstractmethod\n",
    "    def fight(self):\n",
    "        print(\"selam ben birinci\")\n",
    "\n",
    "    @abstractmethod\n",
    "    def do_spell(self):\n",
    "        print(\"naber\")\n",
    "\n",
    "    def sing_song(self):\n",
    "        print(\"Ahoj\")"
   ]
  },
  {
   "cell_type": "markdown",
   "metadata": {},
   "source": [
    "Note that not all methods in the abstract class need to be abstract. With the abstract class, only \"mandatory\" methods should be abstract because they will need to be overridden in the child class to work properly.\n",
    "\n",
    "- If we attempt to create an object of this class now, we will get a TypeError:\n",
    "\n",
    "```python\n",
    "some_player = Player(\"Legolas\", 3, 3)\n",
    "\n",
    "# TypeError: Can't instantiate abstract class Player with abstract methods do_spell, fight\n",
    "```"
   ]
  },
  {
   "cell_type": "markdown",
   "metadata": {},
   "source": [
    "## Subclasses\n",
    "Now we have a proper template, which means we are ready to create actual player classes. Let's start with the class Warrior.\n",
    "\n",
    "```python\n",
    "class Warrior(Player):\n",
    "    ...\n",
    "```"
   ]
  },
  {
   "cell_type": "markdown",
   "metadata": {},
   "source": [
    "We have already mentioned that abstract methods need to be overridden in the subclasses of an abstract class. What happens if they remain the way they are? Well, as you can see, with the class Warrior above, we have not overridden anything. This is what happens when we try to create an object of this class:\n",
    "\n",
    "```python\n",
    "warrior = Warrior(\"Bran\", 1, 1)\n",
    "\n",
    "# TypeError: Can't instantiate abstract class Warrior with abstract methods do_spell, fight\n",
    "```"
   ]
  },
  {
   "cell_type": "code",
   "execution_count": null,
   "metadata": {},
   "outputs": [],
   "source": []
  },
  {
   "cell_type": "code",
   "execution_count": 23,
   "metadata": {},
   "outputs": [
    {
     "name": "stdout",
     "output_type": "stream",
     "text": [
      "Swing an ax\n",
      "Increase weapon fatality\n",
      "Ahoj\n"
     ]
    }
   ],
   "source": [
    "class Warrior(Player):\n",
    "    def fight(self):\n",
    "        print(\"Swing an ax\")\n",
    "        \n",
    "    def do_spell(self):\n",
    "        print(\"Increase weapon fatality\") \n",
    "\n",
    "# The whole thing about the abstract class, that you must define it for sure, it will not call it. It must be overriden\n",
    "\n",
    "\n",
    "\n",
    "\n",
    "warrior = Warrior(\"Bran\", 1, 1)\n",
    "\n",
    "warrior.fight()\n",
    "# Swing an ax\n",
    "warrior.do_spell()\n",
    "# Increase weapon fatality\n",
    "warrior.sing_song()\n",
    "# No song for me!"
   ]
  },
  {
   "cell_type": "code",
   "execution_count": 26,
   "metadata": {},
   "outputs": [
    {
     "name": "stdout",
     "output_type": "stream",
     "text": [
      "Smash the opponent with your lute.\n",
      "Enchant everyone with your tale.\n",
      "Sing a beautiful song.\n"
     ]
    }
   ],
   "source": [
    "class Bard(Player):\n",
    "    def fight(self):\n",
    "        print(\"Smash the opponent with your lute.\")\n",
    "        \n",
    "    def do_spell(self):\n",
    "        print(\"Enchant everyone with your tale.\")\n",
    "        \n",
    "    def sing_song(self):\n",
    "        print(\"Sing a beautiful song.\")\n",
    "        \n",
    "\n",
    "bard = Bard(\"Jaskier\", 4, 5)\n",
    "\n",
    "bard.fight()\n",
    "# Smash the opponent with your lute.\n",
    "bard.do_spell()\n",
    "# Enchant everyone with your tale.\n",
    "bard.sing_song()\n",
    "# Sing a beautiful song."
   ]
  },
  {
   "cell_type": "markdown",
   "metadata": {},
   "source": []
  },
  {
   "cell_type": "code",
   "execution_count": 1,
   "metadata": {},
   "outputs": [
    {
     "name": "stdout",
     "output_type": "stream",
     "text": [
      "         74 function calls in 10.010 seconds\n",
      "\n",
      "   Ordered by: standard name\n",
      "\n",
      "   ncalls  tottime  percall  cumtime  percall filename:lineno(function)\n",
      "        1    0.000    0.000   10.010   10.010 2716916405.py:10(<module>)\n",
      "        1    0.000    0.000    0.000    0.000 2716916405.py:13(<module>)\n",
      "        1    0.000    0.000    0.000    0.000 2716916405.py:7(<module>)\n",
      "        5    0.000    0.000   10.010    2.002 2716916405.py:7(let_me_sleep)\n",
      "        3    0.000    0.000    0.000    0.000 codeop.py:142(__call__)\n",
      "        6    0.000    0.000    0.000    0.000 compilerop.py:180(extra_flags)\n",
      "        3    0.000    0.000    0.000    0.000 contextlib.py:114(__enter__)\n",
      "        3    0.000    0.000    0.000    0.000 contextlib.py:123(__exit__)\n",
      "        3    0.000    0.000    0.000    0.000 contextlib.py:261(helper)\n",
      "        3    0.000    0.000    0.000    0.000 contextlib.py:86(__init__)\n",
      "        3    0.000    0.000    0.000    0.000 interactiveshell.py:1255(user_global_ns)\n",
      "        3    0.000    0.000    0.000    0.000 interactiveshell.py:3466(compare)\n",
      "        3    0.000    0.000   10.010    3.337 interactiveshell.py:3514(run_code)\n",
      "        3    0.000    0.000    0.000    0.000 traitlets.py:629(get)\n",
      "        3    0.000    0.000    0.000    0.000 traitlets.py:676(__get__)\n",
      "        6    0.000    0.000    0.000    0.000 typing.py:1375(cast)\n",
      "        3    0.000    0.000    0.000    0.000 {built-in method builtins.compile}\n",
      "        3    0.000    0.000   10.010    3.337 {built-in method builtins.exec}\n",
      "        6    0.000    0.000    0.000    0.000 {built-in method builtins.getattr}\n",
      "        6    0.000    0.000    0.000    0.000 {built-in method builtins.next}\n",
      "        5   10.010    2.002   10.010    2.002 {built-in method time.sleep}\n",
      "        1    0.000    0.000    0.000    0.000 {method 'disable' of '_lsprof.Profiler' objects}\n",
      "\n",
      "\n"
     ]
    }
   ],
   "source": [
    "import cProfile\n",
    "import time\n",
    "\n",
    "pr = cProfile.Profile()\n",
    "pr.enable()\n",
    "\n",
    "def let_me_sleep(time_in_seconds):\n",
    "    time.sleep(time_in_seconds)\n",
    "\n",
    "for i in range(5):\n",
    "    let_me_sleep(i)\n",
    "\n",
    "pr.disable()\n",
    "pr.print_stats()\n"
   ]
  },
  {
   "cell_type": "code",
   "execution_count": 3,
   "metadata": {},
   "outputs": [
    {
     "name": "stdout",
     "output_type": "stream",
     "text": [
      "The color is red\n"
     ]
    }
   ],
   "source": [
    "from enum import Enum\n",
    "\n",
    "class Color(Enum):\n",
    "    RED = 1\n",
    "    GREEN = 2\n",
    "    BLUE = 3\n",
    "\n",
    "# Check whether the color is red\n",
    "color = Color.RED\n",
    "if color.__eq__(Color.RED):\n",
    "    print(\"The color is red\")\n",
    "else:\n",
    "    print(\"The color is not red\")\n",
    "\n",
    "# Output: The color is red"
   ]
  },
  {
   "cell_type": "code",
   "execution_count": null,
   "metadata": {},
   "outputs": [],
   "source": []
  }
 ],
 "metadata": {
  "kernelspec": {
   "display_name": "Python 3",
   "language": "python",
   "name": "python3"
  },
  "language_info": {
   "codemirror_mode": {
    "name": "ipython",
    "version": 3
   },
   "file_extension": ".py",
   "mimetype": "text/x-python",
   "name": "python",
   "nbconvert_exporter": "python",
   "pygments_lexer": "ipython3",
   "version": "3.9.18"
  }
 },
 "nbformat": 4,
 "nbformat_minor": 2
}
