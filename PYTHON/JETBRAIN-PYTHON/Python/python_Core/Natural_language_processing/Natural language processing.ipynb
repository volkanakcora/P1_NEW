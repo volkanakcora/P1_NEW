{
 "cells": [
  {
   "attachments": {},
   "cell_type": "markdown",
   "metadata": {},
   "source": [
    "# Natural language processing\n",
    "- Natural language processing, or NLP for short, is a branch of artificial intelligence that helps with interaction between computers and human languages. It involves processing of large text data. Texts are usually grouped into a special collection called corpus. Text corpora are convenient to work with, but if you want to process language efficiently, it's crucial to know how it is organized.\n",
    "\n",
    "We share a common linguistic background if we speak the same languages. Computers cannot understand words, grammatical rules, and connotations that we choose. Natural languages have many levels: syntax, morphology, semantics, and so on. The linguistic analysis at multiple levels can show us text's internal structure. It can help us solve various real-life problems.\n",
    "\n",
    "# Main applications\n",
    "- In NLP, we use computers to solve language-related tasks, and it has already shown great promise.\n",
    "\n",
    "Conversational agents from sci-fi books have made their way into reality. Nowadays, they converse with us to guide, train, support or simply entertain. Communication with dialogue systems usually consists of several stages. First, a program recognizes human speech, which may be difficult due to various accents, speech difficulties, and pronunciation characteristics. The transcribed text is then analyzed and represented semantically, so that the computer can understand and respond. The last stage is speech synthesis. That's quite an engaging field indeed, as diverse as human beings themselves."
   ]
  },
  {
   "attachments": {},
   "cell_type": "markdown",
   "metadata": {},
   "source": [
    "- Sentiment analysis and opinion mining are generally applied to texts of a smaller size, for example, tweets or online reviews. The idea is to separate what is said (an opinion) from how it is said (an emotion, or polarity). It is useful for identifying trends in social media and developing new strategies in marketing.\n",
    "\n",
    "- Text summarization helps create a concise summary of a document. First, the task is to identify the most important, the gist. Then, you can either extract and compile the original data or transform it into a brand-new text. Either way, it's a superpower in the world overloaded with data."
   ]
  },
  {
   "cell_type": "code",
   "execution_count": null,
   "metadata": {},
   "outputs": [],
   "source": []
  }
 ],
 "metadata": {
  "language_info": {
   "name": "python"
  },
  "orig_nbformat": 4
 },
 "nbformat": 4,
 "nbformat_minor": 2
}
