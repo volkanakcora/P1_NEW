{
 "cells": [
  {
   "cell_type": "code",
   "execution_count": 1,
   "metadata": {},
   "outputs": [
    {
     "name": "stdout",
     "output_type": "stream",
     "text": [
      "{'side': 'length of square side', 'return': 'result of side ** 2'}\n"
     ]
    }
   ],
   "source": [
    "def square_area(side: 'length of square side') -> 'result of side ** 2':\n",
    "    return side ** 2\n",
    "\n",
    "print(square_area.__annotations__)  # call annotations attribute\n",
    "\n",
    "# {'side': 'length of square side', 'return': 'result of side ** 2'}"
   ]
  },
  {
   "cell_type": "markdown",
   "metadata": {},
   "source": [
    "the function annotations are a Python 3 feature that lets you add arbitrary metadata to function arguments and a return value. According to the PEP, the function annotations are arbitrary Python expressions that can be associated with various function parts. Python does not attach any meaning to these annotations by itself."
   ]
  },
  {
   "cell_type": "markdown",
   "metadata": {},
   "source": []
  },
  {
   "cell_type": "markdown",
   "metadata": {},
   "source": [
    "## Importance of annotations\n",
    "Function annotations require minimal effort, but they can have a huge impact on your code:\n",
    "\n",
    "- They improve the way you write your code — it becomes more concise;\n",
    "\n",
    "- They encourage you to think outside the box;\n",
    "\n",
    "- By normalizing the documentation of inputs and outputs, they help you and other people understand the code easier;\n",
    "\n",
    "They help you identify type-related issues.\n",
    "\n",
    "Enough said, let's see what the annotations are!\n",
    "\n",
    "\n",
    "## Syntax of annotations\n",
    "Annotations for simple parameters. An argument is followed by : and an expression. The annotation syntax runs like this:"
   ]
  },
  {
   "cell_type": "code",
   "execution_count": 2,
   "metadata": {},
   "outputs": [],
   "source": [
    "def func(argument: \"expression\", default_argument: \"expression\"=5):\n",
    "    ..."
   ]
  },
  {
   "cell_type": "markdown",
   "metadata": {},
   "source": [
    "Annotations for excess parameters. The excess parameters like *args and **kwargs allow passing an arbitrary number of arguments in the function call. The syntax is very similar to the one with simple parameters:"
   ]
  },
  {
   "cell_type": "code",
   "execution_count": null,
   "metadata": {},
   "outputs": [],
   "source": [
    "def func(*args: \"expression\", **kwargs: \"expression\"):\n",
    "    ..."
   ]
  },
  {
   "cell_type": "markdown",
   "metadata": {},
   "source": [
    "Annotations for the return type. Annotation of the return type is quite different from argument annotation. The return value is annotated with -> followed by an annotation expression. Mind the example below:"
   ]
  },
  {
   "cell_type": "code",
   "execution_count": null,
   "metadata": {},
   "outputs": [],
   "source": [
    "def func(argument: \"expression\") -> \"expression\":\n",
    "   ..."
   ]
  },
  {
   "cell_type": "markdown",
   "metadata": {},
   "source": [
    "## Accessing annotations\n",
    "All annotations are stored in a dictionary named __annotations__ that is an attribute of the function"
   ]
  },
  {
   "cell_type": "code",
   "execution_count": null,
   "metadata": {},
   "outputs": [],
   "source": [
    "def func(x:'annotating x', y: 'annotating y', z: int) -> float:\n",
    "    return x + y + z\n",
    "\n",
    "print(func.__annotations__)\n",
    "# {'x': 'annotating x', 'y': 'annotating y', 'z': <class 'int'>, 'return': <class 'float'>}"
   ]
  },
  {
   "cell_type": "markdown",
   "metadata": {},
   "source": [
    "## Case studies\n",
    "As we recall from PEP-3107, annotations have no standard meaning or semantics. However, there're certain cases that we will discuss in more depth.\n",
    "\n",
    "One of the biggest advantages of function annotations is that you can move an argument and a return value from a docstring. Let's take a look at the two functions below. The first one employs a docstring, while the second one is annotated according to PEP-3107. As you can see, the second option is more concise and easy to read:"
   ]
  },
  {
   "cell_type": "code",
   "execution_count": null,
   "metadata": {},
   "outputs": [],
   "source": [
    "def multiplication(a, b):\n",
    "    \"\"\"Multiply a by b \n",
    "    args:\n",
    "        a - the multiplicand\n",
    "        b - the multiplier\n",
    "    return:\n",
    "        the result of multiplying a by b\n",
    "    \"\"\"\n",
    "    return a * b\n",
    "    \n",
    "def multiplication(a: 'the multiplicand', b: 'the multiplier') -> 'the result of multiplying a by b':\n",
    "    \"\"\"Multiply a by b\"\"\"\n",
    "    return a * b"
   ]
  },
  {
   "cell_type": "markdown",
   "metadata": {},
   "source": [
    "There are several other benefits of annotations over docstrings. First of all, when an argument is renamed, the docstring may remain out of date, so don't forget to update them. It is also much easier to see whether an argument is documented or not. Finally, the __annotations__ attribute provides a direct, standard mechanism to access metadata."
   ]
  },
  {
   "cell_type": "markdown",
   "metadata": {},
   "source": [
    "Another benefit of annotations over docstring is that you can specify different types of metadata, such as tuples or dictionaries, without any special parsing methods or external modules. Let's say you want to annotate arguments and a return value with both type and a description string. You can do that by annotating with a dict that has two keys: type and description:"
   ]
  },
  {
   "cell_type": "code",
   "execution_count": null,
   "metadata": {},
   "outputs": [],
   "source": [
    "def multiplication(a: dict(description='the multiplicand', type=int), \n",
    "                   b: dict(description='the multiplier', type=int)) \n",
    "                   -> dict(description='the result of multiplying a by b', type=int):\n",
    "    \"\"\"Multiply a by b\"\"\"\n",
    "    return a * b\n",
    "\n",
    "\n",
    "print(multiplication.__annotations__)\n",
    "\n",
    "#{'a': {'description': 'the multiplicand', 'type': <class 'int'>},\n",
    "# 'b': {'description': 'the multiplier', 'type': <class 'int'>},\n",
    "# 'return': {'description': 'the result of multiplying a by b',\n",
    "#            'type': <class 'int'>}}"
   ]
  }
 ],
 "metadata": {
  "kernelspec": {
   "display_name": "Python 3",
   "language": "python",
   "name": "python3"
  },
  "language_info": {
   "codemirror_mode": {
    "name": "ipython",
    "version": 3
   },
   "file_extension": ".py",
   "mimetype": "text/x-python",
   "name": "python",
   "nbconvert_exporter": "python",
   "pygments_lexer": "ipython3",
   "version": "3.9.18"
  }
 },
 "nbformat": 4,
 "nbformat_minor": 2
}
