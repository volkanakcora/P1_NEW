{
 "cells": [
  {
   "cell_type": "code",
   "execution_count": null,
   "metadata": {},
   "outputs": [],
   "source": [
    "# Traditional assignment before Python 3.8\n",
    "value = input(\"Enter a number: \")\n",
    "if value:\n",
    "    print(f'You entered {value}')\n",
    "\n",
    "# With Walrus Operator in Python 3.8 and later\n",
    "if (value := input(\"Enter a number: \")):\n",
    "    print(f'You entered {value}')"
   ]
  },
  {
   "cell_type": "code",
   "execution_count": null,
   "metadata": {},
   "outputs": [],
   "source": [
    "# Traditional assignment\n",
    "x = 5\n",
    "print(x)  # Output: 5\n",
    "\n",
    "# Walrus Operator\n",
    "print(x := 5)  # Output: 5"
   ]
  },
  {
   "cell_type": "code",
   "execution_count": null,
   "metadata": {},
   "outputs": [],
   "source": [
    "# Without Walrus Operator\n",
    "file = open('data.txt')\n",
    "line = file.readline()\n",
    "while line:\n",
    "    print(line.strip())\n",
    "    line = file.readline()\n",
    "file.close()\n",
    "\n",
    "# With Walrus Operator\n",
    "file = open('data.txt')\n",
    "while (line := file.readline()):\n",
    "    print(line.strip())\n",
    "file.close()"
   ]
  },
  {
   "cell_type": "code",
   "execution_count": null,
   "metadata": {},
   "outputs": [],
   "source": [
    "# Without Walrus Operator\n",
    "dictionary = {'key': 42}\n",
    "value = dictionary.get('key')\n",
    "if value:\n",
    "    print(f'Found: {value}')\n",
    "\n",
    "# With Walrus Operator\n",
    "dictionary = {'key': 42}\n",
    "if (value := dictionary.get('key')):\n",
    "    print(f'Found: {value}')"
   ]
  },
  {
   "cell_type": "code",
   "execution_count": 3,
   "metadata": {},
   "outputs": [
    {
     "name": "stderr",
     "output_type": "stream",
     "text": [
      "The second number cannot be a zero!\n"
     ]
    }
   ],
   "source": [
    "import sys\n",
    "\n",
    "def division():\n",
    "    a = int(input(\"Set the first number: \"))\n",
    "    b = int(input(\"Set the second number: \"))\n",
    "    if b != 0:\n",
    "        print(a / b)\n",
    "    else:\n",
    "        # The string below will look like an error message.\n",
    "        print(\"The second number cannot be a zero!\", file=sys.stderr)\n",
    "\n",
    "division()"
   ]
  },
  {
   "cell_type": "code",
   "execution_count": 4,
   "metadata": {},
   "outputs": [
    {
     "name": "stdout",
     "output_type": "stream",
     "text": [
      "Move disk from a to c\n",
      "Move disk from a to b\n",
      "Move disk from c to b\n",
      "Move disk from a to c\n",
      "Move disk from b to a\n",
      "Move disk from b to c\n",
      "Move disk from a to c\n"
     ]
    }
   ],
   "source": [
    "def move(disk, source, destination, auxiliary):\n",
    "\n",
    "    if disk == 1:  # if you have one disk, move it directly to the destination tower\n",
    "        print(f\"Move disk from {source} to {destination}\") \n",
    "        \n",
    "    else:  # for multiple disks\n",
    "        move(disk-1, source, auxiliary, destination)  # move all except largest disk to the auxiliary tower\n",
    "        print(f\"Move disk from {source} to {destination}\")  # move the largest disk to the destination tower\n",
    "        move(disk-1, auxiliary, destination, source)  # move the disks from the auxiliary tower to the destination tower\n",
    "\n",
    "move(3, \"a\", \"c\", \"b\")"
   ]
  },
  {
   "cell_type": "code",
   "execution_count": 7,
   "metadata": {},
   "outputs": [
    {
     "name": "stdout",
     "output_type": "stream",
     "text": [
      "[1, 4, 9, 16, 25]\n"
     ]
    }
   ],
   "source": [
    "from multiprocessing import Pool\n",
    "\n",
    "def square(n):\n",
    "    return n * n\n",
    "\n",
    "if __name__ == \"__main__\":\n",
    "    with Pool(processes=4) as pool:\n",
    "        numbers = [1, 2, 3, 4, 5]\n",
    "        result = pool.map(square, numbers)\n",
    "        print(result)  # Output: [1, 4, 9, 16, 25]"
   ]
  },
  {
   "cell_type": "code",
   "execution_count": 13,
   "metadata": {},
   "outputs": [
    {
     "name": "stdout",
     "output_type": "stream",
     "text": [
      "1\n",
      "4\n",
      "9\n",
      "16\n",
      "25\n"
     ]
    }
   ],
   "source": [
    "from multiprocessing import Pool\n",
    "\n",
    "def square(n):\n",
    "    return n * n\n",
    "\n",
    "if __name__ == \"__main__\":\n",
    "    with Pool(processes=4) as pool:\n",
    "        numbers = [1, 2, 3, 4, 5]\n",
    "        result_iterator = pool.imap(square, numbers)\n",
    "        for result in result_iterator:\n",
    "            print(result)  # Output: 1 4 9 16 25"
   ]
  },
  {
   "cell_type": "code",
   "execution_count": null,
   "metadata": {},
   "outputs": [],
   "source": []
  }
 ],
 "metadata": {
  "kernelspec": {
   "display_name": "Python 3",
   "language": "python",
   "name": "python3"
  },
  "language_info": {
   "codemirror_mode": {
    "name": "ipython",
    "version": 3
   },
   "file_extension": ".py",
   "mimetype": "text/x-python",
   "name": "python",
   "nbconvert_exporter": "python",
   "pygments_lexer": "ipython3",
   "version": "3.9.18"
  }
 },
 "nbformat": 4,
 "nbformat_minor": 2
}
