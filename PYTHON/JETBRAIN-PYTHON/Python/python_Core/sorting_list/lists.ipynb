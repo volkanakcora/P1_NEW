{
 "cells": [
  {
   "cell_type": "markdown",
   "metadata": {},
   "source": [
    "After you have learned how to create and perform basic operations with lists, it is time to explore how to put their items in the order you need. There are two similar ways to do this: the method list.sort() and the function sorted(list). They have much in common and take the same arguments, so let's see how they work.\n",
    "\n",
    "## The sorting\n",
    "Invoking list.sort() as well as sorted(list) sorts the list in the ascending order according to the natural order of stored elements."
   ]
  },
  {
   "cell_type": "code",
   "execution_count": 1,
   "metadata": {},
   "outputs": [
    {
     "name": "stdout",
     "output_type": "stream",
     "text": [
      "[1, 2, 3, 4, 5]\n",
      "[1, 2, 3, 4, 5]\n"
     ]
    }
   ],
   "source": [
    "# Invoking list.sort()\n",
    "numbers = [3, 2, 5, 4, 1]\n",
    "numbers.sort()\n",
    "print(numbers)  # [1, 2, 3, 4, 5]\n",
    "\n",
    "# Invoking sorted(list)\n",
    "numbers = [3, 2, 5, 4, 1]\n",
    "print(sorted(numbers))  # [1, 2, 3, 4, 5]"
   ]
  },
  {
   "cell_type": "markdown",
   "metadata": {},
   "source": [
    "Note that the sort() method performs an in-place sorting, changes the original list, and returns None. sorted(list), on the other hand, creates a new sorted list while the original one remains unmodified.\n",
    "\n",
    "- That is why an attempt to use print(numbers.sort()) will lead to the None result while the same attempt with sorted(list) gives you the result you need\n",
    "\n",
    "- The sorted function has one more feature: it works not only with lists but also with other collections, so you can also sort sets, dictionaries, tuples, and so on\n",
    "\n",
    "\n",
    "To sort a list in the descending order, you need to specify the reverse argument as True (it's False by default)."
   ]
  },
  {
   "cell_type": "code",
   "execution_count": null,
   "metadata": {},
   "outputs": [],
   "source": [
    "numbers = [3, 2, 5, 4, 1]\n",
    "print(sorted(numbers, reverse=True))  # [5, 4, 3, 2, 1]\n",
    "\n",
    "# the same with list.sort()\n",
    "numbers.sort(reverse=True)\n",
    "print(numbers)  # [5, 4, 3, 2, 1]"
   ]
  },
  {
   "cell_type": "markdown",
   "metadata": {},
   "source": [
    "# 2) The key\n",
    "\n",
    "There is one more argument that can be used with both functions. You can pass the key function, this function will be applied to each element in the list, and the list will be sorted depending on the results. For example, you can use key=len to sort words by their length."
   ]
  },
  {
   "cell_type": "code",
   "execution_count": 2,
   "metadata": {},
   "outputs": [
    {
     "name": "stdout",
     "output_type": "stream",
     "text": [
      "['Tom', 'Mary', 'John', 'James', 'Katarina']\n"
     ]
    }
   ],
   "source": [
    "names = ['Mary', 'James', 'Tom', 'Katarina', 'John']\n",
    "names.sort(key=len)\n",
    "print(names)  # ['Tom', 'Mary', 'John', 'James', 'Katarina']"
   ]
  },
  {
   "cell_type": "markdown",
   "metadata": {},
   "source": [
    "You can also use lambda functions as a key. For example, if you need to sort numbers by the remainder of dividing by two, you can use a lambda function and the % operator. In the example below, 4 is moved to the first place"
   ]
  },
  {
   "cell_type": "code",
   "execution_count": 3,
   "metadata": {},
   "outputs": [
    {
     "name": "stdout",
     "output_type": "stream",
     "text": [
      "[4, 7, 1, 5]\n"
     ]
    }
   ],
   "source": [
    "nums = [7, 4, 1, 5]\n",
    "print(sorted(nums, key=lambda x: x % 2))  # [4, 7, 1, 5]"
   ]
  },
  {
   "cell_type": "markdown",
   "metadata": {},
   "source": [
    "## What is more, you can use custom functions for the value of the key argument."
   ]
  },
  {
   "cell_type": "code",
   "execution_count": 4,
   "metadata": {},
   "outputs": [
    {
     "name": "stdout",
     "output_type": "stream",
     "text": [
      "[3.2, 4.3, 1.5]\n"
     ]
    }
   ],
   "source": [
    "def my_sorted(x):\n",
    "    return x - int(x)\n",
    "\n",
    "numbers = [1.5, 3.2, 4.3]\n",
    "print(sorted(numbers, key=my_sorted))  # [3.2, 4.3, 1.5]"
   ]
  },
  {
   "cell_type": "markdown",
   "metadata": {},
   "source": [
    "# The reverse\n",
    "\n",
    "There is one more way to modify the order of elements in a list; you can reverse them. It can be done with the help of either thelist.reverse() method or by using the reversed() function. \n",
    "\n",
    "Invoking list.reverse() reverses the order of elements in the list. Just as list.sort(), it operates in place and returns None, so you can't assign the result to another variable, instead, the initial list will be changed."
   ]
  },
  {
   "cell_type": "code",
   "execution_count": 5,
   "metadata": {},
   "outputs": [
    {
     "name": "stdout",
     "output_type": "stream",
     "text": [
      "None\n",
      "[5, 4, 3, 2, 1]\n"
     ]
    }
   ],
   "source": [
    "initial_list = [1, 2, 3, 4, 5]\n",
    "reversed_list = initial_list.reverse()\n",
    "print(reversed_list)  # None\n",
    "print(initial_list)   # [5, 4, 3, 2, 1]"
   ]
  },
  {
   "cell_type": "markdown",
   "metadata": {},
   "source": []
  }
 ],
 "metadata": {
  "kernelspec": {
   "display_name": ".venv",
   "language": "python",
   "name": "python3"
  },
  "language_info": {
   "codemirror_mode": {
    "name": "ipython",
    "version": 3
   },
   "file_extension": ".py",
   "mimetype": "text/x-python",
   "name": "python",
   "nbconvert_exporter": "python",
   "pygments_lexer": "ipython3",
   "version": "3.8.10"
  }
 },
 "nbformat": 4,
 "nbformat_minor": 2
}
