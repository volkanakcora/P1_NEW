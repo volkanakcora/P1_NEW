{
 "cells": [
  {
   "cell_type": "markdown",
   "metadata": {},
   "source": [
    "# Built-in functions\n"
   ]
  },
  {
   "cell_type": "code",
   "execution_count": 1,
   "metadata": {},
   "outputs": [
    {
     "name": "stdout",
     "output_type": "stream",
     "text": [
      "0.13145804405212402\n",
      "0.028395891189575195\n"
     ]
    }
   ],
   "source": [
    "from time import time\n",
    "\n",
    "numbers = list(range(1, 10000000))\n",
    "\n",
    "\n",
    "def total_number(number_list):\n",
    "    total = 0\n",
    "    for number in number_list:\n",
    "        total += number\n",
    "    return total\n",
    "\n",
    "\n",
    "# Calculate the sum without built-in functions\n",
    "start_time = time()\n",
    "total_list = total_number(numbers)\n",
    "end_time = time()\n",
    "print(end_time - start_time)  # 0.3405749\n",
    "\n",
    "# Calculate the sum using built-in functions\n",
    "start_time = time()\n",
    "total_with_sum = sum(numbers)\n",
    "end_time = time()\n",
    "print(end_time - start_time)  # 0.0446672"
   ]
  },
  {
   "cell_type": "markdown",
   "metadata": {},
   "source": [
    "# List comprehension\n"
   ]
  },
  {
   "cell_type": "code",
   "execution_count": 3,
   "metadata": {},
   "outputs": [
    {
     "name": "stdout",
     "output_type": "stream",
     "text": [
      "3.753629207611084\n",
      "1.8712491989135742\n"
     ]
    }
   ],
   "source": [
    "from time import time\n",
    "\n",
    "# default approach\n",
    "start = time()\n",
    "new_list = []\n",
    "for i in range(1, 90000000):\n",
    "    if i % 3 == 0:\n",
    "        new_list.append(i)\n",
    "end = time()\n",
    "print(end - start)  # 0.0812482\n",
    "\n",
    "# list comprehension\n",
    "start = time()\n",
    "new_list = [i for i in range(1, 90000000) if i % 3 == 0]\n",
    "end = time()\n",
    "print(end - start)  # 0.0488176"
   ]
  },
  {
   "cell_type": "markdown",
   "metadata": {},
   "source": [
    "## Generators\n",
    "A regular list saves all of its elements in memory, but this is not very efficient. As you remember, generators are Python structures that allow data to be loaded temporarily. In this way, you get the data you need only when you call it. What's more, there are functions in Python that use the generator structure by default, for example, map() and filter(). You may want to create your generator functions as well."
   ]
  },
  {
   "cell_type": "code",
   "execution_count": null,
   "metadata": {},
   "outputs": [],
   "source": [
    "from time import time\n",
    "\n",
    "def get_odds(n):\n",
    "    for i in range(n):\n",
    "        if i % 2 != 0:\n",
    "            yield i\n",
    "\n",
    "# Creating generator objects\n",
    "start_time = time()\n",
    "odd_generator = get_odds(10000000)\n",
    "end_time = time()\n",
    "print(end_time - start_time)  # 0.000015\n",
    "\n",
    "# You can iterate over a generator by using a for loop\n",
    "for _ in range(100):\n",
    "    print(next(odd_generator))"
   ]
  },
  {
   "cell_type": "markdown",
   "metadata": {},
   "source": [
    "In this example, we return odd numbers in a given range. Note that creating the generator happened in no time. However, you should understand that a generator object is different from a list. Generators cannot perform some operations such as indexing and slicing, but we can iterate over our values using a for loop. If we had opted for something else, we would have needed to store all of our numbers in a regular list. In this case, if the list is large enough, it could cause memory overflow or even a crash."
   ]
  },
  {
   "cell_type": "markdown",
   "metadata": {},
   "source": [
    "# Proper string concatenation\n"
   ]
  },
  {
   "cell_type": "code",
   "execution_count": 5,
   "metadata": {},
   "outputs": [
    {
     "name": "stdout",
     "output_type": "stream",
     "text": [
      "I currently have 4 windows open up... And I don't know why.\n",
      "9.608268737792969e-05\n",
      "I currently have 4 windows open up... And I don't know why.\n",
      "4.410743713378906e-05\n"
     ]
    }
   ],
   "source": [
    "from time import time\n",
    "\n",
    "start = time()\n",
    "sentence = (\n",
    "    \"I \" + \"currently \" + \"have \" + \"4 \" + \"windows \" + \"open \" + \"up... \"\n",
    "    + \"And \" + \"I \" + \"don't \" + \"know \" + \"why.\")\n",
    "print(sentence)\n",
    "end = time()\n",
    "print(end - start)  # 0.000000398\n",
    "\n",
    "start = time()\n",
    "sentence = \" \".join([\n",
    "    \"I\", \"currently\", \"have\", \"4\", \"windows\", \"open\", \"up...\", \"And\", \n",
    "    \"I\" , \"don't\", \"know\", \"why.\"])\n",
    "print(sentence)\n",
    "end = time()\n",
    "print(end - start)  # 0.000000226"
   ]
  },
  {
   "cell_type": "code",
   "execution_count": null,
   "metadata": {},
   "outputs": [],
   "source": []
  }
 ],
 "metadata": {
  "kernelspec": {
   "display_name": "base",
   "language": "python",
   "name": "python3"
  },
  "language_info": {
   "codemirror_mode": {
    "name": "ipython",
    "version": 3
   },
   "file_extension": ".py",
   "mimetype": "text/x-python",
   "name": "python",
   "nbconvert_exporter": "python",
   "pygments_lexer": "ipython3",
   "version": "3.11.5"
  }
 },
 "nbformat": 4,
 "nbformat_minor": 2
}
