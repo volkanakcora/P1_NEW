{
 "cells": [
  {
   "cell_type": "markdown",
   "metadata": {},
   "source": [
    "## Creating enumerations in python\n",
    "An enumeration, or ENUM, is a special type of data structure that consists of a set of named values, also known as members or enumerators. Python does not have a built-in syntax for them. However, the standard library includes the enum module that provides support for creating sets of related constants via the enum class In Python, you can create an ENUM using the enum module.\n",
    "\n",
    "To create an ENUM, import the Enum class from the enum module. Here's an example:"
   ]
  },
  {
   "cell_type": "code",
   "execution_count": null,
   "metadata": {},
   "outputs": [],
   "source": [
    "from enum import auto, Enum\n",
    "\n",
    "class Color(Enum):\n",
    "    RED = auto()\n",
    "    GREEN = auto()\n",
    "    BLUE = auto()"
   ]
  },
  {
   "cell_type": "code",
   "execution_count": null,
   "metadata": {},
   "outputs": [],
   "source": [
    "print(Color.RED)  # Output: Color.RED"
   ]
  },
  {
   "cell_type": "code",
   "execution_count": null,
   "metadata": {},
   "outputs": [],
   "source": [
    "print(Color.RED.value)  # Output: 1"
   ]
  },
  {
   "cell_type": "code",
   "execution_count": null,
   "metadata": {},
   "outputs": [],
   "source": [
    "from enum import Enum\n",
    "\n",
    "class Color(Enum):\n",
    "    RED = 1\n",
    "    GREEN = 2\n",
    "    BLUE = 3"
   ]
  },
  {
   "cell_type": "code",
   "execution_count": null,
   "metadata": {},
   "outputs": [],
   "source": [
    "# Accessing enum members by value\n",
    "print(Color(1))    # Color.RED\n",
    "print(Color(2))    # Color.GREEN\n",
    "print(Color(3))    # Color.BLUE\n",
    "\n",
    "# Accessing enum members by name\n",
    "print(Color['RED'])    # Color.RED\n",
    "print(Color['GREEN'])  # Color.GREEN\n",
    "print(Color['BLUE'])   # Color.BLUE"
   ]
  },
  {
   "cell_type": "markdown",
   "metadata": {},
   "source": [
    "# they are iterable\n"
   ]
  },
  {
   "cell_type": "code",
   "execution_count": null,
   "metadata": {},
   "outputs": [],
   "source": [
    "from enum import Enum\n",
    "\n",
    "class Color(Enum):\n",
    "    RED = 1\n",
    "    GREEN = 2\n",
    "    BLUE = 3\n",
    "\n",
    "\n",
    "# Loop through the enumeration members\n",
    "for color in Color:\n",
    "    print(f\"{color.name} has value {color.value}\")\n",
    "\n",
    "# Output:\n",
    "# RED has value 1\n",
    "# GREEN has value 2\n",
    "# BLUE has value 3"
   ]
  },
  {
   "cell_type": "markdown",
   "metadata": {},
   "source": [
    "# Using enumerations in if and match statements\n"
   ]
  },
  {
   "cell_type": "code",
   "execution_count": 1,
   "metadata": {},
   "outputs": [
    {
     "name": "stdout",
     "output_type": "stream",
     "text": [
      "The color is red\n"
     ]
    }
   ],
   "source": [
    "from enum import Enum\n",
    "\n",
    "class Color(Enum):\n",
    "    RED = 1\n",
    "    GREEN = 2\n",
    "    BLUE = 3\n",
    "\n",
    "# Check whether the color is red\n",
    "color = Color.RED\n",
    "if color.__eq__(Color.RED):\n",
    "    print(\"The color is red\")\n",
    "else:\n",
    "    print(\"The color is not red\")\n",
    "\n",
    "# Output: The color is red"
   ]
  },
  {
   "cell_type": "code",
   "execution_count": 2,
   "metadata": {},
   "outputs": [
    {
     "ename": "SyntaxError",
     "evalue": "invalid syntax (4013103078.py, line 12)",
     "output_type": "error",
     "traceback": [
      "\u001b[0;36m  Cell \u001b[0;32mIn[2], line 12\u001b[0;36m\u001b[0m\n\u001b[0;31m    match direction:\u001b[0m\n\u001b[0m          ^\u001b[0m\n\u001b[0;31mSyntaxError\u001b[0m\u001b[0;31m:\u001b[0m invalid syntax\n"
     ]
    }
   ],
   "source": [
    "from enum import Enum\n",
    "from typing import Tuple\n",
    "\n",
    "class Direction(Enum):\n",
    "    NORTH = \"N\"\n",
    "    EAST = \"E\"\n",
    "    SOUTH = \"S\"\n",
    "    WEST = \"W\"\n",
    "\n",
    "# Get the opposite direction of a given direction\n",
    "def opposite_direction(direction: Direction) -> Direction:\n",
    "    match direction:\n",
    "        case Direction.NORTH:\n",
    "            return Direction.SOUTH\n",
    "        case Direction.EAST:\n",
    "            return Direction.WEST\n",
    "        case Direction.SOUTH:\n",
    "            return Direction.NORTH\n",
    "        case Direction.WEST:\n",
    "            return Direction.EAST\n",
    "\n",
    "# Test the opposite_direction function\n",
    "current_direction = Direction.NORTH\n",
    "opposite_direction = opposite_direction(current_direction)\n",
    "print(f\"The opposite direction of {current_direction} is {opposite_direction}\")\n",
    "\n",
    "# Output: The opposite direction of Direction.NORTH is Direction.SOUTH"
   ]
  },
  {
   "cell_type": "markdown",
   "metadata": {},
   "source": [
    "# Comparing enumerations\n"
   ]
  },
  {
   "cell_type": "code",
   "execution_count": 3,
   "metadata": {},
   "outputs": [
    {
     "name": "stdout",
     "output_type": "stream",
     "text": [
      "True\n",
      "True\n",
      "False\n",
      "False\n",
      "False\n"
     ]
    }
   ],
   "source": [
    "from enum import Enum\n",
    "\n",
    "class Animal(Enum):\n",
    "    CAT = 1\n",
    "    DOG = 2\n",
    "    BIRD = 3\n",
    "    FISH = 4\n",
    "    # Aliases:\n",
    "    FELINE = 1\n",
    "    CANINE = 2\n",
    "\n",
    "# Testing the identity of enum members and aliases:\n",
    "cat = Animal.CAT\n",
    "feline = Animal.FELINE\n",
    "dog = Animal.DOG\n",
    "canine = Animal.CANINE\n",
    "fish = Animal.FISH\n",
    "bird = Animal.BIRD\n",
    "\n",
    "print(cat is feline)    # True\n",
    "print(dog is canine)    # True\n",
    "print(cat is dog)       # False\n",
    "print(fish is bird)     # False\n",
    "print(feline is dog)    # False"
   ]
  },
  {
   "cell_type": "code",
   "execution_count": null,
   "metadata": {},
   "outputs": [],
   "source": [
    "from enum import Enum\n",
    "\n",
    "class Color(Enum):\n",
    "    RED = 1\n",
    "    BLUE = 2\n",
    "    GREEN = 3\n",
    "    YELLOW = 4\n",
    "\n",
    "# Testing the equality of enum members:\n",
    "red = Color.RED\n",
    "blue = Color.BLUE\n",
    "green = Color.GREEN\n",
    "yellow = Color.YELLOW\n",
    "\n",
    "print(red == Color.RED)     # True\n",
    "print(green == Color.RED)   # False\n",
    "print(yellow == blue)       # False\n",
    "print(yellow != blue)       # True"
   ]
  },
  {
   "cell_type": "code",
   "execution_count": null,
   "metadata": {},
   "outputs": [],
   "source": [
    "from enum import Enum\n",
    "\n",
    "class Weekday(Enum):\n",
    "    MONDAY = 1\n",
    "    TUESDAY = 2\n",
    "    WEDNESDAY = 3\n",
    "    THURSDAY = 4\n",
    "    FRIDAY = 5\n",
    "    SATURDAY = 6\n",
    "    SUNDAY = 7\n",
    "\n",
    "# Testing the equality of enum members with integers:\n",
    "monday = Weekday.MONDAY\n",
    "tuesday = Weekday.TUESDAY\n",
    "wednesday = Weekday.WEDNESDAY\n",
    "\n",
    "print(monday == 1)        # False\n",
    "print(tuesday == 2)       # False\n",
    "print(wednesday != 3)     # True"
   ]
  },
  {
   "cell_type": "code",
   "execution_count": null,
   "metadata": {},
   "outputs": [],
   "source": [
    "from enum import Enum\n",
    "\n",
    "class Season(Enum):\n",
    "    SPRING = 1\n",
    "    SUMMER = 2\n",
    "    FALL = 3\n",
    "    WINTER = 4\n",
    "\n",
    "# Testing membership of enum members:\n",
    "spring = Season.SPRING\n",
    "summer = Season.SUMMER\n",
    "fall = Season.FALL\n",
    "winter = Season.WINTER\n",
    "\n",
    "print(summer in Season)     # True\n",
    "print(spring not in Season) # False\n",
    "print(fall in Season)       # True\n",
    "print(winter not in Season) # False"
   ]
  },
  {
   "cell_type": "code",
   "execution_count": 4,
   "metadata": {},
   "outputs": [
    {
     "name": "stdout",
     "output_type": "stream",
     "text": [
      "[<Season.FALL: 1>, <Season.SUMMER: 2>, <Season.SPRING: 3>, <Season.WINTER: 4>]\n",
      "[<Season.FALL: 1>, <Season.SPRING: 3>, <Season.SUMMER: 2>, <Season.WINTER: 4>]\n"
     ]
    }
   ],
   "source": [
    "from enum import Enum\n",
    "\n",
    "class Season(Enum):\n",
    "    SPRING = 3\n",
    "    SUMMER = 2\n",
    "    FALL = 1\n",
    "    WINTER = 4\n",
    "\n",
    "print(sorted(Season, key=lambda season: season.value))\n",
    "#[<Season.FALL: 1>, <Season.SUMMER: 2>, <Season.SPRING: 3>, <Season.WINTER: 4>]\n",
    "print(sorted(Season, key=lambda season: season.name))\n",
    "#[<Season.FALL: 1>, <Season.SPRING: 3>, <Season.SUMMER: 2>, <Season.WINTER: 4>]"
   ]
  },
  {
   "cell_type": "markdown",
   "metadata": {},
   "source": [
    "Best practices and use cases\n",
    "Here are some best practices and use cases for using ENUMs in Python:\n",
    "\n",
    "Use ENUM to represent a fixed set of values: ENUM is a great way to represent a selected set of values known at compile-time. This makes your code more self-documenting and error-resistant since the set of valid values is explicitly defined.\n",
    "\n",
    "Use descriptive names for ENUM members: Use descriptive names for ENUM members to make your code more readable and self-explanatory. Avoid using abbreviations or cryptic terms that may be hard to understand later.\n",
    "\n",
    "Use ENUM for constants: Use ENUM to represent constants used throughout your code. This makes it easier to change the value of a constant in the future since you only need to change it in one place."
   ]
  },
  {
   "cell_type": "markdown",
   "metadata": {},
   "source": []
  }
 ],
 "metadata": {
  "kernelspec": {
   "display_name": "Python 3",
   "language": "python",
   "name": "python3"
  },
  "language_info": {
   "codemirror_mode": {
    "name": "ipython",
    "version": 3
   },
   "file_extension": ".py",
   "mimetype": "text/x-python",
   "name": "python",
   "nbconvert_exporter": "python",
   "pygments_lexer": "ipython3",
   "version": "3.9.18"
  }
 },
 "nbformat": 4,
 "nbformat_minor": 2
}
