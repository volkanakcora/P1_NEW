{
 "cells": [
  {
   "attachments": {},
   "cell_type": "markdown",
   "metadata": {},
   "source": [
    "# File types"
   ]
  },
  {
   "attachments": {},
   "cell_type": "markdown",
   "metadata": {},
   "source": [
    "As you may already know, it is convenient to store data in files. In this topic, we'll figure out what else we can do with the files, how to distinguish them, and what their main types are.\n",
    "\n",
    "Below we provide a list of file types in the Unix system. In other operating systems, the types may slightly differ, but the basic ones, which we will talk about in more detail, can be found almost everywhere."
   ]
  },
  {
   "attachments": {},
   "cell_type": "markdown",
   "metadata": {},
   "source": [
    "## Unix file types\n",
    "In general, a file is a container for some information. We can put almost anything in this container: a photo, a text, a link to another file, or just another container with other nested files, etc. All this data is different and therefore the files in which it's stored are of various types.\n",
    "\n",
    "The Unix filesystem components are:\n",
    "\n",
    "- regular files where you usually keep your personal data such as texts, pictures, and so on,\n",
    "\n",
    "- directories, or folders that make it easier to organize other files in the system,\n",
    "\n",
    "- named pipes, that pass the output of one process as input to another one and have a name,\n",
    "\n",
    "- symbolic links, which contain links to other files,\n",
    "\n",
    "- device files, that contain data required by the operating system to interact with physical devices,\n",
    "\n",
    "- sockets, which allow to exchange the data between processes in both directions.\n",
    "\n",
    "We will study the most commonly used file types in more detail. These are the ones that can be found in every operating system: regular files, directories, and symbolic links."
   ]
  },
  {
   "attachments": {},
   "cell_type": "markdown",
   "metadata": {},
   "source": [
    "Regular files are common because users usually store their data in them: documents, videos, photos, music, etc. In general, any data in such files can be presented in two forms:\n",
    "\n",
    "textual data with some encoding, then the file will be called a text file\n",
    "\n",
    "any other sequences of bytes without constraints to encoding, then such a file is called a binary file\n",
    "\n",
    "To make it easier to figure out which file is text and which is binary, let's study a couple of examples. Text files usually contain texts in plain format, tabular data, configuration files, and data formats like CSV or JSON. Binary files often contain data such as video, audio, databases, and archives.\n",
    "\n",
    "Binary and text files have different characteristics and thus require different tools to work with them. It is worth knowing these differences because it will definitely save you time when reading or writing your data to these files.\n",
    "\n",
    "The main difference between text and binary files is that the latter has no inherent constraints. It means they can contain any bytes sequence, and they are to be opened in an appropriate program that knows the specific file format such as Media Player, Photoshop, Office, etc. On the other hand, text files can be edited in any text editor program. Also, they must correspond to several constraints such as human-readable content, line-oriented data format, universal reading of newline sequences, and so on."
   ]
  },
  {
   "cell_type": "code",
   "execution_count": null,
   "metadata": {},
   "outputs": [],
   "source": []
  }
 ],
 "metadata": {
  "language_info": {
   "name": "python"
  },
  "orig_nbformat": 4
 },
 "nbformat": 4,
 "nbformat_minor": 2
}
