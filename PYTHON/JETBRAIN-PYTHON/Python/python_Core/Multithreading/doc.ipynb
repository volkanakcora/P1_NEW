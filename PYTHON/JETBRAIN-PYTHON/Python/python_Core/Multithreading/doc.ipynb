{
 "cells": [
  {
   "cell_type": "markdown",
   "metadata": {},
   "source": [
    "If you are familiar with the notion of threading, you probably have an idea of how threading utilizes different parts of one process to run concurrently. A process is nothing else but a program that is currently using the CPU. Almost any process now supports multithreading. This means that multiple threads (units) will work together to achieve one common goal."
   ]
  },
  {
   "cell_type": "code",
   "execution_count": 4,
   "metadata": {},
   "outputs": [
    {
     "name": "stdout",
     "output_type": "stream",
     "text": [
      "Thread Thread-14 (square_number) is calculating the square of 1\n",
      "Thread Thread-15 (square_number) is calculating the square of 2\n",
      "Thread Thread-16 (square_number) is calculating the square of 3\n",
      "Thread Thread-17 (square_number) is calculating the square of 4\n",
      "Thread Thread-18 (square_number) is calculating the square of 5\n",
      "Thread Thread-19 (square_number) is calculating the square of 6\n",
      "Thread Thread-20 (square_number) is calculating the square of 7\n",
      "Thread Thread-21 (square_number) is calculating the square of 8\n",
      "Thread Thread-22 (square_number) is calculating the square of 9\n",
      "Thread Thread-23 (square_number) is calculating the square of 10\n",
      "Thread Thread-14 (square_number) calculated the square of 1 as 1Thread Thread-16 (square_number) calculated the square of 3 as 9\n",
      "Thread Thread-15 (square_number) calculated the square of 2 as 4\n",
      "\n",
      "Thread Thread-19 (square_number) calculated the square of 6 as 36\n",
      "Thread Thread-20 (square_number) calculated the square of 7 as 49\n",
      "Thread Thread-21 (square_number) calculated the square of 8 as 64\n",
      "Thread Thread-22 (square_number) calculated the square of 9 as 81\n",
      "Thread Thread-23 (square_number) calculated the square of 10 as 100\n",
      "Thread Thread-17 (square_number) calculated the square of 4 as 16\n",
      "Thread Thread-18 (square_number) calculated the square of 5 as 25\n",
      "All threads have completed their execution.\n"
     ]
    }
   ],
   "source": [
    "import threading\n",
    "import time\n",
    "\n",
    "# Function to be executed in each thread\n",
    "def square_number(number):\n",
    "    print(f'Thread {threading.current_thread().name} is calculating the square of {number}')\n",
    "    time.sleep(1)  # Simulate a time-consuming task\n",
    "    result = number ** 2\n",
    "    print(f'Thread {threading.current_thread().name} calculated the square of {number} as {result}')\n",
    "\n",
    "# List of numbers to square\n",
    "numbers = [1, 2, 3, 4, 5, 6, 7, 8, 9, 10]\n",
    "\n",
    "# List to hold thread objects\n",
    "threads = []\n",
    "\n",
    "# Create a thread for each number\n",
    "for number in numbers:\n",
    "    thread = threading.Thread(target=square_number, args=(number,))\n",
    "    threads.append(thread)\n",
    "    thread.start()\n",
    "\n",
    "# Wait for all threads to complete\n",
    "for thread in threads:\n",
    "    thread.join()\n",
    "\n",
    "print('All threads have completed their execution.')\n"
   ]
  },
  {
   "cell_type": "markdown",
   "metadata": {},
   "source": [
    "Before jumping into code implementation, let's understand the concept of locking. A lock is a synchronization object that controls simultaneous access to an object. A lock acts as a permit: it is a vital thing in the prevention of data corruption.\n",
    "\n",
    "The lock will be assigned to only one thread at a time. Other threads will wait for the lock owner to complete its task and return it. Thanks to the lock mechanism, it is possible to control the competition between various threads, ensuring that each one of them performs its activities without the unwanted interference of other threads.\n",
    "\n",
    "Now, let's return to the notion of threading. Python offers two modules for thread-control in programs: ```_thread``` and ```threading```. The main difference between them is that the _thread module implements a thread as a function, while the threading module offers an object-oriented approach to enable thread creation. Below you'll see examples that will give you an idea of how to implement threads using both built-in modules."
   ]
  },
  {
   "cell_type": "markdown",
   "metadata": {},
   "source": [
    "## The _thread module\n",
    "First, let's create a function called greet. It takes a lock object as an argument, waits for 3 seconds, and prints a welcome message. The parameter will be necessary later when we'll use a thread to execute the function:"
   ]
  },
  {
   "cell_type": "code",
   "execution_count": 5,
   "metadata": {},
   "outputs": [],
   "source": [
    "import time\n",
    "\n",
    "locks = []\n",
    "\n",
    "def greet(lockobject):\n",
    "    time.sleep(3)\n",
    "    print('Hello, ')\n",
    "    # Release the lock as we are done here\n",
    "    lockobject.release()"
   ]
  },
  {
   "cell_type": "markdown",
   "metadata": {},
   "source": [
    "Then we need to create a thread, where we can execute our function. When the thread is started, it takes the function and a tuple of lock objects:"
   ]
  },
  {
   "cell_type": "code",
   "execution_count": 6,
   "metadata": {},
   "outputs": [],
   "source": [
    "import _thread\n",
    "\n",
    "def create_thread():\n",
    "    # Create a lock and acquire it\n",
    "    lockobject = _thread.allocate_lock()\n",
    "    lockobject.acquire()\n",
    "\n",
    "    # Store it in the global lock list\n",
    "    locks.append(lockobject)\n",
    "    # Pass it to a new thread that can release the lock once done\n",
    "    _thread.start_new_thread(greet, (lockobject,))"
   ]
  },
  {
   "cell_type": "markdown",
   "metadata": {},
   "source": [
    "Let's continue with locks. A lock can be either locked or unlocked. It has only two basic methods, acquire() and release(). When the state is unlocked, acquire() changes the state to locked and returns immediately. When it is locked, acquire() blocks it until a call to release() in another thread changes it to unlocked, then the acquire() call resets it to locked and returns. Call the release() method only when the state is locked; it changes the state to unlocked and returns immediately. If an attempt is made to release an unlocked lock, an error will be raised."
   ]
  },
  {
   "cell_type": "markdown",
   "metadata": {},
   "source": [
    "Finally, we can call the create_thread function and print the rest of the greeting message:\n",
    "\n"
   ]
  },
  {
   "cell_type": "code",
   "execution_count": 7,
   "metadata": {},
   "outputs": [
    {
     "name": "stdout",
     "output_type": "stream",
     "text": [
      "world!\n"
     ]
    },
    {
     "name": "stdout",
     "output_type": "stream",
     "text": [
      "Hello, \n"
     ]
    },
    {
     "data": {
      "text/plain": [
       "True"
      ]
     },
     "execution_count": 7,
     "metadata": {},
     "output_type": "execute_result"
    }
   ],
   "source": [
    "create_thread()\n",
    "print('world!')\n",
    "# Acquire all locks = release all threads\n",
    "all(lock.acquire() for lock in locks)"
   ]
  },
  {
   "cell_type": "markdown",
   "metadata": {},
   "source": [
    "## The threading module\n",
    "In the following code snippet, we will recreate the above greeting function and then pass it as a target parameter to our thread. A target is a callable object that is invoked by thread methods. Once we create the thread object, we must start it with the start() method."
   ]
  },
  {
   "cell_type": "code",
   "execution_count": 9,
   "metadata": {},
   "outputs": [
    {
     "name": "stdout",
     "output_type": "stream",
     "text": [
      "world!\n"
     ]
    },
    {
     "name": "stdout",
     "output_type": "stream",
     "text": [
      "Hello, \n"
     ]
    }
   ],
   "source": [
    "import time\n",
    "from threading import Thread\n",
    "\n",
    "\n",
    "def greet():\n",
    "    time.sleep(3)\n",
    "    print('Hello, ')\n",
    "\n",
    "\n",
    "t = Thread(target=greet)\n",
    "t.start()\n",
    "\n",
    "print('world!')"
   ]
  },
  {
   "cell_type": "markdown",
   "metadata": {},
   "source": [
    "# Multithreading in Python\n",
    "=====================================\n",
    "### Overview\n",
    "Python's `threading` module allows for concurrent execution of multiple threads within a single process. \n",
    "Now that you have a good understanding of how to create a thread, it is time to make a step forward into threading and see how a program behaves when we set up multiple threads.\n"
   ]
  },
  {
   "cell_type": "code",
   "execution_count": 10,
   "metadata": {},
   "outputs": [
    {
     "name": "stdout",
     "output_type": "stream",
     "text": [
      "t2 ---> Area of a circle with a radius length of 3 is:         \t28.26t1 ---> Area of a cube with an edge length of 2 is:         \t24\n",
      "\n",
      "t4 ---> Area of a circle with a radius length of 6 is:         \t113.04\n",
      "t3 ---> Area of a cube with an edge length of 4 is:         \t96\n",
      "t5 ---> Area of a cube with an edge length of 9 is:         \t486\n",
      "t6 ---> Area of a circle with a radius length of 8 is:         \t200.96\n"
     ]
    }
   ],
   "source": [
    "import time\n",
    "from threading import Thread\n",
    "\n",
    "\n",
    "def cube_area(thread, length, delay=0):\n",
    "    time.sleep(delay)\n",
    "    print(\n",
    "        f\"{thread} ---> Area of a cube with an edge length of {length} is: \\\n",
    "        \\t{6 * (length ** 2)}\"\n",
    "    )\n",
    "\n",
    "\n",
    "def circle_area(thread, length, delay=0):\n",
    "    time.sleep(delay)\n",
    "    print(\n",
    "        f\"{thread} ---> Area of a circle with a radius length of {length} is: \\\n",
    "        \\t{3.14 * (length ** 2)}\"\n",
    "    )\n",
    "\n",
    "\n",
    "# instantiate multiple threads with functions as targets and\n",
    "# thread name, length as arguments\n",
    "\n",
    "t1 = Thread(target=cube_area, args=(\"t1\", 2))\n",
    "t2 = Thread(target=circle_area, args=(\"t2\", 3))\n",
    "\n",
    "t3 = Thread(target=cube_area, args=(\"t3\", 4))\n",
    "t4 = Thread(target=circle_area, args=(\"t4\", 6))\n",
    "\n",
    "t5 = Thread(target=cube_area, args=(\"t5\", 9))\n",
    "t6 = Thread(target=circle_area, args=(\"t6\", 8))\n",
    "\n",
    "t1.start()\n",
    "t2.start()\n",
    "t3.start()\n",
    "t4.start()\n",
    "t5.start()\n",
    "t6.start()"
   ]
  },
  {
   "cell_type": "code",
   "execution_count": 11,
   "metadata": {},
   "outputs": [
    {
     "name": "stdout",
     "output_type": "stream",
     "text": [
      "t3 ---> Area of a cube with an edge length of 4 is:         \t96\n",
      "t2 ---> Area of a circle with a radius length of 2 is:         \t12.56\n",
      "t4 ---> Area of a circle with a radius length of 6 is:         \t113.04\n",
      "t6 ---> Area of a circle with a radius length of 8 is:         \t200.96\n",
      "t1 ---> Area of a cube with an edge length of 2 is:         \t24\n",
      "t5 ---> Area of a cube with an edge length of 9 is:         \t486\n"
     ]
    }
   ],
   "source": [
    "t1 = Thread(target=cube_area, args=(\"t1\", 2, 3))\n",
    "t2 = Thread(target=circle_area, args=(\"t2\", 2, 2))\n",
    "\n",
    "t3 = Thread(target=cube_area, args=(\"t3\", 4, 1))\n",
    "t4 = Thread(target=circle_area, args=(\"t4\", 6, 2))\n",
    "\n",
    "t5 = Thread(target=cube_area, args=(\"t5\", 9, 4))\n",
    "t6 = Thread(target=circle_area, args=(\"t6\", 8, 3))\n",
    "\n",
    "t1.start()\n",
    "t2.start()\n",
    "t3.start()\n",
    "t4.start()\n",
    "t5.start()\n",
    "t6.start()"
   ]
  },
  {
   "cell_type": "code",
   "execution_count": null,
   "metadata": {},
   "outputs": [],
   "source": []
  }
 ],
 "metadata": {
  "kernelspec": {
   "display_name": "base",
   "language": "python",
   "name": "python3"
  },
  "language_info": {
   "codemirror_mode": {
    "name": "ipython",
    "version": 3
   },
   "file_extension": ".py",
   "mimetype": "text/x-python",
   "name": "python",
   "nbconvert_exporter": "python",
   "pygments_lexer": "ipython3",
   "version": "3.11.5"
  }
 },
 "nbformat": 4,
 "nbformat_minor": 2
}
