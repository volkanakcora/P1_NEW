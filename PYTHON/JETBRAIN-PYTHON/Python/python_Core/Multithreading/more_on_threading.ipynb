{
 "cells": [
  {
   "cell_type": "markdown",
   "metadata": {},
   "source": [
    "## Understanding the problem of race condition\n",
    "\n",
    "Let's explain the first example – a function called calc_price. It prints the name and the price of an item three times. Of course, this example is just a demonstration of the issue of multiple threads, since our function is very basic and has in essence only printing instructions.\n",
    "\n",
    "The race here is for a global variable named total. We initialize two threads: t1 and t2, they both will try to write and later read the shared variable. They both call calc_price but with different arguments (name and price):\n"
   ]
  },
  {
   "cell_type": "code",
   "execution_count": 1,
   "metadata": {},
   "outputs": [
    {
     "name": "stdout",
     "output_type": "stream",
     "text": [
      "Item:  Shirt\n",
      "Item:  Jeans\n"
     ]
    },
    {
     "name": "stdout",
     "output_type": "stream",
     "text": [
      "Price:  5\n",
      "Item:  Shirt\n",
      "Price:  10\n",
      "Item:  Jeans\n",
      "Price:  5\n",
      "Item:  Shirt\n",
      "Price:  10\n",
      "Item:  Jeans\n",
      "Price: Price:  10\n",
      " 5\n"
     ]
    }
   ],
   "source": [
    "import time\n",
    "from threading import Thread\n",
    "\n",
    "total = 0\n",
    "\n",
    "\n",
    "def calc_price(name, item_price):\n",
    "    for i in range(3):\n",
    "        print(\"Item: \", name)\n",
    "        time.sleep(2)\n",
    "        total = item_price\n",
    "        print(\"Price: \", total)\n",
    "\n",
    "\n",
    "t1 = Thread(target=calc_price, args=(\"Shirt\", 5))\n",
    "t2 = Thread(target=calc_price, args=(\"Jeans\", 10))\n",
    "\n",
    "t1.start()\n",
    "t2.start()"
   ]
  },
  {
   "cell_type": "markdown",
   "metadata": {},
   "source": [
    "We need to synchronize them to solve this problem. Both threads t1 and t2 access the total variable, with the aim to write something inside it. The first threads that start will \"lose\" the value in the shared data, and the last running thread will overwrite it.\n",
    "\n"
   ]
  },
  {
   "cell_type": "markdown",
   "metadata": {},
   "source": [
    "What is lock?\n",
    "Lock is one of the synchronization techniques. A lock is an abstraction that allows one thread to own it at a time. Holding a lock is how one thread tells other threads: \"This thing is mine, don't touch it right now.\"\n",
    "\n",
    "Locks have two main functions:\n",
    "\n",
    "```Acquire``` allows a thread to take ownership of a lock. If a thread tries to acquire a lock currently owned by another thread, it blocks until the other thread releases the lock. At that point, it will contend with any other threads that are trying to acquire the lock. Only one thread can own the lock at a time.\n",
    "\n",
    "```Release``` relinquishes ownership of the lock, allowing another thread to take ownership of it."
   ]
  },
  {
   "cell_type": "markdown",
   "metadata": {},
   "source": [
    "A solution to the problem of the race condition is by adding acquire and release functions of a Lock object. In this example, we will add the Lock class, imported from the threading library. We will define a new Lock object — l. The functions acquire() and release() will lock the instructions where total is accessed."
   ]
  },
  {
   "cell_type": "code",
   "execution_count": 3,
   "metadata": {},
   "outputs": [
    {
     "name": "stdout",
     "output_type": "stream",
     "text": [
      "Item: Shirt\n"
     ]
    },
    {
     "name": "stdout",
     "output_type": "stream",
     "text": [
      "Price: 5\n",
      "Item: Shirt\n",
      "Price: 5\n",
      "Item: Shirt\n",
      "Price: 5\n",
      "Item: Jeans\n",
      "Price: 10\n",
      "Item: Jeans\n",
      "Price: 10\n",
      "Item: Jeans\n",
      "Price: 10\n"
     ]
    }
   ],
   "source": [
    "from threading import Thread, Lock\n",
    "import time\n",
    "\n",
    "l = Lock()\n",
    "total = 0\n",
    "\n",
    "\n",
    "def calc_price(name, item_price):\n",
    "    for i in range(3):\n",
    "        l.acquire()\n",
    "        print(\"Item:\", name)\n",
    "        time.sleep(2)\n",
    "        total = item_price\n",
    "        print(\"Price:\", total)\n",
    "        l.release()\n",
    "\n",
    "\n",
    "t1 = Thread(target=calc_price, args=(\"Shirt\", 5))\n",
    "t2 = Thread(target=calc_price, args=(\"Jeans\", 10))\n",
    "\n",
    "t1.start()\n",
    "t2.start()"
   ]
  },
  {
   "cell_type": "markdown",
   "metadata": {},
   "source": [
    "In a Lock object, only one thread at a time is allowed to execute, but occasionally, we need to execute a particular number of threads simultaneously.\n",
    "\n",
    "We can wait for a thread to finish the execution by calling the join() function. This method allows the current thread to be blocked until the target thread it has joined is finished."
   ]
  },
  {
   "cell_type": "code",
   "execution_count": 1,
   "metadata": {},
   "outputs": [
    {
     "name": "stdout",
     "output_type": "stream",
     "text": [
      "Item: Shirt\n",
      "Price: 5\n",
      "Item: Shirt\n",
      "Price: 5\n",
      "Item: Shirt\n",
      "Price: 5\n",
      "Item: Jeans\n",
      "Price: 10\n",
      "Item: Jeans\n",
      "Price: 10\n",
      "Item: Jeans\n",
      "Price: 10\n"
     ]
    }
   ],
   "source": [
    "from threading import Thread, Lock\n",
    "import time\n",
    "\n",
    "l = Lock()\n",
    "total = 0\n",
    "\n",
    "\n",
    "def calc_price(name, item_price):\n",
    "    for i in range(3):\n",
    "        l.acquire()\n",
    "        print(\"Item:\", name)\n",
    "        time.sleep(2)\n",
    "        total = item_price\n",
    "        print(\"Price:\", total)\n",
    "        l.release()\n",
    "\n",
    "\n",
    "t1 = Thread(target=calc_price, args=(\"Shirt\", 5))\n",
    "t2 = Thread(target=calc_price, args=(\"Jeans\", 10))\n",
    "\n",
    "t1.start()\n",
    "t1.join()\n",
    "t2.start()\n",
    "t2.join()"
   ]
  },
  {
   "cell_type": "code",
   "execution_count": 6,
   "metadata": {},
   "outputs": [
    {
     "name": "stdout",
     "output_type": "stream",
     "text": [
      "Item: Shirt\n",
      "Item: Jeans\n"
     ]
    },
    {
     "name": "stdout",
     "output_type": "stream",
     "text": [
      "Price: 5\n",
      "Item: Shirt\n",
      "Price: 10\n",
      "Item: Jeans\n",
      "Price: 5\n",
      "Item: Shirt\n",
      "Price: 10\n",
      "Item: Jeans\n",
      "Price: 5\n",
      "Item: Shirt\n",
      "Price: 10\n",
      "Item: Jeans\n",
      "Price: 5\n",
      "Item: Shirt\n",
      "Price: 10\n",
      "Item: Jeans\n",
      "Price: 5\n",
      "Item: Shirt\n",
      "Price: 10\n",
      "Item: Jeans\n",
      "Price: 5\n",
      "Item: Shirt\n",
      "Price: 10\n",
      "Item: Jeans\n",
      "Price: 5\n",
      "Item: Shirt\n",
      "Price: 10\n",
      "Item: Jeans\n",
      "Price: 5\n",
      "Item: Shirt\n",
      "Price: 10\n",
      "Item: Jeans\n",
      "Price: 5\n",
      "Item: Shirt\n",
      "Price: 10\n",
      "Item: Jeans\n",
      "Price:Price: 10\n",
      "Item: Jeans\n",
      " 5\n",
      "Item: Shirt\n",
      "Price: 10\n",
      "Item: Jeans\n",
      "Price: 5\n",
      "Item: Shirt\n",
      "Price:Price: 5\n",
      "Item: Shirt\n",
      " 10\n",
      "Item: Jeans\n",
      "Price:Price: 10\n",
      "Item: Jeans\n",
      " 5\n",
      "Item: Shirt\n",
      "Price:Price: 5\n",
      "Item: Shirt\n",
      " 10\n",
      "Item: Jeans\n",
      "Price: 5\n",
      "Price: 10\n"
     ]
    }
   ],
   "source": [
    "from threading import Thread, Lock\n",
    "import time\n",
    "\n",
    "l = Lock()\n",
    "total = 0\n",
    "\n",
    "\n",
    "def calc_price(name, item_price):\n",
    "    for i in range(15):\n",
    "        print(\"Item:\", name)\n",
    "        time.sleep(2)\n",
    "        total = item_price\n",
    "        print(\"Price:\", total)\n",
    "\n",
    "\n",
    "t1 = Thread(target=calc_price, args=(\"Shirt\", 5))\n",
    "t2 = Thread(target=calc_price, args=(\"Jeans\", 10))\n",
    "\n",
    "t1.start()\n",
    "t2.start()\n"
   ]
  },
  {
   "cell_type": "markdown",
   "metadata": {},
   "source": [
    "## Semaphore"
   ]
  },
  {
   "cell_type": "markdown",
   "metadata": {},
   "source": [
    "The semaphore concept is one of the oldest synchronization primitives in the history of computer science, invented by the early Dutch computer scientist Edsger W. Dijkstra. He used the names ```P()``` and ```V()``` instead of ```acquire()``` and ```release()```."
   ]
  },
  {
   "cell_type": "markdown",
   "metadata": {},
   "source": [
    "A semaphore manages an internal counter which is decremented by each acquire() call and incremented by each release() call. The counter can never go below zero; when acquire() finds that it is zero, it blocks, waiting until some other thread calls release()."
   ]
  },
  {
   "cell_type": "markdown",
   "metadata": {},
   "source": [
    "Semaphores can be of two types:\n",
    "\n",
    "1. Binary Semaphore — this semaphore can have only two values – 0 or 1. Its value is initialized to 1.\n",
    "\n",
    "2. Counting Semaphore — its value can be 0, 1, or other integer values. It is used to control access to a resource that has multiple instances."
   ]
  },
  {
   "cell_type": "markdown",
   "metadata": {},
   "source": [
    "In the following example, we will create five threads, and the counter in the Semaphore object will be three. So three is the number of threads accessing the shared variable simultaneously."
   ]
  },
  {
   "cell_type": "code",
   "execution_count": 6,
   "metadata": {},
   "outputs": [
    {
     "name": "stdout",
     "output_type": "stream",
     "text": [
      "Item: Shirt\n",
      "Item: Jeans\n",
      "Item: Dress\n"
     ]
    },
    {
     "name": "stdout",
     "output_type": "stream",
     "text": [
      "Price: 5\n",
      "Item: Shirt\n",
      "Price: 10\n",
      "Item: Jeans\n",
      "Price: 12\n",
      "Item: Dress\n",
      "Item: Belt\n",
      "Item: Bag\n",
      "Price: 5\n",
      "Price: 10\n",
      "Price: 12\n",
      "Price: 3\n",
      "Item: Belt\n",
      "Price: 20\n",
      "Item: Bag\n",
      "Price: 3\n",
      "Price: 20\n"
     ]
    }
   ],
   "source": [
    "from threading import Thread, Semaphore\n",
    "import time\n",
    "\n",
    "# creating Semaphore, where count = 3\n",
    "sem = Semaphore(3)\n",
    "total = 0\n",
    "\n",
    "\n",
    "def calc_price(name, item_price):\n",
    "    sem.acquire()\n",
    "    for i in range(2):\n",
    "        print(\"Item:\", name)\n",
    "        time.sleep(10)\n",
    "        total = item_price\n",
    "        print(\"Price:\", total)\n",
    "    sem.release()\n",
    "\n",
    "\n",
    "# creating multiple threads\n",
    "t1 = Thread(target=calc_price, args=(\"Shirt\", 5))\n",
    "t2 = Thread(target=calc_price, args=(\"Jeans\", 10))\n",
    "t3 = Thread(target=calc_price, args=(\"Dress\", 12))\n",
    "t4 = Thread(target=calc_price, args=(\"Belt\", 3))\n",
    "t5 = Thread(target=calc_price, args=(\"Bag\", 20))\n",
    "\n",
    "# calling the threads\n",
    "t1.start()\n",
    "t2.start()\n",
    "t3.start()\n",
    "t4.start()\n",
    "t5.start()"
   ]
  },
  {
   "cell_type": "markdown",
   "metadata": {},
   "source": [
    "As with files, you can also use the with context manager with a semaphore. It will allow you to omit the explicit calling of acquire() and release(), since it will be automatically managed by the manager. calc_price() may also look this way:"
   ]
  },
  {
   "cell_type": "code",
   "execution_count": 10,
   "metadata": {},
   "outputs": [
    {
     "name": "stdout",
     "output_type": "stream",
     "text": [
      "Item: Shirt\n",
      "Item: Jeans\n",
      "Item: Dress\n"
     ]
    },
    {
     "name": "stdout",
     "output_type": "stream",
     "text": [
      "Price: 5\n",
      "Item: Shirt\n",
      "Price: 10\n",
      "Item: Jeans\n",
      "Price: 12\n",
      "Item: Dress\n",
      "Price: 5\n",
      "Item: Belt\n",
      "Price: 10\n",
      "Item: Bag\n",
      "Price: 12\n",
      "Price: 3\n",
      "Item: Belt\n",
      "Price: 20\n",
      "Item: Bag\n",
      "Price: 3\n",
      "Price: 20\n"
     ]
    }
   ],
   "source": [
    "from threading import Thread, Semaphore\n",
    "import time\n",
    "\n",
    "# creating Semaphore, where count = 3\n",
    "sem = Semaphore(3)\n",
    "total = 0\n",
    "\n",
    "\n",
    "def calc_price(name, item_price):\n",
    "    with sem:\n",
    "        for i in range(2):\n",
    "            print(\"Item:\", name)\n",
    "            time.sleep(10)\n",
    "            total = item_price\n",
    "            print(\"Price:\", total)\n",
    "\n",
    "\n",
    "# creating multiple threads\n",
    "t1 = Thread(target=calc_price, args=(\"Shirt\", 5))\n",
    "t2 = Thread(target=calc_price, args=(\"Jeans\", 10))\n",
    "t3 = Thread(target=calc_price, args=(\"Dress\", 12))\n",
    "t4 = Thread(target=calc_price, args=(\"Belt\", 3))\n",
    "t5 = Thread(target=calc_price, args=(\"Bag\", 20))\n",
    "\n",
    "# calling the threads\n",
    "t1.start()\n",
    "t2.start()\n",
    "t3.start()\n",
    "t4.start()\n",
    "t5.start()"
   ]
  },
  {
   "cell_type": "markdown",
   "metadata": {},
   "source": [
    "In this example, whenever we will run the application, we will get the non-ordered values of pairs (item – price). Most probably, the result will begin with three prints; this is because three different threads are calling calc_price() simultaneously."
   ]
  },
  {
   "cell_type": "markdown",
   "metadata": {},
   "source": [
    "# Lock vs. semaphore\n",
    "Let's compare the two mechanisms: lock and semaphore. Both use buffers to store shared data temporarily. Each buffer is capable of holding a single item.\n",
    "\n",
    "An overview of the main features of the Lock and Semaphore is shown below."
   ]
  },
  {
   "cell_type": "markdown",
   "metadata": {},
   "source": [
    "Sure! Here’s your content formatted for Markdown:\n",
    "\n",
    "---\n",
    "\n",
    "### Lock vs Semaphore\n",
    "\n",
    "| **Feature**                             | **Lock**                                                | **Semaphore**                                                |\n",
    "|-----------------------------------------|---------------------------------------------------------|--------------------------------------------------------------|\n",
    "| **Sharing**                             | Only one thread per process can share the same lock.     | Multiple threads of the same process can share the same semaphore. |\n",
    "| **Buffer Access**                       | Only one thread works with the entire buffer at a given instance of time. | Threads can work on different buffers at a given time.        |\n",
    "| **Type**                                | A lock is considered an object.                         | A semaphore is considered an integer with values.            |\n",
    "| **Subtypes**                            | Locks do not have any subtypes.                         | A semaphore can be binary or counting.                       |\n",
    "\n",
    "---\n",
    "\n",
    "This table format clearly distinguishes between the features of Locks and Semaphores."
   ]
  },
  {
   "cell_type": "code",
   "execution_count": null,
   "metadata": {},
   "outputs": [],
   "source": []
  }
 ],
 "metadata": {
  "kernelspec": {
   "display_name": "base",
   "language": "python",
   "name": "python3"
  },
  "language_info": {
   "codemirror_mode": {
    "name": "ipython",
    "version": 3
   },
   "file_extension": ".py",
   "mimetype": "text/x-python",
   "name": "python",
   "nbconvert_exporter": "python",
   "pygments_lexer": "ipython3",
   "version": "3.11.5"
  }
 },
 "nbformat": 4,
 "nbformat_minor": 2
}
