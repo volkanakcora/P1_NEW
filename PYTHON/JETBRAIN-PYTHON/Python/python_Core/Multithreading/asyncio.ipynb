{
 "cells": [
  {
   "cell_type": "markdown",
   "metadata": {},
   "source": [
    "```Asynchronous programming``` is an essential aspect of modern software development. It allows us to write concurrent code that can handle multiple input/output operations without blocking the execution of other tasks"
   ]
  },
  {
   "cell_type": "markdown",
   "metadata": {},
   "source": [
    "## What is asyncio?\n",
    "Asyncio is a Python library that simplifies asynchronous programming. It offers a more efficient and readable way to write code that can run concurrently. Unlike the traditional approach of using threads, which can be costly and complex, asyncio utilizes coroutines. Coroutines are special functions that can be paused and resumed at specific points during execution, allowing multiple coroutines to run concurrently within a single thread. To use asyncio, you can define coroutines using the async def syntax and input the await keyword to pause execution until a specific task is complete. This lightweight and efficient concurrency approach is the reason why asyncio is a popular choice in Python development."
   ]
  },
  {
   "cell_type": "markdown",
   "metadata": {},
   "source": [
    "Here's an example of an asyncio coroutine that waits for one second before displaying a message:"
   ]
  },
  {
   "cell_type": "code",
   "execution_count": null,
   "metadata": {},
   "outputs": [],
   "source": [
    "import asyncio\n",
    "\n",
    "async def my_coroutine():\n",
    "    print(\"Starting the coroutine\")\n",
    "    await asyncio.sleep(1)\n",
    "    print(\"Coroutine execution completed\")\n",
    "\n",
    "asyncio.run(my_coroutine())"
   ]
  },
  {
   "cell_type": "markdown",
   "metadata": {},
   "source": [
    "## Asyncio code with threading and multiprocessing\n",
    "With concurrent programming, there are different approaches to handling tasks based on their nature. Multiprocessing utilizes multiple CPUs to perform calculations in parallel, benefiting CPU-bound tasks. Threading permits the execution of various tasks on a single CPU, making it suitable for I/O-bound operations. However, it relies on how the CPU performs context switching. Asyncio, on the other hand, provides concurrency by running multiple coroutines within a single thread and gives the programmer control over the context switching. It is a form of threading where the await keyword suspends the execution of a coroutine, enabling efficient task switching. However, asyncio doesn't inherently provide parallelism due to Python's Global Interpreter Lock (GIL).\n",
    "\n",
    "If the task is I/O-bound, asyncio is the way to go. For CPU-intensive tasks, multiprocessing is more effective. Understanding the nature of the task helps in selecting the appropriate approach to achieve optimal performance and resource utilization."
   ]
  },
  {
   "cell_type": "markdown",
   "metadata": {},
   "source": [
    "## Event loops\n",
    "In asyncio, an event loop is the central coordinator for managing and executing coroutines. The event loop is responsible for scheduling and switching between different coroutines to ensure they are executed efficiently.\n",
    "\n",
    "When a coroutine encounters an await statement representing a potentially blocking operation, such as I/O, it suspends its execution and allows the event loop to switch to another coroutine that is ready to run. This enables asynchronous execution, where multiple coroutines can progress without blocking each other.\n",
    "\n",
    "The event loop ensures that each coroutine gets an opportunity to run and continues the execution until all coroutines are complete.\n",
    "\n",
    "A single function call has automatically handled the event loop management."
   ]
  },
  {
   "cell_type": "markdown",
   "metadata": {},
   "source": [
    "## Async and await keywords\n"
   ]
  },
  {
   "cell_type": "markdown",
   "metadata": {},
   "source": [
    "The async and await keywords are essential in asynchronous programming. They provide a concise way to define and work with asynchronous code, allowing tasks to run concurrently without blocking each other.\n",
    "\n",
    "The async keyword defines an asynchronous function containing non-blocking operations. The await keyword is used within the async function to pause its execution until a coroutine or available object completes. This enables other tasks to continue running in the meantime."
   ]
  },
  {
   "cell_type": "code",
   "execution_count": 3,
   "metadata": {},
   "outputs": [
    {
     "ename": "RuntimeError",
     "evalue": "asyncio.run() cannot be called from a running event loop",
     "output_type": "error",
     "traceback": [
      "\u001b[0;31m---------------------------------------------------------------------------\u001b[0m",
      "\u001b[0;31mRuntimeError\u001b[0m                              Traceback (most recent call last)",
      "Cell \u001b[0;32mIn[3], line 15\u001b[0m\n\u001b[1;32m      8\u001b[0m \u001b[38;5;28;01masync\u001b[39;00m \u001b[38;5;28;01mdef\u001b[39;00m \u001b[38;5;21mmain\u001b[39m():\n\u001b[1;32m      9\u001b[0m     \u001b[38;5;28;01mawait\u001b[39;00m asyncio\u001b[38;5;241m.\u001b[39mgather(\n\u001b[1;32m     10\u001b[0m         greet(\u001b[38;5;124m\"\u001b[39m\u001b[38;5;124mAlice\u001b[39m\u001b[38;5;124m\"\u001b[39m),\n\u001b[1;32m     11\u001b[0m         greet(\u001b[38;5;124m\"\u001b[39m\u001b[38;5;124mBob\u001b[39m\u001b[38;5;124m\"\u001b[39m),\n\u001b[1;32m     12\u001b[0m         greet(\u001b[38;5;124m\"\u001b[39m\u001b[38;5;124mCharlie\u001b[39m\u001b[38;5;124m\"\u001b[39m)\n\u001b[1;32m     13\u001b[0m     )\n\u001b[0;32m---> 15\u001b[0m \u001b[43masyncio\u001b[49m\u001b[38;5;241;43m.\u001b[39;49m\u001b[43mrun\u001b[49m\u001b[43m(\u001b[49m\u001b[43mmain\u001b[49m\u001b[43m(\u001b[49m\u001b[43m)\u001b[49m\u001b[43m)\u001b[49m\n\u001b[1;32m     17\u001b[0m \u001b[38;5;66;03m## Output\u001b[39;00m\n\u001b[1;32m     18\u001b[0m \u001b[38;5;66;03m# Hello, Alice!\u001b[39;00m\n\u001b[1;32m     19\u001b[0m \u001b[38;5;66;03m# Hello, Bob!\u001b[39;00m\n\u001b[0;32m   (...)\u001b[0m\n\u001b[1;32m     22\u001b[0m \u001b[38;5;66;03m# Goodbye, Bob!\u001b[39;00m\n\u001b[1;32m     23\u001b[0m \u001b[38;5;66;03m# Goodbye, Charlie!\u001b[39;00m\n",
      "File \u001b[0;32m~/miniconda3/lib/python3.11/asyncio/runners.py:186\u001b[0m, in \u001b[0;36mrun\u001b[0;34m(main, debug)\u001b[0m\n\u001b[1;32m    161\u001b[0m \u001b[38;5;250m\u001b[39m\u001b[38;5;124;03m\"\"\"Execute the coroutine and return the result.\u001b[39;00m\n\u001b[1;32m    162\u001b[0m \n\u001b[1;32m    163\u001b[0m \u001b[38;5;124;03mThis function runs the passed coroutine, taking care of\u001b[39;00m\n\u001b[0;32m   (...)\u001b[0m\n\u001b[1;32m    182\u001b[0m \u001b[38;5;124;03m    asyncio.run(main())\u001b[39;00m\n\u001b[1;32m    183\u001b[0m \u001b[38;5;124;03m\"\"\"\u001b[39;00m\n\u001b[1;32m    184\u001b[0m \u001b[38;5;28;01mif\u001b[39;00m events\u001b[38;5;241m.\u001b[39m_get_running_loop() \u001b[38;5;129;01mis\u001b[39;00m \u001b[38;5;129;01mnot\u001b[39;00m \u001b[38;5;28;01mNone\u001b[39;00m:\n\u001b[1;32m    185\u001b[0m     \u001b[38;5;66;03m# fail fast with short traceback\u001b[39;00m\n\u001b[0;32m--> 186\u001b[0m     \u001b[38;5;28;01mraise\u001b[39;00m \u001b[38;5;167;01mRuntimeError\u001b[39;00m(\n\u001b[1;32m    187\u001b[0m         \u001b[38;5;124m\"\u001b[39m\u001b[38;5;124masyncio.run() cannot be called from a running event loop\u001b[39m\u001b[38;5;124m\"\u001b[39m)\n\u001b[1;32m    189\u001b[0m \u001b[38;5;28;01mwith\u001b[39;00m Runner(debug\u001b[38;5;241m=\u001b[39mdebug) \u001b[38;5;28;01mas\u001b[39;00m runner:\n\u001b[1;32m    190\u001b[0m     \u001b[38;5;28;01mreturn\u001b[39;00m runner\u001b[38;5;241m.\u001b[39mrun(main)\n",
      "\u001b[0;31mRuntimeError\u001b[0m: asyncio.run() cannot be called from a running event loop"
     ]
    }
   ],
   "source": [
    "import asyncio\n",
    "\n",
    "async def greet(name):\n",
    "    print(f\"Hello, {name}!\")\n",
    "    await asyncio.sleep(1)\n",
    "    print(f\"Goodbye, {name}!\")\n",
    "\n",
    "async def main():\n",
    "    await asyncio.gather(\n",
    "        greet(\"Alice\"),\n",
    "        greet(\"Bob\"),\n",
    "        greet(\"Charlie\")\n",
    "    )\n",
    "\n",
    "asyncio.run(main())\n",
    "\n",
    "## Output\n",
    "# Hello, Alice!\n",
    "# Hello, Bob!\n",
    "# Hello, Charlie!\n",
    "# Goodbye, Alice!\n",
    "# Goodbye, Bob!\n",
    "# Goodbye, Charlie!"
   ]
  },
  {
   "cell_type": "code",
   "execution_count": 4,
   "metadata": {},
   "outputs": [
    {
     "name": "stderr",
     "output_type": "stream",
     "text": [
      "/home/oh856/miniconda3/lib/python3.11/site-packages/pygments/regexopt.py:77: RuntimeWarning: coroutine 'my_coroutine' was never awaited\n",
      "  '|'.join(regex_opt_inner(list(group[1]), '')\n",
      "RuntimeWarning: Enable tracemalloc to get the object allocation traceback\n"
     ]
    },
    {
     "ename": "RuntimeError",
     "evalue": "asyncio.run() cannot be called from a running event loop",
     "output_type": "error",
     "traceback": [
      "\u001b[0;31m---------------------------------------------------------------------------\u001b[0m",
      "\u001b[0;31mRuntimeError\u001b[0m                              Traceback (most recent call last)",
      "Cell \u001b[0;32mIn[4], line 21\u001b[0m\n\u001b[1;32m     18\u001b[0m     \u001b[38;5;66;03m# Set the result of the future\u001b[39;00m\n\u001b[1;32m     19\u001b[0m     future\u001b[38;5;241m.\u001b[39mset_result(value)\n\u001b[0;32m---> 21\u001b[0m \u001b[43masyncio\u001b[49m\u001b[38;5;241;43m.\u001b[39;49m\u001b[43mrun\u001b[49m\u001b[43m(\u001b[49m\u001b[43mmain\u001b[49m\u001b[43m(\u001b[49m\u001b[43m)\u001b[49m\u001b[43m)\u001b[49m\n",
      "File \u001b[0;32m~/miniconda3/lib/python3.11/asyncio/runners.py:186\u001b[0m, in \u001b[0;36mrun\u001b[0;34m(main, debug)\u001b[0m\n\u001b[1;32m    161\u001b[0m \u001b[38;5;250m\u001b[39m\u001b[38;5;124;03m\"\"\"Execute the coroutine and return the result.\u001b[39;00m\n\u001b[1;32m    162\u001b[0m \n\u001b[1;32m    163\u001b[0m \u001b[38;5;124;03mThis function runs the passed coroutine, taking care of\u001b[39;00m\n\u001b[0;32m   (...)\u001b[0m\n\u001b[1;32m    182\u001b[0m \u001b[38;5;124;03m    asyncio.run(main())\u001b[39;00m\n\u001b[1;32m    183\u001b[0m \u001b[38;5;124;03m\"\"\"\u001b[39;00m\n\u001b[1;32m    184\u001b[0m \u001b[38;5;28;01mif\u001b[39;00m events\u001b[38;5;241m.\u001b[39m_get_running_loop() \u001b[38;5;129;01mis\u001b[39;00m \u001b[38;5;129;01mnot\u001b[39;00m \u001b[38;5;28;01mNone\u001b[39;00m:\n\u001b[1;32m    185\u001b[0m     \u001b[38;5;66;03m# fail fast with short traceback\u001b[39;00m\n\u001b[0;32m--> 186\u001b[0m     \u001b[38;5;28;01mraise\u001b[39;00m \u001b[38;5;167;01mRuntimeError\u001b[39;00m(\n\u001b[1;32m    187\u001b[0m         \u001b[38;5;124m\"\u001b[39m\u001b[38;5;124masyncio.run() cannot be called from a running event loop\u001b[39m\u001b[38;5;124m\"\u001b[39m)\n\u001b[1;32m    189\u001b[0m \u001b[38;5;28;01mwith\u001b[39;00m Runner(debug\u001b[38;5;241m=\u001b[39mdebug) \u001b[38;5;28;01mas\u001b[39;00m runner:\n\u001b[1;32m    190\u001b[0m     \u001b[38;5;28;01mreturn\u001b[39;00m runner\u001b[38;5;241m.\u001b[39mrun(main)\n",
      "\u001b[0;31mRuntimeError\u001b[0m: asyncio.run() cannot be called from a running event loop"
     ]
    }
   ],
   "source": [
    "import asyncio\n",
    "\n",
    "async def main():\n",
    "    future = asyncio.Future()\n",
    "\n",
    "    # Schedule the setting of the future result\n",
    "    asyncio.create_task(set_after(future, 1, '...world'))\n",
    "\n",
    "    print('Hello...', end='')\n",
    "\n",
    "    # Wait until the future is done\n",
    "    print(await future)\n",
    "\n",
    "async def set_after(future, delay, value):\n",
    "    # Simulate a delay with asyncio.sleep\n",
    "    await asyncio.sleep(delay)\n",
    "\n",
    "    # Set the result of the future\n",
    "    future.set_result(value)\n",
    "\n",
    "asyncio.run(main())\n"
   ]
  },
  {
   "cell_type": "code",
   "execution_count": null,
   "metadata": {},
   "outputs": [],
   "source": []
  }
 ],
 "metadata": {
  "kernelspec": {
   "display_name": "base",
   "language": "python",
   "name": "python3"
  },
  "language_info": {
   "codemirror_mode": {
    "name": "ipython",
    "version": 3
   },
   "file_extension": ".py",
   "mimetype": "text/x-python",
   "name": "python",
   "nbconvert_exporter": "python",
   "pygments_lexer": "ipython3",
   "version": "3.11.5"
  }
 },
 "nbformat": 4,
 "nbformat_minor": 2
}
