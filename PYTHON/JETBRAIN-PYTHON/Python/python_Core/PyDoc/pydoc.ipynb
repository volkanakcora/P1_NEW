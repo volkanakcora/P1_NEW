{
 "cells": [
  {
   "cell_type": "markdown",
   "metadata": {},
   "source": [
    "## Documenting functions\n",
    "The pydoc module is part of the Python standard library, so you don't have to install it. There's no need to import it into your code; it can be used in the command line. Usually, your workflow is this: you write some code, save it to a file, run pydoc through the command line – and get the documentation. Easy, right? Let's go through this process step-by-step.\n",
    "\n",
    "Pydoc isn't magic. It doesn't create documentation on its own; it just derives it from docstrings. You probably remember what a docstring is: a string, usually in triple quotes, that documents classes, modules, or functions. If there are no docstrings in your code, pydoc will use comments to generate documentation. So that's it, pydoc just takes docstrings or comments you've written and creates neat and easy-to-read documentation from it."
   ]
  },
  {
   "cell_type": "code",
   "execution_count": null,
   "metadata": {},
   "outputs": [],
   "source": []
  }
 ],
 "metadata": {
  "language_info": {
   "name": "python"
  }
 },
 "nbformat": 4,
 "nbformat_minor": 2
}
