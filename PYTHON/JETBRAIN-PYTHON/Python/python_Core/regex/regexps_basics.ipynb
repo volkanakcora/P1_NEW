{
 "cells": [
  {
   "attachments": {},
   "cell_type": "markdown",
   "metadata": {},
   "source": [
    "## Regexps basics\n",
    "\n",
    "Manipulating text data is quite a popular task in programming as well as in real life. For example, we often may need to analyze a text, find all specific strings in a file, and so on. Processing text data can be quite a challenging problem. That's why there is a special tool called regular expressions that makes it easier and faster.\n",
    "\n",
    "\n",
    "- Why regular expressions?\n",
    "A regular expression (regex or regexp for short) is a sequence of characters that describes a common pattern for a set of strings. Such patterns can be used to search, edit, and manipulate texts. They can either check if a whole string or its substring matches the given pattern or replace the substring with another one.\n",
    "\n",
    "\n",
    "When do we need such patterns? Say we want to obtain all the files with the same extension (like .pdf), or extract all the entries of a particular name in different forms (for example, Edgar Poe, Edgar Allan Poe, E. A. Poe, etc.), all email addresses, or even find all numeric structures denoting dates (02/03/2020). With regexps, such tasks can be done in one line.\n",
    "\n",
    "\n",
    "How do such patterns look? Well, at first, they may seem confusing, look, for example, at \\d+(\\.\\d)? or [a-zA-Z]. And they're often substantially longer. We'll start with the basics, though.\n",
    "\n",
    "\n",
    "Regexps may be regarded as a kind of sublanguage that most programming languages support, but there are some differences in syntax called \"flavors\". In this topic, we will consider regexps in isolation from programming languages to understand the general idea."
   ]
  },
  {
   "attachments": {},
   "cell_type": "markdown",
   "metadata": {},
   "source": [
    "## The power of regular expressions\n",
    "\n",
    "Finding substrings is not very impressive, though. The real power of regular expressions comes when you start using special metacharacters called wildcards. They allow you to define a pattern, so you can match strings that do not necessarily contain an identical sequence of characters. You can skip some characters in a string or match different characters in the same positions, or even repeat a character several times.\n",
    "\n",
    "\n",
    "## the dot character\n",
    "- The dot character . matches any single character including letters, digits, and so on, except for the newline character, unless it is specified.\n",
    "\n",
    "- Let's look at our previous example again with several additional words.\n",
    "\n",
    "- As you remember, in the previous example, two words did not match the pattern because of one unsuitable character. Let's consider them and also add two additional words. Here is our new pattern .ARK with the dot character. It says: \"there is any character followed by ARK\".\n",
    "\n",
    "- regex matching check using a pattern with dot character\n",
    "\n",
    "- Hooray, both words MARK and QUARKS match the new pattern! But the WARM word does not. Think for a minute, how can this be fixed?\n",
    "\n",
    "- Tip: The answer is to use the .AR. pattern, which is matched by WARM, CLARA, PART, and so on.\n",
    "\n",
    "- The word ARK also does not match our pattern, since it does not have a character in the . position in the pattern, while it is required."
   ]
  },
  {
   "attachments": {},
   "cell_type": "markdown",
   "metadata": {},
   "source": [
    "# THE QUESTION MARTK\n",
    "\n",
    "\n",
    "\n",
    "- The question mark ? is a special character that means “the preceding character or nothing\". The question mark ? signals that the character before it can occur once or zero times in a string to match the pattern. When can we use it?\n",
    "\n",
    "- Maybe with this example, you will finally begin to feel the magic of regexps. Consider the difference between British and American spelling. Imagine, we are trying to find all the studies mentioning color blindness in some publications' archives. However, it contains different sources and their spelling may vary. What word should we look for? The answer is both!\n",
    "\n",
    "- The pattern colou?r will match the strings colour and color, but not the string coloor. It is also possible to include the possibility of different letter cases to match the uppercase \"Color\" as well. We will learn how it is done in later topics.\n",
    "\n",
    "- Let's return to our previous example. The word ARK does not match the .ARK pattern. But if we add ? right after the dot character .?ARK, the word ARK will match the new pattern since the first character is optional now.\n",
    "\n",
    "- Note how we combine the powers of the different wildcards in the combination .?. It is an underlying idea of regexps as well."
   ]
  },
  {
   "cell_type": "code",
   "execution_count": null,
   "metadata": {},
   "outputs": [],
   "source": []
  }
 ],
 "metadata": {
  "language_info": {
   "name": "python"
  },
  "orig_nbformat": 4
 },
 "nbformat": 4,
 "nbformat_minor": 2
}
