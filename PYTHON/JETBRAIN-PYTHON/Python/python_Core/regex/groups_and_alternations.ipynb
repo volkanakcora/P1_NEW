{
 "cells": [
  {
   "attachments": {},
   "cell_type": "markdown",
   "metadata": {},
   "source": [
    "# Groups and alternations\n",
    "\n",
    "What if we want to specify the number of times that a string of different characters should occur in the string? In this case, we should resort to parenthesis characters (). The parenthesis in regular expressions can group desired parts of the template into single units and process them together. Let's discuss the details of their application!\n",
    "\n",
    "In this topic, we'll come across the OR operator (an alternation) of regular expressions represented by the vertical bar |\n",
    "\n",
    "\n",
    "## Groups\n",
    "\n",
    "By default, when we put a quantifier in our template, it's applied to the preceding character. Take h[ao]{2} for example. The quantifier demands either a or o to be repeated twice, but h can only occur once."
   ]
  },
  {
   "cell_type": "code",
   "execution_count": null,
   "metadata": {},
   "outputs": [],
   "source": [
    "template = r\"(h[ao]){2}\"  # matches a string consisting of two \"ha\" or \"ho\"\n",
    "re.match(template, \"haha\")  # a match\n",
    "re.match(template, \"hoha\")  # a match\n",
    "re.match(template, \"haa\")  # no match\n",
    "re.match(template, \"hho\")  # no match"
   ]
  },
  {
   "attachments": {},
   "cell_type": "markdown",
   "metadata": {},
   "source": [
    "You can apply any quantifier you want, but the syntax remains. For example, you can mark an optional substring with a question mark quantifier ?. It will make the group match one or no occurrences of the group in the string:\n",
    "\n"
   ]
  },
  {
   "cell_type": "code",
   "execution_count": 3,
   "metadata": {},
   "outputs": [
    {
     "data": {
      "text/plain": [
       "<re.Match object; span=(0, 2), match='ha'>"
      ]
     },
     "execution_count": 3,
     "metadata": {},
     "output_type": "execute_result"
    }
   ],
   "source": [
    "import re\n",
    "template = r\"ha(\\?!)?\"  # we expect \"?!\" to occur together and in this exact order\n",
    "re.match(template, \"ha?!\")  # a match\n",
    "re.match(template, \"ha\")  # a match\n",
    "# in case \"?\" or \"!\" occur separately, the group won't match them\n",
    "re.match(template, \"ha?\")  # matches only \"ha\", but not \"?\", since there's no \"!\" succeeding \"?\"\n",
    "re.match(template, \"ha!\")  # matches only \"ha\", but not \"!\", since there's no \"?\" preceding \"!\""
   ]
  },
  {
   "attachments": {},
   "cell_type": "markdown",
   "metadata": {},
   "source": [
    "# Nested groups\n",
    "We can also make use of nested groups — you can put a group inside a group to specify smaller substring repetitions inside larger substrings. Take a look at this template that matches any number of repeated strings containing two substrings of the <letter><digit> type (for example, A0, C3):\n",
    "\n"
   ]
  },
  {
   "cell_type": "code",
   "execution_count": 4,
   "metadata": {},
   "outputs": [],
   "source": [
    "template = r\"(([A-Z]\\d){2}\\.)+\"\n",
    "re.match(template, \"A0C3.B8K5.\")  # a match\n",
    "re.match(template, \"A0C3.\")  # a match\n",
    "re.match(template, \"A0.C3B8K5\")  # no match, as a dot separates two letter-digit combinations\n",
    "re.match(template, \"A0.C3.B8K5\")  # no match, as \"A0.C3.\" is separated by a dot\n",
    "# and \"B8K5\" aren't followed by a dot"
   ]
  },
  {
   "attachments": {},
   "cell_type": "markdown",
   "metadata": {},
   "source": [
    "# Alterations\n",
    "\n",
    "In many cases, a pattern we'd like to match can contain alternative substrings — sometimes one, sometimes another. For example, when we search for a web address, it can have .com, .org, .net, etc. as a part of the domain name. We can match several domain types in one template by using |.\n",
    "\n",
    "| is the or operator in regexps. By separating alternative substrings with vertical bars, you are matching any of these substrings with the template. Here, take a look:"
   ]
  },
  {
   "cell_type": "code",
   "execution_count": 5,
   "metadata": {},
   "outputs": [],
   "source": [
    "template = r\"python|java|kotlin\"\n",
    "re.match(template, \"python\")  # a match\n",
    "re.match(template, \"java\")  # a match\n",
    "re.match(template, \"kotlin\")  # a match\n",
    "re.match(template, \"c++\")  # no match\n",
    "re.match(template, \"k\")  # no match\n",
    "re.match(template, \"jav\")  # no match"
   ]
  },
  {
   "attachments": {},
   "cell_type": "markdown",
   "metadata": {},
   "source": [
    "# Groups and alternations\n",
    "For instance, if we need to find the following strings: python course, kotlin course, python lesson, or kotlin lesson, we can write the following expression first:"
   ]
  },
  {
   "cell_type": "code",
   "execution_count": 6,
   "metadata": {},
   "outputs": [
    {
     "data": {
      "text/plain": [
       "<re.Match object; span=(0, 13), match='kotlin course'>"
      ]
     },
     "execution_count": 6,
     "metadata": {},
     "output_type": "execute_result"
    }
   ],
   "source": [
    "template = r\"(python|kotlin) (course|lesson)\"\n",
    "re.match(template, \"kotlin\")  # no match\n",
    "re.match(template, \"lesson\")  # no match\n",
    "re.match(template, \"python lesson\")  # match\n",
    "re.match(template, \"kotlin course\")  # match"
   ]
  }
 ],
 "metadata": {
  "kernelspec": {
   "display_name": "Python 3",
   "language": "python",
   "name": "python3"
  },
  "language_info": {
   "codemirror_mode": {
    "name": "ipython",
    "version": 3
   },
   "file_extension": ".py",
   "mimetype": "text/x-python",
   "name": "python",
   "nbconvert_exporter": "python",
   "pygments_lexer": "ipython3",
   "version": "3.8.18"
  },
  "orig_nbformat": 4
 },
 "nbformat": 4,
 "nbformat_minor": 2
}
