{
 "cells": [
  {
   "attachments": {},
   "cell_type": "markdown",
   "metadata": {},
   "source": [
    "# Regexp functions in Python\n",
    "In previous topics, we have pointed out the basics of regular expressions in Python. However, the only regexp function that we have used so far is match(). In this topic, we are going to cover the main regexp functions that will improve string matching."
   ]
  },
  {
   "attachments": {},
   "cell_type": "markdown",
   "metadata": {},
   "source": [
    "# 1) MAIN FUNCTIONS\n",
    "\n",
    "- re.match(pattern, string, flags=0)\tChecks whether a pattern is present at the beginning of a string.\n",
    "\n",
    "- re.search(pattern, string, flags=0)\tChecks whether a pattern is present anywhere in a string.\n",
    "\n",
    "- re.findall(pattern, string, flags=0)\tReturns all matches in a list. If used with one capturing group, returns only this group matches. If used with more than one -\n",
    "\n",
    "-group, returns tuples of capturing groups.\n",
    "\n",
    "- re.finditer(pattern, string, flags=0)\tReturns all matches as an iterator.\n",
    "- re.split(pattern, string, maxsplit=0, flags=0)\t Splits a string based on a pattern. If used with groups, outputs a text matched by a pattern. A text matched by a pattern outside the group won't be in the output.\n",
    "\n",
    "- re.sub(pattern, repl, string, count=0, flags=0)\tSearches for a pattern and replaces it with a specified piece of text.\n",
    "- re.compile(pattern, flags=0)\tCompiles a pattern for reuse."
   ]
  },
  {
   "attachments": {},
   "cell_type": "markdown",
   "metadata": {},
   "source": [
    "# 2) Matching the beginning of the string\n",
    "\n",
    "The match() function takes a regular expression pattern and string as arguments and checks whether the beginning of the string matches the pattern. It returns a special Match object when a match is found and None, if otherwise. Let's recall how it works. Mind the following snippet:\n",
    "\n"
   ]
  },
  {
   "cell_type": "code",
   "execution_count": null,
   "metadata": {},
   "outputs": [],
   "source": [
    "import re\n",
    "\n",
    "string = \"roads? where we're going we don't need roads.\"\n",
    "\n",
    "result_1 = re.match('roads\\?', string)  # match\n",
    "result_2 = re.match('roads\\.', string)  # no match "
   ]
  },
  {
   "attachments": {},
   "cell_type": "markdown",
   "metadata": {},
   "source": [
    "# 3) Matching any string part\n",
    "\n",
    "The second function is search(). It is very similar to what we have seen before. It also takes a regular expression pattern as the first argument and a string. However, the difference is that search() checks for matches throughout the string. Similarly, the search() function returns a Match object if there's a match or None, if otherwise:\n",
    "\n"
   ]
  },
  {
   "cell_type": "code",
   "execution_count": null,
   "metadata": {},
   "outputs": [],
   "source": [
    "string = \"roads? where we're going we don't need roads.\"\n",
    "\n",
    "result_1 = re.search('roads\\?', string)  # match \n",
    "result_2 = re.search('roads\\.', string)  # match \n",
    "result_3 = re.search('Roads', string)  # no match \n",
    "result_4 = re.search('here', string)  # match"
   ]
  },
  {
   "attachments": {},
   "cell_type": "markdown",
   "metadata": {},
   "source": [
    "Both search() and match() return only the first pattern occurrence in the string. For example, if you want to find the roads pattern:\n",
    "\n"
   ]
  },
  {
   "cell_type": "code",
   "execution_count": 1,
   "metadata": {},
   "outputs": [
    {
     "ename": "NameError",
     "evalue": "name 're' is not defined",
     "output_type": "error",
     "traceback": [
      "\u001b[0;31m---------------------------------------------------------------------------\u001b[0m",
      "\u001b[0;31mNameError\u001b[0m                                 Traceback (most recent call last)",
      "Cell \u001b[0;32mIn[1], line 3\u001b[0m\n\u001b[1;32m      1\u001b[0m string \u001b[39m=\u001b[39m \u001b[39m\"\u001b[39m\u001b[39mroads? where we\u001b[39m\u001b[39m'\u001b[39m\u001b[39mre going we don\u001b[39m\u001b[39m'\u001b[39m\u001b[39mt need roads.\u001b[39m\u001b[39m\"\u001b[39m\n\u001b[0;32m----> 3\u001b[0m result \u001b[39m=\u001b[39m re\u001b[39m.\u001b[39msearch(\u001b[39m'\u001b[39m\u001b[39mroads\u001b[39m\u001b[39m'\u001b[39m, string)\n\u001b[1;32m      4\u001b[0m \u001b[39mprint\u001b[39m(result)\n",
      "\u001b[0;31mNameError\u001b[0m: name 're' is not defined"
     ]
    }
   ],
   "source": [
    "string = \"roads? where we're going we don't need roads.\"\n",
    "\n",
    "result = re.search('roads', string)\n",
    "print(result) # <re.Match object; span=(0, 5), match='roads'>"
   ]
  },
  {
   "attachments": {},
   "cell_type": "markdown",
   "metadata": {},
   "source": [
    "# 4) Finding all matches\n",
    "You may wonder what to do if you want to find all pattern occurrences in a string. In this case, the findall() function comes to the rescue. Like any other function discussed above, findall() also takes a pattern and string as arguments. There is one subtle difference. The function returns not a Match object but a list with strings that match the pattern. If there are no matches, it returns an empty list:"
   ]
  },
  {
   "cell_type": "code",
   "execution_count": null,
   "metadata": {},
   "outputs": [],
   "source": [
    "string = \"A million dollars isn’t cool. You know what’s cool? A billion dollars.\"\n",
    "\n",
    "result_1 = re.findall('[mb]illion', string)  # ['million', 'billion']\n",
    "result_2 = re.findall('thousand', string)  # []"
   ]
  },
  {
   "cell_type": "code",
   "execution_count": null,
   "metadata": {},
   "outputs": [],
   "source": [
    "string = '3 apples, 2 bananas, 5 pears, 10 strawberries'\n",
    "\n",
    "results = re.findall('(\\d+) (\\w+)', string)\n",
    "print(results)\n",
    "# [('3', 'apples'), ('2', 'bananas'), ('5', 'pears'), ('10', 'strawberries')]"
   ]
  },
  {
   "attachments": {},
   "cell_type": "markdown",
   "metadata": {},
   "source": [
    "Be careful when you have a pattern with one capturing group. In this case, findall() will return strings that are matched by this group only. The strings matched by a pattern outside of that group will be omitted:"
   ]
  },
  {
   "cell_type": "code",
   "execution_count": null,
   "metadata": {},
   "outputs": [],
   "source": [
    "string = '3 apples, 2 bananas, 5 pears, 10 strawberries'\n",
    "\n",
    "results = re.findall('(\\d+) \\w+', string)\n",
    "print(results) # ['3', '2', '5', '10']"
   ]
  },
  {
   "attachments": {},
   "cell_type": "markdown",
   "metadata": {},
   "source": [
    "# 5)Splitting\n",
    "\n",
    "the split() function splits a string by occurrences of pattern and returns a list of strings. As usual, it takes a pattern and a string as two arguments. Note that if the beginning (the end) matches the pattern, then the first (the last) element will be an empty string:"
   ]
  },
  {
   "cell_type": "code",
   "execution_count": 2,
   "metadata": {},
   "outputs": [
    {
     "ename": "NameError",
     "evalue": "name 're' is not defined",
     "output_type": "error",
     "traceback": [
      "\u001b[0;31m---------------------------------------------------------------------------\u001b[0m",
      "\u001b[0;31mNameError\u001b[0m                                 Traceback (most recent call last)",
      "Cell \u001b[0;32mIn[2], line 3\u001b[0m\n\u001b[1;32m      1\u001b[0m string \u001b[39m=\u001b[39m \u001b[39m'\u001b[39m\u001b[39m111412222234333345555544\u001b[39m\u001b[39m'\u001b[39m\n\u001b[0;32m----> 3\u001b[0m results_1 \u001b[39m=\u001b[39m re\u001b[39m.\u001b[39msplit(\u001b[39m'\u001b[39m\u001b[39m4\u001b[39m\u001b[39m'\u001b[39m, string)\n\u001b[1;32m      4\u001b[0m \u001b[39mprint\u001b[39m(results_1)\n",
      "\u001b[0;31mNameError\u001b[0m: name 're' is not defined"
     ]
    }
   ],
   "source": [
    "string = '111412222234333345555544'\n",
    "\n",
    "results_1 = re.split('4', string)\n",
    "print(results_1)\n",
    "# ['111', '1222223', '3333', '55555', '', '']\n",
    "# note the empty strings at the end of the list"
   ]
  },
  {
   "attachments": {},
   "cell_type": "markdown",
   "metadata": {},
   "source": [
    "This function can take an additional maxsplit argument. It specifies the number of splits. By default, maxsplit is set at 0. It means that the string will be split by the maximum number of pattern matches. If, for instance, maxsplit is 3, then three splits will be done, and the rest of the string will be returned as the final element of the list:"
   ]
  },
  {
   "cell_type": "code",
   "execution_count": null,
   "metadata": {},
   "outputs": [],
   "source": [
    "string = '111412222234333345555544'\n",
    "\n",
    "results_2 = re.split('4', string, maxsplit=3)\n",
    "print(results_2)\n",
    "# ['111', '1222223', '3333', '5555544']"
   ]
  },
  {
   "cell_type": "code",
   "execution_count": null,
   "metadata": {},
   "outputs": [],
   "source": [
    "string = \"Roads? Where we're going we don't need roads.\"\n",
    "\n",
    "result_1 = re.split('\\W+', string) \n",
    "print(result_1)\n",
    "# ['Roads', 'Where', 'we', 're', 'going', 'we', 'don', 't', 'need', 'roads', '']\n",
    "\n",
    "result_2 = re.split('(\\W+)', string) \n",
    "print(result_2)\n",
    "# ['Roads', '? ', 'Where', ' ', 'we', \"'\", 're', ' ', 'going', ' ', 'we', ' ', ...]\n",
    "\n",
    "def check_username(username):\n",
    "    if username and username[0].isalpha():\n",
    "        print(\"Thank you!\")\n",
    "    else:\n",
    "        print(\"Oops! The username has to start with a letter.\")\n",
    "\n",
    "# Example usage:\n",
    "user_input = input(\"Enter a username: \")\n",
    "check_username(user_input)\n"
   ]
  },
  {
   "attachments": {},
   "cell_type": "markdown",
   "metadata": {},
   "source": [
    "# 6) Searching and replacing\n"
   ]
  },
  {
   "cell_type": "code",
   "execution_count": null,
   "metadata": {},
   "outputs": [],
   "source": [
    "string = 'blue jeans, white shirt, yellow socks'\n",
    "pattern = '(blue|white|yellow)'\n",
    "replacement = 'black'\n",
    "\n",
    "result_1 = re.sub(pattern, replacement, string)  # 'black jeans, black shirt, black socks'\n",
    "result_2 = re.sub(pattern, replacement, string, count=2)  # 'black jeans, black shirt, yellow socks'"
   ]
  },
  {
   "attachments": {},
   "cell_type": "markdown",
   "metadata": {},
   "source": [
    "# 7) Precompiling patterns\n",
    "The last regexp function that we are going to talk about is compile(). It allows you to compile a pattern and reuse it later in the code. It takes a pattern (a string) as an argument and returns a special Pattern object"
   ]
  },
  {
   "cell_type": "code",
   "execution_count": null,
   "metadata": {},
   "outputs": [],
   "source": [
    "string = \"roads? where we're going we don't need roads.\"\n",
    "\n",
    "# define a pattern in a string format\n",
    "string_pattern = 'roads'\n",
    "\n",
    "# pass the pattern to the re.compile() method\n",
    "my_pattern = re.compile(string_pattern)\n",
    "\n",
    "# use the returned Pattern object to match a pattern \n",
    "result_1 = my_pattern.match(string)  # <re.Match object; span=(0, 5), match='roads'>\n",
    "result_2 = my_pattern.findall(string)  # ['roads', 'roads']\n",
    "result_3 = my_pattern.split(string)  # ['', \"? where we're going we don't need \", '.']\n",
    "result_4 = my_pattern.sub('cars', string)"
   ]
  }
 ],
 "metadata": {
  "kernelspec": {
   "display_name": "base",
   "language": "python",
   "name": "python3"
  },
  "language_info": {
   "codemirror_mode": {
    "name": "ipython",
    "version": 3
   },
   "file_extension": ".py",
   "mimetype": "text/x-python",
   "name": "python",
   "nbconvert_exporter": "python",
   "pygments_lexer": "ipython3",
   "version": "3.11.4"
  },
  "orig_nbformat": 4
 },
 "nbformat": 4,
 "nbformat_minor": 2
}
