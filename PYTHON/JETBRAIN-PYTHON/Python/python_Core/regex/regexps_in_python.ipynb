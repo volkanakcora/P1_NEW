{
 "cells": [
  {
   "attachments": {},
   "cell_type": "markdown",
   "metadata": {},
   "source": [
    "# Regexps in Python\n",
    "\n",
    "A regular expression is a sequence of characters defining a search pattern, that is, a pattern describing a set of strings. These patterns are used for searching and editing text, replacing one substring with another, and so on. The simplest example of using a regular expression is when we search for some word in a text file or on a web page. For example, if we look for the word \"python\", the string \"python\" becomes a simple regular expression — a search pattern that corresponds only to the word \"python\" and nothing else. More complicated regular expressions will be able to match a larger number of strings.\n",
    "\n",
    "\n",
    "## Re module and match()\n",
    "You can use the power of regexps if you refer to a standard Python module called re. That is, to use anything related to regexps in Python, you must first import this module.\n",
    "\n"
   ]
  },
  {
   "cell_type": "code",
   "execution_count": null,
   "metadata": {},
   "outputs": [],
   "source": [
    "import re "
   ]
  },
  {
   "attachments": {},
   "cell_type": "markdown",
   "metadata": {},
   "source": [
    "- This module provides you with several functions that search for matches for your regular expression in different ways."
   ]
  },
  {
   "cell_type": "code",
   "execution_count": 2,
   "metadata": {},
   "outputs": [
    {
     "name": "stdout",
     "output_type": "stream",
     "text": [
      "None\n"
     ]
    }
   ],
   "source": [
    "import re\n",
    "\n",
    "regexp = 'burrito'\n",
    "string = 'boorrito'\n",
    "result = re.match(regexp, string)\n",
    "print(result)\n",
    "\n",
    "\"If there's no match for your regexp right in the beginning of the string, match returns None value.\""
   ]
  },
  {
   "attachments": {},
   "cell_type": "markdown",
   "metadata": {},
   "source": [
    "- Otherwise, the function returns a special structure called match object that will contain the information about the found match"
   ]
  },
  {
   "cell_type": "code",
   "execution_count": 3,
   "metadata": {},
   "outputs": [
    {
     "name": "stdout",
     "output_type": "stream",
     "text": [
      "True\n"
     ]
    }
   ],
   "source": [
    "result = re.match('burrito', 'boorrito')\n",
    "print(result is None)\n",
    "# The output is True (no matches are found)\n",
    "# because 'boorrito' doesn't match 'burrito'"
   ]
  },
  {
   "attachments": {},
   "cell_type": "markdown",
   "metadata": {},
   "source": [
    "- Let's try out some other examples! Here, there's a successful application of match() function:\n",
    "\n"
   ]
  },
  {
   "cell_type": "code",
   "execution_count": 11,
   "metadata": {},
   "outputs": [
    {
     "name": "stdout",
     "output_type": "stream",
     "text": [
      "False\n"
     ]
    },
    {
     "ename": "SyntaxError",
     "evalue": "'return' outside function (2052383763.py, line 6)",
     "output_type": "error",
     "traceback": [
      "\u001b[0;36m  Cell \u001b[0;32mIn[11], line 6\u001b[0;36m\u001b[0m\n\u001b[0;31m    return True\u001b[0m\n\u001b[0m    ^\u001b[0m\n\u001b[0;31mSyntaxError\u001b[0m\u001b[0;31m:\u001b[0m 'return' outside function\n"
     ]
    }
   ],
   "source": [
    "result = re.match('hedge', 'hedgehog')\n",
    "print(result is None)\n",
    "# The output is False, \n",
    "# because there's 'hedge' in the beginning of the string 'hedgehog'\n"
   ]
  },
  {
   "attachments": {},
   "cell_type": "markdown",
   "metadata": {},
   "source": [
    "- Don't forget that match() won't help you with finding parts of the string that match the template, but aren't located in the beginning of the string. Check out this example:"
   ]
  },
  {
   "cell_type": "code",
   "execution_count": 12,
   "metadata": {},
   "outputs": [],
   "source": [
    "result = re.match('hog', 'hedgehog')  # no match\n",
    "# because the beginning of the string doesn't match the template 'hog'"
   ]
  },
  {
   "attachments": {},
   "cell_type": "markdown",
   "metadata": {},
   "source": [
    "- You might also want to note that even if the match is an empty string, match object will still be equal to True, because the length of the matching string doesn't matter: only the presence of match does."
   ]
  },
  {
   "cell_type": "code",
   "execution_count": 13,
   "metadata": {},
   "outputs": [],
   "source": [
    "result = re.match('', 'not an empty string')  # match\n",
    "# because an empty template doesn't need anything to match the string"
   ]
  },
  {
   "attachments": {},
   "cell_type": "markdown",
   "metadata": {},
   "source": [
    "- The example above suggests that you should be careful with empty templates: even though it may seem counterintuitive, they don't match only empty strings, they match all strings (at least, when you use match() function and check the presence of matching substring in the beginning of the string)."
   ]
  },
  {
   "attachments": {},
   "cell_type": "markdown",
   "metadata": {},
   "source": [
    "- Don't forget that regular expressions by default are case sensitive"
   ]
  },
  {
   "cell_type": "code",
   "execution_count": 14,
   "metadata": {},
   "outputs": [],
   "source": [
    "result = re.match('HURRAY', 'hurray')  # no match\n"
   ]
  },
  {
   "attachments": {},
   "cell_type": "markdown",
   "metadata": {},
   "source": [
    "# The dot character\n",
    "\n",
    "Regular expressions wouldn't be so useful if they could only correspond to one particular string. The true power of regexps lies in the possibility to state the presence (or absence) of some characters in the regexp template without even specifying these characters directly. The dot character . is one of the most important special symbols allowing to do this. It literally matches any single character, e.g., any digit, letter, space, and so on, except for the newline character \\n.\n",
    "\n"
   ]
  },
  {
   "cell_type": "code",
   "execution_count": 15,
   "metadata": {},
   "outputs": [
    {
     "data": {
      "text/plain": [
       "<re.Match object; span=(0, 8), match='python !'>"
      ]
     },
     "execution_count": 15,
     "metadata": {},
     "output_type": "execute_result"
    }
   ],
   "source": [
    "# This regexp will correspond to the substring 'python'\n",
    "# followed by a space and any character \n",
    "regexp = 'python .'\n",
    "\n",
    "# all examples match the regexp\n",
    "re.match(regexp, 'python 3') \n",
    "re.match(regexp, 'python 2')\n",
    "re.match(regexp, 'python !')"
   ]
  },
  {
   "attachments": {},
   "cell_type": "markdown",
   "metadata": {},
   "source": [
    "- On the other hand, these examples will result in None:\n",
    "\n"
   ]
  },
  {
   "cell_type": "code",
   "execution_count": 16,
   "metadata": {},
   "outputs": [],
   "source": [
    "# The dot doesn't match \\n\n",
    "newline = re.match(regexp, 'python \\n')\n",
    "\n",
    "# '?' doesn't match the space\n",
    "question = re.match(regexp, 'python?!')"
   ]
  },
  {
   "attachments": {},
   "cell_type": "markdown",
   "metadata": {},
   "source": [
    "# The question mark\n",
    "The question mark ?, unlike the dot, doesn't replace any character by itself. It is a quantifier that basically means \"the previous character can be absent\". In other words, the question mark ? signals that the character before it can occur once or zero times in a string to match the pattern.\n",
    "\n"
   ]
  },
  {
   "cell_type": "code",
   "execution_count": null,
   "metadata": {},
   "outputs": [],
   "source": [
    "regexp = 'regexp?'\n",
    "word1 = re.match(regexp, 'regex')  # match\n",
    "word2 = re.match(regexp, 'regexp')  # match"
   ]
  },
  {
   "attachments": {},
   "cell_type": "markdown",
   "metadata": {},
   "source": [
    "- - Of course, you can use the combination of the dot and the question mark. In this case, it'll mean that the string can contain either any single character or nothing."
   ]
  },
  {
   "cell_type": "code",
   "execution_count": null,
   "metadata": {},
   "outputs": [],
   "source": [
    "regexp = '.? points? to gryffindor'\n",
    "\n",
    "# '.? points?' matches '1 point'\n",
    "re.match(regexp, '1 point to gryffindor')\n",
    "\n",
    "# '.? points?' matches '0 points'\n",
    "re.match(regexp, '0 points to gryffindor')\n",
    "\n",
    "# no match, since '.? points?' doesn't match '-5 points'\n",
    "re.match(regexp, '-5 points to gryffindor')\n",
    "\n",
    "# '.? points?' matches ' points'\n",
    "re.match(regexp, ' points to gryffindor')"
   ]
  }
 ],
 "metadata": {
  "kernelspec": {
   "display_name": "Python 3",
   "language": "python",
   "name": "python3"
  },
  "language_info": {
   "codemirror_mode": {
    "name": "ipython",
    "version": 3
   },
   "file_extension": ".py",
   "mimetype": "text/x-python",
   "name": "python",
   "nbconvert_exporter": "python",
   "pygments_lexer": "ipython3",
   "version": "3.11.3"
  },
  "orig_nbformat": 4
 },
 "nbformat": 4,
 "nbformat_minor": 2
}
