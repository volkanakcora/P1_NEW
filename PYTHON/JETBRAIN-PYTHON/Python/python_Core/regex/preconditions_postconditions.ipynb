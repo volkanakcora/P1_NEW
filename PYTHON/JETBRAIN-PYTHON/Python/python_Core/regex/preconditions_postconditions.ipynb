{
 "cells": [
  {
   "attachments": {},
   "cell_type": "markdown",
   "metadata": {},
   "source": [
    "When designing your regular expression patterns, you can use lookaround assertions to make your patterns match specific strings that follow or precede another pattern. Lookaround assertions are enclosed in parentheses; they do not return the matched pattern. That's why we can also call them zero-width assertions. We will look at them in more detail in the following sections."
   ]
  },
  {
   "attachments": {},
   "cell_type": "markdown",
   "metadata": {},
   "source": [
    "# 1) Positive lookaheads\n",
    "\n",
    "\n",
    "- The first type of assertion that we are going to discuss is the positive lookahead. It is a regexp pattern that looks as (?=pattern).\n",
    "Patterns with a positive lookahead match the pattern to the right side of the target match. For example, JetBrains (?=Academy) will match JetBrains only if Academy follows it. Let's have a look at how they work in the code snippet below"
   ]
  },
  {
   "cell_type": "code",
   "execution_count": null,
   "metadata": {},
   "outputs": [],
   "source": [
    "pattern = r'JetBrains (?=Academy)'\n",
    "string_1 = 'JetBrains Academy'\n",
    "string_2 = 'JetBrains Company'\n",
    " \n",
    "result_1 = re.match(pattern, string_1)  # match \n",
    "result_2 = re.match(pattern, string_2)  # no match"
   ]
  },
  {
   "attachments": {},
   "cell_type": "markdown",
   "metadata": {},
   "source": [
    "# 2) Negative lookaheads\n",
    "A negative lookahead is a regexp pattern that takes the form of (?!pattern). It does completely the opposite: patterns with a negative lookahead return a match if a pattern defined in parentheses doesn't follow a string. In our example, JetBrains (?!Academy) will return a match only if JetBrains is not followed by Academy. Compare the results below:\n",
    "\n"
   ]
  },
  {
   "cell_type": "code",
   "execution_count": null,
   "metadata": {},
   "outputs": [],
   "source": [
    "pattern = r'JetBrains (?!Academy)'\n",
    "string_1 = 'JetBrains Academy'\n",
    "string_2 = 'JetBrains Company'\n",
    " \n",
    "result_1 = re.match(pattern, string_1)  # no match \n",
    "result_2 = re.match(pattern, string_2)  # match"
   ]
  },
  {
   "attachments": {},
   "cell_type": "markdown",
   "metadata": {},
   "source": [
    "# 3) Positive lookbehinds\n",
    "\n",
    "A positive lookbehind assertion pattern is an expression like this: (?<=pattern). In the same way as the positive lookahead, a positive lookbehind matches a string if the specified phrase precedes it. In our (?<=JetBrains )Academy example, Academy is the output. Mind the following snippet:\n",
    "\n"
   ]
  },
  {
   "cell_type": "code",
   "execution_count": null,
   "metadata": {},
   "outputs": [],
   "source": [
    "pattern = '(?<=JetBrains )Academy'\n",
    "string =  'JetBrains Academy'\n",
    "\n",
    "result = re.search(pattern, string)\n",
    "print(result.group())  # Academy\n"
   ]
  },
  {
   "attachments": {},
   "cell_type": "markdown",
   "metadata": {},
   "source": [
    "There are two crucial things to account for if you opt for positive lookbehinds:\n",
    "\n",
    "A positive lookbehind pattern can only match strings of fixed length. In other words, you can use patterns like JetBrains or [Jet |Brains ], but you cannot use \\w+, JetBrains{1, }, or JetBrains.*, as their length can vary. Similar patterns with positive lookbehinds raise an error:"
   ]
  },
  {
   "cell_type": "code",
   "execution_count": null,
   "metadata": {},
   "outputs": [],
   "source": [
    "pattern = '(?<=JetBrains.*)Academy'\n",
    "string = 'JetBrains Academy'\n",
    "\n",
    "result = re.search(pattern, string)\n",
    "print(result.group())  # ...re.error: look-behind requires fixed-width pattern"
   ]
  },
  {
   "attachments": {},
   "cell_type": "markdown",
   "metadata": {},
   "source": [
    "Patterns that start with positive lookbehind assertions do not match the beginning of a string. We recommend using the search() method instead of match() if you want your pattern to match the beginning of a string:\n",
    "\n"
   ]
  },
  {
   "cell_type": "code",
   "execution_count": 1,
   "metadata": {},
   "outputs": [
    {
     "ename": "NameError",
     "evalue": "name 're' is not defined",
     "output_type": "error",
     "traceback": [
      "\u001b[0;31m---------------------------------------------------------------------------\u001b[0m",
      "\u001b[0;31mNameError\u001b[0m                                 Traceback (most recent call last)",
      "Cell \u001b[0;32mIn[1], line 1\u001b[0m\n\u001b[0;32m----> 1\u001b[0m result_1 \u001b[39m=\u001b[39m re\u001b[39m.\u001b[39mmatch(\u001b[39m'\u001b[39m\u001b[39m(?<=JetBrains )Academy\u001b[39m\u001b[39m'\u001b[39m, \u001b[39m'\u001b[39m\u001b[39mJetBrains Academy\u001b[39m\u001b[39m'\u001b[39m)  \u001b[39m# None\u001b[39;00m\n\u001b[1;32m      2\u001b[0m result_2 \u001b[39m=\u001b[39m re\u001b[39m.\u001b[39msearch(\u001b[39m'\u001b[39m\u001b[39m(?<=JetBrains )Academy\u001b[39m\u001b[39m'\u001b[39m, \u001b[39m'\u001b[39m\u001b[39mJetBrains Academy\u001b[39m\u001b[39m'\u001b[39m)\n",
      "\u001b[0;31mNameError\u001b[0m: name 're' is not defined"
     ]
    }
   ],
   "source": [
    "result_1 = re.match('(?<=JetBrains )Academy', 'JetBrains Academy')  # None\n",
    "result_2 = re.search('(?<=JetBrains )Academy', 'JetBrains Academy')  # 'Academy'"
   ]
  },
  {
   "attachments": {},
   "cell_type": "markdown",
   "metadata": {},
   "source": [
    "# 4) Negative lookbehinds\n",
    "\n",
    "The last assertion that we are going to look at is the negative lookbehind. You can define it as (?<!pattern). Negative lookbehind matches a string if the current position in the string is not preceded by the match:\n",
    "\n"
   ]
  },
  {
   "cell_type": "code",
   "execution_count": null,
   "metadata": {},
   "outputs": [],
   "source": [
    "pattern = r'(?<!JetBrains )Academy'\n",
    "string_1 = 'JetBrains Academy'\n",
    "string_2 = 'Hyperskill Academy'\n",
    "\n",
    "re.search(pattern, string_1)  # None\n",
    "re.search(pattern, string_2)  # Academy"
   ]
  },
  {
   "attachments": {},
   "cell_type": "markdown",
   "metadata": {},
   "source": [
    "- Positive lookahead (?=pattern) provides a match if the text is followed by the specified pattern;\n",
    "\n",
    "- Negative lookahead (?!pattern) provides a match if the text is not followed by the specified pattern;\n",
    "\n",
    "- Positive lookbehind (?<=pattern) provides a match if the text is preceded by the pattern;\n",
    "\n",
    "- Negative lookbehind (?<!pattern) provides a match if the text is not preceded by the pattern;\n",
    "\n",
    "- Lookbehind assertions do not match the beginning of a string, so prefer search() over match();\n",
    "\n",
    "- Lookbehind patterns work with fixed-length strings only."
   ]
  }
 ],
 "metadata": {
  "kernelspec": {
   "display_name": "base",
   "language": "python",
   "name": "python3"
  },
  "language_info": {
   "codemirror_mode": {
    "name": "ipython",
    "version": 3
   },
   "file_extension": ".py",
   "mimetype": "text/x-python",
   "name": "python",
   "nbconvert_exporter": "python",
   "pygments_lexer": "ipython3",
   "version": "3.11.4"
  },
  "orig_nbformat": 4
 },
 "nbformat": 4,
 "nbformat_minor": 2
}
