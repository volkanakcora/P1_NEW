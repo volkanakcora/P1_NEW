{
 "cells": [
  {
   "attachments": {},
   "cell_type": "markdown",
   "metadata": {},
   "source": [
    "# 1) Itertools module\n",
    "\n",
    "You are already familiar with iterators and know how to create an iterator from a list or other iterable objects. In this topic, you will learn how to create iterators from multiple collections (e.g., two lists) with the help of the methods implemented in the itertools module."
   ]
  },
  {
   "cell_type": "code",
   "execution_count": 2,
   "metadata": {},
   "outputs": [],
   "source": [
    "import itertools\n"
   ]
  },
  {
   "attachments": {},
   "cell_type": "markdown",
   "metadata": {},
   "source": [
    "# Itertools.chain()\n",
    "\n",
    "itertools.chain(iterable1, iterable2, ...) is handy when you need to treat a number of consecutive sequences as a single sequence."
   ]
  },
  {
   "cell_type": "code",
   "execution_count": 13,
   "metadata": {},
   "outputs": [
    {
     "name": "stdout",
     "output_type": "stream",
     "text": [
      "None\n",
      "None\n",
      "None\n",
      "None\n",
      "None\n",
      "None\n",
      "None\n",
      "None\n"
     ]
    }
   ],
   "source": [
    "students_maths = ['Ann', 'Kate', 'Tom']\n",
    "students_english = ['Tim', 'Carl', 'Dean']\n",
    "students_history = ['Jane', 'Mike']\n",
    "list = []\n",
    "for student in itertools.chain(students_maths, students_english, students_history):\n",
    "    print(list.append(student))\n",
    "\n",
    "# Ann\n",
    "# Kate\n",
    "# Tom\n",
    "# Tim\n",
    "# Carl\n",
    "# Dean\n",
    "# Jane\n",
    "# Mike\n"
   ]
  },
  {
   "attachments": {},
   "cell_type": "markdown",
   "metadata": {},
   "source": [
    "So, the itertools.chain takes a number of lists (or any other iterables) as input and returns an iterator that returns the elements from the first list one by one until the list is exhausted, and then proceeds to the second one and so on until all the lists are exhausted."
   ]
  },
  {
   "attachments": {},
   "cell_type": "markdown",
   "metadata": {},
   "source": [
    "- Note that this approach is different from concatenating all the lists first and then looping over the resulting list because itertools.chain doesn't actually create this intermediate concatenated list and therefore saves up memory.\n",
    "\n",
    "- The itertools module implements other useful combinatorial functions, such as product() and combinations()."
   ]
  },
  {
   "attachments": {},
   "cell_type": "markdown",
   "metadata": {},
   "source": [
    "# 2) itertools.product()\n",
    "\n",
    "- Another useful tool is the itertools.product(iterable1, iterable2, ...), which takes several iterables and returns the elements of their Cartesian product one by one"
   ]
  },
  {
   "cell_type": "code",
   "execution_count": null,
   "metadata": {},
   "outputs": [],
   "source": [
    "first_list = ['Hi', 'Bye', 'How are you']\n",
    "second_list = ['Jane', 'Anton']\n",
    "\n",
    "for first, second in itertools.product(first_list, second_list):\n",
    "    print(first, second)\n",
    "\n",
    "# Hi Jane\n",
    "# Hi Anton\n",
    "# Bye Jane\n",
    "# Bye Anton\n",
    "# How are you Jane\n",
    "# How are you Anton"
   ]
  },
  {
   "cell_type": "code",
   "execution_count": null,
   "metadata": {},
   "outputs": [],
   "source": [
    "# Trying to create a list containing 10^12 elements will result in a memory error:\n",
    "too_long_list = list(itertools.product(range(1000000), range(1000000)))\n",
    "\n",
    "# However, works with iterators:\n",
    "my_iterator = itertools.product(range(1000000), range(1000000))\n",
    "for i in range(5):\n",
    "    print(next(my_iterator))\n",
    "\n",
    "# (0, 0)\n",
    "# (0, 1)\n",
    "# (0, 2)\n",
    "# (0, 3)\n",
    "# (0, 4)"
   ]
  },
  {
   "attachments": {},
   "cell_type": "markdown",
   "metadata": {},
   "source": [
    "# 3) itertools.combinations()\n"
   ]
  },
  {
   "attachments": {},
   "cell_type": "markdown",
   "metadata": {},
   "source": [
    "Imagine that you need to obtain all possible combinations of r items from an iterable containing n elements.\n",
    "\n",
    "For example, let's consider all possible combinations of any two numbers between 1 and 1000000. There are so many of them it's practically impossible to fit in memory. How to deal with this problem? Use iterators!\n",
    "\n",
    "itertools.combinations(iterable, r) does exactly what we want. Take a look at the example:"
   ]
  },
  {
   "cell_type": "code",
   "execution_count": null,
   "metadata": {},
   "outputs": [],
   "source": [
    "my_iter = itertools.combinations(range(1, 1000000), 2)\n",
    "\n",
    "for i in range(5):\n",
    "    print(next(my_iter))\n",
    "\n",
    "# (1, 2)\n",
    "# (1, 3)\n",
    "# (1, 4)\n",
    "# (1, 5)\n",
    "# (1, 6)\n"
   ]
  },
  {
   "attachments": {},
   "cell_type": "markdown",
   "metadata": {},
   "source": [
    "# 4) itertools.groupby()\n",
    "\n",
    "Something else we can do with an iterable using itertools is to group its items by a key. That is done with the itertools.groupby() method. It takes one iterable and an optional key argument that determines the criteria for grouping the items.\n",
    "\n"
   ]
  },
  {
   "cell_type": "code",
   "execution_count": null,
   "metadata": {},
   "outputs": [],
   "source": [
    "all_students = ['Ann', 'Kate', 'Tom', 'Jane', 'Mike', 'Ann', 'Carl', 'Mike']\n",
    "\n",
    "all_students.sort()\n",
    "\n",
    "for key, group in itertools.groupby(all_students):\n",
    "    print(key, list(group))\n",
    "\n",
    "# Ann ['Ann', 'Ann']\n",
    "# Carl ['Carl']\n",
    "# Jane ['Jane']\n",
    "# Kate ['Kate']\n",
    "# Mike ['Mike', 'Mike']\n",
    "# Tom ['Tom']\n"
   ]
  },
  {
   "attachments": {},
   "cell_type": "markdown",
   "metadata": {},
   "source": [
    "If we want to group items by specific criteria, we should pass it as a function to the key argument. You can define a custom function or use the lambda function. For example, we can group names by their lengths:"
   ]
  },
  {
   "cell_type": "code",
   "execution_count": null,
   "metadata": {},
   "outputs": [],
   "source": [
    "# first, we sort the elements accordingly\n",
    "all_students.sort(key=lambda x: len(x))\n",
    "\n",
    "for key, group in itertools.groupby(all_students, key=lambda x: len(x)):\n",
    "    print(key, list(group))\n",
    "\n",
    "# 3 ['Ann', 'Tom', 'Ann']\n",
    "# 4 ['Kate', 'Jane', 'Mike', 'Carl', 'Mike']"
   ]
  },
  {
   "cell_type": "code",
   "execution_count": 25,
   "metadata": {},
   "outputs": [
    {
     "name": "stdout",
     "output_type": "stream",
     "text": [
      "('name',)\n",
      "('population_mil',)\n"
     ]
    }
   ],
   "source": [
    "import itertools\n",
    "countr = {\"name\": \"United States of America\", \"population_mil\": 334.532}\n",
    "\n",
    "# write your code\n",
    "list = {}\n",
    "for i in itertools.product(countr):\n",
    "    print(i)\n",
    "\n"
   ]
  }
 ],
 "metadata": {
  "kernelspec": {
   "display_name": "base",
   "language": "python",
   "name": "python3"
  },
  "language_info": {
   "codemirror_mode": {
    "name": "ipython",
    "version": 3
   },
   "file_extension": ".py",
   "mimetype": "text/x-python",
   "name": "python",
   "nbconvert_exporter": "python",
   "pygments_lexer": "ipython3",
   "version": "3.11.4"
  },
  "orig_nbformat": 4
 },
 "nbformat": 4,
 "nbformat_minor": 2
}
