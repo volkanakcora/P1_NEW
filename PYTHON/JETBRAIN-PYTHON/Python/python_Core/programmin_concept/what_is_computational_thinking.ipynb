{
 "cells": [
  {
   "attachments": {},
   "cell_type": "markdown",
   "metadata": {},
   "source": [
    "# What is computational thinking?\n",
    "Computers can only deal with clear, concise instructions that agree with the rules of formal logic. However, real-world problems are rarely cut so clearly. Computational thinking is a set of mental skills helping to see the problems as a set of complex information processes that we can transform into a particular set of instructions for a computer.\n",
    "\n",
    "Approach every problem you encounter while learning a programming language as not only the opportunity to remember the syntax of the language but also as an opportunity to train computational thinking.\n",
    "\n",
    "To do that, you can follow a simple algorithm:\n",
    "\n",
    "- 1.Describe the problem\n",
    "What exactly needs to be done? What input data are you given and what does the desired outcome look like?\n",
    "\n",
    "- 2. Identify the important details needed to solve this problem\n",
    "Before thinking of a solution, make sure you take into account all the important aspects of the problem. The devil is in the details, and in case of programming, it hides in edge cases.\n",
    "\n",
    "- 3. Decompose\n",
    "Break the problem down into small, logical steps until you know exactly how to code each part of it.\n",
    "Use these steps to create an algorithm that solves the problem\n",
    "Connect the pieces of the problem in a way that would produce the desired outcome in all specified cases.\n",
    "\n",
    "- 4. Evaluate the process\n",
    "Usually, a problem has at least a few solutions, and it’s very useful to evaluate your idea to make sure you've chosen a way that is as efficient as possible."
   ]
  },
  {
   "attachments": {},
   "cell_type": "markdown",
   "metadata": {},
   "source": [
    "# Components of computational thinking\n",
    "\n",
    "Computational thinking is a set of skills that helps you come up with a generalizable solution to a problem and solve it using a computer.\n",
    "Let's elaborate on the main foundations of this skill, namely: abstraction, decomposition, pattern recognition, and evaluation\n",
    "\n",
    "\n",
    "## Decomposition\n",
    "Complex problems are easier to solve when we break them down into separate steps and subproblems. We do this all the time in our daily life as well. For example, if your goal is to make a pizza, you'd need to find a recipe, shop for all the relevant ingredients, heat the oven, make the dough, chop the toppings and finally bake the pizza for an appropriate amount of time. Breaking down a problem like that helps to focus on solving each subproblem separately (and maybe even reusing solutions other people came up with) and avoid being overwhelmed by the requirements."
   ]
  },
  {
   "attachments": {},
   "cell_type": "markdown",
   "metadata": {},
   "source": [
    "# Extracting and Generalizing patterns\n",
    "\n",
    "Pattern recognition is based on the five key steps:\n",
    "\n",
    "Identify common elements in problems or systems\n",
    "\n",
    "Identify and interpret common differences in problems or systems\n",
    "\n",
    "Identify individual elements within sub-problems\n",
    "\n",
    "Describe patterns that have been identified\n",
    "\n",
    "Make predictions based on identified patterns."
   ]
  },
  {
   "attachments": {},
   "cell_type": "markdown",
   "metadata": {},
   "source": [
    "# Abstraction\n",
    "\n",
    "Abstraction helps us generalize the solution by figuring out a model of a situation. We get rid of all the unnecessary details to focus on what's actually important. One can say that a programming language is an abstraction. You use variables to perform operations instead of listing all the data these variables stand for every time.\n",
    "\n",
    "It's exactly the abstraction that helps us come up with a generalizable solution without writing a separate program for each variation of the problem.\n",
    "\n",
    "If we get back to pizza and try to apply abstraction, we would say that for pizza to be a pizza it needs flat dough, sauce, and toppings.\n",
    "\n",
    "The shape of the pizza and the fact that it has cheese would be redundant information, since it is impossible to imagine square pizza with no cheese.\n",
    "\n",
    "Therefore, if we abstract our pizza like a flat dough open pie with toppings and sauce, we would be able to write one program to perform operations on all the pizzas, regardless of their taste, shape, and vegan friendliness."
   ]
  },
  {
   "attachments": {},
   "cell_type": "markdown",
   "metadata": {},
   "source": [
    "# Evaluation\n",
    "\n",
    "Once you found a solution to your problem, it is helpful to go through an evaluation checklist. At times your solution won't work and this checklist can also help you to find out where you've gone wrong.\n",
    "\n",
    "Make sure your solution is:\n",
    "\n",
    "Easy to understand. Usually, that is the case if the problem is decomposed well.\n",
    "\n",
    "Complete. Your solution covers all the aspects of the problem. Remember, the devil lies in edge cases.\n",
    "\n",
    "Efficient. Make sure you are making the best use of the tools you have. In the case of programming, it can be regarded as using appropriate syntax constructions. Speed is one of the most important markers of the solution's efficiency and becomes incredibly important when writing production code."
   ]
  },
  {
   "cell_type": "code",
   "execution_count": null,
   "metadata": {},
   "outputs": [],
   "source": []
  }
 ],
 "metadata": {
  "language_info": {
   "name": "python"
  },
  "orig_nbformat": 4
 },
 "nbformat": 4,
 "nbformat_minor": 2
}
