{
 "cells": [
  {
   "attachments": {},
   "cell_type": "markdown",
   "metadata": {},
   "source": [
    "# Conversion to boolean\n",
    "\n",
    "You already know that all objects in Python can be interpreted as boolean values. Objects that are evaluated to True are called truthy, objects that are evaluated to False are called falsy. The following values are falsy:\n",
    "\n",
    "- some constants: None and False,\n",
    "- zero: 0, 0.0, 0j,\n",
    "- empty containers such as a string \"\", a list [], and others.\n",
    "\n",
    "All other objects are evaluated to True.\n",
    "\n",
    "This allows us to use objects of any type in boolean expressions. In this topic, we are going to learn when it can be useful and when you should explicitly convert objects into boolean values."
   ]
  },
  {
   "attachments": {},
   "cell_type": "markdown",
   "metadata": {},
   "source": [
    "## Truthy test\n",
    "Since there are few objects in Python that are evaluated to False, there are not many cases when non-boolean values are used in logical expressions. The most common one is checking whether the given container is empty or not. Let's write a function that prints a list if it is not empty and the string \"empty list\" if it is the opposite.\n",
    "\n"
   ]
  },
  {
   "cell_type": "code",
   "execution_count": 1,
   "metadata": {},
   "outputs": [
    {
     "name": "stdout",
     "output_type": "stream",
     "text": [
      "[2, 3, 4]\n",
      "empty list\n"
     ]
    }
   ],
   "source": [
    "def print_list(lst):\n",
    "    if lst:\n",
    "        print(lst)\n",
    "    else:\n",
    "        print('empty list')\n",
    "\n",
    "\n",
    "print_list([2, 3, 4])  # [2, 3, 4]\n",
    "print_list([])         # empty list"
   ]
  },
  {
   "attachments": {},
   "cell_type": "markdown",
   "metadata": {},
   "source": [
    "According to PEP8, writing if lst instead of if len(lst) > 0 is preferable, but you should understand well which objects could be passed to your function. In this example, if the passed argument lst turns out to be None, this function prints \"empty list\".\n",
    "\n",
    "Here and later in this topic, all examples use lists but this all can be applied to other containers in the same way.\n",
    "There is a more compact way to implement the same function but it requires a deep understanding of how the and and or operators work with non-boolean values."
   ]
  },
  {
   "attachments": {},
   "cell_type": "markdown",
   "metadata": {},
   "source": [
    "# Logical operations with non-boolean values\n"
   ]
  },
  {
   "attachments": {},
   "cell_type": "markdown",
   "metadata": {},
   "source": [
    "You already know that given two boolean values, and returns True if both operands equal True while or returns True if at least one operand equals True. When the operands are of the arbitrary type, Python can apply and and or operators to them, but the result will be one of the operands rather than the boolean values True or False.\n",
    "\n",
    "The tables below show what and , or and not operators return depending on whether their operands are truthy or falsy."
   ]
  },
  {
   "attachments": {},
   "cell_type": "markdown",
   "metadata": {},
   "source": [
    "## The and operator.\n",
    "\n",
    "a\tb\ta and b\n",
    "- truthy\ttruthy\tb\n",
    "- truthy\tfalsy\tb\n",
    "- falsy\ttruthy\ta\n",
    "- falsy\tfalsy\ta\n",
    "\n",
    "## The or operator.\n",
    "\n",
    "a\tb\ta or b\n",
    "- truthy\ttruthy\ta\n",
    "- truthy\tfalsy\ta\n",
    "- falsy\ttruthy\tb\n",
    "- falsy\tfalsy\tb\n",
    "\n",
    "## The not operator.\n",
    "\n",
    "a\tnot a\n",
    "truthy\tFalse\n",
    "falsy\tTrue\n",
    "\n",
    "## Now we can implement the print_list() function in one line:\n"
   ]
  },
  {
   "cell_type": "code",
   "execution_count": 2,
   "metadata": {},
   "outputs": [
    {
     "name": "stdout",
     "output_type": "stream",
     "text": [
      "[2, 3, 4]\n",
      "empty list\n"
     ]
    }
   ],
   "source": [
    "\n",
    "def print_list(lst):\n",
    "    print(lst or 'empty list')\n",
    "\n",
    "\n",
    "print_list([2, 3, 4])  # [2, 3, 4]\n",
    "print_list([])         # empty list"
   ]
  },
  {
   "attachments": {},
   "cell_type": "markdown",
   "metadata": {},
   "source": [
    "According to the second table, when lst is not empty, so it is truthy, the or operator returns the first operand (the list itself); when lst is empty, so it is falsy, the or operator returns the second operand (the string in our case)."
   ]
  },
  {
   "attachments": {},
   "cell_type": "markdown",
   "metadata": {},
   "source": [
    "Another thing to note is that when the first operand uniquely determines the result of the operation, which happens when the first operand in the and operation is falsy or when the first operand in the or operation is truthy, Python does not look at the second operand at all. For example, when we want to check if the given list lst is not empty and its first element is positive, we may write the following:"
   ]
  },
  {
   "cell_type": "code",
   "execution_count": 3,
   "metadata": {},
   "outputs": [
    {
     "ename": "NameError",
     "evalue": "name 'lst' is not defined",
     "output_type": "error",
     "traceback": [
      "\u001b[0;31m---------------------------------------------------------------------------\u001b[0m",
      "\u001b[0;31mNameError\u001b[0m                                 Traceback (most recent call last)",
      "Cell \u001b[0;32mIn[3], line 1\u001b[0m\n\u001b[0;32m----> 1\u001b[0m \u001b[39mif\u001b[39;00m lst \u001b[39mand\u001b[39;00m lst[\u001b[39m0\u001b[39m] \u001b[39m>\u001b[39m \u001b[39m0\u001b[39m:\n\u001b[1;32m      2\u001b[0m     \u001b[39m.\u001b[39m\u001b[39m.\u001b[39m\u001b[39m.\u001b[39m\n\u001b[1;32m      4\u001b[0m \u001b[39m# If lst is empty, the lst[0] > 0 expression is invalid but it does not cause an exception because it never gets evaluated.\u001b[39;00m\n",
      "\u001b[0;31mNameError\u001b[0m: name 'lst' is not defined"
     ]
    }
   ],
   "source": [
    "if lst and lst[0] > 0:\n",
    "    ...\n",
    "\n",
    "# If lst is empty, the lst[0] > 0 expression is invalid but it does not cause an exception because it never gets evaluated.\n",
    "\n"
   ]
  },
  {
   "attachments": {},
   "cell_type": "markdown",
   "metadata": {},
   "source": [
    "# bool() function\n"
   ]
  },
  {
   "attachments": {},
   "cell_type": "markdown",
   "metadata": {},
   "source": [
    "Although we can use any objects in boolean expressions, there are cases when we should explicitly convert objects into real boolean values. This can be done with the bool() function. The bool() function returns True if the passed argument is truthy, and False if it is falsy."
   ]
  },
  {
   "cell_type": "code",
   "execution_count": null,
   "metadata": {},
   "outputs": [],
   "source": [
    "print(bool(True), bool(False))    # True False\n",
    "print(bool(None))                 # False\n",
    "print(bool([]), bool([2, 3, 9]))  # False True"
   ]
  },
  {
   "attachments": {},
   "cell_type": "markdown",
   "metadata": {},
   "source": [
    "# When to use the bool() function?\n"
   ]
  },
  {
   "attachments": {},
   "cell_type": "markdown",
   "metadata": {},
   "source": [
    "Sometimes you need to store the result of a logical expression or even write it to a file. In this case, you would want to get True or False, not a truthy or falsy object.\n",
    "\n",
    "Let's look at the example. You have a list of lists with integer values. You want to check if this list is not empty and its first element is not zero for each inner list. The solution is the following code:"
   ]
  },
  {
   "cell_type": "code",
   "execution_count": null,
   "metadata": {},
   "outputs": [],
   "source": [
    "def check_list(lst):\n",
    "    return lst and lst[0]\n",
    "\n",
    "\n",
    "lists = [[5, 9], [0, 0], []]\n",
    "result = []\n",
    "for lst in lists:\n",
    "    result.append(check_list(lst))\n",
    "\n",
    "print(result)  # [5, 0, []]"
   ]
  },
  {
   "attachments": {},
   "cell_type": "markdown",
   "metadata": {},
   "source": [
    "Although 5 is a truthy value and 0 and [] are falsy values, most likely you would prefer to get a list consisting of real boolean values:result = [True, False, False]. So you should explicitly convert the result of the function into a boolean value."
   ]
  },
  {
   "cell_type": "code",
   "execution_count": 4,
   "metadata": {},
   "outputs": [
    {
     "name": "stdout",
     "output_type": "stream",
     "text": [
      "[True, False, False]\n"
     ]
    }
   ],
   "source": [
    "def check_list(lst):\n",
    "    return bool(lst and lst[0])\n",
    "\n",
    "\n",
    "lists = [[5, 9], [0, 0], []]\n",
    "result = []\n",
    "for lst in lists:\n",
    "    result.append(check_list(lst))\n",
    "\n",
    "print(result)  # [True, False, False]"
   ]
  },
  {
   "attachments": {},
   "cell_type": "markdown",
   "metadata": {},
   "source": [
    "# Exercises"
   ]
  },
  {
   "cell_type": "code",
   "execution_count": 3,
   "metadata": {},
   "outputs": [
    {
     "name": "stdout",
     "output_type": "stream",
     "text": [
      "False\n"
     ]
    }
   ],
   "source": [
    "def compare(numerator, denominator):\n",
    "    return bool(denominator and numerator / denominator == 0.5)\n",
    "\n",
    "\n",
    "a = int(input())\n",
    "b = int(input())\n",
    "\n",
    "print(compare(a, b))"
   ]
  },
  {
   "attachments": {},
   "cell_type": "markdown",
   "metadata": {},
   "source": [
    "XOR operator\n",
    "\n",
    "Implement an XOR operator that can work with objects of any type.\n",
    "\n",
    "The behaviour should be the following:\n",
    "\n",
    "if the operands are both truthy or both falsy, return False,\n",
    "if one operand is truthy and the other operand is falsy, return the truthy one (the operand itself, not True).\n",
    "Write your code inside the xor() function. Your program should not read any input or call the function, your task is to implement it.\n",
    "\n",
    "Tip: Remember some facts: the bool() function returns True if the passed argument is truthy, and False if it is falsy. What operand does the or operator return?"
   ]
  },
  {
   "cell_type": "code",
   "execution_count": 5,
   "metadata": {},
   "outputs": [
    {
     "name": "stdout",
     "output_type": "stream",
     "text": [
      "False\n"
     ]
    }
   ],
   "source": [
    "def xor(a, b):\n",
    "    if bool(a) == bool(b):\n",
    "        return False\n",
    "    elif bool(a):\n",
    "        return a\n",
    "    else:\n",
    "        return b\n"
   ]
  },
  {
   "attachments": {},
   "cell_type": "markdown",
   "metadata": {},
   "source": [
    "a\t            b\t        a and b\n",
    "truthy\ttruthy\t     b          # a is true, so Python needs to evaluate b to finish determining if 'a and b' is true. So b is returned.\n",
    "truthy\tfalsy\t     b          # a is true, so you have to evaluate b to determine if 'a and b' is true. Even though Bool(a and b) is False, b \n",
    "                                                     still had to be evaluated in order to determine that, so b is returned.\n",
    "falsy\ttruthy\t     a          # a is false, so 'a and b' is automatically false. No need to evaluate b, so a is returned.\n",
    "falsy\tfalsy\t     a          # Same as above. You know the whole expression is false just by evaluating a, so a is returned.\n",
    "\n",
    "\n",
    "    a\t            b\t         a or b\n",
    "truthy\ttruthy\t     b          # a is true, and since this is an 'or' expression, there's no need to move on to b. So a is returned.\n",
    "truthy\tfalsy\t     b          # Same as above. You the value of 'a or b' just from knowing a, so a is returned.\n",
    "falsy\ttruthy\t     a          # a is false, but since this is an 'or' expression, the value of b will determine the value of the whole expression.\n",
    "                                                    It doesn't matter what b is, just that you needed to know it, so b is returned.\n",
    "falsy\tfalsy\t     a          # Same as above. Since a by itself doesn't tell you what 'a or b' is, you need to know b, and b is returned."
   ]
  },
  {
   "cell_type": "code",
   "execution_count": 10,
   "metadata": {},
   "outputs": [
    {
     "name": "stdout",
     "output_type": "stream",
     "text": [
      "[0]\n"
     ]
    }
   ],
   "source": [
    "def print_list(lst):\n",
    "    if lst:\n",
    "        print(lst)\n",
    "    else:\n",
    "        print('empty list')\n",
    "\n",
    "print_list([0])\n"
   ]
  }
 ],
 "metadata": {
  "kernelspec": {
   "display_name": "Python 3",
   "language": "python",
   "name": "python3"
  },
  "language_info": {
   "codemirror_mode": {
    "name": "ipython",
    "version": 3
   },
   "file_extension": ".py",
   "mimetype": "text/x-python",
   "name": "python",
   "nbconvert_exporter": "python",
   "pygments_lexer": "ipython3",
   "version": "3.11.3"
  },
  "orig_nbformat": 4
 },
 "nbformat": 4,
 "nbformat_minor": 2
}
