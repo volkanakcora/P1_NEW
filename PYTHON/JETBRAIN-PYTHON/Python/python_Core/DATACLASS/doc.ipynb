{
 "cells": [
  {
   "cell_type": "markdown",
   "metadata": {},
   "source": [
    "How often did you have to write the tedious __init__, __repr__, and other standard class methods? Countless times. If you are bored with repeatedly writing the same thing, know there's a solution – a data class! A data class is a new feature in Python 3.7+ that allows you to create classes straightforwardly. It doesn't add any new functionality but automatizes some routine work and helps you get the same thing but with fewer lines of code. So, let's dive into it!"
   ]
  },
  {
   "cell_type": "markdown",
   "metadata": {},
   "source": [
    "## Creating a class\n",
    "\n",
    "As we've mentioned, the purpose of a data class is to create classes with less code. To see it in practice, let's first create a class via standard procedure:"
   ]
  },
  {
   "cell_type": "code",
   "execution_count": null,
   "metadata": {},
   "outputs": [],
   "source": [
    "class OldClass:\n",
    "    def __init__(self, name, number):\n",
    "        self.name = name\n",
    "        self.number = number"
   ]
  },
  {
   "cell_type": "markdown",
   "metadata": {},
   "source": [
    "Now, let's do the same with the data class. First, we import it from the dataclasses module, then use the @dataclass decorator and write our class. Here's the code:"
   ]
  },
  {
   "cell_type": "code",
   "execution_count": null,
   "metadata": {},
   "outputs": [],
   "source": [
    "from dataclasses import dataclass\n",
    "\n",
    "@dataclass\n",
    "class NewClass:\n",
    "    name: str\n",
    "    number: int"
   ]
  },
  {
   "cell_type": "markdown",
   "metadata": {},
   "source": [
    "We have the exact attributes there: name and number, but we don't need to add self. We don't even need def __init__()! But we have to specify the data type (str and int in this case), otherwise a NameError is raised.\n",
    "\n",
    "In these examples, OldClass and NewClass behave the same. However, NewClass is much faster to write!"
   ]
  },
  {
   "cell_type": "markdown",
   "metadata": {},
   "source": [
    "If you want to add default values, you can do the following:\n",
    "\n"
   ]
  },
  {
   "cell_type": "code",
   "execution_count": null,
   "metadata": {},
   "outputs": [],
   "source": [
    "from dataclasses import dataclass\n",
    "\n",
    "@dataclass\n",
    "class NewClass:\n",
    "    name: str = 'Class name'\n",
    "    number: int = 1"
   ]
  },
  {
   "cell_type": "markdown",
   "metadata": {},
   "source": [
    "```\n",
    "With data classes, you don't need to write the __init__ method, since it is implemented automatically. In total, there are four methods created automatically in every data class:\n",
    "\n",
    "__init__ to initialize the object;\n",
    "\n",
    "__repr__ and __str__ to create a string representation of your class;\n",
    "\n",
    "__eq__ to compare class objects to each other.\n",
    "```"
   ]
  },
  {
   "cell_type": "markdown",
   "metadata": {},
   "source": [
    "## String representations\n"
   ]
  },
  {
   "cell_type": "code",
   "execution_count": null,
   "metadata": {},
   "outputs": [],
   "source": [
    "new = NewClass(\"name\", 10)"
   ]
  },
  {
   "cell_type": "code",
   "execution_count": null,
   "metadata": {},
   "outputs": [],
   "source": [
    "print(new)  # NewClass(name=\"name\", number=10)"
   ]
  },
  {
   "cell_type": "markdown",
   "metadata": {},
   "source": [
    "You can constantly redefine this method if you want to print something else. Just do it the usual way. Note that when you write any methods inside a data class, you need to use self like in any other class."
   ]
  },
  {
   "cell_type": "code",
   "execution_count": null,
   "metadata": {},
   "outputs": [],
   "source": [
    "from dataclasses import dataclass\n",
    "\n",
    "@dataclass\n",
    "class NewClass:\n",
    "    name: str\n",
    "    number: int\n",
    "        \n",
    "    def __repr__(self):\n",
    "        return f\"The name is {self.name} and the number is {self.number}.\""
   ]
  },
  {
   "cell_type": "code",
   "execution_count": null,
   "metadata": {},
   "outputs": [],
   "source": [
    "print(new)  # The name is name and the number is 10."
   ]
  },
  {
   "cell_type": "markdown",
   "metadata": {},
   "source": [
    "## Equality check\n"
   ]
  },
  {
   "cell_type": "code",
   "execution_count": null,
   "metadata": {},
   "outputs": [],
   "source": [
    "class OldClass:\n",
    "    def __init__(self, name, number):\n",
    "        self.name = name\n",
    "        self.number = number\n",
    "\n",
    "old_1 = OldClass('name', 10)\n",
    "old_2 = OldClass('name', 10)\n",
    "old_1 == old_2  # False"
   ]
  },
  {
   "cell_type": "markdown",
   "metadata": {},
   "source": [
    "Now, let's try it with dataclass:\n",
    "\n"
   ]
  },
  {
   "cell_type": "code",
   "execution_count": null,
   "metadata": {},
   "outputs": [],
   "source": [
    "from dataclasses import dataclass\n",
    "\n",
    "@dataclass\n",
    "class NewClass:\n",
    "    name: str\n",
    "    number: int\n",
    "\n",
    "new_1 = NewClass('name', 10)\n",
    "new_2 = NewClass('name', 10)\n",
    "new_1 == new_2  # True"
   ]
  },
  {
   "cell_type": "markdown",
   "metadata": {},
   "source": [
    "# Comparison and sorting\n"
   ]
  },
  {
   "cell_type": "code",
   "execution_count": null,
   "metadata": {},
   "outputs": [],
   "source": [
    "# we're using the NewClass defined in the previous code snippet\n",
    "\n",
    "new_1 > new_2  # TypeError: '>' not supported between instances of 'NewClass' and 'NewClass'"
   ]
  },
  {
   "cell_type": "markdown",
   "metadata": {},
   "source": [
    "However, if you want to implement a comparison by an attribute, it won't take many lines. Do three simple things: specify order=True when using the decorator, write a sort_index attribute, and a __post_init__ method. Let's compare our class objects by the number attribute. Here's what the code looks like:"
   ]
  },
  {
   "cell_type": "code",
   "execution_count": null,
   "metadata": {},
   "outputs": [],
   "source": [
    "from dataclasses import dataclass, field\n",
    "\n",
    "@dataclass(order=True)\n",
    "class NewClass:\n",
    "    sort_index: int = field(init=False)\n",
    "    name: str\n",
    "    number: int\n",
    "    \n",
    "    def __post_init__(self):\n",
    "        self.sort_index = self.number"
   ]
  },
  {
   "cell_type": "markdown",
   "metadata": {},
   "source": [
    "Let's go through this code in more detail. First, we import not just dataclass but field too – it's a function we'll need in the next lines. Then, we specify order=True in the decorator. We create the sort_index attribute and set it to int (since the number attribute should be an int) and make it field. In dataclass, field() is just another way to create a class attribute, specifying more information. In this case, we require field() to specify init=False. This means that sort_index won't be initialized when a class instance is created. Instead, it will be initialized in the __post_init__ method, the one that is called right after the __init__. Inside the __post_init__ we set self.sort_index to self.number, specifying that we want to compare our class instances by the number attribute."
   ]
  },
  {
   "cell_type": "markdown",
   "metadata": {},
   "source": [
    "Now, let's create some class objects and try to compare them:\n",
    "\n"
   ]
  },
  {
   "cell_type": "code",
   "execution_count": null,
   "metadata": {},
   "outputs": [],
   "source": [
    "new_1 = NewClass('name', 10)\n",
    "new_2 = NewClass('name', 0)\n",
    "new_3 = NewClass('name', 5)\n",
    "\n",
    "new_1 > new_2  # True\n",
    "new_2 > new_3  # False"
   ]
  },
  {
   "cell_type": "markdown",
   "metadata": {},
   "source": [
    "As you can see, it works perfectly! What's more, we can also sort our objects now.\n",
    "\n"
   ]
  },
  {
   "cell_type": "code",
   "execution_count": null,
   "metadata": {},
   "outputs": [],
   "source": [
    "objects_list = [new_1, new_2, new_3]\n",
    "sorted(objects_list)"
   ]
  },
  {
   "cell_type": "markdown",
   "metadata": {},
   "source": [
    "[NewClass(sort_index=0, name='name', number=0),\n",
    " NewClass(sort_index=5, name='name', number=5),\n",
    " NewClass(sort_index=10, name='name', number=10)]"
   ]
  },
  {
   "cell_type": "markdown",
   "metadata": {},
   "source": [
    "Note that what we see here are the default string representations. If you want to avoid including the sort_index in our representation, which might be redundant, as it has the same value as number, we can do it the following way:"
   ]
  },
  {
   "cell_type": "code",
   "execution_count": null,
   "metadata": {},
   "outputs": [],
   "source": [
    "sort_index: int = field(init=False, repr=False)"
   ]
  },
  {
   "cell_type": "markdown",
   "metadata": {},
   "source": [
    "Adding repr=False when defining a class attribute, this attribute won't be included in the string representation."
   ]
  },
  {
   "cell_type": "markdown",
   "metadata": {},
   "source": [
    "## Frozen objects\n",
    "\n",
    "The last feature of the data class we'll look at is creating frozen objects. Let's say you want to prohibit changing the attributes of an object after its creation. Easy! Just add frozen=True to the decorator like this:"
   ]
  },
  {
   "cell_type": "code",
   "execution_count": null,
   "metadata": {},
   "outputs": [],
   "source": [
    "@dataclass(frozen=True)\n",
    "class NewClass:\n",
    "    name: str\n",
    "    number: int"
   ]
  },
  {
   "cell_type": "markdown",
   "metadata": {},
   "source": [
    "Now, let's try to create a class object and then reassign the name variable.\n",
    "\n"
   ]
  },
  {
   "cell_type": "code",
   "execution_count": null,
   "metadata": {},
   "outputs": [],
   "source": [
    "new = NewClass('name', 10)\n",
    "new.name = 'another_name'  # FrozenInstanceError: cannot assign to field 'name'"
   ]
  },
  {
   "cell_type": "markdown",
   "metadata": {},
   "source": []
  }
 ],
 "metadata": {
  "language_info": {
   "name": "python"
  }
 },
 "nbformat": 4,
 "nbformat_minor": 2
}
