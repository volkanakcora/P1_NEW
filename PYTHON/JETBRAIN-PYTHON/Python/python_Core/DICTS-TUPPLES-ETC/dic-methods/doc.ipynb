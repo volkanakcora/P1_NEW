{
 "cells": [
  {
   "cell_type": "markdown",
   "metadata": {},
   "source": [
    "## Getting and removing items\n",
    "We know how to create a dictionary and add elements to it. But what if we need to get some value from the dictionary or also remove an item? The following methods will help you deal with different tasks depending on your needs.\n",
    "\n",
    "<h2 style=\"color:yellow;\">1. Get a value from the dictionary by a key.</h2>\n",
    "\n",
    "As you remember, we can access the value in a dictionary by a key:"
   ]
  },
  {
   "cell_type": "code",
   "execution_count": null,
   "metadata": {},
   "outputs": [],
   "source": [
    "testable = {}\n",
    "testable['September'] = '16°C'\n",
    "\n",
    "print(testable['September'])  # 16°C"
   ]
  },
  {
   "cell_type": "markdown",
   "metadata": {},
   "source": [
    "However, if you try to access a non-existent key, you will get a KeyError:\n",
    "\n"
   ]
  },
  {
   "cell_type": "code",
   "execution_count": null,
   "metadata": {},
   "outputs": [],
   "source": [
    "print(testable['June'])  # throws a KeyError"
   ]
  },
  {
   "cell_type": "markdown",
   "metadata": {},
   "source": [
    "To avoid the KeyError, we can use the get method that returns None if the specified key is not in the dictionary:"
   ]
  },
  {
   "cell_type": "code",
   "execution_count": null,
   "metadata": {},
   "outputs": [],
   "source": [
    "# 'get' method does not throw an error\n",
    "print(testable.get('September'))  # 16°C\n",
    "print(testable.get('June'))  # None"
   ]
  },
  {
   "cell_type": "markdown",
   "metadata": {},
   "source": [
    "With the get method, we can also define the default value that will be returned in such a case:"
   ]
  },
  {
   "cell_type": "code",
   "execution_count": null,
   "metadata": {},
   "outputs": [],
   "source": [
    "print(testable.get('June', 'no temperature'))  # no temperature"
   ]
  },
  {
   "cell_type": "markdown",
   "metadata": {},
   "source": [
    "<h2 style=\"color:yellow;\"> 2. Remove the key from the dictionary and return the value using the pop method. </h2>\n",
    "\n",
    "If the specified key was found in the dictionary, then the method will remove it and return the value:"
   ]
  },
  {
   "cell_type": "code",
   "execution_count": null,
   "metadata": {},
   "outputs": [],
   "source": [
    "testable = {'September': '16°C', 'December': '-10°C'}\n",
    "return_value = testable.pop('December')\n",
    "\n",
    "print(return_value)  # -10°C\n",
    "print(testable)  # {'September': '16°C'}"
   ]
  },
  {
   "cell_type": "markdown",
   "metadata": {},
   "source": [
    "If the key was not found, a KeyError will appear:\n",
    "\n"
   ]
  },
  {
   "cell_type": "markdown",
   "metadata": {},
   "source": [
    "To get rid of it, we can provide a default argument, and it will return this default value:\n",
    "\n"
   ]
  },
  {
   "cell_type": "code",
   "execution_count": null,
   "metadata": {},
   "outputs": [],
   "source": [
    "return_value = testable.pop('July', 'no temperature')\n",
    "print(return_value)  #  no temperature"
   ]
  },
  {
   "cell_type": "markdown",
   "metadata": {},
   "source": [
    "<h2 style=\"color:yellow;\"> 3. Remove and return the last item (key, value) added to the dictionary using the popitem method:"
   ]
  },
  {
   "cell_type": "markdown",
   "metadata": {},
   "source": []
  },
  {
   "cell_type": "code",
   "execution_count": null,
   "metadata": {},
   "outputs": [],
   "source": [
    "testable = {'September': '16°C', 'December': '-10°C'}\n",
    "return_value = testable.popitem()\n",
    "\n",
    "print(return_value)  # ('December', '-10°C')\n",
    "print(testable)  # {'September': '16°C'}"
   ]
  },
  {
   "cell_type": "code",
   "execution_count": 1,
   "metadata": {},
   "outputs": [
    {
     "data": {
      "text/html": [
       "\n",
       "<style>\n",
       "    .custom-title {\n",
       "        color: blue;\n",
       "        font-size: 24px;\n",
       "        font-weight: bold;\n",
       "    }\n",
       "</style>\n"
      ],
      "text/plain": [
       "<IPython.core.display.HTML object>"
      ]
     },
     "execution_count": 1,
     "metadata": {},
     "output_type": "execute_result"
    }
   ],
   "source": [
    "from IPython.core.display import HTML\n",
    "\n",
    "HTML(\"\"\"\n",
    "<style>\n",
    "    .custom-title {\n",
    "        color: blue;\n",
    "        font-size: 24px;\n",
    "        font-weight: bold;\n",
    "    }\n",
    "</style>\n",
    "\"\"\")\n"
   ]
  },
  {
   "cell_type": "markdown",
   "metadata": {},
   "source": [
    "### Cleaning the dictionary\n"
   ]
  },
  {
   "cell_type": "code",
   "execution_count": null,
   "metadata": {},
   "outputs": [],
   "source": [
    "testable = {'September': '16°C', 'December': '-10°C', 'July': '23°C'}\n",
    "\n",
    "# this will remove both the key and the value from dictionary object\n",
    "del testable['September']  \n",
    "print(testable)  # {'December': '-10°C', 'July': '23°C'}\n",
    "\n",
    "# throws a KeyError because there's no such key in the dictionary\n",
    "del testable['May']\n",
    " \n",
    "# throws a KeyError, as we've already deleted the object by the key\n",
    "del testable['September']\n",
    "\n",
    "# deletes the whole dictionary\n",
    "del testable"
   ]
  },
  {
   "cell_type": "code",
   "execution_count": null,
   "metadata": {},
   "outputs": [],
   "source": [
    "testable = {'September': '16°C', 'December': '-10°C', 'July': '23°C'}\n",
    "\n",
    "testable.clear()  # remove all elements\n",
    "print(testable)   # {}"
   ]
  },
  {
   "cell_type": "markdown",
   "metadata": {},
   "source": []
  }
 ],
 "metadata": {
  "kernelspec": {
   "display_name": "base",
   "language": "python",
   "name": "python3"
  },
  "language_info": {
   "codemirror_mode": {
    "name": "ipython",
    "version": 3
   },
   "file_extension": ".py",
   "mimetype": "text/x-python",
   "name": "python",
   "nbconvert_exporter": "python",
   "pygments_lexer": "ipython3",
   "version": "3.11.5"
  }
 },
 "nbformat": 4,
 "nbformat_minor": 2
}
