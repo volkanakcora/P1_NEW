{
 "cells": [
  {
   "cell_type": "markdown",
   "metadata": {},
   "source": [
    "# Collections module\n",
    "\n",
    "\n",
    "- ## collections.OrderedDict\n"
   ]
  },
  {
   "cell_type": "code",
   "execution_count": null,
   "metadata": {},
   "outputs": [],
   "source": [
    "from collections import OrderedDict\n",
    "\n",
    "# this is the constructor\n",
    "marks = OrderedDict()\n",
    "marks['Smith'] = 9.5\n",
    "marks['Brown'] = 8.1\n",
    "marks['Moore'] = 7.4\n",
    "print(marks)  # OrderedDict([('Smith', 9.5), ('Brown', 8.1), ('Moore', 7.4)])\n",
    "\n",
    "# this is the conversion\n",
    "my_dict = {'Smith': 9.5, 'Brown': 8.1, 'Moore': 7.4}\n",
    "my_ord_dict = OrderedDict(my_dict)\n",
    "print(my_ord_dict)  # OrderedDict([('Smith', 9.5), ('Brown', 8.1), ('Moore', 7.4)])"
   ]
  },
  {
   "cell_type": "markdown",
   "metadata": {},
   "source": [
    "As OrderedDict resembles a regular dictionary a lot, we will only point out the methods that set them apart.\n",
    "\n",
    "1. While the popitem() method applied to a regular dictionary takes no argument, the same method for the OrderedDict can take an additional boolean parameter last. If last=True, the last key-value pair is returned and deleted from the OrderedDict, and if last=False, it is applied to the first pair."
   ]
  },
  {
   "cell_type": "code",
   "execution_count": null,
   "metadata": {},
   "outputs": [],
   "source": [
    "print(my_ord_dict)  # OrderedDict([('Smith', 9.5), ('Brown', 8.1), ('Moore', 7.4)])\n",
    "\n",
    "my_ord_dict.popitem(last=True)   # ('Moore', 7.4)\n",
    "print(my_ord_dict)  # OrderedDict([('Smith', 9.5), ('Brown', 8.1)])\n",
    "\n",
    "my_ord_dict.popitem(last=False)  # ('Smith', 9.5)\n",
    "print(my_ord_dict)  # OrderedDict([('Brown', 8.1)])"
   ]
  },
  {
   "cell_type": "markdown",
   "metadata": {},
   "source": [
    " 2. The move_to_end() method takes arguments as a key and, again, the last parameter. If last=True, the key-value pair moves to the end of the OrderedDict, and if last=False — to the beginning."
   ]
  },
  {
   "cell_type": "code",
   "execution_count": null,
   "metadata": {},
   "outputs": [],
   "source": [
    "print(my_ord_dict)  # OrderedDict([('Smith', 9.5), ('Brown', 8.1), ('Moore', 7.4)])\n",
    "\n",
    "my_ord_dict.move_to_end('Brown', last=False) \n",
    "print(my_ord_dict)  # OrderedDict([('Brown', 8.1), ('Smith', 9.5), ('Moore', 7.4)])\n",
    "\n",
    "my_ord_dict.move_to_end('Smith', last=True) \n",
    "print(my_ord_dict)  # OrderedDict([('Brown', 8.1), ('Moore', 7.4), ('Smith', 9.5)])"
   ]
  },
  {
   "cell_type": "markdown",
   "metadata": {},
   "source": [
    "3. Finally, there is a difference in how the dictionaries are compared. With OrderedDict, two dictionaries are considered equal only if the order of their elements is the same, while with two built-in dictionaries, the order does not matter."
   ]
  },
  {
   "cell_type": "code",
   "execution_count": null,
   "metadata": {},
   "outputs": [],
   "source": [
    "regular_dict_1 = {'Smith': 9.5, 'Brown': 8.1, 'Moore': 7.4}\n",
    "regular_dict_2 = {'Brown': 8.1, 'Moore': 7.4, 'Smith': 9.5}\n",
    "ordered_dict_1 = OrderedDict(regular_dict_1)\n",
    "ordered_dict_2 = OrderedDict(regular_dict_2)\n",
    "\n",
    "regular_dict_1 == regular_dict_2  # True\n",
    "ordered_dict_1 == ordered_dict_2  # False"
   ]
  },
  {
   "cell_type": "markdown",
   "metadata": {},
   "source": [
    "- ## collections.namedtuple\n",
    " "
   ]
  },
  {
   "cell_type": "code",
   "execution_count": null,
   "metadata": {},
   "outputs": [],
   "source": [
    "from collections import namedtuple\n",
    "\n",
    "person_template = namedtuple('Person', ['name', 'age', 'occupation'])"
   ]
  },
  {
   "cell_type": "markdown",
   "metadata": {},
   "source": [
    "person_template = namedtuple('Person', 'name, age, occupation') \n",
    " - or\n",
    " person_template = namedtuple('Person', 'name age occupation')."
   ]
  },
  {
   "cell_type": "markdown",
   "metadata": {},
   "source": [
    "Once we have the subclass, we can use the same template to create named tuple entities:\n",
    "\n"
   ]
  },
  {
   "cell_type": "code",
   "execution_count": null,
   "metadata": {},
   "outputs": [],
   "source": [
    "# field values can be defined either positionally or using the field names\n",
    "mary = person_template('Mary', '25', 'doctor')\n",
    "david = person_template(name='David', age='33', occupation='lawyer')\n",
    "\n",
    "print(mary.name)   # Mary\n",
    "print(david)       # Person(name='David', age='33', occupation='lawyer')\n",
    "# the elements can also be accessed by their index, as in a regular tuple\n",
    "print(david[2])    # lawyer"
   ]
  },
  {
   "cell_type": "markdown",
   "metadata": {},
   "source": [
    "A new named tuple can also be created from a list:\n",
    "\n"
   ]
  },
  {
   "cell_type": "code",
   "execution_count": null,
   "metadata": {},
   "outputs": [],
   "source": [
    "susanne = person_template._make(['Susanne', '23', 'journalist'])\n",
    "print(susanne)  # Person(name='Susanne', age='23', occupation='journalist')"
   ]
  },
  {
   "cell_type": "markdown",
   "metadata": {},
   "source": [
    "Named tuples allow us to replace field values with new ones, and we can see what fields are present in it. To do this, we should use the _replace() and _fields() methods:"
   ]
  },
  {
   "cell_type": "code",
   "execution_count": null,
   "metadata": {},
   "outputs": [],
   "source": [
    "mary = mary._replace(age='26')\n",
    "print(mary)          # Person(name='Mary', age='26', occupation='doctor')\n",
    "print(mary._fields)  # ('name', 'age', 'occupation')"
   ]
  },
  {
   "cell_type": "markdown",
   "metadata": {},
   "source": [
    "- ## collections.ChainMap\n",
    "\n",
    "Now, imagine you have created several dictionaries and want to analyze them and work with their data at once. Updating elements simultaneously in all dictionaries is not as easy as you would prefer, so the best decision is ChainMap. It allows you to make a collection of your dictionaries and, as a result, you will perform all operations on a collection instead of each separate dictionary."
   ]
  },
  {
   "cell_type": "code",
   "execution_count": null,
   "metadata": {},
   "outputs": [],
   "source": [
    "from collections import ChainMap\n",
    "\n",
    "\n",
    "laptop_labels = {'Lenovo': 600, 'Dell': 2000, 'Asus': 354}\n",
    "operating_system = {'Windows': 2500, 'Linux': 400, 'MacOS': 54}\n",
    "chain = ChainMap(laptop_labels, operating_system)\n",
    "print(chain)  # ChainMap({'Lenovo': 600, 'Dell': 2000, 'Asus': 354}, {'Windows': 2500, 'Linux': 400, 'MacOS': 54})"
   ]
  },
  {
   "cell_type": "markdown",
   "metadata": {},
   "source": [
    "You can access every item by key, as in the example below. You will get the value of the first key with the given name. If you change a value in one dictionary, this information in the chain will be changed too."
   ]
  },
  {
   "cell_type": "code",
   "execution_count": null,
   "metadata": {},
   "outputs": [],
   "source": [
    "operating_system['Linux'] = 450  # changing a value in a dictionary\n",
    "print(chain['Linux'])            # 450"
   ]
  },
  {
   "cell_type": "markdown",
   "metadata": {},
   "source": [
    "For example, there is the new_child() method that allows you to add another dictionary in your chain, and you will get a new structure with another dictionary added:"
   ]
  },
  {
   "cell_type": "code",
   "execution_count": null,
   "metadata": {},
   "outputs": [],
   "source": [
    "processor = {'Celeron': 600, 'Pentium': 2000, 'Ryzen 5': 354}\n",
    "new_chain = chain.new_child(processor)\n",
    "print(new_chain)  # ChainMap({'Celeron': 600, 'Pentium': 2000, 'Ryzen 5': 354}, {'Lenovo': 600, 'Dell': 2000, 'Asus': 354}, {'Windows': 2500, 'Linux': 400, 'MacOS': 54})"
   ]
  },
  {
   "cell_type": "markdown",
   "metadata": {},
   "source": [
    "The maps method allows you to get access to a certain dictionary by its index:\n",
    "\n"
   ]
  },
  {
   "cell_type": "code",
   "execution_count": null,
   "metadata": {},
   "outputs": [],
   "source": [
    "print(new_chain.maps[1])  # ChainMap({'Lenovo': 600, 'Dell': 2000, 'Asus': 354})"
   ]
  },
  {
   "cell_type": "markdown",
   "metadata": {},
   "source": [
    "The method parents gets rid of the first dictionary and returns the rest:\n",
    "\n"
   ]
  },
  {
   "cell_type": "code",
   "execution_count": null,
   "metadata": {},
   "outputs": [],
   "source": [
    "print(new_chain)      # ChainMap({'Celeron': 600, 'Pentium': 2000, 'Ryzen 5': 354}, {'Lenovo': 600, 'Dell': 2000, 'Asus': 354}, {'Windows': 2500, 'Linux': 400, 'MacOS': 54})\n",
    "without_first = new_chain.parents\n",
    "print(without_first)  # ChainMap({'Lenovo': 600, 'Dell': 2000, 'Asus': 354}, {'Windows': 2500, 'Linux': 400, 'MacOS': 54})"
   ]
  }
 ],
 "metadata": {
  "language_info": {
   "name": "python"
  }
 },
 "nbformat": 4,
 "nbformat_minor": 2
}
