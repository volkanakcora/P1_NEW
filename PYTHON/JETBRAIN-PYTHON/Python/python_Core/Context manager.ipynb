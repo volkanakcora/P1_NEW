{
 "cells": [
  {
   "attachments": {},
   "cell_type": "markdown",
   "metadata": {},
   "source": [
    "# Context manager\n",
    "\n",
    "We live in a world of limited resources, so one of the most important skills in life (and in programming) is knowing how to manage them. We cannot teach you how to manage your resources in real life, but we can help you effectively manage resources in Python with the help of context managers."
   ]
  },
  {
   "attachments": {},
   "cell_type": "markdown",
   "metadata": {},
   "source": [
    "## When to use context managers\n",
    "The main purpose of context managers is, as you might've guessed, resource management. What does this mean in practice? The most common example is opening files. Opening a file consumes a limited resource called a file descriptor. If you try to open too many files at once, depending on your operating system, you may get an error or completely crash your program.\n",
    "\n",
    "\n",
    "\n"
   ]
  },
  {
   "cell_type": "code",
   "execution_count": null,
   "metadata": {},
   "outputs": [],
   "source": [
    "# don't try this at home!\n",
    "n_files = 1000000\n",
    "files = []\n",
    "\n",
    "for i in range(n_files):\n",
    "    files.append(open('test.txt'))\n",
    "\n",
    "# OSError: [Errno 24] Too many open files"
   ]
  },
  {
   "attachments": {},
   "cell_type": "markdown",
   "metadata": {},
   "source": [
    "To avoid file descriptor leakage (as presented above), we need to close the files after we're done with them. Closing the files is done with the close() method.\n"
   ]
  },
  {
   "cell_type": "code",
   "execution_count": null,
   "metadata": {},
   "outputs": [],
   "source": [
    "n_files = 1000000\n",
    "files = []\n",
    "\n",
    "for i in range(n_files):\n",
    "    f = open('test.txt')\n",
    "    files.append(f)\n",
    "    f.close()\n",
    "\n",
    "# no errors, all correct!"
   ]
  },
  {
   "attachments": {},
   "cell_type": "markdown",
   "metadata": {},
   "source": [
    "This works perfectly fine if we have relatively simple programs. However, as our programs or our file manipulations get more complicated, determining when and how to close the files may get tricky. In other programming languages, a common way to deal with this is a try ... except ... finally block. In Python, we can use a context manager. Basically, the context manager guarantees that all necessary operations will take place at the right time. In the example with opening files, the context manager will close the file and release the file descriptor when we are done working with the file."
   ]
  },
  {
   "attachments": {},
   "cell_type": "markdown",
   "metadata": {},
   "source": [
    "# with ... as\n",
    "Now that we know why we need to use context managers, let's learn how to do that. A context manager is introduced by a with keyword followed by the context manager itself and the name of the variable. The basic syntax is the following:\n",
    "\n"
   ]
  },
  {
   "cell_type": "code",
   "execution_count": null,
   "metadata": {},
   "outputs": [],
   "source": [
    "# invoking a context manager\n",
    "with statement as variable_name:\n",
    "    ..."
   ]
  },
  {
   "attachments": {},
   "cell_type": "markdown",
   "metadata": {},
   "source": [
    "statement here is anything that acts like a context manager (meaning, it supports specific context manager methods). It can be either a custom made context manager or Python's internal one. Below are some examples of context managers you may come across in Python. You don't need to know what they are now. This is just additional information you may find interesting:\n",
    "\n",
    "- File objects (and other streams like io.StringIO or io.BytesIO);\n",
    "\n",
    "- Sockets;\n",
    "\n",
    "- Locks and semaphores in the threading module;\n",
    "\n",
    "- Database connections;\n",
    "\n",
    "- Mock objects."
   ]
  },
  {
   "attachments": {},
   "cell_type": "markdown",
   "metadata": {},
   "source": [
    "We can also nest this construction:\n",
    "\n",
    "\n"
   ]
  },
  {
   "cell_type": "code",
   "execution_count": null,
   "metadata": {},
   "outputs": [],
   "source": [
    "# nested context manager\n",
    "with statement1 as var1:\n",
    "    with statement2 as var2:\n",
    "        # and so on\n",
    "        ...\n"
   ]
  },
  {
   "attachments": {},
   "cell_type": "markdown",
   "metadata": {},
   "source": [
    "Most commonly, with ... as statement is used when working with files. Let's see how we can do that."
   ]
  },
  {
   "attachments": {},
   "cell_type": "markdown",
   "metadata": {},
   "source": [
    "# Working with files\n",
    "A file object that we get when we use the open() function acts as a context manager, so we can use it as the statement part of the code. This is how it can be done:\n",
    "\n"
   ]
  },
  {
   "cell_type": "code",
   "execution_count": null,
   "metadata": {},
   "outputs": [],
   "source": [
    "with open('test.txt') as f:\n",
    "    # work with the file\n",
    "    ..."
   ]
  },
  {
   "attachments": {},
   "cell_type": "markdown",
   "metadata": {},
   "source": [
    "As you can see, it is very simple! It also allows us to shorten our code a little since we don't need to explicitly close the file at the end.\n",
    "\n",
    "Note that you actually can explicitly close the file within the with ... as statement, it won't be an error. You just don't need to!"
   ]
  },
  {
   "attachments": {},
   "cell_type": "markdown",
   "metadata": {},
   "source": [
    "Coming back to the situation with a million files, this is how it looks if we use context manager:\n"
   ]
  },
  {
   "cell_type": "code",
   "execution_count": null,
   "metadata": {},
   "outputs": [],
   "source": [
    "\n",
    "n_files = 1000000\n",
    "files = []\n",
    "\n",
    "for i in range(n_files):\n",
    "    with open('test.txt') as f:\n",
    "        files.append(f)\n",
    "\n",
    "# OK!"
   ]
  },
  {
   "attachments": {},
   "cell_type": "markdown",
   "metadata": {},
   "source": [
    "Now, let's look at a more realistic example. Suppose, we have a file with a list of movies directed by Quentin Tarantino named tarantino.txt. We want to read this file and print the titles:"
   ]
  },
  {
   "cell_type": "code",
   "execution_count": null,
   "metadata": {},
   "outputs": [],
   "source": [
    "with open('tarantino.txt', 'r', encoding='utf-8') as f:\n",
    "    for line in f:\n",
    "        # we use strip() to get rid of newline symbols\n",
    "        print(line.strip())\n"
   ]
  },
  {
   "cell_type": "code",
   "execution_count": null,
   "metadata": {},
   "outputs": [],
   "source": [
    "#We'll get the following output:\n",
    "\n",
    "Reservoir Dogs\n",
    "Pulp Fiction\n",
    "Jackie Brown\n",
    "Kill Bill: Volume 1\n",
    "Kill Bill: Volume 2\n",
    "Grindhouse: Death Proof\n",
    "Inglorious Basterds\n",
    "Django Unchained\n",
    "The Hateful Eight\n",
    "Once Upon a Time in Hollywood"
   ]
  },
  {
   "attachments": {},
   "cell_type": "markdown",
   "metadata": {},
   "source": [
    "Now, imagine that we want to process these titles, say, make them all lowercase, and have it saved to a file. If you open several files at once using the with...as construct, then you only need to write with once and write as as many times as there are files to be opened. Here's how it can be done:\n",
    "\n"
   ]
  },
  {
   "cell_type": "code",
   "execution_count": null,
   "metadata": {},
   "outputs": [],
   "source": [
    "with open('tarantino.txt', 'r', encoding='utf-8') as in_file, \\\n",
    "     open('tarantino_lowercase.txt', 'w', encoding='utf-8') as out_file:\n",
    "    for line in in_file:\n",
    "        out_file.write(line.lower())"
   ]
  },
  {
   "attachments": {},
   "cell_type": "markdown",
   "metadata": {},
   "source": [
    "The file tarantino_lowercase.txt that we've created in the process, will contain the titles of Tarantino movies written in lowercase."
   ]
  },
  {
   "attachments": {},
   "cell_type": "markdown",
   "metadata": {},
   "source": [
    "# QUESTIONS"
   ]
  },
  {
   "cell_type": "code",
   "execution_count": 1,
   "metadata": {},
   "outputs": [],
   "source": [
    "# write your code here\n",
    "for i in range(0,10):\n",
    "    with open(f'file{i}.txt','w') as file:\n",
    "        file.write(f'{i}')"
   ]
  },
  {
   "attachments": {},
   "cell_type": "markdown",
   "metadata": {},
   "source": [
    "As you know, JSON is a very common format for storing text-based data. Even though it originally derived from JavaScript, nowadays this format is language-independent and is used in all kinds of situations. Naturally, programming languages have their ways of dealing with JSON, and in this topic, we will see how it is done in Python."
   ]
  },
  {
   "cell_type": "code",
   "execution_count": null,
   "metadata": {},
   "outputs": [],
   "source": []
  }
 ],
 "metadata": {
  "kernelspec": {
   "display_name": "Python 3",
   "language": "python",
   "name": "python3"
  },
  "language_info": {
   "codemirror_mode": {
    "name": "ipython",
    "version": 3
   },
   "file_extension": ".py",
   "mimetype": "text/x-python",
   "name": "python",
   "nbconvert_exporter": "python",
   "pygments_lexer": "ipython3",
   "version": "3.11.3"
  },
  "orig_nbformat": 4
 },
 "nbformat": 4,
 "nbformat_minor": 2
}
