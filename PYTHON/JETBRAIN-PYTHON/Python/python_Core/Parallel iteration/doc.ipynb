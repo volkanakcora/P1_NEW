{
 "cells": [
  {
   "cell_type": "markdown",
   "metadata": {},
   "source": [
    "Parallel iteration is the way to access elements of more than one iterable simultaneously. This can be useful when you want to combine two data structures or when you want to access more than one iterable element in one for loop. In this topic, we will learn how to do all these things using the built-in zip() function."
   ]
  },
  {
   "cell_type": "code",
   "execution_count": null,
   "metadata": {},
   "outputs": [],
   "source": [
    "numbers = [1, 2, 3]\n",
    "words = ['one', 'two', 'three']\n",
    "zip_iterator = zip(numbers, words)\n",
    "print(list(zip_iterator))\n",
    "\n",
    "# [(1, 'one'), (2, 'two'), (3, 'three')]"
   ]
  },
  {
   "cell_type": "code",
   "execution_count": null,
   "metadata": {},
   "outputs": [],
   "source": [
    "my_string = 'AFK'\n",
    "my_tuple = ('Away', 'From', 'Keyboard')\n",
    "zip_iterator = zip(my_string, my_tuple)  # Returns an iterator\n",
    "print(list(zip_iterator))\n",
    "\n",
    "# [('A', 'Away'), ('F', 'From'), ('K', 'Keyboard')]"
   ]
  },
  {
   "cell_type": "markdown",
   "metadata": {},
   "source": [
    "## Iterables with different lengths\n",
    "If you pass iterables of different lengths to zip(), the number of the resulting tuples will always be equal to the shortest iterable. Any remaining data in the longer iterables will be discarded:"
   ]
  },
  {
   "cell_type": "code",
   "execution_count": null,
   "metadata": {},
   "outputs": [],
   "source": [
    "shortest = {'this', 'is', 'a', 'set'}\n",
    "longest = [True, True, True, True, False, False]\n",
    "zip_iterator = zip(shortest, longest)\n",
    "print(list(zip_iterator))\n",
    "\n",
    "# [('a', True), ('set', True), ('this', True), ('is', True)]"
   ]
  },
  {
   "cell_type": "code",
   "execution_count": null,
   "metadata": {},
   "outputs": [],
   "source": [
    "solo_string = 'Han Solo'\n",
    "zip_iterator = zip(solo_string)\n",
    "print(list(zip_iterator))\n",
    "\n",
    "# [('H',), ('a',), ('n',), (' ',), ('S',), ('o',), ('l',), ('o',)]"
   ]
  },
  {
   "cell_type": "markdown",
   "metadata": {},
   "source": [
    "## Zip in Loops"
   ]
  },
  {
   "cell_type": "code",
   "execution_count": null,
   "metadata": {},
   "outputs": [],
   "source": [
    "planets = ['Earth', 'The Moon', 'Mars']\n",
    "colors = ['blue', 'gray', 'red']\n",
    "visited = [True, True, False]\n",
    "\n",
    "for planet, color, visit in zip(planets, colors, visited):\n",
    "    print(f'{planet} is {color}')\n",
    "    print(f'Visited = {visit}')\n",
    "\n",
    "# Earth is blue\n",
    "# Visited = True\n",
    "# The Moon is gray\n",
    "# Visited = True\n",
    "# Mars is red\n",
    "# Visited = False"
   ]
  },
  {
   "cell_type": "markdown",
   "metadata": {},
   "source": [
    "## Parallel iteration with dictionaries\n"
   ]
  },
  {
   "cell_type": "code",
   "execution_count": null,
   "metadata": {},
   "outputs": [],
   "source": [
    "hero = {'name': 'Peter', 'age': 13}\n",
    "villain = {'name': 'Hook', 'age': 41}\n",
    "zipped = zip(hero.items(), villain.items())\n",
    "print(list(zipped))\n",
    "\n",
    "# [(('name', 'Peter'), ('name', 'Hook')), (('age', 13), ('age', 41))]\n",
    "\n",
    "zipped = zip(hero.items(), villain.items())\n",
    "for (hero_key, hero_value), (villain_key, villain_value) in zipped:\n",
    "    print(f\"The hero's {hero_key} is {hero_value}\")\n",
    "    print(f\"The villain's {villain_key} is {villain_value}\")\n",
    "\n",
    "# The hero's name is Peter\n",
    "# The villain's name is Hook\n",
    "# The hero's age is 13\n",
    "# The villain's age is 41"
   ]
  },
  {
   "cell_type": "markdown",
   "metadata": {},
   "source": [
    "## Unzipping\n"
   ]
  },
  {
   "cell_type": "code",
   "execution_count": null,
   "metadata": {},
   "outputs": [],
   "source": [
    "phrase = [('A', 'Away'), ('F', 'From'), ('K', 'Keyboard')]\n",
    "unzipped = zip(*phrase)\n",
    "print(list(unzipped))\n",
    "\n",
    "# [('A', 'F', 'K'), ('Away', 'From', 'Keyboard')]"
   ]
  }
 ],
 "metadata": {
  "language_info": {
   "name": "python"
  }
 },
 "nbformat": 4,
 "nbformat_minor": 2
}
