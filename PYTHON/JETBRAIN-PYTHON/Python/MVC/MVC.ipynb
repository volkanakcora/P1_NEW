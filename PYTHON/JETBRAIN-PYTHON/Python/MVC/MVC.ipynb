{
 "cells": [
  {
   "cell_type": "markdown",
   "metadata": {},
   "source": [
    "## What are MVC and MVC components\n",
    "\n",
    "MVC (Model-View-Controller) is an architectural pattern separating an application into three logical components:\n",
    "\n",
    "Model is responsible for all data and its related logic;\n",
    "View is responsible for presenting data to users or handling user interaction;\n",
    "Controller informs the Model of the need for changes.\n",
    "In order to understand how to work with these components, consider the example below."
   ]
  },
  {
   "cell_type": "markdown",
   "metadata": {},
   "source": [
    "When the user clicks on interface elements, they interact with the Controller. The Controller accepts user input and interacts with the Model. The Model represents the state of an application. It can be data in a database, a file, an in-memory data, or something else. After modification, the Model updates the View, and its user sees this."
   ]
  },
  {
   "cell_type": "markdown",
   "metadata": {},
   "source": [
    "VC has become a sought-after pattern and has been widely used because of its benefits:\n",
    "\n",
    "By separating into components, the flexibility, maintainability, and scalability of the application are increased.\n",
    "You can test components separately from each other.\n",
    "The components can be reused.\n",
    "Models can have multiple views.\n",
    "MVC allows you to configure different levels of security for different components.\n",
    "And these are the disadvantages of the MVC pattern:\n",
    "\n",
    "One should keep in mind that it is not suitable for small applications. It makes simple applications more complex.\n",
    "MVC is also not suitable for high-performance applications. Sometimes it's more efficient to go through several layers of architecture."
   ]
  },
  {
   "cell_type": "code",
   "execution_count": null,
   "metadata": {},
   "outputs": [],
   "source": []
  },
  {
   "cell_type": "code",
   "execution_count": null,
   "metadata": {},
   "outputs": [],
   "source": []
  }
 ],
 "metadata": {
  "language_info": {
   "name": "python"
  }
 },
 "nbformat": 4,
 "nbformat_minor": 2
}
