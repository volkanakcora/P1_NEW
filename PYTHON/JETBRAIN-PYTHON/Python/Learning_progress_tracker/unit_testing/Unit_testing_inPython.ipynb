{
 "cells": [
  {
   "cell_type": "markdown",
   "metadata": {},
   "source": [
    "# Unit testing in Python\n",
    "\n",
    "\n",
    "- for automated unit testing. unittest is the most popular test framework in Python, so we are going to learn how to use it in this topic. But it is not the only tool in Python for unit testing; you can also use, for example, nose, pytest, or doctest.\n",
    "\n",
    "\n",
    "\n",
    "# Getting started\n",
    "```unittest``` is a module from the standard library with a great set of tools for writing tests. To see how it works, we will write a simple calculator and then test this program. This is the code of our calculator:"
   ]
  },
  {
   "cell_type": "code",
   "execution_count": 8,
   "metadata": {},
   "outputs": [],
   "source": [
    "# this code is in the calculator.py file\n",
    "\n",
    "def add(a, b):\n",
    "    \"\"\" Addition \"\"\"\n",
    "    return a + b\n",
    "\n",
    "\n",
    "def multiply(a, b):\n",
    "    \"\"\" Multiplication \"\"\"\n",
    "    return a * b\n",
    "\n",
    "\n",
    "def subtract(a, b):\n",
    "    \"\"\" Subtraction \"\"\"\n",
    "    return a - b\n",
    "\n",
    "\n",
    "def divide(x, y):\n",
    "    \"\"\" Division \"\"\"\n",
    "    if y == 0:\n",
    "        raise ValueError('Can not divide by zero!')\n",
    "    return x / y"
   ]
  },
  {
   "cell_type": "markdown",
   "metadata": {},
   "source": [
    "Now, the calculator.py module contains four different functions that perform basic arithmetic operations: addition, multiplication, subtraction, and division. We are going to write unit tests to check that these functions work as expected.\n",
    "\n",
    "It is better to store tests in a separate file, and it is advisable to start the name of the file with test. So we create a new file test_calculator.py and import the unittest module and the module we are going to test, that is the calculator. Note that the tested module should be in the same directory."
   ]
  },
  {
   "cell_type": "code",
   "execution_count": 10,
   "metadata": {},
   "outputs": [
    {
     "data": {
      "text/plain": [
       "<method-wrapper '__setattr__' of function object at 0x7f6240718f40>"
      ]
     },
     "execution_count": 10,
     "metadata": {},
     "output_type": "execute_result"
    }
   ],
   "source": [
    "# this code is at the beginning of the test_calculator.py file\n",
    "\n",
    "import unittest\n",
    "import calculator\n",
    "\n",
    "class TestCalculator(unittest.TestCase):\n",
    "    "
   ]
  },
  {
   "cell_type": "markdown",
   "metadata": {},
   "source": [
    "# Time to test\n",
    "\n",
    "Now, we are ready to test our program. To do this, we will write one or several test cases. A test case is a basic unit of testing, it checks that the tested unit produces the right output when given various kinds of input. We create a test case by subclassing the general unittest.TestCase class:"
   ]
  },
  {
   "cell_type": "markdown",
   "metadata": {},
   "source": [
    "In our case, the tested unit is the whole calculator.py module, but we could write a separate test case for each function. In Python, the tested unit can be a class, a method, or a function.\n",
    "\n",
    "All tests will now be defined as methods inside this class. Let's write the simplest test to check the result of our add() function:"
   ]
  },
  {
   "cell_type": "code",
   "execution_count": null,
   "metadata": {},
   "outputs": [],
   "source": [
    "\n",
    "import unittest\n",
    "import calculator\n",
    "\n",
    "class TestCalculator(unittest.TestCase):  # a test case for the calculator.py module\n",
    "\n",
    "    def test_add(self):\n",
    "        # tests for the add() function\n",
    "        self.assertEqual(calculator.add(6, 4), 10)\n",
    "        self.assertEqual(calculator.add(6, -4), 2)\n",
    "        self.assertEqual(calculator.add(-6, 4), -2)\n",
    "        self.assertEqual(calculator.add(-6, -4), -10)\n",
    "\n",
    "\n"
   ]
  },
  {
   "cell_type": "markdown",
   "metadata": {},
   "source": [
    "```\n",
    "The names of the test methods must start with test. Otherwise, it is not going to work properly.\n",
    "```"
   ]
  },
  {
   "cell_type": "markdown",
   "metadata": {},
   "source": [
    "Note that inside one test we check several cases, how the function works when two positive numbers are given, one positive and one negative, and two negative numbers. It is important that we check all possible border cases and all cases when something can go wrong.\n",
    "\n",
    "The tests for the multiply() and subtract() functions will look similar."
   ]
  },
  {
   "cell_type": "markdown",
   "metadata": {},
   "source": [
    "## Assert methods\n",
    "\n",
    "- The unittest.TestCase class provides special assert methods that are used for testing. You have seen one of them in the example above, we checked that the result of the addition is correct with the help of the assertEqual() method.\n",
    "\n",
    "- All assert methods accept a message argument that, when specified, is used as the error message if the test fails:"
   ]
  },
  {
   "cell_type": "code",
   "execution_count": 12,
   "metadata": {},
   "outputs": [],
   "source": [
    "class TestCalculator(unittest.TestCase):  # a test case for the calculator.py module\n",
    "\n",
    "    def test_add(self):\n",
    "        # tests for the add() function        \n",
    "        self.assertEqual(calculator.add(6, 4), 10, 'Error when adding two positive numbers')"
   ]
  },
  {
   "cell_type": "markdown",
   "metadata": {},
   "source": [
    "- Now, let's write tests for the divide() function. We can write most of the checks using the already known assertEqual() method, so we are not going to mention them. However, our function is also supposed to raise an exception when the divider is 0. We must check this as well and will do so with the help of the assertRaises() method. It works a bit differently from assertEqual(), and two ways to use this method are shown below.\n",
    "\n",
    "- - 1) We can pass several arguments to the function: the exception that we expect (ValueError), the function that we test (divide), and then all arguments that the function takes (5, 0)."
   ]
  },
  {
   "cell_type": "code",
   "execution_count": 11,
   "metadata": {},
   "outputs": [],
   "source": [
    "class TestCalculator(unittest.TestCase):  # a test case for the calculator.py module\n",
    "\n",
    "    def test_divide(self):\n",
    "        # tests for the divide() function\n",
    "        # ...\n",
    "        self.assertRaises(ValueError, calculator.divide, 5, 0)"
   ]
  },
  {
   "cell_type": "markdown",
   "metadata": {},
   "source": [
    "- - 2) . Alternatively, we can use a context manager, within which we call the tested function as we have done it before:"
   ]
  },
  {
   "cell_type": "code",
   "execution_count": 10,
   "metadata": {},
   "outputs": [],
   "source": [
    "class TestCalculator(unittest.TestCase):  # a test case for the calculator.py module\n",
    "\n",
    "     def test_divide(self):\n",
    "        # tests for the divide() function\n",
    "        # ...\n",
    "        with self.assertRaises(ValueError):\n",
    "            calculator.divide(5, 0)"
   ]
  },
  {
   "cell_type": "markdown",
   "metadata": {},
   "source": [
    "All other assert methods are similar to the assertEqual() method, so we are not going to discuss them separately. In the table below, we list all widely-used methods:"
   ]
  },
  {
   "cell_type": "markdown",
   "metadata": {},
   "source": [
    "```\n",
    "Method                    What it checks\n",
    "\n",
    "assertEqual(a, b)           a == b\n",
    "\n",
    "assertNotEqual(a, b)        a != b\n",
    "\n",
    "assertTrue(x)               bool(x) is True\n",
    "\n",
    "assertFalse(x)              bool(x) is False\n",
    "\n",
    "assertIsNone(x)             x is None\n",
    "\n",
    "assertIsNotNone(x)          x is not None\n",
    "\n",
    "assertGreater(a, b)         a > b\n",
    "\n",
    "assertLess(a, b)            a < b\n",
    "\n",
    "assertIsInstance(a, b)      isinstance(a, b)\n",
    "\n",
    "assertRaises(exception, function, arguments) The function raises the exception when given the arguments\n",
    "```"
   ]
  },
  {
   "cell_type": "markdown",
   "metadata": {},
   "source": [
    "## Running tests\n",
    "- Once the tests are ready, we should run them and check the code. However, if you run test_calculator.py as a usual Python file, you are not going to get any information about the result of testing. To see the results, you should run the file from the command line, from the directory where the test_calculator.py is located. You need to enter either of the commands:\n"
   ]
  },
  {
   "cell_type": "code",
   "execution_count": null,
   "metadata": {
    "vscode": {
     "languageId": "shellscript"
    }
   },
   "outputs": [],
   "source": [
    "python -m unittest\n",
    "\n",
    "python -m unittest test_calculator\n"
   ]
  },
  {
   "cell_type": "markdown",
   "metadata": {},
   "source": [
    "If we do not specify the name of the test file, only files which start with \"test\" will be executed.\n",
    "\n",
    "There is also an easier way to run the tests right from the editor and get the message. We just need to add the following lines at the end of our code:"
   ]
  },
  {
   "cell_type": "code",
   "execution_count": null,
   "metadata": {
    "vscode": {
     "languageId": "shellscript"
    }
   },
   "outputs": [],
   "source": [
    "if __name__ == \"__main__\":\n",
    "    unittest.main()"
   ]
  },
  {
   "cell_type": "markdown",
   "metadata": {},
   "source": [
    "## Test outcomes\n",
    "\n",
    "\n",
    "- When the tests are executed, we get a message which provides us with information about the result of testing. For example, if we run the tests we have written for our calculator, we will see the following message:\n",
    "\n",
    "\n",
    "```\n",
    "....\n",
    "----------------------------------------------------------------------\n",
    "Ran 4 tests in 0.001s\n",
    "\n",
    "OK\n",
    "```"
   ]
  },
  {
   "cell_type": "markdown",
   "metadata": {},
   "source": [
    "OK means that all tests went well, and so do the dots that correspond to the succeeded test cases. So, from this message, we know that:\n",
    "\n",
    "4 tests were executed;\n",
    "\n",
    "all tests succeeded."
   ]
  },
  {
   "cell_type": "code",
   "execution_count": null,
   "metadata": {},
   "outputs": [],
   "source": [
    "# tests for the string_to_lower() function\n",
    "import unittest\n",
    "\n",
    "\n",
    "class TestStringToLower(unittest.TestCase):\n",
    "    def test_string_to_lower(self):\n",
    "        # testing for an exception one way\n",
    "        self.assertRaises(ValueError, string_to_lower, 4)\n",
    "\n",
    "        # testing for an exception another way\n",
    "        with self.assertRaises(ValueError):\n",
    "            string_to_lower(4)\n",
    "\n",
    "\n",
    "if __name__ == '__main__':\n",
    "    unittest.main()"
   ]
  },
  {
   "cell_type": "code",
   "execution_count": null,
   "metadata": {},
   "outputs": [],
   "source": [
    "# tests for the function\n",
    "import unittest\n",
    "\n",
    "\n",
    "class TestFindLuck(unittest.TestCase):\n",
    "\n",
    "    def test_strings_with_luck(self):\n",
    "        # checks that find_luck finds 'luck' in all of the strings with 'luck'\n",
    "        strings_with_luck = [\n",
    "            'luck',\n",
    "            'hereluckthere',\n",
    "            'hereluck',\n",
    "            'luckhere',\n",
    "            'luck is great but most of life is hard work'\n",
    "        ]\n",
    "\n",
    "        # write your test here\n",
    "        for s in strings_with_luck:\n",
    "            self.assertIsNotNone(find_luck(s), 'luck')\n",
    "\n",
    "    def test_strings_without_luck(self):\n",
    "        # checks that find_luck returns None when there is no 'luck' in the string\n",
    "        strings_without_luck = ['here', 'duck', 'four', 'uckl']\n",
    "\n",
    "        # write your test here\n",
    "        for s in strings_without_luck:\n",
    "            self.assertIsNone(find_luck(s), 'luck')\n",
    "\n",
    "\n",
    "if __name__ == '__main__':\n",
    "    unittest.main()"
   ]
  }
 ],
 "metadata": {
  "kernelspec": {
   "display_name": "base",
   "language": "python",
   "name": "python3"
  },
  "language_info": {
   "codemirror_mode": {
    "name": "ipython",
    "version": 3
   },
   "file_extension": ".py",
   "mimetype": "text/x-python",
   "name": "python",
   "nbconvert_exporter": "python",
   "pygments_lexer": "ipython3",
   "version": "3.11.5"
  }
 },
 "nbformat": 4,
 "nbformat_minor": 2
}
