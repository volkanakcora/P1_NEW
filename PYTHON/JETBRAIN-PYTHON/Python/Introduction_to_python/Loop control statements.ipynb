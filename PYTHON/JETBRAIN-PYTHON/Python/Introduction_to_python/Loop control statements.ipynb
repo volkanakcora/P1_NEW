{
 "cells": [
  {
   "attachments": {},
   "cell_type": "markdown",
   "metadata": {},
   "source": [
    "#Break\n",
    "\n",
    "The break statement is used to terminate a loop of any type (i. e. for and while loops). It may be said that break \"jumps out\" of the loop where it was placed. Let’s examine a tiny example:\n",
    "\n"
   ]
  },
  {
   "cell_type": "code",
   "execution_count": 1,
   "metadata": {},
   "outputs": [
    {
     "name": "stdout",
     "output_type": "stream",
     "text": [
      "dog\n",
      "cat\n"
     ]
    }
   ],
   "source": [
    "pets = ['dog', 'cat', 'parrot']\n",
    "for pet in pets:\n",
    "    print(pet)\n",
    "    if pet == 'cat':\n",
    "        break"
   ]
  },
  {
   "attachments": {},
   "cell_type": "markdown",
   "metadata": {},
   "source": [
    "We wanted to stop the loop before it iterated for the last time. For that purpose, we introduced a condition when the loop should be stopped. The output is as follows:\n",
    "\n",
    "dog\n",
    "cat\n",
    "\n",
    "Be careful where you put print(). If you put it at the loop’s end, the output will return only the first value – ‘dog’. This happens because break exits from the loop immediately.\n",
    "\n",
    "Often enough, break is used to stop endless while loops like this one:\n",
    "\n"
   ]
  },
  {
   "cell_type": "code",
   "execution_count": 2,
   "metadata": {},
   "outputs": [
    {
     "name": "stdout",
     "output_type": "stream",
     "text": [
      "I am Infinite Loop\n",
      "I am Infinite Loop\n",
      "I am Infinite Loop\n",
      "I am Infinite Loop\n",
      "I am Infinite Loop\n",
      "I am Infinite Loop\n",
      "I am Infinite Loop\n",
      "I am Infinite Loop\n",
      "I am Infinite Loop\n",
      "I am Infinite Loop\n",
      "I am Infinite Loop\n",
      "I am Infinite Loop\n",
      "I am Infinite Loop\n"
     ]
    }
   ],
   "source": [
    "count = 0\n",
    "while True:\n",
    "    print(\"I am Infinite Loop\")\n",
    "    count += 1\n",
    "    if count == 13:\n",
    "        break"
   ]
  },
  {
   "attachments": {},
   "cell_type": "markdown",
   "metadata": {},
   "source": [
    "Let's consider how break works in for...else or while...else statements. else statements will be executed if no break is encountered during the execution of the loop. Look how it works in the examples below!\n"
   ]
  },
  {
   "cell_type": "code",
   "execution_count": 3,
   "metadata": {},
   "outputs": [
    {
     "name": "stdout",
     "output_type": "stream",
     "text": [
      "5 was not listed\n"
     ]
    }
   ],
   "source": [
    "\n",
    "\n",
    "\n",
    "\n",
    "numbers = [1, 2, 3]\n",
    "for num in numbers:\n",
    "    if num == 5:\n",
    "        print(\"It's 5!\")\n",
    "        break\n",
    "else:\n",
    "    print('5 was not listed')\n",
    "# 5 was not listed"
   ]
  },
  {
   "attachments": {},
   "cell_type": "markdown",
   "metadata": {},
   "source": [
    "In this case, the body of the else statement is executed because no break was met. Let's change the number list.\n",
    "\n"
   ]
  },
  {
   "cell_type": "code",
   "execution_count": 4,
   "metadata": {},
   "outputs": [
    {
     "name": "stdout",
     "output_type": "stream",
     "text": [
      "It's 5!\n"
     ]
    }
   ],
   "source": [
    "numbers = [1, 2, 3, 4, 5, 6]\n",
    "for num in numbers:\n",
    "    if num == 5:\n",
    "        print(\"It's 5!\")\n",
    "        break\n",
    "else:\n",
    "    print('5 was not listed')\n",
    "# It's 5!"
   ]
  },
  {
   "attachments": {},
   "cell_type": "markdown",
   "metadata": {},
   "source": [
    "# Continue"
   ]
  },
  {
   "attachments": {},
   "cell_type": "markdown",
   "metadata": {},
   "source": [
    "The continue operator is commonly used, too. You can stop the iteration if your condition is true and return to the beginning of the loop (that is, jump to the loop's top and continue execution with the next value). Look at the following example:\n",
    "\n"
   ]
  },
  {
   "cell_type": "code",
   "execution_count": null,
   "metadata": {},
   "outputs": [],
   "source": [
    "\n",
    "# The output will contain all values except the first one ('dog') since it fulfills the condition:\n",
    "\n",
    "pets = ['dog', 'cat', 'parrot']\n",
    "for pet in pets:\n",
    "    if pet == 'dog':\n",
    "        continue\n",
    "    print(pet)"
   ]
  },
  {
   "attachments": {},
   "cell_type": "markdown",
   "metadata": {},
   "source": [
    "# Pass"
   ]
  },
  {
   "attachments": {},
   "cell_type": "markdown",
   "metadata": {},
   "source": [
    "When no action is required (e.g. some condition is met, you need to take it into account in a loop, but do nothing if that's the case), in Python, you can use pass statement which does exactly what you need – nothing. Here the program is just waiting to be manually interrupted:"
   ]
  },
  {
   "cell_type": "code",
   "execution_count": 23,
   "metadata": {},
   "outputs": [
    {
     "name": "stdout",
     "output_type": "stream",
     "text": [
      "15 is a prime number\n",
      "15 is not a prime number\n"
     ]
    }
   ],
   "source": [
    "num = int(input())\n",
    "\n",
    "#A prime number is a number greater than 1 and divisible only by 1 and itself. If a number is divisible by any other number, then it's not a prime number.\n",
    "\n",
    "\n",
    "#Determine whether the input number is a prime number.\n",
    "\n",
    "# To take input from the user\n",
    "#num = int(input(\"Enter a number: \"))\n",
    "num = int(input())\n",
    "# define a flag variable\n",
    "flag = False\n",
    "\n",
    "if num == 1:\n",
    "    print(\"This number is not prime\")\n",
    "elif num > 1:\n",
    "    # check for factors\n",
    "    for i in range(2, num):\n",
    "        if (num % i) == 0:\n",
    "            # if factor is found, set flag to True\n",
    "            flag = True\n",
    "            # break out of loop\n",
    "            break\n",
    "\n",
    "    # check if flag is True\n",
    "    if flag:\n",
    "        print(\"This number is not prime\")\n",
    "    else:\n",
    "        print(\"This number is prime\")\n",
    "\n",
    "\n"
   ]
  }
 ],
 "metadata": {
  "kernelspec": {
   "display_name": "Python 3",
   "language": "python",
   "name": "python3"
  },
  "language_info": {
   "codemirror_mode": {
    "name": "ipython",
    "version": 3
   },
   "file_extension": ".py",
   "mimetype": "text/x-python",
   "name": "python",
   "nbconvert_exporter": "python",
   "pygments_lexer": "ipython3",
   "version": "3.11.3"
  },
  "orig_nbformat": 4
 },
 "nbformat": 4,
 "nbformat_minor": 2
}
