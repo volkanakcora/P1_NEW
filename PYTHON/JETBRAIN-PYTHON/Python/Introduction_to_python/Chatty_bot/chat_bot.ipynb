{
 "cells": [
  {
   "attachments": {},
   "cell_type": "markdown",
   "metadata": {},
   "source": [
    "# Chatty Bot welcomes you\n",
    "STAGE 1"
   ]
  },
  {
   "attachments": {},
   "cell_type": "markdown",
   "metadata": {},
   "source": [
    "### Description\n",
    "Digital personal assistants help people to drive cars, plan their day, buy something online. In a sense, they are simplified versions of artificial intelligence with whom you can talk.\n",
    "\n",
    "In this project, you will develop step by step a simple bot that will help you study programming"
   ]
  },
  {
   "attachments": {},
   "cell_type": "markdown",
   "metadata": {},
   "source": [
    "### Objective\n",
    "For the first stage, you will write a bot who displays a greeting, its name, and the date of its creation. First impressions count!\n",
    "\n",
    "Your program should print the following lines:\n",
    "\n",
    "Hello! My name is {bot_name}.\n",
    "I was created in {birth_year}."
   ]
  },
  {
   "cell_type": "code",
   "execution_count": 5,
   "metadata": {},
   "outputs": [
    {
     "name": "stdout",
     "output_type": "stream",
     "text": [
      "\n",
      "Hello! My name is Aid.\n",
      "I was created in 2020.\n"
     ]
    }
   ],
   "source": [
    "# write your code here\n",
    "print('''\n",
    "Hello! My name is {bot_name}.\n",
    "I was created in {birth_year}.'''.format(bot_name='Aid',\n",
    "                                        birth_year='2020'))"
   ]
  },
  {
   "attachments": {},
   "cell_type": "markdown",
   "metadata": {},
   "source": [
    "# Print your name\n",
    "STAGE 2 \n",
    "## Description\n",
    "The greeting part is great, but chatbots are also supposed to interact with a user. It's time to implement this functionality"
   ]
  },
  {
   "attachments": {},
   "cell_type": "markdown",
   "metadata": {},
   "source": [
    "In this stage, you will introduce yourself to the bot so that it can greet you by your name.\n",
    "\n",
    "Your program should print the following lines:\n",
    "\"\"\"\n",
    "\n",
    "Hello! My name is Aid.\n",
    "\n",
    "I was created in 2020.\n",
    "\n",
    "Please, remind me your name.\n",
    "\n",
    "What a great name you have, {your_name}! \"\"\"\n",
    "\n",
    "\n",
    "You may change the name and the creation year of your bot if you want.\n",
    "\n",
    "Instead of {your_name}, the bot must print your name entered from the standard input.\n",
    "\n"
   ]
  },
  {
   "cell_type": "code",
   "execution_count": 8,
   "metadata": {},
   "outputs": [
    {
     "name": "stdout",
     "output_type": "stream",
     "text": [
      "\n",
      "    Hello! My name is Aid.\n",
      "    I was created in 2020.\n",
      "\n",
      "    What a great name you have, Volkan\n"
     ]
    }
   ],
   "source": [
    "# user interaction\n",
    "def greets_user():\n",
    "    return print('''\n",
    "    Hello! My name is {bot_name}.\n",
    "    I was created in {birth_year}.'''.format(bot_name='Aid',\n",
    "                                            birth_year='2020'))\n",
    "def get_user_input():\n",
    "    user_name = input(\"Please remind me your name.\")\n",
    "    return print(\"\"\"\n",
    "    What a great name you have, {user_name}\"\"\".format(user_name=user_name))\n",
    "\n",
    "def main():\n",
    "    greets_user()\n",
    "    get_user_input()\n",
    "\n",
    "if __name__ == '__main__':\n",
    "    main()\n"
   ]
  },
  {
   "attachments": {},
   "cell_type": "markdown",
   "metadata": {},
   "source": [
    "# Guess the Age\n",
    "STAGE 3 \n",
    "Description\n",
    "Keep improving your bot by developing new skills for it. We suggest a simple guessing game that will predict the age of a user.\n",
    "\n",
    "It's based on a simple math trick. First, take a look at this formula:\n",
    "\n",
    "\n",
    "The numbers remainder3, remainder5, and remainder7 are the remainders of division by 3, 5 and 7 respectively.\n",
    "\n",
    "It turns out that for each number ranging from 0 to 104, the calculation will result in the number itself. This perfectly fits the ordinary age range, doesn't it? Ask the user for the remainders and use them to guess the age!\n",
    "\n"
   ]
  },
  {
   "cell_type": "code",
   "execution_count": null,
   "metadata": {},
   "outputs": [],
   "source": [
    "age = (remainder3 * 70 + remainder5 * 21 + remainder7 * 15) % 105\n"
   ]
  },
  {
   "attachments": {},
   "cell_type": "markdown",
   "metadata": {},
   "source": [
    "## Objective\n",
    "In this stage, you will introduce yourself to the bot. It will greet you by your name and then try to guess your age using arithmetic operations.\n",
    "\n",
    "Your program should print the following lines:"
   ]
  },
  {
   "attachments": {},
   "cell_type": "markdown",
   "metadata": {},
   "source": [
    "Hello! My name is Aid.\n",
    "\n",
    "I was created in 2020.\n",
    "\n",
    "Please, remind me your name.\n",
    "\n",
    "What a great name you have, Max!\n",
    "\n",
    "Let me guess your age.\n",
    "\n",
    "Enter remainders of dividing your age by 3, 5 and 7.\n",
    "\n",
    "Your age is {your_age}; that's a good time to start programming!"
   ]
  },
  {
   "cell_type": "code",
   "execution_count": 16,
   "metadata": {},
   "outputs": [
    {
     "name": "stdout",
     "output_type": "stream",
     "text": [
      "\n",
      "    Hello! My name is Aid.\n",
      "I was created in 2020.\n",
      "\n",
      "What a great name you have, volkan\n",
      "Let me guess your age.\n",
      "\n",
      "Your age is 52; that's a good time to start programming!\n",
      "Now I will prove to you that I can count to any number you want.\n",
      "0 !\n",
      "1 !\n",
      "2 !\n",
      "3 !\n",
      "4 !\n",
      "5 !\n",
      "6 !\n",
      "7 !\n",
      "8 !\n",
      "9 !\n",
      "10 !\n",
      "Completed, have a nice day!\n"
     ]
    }
   ],
   "source": [
    "# user interaction\n",
    "def greets_user():\n",
    "    return print('''\n",
    "    Hello! My name is {bot_name}.\n",
    "I was created in {birth_year}.'''.format(bot_name='Aid',\n",
    "                                            birth_year='2020'))\n",
    "def get_user_input():\n",
    "    user_name = input(\"Please remind me your name.\")\n",
    "    return print(\"\"\"\n",
    "What a great name you have, {user_name}\"\"\".format(user_name=user_name))\n",
    "\n",
    "def predict_user_age():\n",
    "    print(\"\"\"Let me guess your age.\"\"\")\n",
    "    remainder3 = int(input(\"Enter remainders of dividing your age by 3, 5 and 7.\"))\n",
    "    remainder5 = int(input())\n",
    "    remainder7 = int(input())\n",
    "    #calculate the age\n",
    "    age = (remainder3 * 70 + remainder5 * 21 + remainder7 * 15) % 105\n",
    "    return print(\"\"\"\n",
    "Your age is {age}; that's a good time to start programming!\"\"\".format(age=age))\n",
    "\n",
    "def main():\n",
    "    greets_user()\n",
    "    get_user_input()\n",
    "    predict_user_age()\n",
    "if __name__ == '__main__':\n",
    "    main()\n"
   ]
  },
  {
   "attachments": {},
   "cell_type": "markdown",
   "metadata": {},
   "source": [
    "# Work on project. Stage 4/5: Learning numbers\n",
    "STAGE 4 \n",
    "\n",
    "## Description\n",
    "Now you will teach your bot to count. It's going to become an expert in numbers!\n",
    "\n",
    "## Objective\n",
    "In this stage, you will program the bot to count from 0 to any positive number users enter."
   ]
  },
  {
   "cell_type": "code",
   "execution_count": 2,
   "metadata": {},
   "outputs": [
    {
     "name": "stdout",
     "output_type": "stream",
     "text": [
      "\n",
      "    Hello! My name is Aid.\n",
      "I was created in 2020.\n",
      "\n",
      "What a great name you have, volkan\n",
      "Let me guess your age.\n",
      "\n",
      "Your age is 52; that's a good time to start programming!\n",
      "Now I will prove to you that I can count to any number you want.\n",
      "0 !\n",
      "1 !\n",
      "2 !\n",
      "3 !\n",
      "4 !\n",
      "5 !\n",
      "6 !\n",
      "7 !\n",
      "8 !\n",
      "9 !\n",
      "10 !\n",
      "Completed, have a nice day!\n",
      "Let's test your programming knowledge.\n",
      "Why do we use methods?\n",
      "        1. To repeat a statement multiple times.,\n",
      "        2. To decompose a program into several small subroutines.,\n",
      "        3. To determine the execution time of a program.,\n",
      "        4. To interrupt the execution of a program.\n",
      "Please try again\n",
      "Please try again\n",
      "Please try again\n",
      "Congratulations, have a nice day!\n"
     ]
    }
   ],
   "source": [
    "# user interaction\n",
    "def greets_user():\n",
    "    return print('''\n",
    "    Hello! My name is {bot_name}.\n",
    "I was created in {birth_year}.'''.format(bot_name='Aid',\n",
    "                                            birth_year='2020'))\n",
    "def get_user_input():\n",
    "    user_name = input(\"Please remind me your name.\")\n",
    "    return print(\"\"\"\n",
    "What a great name you have, {user_name}\"\"\".format(user_name=user_name))\n",
    "\n",
    "def predict_user_age():\n",
    "    print(\"\"\"Let me guess your age.\"\"\")\n",
    "    remainder3 = int(input(\"Enter remainders of dividing your age by 3, 5 and 7.\"))\n",
    "    remainder5 = int(input())\n",
    "    remainder7 = int(input())\n",
    "    #calculate the age\n",
    "    age = (remainder3 * 70 + remainder5 * 21 + remainder7 * 15) % 105\n",
    "    return print(\"\"\"\n",
    "Your age is {age}; that's a good time to start programming!\"\"\".format(age=age))\n",
    "\n",
    "def count_till_number():\n",
    "    print(\"Now I will prove to you that I can count to any number you want.\")\n",
    "    number = int(input())\n",
    "    for i in range(0,number+1):\n",
    "        print(i,\"!\")\n",
    "    print(\"Completed, have a nice day!\")\n",
    "\n",
    "def quiz():\n",
    "    try_again = \"Please try again\"\n",
    "    congrats = \"Congratulations, have a nice day!\"\n",
    "    print(\"Let's test your programming knowledge.\")\n",
    "    print(\"\"\"Why do we use methods?\n",
    "        {0},\n",
    "        {1},\n",
    "        {2},\n",
    "        {3}\"\"\".format('1. To repeat a statement multiple times.',\n",
    "                      '2. To decompose a program into several small subroutines.',\n",
    "                      '3. To determine the execution time of a program.',\n",
    "                      '4. To interrupt the execution of a program.'))\n",
    "    \n",
    "    while True:\n",
    "        answer = int(input())\n",
    "        if answer == 2:\n",
    "            print(congrats)\n",
    "            break \n",
    "        else:\n",
    "            print(try_again)\n",
    "            continue\n",
    "    \n",
    "\n",
    "\n",
    "def main():\n",
    "    greets_user()\n",
    "    get_user_input()\n",
    "    predict_user_age()\n",
    "    count_till_number()\n",
    "    quiz()\n",
    "if __name__ == '__main__':\n",
    "    main()\n"
   ]
  },
  {
   "attachments": {},
   "cell_type": "markdown",
   "metadata": {},
   "source": [
    "# Multiple Choice\n",
    "\n",
    "## Description:\n",
    "At the final stage, you will improve your simple bot so that it can give you a test and check your answers. The test should be a multiple-choice quiz about programming with any number of options. Your bot has to repeat the test until you answer correctly and congratulate you upon completion.\n",
    "\n",
    "\n",
    "## Objective\n",
    "Your bot can ask anything you want, but there are two rules for your output:\n",
    "\n",
    "the line with the test should end with the question mark character;\n",
    "an option starts with a digit followed by the dot (1., 2., 3., 4.)\n",
    "If a user enters an incorrect answer, the bot may print a message:\n",
    "\n",
    "Please, try again.\n",
    "\n",
    "The program should stop on the correct answer and print Congratulations, have a nice day! at the end.\n",
    "\n"
   ]
  }
 ],
 "metadata": {
  "kernelspec": {
   "display_name": "Python 3",
   "language": "python",
   "name": "python3"
  },
  "language_info": {
   "codemirror_mode": {
    "name": "ipython",
    "version": 3
   },
   "file_extension": ".py",
   "mimetype": "text/x-python",
   "name": "python",
   "nbconvert_exporter": "python",
   "pygments_lexer": "ipython3",
   "version": "3.11.3"
  },
  "orig_nbformat": 4
 },
 "nbformat": 4,
 "nbformat_minor": 2
}
