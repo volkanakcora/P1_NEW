{
 "cells": [
  {
   "attachments": {},
   "cell_type": "markdown",
   "metadata": {},
   "source": [
    "# Any and all"
   ]
  },
  {
   "attachments": {},
   "cell_type": "markdown",
   "metadata": {},
   "source": [
    "Today we will learn two more built-in functions any() and all() and find out how and when to use them.\n",
    "\n",
    "Be careful though, these functions work only with iterable objects, e.g. strings and lists. A list is iterable, so we will use it to illustrate the theoretical part and to show how any() and all() work."
   ]
  },
  {
   "attachments": {},
   "cell_type": "markdown",
   "metadata": {},
   "source": [
    "# Function any()\n",
    "The result of the any() function call is the boolean value: it returns True if an element or a group of elements in an iterable object are evaluated True. Otherwise, it returns False. Let’s take a look at the example. Imagine that you and your friends, Jam and Andy, wrote a test and got your results in the form of a list with True and False values. The test is passed if at least one answer is correct. Now you need to check if you and your friends passed that test.\n"
   ]
  },
  {
   "cell_type": "code",
   "execution_count": 1,
   "metadata": {},
   "outputs": [
    {
     "name": "stdout",
     "output_type": "stream",
     "text": [
      "True\n"
     ]
    }
   ],
   "source": [
    "\n",
    "your_results = [True, False, False]\n",
    "print(any(your_results))  # True"
   ]
  },
  {
   "attachments": {},
   "cell_type": "markdown",
   "metadata": {},
   "source": [
    "As you know, the value True corresponds to 1, while False can be represented by 0, therefore, you can replace the boolean values with the numerical ones in the list above and get the same result.\n"
   ]
  },
  {
   "cell_type": "code",
   "execution_count": 2,
   "metadata": {},
   "outputs": [
    {
     "name": "stdout",
     "output_type": "stream",
     "text": [
      "True\n"
     ]
    }
   ],
   "source": [
    "\n",
    "your_results = [1, 0, 0]\n",
    "print(any(your_results))  # True"
   ]
  },
  {
   "attachments": {},
   "cell_type": "markdown",
   "metadata": {},
   "source": [
    "Now back to our test example, you passed with one correct answer. What about your friends, Jam and Andy? Andy has a different list of results to check.\n"
   ]
  },
  {
   "cell_type": "code",
   "execution_count": 3,
   "metadata": {},
   "outputs": [
    {
     "name": "stdout",
     "output_type": "stream",
     "text": [
      "False\n"
     ]
    }
   ],
   "source": [
    "\n",
    "andy_results = [False, False, False]\n",
    "print(any(andy_results))  # False"
   ]
  },
  {
   "attachments": {},
   "cell_type": "markdown",
   "metadata": {},
   "source": [
    "Unfortunately, your friend Andy failed. What about Jam? Well, this friend of yours didn't write the test at all, so he got an empty list of results.\n"
   ]
  },
  {
   "cell_type": "code",
   "execution_count": 4,
   "metadata": {},
   "outputs": [
    {
     "name": "stdout",
     "output_type": "stream",
     "text": [
      "False\n"
     ]
    }
   ],
   "source": [
    "\n",
    "jam_results = []\n",
    "print(any(jam_results))  # False\n",
    "#The list doesn't contain any elements, and since no True value is to be found the any() function returns False."
   ]
  },
  {
   "attachments": {},
   "cell_type": "markdown",
   "metadata": {},
   "source": [
    "So what does the any() function do? First, it takes a list as an argument, then evaluates all the elements of this list to find at least one True, if so, it returns True, otherwise, the result is False.\n"
   ]
  },
  {
   "attachments": {},
   "cell_type": "markdown",
   "metadata": {},
   "source": [
    "# Function all()"
   ]
  },
  {
   "cell_type": "code",
   "execution_count": null,
   "metadata": {},
   "outputs": [],
   "source": [
    "your_results = [True, False, False]\n",
    "print(all(your_results))  # False"
   ]
  },
  {
   "cell_type": "code",
   "execution_count": 5,
   "metadata": {},
   "outputs": [
    {
     "name": "stdout",
     "output_type": "stream",
     "text": [
      "True\n",
      "True\n"
     ]
    }
   ],
   "source": [
    "#As you can see, not all the answers in your case are correct, so you didn't pass the test. What about Andy's results?\n",
    "\n",
    "andy_results = [True, True, True]\n",
    "print(all(andy_results))  # True\n",
    "#Luckily, Andy passed. Jam seems to have a vacation. His list of results is empty again.\n",
    "\n",
    "jam_results = []\n",
    "print(all(jam_results))  # True"
   ]
  },
  {
   "attachments": {},
   "cell_type": "markdown",
   "metadata": {},
   "source": [
    "# Non-boolean values"
   ]
  },
  {
   "attachments": {},
   "cell_type": "markdown",
   "metadata": {},
   "source": [
    "Pay attention to the fact that any() and all() can take a list containing non-boolean values. Let's recall how they are evaluated.\n",
    "\n",
    "Empty sequences, e.g. strings and lists, as well as zero, are equivalent to False, the same applies to the constant None. Non-empty sequences are equivalent to True."
   ]
  },
  {
   "cell_type": "code",
   "execution_count": null,
   "metadata": {},
   "outputs": [],
   "source": [
    "#Here is a list with false values. any() and all() will have the same behavior in this example:\n",
    "\n",
    "rocket_science_scores = [0, -0, 0.0, +0]\n",
    "any(rocket_science_scores)  # False\n",
    "all(rocket_science_scores)  # False\n",
    "\n",
    "#Now, let's look at the scores of some simpler subject:\n",
    "\n",
    "math_scores = [0, 1, 2, 3]\n",
    "any(math_scores)  # True\n",
    "all(math_scores)  # False\n",
    "\n",
    "#As shown, all() doesn't return True for a list where false values are present. Consider the last case:\n",
    "\n",
    "biology_scores = [1, 2, 3, 4]\n",
    "any(biology_scores)  # True\n",
    "all(biology_scores)  # True\n",
    "\n",
    "#The list biology_scores has no false values, that's why both functions result in True.\n",
    "\n",
    "#Also, you can turn the elements of your list into the boolean values via comparison. Suppose, we have a list of scores and want to check whether some are equal to 3 or greater. It can be done like this:\n",
    "\n",
    "scores = [1, 2, 3, 4]\n",
    "boolean_scores = [score >= 3 for score in scores]  # [False, False, True, True]\n",
    "print(any(boolean_scores))  # True\n",
    "print(all(boolean_scores))  # False"
   ]
  },
  {
   "attachments": {},
   "cell_type": "markdown",
   "metadata": {},
   "source": [
    "# Conditions"
   ]
  },
  {
   "attachments": {},
   "cell_type": "markdown",
   "metadata": {},
   "source": [
    "Coders often use any() and all() functions in conditions. It helps to check the elements of iterable objects quickly and to avoid complex constructions.\n",
    "\n",
    "Let's choose a candy box for Valentine's Day. Each box contains several types of sweets. But you are interested in the even amount of candies of each type because, obviously, you will share them with your valentine."
   ]
  },
  {
   "cell_type": "code",
   "execution_count": null,
   "metadata": {},
   "outputs": [],
   "source": [
    "box = [10, 20, 33]\n",
    "\n",
    "if any([candy % 2 for candy in box]):\n",
    "    print(\"It is not a proper gift.\")\n",
    "else:\n",
    "    print(\"Perfect!\")"
   ]
  }
 ],
 "metadata": {
  "kernelspec": {
   "display_name": "Python 3",
   "language": "python",
   "name": "python3"
  },
  "language_info": {
   "codemirror_mode": {
    "name": "ipython",
    "version": 3
   },
   "file_extension": ".py",
   "mimetype": "text/x-python",
   "name": "python",
   "nbconvert_exporter": "python",
   "pygments_lexer": "ipython3",
   "version": "3.11.3"
  },
  "orig_nbformat": 4
 },
 "nbformat": 4,
 "nbformat_minor": 2
}
