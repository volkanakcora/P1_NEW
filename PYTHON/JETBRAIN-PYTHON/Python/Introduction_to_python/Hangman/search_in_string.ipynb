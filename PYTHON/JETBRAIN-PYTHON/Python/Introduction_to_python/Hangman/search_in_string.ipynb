{
 "cells": [
  {
   "attachments": {},
   "cell_type": "markdown",
   "metadata": {},
   "source": [
    "# Search in a string"
   ]
  },
  {
   "attachments": {},
   "cell_type": "markdown",
   "metadata": {},
   "source": [
    "## A substring searching algorithm\n",
    "We'll start with a substring searching problem. Given two strings, text and pattern, we need to identify whether there is at least one occurrence of the pattern in the text. The simplest and most natural way to solve this problem is to sequentially consider all substrings of the text whose length is equal to the length of the pattern and compare them with the pattern itself. If at least in one case all corresponding symbols match, the pattern is found. If none of such attempts were successful, we should indicate that there is no pattern in the text. Here's how this simple algorithm can be implemented in Python:\n",
    "\n"
   ]
  },
  {
   "cell_type": "code",
   "execution_count": 9,
   "metadata": {},
   "outputs": [
    {
     "data": {
      "text/plain": [
       "True"
      ]
     },
     "execution_count": 9,
     "metadata": {},
     "output_type": "execute_result"
    }
   ],
   "source": [
    "text = 'volkan naber nasilsin'\n",
    "def contains(text, pattern):\n",
    "    for i in range(len(text) - len(pattern) + 1):\n",
    "        found = True\n",
    "\n",
    "        for j in range(len(pattern)):\n",
    "            if text[i + j] != pattern[j]:\n",
    "                found = False\n",
    "                break\n",
    "\n",
    "        if found:\n",
    "            return True\n",
    "\n",
    "    return False\n",
    "\n",
    "contains(text, \"volkan\")\n",
    "\n",
    "\n",
    "import random\n",
    "\n",
    "def choose_word_from_list(word_list):\n",
    "    return random.choice(word_list)\n",
    "\n",
    "def hide_word(word):\n",
    "    hidden_word = word[:3] + \"-\" * (len(word) - 3)\n",
    "    return hidden_word\n",
    "\n",
    "def play_game(word_list):\n",
    "    chosen_word = choose_word_from_list(word_list)\n",
    "    hidden_word = hide_word(chosen_word)\n",
    "\n",
    "    print(\"Guess the word!\")\n",
    "    print(\"The word is:\", hidden_word)\n",
    "\n",
    "word_list = [\"apple\", \"banana\", \"orange\", \"grape\", \"kiwi\"]\n",
    "\n",
    "play_game(word_list)\n"
   ]
  },
  {
   "attachments": {},
   "cell_type": "markdown",
   "metadata": {},
   "source": [
    "The function named contains takes two strings, text and pattern, as input and returns True if text contains pattern and False otherwise.\n",
    "\n",
    "At each step of the outer for loop, we create a variable named found and initialize it with True. Then, in the inner for loop, we start comparing pattern with the current substring of text. If at least one of the corresponding symbols doesn't match, we set the variable found to False and break the inner loop. After the inner for loop is done, we check the state of the found variable. If it remains True, this means that each symbol of pattern matches the current substring. In this case, we return True indicating that pattern is found. Otherwise, we move to the next iteration and start considering the next substring. In case none of the comparisons were successful, that is, the outer for loop finishes all iterations, the function returns False indicating that pattern is not found."
   ]
  },
  {
   "cell_type": "code",
   "execution_count": 10,
   "metadata": {},
   "outputs": [
    {
     "data": {
      "text/plain": [
       "False"
      ]
     },
     "execution_count": 10,
     "metadata": {},
     "output_type": "execute_result"
    }
   ],
   "source": [
    "contains(\"abacabad\", \"cab\")  # True\n",
    "contains(\"abacabad\", \"abacabad\")  # True\n",
    "contains(\"aba\", \"\")  # True\n",
    "contains(\"abacabad\", \"hello\")  # False"
   ]
  },
  {
   "attachments": {},
   "cell_type": "markdown",
   "metadata": {},
   "source": [
    "Now we know that there is a substring searching algorithm and how to implement it in Python. However, there are also built-in functions and operators that solve the problem. Let's see what they are."
   ]
  },
  {
   "attachments": {},
   "cell_type": "markdown",
   "metadata": {},
   "source": [
    "## Membership testing\n",
    "\n",
    "Another way to define if there's a specific pattern in our string is called membership testing, and it is implemented with the help of the operators in and not in. When we write pattern in string, the left operand should be a string, and membership test checks if string contains pattern as a substring.\n",
    "\n",
    "If membership test returns True, this means that there exists a position in string starting from which you can read the pattern in the string.\n",
    "\n",
    "\n"
   ]
  },
  {
   "cell_type": "code",
   "execution_count": 13,
   "metadata": {},
   "outputs": [
    {
     "name": "stdout",
     "output_type": "stream",
     "text": [
      "True\n",
      "False\n",
      "True\n",
      "False\n"
     ]
    }
   ],
   "source": [
    "print(\"apple\" in \"pineapple\")  # True\n",
    "print(\"milk\" in \"yogurt\")      # False\n",
    "print('' in '')           # True\n",
    "print('' not in \"lemon\")  # False"
   ]
  },
  {
   "attachments": {},
   "cell_type": "markdown",
   "metadata": {},
   "source": [
    "## Boolean search in a string\n",
    "Apart from knowing that a substring just occurs in the string, we can determine that the string starts or ends with a specific pattern. Methods startswith() and endswith() return True if the pattern is found and False otherwise."
   ]
  },
  {
   "cell_type": "code",
   "execution_count": 17,
   "metadata": {},
   "outputs": [
    {
     "name": "stdout",
     "output_type": "stream",
     "text": [
      "False\n",
      "True\n"
     ]
    }
   ],
   "source": [
    "email = \"email_address@something.com\"\n",
    "print(email.startswith(\".\"))          # False\n",
    "print(email.endswith(\"@something.com\"))  # True\n"
   ]
  },
  {
   "attachments": {},
   "cell_type": "markdown",
   "metadata": {},
   "source": [
    "\n",
    "Optional values for start and end that bound the search area can be added: string.startswith(pattern, start, end). When we specify only one additional element, it's automatically considered as start."
   ]
  },
  {
   "cell_type": "code",
   "execution_count": 21,
   "metadata": {},
   "outputs": [
    {
     "name": "stdout",
     "output_type": "stream",
     "text": [
      "False\n",
      "True\n"
     ]
    }
   ],
   "source": [
    "email = \"my_email@something.com\"\n",
    "print(email.startswith(\"email\", 2))  # False\n",
    "print(email.startswith(\"m\", 4))  # True"
   ]
  },
  {
   "attachments": {},
   "cell_type": "markdown",
   "metadata": {},
   "source": [
    "In the example above, when we specified the start argument as 2, we limited the search to the substring \"_email@something.com\", which actually doesn't start with \"email\". Then we fixed this off-by-one mistake by setting start to 3."
   ]
  },
  {
   "attachments": {},
   "cell_type": "markdown",
   "metadata": {},
   "source": [
    "Note that the substring bound by the start and end indexes does include the character with the start index but does not include the element with the end index."
   ]
  },
  {
   "cell_type": "code",
   "execution_count": 22,
   "metadata": {},
   "outputs": [
    {
     "name": "stdout",
     "output_type": "stream",
     "text": [
      "False\n",
      "True\n"
     ]
    }
   ],
   "source": [
    "email = \"my_email@something.com\"\n",
    "print(email.endswith(\"@\", 5, 8))  # False\n",
    "print(email.endswith(\"@\", 5, 9))  # True"
   ]
  },
  {
   "attachments": {},
   "cell_type": "markdown",
   "metadata": {},
   "source": [
    "## Element position\n",
    "Now, as we know how to check if a string contains a substring, starts or ends with it, let's learn how to define the exact position of the substring. We can use the methods find() or index() to do so:\n",
    "\n"
   ]
  },
  {
   "cell_type": "code",
   "execution_count": 25,
   "metadata": {},
   "outputs": [
    {
     "name": "stdout",
     "output_type": "stream",
     "text": [
      "2\n",
      "2\n"
     ]
    }
   ],
   "source": [
    "best = \"friend\"\n",
    "\n",
    "print(best.find(\"i\"))   # 2\n",
    "print(best.index(\"i\"))  # 2\n"
   ]
  },
  {
   "attachments": {},
   "cell_type": "markdown",
   "metadata": {},
   "source": [
    "They work absolutely the same except that the former returns -1 if it can't find the given element, while the latter raises ValueError.\n",
    "\n"
   ]
  },
  {
   "cell_type": "code",
   "execution_count": 26,
   "metadata": {},
   "outputs": [
    {
     "name": "stdout",
     "output_type": "stream",
     "text": [
      "-1\n"
     ]
    },
    {
     "ename": "ValueError",
     "evalue": "substring not found",
     "output_type": "error",
     "traceback": [
      "\u001b[0;31m---------------------------------------------------------------------------\u001b[0m",
      "\u001b[0;31mValueError\u001b[0m                                Traceback (most recent call last)",
      "Cell \u001b[0;32mIn[26], line 2\u001b[0m\n\u001b[1;32m      1\u001b[0m \u001b[39mprint\u001b[39m(best\u001b[39m.\u001b[39mfind(\u001b[39m\"\u001b[39m\u001b[39mu\u001b[39m\u001b[39m\"\u001b[39m))   \u001b[39m# -1\u001b[39;00m\n\u001b[0;32m----> 2\u001b[0m \u001b[39mprint\u001b[39m(best\u001b[39m.\u001b[39;49mindex(\u001b[39m\"\u001b[39;49m\u001b[39mu\u001b[39;49m\u001b[39m\"\u001b[39;49m))  \u001b[39m# ValueError\u001b[39;00m\n",
      "\u001b[0;31mValueError\u001b[0m: substring not found"
     ]
    }
   ],
   "source": [
    "print(best.find(\"u\"))   # -1\n",
    "print(best.index(\"u\"))  # ValueError"
   ]
  },
  {
   "attachments": {},
   "cell_type": "markdown",
   "metadata": {},
   "source": [
    "So, all the examples with find() below will work with index() as well.\n",
    "\n",
    "We can search both for single characters and for longer substrings. In the latter case, the index of the first character of the substring is returned"
   ]
  },
  {
   "cell_type": "code",
   "execution_count": 30,
   "metadata": {},
   "outputs": [
    {
     "name": "stdout",
     "output_type": "stream",
     "text": [
      "3\n"
     ]
    }
   ],
   "source": [
    "print(best.find(\"end\"))  # 3\n"
   ]
  },
  {
   "attachments": {},
   "cell_type": "markdown",
   "metadata": {},
   "source": [
    "In the string friend, the substring end occupies positions from 3 to 5, and the start index is returned. Keep in mind that both methods return only the index of the first occurrence of the element we search for."
   ]
  },
  {
   "cell_type": "code",
   "execution_count": 31,
   "metadata": {},
   "outputs": [
    {
     "name": "stdout",
     "output_type": "stream",
     "text": [
      "2\n"
     ]
    }
   ],
   "source": [
    "magic = \"abracadabra\"\n",
    "print(magic.find(\"ra\"))  # 2"
   ]
  },
  {
   "attachments": {},
   "cell_type": "markdown",
   "metadata": {},
   "source": [
    "However, we can additionally specify an interval for searching, just as with the boolean search: string.find(pattern, start, end)."
   ]
  },
  {
   "cell_type": "code",
   "execution_count": 32,
   "metadata": {},
   "outputs": [
    {
     "name": "stdout",
     "output_type": "stream",
     "text": [
      "9\n",
      "-1\n"
     ]
    }
   ],
   "source": [
    "print(magic.find(\"ra\", 5))      # 9\n",
    "print(magic.find(\"ra\", 5, 10))  # -1"
   ]
  },
  {
   "attachments": {},
   "cell_type": "markdown",
   "metadata": {},
   "source": [
    "Once again, the end index is not included in the search area.\n",
    "\n",
    "Alternatively, we can use methods rfind() and rindex() to search backward from the end of the string."
   ]
  },
  {
   "cell_type": "code",
   "execution_count": 33,
   "metadata": {},
   "outputs": [
    {
     "name": "stdout",
     "output_type": "stream",
     "text": [
      "9\n",
      "10\n"
     ]
    }
   ],
   "source": [
    "print(magic.rfind(\"ra\"))  # 9\n",
    "print(magic.rindex(\"a\"))  # 10"
   ]
  },
  {
   "attachments": {},
   "cell_type": "markdown",
   "metadata": {},
   "source": [
    "## Element number\n",
    "Finally, it's often useful to count how many times an element (a char or a substring) occurs in the string, and for this, we can use the method count().\n",
    "\n"
   ]
  },
  {
   "cell_type": "code",
   "execution_count": null,
   "metadata": {},
   "outputs": [],
   "source": [
    "magic = \"abracadabra\"\n",
    "\n",
    "print(magic.count(\"abra\"))  # 2\n",
    "print(magic.count(\"a\"))     # 5\n"
   ]
  },
  {
   "cell_type": "code",
   "execution_count": 36,
   "metadata": {},
   "outputs": [
    {
     "name": "stdout",
     "output_type": "stream",
     "text": [
      "True\n",
      "False\n",
      "False\n",
      "True\n"
     ]
    }
   ],
   "source": [
    "print('' in 'universe')                            # 1\n",
    "\n",
    "pet = \"myguineapignamedSparks\"\n",
    "print(pet.startswith(\"pig\", 3))                    # 2\n",
    "\n",
    "longest_word = \"Antidisestablishmentarianism\"\n",
    "print(longest_word.endswith(\"establishment\", 20))  # 3\n",
    "\n",
    "person = \"lover\"\n",
    "print(person.endswith(\"over\"))     "
   ]
  }
 ],
 "metadata": {
  "kernelspec": {
   "display_name": "Python 3",
   "language": "python",
   "name": "python3"
  },
  "language_info": {
   "codemirror_mode": {
    "name": "ipython",
    "version": 3
   },
   "file_extension": ".py",
   "mimetype": "text/x-python",
   "name": "python",
   "nbconvert_exporter": "python",
   "pygments_lexer": "ipython3",
   "version": "3.11.3"
  },
  "orig_nbformat": 4
 },
 "nbformat": 4,
 "nbformat_minor": 2
}
