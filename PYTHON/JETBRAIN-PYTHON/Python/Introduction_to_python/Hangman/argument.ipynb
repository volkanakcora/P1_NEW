{
 "cells": [
  {
   "attachments": {},
   "cell_type": "markdown",
   "metadata": {},
   "source": [
    "# Argument\n",
    "By now, you are on good terms with functions, since you know how to invoke and declare them. Let's deepen your knowledge a bit and discover some new features of functions.\n",
    "\n",
    "First, a line should be drawn between the terms \"argument\" and \"parameter\". Parameters represent what a function accepts, it's those names that appear in the function definition. Meanwhile, arguments are the values we pass to a function when calling it. We'll cover both arguments and parameters further."
   ]
  },
  {
   "attachments": {},
   "cell_type": "markdown",
   "metadata": {},
   "source": [
    "## Positional arguments\n",
    "There are different ways to assign arguments to a function. First of all, you can do it simply by position. In this case, values will associate with parameters in the order in which you passed them into your function from left to right. Such arguments are called positional, or non-keyword."
   ]
  },
  {
   "cell_type": "code",
   "execution_count": null,
   "metadata": {},
   "outputs": [],
   "source": [
    "def subtract(x, y):\n",
    "    return x - y\n",
    "\n",
    "\n",
    "subtract(11, 4)  # 7\n",
    "subtract(4, 11)  # -7"
   ]
  },
  {
   "attachments": {},
   "cell_type": "markdown",
   "metadata": {},
   "source": [
    "## Named arguments\n",
    "Another way to assign arguments is by name. Sometimes you might want to control the order of passed values. That's where named, or keyword, arguments come into play."
   ]
  },
  {
   "cell_type": "code",
   "execution_count": null,
   "metadata": {},
   "outputs": [],
   "source": [
    "def greet(name, surname):\n",
    "    print(\"Hello,\", name, surname)\n",
    "\n",
    "\n",
    "# Non-keyword arguments\n",
    "greet(\"Willy\", \"Wonka\")               # Hello, Willy Wonka\n",
    "\n",
    "# Keyword arguments\n",
    "greet(surname=\"Wonka\", name=\"Willy\")  # Hello, Willy Wonka"
   ]
  },
  {
   "attachments": {},
   "cell_type": "markdown",
   "metadata": {},
   "source": [
    "The order doesn't matter here since parameters are matched by name. However, keyword arguments are always written after non-keyword arguments when you call a function:"
   ]
  },
  {
   "cell_type": "code",
   "execution_count": null,
   "metadata": {},
   "outputs": [],
   "source": [
    "greet(\"Frodo\", surname=\"Baggins\")  # Hello, Frodo Baggins\n",
    "greet(name=\"Frodo\", \"Baggins\")     # SyntaxError: positional argument follows keyword argument"
   ]
  },
  {
   "attachments": {},
   "cell_type": "markdown",
   "metadata": {},
   "source": [
    "## Names are important\n",
    "We have covered the main errors that you can face. Of course, there can be more parameters in a function:"
   ]
  },
  {
   "cell_type": "code",
   "execution_count": null,
   "metadata": {},
   "outputs": [],
   "source": [
    "def responsibility(developer, tester, project_manager, designer):\n",
    "    print(developer, \"writes code\")\n",
    "    print(tester, \"tests the system\")\n",
    "    print(project_manager, \"manages the product\")\n",
    "    print(designer, \"develops design\")"
   ]
  },
  {
   "attachments": {},
   "cell_type": "markdown",
   "metadata": {},
   "source": [
    "Note that when we use keyword arguments, names are important, not positions. Thus, the following example will work correctly: "
   ]
  },
  {
   "cell_type": "code",
   "execution_count": null,
   "metadata": {},
   "outputs": [],
   "source": [
    "responsibility(project_manager=\"Sara\", developer=\"Abdul\", tester=\"Yana\", designer=\"Mark\")\n",
    "# Abdul writes code\n",
    "# Yana tests the system\n",
    "# Sara manages the product\n",
    "# Mark develops design"
   ]
  },
  {
   "attachments": {},
   "cell_type": "markdown",
   "metadata": {},
   "source": [
    "However, if we call the function with the same order of names, but without named arguments, then the output will be wrong, with mixed responsibilities:"
   ]
  },
  {
   "cell_type": "code",
   "execution_count": 1,
   "metadata": {},
   "outputs": [
    {
     "ename": "NameError",
     "evalue": "name 'responsibility' is not defined",
     "output_type": "error",
     "traceback": [
      "\u001b[0;31m---------------------------------------------------------------------------\u001b[0m",
      "\u001b[0;31mNameError\u001b[0m                                 Traceback (most recent call last)",
      "Cell \u001b[0;32mIn[1], line 1\u001b[0m\n\u001b[0;32m----> 1\u001b[0m responsibility(\u001b[39m\"\u001b[39m\u001b[39mSara\u001b[39m\u001b[39m\"\u001b[39m, \u001b[39m\"\u001b[39m\u001b[39mAbdul\u001b[39m\u001b[39m\"\u001b[39m, \u001b[39m\"\u001b[39m\u001b[39mYana\u001b[39m\u001b[39m\"\u001b[39m, \u001b[39m\"\u001b[39m\u001b[39mMark\u001b[39m\u001b[39m\"\u001b[39m)\n\u001b[1;32m      2\u001b[0m \u001b[39m# Sara writes code\u001b[39;00m\n\u001b[1;32m      3\u001b[0m \u001b[39m# Abdul tests the system\u001b[39;00m\n\u001b[1;32m      4\u001b[0m \u001b[39m# Yana manages the product\u001b[39;00m\n\u001b[1;32m      5\u001b[0m \u001b[39m# Mark develops design\u001b[39;00m\n",
      "\u001b[0;31mNameError\u001b[0m: name 'responsibility' is not defined"
     ]
    }
   ],
   "source": [
    "responsibility(\"Sara\", \"Abdul\", \"Yana\", \"Mark\")\n",
    "# Sara writes code\n",
    "# Abdul tests the system\n",
    "# Yana manages the product\n",
    "# Mark develops design"
   ]
  },
  {
   "attachments": {},
   "cell_type": "markdown",
   "metadata": {},
   "source": [
    "This way, Python knows the names of the arguments that our function takes. We can ask Python to remind us about them using the built-in help() function.\n",
    "\n",
    "help(responsibility)\n",
    "# Help on function responsibility in module __main__:\n",
    "# responsibility(developer, tester, project_manager, designer)"
   ]
  },
  {
   "attachments": {},
   "cell_type": "markdown",
   "metadata": {},
   "source": []
  }
 ],
 "metadata": {
  "kernelspec": {
   "display_name": "Python 3",
   "language": "python",
   "name": "python3"
  },
  "language_info": {
   "codemirror_mode": {
    "name": "ipython",
    "version": 3
   },
   "file_extension": ".py",
   "mimetype": "text/x-python",
   "name": "python",
   "nbconvert_exporter": "python",
   "pygments_lexer": "ipython3",
   "version": "3.11.3"
  },
  "orig_nbformat": 4
 },
 "nbformat": 4,
 "nbformat_minor": 2
}
