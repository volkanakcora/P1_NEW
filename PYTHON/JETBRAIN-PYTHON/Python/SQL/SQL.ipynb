{
 "cells": [
  {
   "cell_type": "markdown",
   "metadata": {},
   "source": [
    "### Creating a new table\n",
    "\n"
   ]
  },
  {
   "cell_type": "code",
   "execution_count": null,
   "metadata": {
    "vscode": {
     "languageId": "sql"
    }
   },
   "outputs": [],
   "source": [
    "CREATE TABLE students_info ( \n",
    "    student_id INT, \n",
    "    name VARCHAR(30), \n",
    "    surname VARCHAR(30), \n",
    "    age INT\n",
    ");"
   ]
  },
  {
   "cell_type": "markdown",
   "metadata": {},
   "source": [
    "## Drop a database"
   ]
  },
  {
   "cell_type": "code",
   "execution_count": null,
   "metadata": {
    "vscode": {
     "languageId": "sql"
    }
   },
   "outputs": [],
   "source": [
    "DROP DATABASE students; \n"
   ]
  },
  {
   "cell_type": "markdown",
   "metadata": {},
   "source": [
    "## Drop a table "
   ]
  },
  {
   "cell_type": "code",
   "execution_count": null,
   "metadata": {
    "vscode": {
     "languageId": "sql"
    }
   },
   "outputs": [],
   "source": [
    "DROP TABLE students_info; \n"
   ]
  },
  {
   "cell_type": "code",
   "execution_count": null,
   "metadata": {
    "vscode": {
     "languageId": "sql"
    }
   },
   "outputs": [],
   "source": [
    "'To create a new database, you can use this query template:'\n",
    "\n",
    "CREATE DATABASE database_name;\n",
    "\n",
    "'The following template is used to drop the database:'\n",
    "\n",
    "DROP DATABASE database_name; \n",
    "\n",
    "'To create a new table, follow this general template:'\n",
    "\n",
    "CREATE TABLE table_name ( \n",
    "    column_1 column_1_type,\n",
    "    column_2 column_2_type,\n",
    "    ...., \n",
    "    column_n column_n_type\n",
    ");\n",
    "\n",
    "'To delete a table, use this statement:'\n",
    "\n",
    "DROP TABLE table_name; "
   ]
  },
  {
   "cell_type": "markdown",
   "metadata": {},
   "source": [
    "## Select examples"
   ]
  },
  {
   "cell_type": "code",
   "execution_count": null,
   "metadata": {
    "vscode": {
     "languageId": "sql"
    }
   },
   "outputs": [],
   "source": [
    "SELECT 'Bob' AS name, 160 AS \"height in centimeters\", 160*0.393701 AS \"height in inches\";\n",
    "\n",
    "SELECT \n",
    "  'Bob' AS \"name\", \n",
    "  160 AS \"height in centimeters\", \n",
    "  160*0.393701 AS \"height in inches\"\n",
    ";\n",
    "\n",
    "SELECT \n",
    "  'Bob'        AS \"name\", \n",
    "  160          AS \"height in centimeters\", \n",
    "  160*0.393701 AS \"height in inches\"\n",
    ";"
   ]
  },
  {
   "cell_type": "code",
   "execution_count": null,
   "metadata": {
    "vscode": {
     "languageId": "sql"
    }
   },
   "outputs": [],
   "source": [
    "SELECT\n",
    "  CONCAT(first_name, ' ', last_name) AS full_name,\n",
    "  1912 - age AS year_of_birth,\n",
    "  passenger_class\n",
    "FROM\n",
    "  Titanic_passengers;"
   ]
  },
  {
   "cell_type": "markdown",
   "metadata": {},
   "source": [
    "# Logic and comparison expressions\n",
    "\n",
    "### Filtering by a criteria\n"
   ]
  },
  {
   "cell_type": "code",
   "execution_count": null,
   "metadata": {
    "vscode": {
     "languageId": "sql"
    }
   },
   "outputs": [],
   "source": [
    "SELECT *\n",
    "FROM table\n",
    "WHERE conditions"
   ]
  },
  {
   "cell_type": "markdown",
   "metadata": {},
   "source": [
    "In the conditions field we can insert any parameters we want our extracted data to be consistent with. However, in order to define those specific selection conditions, we need to apply them to expressions.\n",
    "\n",
    "Let's imagine that your first client wants to buy a book by Charles Dickens. Let's write a query that selects books that meet the criteria:"
   ]
  },
  {
   "cell_type": "code",
   "execution_count": null,
   "metadata": {
    "vscode": {
     "languageId": "sql"
    }
   },
   "outputs": [],
   "source": [
    "SELECT id, title, rating\n",
    "FROM books\n",
    "WHERE author = 'Charles Dickens';"
   ]
  },
  {
   "cell_type": "markdown",
   "metadata": {},
   "source": [
    "### Filtering with Comparisons\n",
    "\n",
    "```=    equality check\n",
    "\n",
    "<, >    less, greater\n",
    "\n",
    "<=, >=  less or equal, greater or equal\n",
    "\n",
    "!<, !>  not less than, not greater than\n",
    "\n",
    "<>, !=  not equal```"
   ]
  },
  {
   "cell_type": "markdown",
   "metadata": {},
   "source": [
    "### Logical expressions\n",
    "\n",
    "- NOT returns True if argument equals to False and vice versa.\n",
    "\n",
    "- AND compares operands and returns True only if all of them are True. Alternatively, returns False.\n",
    "\n",
    "- OR returns True if at least one of the operands is True. Otherwise, returns False."
   ]
  },
  {
   "cell_type": "code",
   "execution_count": null,
   "metadata": {
    "vscode": {
     "languageId": "sql"
    }
   },
   "outputs": [],
   "source": [
    "SELECT *\n",
    "FROM staff\n",
    "WHERE (status=\"Middle\" OR status=\"Senior\") AND skills=\"SQL\""
   ]
  },
  {
   "cell_type": "code",
   "execution_count": null,
   "metadata": {
    "vscode": {
     "languageId": "sql"
    }
   },
   "outputs": [],
   "source": [
    "SELECT *\n",
    "FROM staff\n",
    "WHERE NOT(status=\"Junior\") AND skills=\"SQL\""
   ]
  },
  {
   "cell_type": "code",
   "execution_count": null,
   "metadata": {
    "vscode": {
     "languageId": "sql"
    }
   },
   "outputs": [],
   "source": [
    "select id,title,author,rating from books \n",
    "where (author=\"Theodore Dreiser\" OR author=\"Ayn Rand\" OR author = \"Harper Lee\" OR author= \"Mark Twain\") and quantity > 0;"
   ]
  },
  {
   "cell_type": "code",
   "execution_count": null,
   "metadata": {
    "vscode": {
     "languageId": "sql"
    }
   },
   "outputs": [],
   "source": [
    "select id,title,author,rating,price from books where quantity > 0 and rating < 3 and price > 5;"
   ]
  }
 ],
 "metadata": {
  "kernelspec": {
   "display_name": "Python 3",
   "language": "python",
   "name": "python3"
  },
  "language_info": {
   "codemirror_mode": {
    "name": "ipython",
    "version": 3
   },
   "file_extension": ".py",
   "mimetype": "text/x-python",
   "name": "python",
   "nbconvert_exporter": "python",
   "pygments_lexer": "ipython3",
   "version": "3.11.5"
  }
 },
 "nbformat": 4,
 "nbformat_minor": 2
}
