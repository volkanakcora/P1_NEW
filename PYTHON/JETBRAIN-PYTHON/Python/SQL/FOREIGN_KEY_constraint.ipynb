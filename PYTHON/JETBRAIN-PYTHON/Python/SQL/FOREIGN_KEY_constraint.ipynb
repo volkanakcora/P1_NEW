{
 "cells": [
  {
   "cell_type": "markdown",
   "metadata": {},
   "source": [
    "# FOREIGN KEY constraint\n",
    "\n",
    "- You already know how to create a primary key and how to create a database with several tables in it. If you want to create a truly powerful database, you should know how to link the tables together.\n",
    "\n",
    "\n",
    "Assume that we already have a table departments with columns department_id INT PRIMARY KEY and department_name VARCHAR(20) NOT NULL. It looks as follows:\n",
    "\n",
    "department_id   department_name\n",
    "\n",
    "1                  IT\n",
    "\n",
    "2                  HR\n",
    "\n",
    "3                  PR"
   ]
  },
  {
   "cell_type": "markdown",
   "metadata": {},
   "source": [
    "We want to create a table employees with columns employee_id INT PRIMARY KEY, name VARCHAR(60) and department_id INT. An employee can only work in an existing department, so all values in the column department_id in the table employees should have a corresponding department_id value in the table departments, so these two columns should be connected."
   ]
  },
  {
   "cell_type": "markdown",
   "metadata": {},
   "source": [
    "To create a link between these two tables, we can mark the department_id in employees as a foreign key or referencing key. The database management system will control the data that can be stored in the foreign key table employees for us."
   ]
  },
  {
   "cell_type": "markdown",
   "metadata": {},
   "source": [
    "To mark a field or a group of fields as a foreign key, we can use the FOREIGN KEY constraint and create the table employees. In the query, keyword REFERENCES specifies the table and the primary key column or columns (in parentheses) with unique values that the foreign key points to. The structure and data type of the primary key and the foreign key must be the same. The table that the foreign key points to is called referenced or parent table. Here is what the query will look like:"
   ]
  },
  {
   "cell_type": "code",
   "execution_count": null,
   "metadata": {
    "vscode": {
     "languageId": "sql"
    }
   },
   "outputs": [],
   "source": [
    "CREATE TABLE employees (\n",
    "    employee_id INT PRIMARY KEY,\n",
    "    name VARCHAR(60) NOT NULL, \n",
    "    department_id INT,\n",
    "    CONSTRAINT fk_department FOREIGN KEY (department_id)\n",
    "    REFERENCES departments(department_id)\n",
    "); "
   ]
  },
  {
   "cell_type": "markdown",
   "metadata": {},
   "source": [
    "After the query execution, the table employees becomes a child table, that is, a table containing the foreign key."
   ]
  },
  {
   "cell_type": "markdown",
   "metadata": {},
   "source": [
    "!!! Now if we try to insert a tuple (1, 'Ann Riding', 4) in the table employees, we will get an error because the table departments doesn't have a row with such department in it.\n",
    "\n"
   ]
  },
  {
   "cell_type": "markdown",
   "metadata": {},
   "source": [
    "With the query above, we created a named foreign key. It is good practice to use only named foreign keys because in some SQL dialects (including MySQL), unnamed foreign keys may cause trouble in the future. However, you can still create a table with an unnamed foreign key:"
   ]
  },
  {
   "cell_type": "code",
   "execution_count": null,
   "metadata": {
    "vscode": {
     "languageId": "sql"
    }
   },
   "outputs": [],
   "source": [
    "CREATE TABLE employees (\n",
    "    employee_id int PRIMARY KEY,\n",
    "    name VARCHAR(60) NOT NULL,\n",
    "    department_id INT,\n",
    "    FOREIGN KEY (department_id) REFERENCES departments(department_id)\n",
    ");"
   ]
  },
  {
   "cell_type": "markdown",
   "metadata": {},
   "source": [
    "# Referential actions\n"
   ]
  },
  {
   "cell_type": "markdown",
   "metadata": {},
   "source": [
    "Assume that we add some data to the table employees, and now the connections between our tables departments and employees look like this:"
   ]
  },
  {
   "cell_type": "markdown",
   "metadata": {},
   "source": [
    "If we update or delete data in the table departments, we should change the corresponding data in the table employees. The result of these changes depends on the referential actions. We can specify how SQL should act if we change the data using ON DELETE and ON UPDATE actions."
   ]
  },
  {
   "cell_type": "markdown",
   "metadata": {},
   "source": [
    "We can specify different actions:\n",
    "\n",
    "```CASCADE```: if a row in the parent table is deleted or updated, all matching rows will be deleted or updated automatically;\n",
    "\n",
    "```SET NULL```: if a row in the parent table is deleted or updated, all matching foreign key values in the child table will be set to NULL;\n",
    "\n",
    "```RESTRICT```: if we try to update or delete a row in the parent table, the operation will be rejected;\n",
    "\n",
    "```SET DEFAULT```: if a row with the corresponding value is deleted or updated, the foreign key value in the child table will be set to the default value;\n",
    "\n",
    "```NO ACTION```: this keyword can mean different actions depending on a dialect. In MySQL, it is equivalent to the RESTRICT keyword, so if we create the table employees with one of the queries above, delete and update actions in the table departments will be forbidden"
   ]
  },
  {
   "cell_type": "code",
   "execution_count": null,
   "metadata": {
    "vscode": {
     "languageId": "sql"
    }
   },
   "outputs": [],
   "source": [
    "CREATE TABLE employees (\n",
    "    employee_id int PRIMARY KEY,\n",
    "    name VARCHAR(60) NOT NULL, \n",
    "    department_id INT,\n",
    "    CONSTRAINT fk_department FOREIGN KEY (department_id)\n",
    "    REFERENCES departments(department_id)\n",
    "    ON DELETE SET NULL\n",
    "    ON UPDATE CASCADE\n",
    "); "
   ]
  },
  {
   "cell_type": "markdown",
   "metadata": {},
   "source": [
    "#### Add FOREIGN KEY to the existing table\n",
    "\n",
    "To add a foreign key to the existing table, you can use the ALTER TABLE ADD FOREIGN KEY statement.\n",
    "\n",
    "If we created our table employees without a foreign key, we can add it with a simple SQL query:"
   ]
  },
  {
   "cell_type": "code",
   "execution_count": null,
   "metadata": {
    "vscode": {
     "languageId": "sql"
    }
   },
   "outputs": [],
   "source": [
    "ALTER TABLE employees\n",
    "ADD FOREIGN KEY (department_id) REFERENCES departments(department_id);"
   ]
  },
  {
   "cell_type": "markdown",
   "metadata": {},
   "source": [
    "To add a named foreign key or a FOREIGN KEY constraint to multiple columns, use the ALTER TABLE ADD CONSTRAINT statement:"
   ]
  },
  {
   "cell_type": "code",
   "execution_count": null,
   "metadata": {
    "vscode": {
     "languageId": "sql"
    }
   },
   "outputs": [],
   "source": [
    "ALTER TABLE employees\n",
    "ADD CONSTRAINT fk_department FOREIGN KEY (department_id)\n",
    "REFERENCES departments(department_id);"
   ]
  },
  {
   "cell_type": "markdown",
   "metadata": {},
   "source": [
    "## Drop foreign key\n",
    "\n",
    "To delete a foreign key, use the ALTER TABLE DROP FOREIGN KEY statement:\n",
    "\n"
   ]
  },
  {
   "cell_type": "code",
   "execution_count": null,
   "metadata": {
    "vscode": {
     "languageId": "sql"
    }
   },
   "outputs": [],
   "source": [
    "ALTER TABLE employees \n",
    "DROP FOREIGN KEY fk_department;"
   ]
  },
  {
   "cell_type": "markdown",
   "metadata": {},
   "source": [
    "In MySQL, we have to know the name of the foreign key to delete it. This is one of the reasons why using named foreign keys is good practice, but even if you create an unnamed foreign key constraint, DBMS will generate the name automatically.\n",
    "\n",
    "To get the foreign key name in this case, use the following syntax:"
   ]
  },
  {
   "cell_type": "code",
   "execution_count": null,
   "metadata": {
    "vscode": {
     "languageId": "sql"
    }
   },
   "outputs": [],
   "source": [
    "SHOW CREATE TABLE table_name; \n"
   ]
  }
 ],
 "metadata": {
  "language_info": {
   "name": "python"
  }
 },
 "nbformat": 4,
 "nbformat_minor": 2
}
