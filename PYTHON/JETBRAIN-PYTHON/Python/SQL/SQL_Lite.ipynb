{
 "cells": [
  {
   "cell_type": "markdown",
   "metadata": {},
   "source": [
    "## Introduction to SQLite\n",
    "\n",
    "#### Why SQLite?\n",
    "\n",
    "- SQL databases can be handy even in the simplest applications. However, running a database system like MySQL or PostgreSQL requires installation, configuration, and maintenance. Sometimes it can be unsuitable for us or even forbidden. In such cases, SQLite comes to the rescue.\n",
    "\n",
    "\n",
    "- Contrary to the typical database running as a separate process, SQLite takes a different approach: an application embeds the database code within itself, so there's no need for a separate database process. Issued SQL statements read and write the files directly on the local disk. The database with all the tables and metadata is contained in a single file"
   ]
  },
  {
   "cell_type": "markdown",
   "metadata": {},
   "source": [
    "# Basic Usage\n",
    "\n",
    "- In order to install and use SQLite, you need to add its dependency to a package manager or build system of your choice (Gradle, pip, npm). After that, you will be able to use regular SQL libraries to access the database.\n",
    "\n",
    "\n",
    "- We won't stick with any particular programming language and will explore SQLite using its command line interface: sqlite3. Calling it with a database file name as a parameter will start an interactive session with that database. If the database file does not exist, it will be created. Let’s create a new edu.db database and populate it:\n"
   ]
  },
  {
   "cell_type": "code",
   "execution_count": null,
   "metadata": {
    "vscode": {
     "languageId": "sql"
    }
   },
   "outputs": [],
   "source": [
    "hs@laptop:~/sqlite$ ls\n",
    "hs@laptop:~/sqlite$ sqlite3 edu.db\n",
    "\n",
    "SQLite version 3.31.1 2020-01-27 19:55:54\n",
    "Enter \".help\" for usage hints.\n",
    "sqlite> create table pets (pet_id integer, name text);\n",
    "sqlite> insert into pets (pet_id, name) values (1, 'Harry'), (2, 'Elen');\n",
    "sqlite> create table pet_weights (pet_id integer, weight integer);\n",
    "sqlite> insert into pet_weights (pet_id, weight) values (1, 10), (2, 11);\n",
    "sqlite>"
   ]
  },
  {
   "cell_type": "markdown",
   "metadata": {},
   "source": [
    "Upon finishing an interactive session we see a new edu.db database file. By starting the session again, we can verify that the data was saved:"
   ]
  },
  {
   "cell_type": "code",
   "execution_count": null,
   "metadata": {
    "vscode": {
     "languageId": "sql"
    }
   },
   "outputs": [],
   "source": [
    "hs@laptop:~/sqlite$ sqlite3 edu.db\n",
    "SQLite version 3.31.1 2020-01-27 19:55:54\n",
    "Enter \".help\" for usage hints.\n",
    "sqlite> select * from pets;\n",
    "1|Harry\n",
    "2|Elen\n",
    "sqlite> select * from pet_weights;\n",
    "1|10\n",
    "2|11"
   ]
  },
  {
   "cell_type": "markdown",
   "metadata": {},
   "source": [
    "# Typelessness\n",
    "\n",
    "- Most SQL databases use static typing: the type of the value inserted into a column should match its column declaration type. You can’t insert a string value into an integer column."
   ]
  },
  {
   "cell_type": "code",
   "execution_count": null,
   "metadata": {
    "vscode": {
     "languageId": "sql"
    }
   },
   "outputs": [],
   "source": [
    "CREATE TABLE pet_weights (pet_id, weight); \n"
   ]
  }
 ],
 "metadata": {
  "language_info": {
   "name": "python"
  }
 },
 "nbformat": 4,
 "nbformat_minor": 2
}
