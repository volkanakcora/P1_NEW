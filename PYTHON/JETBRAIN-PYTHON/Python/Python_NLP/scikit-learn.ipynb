{
 "cells": [
  {
   "cell_type": "markdown",
   "metadata": {},
   "source": [
    "## Introduction to scikit-learn\n",
    "\n",
    "\n",
    "# Installing scikit-learn\n",
    "\n",
    "- Since scikit-learn is not a part of the Python standard library, you might need to install it on your machine before you can start using it. One way to do so is by using pip. Run the following command in the command line:\n",
    "\n"
   ]
  },
  {
   "cell_type": "code",
   "execution_count": null,
   "metadata": {},
   "outputs": [],
   "source": [
    "pip install scikit-learn"
   ]
  },
  {
   "cell_type": "markdown",
   "metadata": {},
   "source": [
    "Also, note that scikit-learn is constantly being updated, so it is a good idea to check for new versions every now and then. To upgrade the current version installed on your machine to the latest release with pip, run"
   ]
  },
  {
   "cell_type": "code",
   "execution_count": null,
   "metadata": {},
   "outputs": [],
   "source": [
    "pip install --user --upgrade scikit-learn\n"
   ]
  },
  {
   "cell_type": "markdown",
   "metadata": {},
   "source": [
    "Once the library is installed, you can import it in your code and start using it. Importing the whole scikit-learn is typically overkill. Normally, you will be importing only the modules you are intending to use. The typical import statement will look like this:"
   ]
  },
  {
   "cell_type": "code",
   "execution_count": null,
   "metadata": {},
   "outputs": [],
   "source": [
    "from sklearn.module_of_interest import functionality_of_interest\n",
    "\n",
    "\"To import the whole module, use * :\"\n",
    "from sklearn.module_of_interest import *\n"
   ]
  },
  {
   "cell_type": "markdown",
   "metadata": {},
   "source": [
    "## What's good about sklearn?\n",
    "\n",
    "- To begin with, sklearn can be used for various tasks within the data mining process, such as data pre-processing, training machine learning models, and model selection. It is really convenient for machine learning practitioners to have this diverse functionality in one place. Besides, sklearn integrates well with other popular Python libraries useful for data analysis, for example, pandas for storing and manipulating data, numpy for vector computations and matplotlib and seaborn for data visualization.\n",
    "\n",
    "- Another advantage of sklearn is that this library arguably features all widely-used algorithms for the most common machine learning problems such as classification, regression, clustering, etc. Whichever algorithm you want to use with your data, most likely, you will find it inside sklearn. Convenient, right?\n",
    "- Part of its success is also due to a simple intuitive interface. Fitting any ML model in sklearn is very simple, even if you know almost nothing about machine learning. Moreover, the interface is consistent, so your code will look more or less the same, whether you are solving a classification, regression, or a clustering problem. The same goes for data preprocessing techniques.\n"
   ]
  },
  {
   "cell_type": "markdown",
   "metadata": {},
   "source": [
    "# Is sklearn really so perfect?\n",
    "\n",
    "The major downside is speed. The sklearn implementation of the machine learning algorithms cannot compete in speed with their lower-level implementations (for example, in C++). So, if speed is an important factor for your project, or if you are working with really big datasets, you may want to use other tools. However, sklearn could still be useful for quick proof of concept on a smaller portion of the data."
   ]
  }
 ],
 "metadata": {
  "language_info": {
   "name": "python"
  }
 },
 "nbformat": 4,
 "nbformat_minor": 2
}
