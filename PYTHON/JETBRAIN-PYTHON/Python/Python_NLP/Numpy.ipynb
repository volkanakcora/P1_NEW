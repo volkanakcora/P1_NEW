{
 "cells": [
  {
   "cell_type": "markdown",
   "metadata": {},
   "source": [
    "# NumPy (short for Numerical Python)  \n",
    "\n",
    "\n",
    "- ### NumPy arrays\n"
   ]
  },
  {
   "cell_type": "code",
   "execution_count": null,
   "metadata": {},
   "outputs": [],
   "source": [
    "first = np.array([1, 2, 3, 4, 5])\n",
    "print(first)                       # [1 2 3 4 5]\n",
    "print(type(first))                 # <class 'numpy.ndarray'>"
   ]
  },
  {
   "cell_type": "markdown",
   "metadata": {},
   "source": [
    "In the example above, first is a one-dimensional array that is treated as a vector. As you can see, when printed, it is rendered without commas, as opposed to Python lists.\n",
    "\n",
    "\n",
    "\n",
    "- You can also use not only integers in the list but any objects (strings, lists, etc.) by specifying the dtype argument as object(Python object, since in this example you have int, str, and listas element types):"
   ]
  },
  {
   "cell_type": "code",
   "execution_count": null,
   "metadata": {},
   "outputs": [],
   "source": [
    "first_modified = np.array(['1', 2, [3], 4, [5]], dtype=object)\n",
    "print(first_modified)  # ['1' 2 list([3]) 4 list([5])]"
   ]
  },
  {
   "cell_type": "markdown",
   "metadata": {},
   "source": [
    "## `NumPy arrays vs Python lists`\n",
    "\n",
    "- Unlike Python lists, which can contain objects of different types(a property known as heterogeneity), the objects in NumPy arrays with different Python types will be of the same type — thedtype. This property is referred to as homogeneity, where all elements in the array have the same type, and homogeneity is enforced for performance optimization(operations would be inefficient otherwise). It means that you still can have multiple Python datatypes inside a NumPy array, but they all will be of the object type we mentioned earlier. By default, the dtype will be set to the minimum type required to hold all objects in the sequence.\n",
    "- NumPy arrays are much more memory-efficient and much faster than Python lists when working with large datasets due to various optimizations.\n",
    "- ```Arithmetic operations``` `differ` when executed on Python lists or NumPy arrays."
   ]
  },
  {
   "cell_type": "markdown",
   "metadata": {},
   "source": [
    "### `Array range and evenly spaced array`\n",
    "\n",
    "- The first function that helps to create arrays in NumPy, is np.arange(). It is similar to the built-in range() generator of numbers, but np.arange() returns an array. Let's have a look at the example."
   ]
  },
  {
   "cell_type": "code",
   "execution_count": null,
   "metadata": {},
   "outputs": [],
   "source": [
    "array_1 = np.arange(5)\n",
    "print(array_1)  # [0 1 2 3 4]"
   ]
  },
  {
   "cell_type": "markdown",
   "metadata": {},
   "source": [
    "You can also create an array by specifying a start element, a stop element, and a step: np.arange(start, stop, step)"
   ]
  },
  {
   "cell_type": "code",
   "execution_count": null,
   "metadata": {},
   "outputs": [],
   "source": [
    "array_2 = np.arange(5, 9)\n",
    "array_3 = np.arange(5, 6, 0.2)\n",
    "print(array_2)  # [5 6 7 8]\n",
    "print(array_3)  # [5. 5.2 5.4 5.6 5.8]"
   ]
  },
  {
   "cell_type": "markdown",
   "metadata": {},
   "source": [
    "## `Arrays filled with ones and zeros`"
   ]
  },
  {
   "cell_type": "code",
   "execution_count": null,
   "metadata": {},
   "outputs": [],
   "source": [
    "array_6 = np.ones((3, 2))\n",
    "array_7 = np.zeros(7)\n",
    "print(array_6)\n",
    "# [[1. 1.]\n",
    "#  [1. 1.]\n",
    "#  [1. 1.]]\n",
    "print(array_7)  # [0. 0. 0. 0. 0. 0. 0.]"
   ]
  },
  {
   "cell_type": "markdown",
   "metadata": {},
   "source": [
    "The \"`np.zeros_like()`\" and \"`np.ones_like()`\" functions are similar to the previous ones, but they return an array of ones or zeros with the same shape and type as the given arrays."
   ]
  },
  {
   "cell_type": "code",
   "execution_count": null,
   "metadata": {},
   "outputs": [],
   "source": [
    "x = np.array([[1, 1, 1], [2, 2, 2]])\n",
    "y = np.array([1, 2, 3, 4, 5])\n",
    "array_8 = np.ones_like(x)\n",
    "array_9 = np.zeros_like(y)\n",
    "print(array_8)\n",
    "# [[1 1 1]\n",
    "#  [1 1 1]]\n",
    "print(array_9)  # [0 0 0 0 0]"
   ]
  },
  {
   "cell_type": "markdown",
   "metadata": {},
   "source": [
    "### `Converting NumPy arrays to Python lists`"
   ]
  },
  {
   "cell_type": "code",
   "execution_count": null,
   "metadata": {},
   "outputs": [],
   "source": [
    "array_10 = np.array([[1, 2], [3, 4]])\n",
    "lst1 = array_10.tolist()\n",
    "print(lst1)  # [[1, 2], [3, 4]]"
   ]
  },
  {
   "cell_type": "code",
   "execution_count": null,
   "metadata": {},
   "outputs": [],
   "source": [
    "array_11 = np.array([[5, 2], [7, 4]])\n",
    "lst2 = list(array_11)\n",
    "print(lst2)  # [array([5, 2]), array([7, 4])]\n",
    "print(type(lst2[0]))  # <class 'numpy.ndarray'>"
   ]
  },
  {
   "cell_type": "markdown",
   "metadata": {},
   "source": [
    "## `Indexing in arrays`"
   ]
  },
  {
   "cell_type": "code",
   "execution_count": null,
   "metadata": {},
   "outputs": [],
   "source": [
    "array_12 = np.array([[1, 12, 31], [4, 45, 64], [0, 7, 89]])\n",
    "print(array_12[2, 2])  # 89\n",
    "print(array_12[2][2])  # 89"
   ]
  },
  {
   "cell_type": "code",
   "execution_count": null,
   "metadata": {},
   "outputs": [],
   "source": [
    "array_13 = np.array([[[1, 12, 31], [4, 45, 64], [0, 7, 89]]])\n",
    "print(array_13[0, 1, 1])  # 45\n",
    "print(array_13[0][1][1])  # 45"
   ]
  },
  {
   "cell_type": "markdown",
   "metadata": {},
   "source": [
    "### `Slicing`"
   ]
  },
  {
   "cell_type": "code",
   "execution_count": null,
   "metadata": {},
   "outputs": [],
   "source": [
    "array_14 = np.array([[100, 101, 102],\n",
    "                 [103, 104, 105],\n",
    "                 [106, 107, 108],\n",
    "                 [109, 110, 111]])\n",
    "print(array_14[1:3, 1])   # [104 107]"
   ]
  },
  {
   "cell_type": "code",
   "execution_count": 2,
   "metadata": {},
   "outputs": [
    {
     "name": "stdout",
     "output_type": "stream",
     "text": [
      "28.8\n"
     ]
    }
   ],
   "source": [
    "import numpy as np \n",
    "\n",
    "array = np.linspace(20, 42, num=11)\n",
    "print(array[4])"
   ]
  },
  {
   "cell_type": "code",
   "execution_count": 10,
   "metadata": {},
   "outputs": [
    {
     "name": "stdout",
     "output_type": "stream",
     "text": [
      "[[4 6]\n",
      " [5 7]]\n"
     ]
    }
   ],
   "source": [
    "import numpy as np \n",
    "\n",
    "# Read four integers from input\n",
    "nums = [int(input()) for _ in range(4)]\n",
    "\n",
    "# Create the initial array\n",
    "initial_array = [[nums[0], nums[1]], [nums[2], nums[3]]]\n",
    "\n",
    "# Transpose the array\n",
    "\n",
    "print(np.transpose(initial_array))"
   ]
  },
  {
   "cell_type": "code",
   "execution_count": null,
   "metadata": {},
   "outputs": [],
   "source": [
    "import numpy as np\n",
    "\n",
    "# Read six integers from input\n",
    "nums = [int(input()) for _ in range(6)]\n",
    "\n",
    "# Create the two arrays\n",
    "matrix = np.array([[nums[0], nums[1]], [nums[2], nums[3]]])\n",
    "vector = np.array([nums[4], nums[5]])\n",
    "\n",
    "# Divide the matrix by the vector and transpose the result\n",
    "result = np.transpose(matrix / vector)\n",
    "\n",
    "# Print the transposed array\n",
    "print(result)\n"
   ]
  }
 ],
 "metadata": {
  "kernelspec": {
   "display_name": "Python 3",
   "language": "python",
   "name": "python3"
  },
  "language_info": {
   "codemirror_mode": {
    "name": "ipython",
    "version": 3
   },
   "file_extension": ".py",
   "mimetype": "text/x-python",
   "name": "python",
   "nbconvert_exporter": "python",
   "pygments_lexer": "ipython3",
   "version": "3.9.18"
  }
 },
 "nbformat": 4,
 "nbformat_minor": 2
}
