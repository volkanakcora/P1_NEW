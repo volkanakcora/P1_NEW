{
 "cells": [
  {
   "cell_type": "markdown",
   "metadata": {},
   "source": [
    "# Work on project. Stage 1/4: Mini-calculator\n"
   ]
  },
  {
   "cell_type": "code",
   "execution_count": 3,
   "metadata": {},
   "outputs": [
    {
     "name": "stdout",
     "output_type": "stream",
     "text": [
      "7\n"
     ]
    }
   ],
   "source": [
    "user_input = input()\n",
    "print(eval(user_input))"
   ]
  },
  {
   "cell_type": "markdown",
   "metadata": {},
   "source": [
    "## Work on project. Stage 2/4: Task generator\n",
    "\n",
    "\n",
    "Description\n",
    "Any test includes at least one task. This task can vary in difficulty and required timeframes. There can be more than one task; they can demand different forms of answers. One thing remains — if there's a task, there's a solution. And we need to assess it.\n",
    "\n",
    "Math tasks can vary in difficulty. 1 * 3 is easy. 75 * 34 is a bit more difficult. For the next stages, think about levels of difficulty that you can add!\n",
    "\n",
    "For now, let's use random numbers from 2 to 9 and integer operations: +, - and *.\n",
    "\n",
    "Objectives\n",
    "Generate a math task that looks like a math operation. Use the requirements above. Print it.\n",
    "Read the answer from a user.\n",
    "Check whether the answer is correct. Print Right! or Wrong!\n",
    "Examples\n",
    "\n",
    "The greater-than symbol followed by a space (> ) represents the user input. Note that it's not part of the input.\n",
    "\n",
    "Example 1:\n",
    "\n",
    "5 * 7\n",
    "> 35\n",
    "Right!\n",
    "Example 2:\n",
    "\n",
    "5 * 7\n",
    "> 5\n",
    "Wrong!"
   ]
  },
  {
   "cell_type": "code",
   "execution_count": 8,
   "metadata": {},
   "outputs": [
    {
     "name": "stdout",
     "output_type": "stream",
     "text": [
      "Right!\n"
     ]
    }
   ],
   "source": [
    "user_input = input()\n",
    "user_input_result = eval(user_input) \n",
    "user_input_result = int(user_input_result)\n",
    "user_input_for_prediction = int(input())\n",
    "\n",
    "if user_input_result == user_input_for_prediction:\n",
    "    print(\"Right!\")\n",
    "else: \n",
    "    print(\"Wrong!\")"
   ]
  },
  {
   "cell_type": "code",
   "execution_count": 100,
   "metadata": {},
   "outputs": [
    {
     "name": "stdout",
     "output_type": "stream",
     "text": [
      "5 + 1\n",
      "Right!\n"
     ]
    }
   ],
   "source": [
    "import random \n",
    "\n",
    "def get_random_number(until):\n",
    "    return random.randrange(0, until, 1)\n",
    "\n",
    "def calculate_result(first_number, operation, second_number):\n",
    "    if operation == '/':\n",
    "        return first_number / second_number\n",
    "    elif operation == '*':\n",
    "        return first_number * second_number \n",
    "    elif operation == '+':\n",
    "        return first_number + second_number \n",
    "    elif operation == '-':\n",
    "        return first_number - second_number \n",
    "\n",
    "\n",
    "first_number = get_random_number(9)\n",
    "second_number = get_random_number(9)\n",
    "symbol_dict = ['+','-','/','*']\n",
    "operation = symbol_dict[get_random_number(4)]\n",
    "print(first_number, operation, second_number)\n",
    "\n",
    "user_prediction = int(input())\n",
    "\n",
    "calculation = calculate_result(first_number, operation, second_number)\n",
    "\n",
    "if user_prediction == calculation:\n",
    "    print(\"Right!\")\n",
    "else:\n",
    "    print(\"Wrong!\")"
   ]
  },
  {
   "cell_type": "code",
   "execution_count": 104,
   "metadata": {},
   "outputs": [
    {
     "name": "stdout",
     "output_type": "stream",
     "text": [
      "7 - 2\n",
      "Wrong!\n"
     ]
    }
   ],
   "source": [
    "# write your code here\n",
    "import random \n",
    "\n",
    "def get_random_number(start, end):\n",
    "    return random.randrange(start, end, 1)\n",
    "\n",
    "def calculate_result(first_number, operation, second_number):\n",
    "    if operation == '-':\n",
    "        return first_number - second_number \n",
    "    elif operation == '*':\n",
    "        return first_number * second_number \n",
    "    elif operation == '+':\n",
    "        return first_number + second_number \n",
    "\n",
    "\n",
    "first_number = get_random_number(2,9)\n",
    "\n",
    "second_number = get_random_number(2,9)\n",
    "symbol_dict = ['+','-','*']\n",
    "operation = symbol_dict[get_random_number(0,3)]\n",
    "print(first_number, operation, second_number)\n",
    "\n",
    "user_prediction = int(input())\n",
    "\n",
    "calculation = calculate_result(first_number, operation, second_number)\n",
    "\n",
    "if user_prediction == calculation:\n",
    "    print(\"Right!\")\n",
    "else:\n",
    "    print(\"Wrong!\")"
   ]
  },
  {
   "cell_type": "code",
   "execution_count": 153,
   "metadata": {},
   "outputs": [
    {
     "data": {
      "text/plain": [
       "3"
      ]
     },
     "execution_count": 153,
     "metadata": {},
     "output_type": "execute_result"
    }
   ],
   "source": [
    "get_random_number(3,9)\n",
    "\n",
    "get_random_number(3,9)"
   ]
  },
  {
   "cell_type": "code",
   "execution_count": 90,
   "metadata": {},
   "outputs": [
    {
     "data": {
      "text/plain": [
       "[{5}, {'*'}, {5}]"
      ]
     },
     "execution_count": 90,
     "metadata": {},
     "output_type": "execute_result"
    }
   ],
   "source": [
    "eval(a)"
   ]
  },
  {
   "cell_type": "markdown",
   "metadata": {},
   "source": [
    "# Work on project. Stage 3/4: More tasks needed!\n"
   ]
  },
  {
   "cell_type": "markdown",
   "metadata": {},
   "source": [
    "#### Description\n",
    "Let's write an application that assesses the user's knowledge.\n",
    "Many people get nervous during exams; they can accidentally hit a wrong key, confuse , with . in floats, and so on. Our application should allow some room for errors and give a person the opportunity to correct the typo."
   ]
  },
  {
   "cell_type": "markdown",
   "metadata": {},
   "source": [
    "#### Objectives\n",
    "- The application should give the user 5 tasks. The tasks are akin to the previous stage: two numbers from 2 to 9 and an integer operation.\n",
    "- The user receives one task, prints the answer. If the answer contains a typo (letters or otherwise empty), the program should print Incorrect format. and ask to re-enter the answer. Repeat until the answer is in the correct format. If the answer is a number, print Right! or Wrong! depending on the answer and carry on to the next question.\n",
    "- After five tasks, output Your mark is n/5. where n is the number of correct answers."
   ]
  },
  {
   "cell_type": "code",
   "execution_count": 9,
   "metadata": {},
   "outputs": [
    {
     "name": "stdout",
     "output_type": "stream",
     "text": [
      "2 + 2\n",
      "Incorrect format.\n",
      "Incorrect format.\n",
      "Incorrect format.\n",
      "Incorrect format.\n",
      "Incorrect format.\n",
      "Incorrect format.\n",
      "Incorrect format.\n",
      "Wrong!\n",
      "5 - 8\n",
      "Wrong!\n",
      "4 * 3\n",
      "Wrong!\n",
      "3 + 6\n",
      "Wrong!\n",
      "Your mark is 1/5.\n"
     ]
    }
   ],
   "source": [
    "# write your code here\n",
    "import random \n",
    "\n",
    "def get_random_number(start, end):\n",
    "    return random.randrange(start, end, 1)\n",
    "\n",
    "def calculate_result(first_number, operation, second_number):\n",
    "    if operation == '-':\n",
    "        return first_number - second_number \n",
    "    elif operation == '*':\n",
    "        return first_number * second_number \n",
    "    elif operation == '+':\n",
    "        return first_number + second_number \n",
    "\n",
    "def ask_question():\n",
    "    while True:\n",
    "        answer = input()\n",
    "        if not answer or not answer.replace('-', '').replace('+', '').replace('*', '').isdigit():\n",
    "                print(\"Incorrect format.\")\n",
    "        else:\n",
    "            return int(answer)\n",
    "\n",
    "\n",
    "def main():\n",
    "    count_game = 0\n",
    "    count_true = 0\n",
    "    while True:\n",
    "        first_number = get_random_number(2,9)\n",
    "        second_number = get_random_number(2,9)\n",
    "        symbol_dict = ['+','-','*']\n",
    "        operation = symbol_dict[get_random_number(0,3)]\n",
    "        print(first_number, operation, second_number)\n",
    "        calculation = calculate_result(first_number, operation, second_number)\n",
    "        if ask_question() == calculation:\n",
    "            count_true += 1\n",
    "            count_game += 1\n",
    "            print(\"Right!\")\n",
    "            if count_game == 5:\n",
    "                print(f\"Your mark is {count_true}/5.\")\n",
    "                break\n",
    "        else:\n",
    "            print(\"Wrong!\")\n",
    "            count_game += 1\n",
    "            if count_game == 5:\n",
    "                print(f\"Your mark is {count_true}/5.\")\n",
    "                break\n",
    "\n",
    "\n",
    "\n",
    "if __name__ == \"__main__\":\n",
    "    main()"
   ]
  },
  {
   "cell_type": "markdown",
   "metadata": {},
   "source": [
    "# Work on project. Stage 4/4: Adding marks\n",
    "\n",
    "Adding marks\n",
    "#### Description\n",
    "Simple tasks are good for younger kids, but math can be more difficult and more interesting! Quadratic equations, trigonometry, and a lot of other interesting things. Math library can help you with that.\n",
    "\n",
    "Sometimes students want to save the results of the test. This is useful for viewing the learning dynamics on a topic or to identify difficult tasks.\n",
    "\n",
    "At this stage, let's add integral squares. Of course, you can add more difficulty levels later.\n",
    "\n",
    "##### Objectives\n",
    "With the first message, the program should ask for a difficulty level:\n",
    "- 1 - simple operations with numbers 2-9\n",
    "- 2 - integral squares 11-29\n",
    "\n",
    "A user enters an answer.\n",
    "For the first difficulty level: the task is a simple math operation; the answer is the result of the operation.\n",
    "For the second difficulty level: the task is an integer; the answer is the square of this number.\n",
    "In case of another input: ask to re-enter. Repeat until the format is correct.\n",
    "\n",
    "The application gives 5 tasks to a user.\n",
    "\n",
    "The user receives one task, prints the answer.\n",
    "If the answer contains a typo, print Incorrect format. and ask to re-enter the answer. Repeat until the answer is in the correct format.\n",
    "If the answer is a number, print Right! or Wrong! Go to the next question.\n",
    "\n",
    "After five answers, print Your mark is N/5. where N is the number of correct answers.\n",
    "\n",
    "Output Would you like to save your result to the file? Enter yes or no.\n",
    "In case of yes, YES, y, Yes: the app should ask the username and write Name: n/5 in level X (<level description>). (X stands for the level number) in the results.txt file. For example — Alex: 3/5 in level 1 (simple operations with numbers 2-9).\n",
    "The results should be saved to the file immediately after the user gave the positive answer to the question Would you like to save your result to the file?\n",
    "If the file results.txt does not exist, you should create it.\n",
    "\n",
    "In case of no or any other word: exit the program."
   ]
  },
  {
   "cell_type": "code",
   "execution_count": null,
   "metadata": {},
   "outputs": [],
   "source": [
    "# write your code here\n",
    "import random    \n",
    "\n",
    "def get_random_number(start, end):\n",
    "    return random.randrange(start, end, 1)\n",
    "\n",
    "def calculate_result(first_number, operation, second_number):\n",
    "    if operation == '-':\n",
    "        return first_number - second_number \n",
    "    elif operation == '*':\n",
    "        return first_number * second_number \n",
    "    elif operation == '+':\n",
    "        return first_number + second_number \n",
    "\n",
    "def ask_question():\n",
    "    while True:\n",
    "        answer = input(\"\"\"1 - simple operations with numbers 2-9\n",
    "                          2 - integral squares 11-29\"\"\")\n",
    "        if not answer or not answer.replace('-', '').replace('+', '').replace('*', '').isdigit():\n",
    "                print(\"Incorrect format.\")\n",
    "        else:\n",
    "            return int(answer)\n",
    "\n",
    "\n",
    "def main():\n",
    "    count_game = 0\n",
    "    count_true = 0\n",
    "    while True:\n",
    "        first_number = get_random_number(2,9)\n",
    "        second_number = get_random_number(2,9)\n",
    "        operation = symbol_dict[get_random_number(0,3)]\n",
    "        if ask_question() == 1:\n",
    "            print(first_number, operation, second_number)\n",
    "            symbol_dict = ['+','-','*']\n",
    "            calculation = calculate_result(first_number, operation, second_number)\n",
    "            if ask_question == calculation\n",
    "                count_true += 1\n",
    "                count_game += 1\n",
    "                print(\"Right!\")\n",
    "                if count_game == 5:\n",
    "                    print(f\"Your mark is {count_true}/5.\")\n",
    "                    break\n",
    "            else:\n",
    "                print(\"Wrong!\")\n",
    "                count_game += 1\n",
    "                if count_game == 5:\n",
    "                    print(f\"Your mark is {count_true}/5.\")\n",
    "                    break\n",
    "        elif ask_question() == 2:\n",
    "            number_forsecond_question = get_random_number(11,29)\n",
    "            print(number_forsecond_question)\n",
    "            calculation_second_question = number_forsecond_question * number_forsecond_question\n",
    "            if ask_question() == calculation_second_question:\n",
    "                print(\"Right\")\n",
    "\n",
    "\n",
    "\n",
    "\n",
    "\n",
    "if __name__ == \"__main__\":\n",
    "    main()"
   ]
  },
  {
   "cell_type": "code",
   "execution_count": 1,
   "metadata": {},
   "outputs": [
    {
     "name": "stdout",
     "output_type": "stream",
     "text": [
      "\n",
      "        1 - simple operations with numbers 2-9\n",
      "        2 - integral squares 11-29\n",
      "21\n",
      "24\n",
      "Incorrect format.\n"
     ]
    },
    {
     "ename": "KeyboardInterrupt",
     "evalue": "Interrupted by user",
     "output_type": "error",
     "traceback": [
      "\u001b[0;31m---------------------------------------------------------------------------\u001b[0m",
      "\u001b[0;31mKeyboardInterrupt\u001b[0m                         Traceback (most recent call last)",
      "Cell \u001b[0;32mIn[1], line 71\u001b[0m\n\u001b[1;32m     63\u001b[0m                     \u001b[38;5;28;01mbreak\u001b[39;00m\n\u001b[1;32m     70\u001b[0m \u001b[38;5;28;01mif\u001b[39;00m \u001b[38;5;18m__name__\u001b[39m \u001b[38;5;241m==\u001b[39m \u001b[38;5;124m\"\u001b[39m\u001b[38;5;124m__main__\u001b[39m\u001b[38;5;124m\"\u001b[39m:\n\u001b[0;32m---> 71\u001b[0m     \u001b[43mmain\u001b[49m\u001b[43m(\u001b[49m\u001b[43m)\u001b[49m\n",
      "Cell \u001b[0;32mIn[1], line 33\u001b[0m, in \u001b[0;36mmain\u001b[0;34m()\u001b[0m\n\u001b[1;32m     31\u001b[0m welcome_game()\n\u001b[1;32m     32\u001b[0m \u001b[38;5;28;01mwhile\u001b[39;00m \u001b[38;5;28;01mTrue\u001b[39;00m:\n\u001b[0;32m---> 33\u001b[0m     \u001b[38;5;28;01mif\u001b[39;00m \u001b[43mask_question\u001b[49m\u001b[43m(\u001b[49m\u001b[43m)\u001b[49m \u001b[38;5;241m==\u001b[39m \u001b[38;5;241m1\u001b[39m:\n\u001b[1;32m     34\u001b[0m         \u001b[38;5;28;01mwhile\u001b[39;00m \u001b[38;5;28;01mTrue\u001b[39;00m:\n\u001b[1;32m     35\u001b[0m             first_number \u001b[38;5;241m=\u001b[39m get_random_number(\u001b[38;5;241m2\u001b[39m,\u001b[38;5;241m9\u001b[39m)\n",
      "Cell \u001b[0;32mIn[1], line 21\u001b[0m, in \u001b[0;36mask_question\u001b[0;34m()\u001b[0m\n\u001b[1;32m     19\u001b[0m \u001b[38;5;28;01mdef\u001b[39;00m \u001b[38;5;21mask_question\u001b[39m():\n\u001b[1;32m     20\u001b[0m     \u001b[38;5;28;01mwhile\u001b[39;00m \u001b[38;5;28;01mTrue\u001b[39;00m:\n\u001b[0;32m---> 21\u001b[0m         answer \u001b[38;5;241m=\u001b[39m \u001b[38;5;28;43minput\u001b[39;49m\u001b[43m(\u001b[49m\u001b[43m)\u001b[49m\n\u001b[1;32m     22\u001b[0m         \u001b[38;5;28;01mif\u001b[39;00m \u001b[38;5;129;01mnot\u001b[39;00m answer \u001b[38;5;129;01mor\u001b[39;00m \u001b[38;5;129;01mnot\u001b[39;00m answer\u001b[38;5;241m.\u001b[39mreplace(\u001b[38;5;124m'\u001b[39m\u001b[38;5;124m-\u001b[39m\u001b[38;5;124m'\u001b[39m, \u001b[38;5;124m'\u001b[39m\u001b[38;5;124m'\u001b[39m)\u001b[38;5;241m.\u001b[39mreplace(\u001b[38;5;124m'\u001b[39m\u001b[38;5;124m+\u001b[39m\u001b[38;5;124m'\u001b[39m, \u001b[38;5;124m'\u001b[39m\u001b[38;5;124m'\u001b[39m)\u001b[38;5;241m.\u001b[39mreplace(\u001b[38;5;124m'\u001b[39m\u001b[38;5;124m*\u001b[39m\u001b[38;5;124m'\u001b[39m, \u001b[38;5;124m'\u001b[39m\u001b[38;5;124m'\u001b[39m)\u001b[38;5;241m.\u001b[39misdigit():\n\u001b[1;32m     23\u001b[0m                 \u001b[38;5;28mprint\u001b[39m(\u001b[38;5;124m\"\u001b[39m\u001b[38;5;124mIncorrect format.\u001b[39m\u001b[38;5;124m\"\u001b[39m)\n",
      "File \u001b[0;32m~/miniconda3/lib/python3.11/site-packages/ipykernel/kernelbase.py:1270\u001b[0m, in \u001b[0;36mKernel.raw_input\u001b[0;34m(self, prompt)\u001b[0m\n\u001b[1;32m   1268\u001b[0m     msg \u001b[38;5;241m=\u001b[39m \u001b[38;5;124m\"\u001b[39m\u001b[38;5;124mraw_input was called, but this frontend does not support input requests.\u001b[39m\u001b[38;5;124m\"\u001b[39m\n\u001b[1;32m   1269\u001b[0m     \u001b[38;5;28;01mraise\u001b[39;00m StdinNotImplementedError(msg)\n\u001b[0;32m-> 1270\u001b[0m \u001b[38;5;28;01mreturn\u001b[39;00m \u001b[38;5;28;43mself\u001b[39;49m\u001b[38;5;241;43m.\u001b[39;49m\u001b[43m_input_request\u001b[49m\u001b[43m(\u001b[49m\n\u001b[1;32m   1271\u001b[0m \u001b[43m    \u001b[49m\u001b[38;5;28;43mstr\u001b[39;49m\u001b[43m(\u001b[49m\u001b[43mprompt\u001b[49m\u001b[43m)\u001b[49m\u001b[43m,\u001b[49m\n\u001b[1;32m   1272\u001b[0m \u001b[43m    \u001b[49m\u001b[38;5;28;43mself\u001b[39;49m\u001b[38;5;241;43m.\u001b[39;49m\u001b[43m_parent_ident\u001b[49m\u001b[43m[\u001b[49m\u001b[38;5;124;43m\"\u001b[39;49m\u001b[38;5;124;43mshell\u001b[39;49m\u001b[38;5;124;43m\"\u001b[39;49m\u001b[43m]\u001b[49m\u001b[43m,\u001b[49m\n\u001b[1;32m   1273\u001b[0m \u001b[43m    \u001b[49m\u001b[38;5;28;43mself\u001b[39;49m\u001b[38;5;241;43m.\u001b[39;49m\u001b[43mget_parent\u001b[49m\u001b[43m(\u001b[49m\u001b[38;5;124;43m\"\u001b[39;49m\u001b[38;5;124;43mshell\u001b[39;49m\u001b[38;5;124;43m\"\u001b[39;49m\u001b[43m)\u001b[49m\u001b[43m,\u001b[49m\n\u001b[1;32m   1274\u001b[0m \u001b[43m    \u001b[49m\u001b[43mpassword\u001b[49m\u001b[38;5;241;43m=\u001b[39;49m\u001b[38;5;28;43;01mFalse\u001b[39;49;00m\u001b[43m,\u001b[49m\n\u001b[1;32m   1275\u001b[0m \u001b[43m\u001b[49m\u001b[43m)\u001b[49m\n",
      "File \u001b[0;32m~/miniconda3/lib/python3.11/site-packages/ipykernel/kernelbase.py:1313\u001b[0m, in \u001b[0;36mKernel._input_request\u001b[0;34m(self, prompt, ident, parent, password)\u001b[0m\n\u001b[1;32m   1310\u001b[0m \u001b[38;5;28;01mexcept\u001b[39;00m \u001b[38;5;167;01mKeyboardInterrupt\u001b[39;00m:\n\u001b[1;32m   1311\u001b[0m     \u001b[38;5;66;03m# re-raise KeyboardInterrupt, to truncate traceback\u001b[39;00m\n\u001b[1;32m   1312\u001b[0m     msg \u001b[38;5;241m=\u001b[39m \u001b[38;5;124m\"\u001b[39m\u001b[38;5;124mInterrupted by user\u001b[39m\u001b[38;5;124m\"\u001b[39m\n\u001b[0;32m-> 1313\u001b[0m     \u001b[38;5;28;01mraise\u001b[39;00m \u001b[38;5;167;01mKeyboardInterrupt\u001b[39;00m(msg) \u001b[38;5;28;01mfrom\u001b[39;00m \u001b[38;5;28;01mNone\u001b[39;00m\n\u001b[1;32m   1314\u001b[0m \u001b[38;5;28;01mexcept\u001b[39;00m \u001b[38;5;167;01mException\u001b[39;00m:\n\u001b[1;32m   1315\u001b[0m     \u001b[38;5;28mself\u001b[39m\u001b[38;5;241m.\u001b[39mlog\u001b[38;5;241m.\u001b[39mwarning(\u001b[38;5;124m\"\u001b[39m\u001b[38;5;124mInvalid Message:\u001b[39m\u001b[38;5;124m\"\u001b[39m, exc_info\u001b[38;5;241m=\u001b[39m\u001b[38;5;28;01mTrue\u001b[39;00m)\n",
      "\u001b[0;31mKeyboardInterrupt\u001b[0m: Interrupted by user"
     ]
    }
   ],
   "source": [
    "# write your code here\n",
    "import random    \n",
    "def welcome_game():\n",
    "    print(\"\"\"\n",
    "        1 - simple operations with numbers 2-9\n",
    "        2 - integral squares 11-29\"\"\")\n",
    "\n",
    "def get_random_number(start, end):\n",
    "    return random.randrange(start, end, 1)\n",
    "\n",
    "def calculate_result(first_number, operation, second_number):\n",
    "    if operation == '-':\n",
    "        return first_number - second_number \n",
    "    elif operation == '*':\n",
    "        return first_number * second_number \n",
    "    elif operation == '+':\n",
    "        return first_number + second_number \n",
    "\n",
    "def ask_question():\n",
    "    while True:\n",
    "        answer = input()\n",
    "        if not answer or not answer.replace('-', '').replace('+', '').replace('*', '').isdigit():\n",
    "                print(\"Incorrect format.\")\n",
    "        else:\n",
    "            return int(answer)\n",
    "\n",
    "\n",
    "def main():\n",
    "    count_game = 0\n",
    "    count_true = 0\n",
    "    welcome_game()\n",
    "    while True:\n",
    "        if ask_question() == 1:\n",
    "            while True:\n",
    "                first_number = get_random_number(2,9)\n",
    "                second_number = get_random_number(2,9)\n",
    "                symbol_dict = ['+','-','*']\n",
    "                operation = symbol_dict[get_random_number(0,3)]\n",
    "                print(first_number, operation, second_number)\n",
    "                calculation = calculate_result(first_number, operation, second_number)\n",
    "                if ask_question() == calculation:\n",
    "                    count_true += 1\n",
    "                    count_game += 1\n",
    "                    print(\"Right!\")\n",
    "                    if count_game == 5:\n",
    "                        print(f\"Your mark is {count_true}/5.\")\n",
    "                        break\n",
    "                else:\n",
    "                    print(\"Wrong!\")\n",
    "                    count_game += 1\n",
    "                    if count_game == 5:\n",
    "                        print(f\"Your mark is {count_true}/5.\")\n",
    "                        break\n",
    "        elif ask_question() == 2:\n",
    "            while True:\n",
    "                number_forsecond_question = get_random_number(11,29)\n",
    "                print(number_forsecond_question)\n",
    "                calculation_second_question = number_forsecond_question * number_forsecond_question\n",
    "                if ask_question() == calculation_second_question:\n",
    "                    print(\"Right\")\n",
    "                \n",
    "                else: \n",
    "                    break\n",
    "\n",
    "\n",
    "\n",
    "\n",
    "\n",
    "\n",
    "if __name__ == \"__main__\":\n",
    "    main()\n"
   ]
  },
  {
   "cell_type": "code",
   "execution_count": 2,
   "metadata": {},
   "outputs": [
    {
     "name": "stdout",
     "output_type": "stream",
     "text": [
      "\n",
      "        1 - Simple operations with numbers 2-9\n",
      "        2 - Integral squares 11-29\n",
      "19\n",
      "Wrong!\n",
      "Wrong!\n",
      "Wrong!\n",
      "Wrong!\n",
      "Wrong!\n",
      "Your mark is 0/5.\n",
      "Exiting the program.\n"
     ]
    }
   ],
   "source": [
    "import random\n",
    "\n",
    "\n",
    "def welcome_game():\n",
    "    print(\"\"\"\n",
    "        1 - Simple operations with numbers 2-9\n",
    "        2 - Integral squares 11-29\"\"\")\n",
    "\n",
    "\n",
    "def get_random_number(start, end):\n",
    "    return random.randint(start, end)\n",
    "\n",
    "\n",
    "def calculate_result(first_number, operation, second_number):\n",
    "    if operation == '-':\n",
    "        return first_number - second_number\n",
    "    elif operation == '*':\n",
    "        return first_number * second_number\n",
    "    elif operation == '+':\n",
    "        return first_number + second_number\n",
    "\n",
    "\n",
    "def ask_question():\n",
    "    while True:\n",
    "        answer = input()\n",
    "        if not answer or not answer.replace('-', '').replace('+', '').replace('*', '').isdigit():\n",
    "            print(\"Incorrect format.\")\n",
    "        else:\n",
    "            return int(answer)\n",
    "\n",
    "\n",
    "def save_to_file(name, score, operation):\n",
    "    with open(\"results.txt\", \"a\") as text_file:\n",
    "        text_file.write(f'{name}: {score} in level {operation}\\n')\n",
    "    print(\"The results are saved in results.txt\")\n",
    "\n",
    "\n",
    "def generate_question(level):\n",
    "    if level == 1:\n",
    "        first_number = get_random_number(2, 9)\n",
    "        second_number = get_random_number(2, 9)\n",
    "        symbol_dict = ['+', '-', '*']\n",
    "        operation = random.choice(symbol_dict)\n",
    "        print(first_number, operation, second_number)\n",
    "        return calculate_result(first_number, operation, second_number)\n",
    "    elif level == 2:\n",
    "        number_for_second_question = get_random_number(11, 30)\n",
    "        print(number_for_second_question)\n",
    "        return number_for_second_question * number_for_second_question\n",
    "\n",
    "\n",
    "def main():\n",
    "    welcome_game()\n",
    "    count_game = 0\n",
    "    count_true = 0\n",
    "    while True:\n",
    "        question = ask_question()\n",
    "        calculation = generate_question(question)\n",
    "        answer = ask_question()\n",
    "        if answer == calculation:\n",
    "            count_true += 1\n",
    "            print(\"Right!\")\n",
    "        else:\n",
    "            print(\"Wrong!\")\n",
    "        count_game += 1\n",
    "        if count_game == 5:\n",
    "            print(f\"Your mark is {count_true}/5.\")\n",
    "            save_or_not = input(\"Would you like to save your result to the file? Enter yes or no.\")\n",
    "            if save_or_not.lower() in ['yes', 'y']:\n",
    "                name = input(\"What is your name?\")\n",
    "                save_to_file(name, f'{count_true}/5', '1 (simple operations with numbers 2-9).' if question == 1 else\n",
    "                             '2 (integral squares of 11-29)')\n",
    "            else:\n",
    "                print(\"Exiting the program.\")\n",
    "                break\n",
    "\n",
    "\n",
    "if __name__ == \"__main__\":\n",
    "    main()\n"
   ]
  }
 ],
 "metadata": {
  "kernelspec": {
   "display_name": "base",
   "language": "python",
   "name": "python3"
  },
  "language_info": {
   "codemirror_mode": {
    "name": "ipython",
    "version": 3
   },
   "file_extension": ".py",
   "mimetype": "text/x-python",
   "name": "python",
   "nbconvert_exporter": "python",
   "pygments_lexer": "ipython3",
   "version": "3.11.5"
  }
 },
 "nbformat": 4,
 "nbformat_minor": 2
}
