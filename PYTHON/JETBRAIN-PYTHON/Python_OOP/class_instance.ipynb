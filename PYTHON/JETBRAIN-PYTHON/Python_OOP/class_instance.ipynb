{
 "cells": [
  {
   "attachments": {},
   "cell_type": "markdown",
   "metadata": {},
   "source": [
    "## Class instances\n",
    "\n",
    "let's get into the details about class instances.\n",
    "\n",
    "A class instance is an object of the class. If, for example, there was a class River, we could create such instances as Volga, Seine, and Nile. They would all have the same structure and share all class attributes defined within the class River.\n",
    "\n",
    "However, initially, all instances of the class would be identical to one another. Most of the time that is not what we want. To customize the initial state of an instance, the __init__ method is used.\n",
    "\n"
   ]
  },
  {
   "attachments": {},
   "cell_type": "markdown",
   "metadata": {},
   "source": [
    "## 1) def __init__\n",
    "The __init__ method is a constructor. Constructors are a concept from the object-oriented programming. A class can have one and only one constructor. If __init__ is defined within a class, it is automatically invoked when we create a new class instance. Take our class River as an example:"
   ]
  },
  {
   "cell_type": "code",
   "execution_count": 3,
   "metadata": {},
   "outputs": [
    {
     "name": "stdout",
     "output_type": "stream",
     "text": [
      "3530 Volga\n",
      "776 Seine\n",
      "6852 Nile\n"
     ]
    }
   ],
   "source": [
    "class River:\n",
    "    # list of all rivers\n",
    "    all_rivers = []\n",
    "    \n",
    "    def __init__(self, name, length):\n",
    "        self.name = name\n",
    "        self.length = length\n",
    "        # add current river to the list of all rivers\n",
    "        River.all_rivers.append(self)\n",
    "\n",
    "volga = River(\"Volga\", 3530)\n",
    "seine = River(\"Seine\", 776)\n",
    "nile = River(\"Nile\", 6852)\n",
    "\n",
    "# print all river names\n",
    "for river in River.all_rivers:\n",
    "    print(river.length, river.name)\n",
    "# Output:\n",
    "# Volga\n",
    "# Seine\n",
    "# Nile\n"
   ]
  },
  {
   "attachments": {},
   "cell_type": "markdown",
   "metadata": {},
   "source": [
    "We created three instances (or objects) of the class River: volga, seine, and nile. Since we defined name and length parameters for the __init__, they must be explicitly passed when creating new instances. So something like volga = River() would cause an error. Look at this visualization of the code to see how it works almost in real-time!\n",
    "\n",
    "The ```__init__``` method specifies what attributes we want the instances of our class to have from the very beginning. In our example, they are name and length."
   ]
  },
  {
   "attachments": {},
   "cell_type": "markdown",
   "metadata": {},
   "source": [
    "### 2) self\n",
    "\n",
    "You may have noticed that our __init__ method had another argument besides name and length: self. The self argument represents a particular instance of the class and allows us to access its attributes and methods. In the example with __init__, we basically create attributes for the particular instance and assign the values of method arguments to them. It is important to use the self parameter inside the method if we want to save the values of the instance for later use.\n",
    "\n",
    "Most of the time we also need to write the self parameter in other methods because when the method is called the first argument that is passed to the method is the object itself. Let's add a method to our River class and see how it works. The syntax of the methods is not of importance at the moment, just pay attention to the use of the self:"
   ]
  },
  {
   "cell_type": "code",
   "execution_count": null,
   "metadata": {},
   "outputs": [],
   "source": [
    "class River:\n",
    "    all_rivers = []\n",
    "\n",
    "    def __init__(self, name, length):\n",
    "        self.name = name\n",
    "        self.length = length\n",
    "        River.all_rivers.append(self)\n",
    "\n",
    "    def get_info(self):\n",
    "        print(\"The length of the {0} is {1} km\".format(self.name, self.length))"
   ]
  },
  {
   "attachments": {},
   "cell_type": "markdown",
   "metadata": {},
   "source": [
    "Now if we call this method with the objects we've created we will get this:\n",
    "\n"
   ]
  },
  {
   "cell_type": "code",
   "execution_count": null,
   "metadata": {},
   "outputs": [],
   "source": [
    "volga.get_info()\n",
    "# The length of the Volga is 3530 km\n",
    "seine.get_info()\n",
    "# The length of the Seine is 776 km\n",
    "nile.get_info()\n",
    "# The length of the Nile is 6852 km"
   ]
  },
  {
   "attachments": {},
   "cell_type": "markdown",
   "metadata": {},
   "source": [
    "As you can see, for each object the get_info() method printed its particular values and that was possible because we used the self keyword in the method.\n",
    "\n",
    "Note that when we actually call an object's method we don't write the self argument in the brackets. The self parameter (that represents a particular instance of the class) is passed to the instance method implicitly when it is called. So there are actually two ways to call an instance method: self.method() or class.method(self). In our example it would look like this:"
   ]
  },
  {
   "cell_type": "code",
   "execution_count": null,
   "metadata": {},
   "outputs": [],
   "source": [
    "# self.method()\n",
    "volga.get_info()\n",
    "# The length of the Volga is 3530 km\n",
    "\n",
    "# class.method(self)\n",
    "River.get_info(volga)\n",
    "# The length of the Volga is 3530 km"
   ]
  },
  {
   "attachments": {},
   "cell_type": "markdown",
   "metadata": {},
   "source": [
    "### 3) Instance attributes \n",
    "Classes in Python have two types of attributes: class attributes and instance attributes. You should already know what class attributes are, so here we'll focus on the instance attributes instead. Instance attributes are defined within methods and they store instance-specific information.\n",
    "\n",
    "In the class River, the attributes name and length are instance attributes since they are defined within a method ```(__init__)``` and have self before them. Usually, instance attributes are created within the ```__init__``` method since it's the constructor, but you can define instance attributes in other methods as well. However, it's not recommended so we advise you to stick to the ```__init__```.\n",
    "\n",
    "Instance attributes are available only from the scope of the object which is why this code will produce a mistake:"
   ]
  },
  {
   "cell_type": "code",
   "execution_count": null,
   "metadata": {},
   "outputs": [],
   "source": [
    "print(River.name)  # AttributeError\n"
   ]
  },
  {
   "attachments": {},
   "cell_type": "markdown",
   "metadata": {},
   "source": [
    "Instance attributes, naturally, are used to distinguish objects: their values are different for different instances.\n",
    "\n"
   ]
  },
  {
   "cell_type": "code",
   "execution_count": null,
   "metadata": {},
   "outputs": [],
   "source": [
    "volga.name  # \"Volga\"\n",
    "seine.name  # \"Seine\"\n",
    "nile.name   # \"Nile\""
   ]
  },
  {
   "attachments": {},
   "cell_type": "markdown",
   "metadata": {},
   "source": [
    "So when deciding which attributes to choose in your program, you should first decide whether you want it to store values unique to each object of the class or, on the contrary, the ones shared by all instances."
   ]
  },
  {
   "cell_type": "code",
   "execution_count": 7,
   "metadata": {},
   "outputs": [
    {
     "name": "stdout",
     "output_type": "stream",
     "text": [
      "VAkcora1996\n"
     ]
    }
   ],
   "source": [
    "class Student:\n",
    "\n",
    "    def __init__(self, name, last_name, birth_year):\n",
    "        self.name = name\n",
    "        self.last_name = last_name\n",
    "        self.birth_year = birth_year\n",
    "\n",
    "    def student_id(self):\n",
    "        name = self.name[0]\n",
    "        print(name + self.last_name + self.birth_year)\n",
    "\n",
    "get_input_name = input()\n",
    "get_input_last_name = input()\n",
    "get_input_year = input()\n",
    "\n",
    "student_id = Student(get_input_name,get_input_last_name,get_input_year)\n",
    "student_id.student_id()\n"
   ]
  },
  {
   "cell_type": "code",
   "execution_count": null,
   "metadata": {},
   "outputs": [],
   "source": [
    "class RightTriangle:\n",
    "    def __init__(self, input_c, input_a, input_b):\n",
    "        # Check if the given sides form a right triangle\n",
    "        if input_c ** 2 == input_a ** 2 + input_b ** 2:\n",
    "            self.input_c = input_c\n",
    "            self.input_a = input_a\n",
    "            self.input_b = input_b\n",
    "            self.area = self.calculate_area()\n",
    "        else:\n",
    "            self.area = None\n",
    "\n",
    "    def calculate_area(self):\n",
    "        # Calculate the area using the formula\n",
    "        return 0.5 * self.input_a * self.input_b\n",
    "\n",
    "# Read input values\n",
    "input_c, input_a, input_b = map(int, input().split())\n",
    "\n",
    "# Create an instance of the RightTriangle class\n",
    "triangle = RightTriangle(input_c, input_a, input_b)\n",
    "\n",
    "# Check if the triangle is right and print the area or \"Not right\"\n",
    "if triangle.area is not None:\n",
    "    print(\"{:.1f}\".format(triangle.area))\n",
    "else:\n",
    "    print(\"Not right\")\n"
   ]
  }
 ],
 "metadata": {
  "kernelspec": {
   "display_name": "base",
   "language": "python",
   "name": "python3"
  },
  "language_info": {
   "codemirror_mode": {
    "name": "ipython",
    "version": 3
   },
   "file_extension": ".py",
   "mimetype": "text/x-python",
   "name": "python",
   "nbconvert_exporter": "python",
   "pygments_lexer": "ipython3",
   "version": "3.11.4"
  },
  "orig_nbformat": 4
 },
 "nbformat": 4,
 "nbformat_minor": 2
}
