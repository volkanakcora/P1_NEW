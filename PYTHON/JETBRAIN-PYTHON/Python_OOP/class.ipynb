{
 "cells": [
  {
   "attachments": {},
   "cell_type": "markdown",
   "metadata": {},
   "source": [
    "# Class\n",
    "\n",
    "As you already know, object-oriented programming (OOP) is a programming paradigm that is based on the concept of objects. Objects interact with each other and that is how the program functions. Objects have states and behaviors. Many objects can have similar characteristics and if you need to work with them in your program it may be easier to create a class for similar objects. Classes represent the common structure of similar objects: their data and their behavior."
   ]
  },
  {
   "attachments": {},
   "cell_type": "markdown",
   "metadata": {},
   "source": [
    "### 1) Declaring classes\n",
    "Classes are declared with the keyword class and the name of the class:\n",
    "\n"
   ]
  },
  {
   "cell_type": "code",
   "execution_count": null,
   "metadata": {},
   "outputs": [],
   "source": [
    "# class syntax\n",
    "class MyClass:\n",
    "    var = ...  # some variable\n",
    "\n",
    "    def do_smt(self):\n",
    "    # some method"
   ]
  },
  {
   "attachments": {},
   "cell_type": "markdown",
   "metadata": {},
   "source": [
    "Generally, a class name starts with a capital letter and it is usually a noun or a noun phrase. The names of the classes follow the CapWords convention: meaning that if it's a phrase, all words in the phrase are capitalized and written without underscores between them."
   ]
  },
  {
   "cell_type": "code",
   "execution_count": null,
   "metadata": {},
   "outputs": [],
   "source": [
    "# good class name\n",
    "class MyClass:\n",
    "    ...\n",
    "\n",
    "# not so good class name:\n",
    "class My_class:\n",
    "    ..."
   ]
  },
  {
   "attachments": {},
   "cell_type": "markdown",
   "metadata": {},
   "source": [
    "Classes allow you to define the data and the behaviors of similar objects. The behavior is described by methods. A method is similar to a function in that it is a block of code that has a name and performs a certain action. Methods, however, are not independent since they are defined within a class. Data within classes are stored in the attributes (variables) and there are two kinds of them: ```class attributes``` and ```instance attributes```. The difference between those two will be explained below."
   ]
  },
  {
   "attachments": {},
   "cell_type": "markdown",
   "metadata": {},
   "source": [
    "### 2) Class attribute\n",
    "A class attribute is an attribute shared by all instances of the class. Let's consider the class Book as an example:\n",
    "\n"
   ]
  },
  {
   "cell_type": "code",
   "execution_count": null,
   "metadata": {},
   "outputs": [],
   "source": [
    "# Book class\n",
    "class Book:\n",
    "    material = \"paper\"\n",
    "    cover = \"paperback\"\n",
    "    all_books = []"
   ]
  },
  {
   "attachments": {},
   "cell_type": "markdown",
   "metadata": {},
   "source": [
    "This class has a string variable material with the value \"paper\", a string variable cover with the value \"paperback\" and an empty list as an attribute all_books. All those variables are class attributes and they can be accessed using the dot notation with the name of the class:"
   ]
  },
  {
   "cell_type": "code",
   "execution_count": null,
   "metadata": {},
   "outputs": [],
   "source": [
    "Book.material  # \"paper\"\n",
    "Book.cover  # \"paperback\"\n",
    "Book.all_books  # []"
   ]
  },
  {
   "attachments": {},
   "cell_type": "markdown",
   "metadata": {},
   "source": [
    "```Class attributes``` are defined within the class but outside of any methods. Their value is the same for all instances of that class so you could consider them as the sort of \"default\" values for all objects.\n",
    "As for the ```instance variables```, they store the data unique to each object of the class. They are defined within the class methods, notably, within the __init__ method. In this topic, we'll deal with the class attributes, but don't worry – you'll have plenty of time to learn more about instance attributes."
   ]
  },
  {
   "attachments": {},
   "cell_type": "markdown",
   "metadata": {},
   "source": [
    "### 3) Class instance\n",
    "Now, let's create an instance of a Book class. For that we would need to execute this code:\n",
    "Here we not only created an instance of a Book class but also assigned it to the variable my_book. The syntax of instantiating a class object resembles a function call: after the class name, we write parentheses.\n",
    "\n",
    "Our my_book object has access to the contents of the class Book: its attributes and methods.\n",
    "\n",
    "\n"
   ]
  },
  {
   "cell_type": "code",
   "execution_count": 1,
   "metadata": {},
   "outputs": [
    {
     "ename": "NameError",
     "evalue": "name 'Book' is not defined",
     "output_type": "error",
     "traceback": [
      "\u001b[0;31m---------------------------------------------------------------------------\u001b[0m",
      "\u001b[0;31mNameError\u001b[0m                                 Traceback (most recent call last)",
      "Cell \u001b[0;32mIn[1], line 2\u001b[0m\n\u001b[1;32m      1\u001b[0m \u001b[39m# Book instance\u001b[39;00m\n\u001b[0;32m----> 2\u001b[0m my_book \u001b[39m=\u001b[39m Book()\n",
      "\u001b[0;31mNameError\u001b[0m: name 'Book' is not defined"
     ]
    }
   ],
   "source": [
    "# Book instance\n",
    "my_book = Book()"
   ]
  },
  {
   "cell_type": "code",
   "execution_count": null,
   "metadata": {},
   "outputs": [],
   "source": [
    "print(my_book.material)  # \"paper\"\n",
    "print(my_book.cover)  # \"paperback\"\n",
    "print(my_book.all_books)  # []"
   ]
  }
 ],
 "metadata": {
  "kernelspec": {
   "display_name": "base",
   "language": "python",
   "name": "python3"
  },
  "language_info": {
   "codemirror_mode": {
    "name": "ipython",
    "version": 3
   },
   "file_extension": ".py",
   "mimetype": "text/x-python",
   "name": "python",
   "nbconvert_exporter": "python",
   "pygments_lexer": "ipython3",
   "version": "3.11.4"
  },
  "orig_nbformat": 4
 },
 "nbformat": 4,
 "nbformat_minor": 2
}
