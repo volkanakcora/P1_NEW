{
 "cells": [
  {
   "attachments": {},
   "cell_type": "markdown",
   "metadata": {},
   "source": [
    "## METHODS \n",
    "If attributes define the data that the objects of a particular class have, the methods define their behavior. Python has several types of methods that you can create within a class but, in this topic, we will focus on the instance methods."
   ]
  },
  {
   "attachments": {},
   "cell_type": "markdown",
   "metadata": {},
   "source": [
    "### 1) Method syntax\n",
    "Methods define the functionality of the objects that belong to the particular class. The basic syntax looks like this:"
   ]
  },
  {
   "cell_type": "code",
   "execution_count": null,
   "metadata": {},
   "outputs": [],
   "source": [
    "# basic method syntax\n",
    "class MyClass:\n",
    "    # the constructor\n",
    "    def __init__(self, arg1):\n",
    "        self.att = arg1\n",
    "\n",
    "    # custom method\n",
    "    def do_smt(self):\n",
    "        # does something"
   ]
  },
  {
   "attachments": {},
   "cell_type": "markdown",
   "metadata": {},
   "source": [
    "You can see that declaring a method resembles declaring a function: we have the keyword def followed by the name of the method. The parameters of the method are written inside the parentheses.\n",
    "\n",
    "The first parameter of the method should always be self. You may remember that self represents the particular instance of the class. When it comes to instance methods, the first parameter that is passed to the method is the instance that called it. Let's create an instance of MyClass and see how this works:"
   ]
  },
  {
   "cell_type": "code",
   "execution_count": null,
   "metadata": {},
   "outputs": [],
   "source": [
    "my_object = MyClass(some_value)\n",
    "# calling the instance method\n",
    "my_object.do_smt()\n",
    "# my_object does something\n"
   ]
  },
  {
   "attachments": {},
   "cell_type": "markdown",
   "metadata": {},
   "source": [
    "In this example, the my_object instance is passed implicitly so we do not write the parameter in the code. We can, however, pass the instance explicitly"
   ]
  },
  {
   "cell_type": "code",
   "execution_count": null,
   "metadata": {},
   "outputs": [],
   "source": [
    "MyClass.do_smt(my_object)\n",
    "# my_object does the same thing"
   ]
  },
  {
   "attachments": {},
   "cell_type": "markdown",
   "metadata": {},
   "source": [
    "These examples clearly illustrate why self has to be the first argument of the instance methods. If you want your method to have other parameters, just write them after the self keyword!"
   ]
  },
  {
   "attachments": {},
   "cell_type": "markdown",
   "metadata": {},
   "source": [
    "### 2) Methods vs Functions\n",
    "Though they are quite similar, Python does make a distinction between methods and functions. To quote the official documentation, \"a method is a function that 'belongs to' an object.\" Since we're interested in OOP, we'll specifically be looking at methods associated with class instances.\n",
    "\n",
    "Let's consider an example:\n"
   ]
  },
  {
   "cell_type": "code",
   "execution_count": null,
   "metadata": {},
   "outputs": [],
   "source": [
    "# class and its methods\n",
    "class Ship:\n",
    "    def __init__(self, name, capacity):\n",
    "        self.name = name\n",
    "        self.capacity = capacity\n",
    "        self.cargo = 0\n",
    "\n",
    "    def sail(self):\n",
    "        print(\"{} has sailed!\".format(self.name))\n",
    "\n",
    "\n",
    "# function\n",
    "def sail_function(name):\n",
    "    print(\"{} has sailed!\".format(name))"
   ]
  },
  {
   "attachments": {},
   "cell_type": "markdown",
   "metadata": {},
   "source": [
    "What is of interest to us here is the method sail of the class Ship and the function sail_function. Let's call them:"
   ]
  },
  {
   "cell_type": "code",
   "execution_count": null,
   "metadata": {},
   "outputs": [],
   "source": [
    "# creating an instance of the class Ship\n",
    "# and calling the method sail\n",
    "black_pearl = Ship(\"Black Pearl\", 800)\n",
    "black_pearl.sail()\n",
    "# prints \"Black Pearl has sailed!\"\n",
    "\n",
    "\n",
    "# calling the function sail_function\n",
    "sail_function(black_pearl.name)\n",
    "# also prints \"Black Pearl has sailed!\""
   ]
  },
  {
   "attachments": {},
   "cell_type": "markdown",
   "metadata": {},
   "source": [
    "The way that we've defined them, both our method and our function produce the same results but in a different way. A method is connected to an object of the class, it is not independent the way a function is. Sure they are both called by their names, but to call a method we need to invoke the class that this method belongs to."
   ]
  },
  {
   "attachments": {},
   "cell_type": "markdown",
   "metadata": {},
   "source": [
    "### 3) Return\n",
    "\n",
    "So far the method hasn't returned any values since we only used the print() function. Obviously, just as with functions, we can define what type of data the method can return with the return statement. For example, let's create a method that calculates how many kilograms of cargo the ship has (initially, the weight of the cargo is given in tonnes):\n"
   ]
  },
  {
   "cell_type": "code",
   "execution_count": 1,
   "metadata": {},
   "outputs": [],
   "source": [
    "class Ship:\n",
    "    # other methods\n",
    "    \n",
    "    def convert_cargo(self):\n",
    "        return self.cargo * 1000"
   ]
  },
  {
   "attachments": {},
   "cell_type": "markdown",
   "metadata": {},
   "source": [
    "The method is simple: it converts the tonnes into kilograms (by multiplying it by 1000) and then returns the calculated value. If we were to call it, we wouldn't get any messages unless we explicitly printed the result of the function:"
   ]
  },
  {
   "cell_type": "code",
   "execution_count": null,
   "metadata": {},
   "outputs": [],
   "source": [
    "print(black_pearl.convert_cargo())  # 0\n"
   ]
  },
  {
   "attachments": {},
   "cell_type": "markdown",
   "metadata": {},
   "source": [
    "Since we haven't changed the default value of the cargo attribute, the method would return 0 multiplied by 1000, which is also 0."
   ]
  }
 ],
 "metadata": {
  "kernelspec": {
   "display_name": "base",
   "language": "python",
   "name": "python3"
  },
  "language_info": {
   "codemirror_mode": {
    "name": "ipython",
    "version": 3
   },
   "file_extension": ".py",
   "mimetype": "text/x-python",
   "name": "python",
   "nbconvert_exporter": "python",
   "pygments_lexer": "ipython3",
   "version": "3.11.4"
  },
  "orig_nbformat": 4
 },
 "nbformat": 4,
 "nbformat_minor": 2
}
