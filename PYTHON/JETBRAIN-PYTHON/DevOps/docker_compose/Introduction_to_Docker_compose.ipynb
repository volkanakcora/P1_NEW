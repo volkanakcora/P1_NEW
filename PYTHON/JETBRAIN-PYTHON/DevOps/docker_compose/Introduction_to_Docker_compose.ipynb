{
 "cells": [
  {
   "cell_type": "markdown",
   "metadata": {},
   "source": [
    "# Docker Compose\n",
    "Docker Compose is a tool that can define and run multi-container docker applications. It uses a YAML file called docker-compose.yml to define the configuration for your application's services, networks, and volumes. This file can then be used to spin up all of the containers in the application with a single command — ```docker compose up```. Similarly, you can use the``` docker compose down``` command to stop and remove the containers created by Docker Compose."
   ]
  },
  {
   "cell_type": "markdown",
   "metadata": {},
   "source": [
    "### Compose example\n",
    "Let's dive into an example to clarify how docker-compose works. "
   ]
  },
  {
   "cell_type": "code",
   "execution_count": null,
   "metadata": {
    "vscode": {
     "languageId": "yaml"
    }
   },
   "outputs": [],
   "source": [
    "version: '3'\n",
    "services:\n",
    "  web:\n",
    "    image: nginx\n",
    "    ports:\n",
    "      - \"8020:80\"\n",
    "    volumes:\n",
    "      - ./web:/usr/share/nginx/html\n",
    "    db:\n",
    "      image: postgres\n",
    "      environment:\n",
    "        POSTGRES_USER: admin\n",
    "        POSTGRES_PASSWORD: admin\n",
    "        POSTGRES_DB: test_db\n",
    "    app:\n",
    "      image: my-custom-website\n",
    "      environment:\n",
    "        DATABASE_URL: postgres://admin:admin@db:4321/test_db\n",
    "        depends_on:\n",
    "          - db\n"
   ]
  },
  {
   "cell_type": "markdown",
   "metadata": {},
   "source": [
    "## Structure of docker compose\n",
    "```\n",
    "version: \"3\"\n",
    "services:\n",
    "  myapp:\n",
    "    image: node:14\n",
    "    ports:\n",
    "      - \"3000:3000\"\n",
    "    volumes:\n",
    "      - ./app:/app\n",
    "```"
   ]
  },
  {
   "cell_type": "code",
   "execution_count": null,
   "metadata": {},
   "outputs": [],
   "source": []
  }
 ],
 "metadata": {
  "language_info": {
   "name": "python"
  }
 },
 "nbformat": 4,
 "nbformat_minor": 2
}
