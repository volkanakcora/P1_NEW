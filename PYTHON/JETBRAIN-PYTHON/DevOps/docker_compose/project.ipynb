{
 "cells": [
  {
   "cell_type": "markdown",
   "metadata": {},
   "source": [
    "# NoSQL\n",
    "Description\n",
    "To incorporate MongoDB as the storage for this project, create the docker-compose.yaml file that launches the MongoDB service using the official Mongo image.\n",
    "\n",
    "- Please navigate and work in the task-manager directory for upcoming tasks. The Docker files, the primary application, and the API documentation are there. You need to run stage-specific commands inside that directory.\n",
    "- Objectives\n",
    "- - In the docker-compose.yaml file, define the file syntax version as 3.1;\n",
    "- - Define one service with the attributes below:\n",
    "- - Define the service with the mongodb name;\n",
    "- - Use the official mongo:6.0.8 image;\n",
    "- - Define a container name with the hyper-mongo value;\n",
    "- - Map the host port as 27027 to the container port 27017;\n",
    "- - Define the MONGO_INITDB_ROOT_USERNAMEenvironment variable with the ${MONGO_INITDB_ROOT_USERNAME}value;\n",
    "- - Define the MONGO_INITDB_ROOT_PASSWORD environment variable with the ${MONGO_INITDB_ROOT_PASSWORD} value;\n",
    "- - Define the env_file option for the .env file."
   ]
  },
  {
   "cell_type": "code",
   "execution_count": null,
   "metadata": {
    "vscode": {
     "languageId": "yaml"
    }
   },
   "outputs": [],
   "source": [
    "version: '3.1'\n",
    "\n",
    "services:\n",
    "  mongodb:\n",
    "    image: mongo:6.0.8\n",
    "    container_name: hyper-mongo\n",
    "    ports:\n",
    "      - \"27027:27017\"\n",
    "    environment:\n",
    "      MONGO_INITDB_ROOT_USERNAME: ${MONGO_INITDB_ROOT_USERNAME}\n",
    "      MONGO_INITDB_ROOT_PASSWORD: ${MONGO_INITDB_ROOT_PASSWORD}\n",
    "    env_file:\n",
    "      - .env\n"
   ]
  },
  {
   "cell_type": "markdown",
   "metadata": {},
   "source": [
    "## Network & volume\n",
    "#### Description\n",
    "To be ready for further expansion with multiple services, it is common practice to define networks and volumes in docker-compose, even if there is currently only one service. Let's modify the docker-compose.yaml file by adding a network and a permanent volume for the service.\n",
    "\n",
    "- Objectives\n",
    "- - Define the volume with the mongo-data name;\n",
    "- - Define the network with the hyper-task-manager-network name;\n",
    "- - Add the network to the mongodb service.\n",
    "- - Add the volume to the mongodb service and map it to the container's /data/db directory."
   ]
  },
  {
   "cell_type": "code",
   "execution_count": null,
   "metadata": {
    "vscode": {
     "languageId": "yaml"
    }
   },
   "outputs": [],
   "source": [
    "version: '3.1'\n",
    "\n",
    "services:\n",
    "  mongodb:\n",
    "    image: mongo:6.0.8\n",
    "    container_name: hyper-mongo\n",
    "    ports:\n",
    "      - \"27027:27017\"\n",
    "    environment:\n",
    "      MONGO_INITDB_ROOT_USERNAME: ${MONGO_INITDB_ROOT_USERNAME}\n",
    "      MONGO_INITDB_ROOT_PASSWORD: ${MONGO_INITDB_ROOT_PASSWORD}\n",
    "    env_file:\n",
    "      - .env\n",
    "    networks:\n",
    "      - hyper-task-manager-network\n",
    "    volumes:\n",
    "      - mongo-data:/data/db\n",
    "\n",
    "networks:\n",
    "  hyper-task-manager-network: null\n",
    "\n",
    "\n",
    "volumes:\n",
    "  mongo-data: null\n",
    "\n"
   ]
  },
  {
   "cell_type": "markdown",
   "metadata": {},
   "source": [
    "### Task manager\n",
    "Description\n",
    "In this stage, integrate the main application as an additional service. To accomplish this, use the provided Dockerfile located in the project directory. Use the relevant command leveraging the Dockerfile to construct an image encompassing the main application. Subsequently, define the essential environment variables that your application will utilize. Please adhere to the following objectives to complete your assigned tasks.\n",
    "\n",
    "- Objectives\n",
    "- - Add another service to the docker-compose.yaml file with the attributes below;\n",
    "- - Define the service with the hyper-service name;\n",
    "- - Add the command to build the image for your service;\n",
    "- - Define the container name with the hyper-task-manager value;\n",
    "- - Define the MONGO_INITDB_ROOT_USERNAME environment variable with the ${MONGO_INITDB_ROOT_USERNAME} value;\n",
    "- - Define the MONGO_INITDB_ROOT_PASSWORD environment variable with the ${MONGO_INITDB_ROOT_PASSWORD} value;\n",
    "- - Define the MONGO_HOST_NAME environment variable with the mongodb value;\n",
    "- - Define the MONGO_PORT_NUMBER environment variable with the 27017 value;\n",
    "- - Define the env_file option for the .env file."
   ]
  }
 ],
 "metadata": {
  "language_info": {
   "name": "python"
  }
 },
 "nbformat": 4,
 "nbformat_minor": 2
}
