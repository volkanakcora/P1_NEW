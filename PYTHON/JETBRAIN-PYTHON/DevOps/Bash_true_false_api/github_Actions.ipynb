{
 "cells": [
  {
   "cell_type": "markdown",
   "metadata": {},
   "source": [
    "# Workflow syntax\n",
    "To get started using GitHub Actions, we need to add a folder to the root of the GitHub repository.\n",
    "\n",
    ".github/workflows\n",
    "\n",
    "The workflow directory will contain the YAML files.\n",
    "\n",
    "We can also go to the remote repository and go to the actions tab to create the workflow files directly.\n",
    "\n",
    "YAML uses a fixed indentation scheme to represent relationships between data layers."
   ]
  },
  {
   "cell_type": "code",
   "execution_count": null,
   "metadata": {
    "vscode": {
     "languageId": "yaml"
    }
   },
   "outputs": [],
   "source": [
    "# your-repo-name/.github/workflows/first_workflow.yml\n",
    "\n",
    "name: First Workflow    \n",
    "                                         \n",
    "on: push   \n",
    "                                               \n",
    "jobs:\n",
    "                         \n",
    "  first-job:                           \n",
    "    name: Name of first step                    \n",
    "    runs-on: ubuntu-latest                           \n",
    "    steps:\n",
    "\n",
    "      #step 1                           \n",
    "      - name: Print a greeting                             \n",
    "        run: echo Hi from our first workflow!\n",
    "\n",
    "      #step 2 \n",
    "      - uses: actions/checkout@v2.3.4    \n",
    "     \n",
    "  second-job:\n",
    "    strategy:\n",
    "      matrix:\n",
    "        runtimes: [10, 12, 14]\n",
    "        os_version: [ubuntu-latest, windows-latest]\n",
    "    runs-on: ${{ matrix.os_version}}\n",
    "    steps:\n",
    "      - uses: actions/setup-node@v3\n",
    "        with:\n",
    "          node-version: ${{ matrix.version }}"
   ]
  },
  {
   "cell_type": "markdown",
   "metadata": {},
   "source": [
    "The name of our workflow is First Workflow and our workflow is triggered by the push event. We have jobs that make the workflow.\n",
    "\n",
    "In the first job, the following terms are laid out as follows:\n",
    "\n",
    "- runs-on: the machine each job should run\n",
    "- steps: the tasks each job should run\n",
    "- run: the command the step should run\n",
    "- uses: signature of the action we want to use from the GitHub marketplace"
   ]
  },
  {
   "cell_type": "markdown",
   "metadata": {},
   "source": [
    "# Adding actions to your own repository\n",
    "To begin, you need to create a new GitHub repository. This repository should contain a text file, with the name hello.txt. Inside the file, paste the following line:\n",
    "\n",
    "Hello world from github"
   ]
  },
  {
   "cell_type": "markdown",
   "metadata": {},
   "source": [
    "then create folder: \n",
    "```mkdir .github/workflows```"
   ]
  },
  {
   "cell_type": "markdown",
   "metadata": {},
   "source": [
    "Let's name the workflow; hello_workflow.yaml.\n",
    "\n",
    "Then paste the following template inside hello_workflow.yaml."
   ]
  },
  {
   "cell_type": "code",
   "execution_count": null,
   "metadata": {
    "vscode": {
     "languageId": "yaml"
    }
   },
   "outputs": [],
   "source": [
    "name: hello_workflow\n",
    "on: [push]\n",
    "jobs:\n",
    "  print-hello:\n",
    "    runs-on: ubuntu-latest\n",
    "    steps:\n",
    "      - uses: actions/checkout@v3\n",
    "      - name: Hello world using echo\n",
    "        run: echo \"$(<hello.txt)\"\n",
    "      - name: Hello world using cat\n",
    "        run: cat hello.txt"
   ]
  },
  {
   "cell_type": "markdown",
   "metadata": {},
   "source": [
    "Now you can push your local repository to GitHub. The workflow file gets triggered when you push the code:\n",
    "\n",
    "- git add .\n",
    "- git commit -m \"Added an initial Github Action\"\n",
    "- git push"
   ]
  },
  {
   "cell_type": "markdown",
   "metadata": {},
   "source": [
    "# Using external workflows\n",
    "\n",
    "GitHub Actions provides us with the advantage of reusing actions to automate processes rather than having to write each and every step from scratch.\n",
    "\n",
    "You can use a reusable action in another workflow in any of the following scenarios:\n",
    "\n",
    "- As private reusable actions where both the workflows exist in the same repository.\n",
    "- As public reusable actions where the actions are available in GitHub Actions Marketplace.\n",
    "\n",
    "\n",
    "### How to reference a public action?\n",
    "\n",
    "There are ready-made actions available in the GitHub Actions Marketplace. They are contributed by the community to make building workflows easier. To access these actions from the marketplace, use the following keywords:\n",
    "\n",
    "- uses : This value takes the format of action-name/version or github-repo-owner/repo-name.\n",
    "- with : The value is an input if the action requires one.\n",
    "There are several ways to reference a public action from the marketplace.\n",
    "\n",
    "- Referencing a branch\n",
    "- Referencing a version\n",
    "- Referencing a commit\n",
    "This is the basic format for referencing a public action:"
   ]
  },
  {
   "cell_type": "code",
   "execution_count": null,
   "metadata": {
    "vscode": {
     "languageId": "yaml"
    }
   },
   "outputs": [],
   "source": [
    "steps:\n",
    " - name: step-name\n",
    "   uses: #reference\n",
    "   with: #inputs"
   ]
  },
  {
   "cell_type": "markdown",
   "metadata": {},
   "source": [
    "You have to provide a reference with the uses keyword, and you can provide relevant inputs under the with keyword.\n",
    "\n"
   ]
  },
  {
   "cell_type": "markdown",
   "metadata": {},
   "source": [
    "Referencing a branch:\n",
    "- ```uses: publisher-username/repo-name@branch-name```\n",
    "\n",
    "Referencing a version: You can specify a version for the action by checking the available versions in the repository.\n",
    "- ```uses: publisher-username/repo-name@v2```\n",
    "\n",
    "Referencing a commit ID: You can specify a specific commit ID for the action by checking the commit history in the repository.\n",
    "- ```uses: publisher-username/repo-name@commit-ID```"
   ]
  },
  {
   "cell_type": "markdown",
   "metadata": {},
   "source": [
    "# Checkout\n",
    "\n",
    "Checkout enables our workflow to access the GitHub repository by checking out our repository to the runner.\n",
    "\n",
    "Checkout has a fetch-depth option that allows you to clone not only the tip of the branch but its full history – handy to do some deeper Git tree analysis.\n"
   ]
  },
  {
   "cell_type": "code",
   "execution_count": null,
   "metadata": {
    "vscode": {
     "languageId": "yaml"
    }
   },
   "outputs": [],
   "source": [
    "- uses: actions/checkout@v3\n",
    "  with:\n",
    "    fetch-depth: 0"
   ]
  },
  {
   "cell_type": "markdown",
   "metadata": {},
   "source": [
    "fetch-depth indicated the number of commits to fetch. 0 means to fetch all commits history, branches, and tags. By default, fetch-depth is set to 1, which fetches branch tips and no prior history. If fetch-depth is set to 10, it means to fetch the last 10 commits.\n",
    "\n",
    "The ref keyword can mean one of the following:\n",
    "\n",
    "- The branch name\n",
    "- Tag\n",
    "- SHA for the commit\n",
    "\n",
    "> When you make a commit to save your work, Git creates a unique ID SHA (Secure Hash Algorithm) that allows you to keep a record of the specific changes committed, along with information about who made them and when.\n"
   ]
  },
  {
   "cell_type": "code",
   "execution_count": null,
   "metadata": {
    "vscode": {
     "languageId": "yaml"
    }
   },
   "outputs": [],
   "source": [
    "- uses: actions/checkout@v3\n",
    "  with:\n",
    "    ref: The branch name, tag or SHA to checkout."
   ]
  },
  {
   "cell_type": "markdown",
   "metadata": {},
   "source": [
    "# Artifacts\n",
    "\n",
    "- Artifacts are used for sharing data between jobs. Moreover, it also saves data once the workflow is finished running. Artifacts are generally used to save logs and reports of your workflow. In GitHub Actions, you can upload artifacts and also download them.\n",
    "\n",
    "To upload an artifact, use the Upload a Build Artifact GitHub Action created by GitHub."
   ]
  },
  {
   "cell_type": "code",
   "execution_count": null,
   "metadata": {
    "vscode": {
     "languageId": "yaml"
    }
   },
   "outputs": [],
   "source": [
    "- name: Upload deployable package\n",
    "  uses: actions/upload-artifact@v2\n",
    "  with:\n",
    "    name: production-files\n",
    "    path: path/to/artifact"
   ]
  },
  {
   "cell_type": "markdown",
   "metadata": {},
   "source": [
    "Here, you only need to provide 2 parameters:\n",
    "\n",
    "- name : The name you want to give to identify the artifact.\n",
    "- path : The path to the file or to the directory."
   ]
  },
  {
   "cell_type": "markdown",
   "metadata": {},
   "source": [
    "Similarly, you can use the Download artifact action from the marketplace, to download an artifact."
   ]
  },
  {
   "cell_type": "code",
   "execution_count": null,
   "metadata": {
    "vscode": {
     "languageId": "yaml"
    }
   },
   "outputs": [],
   "source": [
    "- name: Download artifact\n",
    "  uses: actions/download-artifact@v2\n",
    "  with:\n",
    "    name: production-files\n",
    "    path: path/to/artifact "
   ]
  }
 ],
 "metadata": {
  "language_info": {
   "name": "python"
  }
 },
 "nbformat": 4,
 "nbformat_minor": 2
}
