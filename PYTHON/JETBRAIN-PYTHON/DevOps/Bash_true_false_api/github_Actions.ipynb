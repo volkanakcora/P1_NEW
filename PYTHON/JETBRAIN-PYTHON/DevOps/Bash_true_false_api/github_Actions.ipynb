{
 "cells": [
  {
   "cell_type": "markdown",
   "metadata": {},
   "source": [
    "# Workflow syntax\n",
    "To get started using GitHub Actions, we need to add a folder to the root of the GitHub repository.\n",
    "\n",
    ".github/workflows\n",
    "\n",
    "The workflow directory will contain the YAML files.\n",
    "\n",
    "We can also go to the remote repository and go to the actions tab to create the workflow files directly.\n",
    "\n",
    "YAML uses a fixed indentation scheme to represent relationships between data layers."
   ]
  },
  {
   "cell_type": "code",
   "execution_count": null,
   "metadata": {
    "vscode": {
     "languageId": "yaml"
    }
   },
   "outputs": [],
   "source": [
    "# your-repo-name/.github/workflows/first_workflow.yml\n",
    "\n",
    "name: First Workflow    \n",
    "                                         \n",
    "on: push   \n",
    "                                               \n",
    "jobs:\n",
    "                         \n",
    "  first-job:                           \n",
    "    name: Name of first step                    \n",
    "    runs-on: ubuntu-latest                           \n",
    "    steps:\n",
    "\n",
    "      #step 1                           \n",
    "      - name: Print a greeting                             \n",
    "        run: echo Hi from our first workflow!\n",
    "\n",
    "      #step 2 \n",
    "      - uses: actions/checkout@v2.3.4    \n",
    "     \n",
    "  second-job:\n",
    "    strategy:\n",
    "      matrix:\n",
    "        runtimes: [10, 12, 14]\n",
    "        os_version: [ubuntu-latest, windows-latest]\n",
    "    runs-on: ${{ matrix.os_version}}\n",
    "    steps:\n",
    "      - uses: actions/setup-node@v3\n",
    "        with:\n",
    "          node-version: ${{ matrix.version }}"
   ]
  },
  {
   "cell_type": "markdown",
   "metadata": {},
   "source": [
    "The name of our workflow is First Workflow and our workflow is triggered by the push event. We have jobs that make the workflow.\n",
    "\n",
    "In the first job, the following terms are laid out as follows:\n",
    "\n",
    "- runs-on: the machine each job should run\n",
    "- steps: the tasks each job should run\n",
    "- run: the command the step should run\n",
    "- uses: signature of the action we want to use from the GitHub marketplace"
   ]
  },
  {
   "cell_type": "markdown",
   "metadata": {},
   "source": [
    "# Adding actions to your own repository\n",
    "To begin, you need to create a new GitHub repository. This repository should contain a text file, with the name hello.txt. Inside the file, paste the following line:\n",
    "\n",
    "Hello world from github"
   ]
  },
  {
   "cell_type": "markdown",
   "metadata": {},
   "source": [
    "then create folder: \n",
    "```mkdir .github/workflows```"
   ]
  },
  {
   "cell_type": "markdown",
   "metadata": {},
   "source": [
    "Let's name the workflow; hello_workflow.yaml.\n",
    "\n",
    "Then paste the following template inside hello_workflow.yaml."
   ]
  },
  {
   "cell_type": "code",
   "execution_count": null,
   "metadata": {
    "vscode": {
     "languageId": "yaml"
    }
   },
   "outputs": [],
   "source": [
    "name: hello_workflow\n",
    "on: [push]\n",
    "jobs:\n",
    "  print-hello:\n",
    "    runs-on: ubuntu-latest\n",
    "    steps:\n",
    "      - uses: actions/checkout@v3\n",
    "      - name: Hello world using echo\n",
    "        run: echo \"$(<hello.txt)\"\n",
    "      - name: Hello world using cat\n",
    "        run: cat hello.txt"
   ]
  }
 ],
 "metadata": {
  "language_info": {
   "name": "python"
  }
 },
 "nbformat": 4,
 "nbformat_minor": 2
}
