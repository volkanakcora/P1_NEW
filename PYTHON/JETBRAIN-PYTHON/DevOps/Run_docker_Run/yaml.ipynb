{
 "cells": [
  {
   "cell_type": "markdown",
   "metadata": {},
   "source": [
    "# Yaml\n",
    "\n",
    "- ### Maps:\n",
    "\n"
   ]
  },
  {
   "cell_type": "markdown",
   "metadata": {},
   "source": [
    "```\n",
    "---\n",
    "object: Book\n",
    "\n",
    "metadata:  \n",
    "  name: Three Men in a Boat\n",
    "  author: Jerome K Jerome \n",
    "  genre: humorous account\n",
    "  \n",
    "published:\n",
    "  year: 1889\n",
    "  country: United Kingdom\n",
    "```\n",
    "\n",
    "\n",
    "\n",
    "> - The first line is a separator. It's optional unless you’re trying to define multiple structures in a single file.\n"
   ]
  },
  {
   "cell_type": "markdown",
   "metadata": {},
   "source": [
    "- ### Lists "
   ]
  },
  {
   "cell_type": "markdown",
   "metadata": {},
   "source": [
    "```\n",
    "animals:\n",
    "  - cat\n",
    "  - dog\n",
    "  - bird\n",
    "```"
   ]
  },
  {
   "cell_type": "markdown",
   "metadata": {},
   "source": [
    "- ### Combination\n",
    "Maps and lists can be combined so that one may have maps of maps, or maps of lists, or lists of lists, or lists of maps. Let's consider an example of a to-do map, where keys are weekends and values are lists of things to do during each day:\n",
    "\n",
    "```\n",
    "weekend:\n",
    "  saturday: \n",
    "    - order cleaning\n",
    "    - order a pizza\n",
    "    - watch new series\n",
    "  sunday: \n",
    "    - go to yoga \n",
    "    - hang out with a friend \n",
    "```"
   ]
  },
  {
   "cell_type": "markdown",
   "metadata": {},
   "source": [
    "Also, if you need to denote a string that preserves newlines instead of a list, use | character:\n",
    "\n",
    "```\n",
    "saturday: |\n",
    "  order cleaning\n",
    "  order a pizza\n",
    "  watch new series\n",
    "```"
   ]
  },
  {
   "cell_type": "code",
   "execution_count": null,
   "metadata": {},
   "outputs": [],
   "source": []
  }
 ],
 "metadata": {
  "language_info": {
   "name": "python"
  }
 },
 "nbformat": 4,
 "nbformat_minor": 2
}
