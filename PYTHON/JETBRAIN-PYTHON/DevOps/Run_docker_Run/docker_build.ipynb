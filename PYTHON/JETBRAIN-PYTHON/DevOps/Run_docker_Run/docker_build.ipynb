{
 "cells": [
  {
   "cell_type": "markdown",
   "metadata": {},
   "source": [
    "You can see the list of shell variables by typing the following command:\n",
    "\n",
    "set | less\n",
    "Also, you can view the list of environment variables by using the command below:\n",
    "\n",
    "printenv | less"
   ]
  },
  {
   "cell_type": "code",
   "execution_count": null,
   "metadata": {},
   "outputs": [],
   "source": []
  },
  {
   "cell_type": "markdown",
   "metadata": {},
   "source": [
    "## Building an image\n",
    " docker build -f /path/to/my/Dockerfile .\n",
    "\n",
    "\n"
   ]
  },
  {
   "cell_type": "markdown",
   "metadata": {},
   "source": [
    "## Dockerfile overview\n",
    "\n",
    "- Dockerfile is the basis for creating images. With its help, you can describe what should be included in the image and what it should do using special instructions. Docker executes each instruction from top to bottom, line by line. Instructions should satisfy the following structure; INSTRUCTION argument(s). It can be preceded by an appropriate comment that will be removed by Docker before instruction execution. The keywords aren't case-sensitive but code convention requires writing the whole instruction using uppercase letters. Combined with comments, each instruction resembles the following code snippet:"
   ]
  },
  {
   "cell_type": "markdown",
   "metadata": {},
   "source": [
    "### FROM instruction\n",
    "\n",
    "- For each Dockerfile FROM is an instruction that you will see in the beginning. The only exception may be ARG instructions but you will learn about their purpose later on. The FROM instruction specifies the base image you want to use. While using this instruction, the repository name must be set using lowercase letters.\n",
    "\n",
    "\n",
    "\n",
    "```\n",
    "FROM ubuntu\n",
    "\n",
    "LABEL author=HyperUser\n",
    "\n",
    "ENTRYPOINT [\"/bin/bash\"]\n",
    "```"
   ]
  },
  {
   "cell_type": "markdown",
   "metadata": {},
   "source": [
    "### LABEL instruction\n",
    "\n",
    "```\n",
    "FROM ubuntu:22.04\n",
    " \n",
    "LABEL author=HyperUser\n",
    "LABEL \"application_environment\"=\"development\"\n",
    "LABEL \"version\"=1.0\n",
    "LABEL multi.first-key=\"first-value\" multi.second-key=\"second-value\"\n",
    "LABEL first-key=first-value \\\n",
    "      second-key=second-value\n",
    "\n",
    " \n",
    "ENTRYPOINT [\"/bin/bash\"]\n",
    "\n",
    "```"
   ]
  },
  {
   "cell_type": "markdown",
   "metadata": {},
   "source": [
    "### CMD instruction\n",
    "\n",
    "- The CMD instruction runs applications inside images and is executed after container instantiation. It takes the command and its arguments for that purpose. In general, its preferable structure is CMD [\"executable\", \"param1\", \"param2\"…] but there are other approaches too. Each Dockerfile should have only one CMD instruction. But, this doesn't mean that a Dockerfile can't have several CMD instructions. In that case, each CMD will override the previous one."
   ]
  },
  {
   "cell_type": "markdown",
   "metadata": {},
   "source": [
    "```\n",
    "FROM ubuntu:22.04\n",
    "\n",
    "LABEL author=HyperUser\n",
    "\n",
    "# Shell form\n",
    "CMD echo Hello Students.\n",
    "# Exec form\n",
    "CMD [\"echo\", \"Hello World.\"]\n",
    "\n",
    "```"
   ]
  },
  {
   "cell_type": "markdown",
   "metadata": {},
   "source": [
    "As you can see there are two approaches to defining CMD instruction in a Dockerfile:\n",
    "\n",
    "```CMD echo Hello Students.```: Runs the command in a shell. By default it is /bin/sh -c. The command enables shell features, such as piping, subcommands, signal processing, etc.\n",
    "\n",
    "```CMD [\"echo\", \"Hello World.\"]```: Runs the specified binary with provided args. This approach is more commonly used."
   ]
  },
  {
   "cell_type": "markdown",
   "metadata": {},
   "source": [
    "### ENTRYPOINT instruction\n",
    "\n",
    "The ENTRYPOINT also targets the application in the image when the container is created. This instruction differs from CMD as it doesn't override the existing ENTRYPOINT instruction inside the image if you pass arguments when running the container.\n",
    "\n",
    "\n",
    "\n",
    "Before using this instruction, let's explore the shell form deeper. As you already know, when you use it you execute the command using /bin/sh -c which expects a string. So echo Hello Students. is captured inside a string to execute the /bin/sh -c 'echo Hello Students.' command. Assume you have the following Dockerfile:\n"
   ]
  },
  {
   "cell_type": "markdown",
   "metadata": {},
   "source": [
    "```\n",
    "FROM ubuntu:22.04\n",
    "\n",
    "LABEL author=HyperUser\n",
    "\n",
    "# shell form\n",
    "ENTRYPOINT echo Hello Students.\n",
    "```"
   ]
  },
  {
   "cell_type": "markdown",
   "metadata": {},
   "source": [
    "This prevents you from passing one more argument to echo when you run the container. To avoid this, let's explicitly tell Docker to run the command with /bin/echo applying the exec form. By the way, you will see similar behavior if you use echo instead of /bin/echo for this example. After a small update, the Dockerfile will look like this:"
   ]
  },
  {
   "cell_type": "markdown",
   "metadata": {},
   "source": [
    "```\n",
    "FROM ubuntu:22.04\n",
    "\n",
    "LABEL author=HyperUser\n",
    "\n",
    "# exec form\n",
    "ENTRYPOINT [\"/bin/echo\", \"Hello Students.\"]\n",
    "```"
   ]
  },
  {
   "cell_type": "markdown",
   "metadata": {},
   "source": [
    "Combining CMD and ENTRYPOINT\n",
    "\n",
    "\n",
    "```\n",
    "FROM ubuntu:22.04\n",
    "\n",
    "LABEL author=HyperUser\n",
    "\n",
    "ENTRYPOINT [\"echo\"]\n",
    "CMD [\"Hello\",\"Students.\"]\n",
    "```"
   ]
  }
 ],
 "metadata": {
  "language_info": {
   "name": "python"
  }
 },
 "nbformat": 4,
 "nbformat_minor": 2
}
