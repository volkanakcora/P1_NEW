{
 "cells": [
  {
   "cell_type": "markdown",
   "metadata": {},
   "source": [
    "# Best practices for writing Dockerfiles\n",
    "\n",
    "\n",
    "# Minimize RUN instruction layers\n",
    "\n",
    "\n",
    "- Several instructions add a layer to the image each time the Docker engine executes them. And each layer adds extra size to the final image and can affect the overall performance. One of those instructions is the RUN instruction. To avoid this unwanted increase in size and decrease in performance, you can combine several instructions into one. Let's check this in practice using the following Dockerfile:"
   ]
  },
  {
   "cell_type": "code",
   "execution_count": null,
   "metadata": {},
   "outputs": [],
   "source": [
    "FROM ubuntu:22.04\n",
    "\n",
    "LABEL author=HyperUser\n",
    "\n",
    "RUN apt-get update -y \\\n",
    "  && apt-get upgrade -y \\\n",
    "  && apt-get install iputils-ping -y \\\n",
    "  && apt-get install net-tools -y\n",
    "\n",
    "ENTRYPOINT [\"/bin/bash\"]\n"
   ]
  },
  {
   "cell_type": "markdown",
   "metadata": {},
   "source": [
    "```Try to avoid the apt-get upgrade command. It can bring upgrades that can affect the environment you use.```"
   ]
  },
  {
   "cell_type": "markdown",
   "metadata": {},
   "source": [
    "Let's build an ubuntu:v1 image based on it and modify it to have separate RUN instructions for each command and build an image again."
   ]
  },
  {
   "cell_type": "code",
   "execution_count": null,
   "metadata": {},
   "outputs": [],
   "source": [
    "FROM ubuntu:22.04\n",
    "\n",
    "LABEL author=HyperUser\n",
    "\n",
    "RUN apt-get update -y \n",
    "RUN apt-get upgrade -y\n",
    "RUN apt-get install iputils-ping -y \n",
    "RUN apt-get install net-tools -y\n",
    "\n",
    "ENTRYPOINT [\"/bin/bash\"]\n",
    "\n",
    "!!! not a good practice to have multiple seperate runs !!"
   ]
  },
  {
   "cell_type": "markdown",
   "metadata": {},
   "source": [
    "Now, let's examine what picture the docker images -a command shows us.\n",
    "\n"
   ]
  },
  {
   "cell_type": "markdown",
   "metadata": {},
   "source": [
    "```\n",
    "$ docker images --format='{{.Repository}}\\t{{.Tag}}\\t{{.Size}}' | head -2\n",
    "ubuntu       v2        108MB\n",
    "ubuntu       v1        107MB\n",
    "```"
   ]
  },
  {
   "cell_type": "markdown",
   "metadata": {},
   "source": [
    "# Choosing the right base image\n"
   ]
  },
  {
   "cell_type": "markdown",
   "metadata": {},
   "source": [
    "The basis for any image is its base image. So far, you should have come across examples where Ubuntu is used for this purpose. Ubuntu is known for its user-friendly approach, but its image includes many packages that you may not need. If there is no need to use this particular image, you can switch to another Linux distribution image: the Alpine Linux image. It's based on BusyBox and requires less space because it includes a minimal set of packages and tools. Let's create images with minimal configurations using both distributions and compare their size. First, let's use Ubuntu:"
   ]
  },
  {
   "cell_type": "code",
   "execution_count": null,
   "metadata": {},
   "outputs": [],
   "source": [
    "FROM ubuntu:22.04\n",
    "\n",
    "LABEL author=HyperUser\n",
    "\n",
    "ENTRYPOINT [\"echo\", \"Hello, Students.\"]"
   ]
  },
  {
   "cell_type": "markdown",
   "metadata": {},
   "source": [
    "After this, let's change the base image to Alpine:\n",
    "\n"
   ]
  },
  {
   "cell_type": "code",
   "execution_count": null,
   "metadata": {},
   "outputs": [],
   "source": [
    "FROM alpine:3.17\n",
    "\n",
    "LABEL author=HyperUser\n",
    "\n",
    "ENTRYPOINT [\"echo\", \"Hello, Students.\"]"
   ]
  },
  {
   "cell_type": "markdown",
   "metadata": {},
   "source": [
    "Now, let's check what we've got. This is what you'll see when you list your images:\n",
    "\n"
   ]
  },
  {
   "cell_type": "markdown",
   "metadata": {},
   "source": [
    "```\n",
    "$ docker images --format='{{.Repository}}\\t{{.Tag}}\\t{{.Size}}' | head -2\n",
    "alpine  v1      7.05MB\n",
    "ubuntu  v1      70.2MB\n",
    "```"
   ]
  },
  {
   "cell_type": "markdown",
   "metadata": {},
   "source": [
    "<font color='yellow' size=25># Removing unnecessary packages </font>\n",
    "\n",
    "One of the challenges while using Docker is trying to reduce the image size as much as possible. A good practice to reduce the image size is removing apt lists after installing something. Let's work with a Dockerfile used to install network tools. The ubuntu:v1 image size built on it was 107MB. This time, let's apply the same Dockerfile but remove apt lists at the end.\n",
    "\n"
   ]
  },
  {
   "cell_type": "code",
   "execution_count": null,
   "metadata": {},
   "outputs": [],
   "source": [
    "FROM ubuntu:22.04\n",
    "\n",
    "LABEL author=HyperUser\n",
    "\n",
    "RUN apt-get update -y \\\n",
    "  && apt-get upgrade -y \\\n",
    "  && apt-get install iputils-ping -y \\\n",
    "  && apt-get install net-tools -y \\\n",
    "  && rm -rf /var/lib/apt/lists/*\n",
    "\n",
    "ENTRYPOINT [\"/bin/bash\"]"
   ]
  },
  {
   "cell_type": "markdown",
   "metadata": {},
   "source": [
    "This time, the image size is much smaller:\n",
    "```\n",
    "$ docker images \n",
    "REPOSITORY   TAG       IMAGE ID       CREATED              SIZE\n",
    "ubuntu       v1        1141a699133b   About a minute ago   72.2MB\n",
    "```"
   ]
  },
  {
   "cell_type": "markdown",
   "metadata": {},
   "source": [
    "Another important practice is using the ```--no-install-recommends``` flag when installing any package. Many Linux distributions, such as Debian or Ubuntu, use the idea of required and recommended packages. "
   ]
  },
  {
   "cell_type": "code",
   "execution_count": null,
   "metadata": {},
   "outputs": [],
   "source": [
    "FROM ubuntu:22.04\n",
    "\n",
    "LABEL author=HyperUser\n",
    "\n",
    "RUN apt-get update -y \\\n",
    "  && apt-get upgrade -y \\\n",
    "  && apt-get install iputils-ping -y --no-install-recommends \\\n",
    "  && apt-get install net-tools -y --no-install-recommends \\\n",
    "  && rm -rf /var/lib/apt/lists/*\n",
    "\n",
    "ENTRYPOINT [\"/bin/bash\"]"
   ]
  },
  {
   "cell_type": "markdown",
   "metadata": {},
   "source": [
    "<font color='yellow' size=25>Using the exec form</font>\n"
   ]
  },
  {
   "cell_type": "markdown",
   "metadata": {},
   "source": [
    "```\n",
    "# shell form\n",
    "CMD echo Hello, Students.\n",
    "ENTRYPOINT echo Hello, Students.\n",
    "\n",
    "# exec form\n",
    "CMD [\"echo\", \"Hello, World.\"]\n",
    "ENTRYPOINT [\"echo\", \"Hello, World.\"]\n",
    "\n",
    "# exec form, combination of CMD and ENTRYPOINT\n",
    "ENTRYPOINT [\"echo\"]\n",
    "CMD [\"Hello\"]\n",
    "```"
   ]
  },
  {
   "cell_type": "markdown",
   "metadata": {},
   "source": [
    "Both forms have their advantages and disadvantages. For instance, you can choose the shell form if you need shell processing. If you have an application that must accept different parameters each time you run the container, ENTRYPOINT with exec form can be a good choice.\n",
    "\n",
    "However, exec is the recommended form. It wins over the shell form due to its performance advantage. exec doesn't start a shell process. It only invokes the required command with arguments and without any other process. Using this form is also preferred from a security perspective as you execute only the specified command."
   ]
  },
  {
   "cell_type": "markdown",
   "metadata": {},
   "source": [
    "<font color='yellow' size=25> Using the linter "
   ]
  },
  {
   "cell_type": "markdown",
   "metadata": {},
   "source": [
    "Creating a Dockerfile by adhering to best practices is a valuable skill. The image's size, building time, and security level depend on how smartly you create your Dockerfile. Fortunately, there is a tool called Hadolint static analyzer that helps you find issues in your Dockerfile and improve it by showing hints. You can either download it from the official GitHub repo or use its online version. To check how it works, let's take the previous Dockerfile sample and try to find its issues."
   ]
  },
  {
   "cell_type": "markdown",
   "metadata": {},
   "source": [
    "```\n",
    "FROM ubuntu:22.04\n",
    "\n",
    "LABEL author=HyperUser\n",
    "\n",
    "RUN apt-get update -y \\\n",
    "  && apt-get upgrade -y \\\n",
    "  && apt-get install iputils-ping -y \\\n",
    "  && apt-get install net-tools -y\n",
    "\n",
    "ENTRYPOINT [\"/bin/bash\"]\n",
    "```"
   ]
  },
  {
   "cell_type": "markdown",
   "metadata": {},
   "source": [
    "<font color='yellow' size=25> Auditing the image for security vulnerabilities\n"
   ]
  },
  {
   "cell_type": "markdown",
   "metadata": {},
   "source": [
    "Auditing Docker images for security vulnerabilities is another essential part of working with images. For this purpose, you can apply many techniques, like checking the base image layers or analyzing the image for any unnecessary packages or dependencies. On top of this, Docker provides us with a docker scout command to scan the Dockerfile and image to automatically detect issues. Starting with version 4.17, docker scout is automatically installed when you install Docker Desktop. However, to manually install you can run the following commands:"
   ]
  },
  {
   "cell_type": "code",
   "execution_count": null,
   "metadata": {},
   "outputs": [],
   "source": [
    "curl -fsSL https://raw.githubusercontent.com/docker/scout-cli/main/install.sh -o install-scout.sh\n",
    "sh install-scout.sh"
   ]
  },
  {
   "cell_type": "markdown",
   "metadata": {},
   "source": [
    "Finally, log in to Docker Hub using Docker Desktop or CLI using the ```docker login -u <username>``` command. When you are all set up, run the command docker scout quickview or docker scout cves to scan for vulnerabilities in local or remote images. To scan a local image, run ```docker scout quickview <image name>```."
   ]
  },
  {
   "cell_type": "markdown",
   "metadata": {},
   "source": [
    "docker scout quickview provides only an overview of vulnerabilities whereas docker scout cves provides a full list of vulnerabilities."
   ]
  },
  {
   "cell_type": "markdown",
   "metadata": {},
   "source": [
    "# The export command\n"
   ]
  },
  {
   "cell_type": "code",
   "execution_count": null,
   "metadata": {},
   "outputs": [],
   "source": [
    "export NEW_VARIABLE=\"The export command\"\n"
   ]
  },
  {
   "cell_type": "code",
   "execution_count": null,
   "metadata": {},
   "outputs": [],
   "source": [
    "NEW_VARIABLE=\"The export command\"\n",
    "export NEW_VARIABLE"
   ]
  }
 ],
 "metadata": {
  "kernelspec": {
   "display_name": "Python 3",
   "language": "python",
   "name": "python3"
  },
  "language_info": {
   "name": "python",
   "version": "3.11.5"
  }
 },
 "nbformat": 4,
 "nbformat_minor": 2
}
