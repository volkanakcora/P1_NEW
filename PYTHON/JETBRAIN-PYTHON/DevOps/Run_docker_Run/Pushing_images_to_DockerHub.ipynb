{
 "cells": [
  {
   "cell_type": "markdown",
   "metadata": {},
   "source": [
    "# Pushing images to DockerHub\n"
   ]
  },
  {
   "cell_type": "markdown",
   "metadata": {},
   "source": [
    "The docker build command creates a new image that is only available on the local machine. This can be a hassle when you're working with other developers and need to share your images with them.\n",
    "\n",
    "That's where Docker Hub comes in. It is a platform that allows you to host your Docker images and make them easily accessible to other people. It eliminates the need for others to run docker build every time they want to use your image, and it's much simpler than sharing a link to your code base with a README file detailing the setup process."
   ]
  },
  {
   "cell_type": "markdown",
   "metadata": {},
   "source": [
    "### Logging in to Docker Hub\n",
    "\n",
    "- ```docker login```\n",
    "\n",
    "- ```docker login --username myusername --password mypassword```\n",
    "\n",
    "> You will be prompted to enter your credentials if you do not include the username and password in the command."
   ]
  },
  {
   "cell_type": "markdown",
   "metadata": {},
   "source": [
    "In this topic, you will work with the hello-world sample image. This image can be pulled from Docker Hub using the following command:"
   ]
  },
  {
   "cell_type": "markdown",
   "metadata": {},
   "source": [
    "```docker pull hello-world```"
   ]
  },
  {
   "cell_type": "markdown",
   "metadata": {},
   "source": [
    "### Tagging the image\n",
    "Tags are labels or names that can be applied to an image to indicate a version or a specific release. Latest is the default for Docker Hub, but it is best practice to specify a tag that is relevant to your project to ensure clear versioning and organization. \n"
   ]
  },
  {
   "cell_type": "markdown",
   "metadata": {},
   "source": [
    "### Adding your own tag to the image\n"
   ]
  },
  {
   "cell_type": "markdown",
   "metadata": {},
   "source": [
    "You can tag the image with your Docker Hub username using the following command:\n",
    "\n",
    "\n",
    "```docker tag hello-world:[tag] [docker_hub_username]/hello-world:[tag]```\n",
    "\n",
    "> For example, if your Docker Hub username is johndoe and you have an image named hello-world with the tag v1.0, the tag command will be:\n",
    "\n",
    "```docker tag hello-world:latest johndoe/hello-world:v1.0```\n",
    "\n",
    "After tagging the image, it can be pushed to the registry.\n",
    "\n",
    "### Pushing the image\n",
    "\n",
    "You can push images to the registry using the docker push command.\n",
    "\n",
    "```docker push [docker_hub_username]/hello-world:[tag]```"
   ]
  },
  {
   "cell_type": "markdown",
   "metadata": {},
   "source": [
    "For example, to push a hello-world image with tag v1.0 to Docker Hub under the username johndoe, the command will be:\n",
    "\n",
    "```docker push johndoe/hello-world:v1.0 ```\n",
    "\n",
    "### Pulling the image\n",
    "\n",
    "```docker pull docker.io/johndoe/hello-world:v1.0```"
   ]
  }
 ],
 "metadata": {
  "language_info": {
   "name": "python"
  }
 },
 "nbformat": 4,
 "nbformat_minor": 2
}
