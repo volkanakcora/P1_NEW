{
 "cells": [
  {
   "cell_type": "markdown",
   "metadata": {},
   "source": [
    "# COPY instruction\n",
    "When working with Docker, you have to copy files to an image quite often. The COPY instruction fulfills this exact role."
   ]
  },
  {
   "cell_type": "markdown",
   "metadata": {},
   "source": [
    "So, the working directory is /. This is also the root directory. Now, let's create a simple demo.txt file and add it to the image. Then modify the Dockerfile into:"
   ]
  },
  {
   "cell_type": "markdown",
   "metadata": {},
   "source": [
    "```\n",
    "FROM ubuntu:22.04\n",
    "\n",
    "LABEL author=HyperUser\n",
    "\n",
    "# COPY source destination\n",
    "COPY demo.txt /\n",
    "\n",
    "ENTRYPOINT [\"ls\"]\n",
    "```"
   ]
  },
  {
   "cell_type": "markdown",
   "metadata": {},
   "source": [
    "This instruction also supports the --chown flag. This flag can change the file owner available for Linux. To see how it works, let's first modify the Dockerfile and check the current demo.txt owner."
   ]
  },
  {
   "cell_type": "markdown",
   "metadata": {},
   "source": [
    "```\n",
    "COPY --chown=0:1 demo.txt /\n",
    "              OR\n",
    "COPY --chown=root:bin demo.txt /\n",
    "```"
   ]
  },
  {
   "cell_type": "markdown",
   "metadata": {},
   "source": [
    "# ADD instruction\n",
    "\n",
    "Though the ADD instruction is similar to COPY it comes with two additional features:\n",
    "\n",
    "- The source can be a remote URL including git repositories.\n",
    "\n",
    "- The source can also be a tar archive of identity, gzip, bzip2, or xz compression formats.\n",
    "\n",
    "- ADD instruction operates just as the previous instruction, so it also supports the --chown flag. "
   ]
  },
  {
   "cell_type": "markdown",
   "metadata": {},
   "source": [
    "> What about the remote files or git repositories? You must specify the URL for files that are not present in your physical storage drive. For this purpose, Docker provides the --checksum flag to ensure data from the remote repository isn't corrupted."
   ]
  },
  {
   "cell_type": "markdown",
   "metadata": {},
   "source": [
    "# ENV instruction\n",
    "\n",
    "- If you're familiar with environment variables on Linux, the ENV instruction will be easier to grasp.\n"
   ]
  },
  {
   "cell_type": "markdown",
   "metadata": {},
   "source": [
    "```\n",
    "FROM ubuntu:22.04\n",
    " \n",
    "LABEL author=HyperUser \n",
    "\n",
    "ENV HOST_FILE=demo.txt\n",
    "ENV IMAGE_DESTINATION=\"/tmp\"\n",
    "COPY $HOST_FILE $IMAGE_DESTINATION\n",
    "\n",
    "ENTRYPOINT [\"ls\", \"/tmp\"]\n",
    "```"
   ]
  },
  {
   "cell_type": "markdown",
   "metadata": {},
   "source": [
    "# ARG instruction\n",
    "\n",
    "- The ARG instruction has a similar role to the ENV instruction. But it has one key difference. Though you declare it in a Dockerfile, Docker assigns the value during image build time. To see this in action, let's update the Dockerfile used to define ENV variables from the previous section."
   ]
  },
  {
   "cell_type": "markdown",
   "metadata": {},
   "source": [
    "```\n",
    "$ docker build --build-arg VERSION=22.04 -t ubuntu:v1 .\n",
    "```"
   ]
  }
 ],
 "metadata": {
  "language_info": {
   "name": "python"
  }
 },
 "nbformat": 4,
 "nbformat_minor": 2
}
