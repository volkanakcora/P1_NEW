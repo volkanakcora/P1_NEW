{
 "cells": [
  {
   "cell_type": "markdown",
   "metadata": {},
   "source": [
    "# Docker Volumes\n",
    "\n",
    "Docker volumes have become increasingly popular for managing and sharing data in containerized applications. They provide a range of advantages like enhanced flexibility, seamless data portability, and robust security. Docker volumes play a vital role in managing and scaling applications by ensuring reliable data storage and accessibility."
   ]
  },
  {
   "cell_type": "markdown",
   "metadata": {},
   "source": [
    "### Types of Docker volumes\n",
    "\n",
    "- ```Anonymous volumes```: Automatically created by Docker when a container is created. Anonymous volumes do not have a user-defined name. They are typically used for storing temporary data that does not need to be shared between containers.\n",
    "\n",
    "- ```Named volumes```: Created by the user and can be given a specific name. This makes it easy to identify and reuse them across multiple containers. Named volumes are often used when data needs to be shared between containers.\n",
    "\n",
    "- ```Host-mounted volumes```: Directories on the host machine that are mounted into a container. This allows access to data that is stored on the host machine from within the container. Host-mounted volumes are useful when you want to provide persistent storage or when you need to share files between the host and the container."
   ]
  },
  {
   "cell_type": "markdown",
   "metadata": {},
   "source": [
    "### Access Options\n",
    "\n",
    "- ```Read-Only```\t: Read-Only access can be specified using the ro option when mounting a volume. This prevents data from being modified by the container.\n",
    "\n",
    "- ```Read-Write```: access can be set with the rw option, allowing data from the volume to be both modified and read by the container.\n",
    "\n",
    "- The ```private```: access option allows you to mount a volume with private visibility.\n",
    "It makes the volume accessible only to the container in which it is defined.\n",
    "Other containers running on the same host won't have access to this volume.\n",
    "\n",
    "- The ```nocopy```: access option prevents Docker from copying the volume data from the host into the container when it starts.\n",
    "Instead, the container starts with an empty directory at the mount point, and any changes made to the volume are persisted only on the host.\n",
    "This option can be useful when you want to create a container that shares an existing volume without duplicating its data.\n",
    "\n",
    "- The ```shared```: access option allows multiple containers to share the same volume.\n",
    "By default, volumes are shared. So it is not always necessary to specify this option."
   ]
  },
  {
   "cell_type": "markdown",
   "metadata": {},
   "source": [
    "<font color='yellow' size=25> Basic Example"
   ]
  },
  {
   "cell_type": "markdown",
   "metadata": {},
   "source": [
    "> Here's an example of two containers sharing a volume:\n",
    "\n"
   ]
  },
  {
   "cell_type": "markdown",
   "metadata": {},
   "source": [
    "Create a Docker volume using the command: ```docker volume create mydata```\n",
    "\n",
    "- This step creates a new volume called mydata, using the Docker command ```docker volume create```. A volume in Docker is a directory on the host machine (PC) that multiple containers can share and access."
   ]
  },
  {
   "cell_type": "markdown",
   "metadata": {},
   "source": [
    "\n",
    "Launch the first container and mount the volume: \n",
    "``` \n",
    "docker run -d --name container1 -v mydata:/data busybox sleep 3600 \n",
    "```"
   ]
  },
  {
   "cell_type": "markdown",
   "metadata": {},
   "source": [
    "> Enter the first container and write some data to the mounted volume\n",
    "\n",
    "- ```docker exec -it container1 sh```\n",
    "\n",
    "- ```echo \"Data from container 1\" > /data/shared.txt```\n"
   ]
  },
  {
   "cell_type": "markdown",
   "metadata": {},
   "source": [
    "The command exit, exits the container's shell."
   ]
  },
  {
   "cell_type": "markdown",
   "metadata": {},
   "source": [
    "Launch the second container and bind the same volume:\n",
    "```\n",
    "docker run -d --name container2 -v mydata:/data busybox sleep 3600\n",
    "```"
   ]
  },
  {
   "cell_type": "markdown",
   "metadata": {},
   "source": [
    "> Enter the second container and verify that the data from the first container is present:\n",
    "\n"
   ]
  },
  {
   "cell_type": "markdown",
   "metadata": {},
   "source": [
    "- ```docker exec -it container2 sh```\n",
    "\n",
    "- ```cat /data/shared.txt```"
   ]
  },
  {
   "cell_type": "markdown",
   "metadata": {},
   "source": [
    "Finally, the command exit is used to exit the container's shell.\n"
   ]
  }
 ],
 "metadata": {
  "language_info": {
   "name": "python"
  }
 },
 "nbformat": 4,
 "nbformat_minor": 2
}
