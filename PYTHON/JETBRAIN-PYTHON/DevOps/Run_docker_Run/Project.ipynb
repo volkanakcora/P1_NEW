{
 "cells": [
  {
   "cell_type": "code",
   "execution_count": null,
   "metadata": {},
   "outputs": [],
   "source": [
    "# Write the codes below!\n",
    "FROM python:3.11-slim\n",
    "\n",
    "EXPOSE 80\n",
    "\n",
    "WORKDIR /home/app\n",
    "\n",
    "ADD . .\n",
    "\n",
    "RUN pip install -r hyper-app/requirements.txt\n",
    "\n",
    "ENTRYPOINT [\"python3\", \"main.py\"]"
   ]
  },
  {
   "cell_type": "markdown",
   "metadata": {},
   "source": [
    "# Create a postgres container:\n",
    "\n",
    "\n",
    "\n",
    "Postgres\n",
    "Description\n",
    "Create a Postgres container from the official Postgres image to connect to hyper-network and expose the 5432 port. Exposing ports when services are in the same network is not always necessary. But here, we need it for test purposes.\n",
    "\n",
    "Objectives\n",
    "Create a Postgres container with the name hyper-postgres;\n",
    "Define an environment variable as the Postgres password with the value hyper2023;\n",
    "Define an environment variable as the Postgres user with the value hyper;\n",
    "Define an environment variable as the Postgres database with the value hyper-db;\n",
    "Bind host port 5432 to container port 5432;\n",
    "For container network use hyper-network;\n",
    "For container volume use hyper-volume and map it to /var/lib/postgresql/data;\n",
    "Run the container in detached mode;\n",
    "Use the official postgres image with the tag 15.3."
   ]
  },
  {
   "cell_type": "markdown",
   "metadata": {},
   "source": [
    "```\n",
    "docker run -d \\\n",
    "  --name hyper-postgres \\\n",
    "  -e POSTGRES_PASSWORD=hyper2023 \\\n",
    "  -e POSTGRES_USER=hyper \\\n",
    "  -e POSTGRES_DB=hyper-db \\\n",
    "  -p 5432:5432 \\\n",
    "  --network=hyper-network \\\n",
    "  -v hyper-volume:/var/lib/postgresql/data \\\n",
    "  postgres:15.3\n",
    "```\n"
   ]
  },
  {
   "cell_type": "markdown",
   "metadata": {},
   "source": [
    "## ADMINER\n",
    "\n",
    "Create an adminer container with the name hyper-adminer;\n",
    "Bind the host port 8080 to container port 8080;\n",
    "For container network use hyper-network;\n",
    "Run the container in detached mode;\n",
    "Use the official adminer image with the tag 4.8.1."
   ]
  },
  {
   "cell_type": "markdown",
   "metadata": {},
   "source": [
    "```\n",
    "docker run -d \\\n",
    "  --name hyper-adminer \\\n",
    "  -p 8080:8080 \\\n",
    "  --network=hyper-network \\\n",
    "  adminer:4.8.1\n",
    "```"
   ]
  },
  {
   "cell_type": "markdown",
   "metadata": {},
   "source": [
    "# Work on project. Stage 4/6: Records\n",
    "Description\n",
    "You've done a great job! The services should be running now. Your task is to create a table with records using the adminer tool. You can find the details below.\n",
    "\n",
    "Open a web browser and go to http://localhost:8080 to access adminer.\n",
    "Objectives\n",
    "Connect to the hyper-db database with the adminer tool;\n",
    "Create the users table;\n",
    "In the users table, create the id field of the integer type;\n",
    "In the users table, create the user_name field of the varchar type, length 99;\n",
    "Insert one record with the 99 id and the hyper-user username.\n"
   ]
  }
 ],
 "metadata": {
  "language_info": {
   "name": "python"
  }
 },
 "nbformat": 4,
 "nbformat_minor": 2
}
