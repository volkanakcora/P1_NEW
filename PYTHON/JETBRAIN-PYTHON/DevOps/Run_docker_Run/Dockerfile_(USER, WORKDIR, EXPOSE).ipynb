{
 "cells": [
  {
   "cell_type": "markdown",
   "metadata": {},
   "source": [
    "# Dockerfile (USER, WORKDIR, EXPOSE)\n",
    "\n",
    "- This topic will focus on making specific settings to get the required environment inside your container. These instructions aren't difficult to understand. But still, they need to be studied carefully. Let's start with the USER instruction.\n",
    "\n"
   ]
  },
  {
   "cell_type": "markdown",
   "metadata": {},
   "source": [
    "## USER instruction\n",
    "\n",
    "- Operating systems provide us with the functionality to have multiple users with different privileges. Just like any regular computer operating system, Docker also has features for operating with users. In Docker, you can use the USER instruction to choose the user who will perform operations. Let's start by recalling which user performs operations by default.\n",
    "\n",
    "> Running a container on the Dockerfile above gives the result – root. So, this is the default user. Now, let's implement the USER instruction to switch to another user.\n",
    "\n",
    "```\n",
    "FROM ubuntu:22.04\n",
    "\n",
    "LABEL author=HyperUser\n",
    "\n",
    "USER bin\n",
    "\n",
    "ENTRYPOINT [\"whoami\"]\n",
    "```\n",
    "\n",
    "> Note that you can also specify the group coupled with the user.\n",
    "\n",
    "```\n",
    "FROM ubuntu:22.04\n",
    "\n",
    "LABEL author=HyperUser\n",
    "\n",
    "# USER UID:GID\n",
    "USER 2:0\n",
    "\n",
    "CMD [\"id\"]\n",
    "```\n",
    "\n",
    "\n",
    "# WORKDIR instruction\n",
    "- Another important instruction that helps you configure the environment is the WORKDIR instruction.\n",
    "\n",
    "- - RUN\n",
    "\n",
    "- - CMD\n",
    "\n",
    "- - ENTRYPOINT\n",
    "\n",
    "- - COPY\n",
    "\n",
    "- - ADD\n"
   ]
  },
  {
   "cell_type": "markdown",
   "metadata": {},
   "source": [
    "This instruction can be set more than once. However, each WORKDIR instruction path will be relative to the previous one. Let's look at the following Dockerfile:\n",
    "\n"
   ]
  },
  {
   "cell_type": "markdown",
   "metadata": {},
   "source": [
    "```\n",
    "FROM ubuntu:22.04\n",
    "\n",
    "LABEL author=HyperUser\n",
    "\n",
    "WORKDIR /etc\n",
    "WORKDIR default\n",
    "\n",
    "ENTRYPOINT [\"pwd\"]\n",
    "\n",
    "```"
   ]
  },
  {
   "cell_type": "markdown",
   "metadata": {},
   "source": [
    "For this case, the working directory will be /etc/default. Now, let's discuss an interesting question. What if you want to get back to one of the previous directories? In such cases, you can just set an absolute path of the desired directory:"
   ]
  },
  {
   "cell_type": "markdown",
   "metadata": {},
   "source": [
    "```\n",
    "FROM ubuntu:22.04\n",
    "\n",
    "LABEL author=HyperUser\n",
    "\n",
    "WORKDIR /etc\n",
    "WORKDIR default\n",
    "WORKDIR /etc\n",
    "\n",
    "ENTRYPOINT [\"pwd\"]\n",
    "```"
   ]
  },
  {
   "cell_type": "markdown",
   "metadata": {},
   "source": [
    "# EXPOSE insturanction\n",
    "\n",
    "```\n",
    "FROM ubuntu:22.04\n",
    "\n",
    "LABEL author=HyperUser\n",
    "\n",
    "EXPOSE 80/tcp\n",
    "EXPOSE 80/udp\n",
    "\n",
    "ENTRYPOINT [\"/bin/bash\"]\n",
    "```"
   ]
  }
 ],
 "metadata": {
  "language_info": {
   "name": "python"
  }
 },
 "nbformat": 4,
 "nbformat_minor": 2
}
