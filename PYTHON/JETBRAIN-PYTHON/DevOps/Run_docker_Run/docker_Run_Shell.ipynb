{
 "cells": [
  {
   "cell_type": "markdown",
   "metadata": {},
   "source": [
    "## RUN instruction\n",
    "\n",
    "- The Docker RUN instruction allows you to execute commands or a set of commands during an image build time. You can use this instruction to install packages, set environment variables, or make various configurations. You can use it to execute either a single command or multiple commands using the && operator. Let's start by reviewing it with a single command:\n"
   ]
  },
  {
   "cell_type": "markdown",
   "metadata": {},
   "source": [
    "```\n",
    "FROM ubuntu:22.04\n",
    "\n",
    "LABEL author=HyperUser\n",
    "\n",
    "RUN mkdir /tmp/demo\n",
    "\n",
    "ENTRYPOINT [\"ls\", \"/tmp\"]\n",
    "```"
   ]
  },
  {
   "cell_type": "markdown",
   "metadata": {},
   "source": [
    "Here, you'll create a demo directory inside the /tmp directory and the ls command output will list it inside the /tmp directory. Now, let's try this instruction with two commands. The Dockerfile below will install the iputils-ping package to your image. You can use it to ping any IP address."
   ]
  },
  {
   "cell_type": "markdown",
   "metadata": {},
   "source": [
    "```\n",
    "FROM ubuntu:22.04\n",
    "\n",
    "LABEL author=HyperUser\n",
    "\n",
    "RUN apt-get update -y && apt-get install -y iputils-ping\n",
    "\n",
    "ENTRYPOINT [\"/bin/bash\"]\n",
    "```"
   ]
  },
  {
   "cell_type": "markdown",
   "metadata": {},
   "source": [
    "Now, let's check if we can ping the desired IP address using an image based on the above Dockerfile:"
   ]
  },
  {
   "cell_type": "markdown",
   "metadata": {},
   "source": [
    "```\n",
    "\"\"root@2cedd094f3e4:/# ping 8.8.8.8\"\"\n",
    "PING 8.8.8.8 (8.8.8.8) 56(84) bytes of data.\n",
    "64 bytes from 8.8.8.8: icmp_seq=1 ttl=44 time=1.46 ms\n",
    "64 bytes from 8.8.8.8: icmp_seq=2 ttl=44 time=1.57 ms\n",
    "64 bytes from 8.8.8.8: icmp_seq=3 ttl=44 time=1.46 ms\n",
    "64 bytes from 8.8.8.8: icmp_seq=4 ttl=44 time=1.28 ms\n",
    "64 bytes from 8.8.8.8: icmp_seq=5 ttl=44 time=1.33 ms\n",
    "64 bytes from 8.8.8.8: icmp_seq=6 ttl=44 time=1.63 ms\n",
    "^C\n",
    "--- 8.8.8.8 ping statistics ---\n",
    "6 packets transmitted, 6 received, 0% packet loss, time 5005ms\n",
    "rtt min/avg/max/mdev = 1.281/1.456/1.632/0.121 ms\n",
    "root@2cedd094f3e4:/# exit\n",
    "```"
   ]
  },
  {
   "cell_type": "markdown",
   "metadata": {},
   "source": [
    "If the RUN instruction contains several commands, you can use \\ to transfer the text to the next line"
   ]
  },
  {
   "cell_type": "markdown",
   "metadata": {},
   "source": [
    "```\n",
    "FROM ubuntu:22.04\n",
    "\n",
    "LABEL author=HyperUser\n",
    "\n",
    "RUN apt-get update -y \\\n",
    "  && apt-get upgrade -y \\\n",
    "  && apt-get install iputils-ping -y \\\n",
    "  && apt-get install net-tools -y\n",
    "\n",
    "ENTRYPOINT [\"/bin/bash\"]\n",
    "```"
   ]
  },
  {
   "cell_type": "markdown",
   "metadata": {},
   "source": [
    "## RUN instruction mounts\n",
    "\n",
    "\n",
    "The RUN instruction provides us with the --mount option to create mounts that you can access at the build time to bind files, store cache, etc. This option has several types and each provides a specific feature. Among those types are:\n",
    "\n",
    "- bind: binds files or directories to the build container\n",
    "\n",
    "- cache: caches directories for compilers and package managers\n",
    "\n",
    "- tmpfs: for mounting tmpfs in the build container\n",
    "\n",
    "- secret: gives access to secure files\n",
    "\n",
    "- ssh: gives access to SSH keys via SSH agents"
   ]
  },
  {
   "cell_type": "markdown",
   "metadata": {},
   "source": [
    "If you want to apply this feature, you must enable the BuildKit engine. It's a newer build engine shipped with new features that increase the performance capabilities of Docker. It's enabled by default on Docker Desktop. But if you want to use it on Linux, you need to enable it yourself.\n",
    "\n",
    "To build the image with the required mount option, let's apply the``` DOCKER_BUILDKIT=1 docker build -t ubuntu:v1 .``` command."
   ]
  },
  {
   "cell_type": "markdown",
   "metadata": {},
   "source": [
    "```\n",
    "FROM ubuntu:22.04\n",
    "\n",
    "LABEL author=HyperUser\n",
    "\n",
    "RUN --mount=type=cache,target=/var/cache/apt/archives \\\n",
    "  apt-get update -y \\\n",
    "  && apt-get upgrade -y \\\n",
    "  && apt-get install iputils-ping -y \\\n",
    "  && apt-get install net-tools -y\n",
    "\n",
    "ENTRYPOINT [\"/bin/bash\"]\n",
    "```"
   ]
  },
  {
   "cell_type": "markdown",
   "metadata": {},
   "source": [
    "## SHELL instruction\n",
    "\n",
    "- As you already know, several instructions have shell and exec forms. When applying the shell form, you run commands in the default ```/bin/sh -c shell``` for Linux and ```[\"cmd\", \"/S\", \"/C\"] for Windows```. Docker lets us change this default configuration. The SHELL instruction sets the default shell for instructions operating with the shell form. You can use the ```SHELL [\"executable\", \"parameters\"]``` command to change the default shell. You can use it multiple times but each SHELL instruction overrides the previous one. To see it in action, let's run a container without this instruction on the Dockerfile below."
   ]
  },
  {
   "cell_type": "markdown",
   "metadata": {},
   "source": [
    "```\n",
    "FROM ubuntu:22.04\n",
    "\n",
    "LABEL author=HyperUser\n",
    "\n",
    "# shell form\n",
    "CMD echo Hello, Students.\n",
    "```"
   ]
  },
  {
   "cell_type": "markdown",
   "metadata": {},
   "source": [
    "This is what you'll see in the COMMAND column when listing containers.\n",
    "\n",
    "```\n",
    "$ docker ps -a --format \"table {{.Names}}\\\\t{{.Command}}\" --last 1\n",
    "NAMES        COMMAND ...\n",
    "hs-ubuntu-1   \"/bin/sh -c 'echo He…\"\n",
    "```"
   ]
  },
  {
   "cell_type": "markdown",
   "metadata": {},
   "source": [
    "> Now, let's change the shell to /bin/bash.\n",
    "\n"
   ]
  },
  {
   "cell_type": "markdown",
   "metadata": {},
   "source": [
    "```\n",
    "FROM ubuntu:22.04\n",
    "\n",
    "LABEL author=HyperUser\n",
    "\n",
    "SHELL [\"/bin/bash\", \"-c\"]\n",
    "\n",
    "# shell form\n",
    "CMD echo Hello, Students.\n",
    "```"
   ]
  },
  {
   "cell_type": "markdown",
   "metadata": {},
   "source": [
    "This time the output of the docker ps -a command indicates that the shell has been changed."
   ]
  },
  {
   "cell_type": "markdown",
   "metadata": {},
   "source": [
    "```\n",
    "$ docker ps -a --format \"table {{.Names}}\\\\t{{.Command}}\" --last 1\n",
    "NAMES        COMMAND ...\n",
    "hs-ubuntu-2   \"/bin/bash -c 'echo He…\"\n",
    "```"
   ]
  },
  {
   "cell_type": "markdown",
   "metadata": {},
   "source": [
    "Now, let's look at another Dockerfile shown below.\n",
    "\n",
    "```\n",
    "FROM ubuntu:22.04\n",
    "\n",
    "LABEL author=HyperUser\n",
    "\n",
    "RUN echo Hello, World.\n",
    "\n",
    "SHELL [\"/bin/bash\", \"-c\"]\n",
    "\n",
    "RUN echo Hello, World.\n",
    "\n",
    "CMD echo Hello, Students.\n",
    "```"
   ]
  }
 ],
 "metadata": {
  "language_info": {
   "name": "python"
  }
 },
 "nbformat": 4,
 "nbformat_minor": 2
}
