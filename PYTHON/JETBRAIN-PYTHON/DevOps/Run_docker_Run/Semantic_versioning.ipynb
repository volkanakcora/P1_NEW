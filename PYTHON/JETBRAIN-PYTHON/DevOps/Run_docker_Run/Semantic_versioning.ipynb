{
 "cells": [
  {
   "cell_type": "markdown",
   "metadata": {},
   "source": [
    "# Semantic versioning structure\n",
    "\n",
    "The basic structure of semantic versioning, also known as semver, goes like this: Major.Minor.Patch.\n",
    "\n",
    "For instance, let's have a look at a package called pie.\n",
    "\n",
    "3.1.4\n",
    "\n",
    "- The major version release is 3. This shows that the major version was released 3 times. And each major version had at least 1 incompatible change.\n",
    "\n",
    "- The minor version release is 1. It shows that one backward-compatible feature updates with the current major version.\n",
    "\n",
    "- The Patch version is 4, which means it underwent four bug fixes that are backward-compatible with the current minor version"
   ]
  },
  {
   "cell_type": "markdown",
   "metadata": {},
   "source": [
    "### Major version\n",
    "\n",
    "- 1.0.0       // a new release\n",
    "- 0.1.0-alpha // pre release\n"
   ]
  },
  {
   "cell_type": "markdown",
   "metadata": {},
   "source": [
    "- 3.1.4 // before\n",
    "- 4.0.0 // after the major update"
   ]
  },
  {
   "cell_type": "markdown",
   "metadata": {},
   "source": [
    "# Minor version \n",
    "\n",
    "- 3.1.4 // before\n",
    "- 3.2.0 // after the feature update\n"
   ]
  },
  {
   "cell_type": "markdown",
   "metadata": {},
   "source": [
    "# Patch version\n",
    "\n",
    "- 3.1.4 // before\n",
    "- 3.1.5 // after the patch"
   ]
  },
  {
   "cell_type": "code",
   "execution_count": null,
   "metadata": {},
   "outputs": [],
   "source": []
  }
 ],
 "metadata": {
  "language_info": {
   "name": "python"
  }
 },
 "nbformat": 4,
 "nbformat_minor": 2
}
