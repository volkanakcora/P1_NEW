{
 "cells": [
  {
   "cell_type": "markdown",
   "metadata": {},
   "source": [
    "# Archiving and extracting data\n",
    "\n",
    "- Simply put, archiving is storing files and directories in a single file called 'archive'. Extracting is getting those files and directories from that single file. Quite often compressing is used together with archiving, and that is the process of reducing the size of the files"
   ]
  },
  {
   "cell_type": "markdown",
   "metadata": {},
   "source": [
    "zip my-archive my-report.odt my-report.doc\n"
   ]
  },
  {
   "cell_type": "markdown",
   "metadata": {},
   "source": [
    "\n",
    "to compress\n",
    "```\n",
    "gzip <filename>\n",
    "```\n",
    "\n",
    "to decompress\n",
    "```\n",
    "gunzip <filename.gz>\n",
    "```\n"
   ]
  },
  {
   "cell_type": "markdown",
   "metadata": {},
   "source": [
    "Just like before with zip, if you need to compress files in a directory, you need the -r option:"
   ]
  },
  {
   "cell_type": "markdown",
   "metadata": {},
   "source": [
    "```\n",
    "gzip -r <directory-name>\n",
    "```"
   ]
  },
  {
   "cell_type": "markdown",
   "metadata": {},
   "source": [
    "# tar\n",
    "tar, short from \"Tape ARchive\", is an archiving tool in UNIX-like systems that can also use compressing, for example, gzip-compressing. The name originated from the magnetic tapes that were used for storing data. The tar files have extension .tar, and files compressed with gzip have .tar.gz or .tgz extensions. You might even come across the informal name of those archives – \"tarballs\"."
   ]
  },
  {
   "cell_type": "markdown",
   "metadata": {},
   "source": [
    "```tar``` has really a lot of options, that's why we made life a little bit easier for you and chose the most useful ones. Look at how you can create a compressed archive from a directory:"
   ]
  },
  {
   "cell_type": "markdown",
   "metadata": {},
   "source": [
    "```\n",
    "tar czvf <filename.tar.gz> <directory>\n",
    "```"
   ]
  },
  {
   "cell_type": "markdown",
   "metadata": {},
   "source": [
    "Let's review the options we used closely:\n",
    "\n",
    "```c``` means create an archive;\n",
    "\n",
    "```z``` – use gzip for compressing;\n",
    "\n",
    "```v``` – verbose output that will give you the information on files that will be processed;\n",
    "\n",
    "```f``` means that the output is the file and not a device (for example tape drive). If you don't use it, tar will throw an error."
   ]
  },
  {
   "cell_type": "markdown",
   "metadata": {},
   "source": [
    "Now let's take a look at how we can archive our home directory:\n",
    "\n"
   ]
  },
  {
   "cell_type": "markdown",
   "metadata": {},
   "source": [
    "```\n",
    "tar czvf home-archive.tar.gz /home/\n",
    "```"
   ]
  },
  {
   "cell_type": "markdown",
   "metadata": {},
   "source": [
    "When you need to extract the files from the archive use these options:\n",
    "\n"
   ]
  },
  {
   "cell_type": "markdown",
   "metadata": {},
   "source": [
    "```\n",
    "tar xzvf <filename.tar.gz>\n",
    "```"
   ]
  },
  {
   "cell_type": "code",
   "execution_count": null,
   "metadata": {
    "vscode": {
     "languageId": "plaintext"
    }
   },
   "outputs": [],
   "source": []
  }
 ],
 "metadata": {
  "language_info": {
   "name": "python"
  }
 },
 "nbformat": 4,
 "nbformat_minor": 2
}
