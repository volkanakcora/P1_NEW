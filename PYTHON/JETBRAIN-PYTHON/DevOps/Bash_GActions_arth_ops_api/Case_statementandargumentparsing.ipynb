{
 "cells": [
  {
   "cell_type": "markdown",
   "metadata": {},
   "source": [
    "# Case statement and argument parsing\n"
   ]
  },
  {
   "cell_type": "code",
   "execution_count": null,
   "metadata": {
    "vscode": {
     "languageId": "shellscript"
    }
   },
   "outputs": [],
   "source": [
    "case $variable in\n",
    "    condition-1 )\n",
    "        commands;;\n",
    "    condition-2 )\n",
    "        commands;;\n",
    "    condition-3 )\n",
    "        commands;;\n",
    "    condition-N )\n",
    "        commands;;\n",
    "    * )\n",
    "        commands;;\n",
    "esac"
   ]
  },
  {
   "cell_type": "code",
   "execution_count": null,
   "metadata": {
    "vscode": {
     "languageId": "shellscript"
    }
   },
   "outputs": [],
   "source": [
    "#!/usr/bin/env bash\n",
    "\n",
    "if [[ \"${1}\" == \"\" ]]; then\n",
    "\techo \"No option was selected.\"\n",
    "\n",
    "elif [[ \"${1}\" == \"1\" ]]; then\n",
    "\techo \"You selected '1'.\"\n",
    "\n",
    "elif [[ \"${1}\" == \"2\" ]]; then\n",
    "\techo \"You selected '2'.\"\n",
    "\n",
    "elif [[ \"${1}\" == \"3\" ]]; then\n",
    "\techo \"You selected '3'.\"\n",
    "    \n",
    "else\n",
    "\techo \"Unknown number '${1}'.\"\n",
    "\n",
    "fi"
   ]
  },
  {
   "cell_type": "code",
   "execution_count": null,
   "metadata": {
    "vscode": {
     "languageId": "shellscript"
    }
   },
   "outputs": [],
   "source": [
    "#!/usr/bin/env bash\n",
    "\n",
    "case \"${1}\" in\n",
    "\n",
    "    \"\")       \n",
    "        echo \"No option was selected.\" \n",
    "        ;;\n",
    "    1)     \n",
    "        echo \"You selected '1'.\" \n",
    "        ;;\n",
    "    2)     \n",
    "        echo \"You selected '2'.\" \n",
    "        ;;\n",
    "    3)     \n",
    "        echo \"You selected '3'.\" \n",
    "        ;;\n",
    "    *)     \n",
    "        echo \"Unknown number '${1}'.\" \n",
    "        ;;\n",
    "\n",
    "esac"
   ]
  },
  {
   "cell_type": "markdown",
   "metadata": {},
   "source": [
    "# The shift statement\n",
    "- When working with a long list of arguments, it can be ideal to skip over them after they are processed. This is where the shift command comes to our rescue. shift is a built-in bash command that moves/shifts parameters to their left. The leftmost arguments that were shifted are removed. This command takes an integer as an argument which determines how many positions should be shifted. The syntax for the command is shift n; where n is the argument for the command. In case we don't supply an argument, the default value is 1.\n",
    "\n",
    "\n",
    "## Multiple arguments in a condition\n"
   ]
  },
  {
   "cell_type": "code",
   "execution_count": null,
   "metadata": {
    "vscode": {
     "languageId": "shellscript"
    }
   },
   "outputs": [],
   "source": [
    "#!/usr/bin/env bash\n",
    "\n",
    "case \"${1}\" in\n",
    "\n",
    "    \"\")       \n",
    "        echo \"No option was selected.\" \n",
    "        ;;\n",
    "    1 | 'a')     \n",
    "        echo \"You either selected '1' or 'a'.\" \n",
    "        ;;\n",
    "    2 | 'b')     \n",
    "        echo \"You either selected '2' or 'b'.\" \n",
    "        ;;\n",
    "    3 | 'c')     \n",
    "        echo \"You either selected '3' or 'c'.\" \n",
    "        ;;\n",
    "    *)     \n",
    "        echo \"Unknown character '${1}'.\" \n",
    "        ;;\n",
    "\n",
    "esac"
   ]
  }
 ],
 "metadata": {
  "language_info": {
   "name": "python"
  }
 },
 "nbformat": 4,
 "nbformat_minor": 2
}
