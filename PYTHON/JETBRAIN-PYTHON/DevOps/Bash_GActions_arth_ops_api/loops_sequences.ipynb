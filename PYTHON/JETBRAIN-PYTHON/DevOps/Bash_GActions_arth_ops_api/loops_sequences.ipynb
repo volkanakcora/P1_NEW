{
 "cells": [
  {
   "cell_type": "markdown",
   "metadata": {},
   "source": [
    "# Loops and sequences\n"
   ]
  },
  {
   "cell_type": "markdown",
   "metadata": {},
   "source": [
    "### For loop\n"
   ]
  },
  {
   "cell_type": "code",
   "execution_count": null,
   "metadata": {
    "vscode": {
     "languageId": "shellscript"
    }
   },
   "outputs": [],
   "source": [
    "for variable in set_of_values\n",
    "do\n",
    "    command\n",
    "done"
   ]
  },
  {
   "cell_type": "code",
   "execution_count": null,
   "metadata": {
    "vscode": {
     "languageId": "shellscript"
    }
   },
   "outputs": [],
   "source": [
    "$ for i in 1 2 3 4 5 do \n",
    "    echo $i \n",
    "  done\n",
    "1\n",
    "2\n",
    "3\n",
    "4\n",
    "5"
   ]
  },
  {
   "cell_type": "markdown",
   "metadata": {},
   "source": [
    "Here's an example of a range from 1 to 5 with a step of 2 in the terminal:"
   ]
  },
  {
   "cell_type": "code",
   "execution_count": null,
   "metadata": {
    "vscode": {
     "languageId": "shellscript"
    }
   },
   "outputs": [],
   "source": [
    "$ for i in {1..5..2} do \n",
    "    echo $i\n",
    "  done\n",
    "1\n",
    "3\n",
    "5"
   ]
  },
  {
   "cell_type": "code",
   "execution_count": null,
   "metadata": {
    "vscode": {
     "languageId": "shellscript"
    }
   },
   "outputs": [],
   "source": [
    "$ for i in John Jack Mary do \n",
    "    echo \"Here is $i\" \n",
    "  done\n",
    "Here is John\n",
    "Here is Jack\n",
    "Here is Mary"
   ]
  },
  {
   "cell_type": "markdown",
   "metadata": {},
   "source": [
    "### Using the seq command in a for loop\n"
   ]
  },
  {
   "cell_type": "markdown",
   "metadata": {},
   "source": [
    "To iterate a range of numbers, you can use the seq command. In this command, sequences can be generated using the following syntax:\n",
    "\n",
    "``` seq [options] number```"
   ]
  },
  {
   "cell_type": "code",
   "execution_count": null,
   "metadata": {
    "vscode": {
     "languageId": "shellscript"
    }
   },
   "outputs": [],
   "source": [
    "$ seq 4\n",
    "1\n",
    "2\n",
    "3\n",
    "4"
   ]
  },
  {
   "cell_type": "markdown",
   "metadata": {},
   "source": [
    "This command may also have a few options:\n",
    "\n",
    "- -f – this option is used to format the output in a particular way. You can use format description operators to set the format. By default, it's %g. To adjust the format option, you just need to use the format operator: seq -f %f 5.\n",
    "\n",
    "- -w – this option is used to set an equal width for the whole sequence by padding numbers with leading zeros.\n",
    "\n",
    "- -s – this option is used to separate the numbers with a string. By default, the string is set to \"\\n\". If you, for example, use the string \" | \", the sequence will look like this"
   ]
  },
  {
   "cell_type": "code",
   "execution_count": null,
   "metadata": {
    "vscode": {
     "languageId": "shellscript"
    }
   },
   "outputs": [],
   "source": [
    "$ seq -s \" | \" 5\n",
    "1 | 2 | 3 | 4 | 5"
   ]
  },
  {
   "cell_type": "code",
   "execution_count": null,
   "metadata": {
    "vscode": {
     "languageId": "shellscript"
    }
   },
   "outputs": [],
   "source": [
    "$ for i in $(seq 1 2 5); do \n",
    "    echo \"Number: $i\"\n",
    "  done\n",
    "Number: 1\n",
    "Number: 3\n",
    "Number: 5"
   ]
  },
  {
   "cell_type": "markdown",
   "metadata": {},
   "source": [
    "# While loop\n",
    "The while loop is a construct that will be executed as long as a control command returns the true status. The control command is any command that can return the true or false status. "
   ]
  },
  {
   "cell_type": "code",
   "execution_count": null,
   "metadata": {
    "vscode": {
     "languageId": "shellscript"
    }
   },
   "outputs": [],
   "source": [
    "while [ condition ]\n",
    "do\n",
    "    command\n",
    "done"
   ]
  },
  {
   "cell_type": "code",
   "execution_count": null,
   "metadata": {
    "vscode": {
     "languageId": "shellscript"
    }
   },
   "outputs": [],
   "source": [
    "while control-command\n",
    "do\n",
    "    command\n",
    "done"
   ]
  },
  {
   "cell_type": "markdown",
   "metadata": {},
   "source": [
    "Here's an example of a loop that will go on while the variable i is less than or equal to 3:\n",
    "\n"
   ]
  },
  {
   "cell_type": "code",
   "execution_count": null,
   "metadata": {
    "vscode": {
     "languageId": "shellscript"
    }
   },
   "outputs": [],
   "source": [
    "$ i=1\n",
    "$ while [ $i -le 3 ] do \n",
    "    echo \"I is $i\" \n",
    "    i=$(($i+1)) \n",
    "  done\n",
    "I is 1\n",
    "I is 2\n",
    "I is 3"
   ]
  },
  {
   "cell_type": "markdown",
   "metadata": {},
   "source": [
    "# Conditional loop control\n"
   ]
  },
  {
   "cell_type": "code",
   "execution_count": null,
   "metadata": {
    "vscode": {
     "languageId": "shellscript"
    }
   },
   "outputs": [],
   "source": [
    "for i in set_of_values\n",
    "do\n",
    "    if [ condition ]\n",
    "    then\n",
    "        break # or continue\n",
    "    fi\n",
    "    command\n",
    "done"
   ]
  },
  {
   "cell_type": "markdown",
   "metadata": {},
   "source": [
    "The break command allows us to initiate an early exit from the loop. Here's an example of a loop containing 5 numbers, which will exit on the 4th number:"
   ]
  },
  {
   "cell_type": "code",
   "execution_count": null,
   "metadata": {
    "vscode": {
     "languageId": "shellscript"
    }
   },
   "outputs": [],
   "source": [
    "$ for i in $(seq 1 5); do \n",
    "    if [ $i -eq 4 ]; then \n",
    "        break; \n",
    "    fi\n",
    "    echo \"Number: $i\" \n",
    "  done\n",
    "Number: 1\n",
    "Number: 2\n",
    "Number: 3"
   ]
  },
  {
   "cell_type": "markdown",
   "metadata": {},
   "source": [
    "Using continue allows us to skip some iterations of a loop without exiting it"
   ]
  },
  {
   "cell_type": "code",
   "execution_count": null,
   "metadata": {
    "vscode": {
     "languageId": "shellscript"
    }
   },
   "outputs": [],
   "source": [
    "$ for i in $(seq 1 10); do \n",
    "    if [ $i -gt 5 ] && [ $i -lt 10 ]; then \n",
    "        continue; \n",
    "    fi; \n",
    "        echo \"Number: $i\" \n",
    "  done\n",
    "Number: 1\n",
    "Number: 2\n",
    "Number: 3\n",
    "Number: 4\n",
    "Number: 5\n",
    "Number: 10"
   ]
  },
  {
   "cell_type": "code",
   "execution_count": null,
   "metadata": {
    "vscode": {
     "languageId": "shellscript"
    }
   },
   "outputs": [],
   "source": [
    "start=$1\n",
    "end=$2\n",
    "\n",
    "# Use seq command with the range and / separator\n",
    "seq -s/ $start $end\n"
   ]
  }
 ],
 "metadata": {
  "language_info": {
   "name": "python"
  }
 },
 "nbformat": 4,
 "nbformat_minor": 2
}
