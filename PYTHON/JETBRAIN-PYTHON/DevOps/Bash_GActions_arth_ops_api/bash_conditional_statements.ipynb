{
 "cells": [
  {
   "cell_type": "markdown",
   "metadata": {},
   "source": [
    "## Conditional statements and test checks\n"
   ]
  },
  {
   "cell_type": "code",
   "execution_count": null,
   "metadata": {
    "vscode": {
     "languageId": "shellscript"
    }
   },
   "outputs": [],
   "source": [
    "if [conditions]; then\n",
    "   commands\n",
    "fi"
   ]
  },
  {
   "cell_type": "markdown",
   "metadata": {},
   "source": [
    "Test command and its options\n",
    "The test command is used to perform various checks/comparisons. It has two different syntaxes which are equivalent though the second syntax is far more popular.\n",
    "\n",
    "test expression\n",
    "or\n",
    "\n",
    "[ expression ]"
   ]
  },
  {
   "cell_type": "markdown",
   "metadata": {},
   "source": [
    "![alt text](Capture.PNG  \"Title\")\n"
   ]
  },
  {
   "cell_type": "markdown",
   "metadata": {},
   "source": [
    "\n",
    "\n",
    "- ! Logical NOT  if [ ! EXPR ]\n",
    "\n",
    "- -a Logical AND if [ EXPR1 -a EXPR2 ]\n",
    "\n",
    "- -o Logical OR if [ EXPR1 -o EXPR2 ]"
   ]
  },
  {
   "cell_type": "markdown",
   "metadata": {},
   "source": [
    "Let's take a look at an example of the test command in action in a basic if-statement:\n",
    "\n"
   ]
  },
  {
   "cell_type": "code",
   "execution_count": null,
   "metadata": {
    "vscode": {
     "languageId": "shellscript"
    }
   },
   "outputs": [],
   "source": [
    "# Checking the password entered by user\n",
    "\n",
    "echo \"Enter password: \"\n",
    "read input\n",
    "if [ $input = \"Pass!@#\" ]; then\n",
    "    echo \"Correct password entered\"\n",
    "fi"
   ]
  },
  {
   "cell_type": "markdown",
   "metadata": {},
   "source": [
    "# The else block\n",
    "\n"
   ]
  },
  {
   "cell_type": "code",
   "execution_count": null,
   "metadata": {
    "vscode": {
     "languageId": "shellscript"
    }
   },
   "outputs": [],
   "source": [
    "if [ $input = \"Pass!@#\" ]; then\n",
    "    echo \"Correct password entered\"\n",
    "else\n",
    "    echo \"Incorrect password entered\"\n",
    "fi"
   ]
  },
  {
   "cell_type": "markdown",
   "metadata": {},
   "source": [
    "# The Elif\n"
   ]
  },
  {
   "cell_type": "code",
   "execution_count": null,
   "metadata": {
    "vscode": {
     "languageId": "shellscript"
    }
   },
   "outputs": [],
   "source": [
    "num1=20;\n",
    "num2=10;\n",
    "\n",
    "if [ \"$num1\" -eq \"$num2\" ]; then\n",
    "    echo \"Numbers are equal\"\n",
    "elif [ \"$num1\" -gt \"$num2\" ]; then\n",
    "    echo \"First number is greater\"\n",
    "else\n",
    "    echo \"Second number is greater\"\n",
    "fi"
   ]
  },
  {
   "cell_type": "code",
   "execution_count": null,
   "metadata": {
    "vscode": {
     "languageId": "shellscript"
    }
   },
   "outputs": [],
   "source": [
    "if test-commands; then\n",
    "    consequent-commands\n",
    "elif more-test-commands; then\n",
    "    more-consequents\n",
    "else\n",
    "    some-more-consequents\n",
    "fi"
   ]
  }
 ],
 "metadata": {
  "language_info": {
   "name": "python"
  }
 },
 "nbformat": 4,
 "nbformat_minor": 2
}
