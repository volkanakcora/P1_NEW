{
 "cells": [
  {
   "cell_type": "markdown",
   "metadata": {},
   "source": [
    "## Arithmetic operators\n",
    "\n",
    "'+'\n",
    "\n",
    "Addition\n",
    "\n",
    "Add two operands\n",
    "\n",
    "$((10+3))\n",
    "\n",
    "13\n",
    "## - - - - - -\n",
    "'-'\n",
    "\n",
    "Subtraction\n",
    "\n",
    "Subtract two operands\n",
    "\n",
    "$((10-3))\n",
    "\n",
    "7\n",
    "## - - - -\n",
    "'*'\n",
    "\n",
    "Multiplication\n",
    "\n",
    "Multiply two operands\n",
    "\n",
    "$((10*3))\n",
    "\n",
    "30\n",
    "## - - - -\n",
    "\n",
    "'/'\n",
    "\n",
    "Division\n",
    "\n",
    "Return quotient after division\n",
    "\n",
    "$((10/3))\n",
    "\n",
    "3\n",
    "## - - - \n",
    "'%'\n",
    "\n",
    "Modulo\n",
    "\n",
    "Return remainder after division\n",
    "\n",
    "$((10%3))\n",
    "\n",
    "1\n",
    "## - - -\n",
    "\n",
    "'**'\n",
    "\n",
    "Exponential\n",
    "\n",
    "Raise the first operand to the power of the second\n",
    "\n",
    "$((10**3))\n",
    "\n",
    "1000"
   ]
  },
  {
   "cell_type": "markdown",
   "metadata": {},
   "source": [
    "## Examples\n",
    "\n"
   ]
  },
  {
   "cell_type": "code",
   "execution_count": null,
   "metadata": {
    "vscode": {
     "languageId": "shellscript"
    }
   },
   "outputs": [],
   "source": [
    "#!usr/bin/env/bash\n",
    "\n",
    "#Executing simple arithmetic operations\n",
    "echo $(( 10*5+15 ))\n",
    "echo $(( 40/6 ))"
   ]
  },
  {
   "cell_type": "markdown",
   "metadata": {},
   "source": [
    "## Operations with a variable\n"
   ]
  },
  {
   "cell_type": "markdown",
   "metadata": {},
   "source": [
    "+=\n",
    "\n",
    "Addition by constant\n",
    "\n",
    "Add two operands\n",
    "\n",
    "$((x+=3))\n",
    "\n",
    "13\n",
    "\n",
    "-=\n",
    "\n",
    "Subtraction by constant\n",
    "\n",
    "Subtract two operands\n",
    "\n",
    "$((x-=3))\n",
    "\n",
    "7\n",
    "\n",
    "*=\n",
    "\n",
    "Multiplication by constant\n",
    "\n",
    "Multiply two operands\n",
    "\n",
    "$((x*=3))\n",
    "\n",
    "30\n",
    "\n",
    "/=\n",
    "\n",
    "Division by constant\n",
    "\n",
    "Return quotient after division\n",
    "\n",
    "$((x/=3))\n",
    "\n",
    "3\n",
    "\n",
    "%=\n",
    "\n",
    "Modulo by constant\n",
    "\n",
    "Return remainder after division\n",
    "\n",
    "$((x%=3))\n",
    "\n",
    "1"
   ]
  },
  {
   "cell_type": "markdown",
   "metadata": {},
   "source": [
    "## Ezxamples"
   ]
  },
  {
   "cell_type": "code",
   "execution_count": null,
   "metadata": {
    "vscode": {
     "languageId": "shellscript"
    }
   },
   "outputs": [],
   "source": [
    "#!usr/bin/env/bash\n",
    "\n",
    "#Assigning value to variables\n",
    "val1=$(( 10*3-15 ))\n",
    "echo $val1\n",
    "\n",
    "#Arithmetic operations using constants\n",
    "echo $(( val1 *= 3 ))"
   ]
  },
  {
   "cell_type": "markdown",
   "metadata": {},
   "source": [
    "## Relational and logical operations\n"
   ]
  },
  {
   "cell_type": "code",
   "execution_count": null,
   "metadata": {
    "vscode": {
     "languageId": "shellscript"
    }
   },
   "outputs": [],
   "source": [
    "#!usr/bin/env/bash\n",
    "\n",
    "#Less than operator\n",
    "bc <<< \"10 < 1\"\n",
    "\n",
    "#Is not equal to operator\n",
    "bc <<< \"10 != 11\"\n",
    "\n",
    "0\n",
    "1"
   ]
  },
  {
   "cell_type": "markdown",
   "metadata": {},
   "source": [
    "Other relational operators are >, >=, <= and ==. Now let's look at logical operators. The bc utility provides us with three of these: &&, || and !. The result is given as either 0 or 1; which denotes false and true respectively."
   ]
  },
  {
   "cell_type": "markdown",
   "metadata": {},
   "source": [
    "Operator\n",
    "\n",
    "Example\n",
    "\n",
    "Evaluation logic\n",
    "\n",
    "Result\n",
    "\n",
    "&&\n",
    "\n",
    "bc <<< \"5&&6\"\n",
    "\n",
    "1; if all operands are non-zero\n",
    "\n",
    "1\n",
    "\n",
    "||\n",
    "\n",
    "bc <<< \"5||6\"\n",
    "\n",
    "1; if any one operand is non-zero\n",
    "\n",
    "1\n",
    "\n",
    "!\n",
    "\n",
    "bc <<< \"!5\"\n",
    "\n",
    "1; if the operand is 0\n",
    "\n",
    "0"
   ]
  },
  {
   "cell_type": "markdown",
   "metadata": {},
   "source": [
    "Let's take a look at some examples that utilize the standard math library in bash.\n",
    "\n"
   ]
  },
  {
   "cell_type": "code",
   "execution_count": null,
   "metadata": {
    "vscode": {
     "languageId": "shellscript"
    }
   },
   "outputs": [],
   "source": [
    "#!usr/bin/env/bash\n",
    "\n",
    "#Arithmetic operation that returns a floating-point number\n",
    "bc -l <<< \"(1 + 2)/7 * 2 ** 2\"\n",
    "\n",
    "#Using sine and cosine functions\n",
    "bc -l <<< \"s(1) + c(1)\"\n",
    "\n",
    "#Using logarithmic and exponential functions\n",
    "bc -l <<< \"e(1) + l(5)\"\n",
    "\n",
    "#Finding the square root of a number\n",
    "bc -l <<< \"sqrt(27)\""
   ]
  },
  {
   "cell_type": "markdown",
   "metadata": {},
   "source": [
    "The bc utility also provides functionalities that help us control the number of digits after a decimal point and convert numbers into different bases."
   ]
  },
  {
   "cell_type": "code",
   "execution_count": null,
   "metadata": {
    "vscode": {
     "languageId": "shellscript"
    }
   },
   "outputs": [],
   "source": [
    "#!usr/bin/env/bash\n",
    "\n",
    "#Converting binary 10 to octal\n",
    "bc -l <<< \"ibase=2; obase=8; 10\"\n",
    "\n",
    "#Converting decimal 5 to binary\n",
    "bc -l <<< \"obase=2; 5\"\n",
    "\n",
    "#Using scale to control length of floating-point numbers\n",
    "bc -l <<< \"scale=3; a(30)\""
   ]
  },
  {
   "cell_type": "markdown",
   "metadata": {},
   "source": [
    "We will get the following output:\n",
    "\n",
    "- 2\n",
    "- 101\n",
    "- 1.537"
   ]
  }
 ],
 "metadata": {
  "language_info": {
   "name": "python"
  }
 },
 "nbformat": 4,
 "nbformat_minor": 2
}
