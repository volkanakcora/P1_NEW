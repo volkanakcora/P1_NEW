{
 "cells": [
  {
   "cell_type": "markdown",
   "metadata": {},
   "source": [
    "## Arguments\n",
    "Using arguments, you can pass information for processing to a script. When you run a script, the bash shell assigns them to special variables called positional parameters. The null parameter $0 is always the name of the script, and then follows user parameters passed to a script. There can be as many parameters as you want.\n"
   ]
  },
  {
   "cell_type": "markdown",
   "metadata": {},
   "source": [
    "there is a simple script called personal_data.sh. It receives information about the name and age of a person and then outputs it to the console. It looks like this:"
   ]
  },
  {
   "cell_type": "code",
   "execution_count": null,
   "metadata": {
    "vscode": {
     "languageId": "shellscript"
    }
   },
   "outputs": [],
   "source": [
    "#!/usr/bin/env bash\n",
    "\n",
    "echo \"You provided $# facts about yourself!\"\n",
    "echo \"Your name is $1\"\n",
    "echo \"Your age is $2\""
   ]
  },
  {
   "cell_type": "markdown",
   "metadata": {},
   "source": [
    ">``` In our example, we are passing two parameters, the name and the age. Therefore, they are assigned respectively to $1 and $2 and will be sequentially read from the console. These positional parameters may also be denoted as ${<parameter>}, for instance, if they contain more than one symbol, ex., ${123}.```"
   ]
  },
  {
   "cell_type": "markdown",
   "metadata": {},
   "source": [
    "The $# variable denotes the total number of the parameters (in our case there are 2 parameters). We also output this number to the console.\n",
    "\n",
    "The result of the script is the following:"
   ]
  },
  {
   "cell_type": "code",
   "execution_count": null,
   "metadata": {
    "vscode": {
     "languageId": "shellscript"
    }
   },
   "outputs": [],
   "source": [
    "$ bash personal_data.sh Amy 26\n",
    "You provided 2 facts about yourself!\n",
    "Your name is Amy\n",
    "Your age is 26"
   ]
  },
  {
   "cell_type": "markdown",
   "metadata": {},
   "source": [
    "# Functions\n",
    " Let's take a look at the simplest function as an example. A function can be set in two ways: either by function function_name {} or function_name() {}. Okay, let's improve on the previous code:"
   ]
  },
  {
   "cell_type": "code",
   "execution_count": null,
   "metadata": {
    "vscode": {
     "languageId": "shellscript"
    }
   },
   "outputs": [],
   "source": [
    "#!/usr/bin/env bash\n",
    "\n",
    "personal_data() {\n",
    "    echo \"You provided $# facts about yourself!\"\n",
    "    echo \"Your name is $1\"\n",
    "    echo \"Your age is $2\"\n",
    "}"
   ]
  },
  {
   "cell_type": "markdown",
   "metadata": {},
   "source": [
    "Now the user experience will be a separate function called personal_data(). We can call this function by adding below in the same file:"
   ]
  },
  {
   "cell_type": "code",
   "execution_count": null,
   "metadata": {
    "vscode": {
     "languageId": "shellscript"
    }
   },
   "outputs": [],
   "source": [
    "personal_data \"Amy\" 26  \n"
   ]
  },
  {
   "cell_type": "markdown",
   "metadata": {},
   "source": [
    "Then we open bash and call the function. Note, that now we do not need to type parameters in the console, just the filename with the function and given parameters."
   ]
  },
  {
   "cell_type": "code",
   "execution_count": null,
   "metadata": {
    "vscode": {
     "languageId": "shellscript"
    }
   },
   "outputs": [],
   "source": [
    "$ bash personal_data.sh\n",
    "You provided 2 facts about yourself!\n",
    "Your name is Amy\n",
    "Your age is 26"
   ]
  },
  {
   "cell_type": "markdown",
   "metadata": {},
   "source": [
    "# Cat\n",
    "\n"
   ]
  },
  {
   "cell_type": "code",
   "execution_count": null,
   "metadata": {
    "vscode": {
     "languageId": "shellscript"
    }
   },
   "outputs": [],
   "source": [
    "$ cat -n unix_cat.txt\n",
    "\n",
    "1  Unix cat, Unix cat, where have you been?\n",
    "2  I have been in the shell, that's my daily routine.\n",
    "3\n",
    "4  Unix cat, Unix cat, what's more to tale?\n",
    "5  I read all the files from head to tail!  "
   ]
  }
 ],
 "metadata": {
  "language_info": {
   "name": "python"
  }
 },
 "nbformat": 4,
 "nbformat_minor": 2
}
