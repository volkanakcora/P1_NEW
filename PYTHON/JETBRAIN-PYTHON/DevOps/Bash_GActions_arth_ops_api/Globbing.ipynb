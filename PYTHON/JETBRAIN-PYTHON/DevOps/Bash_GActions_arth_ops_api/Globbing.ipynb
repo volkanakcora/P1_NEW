{
 "cells": [
  {
   "cell_type": "markdown",
   "metadata": {},
   "source": [
    "- $ ls\n",
    "- - Brunt  Damar  Dukat  Garak  Martok  Quark  Weyoun\n",
    "- $ ls *k\n",
    "- - Garak  Martok  Quark"
   ]
  },
  {
   "cell_type": "markdown",
   "metadata": {},
   "source": [
    "# Glob patterns\n",
    "\n",
    "![alt text](Capture1.PNG  \"Title\")\n"
   ]
  },
  {
   "cell_type": "markdown",
   "metadata": {},
   "source": [
    "As we have seen earlier you can use glob patterns with such commands in the terminal as ls or cp, mv, rm and others, including even git."
   ]
  },
  {
   "cell_type": "code",
   "execution_count": null,
   "metadata": {},
   "outputs": [],
   "source": [
    "rm file{1-6}\n",
    "\n",
    "cp ~/.* /mnt/usb/\n",
    "\n",
    "git add *.scm"
   ]
  },
  {
   "cell_type": "markdown",
   "metadata": {},
   "source": [
    "# Examples:\n",
    "\n",
    "1)\n",
    "Use ls command and glob patterns to choose all the files whose name begins with \"file\" or \"File\", followed by only one symbol and ends with .md, like fileG.md.\n",
    "\n",
    "```    ls -d -- [fF]ile?.md```"
   ]
  },
  {
   "cell_type": "markdown",
   "metadata": {},
   "source": [
    "2) Use ls command and glob patterns to list all the files ending in .hs like Imhere.hs from the current directory.\n",
    "\n",
    "```ls -d -- *.hs```"
   ]
  },
  {
   "cell_type": "markdown",
   "metadata": {},
   "source": [
    "ending 1 to 5 \n",
    "\n",
    "ls -d -- *[!1-5]\n"
   ]
  },
  {
   "cell_type": "markdown",
   "metadata": {},
   "source": []
  },
  {
   "cell_type": "markdown",
   "metadata": {},
   "source": []
  }
 ],
 "metadata": {
  "language_info": {
   "name": "python"
  }
 },
 "nbformat": 4,
 "nbformat_minor": 2
}
