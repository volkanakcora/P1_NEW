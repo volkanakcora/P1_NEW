{
 "cells": [
  {
   "cell_type": "markdown",
   "metadata": {},
   "source": [
    "# Script example\n"
   ]
  },
  {
   "cell_type": "code",
   "execution_count": null,
   "metadata": {
    "vscode": {
     "languageId": "shellscript"
    }
   },
   "outputs": [],
   "source": [
    "#!/usr/bin/env bash\n",
    "set -euo pipefail\n",
    "\n",
    "function add() {\n",
    "    echo $(( $1 + $2 ))\n",
    "}\n",
    "\n",
    "function subtract() {\n",
    "    echo $(( $1 - $2 ))\n",
    "}\n",
    "\n",
    "case $1 in\n",
    "    add )\n",
    "        add $2 $3;;\n",
    "    subtract )\n",
    "        subtract $2 $3;;\n",
    "    * )\n",
    "        echo \"unknown operation\";;\n",
    "esac"
   ]
  },
  {
   "cell_type": "markdown",
   "metadata": {},
   "source": [
    "Error handling\n",
    "\n",
    "Working with a bash script is somewhat different than working with the bash shell itself. When you create script files, you have a clear goal. Since we do not execute each command manually, it is important to handle errors on the whole script properly. To do this, use the line: set -euo pipefail. It is made up of 3 parts:\n",
    "\n",
    "- set -e: by default, bash does not halt the execution of the script. This is helpful when we work with bash shell but not when executing bash scripts. The set -e option exits bash immediately when faced with an error.\n",
    "- set -u: this will cause the program to automatically exit when an undefined variable is referenced.\n",
    "- set -o pipefail : When a command in a pipeline fails, it returns the code of the last executed command. To return the command that was the reason behind the failure, use set -o pipefail."
   ]
  },
  {
   "cell_type": "markdown",
   "metadata": {},
   "source": [
    "# Case statement\n"
   ]
  },
  {
   "cell_type": "code",
   "execution_count": null,
   "metadata": {
    "vscode": {
     "languageId": "shellscript"
    }
   },
   "outputs": [],
   "source": [
    "case $variable in\n",
    "    condition-1 )\n",
    "        commands;;\n",
    "    condition-2 )\n",
    "        commands;;\n",
    "    condition-3 )\n",
    "        commands;;\n",
    "    condition-N )\n",
    "        commands;;\n",
    "    * )\n",
    "        commands;;\n",
    "esac"
   ]
  },
  {
   "cell_type": "markdown",
   "metadata": {},
   "source": [
    "# Functions\n"
   ]
  },
  {
   "cell_type": "code",
   "execution_count": null,
   "metadata": {
    "vscode": {
     "languageId": "shellscript"
    }
   },
   "outputs": [],
   "source": [
    "function function_name_multiplier () {\n",
    "    echo $(( $1 * $2 ))\n",
    "}"
   ]
  }
 ],
 "metadata": {
  "language_info": {
   "name": "python"
  }
 },
 "nbformat": 4,
 "nbformat_minor": 2
}
