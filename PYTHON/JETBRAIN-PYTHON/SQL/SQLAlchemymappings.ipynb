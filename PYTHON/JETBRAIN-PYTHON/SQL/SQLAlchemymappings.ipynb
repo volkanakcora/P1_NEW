{
 "cells": [
  {
   "cell_type": "markdown",
   "metadata": {},
   "source": [
    ", mapping. It transforms SQL objects into Python ones. There are two main mapping types in SQLAlchemy. One is classical mapping, the other is declarative mapping. We will discuss these types below."
   ]
  },
  {
   "cell_type": "markdown",
   "metadata": {},
   "source": [
    "# Classical mapping\n",
    "\n",
    "Classical mapping refers to the configuration of a mapped class that was created with the mapper() function. We need to define a database table and the corresponding Python class separately to link them with mapper(). After that, all changes to the table and class made via SQLAlchemy are saved in your database. Classical mapping is a base mapping system provided by the ORM. Take a look at the snippet below:\n",
    "\n"
   ]
  },
  {
   "cell_type": "code",
   "execution_count": null,
   "metadata": {},
   "outputs": [],
   "source": [
    "from sqlalchemy import Table, MetaData, Column, Integer, String\n",
    "from sqlalchemy.orm import mapper\n",
    "\n",
    "metadata = MetaData()\n",
    "\n",
    "animals = Table('animals', metadata,\n",
    "                Column('id', Integer, primary_key=True),\n",
    "                Column('petname', String(30)),\n",
    "                Column('age', Integer),\n",
    "                Column('weight', Integer))\n",
    "\n",
    "\n",
    "class Animals(object):\n",
    "    def __init__(self, petname, age, weight):\n",
    "        self.petname = petname\n",
    "        self.age = age\n",
    "        self.weight = weight\n",
    "\n",
    "\n",
    "mapper(Animals, animals)  # < Mapper at 0x7f1e9d72b590; Animals >"
   ]
  },
  {
   "cell_type": "markdown",
   "metadata": {},
   "source": [
    "First of all, we import Table and MetaData constructions to create a table. We also need to import Column, Integer and String to define table features. Mapper can help us to associate the table with the class. After that, we define the animals variable, in which we create an instance of the Table() class, store the name of our new table, and specify the metadata. "
   ]
  },
  {
   "cell_type": "markdown",
   "metadata": {},
   "source": [
    "we need to define columns for data. Each column should have a name and datatype (a string or an integer). For string, it is a good idea to specify the length. Simply stated, an SQLAlchemy string is similar to SQL VARCHAR. Finally, if you need to define a primary key, you can assign True to the primary_key parameter. This parameter means that the data in a specific column is unique and can't be repeated twice."
   ]
  },
  {
   "cell_type": "markdown",
   "metadata": {},
   "source": [
    "The next step is to define the corresponding Animals class. It should have the same name as the table we have created. The Animals class specifies the details about our table such as petname, age and weight. These names should also correspond to the columns, otherwise, errors will occur when you set to add information to the database."
   ]
  },
  {
   "cell_type": "markdown",
   "metadata": {},
   "source": [
    "# Declarative Mapping\n",
    "\n",
    "- Declarative mapping is a concise version of classical mapping. We don't need to specify a class and a table separately, we can do it all in one class. Let's try to write a concise form of the previous snippet:\n",
    "\n"
   ]
  },
  {
   "cell_type": "code",
   "execution_count": null,
   "metadata": {},
   "outputs": [],
   "source": [
    "from sqlalchemy.ext.declarative import declarative_base\n",
    "from sqlalchemy import Column, Integer, String\n",
    "\n",
    "Base = declarative_base()\n",
    "\n",
    "\n",
    "class Animals(Base):\n",
    "    __tablename__ = 'animals'\n",
    "\n",
    "    id = Column(Integer, primary_key=True)\n",
    "    petname = Column(String(30))\n",
    "    age = Column(Integer)\n",
    "    weight = Column(Integer)"
   ]
  },
  {
   "cell_type": "markdown",
   "metadata": {},
   "source": [
    "Our code has become more readable, hasn't it? This time we import declarative_base, a basic function that constructs a base class for defining a declarative class (the Animals class will be declarative). It is assigned to the Base variable in our example. Inside the Animals class, we define the name of our table and the columns with their parameters. Mind that you can define a name either by using __tablename__ or a hybrid approach described in the Documentation. We don't use the mapper() function here, as both the table and class have already been associated in the declarative class."
   ]
  },
  {
   "cell_type": "markdown",
   "metadata": {},
   "source": [
    "```We don't need to use __init__ in the snippet above. declarative_base()contains the built-in __init__, so you don't need to define it.```"
   ]
  },
  {
   "cell_type": "markdown",
   "metadata": {},
   "source": [
    "After that, we can create an engine to carry on with our table:\n",
    "\n"
   ]
  },
  {
   "cell_type": "code",
   "execution_count": null,
   "metadata": {},
   "outputs": [],
   "source": [
    "from sqlalchemy import create_engine\n",
    "\n",
    "engine = create_engine('sqlite://', echo=True)\n",
    "Base.metadata.create_all(engine)"
   ]
  },
  {
   "cell_type": "markdown",
   "metadata": {},
   "source": [
    "This is our SQLite engine. The create_all() function saves our table in SQLite format. As the echo is True, you will see a log:"
   ]
  },
  {
   "cell_type": "markdown",
   "metadata": {},
   "source": [
    "```# 2021-04-10 07:34:29,890 INFO sqlalchemy.engine.Engine BEGIN (implicit)\n",
    "# 2021-04-10 07:34:29,893 INFO sqlalchemy.engine.Engine PRAGMA main.table_info(\"animals\")\n",
    "# 2021-04-10 07:34:29,900 INFO sqlalchemy.engine.Engine [raw sql] ()\n",
    "# 2021-04-10 07:34:29,902 INFO sqlalchemy.engine.Engine PRAGMA temp.table_info(\"animals\")\n",
    "# 2021-04-10 07:34:29,903 INFO sqlalchemy.engine.Engine [raw sql] ()\n",
    "# 2021-04-10 07:34:29,906 INFO sqlalchemy.engine.Engine \n",
    "# CREATE TABLE animals (\n",
    "# \tid INTEGER NOT NULL, \n",
    "# \tpetname VARCHAR, \n",
    "# \tage INTEGER, \n",
    "# \tweight INTEGER, \n",
    "# \tPRIMARY KEY (id)\n",
    "# )\n",
    "# \n",
    "#\n",
    "# 2021-04-10 07:34:29,908 INFO sqlalchemy.engine.Engine [no key 0.00203s] ()\n",
    "# 2021-04-10 07:34:29,910 INFO sqlalchemy.engine.Engine COMMIT```"
   ]
  },
  {
   "cell_type": "markdown",
   "metadata": {},
   "source": [
    "# Sessions\n",
    "\n",
    "- The mapper() function and declarative extensions are primary interfaces for ORM. Once our mappings are configured, we can proceed to the primary interface. It is also known as a session.\n",
    "\n",
    "- It helps us to communicate with our database and ensures that all operations run smoothly. You can modify your database and save the changes during the session. To start one, you can use the following statement:"
   ]
  },
  {
   "cell_type": "code",
   "execution_count": null,
   "metadata": {},
   "outputs": [],
   "source": [
    "from sqlalchemy.orm import sessionmaker\n",
    "\n",
    "Session = sessionmaker(bind=engine)\n",
    "session = Session()"
   ]
  },
  {
   "cell_type": "markdown",
   "metadata": {},
   "source": [
    "The ```Session``` class is defined with ```sessionmaker()```, a configurable session factory method that is bound to the engine object. When the session object is set up, we can use the default constructor — session = Session(). After that, It remains connected to the engine until we commit the changes or close the session object."
   ]
  },
  {
   "cell_type": "markdown",
   "metadata": {},
   "source": [
    "- Suppose, we want to add some information about animals to the table:\n",
    "\n"
   ]
  },
  {
   "cell_type": "code",
   "execution_count": null,
   "metadata": {},
   "outputs": [],
   "source": [
    "animal_1 = Animals(petname='Timmy', age=2, weight=12)\n",
    "animal_2 = Animals(petname='Tommy', age=3, weight=10)\n",
    "animal_3 = Animals(petname='Kitty', age=4, weight=14)\n",
    "session.add(animal_1)\n",
    "session.add(animal_2)\n",
    "session.add(animal_3)\n",
    "session.commit()"
   ]
  }
 ],
 "metadata": {
  "language_info": {
   "name": "python"
  }
 },
 "nbformat": 4,
 "nbformat_minor": 2
}
