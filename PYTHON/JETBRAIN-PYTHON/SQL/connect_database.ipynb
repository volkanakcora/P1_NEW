{
 "cells": [
  {
   "cell_type": "markdown",
   "metadata": {},
   "source": [
    "## Setup\n",
    "Use pip to install the library:\n",
    "\n",
    "```pip install sqlalchemy```\n",
    "\n",
    "Now you can start working with the database. In this topic, let's deal with a local database that was created in SQLite. You can download it here. Here's what it looks like:"
   ]
  },
  {
   "cell_type": "code",
   "execution_count": null,
   "metadata": {},
   "outputs": [],
   "source": [
    "from sqlalchemy import create_engine\n",
    "\n",
    "engine = create_engine('sqlite:///Buildings_Database.sqlite', echo=True)"
   ]
  },
  {
   "cell_type": "code",
   "execution_count": null,
   "metadata": {},
   "outputs": [],
   "source": [
    "connection = engine.connect()\n"
   ]
  },
  {
   "cell_type": "markdown",
   "metadata": {},
   "source": [
    "## Working with an existing database\n",
    "Let's try to work with that database. For example, let's print the names of all database tables"
   ]
  },
  {
   "cell_type": "code",
   "execution_count": null,
   "metadata": {},
   "outputs": [],
   "source": [
    "print(engine.table_names())\n",
    "# 2021-03-29 06:52:34,731 INFO sqlalchemy.engine.base.Engine SELECT name FROM sqlite_master \n",
    "# WHERE type='table' ORDER BY name\n",
    "# 2021-03-29 06:52:34,734 INFO sqlalchemy.engine.base.Engine ()\n",
    "# ['Buildings']"
   ]
  },
  {
   "cell_type": "markdown",
   "metadata": {},
   "source": [
    "Another important part of SQLAlchemy is reflection. Reflection means that you can get access to a database and get information on any SQL table objects already existing within the database. Take a look at the following code:"
   ]
  },
  {
   "cell_type": "code",
   "execution_count": null,
   "metadata": {},
   "outputs": [],
   "source": [
    "from sqlalchemy import MetaData, Table\n",
    "\n",
    "metadata = MetaData()\n",
    "buildings = Table('Buildings', metadata, autoload=True, autoload_with=engine)"
   ]
  },
  {
   "cell_type": "markdown",
   "metadata": {},
   "source": [
    "The \"Buildings\" table is already defined in our database, and now we want to see its structure. To do so, first of all, we need to import MetaData and Table. MetaData is a catalog that stores the database information such as tables, columns, and so forth. To reflect this data, we can use the MetaData() object. After that, use Table() and write down the name of the table that you've obtained previously. We can also specify the metadata variable to make it autoload a table using the SQLite engine. The final step is to use the repr() function. It will allow you to view the data about the table:"
   ]
  },
  {
   "cell_type": "code",
   "execution_count": null,
   "metadata": {},
   "outputs": [],
   "source": [
    "print(repr(buildings))\n",
    "# 2021-03-29 07:07:18,682 INFO sqlalchemy.engine.base.Engine PRAGMA main.table_info(\"Buildings\")\n",
    "# ...\n",
    "# Table('Buildings', MetaData(), \n",
    "# Column('counter', INTEGER(), table=<Buildings>),\n",
    "# Column('address', TEXT(), table=<Buildings>), \n",
    "# Column('date_of_building', INTEGER(), table=<Buildings>),\n",
    "# Column('height', INTEGER(), table=<Buildings>), \n",
    "# Column('number_of_dwellers', INTEGER(), table=<Buildings>),\n",
    "# Column('number_of_floors', INTEGER(), table=<Buildings>), \n",
    "# Column('recent_renovation', INTEGER(), table=<Buildings>),\n",
    "# schema=None)"
   ]
  }
 ],
 "metadata": {
  "language_info": {
   "name": "python"
  }
 },
 "nbformat": 4,
 "nbformat_minor": 2
}
