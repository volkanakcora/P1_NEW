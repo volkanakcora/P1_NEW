{
 "cells": [
  {
   "cell_type": "markdown",
   "metadata": {},
   "source": [
    "## Creating a table\n",
    "\n",
    "We need a table first! Let's create one and populate it with data. The procedure is familiar to you, so we won't dive into much detail. We create a table named Employee with the following fields: id, name, position, and salary."
   ]
  },
  {
   "cell_type": "code",
   "execution_count": null,
   "metadata": {},
   "outputs": [],
   "source": [
    "from sqlalchemy import Column, Integer, String\n",
    "from sqlalchemy.ext.declarative import declarative_base\n",
    "\n",
    "Base = declarative_base()\n",
    "\n",
    "class Employee(Base):\n",
    "    __tablename__ = \"employee\"\n",
    "\n",
    "    id = Column(Integer, primary_key=True)\n",
    "    name = Column(String(30))\n",
    "    position = Column(String(30))\n",
    "    salary = Column(Integer)"
   ]
  },
  {
   "cell_type": "markdown",
   "metadata": {},
   "source": [
    "We have created our table and mapped it. Now, we need to add data into this table to work with it. Before this, we need to create a session:"
   ]
  },
  {
   "cell_type": "code",
   "execution_count": null,
   "metadata": {},
   "outputs": [],
   "source": [
    "from sqlalchemy.orm import sessionmaker\n",
    "\n",
    "engine = create_engine(\"sqlite:///alchemy.db\", echo=True)\n",
    "Base.metadata.create_all(engine)\n",
    "\n",
    "Session = sessionmaker(bind=engine)\n",
    "session = Session()"
   ]
  },
  {
   "cell_type": "markdown",
   "metadata": {},
   "source": [
    "Once the session is created, it's time to fill it. We will add four employees with positions and salaries:"
   ]
  },
  {
   "cell_type": "code",
   "execution_count": null,
   "metadata": {},
   "outputs": [],
   "source": [
    "session.add(Employee(name=\"William\", position=\"Data Scientist\", salary=\"12,000\"))\n",
    "session.add(Employee(name=\"Susan\", position=\"Product Manager\", salary=\"14,000\"))\n",
    "session.add(Employee(name=\"Andrew\", position=\"Senior Software Engineer\", salary=\"17,000\"))\n",
    "session.add(Employee(name=\"Nancy\", position=\"Account Executive\", salary=\"13,000\"))\n",
    "\n",
    "session.commit()"
   ]
  },
  {
   "cell_type": "markdown",
   "metadata": {},
   "source": [
    "## The update method\n",
    " It is done with the help of the update() method, but we need to specify the field we want to update first. We'll also need a session, a query, and the mapped class. Let's start by creating a query:"
   ]
  },
  {
   "cell_type": "code",
   "execution_count": null,
   "metadata": {},
   "outputs": [],
   "source": [
    "query = session.query(Employee)"
   ]
  },
  {
   "cell_type": "markdown",
   "metadata": {},
   "source": [
    "If you want to increase the salary of all employees by 1000, use the following syntax:\n",
    "\n"
   ]
  },
  {
   "cell_type": "code",
   "execution_count": null,
   "metadata": {},
   "outputs": [],
   "source": [
    "query.update({\"salary\": Employee.salary + 1000})\n"
   ]
  },
  {
   "cell_type": "markdown",
   "metadata": {},
   "source": [
    "After that, we need to commit the changes:\n",
    "\n"
   ]
  },
  {
   "cell_type": "code",
   "execution_count": null,
   "metadata": {},
   "outputs": [],
   "source": [
    "query.update({\"salary\": Employee.salary + 1000})\n",
    "session.commit()"
   ]
  },
  {
   "cell_type": "markdown",
   "metadata": {},
   "source": [
    "## Updating by criteria\n",
    "Let's say we want to increase the salary of one employee. We can do this in several ways. We can filter by id, by name, by position, and so on. In our example, we want to increase William's salary by 1000, so we will select it by name. To select only one row, use the filter() method and pass the name as a criterion:\n"
   ]
  },
  {
   "cell_type": "code",
   "execution_count": null,
   "metadata": {},
   "outputs": [],
   "source": [
    "empl_filter = query.filter(Employee.name == \"William\")\n"
   ]
  },
  {
   "cell_type": "markdown",
   "metadata": {},
   "source": [
    "After that, use the update() method on the filter in the same way as for updating the values above:"
   ]
  },
  {
   "cell_type": "code",
   "execution_count": null,
   "metadata": {},
   "outputs": [],
   "source": [
    "empl_filter.update({\"salary\": Employee.salary + 1000})\n",
    "session.commit()"
   ]
  }
 ],
 "metadata": {
  "language_info": {
   "name": "python"
  }
 },
 "nbformat": 4,
 "nbformat_minor": 2
}
