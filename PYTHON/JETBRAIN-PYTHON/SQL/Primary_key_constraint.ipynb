{
 "cells": [
  {
   "cell_type": "markdown",
   "metadata": {},
   "source": [
    "# PRIMARY KEY constraint \n",
    "\n",
    "Sometimes we need to be sure that all the rows in our table are unique. For example, we want to store information about the conference participants: their name, email, date of birth, and city; we want to make sure that no one is registered twice"
   ]
  },
  {
   "cell_type": "markdown",
   "metadata": {},
   "source": [
    "The PRIMARY KEY constraint specifies a set of columns with values that can help identify any table record.\n",
    "\n",
    "This constraint can be specified in the process of creating a table. Let's create a table named chefs with columns chef_id INT, first_name VARCHAR(20) and last_name VARCHAR(20). We assume that all chefs have individual identifiers, so we will make our chef_id column the primary key:"
   ]
  },
  {
   "cell_type": "code",
   "execution_count": null,
   "metadata": {
    "vscode": {
     "languageId": "sql"
    }
   },
   "outputs": [],
   "source": [
    "CREATE TABLE chefs (\n",
    "    chef_id INT PRIMARY KEY, \n",
    "    first_name VARCHAR(20), \n",
    "    last_name VARCHAR(20)\n",
    ");"
   ]
  },
  {
   "cell_type": "markdown",
   "metadata": {},
   "source": [
    "The PRIMARY KEY constraint means that the chef_id column must contain unique values for each chef. No two chefs can have the same chef_id.\n",
    "\n",
    "- Since the primary key has to identify each table row, it must be unique and cannot be null.\n",
    "\n",
    "-  important thing is that a table can have one and only one primary key, but it is allowed to include multiple columns in it. \n"
   ]
  },
  {
   "cell_type": "markdown",
   "metadata": {},
   "source": [
    "For example, consider the employees table with columns department_id, employee_id, and name. We assume that it's possible to have two employees with identical identifiers across different departments, but it is impossible to have several employees with identical id's in a single department. So, we can have tuples (42, 15, 'Ann Brown') and (43, 15, 'Bob Freud') in the table, but we cannot add a tuple (42, 15, 'John Smith') to that table since there already is an Ann Brown with an id '42'."
   ]
  },
  {
   "cell_type": "markdown",
   "metadata": {},
   "source": [
    "In this case, we can define a named PRIMARY KEY constraint on multiple columns when we create the employee table:\n",
    "\n"
   ]
  },
  {
   "cell_type": "code",
   "execution_count": null,
   "metadata": {
    "vscode": {
     "languageId": "sql"
    }
   },
   "outputs": [],
   "source": [
    "CREATE TABLE employees (\n",
    "    department_id INT NOT NULL,\n",
    "    employee_id INT NOT NULL,\n",
    "    name varchar(50) NOT NULL,\n",
    "    CONSTRAINT pk_employee PRIMARY KEY (department_id, employee_id)\n",
    "); "
   ]
  },
  {
   "cell_type": "markdown",
   "metadata": {},
   "source": [
    "## Add PRIMARY KEY to an existing table\n",
    "\n",
    "If we already have a table without a primary key, we can add it using the ALTER TABLE statement.\n",
    "\n",
    "Assume that we have a table named countries that was created as follows:\n",
    "\n"
   ]
  },
  {
   "cell_type": "code",
   "execution_count": null,
   "metadata": {
    "vscode": {
     "languageId": "sql"
    }
   },
   "outputs": [],
   "source": [
    "CREATE TABLE countries (\n",
    "    country_name VARCHAR(40) NOT NULL UNIQUE, \n",
    "    population INT CHECK (population > 0), \n",
    "    area REAL NOT NULL \n",
    "); "
   ]
  },
  {
   "cell_type": "markdown",
   "metadata": {},
   "source": [
    "We want to make the column country_name our primary key.\n",
    "\n",
    "To add an unnamed PRIMARY KEY constraint to the column country_name, we use the ALTER TABLE ADD PRIMARY KEY statement:"
   ]
  },
  {
   "cell_type": "code",
   "execution_count": null,
   "metadata": {
    "vscode": {
     "languageId": "sql"
    }
   },
   "outputs": [],
   "source": [
    "ALTER TABLE countries\n",
    "ADD PRIMARY KEY (country_name); "
   ]
  },
  {
   "cell_type": "markdown",
   "metadata": {},
   "source": [
    "We can also add a named PRIMARY KEY constraint to an existing table using the ALTER TABLE ADD CONSTRAINT statement. Let's define a PRIMARY KEY constraint on multiple columns for a table students. This table has columns name VARCHAR(60), birth_date DATE, and department VARCHAR(40).\n",
    "\n",
    "The query below will add a primary key pk_student. This primary key will have two columns: name and birth_date:"
   ]
  },
  {
   "cell_type": "code",
   "execution_count": null,
   "metadata": {
    "vscode": {
     "languageId": "sql"
    }
   },
   "outputs": [],
   "source": [
    "ALTER TABLE students\n",
    "ADD CONSTRAINT pk_student PRIMARY KEY (name,birth_date); "
   ]
  },
  {
   "cell_type": "markdown",
   "metadata": {},
   "source": [
    "## Drop PRIMARY KEY\n"
   ]
  },
  {
   "cell_type": "code",
   "execution_count": null,
   "metadata": {
    "vscode": {
     "languageId": "sql"
    }
   },
   "outputs": [],
   "source": [
    "ALTER TABLE students\n",
    "DROP PRIMARY KEY;"
   ]
  }
 ],
 "metadata": {
  "language_info": {
   "name": "python"
  }
 },
 "nbformat": 4,
 "nbformat_minor": 2
}
