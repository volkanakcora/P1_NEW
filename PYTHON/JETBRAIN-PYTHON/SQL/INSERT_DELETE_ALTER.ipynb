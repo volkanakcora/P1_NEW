{
 "cells": [
  {
   "cell_type": "markdown",
   "metadata": {},
   "source": [
    "# Basic INSERT statement\n"
   ]
  },
  {
   "cell_type": "code",
   "execution_count": null,
   "metadata": {
    "vscode": {
     "languageId": "sql"
    }
   },
   "outputs": [],
   "source": [
    "INSERT INTO customers (name, surname, zip_code, city) \n",
    "VALUES ('Bobby', 'Ray', 60601, 'Chicago');"
   ]
  },
  {
   "cell_type": "code",
   "execution_count": null,
   "metadata": {
    "vscode": {
     "languageId": "sql"
    }
   },
   "outputs": [],
   "source": [
    "INSERT INTO customers \n",
    "VALUES ('Bobby', 'Ray', 60601, 'Chicago');"
   ]
  },
  {
   "cell_type": "markdown",
   "metadata": {},
   "source": [
    "## Insert multiple rows\n",
    "\n"
   ]
  },
  {
   "cell_type": "code",
   "execution_count": null,
   "metadata": {
    "vscode": {
     "languageId": "sql"
    }
   },
   "outputs": [],
   "source": [
    "INSERT INTO customers (name, surname, zip_code, city) \n",
    "VALUES ('Mary', 'West', 75201, 'Dallas'), \n",
    "       ('Steve', 'Palmer', 33107, 'Miami');"
   ]
  },
  {
   "cell_type": "markdown",
   "metadata": {},
   "source": [
    "## Insert into specified columns\n"
   ]
  },
  {
   "cell_type": "code",
   "execution_count": null,
   "metadata": {
    "vscode": {
     "languageId": "sql"
    }
   },
   "outputs": [],
   "source": [
    "INSERT INTO cats (name, age) \n",
    "VALUES ('Felix', 3);"
   ]
  },
  {
   "cell_type": "markdown",
   "metadata": {},
   "source": [
    "# Delete action\n",
    "\n"
   ]
  },
  {
   "cell_type": "code",
   "execution_count": null,
   "metadata": {
    "vscode": {
     "languageId": "sql"
    }
   },
   "outputs": [],
   "source": [
    "DELETE FROM books; \n"
   ]
  },
  {
   "cell_type": "code",
   "execution_count": null,
   "metadata": {
    "vscode": {
     "languageId": "sql"
    }
   },
   "outputs": [],
   "source": [
    "DELETE FROM books \n",
    "WHERE quantity = 0;"
   ]
  },
  {
   "cell_type": "markdown",
   "metadata": {},
   "source": [
    "# Alter table\n",
    "\n",
    "Sometimes we need to modify our table: add a new column, drop the existing one or change the column type. We can create a new table with all these changes and delete the previous one, but it's easy to lose data during this process. Luckily, SQL provides a statement that can modify the existing tables, ALTER TABLE statement. It can be used to create, delete or change the type of columns."
   ]
  },
  {
   "cell_type": "markdown",
   "metadata": {},
   "source": [
    "## Adding a new column\n",
    "\n",
    "\n",
    "You can add a new column to your table with a simple query using the ALTER TABLE statement with ADD COLUMN."
   ]
  },
  {
   "cell_type": "code",
   "execution_count": null,
   "metadata": {
    "vscode": {
     "languageId": "sql"
    }
   },
   "outputs": [],
   "source": [
    "ALTER TABLE employees \n",
    "ADD COLUMN employee_email VARCHAR(10);"
   ]
  },
  {
   "cell_type": "markdown",
   "metadata": {},
   "source": [
    "## Changing the data type\n",
    "To change the data type, make a query with ALTER TABLE statement and MODIFY COLUMN:\n",
    "\n"
   ]
  },
  {
   "cell_type": "code",
   "execution_count": null,
   "metadata": {
    "vscode": {
     "languageId": "sql"
    }
   },
   "outputs": [],
   "source": [
    "ALTER TABLE employees \n",
    "MODIFY COLUMN employee_email VARCHAR(45); "
   ]
  },
  {
   "cell_type": "markdown",
   "metadata": {},
   "source": [
    "## Dropping an existing column\n",
    "To drop this column from the table, use the following query with the ALTER TABLE statement and DROP COLUMN:"
   ]
  },
  {
   "cell_type": "code",
   "execution_count": null,
   "metadata": {
    "vscode": {
     "languageId": "sql"
    }
   },
   "outputs": [],
   "source": [
    "ALTER TABLE employees \n",
    "DROP COLUMN native_city; "
   ]
  },
  {
   "cell_type": "markdown",
   "metadata": {},
   "source": [
    "# Renaming a column\n",
    "Let's change the column name to email. You can do it with a simple query with the ALTER TABLE statement and CHANGE:"
   ]
  },
  {
   "cell_type": "code",
   "execution_count": null,
   "metadata": {
    "vscode": {
     "languageId": "sql"
    }
   },
   "outputs": [],
   "source": [
    "ALTER TABLE employees\n",
    "CHANGE employee_email email VARCHAR(45); "
   ]
  },
  {
   "cell_type": "markdown",
   "metadata": {},
   "source": [
    "## Summary\n",
    "To add a new column to the existing table, use this simple query template:\n",
    "```ALTER TABLE table_name ```\n",
    "```ADD COLUMN column_name DATATYPE;```\n",
    "\n",
    "\n",
    "The following query template can delete a column from the table:\n",
    "\n",
    "```ALTER TABLE table_name```\n",
    "```DROP COLUMN column_name; ```\n",
    "\n",
    "\n",
    "To change the column type, you can use this template:\n",
    "\n",
    "```ALTER TABLE table_name``` \n",
    "```MODIFY COLUMN column_name NEWDATATYPE; ```\n",
    "\n",
    "\n",
    "To change the column name (and, possibly, datatype), use the following template:\n",
    "\n",
    "```ALTER TABLE table_name```\n",
    "```CHANGE old_column_name new_column_name NEWDATATYPE; ```"
   ]
  }
 ],
 "metadata": {
  "language_info": {
   "name": "python"
  }
 },
 "nbformat": 4,
 "nbformat_minor": 2
}
