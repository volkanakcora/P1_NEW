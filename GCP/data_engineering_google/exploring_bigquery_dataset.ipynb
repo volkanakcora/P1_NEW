{
 "cells": [
  {
   "cell_type": "code",
   "execution_count": null,
   "metadata": {},
   "outputs": [],
   "source": [
    "pubsub - > Dataflow -> bigQuery "
   ]
  },
  {
   "cell_type": "markdown",
   "metadata": {},
   "source": [
    "# Exploring a BigQuery Public Dataset\n",
    "\n",
    "Objectives\n",
    "In this lab, you learn how to perform the following tasks:\n",
    "\n",
    "Query a public dataset\n",
    "\n",
    "Create a custom table\n",
    "\n",
    "Load data into a table\n",
    "\n",
    "Query a table"
   ]
  },
  {
   "cell_type": "markdown",
   "metadata": {},
   "source": [
    "## Task 1) \n",
    "- 1. Query a public dataset\n",
    "In this task, you load a public dataset, USA Names, into BigQuery, then query the dataset to determine the most common names in the US between 1910 and 2013.\n",
    "\n",
    "Load the USA Names dataset\n",
    "In the Explorer pane, in Type to search, type usa_names, and then press Enter.\n",
    "\n",
    "Click Broaden search to all.\n",
    "\n",
    "In the Explorer pane, hover the pointer over bigquery-public-data, and then click Star Star.\n",
    "\n",
    "In Type to search field, type bigquery-public-data. This display all the datasets in the project.\n",
    "\n",
    "Note: If the new project bigquery-public-data doesn't appear to the Explorer pane, then click on + ADD DATA > Star a project by name > Star a project (bigquery-public-data) and STAR.\n",
    "Click Expand node for bigquery-public-data.\n",
    "\n",
    "Scroll down the list of public datasets, click More Results until you find usa_names.\n",
    "\n",
    "Click usa_names to expand the dataset.\n",
    "\n",
    "Click usa_1910_2013 to open that table."
   ]
  },
  {
   "cell_type": "code",
   "execution_count": null,
   "metadata": {
    "vscode": {
     "languageId": "sql"
    }
   },
   "outputs": [],
   "source": [
    "SELECT\n",
    "  name, gender,\n",
    "  SUM(number) AS total\n",
    "FROM\n",
    "  `bigquery-public-data.usa_names.usa_1910_2013`\n",
    "GROUP BY\n",
    "  name, gender\n",
    "ORDER BY\n",
    "  total DESC\n",
    "LIMIT\n",
    "  10"
   ]
  },
  {
   "cell_type": "markdown",
   "metadata": {},
   "source": [
    "# Task 2. Create a custom table\n",
    "\n",
    "n this task, you create a custom table, load data into it, and then run a query against the table.\n",
    "\n",
    "Download the data to your local computer\n",
    "The file you're downloading contains approximately 7 MB of data about popular baby names, and it is provided by the US Social Security Administration."
   ]
  },
  {
   "cell_type": "markdown",
   "metadata": {},
   "source": [
    "# Task 3. Create a dataset\n",
    "\n",
    "In this task, you create a dataset to hold your table, add data to your project, then make the data table you'll query against.\n",
    "\n",
    "Datasets help you control access to tables and views in a project. This lab uses only one table, but you still need a dataset to hold the table.\n",
    "\n"
   ]
  },
  {
   "cell_type": "markdown",
   "metadata": {},
   "source": [
    "Return to the the Cloud Console. In the Explorer pane, clear bigquery-public-data from the Type to search box.\n",
    "Note: If you used the method to Star a project by name, then scroll back up to the top of the search results.\n",
    "Click your Project ID (it will start with qwiklabs).\n",
    "Cloud console with the explorer section and your project dataset highlighted\n",
    "\n",
    "Click on the three dots next to your project ID and then click Create dataset.\n",
    "\n",
    "On the Create dataset page:\n",
    "\n",
    "For Dataset ID, enter babynames.\n",
    "For Data location, choose us (multiple regions in United States).\n",
    "For Default table expiration, leave the default value.\n",
    "For Encryption, leave the default value.\n",
    "Click Create dataset at the bottom of the pane."
   ]
  },
  {
   "cell_type": "markdown",
   "metadata": {},
   "source": [
    "# Task 4. Load the data into a new table"
   ]
  },
  {
   "cell_type": "markdown",
   "metadata": {},
   "source": [
    "In this task, you load data into the table you made.\n",
    "\n",
    "In the Explorer pane, expand your project ID dataset.\n",
    "\n",
    "Click on the three dots next to babynames, and then click Create table.\n",
    "\n",
    "Use the default values for all settings unless otherwise indicated.\n",
    "\n",
    "On the Create table page:\n",
    "\n",
    "For Source, choose Upload from the Create table from: dropdown menu.\n",
    "For Select file, click Browse, navigate to the yob2014.txt file and click Open.\n",
    "For File format, choose CSV from the dropdown menu.\n",
    "For Table name, enter names_2014.\n",
    "In the Schema section, click the Edit as text toggle and paste the following schema definition in the text box.\n",
    "name:string,gender:string,count:integer\n",
    "Copied!\n",
    "Click Create table (at the bottom of the window)."
   ]
  },
  {
   "cell_type": "markdown",
   "metadata": {},
   "source": [
    "# Task 5. Query the table\n",
    "\n",
    "- Now that you've loaded data into your table, you can run queries against it. The process is identical to the previous example, except that this time, you're querying your table instead of a public table.\n",
    "\n",
    "- In the Query editor, click Compose new query.\n",
    "Copy and paste the following query into the Query editor. This query retrieves the top 5 baby names for US males in 2014."
   ]
  },
  {
   "cell_type": "code",
   "execution_count": null,
   "metadata": {
    "vscode": {
     "languageId": "sql"
    }
   },
   "outputs": [],
   "source": [
    "SELECT\n",
    " name, count\n",
    "FROM\n",
    " `babynames.names_2014`\n",
    "WHERE\n",
    " gender = 'M'\n",
    "ORDER BY count DESC LIMIT 5"
   ]
  }
 ],
 "metadata": {
  "language_info": {
   "name": "python"
  }
 },
 "nbformat": 4,
 "nbformat_minor": 2
}
