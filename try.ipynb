{
 "cells": [
  {
   "cell_type": "code",
   "execution_count": 1,
   "metadata": {},
   "outputs": [
    {
     "name": "stdout",
     "output_type": "stream",
     "text": [
      "Series([], Name: Dividends, dtype: int64)\n"
     ]
    },
    {
     "data": {
      "text/plain": [
       "()"
      ]
     },
     "execution_count": 1,
     "metadata": {},
     "output_type": "execute_result"
    }
   ],
   "source": [
    "import yfinance as yf\n",
    "\n",
    "msft = yf.Ticker(\"APP\")\n",
    "\n",
    "# get all stock info\n",
    "msft.info\n",
    "\n",
    "# get historical market data\n",
    "hist = msft.history(period=\"1mo\")\n",
    "\n",
    "# show meta information about the history (requires history() to be called first)\n",
    "#msft.history_metadata\n",
    "\n",
    "# show actions (dividends, splits, capital gains)\n",
    "msft.actions\n",
    "print(msft.dividends)\n",
    "msft.splits\n",
    "#msft.capital_gains  # only for mutual funds & etfs\n",
    "\n",
    "# show share count\n",
    "#msft.get_shares_full(start=\"2022-01-01\", end=None)\n",
    "# show financials:\n",
    "# - income statement\n",
    "#msft.income_stmt\n",
    "#msft.quarterly_income_stmt\n",
    "# - balance sheet\n",
    "msft.balance_sheet\n",
    "msft.quarterly_balance_sheet\n",
    "# - cash flow statement\n",
    "msft.cashflow\n",
    "msft.quarterly_cashflow\n",
    "# see `Ticker.get_income_stmt()` for more options\n",
    "\n",
    "# show holders\n",
    "msft.major_holders\n",
    "msft.institutional_holders\n",
    "msft.mutualfund_holders\n",
    "#msft.insider_transactions\n",
    "#msft.insider_purchases\n",
    "#msft.insider_roster_holders\n",
    "\n",
    "# show recommendations\n",
    "msft.recommendations\n",
    "#msft.recommendations_summary\n",
    "#msft.upgrades_downgrades\n",
    "\n",
    "# Show future and historic earnings dates, returns at most next 4 quarters and last 8 quarters by default.\n",
    "# Note: If more are needed use msft.get_earnings_dates(limit=XX) with increased limit argument.\n",
    "#msft.earnings_dates\n",
    "\n",
    "# show ISIN code - *experimental*\n",
    "# ISIN = International Securities Identification Number\n",
    "msft.isin\n",
    "\n",
    "# show options expirations\n",
    "msft.options\n",
    "\n",
    "# show news\n",
    "#msft.news\n",
    "\n",
    "# get option chain for specific expiration\n",
    "#opt = msft.option_chain('YYYY-MM-DD')\n",
    "# data available via: opt.calls, opt.puts"
   ]
  }
 ],
 "metadata": {
  "kernelspec": {
   "display_name": "Python 3",
   "language": "python",
   "name": "python3"
  },
  "language_info": {
   "codemirror_mode": {
    "name": "ipython",
    "version": 3
   },
   "file_extension": ".py",
   "mimetype": "text/x-python",
   "name": "python",
   "nbconvert_exporter": "python",
   "pygments_lexer": "ipython3",
   "version": "3.9.18"
  }
 },
 "nbformat": 4,
 "nbformat_minor": 2
}
